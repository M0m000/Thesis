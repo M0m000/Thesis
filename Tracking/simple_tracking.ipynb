{
 "cells": [
  {
   "cell_type": "markdown",
   "metadata": {},
   "source": [
    "# **Simple Tracking**\n",
    "***"
   ]
  },
  {
   "cell_type": "code",
   "execution_count": 2,
   "metadata": {},
   "outputs": [],
   "source": [
    "import numpy as np"
   ]
  },
  {
   "cell_type": "markdown",
   "metadata": {},
   "source": [
    "***"
   ]
  },
  {
   "cell_type": "code",
   "execution_count": 4,
   "metadata": {},
   "outputs": [],
   "source": [
    "tracking_init = {}\n",
    "tracking_act = {}\n",
    "\n",
    "bar_dict = None\n",
    "hooks_dict = None"
   ]
  },
  {
   "cell_type": "code",
   "execution_count": 5,
   "metadata": {},
   "outputs": [],
   "source": [
    "def fill_init_dict(bar_dict, hooks_dict):\n",
    "    # Bar\n",
    "    for idx, hook in enumerate(hooks_dict):\n",
    "        hook = hooks_dict[hook]\n",
    "        hook_box = hook[\"hook_box\"]\n",
    "        hook_mask = hook[\"hook_mask\"]\n",
    "        conf_hook = hook[\"conf_hook\"]\n",
    "        tip_box = hook[\"tip_box\"]\n",
    "        tip_mask = hook[\"tip_mask\"]\n",
    "        conf_tip = hook[\"conf_tip\"]\n",
    "        lowpoint_box = hook[\"lowpoint_box\"]\n",
    "        lowpoint_mask = hook[\"lowpoint_mask\"]\n",
    "        conf_lowpoint = hook[\"conf_lowpoint\"]"
   ]
  },
  {
   "cell_type": "code",
   "execution_count": 6,
   "metadata": {},
   "outputs": [
    {
     "ename": "TypeError",
     "evalue": "'NoneType' object is not iterable",
     "output_type": "error",
     "traceback": [
      "\u001b[0;31m---------------------------------------------------------------------------\u001b[0m",
      "\u001b[0;31mTypeError\u001b[0m                                 Traceback (most recent call last)",
      "Cell \u001b[0;32mIn[6], line 1\u001b[0m\n\u001b[0;32m----> 1\u001b[0m \u001b[43mfill_init_dict\u001b[49m\u001b[43m(\u001b[49m\u001b[43mbar_dict\u001b[49m\u001b[43m,\u001b[49m\u001b[43m \u001b[49m\u001b[43mhooks_dict\u001b[49m\u001b[43m)\u001b[49m\n",
      "Cell \u001b[0;32mIn[5], line 3\u001b[0m, in \u001b[0;36mfill_init_dict\u001b[0;34m(bar_dict, hooks_dict)\u001b[0m\n\u001b[1;32m      1\u001b[0m \u001b[38;5;28;01mdef\u001b[39;00m\u001b[38;5;250m \u001b[39m\u001b[38;5;21mfill_init_dict\u001b[39m(bar_dict, hooks_dict):\n\u001b[1;32m      2\u001b[0m     \u001b[38;5;66;03m# Bar\u001b[39;00m\n\u001b[0;32m----> 3\u001b[0m     \u001b[38;5;28;01mfor\u001b[39;00m idx, hook \u001b[38;5;129;01min\u001b[39;00m \u001b[38;5;28;43menumerate\u001b[39;49m\u001b[43m(\u001b[49m\u001b[43mhooks_dict\u001b[49m\u001b[43m)\u001b[49m:\n\u001b[1;32m      4\u001b[0m         \u001b[38;5;28;01mpass\u001b[39;00m\n",
      "\u001b[0;31mTypeError\u001b[0m: 'NoneType' object is not iterable"
     ]
    }
   ],
   "source": [
    "fill_init_dict(bar_dict, hooks_dict)"
   ]
  },
  {
   "cell_type": "code",
   "execution_count": null,
   "metadata": {},
   "outputs": [],
   "source": []
  }
 ],
 "metadata": {
  "kernelspec": {
   "display_name": "Python 3",
   "language": "python",
   "name": "python3"
  },
  "language_info": {
   "codemirror_mode": {
    "name": "ipython",
    "version": 3
   },
   "file_extension": ".py",
   "mimetype": "text/x-python",
   "name": "python",
   "nbconvert_exporter": "python",
   "pygments_lexer": "ipython3",
   "version": "3.8.10"
  }
 },
 "nbformat": 4,
 "nbformat_minor": 2
}
