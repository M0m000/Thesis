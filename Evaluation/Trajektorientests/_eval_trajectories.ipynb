{
 "cells": [
  {
   "cell_type": "code",
   "execution_count": 392,
   "id": "c56fbbd2",
   "metadata": {},
   "outputs": [],
   "source": [
    "import csv\n",
    "import numpy as np\n",
    "from scipy.spatial.transform import Rotation as R\n",
    "import matplotlib.pyplot as plt\n",
    "from mpl_toolkits.mplot3d.art3d import Poly3DCollection\n",
    "import matplotlib.cm as cm\n",
    "import plotly.graph_objects as go"
   ]
  },
  {
   "cell_type": "markdown",
   "id": "d43cbb9f",
   "metadata": {},
   "source": [
    "### **Trajektorien CSVs laden**"
   ]
  },
  {
   "cell_type": "code",
   "execution_count": 393,
   "id": "ce8ad287",
   "metadata": {},
   "outputs": [],
   "source": [
    "def load_csv_to_trajectory(filepath):\n",
    "    \"\"\"Lädt die CSV und stellt Trajektorie-Liste wieder her\"\"\"\n",
    "    trajectory = []\n",
    "    with open(filepath, mode='r', newline='') as file:\n",
    "        reader = csv.reader(file)\n",
    "        next(reader)  # Überspringe Kopfzeile\n",
    "\n",
    "        for row in reader:\n",
    "            numbers = list(map(float, row))\n",
    "            trans = numbers[:3]\n",
    "            rot = numbers[3:]\n",
    "            trajectory.append((trans, rot))\n",
    "    return trajectory"
   ]
  },
  {
   "cell_type": "code",
   "execution_count": 394,
   "id": "fa040c5d",
   "metadata": {},
   "outputs": [],
   "source": [
    "hook_num = 23\n",
    "v = 10\n",
    "hook_model = 'A'\n",
    "frame = '_work'"
   ]
  },
  {
   "cell_type": "code",
   "execution_count": 395,
   "id": "6ae1d02a",
   "metadata": {},
   "outputs": [],
   "source": [
    "traj_optim_path = '/home/mo/Thesis/Evaluation/Trajektorientests/Modell' + hook_model + '/v_' + str(v) + '/' + str(hook_num) + '/trajectory_0' + str(frame) + '.csv'\n",
    "traj_1_path = '/home/mo/Thesis/Evaluation/Trajektorientests/Modell' + hook_model + '/v_' + str(v) + '/' + str(hook_num) + '/trajectory_1' + str(frame) + '.csv'\n",
    "traj_2_path = '/home/mo/Thesis/Evaluation/Trajektorientests/Modell' + hook_model + '/v_' + str(v) + '/' + str(hook_num) + '/trajectory_2' + str(frame) + '.csv'\n",
    "traj_3_path = '/home/mo/Thesis/Evaluation/Trajektorientests/Modell' + hook_model + '/v_' + str(v) + '/' + str(hook_num) + '/trajectory_3' + str(frame) + '.csv'\n",
    "traj_4_path = '/home/mo/Thesis/Evaluation/Trajektorientests/Modell' + hook_model + '/v_' + str(v) + '/' + str(hook_num) + '/trajectory_4' + str(frame) + '.csv'"
   ]
  },
  {
   "cell_type": "code",
   "execution_count": 396,
   "id": "aad60faa",
   "metadata": {},
   "outputs": [],
   "source": [
    "trajectory_optim = load_csv_to_trajectory(traj_optim_path)\n",
    "trajectory_1 = load_csv_to_trajectory(traj_1_path)\n",
    "trajectory_2 = load_csv_to_trajectory(traj_2_path)\n",
    "trajectory_3 = load_csv_to_trajectory(traj_3_path)\n",
    "trajectory_4 = load_csv_to_trajectory(traj_4_path)"
   ]
  },
  {
   "cell_type": "markdown",
   "id": "d66a9f4b",
   "metadata": {},
   "source": [
    "### **Euklidsche Distanz**"
   ]
  },
  {
   "cell_type": "code",
   "execution_count": 397,
   "id": "549aa99e",
   "metadata": {},
   "outputs": [],
   "source": [
    "def interpolate_trajectory(traj, num_points):\n",
    "    \"\"\"\n",
    "    Interpoliert eine Trajektorie auf `num_points` gleichmäßig verteilte Punkte.\n",
    "    Nur die translatorischen Komponenten werden verwendet (3D Punkte).\n",
    "    \"\"\"\n",
    "    positions = np.array([p[0] for p in traj])  # Nur Positionen\n",
    "    rotations = np.array([p[1] for p in traj])  # Nur Rotationen\n",
    "    \n",
    "    # Abstände zwischen aufeinanderfolgenden Punkten\n",
    "    deltas_trans = np.linalg.norm(np.diff(positions, axis=0), axis=1)\n",
    "    deltas_rot = np.linalg.norm(np.diff(rotations, axis=0), axis=1)\n",
    "    cumulative_dist_trans = np.concatenate([[0], np.cumsum(deltas_trans)])\n",
    "    cumulative_dist_rot = np.concatenate([[0], np.cumsum(deltas_rot)])\n",
    "    \n",
    "    # Gleichmäßig verteilte Distanzen entlang der Trajektorie\n",
    "    target_distances_trans = np.linspace(0, cumulative_dist_trans[-1], num_points)\n",
    "    target_distances_rot = np.linspace(0, cumulative_dist_rot[-1], num_points)\n",
    "\n",
    "    # Interpolation\n",
    "    interp_positions = []\n",
    "    interp_rotations = []\n",
    "\n",
    "    for dist in target_distances_trans:\n",
    "        idx = np.searchsorted(cumulative_dist_trans, dist) - 1\n",
    "        idx = np.clip(idx, 0, len(positions) - 2)\n",
    "        # Lokale lineare Interpolation\n",
    "        t = (dist - cumulative_dist_trans[idx]) / (cumulative_dist_trans[idx + 1] - cumulative_dist_trans[idx])\n",
    "        point = (1 - t) * positions[idx] + t * positions[idx + 1]\n",
    "        interp_positions.append(point)\n",
    "    \n",
    "    for rot in target_distances_rot:\n",
    "        idx = np.searchsorted(cumulative_dist_rot, rot) - 1\n",
    "        idx = np.clip(idx, 0, len(rotations) - 2)\n",
    "        # Lokale lineare Interpolation\n",
    "        t = (rot - cumulative_dist_rot[idx]) / (cumulative_dist_rot[idx + 1] - cumulative_dist_rot[idx])\n",
    "        point = (1 - t) * rotations[idx] + t * rotations[idx + 1]\n",
    "        interp_rotations.append(point)\n",
    "    \n",
    "    return np.array(interp_positions), np.array(interp_rotations)\n",
    "\n",
    "\n",
    "def trajectory_distance(traj1, traj2, num_points=10):\n",
    "    \"\"\"\n",
    "    Vergleicht zwei Trajektorien anhand von `num_points` gleichverteilten Punkten.\n",
    "    Gibt die euklidischen Abstände zurück (Liste) und den Mittelwert.\n",
    "    \"\"\"\n",
    "    interp1_trans, interp1_rot = interpolate_trajectory(traj1, num_points)\n",
    "    interp2_trans, interp2_rot = interpolate_trajectory(traj2, num_points)\n",
    "\n",
    "    # Punktweise euklidischer Abstand\n",
    "    distances = np.linalg.norm(interp1_trans - interp2_trans, axis=1)\n",
    "    rotations = np.linalg.norm(interp1_rot - interp2_rot, axis=1)\n",
    "    mean_distance = np.mean(distances)\n",
    "    mean_rotation = np.mean(rotations)\n",
    "    max_distance = np.max(distances)\n",
    "    max_rotation = np.max(rotations)\n",
    "    return distances, mean_distance, max_distance, rotations, mean_rotation, max_rotation"
   ]
  },
  {
   "cell_type": "code",
   "execution_count": 398,
   "id": "2fc24563",
   "metadata": {},
   "outputs": [],
   "source": [
    "def plot_trajectory_distances(\n",
    "    distances=None, \n",
    "    mean_distance=None, \n",
    "    max_distance=None, \n",
    "    rotations=None, \n",
    "    mean_rotation=None, \n",
    "    max_rotation=None, \n",
    "    hook_num=0, \n",
    "    trajectory_process=4\n",
    "):\n",
    "    \"\"\"\n",
    "    Plottet die euklidischen Distanzen und Rotationen entlang der interpolierten Punkte.\n",
    "    \"\"\"\n",
    "\n",
    "    %matplotlib inline\n",
    "    \n",
    "    fig, (ax1, ax2) = plt.subplots(2, 1, figsize=(10, 8), sharex=True)\n",
    "    fig.suptitle(f\"Vergleich zwischen optimaler und berechneter Trajektorie - Haken {hook_num}, Trajektorie-Ansatz {trajectory_process} – Distanz\", fontsize=14)\n",
    "\n",
    "    # Plot 1: Euklidische Distanzen\n",
    "    ax1.set_title(f\"Euklidsche Distanz translatorisch\")\n",
    "    ax1.plot(range(1, len(distances) + 1), distances, linestyle='-', marker = '.', label='Euklidische Distanz [mm]')\n",
    "\n",
    "    if mean_distance is not None:\n",
    "        ax1.plot(range(1, len(distances) + 1), [mean_distance] * len(distances), linestyle='--', color='red', label='Mittelwert')\n",
    "    \n",
    "    if max_distance is not None:\n",
    "        ax1.plot(range(1, len(distances) + 1), [max_distance] * len(distances), linestyle='--', color='magenta', label=f\"Max-Wert - {max_distance:.3f}mm\")\n",
    "\n",
    "    ax1.set_ylabel(\"Distanz [mm]\")\n",
    "    ax1.grid(True)\n",
    "    ax1.legend()\n",
    "\n",
    "    \n",
    "    # Plot 2: Rotationen\n",
    "    ax2.set_title(\"Euklidsche Distanz rotatorisch\")\n",
    "    if rotations is not None:\n",
    "        ax2.plot(range(1, len(rotations) + 1), rotations, linestyle='-', marker = '.', label='Rotationsabweichung [°]', color='orange')\n",
    "\n",
    "        if mean_rotation is not None:\n",
    "            ax2.plot(range(1, len(rotations) + 1), [mean_rotation] * len(rotations), linestyle='--', color='red', label='Mittelwert')\n",
    "        \n",
    "        if max_rotation is not None:\n",
    "            ax2.plot(range(1, len(rotations) + 1), [max_rotation] * len(rotations), linestyle='--', color='magenta', label=f\"Max-Wert - {max_rotation:.3f}°\")\n",
    "\n",
    "        ax2.set_ylabel(\"Rotation [°]\")\n",
    "        ax2.grid(True)\n",
    "        ax2.legend()\n",
    "    else:\n",
    "        ax2.text(0.5, 0.5, \"Keine Rotationsdaten verfügbar\", ha='center', va='center', transform=ax2.transAxes)\n",
    "        ax2.axis('off')\n",
    "    \n",
    "    ax2.set_xlabel(\"Punktindex (entlang der Trajektorie)\")\n",
    "    plt.tight_layout(rect=[0, 0, 1, 0.95])  # Platz für Suptitle\n",
    "    plt.show()"
   ]
  },
  {
   "cell_type": "code",
   "execution_count": 399,
   "id": "0f0e378a",
   "metadata": {},
   "outputs": [],
   "source": [
    "distances, mean_distance, max_distance, rotations, mean_rotation, max_rotation = trajectory_distance(trajectory_1, trajectory_optim, 100)\n",
    "# plot_trajectory_distances(distances, mean_distance, max_distance, rotations, mean_rotation, max_rotation, hook_num = hook_num, trajectory_process = 4)"
   ]
  },
  {
   "cell_type": "markdown",
   "id": "efe3dd89",
   "metadata": {},
   "source": [
    "### **Absolute Distanzen**"
   ]
  },
  {
   "cell_type": "code",
   "execution_count": 400,
   "id": "74d6bbd8",
   "metadata": {},
   "outputs": [],
   "source": [
    "def trajectory_difference(traj1, traj2, num_points=10):\n",
    "    \"\"\"\n",
    "    Vergleicht zwei Trajektorien anhand von `num_points` gleichverteilten Punkten.\n",
    "    Gibt die vorzeichenbehafteten Differenzen für Translation und Rotation zurück.\n",
    "    Rückgabe:\n",
    "        diffs_trans: (num_points, 3) - x, y, z\n",
    "        diffs_rot:   (num_points, 3) - roll, pitch, yaw\n",
    "    \"\"\"\n",
    "    interp1_trans, interp1_rot = interpolate_trajectory(traj1, num_points)\n",
    "    interp2_trans, interp2_rot = interpolate_trajectory(traj2, num_points)\n",
    "\n",
    "    # Vorzeichenbehaftete Differenzen\n",
    "    diffs_trans = interp1_trans - interp2_trans\n",
    "    diffs_rot = interp1_rot - interp2_rot\n",
    "\n",
    "    return diffs_trans, diffs_rot"
   ]
  },
  {
   "cell_type": "code",
   "execution_count": 401,
   "id": "0dd37334",
   "metadata": {},
   "outputs": [],
   "source": [
    "def plot_signed_trajectory_differences(\n",
    "    diffs_trans, \n",
    "    diffs_rot, \n",
    "    hook_num=0, \n",
    "    trajectory_process=4\n",
    "):\n",
    "    \"\"\"\n",
    "    Plottet die vorzeichenbehafteten Differenzen (x, y, z, roll, pitch, yaw) \n",
    "    entlang der interpolierten Punkte.\n",
    "    \"\"\"\n",
    "\n",
    "    %matplotlib inline\n",
    "    \n",
    "    num_points = diffs_trans.shape[0]\n",
    "    indices = range(1, num_points + 1)\n",
    "\n",
    "    fig, (ax1, ax2) = plt.subplots(2, 1, figsize=(10, 8), sharex=True)\n",
    "    fig.suptitle(f\"Vorzeichenbehaftete Differenzen – Haken {hook_num}, Trajektorie-Ansatz {trajectory_process}\", fontsize=14)\n",
    "\n",
    "    # --- Plot 1: Translation (x, y, z) ---\n",
    "    ax1.set_title(\"Translation: Abweichung in x, y, z [mm]\")\n",
    "    ax1.plot(indices, diffs_trans[:, 0], label=\"x [mm]\", marker='.', linestyle='-', color='blue')\n",
    "    ax1.plot(indices, diffs_trans[:, 1], label=\"y [mm]\", marker='.',linestyle='-', color='green')\n",
    "    ax1.plot(indices, diffs_trans[:, 2], label=\"z [mm]\", marker='.',linestyle='-', color='purple')\n",
    "    ax1.axhline(0, color='gray', linestyle='--', linewidth=0.8)\n",
    "\n",
    "    ax1.set_ylabel(\"Abweichung [mm]\")\n",
    "    ax1.grid(True)\n",
    "    ax1.legend()\n",
    "\n",
    "    # --- Plot 2: Rotation (roll, pitch, yaw) ---\n",
    "    ax2.set_title(\"Rotation: Abweichung in Roll, Pitch, Yaw [°]\")\n",
    "    ax2.plot(indices, diffs_rot[:, 0], label=\"roll [°]\", marker='.',linestyle='-', color='orange')\n",
    "    ax2.plot(indices, diffs_rot[:, 1], label=\"pitch [°]\", marker='.',linestyle='-', color='red')\n",
    "    ax2.plot(indices, diffs_rot[:, 2], label=\"yaw [°]\", marker='.',linestyle='-', color='brown')\n",
    "    ax2.axhline(0, color='gray', linestyle='--', linewidth=0.8)\n",
    "\n",
    "    ax2.set_xlabel(\"Punktindex (entlang der Trajektorie)\")\n",
    "    ax2.set_ylabel(\"Abweichung [°]\")\n",
    "    ax2.grid(True)\n",
    "    ax2.legend()\n",
    "\n",
    "    plt.tight_layout(rect=[0, 0, 1, 0.95])\n",
    "    plt.show()"
   ]
  },
  {
   "cell_type": "code",
   "execution_count": 402,
   "id": "0fccff97",
   "metadata": {},
   "outputs": [],
   "source": [
    "diffs_trans, diffs_rot = trajectory_difference(trajectory_1, trajectory_optim, 100)\n",
    "# plot_signed_trajectory_differences(diffs_trans, diffs_rot, hook_num=2, trajectory_process=1)"
   ]
  },
  {
   "cell_type": "markdown",
   "id": "170527fd",
   "metadata": {},
   "source": [
    "### **3D-Darstellung**"
   ]
  },
  {
   "cell_type": "code",
   "execution_count": 403,
   "id": "edfb46e9",
   "metadata": {},
   "outputs": [],
   "source": [
    "def fix_rpy(rpy):\n",
    "    roll, pitch, yaw = rpy\n",
    "    return [roll, -pitch, yaw]  # oder vielleicht yaw auch invertieren – je nach System\n",
    "\n",
    "\n",
    "def compute_rectangle_corners(trajectory, frame='', width=8, height=12):\n",
    "    \"\"\"\n",
    "    Berechnet die Rechteck-Eckpunkte (4 Stück) für jeden Trajektorienpunkt.\n",
    "\n",
    "    :param trajectory: Liste von ([x, y, z], [roll, pitch, yaw]) Einträgen\n",
    "    :param width: Breite des Rechtecks (in X-Richtung)\n",
    "    :param height: Höhe des Rechtecks (in Y-Richtung)\n",
    "    :return: Liste von Rechtecken, jedes als Liste von 4 Eckpunkten (jeweils [x, y, z])\n",
    "    \"\"\"\n",
    "    rectangles = []\n",
    "\n",
    "    # Rechteck im lokalen TCP-Koordinatensystem (XY-Ebene, Zentrum im Ursprung)\n",
    "    half_w = width / 2\n",
    "    half_h = height / 2\n",
    "\n",
    "    if frame == '_work':\n",
    "        local_corners = np.array([\n",
    "            [-half_w, half_h, 0],\n",
    "            [ half_w, half_h, 0],\n",
    "            [ half_w, -half_h, 0],\n",
    "            [-half_w, -half_h, 0]\n",
    "        ])\n",
    "    else:\n",
    "        local_corners = np.array([\n",
    "        [-half_w, 0, -half_h],\n",
    "        [ half_w, 0, -half_h],\n",
    "        [ half_w, 0, half_h],\n",
    "        [-half_w, 0, half_h]\n",
    "        ])\n",
    "\n",
    "    for trans, rpy in trajectory:\n",
    "        # RPY in Radiant, falls nicht schon so\n",
    "        if frame == '_work':\n",
    "            rot = R.from_euler('xyz', fix_rpy(rpy), degrees=True)\n",
    "        else:\n",
    "            rot = R.from_euler('xyz', rpy, degrees=True)\n",
    "        rotated_corners = rot.apply(local_corners)\n",
    "        translated_corners = rotated_corners + np.array(trans)\n",
    "        rectangles.append(translated_corners.tolist())\n",
    "    return rectangles"
   ]
  },
  {
   "cell_type": "code",
   "execution_count": 404,
   "id": "05d04c48",
   "metadata": {},
   "outputs": [],
   "source": [
    "rectangles_optim = compute_rectangle_corners(trajectory_optim, frame = frame)\n",
    "rectangles_1 = compute_rectangle_corners(trajectory_1, frame = frame)\n",
    "rectangles_2 = compute_rectangle_corners(trajectory_2, frame = frame)\n",
    "rectangles_3 = compute_rectangle_corners(trajectory_3, frame = frame)\n",
    "rectangles_4 = compute_rectangle_corners(trajectory_4, frame = frame)"
   ]
  },
  {
   "cell_type": "code",
   "execution_count": 405,
   "id": "f78ad7a3",
   "metadata": {},
   "outputs": [],
   "source": [
    "def visualize_rectangles(rectangles, figsize=(8, 8), connect_points=None, \n",
    "                         secondary_rectangles=None, secondary_legend_title=None,\n",
    "                         hook_num = 0, trajectory_process = 1):\n",
    "    \"\"\"\n",
    "    Visualisiert Rechtecke + Trajektorie im 3D-Raum mit Legende und Bezeichnungen der Trajektorienpunkte.\n",
    "    \n",
    "    Zusätzlich kann ein zweiter Satz Rechtecke (grau & transparent) dargestellt werden – inkl. Mittelpunktslinie.\n",
    "\n",
    "    :param rectangles: Liste von Rechtecken (jeweils 4 Punkte [x, y, z])\n",
    "    :param figsize: Größe der Plotfläche (Breite, Höhe)\n",
    "    :param connect_points: Optionales Tupel mit zwei Punkten [x, y, z], die verbunden werden sollen\n",
    "    :param secondary_rectangles: Optionaler zweiter Satz Rechtecke (werden grau dargestellt)\n",
    "    :param secondary_legend_title: Optionaler Legenden-Eintrag für die grauen Rechtecke\n",
    "    \"\"\"\n",
    "    %matplotlib qt\n",
    "\n",
    "    fig = plt.figure(figsize=figsize)\n",
    "    ax = fig.add_subplot(111, projection='3d')\n",
    "    fig.suptitle(f\"Einfädelung Trajektorie Spitze -> Senke (TCP in WORLD-Frame)\", fontsize=14, y=0.98)\n",
    "\n",
    "    centers = []\n",
    "    cmap = cm.get_cmap('tab20')\n",
    "    legend_handles = []\n",
    "\n",
    "    # Berechnete Trajektorie (farbig)\n",
    "    for i, rect in enumerate(rectangles):\n",
    "        color = cmap(i / len(rectangles))\n",
    "        poly = Poly3DCollection([rect], facecolors=color, alpha=0.2, edgecolors=color)\n",
    "        ax.add_collection3d(poly)\n",
    "\n",
    "        if i == 0:\n",
    "            label = 'Pre-Position'\n",
    "        elif i == 1:\n",
    "            label = 'Spitze'\n",
    "        elif i == len(rectangles) - 1:\n",
    "            label = 'Loslassen'\n",
    "        else:\n",
    "            label = str(i + 1)\n",
    "\n",
    "        legend_handles.append(plt.Line2D([0], [0], marker='o', color='w', label=label,\n",
    "                                         markersize=10, markerfacecolor=color))\n",
    "\n",
    "        center = np.mean(np.array(rect), axis=0)\n",
    "        centers.append(center)\n",
    "        ax.scatter(*center, color='red', s=30)\n",
    "        ax.text(center[0]-5, center[1]-5, center[2], f\"P{i}\", color=color, alpha = 0.8, fontsize=12)\n",
    "\n",
    "    # Linie durch die berechneten Mittelpunkte\n",
    "    centers = np.array(centers)\n",
    "    ax.plot(centers[:, 0], centers[:, 1], centers[:, 2], color='black', linewidth=2)\n",
    "\n",
    "    # Beschriftung Hauptlinie\n",
    "    if len(centers) > 0:\n",
    "        ax.text(*centers[0], 'Pre-Position', color='black', fontsize=10)\n",
    "    if len(centers) > 2:\n",
    "        ax.text(*centers[-1], 'Loslassen', color='black', fontsize=10)\n",
    "\n",
    "    # Optimal-Trajektorie (grün)\n",
    "    if secondary_rectangles is not None:\n",
    "        secondary_centers = []\n",
    "        for rect in secondary_rectangles:\n",
    "            poly = Poly3DCollection([rect], facecolors='green', alpha=0.1, edgecolors='green')\n",
    "            ax.add_collection3d(poly)\n",
    "\n",
    "            center = np.mean(np.array(rect), axis=0)\n",
    "            secondary_centers.append(center)\n",
    "            ax.scatter(*center, color='green', s=20)\n",
    "\n",
    "        # Linie durch grüne Mittelpunkte\n",
    "        secondary_centers = np.array(secondary_centers)\n",
    "        ax.plot(secondary_centers[:, 0], secondary_centers[:, 1], secondary_centers[:, 2],\n",
    "                color='green', linewidth=1, linestyle='-')\n",
    "\n",
    "        # Legendenhandle für Optimal-Trajektorie\n",
    "        if secondary_legend_title:\n",
    "            legend_handles.append(plt.Line2D([0], [0], marker='o', color='w', label=secondary_legend_title,\n",
    "                                             markersize=10, markerfacecolor='green'))\n",
    "\n",
    "    # Einzeichnen von Spitze und Senke inkl. graue Verbindungslinie\n",
    "    if connect_points is not None and len(connect_points) == 2:\n",
    "        p1, p2 = np.array(connect_points[0]), np.array(connect_points[1])\n",
    "        ax.plot([p1[0], p2[0]], [p1[1], p2[1]], [p1[2], p2[2]],\n",
    "                color='gray', linestyle='dashed', linewidth=2)\n",
    "        ax.scatter(*p1, 'o', color='magenta', linewidth=6)\n",
    "        ax.scatter(*p2, 'o', color='magenta', linewidth=6)\n",
    "        ax.text(*p1, 'Spitze', color='magenta', fontsize=12, ha='center')\n",
    "        ax.text(*p2, 'Senke', color='magenta', fontsize=12, ha='center')\n",
    "\n",
    "    # Achseneinstellungen\n",
    "    ax.set_xlabel('X')\n",
    "    ax.set_ylabel('Y')\n",
    "    ax.set_zlabel('Z')\n",
    "    ax.set_title(f\"Haken {hook_num}, Trajektorien-Ansatz {trajectory_process}\", fontsize = 10)\n",
    "\n",
    "    all_points = rectangles + (secondary_rectangles if secondary_rectangles else [])\n",
    "    all_points = np.vstack(all_points)\n",
    "    mid = np.mean(all_points, axis=0)\n",
    "    max_range = np.ptp(all_points, axis=0).max() / 2\n",
    "    for i, axis in enumerate([ax.set_xlim, ax.set_ylim, ax.set_zlim]):\n",
    "        axis(mid[i] - max_range, mid[i] + max_range)\n",
    "\n",
    "    ax.set_box_aspect([1, 1, 1])\n",
    "    ax.legend(handles=legend_handles, title=\"Trajektorien-Punkte\", loc='upper left')\n",
    "    plt.tight_layout(pad=0.5, w_pad=0.5, h_pad=0.5)\n",
    "    plt.show()"
   ]
  },
  {
   "cell_type": "code",
   "execution_count": 406,
   "id": "5a944d76",
   "metadata": {},
   "outputs": [
    {
     "data": {
      "text/plain": [
       "\"\\nvisualize_rectangles(rectangles = rectangles_1,\\n                     secondary_rectangles = rectangles_optim,\\n                     secondary_legend_title = 'optimale Trajektorie',\\n                     connect_points = (trajectory_1[1][0], trajectory_1[-1][0]),\\n                     hook_num = hook_num,\\n                     trajectory_process = 1)\\n\\nvisualize_rectangles(rectangles = rectangles_2,\\n                     secondary_rectangles = rectangles_optim,\\n                     secondary_legend_title = 'optimale Trajektorie',\\n                     connect_points = (trajectory_1[1][0], trajectory_1[-1][0]),\\n                     hook_num = hook_num,\\n                     trajectory_process = 2)\\n\\nvisualize_rectangles(rectangles = rectangles_3,\\n                     secondary_rectangles = rectangles_optim,\\n                     secondary_legend_title = 'optimale Trajektorie',\\n                     connect_points = (trajectory_1[1][0], trajectory_1[-1][0]),\\n                     hook_num = hook_num,\\n                     trajectory_process = 3)\\n\\nvisualize_rectangles(rectangles = rectangles_4,\\n                     secondary_rectangles = rectangles_optim,\\n                     secondary_legend_title = 'optimale Trajektorie',\\n                     connect_points = (trajectory_1[1][0], trajectory_1[-1][0]),\\n                     hook_num = hook_num,\\n                     trajectory_process = 4)\\n\""
      ]
     },
     "execution_count": 406,
     "metadata": {},
     "output_type": "execute_result"
    }
   ],
   "source": [
    "'''\n",
    "visualize_rectangles(rectangles = rectangles_1,\n",
    "                     secondary_rectangles = rectangles_optim,\n",
    "                     secondary_legend_title = 'optimale Trajektorie',\n",
    "                     connect_points = (trajectory_1[1][0], trajectory_1[-1][0]),\n",
    "                     hook_num = hook_num,\n",
    "                     trajectory_process = 1)\n",
    "\n",
    "visualize_rectangles(rectangles = rectangles_2,\n",
    "                     secondary_rectangles = rectangles_optim,\n",
    "                     secondary_legend_title = 'optimale Trajektorie',\n",
    "                     connect_points = (trajectory_1[1][0], trajectory_1[-1][0]),\n",
    "                     hook_num = hook_num,\n",
    "                     trajectory_process = 2)\n",
    "\n",
    "visualize_rectangles(rectangles = rectangles_3,\n",
    "                     secondary_rectangles = rectangles_optim,\n",
    "                     secondary_legend_title = 'optimale Trajektorie',\n",
    "                     connect_points = (trajectory_1[1][0], trajectory_1[-1][0]),\n",
    "                     hook_num = hook_num,\n",
    "                     trajectory_process = 3)\n",
    "\n",
    "visualize_rectangles(rectangles = rectangles_4,\n",
    "                     secondary_rectangles = rectangles_optim,\n",
    "                     secondary_legend_title = 'optimale Trajektorie',\n",
    "                     connect_points = (trajectory_1[1][0], trajectory_1[-1][0]),\n",
    "                     hook_num = hook_num,\n",
    "                     trajectory_process = 4)\n",
    "'''"
   ]
  },
  {
   "cell_type": "code",
   "execution_count": 407,
   "id": "0653e612",
   "metadata": {},
   "outputs": [],
   "source": [
    "def visualize_rectangles_html(rectangles, connect_points=None, \n",
    "                              secondary_rectangles=None, secondary_legend_title=None,\n",
    "                              hook_num=0, trajectory_process=1, html_filename=\"/home/mo/Thesis/Evaluation/Trajektorientests/CSV/plot_interaktiv.html\"):\n",
    "    \"\"\"\n",
    "    Visualisiert Rechtecke und Trajektorien im 3D-Raum als interaktive HTML-Datei.\n",
    "    \n",
    "    :param rectangles: Liste von Rechtecken (jeweils 4 Punkte [x, y, z])\n",
    "    :param figsize: Größe der Plotfläche (Breite, Höhe)\n",
    "    :param connect_points: Optionales Tupel mit zwei Punkten [x, y, z], die verbunden werden sollen\n",
    "    :param secondary_rectangles: Optionaler zweiter Satz Rechtecke (werden grau dargestellt)\n",
    "    :param secondary_legend_title: Optionaler Legenden-Eintrag für die grauen Rechtecke\n",
    "    :param html_filename: Der Name der HTML-Datei, die erstellt wird\n",
    "    \"\"\"\n",
    "    fig = go.Figure()\n",
    "\n",
    "    # Berechnete Trajektorie (farbig)\n",
    "    cmap = plt.cm.get_cmap('tab20')\n",
    "    centers = []\n",
    "\n",
    "    for i, rect in enumerate(rectangles):\n",
    "        # Verwende rgba-String für die Farbe (anstatt des RGBA-Tupels)\n",
    "        color = f\"rgba({int(cmap(i / len(rectangles))[0] * 255)}, \" \\\n",
    "                f\"{int(cmap(i / len(rectangles))[1] * 255)}, \" \\\n",
    "                f\"{int(cmap(i / len(rectangles))[2] * 255)}, 0.8)\"\n",
    "        x, y, z = zip(*rect)\n",
    "        fig.add_trace(go.Mesh3d(x=x, y=y, z=z, color=color, opacity=0.8, \n",
    "                               name=f'P{i+1}'))\n",
    "\n",
    "        center = np.mean(np.array(rect), axis=0)\n",
    "        centers.append(center)\n",
    "        \n",
    "        # Text für \"P0\", \"P1\", etc.\n",
    "        if i == 0:\n",
    "            text_label = ''\n",
    "            # text_label = 'Pre-Position'\n",
    "        elif i == 1:\n",
    "            text_label = ''\n",
    "            # text_label = 'Spitze'\n",
    "        elif i == len(rectangles) - 1:\n",
    "            text_label = ''\n",
    "            # text_label = 'Loslassen'\n",
    "        else:\n",
    "            text_label = f'P{i}'  # Standardtext für den Punkt\n",
    "        \n",
    "        # Füge den Text an den Punkten hinzu (mit entsprechender Position)\n",
    "        fig.add_trace(go.Scatter3d(x=[center[0]], y=[center[1]], z=[center[2]], \n",
    "                                   mode='markers+text', marker=dict(size=3, color='red'),\n",
    "                                   text=text_label, textposition=\"top center\", textfont=dict(size=12), showlegend=False))\n",
    "\n",
    "        # Hinzufügen der Umrandung der Rechtecke mit einer Linie\n",
    "        for j in range(4):\n",
    "            x0, y0, z0 = rect[j]\n",
    "            x1, y1, z1 = rect[(j + 1) % 4]  # Nächster Punkt im Rechteck\n",
    "            fig.add_trace(go.Scatter3d(x=[x0, x1], y=[y0, y1], z=[z0, z1], \n",
    "                                       mode='lines', \n",
    "                                       line=dict(color=color, width=4),  # Keine opacity hier\n",
    "                                       showlegend=False))\n",
    "\n",
    "    # Linie durch die berechneten Mittelpunkte\n",
    "    centers = np.array(centers)\n",
    "    fig.add_trace(go.Scatter3d(x=centers[:, 0], y=centers[:, 1], z=centers[:, 2],\n",
    "                               mode='lines', line=dict(color='black', width=2), name='Berechnete Hakenlinie'))\n",
    "\n",
    "    # Beschriftung der ersten und letzten Punkte\n",
    "    if len(centers) > 0:\n",
    "        fig.add_trace(go.Scatter3d(x=[centers[0, 0]], y=[centers[0, 1]], z=[centers[0, 2]],\n",
    "                                   mode='text', text=['Pre-Position'], textposition=\"top center\", textfont=dict(size=10), showlegend=False))\n",
    "    if len(centers) > 2:\n",
    "        fig.add_trace(go.Scatter3d(x=[centers[-1, 0]], y=[centers[-1, 1]], z=[centers[-1, 2]],\n",
    "                                   mode='text', text=['Loslassen'], textposition=\"top center\", textfont=dict(size=10), showlegend=False))\n",
    "\n",
    "    # Optimal-Trajektorie (grün) – Zweite Rechtecke\n",
    "    if secondary_rectangles:\n",
    "        for rect in secondary_rectangles:\n",
    "            x, y, z = zip(*rect)\n",
    "            fig.add_trace(go.Mesh3d(x=x, y=y, z=z, color='rgba(0,255,0,0.2)', opacity=0.8, \n",
    "                                   name=secondary_legend_title or 'Optimale Trajektorie'))\n",
    "        \n",
    "            # Hinzufügen der Umrandung der Rechtecke mit einer Linie\n",
    "            for j in range(4):\n",
    "                x0, y0, z0 = rect[j]\n",
    "                x1, y1, z1 = rect[(j + 1) % 4]  # Nächster Punkt im Rechteck\n",
    "                fig.add_trace(go.Scatter3d(x=[x0, x1], y=[y0, y1], z=[z0, z1], \n",
    "                                           mode='lines', \n",
    "                                           line=dict(color='rgba(0,255,0,0.2)', width=3),  # Keine opacity hier\n",
    "                                           showlegend=False))\n",
    "            \n",
    "            # Hinzufügen eines roten Punktes in der Mitte des Rechtecks\n",
    "            center = np.mean(np.array(rect), axis=0)\n",
    "            fig.add_trace(go.Scatter3d(x=[center[0]], y=[center[1]], z=[center[2]], \n",
    "                                       mode='markers', marker=dict(size=4, color='green'), \n",
    "                                       name=f'Mitte P{i+1}', showlegend=False))\n",
    "        \n",
    "        # Mittelpunkte der sekundären Rechtecke sammeln\n",
    "        secondary_centers = [np.mean(np.array(rect), axis=0) for rect in secondary_rectangles]\n",
    "        secondary_centers = np.array(secondary_centers)\n",
    "\n",
    "        # Linie durch die Mittelpunkte zeichnen\n",
    "        fig.add_trace(go.Scatter3d(\n",
    "            x=secondary_centers[:, 0], y=secondary_centers[:, 1], z=secondary_centers[:, 2],\n",
    "            mode='lines',\n",
    "            line=dict(color='green', width=2),\n",
    "            name='Optimale Hakenlinie'\n",
    "        ))\n",
    "    \n",
    "    # Einzeichnen von Spitze und Senke inkl. graue Verbindungslinie\n",
    "    if connect_points:\n",
    "        p1, p2 = np.array(connect_points[0]), np.array(connect_points[1])\n",
    "        fig.add_trace(go.Scatter3d(x=[p1[0], p2[0]], y=[p1[1], p2[1]], z=[p1[2], p2[2]], \n",
    "                                   mode='lines', line=dict(color='gray', dash='dash'), name='Direkte Gerade Spitze -> Senke'))\n",
    "        fig.add_trace(go.Scatter3d(x=[p1[0]], y=[p1[1]], z=[p1[2]], mode='markers', \n",
    "                                   marker=dict(size=8, color='magenta'), name='Spitze'))\n",
    "        fig.add_trace(go.Scatter3d(x=[p2[0]], y=[p2[1]], z=[p2[2]], mode='markers', \n",
    "                                   marker=dict(size=8, color='magenta'), name='Senke'))\n",
    "        \n",
    "        # Hinzufügen von Text \"Spitze\" und \"Senke\"\n",
    "        fig.add_trace(go.Scatter3d(x=[p1[0]], y=[p1[1]], z=[p1[2]], mode='text', \n",
    "                                   text=['Spitze'], textposition=\"top center\", textfont=dict(size=10), showlegend=False))\n",
    "        fig.add_trace(go.Scatter3d(x=[p2[0]], y=[p2[1]], z=[p2[2]], mode='text', \n",
    "                                   text=['Senke'], textposition=\"top center\", textfont=dict(size=10), showlegend=False))\n",
    "\n",
    "    # Achsen und Layout\n",
    "    fig.update_layout(\n",
    "        scene=dict(\n",
    "            xaxis_title='X',\n",
    "            yaxis_title='Y',\n",
    "            zaxis_title='Z',\n",
    "            aspectmode='cube',\n",
    "            camera=dict(\n",
    "                up=dict(x=0, y=-1., z=0),\n",
    "                eye=dict(x=-1, y=-1, z=-1.5)\n",
    "            )\n",
    "        ),\n",
    "        title=f'Haken {hook_num}, Trajektorien-Ansatz {trajectory_process}',\n",
    "        legend=dict(title=\"Legende\")\n",
    "    )\n",
    "    \n",
    "    # HTML exportieren\n",
    "    fig.write_html(html_filename)\n",
    "    print(f\"HTML-Datei '{html_filename}' erfolgreich erstellt!\")\n",
    "    fig.show()"
   ]
  },
  {
   "cell_type": "code",
   "execution_count": 408,
   "id": "2e400931",
   "metadata": {},
   "outputs": [
    {
     "name": "stdout",
     "output_type": "stream",
     "text": [
      "HTML-Datei '/home/mo/Thesis/Evaluation/Trajektorientests/traj1.html' erfolgreich erstellt!\n"
     ]
    },
    {
     "name": "stderr",
     "output_type": "stream",
     "text": [
      "/tmp/ipykernel_735757/974647754.py:17: MatplotlibDeprecationWarning:\n",
      "\n",
      "The get_cmap function was deprecated in Matplotlib 3.7 and will be removed two minor releases later. Use ``matplotlib.colormaps[name]`` or ``matplotlib.colormaps.get_cmap(obj)`` instead.\n",
      "\n"
     ]
    },
    {
     "data": {
      "application/vnd.plotly.v1+json": {
       "config": {
        "plotlyServerURL": "https://plot.ly"
       },
       "data": [
        {
         "color": "rgba(31, 119, 180, 0.8)",
         "name": "P1",
         "opacity": 0.8,
         "type": "mesh3d",
         "x": [
          933.3691432401332,
          940.6041443047737,
          943.6467394556413,
          936.4117383910008
         ],
         "y": [
          -503.5741433594254,
          -500.1628750014798,
          -506.226575780306,
          -509.63784413825164
         ],
         "z": [
          335.9209993077349,
          335.78680622024416,
          345.68499532799405,
          345.8191884154848
         ]
        },
        {
         "marker": {
          "color": "red",
          "size": 3
         },
         "mode": "markers+text",
         "showlegend": false,
         "text": "",
         "textfont": {
          "size": 12
         },
         "textposition": "top center",
         "type": "scatter3d",
         "x": [
          938.5079413478873
         ],
         "y": [
          -504.9003595698657
         ],
         "z": [
          340.8029973178645
         ]
        },
        {
         "line": {
          "color": "rgba(31, 119, 180, 0.8)",
          "width": 4
         },
         "mode": "lines",
         "showlegend": false,
         "type": "scatter3d",
         "x": [
          933.3691432401332,
          940.6041443047737
         ],
         "y": [
          -503.5741433594254,
          -500.1628750014798
         ],
         "z": [
          335.9209993077349,
          335.78680622024416
         ]
        },
        {
         "line": {
          "color": "rgba(31, 119, 180, 0.8)",
          "width": 4
         },
         "mode": "lines",
         "showlegend": false,
         "type": "scatter3d",
         "x": [
          940.6041443047737,
          943.6467394556413
         ],
         "y": [
          -500.1628750014798,
          -506.226575780306
         ],
         "z": [
          335.78680622024416,
          345.68499532799405
         ]
        },
        {
         "line": {
          "color": "rgba(31, 119, 180, 0.8)",
          "width": 4
         },
         "mode": "lines",
         "showlegend": false,
         "type": "scatter3d",
         "x": [
          943.6467394556413,
          936.4117383910008
         ],
         "y": [
          -506.226575780306,
          -509.63784413825164
         ],
         "z": [
          345.68499532799405,
          345.8191884154848
         ]
        },
        {
         "line": {
          "color": "rgba(31, 119, 180, 0.8)",
          "width": 4
         },
         "mode": "lines",
         "showlegend": false,
         "type": "scatter3d",
         "x": [
          936.4117383910008,
          933.3691432401332
         ],
         "y": [
          -509.63784413825164,
          -503.5741433594254
         ],
         "z": [
          345.8191884154848,
          335.9209993077349
         ]
        },
        {
         "color": "rgba(174, 199, 232, 0.8)",
         "name": "P2",
         "opacity": 0.8,
         "type": "mesh3d",
         "x": [
          928.3817690419713,
          932.6114787622901,
          932.5222930495582,
          928.2925833292395
         ],
         "y": [
          -496.94034225408916,
          -494.19806584281787,
          -505.15313392305177,
          -507.89541033432306
         ],
         "z": [
          339.0912445622189,
          345.3032873635867,
          350.2000750112272,
          343.9880322098594
         ]
        },
        {
         "marker": {
          "color": "red",
          "size": 3
         },
         "mode": "markers+text",
         "showlegend": false,
         "text": "",
         "textfont": {
          "size": 12
         },
         "textposition": "top center",
         "type": "scatter3d",
         "x": [
          930.4520310457649
         ],
         "y": [
          -501.04673808857046
         ],
         "z": [
          344.64565978672306
         ]
        },
        {
         "line": {
          "color": "rgba(174, 199, 232, 0.8)",
          "width": 4
         },
         "mode": "lines",
         "showlegend": false,
         "type": "scatter3d",
         "x": [
          928.3817690419713,
          932.6114787622901
         ],
         "y": [
          -496.94034225408916,
          -494.19806584281787
         ],
         "z": [
          339.0912445622189,
          345.3032873635867
         ]
        },
        {
         "line": {
          "color": "rgba(174, 199, 232, 0.8)",
          "width": 4
         },
         "mode": "lines",
         "showlegend": false,
         "type": "scatter3d",
         "x": [
          932.6114787622901,
          932.5222930495582
         ],
         "y": [
          -494.19806584281787,
          -505.15313392305177
         ],
         "z": [
          345.3032873635867,
          350.2000750112272
         ]
        },
        {
         "line": {
          "color": "rgba(174, 199, 232, 0.8)",
          "width": 4
         },
         "mode": "lines",
         "showlegend": false,
         "type": "scatter3d",
         "x": [
          932.5222930495582,
          928.2925833292395
         ],
         "y": [
          -505.15313392305177,
          -507.89541033432306
         ],
         "z": [
          350.2000750112272,
          343.9880322098594
         ]
        },
        {
         "line": {
          "color": "rgba(174, 199, 232, 0.8)",
          "width": 4
         },
         "mode": "lines",
         "showlegend": false,
         "type": "scatter3d",
         "x": [
          928.2925833292395,
          928.3817690419713
         ],
         "y": [
          -507.89541033432306,
          -496.94034225408916
         ],
         "z": [
          343.9880322098594,
          339.0912445622189
         ]
        },
        {
         "color": "rgba(255, 187, 120, 0.8)",
         "name": "P3",
         "opacity": 0.8,
         "type": "mesh3d",
         "x": [
          927.058728313122,
          933.2413476059769,
          932.672712940622,
          926.490093647767
         ],
         "y": [
          -497.6529722736673,
          -494.42051055865466,
          -503.2071594183924,
          -506.439621133405
         ],
         "z": [
          340.9646635086261,
          344.87955941281,
          353.0325623217403,
          349.11766641755634
         ]
        },
        {
         "marker": {
          "color": "red",
          "size": 3
         },
         "mode": "markers+text",
         "showlegend": false,
         "text": "P2",
         "textfont": {
          "size": 12
         },
         "textposition": "top center",
         "type": "scatter3d",
         "x": [
          929.865720626872
         ],
         "y": [
          -500.43006584602983
         ],
         "z": [
          346.9986129151832
         ]
        },
        {
         "line": {
          "color": "rgba(255, 187, 120, 0.8)",
          "width": 4
         },
         "mode": "lines",
         "showlegend": false,
         "type": "scatter3d",
         "x": [
          927.058728313122,
          933.2413476059769
         ],
         "y": [
          -497.6529722736673,
          -494.42051055865466
         ],
         "z": [
          340.9646635086261,
          344.87955941281
         ]
        },
        {
         "line": {
          "color": "rgba(255, 187, 120, 0.8)",
          "width": 4
         },
         "mode": "lines",
         "showlegend": false,
         "type": "scatter3d",
         "x": [
          933.2413476059769,
          932.672712940622
         ],
         "y": [
          -494.42051055865466,
          -503.2071594183924
         ],
         "z": [
          344.87955941281,
          353.0325623217403
         ]
        },
        {
         "line": {
          "color": "rgba(255, 187, 120, 0.8)",
          "width": 4
         },
         "mode": "lines",
         "showlegend": false,
         "type": "scatter3d",
         "x": [
          932.672712940622,
          926.490093647767
         ],
         "y": [
          -503.2071594183924,
          -506.439621133405
         ],
         "z": [
          353.0325623217403,
          349.11766641755634
         ]
        },
        {
         "line": {
          "color": "rgba(255, 187, 120, 0.8)",
          "width": 4
         },
         "mode": "lines",
         "showlegend": false,
         "type": "scatter3d",
         "x": [
          926.490093647767,
          927.058728313122
         ],
         "y": [
          -506.439621133405,
          -497.6529722736673
         ],
         "z": [
          349.11766641755634,
          340.9646635086261
         ]
        },
        {
         "color": "rgba(152, 223, 138, 0.8)",
         "name": "P4",
         "opacity": 0.8,
         "type": "mesh3d",
         "x": [
          922.7103607760198,
          929.4966300715369,
          935.3257390526053,
          928.5394697570882
         ],
         "y": [
          -499.9967629821574,
          -497.2831078929634,
          -499.5956529529326,
          -502.3093080421266
         ],
         "z": [
          344.74373476563096,
          341.49064006894383,
          351.72165291384044,
          354.9747476105276
         ]
        },
        {
         "marker": {
          "color": "red",
          "size": 3
         },
         "mode": "markers+text",
         "showlegend": false,
         "text": "P3",
         "textfont": {
          "size": 12
         },
         "textposition": "top center",
         "type": "scatter3d",
         "x": [
          929.0180499143125
         ],
         "y": [
          -499.796207967545
         ],
         "z": [
          348.2326938397357
         ]
        },
        {
         "line": {
          "color": "rgba(152, 223, 138, 0.8)",
          "width": 4
         },
         "mode": "lines",
         "showlegend": false,
         "type": "scatter3d",
         "x": [
          922.7103607760198,
          929.4966300715369
         ],
         "y": [
          -499.9967629821574,
          -497.2831078929634
         ],
         "z": [
          344.74373476563096,
          341.49064006894383
         ]
        },
        {
         "line": {
          "color": "rgba(152, 223, 138, 0.8)",
          "width": 4
         },
         "mode": "lines",
         "showlegend": false,
         "type": "scatter3d",
         "x": [
          929.4966300715369,
          935.3257390526053
         ],
         "y": [
          -497.2831078929634,
          -499.5956529529326
         ],
         "z": [
          341.49064006894383,
          351.72165291384044
         ]
        },
        {
         "line": {
          "color": "rgba(152, 223, 138, 0.8)",
          "width": 4
         },
         "mode": "lines",
         "showlegend": false,
         "type": "scatter3d",
         "x": [
          935.3257390526053,
          928.5394697570882
         ],
         "y": [
          -499.5956529529326,
          -502.3093080421266
         ],
         "z": [
          351.72165291384044,
          354.9747476105276
         ]
        },
        {
         "line": {
          "color": "rgba(152, 223, 138, 0.8)",
          "width": 4
         },
         "mode": "lines",
         "showlegend": false,
         "type": "scatter3d",
         "x": [
          928.5394697570882,
          922.7103607760198
         ],
         "y": [
          -502.3093080421266,
          -499.9967629821574
         ],
         "z": [
          354.9747476105276,
          344.74373476563096
         ]
        },
        {
         "color": "rgba(255, 152, 150, 0.8)",
         "name": "P5",
         "opacity": 0.8,
         "type": "mesh3d",
         "x": [
          921.6446681929216,
          928.336352371087,
          934.501819680606,
          927.8101355024406
         ],
         "y": [
          -499.2024905627154,
          -496.45354236961197,
          -499.10157977847393,
          -501.8505279715774
         ],
         "z": [
          345.0378984175149,
          341.62254386910786,
          351.5711573773571,
          354.98651192576415
         ]
        },
        {
         "marker": {
          "color": "red",
          "size": 3
         },
         "mode": "markers+text",
         "showlegend": false,
         "text": "P4",
         "textfont": {
          "size": 12
         },
         "textposition": "top center",
         "type": "scatter3d",
         "x": [
          928.0732439367638
         ],
         "y": [
          -499.1520351705947
         ],
         "z": [
          348.30452789743606
         ]
        },
        {
         "line": {
          "color": "rgba(255, 152, 150, 0.8)",
          "width": 4
         },
         "mode": "lines",
         "showlegend": false,
         "type": "scatter3d",
         "x": [
          921.6446681929216,
          928.336352371087
         ],
         "y": [
          -499.2024905627154,
          -496.45354236961197
         ],
         "z": [
          345.0378984175149,
          341.62254386910786
         ]
        },
        {
         "line": {
          "color": "rgba(255, 152, 150, 0.8)",
          "width": 4
         },
         "mode": "lines",
         "showlegend": false,
         "type": "scatter3d",
         "x": [
          928.336352371087,
          934.501819680606
         ],
         "y": [
          -496.45354236961197,
          -499.10157977847393
         ],
         "z": [
          341.62254386910786,
          351.5711573773571
         ]
        },
        {
         "line": {
          "color": "rgba(255, 152, 150, 0.8)",
          "width": 4
         },
         "mode": "lines",
         "showlegend": false,
         "type": "scatter3d",
         "x": [
          934.501819680606,
          927.8101355024406
         ],
         "y": [
          -499.10157977847393,
          -501.8505279715774
         ],
         "z": [
          351.5711573773571,
          354.98651192576415
         ]
        },
        {
         "line": {
          "color": "rgba(255, 152, 150, 0.8)",
          "width": 4
         },
         "mode": "lines",
         "showlegend": false,
         "type": "scatter3d",
         "x": [
          927.8101355024406,
          921.6446681929216
         ],
         "y": [
          -501.8505279715774,
          -499.2024905627154
         ],
         "z": [
          354.98651192576415,
          345.0378984175149
         ]
        },
        {
         "color": "rgba(197, 176, 213, 0.8)",
         "name": "P6",
         "opacity": 0.8,
         "type": "mesh3d",
         "x": [
          923.8155496478906,
          930.294318808815,
          930.440429569435,
          923.9616604085106
         ],
         "y": [
          -496.04317737376834,
          -492.66360680100155,
          -501.1333945508653,
          -504.5129651236321
         ],
         "z": [
          342.5071332141684,
          345.7635196935568,
          354.2630106852509,
          351.00662420586247
         ]
        },
        {
         "marker": {
          "color": "red",
          "size": 3
         },
         "mode": "markers+text",
         "showlegend": false,
         "text": "P5",
         "textfont": {
          "size": 12
         },
         "textposition": "top center",
         "type": "scatter3d",
         "x": [
          927.1279896086628
         ],
         "y": [
          -498.58828596231683
         ],
         "z": [
          348.38507194970964
         ]
        },
        {
         "line": {
          "color": "rgba(197, 176, 213, 0.8)",
          "width": 4
         },
         "mode": "lines",
         "showlegend": false,
         "type": "scatter3d",
         "x": [
          923.8155496478906,
          930.294318808815
         ],
         "y": [
          -496.04317737376834,
          -492.66360680100155
         ],
         "z": [
          342.5071332141684,
          345.7635196935568
         ]
        },
        {
         "line": {
          "color": "rgba(197, 176, 213, 0.8)",
          "width": 4
         },
         "mode": "lines",
         "showlegend": false,
         "type": "scatter3d",
         "x": [
          930.294318808815,
          930.440429569435
         ],
         "y": [
          -492.66360680100155,
          -501.1333945508653
         ],
         "z": [
          345.7635196935568,
          354.2630106852509
         ]
        },
        {
         "line": {
          "color": "rgba(197, 176, 213, 0.8)",
          "width": 4
         },
         "mode": "lines",
         "showlegend": false,
         "type": "scatter3d",
         "x": [
          930.440429569435,
          923.9616604085106
         ],
         "y": [
          -501.1333945508653,
          -504.5129651236321
         ],
         "z": [
          354.2630106852509,
          351.00662420586247
         ]
        },
        {
         "line": {
          "color": "rgba(197, 176, 213, 0.8)",
          "width": 4
         },
         "mode": "lines",
         "showlegend": false,
         "type": "scatter3d",
         "x": [
          923.9616604085106,
          923.8155496478906
         ],
         "y": [
          -504.5129651236321,
          -496.04317737376834
         ],
         "z": [
          351.00662420586247,
          342.5071332141684
         ]
        },
        {
         "color": "rgba(140, 86, 75, 0.8)",
         "name": "P7",
         "opacity": 0.8,
         "type": "mesh3d",
         "x": [
          920.0640816668644,
          927.0544523891158,
          932.1508069919131,
          925.1604362696617
         ],
         "y": [
          -498.2739150673921,
          -495.61285983891344,
          -497.61264115850776,
          -500.27369638698644
         ],
         "z": [
          345.7409982500906,
          342.90312893730066,
          353.58152040963154,
          356.4193897224215
         ]
        },
        {
         "marker": {
          "color": "red",
          "size": 3
         },
         "mode": "markers+text",
         "showlegend": false,
         "text": "P6",
         "textfont": {
          "size": 12
         },
         "textposition": "top center",
         "type": "scatter3d",
         "x": [
          926.1074443293887
         ],
         "y": [
          -497.94327811295
         ],
         "z": [
          349.6612593298611
         ]
        },
        {
         "line": {
          "color": "rgba(140, 86, 75, 0.8)",
          "width": 4
         },
         "mode": "lines",
         "showlegend": false,
         "type": "scatter3d",
         "x": [
          920.0640816668644,
          927.0544523891158
         ],
         "y": [
          -498.2739150673921,
          -495.61285983891344
         ],
         "z": [
          345.7409982500906,
          342.90312893730066
         ]
        },
        {
         "line": {
          "color": "rgba(140, 86, 75, 0.8)",
          "width": 4
         },
         "mode": "lines",
         "showlegend": false,
         "type": "scatter3d",
         "x": [
          927.0544523891158,
          932.1508069919131
         ],
         "y": [
          -495.61285983891344,
          -497.61264115850776
         ],
         "z": [
          342.90312893730066,
          353.58152040963154
         ]
        },
        {
         "line": {
          "color": "rgba(140, 86, 75, 0.8)",
          "width": 4
         },
         "mode": "lines",
         "showlegend": false,
         "type": "scatter3d",
         "x": [
          932.1508069919131,
          925.1604362696617
         ],
         "y": [
          -497.61264115850776,
          -500.27369638698644
         ],
         "z": [
          353.58152040963154,
          356.4193897224215
         ]
        },
        {
         "line": {
          "color": "rgba(140, 86, 75, 0.8)",
          "width": 4
         },
         "mode": "lines",
         "showlegend": false,
         "type": "scatter3d",
         "x": [
          925.1604362696617,
          920.0640816668644
         ],
         "y": [
          -500.27369638698644,
          -498.2739150673921
         ],
         "z": [
          356.4193897224215,
          345.7409982500906
         ]
        },
        {
         "color": "rgba(227, 119, 194, 0.8)",
         "name": "P8",
         "opacity": 0.8,
         "type": "mesh3d",
         "x": [
          918.4286193156172,
          924.6263598333038,
          932.2041133698256,
          926.006372852139
         ],
         "y": [
          -495.9435746275843,
          -493.3386028552016,
          -498.6460806669047,
          -501.25105243928743
         ],
         "z": [
          348.0741375132149,
          343.73799469493554,
          351.38052900091105,
          355.7166718191904
         ]
        },
        {
         "marker": {
          "color": "red",
          "size": 3
         },
         "mode": "markers+text",
         "showlegend": false,
         "text": "P7",
         "textfont": {
          "size": 12
         },
         "textposition": "top center",
         "type": "scatter3d",
         "x": [
          925.3163663427215
         ],
         "y": [
          -497.2948276472445
         ],
         "z": [
          349.727333257063
         ]
        },
        {
         "line": {
          "color": "rgba(227, 119, 194, 0.8)",
          "width": 4
         },
         "mode": "lines",
         "showlegend": false,
         "type": "scatter3d",
         "x": [
          918.4286193156172,
          924.6263598333038
         ],
         "y": [
          -495.9435746275843,
          -493.3386028552016
         ],
         "z": [
          348.0741375132149,
          343.73799469493554
         ]
        },
        {
         "line": {
          "color": "rgba(227, 119, 194, 0.8)",
          "width": 4
         },
         "mode": "lines",
         "showlegend": false,
         "type": "scatter3d",
         "x": [
          924.6263598333038,
          932.2041133698256
         ],
         "y": [
          -493.3386028552016,
          -498.6460806669047
         ],
         "z": [
          343.73799469493554,
          351.38052900091105
         ]
        },
        {
         "line": {
          "color": "rgba(227, 119, 194, 0.8)",
          "width": 4
         },
         "mode": "lines",
         "showlegend": false,
         "type": "scatter3d",
         "x": [
          932.2041133698256,
          926.006372852139
         ],
         "y": [
          -498.6460806669047,
          -501.25105243928743
         ],
         "z": [
          351.38052900091105,
          355.7166718191904
         ]
        },
        {
         "line": {
          "color": "rgba(227, 119, 194, 0.8)",
          "width": 4
         },
         "mode": "lines",
         "showlegend": false,
         "type": "scatter3d",
         "x": [
          926.006372852139,
          918.4286193156172
         ],
         "y": [
          -501.25105243928743,
          -495.9435746275843
         ],
         "z": [
          355.7166718191904,
          348.0741375132149
         ]
        },
        {
         "color": "rgba(127, 127, 127, 0.8)",
         "name": "P9",
         "opacity": 0.8,
         "type": "mesh3d",
         "x": [
          924.9770129441015,
          931.0433321911956,
          923.4414884831685,
          917.3751692360744
         ],
         "y": [
          -492.77246457136107,
          -495.0633042152104,
          -501.4925015709814,
          -499.2016619271321
         ],
         "z": [
          355.55746696963837,
          350.87218954791575,
          344.1731303901477,
          348.85840781187034
         ]
        },
        {
         "marker": {
          "color": "red",
          "size": 3
         },
         "mode": "markers+text",
         "showlegend": false,
         "text": "P8",
         "textfont": {
          "size": 12
         },
         "textposition": "top center",
         "type": "scatter3d",
         "x": [
          924.209250713635
         ],
         "y": [
          -497.13248307117124
         ],
         "z": [
          349.86529867989304
         ]
        },
        {
         "line": {
          "color": "rgba(127, 127, 127, 0.8)",
          "width": 4
         },
         "mode": "lines",
         "showlegend": false,
         "type": "scatter3d",
         "x": [
          924.9770129441015,
          931.0433321911956
         ],
         "y": [
          -492.77246457136107,
          -495.0633042152104
         ],
         "z": [
          355.55746696963837,
          350.87218954791575
         ]
        },
        {
         "line": {
          "color": "rgba(127, 127, 127, 0.8)",
          "width": 4
         },
         "mode": "lines",
         "showlegend": false,
         "type": "scatter3d",
         "x": [
          931.0433321911956,
          923.4414884831685
         ],
         "y": [
          -495.0633042152104,
          -501.4925015709814
         ],
         "z": [
          350.87218954791575,
          344.1731303901477
         ]
        },
        {
         "line": {
          "color": "rgba(127, 127, 127, 0.8)",
          "width": 4
         },
         "mode": "lines",
         "showlegend": false,
         "type": "scatter3d",
         "x": [
          923.4414884831685,
          917.3751692360744
         ],
         "y": [
          -501.4925015709814,
          -499.2016619271321
         ],
         "z": [
          344.1731303901477,
          348.85840781187034
         ]
        },
        {
         "line": {
          "color": "rgba(127, 127, 127, 0.8)",
          "width": 4
         },
         "mode": "lines",
         "showlegend": false,
         "type": "scatter3d",
         "x": [
          917.3751692360744,
          924.9770129441015
         ],
         "y": [
          -499.2016619271321,
          -492.77246457136107
         ],
         "z": [
          348.85840781187034,
          355.55746696963837
         ]
        },
        {
         "color": "rgba(188, 189, 34, 0.8)",
         "name": "P10",
         "opacity": 0.8,
         "type": "mesh3d",
         "x": [
          916.0742644785659,
          922.2630795720752,
          929.8110099984759,
          923.6221949049666
         ],
         "y": [
          -495.45771971045383,
          -492.8973265606019,
          -498.80751208102447,
          -501.3679052308764
         ],
         "z": [
          348.6169507710611,
          344.24168453270005,
          351.459610369975,
          355.83487660833606
         ]
        },
        {
         "marker": {
          "color": "red",
          "size": 3
         },
         "mode": "markers+text",
         "showlegend": false,
         "text": "P9",
         "textfont": {
          "size": 12
         },
         "textposition": "top center",
         "type": "scatter3d",
         "x": [
          922.942637238521
         ],
         "y": [
          -497.13261589573915
         ],
         "z": [
          350.03828057051805
         ]
        },
        {
         "line": {
          "color": "rgba(188, 189, 34, 0.8)",
          "width": 4
         },
         "mode": "lines",
         "showlegend": false,
         "type": "scatter3d",
         "x": [
          916.0742644785659,
          922.2630795720752
         ],
         "y": [
          -495.45771971045383,
          -492.8973265606019
         ],
         "z": [
          348.6169507710611,
          344.24168453270005
         ]
        },
        {
         "line": {
          "color": "rgba(188, 189, 34, 0.8)",
          "width": 4
         },
         "mode": "lines",
         "showlegend": false,
         "type": "scatter3d",
         "x": [
          922.2630795720752,
          929.8110099984759
         ],
         "y": [
          -492.8973265606019,
          -498.80751208102447
         ],
         "z": [
          344.24168453270005,
          351.459610369975
         ]
        },
        {
         "line": {
          "color": "rgba(188, 189, 34, 0.8)",
          "width": 4
         },
         "mode": "lines",
         "showlegend": false,
         "type": "scatter3d",
         "x": [
          929.8110099984759,
          923.6221949049666
         ],
         "y": [
          -498.80751208102447,
          -501.3679052308764
         ],
         "z": [
          351.459610369975,
          355.83487660833606
         ]
        },
        {
         "line": {
          "color": "rgba(188, 189, 34, 0.8)",
          "width": 4
         },
         "mode": "lines",
         "showlegend": false,
         "type": "scatter3d",
         "x": [
          923.6221949049666,
          916.0742644785659
         ],
         "y": [
          -501.3679052308764,
          -495.45771971045383
         ],
         "z": [
          355.83487660833606,
          348.6169507710611
         ]
        },
        {
         "color": "rgba(23, 190, 207, 0.8)",
         "name": "P11",
         "opacity": 0.8,
         "type": "mesh3d",
         "x": [
          917.8844737905604,
          925.8813948482125,
          925.7833144197396,
          917.7863933620874
         ],
         "y": [
          -503.08346345923974,
          -503.0181272921118,
          -491.01852822567935,
          -491.0838643928073
         ],
         "z": [
          350.2992430547484,
          350.08714689036685,
          350.08557385990974,
          350.2976700242913
         ]
        },
        {
         "marker": {
          "color": "red",
          "size": 3
         },
         "mode": "markers+text",
         "showlegend": false,
         "text": "",
         "textfont": {
          "size": 12
         },
         "textposition": "top center",
         "type": "scatter3d",
         "x": [
          921.83389410515
         ],
         "y": [
          -497.05099584245954
         ],
         "z": [
          350.19240845732907
         ]
        },
        {
         "line": {
          "color": "rgba(23, 190, 207, 0.8)",
          "width": 4
         },
         "mode": "lines",
         "showlegend": false,
         "type": "scatter3d",
         "x": [
          917.8844737905604,
          925.8813948482125
         ],
         "y": [
          -503.08346345923974,
          -503.0181272921118
         ],
         "z": [
          350.2992430547484,
          350.08714689036685
         ]
        },
        {
         "line": {
          "color": "rgba(23, 190, 207, 0.8)",
          "width": 4
         },
         "mode": "lines",
         "showlegend": false,
         "type": "scatter3d",
         "x": [
          925.8813948482125,
          925.7833144197396
         ],
         "y": [
          -503.0181272921118,
          -491.01852822567935
         ],
         "z": [
          350.08714689036685,
          350.08557385990974
         ]
        },
        {
         "line": {
          "color": "rgba(23, 190, 207, 0.8)",
          "width": 4
         },
         "mode": "lines",
         "showlegend": false,
         "type": "scatter3d",
         "x": [
          925.7833144197396,
          917.7863933620874
         ],
         "y": [
          -491.01852822567935,
          -491.0838643928073
         ],
         "z": [
          350.08557385990974,
          350.2976700242913
         ]
        },
        {
         "line": {
          "color": "rgba(23, 190, 207, 0.8)",
          "width": 4
         },
         "mode": "lines",
         "showlegend": false,
         "type": "scatter3d",
         "x": [
          917.7863933620874,
          917.8844737905604
         ],
         "y": [
          -491.0838643928073,
          -503.08346345923974
         ],
         "z": [
          350.2976700242913,
          350.2992430547484
         ]
        },
        {
         "line": {
          "color": "black",
          "width": 2
         },
         "mode": "lines",
         "name": "Berechnete Hakenlinie",
         "type": "scatter3d",
         "x": {
          "bdata": "squNQxBUjUCy8nPCnRONQBqf7/7sDo1AWH1a9yQIjUA/yOoAlgCNQHp7ah8G+YxA7MbFC9zwjEBavBPrh+qMQNFdo4us4YxAhHtkhYrXjECSL6zQq86MQA==",
          "dtype": "f8"
         },
         "y": {
          "bdata": "bLNv32eOf8A0HnBwv1B/wDJ9uYzhRn/AutaQRL08f8C8WG68bjJ/wIyNip5pKX/AcmLKqhcff8Dz7TGdtxR/wESfkaYeEn/AEnLYMR8Sf8CIOQTh0BB/wA==",
          "dtype": "f8"
         },
         "z": {
          "bdata": "DzC3E9lMdUAWRVufVIp1QDNBiVH6r3VAVPosHbnDdUBSA6VY38R1QMJpNEEpxnVA2r6phJTadUAPhjIoo9t1QJq2bUPY3XVAKGcWzJzgdUA8++MaFON1QA==",
          "dtype": "f8"
         }
        },
        {
         "mode": "text",
         "showlegend": false,
         "text": [
          "Pre-Position"
         ],
         "textfont": {
          "size": 10
         },
         "textposition": "top center",
         "type": "scatter3d",
         "x": [
          938.5079413478873
         ],
         "y": [
          -504.9003595698657
         ],
         "z": [
          340.8029973178645
         ]
        },
        {
         "mode": "text",
         "showlegend": false,
         "text": [
          "Loslassen"
         ],
         "textfont": {
          "size": 10
         },
         "textposition": "top center",
         "type": "scatter3d",
         "x": [
          921.83389410515
         ],
         "y": [
          -497.05099584245954
         ],
         "z": [
          350.19240845732907
         ]
        },
        {
         "color": "rgba(0,255,0,0.2)",
         "name": "optimale Trajektorie",
         "opacity": 0.8,
         "type": "mesh3d",
         "x": [
          939.6013960725819,
          943.5013926549168,
          937.4144867176273,
          933.5144901352924
         ],
         "y": [
          -503.7568892400597,
          -499.8492568229468,
          -506.0438298444864,
          -509.9514622615993
         ],
         "z": [
          333.7675987944421,
          339.5572823393783,
          347.83839586301775,
          342.0487123180816
         ]
        },
        {
         "line": {
          "color": "rgba(0,255,0,0.2)",
          "width": 3
         },
         "mode": "lines",
         "showlegend": false,
         "type": "scatter3d",
         "x": [
          939.6013960725819,
          943.5013926549168
         ],
         "y": [
          -503.7568892400597,
          -499.8492568229468
         ],
         "z": [
          333.7675987944421,
          339.5572823393783
         ]
        },
        {
         "line": {
          "color": "rgba(0,255,0,0.2)",
          "width": 3
         },
         "mode": "lines",
         "showlegend": false,
         "type": "scatter3d",
         "x": [
          943.5013926549168,
          937.4144867176273
         ],
         "y": [
          -499.8492568229468,
          -506.0438298444864
         ],
         "z": [
          339.5572823393783,
          347.83839586301775
         ]
        },
        {
         "line": {
          "color": "rgba(0,255,0,0.2)",
          "width": 3
         },
         "mode": "lines",
         "showlegend": false,
         "type": "scatter3d",
         "x": [
          937.4144867176273,
          933.5144901352924
         ],
         "y": [
          -506.0438298444864,
          -509.9514622615993
         ],
         "z": [
          347.83839586301775,
          342.0487123180816
         ]
        },
        {
         "line": {
          "color": "rgba(0,255,0,0.2)",
          "width": 3
         },
         "mode": "lines",
         "showlegend": false,
         "type": "scatter3d",
         "x": [
          933.5144901352924,
          939.6013960725819
         ],
         "y": [
          -509.9514622615993,
          -503.7568892400597
         ],
         "z": [
          342.0487123180816,
          333.7675987944421
         ]
        },
        {
         "marker": {
          "color": "green",
          "size": 4
         },
         "mode": "markers",
         "name": "Mitte P11",
         "showlegend": false,
         "type": "scatter3d",
         "x": [
          938.5079413951046
         ],
         "y": [
          -504.90035954227307
         ],
         "z": [
          340.80299732872993
         ]
        },
        {
         "color": "rgba(0,255,0,0.2)",
         "name": "optimale Trajektorie",
         "opacity": 0.8,
         "type": "mesh3d",
         "x": [
          931.500595588157,
          935.8572016669008,
          929.8962901733644,
          925.5396840946206
         ],
         "y": [
          -500.2656947602229,
          -495.9317978154749,
          -500.81314286730685,
          -505.14703981205486
         ],
         "z": [
          338.73393776485386,
          343.8561756299824,
          353.0561758827639,
          347.9339380176354
         ]
        },
        {
         "line": {
          "color": "rgba(0,255,0,0.2)",
          "width": 3
         },
         "mode": "lines",
         "showlegend": false,
         "type": "scatter3d",
         "x": [
          931.500595588157,
          935.8572016669008
         ],
         "y": [
          -500.2656947602229,
          -495.9317978154749
         ],
         "z": [
          338.73393776485386,
          343.8561756299824
         ]
        },
        {
         "line": {
          "color": "rgba(0,255,0,0.2)",
          "width": 3
         },
         "mode": "lines",
         "showlegend": false,
         "type": "scatter3d",
         "x": [
          935.8572016669008,
          929.8962901733644
         ],
         "y": [
          -495.9317978154749,
          -500.81314286730685
         ],
         "z": [
          343.8561756299824,
          353.0561758827639
         ]
        },
        {
         "line": {
          "color": "rgba(0,255,0,0.2)",
          "width": 3
         },
         "mode": "lines",
         "showlegend": false,
         "type": "scatter3d",
         "x": [
          929.8962901733644,
          925.5396840946206
         ],
         "y": [
          -500.81314286730685,
          -505.14703981205486
         ],
         "z": [
          353.0561758827639,
          347.9339380176354
         ]
        },
        {
         "line": {
          "color": "rgba(0,255,0,0.2)",
          "width": 3
         },
         "mode": "lines",
         "showlegend": false,
         "type": "scatter3d",
         "x": [
          925.5396840946206,
          931.500595588157
         ],
         "y": [
          -505.14703981205486,
          -500.2656947602229
         ],
         "z": [
          347.9339380176354,
          338.73393776485386
         ]
        },
        {
         "marker": {
          "color": "green",
          "size": 4
         },
         "mode": "markers",
         "name": "Mitte P11",
         "showlegend": false,
         "type": "scatter3d",
         "x": [
          930.6984428807607
         ],
         "y": [
          -500.5394188137649
         ],
         "z": [
          345.8950568238089
         ]
        },
        {
         "color": "rgba(0,255,0,0.2)",
         "name": "optimale Trajektorie",
         "opacity": 0.8,
         "type": "mesh3d",
         "x": [
          928.144395674982,
          930.9137966928744,
          925.6562184732732,
          922.8868174553808
         ],
         "y": [
          -496.52193601834915,
          -491.4606648592119,
          -497.98770328731007,
          -503.04897444644735
         ],
         "z": [
          341.2913833218594,
          346.83340030629586,
          355.4215107284379,
          349.8794937440015
         ]
        },
        {
         "line": {
          "color": "rgba(0,255,0,0.2)",
          "width": 3
         },
         "mode": "lines",
         "showlegend": false,
         "type": "scatter3d",
         "x": [
          928.144395674982,
          930.9137966928744
         ],
         "y": [
          -496.52193601834915,
          -491.4606648592119
         ],
         "z": [
          341.2913833218594,
          346.83340030629586
         ]
        },
        {
         "line": {
          "color": "rgba(0,255,0,0.2)",
          "width": 3
         },
         "mode": "lines",
         "showlegend": false,
         "type": "scatter3d",
         "x": [
          930.9137966928744,
          925.6562184732732
         ],
         "y": [
          -491.4606648592119,
          -497.98770328731007
         ],
         "z": [
          346.83340030629586,
          355.4215107284379
         ]
        },
        {
         "line": {
          "color": "rgba(0,255,0,0.2)",
          "width": 3
         },
         "mode": "lines",
         "showlegend": false,
         "type": "scatter3d",
         "x": [
          925.6562184732732,
          922.8868174553808
         ],
         "y": [
          -497.98770328731007,
          -503.04897444644735
         ],
         "z": [
          355.4215107284379,
          349.8794937440015
         ]
        },
        {
         "line": {
          "color": "rgba(0,255,0,0.2)",
          "width": 3
         },
         "mode": "lines",
         "showlegend": false,
         "type": "scatter3d",
         "x": [
          922.8868174553808,
          928.144395674982
         ],
         "y": [
          -503.04897444644735,
          -496.52193601834915
         ],
         "z": [
          349.8794937440015,
          341.2913833218594
         ]
        },
        {
         "marker": {
          "color": "green",
          "size": 4
         },
         "mode": "markers",
         "name": "Mitte P11",
         "showlegend": false,
         "type": "scatter3d",
         "x": [
          926.9003070741276
         ],
         "y": [
          -497.2548196528296
         ],
         "z": [
          348.35644702514867
         ]
        },
        {
         "color": "rgba(0,255,0,0.2)",
         "name": "optimale Trajektorie",
         "opacity": 0.8,
         "type": "mesh3d",
         "x": [
          924.3695178412896,
          927.112499486941,
          921.8257432865342,
          919.0827616408828
         ],
         "y": [
          -495.1695291059556,
          -490.11794396771063,
          -496.6676349266695,
          -501.71922006491445
         ],
         "z": [
          343.7103316066911,
          349.274281577951,
          357.82716163203753,
          352.26321166077764
         ]
        },
        {
         "line": {
          "color": "rgba(0,255,0,0.2)",
          "width": 3
         },
         "mode": "lines",
         "showlegend": false,
         "type": "scatter3d",
         "x": [
          924.3695178412896,
          927.112499486941
         ],
         "y": [
          -495.1695291059556,
          -490.11794396771063
         ],
         "z": [
          343.7103316066911,
          349.274281577951
         ]
        },
        {
         "line": {
          "color": "rgba(0,255,0,0.2)",
          "width": 3
         },
         "mode": "lines",
         "showlegend": false,
         "type": "scatter3d",
         "x": [
          927.112499486941,
          921.8257432865342
         ],
         "y": [
          -490.11794396771063,
          -496.6676349266695
         ],
         "z": [
          349.274281577951,
          357.82716163203753
         ]
        },
        {
         "line": {
          "color": "rgba(0,255,0,0.2)",
          "width": 3
         },
         "mode": "lines",
         "showlegend": false,
         "type": "scatter3d",
         "x": [
          921.8257432865342,
          919.0827616408828
         ],
         "y": [
          -496.6676349266695,
          -501.71922006491445
         ],
         "z": [
          357.82716163203753,
          352.26321166077764
         ]
        },
        {
         "line": {
          "color": "rgba(0,255,0,0.2)",
          "width": 3
         },
         "mode": "lines",
         "showlegend": false,
         "type": "scatter3d",
         "x": [
          919.0827616408828,
          924.3695178412896
         ],
         "y": [
          -501.71922006491445,
          -495.1695291059556
         ],
         "z": [
          352.26321166077764,
          343.7103316066911
         ]
        },
        {
         "marker": {
          "color": "green",
          "size": 4
         },
         "mode": "markers",
         "name": "Mitte P11",
         "showlegend": false,
         "type": "scatter3d",
         "x": [
          923.0976305639119
         ],
         "y": [
          -495.91858201631254
         ],
         "z": [
          350.7687466193643
         ]
        },
        {
         "color": "rgba(0,255,0,0.2)",
         "name": "optimale Trajektorie",
         "opacity": 0.8,
         "type": "mesh3d",
         "x": [
          924.3869398626379,
          924.8853449135828,
          917.6119798302458,
          917.1135747793008
         ],
         "y": [
          -491.41586480327027,
          -488.33674029272123,
          -496.9579450852322,
          -500.03706959578125
         ],
         "z": [
          346.71098361612263,
          354.0778407922683,
          358.1733246818813,
          350.8064675057356
         ]
        },
        {
         "line": {
          "color": "rgba(0,255,0,0.2)",
          "width": 3
         },
         "mode": "lines",
         "showlegend": false,
         "type": "scatter3d",
         "x": [
          924.3869398626379,
          924.8853449135828
         ],
         "y": [
          -491.41586480327027,
          -488.33674029272123
         ],
         "z": [
          346.71098361612263,
          354.0778407922683
         ]
        },
        {
         "line": {
          "color": "rgba(0,255,0,0.2)",
          "width": 3
         },
         "mode": "lines",
         "showlegend": false,
         "type": "scatter3d",
         "x": [
          924.8853449135828,
          917.6119798302458
         ],
         "y": [
          -488.33674029272123,
          -496.9579450852322
         ],
         "z": [
          354.0778407922683,
          358.1733246818813
         ]
        },
        {
         "line": {
          "color": "rgba(0,255,0,0.2)",
          "width": 3
         },
         "mode": "lines",
         "showlegend": false,
         "type": "scatter3d",
         "x": [
          917.6119798302458,
          917.1135747793008
         ],
         "y": [
          -496.9579450852322,
          -500.03706959578125
         ],
         "z": [
          358.1733246818813,
          350.8064675057356
         ]
        },
        {
         "line": {
          "color": "rgba(0,255,0,0.2)",
          "width": 3
         },
         "mode": "lines",
         "showlegend": false,
         "type": "scatter3d",
         "x": [
          917.1135747793008,
          924.3869398626379
         ],
         "y": [
          -500.03706959578125,
          -491.41586480327027
         ],
         "z": [
          350.8064675057356,
          346.71098361612263
         ]
        },
        {
         "marker": {
          "color": "green",
          "size": 4
         },
         "mode": "markers",
         "name": "Mitte P11",
         "showlegend": false,
         "type": "scatter3d",
         "x": [
          920.9994598464418
         ],
         "y": [
          -494.18690494425124
         ],
         "z": [
          352.44215414900196
         ]
        },
        {
         "line": {
          "color": "green",
          "width": 2
         },
         "mode": "lines",
         "name": "Optimale Hakenlinie",
         "type": "scatter3d",
         "x": {
          "bdata": "EgKUQxBUjUDulzhplhWNQOL9MdQz94xAvHiI8sfYjEAQ0c3k/seMQA==",
          "dtype": "f8"
         },
         "y": {
          "bdata": "RUto32eOf8B6P591oUh/wIC0xb0TFH/AGWwOg7L+fsBR8AmQ/eJ+wA==",
          "dtype": "f8"
         },
         "z": {
          "bdata": "uhq6E9lMdUAipRonUp51QFK8ywG0xXVASVFByUzsdUARnDoQEwd2QA==",
          "dtype": "f8"
         }
        },
        {
         "line": {
          "color": "gray",
          "dash": "dash"
         },
         "mode": "lines",
         "name": "Direkte Gerade Spitze -> Senke",
         "type": "scatter3d",
         "x": [
          930.4520310457648,
          921.83389410515
         ],
         "y": [
          -501.04673808857046,
          -497.05099584245954
         ],
         "z": [
          344.64565978672306,
          350.19240845732907
         ]
        },
        {
         "marker": {
          "color": "magenta",
          "size": 8
         },
         "mode": "markers",
         "name": "Spitze",
         "type": "scatter3d",
         "x": [
          930.4520310457648
         ],
         "y": [
          -501.04673808857046
         ],
         "z": [
          344.64565978672306
         ]
        },
        {
         "marker": {
          "color": "magenta",
          "size": 8
         },
         "mode": "markers",
         "name": "Senke",
         "type": "scatter3d",
         "x": [
          921.83389410515
         ],
         "y": [
          -497.05099584245954
         ],
         "z": [
          350.19240845732907
         ]
        },
        {
         "mode": "text",
         "showlegend": false,
         "text": [
          "Spitze"
         ],
         "textfont": {
          "size": 10
         },
         "textposition": "top center",
         "type": "scatter3d",
         "x": [
          930.4520310457648
         ],
         "y": [
          -501.04673808857046
         ],
         "z": [
          344.64565978672306
         ]
        },
        {
         "mode": "text",
         "showlegend": false,
         "text": [
          "Senke"
         ],
         "textfont": {
          "size": 10
         },
         "textposition": "top center",
         "type": "scatter3d",
         "x": [
          921.83389410515
         ],
         "y": [
          -497.05099584245954
         ],
         "z": [
          350.19240845732907
         ]
        }
       ],
       "layout": {
        "legend": {
         "title": {
          "text": "Legende"
         }
        },
        "scene": {
         "aspectmode": "cube",
         "camera": {
          "eye": {
           "x": -1,
           "y": -1,
           "z": -1.5
          },
          "up": {
           "x": 0,
           "y": -1,
           "z": 0
          }
         },
         "xaxis": {
          "title": {
           "text": "X"
          }
         },
         "yaxis": {
          "title": {
           "text": "Y"
          }
         },
         "zaxis": {
          "title": {
           "text": "Z"
          }
         }
        },
        "template": {
         "data": {
          "bar": [
           {
            "error_x": {
             "color": "#2a3f5f"
            },
            "error_y": {
             "color": "#2a3f5f"
            },
            "marker": {
             "line": {
              "color": "#E5ECF6",
              "width": 0.5
             },
             "pattern": {
              "fillmode": "overlay",
              "size": 10,
              "solidity": 0.2
             }
            },
            "type": "bar"
           }
          ],
          "barpolar": [
           {
            "marker": {
             "line": {
              "color": "#E5ECF6",
              "width": 0.5
             },
             "pattern": {
              "fillmode": "overlay",
              "size": 10,
              "solidity": 0.2
             }
            },
            "type": "barpolar"
           }
          ],
          "carpet": [
           {
            "aaxis": {
             "endlinecolor": "#2a3f5f",
             "gridcolor": "white",
             "linecolor": "white",
             "minorgridcolor": "white",
             "startlinecolor": "#2a3f5f"
            },
            "baxis": {
             "endlinecolor": "#2a3f5f",
             "gridcolor": "white",
             "linecolor": "white",
             "minorgridcolor": "white",
             "startlinecolor": "#2a3f5f"
            },
            "type": "carpet"
           }
          ],
          "choropleth": [
           {
            "colorbar": {
             "outlinewidth": 0,
             "ticks": ""
            },
            "type": "choropleth"
           }
          ],
          "contour": [
           {
            "colorbar": {
             "outlinewidth": 0,
             "ticks": ""
            },
            "colorscale": [
             [
              0,
              "#0d0887"
             ],
             [
              0.1111111111111111,
              "#46039f"
             ],
             [
              0.2222222222222222,
              "#7201a8"
             ],
             [
              0.3333333333333333,
              "#9c179e"
             ],
             [
              0.4444444444444444,
              "#bd3786"
             ],
             [
              0.5555555555555556,
              "#d8576b"
             ],
             [
              0.6666666666666666,
              "#ed7953"
             ],
             [
              0.7777777777777778,
              "#fb9f3a"
             ],
             [
              0.8888888888888888,
              "#fdca26"
             ],
             [
              1,
              "#f0f921"
             ]
            ],
            "type": "contour"
           }
          ],
          "contourcarpet": [
           {
            "colorbar": {
             "outlinewidth": 0,
             "ticks": ""
            },
            "type": "contourcarpet"
           }
          ],
          "heatmap": [
           {
            "colorbar": {
             "outlinewidth": 0,
             "ticks": ""
            },
            "colorscale": [
             [
              0,
              "#0d0887"
             ],
             [
              0.1111111111111111,
              "#46039f"
             ],
             [
              0.2222222222222222,
              "#7201a8"
             ],
             [
              0.3333333333333333,
              "#9c179e"
             ],
             [
              0.4444444444444444,
              "#bd3786"
             ],
             [
              0.5555555555555556,
              "#d8576b"
             ],
             [
              0.6666666666666666,
              "#ed7953"
             ],
             [
              0.7777777777777778,
              "#fb9f3a"
             ],
             [
              0.8888888888888888,
              "#fdca26"
             ],
             [
              1,
              "#f0f921"
             ]
            ],
            "type": "heatmap"
           }
          ],
          "histogram": [
           {
            "marker": {
             "pattern": {
              "fillmode": "overlay",
              "size": 10,
              "solidity": 0.2
             }
            },
            "type": "histogram"
           }
          ],
          "histogram2d": [
           {
            "colorbar": {
             "outlinewidth": 0,
             "ticks": ""
            },
            "colorscale": [
             [
              0,
              "#0d0887"
             ],
             [
              0.1111111111111111,
              "#46039f"
             ],
             [
              0.2222222222222222,
              "#7201a8"
             ],
             [
              0.3333333333333333,
              "#9c179e"
             ],
             [
              0.4444444444444444,
              "#bd3786"
             ],
             [
              0.5555555555555556,
              "#d8576b"
             ],
             [
              0.6666666666666666,
              "#ed7953"
             ],
             [
              0.7777777777777778,
              "#fb9f3a"
             ],
             [
              0.8888888888888888,
              "#fdca26"
             ],
             [
              1,
              "#f0f921"
             ]
            ],
            "type": "histogram2d"
           }
          ],
          "histogram2dcontour": [
           {
            "colorbar": {
             "outlinewidth": 0,
             "ticks": ""
            },
            "colorscale": [
             [
              0,
              "#0d0887"
             ],
             [
              0.1111111111111111,
              "#46039f"
             ],
             [
              0.2222222222222222,
              "#7201a8"
             ],
             [
              0.3333333333333333,
              "#9c179e"
             ],
             [
              0.4444444444444444,
              "#bd3786"
             ],
             [
              0.5555555555555556,
              "#d8576b"
             ],
             [
              0.6666666666666666,
              "#ed7953"
             ],
             [
              0.7777777777777778,
              "#fb9f3a"
             ],
             [
              0.8888888888888888,
              "#fdca26"
             ],
             [
              1,
              "#f0f921"
             ]
            ],
            "type": "histogram2dcontour"
           }
          ],
          "mesh3d": [
           {
            "colorbar": {
             "outlinewidth": 0,
             "ticks": ""
            },
            "type": "mesh3d"
           }
          ],
          "parcoords": [
           {
            "line": {
             "colorbar": {
              "outlinewidth": 0,
              "ticks": ""
             }
            },
            "type": "parcoords"
           }
          ],
          "pie": [
           {
            "automargin": true,
            "type": "pie"
           }
          ],
          "scatter": [
           {
            "fillpattern": {
             "fillmode": "overlay",
             "size": 10,
             "solidity": 0.2
            },
            "type": "scatter"
           }
          ],
          "scatter3d": [
           {
            "line": {
             "colorbar": {
              "outlinewidth": 0,
              "ticks": ""
             }
            },
            "marker": {
             "colorbar": {
              "outlinewidth": 0,
              "ticks": ""
             }
            },
            "type": "scatter3d"
           }
          ],
          "scattercarpet": [
           {
            "marker": {
             "colorbar": {
              "outlinewidth": 0,
              "ticks": ""
             }
            },
            "type": "scattercarpet"
           }
          ],
          "scattergeo": [
           {
            "marker": {
             "colorbar": {
              "outlinewidth": 0,
              "ticks": ""
             }
            },
            "type": "scattergeo"
           }
          ],
          "scattergl": [
           {
            "marker": {
             "colorbar": {
              "outlinewidth": 0,
              "ticks": ""
             }
            },
            "type": "scattergl"
           }
          ],
          "scattermap": [
           {
            "marker": {
             "colorbar": {
              "outlinewidth": 0,
              "ticks": ""
             }
            },
            "type": "scattermap"
           }
          ],
          "scattermapbox": [
           {
            "marker": {
             "colorbar": {
              "outlinewidth": 0,
              "ticks": ""
             }
            },
            "type": "scattermapbox"
           }
          ],
          "scatterpolar": [
           {
            "marker": {
             "colorbar": {
              "outlinewidth": 0,
              "ticks": ""
             }
            },
            "type": "scatterpolar"
           }
          ],
          "scatterpolargl": [
           {
            "marker": {
             "colorbar": {
              "outlinewidth": 0,
              "ticks": ""
             }
            },
            "type": "scatterpolargl"
           }
          ],
          "scatterternary": [
           {
            "marker": {
             "colorbar": {
              "outlinewidth": 0,
              "ticks": ""
             }
            },
            "type": "scatterternary"
           }
          ],
          "surface": [
           {
            "colorbar": {
             "outlinewidth": 0,
             "ticks": ""
            },
            "colorscale": [
             [
              0,
              "#0d0887"
             ],
             [
              0.1111111111111111,
              "#46039f"
             ],
             [
              0.2222222222222222,
              "#7201a8"
             ],
             [
              0.3333333333333333,
              "#9c179e"
             ],
             [
              0.4444444444444444,
              "#bd3786"
             ],
             [
              0.5555555555555556,
              "#d8576b"
             ],
             [
              0.6666666666666666,
              "#ed7953"
             ],
             [
              0.7777777777777778,
              "#fb9f3a"
             ],
             [
              0.8888888888888888,
              "#fdca26"
             ],
             [
              1,
              "#f0f921"
             ]
            ],
            "type": "surface"
           }
          ],
          "table": [
           {
            "cells": {
             "fill": {
              "color": "#EBF0F8"
             },
             "line": {
              "color": "white"
             }
            },
            "header": {
             "fill": {
              "color": "#C8D4E3"
             },
             "line": {
              "color": "white"
             }
            },
            "type": "table"
           }
          ]
         },
         "layout": {
          "annotationdefaults": {
           "arrowcolor": "#2a3f5f",
           "arrowhead": 0,
           "arrowwidth": 1
          },
          "autotypenumbers": "strict",
          "coloraxis": {
           "colorbar": {
            "outlinewidth": 0,
            "ticks": ""
           }
          },
          "colorscale": {
           "diverging": [
            [
             0,
             "#8e0152"
            ],
            [
             0.1,
             "#c51b7d"
            ],
            [
             0.2,
             "#de77ae"
            ],
            [
             0.3,
             "#f1b6da"
            ],
            [
             0.4,
             "#fde0ef"
            ],
            [
             0.5,
             "#f7f7f7"
            ],
            [
             0.6,
             "#e6f5d0"
            ],
            [
             0.7,
             "#b8e186"
            ],
            [
             0.8,
             "#7fbc41"
            ],
            [
             0.9,
             "#4d9221"
            ],
            [
             1,
             "#276419"
            ]
           ],
           "sequential": [
            [
             0,
             "#0d0887"
            ],
            [
             0.1111111111111111,
             "#46039f"
            ],
            [
             0.2222222222222222,
             "#7201a8"
            ],
            [
             0.3333333333333333,
             "#9c179e"
            ],
            [
             0.4444444444444444,
             "#bd3786"
            ],
            [
             0.5555555555555556,
             "#d8576b"
            ],
            [
             0.6666666666666666,
             "#ed7953"
            ],
            [
             0.7777777777777778,
             "#fb9f3a"
            ],
            [
             0.8888888888888888,
             "#fdca26"
            ],
            [
             1,
             "#f0f921"
            ]
           ],
           "sequentialminus": [
            [
             0,
             "#0d0887"
            ],
            [
             0.1111111111111111,
             "#46039f"
            ],
            [
             0.2222222222222222,
             "#7201a8"
            ],
            [
             0.3333333333333333,
             "#9c179e"
            ],
            [
             0.4444444444444444,
             "#bd3786"
            ],
            [
             0.5555555555555556,
             "#d8576b"
            ],
            [
             0.6666666666666666,
             "#ed7953"
            ],
            [
             0.7777777777777778,
             "#fb9f3a"
            ],
            [
             0.8888888888888888,
             "#fdca26"
            ],
            [
             1,
             "#f0f921"
            ]
           ]
          },
          "colorway": [
           "#636efa",
           "#EF553B",
           "#00cc96",
           "#ab63fa",
           "#FFA15A",
           "#19d3f3",
           "#FF6692",
           "#B6E880",
           "#FF97FF",
           "#FECB52"
          ],
          "font": {
           "color": "#2a3f5f"
          },
          "geo": {
           "bgcolor": "white",
           "lakecolor": "white",
           "landcolor": "#E5ECF6",
           "showlakes": true,
           "showland": true,
           "subunitcolor": "white"
          },
          "hoverlabel": {
           "align": "left"
          },
          "hovermode": "closest",
          "mapbox": {
           "style": "light"
          },
          "paper_bgcolor": "white",
          "plot_bgcolor": "#E5ECF6",
          "polar": {
           "angularaxis": {
            "gridcolor": "white",
            "linecolor": "white",
            "ticks": ""
           },
           "bgcolor": "#E5ECF6",
           "radialaxis": {
            "gridcolor": "white",
            "linecolor": "white",
            "ticks": ""
           }
          },
          "scene": {
           "xaxis": {
            "backgroundcolor": "#E5ECF6",
            "gridcolor": "white",
            "gridwidth": 2,
            "linecolor": "white",
            "showbackground": true,
            "ticks": "",
            "zerolinecolor": "white"
           },
           "yaxis": {
            "backgroundcolor": "#E5ECF6",
            "gridcolor": "white",
            "gridwidth": 2,
            "linecolor": "white",
            "showbackground": true,
            "ticks": "",
            "zerolinecolor": "white"
           },
           "zaxis": {
            "backgroundcolor": "#E5ECF6",
            "gridcolor": "white",
            "gridwidth": 2,
            "linecolor": "white",
            "showbackground": true,
            "ticks": "",
            "zerolinecolor": "white"
           }
          },
          "shapedefaults": {
           "line": {
            "color": "#2a3f5f"
           }
          },
          "ternary": {
           "aaxis": {
            "gridcolor": "white",
            "linecolor": "white",
            "ticks": ""
           },
           "baxis": {
            "gridcolor": "white",
            "linecolor": "white",
            "ticks": ""
           },
           "bgcolor": "#E5ECF6",
           "caxis": {
            "gridcolor": "white",
            "linecolor": "white",
            "ticks": ""
           }
          },
          "title": {
           "x": 0.05
          },
          "xaxis": {
           "automargin": true,
           "gridcolor": "white",
           "linecolor": "white",
           "ticks": "",
           "title": {
            "standoff": 15
           },
           "zerolinecolor": "white",
           "zerolinewidth": 2
          },
          "yaxis": {
           "automargin": true,
           "gridcolor": "white",
           "linecolor": "white",
           "ticks": "",
           "title": {
            "standoff": 15
           },
           "zerolinecolor": "white",
           "zerolinewidth": 2
          }
         }
        },
        "title": {
         "text": "Haken 23, Trajektorien-Ansatz 1"
        }
       }
      }
     },
     "metadata": {},
     "output_type": "display_data"
    },
    {
     "name": "stdout",
     "output_type": "stream",
     "text": [
      "HTML-Datei '/home/mo/Thesis/Evaluation/Trajektorientests/traj2.html' erfolgreich erstellt!\n"
     ]
    },
    {
     "data": {
      "application/vnd.plotly.v1+json": {
       "config": {
        "plotlyServerURL": "https://plot.ly"
       },
       "data": [
        {
         "color": "rgba(31, 119, 180, 0.8)",
         "name": "P1",
         "opacity": 0.8,
         "type": "mesh3d",
         "x": [
          933.3691432401333,
          940.6041443047737,
          943.6467394556412,
          936.4117383910008
         ],
         "y": [
          -503.57414335942536,
          -500.1628750014798,
          -506.22657578030606,
          -509.63784413825164
         ],
         "z": [
          335.92099930773486,
          335.78680622024416,
          345.6849953279941,
          345.8191884154848
         ]
        },
        {
         "marker": {
          "color": "red",
          "size": 3
         },
         "mode": "markers+text",
         "showlegend": false,
         "text": "",
         "textfont": {
          "size": 12
         },
         "textposition": "top center",
         "type": "scatter3d",
         "x": [
          938.5079413478873
         ],
         "y": [
          -504.9003595698657
         ],
         "z": [
          340.8029973178645
         ]
        },
        {
         "line": {
          "color": "rgba(31, 119, 180, 0.8)",
          "width": 4
         },
         "mode": "lines",
         "showlegend": false,
         "type": "scatter3d",
         "x": [
          933.3691432401333,
          940.6041443047737
         ],
         "y": [
          -503.57414335942536,
          -500.1628750014798
         ],
         "z": [
          335.92099930773486,
          335.78680622024416
         ]
        },
        {
         "line": {
          "color": "rgba(31, 119, 180, 0.8)",
          "width": 4
         },
         "mode": "lines",
         "showlegend": false,
         "type": "scatter3d",
         "x": [
          940.6041443047737,
          943.6467394556412
         ],
         "y": [
          -500.1628750014798,
          -506.22657578030606
         ],
         "z": [
          335.78680622024416,
          345.6849953279941
         ]
        },
        {
         "line": {
          "color": "rgba(31, 119, 180, 0.8)",
          "width": 4
         },
         "mode": "lines",
         "showlegend": false,
         "type": "scatter3d",
         "x": [
          943.6467394556412,
          936.4117383910008
         ],
         "y": [
          -506.22657578030606,
          -509.63784413825164
         ],
         "z": [
          345.6849953279941,
          345.8191884154848
         ]
        },
        {
         "line": {
          "color": "rgba(31, 119, 180, 0.8)",
          "width": 4
         },
         "mode": "lines",
         "showlegend": false,
         "type": "scatter3d",
         "x": [
          936.4117383910008,
          933.3691432401333
         ],
         "y": [
          -509.63784413825164,
          -503.57414335942536
         ],
         "z": [
          345.8191884154848,
          335.92099930773486
         ]
        },
        {
         "color": "rgba(174, 199, 232, 0.8)",
         "name": "P2",
         "opacity": 0.8,
         "type": "mesh3d",
         "x": [
          925.3132329380109,
          932.5482340026513,
          935.5908291535187,
          928.3558280888783
         ],
         "y": [
          -499.7205218781301,
          -496.30925352018454,
          -502.3729542990108,
          -505.7842226569564
         ],
         "z": [
          339.76366177659344,
          339.62946868910274,
          349.5276577968527,
          349.6618508843434
         ]
        },
        {
         "marker": {
          "color": "red",
          "size": 3
         },
         "mode": "markers+text",
         "showlegend": false,
         "text": "",
         "textfont": {
          "size": 12
         },
         "textposition": "top center",
         "type": "scatter3d",
         "x": [
          930.4520310457648
         ],
         "y": [
          -501.04673808857046
         ],
         "z": [
          344.64565978672306
         ]
        },
        {
         "line": {
          "color": "rgba(174, 199, 232, 0.8)",
          "width": 4
         },
         "mode": "lines",
         "showlegend": false,
         "type": "scatter3d",
         "x": [
          925.3132329380109,
          932.5482340026513
         ],
         "y": [
          -499.7205218781301,
          -496.30925352018454
         ],
         "z": [
          339.76366177659344,
          339.62946868910274
         ]
        },
        {
         "line": {
          "color": "rgba(174, 199, 232, 0.8)",
          "width": 4
         },
         "mode": "lines",
         "showlegend": false,
         "type": "scatter3d",
         "x": [
          932.5482340026513,
          935.5908291535187
         ],
         "y": [
          -496.30925352018454,
          -502.3729542990108
         ],
         "z": [
          339.62946868910274,
          349.5276577968527
         ]
        },
        {
         "line": {
          "color": "rgba(174, 199, 232, 0.8)",
          "width": 4
         },
         "mode": "lines",
         "showlegend": false,
         "type": "scatter3d",
         "x": [
          935.5908291535187,
          928.3558280888783
         ],
         "y": [
          -502.3729542990108,
          -505.7842226569564
         ],
         "z": [
          349.5276577968527,
          349.6618508843434
         ]
        },
        {
         "line": {
          "color": "rgba(174, 199, 232, 0.8)",
          "width": 4
         },
         "mode": "lines",
         "showlegend": false,
         "type": "scatter3d",
         "x": [
          928.3558280888783,
          925.3132329380109
         ],
         "y": [
          -505.7842226569564,
          -499.7205218781301
         ],
         "z": [
          349.6618508843434,
          339.76366177659344
         ]
        },
        {
         "color": "rgba(255, 187, 120, 0.8)",
         "name": "P3",
         "opacity": 0.8,
         "type": "mesh3d",
         "x": [
          924.726922519118,
          931.9619235837584,
          935.0045187346259,
          927.7695176699855
         ],
         "y": [
          -499.1038496355895,
          -495.6925812776439,
          -501.7562820564702,
          -505.16755041441576
         ],
         "z": [
          342.11661490505355,
          341.98242181756285,
          351.8806109253128,
          352.0148040128035
         ]
        },
        {
         "marker": {
          "color": "red",
          "size": 3
         },
         "mode": "markers+text",
         "showlegend": false,
         "text": "P2",
         "textfont": {
          "size": 12
         },
         "textposition": "top center",
         "type": "scatter3d",
         "x": [
          929.865720626872
         ],
         "y": [
          -500.43006584602983
         ],
         "z": [
          346.9986129151832
         ]
        },
        {
         "line": {
          "color": "rgba(255, 187, 120, 0.8)",
          "width": 4
         },
         "mode": "lines",
         "showlegend": false,
         "type": "scatter3d",
         "x": [
          924.726922519118,
          931.9619235837584
         ],
         "y": [
          -499.1038496355895,
          -495.6925812776439
         ],
         "z": [
          342.11661490505355,
          341.98242181756285
         ]
        },
        {
         "line": {
          "color": "rgba(255, 187, 120, 0.8)",
          "width": 4
         },
         "mode": "lines",
         "showlegend": false,
         "type": "scatter3d",
         "x": [
          931.9619235837584,
          935.0045187346259
         ],
         "y": [
          -495.6925812776439,
          -501.7562820564702
         ],
         "z": [
          341.98242181756285,
          351.8806109253128
         ]
        },
        {
         "line": {
          "color": "rgba(255, 187, 120, 0.8)",
          "width": 4
         },
         "mode": "lines",
         "showlegend": false,
         "type": "scatter3d",
         "x": [
          935.0045187346259,
          927.7695176699855
         ],
         "y": [
          -501.7562820564702,
          -505.16755041441576
         ],
         "z": [
          351.8806109253128,
          352.0148040128035
         ]
        },
        {
         "line": {
          "color": "rgba(255, 187, 120, 0.8)",
          "width": 4
         },
         "mode": "lines",
         "showlegend": false,
         "type": "scatter3d",
         "x": [
          927.7695176699855,
          924.726922519118
         ],
         "y": [
          -505.16755041441576,
          -499.1038496355895
         ],
         "z": [
          352.0148040128035,
          342.11661490505355
         ]
        },
        {
         "color": "rgba(152, 223, 138, 0.8)",
         "name": "P4",
         "opacity": 0.8,
         "type": "mesh3d",
         "x": [
          923.8792518065586,
          931.114252871199,
          934.1568480220665,
          926.921846957426
         ],
         "y": [
          -498.46999175710465,
          -495.0587233991591,
          -501.12242417798535,
          -504.5336925359309
         ],
         "z": [
          343.3506958296061,
          343.2165027421154,
          353.1146918498653,
          353.248884937356
         ]
        },
        {
         "marker": {
          "color": "red",
          "size": 3
         },
         "mode": "markers+text",
         "showlegend": false,
         "text": "P3",
         "textfont": {
          "size": 12
         },
         "textposition": "top center",
         "type": "scatter3d",
         "x": [
          929.0180499143125
         ],
         "y": [
          -499.796207967545
         ],
         "z": [
          348.2326938397357
         ]
        },
        {
         "line": {
          "color": "rgba(152, 223, 138, 0.8)",
          "width": 4
         },
         "mode": "lines",
         "showlegend": false,
         "type": "scatter3d",
         "x": [
          923.8792518065586,
          931.114252871199
         ],
         "y": [
          -498.46999175710465,
          -495.0587233991591
         ],
         "z": [
          343.3506958296061,
          343.2165027421154
         ]
        },
        {
         "line": {
          "color": "rgba(152, 223, 138, 0.8)",
          "width": 4
         },
         "mode": "lines",
         "showlegend": false,
         "type": "scatter3d",
         "x": [
          931.114252871199,
          934.1568480220665
         ],
         "y": [
          -495.0587233991591,
          -501.12242417798535
         ],
         "z": [
          343.2165027421154,
          353.1146918498653
         ]
        },
        {
         "line": {
          "color": "rgba(152, 223, 138, 0.8)",
          "width": 4
         },
         "mode": "lines",
         "showlegend": false,
         "type": "scatter3d",
         "x": [
          934.1568480220665,
          926.921846957426
         ],
         "y": [
          -501.12242417798535,
          -504.5336925359309
         ],
         "z": [
          353.1146918498653,
          353.248884937356
         ]
        },
        {
         "line": {
          "color": "rgba(152, 223, 138, 0.8)",
          "width": 4
         },
         "mode": "lines",
         "showlegend": false,
         "type": "scatter3d",
         "x": [
          926.921846957426,
          923.8792518065586
         ],
         "y": [
          -504.5336925359309,
          -498.46999175710465
         ],
         "z": [
          353.248884937356,
          343.3506958296061
         ]
        },
        {
         "color": "rgba(255, 152, 150, 0.8)",
         "name": "P5",
         "opacity": 0.8,
         "type": "mesh3d",
         "x": [
          922.9344458290099,
          930.1694468936503,
          933.2120420445177,
          925.9770409798773
         ],
         "y": [
          -497.8258189601543,
          -494.41455060220875,
          -500.478251381035,
          -503.8895197389806
         ],
         "z": [
          343.4225298873064,
          343.2883367998157,
          353.1865259075656,
          353.3207189950563
         ]
        },
        {
         "marker": {
          "color": "red",
          "size": 3
         },
         "mode": "markers+text",
         "showlegend": false,
         "text": "P4",
         "textfont": {
          "size": 12
         },
         "textposition": "top center",
         "type": "scatter3d",
         "x": [
          928.0732439367637
         ],
         "y": [
          -499.1520351705947
         ],
         "z": [
          348.30452789743595
         ]
        },
        {
         "line": {
          "color": "rgba(255, 152, 150, 0.8)",
          "width": 4
         },
         "mode": "lines",
         "showlegend": false,
         "type": "scatter3d",
         "x": [
          922.9344458290099,
          930.1694468936503
         ],
         "y": [
          -497.8258189601543,
          -494.41455060220875
         ],
         "z": [
          343.4225298873064,
          343.2883367998157
         ]
        },
        {
         "line": {
          "color": "rgba(255, 152, 150, 0.8)",
          "width": 4
         },
         "mode": "lines",
         "showlegend": false,
         "type": "scatter3d",
         "x": [
          930.1694468936503,
          933.2120420445177
         ],
         "y": [
          -494.41455060220875,
          -500.478251381035
         ],
         "z": [
          343.2883367998157,
          353.1865259075656
         ]
        },
        {
         "line": {
          "color": "rgba(255, 152, 150, 0.8)",
          "width": 4
         },
         "mode": "lines",
         "showlegend": false,
         "type": "scatter3d",
         "x": [
          933.2120420445177,
          925.9770409798773
         ],
         "y": [
          -500.478251381035,
          -503.8895197389806
         ],
         "z": [
          353.1865259075656,
          353.3207189950563
         ]
        },
        {
         "line": {
          "color": "rgba(255, 152, 150, 0.8)",
          "width": 4
         },
         "mode": "lines",
         "showlegend": false,
         "type": "scatter3d",
         "x": [
          925.9770409798773,
          922.9344458290099
         ],
         "y": [
          -503.8895197389806,
          -497.8258189601543
         ],
         "z": [
          353.3207189950563,
          343.4225298873064
         ]
        },
        {
         "color": "rgba(197, 176, 213, 0.8)",
         "name": "P6",
         "opacity": 0.8,
         "type": "mesh3d",
         "x": [
          921.9891915009089,
          929.2241925655493,
          932.2667877164167,
          925.0317866517763
         ],
         "y": [
          -497.2620697518765,
          -493.8508013939309,
          -499.9145021727572,
          -503.32577053070275
         ],
         "z": [
          343.50307393958,
          343.3688808520893,
          353.26706995983926,
          353.40126304732996
         ]
        },
        {
         "marker": {
          "color": "red",
          "size": 3
         },
         "mode": "markers+text",
         "showlegend": false,
         "text": "P5",
         "textfont": {
          "size": 12
         },
         "textposition": "top center",
         "type": "scatter3d",
         "x": [
          927.1279896086628
         ],
         "y": [
          -498.58828596231683
         ],
         "z": [
          348.38507194970964
         ]
        },
        {
         "line": {
          "color": "rgba(197, 176, 213, 0.8)",
          "width": 4
         },
         "mode": "lines",
         "showlegend": false,
         "type": "scatter3d",
         "x": [
          921.9891915009089,
          929.2241925655493
         ],
         "y": [
          -497.2620697518765,
          -493.8508013939309
         ],
         "z": [
          343.50307393958,
          343.3688808520893
         ]
        },
        {
         "line": {
          "color": "rgba(197, 176, 213, 0.8)",
          "width": 4
         },
         "mode": "lines",
         "showlegend": false,
         "type": "scatter3d",
         "x": [
          929.2241925655493,
          932.2667877164167
         ],
         "y": [
          -493.8508013939309,
          -499.9145021727572
         ],
         "z": [
          343.3688808520893,
          353.26706995983926
         ]
        },
        {
         "line": {
          "color": "rgba(197, 176, 213, 0.8)",
          "width": 4
         },
         "mode": "lines",
         "showlegend": false,
         "type": "scatter3d",
         "x": [
          932.2667877164167,
          925.0317866517763
         ],
         "y": [
          -499.9145021727572,
          -503.32577053070275
         ],
         "z": [
          353.26706995983926,
          353.40126304732996
         ]
        },
        {
         "line": {
          "color": "rgba(197, 176, 213, 0.8)",
          "width": 4
         },
         "mode": "lines",
         "showlegend": false,
         "type": "scatter3d",
         "x": [
          925.0317866517763,
          921.9891915009089
         ],
         "y": [
          -503.32577053070275,
          -497.2620697518765
         ],
         "z": [
          353.40126304732996,
          343.50307393958
         ]
        },
        {
         "color": "rgba(140, 86, 75, 0.8)",
         "name": "P7",
         "opacity": 0.8,
         "type": "mesh3d",
         "x": [
          920.9686462216348,
          928.2036472862752,
          931.2462424371427,
          924.0112413725022
         ],
         "y": [
          -496.6170619025096,
          -493.205793544564,
          -499.2694943233903,
          -502.68076268133586
         ],
         "z": [
          344.77926131973146,
          344.64506823224076,
          354.5432573399907,
          354.6774504274814
         ]
        },
        {
         "marker": {
          "color": "red",
          "size": 3
         },
         "mode": "markers+text",
         "showlegend": false,
         "text": "P6",
         "textfont": {
          "size": 12
         },
         "textposition": "top center",
         "type": "scatter3d",
         "x": [
          926.1074443293888
         ],
         "y": [
          -497.94327811294994
         ],
         "z": [
          349.6612593298611
         ]
        },
        {
         "line": {
          "color": "rgba(140, 86, 75, 0.8)",
          "width": 4
         },
         "mode": "lines",
         "showlegend": false,
         "type": "scatter3d",
         "x": [
          920.9686462216348,
          928.2036472862752
         ],
         "y": [
          -496.6170619025096,
          -493.205793544564
         ],
         "z": [
          344.77926131973146,
          344.64506823224076
         ]
        },
        {
         "line": {
          "color": "rgba(140, 86, 75, 0.8)",
          "width": 4
         },
         "mode": "lines",
         "showlegend": false,
         "type": "scatter3d",
         "x": [
          928.2036472862752,
          931.2462424371427
         ],
         "y": [
          -493.205793544564,
          -499.2694943233903
         ],
         "z": [
          344.64506823224076,
          354.5432573399907
         ]
        },
        {
         "line": {
          "color": "rgba(140, 86, 75, 0.8)",
          "width": 4
         },
         "mode": "lines",
         "showlegend": false,
         "type": "scatter3d",
         "x": [
          931.2462424371427,
          924.0112413725022
         ],
         "y": [
          -499.2694943233903,
          -502.68076268133586
         ],
         "z": [
          354.5432573399907,
          354.6774504274814
         ]
        },
        {
         "line": {
          "color": "rgba(140, 86, 75, 0.8)",
          "width": 4
         },
         "mode": "lines",
         "showlegend": false,
         "type": "scatter3d",
         "x": [
          924.0112413725022,
          920.9686462216348
         ],
         "y": [
          -502.68076268133586,
          -496.6170619025096
         ],
         "z": [
          354.6774504274814,
          344.77926131973146
         ]
        },
        {
         "color": "rgba(227, 119, 194, 0.8)",
         "name": "P8",
         "opacity": 0.8,
         "type": "mesh3d",
         "x": [
          920.1775682349675,
          927.4125692996079,
          930.4551644504753,
          923.2201633858349
         ],
         "y": [
          -495.96861143680417,
          -492.5573430788586,
          -498.62104385768487,
          -502.03231221563044
         ],
         "z": [
          344.84533524693336,
          344.71114215944266,
          354.6093312671926,
          354.7435243546833
         ]
        },
        {
         "marker": {
          "color": "red",
          "size": 3
         },
         "mode": "markers+text",
         "showlegend": false,
         "text": "P7",
         "textfont": {
          "size": 12
         },
         "textposition": "top center",
         "type": "scatter3d",
         "x": [
          925.3163663427214
         ],
         "y": [
          -497.2948276472446
         ],
         "z": [
          349.727333257063
         ]
        },
        {
         "line": {
          "color": "rgba(227, 119, 194, 0.8)",
          "width": 4
         },
         "mode": "lines",
         "showlegend": false,
         "type": "scatter3d",
         "x": [
          920.1775682349675,
          927.4125692996079
         ],
         "y": [
          -495.96861143680417,
          -492.5573430788586
         ],
         "z": [
          344.84533524693336,
          344.71114215944266
         ]
        },
        {
         "line": {
          "color": "rgba(227, 119, 194, 0.8)",
          "width": 4
         },
         "mode": "lines",
         "showlegend": false,
         "type": "scatter3d",
         "x": [
          927.4125692996079,
          930.4551644504753
         ],
         "y": [
          -492.5573430788586,
          -498.62104385768487
         ],
         "z": [
          344.71114215944266,
          354.6093312671926
         ]
        },
        {
         "line": {
          "color": "rgba(227, 119, 194, 0.8)",
          "width": 4
         },
         "mode": "lines",
         "showlegend": false,
         "type": "scatter3d",
         "x": [
          930.4551644504753,
          923.2201633858349
         ],
         "y": [
          -498.62104385768487,
          -502.03231221563044
         ],
         "z": [
          354.6093312671926,
          354.7435243546833
         ]
        },
        {
         "line": {
          "color": "rgba(227, 119, 194, 0.8)",
          "width": 4
         },
         "mode": "lines",
         "showlegend": false,
         "type": "scatter3d",
         "x": [
          923.2201633858349,
          920.1775682349675
         ],
         "y": [
          -502.03231221563044,
          -495.96861143680417
         ],
         "z": [
          354.7435243546833,
          344.84533524693336
         ]
        },
        {
         "color": "rgba(127, 127, 127, 0.8)",
         "name": "P9",
         "opacity": 0.8,
         "type": "mesh3d",
         "x": [
          919.0704526058811,
          926.3054536705215,
          929.3480488213889,
          922.1130477567485
         ],
         "y": [
          -495.8062668607309,
          -492.3949985027853,
          -498.4586992816116,
          -501.86996763955716
         ],
         "z": [
          344.9833006697634,
          344.8491075822727,
          354.74729669002267,
          354.88148977751337
         ]
        },
        {
         "marker": {
          "color": "red",
          "size": 3
         },
         "mode": "markers+text",
         "showlegend": false,
         "text": "P8",
         "textfont": {
          "size": 12
         },
         "textposition": "top center",
         "type": "scatter3d",
         "x": [
          924.209250713635
         ],
         "y": [
          -497.13248307117124
         ],
         "z": [
          349.86529867989304
         ]
        },
        {
         "line": {
          "color": "rgba(127, 127, 127, 0.8)",
          "width": 4
         },
         "mode": "lines",
         "showlegend": false,
         "type": "scatter3d",
         "x": [
          919.0704526058811,
          926.3054536705215
         ],
         "y": [
          -495.8062668607309,
          -492.3949985027853
         ],
         "z": [
          344.9833006697634,
          344.8491075822727
         ]
        },
        {
         "line": {
          "color": "rgba(127, 127, 127, 0.8)",
          "width": 4
         },
         "mode": "lines",
         "showlegend": false,
         "type": "scatter3d",
         "x": [
          926.3054536705215,
          929.3480488213889
         ],
         "y": [
          -492.3949985027853,
          -498.4586992816116
         ],
         "z": [
          344.8491075822727,
          354.74729669002267
         ]
        },
        {
         "line": {
          "color": "rgba(127, 127, 127, 0.8)",
          "width": 4
         },
         "mode": "lines",
         "showlegend": false,
         "type": "scatter3d",
         "x": [
          929.3480488213889,
          922.1130477567485
         ],
         "y": [
          -498.4586992816116,
          -501.86996763955716
         ],
         "z": [
          354.74729669002267,
          354.88148977751337
         ]
        },
        {
         "line": {
          "color": "rgba(127, 127, 127, 0.8)",
          "width": 4
         },
         "mode": "lines",
         "showlegend": false,
         "type": "scatter3d",
         "x": [
          922.1130477567485,
          919.0704526058811
         ],
         "y": [
          -501.86996763955716,
          -495.8062668607309
         ],
         "z": [
          354.88148977751337,
          344.9833006697634
         ]
        },
        {
         "color": "rgba(188, 189, 34, 0.8)",
         "name": "P10",
         "opacity": 0.8,
         "type": "mesh3d",
         "x": [
          917.803839130767,
          925.0388401954074,
          928.0814353462748,
          920.8464342816344
         ],
         "y": [
          -495.8063996852988,
          -492.3951313273532,
          -498.4588321061795,
          -501.8701004641251
         ],
         "z": [
          345.15628256038843,
          345.02208947289773,
          354.9202785806477,
          355.0544716681384
         ]
        },
        {
         "marker": {
          "color": "red",
          "size": 3
         },
         "mode": "markers+text",
         "showlegend": false,
         "text": "P9",
         "textfont": {
          "size": 12
         },
         "textposition": "top center",
         "type": "scatter3d",
         "x": [
          922.9426372385208
         ],
         "y": [
          -497.13261589573915
         ],
         "z": [
          350.03828057051805
         ]
        },
        {
         "line": {
          "color": "rgba(188, 189, 34, 0.8)",
          "width": 4
         },
         "mode": "lines",
         "showlegend": false,
         "type": "scatter3d",
         "x": [
          917.803839130767,
          925.0388401954074
         ],
         "y": [
          -495.8063996852988,
          -492.3951313273532
         ],
         "z": [
          345.15628256038843,
          345.02208947289773
         ]
        },
        {
         "line": {
          "color": "rgba(188, 189, 34, 0.8)",
          "width": 4
         },
         "mode": "lines",
         "showlegend": false,
         "type": "scatter3d",
         "x": [
          925.0388401954074,
          928.0814353462748
         ],
         "y": [
          -492.3951313273532,
          -498.4588321061795
         ],
         "z": [
          345.02208947289773,
          354.9202785806477
         ]
        },
        {
         "line": {
          "color": "rgba(188, 189, 34, 0.8)",
          "width": 4
         },
         "mode": "lines",
         "showlegend": false,
         "type": "scatter3d",
         "x": [
          928.0814353462748,
          920.8464342816344
         ],
         "y": [
          -498.4588321061795,
          -501.8701004641251
         ],
         "z": [
          354.9202785806477,
          355.0544716681384
         ]
        },
        {
         "line": {
          "color": "rgba(188, 189, 34, 0.8)",
          "width": 4
         },
         "mode": "lines",
         "showlegend": false,
         "type": "scatter3d",
         "x": [
          920.8464342816344,
          917.803839130767
         ],
         "y": [
          -501.8701004641251,
          -495.8063996852988
         ],
         "z": [
          355.0544716681384,
          345.15628256038843
         ]
        },
        {
         "color": "rgba(23, 190, 207, 0.8)",
         "name": "P11",
         "opacity": 0.8,
         "type": "mesh3d",
         "x": [
          916.695095997396,
          923.9300970620365,
          926.9726922129039,
          919.7376911482635
         ],
         "y": [
          -495.7247796320192,
          -492.3135112740736,
          -498.3772120528999,
          -501.78848041084547
         ],
         "z": [
          345.31041044719944,
          345.17621735970874,
          355.0744064674587,
          355.2085995549494
         ]
        },
        {
         "marker": {
          "color": "red",
          "size": 3
         },
         "mode": "markers+text",
         "showlegend": false,
         "text": "",
         "textfont": {
          "size": 12
         },
         "textposition": "top center",
         "type": "scatter3d",
         "x": [
          921.83389410515
         ],
         "y": [
          -497.05099584245954
         ],
         "z": [
          350.19240845732907
         ]
        },
        {
         "line": {
          "color": "rgba(23, 190, 207, 0.8)",
          "width": 4
         },
         "mode": "lines",
         "showlegend": false,
         "type": "scatter3d",
         "x": [
          916.695095997396,
          923.9300970620365
         ],
         "y": [
          -495.7247796320192,
          -492.3135112740736
         ],
         "z": [
          345.31041044719944,
          345.17621735970874
         ]
        },
        {
         "line": {
          "color": "rgba(23, 190, 207, 0.8)",
          "width": 4
         },
         "mode": "lines",
         "showlegend": false,
         "type": "scatter3d",
         "x": [
          923.9300970620365,
          926.9726922129039
         ],
         "y": [
          -492.3135112740736,
          -498.3772120528999
         ],
         "z": [
          345.17621735970874,
          355.0744064674587
         ]
        },
        {
         "line": {
          "color": "rgba(23, 190, 207, 0.8)",
          "width": 4
         },
         "mode": "lines",
         "showlegend": false,
         "type": "scatter3d",
         "x": [
          926.9726922129039,
          919.7376911482635
         ],
         "y": [
          -498.3772120528999,
          -501.78848041084547
         ],
         "z": [
          355.0744064674587,
          355.2085995549494
         ]
        },
        {
         "line": {
          "color": "rgba(23, 190, 207, 0.8)",
          "width": 4
         },
         "mode": "lines",
         "showlegend": false,
         "type": "scatter3d",
         "x": [
          919.7376911482635,
          916.695095997396
         ],
         "y": [
          -501.78848041084547,
          -495.7247796320192
         ],
         "z": [
          355.2085995549494,
          345.31041044719944
         ]
        },
        {
         "line": {
          "color": "black",
          "width": 2
         },
         "mode": "lines",
         "name": "Berechnete Hakenlinie",
         "type": "scatter3d",
         "x": {
          "bdata": "squNQxBUjUCx8nPCnRONQBqf7/7sDo1AWH1a9yQIjUA+yOoAlgCNQHp7ah8G+YxA7cbFC9zwjEBZvBPrh+qMQNFdo4us4YxAgntkhYrXjECSL6zQq86MQA==",
          "dtype": "f8"
         },
         "y": {
          "bdata": "bLNv32eOf8A0HnBwv1B/wDJ9uYzhRn/AutaQRL08f8C8WG68bjJ/wIyNip5pKX/AcWLKqhcff8D07TGdtxR/wESfkaYeEn/AEnLYMR8Sf8CIOQTh0BB/wA==",
          "dtype": "f8"
         },
         "z": {
          "bdata": "DzC3E9lMdUAWRVufVIp1QDNBiVH6r3VAVPosHbnDdUBQA6VY38R1QMJpNEEpxnVA2r6phJTadUAPhjIoo9t1QJq2bUPY3XVAKGcWzJzgdUA8++MaFON1QA==",
          "dtype": "f8"
         }
        },
        {
         "mode": "text",
         "showlegend": false,
         "text": [
          "Pre-Position"
         ],
         "textfont": {
          "size": 10
         },
         "textposition": "top center",
         "type": "scatter3d",
         "x": [
          938.5079413478873
         ],
         "y": [
          -504.9003595698657
         ],
         "z": [
          340.8029973178645
         ]
        },
        {
         "mode": "text",
         "showlegend": false,
         "text": [
          "Loslassen"
         ],
         "textfont": {
          "size": 10
         },
         "textposition": "top center",
         "type": "scatter3d",
         "x": [
          921.83389410515
         ],
         "y": [
          -497.05099584245954
         ],
         "z": [
          350.19240845732907
         ]
        },
        {
         "color": "rgba(0,255,0,0.2)",
         "name": "optimale Trajektorie",
         "opacity": 0.8,
         "type": "mesh3d",
         "x": [
          939.6013960725819,
          943.5013926549168,
          937.4144867176273,
          933.5144901352924
         ],
         "y": [
          -503.7568892400597,
          -499.8492568229468,
          -506.0438298444864,
          -509.9514622615993
         ],
         "z": [
          333.7675987944421,
          339.5572823393783,
          347.83839586301775,
          342.0487123180816
         ]
        },
        {
         "line": {
          "color": "rgba(0,255,0,0.2)",
          "width": 3
         },
         "mode": "lines",
         "showlegend": false,
         "type": "scatter3d",
         "x": [
          939.6013960725819,
          943.5013926549168
         ],
         "y": [
          -503.7568892400597,
          -499.8492568229468
         ],
         "z": [
          333.7675987944421,
          339.5572823393783
         ]
        },
        {
         "line": {
          "color": "rgba(0,255,0,0.2)",
          "width": 3
         },
         "mode": "lines",
         "showlegend": false,
         "type": "scatter3d",
         "x": [
          943.5013926549168,
          937.4144867176273
         ],
         "y": [
          -499.8492568229468,
          -506.0438298444864
         ],
         "z": [
          339.5572823393783,
          347.83839586301775
         ]
        },
        {
         "line": {
          "color": "rgba(0,255,0,0.2)",
          "width": 3
         },
         "mode": "lines",
         "showlegend": false,
         "type": "scatter3d",
         "x": [
          937.4144867176273,
          933.5144901352924
         ],
         "y": [
          -506.0438298444864,
          -509.9514622615993
         ],
         "z": [
          347.83839586301775,
          342.0487123180816
         ]
        },
        {
         "line": {
          "color": "rgba(0,255,0,0.2)",
          "width": 3
         },
         "mode": "lines",
         "showlegend": false,
         "type": "scatter3d",
         "x": [
          933.5144901352924,
          939.6013960725819
         ],
         "y": [
          -509.9514622615993,
          -503.7568892400597
         ],
         "z": [
          342.0487123180816,
          333.7675987944421
         ]
        },
        {
         "marker": {
          "color": "green",
          "size": 4
         },
         "mode": "markers",
         "name": "Mitte P11",
         "showlegend": false,
         "type": "scatter3d",
         "x": [
          938.5079413951046
         ],
         "y": [
          -504.90035954227307
         ],
         "z": [
          340.80299732872993
         ]
        },
        {
         "color": "rgba(0,255,0,0.2)",
         "name": "optimale Trajektorie",
         "opacity": 0.8,
         "type": "mesh3d",
         "x": [
          931.500595588157,
          935.8572016669008,
          929.8962901733644,
          925.5396840946206
         ],
         "y": [
          -500.2656947602229,
          -495.9317978154749,
          -500.81314286730685,
          -505.14703981205486
         ],
         "z": [
          338.73393776485386,
          343.8561756299824,
          353.0561758827639,
          347.9339380176354
         ]
        },
        {
         "line": {
          "color": "rgba(0,255,0,0.2)",
          "width": 3
         },
         "mode": "lines",
         "showlegend": false,
         "type": "scatter3d",
         "x": [
          931.500595588157,
          935.8572016669008
         ],
         "y": [
          -500.2656947602229,
          -495.9317978154749
         ],
         "z": [
          338.73393776485386,
          343.8561756299824
         ]
        },
        {
         "line": {
          "color": "rgba(0,255,0,0.2)",
          "width": 3
         },
         "mode": "lines",
         "showlegend": false,
         "type": "scatter3d",
         "x": [
          935.8572016669008,
          929.8962901733644
         ],
         "y": [
          -495.9317978154749,
          -500.81314286730685
         ],
         "z": [
          343.8561756299824,
          353.0561758827639
         ]
        },
        {
         "line": {
          "color": "rgba(0,255,0,0.2)",
          "width": 3
         },
         "mode": "lines",
         "showlegend": false,
         "type": "scatter3d",
         "x": [
          929.8962901733644,
          925.5396840946206
         ],
         "y": [
          -500.81314286730685,
          -505.14703981205486
         ],
         "z": [
          353.0561758827639,
          347.9339380176354
         ]
        },
        {
         "line": {
          "color": "rgba(0,255,0,0.2)",
          "width": 3
         },
         "mode": "lines",
         "showlegend": false,
         "type": "scatter3d",
         "x": [
          925.5396840946206,
          931.500595588157
         ],
         "y": [
          -505.14703981205486,
          -500.2656947602229
         ],
         "z": [
          347.9339380176354,
          338.73393776485386
         ]
        },
        {
         "marker": {
          "color": "green",
          "size": 4
         },
         "mode": "markers",
         "name": "Mitte P11",
         "showlegend": false,
         "type": "scatter3d",
         "x": [
          930.6984428807607
         ],
         "y": [
          -500.5394188137649
         ],
         "z": [
          345.8950568238089
         ]
        },
        {
         "color": "rgba(0,255,0,0.2)",
         "name": "optimale Trajektorie",
         "opacity": 0.8,
         "type": "mesh3d",
         "x": [
          928.144395674982,
          930.9137966928744,
          925.6562184732732,
          922.8868174553808
         ],
         "y": [
          -496.52193601834915,
          -491.4606648592119,
          -497.98770328731007,
          -503.04897444644735
         ],
         "z": [
          341.2913833218594,
          346.83340030629586,
          355.4215107284379,
          349.8794937440015
         ]
        },
        {
         "line": {
          "color": "rgba(0,255,0,0.2)",
          "width": 3
         },
         "mode": "lines",
         "showlegend": false,
         "type": "scatter3d",
         "x": [
          928.144395674982,
          930.9137966928744
         ],
         "y": [
          -496.52193601834915,
          -491.4606648592119
         ],
         "z": [
          341.2913833218594,
          346.83340030629586
         ]
        },
        {
         "line": {
          "color": "rgba(0,255,0,0.2)",
          "width": 3
         },
         "mode": "lines",
         "showlegend": false,
         "type": "scatter3d",
         "x": [
          930.9137966928744,
          925.6562184732732
         ],
         "y": [
          -491.4606648592119,
          -497.98770328731007
         ],
         "z": [
          346.83340030629586,
          355.4215107284379
         ]
        },
        {
         "line": {
          "color": "rgba(0,255,0,0.2)",
          "width": 3
         },
         "mode": "lines",
         "showlegend": false,
         "type": "scatter3d",
         "x": [
          925.6562184732732,
          922.8868174553808
         ],
         "y": [
          -497.98770328731007,
          -503.04897444644735
         ],
         "z": [
          355.4215107284379,
          349.8794937440015
         ]
        },
        {
         "line": {
          "color": "rgba(0,255,0,0.2)",
          "width": 3
         },
         "mode": "lines",
         "showlegend": false,
         "type": "scatter3d",
         "x": [
          922.8868174553808,
          928.144395674982
         ],
         "y": [
          -503.04897444644735,
          -496.52193601834915
         ],
         "z": [
          349.8794937440015,
          341.2913833218594
         ]
        },
        {
         "marker": {
          "color": "green",
          "size": 4
         },
         "mode": "markers",
         "name": "Mitte P11",
         "showlegend": false,
         "type": "scatter3d",
         "x": [
          926.9003070741276
         ],
         "y": [
          -497.2548196528296
         ],
         "z": [
          348.35644702514867
         ]
        },
        {
         "color": "rgba(0,255,0,0.2)",
         "name": "optimale Trajektorie",
         "opacity": 0.8,
         "type": "mesh3d",
         "x": [
          924.3695178412896,
          927.112499486941,
          921.8257432865342,
          919.0827616408828
         ],
         "y": [
          -495.1695291059556,
          -490.11794396771063,
          -496.6676349266695,
          -501.71922006491445
         ],
         "z": [
          343.7103316066911,
          349.274281577951,
          357.82716163203753,
          352.26321166077764
         ]
        },
        {
         "line": {
          "color": "rgba(0,255,0,0.2)",
          "width": 3
         },
         "mode": "lines",
         "showlegend": false,
         "type": "scatter3d",
         "x": [
          924.3695178412896,
          927.112499486941
         ],
         "y": [
          -495.1695291059556,
          -490.11794396771063
         ],
         "z": [
          343.7103316066911,
          349.274281577951
         ]
        },
        {
         "line": {
          "color": "rgba(0,255,0,0.2)",
          "width": 3
         },
         "mode": "lines",
         "showlegend": false,
         "type": "scatter3d",
         "x": [
          927.112499486941,
          921.8257432865342
         ],
         "y": [
          -490.11794396771063,
          -496.6676349266695
         ],
         "z": [
          349.274281577951,
          357.82716163203753
         ]
        },
        {
         "line": {
          "color": "rgba(0,255,0,0.2)",
          "width": 3
         },
         "mode": "lines",
         "showlegend": false,
         "type": "scatter3d",
         "x": [
          921.8257432865342,
          919.0827616408828
         ],
         "y": [
          -496.6676349266695,
          -501.71922006491445
         ],
         "z": [
          357.82716163203753,
          352.26321166077764
         ]
        },
        {
         "line": {
          "color": "rgba(0,255,0,0.2)",
          "width": 3
         },
         "mode": "lines",
         "showlegend": false,
         "type": "scatter3d",
         "x": [
          919.0827616408828,
          924.3695178412896
         ],
         "y": [
          -501.71922006491445,
          -495.1695291059556
         ],
         "z": [
          352.26321166077764,
          343.7103316066911
         ]
        },
        {
         "marker": {
          "color": "green",
          "size": 4
         },
         "mode": "markers",
         "name": "Mitte P11",
         "showlegend": false,
         "type": "scatter3d",
         "x": [
          923.0976305639119
         ],
         "y": [
          -495.91858201631254
         ],
         "z": [
          350.7687466193643
         ]
        },
        {
         "color": "rgba(0,255,0,0.2)",
         "name": "optimale Trajektorie",
         "opacity": 0.8,
         "type": "mesh3d",
         "x": [
          924.3869398626379,
          924.8853449135828,
          917.6119798302458,
          917.1135747793008
         ],
         "y": [
          -491.41586480327027,
          -488.33674029272123,
          -496.9579450852322,
          -500.03706959578125
         ],
         "z": [
          346.71098361612263,
          354.0778407922683,
          358.1733246818813,
          350.8064675057356
         ]
        },
        {
         "line": {
          "color": "rgba(0,255,0,0.2)",
          "width": 3
         },
         "mode": "lines",
         "showlegend": false,
         "type": "scatter3d",
         "x": [
          924.3869398626379,
          924.8853449135828
         ],
         "y": [
          -491.41586480327027,
          -488.33674029272123
         ],
         "z": [
          346.71098361612263,
          354.0778407922683
         ]
        },
        {
         "line": {
          "color": "rgba(0,255,0,0.2)",
          "width": 3
         },
         "mode": "lines",
         "showlegend": false,
         "type": "scatter3d",
         "x": [
          924.8853449135828,
          917.6119798302458
         ],
         "y": [
          -488.33674029272123,
          -496.9579450852322
         ],
         "z": [
          354.0778407922683,
          358.1733246818813
         ]
        },
        {
         "line": {
          "color": "rgba(0,255,0,0.2)",
          "width": 3
         },
         "mode": "lines",
         "showlegend": false,
         "type": "scatter3d",
         "x": [
          917.6119798302458,
          917.1135747793008
         ],
         "y": [
          -496.9579450852322,
          -500.03706959578125
         ],
         "z": [
          358.1733246818813,
          350.8064675057356
         ]
        },
        {
         "line": {
          "color": "rgba(0,255,0,0.2)",
          "width": 3
         },
         "mode": "lines",
         "showlegend": false,
         "type": "scatter3d",
         "x": [
          917.1135747793008,
          924.3869398626379
         ],
         "y": [
          -500.03706959578125,
          -491.41586480327027
         ],
         "z": [
          350.8064675057356,
          346.71098361612263
         ]
        },
        {
         "marker": {
          "color": "green",
          "size": 4
         },
         "mode": "markers",
         "name": "Mitte P11",
         "showlegend": false,
         "type": "scatter3d",
         "x": [
          920.9994598464418
         ],
         "y": [
          -494.18690494425124
         ],
         "z": [
          352.44215414900196
         ]
        },
        {
         "line": {
          "color": "green",
          "width": 2
         },
         "mode": "lines",
         "name": "Optimale Hakenlinie",
         "type": "scatter3d",
         "x": {
          "bdata": "EgKUQxBUjUDulzhplhWNQOL9MdQz94xAvHiI8sfYjEAQ0c3k/seMQA==",
          "dtype": "f8"
         },
         "y": {
          "bdata": "RUto32eOf8B6P591oUh/wIC0xb0TFH/AGWwOg7L+fsBR8AmQ/eJ+wA==",
          "dtype": "f8"
         },
         "z": {
          "bdata": "uhq6E9lMdUAipRonUp51QFK8ywG0xXVASVFByUzsdUARnDoQEwd2QA==",
          "dtype": "f8"
         }
        },
        {
         "line": {
          "color": "gray",
          "dash": "dash"
         },
         "mode": "lines",
         "name": "Direkte Gerade Spitze -> Senke",
         "type": "scatter3d",
         "x": [
          930.4520310457648,
          921.83389410515
         ],
         "y": [
          -501.04673808857046,
          -497.05099584245954
         ],
         "z": [
          344.64565978672306,
          350.19240845732907
         ]
        },
        {
         "marker": {
          "color": "magenta",
          "size": 8
         },
         "mode": "markers",
         "name": "Spitze",
         "type": "scatter3d",
         "x": [
          930.4520310457648
         ],
         "y": [
          -501.04673808857046
         ],
         "z": [
          344.64565978672306
         ]
        },
        {
         "marker": {
          "color": "magenta",
          "size": 8
         },
         "mode": "markers",
         "name": "Senke",
         "type": "scatter3d",
         "x": [
          921.83389410515
         ],
         "y": [
          -497.05099584245954
         ],
         "z": [
          350.19240845732907
         ]
        },
        {
         "mode": "text",
         "showlegend": false,
         "text": [
          "Spitze"
         ],
         "textfont": {
          "size": 10
         },
         "textposition": "top center",
         "type": "scatter3d",
         "x": [
          930.4520310457648
         ],
         "y": [
          -501.04673808857046
         ],
         "z": [
          344.64565978672306
         ]
        },
        {
         "mode": "text",
         "showlegend": false,
         "text": [
          "Senke"
         ],
         "textfont": {
          "size": 10
         },
         "textposition": "top center",
         "type": "scatter3d",
         "x": [
          921.83389410515
         ],
         "y": [
          -497.05099584245954
         ],
         "z": [
          350.19240845732907
         ]
        }
       ],
       "layout": {
        "legend": {
         "title": {
          "text": "Legende"
         }
        },
        "scene": {
         "aspectmode": "cube",
         "camera": {
          "eye": {
           "x": -1,
           "y": -1,
           "z": -1.5
          },
          "up": {
           "x": 0,
           "y": -1,
           "z": 0
          }
         },
         "xaxis": {
          "title": {
           "text": "X"
          }
         },
         "yaxis": {
          "title": {
           "text": "Y"
          }
         },
         "zaxis": {
          "title": {
           "text": "Z"
          }
         }
        },
        "template": {
         "data": {
          "bar": [
           {
            "error_x": {
             "color": "#2a3f5f"
            },
            "error_y": {
             "color": "#2a3f5f"
            },
            "marker": {
             "line": {
              "color": "#E5ECF6",
              "width": 0.5
             },
             "pattern": {
              "fillmode": "overlay",
              "size": 10,
              "solidity": 0.2
             }
            },
            "type": "bar"
           }
          ],
          "barpolar": [
           {
            "marker": {
             "line": {
              "color": "#E5ECF6",
              "width": 0.5
             },
             "pattern": {
              "fillmode": "overlay",
              "size": 10,
              "solidity": 0.2
             }
            },
            "type": "barpolar"
           }
          ],
          "carpet": [
           {
            "aaxis": {
             "endlinecolor": "#2a3f5f",
             "gridcolor": "white",
             "linecolor": "white",
             "minorgridcolor": "white",
             "startlinecolor": "#2a3f5f"
            },
            "baxis": {
             "endlinecolor": "#2a3f5f",
             "gridcolor": "white",
             "linecolor": "white",
             "minorgridcolor": "white",
             "startlinecolor": "#2a3f5f"
            },
            "type": "carpet"
           }
          ],
          "choropleth": [
           {
            "colorbar": {
             "outlinewidth": 0,
             "ticks": ""
            },
            "type": "choropleth"
           }
          ],
          "contour": [
           {
            "colorbar": {
             "outlinewidth": 0,
             "ticks": ""
            },
            "colorscale": [
             [
              0,
              "#0d0887"
             ],
             [
              0.1111111111111111,
              "#46039f"
             ],
             [
              0.2222222222222222,
              "#7201a8"
             ],
             [
              0.3333333333333333,
              "#9c179e"
             ],
             [
              0.4444444444444444,
              "#bd3786"
             ],
             [
              0.5555555555555556,
              "#d8576b"
             ],
             [
              0.6666666666666666,
              "#ed7953"
             ],
             [
              0.7777777777777778,
              "#fb9f3a"
             ],
             [
              0.8888888888888888,
              "#fdca26"
             ],
             [
              1,
              "#f0f921"
             ]
            ],
            "type": "contour"
           }
          ],
          "contourcarpet": [
           {
            "colorbar": {
             "outlinewidth": 0,
             "ticks": ""
            },
            "type": "contourcarpet"
           }
          ],
          "heatmap": [
           {
            "colorbar": {
             "outlinewidth": 0,
             "ticks": ""
            },
            "colorscale": [
             [
              0,
              "#0d0887"
             ],
             [
              0.1111111111111111,
              "#46039f"
             ],
             [
              0.2222222222222222,
              "#7201a8"
             ],
             [
              0.3333333333333333,
              "#9c179e"
             ],
             [
              0.4444444444444444,
              "#bd3786"
             ],
             [
              0.5555555555555556,
              "#d8576b"
             ],
             [
              0.6666666666666666,
              "#ed7953"
             ],
             [
              0.7777777777777778,
              "#fb9f3a"
             ],
             [
              0.8888888888888888,
              "#fdca26"
             ],
             [
              1,
              "#f0f921"
             ]
            ],
            "type": "heatmap"
           }
          ],
          "histogram": [
           {
            "marker": {
             "pattern": {
              "fillmode": "overlay",
              "size": 10,
              "solidity": 0.2
             }
            },
            "type": "histogram"
           }
          ],
          "histogram2d": [
           {
            "colorbar": {
             "outlinewidth": 0,
             "ticks": ""
            },
            "colorscale": [
             [
              0,
              "#0d0887"
             ],
             [
              0.1111111111111111,
              "#46039f"
             ],
             [
              0.2222222222222222,
              "#7201a8"
             ],
             [
              0.3333333333333333,
              "#9c179e"
             ],
             [
              0.4444444444444444,
              "#bd3786"
             ],
             [
              0.5555555555555556,
              "#d8576b"
             ],
             [
              0.6666666666666666,
              "#ed7953"
             ],
             [
              0.7777777777777778,
              "#fb9f3a"
             ],
             [
              0.8888888888888888,
              "#fdca26"
             ],
             [
              1,
              "#f0f921"
             ]
            ],
            "type": "histogram2d"
           }
          ],
          "histogram2dcontour": [
           {
            "colorbar": {
             "outlinewidth": 0,
             "ticks": ""
            },
            "colorscale": [
             [
              0,
              "#0d0887"
             ],
             [
              0.1111111111111111,
              "#46039f"
             ],
             [
              0.2222222222222222,
              "#7201a8"
             ],
             [
              0.3333333333333333,
              "#9c179e"
             ],
             [
              0.4444444444444444,
              "#bd3786"
             ],
             [
              0.5555555555555556,
              "#d8576b"
             ],
             [
              0.6666666666666666,
              "#ed7953"
             ],
             [
              0.7777777777777778,
              "#fb9f3a"
             ],
             [
              0.8888888888888888,
              "#fdca26"
             ],
             [
              1,
              "#f0f921"
             ]
            ],
            "type": "histogram2dcontour"
           }
          ],
          "mesh3d": [
           {
            "colorbar": {
             "outlinewidth": 0,
             "ticks": ""
            },
            "type": "mesh3d"
           }
          ],
          "parcoords": [
           {
            "line": {
             "colorbar": {
              "outlinewidth": 0,
              "ticks": ""
             }
            },
            "type": "parcoords"
           }
          ],
          "pie": [
           {
            "automargin": true,
            "type": "pie"
           }
          ],
          "scatter": [
           {
            "fillpattern": {
             "fillmode": "overlay",
             "size": 10,
             "solidity": 0.2
            },
            "type": "scatter"
           }
          ],
          "scatter3d": [
           {
            "line": {
             "colorbar": {
              "outlinewidth": 0,
              "ticks": ""
             }
            },
            "marker": {
             "colorbar": {
              "outlinewidth": 0,
              "ticks": ""
             }
            },
            "type": "scatter3d"
           }
          ],
          "scattercarpet": [
           {
            "marker": {
             "colorbar": {
              "outlinewidth": 0,
              "ticks": ""
             }
            },
            "type": "scattercarpet"
           }
          ],
          "scattergeo": [
           {
            "marker": {
             "colorbar": {
              "outlinewidth": 0,
              "ticks": ""
             }
            },
            "type": "scattergeo"
           }
          ],
          "scattergl": [
           {
            "marker": {
             "colorbar": {
              "outlinewidth": 0,
              "ticks": ""
             }
            },
            "type": "scattergl"
           }
          ],
          "scattermap": [
           {
            "marker": {
             "colorbar": {
              "outlinewidth": 0,
              "ticks": ""
             }
            },
            "type": "scattermap"
           }
          ],
          "scattermapbox": [
           {
            "marker": {
             "colorbar": {
              "outlinewidth": 0,
              "ticks": ""
             }
            },
            "type": "scattermapbox"
           }
          ],
          "scatterpolar": [
           {
            "marker": {
             "colorbar": {
              "outlinewidth": 0,
              "ticks": ""
             }
            },
            "type": "scatterpolar"
           }
          ],
          "scatterpolargl": [
           {
            "marker": {
             "colorbar": {
              "outlinewidth": 0,
              "ticks": ""
             }
            },
            "type": "scatterpolargl"
           }
          ],
          "scatterternary": [
           {
            "marker": {
             "colorbar": {
              "outlinewidth": 0,
              "ticks": ""
             }
            },
            "type": "scatterternary"
           }
          ],
          "surface": [
           {
            "colorbar": {
             "outlinewidth": 0,
             "ticks": ""
            },
            "colorscale": [
             [
              0,
              "#0d0887"
             ],
             [
              0.1111111111111111,
              "#46039f"
             ],
             [
              0.2222222222222222,
              "#7201a8"
             ],
             [
              0.3333333333333333,
              "#9c179e"
             ],
             [
              0.4444444444444444,
              "#bd3786"
             ],
             [
              0.5555555555555556,
              "#d8576b"
             ],
             [
              0.6666666666666666,
              "#ed7953"
             ],
             [
              0.7777777777777778,
              "#fb9f3a"
             ],
             [
              0.8888888888888888,
              "#fdca26"
             ],
             [
              1,
              "#f0f921"
             ]
            ],
            "type": "surface"
           }
          ],
          "table": [
           {
            "cells": {
             "fill": {
              "color": "#EBF0F8"
             },
             "line": {
              "color": "white"
             }
            },
            "header": {
             "fill": {
              "color": "#C8D4E3"
             },
             "line": {
              "color": "white"
             }
            },
            "type": "table"
           }
          ]
         },
         "layout": {
          "annotationdefaults": {
           "arrowcolor": "#2a3f5f",
           "arrowhead": 0,
           "arrowwidth": 1
          },
          "autotypenumbers": "strict",
          "coloraxis": {
           "colorbar": {
            "outlinewidth": 0,
            "ticks": ""
           }
          },
          "colorscale": {
           "diverging": [
            [
             0,
             "#8e0152"
            ],
            [
             0.1,
             "#c51b7d"
            ],
            [
             0.2,
             "#de77ae"
            ],
            [
             0.3,
             "#f1b6da"
            ],
            [
             0.4,
             "#fde0ef"
            ],
            [
             0.5,
             "#f7f7f7"
            ],
            [
             0.6,
             "#e6f5d0"
            ],
            [
             0.7,
             "#b8e186"
            ],
            [
             0.8,
             "#7fbc41"
            ],
            [
             0.9,
             "#4d9221"
            ],
            [
             1,
             "#276419"
            ]
           ],
           "sequential": [
            [
             0,
             "#0d0887"
            ],
            [
             0.1111111111111111,
             "#46039f"
            ],
            [
             0.2222222222222222,
             "#7201a8"
            ],
            [
             0.3333333333333333,
             "#9c179e"
            ],
            [
             0.4444444444444444,
             "#bd3786"
            ],
            [
             0.5555555555555556,
             "#d8576b"
            ],
            [
             0.6666666666666666,
             "#ed7953"
            ],
            [
             0.7777777777777778,
             "#fb9f3a"
            ],
            [
             0.8888888888888888,
             "#fdca26"
            ],
            [
             1,
             "#f0f921"
            ]
           ],
           "sequentialminus": [
            [
             0,
             "#0d0887"
            ],
            [
             0.1111111111111111,
             "#46039f"
            ],
            [
             0.2222222222222222,
             "#7201a8"
            ],
            [
             0.3333333333333333,
             "#9c179e"
            ],
            [
             0.4444444444444444,
             "#bd3786"
            ],
            [
             0.5555555555555556,
             "#d8576b"
            ],
            [
             0.6666666666666666,
             "#ed7953"
            ],
            [
             0.7777777777777778,
             "#fb9f3a"
            ],
            [
             0.8888888888888888,
             "#fdca26"
            ],
            [
             1,
             "#f0f921"
            ]
           ]
          },
          "colorway": [
           "#636efa",
           "#EF553B",
           "#00cc96",
           "#ab63fa",
           "#FFA15A",
           "#19d3f3",
           "#FF6692",
           "#B6E880",
           "#FF97FF",
           "#FECB52"
          ],
          "font": {
           "color": "#2a3f5f"
          },
          "geo": {
           "bgcolor": "white",
           "lakecolor": "white",
           "landcolor": "#E5ECF6",
           "showlakes": true,
           "showland": true,
           "subunitcolor": "white"
          },
          "hoverlabel": {
           "align": "left"
          },
          "hovermode": "closest",
          "mapbox": {
           "style": "light"
          },
          "paper_bgcolor": "white",
          "plot_bgcolor": "#E5ECF6",
          "polar": {
           "angularaxis": {
            "gridcolor": "white",
            "linecolor": "white",
            "ticks": ""
           },
           "bgcolor": "#E5ECF6",
           "radialaxis": {
            "gridcolor": "white",
            "linecolor": "white",
            "ticks": ""
           }
          },
          "scene": {
           "xaxis": {
            "backgroundcolor": "#E5ECF6",
            "gridcolor": "white",
            "gridwidth": 2,
            "linecolor": "white",
            "showbackground": true,
            "ticks": "",
            "zerolinecolor": "white"
           },
           "yaxis": {
            "backgroundcolor": "#E5ECF6",
            "gridcolor": "white",
            "gridwidth": 2,
            "linecolor": "white",
            "showbackground": true,
            "ticks": "",
            "zerolinecolor": "white"
           },
           "zaxis": {
            "backgroundcolor": "#E5ECF6",
            "gridcolor": "white",
            "gridwidth": 2,
            "linecolor": "white",
            "showbackground": true,
            "ticks": "",
            "zerolinecolor": "white"
           }
          },
          "shapedefaults": {
           "line": {
            "color": "#2a3f5f"
           }
          },
          "ternary": {
           "aaxis": {
            "gridcolor": "white",
            "linecolor": "white",
            "ticks": ""
           },
           "baxis": {
            "gridcolor": "white",
            "linecolor": "white",
            "ticks": ""
           },
           "bgcolor": "#E5ECF6",
           "caxis": {
            "gridcolor": "white",
            "linecolor": "white",
            "ticks": ""
           }
          },
          "title": {
           "x": 0.05
          },
          "xaxis": {
           "automargin": true,
           "gridcolor": "white",
           "linecolor": "white",
           "ticks": "",
           "title": {
            "standoff": 15
           },
           "zerolinecolor": "white",
           "zerolinewidth": 2
          },
          "yaxis": {
           "automargin": true,
           "gridcolor": "white",
           "linecolor": "white",
           "ticks": "",
           "title": {
            "standoff": 15
           },
           "zerolinecolor": "white",
           "zerolinewidth": 2
          }
         }
        },
        "title": {
         "text": "Haken 23, Trajektorien-Ansatz 2"
        }
       }
      }
     },
     "metadata": {},
     "output_type": "display_data"
    },
    {
     "name": "stdout",
     "output_type": "stream",
     "text": [
      "HTML-Datei '/home/mo/Thesis/Evaluation/Trajektorientests/traj3.html' erfolgreich erstellt!\n"
     ]
    },
    {
     "data": {
      "application/vnd.plotly.v1+json": {
       "config": {
        "plotlyServerURL": "https://plot.ly"
       },
       "data": [
        {
         "color": "rgba(31, 119, 180, 0.8)",
         "name": "P1",
         "opacity": 0.8,
         "type": "mesh3d",
         "x": [
          936.2664125697986,
          942.3009006851136,
          940.7494701259759,
          934.714982010661
         ],
         "y": [
          -504.2880423277555,
          -500.0390855204708,
          -505.51267681197595,
          -509.76163361926064
         ],
         "z": [
          333.97653290852236,
          337.06381638043615,
          347.6294617272066,
          344.5421782552928
         ]
        },
        {
         "marker": {
          "color": "red",
          "size": 3
         },
         "mode": "markers+text",
         "showlegend": false,
         "text": "",
         "textfont": {
          "size": 12
         },
         "textposition": "top center",
         "type": "scatter3d",
         "x": [
          938.5079413478874
         ],
         "y": [
          -504.9003595698657
         ],
         "z": [
          340.8029973178645
         ]
        },
        {
         "line": {
          "color": "rgba(31, 119, 180, 0.8)",
          "width": 4
         },
         "mode": "lines",
         "showlegend": false,
         "type": "scatter3d",
         "x": [
          936.2664125697986,
          942.3009006851136
         ],
         "y": [
          -504.2880423277555,
          -500.0390855204708
         ],
         "z": [
          333.97653290852236,
          337.06381638043615
         ]
        },
        {
         "line": {
          "color": "rgba(31, 119, 180, 0.8)",
          "width": 4
         },
         "mode": "lines",
         "showlegend": false,
         "type": "scatter3d",
         "x": [
          942.3009006851136,
          940.7494701259759
         ],
         "y": [
          -500.0390855204708,
          -505.51267681197595
         ],
         "z": [
          337.06381638043615,
          347.6294617272066
         ]
        },
        {
         "line": {
          "color": "rgba(31, 119, 180, 0.8)",
          "width": 4
         },
         "mode": "lines",
         "showlegend": false,
         "type": "scatter3d",
         "x": [
          940.7494701259759,
          934.714982010661
         ],
         "y": [
          -505.51267681197595,
          -509.76163361926064
         ],
         "z": [
          347.6294617272066,
          344.5421782552928
         ]
        },
        {
         "line": {
          "color": "rgba(31, 119, 180, 0.8)",
          "width": 4
         },
         "mode": "lines",
         "showlegend": false,
         "type": "scatter3d",
         "x": [
          934.714982010661,
          936.2664125697986
         ],
         "y": [
          -509.76163361926064,
          -504.2880423277555
         ],
         "z": [
          344.5421782552928,
          333.97653290852236
         ]
        },
        {
         "color": "rgba(174, 199, 232, 0.8)",
         "name": "P2",
         "opacity": 0.8,
         "type": "mesh3d",
         "x": [
          928.2105022676761,
          934.2449903829911,
          932.6935598238534,
          926.6590717085385
         ],
         "y": [
          -500.4344208464602,
          -496.18546403917554,
          -501.6590553306807,
          -505.9080121379654
         ],
         "z": [
          337.81919537738094,
          340.90647884929473,
          351.4721241960652,
          348.3848407241514
         ]
        },
        {
         "marker": {
          "color": "red",
          "size": 3
         },
         "mode": "markers+text",
         "showlegend": false,
         "text": "",
         "textfont": {
          "size": 12
         },
         "textposition": "top center",
         "type": "scatter3d",
         "x": [
          930.4520310457647
         ],
         "y": [
          -501.04673808857046
         ],
         "z": [
          344.64565978672306
         ]
        },
        {
         "line": {
          "color": "rgba(174, 199, 232, 0.8)",
          "width": 4
         },
         "mode": "lines",
         "showlegend": false,
         "type": "scatter3d",
         "x": [
          928.2105022676761,
          934.2449903829911
         ],
         "y": [
          -500.4344208464602,
          -496.18546403917554
         ],
         "z": [
          337.81919537738094,
          340.90647884929473
         ]
        },
        {
         "line": {
          "color": "rgba(174, 199, 232, 0.8)",
          "width": 4
         },
         "mode": "lines",
         "showlegend": false,
         "type": "scatter3d",
         "x": [
          934.2449903829911,
          932.6935598238534
         ],
         "y": [
          -496.18546403917554,
          -501.6590553306807
         ],
         "z": [
          340.90647884929473,
          351.4721241960652
         ]
        },
        {
         "line": {
          "color": "rgba(174, 199, 232, 0.8)",
          "width": 4
         },
         "mode": "lines",
         "showlegend": false,
         "type": "scatter3d",
         "x": [
          932.6935598238534,
          926.6590717085385
         ],
         "y": [
          -501.6590553306807,
          -505.9080121379654
         ],
         "z": [
          351.4721241960652,
          348.3848407241514
         ]
        },
        {
         "line": {
          "color": "rgba(174, 199, 232, 0.8)",
          "width": 4
         },
         "mode": "lines",
         "showlegend": false,
         "type": "scatter3d",
         "x": [
          926.6590717085385,
          928.2105022676761
         ],
         "y": [
          -505.9080121379654,
          -500.4344208464602
         ],
         "z": [
          348.3848407241514,
          337.81919537738094
         ]
        },
        {
         "color": "rgba(255, 187, 120, 0.8)",
         "name": "P3",
         "opacity": 0.8,
         "type": "mesh3d",
         "x": [
          927.6241918487833,
          933.6586799640983,
          932.1072494049606,
          926.0727612896457
         ],
         "y": [
          -499.8177486039196,
          -495.5687917966349,
          -501.04238308814007,
          -505.29133989542476
         ],
         "z": [
          340.17214850584105,
          343.25943197775484,
          353.8250773245253,
          350.7377938526115
         ]
        },
        {
         "marker": {
          "color": "red",
          "size": 3
         },
         "mode": "markers+text",
         "showlegend": false,
         "text": "P2",
         "textfont": {
          "size": 12
         },
         "textposition": "top center",
         "type": "scatter3d",
         "x": [
          929.8657206268721
         ],
         "y": [
          -500.43006584602983
         ],
         "z": [
          346.9986129151832
         ]
        },
        {
         "line": {
          "color": "rgba(255, 187, 120, 0.8)",
          "width": 4
         },
         "mode": "lines",
         "showlegend": false,
         "type": "scatter3d",
         "x": [
          927.6241918487833,
          933.6586799640983
         ],
         "y": [
          -499.8177486039196,
          -495.5687917966349
         ],
         "z": [
          340.17214850584105,
          343.25943197775484
         ]
        },
        {
         "line": {
          "color": "rgba(255, 187, 120, 0.8)",
          "width": 4
         },
         "mode": "lines",
         "showlegend": false,
         "type": "scatter3d",
         "x": [
          933.6586799640983,
          932.1072494049606
         ],
         "y": [
          -495.5687917966349,
          -501.04238308814007
         ],
         "z": [
          343.25943197775484,
          353.8250773245253
         ]
        },
        {
         "line": {
          "color": "rgba(255, 187, 120, 0.8)",
          "width": 4
         },
         "mode": "lines",
         "showlegend": false,
         "type": "scatter3d",
         "x": [
          932.1072494049606,
          926.0727612896457
         ],
         "y": [
          -501.04238308814007,
          -505.29133989542476
         ],
         "z": [
          353.8250773245253,
          350.7377938526115
         ]
        },
        {
         "line": {
          "color": "rgba(255, 187, 120, 0.8)",
          "width": 4
         },
         "mode": "lines",
         "showlegend": false,
         "type": "scatter3d",
         "x": [
          926.0727612896457,
          927.6241918487833
         ],
         "y": [
          -505.29133989542476,
          -499.8177486039196
         ],
         "z": [
          350.7377938526115,
          340.17214850584105
         ]
        },
        {
         "color": "rgba(152, 223, 138, 0.8)",
         "name": "P4",
         "opacity": 0.8,
         "type": "mesh3d",
         "x": [
          926.7765211362239,
          932.8110092515388,
          931.2595786924012,
          925.2250905770862
         ],
         "y": [
          -499.18389072543476,
          -494.9349339181501,
          -500.40852520965524,
          -504.6574820169399
         ],
         "z": [
          341.4062294303936,
          344.4935129023074,
          355.0591582490778,
          351.97187477716403
         ]
        },
        {
         "marker": {
          "color": "red",
          "size": 3
         },
         "mode": "markers+text",
         "showlegend": false,
         "text": "P3",
         "textfont": {
          "size": 12
         },
         "textposition": "top center",
         "type": "scatter3d",
         "x": [
          929.0180499143125
         ],
         "y": [
          -499.796207967545
         ],
         "z": [
          348.2326938397357
         ]
        },
        {
         "line": {
          "color": "rgba(152, 223, 138, 0.8)",
          "width": 4
         },
         "mode": "lines",
         "showlegend": false,
         "type": "scatter3d",
         "x": [
          926.7765211362239,
          932.8110092515388
         ],
         "y": [
          -499.18389072543476,
          -494.9349339181501
         ],
         "z": [
          341.4062294303936,
          344.4935129023074
         ]
        },
        {
         "line": {
          "color": "rgba(152, 223, 138, 0.8)",
          "width": 4
         },
         "mode": "lines",
         "showlegend": false,
         "type": "scatter3d",
         "x": [
          932.8110092515388,
          931.2595786924012
         ],
         "y": [
          -494.9349339181501,
          -500.40852520965524
         ],
         "z": [
          344.4935129023074,
          355.0591582490778
         ]
        },
        {
         "line": {
          "color": "rgba(152, 223, 138, 0.8)",
          "width": 4
         },
         "mode": "lines",
         "showlegend": false,
         "type": "scatter3d",
         "x": [
          931.2595786924012,
          925.2250905770862
         ],
         "y": [
          -500.40852520965524,
          -504.6574820169399
         ],
         "z": [
          355.0591582490778,
          351.97187477716403
         ]
        },
        {
         "line": {
          "color": "rgba(152, 223, 138, 0.8)",
          "width": 4
         },
         "mode": "lines",
         "showlegend": false,
         "type": "scatter3d",
         "x": [
          925.2250905770862,
          926.7765211362239
         ],
         "y": [
          -504.6574820169399,
          -499.18389072543476
         ],
         "z": [
          351.97187477716403,
          341.4062294303936
         ]
        },
        {
         "color": "rgba(255, 152, 150, 0.8)",
         "name": "P5",
         "opacity": 0.8,
         "type": "mesh3d",
         "x": [
          925.8317151586751,
          931.8662032739901,
          930.3147727148524,
          924.2802845995375
         ],
         "y": [
          -498.53971792848444,
          -494.29076112119975,
          -499.7643524127049,
          -504.0133092199896
         ],
         "z": [
          341.4780634880939,
          344.5653469600077,
          355.1309923067781,
          352.04370883486433
         ]
        },
        {
         "marker": {
          "color": "red",
          "size": 3
         },
         "mode": "markers+text",
         "showlegend": false,
         "text": "P4",
         "textfont": {
          "size": 12
         },
         "textposition": "top center",
         "type": "scatter3d",
         "x": [
          928.0732439367638
         ],
         "y": [
          -499.1520351705947
         ],
         "z": [
          348.30452789743606
         ]
        },
        {
         "line": {
          "color": "rgba(255, 152, 150, 0.8)",
          "width": 4
         },
         "mode": "lines",
         "showlegend": false,
         "type": "scatter3d",
         "x": [
          925.8317151586751,
          931.8662032739901
         ],
         "y": [
          -498.53971792848444,
          -494.29076112119975
         ],
         "z": [
          341.4780634880939,
          344.5653469600077
         ]
        },
        {
         "line": {
          "color": "rgba(255, 152, 150, 0.8)",
          "width": 4
         },
         "mode": "lines",
         "showlegend": false,
         "type": "scatter3d",
         "x": [
          931.8662032739901,
          930.3147727148524
         ],
         "y": [
          -494.29076112119975,
          -499.7643524127049
         ],
         "z": [
          344.5653469600077,
          355.1309923067781
         ]
        },
        {
         "line": {
          "color": "rgba(255, 152, 150, 0.8)",
          "width": 4
         },
         "mode": "lines",
         "showlegend": false,
         "type": "scatter3d",
         "x": [
          930.3147727148524,
          924.2802845995375
         ],
         "y": [
          -499.7643524127049,
          -504.0133092199896
         ],
         "z": [
          355.1309923067781,
          352.04370883486433
         ]
        },
        {
         "line": {
          "color": "rgba(255, 152, 150, 0.8)",
          "width": 4
         },
         "mode": "lines",
         "showlegend": false,
         "type": "scatter3d",
         "x": [
          924.2802845995375,
          925.8317151586751
         ],
         "y": [
          -504.0133092199896,
          -498.53971792848444
         ],
         "z": [
          352.04370883486433,
          341.4780634880939
         ]
        },
        {
         "color": "rgba(197, 176, 213, 0.8)",
         "name": "P6",
         "opacity": 0.8,
         "type": "mesh3d",
         "x": [
          924.8864608305742,
          930.9209489458891,
          929.3695183867515,
          923.3350302714365
         ],
         "y": [
          -497.9759687202066,
          -493.7270119129219,
          -499.20060320442707,
          -503.44956001171175
         ],
         "z": [
          341.5586075403675,
          344.6458910122813,
          355.21153635905176,
          352.12425288713797
         ]
        },
        {
         "marker": {
          "color": "red",
          "size": 3
         },
         "mode": "markers+text",
         "showlegend": false,
         "text": "P5",
         "textfont": {
          "size": 12
         },
         "textposition": "top center",
         "type": "scatter3d",
         "x": [
          927.1279896086629
         ],
         "y": [
          -498.58828596231683
         ],
         "z": [
          348.38507194970964
         ]
        },
        {
         "line": {
          "color": "rgba(197, 176, 213, 0.8)",
          "width": 4
         },
         "mode": "lines",
         "showlegend": false,
         "type": "scatter3d",
         "x": [
          924.8864608305742,
          930.9209489458891
         ],
         "y": [
          -497.9759687202066,
          -493.7270119129219
         ],
         "z": [
          341.5586075403675,
          344.6458910122813
         ]
        },
        {
         "line": {
          "color": "rgba(197, 176, 213, 0.8)",
          "width": 4
         },
         "mode": "lines",
         "showlegend": false,
         "type": "scatter3d",
         "x": [
          930.9209489458891,
          929.3695183867515
         ],
         "y": [
          -493.7270119129219,
          -499.20060320442707
         ],
         "z": [
          344.6458910122813,
          355.21153635905176
         ]
        },
        {
         "line": {
          "color": "rgba(197, 176, 213, 0.8)",
          "width": 4
         },
         "mode": "lines",
         "showlegend": false,
         "type": "scatter3d",
         "x": [
          929.3695183867515,
          923.3350302714365
         ],
         "y": [
          -499.20060320442707,
          -503.44956001171175
         ],
         "z": [
          355.21153635905176,
          352.12425288713797
         ]
        },
        {
         "line": {
          "color": "rgba(197, 176, 213, 0.8)",
          "width": 4
         },
         "mode": "lines",
         "showlegend": false,
         "type": "scatter3d",
         "x": [
          923.3350302714365,
          924.8864608305742
         ],
         "y": [
          -503.44956001171175,
          -497.9759687202066
         ],
         "z": [
          352.12425288713797,
          341.5586075403675
         ]
        },
        {
         "color": "rgba(140, 86, 75, 0.8)",
         "name": "P7",
         "opacity": 0.8,
         "type": "mesh3d",
         "x": [
          923.8659155513001,
          929.900403666615,
          928.3489731074774,
          922.3144849921624
         ],
         "y": [
          -497.3309608708397,
          -493.082004063555,
          -498.5555953550602,
          -502.80455216234486
         ],
         "z": [
          342.83479492051896,
          345.92207839243275,
          356.4877237392032,
          353.4004402672894
         ]
        },
        {
         "marker": {
          "color": "red",
          "size": 3
         },
         "mode": "markers+text",
         "showlegend": false,
         "text": "P6",
         "textfont": {
          "size": 12
         },
         "textposition": "top center",
         "type": "scatter3d",
         "x": [
          926.1074443293887
         ],
         "y": [
          -497.94327811294994
         ],
         "z": [
          349.6612593298611
         ]
        },
        {
         "line": {
          "color": "rgba(140, 86, 75, 0.8)",
          "width": 4
         },
         "mode": "lines",
         "showlegend": false,
         "type": "scatter3d",
         "x": [
          923.8659155513001,
          929.900403666615
         ],
         "y": [
          -497.3309608708397,
          -493.082004063555
         ],
         "z": [
          342.83479492051896,
          345.92207839243275
         ]
        },
        {
         "line": {
          "color": "rgba(140, 86, 75, 0.8)",
          "width": 4
         },
         "mode": "lines",
         "showlegend": false,
         "type": "scatter3d",
         "x": [
          929.900403666615,
          928.3489731074774
         ],
         "y": [
          -493.082004063555,
          -498.5555953550602
         ],
         "z": [
          345.92207839243275,
          356.4877237392032
         ]
        },
        {
         "line": {
          "color": "rgba(140, 86, 75, 0.8)",
          "width": 4
         },
         "mode": "lines",
         "showlegend": false,
         "type": "scatter3d",
         "x": [
          928.3489731074774,
          922.3144849921624
         ],
         "y": [
          -498.5555953550602,
          -502.80455216234486
         ],
         "z": [
          356.4877237392032,
          353.4004402672894
         ]
        },
        {
         "line": {
          "color": "rgba(140, 86, 75, 0.8)",
          "width": 4
         },
         "mode": "lines",
         "showlegend": false,
         "type": "scatter3d",
         "x": [
          922.3144849921624,
          923.8659155513001
         ],
         "y": [
          -502.80455216234486,
          -497.3309608708397
         ],
         "z": [
          353.4004402672894,
          342.83479492051896
         ]
        },
        {
         "color": "rgba(227, 119, 194, 0.8)",
         "name": "P8",
         "opacity": 0.8,
         "type": "mesh3d",
         "x": [
          923.0748375646327,
          929.1093256799477,
          927.55789512081,
          921.5234070054951
         ],
         "y": [
          -496.6825104051343,
          -492.4335535978496,
          -497.90714488935475,
          -502.15610169663944
         ],
         "z": [
          342.90086884772086,
          345.98815231963465,
          356.5537976664051,
          353.4665141944913
         ]
        },
        {
         "marker": {
          "color": "red",
          "size": 3
         },
         "mode": "markers+text",
         "showlegend": false,
         "text": "P7",
         "textfont": {
          "size": 12
         },
         "textposition": "top center",
         "type": "scatter3d",
         "x": [
          925.3163663427213
         ],
         "y": [
          -497.29482764724446
         ],
         "z": [
          349.727333257063
         ]
        },
        {
         "line": {
          "color": "rgba(227, 119, 194, 0.8)",
          "width": 4
         },
         "mode": "lines",
         "showlegend": false,
         "type": "scatter3d",
         "x": [
          923.0748375646327,
          929.1093256799477
         ],
         "y": [
          -496.6825104051343,
          -492.4335535978496
         ],
         "z": [
          342.90086884772086,
          345.98815231963465
         ]
        },
        {
         "line": {
          "color": "rgba(227, 119, 194, 0.8)",
          "width": 4
         },
         "mode": "lines",
         "showlegend": false,
         "type": "scatter3d",
         "x": [
          929.1093256799477,
          927.55789512081
         ],
         "y": [
          -492.4335535978496,
          -497.90714488935475
         ],
         "z": [
          345.98815231963465,
          356.5537976664051
         ]
        },
        {
         "line": {
          "color": "rgba(227, 119, 194, 0.8)",
          "width": 4
         },
         "mode": "lines",
         "showlegend": false,
         "type": "scatter3d",
         "x": [
          927.55789512081,
          921.5234070054951
         ],
         "y": [
          -497.90714488935475,
          -502.15610169663944
         ],
         "z": [
          356.5537976664051,
          353.4665141944913
         ]
        },
        {
         "line": {
          "color": "rgba(227, 119, 194, 0.8)",
          "width": 4
         },
         "mode": "lines",
         "showlegend": false,
         "type": "scatter3d",
         "x": [
          921.5234070054951,
          923.0748375646327
         ],
         "y": [
          -502.15610169663944,
          -496.6825104051343
         ],
         "z": [
          353.4665141944913,
          342.90086884772086
         ]
        },
        {
         "color": "rgba(127, 127, 127, 0.8)",
         "name": "P9",
         "opacity": 0.8,
         "type": "mesh3d",
         "x": [
          921.9677219355464,
          928.0022100508613,
          926.4507794917237,
          920.4162913764087
         ],
         "y": [
          -496.520165829061,
          -492.2712090217763,
          -497.7448003132815,
          -501.99375712056616
         ],
         "z": [
          343.0388342705509,
          346.1261177424647,
          356.69176308923517,
          353.6044796173214
         ]
        },
        {
         "marker": {
          "color": "red",
          "size": 3
         },
         "mode": "markers+text",
         "showlegend": false,
         "text": "P8",
         "textfont": {
          "size": 12
         },
         "textposition": "top center",
         "type": "scatter3d",
         "x": [
          924.2092507136349
         ],
         "y": [
          -497.13248307117124
         ],
         "z": [
          349.86529867989304
         ]
        },
        {
         "line": {
          "color": "rgba(127, 127, 127, 0.8)",
          "width": 4
         },
         "mode": "lines",
         "showlegend": false,
         "type": "scatter3d",
         "x": [
          921.9677219355464,
          928.0022100508613
         ],
         "y": [
          -496.520165829061,
          -492.2712090217763
         ],
         "z": [
          343.0388342705509,
          346.1261177424647
         ]
        },
        {
         "line": {
          "color": "rgba(127, 127, 127, 0.8)",
          "width": 4
         },
         "mode": "lines",
         "showlegend": false,
         "type": "scatter3d",
         "x": [
          928.0022100508613,
          926.4507794917237
         ],
         "y": [
          -492.2712090217763,
          -497.7448003132815
         ],
         "z": [
          346.1261177424647,
          356.69176308923517
         ]
        },
        {
         "line": {
          "color": "rgba(127, 127, 127, 0.8)",
          "width": 4
         },
         "mode": "lines",
         "showlegend": false,
         "type": "scatter3d",
         "x": [
          926.4507794917237,
          920.4162913764087
         ],
         "y": [
          -497.7448003132815,
          -501.99375712056616
         ],
         "z": [
          356.69176308923517,
          353.6044796173214
         ]
        },
        {
         "line": {
          "color": "rgba(127, 127, 127, 0.8)",
          "width": 4
         },
         "mode": "lines",
         "showlegend": false,
         "type": "scatter3d",
         "x": [
          920.4162913764087,
          921.9677219355464
         ],
         "y": [
          -501.99375712056616,
          -496.520165829061
         ],
         "z": [
          353.6044796173214,
          343.0388342705509
         ]
        },
        {
         "color": "rgba(188, 189, 34, 0.8)",
         "name": "P10",
         "opacity": 0.8,
         "type": "mesh3d",
         "x": [
          920.7011084604322,
          926.7355965757472,
          925.1841660166095,
          919.1496779012946
         ],
         "y": [
          -496.5202986536289,
          -492.2713418463442,
          -497.7449331378494,
          -501.9938899451341
         ],
         "z": [
          343.21181616117593,
          346.2990996330897,
          356.8647449798602,
          353.7774615079464
         ]
        },
        {
         "marker": {
          "color": "red",
          "size": 3
         },
         "mode": "markers+text",
         "showlegend": false,
         "text": "P9",
         "textfont": {
          "size": 12
         },
         "textposition": "top center",
         "type": "scatter3d",
         "x": [
          922.9426372385209
         ],
         "y": [
          -497.13261589573915
         ],
         "z": [
          350.03828057051805
         ]
        },
        {
         "line": {
          "color": "rgba(188, 189, 34, 0.8)",
          "width": 4
         },
         "mode": "lines",
         "showlegend": false,
         "type": "scatter3d",
         "x": [
          920.7011084604322,
          926.7355965757472
         ],
         "y": [
          -496.5202986536289,
          -492.2713418463442
         ],
         "z": [
          343.21181616117593,
          346.2990996330897
         ]
        },
        {
         "line": {
          "color": "rgba(188, 189, 34, 0.8)",
          "width": 4
         },
         "mode": "lines",
         "showlegend": false,
         "type": "scatter3d",
         "x": [
          926.7355965757472,
          925.1841660166095
         ],
         "y": [
          -492.2713418463442,
          -497.7449331378494
         ],
         "z": [
          346.2990996330897,
          356.8647449798602
         ]
        },
        {
         "line": {
          "color": "rgba(188, 189, 34, 0.8)",
          "width": 4
         },
         "mode": "lines",
         "showlegend": false,
         "type": "scatter3d",
         "x": [
          925.1841660166095,
          919.1496779012946
         ],
         "y": [
          -497.7449331378494,
          -501.9938899451341
         ],
         "z": [
          356.8647449798602,
          353.7774615079464
         ]
        },
        {
         "line": {
          "color": "rgba(188, 189, 34, 0.8)",
          "width": 4
         },
         "mode": "lines",
         "showlegend": false,
         "type": "scatter3d",
         "x": [
          919.1496779012946,
          920.7011084604322
         ],
         "y": [
          -501.9938899451341,
          -496.5202986536289
         ],
         "z": [
          353.7774615079464,
          343.21181616117593
         ]
        },
        {
         "color": "rgba(23, 190, 207, 0.8)",
         "name": "P11",
         "opacity": 0.8,
         "type": "mesh3d",
         "x": [
          919.5923653270613,
          925.6268534423763,
          924.0754228832386,
          918.0409347679237
         ],
         "y": [
          -496.4386786003493,
          -492.1897217930646,
          -497.6633130845698,
          -501.91226989185446
         ],
         "z": [
          343.36594404798694,
          346.45322751990074,
          357.0188728666712,
          353.9315893947574
         ]
        },
        {
         "marker": {
          "color": "red",
          "size": 3
         },
         "mode": "markers+text",
         "showlegend": false,
         "text": "",
         "textfont": {
          "size": 12
         },
         "textposition": "top center",
         "type": "scatter3d",
         "x": [
          921.8338941051501
         ],
         "y": [
          -497.05099584245954
         ],
         "z": [
          350.19240845732907
         ]
        },
        {
         "line": {
          "color": "rgba(23, 190, 207, 0.8)",
          "width": 4
         },
         "mode": "lines",
         "showlegend": false,
         "type": "scatter3d",
         "x": [
          919.5923653270613,
          925.6268534423763
         ],
         "y": [
          -496.4386786003493,
          -492.1897217930646
         ],
         "z": [
          343.36594404798694,
          346.45322751990074
         ]
        },
        {
         "line": {
          "color": "rgba(23, 190, 207, 0.8)",
          "width": 4
         },
         "mode": "lines",
         "showlegend": false,
         "type": "scatter3d",
         "x": [
          925.6268534423763,
          924.0754228832386
         ],
         "y": [
          -492.1897217930646,
          -497.6633130845698
         ],
         "z": [
          346.45322751990074,
          357.0188728666712
         ]
        },
        {
         "line": {
          "color": "rgba(23, 190, 207, 0.8)",
          "width": 4
         },
         "mode": "lines",
         "showlegend": false,
         "type": "scatter3d",
         "x": [
          924.0754228832386,
          918.0409347679237
         ],
         "y": [
          -497.6633130845698,
          -501.91226989185446
         ],
         "z": [
          357.0188728666712,
          353.9315893947574
         ]
        },
        {
         "line": {
          "color": "rgba(23, 190, 207, 0.8)",
          "width": 4
         },
         "mode": "lines",
         "showlegend": false,
         "type": "scatter3d",
         "x": [
          918.0409347679237,
          919.5923653270613
         ],
         "y": [
          -501.91226989185446,
          -496.4386786003493
         ],
         "z": [
          353.9315893947574,
          343.36594404798694
         ]
        },
        {
         "line": {
          "color": "black",
          "width": 2
         },
         "mode": "lines",
         "name": "Berechnete Hakenlinie",
         "type": "scatter3d",
         "x": {
          "bdata": "s6uNQxBUjUCw8nPCnRONQBuf7/7sDo1AWH1a9yQIjUA/yOoAlgCNQHt7ah8G+YxA7MbFC9zwjEBYvBPrh+qMQNBdo4us4YxAg3tkhYrXjECTL6zQq86MQA==",
          "dtype": "f8"
         },
         "y": {
          "bdata": "bLNv32eOf8A0HnBwv1B/wDJ9uYzhRn/AutaQRL08f8C8WG68bjJ/wIyNip5pKX/AcWLKqhcff8Dy7TGdtxR/wESfkaYeEn/AEnLYMR8Sf8CIOQTh0BB/wA==",
          "dtype": "f8"
         },
         "z": {
          "bdata": "DzC3E9lMdUAWRVufVIp1QDNBiVH6r3VAVPosHbnDdUBSA6VY38R1QMJpNEEpxnVA2r6phJTadUAPhjIoo9t1QJq2bUPY3XVAKGcWzJzgdUA8++MaFON1QA==",
          "dtype": "f8"
         }
        },
        {
         "mode": "text",
         "showlegend": false,
         "text": [
          "Pre-Position"
         ],
         "textfont": {
          "size": 10
         },
         "textposition": "top center",
         "type": "scatter3d",
         "x": [
          938.5079413478874
         ],
         "y": [
          -504.9003595698657
         ],
         "z": [
          340.8029973178645
         ]
        },
        {
         "mode": "text",
         "showlegend": false,
         "text": [
          "Loslassen"
         ],
         "textfont": {
          "size": 10
         },
         "textposition": "top center",
         "type": "scatter3d",
         "x": [
          921.8338941051501
         ],
         "y": [
          -497.05099584245954
         ],
         "z": [
          350.19240845732907
         ]
        },
        {
         "color": "rgba(0,255,0,0.2)",
         "name": "optimale Trajektorie",
         "opacity": 0.8,
         "type": "mesh3d",
         "x": [
          939.6013960725819,
          943.5013926549168,
          937.4144867176273,
          933.5144901352924
         ],
         "y": [
          -503.7568892400597,
          -499.8492568229468,
          -506.0438298444864,
          -509.9514622615993
         ],
         "z": [
          333.7675987944421,
          339.5572823393783,
          347.83839586301775,
          342.0487123180816
         ]
        },
        {
         "line": {
          "color": "rgba(0,255,0,0.2)",
          "width": 3
         },
         "mode": "lines",
         "showlegend": false,
         "type": "scatter3d",
         "x": [
          939.6013960725819,
          943.5013926549168
         ],
         "y": [
          -503.7568892400597,
          -499.8492568229468
         ],
         "z": [
          333.7675987944421,
          339.5572823393783
         ]
        },
        {
         "line": {
          "color": "rgba(0,255,0,0.2)",
          "width": 3
         },
         "mode": "lines",
         "showlegend": false,
         "type": "scatter3d",
         "x": [
          943.5013926549168,
          937.4144867176273
         ],
         "y": [
          -499.8492568229468,
          -506.0438298444864
         ],
         "z": [
          339.5572823393783,
          347.83839586301775
         ]
        },
        {
         "line": {
          "color": "rgba(0,255,0,0.2)",
          "width": 3
         },
         "mode": "lines",
         "showlegend": false,
         "type": "scatter3d",
         "x": [
          937.4144867176273,
          933.5144901352924
         ],
         "y": [
          -506.0438298444864,
          -509.9514622615993
         ],
         "z": [
          347.83839586301775,
          342.0487123180816
         ]
        },
        {
         "line": {
          "color": "rgba(0,255,0,0.2)",
          "width": 3
         },
         "mode": "lines",
         "showlegend": false,
         "type": "scatter3d",
         "x": [
          933.5144901352924,
          939.6013960725819
         ],
         "y": [
          -509.9514622615993,
          -503.7568892400597
         ],
         "z": [
          342.0487123180816,
          333.7675987944421
         ]
        },
        {
         "marker": {
          "color": "green",
          "size": 4
         },
         "mode": "markers",
         "name": "Mitte P11",
         "showlegend": false,
         "type": "scatter3d",
         "x": [
          938.5079413951046
         ],
         "y": [
          -504.90035954227307
         ],
         "z": [
          340.80299732872993
         ]
        },
        {
         "color": "rgba(0,255,0,0.2)",
         "name": "optimale Trajektorie",
         "opacity": 0.8,
         "type": "mesh3d",
         "x": [
          931.500595588157,
          935.8572016669008,
          929.8962901733644,
          925.5396840946206
         ],
         "y": [
          -500.2656947602229,
          -495.9317978154749,
          -500.81314286730685,
          -505.14703981205486
         ],
         "z": [
          338.73393776485386,
          343.8561756299824,
          353.0561758827639,
          347.9339380176354
         ]
        },
        {
         "line": {
          "color": "rgba(0,255,0,0.2)",
          "width": 3
         },
         "mode": "lines",
         "showlegend": false,
         "type": "scatter3d",
         "x": [
          931.500595588157,
          935.8572016669008
         ],
         "y": [
          -500.2656947602229,
          -495.9317978154749
         ],
         "z": [
          338.73393776485386,
          343.8561756299824
         ]
        },
        {
         "line": {
          "color": "rgba(0,255,0,0.2)",
          "width": 3
         },
         "mode": "lines",
         "showlegend": false,
         "type": "scatter3d",
         "x": [
          935.8572016669008,
          929.8962901733644
         ],
         "y": [
          -495.9317978154749,
          -500.81314286730685
         ],
         "z": [
          343.8561756299824,
          353.0561758827639
         ]
        },
        {
         "line": {
          "color": "rgba(0,255,0,0.2)",
          "width": 3
         },
         "mode": "lines",
         "showlegend": false,
         "type": "scatter3d",
         "x": [
          929.8962901733644,
          925.5396840946206
         ],
         "y": [
          -500.81314286730685,
          -505.14703981205486
         ],
         "z": [
          353.0561758827639,
          347.9339380176354
         ]
        },
        {
         "line": {
          "color": "rgba(0,255,0,0.2)",
          "width": 3
         },
         "mode": "lines",
         "showlegend": false,
         "type": "scatter3d",
         "x": [
          925.5396840946206,
          931.500595588157
         ],
         "y": [
          -505.14703981205486,
          -500.2656947602229
         ],
         "z": [
          347.9339380176354,
          338.73393776485386
         ]
        },
        {
         "marker": {
          "color": "green",
          "size": 4
         },
         "mode": "markers",
         "name": "Mitte P11",
         "showlegend": false,
         "type": "scatter3d",
         "x": [
          930.6984428807607
         ],
         "y": [
          -500.5394188137649
         ],
         "z": [
          345.8950568238089
         ]
        },
        {
         "color": "rgba(0,255,0,0.2)",
         "name": "optimale Trajektorie",
         "opacity": 0.8,
         "type": "mesh3d",
         "x": [
          928.144395674982,
          930.9137966928744,
          925.6562184732732,
          922.8868174553808
         ],
         "y": [
          -496.52193601834915,
          -491.4606648592119,
          -497.98770328731007,
          -503.04897444644735
         ],
         "z": [
          341.2913833218594,
          346.83340030629586,
          355.4215107284379,
          349.8794937440015
         ]
        },
        {
         "line": {
          "color": "rgba(0,255,0,0.2)",
          "width": 3
         },
         "mode": "lines",
         "showlegend": false,
         "type": "scatter3d",
         "x": [
          928.144395674982,
          930.9137966928744
         ],
         "y": [
          -496.52193601834915,
          -491.4606648592119
         ],
         "z": [
          341.2913833218594,
          346.83340030629586
         ]
        },
        {
         "line": {
          "color": "rgba(0,255,0,0.2)",
          "width": 3
         },
         "mode": "lines",
         "showlegend": false,
         "type": "scatter3d",
         "x": [
          930.9137966928744,
          925.6562184732732
         ],
         "y": [
          -491.4606648592119,
          -497.98770328731007
         ],
         "z": [
          346.83340030629586,
          355.4215107284379
         ]
        },
        {
         "line": {
          "color": "rgba(0,255,0,0.2)",
          "width": 3
         },
         "mode": "lines",
         "showlegend": false,
         "type": "scatter3d",
         "x": [
          925.6562184732732,
          922.8868174553808
         ],
         "y": [
          -497.98770328731007,
          -503.04897444644735
         ],
         "z": [
          355.4215107284379,
          349.8794937440015
         ]
        },
        {
         "line": {
          "color": "rgba(0,255,0,0.2)",
          "width": 3
         },
         "mode": "lines",
         "showlegend": false,
         "type": "scatter3d",
         "x": [
          922.8868174553808,
          928.144395674982
         ],
         "y": [
          -503.04897444644735,
          -496.52193601834915
         ],
         "z": [
          349.8794937440015,
          341.2913833218594
         ]
        },
        {
         "marker": {
          "color": "green",
          "size": 4
         },
         "mode": "markers",
         "name": "Mitte P11",
         "showlegend": false,
         "type": "scatter3d",
         "x": [
          926.9003070741276
         ],
         "y": [
          -497.2548196528296
         ],
         "z": [
          348.35644702514867
         ]
        },
        {
         "color": "rgba(0,255,0,0.2)",
         "name": "optimale Trajektorie",
         "opacity": 0.8,
         "type": "mesh3d",
         "x": [
          924.3695178412896,
          927.112499486941,
          921.8257432865342,
          919.0827616408828
         ],
         "y": [
          -495.1695291059556,
          -490.11794396771063,
          -496.6676349266695,
          -501.71922006491445
         ],
         "z": [
          343.7103316066911,
          349.274281577951,
          357.82716163203753,
          352.26321166077764
         ]
        },
        {
         "line": {
          "color": "rgba(0,255,0,0.2)",
          "width": 3
         },
         "mode": "lines",
         "showlegend": false,
         "type": "scatter3d",
         "x": [
          924.3695178412896,
          927.112499486941
         ],
         "y": [
          -495.1695291059556,
          -490.11794396771063
         ],
         "z": [
          343.7103316066911,
          349.274281577951
         ]
        },
        {
         "line": {
          "color": "rgba(0,255,0,0.2)",
          "width": 3
         },
         "mode": "lines",
         "showlegend": false,
         "type": "scatter3d",
         "x": [
          927.112499486941,
          921.8257432865342
         ],
         "y": [
          -490.11794396771063,
          -496.6676349266695
         ],
         "z": [
          349.274281577951,
          357.82716163203753
         ]
        },
        {
         "line": {
          "color": "rgba(0,255,0,0.2)",
          "width": 3
         },
         "mode": "lines",
         "showlegend": false,
         "type": "scatter3d",
         "x": [
          921.8257432865342,
          919.0827616408828
         ],
         "y": [
          -496.6676349266695,
          -501.71922006491445
         ],
         "z": [
          357.82716163203753,
          352.26321166077764
         ]
        },
        {
         "line": {
          "color": "rgba(0,255,0,0.2)",
          "width": 3
         },
         "mode": "lines",
         "showlegend": false,
         "type": "scatter3d",
         "x": [
          919.0827616408828,
          924.3695178412896
         ],
         "y": [
          -501.71922006491445,
          -495.1695291059556
         ],
         "z": [
          352.26321166077764,
          343.7103316066911
         ]
        },
        {
         "marker": {
          "color": "green",
          "size": 4
         },
         "mode": "markers",
         "name": "Mitte P11",
         "showlegend": false,
         "type": "scatter3d",
         "x": [
          923.0976305639119
         ],
         "y": [
          -495.91858201631254
         ],
         "z": [
          350.7687466193643
         ]
        },
        {
         "color": "rgba(0,255,0,0.2)",
         "name": "optimale Trajektorie",
         "opacity": 0.8,
         "type": "mesh3d",
         "x": [
          924.3869398626379,
          924.8853449135828,
          917.6119798302458,
          917.1135747793008
         ],
         "y": [
          -491.41586480327027,
          -488.33674029272123,
          -496.9579450852322,
          -500.03706959578125
         ],
         "z": [
          346.71098361612263,
          354.0778407922683,
          358.1733246818813,
          350.8064675057356
         ]
        },
        {
         "line": {
          "color": "rgba(0,255,0,0.2)",
          "width": 3
         },
         "mode": "lines",
         "showlegend": false,
         "type": "scatter3d",
         "x": [
          924.3869398626379,
          924.8853449135828
         ],
         "y": [
          -491.41586480327027,
          -488.33674029272123
         ],
         "z": [
          346.71098361612263,
          354.0778407922683
         ]
        },
        {
         "line": {
          "color": "rgba(0,255,0,0.2)",
          "width": 3
         },
         "mode": "lines",
         "showlegend": false,
         "type": "scatter3d",
         "x": [
          924.8853449135828,
          917.6119798302458
         ],
         "y": [
          -488.33674029272123,
          -496.9579450852322
         ],
         "z": [
          354.0778407922683,
          358.1733246818813
         ]
        },
        {
         "line": {
          "color": "rgba(0,255,0,0.2)",
          "width": 3
         },
         "mode": "lines",
         "showlegend": false,
         "type": "scatter3d",
         "x": [
          917.6119798302458,
          917.1135747793008
         ],
         "y": [
          -496.9579450852322,
          -500.03706959578125
         ],
         "z": [
          358.1733246818813,
          350.8064675057356
         ]
        },
        {
         "line": {
          "color": "rgba(0,255,0,0.2)",
          "width": 3
         },
         "mode": "lines",
         "showlegend": false,
         "type": "scatter3d",
         "x": [
          917.1135747793008,
          924.3869398626379
         ],
         "y": [
          -500.03706959578125,
          -491.41586480327027
         ],
         "z": [
          350.8064675057356,
          346.71098361612263
         ]
        },
        {
         "marker": {
          "color": "green",
          "size": 4
         },
         "mode": "markers",
         "name": "Mitte P11",
         "showlegend": false,
         "type": "scatter3d",
         "x": [
          920.9994598464418
         ],
         "y": [
          -494.18690494425124
         ],
         "z": [
          352.44215414900196
         ]
        },
        {
         "line": {
          "color": "green",
          "width": 2
         },
         "mode": "lines",
         "name": "Optimale Hakenlinie",
         "type": "scatter3d",
         "x": {
          "bdata": "EgKUQxBUjUDulzhplhWNQOL9MdQz94xAvHiI8sfYjEAQ0c3k/seMQA==",
          "dtype": "f8"
         },
         "y": {
          "bdata": "RUto32eOf8B6P591oUh/wIC0xb0TFH/AGWwOg7L+fsBR8AmQ/eJ+wA==",
          "dtype": "f8"
         },
         "z": {
          "bdata": "uhq6E9lMdUAipRonUp51QFK8ywG0xXVASVFByUzsdUARnDoQEwd2QA==",
          "dtype": "f8"
         }
        },
        {
         "line": {
          "color": "gray",
          "dash": "dash"
         },
         "mode": "lines",
         "name": "Direkte Gerade Spitze -> Senke",
         "type": "scatter3d",
         "x": [
          930.4520310457648,
          921.83389410515
         ],
         "y": [
          -501.04673808857046,
          -497.05099584245954
         ],
         "z": [
          344.64565978672306,
          350.19240845732907
         ]
        },
        {
         "marker": {
          "color": "magenta",
          "size": 8
         },
         "mode": "markers",
         "name": "Spitze",
         "type": "scatter3d",
         "x": [
          930.4520310457648
         ],
         "y": [
          -501.04673808857046
         ],
         "z": [
          344.64565978672306
         ]
        },
        {
         "marker": {
          "color": "magenta",
          "size": 8
         },
         "mode": "markers",
         "name": "Senke",
         "type": "scatter3d",
         "x": [
          921.83389410515
         ],
         "y": [
          -497.05099584245954
         ],
         "z": [
          350.19240845732907
         ]
        },
        {
         "mode": "text",
         "showlegend": false,
         "text": [
          "Spitze"
         ],
         "textfont": {
          "size": 10
         },
         "textposition": "top center",
         "type": "scatter3d",
         "x": [
          930.4520310457648
         ],
         "y": [
          -501.04673808857046
         ],
         "z": [
          344.64565978672306
         ]
        },
        {
         "mode": "text",
         "showlegend": false,
         "text": [
          "Senke"
         ],
         "textfont": {
          "size": 10
         },
         "textposition": "top center",
         "type": "scatter3d",
         "x": [
          921.83389410515
         ],
         "y": [
          -497.05099584245954
         ],
         "z": [
          350.19240845732907
         ]
        }
       ],
       "layout": {
        "legend": {
         "title": {
          "text": "Legende"
         }
        },
        "scene": {
         "aspectmode": "cube",
         "camera": {
          "eye": {
           "x": -1,
           "y": -1,
           "z": -1.5
          },
          "up": {
           "x": 0,
           "y": -1,
           "z": 0
          }
         },
         "xaxis": {
          "title": {
           "text": "X"
          }
         },
         "yaxis": {
          "title": {
           "text": "Y"
          }
         },
         "zaxis": {
          "title": {
           "text": "Z"
          }
         }
        },
        "template": {
         "data": {
          "bar": [
           {
            "error_x": {
             "color": "#2a3f5f"
            },
            "error_y": {
             "color": "#2a3f5f"
            },
            "marker": {
             "line": {
              "color": "#E5ECF6",
              "width": 0.5
             },
             "pattern": {
              "fillmode": "overlay",
              "size": 10,
              "solidity": 0.2
             }
            },
            "type": "bar"
           }
          ],
          "barpolar": [
           {
            "marker": {
             "line": {
              "color": "#E5ECF6",
              "width": 0.5
             },
             "pattern": {
              "fillmode": "overlay",
              "size": 10,
              "solidity": 0.2
             }
            },
            "type": "barpolar"
           }
          ],
          "carpet": [
           {
            "aaxis": {
             "endlinecolor": "#2a3f5f",
             "gridcolor": "white",
             "linecolor": "white",
             "minorgridcolor": "white",
             "startlinecolor": "#2a3f5f"
            },
            "baxis": {
             "endlinecolor": "#2a3f5f",
             "gridcolor": "white",
             "linecolor": "white",
             "minorgridcolor": "white",
             "startlinecolor": "#2a3f5f"
            },
            "type": "carpet"
           }
          ],
          "choropleth": [
           {
            "colorbar": {
             "outlinewidth": 0,
             "ticks": ""
            },
            "type": "choropleth"
           }
          ],
          "contour": [
           {
            "colorbar": {
             "outlinewidth": 0,
             "ticks": ""
            },
            "colorscale": [
             [
              0,
              "#0d0887"
             ],
             [
              0.1111111111111111,
              "#46039f"
             ],
             [
              0.2222222222222222,
              "#7201a8"
             ],
             [
              0.3333333333333333,
              "#9c179e"
             ],
             [
              0.4444444444444444,
              "#bd3786"
             ],
             [
              0.5555555555555556,
              "#d8576b"
             ],
             [
              0.6666666666666666,
              "#ed7953"
             ],
             [
              0.7777777777777778,
              "#fb9f3a"
             ],
             [
              0.8888888888888888,
              "#fdca26"
             ],
             [
              1,
              "#f0f921"
             ]
            ],
            "type": "contour"
           }
          ],
          "contourcarpet": [
           {
            "colorbar": {
             "outlinewidth": 0,
             "ticks": ""
            },
            "type": "contourcarpet"
           }
          ],
          "heatmap": [
           {
            "colorbar": {
             "outlinewidth": 0,
             "ticks": ""
            },
            "colorscale": [
             [
              0,
              "#0d0887"
             ],
             [
              0.1111111111111111,
              "#46039f"
             ],
             [
              0.2222222222222222,
              "#7201a8"
             ],
             [
              0.3333333333333333,
              "#9c179e"
             ],
             [
              0.4444444444444444,
              "#bd3786"
             ],
             [
              0.5555555555555556,
              "#d8576b"
             ],
             [
              0.6666666666666666,
              "#ed7953"
             ],
             [
              0.7777777777777778,
              "#fb9f3a"
             ],
             [
              0.8888888888888888,
              "#fdca26"
             ],
             [
              1,
              "#f0f921"
             ]
            ],
            "type": "heatmap"
           }
          ],
          "histogram": [
           {
            "marker": {
             "pattern": {
              "fillmode": "overlay",
              "size": 10,
              "solidity": 0.2
             }
            },
            "type": "histogram"
           }
          ],
          "histogram2d": [
           {
            "colorbar": {
             "outlinewidth": 0,
             "ticks": ""
            },
            "colorscale": [
             [
              0,
              "#0d0887"
             ],
             [
              0.1111111111111111,
              "#46039f"
             ],
             [
              0.2222222222222222,
              "#7201a8"
             ],
             [
              0.3333333333333333,
              "#9c179e"
             ],
             [
              0.4444444444444444,
              "#bd3786"
             ],
             [
              0.5555555555555556,
              "#d8576b"
             ],
             [
              0.6666666666666666,
              "#ed7953"
             ],
             [
              0.7777777777777778,
              "#fb9f3a"
             ],
             [
              0.8888888888888888,
              "#fdca26"
             ],
             [
              1,
              "#f0f921"
             ]
            ],
            "type": "histogram2d"
           }
          ],
          "histogram2dcontour": [
           {
            "colorbar": {
             "outlinewidth": 0,
             "ticks": ""
            },
            "colorscale": [
             [
              0,
              "#0d0887"
             ],
             [
              0.1111111111111111,
              "#46039f"
             ],
             [
              0.2222222222222222,
              "#7201a8"
             ],
             [
              0.3333333333333333,
              "#9c179e"
             ],
             [
              0.4444444444444444,
              "#bd3786"
             ],
             [
              0.5555555555555556,
              "#d8576b"
             ],
             [
              0.6666666666666666,
              "#ed7953"
             ],
             [
              0.7777777777777778,
              "#fb9f3a"
             ],
             [
              0.8888888888888888,
              "#fdca26"
             ],
             [
              1,
              "#f0f921"
             ]
            ],
            "type": "histogram2dcontour"
           }
          ],
          "mesh3d": [
           {
            "colorbar": {
             "outlinewidth": 0,
             "ticks": ""
            },
            "type": "mesh3d"
           }
          ],
          "parcoords": [
           {
            "line": {
             "colorbar": {
              "outlinewidth": 0,
              "ticks": ""
             }
            },
            "type": "parcoords"
           }
          ],
          "pie": [
           {
            "automargin": true,
            "type": "pie"
           }
          ],
          "scatter": [
           {
            "fillpattern": {
             "fillmode": "overlay",
             "size": 10,
             "solidity": 0.2
            },
            "type": "scatter"
           }
          ],
          "scatter3d": [
           {
            "line": {
             "colorbar": {
              "outlinewidth": 0,
              "ticks": ""
             }
            },
            "marker": {
             "colorbar": {
              "outlinewidth": 0,
              "ticks": ""
             }
            },
            "type": "scatter3d"
           }
          ],
          "scattercarpet": [
           {
            "marker": {
             "colorbar": {
              "outlinewidth": 0,
              "ticks": ""
             }
            },
            "type": "scattercarpet"
           }
          ],
          "scattergeo": [
           {
            "marker": {
             "colorbar": {
              "outlinewidth": 0,
              "ticks": ""
             }
            },
            "type": "scattergeo"
           }
          ],
          "scattergl": [
           {
            "marker": {
             "colorbar": {
              "outlinewidth": 0,
              "ticks": ""
             }
            },
            "type": "scattergl"
           }
          ],
          "scattermap": [
           {
            "marker": {
             "colorbar": {
              "outlinewidth": 0,
              "ticks": ""
             }
            },
            "type": "scattermap"
           }
          ],
          "scattermapbox": [
           {
            "marker": {
             "colorbar": {
              "outlinewidth": 0,
              "ticks": ""
             }
            },
            "type": "scattermapbox"
           }
          ],
          "scatterpolar": [
           {
            "marker": {
             "colorbar": {
              "outlinewidth": 0,
              "ticks": ""
             }
            },
            "type": "scatterpolar"
           }
          ],
          "scatterpolargl": [
           {
            "marker": {
             "colorbar": {
              "outlinewidth": 0,
              "ticks": ""
             }
            },
            "type": "scatterpolargl"
           }
          ],
          "scatterternary": [
           {
            "marker": {
             "colorbar": {
              "outlinewidth": 0,
              "ticks": ""
             }
            },
            "type": "scatterternary"
           }
          ],
          "surface": [
           {
            "colorbar": {
             "outlinewidth": 0,
             "ticks": ""
            },
            "colorscale": [
             [
              0,
              "#0d0887"
             ],
             [
              0.1111111111111111,
              "#46039f"
             ],
             [
              0.2222222222222222,
              "#7201a8"
             ],
             [
              0.3333333333333333,
              "#9c179e"
             ],
             [
              0.4444444444444444,
              "#bd3786"
             ],
             [
              0.5555555555555556,
              "#d8576b"
             ],
             [
              0.6666666666666666,
              "#ed7953"
             ],
             [
              0.7777777777777778,
              "#fb9f3a"
             ],
             [
              0.8888888888888888,
              "#fdca26"
             ],
             [
              1,
              "#f0f921"
             ]
            ],
            "type": "surface"
           }
          ],
          "table": [
           {
            "cells": {
             "fill": {
              "color": "#EBF0F8"
             },
             "line": {
              "color": "white"
             }
            },
            "header": {
             "fill": {
              "color": "#C8D4E3"
             },
             "line": {
              "color": "white"
             }
            },
            "type": "table"
           }
          ]
         },
         "layout": {
          "annotationdefaults": {
           "arrowcolor": "#2a3f5f",
           "arrowhead": 0,
           "arrowwidth": 1
          },
          "autotypenumbers": "strict",
          "coloraxis": {
           "colorbar": {
            "outlinewidth": 0,
            "ticks": ""
           }
          },
          "colorscale": {
           "diverging": [
            [
             0,
             "#8e0152"
            ],
            [
             0.1,
             "#c51b7d"
            ],
            [
             0.2,
             "#de77ae"
            ],
            [
             0.3,
             "#f1b6da"
            ],
            [
             0.4,
             "#fde0ef"
            ],
            [
             0.5,
             "#f7f7f7"
            ],
            [
             0.6,
             "#e6f5d0"
            ],
            [
             0.7,
             "#b8e186"
            ],
            [
             0.8,
             "#7fbc41"
            ],
            [
             0.9,
             "#4d9221"
            ],
            [
             1,
             "#276419"
            ]
           ],
           "sequential": [
            [
             0,
             "#0d0887"
            ],
            [
             0.1111111111111111,
             "#46039f"
            ],
            [
             0.2222222222222222,
             "#7201a8"
            ],
            [
             0.3333333333333333,
             "#9c179e"
            ],
            [
             0.4444444444444444,
             "#bd3786"
            ],
            [
             0.5555555555555556,
             "#d8576b"
            ],
            [
             0.6666666666666666,
             "#ed7953"
            ],
            [
             0.7777777777777778,
             "#fb9f3a"
            ],
            [
             0.8888888888888888,
             "#fdca26"
            ],
            [
             1,
             "#f0f921"
            ]
           ],
           "sequentialminus": [
            [
             0,
             "#0d0887"
            ],
            [
             0.1111111111111111,
             "#46039f"
            ],
            [
             0.2222222222222222,
             "#7201a8"
            ],
            [
             0.3333333333333333,
             "#9c179e"
            ],
            [
             0.4444444444444444,
             "#bd3786"
            ],
            [
             0.5555555555555556,
             "#d8576b"
            ],
            [
             0.6666666666666666,
             "#ed7953"
            ],
            [
             0.7777777777777778,
             "#fb9f3a"
            ],
            [
             0.8888888888888888,
             "#fdca26"
            ],
            [
             1,
             "#f0f921"
            ]
           ]
          },
          "colorway": [
           "#636efa",
           "#EF553B",
           "#00cc96",
           "#ab63fa",
           "#FFA15A",
           "#19d3f3",
           "#FF6692",
           "#B6E880",
           "#FF97FF",
           "#FECB52"
          ],
          "font": {
           "color": "#2a3f5f"
          },
          "geo": {
           "bgcolor": "white",
           "lakecolor": "white",
           "landcolor": "#E5ECF6",
           "showlakes": true,
           "showland": true,
           "subunitcolor": "white"
          },
          "hoverlabel": {
           "align": "left"
          },
          "hovermode": "closest",
          "mapbox": {
           "style": "light"
          },
          "paper_bgcolor": "white",
          "plot_bgcolor": "#E5ECF6",
          "polar": {
           "angularaxis": {
            "gridcolor": "white",
            "linecolor": "white",
            "ticks": ""
           },
           "bgcolor": "#E5ECF6",
           "radialaxis": {
            "gridcolor": "white",
            "linecolor": "white",
            "ticks": ""
           }
          },
          "scene": {
           "xaxis": {
            "backgroundcolor": "#E5ECF6",
            "gridcolor": "white",
            "gridwidth": 2,
            "linecolor": "white",
            "showbackground": true,
            "ticks": "",
            "zerolinecolor": "white"
           },
           "yaxis": {
            "backgroundcolor": "#E5ECF6",
            "gridcolor": "white",
            "gridwidth": 2,
            "linecolor": "white",
            "showbackground": true,
            "ticks": "",
            "zerolinecolor": "white"
           },
           "zaxis": {
            "backgroundcolor": "#E5ECF6",
            "gridcolor": "white",
            "gridwidth": 2,
            "linecolor": "white",
            "showbackground": true,
            "ticks": "",
            "zerolinecolor": "white"
           }
          },
          "shapedefaults": {
           "line": {
            "color": "#2a3f5f"
           }
          },
          "ternary": {
           "aaxis": {
            "gridcolor": "white",
            "linecolor": "white",
            "ticks": ""
           },
           "baxis": {
            "gridcolor": "white",
            "linecolor": "white",
            "ticks": ""
           },
           "bgcolor": "#E5ECF6",
           "caxis": {
            "gridcolor": "white",
            "linecolor": "white",
            "ticks": ""
           }
          },
          "title": {
           "x": 0.05
          },
          "xaxis": {
           "automargin": true,
           "gridcolor": "white",
           "linecolor": "white",
           "ticks": "",
           "title": {
            "standoff": 15
           },
           "zerolinecolor": "white",
           "zerolinewidth": 2
          },
          "yaxis": {
           "automargin": true,
           "gridcolor": "white",
           "linecolor": "white",
           "ticks": "",
           "title": {
            "standoff": 15
           },
           "zerolinecolor": "white",
           "zerolinewidth": 2
          }
         }
        },
        "title": {
         "text": "Haken 23, Trajektorien-Ansatz 3"
        }
       }
      }
     },
     "metadata": {},
     "output_type": "display_data"
    },
    {
     "name": "stdout",
     "output_type": "stream",
     "text": [
      "HTML-Datei '/home/mo/Thesis/Evaluation/Trajektorientests/traj4.html' erfolgreich erstellt!\n"
     ]
    },
    {
     "data": {
      "application/vnd.plotly.v1+json": {
       "config": {
        "plotlyServerURL": "https://plot.ly"
       },
       "data": [
        {
         "color": "rgba(31, 119, 180, 0.8)",
         "name": "P1",
         "opacity": 0.8,
         "type": "mesh3d",
         "x": [
          939.6013960692209,
          943.5013926029781,
          937.4144866265536,
          933.5144900927964
         ],
         "y": [
          -503.7568892392447,
          -499.8492568331485,
          -506.04382990048674,
          -509.9514623065829
         ],
         "z": [
          333.76759879501003,
          339.55728238010414,
          347.83839584071893,
          342.0487122556248
         ]
        },
        {
         "marker": {
          "color": "red",
          "size": 3
         },
         "mode": "markers+text",
         "showlegend": false,
         "text": "",
         "textfont": {
          "size": 12
         },
         "textposition": "top center",
         "type": "scatter3d",
         "x": [
          938.5079413478873
         ],
         "y": [
          -504.9003595698657
         ],
         "z": [
          340.8029973178645
         ]
        },
        {
         "line": {
          "color": "rgba(31, 119, 180, 0.8)",
          "width": 4
         },
         "mode": "lines",
         "showlegend": false,
         "type": "scatter3d",
         "x": [
          939.6013960692209,
          943.5013926029781
         ],
         "y": [
          -503.7568892392447,
          -499.8492568331485
         ],
         "z": [
          333.76759879501003,
          339.55728238010414
         ]
        },
        {
         "line": {
          "color": "rgba(31, 119, 180, 0.8)",
          "width": 4
         },
         "mode": "lines",
         "showlegend": false,
         "type": "scatter3d",
         "x": [
          943.5013926029781,
          937.4144866265536
         ],
         "y": [
          -499.8492568331485,
          -506.04382990048674
         ],
         "z": [
          339.55728238010414,
          347.83839584071893
         ]
        },
        {
         "line": {
          "color": "rgba(31, 119, 180, 0.8)",
          "width": 4
         },
         "mode": "lines",
         "showlegend": false,
         "type": "scatter3d",
         "x": [
          937.4144866265536,
          933.5144900927964
         ],
         "y": [
          -506.04382990048674,
          -509.9514623065829
         ],
         "z": [
          347.83839584071893,
          342.0487122556248
         ]
        },
        {
         "line": {
          "color": "rgba(31, 119, 180, 0.8)",
          "width": 4
         },
         "mode": "lines",
         "showlegend": false,
         "type": "scatter3d",
         "x": [
          933.5144900927964,
          939.6013960692209
         ],
         "y": [
          -509.9514623065829,
          -503.7568892392447
         ],
         "z": [
          342.0487122556248,
          333.76759879501003
         ]
        },
        {
         "color": "rgba(214, 39, 40, 0.8)",
         "name": "P2",
         "opacity": 0.8,
         "type": "mesh3d",
         "x": [
          931.5536065159848,
          935.453603049742,
          929.3666970733176,
          925.4667005395604
         ],
         "y": [
          -499.9475441472545,
          -496.03991174115833,
          -502.2344848084966,
          -506.14211721459276
         ],
         "z": [
          338.3197382125757,
          344.1094217976698,
          352.3905352582846,
          346.6008516731905
         ]
        },
        {
         "marker": {
          "color": "red",
          "size": 3
         },
         "mode": "markers+text",
         "showlegend": false,
         "text": "",
         "textfont": {
          "size": 12
         },
         "textposition": "top center",
         "type": "scatter3d",
         "x": [
          930.4601517946512
         ],
         "y": [
          -501.09101447787555
         ],
         "z": [
          345.35513673543016
         ]
        },
        {
         "line": {
          "color": "rgba(214, 39, 40, 0.8)",
          "width": 4
         },
         "mode": "lines",
         "showlegend": false,
         "type": "scatter3d",
         "x": [
          931.5536065159848,
          935.453603049742
         ],
         "y": [
          -499.9475441472545,
          -496.03991174115833
         ],
         "z": [
          338.3197382125757,
          344.1094217976698
         ]
        },
        {
         "line": {
          "color": "rgba(214, 39, 40, 0.8)",
          "width": 4
         },
         "mode": "lines",
         "showlegend": false,
         "type": "scatter3d",
         "x": [
          935.453603049742,
          929.3666970733176
         ],
         "y": [
          -496.03991174115833,
          -502.2344848084966
         ],
         "z": [
          344.1094217976698,
          352.3905352582846
         ]
        },
        {
         "line": {
          "color": "rgba(214, 39, 40, 0.8)",
          "width": 4
         },
         "mode": "lines",
         "showlegend": false,
         "type": "scatter3d",
         "x": [
          929.3666970733176,
          925.4667005395604
         ],
         "y": [
          -502.2344848084966,
          -506.14211721459276
         ],
         "z": [
          352.3905352582846,
          346.6008516731905
         ]
        },
        {
         "line": {
          "color": "rgba(214, 39, 40, 0.8)",
          "width": 4
         },
         "mode": "lines",
         "showlegend": false,
         "type": "scatter3d",
         "x": [
          925.4667005395604,
          931.5536065159848
         ],
         "y": [
          -506.14211721459276,
          -499.9475441472545
         ],
         "z": [
          346.6008516731905,
          338.3197382125757
         ]
        },
        {
         "color": "rgba(247, 182, 210, 0.8)",
         "name": "P3",
         "opacity": 0.8,
         "type": "mesh3d",
         "x": [
          927.5297117393669,
          931.4297082731241,
          925.3428022966997,
          921.4428057629425
         ],
         "y": [
          -498.0428716012594,
          -494.1352391951632,
          -500.32981226250143,
          -504.2374446685976
         ],
         "z": [
          340.5958079213586,
          346.3854915064527,
          354.6666049670675,
          348.8769213819734
         ]
        },
        {
         "marker": {
          "color": "red",
          "size": 3
         },
         "mode": "markers+text",
         "showlegend": false,
         "text": "",
         "textfont": {
          "size": 12
         },
         "textposition": "top center",
         "type": "scatter3d",
         "x": [
          926.4362570180333
         ],
         "y": [
          -499.1863419318804
         ],
         "z": [
          347.63120644421303
         ]
        },
        {
         "line": {
          "color": "rgba(247, 182, 210, 0.8)",
          "width": 4
         },
         "mode": "lines",
         "showlegend": false,
         "type": "scatter3d",
         "x": [
          927.5297117393669,
          931.4297082731241
         ],
         "y": [
          -498.0428716012594,
          -494.1352391951632
         ],
         "z": [
          340.5958079213586,
          346.3854915064527
         ]
        },
        {
         "line": {
          "color": "rgba(247, 182, 210, 0.8)",
          "width": 4
         },
         "mode": "lines",
         "showlegend": false,
         "type": "scatter3d",
         "x": [
          931.4297082731241,
          925.3428022966997
         ],
         "y": [
          -494.1352391951632,
          -500.32981226250143
         ],
         "z": [
          346.3854915064527,
          354.6666049670675
         ]
        },
        {
         "line": {
          "color": "rgba(247, 182, 210, 0.8)",
          "width": 4
         },
         "mode": "lines",
         "showlegend": false,
         "type": "scatter3d",
         "x": [
          925.3428022966997,
          921.4428057629425
         ],
         "y": [
          -500.32981226250143,
          -504.2374446685976
         ],
         "z": [
          354.6666049670675,
          348.8769213819734
         ]
        },
        {
         "line": {
          "color": "rgba(247, 182, 210, 0.8)",
          "width": 4
         },
         "mode": "lines",
         "showlegend": false,
         "type": "scatter3d",
         "x": [
          921.4428057629425,
          927.5297117393669
         ],
         "y": [
          -504.2374446685976,
          -498.0428716012594
         ],
         "z": [
          348.8769213819734,
          340.5958079213586
         ]
        },
        {
         "line": {
          "color": "black",
          "width": 2
         },
         "mode": "lines",
         "name": "Berechnete Hakenlinie",
         "type": "scatter3d",
         "x": {
          "bdata": "squNQxBUjUDIaRBkrhONQNTIUXR984xA",
          "dtype": "f8"
         },
         "y": {
          "bdata": "bLNv32eOf8AC35jLdFF/wMx0rUH7Mn/A",
          "dtype": "f8"
         },
         "z": {
          "bdata": "DzC3E9lMdUB+hNujrpV1QLau7WsZunVA",
          "dtype": "f8"
         }
        },
        {
         "mode": "text",
         "showlegend": false,
         "text": [
          "Pre-Position"
         ],
         "textfont": {
          "size": 10
         },
         "textposition": "top center",
         "type": "scatter3d",
         "x": [
          938.5079413478873
         ],
         "y": [
          -504.9003595698657
         ],
         "z": [
          340.8029973178645
         ]
        },
        {
         "mode": "text",
         "showlegend": false,
         "text": [
          "Loslassen"
         ],
         "textfont": {
          "size": 10
         },
         "textposition": "top center",
         "type": "scatter3d",
         "x": [
          926.4362570180333
         ],
         "y": [
          -499.1863419318804
         ],
         "z": [
          347.63120644421303
         ]
        },
        {
         "color": "rgba(0,255,0,0.2)",
         "name": "optimale Trajektorie",
         "opacity": 0.8,
         "type": "mesh3d",
         "x": [
          939.6013960725819,
          943.5013926549168,
          937.4144867176273,
          933.5144901352924
         ],
         "y": [
          -503.7568892400597,
          -499.8492568229468,
          -506.0438298444864,
          -509.9514622615993
         ],
         "z": [
          333.7675987944421,
          339.5572823393783,
          347.83839586301775,
          342.0487123180816
         ]
        },
        {
         "line": {
          "color": "rgba(0,255,0,0.2)",
          "width": 3
         },
         "mode": "lines",
         "showlegend": false,
         "type": "scatter3d",
         "x": [
          939.6013960725819,
          943.5013926549168
         ],
         "y": [
          -503.7568892400597,
          -499.8492568229468
         ],
         "z": [
          333.7675987944421,
          339.5572823393783
         ]
        },
        {
         "line": {
          "color": "rgba(0,255,0,0.2)",
          "width": 3
         },
         "mode": "lines",
         "showlegend": false,
         "type": "scatter3d",
         "x": [
          943.5013926549168,
          937.4144867176273
         ],
         "y": [
          -499.8492568229468,
          -506.0438298444864
         ],
         "z": [
          339.5572823393783,
          347.83839586301775
         ]
        },
        {
         "line": {
          "color": "rgba(0,255,0,0.2)",
          "width": 3
         },
         "mode": "lines",
         "showlegend": false,
         "type": "scatter3d",
         "x": [
          937.4144867176273,
          933.5144901352924
         ],
         "y": [
          -506.0438298444864,
          -509.9514622615993
         ],
         "z": [
          347.83839586301775,
          342.0487123180816
         ]
        },
        {
         "line": {
          "color": "rgba(0,255,0,0.2)",
          "width": 3
         },
         "mode": "lines",
         "showlegend": false,
         "type": "scatter3d",
         "x": [
          933.5144901352924,
          939.6013960725819
         ],
         "y": [
          -509.9514622615993,
          -503.7568892400597
         ],
         "z": [
          342.0487123180816,
          333.7675987944421
         ]
        },
        {
         "marker": {
          "color": "green",
          "size": 4
         },
         "mode": "markers",
         "name": "Mitte P3",
         "showlegend": false,
         "type": "scatter3d",
         "x": [
          938.5079413951046
         ],
         "y": [
          -504.90035954227307
         ],
         "z": [
          340.80299732872993
         ]
        },
        {
         "color": "rgba(0,255,0,0.2)",
         "name": "optimale Trajektorie",
         "opacity": 0.8,
         "type": "mesh3d",
         "x": [
          931.500595588157,
          935.8572016669008,
          929.8962901733644,
          925.5396840946206
         ],
         "y": [
          -500.2656947602229,
          -495.9317978154749,
          -500.81314286730685,
          -505.14703981205486
         ],
         "z": [
          338.73393776485386,
          343.8561756299824,
          353.0561758827639,
          347.9339380176354
         ]
        },
        {
         "line": {
          "color": "rgba(0,255,0,0.2)",
          "width": 3
         },
         "mode": "lines",
         "showlegend": false,
         "type": "scatter3d",
         "x": [
          931.500595588157,
          935.8572016669008
         ],
         "y": [
          -500.2656947602229,
          -495.9317978154749
         ],
         "z": [
          338.73393776485386,
          343.8561756299824
         ]
        },
        {
         "line": {
          "color": "rgba(0,255,0,0.2)",
          "width": 3
         },
         "mode": "lines",
         "showlegend": false,
         "type": "scatter3d",
         "x": [
          935.8572016669008,
          929.8962901733644
         ],
         "y": [
          -495.9317978154749,
          -500.81314286730685
         ],
         "z": [
          343.8561756299824,
          353.0561758827639
         ]
        },
        {
         "line": {
          "color": "rgba(0,255,0,0.2)",
          "width": 3
         },
         "mode": "lines",
         "showlegend": false,
         "type": "scatter3d",
         "x": [
          929.8962901733644,
          925.5396840946206
         ],
         "y": [
          -500.81314286730685,
          -505.14703981205486
         ],
         "z": [
          353.0561758827639,
          347.9339380176354
         ]
        },
        {
         "line": {
          "color": "rgba(0,255,0,0.2)",
          "width": 3
         },
         "mode": "lines",
         "showlegend": false,
         "type": "scatter3d",
         "x": [
          925.5396840946206,
          931.500595588157
         ],
         "y": [
          -505.14703981205486,
          -500.2656947602229
         ],
         "z": [
          347.9339380176354,
          338.73393776485386
         ]
        },
        {
         "marker": {
          "color": "green",
          "size": 4
         },
         "mode": "markers",
         "name": "Mitte P3",
         "showlegend": false,
         "type": "scatter3d",
         "x": [
          930.6984428807607
         ],
         "y": [
          -500.5394188137649
         ],
         "z": [
          345.8950568238089
         ]
        },
        {
         "color": "rgba(0,255,0,0.2)",
         "name": "optimale Trajektorie",
         "opacity": 0.8,
         "type": "mesh3d",
         "x": [
          928.144395674982,
          930.9137966928744,
          925.6562184732732,
          922.8868174553808
         ],
         "y": [
          -496.52193601834915,
          -491.4606648592119,
          -497.98770328731007,
          -503.04897444644735
         ],
         "z": [
          341.2913833218594,
          346.83340030629586,
          355.4215107284379,
          349.8794937440015
         ]
        },
        {
         "line": {
          "color": "rgba(0,255,0,0.2)",
          "width": 3
         },
         "mode": "lines",
         "showlegend": false,
         "type": "scatter3d",
         "x": [
          928.144395674982,
          930.9137966928744
         ],
         "y": [
          -496.52193601834915,
          -491.4606648592119
         ],
         "z": [
          341.2913833218594,
          346.83340030629586
         ]
        },
        {
         "line": {
          "color": "rgba(0,255,0,0.2)",
          "width": 3
         },
         "mode": "lines",
         "showlegend": false,
         "type": "scatter3d",
         "x": [
          930.9137966928744,
          925.6562184732732
         ],
         "y": [
          -491.4606648592119,
          -497.98770328731007
         ],
         "z": [
          346.83340030629586,
          355.4215107284379
         ]
        },
        {
         "line": {
          "color": "rgba(0,255,0,0.2)",
          "width": 3
         },
         "mode": "lines",
         "showlegend": false,
         "type": "scatter3d",
         "x": [
          925.6562184732732,
          922.8868174553808
         ],
         "y": [
          -497.98770328731007,
          -503.04897444644735
         ],
         "z": [
          355.4215107284379,
          349.8794937440015
         ]
        },
        {
         "line": {
          "color": "rgba(0,255,0,0.2)",
          "width": 3
         },
         "mode": "lines",
         "showlegend": false,
         "type": "scatter3d",
         "x": [
          922.8868174553808,
          928.144395674982
         ],
         "y": [
          -503.04897444644735,
          -496.52193601834915
         ],
         "z": [
          349.8794937440015,
          341.2913833218594
         ]
        },
        {
         "marker": {
          "color": "green",
          "size": 4
         },
         "mode": "markers",
         "name": "Mitte P3",
         "showlegend": false,
         "type": "scatter3d",
         "x": [
          926.9003070741276
         ],
         "y": [
          -497.2548196528296
         ],
         "z": [
          348.35644702514867
         ]
        },
        {
         "color": "rgba(0,255,0,0.2)",
         "name": "optimale Trajektorie",
         "opacity": 0.8,
         "type": "mesh3d",
         "x": [
          924.3695178412896,
          927.112499486941,
          921.8257432865342,
          919.0827616408828
         ],
         "y": [
          -495.1695291059556,
          -490.11794396771063,
          -496.6676349266695,
          -501.71922006491445
         ],
         "z": [
          343.7103316066911,
          349.274281577951,
          357.82716163203753,
          352.26321166077764
         ]
        },
        {
         "line": {
          "color": "rgba(0,255,0,0.2)",
          "width": 3
         },
         "mode": "lines",
         "showlegend": false,
         "type": "scatter3d",
         "x": [
          924.3695178412896,
          927.112499486941
         ],
         "y": [
          -495.1695291059556,
          -490.11794396771063
         ],
         "z": [
          343.7103316066911,
          349.274281577951
         ]
        },
        {
         "line": {
          "color": "rgba(0,255,0,0.2)",
          "width": 3
         },
         "mode": "lines",
         "showlegend": false,
         "type": "scatter3d",
         "x": [
          927.112499486941,
          921.8257432865342
         ],
         "y": [
          -490.11794396771063,
          -496.6676349266695
         ],
         "z": [
          349.274281577951,
          357.82716163203753
         ]
        },
        {
         "line": {
          "color": "rgba(0,255,0,0.2)",
          "width": 3
         },
         "mode": "lines",
         "showlegend": false,
         "type": "scatter3d",
         "x": [
          921.8257432865342,
          919.0827616408828
         ],
         "y": [
          -496.6676349266695,
          -501.71922006491445
         ],
         "z": [
          357.82716163203753,
          352.26321166077764
         ]
        },
        {
         "line": {
          "color": "rgba(0,255,0,0.2)",
          "width": 3
         },
         "mode": "lines",
         "showlegend": false,
         "type": "scatter3d",
         "x": [
          919.0827616408828,
          924.3695178412896
         ],
         "y": [
          -501.71922006491445,
          -495.1695291059556
         ],
         "z": [
          352.26321166077764,
          343.7103316066911
         ]
        },
        {
         "marker": {
          "color": "green",
          "size": 4
         },
         "mode": "markers",
         "name": "Mitte P3",
         "showlegend": false,
         "type": "scatter3d",
         "x": [
          923.0976305639119
         ],
         "y": [
          -495.91858201631254
         ],
         "z": [
          350.7687466193643
         ]
        },
        {
         "color": "rgba(0,255,0,0.2)",
         "name": "optimale Trajektorie",
         "opacity": 0.8,
         "type": "mesh3d",
         "x": [
          924.3869398626379,
          924.8853449135828,
          917.6119798302458,
          917.1135747793008
         ],
         "y": [
          -491.41586480327027,
          -488.33674029272123,
          -496.9579450852322,
          -500.03706959578125
         ],
         "z": [
          346.71098361612263,
          354.0778407922683,
          358.1733246818813,
          350.8064675057356
         ]
        },
        {
         "line": {
          "color": "rgba(0,255,0,0.2)",
          "width": 3
         },
         "mode": "lines",
         "showlegend": false,
         "type": "scatter3d",
         "x": [
          924.3869398626379,
          924.8853449135828
         ],
         "y": [
          -491.41586480327027,
          -488.33674029272123
         ],
         "z": [
          346.71098361612263,
          354.0778407922683
         ]
        },
        {
         "line": {
          "color": "rgba(0,255,0,0.2)",
          "width": 3
         },
         "mode": "lines",
         "showlegend": false,
         "type": "scatter3d",
         "x": [
          924.8853449135828,
          917.6119798302458
         ],
         "y": [
          -488.33674029272123,
          -496.9579450852322
         ],
         "z": [
          354.0778407922683,
          358.1733246818813
         ]
        },
        {
         "line": {
          "color": "rgba(0,255,0,0.2)",
          "width": 3
         },
         "mode": "lines",
         "showlegend": false,
         "type": "scatter3d",
         "x": [
          917.6119798302458,
          917.1135747793008
         ],
         "y": [
          -496.9579450852322,
          -500.03706959578125
         ],
         "z": [
          358.1733246818813,
          350.8064675057356
         ]
        },
        {
         "line": {
          "color": "rgba(0,255,0,0.2)",
          "width": 3
         },
         "mode": "lines",
         "showlegend": false,
         "type": "scatter3d",
         "x": [
          917.1135747793008,
          924.3869398626379
         ],
         "y": [
          -500.03706959578125,
          -491.41586480327027
         ],
         "z": [
          350.8064675057356,
          346.71098361612263
         ]
        },
        {
         "marker": {
          "color": "green",
          "size": 4
         },
         "mode": "markers",
         "name": "Mitte P3",
         "showlegend": false,
         "type": "scatter3d",
         "x": [
          920.9994598464418
         ],
         "y": [
          -494.18690494425124
         ],
         "z": [
          352.44215414900196
         ]
        },
        {
         "line": {
          "color": "green",
          "width": 2
         },
         "mode": "lines",
         "name": "Optimale Hakenlinie",
         "type": "scatter3d",
         "x": {
          "bdata": "EgKUQxBUjUDulzhplhWNQOL9MdQz94xAvHiI8sfYjEAQ0c3k/seMQA==",
          "dtype": "f8"
         },
         "y": {
          "bdata": "RUto32eOf8B6P591oUh/wIC0xb0TFH/AGWwOg7L+fsBR8AmQ/eJ+wA==",
          "dtype": "f8"
         },
         "z": {
          "bdata": "uhq6E9lMdUAipRonUp51QFK8ywG0xXVASVFByUzsdUARnDoQEwd2QA==",
          "dtype": "f8"
         }
        },
        {
         "line": {
          "color": "gray",
          "dash": "dash"
         },
         "mode": "lines",
         "name": "Direkte Gerade Spitze -> Senke",
         "type": "scatter3d",
         "x": [
          930.4520310457648,
          921.83389410515
         ],
         "y": [
          -501.04673808857046,
          -497.05099584245954
         ],
         "z": [
          344.64565978672306,
          350.19240845732907
         ]
        },
        {
         "marker": {
          "color": "magenta",
          "size": 8
         },
         "mode": "markers",
         "name": "Spitze",
         "type": "scatter3d",
         "x": [
          930.4520310457648
         ],
         "y": [
          -501.04673808857046
         ],
         "z": [
          344.64565978672306
         ]
        },
        {
         "marker": {
          "color": "magenta",
          "size": 8
         },
         "mode": "markers",
         "name": "Senke",
         "type": "scatter3d",
         "x": [
          921.83389410515
         ],
         "y": [
          -497.05099584245954
         ],
         "z": [
          350.19240845732907
         ]
        },
        {
         "mode": "text",
         "showlegend": false,
         "text": [
          "Spitze"
         ],
         "textfont": {
          "size": 10
         },
         "textposition": "top center",
         "type": "scatter3d",
         "x": [
          930.4520310457648
         ],
         "y": [
          -501.04673808857046
         ],
         "z": [
          344.64565978672306
         ]
        },
        {
         "mode": "text",
         "showlegend": false,
         "text": [
          "Senke"
         ],
         "textfont": {
          "size": 10
         },
         "textposition": "top center",
         "type": "scatter3d",
         "x": [
          921.83389410515
         ],
         "y": [
          -497.05099584245954
         ],
         "z": [
          350.19240845732907
         ]
        }
       ],
       "layout": {
        "legend": {
         "title": {
          "text": "Legende"
         }
        },
        "scene": {
         "aspectmode": "cube",
         "camera": {
          "eye": {
           "x": -1,
           "y": -1,
           "z": -1.5
          },
          "up": {
           "x": 0,
           "y": -1,
           "z": 0
          }
         },
         "xaxis": {
          "title": {
           "text": "X"
          }
         },
         "yaxis": {
          "title": {
           "text": "Y"
          }
         },
         "zaxis": {
          "title": {
           "text": "Z"
          }
         }
        },
        "template": {
         "data": {
          "bar": [
           {
            "error_x": {
             "color": "#2a3f5f"
            },
            "error_y": {
             "color": "#2a3f5f"
            },
            "marker": {
             "line": {
              "color": "#E5ECF6",
              "width": 0.5
             },
             "pattern": {
              "fillmode": "overlay",
              "size": 10,
              "solidity": 0.2
             }
            },
            "type": "bar"
           }
          ],
          "barpolar": [
           {
            "marker": {
             "line": {
              "color": "#E5ECF6",
              "width": 0.5
             },
             "pattern": {
              "fillmode": "overlay",
              "size": 10,
              "solidity": 0.2
             }
            },
            "type": "barpolar"
           }
          ],
          "carpet": [
           {
            "aaxis": {
             "endlinecolor": "#2a3f5f",
             "gridcolor": "white",
             "linecolor": "white",
             "minorgridcolor": "white",
             "startlinecolor": "#2a3f5f"
            },
            "baxis": {
             "endlinecolor": "#2a3f5f",
             "gridcolor": "white",
             "linecolor": "white",
             "minorgridcolor": "white",
             "startlinecolor": "#2a3f5f"
            },
            "type": "carpet"
           }
          ],
          "choropleth": [
           {
            "colorbar": {
             "outlinewidth": 0,
             "ticks": ""
            },
            "type": "choropleth"
           }
          ],
          "contour": [
           {
            "colorbar": {
             "outlinewidth": 0,
             "ticks": ""
            },
            "colorscale": [
             [
              0,
              "#0d0887"
             ],
             [
              0.1111111111111111,
              "#46039f"
             ],
             [
              0.2222222222222222,
              "#7201a8"
             ],
             [
              0.3333333333333333,
              "#9c179e"
             ],
             [
              0.4444444444444444,
              "#bd3786"
             ],
             [
              0.5555555555555556,
              "#d8576b"
             ],
             [
              0.6666666666666666,
              "#ed7953"
             ],
             [
              0.7777777777777778,
              "#fb9f3a"
             ],
             [
              0.8888888888888888,
              "#fdca26"
             ],
             [
              1,
              "#f0f921"
             ]
            ],
            "type": "contour"
           }
          ],
          "contourcarpet": [
           {
            "colorbar": {
             "outlinewidth": 0,
             "ticks": ""
            },
            "type": "contourcarpet"
           }
          ],
          "heatmap": [
           {
            "colorbar": {
             "outlinewidth": 0,
             "ticks": ""
            },
            "colorscale": [
             [
              0,
              "#0d0887"
             ],
             [
              0.1111111111111111,
              "#46039f"
             ],
             [
              0.2222222222222222,
              "#7201a8"
             ],
             [
              0.3333333333333333,
              "#9c179e"
             ],
             [
              0.4444444444444444,
              "#bd3786"
             ],
             [
              0.5555555555555556,
              "#d8576b"
             ],
             [
              0.6666666666666666,
              "#ed7953"
             ],
             [
              0.7777777777777778,
              "#fb9f3a"
             ],
             [
              0.8888888888888888,
              "#fdca26"
             ],
             [
              1,
              "#f0f921"
             ]
            ],
            "type": "heatmap"
           }
          ],
          "histogram": [
           {
            "marker": {
             "pattern": {
              "fillmode": "overlay",
              "size": 10,
              "solidity": 0.2
             }
            },
            "type": "histogram"
           }
          ],
          "histogram2d": [
           {
            "colorbar": {
             "outlinewidth": 0,
             "ticks": ""
            },
            "colorscale": [
             [
              0,
              "#0d0887"
             ],
             [
              0.1111111111111111,
              "#46039f"
             ],
             [
              0.2222222222222222,
              "#7201a8"
             ],
             [
              0.3333333333333333,
              "#9c179e"
             ],
             [
              0.4444444444444444,
              "#bd3786"
             ],
             [
              0.5555555555555556,
              "#d8576b"
             ],
             [
              0.6666666666666666,
              "#ed7953"
             ],
             [
              0.7777777777777778,
              "#fb9f3a"
             ],
             [
              0.8888888888888888,
              "#fdca26"
             ],
             [
              1,
              "#f0f921"
             ]
            ],
            "type": "histogram2d"
           }
          ],
          "histogram2dcontour": [
           {
            "colorbar": {
             "outlinewidth": 0,
             "ticks": ""
            },
            "colorscale": [
             [
              0,
              "#0d0887"
             ],
             [
              0.1111111111111111,
              "#46039f"
             ],
             [
              0.2222222222222222,
              "#7201a8"
             ],
             [
              0.3333333333333333,
              "#9c179e"
             ],
             [
              0.4444444444444444,
              "#bd3786"
             ],
             [
              0.5555555555555556,
              "#d8576b"
             ],
             [
              0.6666666666666666,
              "#ed7953"
             ],
             [
              0.7777777777777778,
              "#fb9f3a"
             ],
             [
              0.8888888888888888,
              "#fdca26"
             ],
             [
              1,
              "#f0f921"
             ]
            ],
            "type": "histogram2dcontour"
           }
          ],
          "mesh3d": [
           {
            "colorbar": {
             "outlinewidth": 0,
             "ticks": ""
            },
            "type": "mesh3d"
           }
          ],
          "parcoords": [
           {
            "line": {
             "colorbar": {
              "outlinewidth": 0,
              "ticks": ""
             }
            },
            "type": "parcoords"
           }
          ],
          "pie": [
           {
            "automargin": true,
            "type": "pie"
           }
          ],
          "scatter": [
           {
            "fillpattern": {
             "fillmode": "overlay",
             "size": 10,
             "solidity": 0.2
            },
            "type": "scatter"
           }
          ],
          "scatter3d": [
           {
            "line": {
             "colorbar": {
              "outlinewidth": 0,
              "ticks": ""
             }
            },
            "marker": {
             "colorbar": {
              "outlinewidth": 0,
              "ticks": ""
             }
            },
            "type": "scatter3d"
           }
          ],
          "scattercarpet": [
           {
            "marker": {
             "colorbar": {
              "outlinewidth": 0,
              "ticks": ""
             }
            },
            "type": "scattercarpet"
           }
          ],
          "scattergeo": [
           {
            "marker": {
             "colorbar": {
              "outlinewidth": 0,
              "ticks": ""
             }
            },
            "type": "scattergeo"
           }
          ],
          "scattergl": [
           {
            "marker": {
             "colorbar": {
              "outlinewidth": 0,
              "ticks": ""
             }
            },
            "type": "scattergl"
           }
          ],
          "scattermap": [
           {
            "marker": {
             "colorbar": {
              "outlinewidth": 0,
              "ticks": ""
             }
            },
            "type": "scattermap"
           }
          ],
          "scattermapbox": [
           {
            "marker": {
             "colorbar": {
              "outlinewidth": 0,
              "ticks": ""
             }
            },
            "type": "scattermapbox"
           }
          ],
          "scatterpolar": [
           {
            "marker": {
             "colorbar": {
              "outlinewidth": 0,
              "ticks": ""
             }
            },
            "type": "scatterpolar"
           }
          ],
          "scatterpolargl": [
           {
            "marker": {
             "colorbar": {
              "outlinewidth": 0,
              "ticks": ""
             }
            },
            "type": "scatterpolargl"
           }
          ],
          "scatterternary": [
           {
            "marker": {
             "colorbar": {
              "outlinewidth": 0,
              "ticks": ""
             }
            },
            "type": "scatterternary"
           }
          ],
          "surface": [
           {
            "colorbar": {
             "outlinewidth": 0,
             "ticks": ""
            },
            "colorscale": [
             [
              0,
              "#0d0887"
             ],
             [
              0.1111111111111111,
              "#46039f"
             ],
             [
              0.2222222222222222,
              "#7201a8"
             ],
             [
              0.3333333333333333,
              "#9c179e"
             ],
             [
              0.4444444444444444,
              "#bd3786"
             ],
             [
              0.5555555555555556,
              "#d8576b"
             ],
             [
              0.6666666666666666,
              "#ed7953"
             ],
             [
              0.7777777777777778,
              "#fb9f3a"
             ],
             [
              0.8888888888888888,
              "#fdca26"
             ],
             [
              1,
              "#f0f921"
             ]
            ],
            "type": "surface"
           }
          ],
          "table": [
           {
            "cells": {
             "fill": {
              "color": "#EBF0F8"
             },
             "line": {
              "color": "white"
             }
            },
            "header": {
             "fill": {
              "color": "#C8D4E3"
             },
             "line": {
              "color": "white"
             }
            },
            "type": "table"
           }
          ]
         },
         "layout": {
          "annotationdefaults": {
           "arrowcolor": "#2a3f5f",
           "arrowhead": 0,
           "arrowwidth": 1
          },
          "autotypenumbers": "strict",
          "coloraxis": {
           "colorbar": {
            "outlinewidth": 0,
            "ticks": ""
           }
          },
          "colorscale": {
           "diverging": [
            [
             0,
             "#8e0152"
            ],
            [
             0.1,
             "#c51b7d"
            ],
            [
             0.2,
             "#de77ae"
            ],
            [
             0.3,
             "#f1b6da"
            ],
            [
             0.4,
             "#fde0ef"
            ],
            [
             0.5,
             "#f7f7f7"
            ],
            [
             0.6,
             "#e6f5d0"
            ],
            [
             0.7,
             "#b8e186"
            ],
            [
             0.8,
             "#7fbc41"
            ],
            [
             0.9,
             "#4d9221"
            ],
            [
             1,
             "#276419"
            ]
           ],
           "sequential": [
            [
             0,
             "#0d0887"
            ],
            [
             0.1111111111111111,
             "#46039f"
            ],
            [
             0.2222222222222222,
             "#7201a8"
            ],
            [
             0.3333333333333333,
             "#9c179e"
            ],
            [
             0.4444444444444444,
             "#bd3786"
            ],
            [
             0.5555555555555556,
             "#d8576b"
            ],
            [
             0.6666666666666666,
             "#ed7953"
            ],
            [
             0.7777777777777778,
             "#fb9f3a"
            ],
            [
             0.8888888888888888,
             "#fdca26"
            ],
            [
             1,
             "#f0f921"
            ]
           ],
           "sequentialminus": [
            [
             0,
             "#0d0887"
            ],
            [
             0.1111111111111111,
             "#46039f"
            ],
            [
             0.2222222222222222,
             "#7201a8"
            ],
            [
             0.3333333333333333,
             "#9c179e"
            ],
            [
             0.4444444444444444,
             "#bd3786"
            ],
            [
             0.5555555555555556,
             "#d8576b"
            ],
            [
             0.6666666666666666,
             "#ed7953"
            ],
            [
             0.7777777777777778,
             "#fb9f3a"
            ],
            [
             0.8888888888888888,
             "#fdca26"
            ],
            [
             1,
             "#f0f921"
            ]
           ]
          },
          "colorway": [
           "#636efa",
           "#EF553B",
           "#00cc96",
           "#ab63fa",
           "#FFA15A",
           "#19d3f3",
           "#FF6692",
           "#B6E880",
           "#FF97FF",
           "#FECB52"
          ],
          "font": {
           "color": "#2a3f5f"
          },
          "geo": {
           "bgcolor": "white",
           "lakecolor": "white",
           "landcolor": "#E5ECF6",
           "showlakes": true,
           "showland": true,
           "subunitcolor": "white"
          },
          "hoverlabel": {
           "align": "left"
          },
          "hovermode": "closest",
          "mapbox": {
           "style": "light"
          },
          "paper_bgcolor": "white",
          "plot_bgcolor": "#E5ECF6",
          "polar": {
           "angularaxis": {
            "gridcolor": "white",
            "linecolor": "white",
            "ticks": ""
           },
           "bgcolor": "#E5ECF6",
           "radialaxis": {
            "gridcolor": "white",
            "linecolor": "white",
            "ticks": ""
           }
          },
          "scene": {
           "xaxis": {
            "backgroundcolor": "#E5ECF6",
            "gridcolor": "white",
            "gridwidth": 2,
            "linecolor": "white",
            "showbackground": true,
            "ticks": "",
            "zerolinecolor": "white"
           },
           "yaxis": {
            "backgroundcolor": "#E5ECF6",
            "gridcolor": "white",
            "gridwidth": 2,
            "linecolor": "white",
            "showbackground": true,
            "ticks": "",
            "zerolinecolor": "white"
           },
           "zaxis": {
            "backgroundcolor": "#E5ECF6",
            "gridcolor": "white",
            "gridwidth": 2,
            "linecolor": "white",
            "showbackground": true,
            "ticks": "",
            "zerolinecolor": "white"
           }
          },
          "shapedefaults": {
           "line": {
            "color": "#2a3f5f"
           }
          },
          "ternary": {
           "aaxis": {
            "gridcolor": "white",
            "linecolor": "white",
            "ticks": ""
           },
           "baxis": {
            "gridcolor": "white",
            "linecolor": "white",
            "ticks": ""
           },
           "bgcolor": "#E5ECF6",
           "caxis": {
            "gridcolor": "white",
            "linecolor": "white",
            "ticks": ""
           }
          },
          "title": {
           "x": 0.05
          },
          "xaxis": {
           "automargin": true,
           "gridcolor": "white",
           "linecolor": "white",
           "ticks": "",
           "title": {
            "standoff": 15
           },
           "zerolinecolor": "white",
           "zerolinewidth": 2
          },
          "yaxis": {
           "automargin": true,
           "gridcolor": "white",
           "linecolor": "white",
           "ticks": "",
           "title": {
            "standoff": 15
           },
           "zerolinecolor": "white",
           "zerolinewidth": 2
          }
         }
        },
        "title": {
         "text": "Haken 23, Trajektorien-Ansatz 4"
        }
       }
      }
     },
     "metadata": {},
     "output_type": "display_data"
    }
   ],
   "source": [
    "visualize_rectangles_html(\n",
    "    rectangles = rectangles_1,\n",
    "    secondary_rectangles = rectangles_optim,\n",
    "    secondary_legend_title = 'optimale Trajektorie',\n",
    "    connect_points = (trajectory_1[1][0], trajectory_1[-1][0]),\n",
    "    hook_num = hook_num,\n",
    "    trajectory_process = 1,\n",
    "    html_filename = '/home/mo/Thesis/Evaluation/Trajektorientests/traj1.html'\n",
    "    )\n",
    "\n",
    "visualize_rectangles_html(\n",
    "    rectangles = rectangles_2,\n",
    "    secondary_rectangles = rectangles_optim,\n",
    "    secondary_legend_title = 'optimale Trajektorie',\n",
    "    connect_points = (trajectory_1[1][0], trajectory_1[-1][0]),\n",
    "    hook_num = hook_num,\n",
    "    trajectory_process = 2,\n",
    "    html_filename = '/home/mo/Thesis/Evaluation/Trajektorientests/traj2.html'\n",
    "    )\n",
    "\n",
    "visualize_rectangles_html(\n",
    "    rectangles = rectangles_3,\n",
    "    secondary_rectangles = rectangles_optim,\n",
    "    secondary_legend_title = 'optimale Trajektorie',\n",
    "    connect_points = (trajectory_1[1][0], trajectory_1[-1][0]),\n",
    "    hook_num = hook_num,\n",
    "    trajectory_process = 3,\n",
    "    html_filename = '/home/mo/Thesis/Evaluation/Trajektorientests/traj3.html'\n",
    "    )\n",
    "\n",
    "visualize_rectangles_html(\n",
    "    rectangles = rectangles_4,\n",
    "    secondary_rectangles = rectangles_optim,\n",
    "    secondary_legend_title = 'optimale Trajektorie',\n",
    "    connect_points = (trajectory_1[1][0], trajectory_1[-1][0]),\n",
    "    hook_num = hook_num,\n",
    "    trajectory_process = 4,\n",
    "    html_filename = '/home/mo/Thesis/Evaluation/Trajektorientests/traj4.html'\n",
    "    )"
   ]
  }
 ],
 "metadata": {
  "kernelspec": {
   "display_name": "Python 3",
   "language": "python",
   "name": "python3"
  },
  "language_info": {
   "codemirror_mode": {
    "name": "ipython",
    "version": 3
   },
   "file_extension": ".py",
   "mimetype": "text/x-python",
   "name": "python",
   "nbconvert_exporter": "python",
   "pygments_lexer": "ipython3",
   "version": "3.8.10"
  }
 },
 "nbformat": 4,
 "nbformat_minor": 5
}
