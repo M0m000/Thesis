{
 "cells": [
  {
   "cell_type": "code",
   "execution_count": 1,
   "id": "c56fbbd2",
   "metadata": {},
   "outputs": [],
   "source": [
    "import csv\n",
    "import numpy as np\n",
    "from scipy.spatial.transform import Rotation as R\n",
    "import matplotlib.pyplot as plt\n",
    "from mpl_toolkits.mplot3d.art3d import Poly3DCollection\n",
    "import matplotlib.cm as cm\n",
    "import plotly.graph_objects as go"
   ]
  },
  {
   "cell_type": "markdown",
   "id": "d43cbb9f",
   "metadata": {},
   "source": [
    "### **Trajektorien CSVs laden**"
   ]
  },
  {
   "cell_type": "code",
   "execution_count": 2,
   "id": "ce8ad287",
   "metadata": {},
   "outputs": [],
   "source": [
    "def load_csv_to_trajectory(filepath):\n",
    "    \"\"\"Lädt die CSV und stellt Trajektorie-Liste wieder her\"\"\"\n",
    "    trajectory = []\n",
    "    with open(filepath, mode='r', newline='') as file:\n",
    "        reader = csv.reader(file)\n",
    "        next(reader)  # Überspringe Kopfzeile\n",
    "\n",
    "        for row in reader:\n",
    "            numbers = list(map(float, row))\n",
    "            trans = numbers[:3]\n",
    "            rot = numbers[3:]\n",
    "            trajectory.append((trans, rot))\n",
    "    return trajectory"
   ]
  },
  {
   "cell_type": "code",
   "execution_count": 3,
   "id": "fa040c5d",
   "metadata": {},
   "outputs": [],
   "source": [
    "hook_num = 19\n",
    "v = 10\n",
    "hook_model = 'A'"
   ]
  },
  {
   "cell_type": "code",
   "execution_count": 4,
   "id": "6ae1d02a",
   "metadata": {},
   "outputs": [],
   "source": [
    "traj_optim_path = traj_1_path = '/home/mo/Thesis/Evaluation/Trajektorientests/Modell' + hook_model + '/v_' + str(v) + '/' + str(hook_num) + '/trajectory_0.csv'\n",
    "traj_1_path = '/home/mo/Thesis/Evaluation/Trajektorientests/Modell' + hook_model + '/v_' + str(v) + '/' + str(hook_num) + '/trajectory_1.csv'\n",
    "traj_2_path = '/home/mo/Thesis/Evaluation/Trajektorientests/Modell' + hook_model + '/v_' + str(v) + '/' + str(hook_num) + '/trajectory_2.csv'\n",
    "traj_3_path = '/home/mo/Thesis/Evaluation/Trajektorientests/Modell' + hook_model + '/v_' + str(v) + '/' + str(hook_num) + '/trajectory_3.csv'\n",
    "traj_4_path = '/home/mo/Thesis/Evaluation/Trajektorientests/Modell' + hook_model + '/v_' + str(v) + '/' + str(hook_num) + '/trajectory_4.csv'"
   ]
  },
  {
   "cell_type": "code",
   "execution_count": 5,
   "id": "aad60faa",
   "metadata": {},
   "outputs": [],
   "source": [
    "trajectory_optim = load_csv_to_trajectory(traj_optim_path)\n",
    "trajectory_1 = load_csv_to_trajectory(traj_1_path)\n",
    "trajectory_2 = load_csv_to_trajectory(traj_2_path)\n",
    "trajectory_3 = load_csv_to_trajectory(traj_3_path)\n",
    "trajectory_4 = load_csv_to_trajectory(traj_4_path)"
   ]
  },
  {
   "cell_type": "markdown",
   "id": "d66a9f4b",
   "metadata": {},
   "source": [
    "### **Euklidsche Distanz**"
   ]
  },
  {
   "cell_type": "code",
   "execution_count": 6,
   "id": "549aa99e",
   "metadata": {},
   "outputs": [],
   "source": [
    "def interpolate_trajectory(traj, num_points):\n",
    "    \"\"\"\n",
    "    Interpoliert eine Trajektorie auf `num_points` gleichmäßig verteilte Punkte.\n",
    "    Nur die translatorischen Komponenten werden verwendet (3D Punkte).\n",
    "    \"\"\"\n",
    "    positions = np.array([p[0] for p in traj])  # Nur Positionen\n",
    "    rotations = np.array([p[1] for p in traj])  # Nur Rotationen\n",
    "    \n",
    "    # Abstände zwischen aufeinanderfolgenden Punkten\n",
    "    deltas_trans = np.linalg.norm(np.diff(positions, axis=0), axis=1)\n",
    "    deltas_rot = np.linalg.norm(np.diff(rotations, axis=0), axis=1)\n",
    "    cumulative_dist_trans = np.concatenate([[0], np.cumsum(deltas_trans)])\n",
    "    cumulative_dist_rot = np.concatenate([[0], np.cumsum(deltas_rot)])\n",
    "    \n",
    "    # Gleichmäßig verteilte Distanzen entlang der Trajektorie\n",
    "    target_distances_trans = np.linspace(0, cumulative_dist_trans[-1], num_points)\n",
    "    target_distances_rot = np.linspace(0, cumulative_dist_rot[-1], num_points)\n",
    "\n",
    "    # Interpolation\n",
    "    interp_positions = []\n",
    "    interp_rotations = []\n",
    "\n",
    "    for dist in target_distances_trans:\n",
    "        idx = np.searchsorted(cumulative_dist_trans, dist) - 1\n",
    "        idx = np.clip(idx, 0, len(positions) - 2)\n",
    "        # Lokale lineare Interpolation\n",
    "        t = (dist - cumulative_dist_trans[idx]) / (cumulative_dist_trans[idx + 1] - cumulative_dist_trans[idx])\n",
    "        point = (1 - t) * positions[idx] + t * positions[idx + 1]\n",
    "        interp_positions.append(point)\n",
    "    \n",
    "    for rot in target_distances_rot:\n",
    "        idx = np.searchsorted(cumulative_dist_rot, rot) - 1\n",
    "        idx = np.clip(idx, 0, len(rotations) - 2)\n",
    "        # Lokale lineare Interpolation\n",
    "        t = (rot - cumulative_dist_rot[idx]) / (cumulative_dist_rot[idx + 1] - cumulative_dist_rot[idx])\n",
    "        point = (1 - t) * rotations[idx] + t * rotations[idx + 1]\n",
    "        interp_rotations.append(point)\n",
    "    \n",
    "    return np.array(interp_positions), np.array(interp_rotations)\n",
    "\n",
    "\n",
    "def trajectory_distance(traj1, traj2, num_points=10):\n",
    "    \"\"\"\n",
    "    Vergleicht zwei Trajektorien anhand von `num_points` gleichverteilten Punkten.\n",
    "    Gibt die euklidischen Abstände zurück (Liste) und den Mittelwert.\n",
    "    \"\"\"\n",
    "    interp1_trans, interp1_rot = interpolate_trajectory(traj1, num_points)\n",
    "    interp2_trans, interp2_rot = interpolate_trajectory(traj2, num_points)\n",
    "\n",
    "    # Punktweise euklidischer Abstand\n",
    "    distances = np.linalg.norm(interp1_trans - interp2_trans, axis=1)\n",
    "    rotations = np.linalg.norm(interp1_rot - interp2_rot, axis=1)\n",
    "    mean_distance = np.mean(distances)\n",
    "    mean_rotation = np.mean(rotations)\n",
    "    max_distance = np.max(distances)\n",
    "    max_rotation = np.max(rotations)\n",
    "    return distances, mean_distance, max_distance, rotations, mean_rotation, max_rotation"
   ]
  },
  {
   "cell_type": "code",
   "execution_count": 7,
   "id": "2fc24563",
   "metadata": {},
   "outputs": [],
   "source": [
    "def plot_trajectory_distances(\n",
    "    distances=None, \n",
    "    mean_distance=None, \n",
    "    max_distance=None, \n",
    "    rotations=None, \n",
    "    mean_rotation=None, \n",
    "    max_rotation=None, \n",
    "    hook_num=0, \n",
    "    trajectory_process=4\n",
    "):\n",
    "    \"\"\"\n",
    "    Plottet die euklidischen Distanzen und Rotationen entlang der interpolierten Punkte.\n",
    "    \"\"\"\n",
    "\n",
    "    %matplotlib inline\n",
    "    \n",
    "    fig, (ax1, ax2) = plt.subplots(2, 1, figsize=(10, 8), sharex=True)\n",
    "    fig.suptitle(f\"Vergleich zwischen optimaler und berechneter Trajektorie - Haken {hook_num}, Trajektorie-Ansatz {trajectory_process} – Distanz\", fontsize=14)\n",
    "\n",
    "    # Plot 1: Euklidische Distanzen\n",
    "    ax1.set_title(f\"Euklidsche Distanz translatorisch\")\n",
    "    ax1.plot(range(1, len(distances) + 1), distances, linestyle='-', marker = '.', label='Euklidische Distanz [mm]')\n",
    "\n",
    "    if mean_distance is not None:\n",
    "        ax1.plot(range(1, len(distances) + 1), [mean_distance] * len(distances), linestyle='--', color='red', label='Mittelwert')\n",
    "    \n",
    "    if max_distance is not None:\n",
    "        ax1.plot(range(1, len(distances) + 1), [max_distance] * len(distances), linestyle='--', color='magenta', label=f\"Max-Wert - {max_distance:.3f}mm\")\n",
    "\n",
    "    ax1.set_ylabel(\"Distanz [mm]\")\n",
    "    ax1.grid(True)\n",
    "    ax1.legend()\n",
    "\n",
    "    \n",
    "    # Plot 2: Rotationen\n",
    "    ax2.set_title(\"Euklidsche Distanz rotatorisch\")\n",
    "    if rotations is not None:\n",
    "        ax2.plot(range(1, len(rotations) + 1), rotations, linestyle='-', marker = '.', label='Rotationsabweichung [°]', color='orange')\n",
    "\n",
    "        if mean_rotation is not None:\n",
    "            ax2.plot(range(1, len(rotations) + 1), [mean_rotation] * len(rotations), linestyle='--', color='red', label='Mittelwert')\n",
    "        \n",
    "        if max_rotation is not None:\n",
    "            ax2.plot(range(1, len(rotations) + 1), [max_rotation] * len(rotations), linestyle='--', color='magenta', label=f\"Max-Wert - {max_rotation:.3f}°\")\n",
    "\n",
    "        ax2.set_ylabel(\"Rotation [°]\")\n",
    "        ax2.grid(True)\n",
    "        ax2.legend()\n",
    "    else:\n",
    "        ax2.text(0.5, 0.5, \"Keine Rotationsdaten verfügbar\", ha='center', va='center', transform=ax2.transAxes)\n",
    "        ax2.axis('off')\n",
    "    \n",
    "    ax2.set_xlabel(\"Punktindex (entlang der Trajektorie)\")\n",
    "    plt.tight_layout(rect=[0, 0, 1, 0.95])  # Platz für Suptitle\n",
    "    plt.show()"
   ]
  },
  {
   "cell_type": "code",
   "execution_count": 8,
   "id": "0f0e378a",
   "metadata": {},
   "outputs": [
    {
     "data": {
      "image/png": "[encoded data removed]",
      "text/plain": [
       "<Figure size 1000x800 with 2 Axes>"
      ]
     },
     "metadata": {},
     "output_type": "display_data"
    }
   ],
   "source": [
    "distances, mean_distance, max_distance, rotations, mean_rotation, max_rotation = trajectory_distance(trajectory_1, trajectory_optim, 100)\n",
    "plot_trajectory_distances(distances, mean_distance, max_distance, rotations, mean_rotation, max_rotation, hook_num = hook_num, trajectory_process = 4)"
   ]
  },
  {
   "cell_type": "markdown",
   "id": "efe3dd89",
   "metadata": {},
   "source": [
    "### **Absolute Distanzen**"
   ]
  },
  {
   "cell_type": "code",
   "execution_count": 9,
   "id": "74d6bbd8",
   "metadata": {},
   "outputs": [],
   "source": [
    "def trajectory_difference(traj1, traj2, num_points=10):\n",
    "    \"\"\"\n",
    "    Vergleicht zwei Trajektorien anhand von `num_points` gleichverteilten Punkten.\n",
    "    Gibt die vorzeichenbehafteten Differenzen für Translation und Rotation zurück.\n",
    "    Rückgabe:\n",
    "        diffs_trans: (num_points, 3) - x, y, z\n",
    "        diffs_rot:   (num_points, 3) - roll, pitch, yaw\n",
    "    \"\"\"\n",
    "    interp1_trans, interp1_rot = interpolate_trajectory(traj1, num_points)\n",
    "    interp2_trans, interp2_rot = interpolate_trajectory(traj2, num_points)\n",
    "\n",
    "    # Vorzeichenbehaftete Differenzen\n",
    "    diffs_trans = interp1_trans - interp2_trans\n",
    "    diffs_rot = interp1_rot - interp2_rot\n",
    "\n",
    "    return diffs_trans, diffs_rot"
   ]
  },
  {
   "cell_type": "code",
   "execution_count": 10,
   "id": "0dd37334",
   "metadata": {},
   "outputs": [],
   "source": [
    "def plot_signed_trajectory_differences(\n",
    "    diffs_trans, \n",
    "    diffs_rot, \n",
    "    hook_num=0, \n",
    "    trajectory_process=4\n",
    "):\n",
    "    \"\"\"\n",
    "    Plottet die vorzeichenbehafteten Differenzen (x, y, z, roll, pitch, yaw) \n",
    "    entlang der interpolierten Punkte.\n",
    "    \"\"\"\n",
    "\n",
    "    %matplotlib inline\n",
    "    \n",
    "    num_points = diffs_trans.shape[0]\n",
    "    indices = range(1, num_points + 1)\n",
    "\n",
    "    fig, (ax1, ax2) = plt.subplots(2, 1, figsize=(10, 8), sharex=True)\n",
    "    fig.suptitle(f\"Vorzeichenbehaftete Differenzen – Haken {hook_num}, Trajektorie-Ansatz {trajectory_process}\", fontsize=14)\n",
    "\n",
    "    # --- Plot 1: Translation (x, y, z) ---\n",
    "    ax1.set_title(\"Translation: Abweichung in x, y, z [mm]\")\n",
    "    ax1.plot(indices, diffs_trans[:, 0], label=\"x [mm]\", marker='.', linestyle='-', color='blue')\n",
    "    ax1.plot(indices, diffs_trans[:, 1], label=\"y [mm]\", marker='.',linestyle='-', color='green')\n",
    "    ax1.plot(indices, diffs_trans[:, 2], label=\"z [mm]\", marker='.',linestyle='-', color='purple')\n",
    "    ax1.axhline(0, color='gray', linestyle='--', linewidth=0.8)\n",
    "\n",
    "    ax1.set_ylabel(\"Abweichung [mm]\")\n",
    "    ax1.grid(True)\n",
    "    ax1.legend()\n",
    "\n",
    "    # --- Plot 2: Rotation (roll, pitch, yaw) ---\n",
    "    ax2.set_title(\"Rotation: Abweichung in Roll, Pitch, Yaw [°]\")\n",
    "    ax2.plot(indices, diffs_rot[:, 0], label=\"roll [°]\", marker='.',linestyle='-', color='orange')\n",
    "    ax2.plot(indices, diffs_rot[:, 1], label=\"pitch [°]\", marker='.',linestyle='-', color='red')\n",
    "    ax2.plot(indices, diffs_rot[:, 2], label=\"yaw [°]\", marker='.',linestyle='-', color='brown')\n",
    "    ax2.axhline(0, color='gray', linestyle='--', linewidth=0.8)\n",
    "\n",
    "    ax2.set_xlabel(\"Punktindex (entlang der Trajektorie)\")\n",
    "    ax2.set_ylabel(\"Abweichung [°]\")\n",
    "    ax2.grid(True)\n",
    "    ax2.legend()\n",
    "\n",
    "    plt.tight_layout(rect=[0, 0, 1, 0.95])\n",
    "    plt.show()"
   ]
  },
  {
   "cell_type": "code",
   "execution_count": 11,
   "id": "0fccff97",
   "metadata": {},
   "outputs": [
    {
     "data": {
      "image/png": "[encoded data removed]",
      "text/plain": [
       "<Figure size 1000x800 with 2 Axes>"
      ]
     },
     "metadata": {},
     "output_type": "display_data"
    }
   ],
   "source": [
    "diffs_trans, diffs_rot = trajectory_difference(trajectory_1, trajectory_optim, 100)\n",
    "plot_signed_trajectory_differences(diffs_trans, diffs_rot, hook_num=2, trajectory_process=1)"
   ]
  },
  {
   "cell_type": "markdown",
   "id": "170527fd",
   "metadata": {},
   "source": [
    "### **3D-Darstellung**"
   ]
  },
  {
   "cell_type": "code",
   "execution_count": 12,
   "id": "edfb46e9",
   "metadata": {},
   "outputs": [],
   "source": [
    "def compute_rectangle_corners(trajectory, width=8, height=12):\n",
    "    \"\"\"\n",
    "    Berechnet die Rechteck-Eckpunkte (4 Stück) für jeden Trajektorienpunkt.\n",
    "\n",
    "    :param trajectory: Liste von ([x, y, z], [roll, pitch, yaw]) Einträgen\n",
    "    :param width: Breite des Rechtecks (in X-Richtung)\n",
    "    :param height: Höhe des Rechtecks (in Y-Richtung)\n",
    "    :return: Liste von Rechtecken, jedes als Liste von 4 Eckpunkten (jeweils [x, y, z])\n",
    "    \"\"\"\n",
    "    rectangles = []\n",
    "\n",
    "    # Rechteck im lokalen TCP-Koordinatensystem (XY-Ebene, Zentrum im Ursprung)\n",
    "    half_w = width / 2\n",
    "    half_h = height / 2\n",
    "    local_corners = np.array([\n",
    "        [-half_w, 0, -half_h],\n",
    "        [ half_w, 0, -half_h],\n",
    "        [ half_w, 0, half_h],\n",
    "        [-half_w, 0, half_h]\n",
    "    ])\n",
    "\n",
    "    for trans, rpy in trajectory:\n",
    "        # RPY in Radiant, falls nicht schon so\n",
    "        rot = R.from_euler('xyz', rpy, degrees=True)\n",
    "        rotated_corners = rot.apply(local_corners)\n",
    "        translated_corners = rotated_corners + np.array(trans)\n",
    "        rectangles.append(translated_corners.tolist())\n",
    "    return rectangles"
   ]
  },
  {
   "cell_type": "code",
   "execution_count": 13,
   "id": "05d04c48",
   "metadata": {},
   "outputs": [],
   "source": [
    "rectangles_optim = compute_rectangle_corners(trajectory_optim)\n",
    "rectangles_1 = compute_rectangle_corners(trajectory_1)\n",
    "rectangles_2 = compute_rectangle_corners(trajectory_2)\n",
    "rectangles_3 = compute_rectangle_corners(trajectory_3)\n",
    "rectangles_4 = compute_rectangle_corners(trajectory_4)"
   ]
  },
  {
   "cell_type": "code",
   "execution_count": 14,
   "id": "f78ad7a3",
   "metadata": {},
   "outputs": [],
   "source": [
    "def visualize_rectangles(rectangles, figsize=(8, 8), connect_points=None, \n",
    "                         secondary_rectangles=None, secondary_legend_title=None,\n",
    "                         hook_num = 0, trajectory_process = 1):\n",
    "    \"\"\"\n",
    "    Visualisiert Rechtecke + Trajektorie im 3D-Raum mit Legende und Bezeichnungen der Trajektorienpunkte.\n",
    "    \n",
    "    Zusätzlich kann ein zweiter Satz Rechtecke (grau & transparent) dargestellt werden – inkl. Mittelpunktslinie.\n",
    "\n",
    "    :param rectangles: Liste von Rechtecken (jeweils 4 Punkte [x, y, z])\n",
    "    :param figsize: Größe der Plotfläche (Breite, Höhe)\n",
    "    :param connect_points: Optionales Tupel mit zwei Punkten [x, y, z], die verbunden werden sollen\n",
    "    :param secondary_rectangles: Optionaler zweiter Satz Rechtecke (werden grau dargestellt)\n",
    "    :param secondary_legend_title: Optionaler Legenden-Eintrag für die grauen Rechtecke\n",
    "    \"\"\"\n",
    "    %matplotlib qt\n",
    "\n",
    "    fig = plt.figure(figsize=figsize)\n",
    "    ax = fig.add_subplot(111, projection='3d')\n",
    "    fig.suptitle(f\"Einfädelung Trajektorie Spitze -> Senke (TCP in WORLD-Frame)\", fontsize=14, y=0.98)\n",
    "\n",
    "    centers = []\n",
    "    cmap = cm.get_cmap('tab20')\n",
    "    legend_handles = []\n",
    "\n",
    "    # Berechnete Trajektorie (farbig)\n",
    "    for i, rect in enumerate(rectangles):\n",
    "        color = cmap(i / len(rectangles))\n",
    "        poly = Poly3DCollection([rect], facecolors=color, alpha=0.2, edgecolors=color)\n",
    "        ax.add_collection3d(poly)\n",
    "\n",
    "        if i == 0:\n",
    "            label = 'Pre-Position'\n",
    "        elif i == 1:\n",
    "            label = 'Spitze'\n",
    "        elif i == len(rectangles) - 1:\n",
    "            label = 'Loslassen'\n",
    "        else:\n",
    "            label = str(i + 1)\n",
    "\n",
    "        legend_handles.append(plt.Line2D([0], [0], marker='o', color='w', label=label,\n",
    "                                         markersize=10, markerfacecolor=color))\n",
    "\n",
    "        center = np.mean(np.array(rect), axis=0)\n",
    "        centers.append(center)\n",
    "        ax.scatter(*center, color='red', s=30)\n",
    "        ax.text(center[0]-5, center[1]-5, center[2], f\"P{i}\", color=color, alpha = 0.8, fontsize=12)\n",
    "\n",
    "    # Linie durch die berechneten Mittelpunkte\n",
    "    centers = np.array(centers)\n",
    "    ax.plot(centers[:, 0], centers[:, 1], centers[:, 2], color='black', linewidth=2)\n",
    "\n",
    "    # Beschriftung Hauptlinie\n",
    "    if len(centers) > 0:\n",
    "        ax.text(*centers[0], 'Pre-Position', color='black', fontsize=10)\n",
    "    if len(centers) > 2:\n",
    "        ax.text(*centers[-1], 'Loslassen', color='black', fontsize=10)\n",
    "\n",
    "    # Optimal-Trajektorie (grün)\n",
    "    if secondary_rectangles is not None:\n",
    "        secondary_centers = []\n",
    "        for rect in secondary_rectangles:\n",
    "            poly = Poly3DCollection([rect], facecolors='green', alpha=0.1, edgecolors='green')\n",
    "            ax.add_collection3d(poly)\n",
    "\n",
    "            center = np.mean(np.array(rect), axis=0)\n",
    "            secondary_centers.append(center)\n",
    "            ax.scatter(*center, color='green', s=20)\n",
    "\n",
    "        # Linie durch grüne Mittelpunkte\n",
    "        secondary_centers = np.array(secondary_centers)\n",
    "        ax.plot(secondary_centers[:, 0], secondary_centers[:, 1], secondary_centers[:, 2],\n",
    "                color='green', linewidth=1, linestyle='-')\n",
    "\n",
    "        # Legendenhandle für Optimal-Trajektorie\n",
    "        if secondary_legend_title:\n",
    "            legend_handles.append(plt.Line2D([0], [0], marker='o', color='w', label=secondary_legend_title,\n",
    "                                             markersize=10, markerfacecolor='green'))\n",
    "\n",
    "    # Einzeichnen von Spitze und Senke inkl. graue Verbindungslinie\n",
    "    if connect_points is not None and len(connect_points) == 2:\n",
    "        p1, p2 = np.array(connect_points[0]), np.array(connect_points[1])\n",
    "        ax.plot([p1[0], p2[0]], [p1[1], p2[1]], [p1[2], p2[2]],\n",
    "                color='gray', linestyle='dashed', linewidth=2)\n",
    "        ax.scatter(*p1, 'o', color='magenta', linewidth=6)\n",
    "        ax.scatter(*p2, 'o', color='magenta', linewidth=6)\n",
    "        ax.text(*p1, 'Spitze', color='magenta', fontsize=12, ha='center')\n",
    "        ax.text(*p2, 'Senke', color='magenta', fontsize=12, ha='center')\n",
    "\n",
    "    # Achseneinstellungen\n",
    "    ax.set_xlabel('X')\n",
    "    ax.set_ylabel('Y')\n",
    "    ax.set_zlabel('Z')\n",
    "    ax.set_title(f\"Haken {hook_num}, Trajektorien-Ansatz {trajectory_process}\", fontsize = 10)\n",
    "\n",
    "    all_points = rectangles + (secondary_rectangles if secondary_rectangles else [])\n",
    "    all_points = np.vstack(all_points)\n",
    "    mid = np.mean(all_points, axis=0)\n",
    "    max_range = np.ptp(all_points, axis=0).max() / 2\n",
    "    for i, axis in enumerate([ax.set_xlim, ax.set_ylim, ax.set_zlim]):\n",
    "        axis(mid[i] - max_range, mid[i] + max_range)\n",
    "\n",
    "    ax.set_box_aspect([1, 1, 1])\n",
    "    ax.legend(handles=legend_handles, title=\"Trajektorien-Punkte\", loc='upper left')\n",
    "    plt.tight_layout(pad=0.5, w_pad=0.5, h_pad=0.5)\n",
    "    plt.show()"
   ]
  },
  {
   "cell_type": "code",
   "execution_count": 15,
   "id": "5a944d76",
   "metadata": {},
   "outputs": [
    {
     "name": "stderr",
     "output_type": "stream",
     "text": [
      "/tmp/ipykernel_8261/3888305038.py:22: MatplotlibDeprecationWarning: The get_cmap function was deprecated in Matplotlib 3.7 and will be removed two minor releases later. Use ``matplotlib.colormaps[name]`` or ``matplotlib.colormaps.get_cmap(obj)`` instead.\n",
      "  cmap = cm.get_cmap('tab20')\n"
     ]
    }
   ],
   "source": [
    "visualize_rectangles(rectangles = rectangles_1,\n",
    "                     secondary_rectangles = rectangles_optim,\n",
    "                     secondary_legend_title = 'optimale Trajektorie',\n",
    "                     connect_points = (trajectory_1[1][0], trajectory_1[-1][0]),\n",
    "                     hook_num = hook_num,\n",
    "                     trajectory_process = 1)\n",
    "\n",
    "visualize_rectangles(rectangles = rectangles_2,\n",
    "                     secondary_rectangles = rectangles_optim,\n",
    "                     secondary_legend_title = 'optimale Trajektorie',\n",
    "                     connect_points = (trajectory_1[1][0], trajectory_1[-1][0]),\n",
    "                     hook_num = hook_num,\n",
    "                     trajectory_process = 2)\n",
    "\n",
    "visualize_rectangles(rectangles = rectangles_3,\n",
    "                     secondary_rectangles = rectangles_optim,\n",
    "                     secondary_legend_title = 'optimale Trajektorie',\n",
    "                     connect_points = (trajectory_1[1][0], trajectory_1[-1][0]),\n",
    "                     hook_num = hook_num,\n",
    "                     trajectory_process = 3)\n",
    "\n",
    "visualize_rectangles(rectangles = rectangles_4,\n",
    "                     secondary_rectangles = rectangles_optim,\n",
    "                     secondary_legend_title = 'optimale Trajektorie',\n",
    "                     connect_points = (trajectory_1[1][0], trajectory_1[-1][0]),\n",
    "                     hook_num = hook_num,\n",
    "                     trajectory_process = 4)"
   ]
  },
  {
   "cell_type": "code",
   "execution_count": 28,
   "id": "0653e612",
   "metadata": {},
   "outputs": [],
   "source": [
    "def visualize_rectangles_html(rectangles, connect_points=None, \n",
    "                              secondary_rectangles=None, secondary_legend_title=None,\n",
    "                              hook_num=0, trajectory_process=1, html_filename=\"/home/mo/Thesis/Evaluation/Trajektorientests/CSV/plot_interaktiv.html\"):\n",
    "    \"\"\"\n",
    "    Visualisiert Rechtecke und Trajektorien im 3D-Raum als interaktive HTML-Datei.\n",
    "    \n",
    "    :param rectangles: Liste von Rechtecken (jeweils 4 Punkte [x, y, z])\n",
    "    :param figsize: Größe der Plotfläche (Breite, Höhe)\n",
    "    :param connect_points: Optionales Tupel mit zwei Punkten [x, y, z], die verbunden werden sollen\n",
    "    :param secondary_rectangles: Optionaler zweiter Satz Rechtecke (werden grau dargestellt)\n",
    "    :param secondary_legend_title: Optionaler Legenden-Eintrag für die grauen Rechtecke\n",
    "    :param html_filename: Der Name der HTML-Datei, die erstellt wird\n",
    "    \"\"\"\n",
    "    fig = go.Figure()\n",
    "\n",
    "    # Berechnete Trajektorie (farbig)\n",
    "    cmap = plt.cm.get_cmap('tab20')\n",
    "    centers = []\n",
    "\n",
    "    for i, rect in enumerate(rectangles):\n",
    "        # Verwende rgba-String für die Farbe (anstatt des RGBA-Tupels)\n",
    "        color = f\"rgba({int(cmap(i / len(rectangles))[0] * 255)}, \" \\\n",
    "                f\"{int(cmap(i / len(rectangles))[1] * 255)}, \" \\\n",
    "                f\"{int(cmap(i / len(rectangles))[2] * 255)}, 0.8)\"\n",
    "        x, y, z = zip(*rect)\n",
    "        fig.add_trace(go.Mesh3d(x=x, y=y, z=z, color=color, opacity=0.8, \n",
    "                               name=f'P{i+1}'))\n",
    "\n",
    "        center = np.mean(np.array(rect), axis=0)\n",
    "        centers.append(center)\n",
    "        \n",
    "        # Text für \"P0\", \"P1\", etc.\n",
    "        if i == 0:\n",
    "            text_label = ''\n",
    "            # text_label = 'Pre-Position'\n",
    "        elif i == 1:\n",
    "            text_label = ''\n",
    "            # text_label = 'Spitze'\n",
    "        elif i == len(rectangles) - 1:\n",
    "            text_label = ''\n",
    "            # text_label = 'Loslassen'\n",
    "        else:\n",
    "            text_label = f'P{i}'  # Standardtext für den Punkt\n",
    "        \n",
    "        # Füge den Text an den Punkten hinzu (mit entsprechender Position)\n",
    "        fig.add_trace(go.Scatter3d(x=[center[0]], y=[center[1]], z=[center[2]], \n",
    "                                   mode='markers+text', marker=dict(size=3, color='red'),\n",
    "                                   text=text_label, textposition=\"top center\", textfont=dict(size=12), showlegend=False))\n",
    "\n",
    "        # Hinzufügen der Umrandung der Rechtecke mit einer Linie\n",
    "        for j in range(4):\n",
    "            x0, y0, z0 = rect[j]\n",
    "            x1, y1, z1 = rect[(j + 1) % 4]  # Nächster Punkt im Rechteck\n",
    "            fig.add_trace(go.Scatter3d(x=[x0, x1], y=[y0, y1], z=[z0, z1], \n",
    "                                       mode='lines', \n",
    "                                       line=dict(color=color, width=4),  # Keine opacity hier\n",
    "                                       showlegend=False))\n",
    "\n",
    "    # Linie durch die berechneten Mittelpunkte\n",
    "    centers = np.array(centers)\n",
    "    fig.add_trace(go.Scatter3d(x=centers[:, 0], y=centers[:, 1], z=centers[:, 2],\n",
    "                               mode='lines', line=dict(color='black', width=2), name='Berechnete Hakenlinie'))\n",
    "\n",
    "    # Beschriftung der ersten und letzten Punkte\n",
    "    if len(centers) > 0:\n",
    "        fig.add_trace(go.Scatter3d(x=[centers[0, 0]], y=[centers[0, 1]], z=[centers[0, 2]],\n",
    "                                   mode='text', text=['Pre-Position'], textposition=\"top center\", textfont=dict(size=10), showlegend=False))\n",
    "    if len(centers) > 2:\n",
    "        fig.add_trace(go.Scatter3d(x=[centers[-1, 0]], y=[centers[-1, 1]], z=[centers[-1, 2]],\n",
    "                                   mode='text', text=['Loslassen'], textposition=\"top center\", textfont=dict(size=10), showlegend=False))\n",
    "\n",
    "    # Optimal-Trajektorie (grün) – Zweite Rechtecke\n",
    "    if secondary_rectangles:\n",
    "        for rect in secondary_rectangles:\n",
    "            x, y, z = zip(*rect)\n",
    "            fig.add_trace(go.Mesh3d(x=x, y=y, z=z, color='rgba(0,255,0,0.2)', opacity=0.8, \n",
    "                                   name=secondary_legend_title or 'Optimale Trajektorie'))\n",
    "        \n",
    "            # Hinzufügen der Umrandung der Rechtecke mit einer Linie\n",
    "            for j in range(4):\n",
    "                x0, y0, z0 = rect[j]\n",
    "                x1, y1, z1 = rect[(j + 1) % 4]  # Nächster Punkt im Rechteck\n",
    "                fig.add_trace(go.Scatter3d(x=[x0, x1], y=[y0, y1], z=[z0, z1], \n",
    "                                           mode='lines', \n",
    "                                           line=dict(color='rgba(0,255,0,0.2)', width=3),  # Keine opacity hier\n",
    "                                           showlegend=False))\n",
    "            \n",
    "            # Hinzufügen eines roten Punktes in der Mitte des Rechtecks\n",
    "            center = np.mean(np.array(rect), axis=0)\n",
    "            fig.add_trace(go.Scatter3d(x=[center[0]], y=[center[1]], z=[center[2]], \n",
    "                                       mode='markers', marker=dict(size=4, color='green'), \n",
    "                                       name=f'Mitte P{i+1}', showlegend=False))\n",
    "        \n",
    "        # Mittelpunkte der sekundären Rechtecke sammeln\n",
    "        secondary_centers = [np.mean(np.array(rect), axis=0) for rect in secondary_rectangles]\n",
    "        secondary_centers = np.array(secondary_centers)\n",
    "\n",
    "        # Linie durch die Mittelpunkte zeichnen\n",
    "        fig.add_trace(go.Scatter3d(\n",
    "            x=secondary_centers[:, 0], y=secondary_centers[:, 1], z=secondary_centers[:, 2],\n",
    "            mode='lines',\n",
    "            line=dict(color='green', width=2),\n",
    "            name='Optimale Hakenlinie'\n",
    "        ))\n",
    "    \n",
    "    # Einzeichnen von Spitze und Senke inkl. graue Verbindungslinie\n",
    "    if connect_points:\n",
    "        p1, p2 = np.array(connect_points[0]), np.array(connect_points[1])\n",
    "        fig.add_trace(go.Scatter3d(x=[p1[0], p2[0]], y=[p1[1], p2[1]], z=[p1[2], p2[2]], \n",
    "                                   mode='lines', line=dict(color='gray', dash='dash'), name='Direkte Gerade Spitze -> Senke'))\n",
    "        fig.add_trace(go.Scatter3d(x=[p1[0]], y=[p1[1]], z=[p1[2]], mode='markers', \n",
    "                                   marker=dict(size=8, color='magenta'), name='Spitze'))\n",
    "        fig.add_trace(go.Scatter3d(x=[p2[0]], y=[p2[1]], z=[p2[2]], mode='markers', \n",
    "                                   marker=dict(size=8, color='magenta'), name='Senke'))\n",
    "        \n",
    "        # Hinzufügen von Text \"Spitze\" und \"Senke\"\n",
    "        fig.add_trace(go.Scatter3d(x=[p1[0]], y=[p1[1]], z=[p1[2]], mode='text', \n",
    "                                   text=['Spitze'], textposition=\"top center\", textfont=dict(size=10), showlegend=False))\n",
    "        fig.add_trace(go.Scatter3d(x=[p2[0]], y=[p2[1]], z=[p2[2]], mode='text', \n",
    "                                   text=['Senke'], textposition=\"top center\", textfont=dict(size=10), showlegend=False))\n",
    "\n",
    "    # Achsen und Layout\n",
    "    fig.update_layout(scene=dict(\n",
    "                        xaxis_title='X',\n",
    "                        yaxis_title='Y',\n",
    "                        zaxis_title='Z',\n",
    "                        aspectmode='cube'),\n",
    "                      title=f'Haken {hook_num}, Trajektorien-Ansatz {trajectory_process}',\n",
    "                      legend=dict(title=\"Legende\"))\n",
    "    \n",
    "    # HTML exportieren\n",
    "    fig.write_html(html_filename)\n",
    "    print(f\"HTML-Datei '{html_filename}' erfolgreich erstellt!\")\n",
    "    fig.show()"
   ]
  },
  {
   "cell_type": "code",
   "execution_count": 29,
   "id": "2e400931",
   "metadata": {},
   "outputs": [
    {
     "name": "stdout",
     "output_type": "stream",
     "text": [
      "HTML-Datei '/home/mo/Thesis/Evaluation/Trajektorientests/traj1.html' erfolgreich erstellt!\n"
     ]
    },
    {
     "name": "stderr",
     "output_type": "stream",
     "text": [
      "/tmp/ipykernel_8261/442480858.py:17: MatplotlibDeprecationWarning:\n",
      "\n",
      "The get_cmap function was deprecated in Matplotlib 3.7 and will be removed two minor releases later. Use ``matplotlib.colormaps[name]`` or ``matplotlib.colormaps.get_cmap(obj)`` instead.\n",
      "\n"
     ]
    },
    {
     "data": {
      "application/vnd.plotly.v1+json": {
       "config": {
        "plotlyServerURL": "https://plot.ly"
       },
       "data": [
        {
         "color": "rgba(31, 119, 180, 0.8)",
         "name": "P1",
         "opacity": 0.8,
         "type": "mesh3d",
         "x": [
          195.65224850610932,
          202.6408492168096,
          207.87501145133663,
          200.88641074063634
         ],
         "y": [
          913.6925812332748,
          911.6478360499912,
          921.1119293636128,
          923.1566745468965
         ],
         "z": [
          742.7079454460464,
          739.3945669222677,
          744.5940364580678,
          747.9074149818465
         ]
        },
        {
         "marker": {
          "color": "red",
          "size": 3
         },
         "mode": "markers+text",
         "showlegend": false,
         "text": "",
         "textfont": {
          "size": 12
         },
         "textposition": "top center",
         "type": "scatter3d",
         "x": [
          201.76362997872297
         ],
         "y": [
          917.4022552984438
         ],
         "z": [
          743.6509909520571
         ]
        },
        {
         "line": {
          "color": "rgba(31, 119, 180, 0.8)",
          "width": 4
         },
         "mode": "lines",
         "showlegend": false,
         "type": "scatter3d",
         "x": [
          195.65224850610932,
          202.6408492168096
         ],
         "y": [
          913.6925812332748,
          911.6478360499912
         ],
         "z": [
          742.7079454460464,
          739.3945669222677
         ]
        },
        {
         "line": {
          "color": "rgba(31, 119, 180, 0.8)",
          "width": 4
         },
         "mode": "lines",
         "showlegend": false,
         "type": "scatter3d",
         "x": [
          202.6408492168096,
          207.87501145133663
         ],
         "y": [
          911.6478360499912,
          921.1119293636128
         ],
         "z": [
          739.3945669222677,
          744.5940364580678
         ]
        },
        {
         "line": {
          "color": "rgba(31, 119, 180, 0.8)",
          "width": 4
         },
         "mode": "lines",
         "showlegend": false,
         "type": "scatter3d",
         "x": [
          207.87501145133663,
          200.88641074063634
         ],
         "y": [
          921.1119293636128,
          923.1566745468965
         ],
         "z": [
          744.5940364580678,
          747.9074149818465
         ]
        },
        {
         "line": {
          "color": "rgba(31, 119, 180, 0.8)",
          "width": 4
         },
         "mode": "lines",
         "showlegend": false,
         "type": "scatter3d",
         "x": [
          200.88641074063634,
          195.65224850610932
         ],
         "y": [
          923.1566745468965,
          913.6925812332748
         ],
         "z": [
          747.9074149818465,
          742.7079454460464
         ]
        },
        {
         "color": "rgba(174, 199, 232, 0.8)",
         "name": "P2",
         "opacity": 0.8,
         "type": "mesh3d",
         "x": [
          196.48326642965284,
          202.43245318995133,
          194.40997974595203,
          188.46079298565354
         ],
         "y": [
          917.2524073010072,
          921.657018957773,
          929.0716127463093,
          924.6670010895435
         ],
         "z": [
          742.3615940795878,
          739.3273605611893,
          734.3611025341306,
          737.3953360525292
         ]
        },
        {
         "marker": {
          "color": "red",
          "size": 3
         },
         "mode": "markers+text",
         "showlegend": false,
         "text": "",
         "textfont": {
          "size": 12
         },
         "textposition": "top center",
         "type": "scatter3d",
         "x": [
          195.44662308780244
         ],
         "y": [
          923.1620100236582
         ],
         "z": [
          738.3613483068592
         ]
        },
        {
         "line": {
          "color": "rgba(174, 199, 232, 0.8)",
          "width": 4
         },
         "mode": "lines",
         "showlegend": false,
         "type": "scatter3d",
         "x": [
          196.48326642965284,
          202.43245318995133
         ],
         "y": [
          917.2524073010072,
          921.657018957773
         ],
         "z": [
          742.3615940795878,
          739.3273605611893
         ]
        },
        {
         "line": {
          "color": "rgba(174, 199, 232, 0.8)",
          "width": 4
         },
         "mode": "lines",
         "showlegend": false,
         "type": "scatter3d",
         "x": [
          202.43245318995133,
          194.40997974595203
         ],
         "y": [
          921.657018957773,
          929.0716127463093
         ],
         "z": [
          739.3273605611893,
          734.3611025341306
         ]
        },
        {
         "line": {
          "color": "rgba(174, 199, 232, 0.8)",
          "width": 4
         },
         "mode": "lines",
         "showlegend": false,
         "type": "scatter3d",
         "x": [
          194.40997974595203,
          188.46079298565354
         ],
         "y": [
          929.0716127463093,
          924.6670010895435
         ],
         "z": [
          734.3611025341306,
          737.3953360525292
         ]
        },
        {
         "line": {
          "color": "rgba(174, 199, 232, 0.8)",
          "width": 4
         },
         "mode": "lines",
         "showlegend": false,
         "type": "scatter3d",
         "x": [
          188.46079298565354,
          196.48326642965284
         ],
         "y": [
          924.6670010895435,
          917.2524073010072
         ],
         "z": [
          737.3953360525292,
          742.3615940795878
         ]
        },
        {
         "color": "rgba(255, 187, 120, 0.8)",
         "name": "P3",
         "opacity": 0.8,
         "type": "mesh3d",
         "x": [
          187.95762379336017,
          194.11827917805414,
          201.74631792135872,
          195.58566253666476
         ],
         "y": [
          920.3316387503412,
          916.4097343211544,
          924.1337015633615,
          928.0556059925483
         ],
         "z": [
          736.5367810113697,
          733.2710512492239,
          738.3850863460879,
          741.6508161082337
         ]
        },
        {
         "marker": {
          "color": "red",
          "size": 3
         },
         "mode": "markers+text",
         "showlegend": false,
         "text": "P2",
         "textfont": {
          "size": 12
         },
         "textposition": "top center",
         "type": "scatter3d",
         "x": [
          194.85197085735945
         ],
         "y": [
          922.2326701568513
         ],
         "z": [
          737.4609336787288
         ]
        },
        {
         "line": {
          "color": "rgba(255, 187, 120, 0.8)",
          "width": 4
         },
         "mode": "lines",
         "showlegend": false,
         "type": "scatter3d",
         "x": [
          187.95762379336017,
          194.11827917805414
         ],
         "y": [
          920.3316387503412,
          916.4097343211544
         ],
         "z": [
          736.5367810113697,
          733.2710512492239
         ]
        },
        {
         "line": {
          "color": "rgba(255, 187, 120, 0.8)",
          "width": 4
         },
         "mode": "lines",
         "showlegend": false,
         "type": "scatter3d",
         "x": [
          194.11827917805414,
          201.74631792135872
         ],
         "y": [
          916.4097343211544,
          924.1337015633615
         ],
         "z": [
          733.2710512492239,
          738.3850863460879
         ]
        },
        {
         "line": {
          "color": "rgba(255, 187, 120, 0.8)",
          "width": 4
         },
         "mode": "lines",
         "showlegend": false,
         "type": "scatter3d",
         "x": [
          201.74631792135872,
          195.58566253666476
         ],
         "y": [
          924.1337015633615,
          928.0556059925483
         ],
         "z": [
          738.3850863460879,
          741.6508161082337
         ]
        },
        {
         "line": {
          "color": "rgba(255, 187, 120, 0.8)",
          "width": 4
         },
         "mode": "lines",
         "showlegend": false,
         "type": "scatter3d",
         "x": [
          195.58566253666476,
          187.95762379336017
         ],
         "y": [
          928.0556059925483,
          920.3316387503412
         ],
         "z": [
          741.6508161082337,
          736.5367810113697
         ]
        },
        {
         "color": "rgba(152, 223, 138, 0.8)",
         "name": "P4",
         "opacity": 0.8,
         "type": "mesh3d",
         "x": [
          187.24123632374366,
          193.42588366568202,
          201.00562038091985,
          194.8209730389815
         ],
         "y": [
          921.3256313257027,
          917.4330530479481,
          925.2241199658513,
          929.1166982436059
         ],
         "z": [
          735.6279683195062,
          732.3725157231062,
          737.456497195184,
          740.7119497915841
         ]
        },
        {
         "marker": {
          "color": "red",
          "size": 3
         },
         "mode": "markers+text",
         "showlegend": false,
         "text": "P3",
         "textfont": {
          "size": 12
         },
         "textposition": "top center",
         "type": "scatter3d",
         "x": [
          194.12342835233176
         ],
         "y": [
          923.274875645777
         ],
         "z": [
          736.5422327573451
         ]
        },
        {
         "line": {
          "color": "rgba(152, 223, 138, 0.8)",
          "width": 4
         },
         "mode": "lines",
         "showlegend": false,
         "type": "scatter3d",
         "x": [
          187.24123632374366,
          193.42588366568202
         ],
         "y": [
          921.3256313257027,
          917.4330530479481
         ],
         "z": [
          735.6279683195062,
          732.3725157231062
         ]
        },
        {
         "line": {
          "color": "rgba(152, 223, 138, 0.8)",
          "width": 4
         },
         "mode": "lines",
         "showlegend": false,
         "type": "scatter3d",
         "x": [
          193.42588366568202,
          201.00562038091985
         ],
         "y": [
          917.4330530479481,
          925.2241199658513
         ],
         "z": [
          732.3725157231062,
          737.456497195184
         ]
        },
        {
         "line": {
          "color": "rgba(152, 223, 138, 0.8)",
          "width": 4
         },
         "mode": "lines",
         "showlegend": false,
         "type": "scatter3d",
         "x": [
          201.00562038091985,
          194.8209730389815
         ],
         "y": [
          925.2241199658513,
          929.1166982436059
         ],
         "z": [
          737.456497195184,
          740.7119497915841
         ]
        },
        {
         "line": {
          "color": "rgba(152, 223, 138, 0.8)",
          "width": 4
         },
         "mode": "lines",
         "showlegend": false,
         "type": "scatter3d",
         "x": [
          194.8209730389815,
          187.24123632374366
         ],
         "y": [
          929.1166982436059,
          921.3256313257027
         ],
         "z": [
          740.7119497915841,
          735.6279683195062
         ]
        },
        {
         "color": "rgba(255, 152, 150, 0.8)",
         "name": "P5",
         "opacity": 0.8,
         "type": "mesh3d",
         "x": [
          186.5089991587695,
          192.7081296052401,
          200.2680014406669,
          194.06887099419632
         ],
         "y": [
          922.4384617684456,
          918.7352256075422,
          926.188647513288,
          929.8918836741913
         ],
         "z": [
          734.5408503695592,
          731.0974764943868,
          736.6916555875935,
          740.1350294627658
         ]
        },
        {
         "marker": {
          "color": "red",
          "size": 3
         },
         "mode": "markers+text",
         "showlegend": false,
         "text": "P4",
         "textfont": {
          "size": 12
         },
         "textposition": "top center",
         "type": "scatter3d",
         "x": [
          193.3885002997182
         ],
         "y": [
          924.3135546408668
         ],
         "z": [
          735.6162529785764
         ]
        },
        {
         "line": {
          "color": "rgba(255, 152, 150, 0.8)",
          "width": 4
         },
         "mode": "lines",
         "showlegend": false,
         "type": "scatter3d",
         "x": [
          186.5089991587695,
          192.7081296052401
         ],
         "y": [
          922.4384617684456,
          918.7352256075422
         ],
         "z": [
          734.5408503695592,
          731.0974764943868
         ]
        },
        {
         "line": {
          "color": "rgba(255, 152, 150, 0.8)",
          "width": 4
         },
         "mode": "lines",
         "showlegend": false,
         "type": "scatter3d",
         "x": [
          192.7081296052401,
          200.2680014406669
         ],
         "y": [
          918.7352256075422,
          926.188647513288
         ],
         "z": [
          731.0974764943868,
          736.6916555875935
         ]
        },
        {
         "line": {
          "color": "rgba(255, 152, 150, 0.8)",
          "width": 4
         },
         "mode": "lines",
         "showlegend": false,
         "type": "scatter3d",
         "x": [
          200.2680014406669,
          194.06887099419632
         ],
         "y": [
          926.188647513288,
          929.8918836741913
         ],
         "z": [
          736.6916555875935,
          740.1350294627658
         ]
        },
        {
         "line": {
          "color": "rgba(255, 152, 150, 0.8)",
          "width": 4
         },
         "mode": "lines",
         "showlegend": false,
         "type": "scatter3d",
         "x": [
          194.06887099419632,
          186.5089991587695
         ],
         "y": [
          929.8918836741913,
          922.4384617684456
         ],
         "z": [
          740.1350294627658,
          734.5408503695592
         ]
        },
        {
         "color": "rgba(197, 176, 213, 0.8)",
         "name": "P6",
         "opacity": 0.8,
         "type": "mesh3d",
         "x": [
          185.77725959292192,
          191.9820235696335,
          199.52537210505162,
          193.32060812834004
         ],
         "y": [
          923.4230982044186,
          919.6375539160472,
          927.3081708929932,
          931.0937151813646
         ],
         "z": [
          733.8447837433499,
          730.5025452069674,
          735.8185143628403,
          739.1607528992229
         ]
        },
        {
         "marker": {
          "color": "red",
          "size": 3
         },
         "mode": "markers+text",
         "showlegend": false,
         "text": "P5",
         "textfont": {
          "size": 12
         },
         "textposition": "top center",
         "type": "scatter3d",
         "x": [
          192.65131584898677
         ],
         "y": [
          925.3656345487059
         ],
         "z": [
          734.8316490530951
         ]
        },
        {
         "line": {
          "color": "rgba(197, 176, 213, 0.8)",
          "width": 4
         },
         "mode": "lines",
         "showlegend": false,
         "type": "scatter3d",
         "x": [
          185.77725959292192,
          191.9820235696335
         ],
         "y": [
          923.4230982044186,
          919.6375539160472
         ],
         "z": [
          733.8447837433499,
          730.5025452069674
         ]
        },
        {
         "line": {
          "color": "rgba(197, 176, 213, 0.8)",
          "width": 4
         },
         "mode": "lines",
         "showlegend": false,
         "type": "scatter3d",
         "x": [
          191.9820235696335,
          199.52537210505162
         ],
         "y": [
          919.6375539160472,
          927.3081708929932
         ],
         "z": [
          730.5025452069674,
          735.8185143628403
         ]
        },
        {
         "line": {
          "color": "rgba(197, 176, 213, 0.8)",
          "width": 4
         },
         "mode": "lines",
         "showlegend": false,
         "type": "scatter3d",
         "x": [
          199.52537210505162,
          193.32060812834004
         ],
         "y": [
          927.3081708929932,
          931.0937151813646
         ],
         "z": [
          735.8185143628403,
          739.1607528992229
         ]
        },
        {
         "line": {
          "color": "rgba(197, 176, 213, 0.8)",
          "width": 4
         },
         "mode": "lines",
         "showlegend": false,
         "type": "scatter3d",
         "x": [
          193.32060812834004,
          185.77725959292192
         ],
         "y": [
          931.0937151813646,
          923.4230982044186
         ],
         "z": [
          739.1607528992229,
          733.8447837433499
         ]
        },
        {
         "color": "rgba(140, 86, 75, 0.8)",
         "name": "P7",
         "opacity": 0.8,
         "type": "mesh3d",
         "x": [
          185.036189474943,
          191.24671018527167,
          198.7781618810282,
          192.56764117069955
         ],
         "y": [
          924.4608383704485,
          920.6816476995486,
          928.3708299497944,
          932.1500206206942
         ],
         "z": [
          732.9824097769925,
          729.6436749298441,
          734.9496820611051,
          738.2884169082536
         ]
        },
        {
         "marker": {
          "color": "red",
          "size": 3
         },
         "mode": "markers+text",
         "showlegend": false,
         "text": "P6",
         "textfont": {
          "size": 12
         },
         "textposition": "top center",
         "type": "scatter3d",
         "x": [
          191.9071756779856
         ],
         "y": [
          926.4158341601214
         ],
         "z": [
          733.9660459190488
         ]
        },
        {
         "line": {
          "color": "rgba(140, 86, 75, 0.8)",
          "width": 4
         },
         "mode": "lines",
         "showlegend": false,
         "type": "scatter3d",
         "x": [
          185.036189474943,
          191.24671018527167
         ],
         "y": [
          924.4608383704485,
          920.6816476995486
         ],
         "z": [
          732.9824097769925,
          729.6436749298441
         ]
        },
        {
         "line": {
          "color": "rgba(140, 86, 75, 0.8)",
          "width": 4
         },
         "mode": "lines",
         "showlegend": false,
         "type": "scatter3d",
         "x": [
          191.24671018527167,
          198.7781618810282
         ],
         "y": [
          920.6816476995486,
          928.3708299497944
         ],
         "z": [
          729.6436749298441,
          734.9496820611051
         ]
        },
        {
         "line": {
          "color": "rgba(140, 86, 75, 0.8)",
          "width": 4
         },
         "mode": "lines",
         "showlegend": false,
         "type": "scatter3d",
         "x": [
          198.7781618810282,
          192.56764117069955
         ],
         "y": [
          928.3708299497944,
          932.1500206206942
         ],
         "z": [
          734.9496820611051,
          738.2884169082536
         ]
        },
        {
         "line": {
          "color": "rgba(140, 86, 75, 0.8)",
          "width": 4
         },
         "mode": "lines",
         "showlegend": false,
         "type": "scatter3d",
         "x": [
          192.56764117069955,
          185.036189474943
         ],
         "y": [
          932.1500206206942,
          924.4608383704485
         ],
         "z": [
          738.2884169082536,
          732.9824097769925
         ]
        },
        {
         "color": "rgba(227, 119, 194, 0.8)",
         "name": "P8",
         "opacity": 0.8,
         "type": "mesh3d",
         "x": [
          189.1914099997918,
          196.1979491172693,
          193.12388337551266,
          186.11734425803516
         ],
         "y": [
          920.5344982081012,
          923.2269668218738,
          934.4063860232857,
          931.7139174095131
         ],
         "z": [
          732.9304537646614,
          730.162959887684,
          733.2566156756576,
          736.024109552635
         ]
        },
        {
         "marker": {
          "color": "red",
          "size": 3
         },
         "mode": "markers+text",
         "showlegend": false,
         "text": "P7",
         "textfont": {
          "size": 12
         },
         "textposition": "top center",
         "type": "scatter3d",
         "x": [
          191.1576466876522
         ],
         "y": [
          927.4704421156936
         ],
         "z": [
          733.0935347201595
         ]
        },
        {
         "line": {
          "color": "rgba(227, 119, 194, 0.8)",
          "width": 4
         },
         "mode": "lines",
         "showlegend": false,
         "type": "scatter3d",
         "x": [
          189.1914099997918,
          196.1979491172693
         ],
         "y": [
          920.5344982081012,
          923.2269668218738
         ],
         "z": [
          732.9304537646614,
          730.162959887684
         ]
        },
        {
         "line": {
          "color": "rgba(227, 119, 194, 0.8)",
          "width": 4
         },
         "mode": "lines",
         "showlegend": false,
         "type": "scatter3d",
         "x": [
          196.1979491172693,
          193.12388337551266
         ],
         "y": [
          923.2269668218738,
          934.4063860232857
         ],
         "z": [
          730.162959887684,
          733.2566156756576
         ]
        },
        {
         "line": {
          "color": "rgba(227, 119, 194, 0.8)",
          "width": 4
         },
         "mode": "lines",
         "showlegend": false,
         "type": "scatter3d",
         "x": [
          193.12388337551266,
          186.11734425803516
         ],
         "y": [
          934.4063860232857,
          931.7139174095131
         ],
         "z": [
          733.2566156756576,
          736.024109552635
         ]
        },
        {
         "line": {
          "color": "rgba(227, 119, 194, 0.8)",
          "width": 4
         },
         "mode": "lines",
         "showlegend": false,
         "type": "scatter3d",
         "x": [
          186.11734425803516,
          189.1914099997918
         ],
         "y": [
          931.7139174095131,
          920.5344982081012
         ],
         "z": [
          736.024109552635,
          732.9304537646614
         ]
        },
        {
         "color": "rgba(127, 127, 127, 0.8)",
         "name": "P9",
         "opacity": 0.8,
         "type": "mesh3d",
         "x": [
          183.8993975783006,
          190.7131140449321,
          196.6357783344005,
          189.822061867769
         ],
         "y": [
          924.883383366626,
          923.7930715844388,
          930.1892374344725,
          931.2795492166597
         ],
         "z": [
          730.1846237348467,
          726.1368480333066,
          734.3837329077982,
          738.4315086093383
         ]
        },
        {
         "marker": {
          "color": "red",
          "size": 3
         },
         "mode": "markers+text",
         "showlegend": false,
         "text": "P8",
         "textfont": {
          "size": 12
         },
         "textposition": "top center",
         "type": "scatter3d",
         "x": [
          190.26758795635055
         ],
         "y": [
          927.5363104005493
         ],
         "z": [
          732.2841783213224
         ]
        },
        {
         "line": {
          "color": "rgba(127, 127, 127, 0.8)",
          "width": 4
         },
         "mode": "lines",
         "showlegend": false,
         "type": "scatter3d",
         "x": [
          183.8993975783006,
          190.7131140449321
         ],
         "y": [
          924.883383366626,
          923.7930715844388
         ],
         "z": [
          730.1846237348467,
          726.1368480333066
         ]
        },
        {
         "line": {
          "color": "rgba(127, 127, 127, 0.8)",
          "width": 4
         },
         "mode": "lines",
         "showlegend": false,
         "type": "scatter3d",
         "x": [
          190.7131140449321,
          196.6357783344005
         ],
         "y": [
          923.7930715844388,
          930.1892374344725
         ],
         "z": [
          726.1368480333066,
          734.3837329077982
         ]
        },
        {
         "line": {
          "color": "rgba(127, 127, 127, 0.8)",
          "width": 4
         },
         "mode": "lines",
         "showlegend": false,
         "type": "scatter3d",
         "x": [
          196.6357783344005,
          189.822061867769
         ],
         "y": [
          930.1892374344725,
          931.2795492166597
         ],
         "z": [
          734.3837329077982,
          738.4315086093383
         ]
        },
        {
         "line": {
          "color": "rgba(127, 127, 127, 0.8)",
          "width": 4
         },
         "mode": "lines",
         "showlegend": false,
         "type": "scatter3d",
         "x": [
          189.822061867769,
          183.8993975783006
         ],
         "y": [
          931.2795492166597,
          924.883383366626
         ],
         "z": [
          738.4315086093383,
          730.1846237348467
         ]
        },
        {
         "color": "rgba(188, 189, 34, 0.8)",
         "name": "P10",
         "opacity": 0.8,
         "type": "mesh3d",
         "x": [
          182.57627432262356,
          189.29196152823036,
          195.58505478364137,
          188.86936757803457
         ],
         "y": [
          926.1967198501695,
          924.5364229055037,
          931.1557649063423,
          932.816061851008
         ],
         "z": [
          730.3559128163166,
          726.338082629265,
          734.1214809073075,
          738.1393110943591
         ]
        },
        {
         "marker": {
          "color": "red",
          "size": 3
         },
         "mode": "markers+text",
         "showlegend": false,
         "text": "P9",
         "textfont": {
          "size": 12
         },
         "textposition": "top center",
         "type": "scatter3d",
         "x": [
          189.08066455313246
         ],
         "y": [
          928.6762423782559
         ],
         "z": [
          732.2386968618121
         ]
        },
        {
         "line": {
          "color": "rgba(188, 189, 34, 0.8)",
          "width": 4
         },
         "mode": "lines",
         "showlegend": false,
         "type": "scatter3d",
         "x": [
          182.57627432262356,
          189.29196152823036
         ],
         "y": [
          926.1967198501695,
          924.5364229055037
         ],
         "z": [
          730.3559128163166,
          726.338082629265
         ]
        },
        {
         "line": {
          "color": "rgba(188, 189, 34, 0.8)",
          "width": 4
         },
         "mode": "lines",
         "showlegend": false,
         "type": "scatter3d",
         "x": [
          189.29196152823036,
          195.58505478364137
         ],
         "y": [
          924.5364229055037,
          931.1557649063423
         ],
         "z": [
          726.338082629265,
          734.1214809073075
         ]
        },
        {
         "line": {
          "color": "rgba(188, 189, 34, 0.8)",
          "width": 4
         },
         "mode": "lines",
         "showlegend": false,
         "type": "scatter3d",
         "x": [
          195.58505478364137,
          188.86936757803457
         ],
         "y": [
          931.1557649063423,
          932.816061851008
         ],
         "z": [
          734.1214809073075,
          738.1393110943591
         ]
        },
        {
         "line": {
          "color": "rgba(188, 189, 34, 0.8)",
          "width": 4
         },
         "mode": "lines",
         "showlegend": false,
         "type": "scatter3d",
         "x": [
          188.86936757803457,
          182.57627432262356
         ],
         "y": [
          932.816061851008,
          926.1967198501695
         ],
         "z": [
          738.1393110943591,
          730.3559128163166
         ]
        },
        {
         "color": "rgba(23, 190, 207, 0.8)",
         "name": "P11",
         "opacity": 0.8,
         "type": "mesh3d",
         "x": [
          184.02937104447403,
          192.02937104447403,
          192.02937104447403,
          184.02937104447403
         ],
         "y": [
          929.7932071877393,
          929.7932071877393,
          929.7932071877393,
          929.7932071877393
         ],
         "z": [
          738.0386575893957,
          738.0386575893957,
          726.0386575893957,
          726.0386575893957
         ]
        },
        {
         "marker": {
          "color": "red",
          "size": 3
         },
         "mode": "markers+text",
         "showlegend": false,
         "text": "",
         "textfont": {
          "size": 12
         },
         "textposition": "top center",
         "type": "scatter3d",
         "x": [
          188.02937104447403
         ],
         "y": [
          929.7932071877393
         ],
         "z": [
          732.0386575893957
         ]
        },
        {
         "line": {
          "color": "rgba(23, 190, 207, 0.8)",
          "width": 4
         },
         "mode": "lines",
         "showlegend": false,
         "type": "scatter3d",
         "x": [
          184.02937104447403,
          192.02937104447403
         ],
         "y": [
          929.7932071877393,
          929.7932071877393
         ],
         "z": [
          738.0386575893957,
          738.0386575893957
         ]
        },
        {
         "line": {
          "color": "rgba(23, 190, 207, 0.8)",
          "width": 4
         },
         "mode": "lines",
         "showlegend": false,
         "type": "scatter3d",
         "x": [
          192.02937104447403,
          192.02937104447403
         ],
         "y": [
          929.7932071877393,
          929.7932071877393
         ],
         "z": [
          738.0386575893957,
          726.0386575893957
         ]
        },
        {
         "line": {
          "color": "rgba(23, 190, 207, 0.8)",
          "width": 4
         },
         "mode": "lines",
         "showlegend": false,
         "type": "scatter3d",
         "x": [
          192.02937104447403,
          184.02937104447403
         ],
         "y": [
          929.7932071877393,
          929.7932071877393
         ],
         "z": [
          726.0386575893957,
          726.0386575893957
         ]
        },
        {
         "line": {
          "color": "rgba(23, 190, 207, 0.8)",
          "width": 4
         },
         "mode": "lines",
         "showlegend": false,
         "type": "scatter3d",
         "x": [
          184.02937104447403,
          184.02937104447403
         ],
         "y": [
          929.7932071877393,
          929.7932071877393
         ],
         "z": [
          726.0386575893957,
          738.0386575893957
         ]
        },
        {
         "line": {
          "color": "black",
          "width": 2
         },
         "mode": "lines",
         "name": "Berechnete Hakenlinie",
         "type": "scatter3d",
         "x": {
          "bdata": "iBsjqG84aUAAeIC8Sm5oQCAwY1hDW2hAQBUEIPNDaEDUOC6YbixoQHjYVZTXFGhAmJVJlQf9Z0A/+RBxC+VnQIgqnhSQyGdA0DTUzZSiZ0Dkboub8IBnQA==",
          "dtype": "f8"
         },
         "y": {
          "bdata": "rDug0TerjEDkSenLS9mMQHTTK4Lc0YxAoqgA8jLajEBBgO8oguKMQNZnztHs6oxAQDLcoFPzjECF7Cd3w/uMQOl2G11K/IxAOpbD8WgFjUBXkgJ9WA6NQA==",
          "dtype": "f8"
         },
         "z": {
          "bdata": "noi+OjU9h0Bnw5QK5BKHQB8e//2vC4dA8LwgflYEh0BjqAoW7vyGQFhmnjen9oZA/mVIdrrvhkABoSGPv+iGQH+iSP9F4oZAIHnm2ejhhkCT0bUrT+CGQA==",
          "dtype": "f8"
         }
        },
        {
         "mode": "text",
         "showlegend": false,
         "text": [
          "Pre-Position"
         ],
         "textfont": {
          "size": 10
         },
         "textposition": "top center",
         "type": "scatter3d",
         "x": [
          201.76362997872297
         ],
         "y": [
          917.4022552984438
         ],
         "z": [
          743.6509909520571
         ]
        },
        {
         "mode": "text",
         "showlegend": false,
         "text": [
          "Loslassen"
         ],
         "textfont": {
          "size": 10
         },
         "textposition": "top center",
         "type": "scatter3d",
         "x": [
          188.02937104447403
         ],
         "y": [
          929.7932071877393
         ],
         "z": [
          732.0386575893957
         ]
        },
        {
         "color": "rgba(0,255,0,0.2)",
         "name": "optimale Trajektorie",
         "opacity": 0.8,
         "type": "mesh3d",
         "x": [
          195.28756076926425,
          199.20243684111037,
          207.7191673910965,
          203.80429131925038
         ],
         "y": [
          912.9831524002064,
          909.0322555987393,
          917.4859648283824,
          921.4368616298495
         ],
         "z": [
          746.5842573761463,
          740.8341130469801,
          740.8240631922076,
          746.5742075213739
         ]
        },
        {
         "line": {
          "color": "rgba(0,255,0,0.2)",
          "width": 3
         },
         "mode": "lines",
         "showlegend": false,
         "type": "scatter3d",
         "x": [
          195.28756076926425,
          199.20243684111037
         ],
         "y": [
          912.9831524002064,
          909.0322555987393
         ],
         "z": [
          746.5842573761463,
          740.8341130469801
         ]
        },
        {
         "line": {
          "color": "rgba(0,255,0,0.2)",
          "width": 3
         },
         "mode": "lines",
         "showlegend": false,
         "type": "scatter3d",
         "x": [
          199.20243684111037,
          207.7191673910965
         ],
         "y": [
          909.0322555987393,
          917.4859648283824
         ],
         "z": [
          740.8341130469801,
          740.8240631922076
         ]
        },
        {
         "line": {
          "color": "rgba(0,255,0,0.2)",
          "width": 3
         },
         "mode": "lines",
         "showlegend": false,
         "type": "scatter3d",
         "x": [
          207.7191673910965,
          203.80429131925038
         ],
         "y": [
          917.4859648283824,
          921.4368616298495
         ],
         "z": [
          740.8240631922076,
          746.5742075213739
         ]
        },
        {
         "line": {
          "color": "rgba(0,255,0,0.2)",
          "width": 3
         },
         "mode": "lines",
         "showlegend": false,
         "type": "scatter3d",
         "x": [
          203.80429131925038,
          195.28756076926425
         ],
         "y": [
          921.4368616298495,
          912.9831524002064
         ],
         "z": [
          746.5742075213739,
          746.5842573761463
         ]
        },
        {
         "marker": {
          "color": "green",
          "size": 4
         },
         "mode": "markers",
         "name": "Mitte P11",
         "showlegend": false,
         "type": "scatter3d",
         "x": [
          201.50336408018038
         ],
         "y": [
          915.2345586142944
         ],
         "z": [
          743.704160284177
         ]
        },
        {
         "color": "rgba(0,255,0,0.2)",
         "name": "optimale Trajektorie",
         "opacity": 0.8,
         "type": "mesh3d",
         "x": [
          191.2391552362933,
          195.17499334285534,
          203.64282515948815,
          199.7069870529261
         ],
         "y": [
          919.4698325800452,
          915.5091243869107,
          924.0116027552956,
          927.9723109484302
         ],
         "z": [
          741.1287252684803,
          735.3996791866468,
          735.3389674055264,
          741.0680134873598
         ]
        },
        {
         "line": {
          "color": "rgba(0,255,0,0.2)",
          "width": 3
         },
         "mode": "lines",
         "showlegend": false,
         "type": "scatter3d",
         "x": [
          191.2391552362933,
          195.17499334285534
         ],
         "y": [
          919.4698325800452,
          915.5091243869107
         ],
         "z": [
          741.1287252684803,
          735.3996791866468
         ]
        },
        {
         "line": {
          "color": "rgba(0,255,0,0.2)",
          "width": 3
         },
         "mode": "lines",
         "showlegend": false,
         "type": "scatter3d",
         "x": [
          195.17499334285534,
          203.64282515948815
         ],
         "y": [
          915.5091243869107,
          924.0116027552956
         ],
         "z": [
          735.3996791866468,
          735.3389674055264
         ]
        },
        {
         "line": {
          "color": "rgba(0,255,0,0.2)",
          "width": 3
         },
         "mode": "lines",
         "showlegend": false,
         "type": "scatter3d",
         "x": [
          203.64282515948815,
          199.7069870529261
         ],
         "y": [
          924.0116027552956,
          927.9723109484302
         ],
         "z": [
          735.3389674055264,
          741.0680134873598
         ]
        },
        {
         "line": {
          "color": "rgba(0,255,0,0.2)",
          "width": 3
         },
         "mode": "lines",
         "showlegend": false,
         "type": "scatter3d",
         "x": [
          199.7069870529261,
          191.2391552362933
         ],
         "y": [
          927.9723109484302,
          919.4698325800452
         ],
         "z": [
          741.0680134873598,
          741.1287252684803
         ]
        },
        {
         "marker": {
          "color": "green",
          "size": 4
         },
         "mode": "markers",
         "name": "Mitte P11",
         "showlegend": false,
         "type": "scatter3d",
         "x": [
          197.44099019789073
         ],
         "y": [
          921.7407176676704
         ],
         "z": [
          738.2338463370033
         ]
        },
        {
         "color": "rgba(0,255,0,0.2)",
         "name": "optimale Trajektorie",
         "opacity": 0.8,
         "type": "mesh3d",
         "x": [
          187.67617788107341,
          191.45069157629476,
          200.20977487691655,
          196.4352611816952
         ],
         "y": [
          922.6860263786168,
          918.6227230840526,
          926.8249373198271,
          930.8882406143913
         ],
         "z": [
          738.9733473214234,
          733.2077066197346,
          733.1614317536847,
          738.9270724553735
         ]
        },
        {
         "line": {
          "color": "rgba(0,255,0,0.2)",
          "width": 3
         },
         "mode": "lines",
         "showlegend": false,
         "type": "scatter3d",
         "x": [
          187.67617788107341,
          191.45069157629476
         ],
         "y": [
          922.6860263786168,
          918.6227230840526
         ],
         "z": [
          738.9733473214234,
          733.2077066197346
         ]
        },
        {
         "line": {
          "color": "rgba(0,255,0,0.2)",
          "width": 3
         },
         "mode": "lines",
         "showlegend": false,
         "type": "scatter3d",
         "x": [
          191.45069157629476,
          200.20977487691655
         ],
         "y": [
          918.6227230840526,
          926.8249373198271
         ],
         "z": [
          733.2077066197346,
          733.1614317536847
         ]
        },
        {
         "line": {
          "color": "rgba(0,255,0,0.2)",
          "width": 3
         },
         "mode": "lines",
         "showlegend": false,
         "type": "scatter3d",
         "x": [
          200.20977487691655,
          196.4352611816952
         ],
         "y": [
          926.8249373198271,
          930.8882406143913
         ],
         "z": [
          733.1614317536847,
          738.9270724553735
         ]
        },
        {
         "line": {
          "color": "rgba(0,255,0,0.2)",
          "width": 3
         },
         "mode": "lines",
         "showlegend": false,
         "type": "scatter3d",
         "x": [
          196.4352611816952,
          187.67617788107341
         ],
         "y": [
          930.8882406143913,
          922.6860263786168
         ],
         "z": [
          738.9270724553735,
          738.9733473214234
         ]
        },
        {
         "marker": {
          "color": "green",
          "size": 4
         },
         "mode": "markers",
         "name": "Mitte P11",
         "showlegend": false,
         "type": "scatter3d",
         "x": [
          193.94297637899498
         ],
         "y": [
          924.755481849222
         ],
         "z": [
          736.067389537554
         ]
        },
        {
         "color": "rgba(0,255,0,0.2)",
         "name": "optimale Trajektorie",
         "opacity": 0.8,
         "type": "mesh3d",
         "x": [
          185.13029818141257,
          188.91096286800732,
          197.64735538994285,
          193.8666907033481
         ],
         "y": [
          924.4743312348827,
          920.4005821420782,
          928.6266650534727,
          932.7004141462772
         ],
         "z": [
          735.6483221160419,
          729.894093857065,
          729.810394170497,
          735.564622429474
         ]
        },
        {
         "line": {
          "color": "rgba(0,255,0,0.2)",
          "width": 3
         },
         "mode": "lines",
         "showlegend": false,
         "type": "scatter3d",
         "x": [
          185.13029818141257,
          188.91096286800732
         ],
         "y": [
          924.4743312348827,
          920.4005821420782
         ],
         "z": [
          735.6483221160419,
          729.894093857065
         ]
        },
        {
         "line": {
          "color": "rgba(0,255,0,0.2)",
          "width": 3
         },
         "mode": "lines",
         "showlegend": false,
         "type": "scatter3d",
         "x": [
          188.91096286800732,
          197.64735538994285
         ],
         "y": [
          920.4005821420782,
          928.6266650534727
         ],
         "z": [
          729.894093857065,
          729.810394170497
         ]
        },
        {
         "line": {
          "color": "rgba(0,255,0,0.2)",
          "width": 3
         },
         "mode": "lines",
         "showlegend": false,
         "type": "scatter3d",
         "x": [
          197.64735538994285,
          193.8666907033481
         ],
         "y": [
          928.6266650534727,
          932.7004141462772
         ],
         "z": [
          729.810394170497,
          735.564622429474
         ]
        },
        {
         "line": {
          "color": "rgba(0,255,0,0.2)",
          "width": 3
         },
         "mode": "lines",
         "showlegend": false,
         "type": "scatter3d",
         "x": [
          193.8666907033481,
          185.13029818141257
         ],
         "y": [
          932.7004141462772,
          924.4743312348827
         ],
         "z": [
          735.564622429474,
          735.6483221160419
         ]
        },
        {
         "marker": {
          "color": "green",
          "size": 4
         },
         "mode": "markers",
         "name": "Mitte P11",
         "showlegend": false,
         "type": "scatter3d",
         "x": [
          191.3888267856777
         ],
         "y": [
          926.5504981441777
         ],
         "z": [
          732.7293581432696
         ]
        },
        {
         "color": "rgba(0,255,0,0.2)",
         "name": "optimale Trajektorie",
         "opacity": 0.8,
         "type": "mesh3d",
         "x": [
          184.48632556888546,
          187.19116401619044,
          195.93429925257456,
          193.22946080526958
         ],
         "y": [
          924.1575942044245,
          921.1599445378718,
          929.3780461885614,
          932.3756958551141
         ],
         "z": [
          734.6862673607562,
          727.7798974422972,
          727.6370986424687,
          734.5434685609277
         ]
        },
        {
         "line": {
          "color": "rgba(0,255,0,0.2)",
          "width": 3
         },
         "mode": "lines",
         "showlegend": false,
         "type": "scatter3d",
         "x": [
          184.48632556888546,
          187.19116401619044
         ],
         "y": [
          924.1575942044245,
          921.1599445378718
         ],
         "z": [
          734.6862673607562,
          727.7798974422972
         ]
        },
        {
         "line": {
          "color": "rgba(0,255,0,0.2)",
          "width": 3
         },
         "mode": "lines",
         "showlegend": false,
         "type": "scatter3d",
         "x": [
          187.19116401619044,
          195.93429925257456
         ],
         "y": [
          921.1599445378718,
          929.3780461885614
         ],
         "z": [
          727.7798974422972,
          727.6370986424687
         ]
        },
        {
         "line": {
          "color": "rgba(0,255,0,0.2)",
          "width": 3
         },
         "mode": "lines",
         "showlegend": false,
         "type": "scatter3d",
         "x": [
          195.93429925257456,
          193.22946080526958
         ],
         "y": [
          929.3780461885614,
          932.3756958551141
         ],
         "z": [
          727.6370986424687,
          734.5434685609277
         ]
        },
        {
         "line": {
          "color": "rgba(0,255,0,0.2)",
          "width": 3
         },
         "mode": "lines",
         "showlegend": false,
         "type": "scatter3d",
         "x": [
          193.22946080526958,
          184.48632556888546
         ],
         "y": [
          932.3756958551141,
          924.1575942044245
         ],
         "z": [
          734.5434685609277,
          734.6862673607562
         ]
        },
        {
         "marker": {
          "color": "green",
          "size": 4
         },
         "mode": "markers",
         "name": "Mitte P11",
         "showlegend": false,
         "type": "scatter3d",
         "x": [
          190.21031241073
         ],
         "y": [
          926.767820196493
         ],
         "z": [
          731.1616830016123
         ]
        },
        {
         "color": "rgba(0,255,0,0.2)",
         "name": "optimale Trajektorie",
         "opacity": 0.8,
         "type": "mesh3d",
         "x": [
          184.21420709678668,
          184.79005799160421,
          193.53946859932793,
          192.9636177045104
         ],
         "y": [
          923.6103611636458,
          922.7992154684895,
          931.0093372414542,
          931.8204829366106
         ],
         "z": [
          734.099054161707,
          726.1611426978416,
          725.9569014421099,
          733.8948129059754
         ]
        },
        {
         "line": {
          "color": "rgba(0,255,0,0.2)",
          "width": 3
         },
         "mode": "lines",
         "showlegend": false,
         "type": "scatter3d",
         "x": [
          184.21420709678668,
          184.79005799160421
         ],
         "y": [
          923.6103611636458,
          922.7992154684895
         ],
         "z": [
          734.099054161707,
          726.1611426978416
         ]
        },
        {
         "line": {
          "color": "rgba(0,255,0,0.2)",
          "width": 3
         },
         "mode": "lines",
         "showlegend": false,
         "type": "scatter3d",
         "x": [
          184.79005799160421,
          193.53946859932793
         ],
         "y": [
          922.7992154684895,
          931.0093372414542
         ],
         "z": [
          726.1611426978416,
          725.9569014421099
         ]
        },
        {
         "line": {
          "color": "rgba(0,255,0,0.2)",
          "width": 3
         },
         "mode": "lines",
         "showlegend": false,
         "type": "scatter3d",
         "x": [
          193.53946859932793,
          192.9636177045104
         ],
         "y": [
          931.0093372414542,
          931.8204829366106
         ],
         "z": [
          725.9569014421099,
          733.8948129059754
         ]
        },
        {
         "line": {
          "color": "rgba(0,255,0,0.2)",
          "width": 3
         },
         "mode": "lines",
         "showlegend": false,
         "type": "scatter3d",
         "x": [
          192.9636177045104,
          184.21420709678668
         ],
         "y": [
          931.8204829366106,
          923.6103611636458
         ],
         "z": [
          733.8948129059754,
          734.099054161707
         ]
        },
        {
         "marker": {
          "color": "green",
          "size": 4
         },
         "mode": "markers",
         "name": "Mitte P11",
         "showlegend": false,
         "type": "scatter3d",
         "x": [
          188.8768378480573
         ],
         "y": [
          927.3098492025499
         ],
         "z": [
          730.0279778019085
         ]
        },
        {
         "line": {
          "color": "green",
          "width": 2
         },
         "mode": "lines",
         "name": "Optimale Hakenlinie",
         "type": "scatter3d",
         "x": {
          "bdata": "Y8v8jhswaUCDuXmXHK5oQOOVzNwsPmhAbQnfRHHsZ0DowBfhusZnQKMpPw4PnGdA",
          "dtype": "f8"
         },
         "y": {
          "bdata": "HktEYOCZjEC2cWL97M2MQApZEToL5oxABC6Sa2f0jEAqSep+JPaMQCb9N5J6+oxA",
          "dtype": "f8"
         },
         "z": {
          "bdata": "dX3JHqI9h0DADdTq3hGHQBmfhgOKAIdAUOO4udXlhkD0IXUgS9mGQLABbUw50IZA",
          "dtype": "f8"
         }
        },
        {
         "line": {
          "color": "gray",
          "dash": "dash"
         },
         "mode": "lines",
         "name": "Direkte Gerade Spitze -> Senke",
         "type": "scatter3d",
         "x": [
          195.44662308780244,
          188.02937104447403
         ],
         "y": [
          923.1620100236582,
          929.7932071877393
         ],
         "z": [
          738.3613483068592,
          732.0386575893957
         ]
        },
        {
         "marker": {
          "color": "magenta",
          "size": 8
         },
         "mode": "markers",
         "name": "Spitze",
         "type": "scatter3d",
         "x": [
          195.44662308780244
         ],
         "y": [
          923.1620100236582
         ],
         "z": [
          738.3613483068592
         ]
        },
        {
         "marker": {
          "color": "magenta",
          "size": 8
         },
         "mode": "markers",
         "name": "Senke",
         "type": "scatter3d",
         "x": [
          188.02937104447403
         ],
         "y": [
          929.7932071877393
         ],
         "z": [
          732.0386575893957
         ]
        },
        {
         "mode": "text",
         "showlegend": false,
         "text": [
          "Spitze"
         ],
         "textfont": {
          "size": 10
         },
         "textposition": "top center",
         "type": "scatter3d",
         "x": [
          195.44662308780244
         ],
         "y": [
          923.1620100236582
         ],
         "z": [
          738.3613483068592
         ]
        },
        {
         "mode": "text",
         "showlegend": false,
         "text": [
          "Senke"
         ],
         "textfont": {
          "size": 10
         },
         "textposition": "top center",
         "type": "scatter3d",
         "x": [
          188.02937104447403
         ],
         "y": [
          929.7932071877393
         ],
         "z": [
          732.0386575893957
         ]
        }
       ],
       "layout": {
        "legend": {
         "title": {
          "text": "Legende"
         }
        },
        "scene": {
         "aspectmode": "cube",
         "xaxis": {
          "title": {
           "text": "X"
          }
         },
         "yaxis": {
          "title": {
           "text": "Y"
          }
         },
         "zaxis": {
          "title": {
           "text": "Z"
          }
         }
        },
        "template": {
         "data": {
          "bar": [
           {
            "error_x": {
             "color": "#2a3f5f"
            },
            "error_y": {
             "color": "#2a3f5f"
            },
            "marker": {
             "line": {
              "color": "#E5ECF6",
              "width": 0.5
             },
             "pattern": {
              "fillmode": "overlay",
              "size": 10,
              "solidity": 0.2
             }
            },
            "type": "bar"
           }
          ],
          "barpolar": [
           {
            "marker": {
             "line": {
              "color": "#E5ECF6",
              "width": 0.5
             },
             "pattern": {
              "fillmode": "overlay",
              "size": 10,
              "solidity": 0.2
             }
            },
            "type": "barpolar"
           }
          ],
          "carpet": [
           {
            "aaxis": {
             "endlinecolor": "#2a3f5f",
             "gridcolor": "white",
             "linecolor": "white",
             "minorgridcolor": "white",
             "startlinecolor": "#2a3f5f"
            },
            "baxis": {
             "endlinecolor": "#2a3f5f",
             "gridcolor": "white",
             "linecolor": "white",
             "minorgridcolor": "white",
             "startlinecolor": "#2a3f5f"
            },
            "type": "carpet"
           }
          ],
          "choropleth": [
           {
            "colorbar": {
             "outlinewidth": 0,
             "ticks": ""
            },
            "type": "choropleth"
           }
          ],
          "contour": [
           {
            "colorbar": {
             "outlinewidth": 0,
             "ticks": ""
            },
            "colorscale": [
             [
              0,
              "#0d0887"
             ],
             [
              0.1111111111111111,
              "#46039f"
             ],
             [
              0.2222222222222222,
              "#7201a8"
             ],
             [
              0.3333333333333333,
              "#9c179e"
             ],
             [
              0.4444444444444444,
              "#bd3786"
             ],
             [
              0.5555555555555556,
              "#d8576b"
             ],
             [
              0.6666666666666666,
              "#ed7953"
             ],
             [
              0.7777777777777778,
              "#fb9f3a"
             ],
             [
              0.8888888888888888,
              "#fdca26"
             ],
             [
              1,
              "#f0f921"
             ]
            ],
            "type": "contour"
           }
          ],
          "contourcarpet": [
           {
            "colorbar": {
             "outlinewidth": 0,
             "ticks": ""
            },
            "type": "contourcarpet"
           }
          ],
          "heatmap": [
           {
            "colorbar": {
             "outlinewidth": 0,
             "ticks": ""
            },
            "colorscale": [
             [
              0,
              "#0d0887"
             ],
             [
              0.1111111111111111,
              "#46039f"
             ],
             [
              0.2222222222222222,
              "#7201a8"
             ],
             [
              0.3333333333333333,
              "#9c179e"
             ],
             [
              0.4444444444444444,
              "#bd3786"
             ],
             [
              0.5555555555555556,
              "#d8576b"
             ],
             [
              0.6666666666666666,
              "#ed7953"
             ],
             [
              0.7777777777777778,
              "#fb9f3a"
             ],
             [
              0.8888888888888888,
              "#fdca26"
             ],
             [
              1,
              "#f0f921"
             ]
            ],
            "type": "heatmap"
           }
          ],
          "histogram": [
           {
            "marker": {
             "pattern": {
              "fillmode": "overlay",
              "size": 10,
              "solidity": 0.2
             }
            },
            "type": "histogram"
           }
          ],
          "histogram2d": [
           {
            "colorbar": {
             "outlinewidth": 0,
             "ticks": ""
            },
            "colorscale": [
             [
              0,
              "#0d0887"
             ],
             [
              0.1111111111111111,
              "#46039f"
             ],
             [
              0.2222222222222222,
              "#7201a8"
             ],
             [
              0.3333333333333333,
              "#9c179e"
             ],
             [
              0.4444444444444444,
              "#bd3786"
             ],
             [
              0.5555555555555556,
              "#d8576b"
             ],
             [
              0.6666666666666666,
              "#ed7953"
             ],
             [
              0.7777777777777778,
              "#fb9f3a"
             ],
             [
              0.8888888888888888,
              "#fdca26"
             ],
             [
              1,
              "#f0f921"
             ]
            ],
            "type": "histogram2d"
           }
          ],
          "histogram2dcontour": [
           {
            "colorbar": {
             "outlinewidth": 0,
             "ticks": ""
            },
            "colorscale": [
             [
              0,
              "#0d0887"
             ],
             [
              0.1111111111111111,
              "#46039f"
             ],
             [
              0.2222222222222222,
              "#7201a8"
             ],
             [
              0.3333333333333333,
              "#9c179e"
             ],
             [
              0.4444444444444444,
              "#bd3786"
             ],
             [
              0.5555555555555556,
              "#d8576b"
             ],
             [
              0.6666666666666666,
              "#ed7953"
             ],
             [
              0.7777777777777778,
              "#fb9f3a"
             ],
             [
              0.8888888888888888,
              "#fdca26"
             ],
             [
              1,
              "#f0f921"
             ]
            ],
            "type": "histogram2dcontour"
           }
          ],
          "mesh3d": [
           {
            "colorbar": {
             "outlinewidth": 0,
             "ticks": ""
            },
            "type": "mesh3d"
           }
          ],
          "parcoords": [
           {
            "line": {
             "colorbar": {
              "outlinewidth": 0,
              "ticks": ""
             }
            },
            "type": "parcoords"
           }
          ],
          "pie": [
           {
            "automargin": true,
            "type": "pie"
           }
          ],
          "scatter": [
           {
            "fillpattern": {
             "fillmode": "overlay",
             "size": 10,
             "solidity": 0.2
            },
            "type": "scatter"
           }
          ],
          "scatter3d": [
           {
            "line": {
             "colorbar": {
              "outlinewidth": 0,
              "ticks": ""
             }
            },
            "marker": {
             "colorbar": {
              "outlinewidth": 0,
              "ticks": ""
             }
            },
            "type": "scatter3d"
           }
          ],
          "scattercarpet": [
           {
            "marker": {
             "colorbar": {
              "outlinewidth": 0,
              "ticks": ""
             }
            },
            "type": "scattercarpet"
           }
          ],
          "scattergeo": [
           {
            "marker": {
             "colorbar": {
              "outlinewidth": 0,
              "ticks": ""
             }
            },
            "type": "scattergeo"
           }
          ],
          "scattergl": [
           {
            "marker": {
             "colorbar": {
              "outlinewidth": 0,
              "ticks": ""
             }
            },
            "type": "scattergl"
           }
          ],
          "scattermap": [
           {
            "marker": {
             "colorbar": {
              "outlinewidth": 0,
              "ticks": ""
             }
            },
            "type": "scattermap"
           }
          ],
          "scattermapbox": [
           {
            "marker": {
             "colorbar": {
              "outlinewidth": 0,
              "ticks": ""
             }
            },
            "type": "scattermapbox"
           }
          ],
          "scatterpolar": [
           {
            "marker": {
             "colorbar": {
              "outlinewidth": 0,
              "ticks": ""
             }
            },
            "type": "scatterpolar"
           }
          ],
          "scatterpolargl": [
           {
            "marker": {
             "colorbar": {
              "outlinewidth": 0,
              "ticks": ""
             }
            },
            "type": "scatterpolargl"
           }
          ],
          "scatterternary": [
           {
            "marker": {
             "colorbar": {
              "outlinewidth": 0,
              "ticks": ""
             }
            },
            "type": "scatterternary"
           }
          ],
          "surface": [
           {
            "colorbar": {
             "outlinewidth": 0,
             "ticks": ""
            },
            "colorscale": [
             [
              0,
              "#0d0887"
             ],
             [
              0.1111111111111111,
              "#46039f"
             ],
             [
              0.2222222222222222,
              "#7201a8"
             ],
             [
              0.3333333333333333,
              "#9c179e"
             ],
             [
              0.4444444444444444,
              "#bd3786"
             ],
             [
              0.5555555555555556,
              "#d8576b"
             ],
             [
              0.6666666666666666,
              "#ed7953"
             ],
             [
              0.7777777777777778,
              "#fb9f3a"
             ],
             [
              0.8888888888888888,
              "#fdca26"
             ],
             [
              1,
              "#f0f921"
             ]
            ],
            "type": "surface"
           }
          ],
          "table": [
           {
            "cells": {
             "fill": {
              "color": "#EBF0F8"
             },
             "line": {
              "color": "white"
             }
            },
            "header": {
             "fill": {
              "color": "#C8D4E3"
             },
             "line": {
              "color": "white"
             }
            },
            "type": "table"
           }
          ]
         },
         "layout": {
          "annotationdefaults": {
           "arrowcolor": "#2a3f5f",
           "arrowhead": 0,
           "arrowwidth": 1
          },
          "autotypenumbers": "strict",
          "coloraxis": {
           "colorbar": {
            "outlinewidth": 0,
            "ticks": ""
           }
          },
          "colorscale": {
           "diverging": [
            [
             0,
             "#8e0152"
            ],
            [
             0.1,
             "#c51b7d"
            ],
            [
             0.2,
             "#de77ae"
            ],
            [
             0.3,
             "#f1b6da"
            ],
            [
             0.4,
             "#fde0ef"
            ],
            [
             0.5,
             "#f7f7f7"
            ],
            [
             0.6,
             "#e6f5d0"
            ],
            [
             0.7,
             "#b8e186"
            ],
            [
             0.8,
             "#7fbc41"
            ],
            [
             0.9,
             "#4d9221"
            ],
            [
             1,
             "#276419"
            ]
           ],
           "sequential": [
            [
             0,
             "#0d0887"
            ],
            [
             0.1111111111111111,
             "#46039f"
            ],
            [
             0.2222222222222222,
             "#7201a8"
            ],
            [
             0.3333333333333333,
             "#9c179e"
            ],
            [
             0.4444444444444444,
             "#bd3786"
            ],
            [
             0.5555555555555556,
             "#d8576b"
            ],
            [
             0.6666666666666666,
             "#ed7953"
            ],
            [
             0.7777777777777778,
             "#fb9f3a"
            ],
            [
             0.8888888888888888,
             "#fdca26"
            ],
            [
             1,
             "#f0f921"
            ]
           ],
           "sequentialminus": [
            [
             0,
             "#0d0887"
            ],
            [
             0.1111111111111111,
             "#46039f"
            ],
            [
             0.2222222222222222,
             "#7201a8"
            ],
            [
             0.3333333333333333,
             "#9c179e"
            ],
            [
             0.4444444444444444,
             "#bd3786"
            ],
            [
             0.5555555555555556,
             "#d8576b"
            ],
            [
             0.6666666666666666,
             "#ed7953"
            ],
            [
             0.7777777777777778,
             "#fb9f3a"
            ],
            [
             0.8888888888888888,
             "#fdca26"
            ],
            [
             1,
             "#f0f921"
            ]
           ]
          },
          "colorway": [
           "#636efa",
           "#EF553B",
           "#00cc96",
           "#ab63fa",
           "#FFA15A",
           "#19d3f3",
           "#FF6692",
           "#B6E880",
           "#FF97FF",
           "#FECB52"
          ],
          "font": {
           "color": "#2a3f5f"
          },
          "geo": {
           "bgcolor": "white",
           "lakecolor": "white",
           "landcolor": "#E5ECF6",
           "showlakes": true,
           "showland": true,
           "subunitcolor": "white"
          },
          "hoverlabel": {
           "align": "left"
          },
          "hovermode": "closest",
          "mapbox": {
           "style": "light"
          },
          "paper_bgcolor": "white",
          "plot_bgcolor": "#E5ECF6",
          "polar": {
           "angularaxis": {
            "gridcolor": "white",
            "linecolor": "white",
            "ticks": ""
           },
           "bgcolor": "#E5ECF6",
           "radialaxis": {
            "gridcolor": "white",
            "linecolor": "white",
            "ticks": ""
           }
          },
          "scene": {
           "xaxis": {
            "backgroundcolor": "#E5ECF6",
            "gridcolor": "white",
            "gridwidth": 2,
            "linecolor": "white",
            "showbackground": true,
            "ticks": "",
            "zerolinecolor": "white"
           },
           "yaxis": {
            "backgroundcolor": "#E5ECF6",
            "gridcolor": "white",
            "gridwidth": 2,
            "linecolor": "white",
            "showbackground": true,
            "ticks": "",
            "zerolinecolor": "white"
           },
           "zaxis": {
            "backgroundcolor": "#E5ECF6",
            "gridcolor": "white",
            "gridwidth": 2,
            "linecolor": "white",
            "showbackground": true,
            "ticks": "",
            "zerolinecolor": "white"
           }
          },
          "shapedefaults": {
           "line": {
            "color": "#2a3f5f"
           }
          },
          "ternary": {
           "aaxis": {
            "gridcolor": "white",
            "linecolor": "white",
            "ticks": ""
           },
           "baxis": {
            "gridcolor": "white",
            "linecolor": "white",
            "ticks": ""
           },
           "bgcolor": "#E5ECF6",
           "caxis": {
            "gridcolor": "white",
            "linecolor": "white",
            "ticks": ""
           }
          },
          "title": {
           "x": 0.05
          },
          "xaxis": {
           "automargin": true,
           "gridcolor": "white",
           "linecolor": "white",
           "ticks": "",
           "title": {
            "standoff": 15
           },
           "zerolinecolor": "white",
           "zerolinewidth": 2
          },
          "yaxis": {
           "automargin": true,
           "gridcolor": "white",
           "linecolor": "white",
           "ticks": "",
           "title": {
            "standoff": 15
           },
           "zerolinecolor": "white",
           "zerolinewidth": 2
          }
         }
        },
        "title": {
         "text": "Haken 19, Trajektorien-Ansatz 1"
        }
       }
      }
     },
     "metadata": {},
     "output_type": "display_data"
    },
    {
     "name": "stdout",
     "output_type": "stream",
     "text": [
      "HTML-Datei '/home/mo/Thesis/Evaluation/Trajektorientests/traj2.html' erfolgreich erstellt!\n"
     ]
    },
    {
     "data": {
      "application/vnd.plotly.v1+json": {
       "config": {
        "plotlyServerURL": "https://plot.ly"
       },
       "data": [
        {
         "color": "rgba(31, 119, 180, 0.8)",
         "name": "P1",
         "opacity": 0.8,
         "type": "mesh3d",
         "x": [
          195.65224850610934,
          202.64084921680964,
          207.8750114513366,
          200.8864107406363
         ],
         "y": [
          913.6925812332747,
          911.6478360499912,
          921.111929363613,
          923.1566745468965
         ],
         "z": [
          742.7079454460464,
          739.3945669222677,
          744.5940364580678,
          747.9074149818465
         ]
        },
        {
         "marker": {
          "color": "red",
          "size": 3
         },
         "mode": "markers+text",
         "showlegend": false,
         "text": "",
         "textfont": {
          "size": 12
         },
         "textposition": "top center",
         "type": "scatter3d",
         "x": [
          201.76362997872297
         ],
         "y": [
          917.4022552984438
         ],
         "z": [
          743.6509909520571
         ]
        },
        {
         "line": {
          "color": "rgba(31, 119, 180, 0.8)",
          "width": 4
         },
         "mode": "lines",
         "showlegend": false,
         "type": "scatter3d",
         "x": [
          195.65224850610934,
          202.64084921680964
         ],
         "y": [
          913.6925812332747,
          911.6478360499912
         ],
         "z": [
          742.7079454460464,
          739.3945669222677
         ]
        },
        {
         "line": {
          "color": "rgba(31, 119, 180, 0.8)",
          "width": 4
         },
         "mode": "lines",
         "showlegend": false,
         "type": "scatter3d",
         "x": [
          202.64084921680964,
          207.8750114513366
         ],
         "y": [
          911.6478360499912,
          921.111929363613
         ],
         "z": [
          739.3945669222677,
          744.5940364580678
         ]
        },
        {
         "line": {
          "color": "rgba(31, 119, 180, 0.8)",
          "width": 4
         },
         "mode": "lines",
         "showlegend": false,
         "type": "scatter3d",
         "x": [
          207.8750114513366,
          200.8864107406363
         ],
         "y": [
          921.111929363613,
          923.1566745468965
         ],
         "z": [
          744.5940364580678,
          747.9074149818465
         ]
        },
        {
         "line": {
          "color": "rgba(31, 119, 180, 0.8)",
          "width": 4
         },
         "mode": "lines",
         "showlegend": false,
         "type": "scatter3d",
         "x": [
          200.8864107406363,
          195.65224850610934
         ],
         "y": [
          923.1566745468965,
          913.6925812332747
         ],
         "z": [
          747.9074149818465,
          742.7079454460464
         ]
        },
        {
         "color": "rgba(174, 199, 232, 0.8)",
         "name": "P2",
         "opacity": 0.8,
         "type": "mesh3d",
         "x": [
          189.3352416151888,
          196.3238423258891,
          201.55800456041607,
          194.56940384971577
         ],
         "y": [
          919.4523359584891,
          917.4075907752056,
          926.8716840888274,
          928.9164292721109
         ],
         "z": [
          737.4183028008486,
          734.1049242770698,
          739.3043938128699,
          742.6177723366486
         ]
        },
        {
         "marker": {
          "color": "red",
          "size": 3
         },
         "mode": "markers+text",
         "showlegend": false,
         "text": "",
         "textfont": {
          "size": 12
         },
         "textposition": "top center",
         "type": "scatter3d",
         "x": [
          195.44662308780244
         ],
         "y": [
          923.1620100236582
         ],
         "z": [
          738.3613483068592
         ]
        },
        {
         "line": {
          "color": "rgba(174, 199, 232, 0.8)",
          "width": 4
         },
         "mode": "lines",
         "showlegend": false,
         "type": "scatter3d",
         "x": [
          189.3352416151888,
          196.3238423258891
         ],
         "y": [
          919.4523359584891,
          917.4075907752056
         ],
         "z": [
          737.4183028008486,
          734.1049242770698
         ]
        },
        {
         "line": {
          "color": "rgba(174, 199, 232, 0.8)",
          "width": 4
         },
         "mode": "lines",
         "showlegend": false,
         "type": "scatter3d",
         "x": [
          196.3238423258891,
          201.55800456041607
         ],
         "y": [
          917.4075907752056,
          926.8716840888274
         ],
         "z": [
          734.1049242770698,
          739.3043938128699
         ]
        },
        {
         "line": {
          "color": "rgba(174, 199, 232, 0.8)",
          "width": 4
         },
         "mode": "lines",
         "showlegend": false,
         "type": "scatter3d",
         "x": [
          201.55800456041607,
          194.56940384971577
         ],
         "y": [
          926.8716840888274,
          928.9164292721109
         ],
         "z": [
          739.3043938128699,
          742.6177723366486
         ]
        },
        {
         "line": {
          "color": "rgba(174, 199, 232, 0.8)",
          "width": 4
         },
         "mode": "lines",
         "showlegend": false,
         "type": "scatter3d",
         "x": [
          194.56940384971577,
          189.3352416151888
         ],
         "y": [
          928.9164292721109,
          919.4523359584891
         ],
         "z": [
          742.6177723366486,
          737.4183028008486
         ]
        },
        {
         "color": "rgba(255, 187, 120, 0.8)",
         "name": "P3",
         "opacity": 0.8,
         "type": "mesh3d",
         "x": [
          188.74058938474582,
          195.7291900954461,
          200.96335232997308,
          193.97475161927278
         ],
         "y": [
          918.5229960916822,
          916.4782509083986,
          925.9423442220204,
          927.987089405304
         ],
         "z": [
          736.5178881727181,
          733.2045096489394,
          738.4039791847395,
          741.7173577085182
         ]
        },
        {
         "marker": {
          "color": "red",
          "size": 3
         },
         "mode": "markers+text",
         "showlegend": false,
         "text": "P2",
         "textfont": {
          "size": 12
         },
         "textposition": "top center",
         "type": "scatter3d",
         "x": [
          194.85197085735945
         ],
         "y": [
          922.2326701568513
         ],
         "z": [
          737.4609336787288
         ]
        },
        {
         "line": {
          "color": "rgba(255, 187, 120, 0.8)",
          "width": 4
         },
         "mode": "lines",
         "showlegend": false,
         "type": "scatter3d",
         "x": [
          188.74058938474582,
          195.7291900954461
         ],
         "y": [
          918.5229960916822,
          916.4782509083986
         ],
         "z": [
          736.5178881727181,
          733.2045096489394
         ]
        },
        {
         "line": {
          "color": "rgba(255, 187, 120, 0.8)",
          "width": 4
         },
         "mode": "lines",
         "showlegend": false,
         "type": "scatter3d",
         "x": [
          195.7291900954461,
          200.96335232997308
         ],
         "y": [
          916.4782509083986,
          925.9423442220204
         ],
         "z": [
          733.2045096489394,
          738.4039791847395
         ]
        },
        {
         "line": {
          "color": "rgba(255, 187, 120, 0.8)",
          "width": 4
         },
         "mode": "lines",
         "showlegend": false,
         "type": "scatter3d",
         "x": [
          200.96335232997308,
          193.97475161927278
         ],
         "y": [
          925.9423442220204,
          927.987089405304
         ],
         "z": [
          738.4039791847395,
          741.7173577085182
         ]
        },
        {
         "line": {
          "color": "rgba(255, 187, 120, 0.8)",
          "width": 4
         },
         "mode": "lines",
         "showlegend": false,
         "type": "scatter3d",
         "x": [
          193.97475161927278,
          188.74058938474582
         ],
         "y": [
          927.987089405304,
          918.5229960916822
         ],
         "z": [
          741.7173577085182,
          736.5178881727181
         ]
        },
        {
         "color": "rgba(152, 223, 138, 0.8)",
         "name": "P4",
         "opacity": 0.8,
         "type": "mesh3d",
         "x": [
          188.01204687971813,
          195.00064759041842,
          200.2348098249454,
          193.2462091142451
         ],
         "y": [
          919.5652015806079,
          917.5204563973243,
          926.9845497109461,
          929.0292948942297
         ],
         "z": [
          735.5991872513345,
          732.2858087275557,
          737.4852782633558,
          740.7986567871345
         ]
        },
        {
         "marker": {
          "color": "red",
          "size": 3
         },
         "mode": "markers+text",
         "showlegend": false,
         "text": "P3",
         "textfont": {
          "size": 12
         },
         "textposition": "top center",
         "type": "scatter3d",
         "x": [
          194.12342835233176
         ],
         "y": [
          923.274875645777
         ],
         "z": [
          736.5422327573451
         ]
        },
        {
         "line": {
          "color": "rgba(152, 223, 138, 0.8)",
          "width": 4
         },
         "mode": "lines",
         "showlegend": false,
         "type": "scatter3d",
         "x": [
          188.01204687971813,
          195.00064759041842
         ],
         "y": [
          919.5652015806079,
          917.5204563973243
         ],
         "z": [
          735.5991872513345,
          732.2858087275557
         ]
        },
        {
         "line": {
          "color": "rgba(152, 223, 138, 0.8)",
          "width": 4
         },
         "mode": "lines",
         "showlegend": false,
         "type": "scatter3d",
         "x": [
          195.00064759041842,
          200.2348098249454
         ],
         "y": [
          917.5204563973243,
          926.9845497109461
         ],
         "z": [
          732.2858087275557,
          737.4852782633558
         ]
        },
        {
         "line": {
          "color": "rgba(152, 223, 138, 0.8)",
          "width": 4
         },
         "mode": "lines",
         "showlegend": false,
         "type": "scatter3d",
         "x": [
          200.2348098249454,
          193.2462091142451
         ],
         "y": [
          926.9845497109461,
          929.0292948942297
         ],
         "z": [
          737.4852782633558,
          740.7986567871345
         ]
        },
        {
         "line": {
          "color": "rgba(152, 223, 138, 0.8)",
          "width": 4
         },
         "mode": "lines",
         "showlegend": false,
         "type": "scatter3d",
         "x": [
          193.2462091142451,
          188.01204687971813
         ],
         "y": [
          929.0292948942297,
          919.5652015806079
         ],
         "z": [
          740.7986567871345,
          735.5991872513345
         ]
        },
        {
         "color": "rgba(255, 152, 150, 0.8)",
         "name": "P5",
         "opacity": 0.8,
         "type": "mesh3d",
         "x": [
          187.27711882710457,
          194.26571953780487,
          199.49988177233183,
          192.51128106163154
         ],
         "y": [
          920.6038805756976,
          918.5591353924141,
          928.0232287060359,
          930.0679738893194
         ],
         "z": [
          734.6732074725657,
          731.3598289487869,
          736.559298484587,
          739.8726770083657
         ]
        },
        {
         "marker": {
          "color": "red",
          "size": 3
         },
         "mode": "markers+text",
         "showlegend": false,
         "text": "P4",
         "textfont": {
          "size": 12
         },
         "textposition": "top center",
         "type": "scatter3d",
         "x": [
          193.3885002997182
         ],
         "y": [
          924.3135546408668
         ],
         "z": [
          735.6162529785763
         ]
        },
        {
         "line": {
          "color": "rgba(255, 152, 150, 0.8)",
          "width": 4
         },
         "mode": "lines",
         "showlegend": false,
         "type": "scatter3d",
         "x": [
          187.27711882710457,
          194.26571953780487
         ],
         "y": [
          920.6038805756976,
          918.5591353924141
         ],
         "z": [
          734.6732074725657,
          731.3598289487869
         ]
        },
        {
         "line": {
          "color": "rgba(255, 152, 150, 0.8)",
          "width": 4
         },
         "mode": "lines",
         "showlegend": false,
         "type": "scatter3d",
         "x": [
          194.26571953780487,
          199.49988177233183
         ],
         "y": [
          918.5591353924141,
          928.0232287060359
         ],
         "z": [
          731.3598289487869,
          736.559298484587
         ]
        },
        {
         "line": {
          "color": "rgba(255, 152, 150, 0.8)",
          "width": 4
         },
         "mode": "lines",
         "showlegend": false,
         "type": "scatter3d",
         "x": [
          199.49988177233183,
          192.51128106163154
         ],
         "y": [
          928.0232287060359,
          930.0679738893194
         ],
         "z": [
          736.559298484587,
          739.8726770083657
         ]
        },
        {
         "line": {
          "color": "rgba(255, 152, 150, 0.8)",
          "width": 4
         },
         "mode": "lines",
         "showlegend": false,
         "type": "scatter3d",
         "x": [
          192.51128106163154,
          187.27711882710457
         ],
         "y": [
          930.0679738893194,
          920.6038805756976
         ],
         "z": [
          739.8726770083657,
          734.6732074725657
         ]
        },
        {
         "color": "rgba(197, 176, 213, 0.8)",
         "name": "P6",
         "opacity": 0.8,
         "type": "mesh3d",
         "x": [
          186.53993437637314,
          193.52853508707344,
          198.7626973216004,
          191.7740966109001
         ],
         "y": [
          921.6559604835368,
          919.6112153002532,
          929.075308613875,
          931.1200537971586
         ],
         "z": [
          733.8886035470845,
          730.5752250233057,
          735.7746945591058,
          739.0880730828845
         ]
        },
        {
         "marker": {
          "color": "red",
          "size": 3
         },
         "mode": "markers+text",
         "showlegend": false,
         "text": "P5",
         "textfont": {
          "size": 12
         },
         "textposition": "top center",
         "type": "scatter3d",
         "x": [
          192.65131584898677
         ],
         "y": [
          925.3656345487059
         ],
         "z": [
          734.8316490530951
         ]
        },
        {
         "line": {
          "color": "rgba(197, 176, 213, 0.8)",
          "width": 4
         },
         "mode": "lines",
         "showlegend": false,
         "type": "scatter3d",
         "x": [
          186.53993437637314,
          193.52853508707344
         ],
         "y": [
          921.6559604835368,
          919.6112153002532
         ],
         "z": [
          733.8886035470845,
          730.5752250233057
         ]
        },
        {
         "line": {
          "color": "rgba(197, 176, 213, 0.8)",
          "width": 4
         },
         "mode": "lines",
         "showlegend": false,
         "type": "scatter3d",
         "x": [
          193.52853508707344,
          198.7626973216004
         ],
         "y": [
          919.6112153002532,
          929.075308613875
         ],
         "z": [
          730.5752250233057,
          735.7746945591058
         ]
        },
        {
         "line": {
          "color": "rgba(197, 176, 213, 0.8)",
          "width": 4
         },
         "mode": "lines",
         "showlegend": false,
         "type": "scatter3d",
         "x": [
          198.7626973216004,
          191.7740966109001
         ],
         "y": [
          929.075308613875,
          931.1200537971586
         ],
         "z": [
          735.7746945591058,
          739.0880730828845
         ]
        },
        {
         "line": {
          "color": "rgba(197, 176, 213, 0.8)",
          "width": 4
         },
         "mode": "lines",
         "showlegend": false,
         "type": "scatter3d",
         "x": [
          191.7740966109001,
          186.53993437637314
         ],
         "y": [
          931.1200537971586,
          921.6559604835368
         ],
         "z": [
          739.0880730828845,
          733.8886035470845
         ]
        },
        {
         "color": "rgba(140, 86, 75, 0.8)",
         "name": "P7",
         "opacity": 0.8,
         "type": "mesh3d",
         "x": [
          185.79579420537198,
          192.78439491607227,
          198.01855715059924,
          191.02995643989894
         ],
         "y": [
          922.7061600949523,
          920.6614149116688,
          930.1255082252906,
          932.1702534085741
         ],
         "z": [
          733.0230004130382,
          729.7096218892594,
          734.9090914250595,
          738.2224699488382
         ]
        },
        {
         "marker": {
          "color": "red",
          "size": 3
         },
         "mode": "markers+text",
         "showlegend": false,
         "text": "P6",
         "textfont": {
          "size": 12
         },
         "textposition": "top center",
         "type": "scatter3d",
         "x": [
          191.9071756779856
         ],
         "y": [
          926.4158341601214
         ],
         "z": [
          733.9660459190488
         ]
        },
        {
         "line": {
          "color": "rgba(140, 86, 75, 0.8)",
          "width": 4
         },
         "mode": "lines",
         "showlegend": false,
         "type": "scatter3d",
         "x": [
          185.79579420537198,
          192.78439491607227
         ],
         "y": [
          922.7061600949523,
          920.6614149116688
         ],
         "z": [
          733.0230004130382,
          729.7096218892594
         ]
        },
        {
         "line": {
          "color": "rgba(140, 86, 75, 0.8)",
          "width": 4
         },
         "mode": "lines",
         "showlegend": false,
         "type": "scatter3d",
         "x": [
          192.78439491607227,
          198.01855715059924
         ],
         "y": [
          920.6614149116688,
          930.1255082252906
         ],
         "z": [
          729.7096218892594,
          734.9090914250595
         ]
        },
        {
         "line": {
          "color": "rgba(140, 86, 75, 0.8)",
          "width": 4
         },
         "mode": "lines",
         "showlegend": false,
         "type": "scatter3d",
         "x": [
          198.01855715059924,
          191.02995643989894
         ],
         "y": [
          930.1255082252906,
          932.1702534085741
         ],
         "z": [
          734.9090914250595,
          738.2224699488382
         ]
        },
        {
         "line": {
          "color": "rgba(140, 86, 75, 0.8)",
          "width": 4
         },
         "mode": "lines",
         "showlegend": false,
         "type": "scatter3d",
         "x": [
          191.02995643989894,
          185.79579420537198
         ],
         "y": [
          932.1702534085741,
          922.7061600949523
         ],
         "z": [
          738.2224699488382,
          733.0230004130382
         ]
        },
        {
         "color": "rgba(227, 119, 194, 0.8)",
         "name": "P8",
         "opacity": 0.8,
         "type": "mesh3d",
         "x": [
          185.0462652150386,
          192.0348659257389,
          197.26902816026586,
          190.28042744956556
         ],
         "y": [
          923.7607680505243,
          921.7160228672408,
          931.1801161808626,
          933.2248613641461
         ],
         "z": [
          732.1504892141488,
          728.8371106903701,
          734.0365802261701,
          737.3499587499489
         ]
        },
        {
         "marker": {
          "color": "red",
          "size": 3
         },
         "mode": "markers+text",
         "showlegend": false,
         "text": "P7",
         "textfont": {
          "size": 12
         },
         "textposition": "top center",
         "type": "scatter3d",
         "x": [
          191.15764668765223
         ],
         "y": [
          927.4704421156935
         ],
         "z": [
          733.0935347201596
         ]
        },
        {
         "line": {
          "color": "rgba(227, 119, 194, 0.8)",
          "width": 4
         },
         "mode": "lines",
         "showlegend": false,
         "type": "scatter3d",
         "x": [
          185.0462652150386,
          192.0348659257389
         ],
         "y": [
          923.7607680505243,
          921.7160228672408
         ],
         "z": [
          732.1504892141488,
          728.8371106903701
         ]
        },
        {
         "line": {
          "color": "rgba(227, 119, 194, 0.8)",
          "width": 4
         },
         "mode": "lines",
         "showlegend": false,
         "type": "scatter3d",
         "x": [
          192.0348659257389,
          197.26902816026586
         ],
         "y": [
          921.7160228672408,
          931.1801161808626
         ],
         "z": [
          728.8371106903701,
          734.0365802261701
         ]
        },
        {
         "line": {
          "color": "rgba(227, 119, 194, 0.8)",
          "width": 4
         },
         "mode": "lines",
         "showlegend": false,
         "type": "scatter3d",
         "x": [
          197.26902816026586,
          190.28042744956556
         ],
         "y": [
          931.1801161808626,
          933.2248613641461
         ],
         "z": [
          734.0365802261701,
          737.3499587499489
         ]
        },
        {
         "line": {
          "color": "rgba(227, 119, 194, 0.8)",
          "width": 4
         },
         "mode": "lines",
         "showlegend": false,
         "type": "scatter3d",
         "x": [
          190.28042744956556,
          185.0462652150386
         ],
         "y": [
          933.2248613641461,
          923.7607680505243
         ],
         "z": [
          737.3499587499489,
          732.1504892141488
         ]
        },
        {
         "color": "rgba(127, 127, 127, 0.8)",
         "name": "P9",
         "opacity": 0.8,
         "type": "mesh3d",
         "x": [
          184.15620648373692,
          191.14480719443722,
          196.37896942896418,
          189.3903687182639
         ],
         "y": [
          923.8266363353802,
          921.7818911520966,
          931.2459844657184,
          933.290729649002
         ],
         "z": [
          731.3411328153118,
          728.027754291533,
          733.2272238273331,
          736.5406023511118
         ]
        },
        {
         "marker": {
          "color": "red",
          "size": 3
         },
         "mode": "markers+text",
         "showlegend": false,
         "text": "P8",
         "textfont": {
          "size": 12
         },
         "textposition": "top center",
         "type": "scatter3d",
         "x": [
          190.26758795635055
         ],
         "y": [
          927.5363104005493
         ],
         "z": [
          732.2841783213224
         ]
        },
        {
         "line": {
          "color": "rgba(127, 127, 127, 0.8)",
          "width": 4
         },
         "mode": "lines",
         "showlegend": false,
         "type": "scatter3d",
         "x": [
          184.15620648373692,
          191.14480719443722
         ],
         "y": [
          923.8266363353802,
          921.7818911520966
         ],
         "z": [
          731.3411328153118,
          728.027754291533
         ]
        },
        {
         "line": {
          "color": "rgba(127, 127, 127, 0.8)",
          "width": 4
         },
         "mode": "lines",
         "showlegend": false,
         "type": "scatter3d",
         "x": [
          191.14480719443722,
          196.37896942896418
         ],
         "y": [
          921.7818911520966,
          931.2459844657184
         ],
         "z": [
          728.027754291533,
          733.2272238273331
         ]
        },
        {
         "line": {
          "color": "rgba(127, 127, 127, 0.8)",
          "width": 4
         },
         "mode": "lines",
         "showlegend": false,
         "type": "scatter3d",
         "x": [
          196.37896942896418,
          189.3903687182639
         ],
         "y": [
          931.2459844657184,
          933.290729649002
         ],
         "z": [
          733.2272238273331,
          736.5406023511118
         ]
        },
        {
         "line": {
          "color": "rgba(127, 127, 127, 0.8)",
          "width": 4
         },
         "mode": "lines",
         "showlegend": false,
         "type": "scatter3d",
         "x": [
          189.3903687182639,
          184.15620648373692
         ],
         "y": [
          933.290729649002,
          923.8266363353802
         ],
         "z": [
          736.5406023511118,
          731.3411328153118
         ]
        },
        {
         "color": "rgba(188, 189, 34, 0.8)",
         "name": "P10",
         "opacity": 0.8,
         "type": "mesh3d",
         "x": [
          182.96928308051884,
          189.95788379121913,
          195.1920460257461,
          188.2034453150458
         ],
         "y": [
          924.9665683130868,
          922.9218231298032,
          932.385916443425,
          934.4306616267086
         ],
         "z": [
          731.2956513558014,
          727.9822728320227,
          733.1817423678227,
          736.4951208916015
         ]
        },
        {
         "marker": {
          "color": "red",
          "size": 3
         },
         "mode": "markers+text",
         "showlegend": false,
         "text": "P9",
         "textfont": {
          "size": 12
         },
         "textposition": "top center",
         "type": "scatter3d",
         "x": [
          189.08066455313246
         ],
         "y": [
          928.6762423782559
         ],
         "z": [
          732.2386968618121
         ]
        },
        {
         "line": {
          "color": "rgba(188, 189, 34, 0.8)",
          "width": 4
         },
         "mode": "lines",
         "showlegend": false,
         "type": "scatter3d",
         "x": [
          182.96928308051884,
          189.95788379121913
         ],
         "y": [
          924.9665683130868,
          922.9218231298032
         ],
         "z": [
          731.2956513558014,
          727.9822728320227
         ]
        },
        {
         "line": {
          "color": "rgba(188, 189, 34, 0.8)",
          "width": 4
         },
         "mode": "lines",
         "showlegend": false,
         "type": "scatter3d",
         "x": [
          189.95788379121913,
          195.1920460257461
         ],
         "y": [
          922.9218231298032,
          932.385916443425
         ],
         "z": [
          727.9822728320227,
          733.1817423678227
         ]
        },
        {
         "line": {
          "color": "rgba(188, 189, 34, 0.8)",
          "width": 4
         },
         "mode": "lines",
         "showlegend": false,
         "type": "scatter3d",
         "x": [
          195.1920460257461,
          188.2034453150458
         ],
         "y": [
          932.385916443425,
          934.4306616267086
         ],
         "z": [
          733.1817423678227,
          736.4951208916015
         ]
        },
        {
         "line": {
          "color": "rgba(188, 189, 34, 0.8)",
          "width": 4
         },
         "mode": "lines",
         "showlegend": false,
         "type": "scatter3d",
         "x": [
          188.2034453150458,
          182.96928308051884
         ],
         "y": [
          934.4306616267086,
          924.9665683130868
         ],
         "z": [
          736.4951208916015,
          731.2956513558014
         ]
        },
        {
         "color": "rgba(23, 190, 207, 0.8)",
         "name": "P11",
         "opacity": 0.8,
         "type": "mesh3d",
         "x": [
          181.9179895718604,
          188.9065902825607,
          194.14075251708766,
          187.15215180638737
         ],
         "y": [
          926.0835331225702,
          924.0387879392866,
          933.5028812529084,
          935.547626436192
         ],
         "z": [
          731.095612083385,
          727.7822335596063,
          732.9817030954064,
          736.2950816191851
         ]
        },
        {
         "marker": {
          "color": "red",
          "size": 3
         },
         "mode": "markers+text",
         "showlegend": false,
         "text": "",
         "textfont": {
          "size": 12
         },
         "textposition": "top center",
         "type": "scatter3d",
         "x": [
          188.02937104447403
         ],
         "y": [
          929.7932071877393
         ],
         "z": [
          732.0386575893957
         ]
        },
        {
         "line": {
          "color": "rgba(23, 190, 207, 0.8)",
          "width": 4
         },
         "mode": "lines",
         "showlegend": false,
         "type": "scatter3d",
         "x": [
          181.9179895718604,
          188.9065902825607
         ],
         "y": [
          926.0835331225702,
          924.0387879392866
         ],
         "z": [
          731.095612083385,
          727.7822335596063
         ]
        },
        {
         "line": {
          "color": "rgba(23, 190, 207, 0.8)",
          "width": 4
         },
         "mode": "lines",
         "showlegend": false,
         "type": "scatter3d",
         "x": [
          188.9065902825607,
          194.14075251708766
         ],
         "y": [
          924.0387879392866,
          933.5028812529084
         ],
         "z": [
          727.7822335596063,
          732.9817030954064
         ]
        },
        {
         "line": {
          "color": "rgba(23, 190, 207, 0.8)",
          "width": 4
         },
         "mode": "lines",
         "showlegend": false,
         "type": "scatter3d",
         "x": [
          194.14075251708766,
          187.15215180638737
         ],
         "y": [
          933.5028812529084,
          935.547626436192
         ],
         "z": [
          732.9817030954064,
          736.2950816191851
         ]
        },
        {
         "line": {
          "color": "rgba(23, 190, 207, 0.8)",
          "width": 4
         },
         "mode": "lines",
         "showlegend": false,
         "type": "scatter3d",
         "x": [
          187.15215180638737,
          181.9179895718604
         ],
         "y": [
          935.547626436192,
          926.0835331225702
         ],
         "z": [
          736.2950816191851,
          731.095612083385
         ]
        },
        {
         "line": {
          "color": "black",
          "width": 2
         },
         "mode": "lines",
         "name": "Berechnete Hakenlinie",
         "type": "scatter3d",
         "x": {
          "bdata": "iBsjqG84aUAAeIC8Sm5oQCAwY1hDW2hAQBUEIPNDaEDUOC6YbixoQHjYVZTXFGhAmJVJlQf9Z0BA+RBxC+VnQIgqnhSQyGdA0DTUzZSiZ0Dkboub8IBnQA==",
          "dtype": "f8"
         },
         "y": {
          "bdata": "rDug0TerjEDkSenLS9mMQHTTK4Lc0YxAoqgA8jLajEBBgO8oguKMQNZnztHs6oxAQDLcoFPzjECE7Cd3w/uMQOl2G11K/IxAOpbD8WgFjUBXkgJ9WA6NQA==",
          "dtype": "f8"
         },
         "z": {
          "bdata": "noi+OjU9h0Bnw5QK5BKHQB8e//2vC4dA8LwgflYEh0BiqAoW7vyGQFhmnjen9oZA/mVIdrrvhkACoSGPv+iGQH+iSP9F4oZAIHnm2ejhhkCT0bUrT+CGQA==",
          "dtype": "f8"
         }
        },
        {
         "mode": "text",
         "showlegend": false,
         "text": [
          "Pre-Position"
         ],
         "textfont": {
          "size": 10
         },
         "textposition": "top center",
         "type": "scatter3d",
         "x": [
          201.76362997872297
         ],
         "y": [
          917.4022552984438
         ],
         "z": [
          743.6509909520571
         ]
        },
        {
         "mode": "text",
         "showlegend": false,
         "text": [
          "Loslassen"
         ],
         "textfont": {
          "size": 10
         },
         "textposition": "top center",
         "type": "scatter3d",
         "x": [
          188.02937104447403
         ],
         "y": [
          929.7932071877393
         ],
         "z": [
          732.0386575893957
         ]
        },
        {
         "color": "rgba(0,255,0,0.2)",
         "name": "optimale Trajektorie",
         "opacity": 0.8,
         "type": "mesh3d",
         "x": [
          195.28756076926425,
          199.20243684111037,
          207.7191673910965,
          203.80429131925038
         ],
         "y": [
          912.9831524002064,
          909.0322555987393,
          917.4859648283824,
          921.4368616298495
         ],
         "z": [
          746.5842573761463,
          740.8341130469801,
          740.8240631922076,
          746.5742075213739
         ]
        },
        {
         "line": {
          "color": "rgba(0,255,0,0.2)",
          "width": 3
         },
         "mode": "lines",
         "showlegend": false,
         "type": "scatter3d",
         "x": [
          195.28756076926425,
          199.20243684111037
         ],
         "y": [
          912.9831524002064,
          909.0322555987393
         ],
         "z": [
          746.5842573761463,
          740.8341130469801
         ]
        },
        {
         "line": {
          "color": "rgba(0,255,0,0.2)",
          "width": 3
         },
         "mode": "lines",
         "showlegend": false,
         "type": "scatter3d",
         "x": [
          199.20243684111037,
          207.7191673910965
         ],
         "y": [
          909.0322555987393,
          917.4859648283824
         ],
         "z": [
          740.8341130469801,
          740.8240631922076
         ]
        },
        {
         "line": {
          "color": "rgba(0,255,0,0.2)",
          "width": 3
         },
         "mode": "lines",
         "showlegend": false,
         "type": "scatter3d",
         "x": [
          207.7191673910965,
          203.80429131925038
         ],
         "y": [
          917.4859648283824,
          921.4368616298495
         ],
         "z": [
          740.8240631922076,
          746.5742075213739
         ]
        },
        {
         "line": {
          "color": "rgba(0,255,0,0.2)",
          "width": 3
         },
         "mode": "lines",
         "showlegend": false,
         "type": "scatter3d",
         "x": [
          203.80429131925038,
          195.28756076926425
         ],
         "y": [
          921.4368616298495,
          912.9831524002064
         ],
         "z": [
          746.5742075213739,
          746.5842573761463
         ]
        },
        {
         "marker": {
          "color": "green",
          "size": 4
         },
         "mode": "markers",
         "name": "Mitte P11",
         "showlegend": false,
         "type": "scatter3d",
         "x": [
          201.50336408018038
         ],
         "y": [
          915.2345586142944
         ],
         "z": [
          743.704160284177
         ]
        },
        {
         "color": "rgba(0,255,0,0.2)",
         "name": "optimale Trajektorie",
         "opacity": 0.8,
         "type": "mesh3d",
         "x": [
          191.2391552362933,
          195.17499334285534,
          203.64282515948815,
          199.7069870529261
         ],
         "y": [
          919.4698325800452,
          915.5091243869107,
          924.0116027552956,
          927.9723109484302
         ],
         "z": [
          741.1287252684803,
          735.3996791866468,
          735.3389674055264,
          741.0680134873598
         ]
        },
        {
         "line": {
          "color": "rgba(0,255,0,0.2)",
          "width": 3
         },
         "mode": "lines",
         "showlegend": false,
         "type": "scatter3d",
         "x": [
          191.2391552362933,
          195.17499334285534
         ],
         "y": [
          919.4698325800452,
          915.5091243869107
         ],
         "z": [
          741.1287252684803,
          735.3996791866468
         ]
        },
        {
         "line": {
          "color": "rgba(0,255,0,0.2)",
          "width": 3
         },
         "mode": "lines",
         "showlegend": false,
         "type": "scatter3d",
         "x": [
          195.17499334285534,
          203.64282515948815
         ],
         "y": [
          915.5091243869107,
          924.0116027552956
         ],
         "z": [
          735.3996791866468,
          735.3389674055264
         ]
        },
        {
         "line": {
          "color": "rgba(0,255,0,0.2)",
          "width": 3
         },
         "mode": "lines",
         "showlegend": false,
         "type": "scatter3d",
         "x": [
          203.64282515948815,
          199.7069870529261
         ],
         "y": [
          924.0116027552956,
          927.9723109484302
         ],
         "z": [
          735.3389674055264,
          741.0680134873598
         ]
        },
        {
         "line": {
          "color": "rgba(0,255,0,0.2)",
          "width": 3
         },
         "mode": "lines",
         "showlegend": false,
         "type": "scatter3d",
         "x": [
          199.7069870529261,
          191.2391552362933
         ],
         "y": [
          927.9723109484302,
          919.4698325800452
         ],
         "z": [
          741.0680134873598,
          741.1287252684803
         ]
        },
        {
         "marker": {
          "color": "green",
          "size": 4
         },
         "mode": "markers",
         "name": "Mitte P11",
         "showlegend": false,
         "type": "scatter3d",
         "x": [
          197.44099019789073
         ],
         "y": [
          921.7407176676704
         ],
         "z": [
          738.2338463370033
         ]
        },
        {
         "color": "rgba(0,255,0,0.2)",
         "name": "optimale Trajektorie",
         "opacity": 0.8,
         "type": "mesh3d",
         "x": [
          187.67617788107341,
          191.45069157629476,
          200.20977487691655,
          196.4352611816952
         ],
         "y": [
          922.6860263786168,
          918.6227230840526,
          926.8249373198271,
          930.8882406143913
         ],
         "z": [
          738.9733473214234,
          733.2077066197346,
          733.1614317536847,
          738.9270724553735
         ]
        },
        {
         "line": {
          "color": "rgba(0,255,0,0.2)",
          "width": 3
         },
         "mode": "lines",
         "showlegend": false,
         "type": "scatter3d",
         "x": [
          187.67617788107341,
          191.45069157629476
         ],
         "y": [
          922.6860263786168,
          918.6227230840526
         ],
         "z": [
          738.9733473214234,
          733.2077066197346
         ]
        },
        {
         "line": {
          "color": "rgba(0,255,0,0.2)",
          "width": 3
         },
         "mode": "lines",
         "showlegend": false,
         "type": "scatter3d",
         "x": [
          191.45069157629476,
          200.20977487691655
         ],
         "y": [
          918.6227230840526,
          926.8249373198271
         ],
         "z": [
          733.2077066197346,
          733.1614317536847
         ]
        },
        {
         "line": {
          "color": "rgba(0,255,0,0.2)",
          "width": 3
         },
         "mode": "lines",
         "showlegend": false,
         "type": "scatter3d",
         "x": [
          200.20977487691655,
          196.4352611816952
         ],
         "y": [
          926.8249373198271,
          930.8882406143913
         ],
         "z": [
          733.1614317536847,
          738.9270724553735
         ]
        },
        {
         "line": {
          "color": "rgba(0,255,0,0.2)",
          "width": 3
         },
         "mode": "lines",
         "showlegend": false,
         "type": "scatter3d",
         "x": [
          196.4352611816952,
          187.67617788107341
         ],
         "y": [
          930.8882406143913,
          922.6860263786168
         ],
         "z": [
          738.9270724553735,
          738.9733473214234
         ]
        },
        {
         "marker": {
          "color": "green",
          "size": 4
         },
         "mode": "markers",
         "name": "Mitte P11",
         "showlegend": false,
         "type": "scatter3d",
         "x": [
          193.94297637899498
         ],
         "y": [
          924.755481849222
         ],
         "z": [
          736.067389537554
         ]
        },
        {
         "color": "rgba(0,255,0,0.2)",
         "name": "optimale Trajektorie",
         "opacity": 0.8,
         "type": "mesh3d",
         "x": [
          185.13029818141257,
          188.91096286800732,
          197.64735538994285,
          193.8666907033481
         ],
         "y": [
          924.4743312348827,
          920.4005821420782,
          928.6266650534727,
          932.7004141462772
         ],
         "z": [
          735.6483221160419,
          729.894093857065,
          729.810394170497,
          735.564622429474
         ]
        },
        {
         "line": {
          "color": "rgba(0,255,0,0.2)",
          "width": 3
         },
         "mode": "lines",
         "showlegend": false,
         "type": "scatter3d",
         "x": [
          185.13029818141257,
          188.91096286800732
         ],
         "y": [
          924.4743312348827,
          920.4005821420782
         ],
         "z": [
          735.6483221160419,
          729.894093857065
         ]
        },
        {
         "line": {
          "color": "rgba(0,255,0,0.2)",
          "width": 3
         },
         "mode": "lines",
         "showlegend": false,
         "type": "scatter3d",
         "x": [
          188.91096286800732,
          197.64735538994285
         ],
         "y": [
          920.4005821420782,
          928.6266650534727
         ],
         "z": [
          729.894093857065,
          729.810394170497
         ]
        },
        {
         "line": {
          "color": "rgba(0,255,0,0.2)",
          "width": 3
         },
         "mode": "lines",
         "showlegend": false,
         "type": "scatter3d",
         "x": [
          197.64735538994285,
          193.8666907033481
         ],
         "y": [
          928.6266650534727,
          932.7004141462772
         ],
         "z": [
          729.810394170497,
          735.564622429474
         ]
        },
        {
         "line": {
          "color": "rgba(0,255,0,0.2)",
          "width": 3
         },
         "mode": "lines",
         "showlegend": false,
         "type": "scatter3d",
         "x": [
          193.8666907033481,
          185.13029818141257
         ],
         "y": [
          932.7004141462772,
          924.4743312348827
         ],
         "z": [
          735.564622429474,
          735.6483221160419
         ]
        },
        {
         "marker": {
          "color": "green",
          "size": 4
         },
         "mode": "markers",
         "name": "Mitte P11",
         "showlegend": false,
         "type": "scatter3d",
         "x": [
          191.3888267856777
         ],
         "y": [
          926.5504981441777
         ],
         "z": [
          732.7293581432696
         ]
        },
        {
         "color": "rgba(0,255,0,0.2)",
         "name": "optimale Trajektorie",
         "opacity": 0.8,
         "type": "mesh3d",
         "x": [
          184.48632556888546,
          187.19116401619044,
          195.93429925257456,
          193.22946080526958
         ],
         "y": [
          924.1575942044245,
          921.1599445378718,
          929.3780461885614,
          932.3756958551141
         ],
         "z": [
          734.6862673607562,
          727.7798974422972,
          727.6370986424687,
          734.5434685609277
         ]
        },
        {
         "line": {
          "color": "rgba(0,255,0,0.2)",
          "width": 3
         },
         "mode": "lines",
         "showlegend": false,
         "type": "scatter3d",
         "x": [
          184.48632556888546,
          187.19116401619044
         ],
         "y": [
          924.1575942044245,
          921.1599445378718
         ],
         "z": [
          734.6862673607562,
          727.7798974422972
         ]
        },
        {
         "line": {
          "color": "rgba(0,255,0,0.2)",
          "width": 3
         },
         "mode": "lines",
         "showlegend": false,
         "type": "scatter3d",
         "x": [
          187.19116401619044,
          195.93429925257456
         ],
         "y": [
          921.1599445378718,
          929.3780461885614
         ],
         "z": [
          727.7798974422972,
          727.6370986424687
         ]
        },
        {
         "line": {
          "color": "rgba(0,255,0,0.2)",
          "width": 3
         },
         "mode": "lines",
         "showlegend": false,
         "type": "scatter3d",
         "x": [
          195.93429925257456,
          193.22946080526958
         ],
         "y": [
          929.3780461885614,
          932.3756958551141
         ],
         "z": [
          727.6370986424687,
          734.5434685609277
         ]
        },
        {
         "line": {
          "color": "rgba(0,255,0,0.2)",
          "width": 3
         },
         "mode": "lines",
         "showlegend": false,
         "type": "scatter3d",
         "x": [
          193.22946080526958,
          184.48632556888546
         ],
         "y": [
          932.3756958551141,
          924.1575942044245
         ],
         "z": [
          734.5434685609277,
          734.6862673607562
         ]
        },
        {
         "marker": {
          "color": "green",
          "size": 4
         },
         "mode": "markers",
         "name": "Mitte P11",
         "showlegend": false,
         "type": "scatter3d",
         "x": [
          190.21031241073
         ],
         "y": [
          926.767820196493
         ],
         "z": [
          731.1616830016123
         ]
        },
        {
         "color": "rgba(0,255,0,0.2)",
         "name": "optimale Trajektorie",
         "opacity": 0.8,
         "type": "mesh3d",
         "x": [
          184.21420709678668,
          184.79005799160421,
          193.53946859932793,
          192.9636177045104
         ],
         "y": [
          923.6103611636458,
          922.7992154684895,
          931.0093372414542,
          931.8204829366106
         ],
         "z": [
          734.099054161707,
          726.1611426978416,
          725.9569014421099,
          733.8948129059754
         ]
        },
        {
         "line": {
          "color": "rgba(0,255,0,0.2)",
          "width": 3
         },
         "mode": "lines",
         "showlegend": false,
         "type": "scatter3d",
         "x": [
          184.21420709678668,
          184.79005799160421
         ],
         "y": [
          923.6103611636458,
          922.7992154684895
         ],
         "z": [
          734.099054161707,
          726.1611426978416
         ]
        },
        {
         "line": {
          "color": "rgba(0,255,0,0.2)",
          "width": 3
         },
         "mode": "lines",
         "showlegend": false,
         "type": "scatter3d",
         "x": [
          184.79005799160421,
          193.53946859932793
         ],
         "y": [
          922.7992154684895,
          931.0093372414542
         ],
         "z": [
          726.1611426978416,
          725.9569014421099
         ]
        },
        {
         "line": {
          "color": "rgba(0,255,0,0.2)",
          "width": 3
         },
         "mode": "lines",
         "showlegend": false,
         "type": "scatter3d",
         "x": [
          193.53946859932793,
          192.9636177045104
         ],
         "y": [
          931.0093372414542,
          931.8204829366106
         ],
         "z": [
          725.9569014421099,
          733.8948129059754
         ]
        },
        {
         "line": {
          "color": "rgba(0,255,0,0.2)",
          "width": 3
         },
         "mode": "lines",
         "showlegend": false,
         "type": "scatter3d",
         "x": [
          192.9636177045104,
          184.21420709678668
         ],
         "y": [
          931.8204829366106,
          923.6103611636458
         ],
         "z": [
          733.8948129059754,
          734.099054161707
         ]
        },
        {
         "marker": {
          "color": "green",
          "size": 4
         },
         "mode": "markers",
         "name": "Mitte P11",
         "showlegend": false,
         "type": "scatter3d",
         "x": [
          188.8768378480573
         ],
         "y": [
          927.3098492025499
         ],
         "z": [
          730.0279778019085
         ]
        },
        {
         "line": {
          "color": "green",
          "width": 2
         },
         "mode": "lines",
         "name": "Optimale Hakenlinie",
         "type": "scatter3d",
         "x": {
          "bdata": "Y8v8jhswaUCDuXmXHK5oQOOVzNwsPmhAbQnfRHHsZ0DowBfhusZnQKMpPw4PnGdA",
          "dtype": "f8"
         },
         "y": {
          "bdata": "HktEYOCZjEC2cWL97M2MQApZEToL5oxABC6Sa2f0jEAqSep+JPaMQCb9N5J6+oxA",
          "dtype": "f8"
         },
         "z": {
          "bdata": "dX3JHqI9h0DADdTq3hGHQBmfhgOKAIdAUOO4udXlhkD0IXUgS9mGQLABbUw50IZA",
          "dtype": "f8"
         }
        },
        {
         "line": {
          "color": "gray",
          "dash": "dash"
         },
         "mode": "lines",
         "name": "Direkte Gerade Spitze -> Senke",
         "type": "scatter3d",
         "x": [
          195.44662308780244,
          188.02937104447403
         ],
         "y": [
          923.1620100236582,
          929.7932071877393
         ],
         "z": [
          738.3613483068592,
          732.0386575893957
         ]
        },
        {
         "marker": {
          "color": "magenta",
          "size": 8
         },
         "mode": "markers",
         "name": "Spitze",
         "type": "scatter3d",
         "x": [
          195.44662308780244
         ],
         "y": [
          923.1620100236582
         ],
         "z": [
          738.3613483068592
         ]
        },
        {
         "marker": {
          "color": "magenta",
          "size": 8
         },
         "mode": "markers",
         "name": "Senke",
         "type": "scatter3d",
         "x": [
          188.02937104447403
         ],
         "y": [
          929.7932071877393
         ],
         "z": [
          732.0386575893957
         ]
        },
        {
         "mode": "text",
         "showlegend": false,
         "text": [
          "Spitze"
         ],
         "textfont": {
          "size": 10
         },
         "textposition": "top center",
         "type": "scatter3d",
         "x": [
          195.44662308780244
         ],
         "y": [
          923.1620100236582
         ],
         "z": [
          738.3613483068592
         ]
        },
        {
         "mode": "text",
         "showlegend": false,
         "text": [
          "Senke"
         ],
         "textfont": {
          "size": 10
         },
         "textposition": "top center",
         "type": "scatter3d",
         "x": [
          188.02937104447403
         ],
         "y": [
          929.7932071877393
         ],
         "z": [
          732.0386575893957
         ]
        }
       ],
       "layout": {
        "legend": {
         "title": {
          "text": "Legende"
         }
        },
        "scene": {
         "aspectmode": "cube",
         "xaxis": {
          "title": {
           "text": "X"
          }
         },
         "yaxis": {
          "title": {
           "text": "Y"
          }
         },
         "zaxis": {
          "title": {
           "text": "Z"
          }
         }
        },
        "template": {
         "data": {
          "bar": [
           {
            "error_x": {
             "color": "#2a3f5f"
            },
            "error_y": {
             "color": "#2a3f5f"
            },
            "marker": {
             "line": {
              "color": "#E5ECF6",
              "width": 0.5
             },
             "pattern": {
              "fillmode": "overlay",
              "size": 10,
              "solidity": 0.2
             }
            },
            "type": "bar"
           }
          ],
          "barpolar": [
           {
            "marker": {
             "line": {
              "color": "#E5ECF6",
              "width": 0.5
             },
             "pattern": {
              "fillmode": "overlay",
              "size": 10,
              "solidity": 0.2
             }
            },
            "type": "barpolar"
           }
          ],
          "carpet": [
           {
            "aaxis": {
             "endlinecolor": "#2a3f5f",
             "gridcolor": "white",
             "linecolor": "white",
             "minorgridcolor": "white",
             "startlinecolor": "#2a3f5f"
            },
            "baxis": {
             "endlinecolor": "#2a3f5f",
             "gridcolor": "white",
             "linecolor": "white",
             "minorgridcolor": "white",
             "startlinecolor": "#2a3f5f"
            },
            "type": "carpet"
           }
          ],
          "choropleth": [
           {
            "colorbar": {
             "outlinewidth": 0,
             "ticks": ""
            },
            "type": "choropleth"
           }
          ],
          "contour": [
           {
            "colorbar": {
             "outlinewidth": 0,
             "ticks": ""
            },
            "colorscale": [
             [
              0,
              "#0d0887"
             ],
             [
              0.1111111111111111,
              "#46039f"
             ],
             [
              0.2222222222222222,
              "#7201a8"
             ],
             [
              0.3333333333333333,
              "#9c179e"
             ],
             [
              0.4444444444444444,
              "#bd3786"
             ],
             [
              0.5555555555555556,
              "#d8576b"
             ],
             [
              0.6666666666666666,
              "#ed7953"
             ],
             [
              0.7777777777777778,
              "#fb9f3a"
             ],
             [
              0.8888888888888888,
              "#fdca26"
             ],
             [
              1,
              "#f0f921"
             ]
            ],
            "type": "contour"
           }
          ],
          "contourcarpet": [
           {
            "colorbar": {
             "outlinewidth": 0,
             "ticks": ""
            },
            "type": "contourcarpet"
           }
          ],
          "heatmap": [
           {
            "colorbar": {
             "outlinewidth": 0,
             "ticks": ""
            },
            "colorscale": [
             [
              0,
              "#0d0887"
             ],
             [
              0.1111111111111111,
              "#46039f"
             ],
             [
              0.2222222222222222,
              "#7201a8"
             ],
             [
              0.3333333333333333,
              "#9c179e"
             ],
             [
              0.4444444444444444,
              "#bd3786"
             ],
             [
              0.5555555555555556,
              "#d8576b"
             ],
             [
              0.6666666666666666,
              "#ed7953"
             ],
             [
              0.7777777777777778,
              "#fb9f3a"
             ],
             [
              0.8888888888888888,
              "#fdca26"
             ],
             [
              1,
              "#f0f921"
             ]
            ],
            "type": "heatmap"
           }
          ],
          "histogram": [
           {
            "marker": {
             "pattern": {
              "fillmode": "overlay",
              "size": 10,
              "solidity": 0.2
             }
            },
            "type": "histogram"
           }
          ],
          "histogram2d": [
           {
            "colorbar": {
             "outlinewidth": 0,
             "ticks": ""
            },
            "colorscale": [
             [
              0,
              "#0d0887"
             ],
             [
              0.1111111111111111,
              "#46039f"
             ],
             [
              0.2222222222222222,
              "#7201a8"
             ],
             [
              0.3333333333333333,
              "#9c179e"
             ],
             [
              0.4444444444444444,
              "#bd3786"
             ],
             [
              0.5555555555555556,
              "#d8576b"
             ],
             [
              0.6666666666666666,
              "#ed7953"
             ],
             [
              0.7777777777777778,
              "#fb9f3a"
             ],
             [
              0.8888888888888888,
              "#fdca26"
             ],
             [
              1,
              "#f0f921"
             ]
            ],
            "type": "histogram2d"
           }
          ],
          "histogram2dcontour": [
           {
            "colorbar": {
             "outlinewidth": 0,
             "ticks": ""
            },
            "colorscale": [
             [
              0,
              "#0d0887"
             ],
             [
              0.1111111111111111,
              "#46039f"
             ],
             [
              0.2222222222222222,
              "#7201a8"
             ],
             [
              0.3333333333333333,
              "#9c179e"
             ],
             [
              0.4444444444444444,
              "#bd3786"
             ],
             [
              0.5555555555555556,
              "#d8576b"
             ],
             [
              0.6666666666666666,
              "#ed7953"
             ],
             [
              0.7777777777777778,
              "#fb9f3a"
             ],
             [
              0.8888888888888888,
              "#fdca26"
             ],
             [
              1,
              "#f0f921"
             ]
            ],
            "type": "histogram2dcontour"
           }
          ],
          "mesh3d": [
           {
            "colorbar": {
             "outlinewidth": 0,
             "ticks": ""
            },
            "type": "mesh3d"
           }
          ],
          "parcoords": [
           {
            "line": {
             "colorbar": {
              "outlinewidth": 0,
              "ticks": ""
             }
            },
            "type": "parcoords"
           }
          ],
          "pie": [
           {
            "automargin": true,
            "type": "pie"
           }
          ],
          "scatter": [
           {
            "fillpattern": {
             "fillmode": "overlay",
             "size": 10,
             "solidity": 0.2
            },
            "type": "scatter"
           }
          ],
          "scatter3d": [
           {
            "line": {
             "colorbar": {
              "outlinewidth": 0,
              "ticks": ""
             }
            },
            "marker": {
             "colorbar": {
              "outlinewidth": 0,
              "ticks": ""
             }
            },
            "type": "scatter3d"
           }
          ],
          "scattercarpet": [
           {
            "marker": {
             "colorbar": {
              "outlinewidth": 0,
              "ticks": ""
             }
            },
            "type": "scattercarpet"
           }
          ],
          "scattergeo": [
           {
            "marker": {
             "colorbar": {
              "outlinewidth": 0,
              "ticks": ""
             }
            },
            "type": "scattergeo"
           }
          ],
          "scattergl": [
           {
            "marker": {
             "colorbar": {
              "outlinewidth": 0,
              "ticks": ""
             }
            },
            "type": "scattergl"
           }
          ],
          "scattermap": [
           {
            "marker": {
             "colorbar": {
              "outlinewidth": 0,
              "ticks": ""
             }
            },
            "type": "scattermap"
           }
          ],
          "scattermapbox": [
           {
            "marker": {
             "colorbar": {
              "outlinewidth": 0,
              "ticks": ""
             }
            },
            "type": "scattermapbox"
           }
          ],
          "scatterpolar": [
           {
            "marker": {
             "colorbar": {
              "outlinewidth": 0,
              "ticks": ""
             }
            },
            "type": "scatterpolar"
           }
          ],
          "scatterpolargl": [
           {
            "marker": {
             "colorbar": {
              "outlinewidth": 0,
              "ticks": ""
             }
            },
            "type": "scatterpolargl"
           }
          ],
          "scatterternary": [
           {
            "marker": {
             "colorbar": {
              "outlinewidth": 0,
              "ticks": ""
             }
            },
            "type": "scatterternary"
           }
          ],
          "surface": [
           {
            "colorbar": {
             "outlinewidth": 0,
             "ticks": ""
            },
            "colorscale": [
             [
              0,
              "#0d0887"
             ],
             [
              0.1111111111111111,
              "#46039f"
             ],
             [
              0.2222222222222222,
              "#7201a8"
             ],
             [
              0.3333333333333333,
              "#9c179e"
             ],
             [
              0.4444444444444444,
              "#bd3786"
             ],
             [
              0.5555555555555556,
              "#d8576b"
             ],
             [
              0.6666666666666666,
              "#ed7953"
             ],
             [
              0.7777777777777778,
              "#fb9f3a"
             ],
             [
              0.8888888888888888,
              "#fdca26"
             ],
             [
              1,
              "#f0f921"
             ]
            ],
            "type": "surface"
           }
          ],
          "table": [
           {
            "cells": {
             "fill": {
              "color": "#EBF0F8"
             },
             "line": {
              "color": "white"
             }
            },
            "header": {
             "fill": {
              "color": "#C8D4E3"
             },
             "line": {
              "color": "white"
             }
            },
            "type": "table"
           }
          ]
         },
         "layout": {
          "annotationdefaults": {
           "arrowcolor": "#2a3f5f",
           "arrowhead": 0,
           "arrowwidth": 1
          },
          "autotypenumbers": "strict",
          "coloraxis": {
           "colorbar": {
            "outlinewidth": 0,
            "ticks": ""
           }
          },
          "colorscale": {
           "diverging": [
            [
             0,
             "#8e0152"
            ],
            [
             0.1,
             "#c51b7d"
            ],
            [
             0.2,
             "#de77ae"
            ],
            [
             0.3,
             "#f1b6da"
            ],
            [
             0.4,
             "#fde0ef"
            ],
            [
             0.5,
             "#f7f7f7"
            ],
            [
             0.6,
             "#e6f5d0"
            ],
            [
             0.7,
             "#b8e186"
            ],
            [
             0.8,
             "#7fbc41"
            ],
            [
             0.9,
             "#4d9221"
            ],
            [
             1,
             "#276419"
            ]
           ],
           "sequential": [
            [
             0,
             "#0d0887"
            ],
            [
             0.1111111111111111,
             "#46039f"
            ],
            [
             0.2222222222222222,
             "#7201a8"
            ],
            [
             0.3333333333333333,
             "#9c179e"
            ],
            [
             0.4444444444444444,
             "#bd3786"
            ],
            [
             0.5555555555555556,
             "#d8576b"
            ],
            [
             0.6666666666666666,
             "#ed7953"
            ],
            [
             0.7777777777777778,
             "#fb9f3a"
            ],
            [
             0.8888888888888888,
             "#fdca26"
            ],
            [
             1,
             "#f0f921"
            ]
           ],
           "sequentialminus": [
            [
             0,
             "#0d0887"
            ],
            [
             0.1111111111111111,
             "#46039f"
            ],
            [
             0.2222222222222222,
             "#7201a8"
            ],
            [
             0.3333333333333333,
             "#9c179e"
            ],
            [
             0.4444444444444444,
             "#bd3786"
            ],
            [
             0.5555555555555556,
             "#d8576b"
            ],
            [
             0.6666666666666666,
             "#ed7953"
            ],
            [
             0.7777777777777778,
             "#fb9f3a"
            ],
            [
             0.8888888888888888,
             "#fdca26"
            ],
            [
             1,
             "#f0f921"
            ]
           ]
          },
          "colorway": [
           "#636efa",
           "#EF553B",
           "#00cc96",
           "#ab63fa",
           "#FFA15A",
           "#19d3f3",
           "#FF6692",
           "#B6E880",
           "#FF97FF",
           "#FECB52"
          ],
          "font": {
           "color": "#2a3f5f"
          },
          "geo": {
           "bgcolor": "white",
           "lakecolor": "white",
           "landcolor": "#E5ECF6",
           "showlakes": true,
           "showland": true,
           "subunitcolor": "white"
          },
          "hoverlabel": {
           "align": "left"
          },
          "hovermode": "closest",
          "mapbox": {
           "style": "light"
          },
          "paper_bgcolor": "white",
          "plot_bgcolor": "#E5ECF6",
          "polar": {
           "angularaxis": {
            "gridcolor": "white",
            "linecolor": "white",
            "ticks": ""
           },
           "bgcolor": "#E5ECF6",
           "radialaxis": {
            "gridcolor": "white",
            "linecolor": "white",
            "ticks": ""
           }
          },
          "scene": {
           "xaxis": {
            "backgroundcolor": "#E5ECF6",
            "gridcolor": "white",
            "gridwidth": 2,
            "linecolor": "white",
            "showbackground": true,
            "ticks": "",
            "zerolinecolor": "white"
           },
           "yaxis": {
            "backgroundcolor": "#E5ECF6",
            "gridcolor": "white",
            "gridwidth": 2,
            "linecolor": "white",
            "showbackground": true,
            "ticks": "",
            "zerolinecolor": "white"
           },
           "zaxis": {
            "backgroundcolor": "#E5ECF6",
            "gridcolor": "white",
            "gridwidth": 2,
            "linecolor": "white",
            "showbackground": true,
            "ticks": "",
            "zerolinecolor": "white"
           }
          },
          "shapedefaults": {
           "line": {
            "color": "#2a3f5f"
           }
          },
          "ternary": {
           "aaxis": {
            "gridcolor": "white",
            "linecolor": "white",
            "ticks": ""
           },
           "baxis": {
            "gridcolor": "white",
            "linecolor": "white",
            "ticks": ""
           },
           "bgcolor": "#E5ECF6",
           "caxis": {
            "gridcolor": "white",
            "linecolor": "white",
            "ticks": ""
           }
          },
          "title": {
           "x": 0.05
          },
          "xaxis": {
           "automargin": true,
           "gridcolor": "white",
           "linecolor": "white",
           "ticks": "",
           "title": {
            "standoff": 15
           },
           "zerolinecolor": "white",
           "zerolinewidth": 2
          },
          "yaxis": {
           "automargin": true,
           "gridcolor": "white",
           "linecolor": "white",
           "ticks": "",
           "title": {
            "standoff": 15
           },
           "zerolinecolor": "white",
           "zerolinewidth": 2
          }
         }
        },
        "title": {
         "text": "Haken 19, Trajektorien-Ansatz 2"
        }
       }
      }
     },
     "metadata": {},
     "output_type": "display_data"
    },
    {
     "name": "stdout",
     "output_type": "stream",
     "text": [
      "HTML-Datei '/home/mo/Thesis/Evaluation/Trajektorientests/traj3.html' erfolgreich erstellt!\n"
     ]
    },
    {
     "data": {
      "application/vnd.plotly.v1+json": {
       "config": {
        "plotlyServerURL": "https://plot.ly"
       },
       "data": [
        {
         "color": "rgba(31, 119, 180, 0.8)",
         "name": "P1",
         "opacity": 0.8,
         "type": "mesh3d",
         "x": [
          196.7248706046119,
          203.89534120075658,
          206.80238935283404,
          199.63191875668937
         ],
         "y": [
          912.2538399456538,
          911.2379575531727,
          922.5506706512339,
          923.566553043715
         ],
         "z": [
          743.9746007865247,
          740.5757282683987,
          743.3273811175895,
          746.7262536357155
         ]
        },
        {
         "marker": {
          "color": "red",
          "size": 3
         },
         "mode": "markers+text",
         "showlegend": false,
         "text": "",
         "textfont": {
          "size": 12
         },
         "textposition": "top center",
         "type": "scatter3d",
         "x": [
          201.76362997872297
         ],
         "y": [
          917.4022552984438
         ],
         "z": [
          743.6509909520571
         ]
        },
        {
         "line": {
          "color": "rgba(31, 119, 180, 0.8)",
          "width": 4
         },
         "mode": "lines",
         "showlegend": false,
         "type": "scatter3d",
         "x": [
          196.7248706046119,
          203.89534120075658
         ],
         "y": [
          912.2538399456538,
          911.2379575531727
         ],
         "z": [
          743.9746007865247,
          740.5757282683987
         ]
        },
        {
         "line": {
          "color": "rgba(31, 119, 180, 0.8)",
          "width": 4
         },
         "mode": "lines",
         "showlegend": false,
         "type": "scatter3d",
         "x": [
          203.89534120075658,
          206.80238935283404
         ],
         "y": [
          911.2379575531727,
          922.5506706512339
         ],
         "z": [
          740.5757282683987,
          743.3273811175895
         ]
        },
        {
         "line": {
          "color": "rgba(31, 119, 180, 0.8)",
          "width": 4
         },
         "mode": "lines",
         "showlegend": false,
         "type": "scatter3d",
         "x": [
          206.80238935283404,
          199.63191875668937
         ],
         "y": [
          922.5506706512339,
          923.566553043715
         ],
         "z": [
          743.3273811175895,
          746.7262536357155
         ]
        },
        {
         "line": {
          "color": "rgba(31, 119, 180, 0.8)",
          "width": 4
         },
         "mode": "lines",
         "showlegend": false,
         "type": "scatter3d",
         "x": [
          199.63191875668937,
          196.7248706046119
         ],
         "y": [
          923.566553043715,
          912.2538399456538
         ],
         "z": [
          746.7262536357155,
          743.9746007865247
         ]
        },
        {
         "color": "rgba(174, 199, 232, 0.8)",
         "name": "P2",
         "opacity": 0.8,
         "type": "mesh3d",
         "x": [
          190.40786371369137,
          197.57833430983604,
          200.4853824619135,
          193.31491186576883
         ],
         "y": [
          918.0135946708682,
          916.9977122783871,
          928.3104253764483,
          929.3263077689294
         ],
         "z": [
          738.6849581413268,
          735.2860856232008,
          738.0377384723917,
          741.4366109905176
         ]
        },
        {
         "marker": {
          "color": "red",
          "size": 3
         },
         "mode": "markers+text",
         "showlegend": false,
         "text": "",
         "textfont": {
          "size": 12
         },
         "textposition": "top center",
         "type": "scatter3d",
         "x": [
          195.44662308780244
         ],
         "y": [
          923.1620100236582
         ],
         "z": [
          738.3613483068592
         ]
        },
        {
         "line": {
          "color": "rgba(174, 199, 232, 0.8)",
          "width": 4
         },
         "mode": "lines",
         "showlegend": false,
         "type": "scatter3d",
         "x": [
          190.40786371369137,
          197.57833430983604
         ],
         "y": [
          918.0135946708682,
          916.9977122783871
         ],
         "z": [
          738.6849581413268,
          735.2860856232008
         ]
        },
        {
         "line": {
          "color": "rgba(174, 199, 232, 0.8)",
          "width": 4
         },
         "mode": "lines",
         "showlegend": false,
         "type": "scatter3d",
         "x": [
          197.57833430983604,
          200.4853824619135
         ],
         "y": [
          916.9977122783871,
          928.3104253764483
         ],
         "z": [
          735.2860856232008,
          738.0377384723917
         ]
        },
        {
         "line": {
          "color": "rgba(174, 199, 232, 0.8)",
          "width": 4
         },
         "mode": "lines",
         "showlegend": false,
         "type": "scatter3d",
         "x": [
          200.4853824619135,
          193.31491186576883
         ],
         "y": [
          928.3104253764483,
          929.3263077689294
         ],
         "z": [
          738.0377384723917,
          741.4366109905176
         ]
        },
        {
         "line": {
          "color": "rgba(174, 199, 232, 0.8)",
          "width": 4
         },
         "mode": "lines",
         "showlegend": false,
         "type": "scatter3d",
         "x": [
          193.31491186576883,
          190.40786371369137
         ],
         "y": [
          929.3263077689294,
          918.0135946708682
         ],
         "z": [
          741.4366109905176,
          738.6849581413268
         ]
        },
        {
         "color": "rgba(255, 187, 120, 0.8)",
         "name": "P3",
         "opacity": 0.8,
         "type": "mesh3d",
         "x": [
          189.81321148324838,
          196.98368207939305,
          199.8907302314705,
          192.72025963532585
         ],
         "y": [
          917.0842548040613,
          916.0683724115802,
          927.3810855096414,
          928.3969679021225
         ],
         "z": [
          737.7845435131964,
          734.3856709950704,
          737.1373238442612,
          740.5361963623872
         ]
        },
        {
         "marker": {
          "color": "red",
          "size": 3
         },
         "mode": "markers+text",
         "showlegend": false,
         "text": "P2",
         "textfont": {
          "size": 12
         },
         "textposition": "top center",
         "type": "scatter3d",
         "x": [
          194.85197085735945
         ],
         "y": [
          922.2326701568513
         ],
         "z": [
          737.4609336787288
         ]
        },
        {
         "line": {
          "color": "rgba(255, 187, 120, 0.8)",
          "width": 4
         },
         "mode": "lines",
         "showlegend": false,
         "type": "scatter3d",
         "x": [
          189.81321148324838,
          196.98368207939305
         ],
         "y": [
          917.0842548040613,
          916.0683724115802
         ],
         "z": [
          737.7845435131964,
          734.3856709950704
         ]
        },
        {
         "line": {
          "color": "rgba(255, 187, 120, 0.8)",
          "width": 4
         },
         "mode": "lines",
         "showlegend": false,
         "type": "scatter3d",
         "x": [
          196.98368207939305,
          199.8907302314705
         ],
         "y": [
          916.0683724115802,
          927.3810855096414
         ],
         "z": [
          734.3856709950704,
          737.1373238442612
         ]
        },
        {
         "line": {
          "color": "rgba(255, 187, 120, 0.8)",
          "width": 4
         },
         "mode": "lines",
         "showlegend": false,
         "type": "scatter3d",
         "x": [
          199.8907302314705,
          192.72025963532585
         ],
         "y": [
          927.3810855096414,
          928.3969679021225
         ],
         "z": [
          737.1373238442612,
          740.5361963623872
         ]
        },
        {
         "line": {
          "color": "rgba(255, 187, 120, 0.8)",
          "width": 4
         },
         "mode": "lines",
         "showlegend": false,
         "type": "scatter3d",
         "x": [
          192.72025963532585,
          189.81321148324838
         ],
         "y": [
          928.3969679021225,
          917.0842548040613
         ],
         "z": [
          740.5361963623872,
          737.7845435131964
         ]
        },
        {
         "color": "rgba(152, 223, 138, 0.8)",
         "name": "P4",
         "opacity": 0.8,
         "type": "mesh3d",
         "x": [
          189.0846689782207,
          196.25513957436536,
          199.16218772644282,
          191.99171713029816
         ],
         "y": [
          918.126460292987,
          917.1105779005059,
          928.423290998567,
          929.4391733910481
         ],
         "z": [
          736.8658425918127,
          733.4669700736868,
          736.2186229228776,
          739.6174954410035
         ]
        },
        {
         "marker": {
          "color": "red",
          "size": 3
         },
         "mode": "markers+text",
         "showlegend": false,
         "text": "P3",
         "textfont": {
          "size": 12
         },
         "textposition": "top center",
         "type": "scatter3d",
         "x": [
          194.12342835233176
         ],
         "y": [
          923.274875645777
         ],
         "z": [
          736.5422327573451
         ]
        },
        {
         "line": {
          "color": "rgba(152, 223, 138, 0.8)",
          "width": 4
         },
         "mode": "lines",
         "showlegend": false,
         "type": "scatter3d",
         "x": [
          189.0846689782207,
          196.25513957436536
         ],
         "y": [
          918.126460292987,
          917.1105779005059
         ],
         "z": [
          736.8658425918127,
          733.4669700736868
         ]
        },
        {
         "line": {
          "color": "rgba(152, 223, 138, 0.8)",
          "width": 4
         },
         "mode": "lines",
         "showlegend": false,
         "type": "scatter3d",
         "x": [
          196.25513957436536,
          199.16218772644282
         ],
         "y": [
          917.1105779005059,
          928.423290998567
         ],
         "z": [
          733.4669700736868,
          736.2186229228776
         ]
        },
        {
         "line": {
          "color": "rgba(152, 223, 138, 0.8)",
          "width": 4
         },
         "mode": "lines",
         "showlegend": false,
         "type": "scatter3d",
         "x": [
          199.16218772644282,
          191.99171713029816
         ],
         "y": [
          928.423290998567,
          929.4391733910481
         ],
         "z": [
          736.2186229228776,
          739.6174954410035
         ]
        },
        {
         "line": {
          "color": "rgba(152, 223, 138, 0.8)",
          "width": 4
         },
         "mode": "lines",
         "showlegend": false,
         "type": "scatter3d",
         "x": [
          191.99171713029816,
          189.0846689782207
         ],
         "y": [
          929.4391733910481,
          918.126460292987
         ],
         "z": [
          739.6174954410035,
          736.8658425918127
         ]
        },
        {
         "color": "rgba(255, 152, 150, 0.8)",
         "name": "P5",
         "opacity": 0.8,
         "type": "mesh3d",
         "x": [
          188.34974092560714,
          195.5202115217518,
          198.42725967382927,
          191.2567890776846
         ],
         "y": [
          919.1651392880767,
          918.1492568955956,
          929.4619699936568,
          930.4778523861379
         ],
         "z": [
          735.9398628130439,
          732.540990294918,
          735.2926431441088,
          738.6915156622347
         ]
        },
        {
         "marker": {
          "color": "red",
          "size": 3
         },
         "mode": "markers+text",
         "showlegend": false,
         "text": "P4",
         "textfont": {
          "size": 12
         },
         "textposition": "top center",
         "type": "scatter3d",
         "x": [
          193.38850029971823
         ],
         "y": [
          924.3135546408666
         ],
         "z": [
          735.6162529785763
         ]
        },
        {
         "line": {
          "color": "rgba(255, 152, 150, 0.8)",
          "width": 4
         },
         "mode": "lines",
         "showlegend": false,
         "type": "scatter3d",
         "x": [
          188.34974092560714,
          195.5202115217518
         ],
         "y": [
          919.1651392880767,
          918.1492568955956
         ],
         "z": [
          735.9398628130439,
          732.540990294918
         ]
        },
        {
         "line": {
          "color": "rgba(255, 152, 150, 0.8)",
          "width": 4
         },
         "mode": "lines",
         "showlegend": false,
         "type": "scatter3d",
         "x": [
          195.5202115217518,
          198.42725967382927
         ],
         "y": [
          918.1492568955956,
          929.4619699936568
         ],
         "z": [
          732.540990294918,
          735.2926431441088
         ]
        },
        {
         "line": {
          "color": "rgba(255, 152, 150, 0.8)",
          "width": 4
         },
         "mode": "lines",
         "showlegend": false,
         "type": "scatter3d",
         "x": [
          198.42725967382927,
          191.2567890776846
         ],
         "y": [
          929.4619699936568,
          930.4778523861379
         ],
         "z": [
          735.2926431441088,
          738.6915156622347
         ]
        },
        {
         "line": {
          "color": "rgba(255, 152, 150, 0.8)",
          "width": 4
         },
         "mode": "lines",
         "showlegend": false,
         "type": "scatter3d",
         "x": [
          191.2567890776846,
          188.34974092560714
         ],
         "y": [
          930.4778523861379,
          919.1651392880767
         ],
         "z": [
          738.6915156622347,
          735.9398628130439
         ]
        },
        {
         "color": "rgba(197, 176, 213, 0.8)",
         "name": "P6",
         "opacity": 0.8,
         "type": "mesh3d",
         "x": [
          187.6125564748757,
          194.78302707102037,
          197.69007522309784,
          190.51960462695317
         ],
         "y": [
          920.2172191959158,
          919.2013368034347,
          930.5140499014959,
          931.529932293977
         ],
         "z": [
          735.1552588875627,
          731.7563863694368,
          734.5080392186276,
          737.9069117367535
         ]
        },
        {
         "marker": {
          "color": "red",
          "size": 3
         },
         "mode": "markers+text",
         "showlegend": false,
         "text": "P5",
         "textfont": {
          "size": 12
         },
         "textposition": "top center",
         "type": "scatter3d",
         "x": [
          192.65131584898677
         ],
         "y": [
          925.3656345487059
         ],
         "z": [
          734.8316490530951
         ]
        },
        {
         "line": {
          "color": "rgba(197, 176, 213, 0.8)",
          "width": 4
         },
         "mode": "lines",
         "showlegend": false,
         "type": "scatter3d",
         "x": [
          187.6125564748757,
          194.78302707102037
         ],
         "y": [
          920.2172191959158,
          919.2013368034347
         ],
         "z": [
          735.1552588875627,
          731.7563863694368
         ]
        },
        {
         "line": {
          "color": "rgba(197, 176, 213, 0.8)",
          "width": 4
         },
         "mode": "lines",
         "showlegend": false,
         "type": "scatter3d",
         "x": [
          194.78302707102037,
          197.69007522309784
         ],
         "y": [
          919.2013368034347,
          930.5140499014959
         ],
         "z": [
          731.7563863694368,
          734.5080392186276
         ]
        },
        {
         "line": {
          "color": "rgba(197, 176, 213, 0.8)",
          "width": 4
         },
         "mode": "lines",
         "showlegend": false,
         "type": "scatter3d",
         "x": [
          197.69007522309784,
          190.51960462695317
         ],
         "y": [
          930.5140499014959,
          931.529932293977
         ],
         "z": [
          734.5080392186276,
          737.9069117367535
         ]
        },
        {
         "line": {
          "color": "rgba(197, 176, 213, 0.8)",
          "width": 4
         },
         "mode": "lines",
         "showlegend": false,
         "type": "scatter3d",
         "x": [
          190.51960462695317,
          187.6125564748757
         ],
         "y": [
          931.529932293977,
          920.2172191959158
         ],
         "z": [
          737.9069117367535,
          735.1552588875627
         ]
        },
        {
         "color": "rgba(140, 86, 75, 0.8)",
         "name": "P7",
         "opacity": 0.8,
         "type": "mesh3d",
         "x": [
          186.86841630387454,
          194.0388869000192,
          196.94593505209667,
          189.775464455952
         ],
         "y": [
          921.2674188073314,
          920.2515364148503,
          931.5642495129115,
          932.5801319053926
         ],
         "z": [
          734.2896557535164,
          730.8907832353905,
          733.6424360845813,
          737.0413086027072
         ]
        },
        {
         "marker": {
          "color": "red",
          "size": 3
         },
         "mode": "markers+text",
         "showlegend": false,
         "text": "P6",
         "textfont": {
          "size": 12
         },
         "textposition": "top center",
         "type": "scatter3d",
         "x": [
          191.9071756779856
         ],
         "y": [
          926.4158341601214
         ],
         "z": [
          733.9660459190488
         ]
        },
        {
         "line": {
          "color": "rgba(140, 86, 75, 0.8)",
          "width": 4
         },
         "mode": "lines",
         "showlegend": false,
         "type": "scatter3d",
         "x": [
          186.86841630387454,
          194.0388869000192
         ],
         "y": [
          921.2674188073314,
          920.2515364148503
         ],
         "z": [
          734.2896557535164,
          730.8907832353905
         ]
        },
        {
         "line": {
          "color": "rgba(140, 86, 75, 0.8)",
          "width": 4
         },
         "mode": "lines",
         "showlegend": false,
         "type": "scatter3d",
         "x": [
          194.0388869000192,
          196.94593505209667
         ],
         "y": [
          920.2515364148503,
          931.5642495129115
         ],
         "z": [
          730.8907832353905,
          733.6424360845813
         ]
        },
        {
         "line": {
          "color": "rgba(140, 86, 75, 0.8)",
          "width": 4
         },
         "mode": "lines",
         "showlegend": false,
         "type": "scatter3d",
         "x": [
          196.94593505209667,
          189.775464455952
         ],
         "y": [
          931.5642495129115,
          932.5801319053926
         ],
         "z": [
          733.6424360845813,
          737.0413086027072
         ]
        },
        {
         "line": {
          "color": "rgba(140, 86, 75, 0.8)",
          "width": 4
         },
         "mode": "lines",
         "showlegend": false,
         "type": "scatter3d",
         "x": [
          189.775464455952,
          186.86841630387454
         ],
         "y": [
          932.5801319053926,
          921.2674188073314
         ],
         "z": [
          737.0413086027072,
          734.2896557535164
         ]
        },
        {
         "color": "rgba(227, 119, 194, 0.8)",
         "name": "P8",
         "opacity": 0.8,
         "type": "mesh3d",
         "x": [
          186.11888731354117,
          193.28935790968583,
          196.1964060617633,
          189.02593546561863
         ],
         "y": [
          922.3220267629034,
          921.3061443704223,
          932.6188574684835,
          933.6347398609646
         ],
         "z": [
          733.417144554627,
          730.0182720365011,
          732.7699248856919,
          736.1687974038178
         ]
        },
        {
         "marker": {
          "color": "red",
          "size": 3
         },
         "mode": "markers+text",
         "showlegend": false,
         "text": "P7",
         "textfont": {
          "size": 12
         },
         "textposition": "top center",
         "type": "scatter3d",
         "x": [
          191.15764668765223
         ],
         "y": [
          927.4704421156935
         ],
         "z": [
          733.0935347201595
         ]
        },
        {
         "line": {
          "color": "rgba(227, 119, 194, 0.8)",
          "width": 4
         },
         "mode": "lines",
         "showlegend": false,
         "type": "scatter3d",
         "x": [
          186.11888731354117,
          193.28935790968583
         ],
         "y": [
          922.3220267629034,
          921.3061443704223
         ],
         "z": [
          733.417144554627,
          730.0182720365011
         ]
        },
        {
         "line": {
          "color": "rgba(227, 119, 194, 0.8)",
          "width": 4
         },
         "mode": "lines",
         "showlegend": false,
         "type": "scatter3d",
         "x": [
          193.28935790968583,
          196.1964060617633
         ],
         "y": [
          921.3061443704223,
          932.6188574684835
         ],
         "z": [
          730.0182720365011,
          732.7699248856919
         ]
        },
        {
         "line": {
          "color": "rgba(227, 119, 194, 0.8)",
          "width": 4
         },
         "mode": "lines",
         "showlegend": false,
         "type": "scatter3d",
         "x": [
          196.1964060617633,
          189.02593546561863
         ],
         "y": [
          932.6188574684835,
          933.6347398609646
         ],
         "z": [
          732.7699248856919,
          736.1687974038178
         ]
        },
        {
         "line": {
          "color": "rgba(227, 119, 194, 0.8)",
          "width": 4
         },
         "mode": "lines",
         "showlegend": false,
         "type": "scatter3d",
         "x": [
          189.02593546561863,
          186.11888731354117
         ],
         "y": [
          933.6347398609646,
          922.3220267629034
         ],
         "z": [
          736.1687974038178,
          733.417144554627
         ]
        },
        {
         "color": "rgba(127, 127, 127, 0.8)",
         "name": "P9",
         "opacity": 0.8,
         "type": "mesh3d",
         "x": [
          185.2288285822395,
          192.39929917838415,
          195.30634733046162,
          188.13587673431695
         ],
         "y": [
          922.3878950477592,
          921.3720126552781,
          932.6847257533393,
          933.7006081458204
         ],
         "z": [
          732.60778815579,
          729.2089156376641,
          731.9605684868549,
          735.3594410049808
         ]
        },
        {
         "marker": {
          "color": "red",
          "size": 3
         },
         "mode": "markers+text",
         "showlegend": false,
         "text": "P8",
         "textfont": {
          "size": 12
         },
         "textposition": "top center",
         "type": "scatter3d",
         "x": [
          190.26758795635055
         ],
         "y": [
          927.5363104005492
         ],
         "z": [
          732.2841783213224
         ]
        },
        {
         "line": {
          "color": "rgba(127, 127, 127, 0.8)",
          "width": 4
         },
         "mode": "lines",
         "showlegend": false,
         "type": "scatter3d",
         "x": [
          185.2288285822395,
          192.39929917838415
         ],
         "y": [
          922.3878950477592,
          921.3720126552781
         ],
         "z": [
          732.60778815579,
          729.2089156376641
         ]
        },
        {
         "line": {
          "color": "rgba(127, 127, 127, 0.8)",
          "width": 4
         },
         "mode": "lines",
         "showlegend": false,
         "type": "scatter3d",
         "x": [
          192.39929917838415,
          195.30634733046162
         ],
         "y": [
          921.3720126552781,
          932.6847257533393
         ],
         "z": [
          729.2089156376641,
          731.9605684868549
         ]
        },
        {
         "line": {
          "color": "rgba(127, 127, 127, 0.8)",
          "width": 4
         },
         "mode": "lines",
         "showlegend": false,
         "type": "scatter3d",
         "x": [
          195.30634733046162,
          188.13587673431695
         ],
         "y": [
          932.6847257533393,
          933.7006081458204
         ],
         "z": [
          731.9605684868549,
          735.3594410049808
         ]
        },
        {
         "line": {
          "color": "rgba(127, 127, 127, 0.8)",
          "width": 4
         },
         "mode": "lines",
         "showlegend": false,
         "type": "scatter3d",
         "x": [
          188.13587673431695,
          185.2288285822395
         ],
         "y": [
          933.7006081458204,
          922.3878950477592
         ],
         "z": [
          735.3594410049808,
          732.60778815579
         ]
        },
        {
         "color": "rgba(188, 189, 34, 0.8)",
         "name": "P10",
         "opacity": 0.8,
         "type": "mesh3d",
         "x": [
          184.0419051790214,
          191.21237577516607,
          194.11942392724353,
          186.94895333109886
         ],
         "y": [
          923.5278270254659,
          922.5119446329848,
          933.8246577310459,
          934.840540123527
         ],
         "z": [
          732.5623066962796,
          729.1634341781537,
          731.9150870273445,
          735.3139595454704
         ]
        },
        {
         "marker": {
          "color": "red",
          "size": 3
         },
         "mode": "markers+text",
         "showlegend": false,
         "text": "P9",
         "textfont": {
          "size": 12
         },
         "textposition": "top center",
         "type": "scatter3d",
         "x": [
          189.08066455313246
         ],
         "y": [
          928.6762423782559
         ],
         "z": [
          732.2386968618121
         ]
        },
        {
         "line": {
          "color": "rgba(188, 189, 34, 0.8)",
          "width": 4
         },
         "mode": "lines",
         "showlegend": false,
         "type": "scatter3d",
         "x": [
          184.0419051790214,
          191.21237577516607
         ],
         "y": [
          923.5278270254659,
          922.5119446329848
         ],
         "z": [
          732.5623066962796,
          729.1634341781537
         ]
        },
        {
         "line": {
          "color": "rgba(188, 189, 34, 0.8)",
          "width": 4
         },
         "mode": "lines",
         "showlegend": false,
         "type": "scatter3d",
         "x": [
          191.21237577516607,
          194.11942392724353
         ],
         "y": [
          922.5119446329848,
          933.8246577310459
         ],
         "z": [
          729.1634341781537,
          731.9150870273445
         ]
        },
        {
         "line": {
          "color": "rgba(188, 189, 34, 0.8)",
          "width": 4
         },
         "mode": "lines",
         "showlegend": false,
         "type": "scatter3d",
         "x": [
          194.11942392724353,
          186.94895333109886
         ],
         "y": [
          933.8246577310459,
          934.840540123527
         ],
         "z": [
          731.9150870273445,
          735.3139595454704
         ]
        },
        {
         "line": {
          "color": "rgba(188, 189, 34, 0.8)",
          "width": 4
         },
         "mode": "lines",
         "showlegend": false,
         "type": "scatter3d",
         "x": [
          186.94895333109886,
          184.0419051790214
         ],
         "y": [
          934.840540123527,
          923.5278270254659
         ],
         "z": [
          735.3139595454704,
          732.5623066962796
         ]
        },
        {
         "color": "rgba(23, 190, 207, 0.8)",
         "name": "P11",
         "opacity": 0.8,
         "type": "mesh3d",
         "x": [
          182.99061167036297,
          190.16108226650763,
          193.0681304185851,
          185.89765982244043
         ],
         "y": [
          924.6447918349493,
          923.6289094424682,
          934.9416225405294,
          935.9575049330105
         ],
         "z": [
          732.3622674238633,
          728.9633949057373,
          731.7150477549282,
          735.1139202730541
         ]
        },
        {
         "marker": {
          "color": "red",
          "size": 3
         },
         "mode": "markers+text",
         "showlegend": false,
         "text": "",
         "textfont": {
          "size": 12
         },
         "textposition": "top center",
         "type": "scatter3d",
         "x": [
          188.02937104447406
         ],
         "y": [
          929.7932071877393
         ],
         "z": [
          732.0386575893957
         ]
        },
        {
         "line": {
          "color": "rgba(23, 190, 207, 0.8)",
          "width": 4
         },
         "mode": "lines",
         "showlegend": false,
         "type": "scatter3d",
         "x": [
          182.99061167036297,
          190.16108226650763
         ],
         "y": [
          924.6447918349493,
          923.6289094424682
         ],
         "z": [
          732.3622674238633,
          728.9633949057373
         ]
        },
        {
         "line": {
          "color": "rgba(23, 190, 207, 0.8)",
          "width": 4
         },
         "mode": "lines",
         "showlegend": false,
         "type": "scatter3d",
         "x": [
          190.16108226650763,
          193.0681304185851
         ],
         "y": [
          923.6289094424682,
          934.9416225405294
         ],
         "z": [
          728.9633949057373,
          731.7150477549282
         ]
        },
        {
         "line": {
          "color": "rgba(23, 190, 207, 0.8)",
          "width": 4
         },
         "mode": "lines",
         "showlegend": false,
         "type": "scatter3d",
         "x": [
          193.0681304185851,
          185.89765982244043
         ],
         "y": [
          934.9416225405294,
          935.9575049330105
         ],
         "z": [
          731.7150477549282,
          735.1139202730541
         ]
        },
        {
         "line": {
          "color": "rgba(23, 190, 207, 0.8)",
          "width": 4
         },
         "mode": "lines",
         "showlegend": false,
         "type": "scatter3d",
         "x": [
          185.89765982244043,
          182.99061167036297
         ],
         "y": [
          935.9575049330105,
          924.6447918349493
         ],
         "z": [
          735.1139202730541,
          732.3622674238633
         ]
        },
        {
         "line": {
          "color": "black",
          "width": 2
         },
         "mode": "lines",
         "name": "Berechnete Hakenlinie",
         "type": "scatter3d",
         "x": {
          "bdata": "iBsjqG84aUAAeIC8Sm5oQCAwY1hDW2hAQBUEIPNDaEDVOC6YbixoQHjYVZTXFGhAmJVJlQf9Z0BA+RBxC+VnQIgqnhSQyGdA0DTUzZSiZ0Dlboub8IBnQA==",
          "dtype": "f8"
         },
         "y": {
          "bdata": "rDug0TerjEDkSenLS9mMQHTTK4Lc0YxAoqgA8jLajEBAgO8oguKMQNZnztHs6oxAQDLcoFPzjECE7Cd3w/uMQOh2G11K/IxAOpbD8WgFjUBXkgJ9WA6NQA==",
          "dtype": "f8"
         },
         "z": {
          "bdata": "noi+OjU9h0Bnw5QK5BKHQB8e//2vC4dA8LwgflYEh0BiqAoW7vyGQFhmnjen9oZA/mVIdrrvhkABoSGPv+iGQH+iSP9F4oZAIHnm2ejhhkCT0bUrT+CGQA==",
          "dtype": "f8"
         }
        },
        {
         "mode": "text",
         "showlegend": false,
         "text": [
          "Pre-Position"
         ],
         "textfont": {
          "size": 10
         },
         "textposition": "top center",
         "type": "scatter3d",
         "x": [
          201.76362997872297
         ],
         "y": [
          917.4022552984438
         ],
         "z": [
          743.6509909520571
         ]
        },
        {
         "mode": "text",
         "showlegend": false,
         "text": [
          "Loslassen"
         ],
         "textfont": {
          "size": 10
         },
         "textposition": "top center",
         "type": "scatter3d",
         "x": [
          188.02937104447406
         ],
         "y": [
          929.7932071877393
         ],
         "z": [
          732.0386575893957
         ]
        },
        {
         "color": "rgba(0,255,0,0.2)",
         "name": "optimale Trajektorie",
         "opacity": 0.8,
         "type": "mesh3d",
         "x": [
          195.28756076926425,
          199.20243684111037,
          207.7191673910965,
          203.80429131925038
         ],
         "y": [
          912.9831524002064,
          909.0322555987393,
          917.4859648283824,
          921.4368616298495
         ],
         "z": [
          746.5842573761463,
          740.8341130469801,
          740.8240631922076,
          746.5742075213739
         ]
        },
        {
         "line": {
          "color": "rgba(0,255,0,0.2)",
          "width": 3
         },
         "mode": "lines",
         "showlegend": false,
         "type": "scatter3d",
         "x": [
          195.28756076926425,
          199.20243684111037
         ],
         "y": [
          912.9831524002064,
          909.0322555987393
         ],
         "z": [
          746.5842573761463,
          740.8341130469801
         ]
        },
        {
         "line": {
          "color": "rgba(0,255,0,0.2)",
          "width": 3
         },
         "mode": "lines",
         "showlegend": false,
         "type": "scatter3d",
         "x": [
          199.20243684111037,
          207.7191673910965
         ],
         "y": [
          909.0322555987393,
          917.4859648283824
         ],
         "z": [
          740.8341130469801,
          740.8240631922076
         ]
        },
        {
         "line": {
          "color": "rgba(0,255,0,0.2)",
          "width": 3
         },
         "mode": "lines",
         "showlegend": false,
         "type": "scatter3d",
         "x": [
          207.7191673910965,
          203.80429131925038
         ],
         "y": [
          917.4859648283824,
          921.4368616298495
         ],
         "z": [
          740.8240631922076,
          746.5742075213739
         ]
        },
        {
         "line": {
          "color": "rgba(0,255,0,0.2)",
          "width": 3
         },
         "mode": "lines",
         "showlegend": false,
         "type": "scatter3d",
         "x": [
          203.80429131925038,
          195.28756076926425
         ],
         "y": [
          921.4368616298495,
          912.9831524002064
         ],
         "z": [
          746.5742075213739,
          746.5842573761463
         ]
        },
        {
         "marker": {
          "color": "green",
          "size": 4
         },
         "mode": "markers",
         "name": "Mitte P11",
         "showlegend": false,
         "type": "scatter3d",
         "x": [
          201.50336408018038
         ],
         "y": [
          915.2345586142944
         ],
         "z": [
          743.704160284177
         ]
        },
        {
         "color": "rgba(0,255,0,0.2)",
         "name": "optimale Trajektorie",
         "opacity": 0.8,
         "type": "mesh3d",
         "x": [
          191.2391552362933,
          195.17499334285534,
          203.64282515948815,
          199.7069870529261
         ],
         "y": [
          919.4698325800452,
          915.5091243869107,
          924.0116027552956,
          927.9723109484302
         ],
         "z": [
          741.1287252684803,
          735.3996791866468,
          735.3389674055264,
          741.0680134873598
         ]
        },
        {
         "line": {
          "color": "rgba(0,255,0,0.2)",
          "width": 3
         },
         "mode": "lines",
         "showlegend": false,
         "type": "scatter3d",
         "x": [
          191.2391552362933,
          195.17499334285534
         ],
         "y": [
          919.4698325800452,
          915.5091243869107
         ],
         "z": [
          741.1287252684803,
          735.3996791866468
         ]
        },
        {
         "line": {
          "color": "rgba(0,255,0,0.2)",
          "width": 3
         },
         "mode": "lines",
         "showlegend": false,
         "type": "scatter3d",
         "x": [
          195.17499334285534,
          203.64282515948815
         ],
         "y": [
          915.5091243869107,
          924.0116027552956
         ],
         "z": [
          735.3996791866468,
          735.3389674055264
         ]
        },
        {
         "line": {
          "color": "rgba(0,255,0,0.2)",
          "width": 3
         },
         "mode": "lines",
         "showlegend": false,
         "type": "scatter3d",
         "x": [
          203.64282515948815,
          199.7069870529261
         ],
         "y": [
          924.0116027552956,
          927.9723109484302
         ],
         "z": [
          735.3389674055264,
          741.0680134873598
         ]
        },
        {
         "line": {
          "color": "rgba(0,255,0,0.2)",
          "width": 3
         },
         "mode": "lines",
         "showlegend": false,
         "type": "scatter3d",
         "x": [
          199.7069870529261,
          191.2391552362933
         ],
         "y": [
          927.9723109484302,
          919.4698325800452
         ],
         "z": [
          741.0680134873598,
          741.1287252684803
         ]
        },
        {
         "marker": {
          "color": "green",
          "size": 4
         },
         "mode": "markers",
         "name": "Mitte P11",
         "showlegend": false,
         "type": "scatter3d",
         "x": [
          197.44099019789073
         ],
         "y": [
          921.7407176676704
         ],
         "z": [
          738.2338463370033
         ]
        },
        {
         "color": "rgba(0,255,0,0.2)",
         "name": "optimale Trajektorie",
         "opacity": 0.8,
         "type": "mesh3d",
         "x": [
          187.67617788107341,
          191.45069157629476,
          200.20977487691655,
          196.4352611816952
         ],
         "y": [
          922.6860263786168,
          918.6227230840526,
          926.8249373198271,
          930.8882406143913
         ],
         "z": [
          738.9733473214234,
          733.2077066197346,
          733.1614317536847,
          738.9270724553735
         ]
        },
        {
         "line": {
          "color": "rgba(0,255,0,0.2)",
          "width": 3
         },
         "mode": "lines",
         "showlegend": false,
         "type": "scatter3d",
         "x": [
          187.67617788107341,
          191.45069157629476
         ],
         "y": [
          922.6860263786168,
          918.6227230840526
         ],
         "z": [
          738.9733473214234,
          733.2077066197346
         ]
        },
        {
         "line": {
          "color": "rgba(0,255,0,0.2)",
          "width": 3
         },
         "mode": "lines",
         "showlegend": false,
         "type": "scatter3d",
         "x": [
          191.45069157629476,
          200.20977487691655
         ],
         "y": [
          918.6227230840526,
          926.8249373198271
         ],
         "z": [
          733.2077066197346,
          733.1614317536847
         ]
        },
        {
         "line": {
          "color": "rgba(0,255,0,0.2)",
          "width": 3
         },
         "mode": "lines",
         "showlegend": false,
         "type": "scatter3d",
         "x": [
          200.20977487691655,
          196.4352611816952
         ],
         "y": [
          926.8249373198271,
          930.8882406143913
         ],
         "z": [
          733.1614317536847,
          738.9270724553735
         ]
        },
        {
         "line": {
          "color": "rgba(0,255,0,0.2)",
          "width": 3
         },
         "mode": "lines",
         "showlegend": false,
         "type": "scatter3d",
         "x": [
          196.4352611816952,
          187.67617788107341
         ],
         "y": [
          930.8882406143913,
          922.6860263786168
         ],
         "z": [
          738.9270724553735,
          738.9733473214234
         ]
        },
        {
         "marker": {
          "color": "green",
          "size": 4
         },
         "mode": "markers",
         "name": "Mitte P11",
         "showlegend": false,
         "type": "scatter3d",
         "x": [
          193.94297637899498
         ],
         "y": [
          924.755481849222
         ],
         "z": [
          736.067389537554
         ]
        },
        {
         "color": "rgba(0,255,0,0.2)",
         "name": "optimale Trajektorie",
         "opacity": 0.8,
         "type": "mesh3d",
         "x": [
          185.13029818141257,
          188.91096286800732,
          197.64735538994285,
          193.8666907033481
         ],
         "y": [
          924.4743312348827,
          920.4005821420782,
          928.6266650534727,
          932.7004141462772
         ],
         "z": [
          735.6483221160419,
          729.894093857065,
          729.810394170497,
          735.564622429474
         ]
        },
        {
         "line": {
          "color": "rgba(0,255,0,0.2)",
          "width": 3
         },
         "mode": "lines",
         "showlegend": false,
         "type": "scatter3d",
         "x": [
          185.13029818141257,
          188.91096286800732
         ],
         "y": [
          924.4743312348827,
          920.4005821420782
         ],
         "z": [
          735.6483221160419,
          729.894093857065
         ]
        },
        {
         "line": {
          "color": "rgba(0,255,0,0.2)",
          "width": 3
         },
         "mode": "lines",
         "showlegend": false,
         "type": "scatter3d",
         "x": [
          188.91096286800732,
          197.64735538994285
         ],
         "y": [
          920.4005821420782,
          928.6266650534727
         ],
         "z": [
          729.894093857065,
          729.810394170497
         ]
        },
        {
         "line": {
          "color": "rgba(0,255,0,0.2)",
          "width": 3
         },
         "mode": "lines",
         "showlegend": false,
         "type": "scatter3d",
         "x": [
          197.64735538994285,
          193.8666907033481
         ],
         "y": [
          928.6266650534727,
          932.7004141462772
         ],
         "z": [
          729.810394170497,
          735.564622429474
         ]
        },
        {
         "line": {
          "color": "rgba(0,255,0,0.2)",
          "width": 3
         },
         "mode": "lines",
         "showlegend": false,
         "type": "scatter3d",
         "x": [
          193.8666907033481,
          185.13029818141257
         ],
         "y": [
          932.7004141462772,
          924.4743312348827
         ],
         "z": [
          735.564622429474,
          735.6483221160419
         ]
        },
        {
         "marker": {
          "color": "green",
          "size": 4
         },
         "mode": "markers",
         "name": "Mitte P11",
         "showlegend": false,
         "type": "scatter3d",
         "x": [
          191.3888267856777
         ],
         "y": [
          926.5504981441777
         ],
         "z": [
          732.7293581432696
         ]
        },
        {
         "color": "rgba(0,255,0,0.2)",
         "name": "optimale Trajektorie",
         "opacity": 0.8,
         "type": "mesh3d",
         "x": [
          184.48632556888546,
          187.19116401619044,
          195.93429925257456,
          193.22946080526958
         ],
         "y": [
          924.1575942044245,
          921.1599445378718,
          929.3780461885614,
          932.3756958551141
         ],
         "z": [
          734.6862673607562,
          727.7798974422972,
          727.6370986424687,
          734.5434685609277
         ]
        },
        {
         "line": {
          "color": "rgba(0,255,0,0.2)",
          "width": 3
         },
         "mode": "lines",
         "showlegend": false,
         "type": "scatter3d",
         "x": [
          184.48632556888546,
          187.19116401619044
         ],
         "y": [
          924.1575942044245,
          921.1599445378718
         ],
         "z": [
          734.6862673607562,
          727.7798974422972
         ]
        },
        {
         "line": {
          "color": "rgba(0,255,0,0.2)",
          "width": 3
         },
         "mode": "lines",
         "showlegend": false,
         "type": "scatter3d",
         "x": [
          187.19116401619044,
          195.93429925257456
         ],
         "y": [
          921.1599445378718,
          929.3780461885614
         ],
         "z": [
          727.7798974422972,
          727.6370986424687
         ]
        },
        {
         "line": {
          "color": "rgba(0,255,0,0.2)",
          "width": 3
         },
         "mode": "lines",
         "showlegend": false,
         "type": "scatter3d",
         "x": [
          195.93429925257456,
          193.22946080526958
         ],
         "y": [
          929.3780461885614,
          932.3756958551141
         ],
         "z": [
          727.6370986424687,
          734.5434685609277
         ]
        },
        {
         "line": {
          "color": "rgba(0,255,0,0.2)",
          "width": 3
         },
         "mode": "lines",
         "showlegend": false,
         "type": "scatter3d",
         "x": [
          193.22946080526958,
          184.48632556888546
         ],
         "y": [
          932.3756958551141,
          924.1575942044245
         ],
         "z": [
          734.5434685609277,
          734.6862673607562
         ]
        },
        {
         "marker": {
          "color": "green",
          "size": 4
         },
         "mode": "markers",
         "name": "Mitte P11",
         "showlegend": false,
         "type": "scatter3d",
         "x": [
          190.21031241073
         ],
         "y": [
          926.767820196493
         ],
         "z": [
          731.1616830016123
         ]
        },
        {
         "color": "rgba(0,255,0,0.2)",
         "name": "optimale Trajektorie",
         "opacity": 0.8,
         "type": "mesh3d",
         "x": [
          184.21420709678668,
          184.79005799160421,
          193.53946859932793,
          192.9636177045104
         ],
         "y": [
          923.6103611636458,
          922.7992154684895,
          931.0093372414542,
          931.8204829366106
         ],
         "z": [
          734.099054161707,
          726.1611426978416,
          725.9569014421099,
          733.8948129059754
         ]
        },
        {
         "line": {
          "color": "rgba(0,255,0,0.2)",
          "width": 3
         },
         "mode": "lines",
         "showlegend": false,
         "type": "scatter3d",
         "x": [
          184.21420709678668,
          184.79005799160421
         ],
         "y": [
          923.6103611636458,
          922.7992154684895
         ],
         "z": [
          734.099054161707,
          726.1611426978416
         ]
        },
        {
         "line": {
          "color": "rgba(0,255,0,0.2)",
          "width": 3
         },
         "mode": "lines",
         "showlegend": false,
         "type": "scatter3d",
         "x": [
          184.79005799160421,
          193.53946859932793
         ],
         "y": [
          922.7992154684895,
          931.0093372414542
         ],
         "z": [
          726.1611426978416,
          725.9569014421099
         ]
        },
        {
         "line": {
          "color": "rgba(0,255,0,0.2)",
          "width": 3
         },
         "mode": "lines",
         "showlegend": false,
         "type": "scatter3d",
         "x": [
          193.53946859932793,
          192.9636177045104
         ],
         "y": [
          931.0093372414542,
          931.8204829366106
         ],
         "z": [
          725.9569014421099,
          733.8948129059754
         ]
        },
        {
         "line": {
          "color": "rgba(0,255,0,0.2)",
          "width": 3
         },
         "mode": "lines",
         "showlegend": false,
         "type": "scatter3d",
         "x": [
          192.9636177045104,
          184.21420709678668
         ],
         "y": [
          931.8204829366106,
          923.6103611636458
         ],
         "z": [
          733.8948129059754,
          734.099054161707
         ]
        },
        {
         "marker": {
          "color": "green",
          "size": 4
         },
         "mode": "markers",
         "name": "Mitte P11",
         "showlegend": false,
         "type": "scatter3d",
         "x": [
          188.8768378480573
         ],
         "y": [
          927.3098492025499
         ],
         "z": [
          730.0279778019085
         ]
        },
        {
         "line": {
          "color": "green",
          "width": 2
         },
         "mode": "lines",
         "name": "Optimale Hakenlinie",
         "type": "scatter3d",
         "x": {
          "bdata": "Y8v8jhswaUCDuXmXHK5oQOOVzNwsPmhAbQnfRHHsZ0DowBfhusZnQKMpPw4PnGdA",
          "dtype": "f8"
         },
         "y": {
          "bdata": "HktEYOCZjEC2cWL97M2MQApZEToL5oxABC6Sa2f0jEAqSep+JPaMQCb9N5J6+oxA",
          "dtype": "f8"
         },
         "z": {
          "bdata": "dX3JHqI9h0DADdTq3hGHQBmfhgOKAIdAUOO4udXlhkD0IXUgS9mGQLABbUw50IZA",
          "dtype": "f8"
         }
        },
        {
         "line": {
          "color": "gray",
          "dash": "dash"
         },
         "mode": "lines",
         "name": "Direkte Gerade Spitze -> Senke",
         "type": "scatter3d",
         "x": [
          195.44662308780244,
          188.02937104447403
         ],
         "y": [
          923.1620100236582,
          929.7932071877393
         ],
         "z": [
          738.3613483068592,
          732.0386575893957
         ]
        },
        {
         "marker": {
          "color": "magenta",
          "size": 8
         },
         "mode": "markers",
         "name": "Spitze",
         "type": "scatter3d",
         "x": [
          195.44662308780244
         ],
         "y": [
          923.1620100236582
         ],
         "z": [
          738.3613483068592
         ]
        },
        {
         "marker": {
          "color": "magenta",
          "size": 8
         },
         "mode": "markers",
         "name": "Senke",
         "type": "scatter3d",
         "x": [
          188.02937104447403
         ],
         "y": [
          929.7932071877393
         ],
         "z": [
          732.0386575893957
         ]
        },
        {
         "mode": "text",
         "showlegend": false,
         "text": [
          "Spitze"
         ],
         "textfont": {
          "size": 10
         },
         "textposition": "top center",
         "type": "scatter3d",
         "x": [
          195.44662308780244
         ],
         "y": [
          923.1620100236582
         ],
         "z": [
          738.3613483068592
         ]
        },
        {
         "mode": "text",
         "showlegend": false,
         "text": [
          "Senke"
         ],
         "textfont": {
          "size": 10
         },
         "textposition": "top center",
         "type": "scatter3d",
         "x": [
          188.02937104447403
         ],
         "y": [
          929.7932071877393
         ],
         "z": [
          732.0386575893957
         ]
        }
       ],
       "layout": {
        "legend": {
         "title": {
          "text": "Legende"
         }
        },
        "scene": {
         "aspectmode": "cube",
         "xaxis": {
          "title": {
           "text": "X"
          }
         },
         "yaxis": {
          "title": {
           "text": "Y"
          }
         },
         "zaxis": {
          "title": {
           "text": "Z"
          }
         }
        },
        "template": {
         "data": {
          "bar": [
           {
            "error_x": {
             "color": "#2a3f5f"
            },
            "error_y": {
             "color": "#2a3f5f"
            },
            "marker": {
             "line": {
              "color": "#E5ECF6",
              "width": 0.5
             },
             "pattern": {
              "fillmode": "overlay",
              "size": 10,
              "solidity": 0.2
             }
            },
            "type": "bar"
           }
          ],
          "barpolar": [
           {
            "marker": {
             "line": {
              "color": "#E5ECF6",
              "width": 0.5
             },
             "pattern": {
              "fillmode": "overlay",
              "size": 10,
              "solidity": 0.2
             }
            },
            "type": "barpolar"
           }
          ],
          "carpet": [
           {
            "aaxis": {
             "endlinecolor": "#2a3f5f",
             "gridcolor": "white",
             "linecolor": "white",
             "minorgridcolor": "white",
             "startlinecolor": "#2a3f5f"
            },
            "baxis": {
             "endlinecolor": "#2a3f5f",
             "gridcolor": "white",
             "linecolor": "white",
             "minorgridcolor": "white",
             "startlinecolor": "#2a3f5f"
            },
            "type": "carpet"
           }
          ],
          "choropleth": [
           {
            "colorbar": {
             "outlinewidth": 0,
             "ticks": ""
            },
            "type": "choropleth"
           }
          ],
          "contour": [
           {
            "colorbar": {
             "outlinewidth": 0,
             "ticks": ""
            },
            "colorscale": [
             [
              0,
              "#0d0887"
             ],
             [
              0.1111111111111111,
              "#46039f"
             ],
             [
              0.2222222222222222,
              "#7201a8"
             ],
             [
              0.3333333333333333,
              "#9c179e"
             ],
             [
              0.4444444444444444,
              "#bd3786"
             ],
             [
              0.5555555555555556,
              "#d8576b"
             ],
             [
              0.6666666666666666,
              "#ed7953"
             ],
             [
              0.7777777777777778,
              "#fb9f3a"
             ],
             [
              0.8888888888888888,
              "#fdca26"
             ],
             [
              1,
              "#f0f921"
             ]
            ],
            "type": "contour"
           }
          ],
          "contourcarpet": [
           {
            "colorbar": {
             "outlinewidth": 0,
             "ticks": ""
            },
            "type": "contourcarpet"
           }
          ],
          "heatmap": [
           {
            "colorbar": {
             "outlinewidth": 0,
             "ticks": ""
            },
            "colorscale": [
             [
              0,
              "#0d0887"
             ],
             [
              0.1111111111111111,
              "#46039f"
             ],
             [
              0.2222222222222222,
              "#7201a8"
             ],
             [
              0.3333333333333333,
              "#9c179e"
             ],
             [
              0.4444444444444444,
              "#bd3786"
             ],
             [
              0.5555555555555556,
              "#d8576b"
             ],
             [
              0.6666666666666666,
              "#ed7953"
             ],
             [
              0.7777777777777778,
              "#fb9f3a"
             ],
             [
              0.8888888888888888,
              "#fdca26"
             ],
             [
              1,
              "#f0f921"
             ]
            ],
            "type": "heatmap"
           }
          ],
          "histogram": [
           {
            "marker": {
             "pattern": {
              "fillmode": "overlay",
              "size": 10,
              "solidity": 0.2
             }
            },
            "type": "histogram"
           }
          ],
          "histogram2d": [
           {
            "colorbar": {
             "outlinewidth": 0,
             "ticks": ""
            },
            "colorscale": [
             [
              0,
              "#0d0887"
             ],
             [
              0.1111111111111111,
              "#46039f"
             ],
             [
              0.2222222222222222,
              "#7201a8"
             ],
             [
              0.3333333333333333,
              "#9c179e"
             ],
             [
              0.4444444444444444,
              "#bd3786"
             ],
             [
              0.5555555555555556,
              "#d8576b"
             ],
             [
              0.6666666666666666,
              "#ed7953"
             ],
             [
              0.7777777777777778,
              "#fb9f3a"
             ],
             [
              0.8888888888888888,
              "#fdca26"
             ],
             [
              1,
              "#f0f921"
             ]
            ],
            "type": "histogram2d"
           }
          ],
          "histogram2dcontour": [
           {
            "colorbar": {
             "outlinewidth": 0,
             "ticks": ""
            },
            "colorscale": [
             [
              0,
              "#0d0887"
             ],
             [
              0.1111111111111111,
              "#46039f"
             ],
             [
              0.2222222222222222,
              "#7201a8"
             ],
             [
              0.3333333333333333,
              "#9c179e"
             ],
             [
              0.4444444444444444,
              "#bd3786"
             ],
             [
              0.5555555555555556,
              "#d8576b"
             ],
             [
              0.6666666666666666,
              "#ed7953"
             ],
             [
              0.7777777777777778,
              "#fb9f3a"
             ],
             [
              0.8888888888888888,
              "#fdca26"
             ],
             [
              1,
              "#f0f921"
             ]
            ],
            "type": "histogram2dcontour"
           }
          ],
          "mesh3d": [
           {
            "colorbar": {
             "outlinewidth": 0,
             "ticks": ""
            },
            "type": "mesh3d"
           }
          ],
          "parcoords": [
           {
            "line": {
             "colorbar": {
              "outlinewidth": 0,
              "ticks": ""
             }
            },
            "type": "parcoords"
           }
          ],
          "pie": [
           {
            "automargin": true,
            "type": "pie"
           }
          ],
          "scatter": [
           {
            "fillpattern": {
             "fillmode": "overlay",
             "size": 10,
             "solidity": 0.2
            },
            "type": "scatter"
           }
          ],
          "scatter3d": [
           {
            "line": {
             "colorbar": {
              "outlinewidth": 0,
              "ticks": ""
             }
            },
            "marker": {
             "colorbar": {
              "outlinewidth": 0,
              "ticks": ""
             }
            },
            "type": "scatter3d"
           }
          ],
          "scattercarpet": [
           {
            "marker": {
             "colorbar": {
              "outlinewidth": 0,
              "ticks": ""
             }
            },
            "type": "scattercarpet"
           }
          ],
          "scattergeo": [
           {
            "marker": {
             "colorbar": {
              "outlinewidth": 0,
              "ticks": ""
             }
            },
            "type": "scattergeo"
           }
          ],
          "scattergl": [
           {
            "marker": {
             "colorbar": {
              "outlinewidth": 0,
              "ticks": ""
             }
            },
            "type": "scattergl"
           }
          ],
          "scattermap": [
           {
            "marker": {
             "colorbar": {
              "outlinewidth": 0,
              "ticks": ""
             }
            },
            "type": "scattermap"
           }
          ],
          "scattermapbox": [
           {
            "marker": {
             "colorbar": {
              "outlinewidth": 0,
              "ticks": ""
             }
            },
            "type": "scattermapbox"
           }
          ],
          "scatterpolar": [
           {
            "marker": {
             "colorbar": {
              "outlinewidth": 0,
              "ticks": ""
             }
            },
            "type": "scatterpolar"
           }
          ],
          "scatterpolargl": [
           {
            "marker": {
             "colorbar": {
              "outlinewidth": 0,
              "ticks": ""
             }
            },
            "type": "scatterpolargl"
           }
          ],
          "scatterternary": [
           {
            "marker": {
             "colorbar": {
              "outlinewidth": 0,
              "ticks": ""
             }
            },
            "type": "scatterternary"
           }
          ],
          "surface": [
           {
            "colorbar": {
             "outlinewidth": 0,
             "ticks": ""
            },
            "colorscale": [
             [
              0,
              "#0d0887"
             ],
             [
              0.1111111111111111,
              "#46039f"
             ],
             [
              0.2222222222222222,
              "#7201a8"
             ],
             [
              0.3333333333333333,
              "#9c179e"
             ],
             [
              0.4444444444444444,
              "#bd3786"
             ],
             [
              0.5555555555555556,
              "#d8576b"
             ],
             [
              0.6666666666666666,
              "#ed7953"
             ],
             [
              0.7777777777777778,
              "#fb9f3a"
             ],
             [
              0.8888888888888888,
              "#fdca26"
             ],
             [
              1,
              "#f0f921"
             ]
            ],
            "type": "surface"
           }
          ],
          "table": [
           {
            "cells": {
             "fill": {
              "color": "#EBF0F8"
             },
             "line": {
              "color": "white"
             }
            },
            "header": {
             "fill": {
              "color": "#C8D4E3"
             },
             "line": {
              "color": "white"
             }
            },
            "type": "table"
           }
          ]
         },
         "layout": {
          "annotationdefaults": {
           "arrowcolor": "#2a3f5f",
           "arrowhead": 0,
           "arrowwidth": 1
          },
          "autotypenumbers": "strict",
          "coloraxis": {
           "colorbar": {
            "outlinewidth": 0,
            "ticks": ""
           }
          },
          "colorscale": {
           "diverging": [
            [
             0,
             "#8e0152"
            ],
            [
             0.1,
             "#c51b7d"
            ],
            [
             0.2,
             "#de77ae"
            ],
            [
             0.3,
             "#f1b6da"
            ],
            [
             0.4,
             "#fde0ef"
            ],
            [
             0.5,
             "#f7f7f7"
            ],
            [
             0.6,
             "#e6f5d0"
            ],
            [
             0.7,
             "#b8e186"
            ],
            [
             0.8,
             "#7fbc41"
            ],
            [
             0.9,
             "#4d9221"
            ],
            [
             1,
             "#276419"
            ]
           ],
           "sequential": [
            [
             0,
             "#0d0887"
            ],
            [
             0.1111111111111111,
             "#46039f"
            ],
            [
             0.2222222222222222,
             "#7201a8"
            ],
            [
             0.3333333333333333,
             "#9c179e"
            ],
            [
             0.4444444444444444,
             "#bd3786"
            ],
            [
             0.5555555555555556,
             "#d8576b"
            ],
            [
             0.6666666666666666,
             "#ed7953"
            ],
            [
             0.7777777777777778,
             "#fb9f3a"
            ],
            [
             0.8888888888888888,
             "#fdca26"
            ],
            [
             1,
             "#f0f921"
            ]
           ],
           "sequentialminus": [
            [
             0,
             "#0d0887"
            ],
            [
             0.1111111111111111,
             "#46039f"
            ],
            [
             0.2222222222222222,
             "#7201a8"
            ],
            [
             0.3333333333333333,
             "#9c179e"
            ],
            [
             0.4444444444444444,
             "#bd3786"
            ],
            [
             0.5555555555555556,
             "#d8576b"
            ],
            [
             0.6666666666666666,
             "#ed7953"
            ],
            [
             0.7777777777777778,
             "#fb9f3a"
            ],
            [
             0.8888888888888888,
             "#fdca26"
            ],
            [
             1,
             "#f0f921"
            ]
           ]
          },
          "colorway": [
           "#636efa",
           "#EF553B",
           "#00cc96",
           "#ab63fa",
           "#FFA15A",
           "#19d3f3",
           "#FF6692",
           "#B6E880",
           "#FF97FF",
           "#FECB52"
          ],
          "font": {
           "color": "#2a3f5f"
          },
          "geo": {
           "bgcolor": "white",
           "lakecolor": "white",
           "landcolor": "#E5ECF6",
           "showlakes": true,
           "showland": true,
           "subunitcolor": "white"
          },
          "hoverlabel": {
           "align": "left"
          },
          "hovermode": "closest",
          "mapbox": {
           "style": "light"
          },
          "paper_bgcolor": "white",
          "plot_bgcolor": "#E5ECF6",
          "polar": {
           "angularaxis": {
            "gridcolor": "white",
            "linecolor": "white",
            "ticks": ""
           },
           "bgcolor": "#E5ECF6",
           "radialaxis": {
            "gridcolor": "white",
            "linecolor": "white",
            "ticks": ""
           }
          },
          "scene": {
           "xaxis": {
            "backgroundcolor": "#E5ECF6",
            "gridcolor": "white",
            "gridwidth": 2,
            "linecolor": "white",
            "showbackground": true,
            "ticks": "",
            "zerolinecolor": "white"
           },
           "yaxis": {
            "backgroundcolor": "#E5ECF6",
            "gridcolor": "white",
            "gridwidth": 2,
            "linecolor": "white",
            "showbackground": true,
            "ticks": "",
            "zerolinecolor": "white"
           },
           "zaxis": {
            "backgroundcolor": "#E5ECF6",
            "gridcolor": "white",
            "gridwidth": 2,
            "linecolor": "white",
            "showbackground": true,
            "ticks": "",
            "zerolinecolor": "white"
           }
          },
          "shapedefaults": {
           "line": {
            "color": "#2a3f5f"
           }
          },
          "ternary": {
           "aaxis": {
            "gridcolor": "white",
            "linecolor": "white",
            "ticks": ""
           },
           "baxis": {
            "gridcolor": "white",
            "linecolor": "white",
            "ticks": ""
           },
           "bgcolor": "#E5ECF6",
           "caxis": {
            "gridcolor": "white",
            "linecolor": "white",
            "ticks": ""
           }
          },
          "title": {
           "x": 0.05
          },
          "xaxis": {
           "automargin": true,
           "gridcolor": "white",
           "linecolor": "white",
           "ticks": "",
           "title": {
            "standoff": 15
           },
           "zerolinecolor": "white",
           "zerolinewidth": 2
          },
          "yaxis": {
           "automargin": true,
           "gridcolor": "white",
           "linecolor": "white",
           "ticks": "",
           "title": {
            "standoff": 15
           },
           "zerolinecolor": "white",
           "zerolinewidth": 2
          }
         }
        },
        "title": {
         "text": "Haken 19, Trajektorien-Ansatz 3"
        }
       }
      }
     },
     "metadata": {},
     "output_type": "display_data"
    },
    {
     "name": "stdout",
     "output_type": "stream",
     "text": [
      "HTML-Datei '/home/mo/Thesis/Evaluation/Trajektorientests/traj4.html' erfolgreich erstellt!\n"
     ]
    },
    {
     "data": {
      "application/vnd.plotly.v1+json": {
       "config": {
        "plotlyServerURL": "https://plot.ly"
       },
       "data": [
        {
         "color": "rgba(31, 119, 180, 0.8)",
         "name": "P1",
         "opacity": 0.8,
         "type": "mesh3d",
         "x": [
          195.54782665953275,
          199.4627027446826,
          207.9794332979132,
          204.06455721276336
         ],
         "y": [
          915.1508490841474,
          911.1999522863308,
          919.6536615127403,
          923.6045583105569
         ],
         "z": [
          746.5310880260064,
          740.7809437033894,
          740.7708938781078,
          746.5210382007248
         ]
        },
        {
         "marker": {
          "color": "red",
          "size": 3
         },
         "mode": "markers+text",
         "showlegend": false,
         "text": "",
         "textfont": {
          "size": 12
         },
         "textposition": "top center",
         "type": "scatter3d",
         "x": [
          201.76362997872297
         ],
         "y": [
          917.4022552984438
         ],
         "z": [
          743.6509909520571
         ]
        },
        {
         "line": {
          "color": "rgba(31, 119, 180, 0.8)",
          "width": 4
         },
         "mode": "lines",
         "showlegend": false,
         "type": "scatter3d",
         "x": [
          195.54782665953275,
          199.4627027446826
         ],
         "y": [
          915.1508490841474,
          911.1999522863308
         ],
         "z": [
          746.5310880260064,
          740.7809437033894
         ]
        },
        {
         "line": {
          "color": "rgba(31, 119, 180, 0.8)",
          "width": 4
         },
         "mode": "lines",
         "showlegend": false,
         "type": "scatter3d",
         "x": [
          199.4627027446826,
          207.9794332979132
         ],
         "y": [
          911.1999522863308,
          919.6536615127403
         ],
         "z": [
          740.7809437033894,
          740.7708938781078
         ]
        },
        {
         "line": {
          "color": "rgba(31, 119, 180, 0.8)",
          "width": 4
         },
         "mode": "lines",
         "showlegend": false,
         "type": "scatter3d",
         "x": [
          207.9794332979132,
          204.06455721276336
         ],
         "y": [
          919.6536615127403,
          923.6045583105569
         ],
         "z": [
          740.7708938781078,
          746.5210382007248
         ]
        },
        {
         "line": {
          "color": "rgba(31, 119, 180, 0.8)",
          "width": 4
         },
         "mode": "lines",
         "showlegend": false,
         "type": "scatter3d",
         "x": [
          204.06455721276336,
          195.54782665953275
         ],
         "y": [
          923.6045583105569,
          915.1508490841474
         ],
         "z": [
          746.5210382007248,
          746.5310880260064
         ]
        },
        {
         "color": "rgba(214, 39, 40, 0.8)",
         "name": "P2",
         "opacity": 0.8,
         "type": "mesh3d",
         "x": [
          189.27421972964072,
          193.18909581479056,
          201.70582636802118,
          197.79095028287134
         ],
         "y": [
          920.771298794273,
          916.8204019964564,
          925.2741112228659,
          929.2250080206825
         ],
         "z": [
          741.2294899530141,
          735.4793456303971,
          735.4692958051155,
          741.2194401277325
         ]
        },
        {
         "marker": {
          "color": "red",
          "size": 3
         },
         "mode": "markers+text",
         "showlegend": false,
         "text": "",
         "textfont": {
          "size": 12
         },
         "textposition": "top center",
         "type": "scatter3d",
         "x": [
          195.49002304883095
         ],
         "y": [
          923.0227050085693
         ],
         "z": [
          738.3493928790648
         ]
        },
        {
         "line": {
          "color": "rgba(214, 39, 40, 0.8)",
          "width": 4
         },
         "mode": "lines",
         "showlegend": false,
         "type": "scatter3d",
         "x": [
          189.27421972964072,
          193.18909581479056
         ],
         "y": [
          920.771298794273,
          916.8204019964564
         ],
         "z": [
          741.2294899530141,
          735.4793456303971
         ]
        },
        {
         "line": {
          "color": "rgba(214, 39, 40, 0.8)",
          "width": 4
         },
         "mode": "lines",
         "showlegend": false,
         "type": "scatter3d",
         "x": [
          193.18909581479056,
          201.70582636802118
         ],
         "y": [
          916.8204019964564,
          925.2741112228659
         ],
         "z": [
          735.4793456303971,
          735.4692958051155
         ]
        },
        {
         "line": {
          "color": "rgba(214, 39, 40, 0.8)",
          "width": 4
         },
         "mode": "lines",
         "showlegend": false,
         "type": "scatter3d",
         "x": [
          201.70582636802118,
          197.79095028287134
         ],
         "y": [
          925.2741112228659,
          929.2250080206825
         ],
         "z": [
          735.4692958051155,
          741.2194401277325
         ]
        },
        {
         "line": {
          "color": "rgba(214, 39, 40, 0.8)",
          "width": 4
         },
         "mode": "lines",
         "showlegend": false,
         "type": "scatter3d",
         "x": [
          197.79095028287134,
          189.27421972964072
         ],
         "y": [
          929.2250080206825,
          920.771298794273
         ],
         "z": [
          741.2194401277325,
          741.2294899530141
         ]
        },
        {
         "color": "rgba(247, 182, 210, 0.8)",
         "name": "P3",
         "opacity": 0.8,
         "type": "mesh3d",
         "x": [
          186.13741626469476,
          190.05229234984458,
          198.56902290307517,
          194.65414681792535
         ],
         "y": [
          923.5815236493358,
          919.6306268515193,
          928.0843360779288,
          932.0352328757454
         ],
         "z": [
          738.578690916518,
          732.828546593901,
          732.8184967686194,
          738.5686410912364
         ]
        },
        {
         "marker": {
          "color": "red",
          "size": 3
         },
         "mode": "markers+text",
         "showlegend": false,
         "text": "",
         "textfont": {
          "size": 12
         },
         "textposition": "top center",
         "type": "scatter3d",
         "x": [
          192.35321958388496
         ],
         "y": [
          925.8329298636323
         ],
         "z": [
          735.6985938425687
         ]
        },
        {
         "line": {
          "color": "rgba(247, 182, 210, 0.8)",
          "width": 4
         },
         "mode": "lines",
         "showlegend": false,
         "type": "scatter3d",
         "x": [
          186.13741626469476,
          190.05229234984458
         ],
         "y": [
          923.5815236493358,
          919.6306268515193
         ],
         "z": [
          738.578690916518,
          732.828546593901
         ]
        },
        {
         "line": {
          "color": "rgba(247, 182, 210, 0.8)",
          "width": 4
         },
         "mode": "lines",
         "showlegend": false,
         "type": "scatter3d",
         "x": [
          190.05229234984458,
          198.56902290307517
         ],
         "y": [
          919.6306268515193,
          928.0843360779288
         ],
         "z": [
          732.828546593901,
          732.8184967686194
         ]
        },
        {
         "line": {
          "color": "rgba(247, 182, 210, 0.8)",
          "width": 4
         },
         "mode": "lines",
         "showlegend": false,
         "type": "scatter3d",
         "x": [
          198.56902290307517,
          194.65414681792535
         ],
         "y": [
          928.0843360779288,
          932.0352328757454
         ],
         "z": [
          732.8184967686194,
          738.5686410912364
         ]
        },
        {
         "line": {
          "color": "rgba(247, 182, 210, 0.8)",
          "width": 4
         },
         "mode": "lines",
         "showlegend": false,
         "type": "scatter3d",
         "x": [
          194.65414681792535,
          186.13741626469476
         ],
         "y": [
          932.0352328757454,
          923.5815236493358
         ],
         "z": [
          738.5686410912364,
          738.578690916518
         ]
        },
        {
         "line": {
          "color": "black",
          "width": 2
         },
         "mode": "lines",
         "name": "Berechnete Hakenlinie",
         "type": "scatter3d",
         "x": {
          "bdata": "iBsjqG84aUB8INFErm9oQPciKJNNC2hA",
          "dtype": "f8"
         },
         "y": {
          "bdata": "rDug0TerjEAWqvZ/LtiMQE3hIdep7oxA",
          "dtype": "f8"
         },
         "z": {
          "bdata": "noi+OjU9h0BPaH6OyxKHQChYXriW/YZA",
          "dtype": "f8"
         }
        },
        {
         "mode": "text",
         "showlegend": false,
         "text": [
          "Pre-Position"
         ],
         "textfont": {
          "size": 10
         },
         "textposition": "top center",
         "type": "scatter3d",
         "x": [
          201.76362997872297
         ],
         "y": [
          917.4022552984438
         ],
         "z": [
          743.6509909520571
         ]
        },
        {
         "mode": "text",
         "showlegend": false,
         "text": [
          "Loslassen"
         ],
         "textfont": {
          "size": 10
         },
         "textposition": "top center",
         "type": "scatter3d",
         "x": [
          192.35321958388496
         ],
         "y": [
          925.8329298636323
         ],
         "z": [
          735.6985938425687
         ]
        },
        {
         "color": "rgba(0,255,0,0.2)",
         "name": "optimale Trajektorie",
         "opacity": 0.8,
         "type": "mesh3d",
         "x": [
          195.28756076926425,
          199.20243684111037,
          207.7191673910965,
          203.80429131925038
         ],
         "y": [
          912.9831524002064,
          909.0322555987393,
          917.4859648283824,
          921.4368616298495
         ],
         "z": [
          746.5842573761463,
          740.8341130469801,
          740.8240631922076,
          746.5742075213739
         ]
        },
        {
         "line": {
          "color": "rgba(0,255,0,0.2)",
          "width": 3
         },
         "mode": "lines",
         "showlegend": false,
         "type": "scatter3d",
         "x": [
          195.28756076926425,
          199.20243684111037
         ],
         "y": [
          912.9831524002064,
          909.0322555987393
         ],
         "z": [
          746.5842573761463,
          740.8341130469801
         ]
        },
        {
         "line": {
          "color": "rgba(0,255,0,0.2)",
          "width": 3
         },
         "mode": "lines",
         "showlegend": false,
         "type": "scatter3d",
         "x": [
          199.20243684111037,
          207.7191673910965
         ],
         "y": [
          909.0322555987393,
          917.4859648283824
         ],
         "z": [
          740.8341130469801,
          740.8240631922076
         ]
        },
        {
         "line": {
          "color": "rgba(0,255,0,0.2)",
          "width": 3
         },
         "mode": "lines",
         "showlegend": false,
         "type": "scatter3d",
         "x": [
          207.7191673910965,
          203.80429131925038
         ],
         "y": [
          917.4859648283824,
          921.4368616298495
         ],
         "z": [
          740.8240631922076,
          746.5742075213739
         ]
        },
        {
         "line": {
          "color": "rgba(0,255,0,0.2)",
          "width": 3
         },
         "mode": "lines",
         "showlegend": false,
         "type": "scatter3d",
         "x": [
          203.80429131925038,
          195.28756076926425
         ],
         "y": [
          921.4368616298495,
          912.9831524002064
         ],
         "z": [
          746.5742075213739,
          746.5842573761463
         ]
        },
        {
         "marker": {
          "color": "green",
          "size": 4
         },
         "mode": "markers",
         "name": "Mitte P3",
         "showlegend": false,
         "type": "scatter3d",
         "x": [
          201.50336408018038
         ],
         "y": [
          915.2345586142944
         ],
         "z": [
          743.704160284177
         ]
        },
        {
         "color": "rgba(0,255,0,0.2)",
         "name": "optimale Trajektorie",
         "opacity": 0.8,
         "type": "mesh3d",
         "x": [
          191.2391552362933,
          195.17499334285534,
          203.64282515948815,
          199.7069870529261
         ],
         "y": [
          919.4698325800452,
          915.5091243869107,
          924.0116027552956,
          927.9723109484302
         ],
         "z": [
          741.1287252684803,
          735.3996791866468,
          735.3389674055264,
          741.0680134873598
         ]
        },
        {
         "line": {
          "color": "rgba(0,255,0,0.2)",
          "width": 3
         },
         "mode": "lines",
         "showlegend": false,
         "type": "scatter3d",
         "x": [
          191.2391552362933,
          195.17499334285534
         ],
         "y": [
          919.4698325800452,
          915.5091243869107
         ],
         "z": [
          741.1287252684803,
          735.3996791866468
         ]
        },
        {
         "line": {
          "color": "rgba(0,255,0,0.2)",
          "width": 3
         },
         "mode": "lines",
         "showlegend": false,
         "type": "scatter3d",
         "x": [
          195.17499334285534,
          203.64282515948815
         ],
         "y": [
          915.5091243869107,
          924.0116027552956
         ],
         "z": [
          735.3996791866468,
          735.3389674055264
         ]
        },
        {
         "line": {
          "color": "rgba(0,255,0,0.2)",
          "width": 3
         },
         "mode": "lines",
         "showlegend": false,
         "type": "scatter3d",
         "x": [
          203.64282515948815,
          199.7069870529261
         ],
         "y": [
          924.0116027552956,
          927.9723109484302
         ],
         "z": [
          735.3389674055264,
          741.0680134873598
         ]
        },
        {
         "line": {
          "color": "rgba(0,255,0,0.2)",
          "width": 3
         },
         "mode": "lines",
         "showlegend": false,
         "type": "scatter3d",
         "x": [
          199.7069870529261,
          191.2391552362933
         ],
         "y": [
          927.9723109484302,
          919.4698325800452
         ],
         "z": [
          741.0680134873598,
          741.1287252684803
         ]
        },
        {
         "marker": {
          "color": "green",
          "size": 4
         },
         "mode": "markers",
         "name": "Mitte P3",
         "showlegend": false,
         "type": "scatter3d",
         "x": [
          197.44099019789073
         ],
         "y": [
          921.7407176676704
         ],
         "z": [
          738.2338463370033
         ]
        },
        {
         "color": "rgba(0,255,0,0.2)",
         "name": "optimale Trajektorie",
         "opacity": 0.8,
         "type": "mesh3d",
         "x": [
          187.67617788107341,
          191.45069157629476,
          200.20977487691655,
          196.4352611816952
         ],
         "y": [
          922.6860263786168,
          918.6227230840526,
          926.8249373198271,
          930.8882406143913
         ],
         "z": [
          738.9733473214234,
          733.2077066197346,
          733.1614317536847,
          738.9270724553735
         ]
        },
        {
         "line": {
          "color": "rgba(0,255,0,0.2)",
          "width": 3
         },
         "mode": "lines",
         "showlegend": false,
         "type": "scatter3d",
         "x": [
          187.67617788107341,
          191.45069157629476
         ],
         "y": [
          922.6860263786168,
          918.6227230840526
         ],
         "z": [
          738.9733473214234,
          733.2077066197346
         ]
        },
        {
         "line": {
          "color": "rgba(0,255,0,0.2)",
          "width": 3
         },
         "mode": "lines",
         "showlegend": false,
         "type": "scatter3d",
         "x": [
          191.45069157629476,
          200.20977487691655
         ],
         "y": [
          918.6227230840526,
          926.8249373198271
         ],
         "z": [
          733.2077066197346,
          733.1614317536847
         ]
        },
        {
         "line": {
          "color": "rgba(0,255,0,0.2)",
          "width": 3
         },
         "mode": "lines",
         "showlegend": false,
         "type": "scatter3d",
         "x": [
          200.20977487691655,
          196.4352611816952
         ],
         "y": [
          926.8249373198271,
          930.8882406143913
         ],
         "z": [
          733.1614317536847,
          738.9270724553735
         ]
        },
        {
         "line": {
          "color": "rgba(0,255,0,0.2)",
          "width": 3
         },
         "mode": "lines",
         "showlegend": false,
         "type": "scatter3d",
         "x": [
          196.4352611816952,
          187.67617788107341
         ],
         "y": [
          930.8882406143913,
          922.6860263786168
         ],
         "z": [
          738.9270724553735,
          738.9733473214234
         ]
        },
        {
         "marker": {
          "color": "green",
          "size": 4
         },
         "mode": "markers",
         "name": "Mitte P3",
         "showlegend": false,
         "type": "scatter3d",
         "x": [
          193.94297637899498
         ],
         "y": [
          924.755481849222
         ],
         "z": [
          736.067389537554
         ]
        },
        {
         "color": "rgba(0,255,0,0.2)",
         "name": "optimale Trajektorie",
         "opacity": 0.8,
         "type": "mesh3d",
         "x": [
          185.13029818141257,
          188.91096286800732,
          197.64735538994285,
          193.8666907033481
         ],
         "y": [
          924.4743312348827,
          920.4005821420782,
          928.6266650534727,
          932.7004141462772
         ],
         "z": [
          735.6483221160419,
          729.894093857065,
          729.810394170497,
          735.564622429474
         ]
        },
        {
         "line": {
          "color": "rgba(0,255,0,0.2)",
          "width": 3
         },
         "mode": "lines",
         "showlegend": false,
         "type": "scatter3d",
         "x": [
          185.13029818141257,
          188.91096286800732
         ],
         "y": [
          924.4743312348827,
          920.4005821420782
         ],
         "z": [
          735.6483221160419,
          729.894093857065
         ]
        },
        {
         "line": {
          "color": "rgba(0,255,0,0.2)",
          "width": 3
         },
         "mode": "lines",
         "showlegend": false,
         "type": "scatter3d",
         "x": [
          188.91096286800732,
          197.64735538994285
         ],
         "y": [
          920.4005821420782,
          928.6266650534727
         ],
         "z": [
          729.894093857065,
          729.810394170497
         ]
        },
        {
         "line": {
          "color": "rgba(0,255,0,0.2)",
          "width": 3
         },
         "mode": "lines",
         "showlegend": false,
         "type": "scatter3d",
         "x": [
          197.64735538994285,
          193.8666907033481
         ],
         "y": [
          928.6266650534727,
          932.7004141462772
         ],
         "z": [
          729.810394170497,
          735.564622429474
         ]
        },
        {
         "line": {
          "color": "rgba(0,255,0,0.2)",
          "width": 3
         },
         "mode": "lines",
         "showlegend": false,
         "type": "scatter3d",
         "x": [
          193.8666907033481,
          185.13029818141257
         ],
         "y": [
          932.7004141462772,
          924.4743312348827
         ],
         "z": [
          735.564622429474,
          735.6483221160419
         ]
        },
        {
         "marker": {
          "color": "green",
          "size": 4
         },
         "mode": "markers",
         "name": "Mitte P3",
         "showlegend": false,
         "type": "scatter3d",
         "x": [
          191.3888267856777
         ],
         "y": [
          926.5504981441777
         ],
         "z": [
          732.7293581432696
         ]
        },
        {
         "color": "rgba(0,255,0,0.2)",
         "name": "optimale Trajektorie",
         "opacity": 0.8,
         "type": "mesh3d",
         "x": [
          184.48632556888546,
          187.19116401619044,
          195.93429925257456,
          193.22946080526958
         ],
         "y": [
          924.1575942044245,
          921.1599445378718,
          929.3780461885614,
          932.3756958551141
         ],
         "z": [
          734.6862673607562,
          727.7798974422972,
          727.6370986424687,
          734.5434685609277
         ]
        },
        {
         "line": {
          "color": "rgba(0,255,0,0.2)",
          "width": 3
         },
         "mode": "lines",
         "showlegend": false,
         "type": "scatter3d",
         "x": [
          184.48632556888546,
          187.19116401619044
         ],
         "y": [
          924.1575942044245,
          921.1599445378718
         ],
         "z": [
          734.6862673607562,
          727.7798974422972
         ]
        },
        {
         "line": {
          "color": "rgba(0,255,0,0.2)",
          "width": 3
         },
         "mode": "lines",
         "showlegend": false,
         "type": "scatter3d",
         "x": [
          187.19116401619044,
          195.93429925257456
         ],
         "y": [
          921.1599445378718,
          929.3780461885614
         ],
         "z": [
          727.7798974422972,
          727.6370986424687
         ]
        },
        {
         "line": {
          "color": "rgba(0,255,0,0.2)",
          "width": 3
         },
         "mode": "lines",
         "showlegend": false,
         "type": "scatter3d",
         "x": [
          195.93429925257456,
          193.22946080526958
         ],
         "y": [
          929.3780461885614,
          932.3756958551141
         ],
         "z": [
          727.6370986424687,
          734.5434685609277
         ]
        },
        {
         "line": {
          "color": "rgba(0,255,0,0.2)",
          "width": 3
         },
         "mode": "lines",
         "showlegend": false,
         "type": "scatter3d",
         "x": [
          193.22946080526958,
          184.48632556888546
         ],
         "y": [
          932.3756958551141,
          924.1575942044245
         ],
         "z": [
          734.5434685609277,
          734.6862673607562
         ]
        },
        {
         "marker": {
          "color": "green",
          "size": 4
         },
         "mode": "markers",
         "name": "Mitte P3",
         "showlegend": false,
         "type": "scatter3d",
         "x": [
          190.21031241073
         ],
         "y": [
          926.767820196493
         ],
         "z": [
          731.1616830016123
         ]
        },
        {
         "color": "rgba(0,255,0,0.2)",
         "name": "optimale Trajektorie",
         "opacity": 0.8,
         "type": "mesh3d",
         "x": [
          184.21420709678668,
          184.79005799160421,
          193.53946859932793,
          192.9636177045104
         ],
         "y": [
          923.6103611636458,
          922.7992154684895,
          931.0093372414542,
          931.8204829366106
         ],
         "z": [
          734.099054161707,
          726.1611426978416,
          725.9569014421099,
          733.8948129059754
         ]
        },
        {
         "line": {
          "color": "rgba(0,255,0,0.2)",
          "width": 3
         },
         "mode": "lines",
         "showlegend": false,
         "type": "scatter3d",
         "x": [
          184.21420709678668,
          184.79005799160421
         ],
         "y": [
          923.6103611636458,
          922.7992154684895
         ],
         "z": [
          734.099054161707,
          726.1611426978416
         ]
        },
        {
         "line": {
          "color": "rgba(0,255,0,0.2)",
          "width": 3
         },
         "mode": "lines",
         "showlegend": false,
         "type": "scatter3d",
         "x": [
          184.79005799160421,
          193.53946859932793
         ],
         "y": [
          922.7992154684895,
          931.0093372414542
         ],
         "z": [
          726.1611426978416,
          725.9569014421099
         ]
        },
        {
         "line": {
          "color": "rgba(0,255,0,0.2)",
          "width": 3
         },
         "mode": "lines",
         "showlegend": false,
         "type": "scatter3d",
         "x": [
          193.53946859932793,
          192.9636177045104
         ],
         "y": [
          931.0093372414542,
          931.8204829366106
         ],
         "z": [
          725.9569014421099,
          733.8948129059754
         ]
        },
        {
         "line": {
          "color": "rgba(0,255,0,0.2)",
          "width": 3
         },
         "mode": "lines",
         "showlegend": false,
         "type": "scatter3d",
         "x": [
          192.9636177045104,
          184.21420709678668
         ],
         "y": [
          931.8204829366106,
          923.6103611636458
         ],
         "z": [
          733.8948129059754,
          734.099054161707
         ]
        },
        {
         "marker": {
          "color": "green",
          "size": 4
         },
         "mode": "markers",
         "name": "Mitte P3",
         "showlegend": false,
         "type": "scatter3d",
         "x": [
          188.8768378480573
         ],
         "y": [
          927.3098492025499
         ],
         "z": [
          730.0279778019085
         ]
        },
        {
         "line": {
          "color": "green",
          "width": 2
         },
         "mode": "lines",
         "name": "Optimale Hakenlinie",
         "type": "scatter3d",
         "x": {
          "bdata": "Y8v8jhswaUCDuXmXHK5oQOOVzNwsPmhAbQnfRHHsZ0DowBfhusZnQKMpPw4PnGdA",
          "dtype": "f8"
         },
         "y": {
          "bdata": "HktEYOCZjEC2cWL97M2MQApZEToL5oxABC6Sa2f0jEAqSep+JPaMQCb9N5J6+oxA",
          "dtype": "f8"
         },
         "z": {
          "bdata": "dX3JHqI9h0DADdTq3hGHQBmfhgOKAIdAUOO4udXlhkD0IXUgS9mGQLABbUw50IZA",
          "dtype": "f8"
         }
        },
        {
         "line": {
          "color": "gray",
          "dash": "dash"
         },
         "mode": "lines",
         "name": "Direkte Gerade Spitze -> Senke",
         "type": "scatter3d",
         "x": [
          195.44662308780244,
          188.02937104447403
         ],
         "y": [
          923.1620100236582,
          929.7932071877393
         ],
         "z": [
          738.3613483068592,
          732.0386575893957
         ]
        },
        {
         "marker": {
          "color": "magenta",
          "size": 8
         },
         "mode": "markers",
         "name": "Spitze",
         "type": "scatter3d",
         "x": [
          195.44662308780244
         ],
         "y": [
          923.1620100236582
         ],
         "z": [
          738.3613483068592
         ]
        },
        {
         "marker": {
          "color": "magenta",
          "size": 8
         },
         "mode": "markers",
         "name": "Senke",
         "type": "scatter3d",
         "x": [
          188.02937104447403
         ],
         "y": [
          929.7932071877393
         ],
         "z": [
          732.0386575893957
         ]
        },
        {
         "mode": "text",
         "showlegend": false,
         "text": [
          "Spitze"
         ],
         "textfont": {
          "size": 10
         },
         "textposition": "top center",
         "type": "scatter3d",
         "x": [
          195.44662308780244
         ],
         "y": [
          923.1620100236582
         ],
         "z": [
          738.3613483068592
         ]
        },
        {
         "mode": "text",
         "showlegend": false,
         "text": [
          "Senke"
         ],
         "textfont": {
          "size": 10
         },
         "textposition": "top center",
         "type": "scatter3d",
         "x": [
          188.02937104447403
         ],
         "y": [
          929.7932071877393
         ],
         "z": [
          732.0386575893957
         ]
        }
       ],
       "layout": {
        "legend": {
         "title": {
          "text": "Legende"
         }
        },
        "scene": {
         "aspectmode": "cube",
         "xaxis": {
          "title": {
           "text": "X"
          }
         },
         "yaxis": {
          "title": {
           "text": "Y"
          }
         },
         "zaxis": {
          "title": {
           "text": "Z"
          }
         }
        },
        "template": {
         "data": {
          "bar": [
           {
            "error_x": {
             "color": "#2a3f5f"
            },
            "error_y": {
             "color": "#2a3f5f"
            },
            "marker": {
             "line": {
              "color": "#E5ECF6",
              "width": 0.5
             },
             "pattern": {
              "fillmode": "overlay",
              "size": 10,
              "solidity": 0.2
             }
            },
            "type": "bar"
           }
          ],
          "barpolar": [
           {
            "marker": {
             "line": {
              "color": "#E5ECF6",
              "width": 0.5
             },
             "pattern": {
              "fillmode": "overlay",
              "size": 10,
              "solidity": 0.2
             }
            },
            "type": "barpolar"
           }
          ],
          "carpet": [
           {
            "aaxis": {
             "endlinecolor": "#2a3f5f",
             "gridcolor": "white",
             "linecolor": "white",
             "minorgridcolor": "white",
             "startlinecolor": "#2a3f5f"
            },
            "baxis": {
             "endlinecolor": "#2a3f5f",
             "gridcolor": "white",
             "linecolor": "white",
             "minorgridcolor": "white",
             "startlinecolor": "#2a3f5f"
            },
            "type": "carpet"
           }
          ],
          "choropleth": [
           {
            "colorbar": {
             "outlinewidth": 0,
             "ticks": ""
            },
            "type": "choropleth"
           }
          ],
          "contour": [
           {
            "colorbar": {
             "outlinewidth": 0,
             "ticks": ""
            },
            "colorscale": [
             [
              0,
              "#0d0887"
             ],
             [
              0.1111111111111111,
              "#46039f"
             ],
             [
              0.2222222222222222,
              "#7201a8"
             ],
             [
              0.3333333333333333,
              "#9c179e"
             ],
             [
              0.4444444444444444,
              "#bd3786"
             ],
             [
              0.5555555555555556,
              "#d8576b"
             ],
             [
              0.6666666666666666,
              "#ed7953"
             ],
             [
              0.7777777777777778,
              "#fb9f3a"
             ],
             [
              0.8888888888888888,
              "#fdca26"
             ],
             [
              1,
              "#f0f921"
             ]
            ],
            "type": "contour"
           }
          ],
          "contourcarpet": [
           {
            "colorbar": {
             "outlinewidth": 0,
             "ticks": ""
            },
            "type": "contourcarpet"
           }
          ],
          "heatmap": [
           {
            "colorbar": {
             "outlinewidth": 0,
             "ticks": ""
            },
            "colorscale": [
             [
              0,
              "#0d0887"
             ],
             [
              0.1111111111111111,
              "#46039f"
             ],
             [
              0.2222222222222222,
              "#7201a8"
             ],
             [
              0.3333333333333333,
              "#9c179e"
             ],
             [
              0.4444444444444444,
              "#bd3786"
             ],
             [
              0.5555555555555556,
              "#d8576b"
             ],
             [
              0.6666666666666666,
              "#ed7953"
             ],
             [
              0.7777777777777778,
              "#fb9f3a"
             ],
             [
              0.8888888888888888,
              "#fdca26"
             ],
             [
              1,
              "#f0f921"
             ]
            ],
            "type": "heatmap"
           }
          ],
          "histogram": [
           {
            "marker": {
             "pattern": {
              "fillmode": "overlay",
              "size": 10,
              "solidity": 0.2
             }
            },
            "type": "histogram"
           }
          ],
          "histogram2d": [
           {
            "colorbar": {
             "outlinewidth": 0,
             "ticks": ""
            },
            "colorscale": [
             [
              0,
              "#0d0887"
             ],
             [
              0.1111111111111111,
              "#46039f"
             ],
             [
              0.2222222222222222,
              "#7201a8"
             ],
             [
              0.3333333333333333,
              "#9c179e"
             ],
             [
              0.4444444444444444,
              "#bd3786"
             ],
             [
              0.5555555555555556,
              "#d8576b"
             ],
             [
              0.6666666666666666,
              "#ed7953"
             ],
             [
              0.7777777777777778,
              "#fb9f3a"
             ],
             [
              0.8888888888888888,
              "#fdca26"
             ],
             [
              1,
              "#f0f921"
             ]
            ],
            "type": "histogram2d"
           }
          ],
          "histogram2dcontour": [
           {
            "colorbar": {
             "outlinewidth": 0,
             "ticks": ""
            },
            "colorscale": [
             [
              0,
              "#0d0887"
             ],
             [
              0.1111111111111111,
              "#46039f"
             ],
             [
              0.2222222222222222,
              "#7201a8"
             ],
             [
              0.3333333333333333,
              "#9c179e"
             ],
             [
              0.4444444444444444,
              "#bd3786"
             ],
             [
              0.5555555555555556,
              "#d8576b"
             ],
             [
              0.6666666666666666,
              "#ed7953"
             ],
             [
              0.7777777777777778,
              "#fb9f3a"
             ],
             [
              0.8888888888888888,
              "#fdca26"
             ],
             [
              1,
              "#f0f921"
             ]
            ],
            "type": "histogram2dcontour"
           }
          ],
          "mesh3d": [
           {
            "colorbar": {
             "outlinewidth": 0,
             "ticks": ""
            },
            "type": "mesh3d"
           }
          ],
          "parcoords": [
           {
            "line": {
             "colorbar": {
              "outlinewidth": 0,
              "ticks": ""
             }
            },
            "type": "parcoords"
           }
          ],
          "pie": [
           {
            "automargin": true,
            "type": "pie"
           }
          ],
          "scatter": [
           {
            "fillpattern": {
             "fillmode": "overlay",
             "size": 10,
             "solidity": 0.2
            },
            "type": "scatter"
           }
          ],
          "scatter3d": [
           {
            "line": {
             "colorbar": {
              "outlinewidth": 0,
              "ticks": ""
             }
            },
            "marker": {
             "colorbar": {
              "outlinewidth": 0,
              "ticks": ""
             }
            },
            "type": "scatter3d"
           }
          ],
          "scattercarpet": [
           {
            "marker": {
             "colorbar": {
              "outlinewidth": 0,
              "ticks": ""
             }
            },
            "type": "scattercarpet"
           }
          ],
          "scattergeo": [
           {
            "marker": {
             "colorbar": {
              "outlinewidth": 0,
              "ticks": ""
             }
            },
            "type": "scattergeo"
           }
          ],
          "scattergl": [
           {
            "marker": {
             "colorbar": {
              "outlinewidth": 0,
              "ticks": ""
             }
            },
            "type": "scattergl"
           }
          ],
          "scattermap": [
           {
            "marker": {
             "colorbar": {
              "outlinewidth": 0,
              "ticks": ""
             }
            },
            "type": "scattermap"
           }
          ],
          "scattermapbox": [
           {
            "marker": {
             "colorbar": {
              "outlinewidth": 0,
              "ticks": ""
             }
            },
            "type": "scattermapbox"
           }
          ],
          "scatterpolar": [
           {
            "marker": {
             "colorbar": {
              "outlinewidth": 0,
              "ticks": ""
             }
            },
            "type": "scatterpolar"
           }
          ],
          "scatterpolargl": [
           {
            "marker": {
             "colorbar": {
              "outlinewidth": 0,
              "ticks": ""
             }
            },
            "type": "scatterpolargl"
           }
          ],
          "scatterternary": [
           {
            "marker": {
             "colorbar": {
              "outlinewidth": 0,
              "ticks": ""
             }
            },
            "type": "scatterternary"
           }
          ],
          "surface": [
           {
            "colorbar": {
             "outlinewidth": 0,
             "ticks": ""
            },
            "colorscale": [
             [
              0,
              "#0d0887"
             ],
             [
              0.1111111111111111,
              "#46039f"
             ],
             [
              0.2222222222222222,
              "#7201a8"
             ],
             [
              0.3333333333333333,
              "#9c179e"
             ],
             [
              0.4444444444444444,
              "#bd3786"
             ],
             [
              0.5555555555555556,
              "#d8576b"
             ],
             [
              0.6666666666666666,
              "#ed7953"
             ],
             [
              0.7777777777777778,
              "#fb9f3a"
             ],
             [
              0.8888888888888888,
              "#fdca26"
             ],
             [
              1,
              "#f0f921"
             ]
            ],
            "type": "surface"
           }
          ],
          "table": [
           {
            "cells": {
             "fill": {
              "color": "#EBF0F8"
             },
             "line": {
              "color": "white"
             }
            },
            "header": {
             "fill": {
              "color": "#C8D4E3"
             },
             "line": {
              "color": "white"
             }
            },
            "type": "table"
           }
          ]
         },
         "layout": {
          "annotationdefaults": {
           "arrowcolor": "#2a3f5f",
           "arrowhead": 0,
           "arrowwidth": 1
          },
          "autotypenumbers": "strict",
          "coloraxis": {
           "colorbar": {
            "outlinewidth": 0,
            "ticks": ""
           }
          },
          "colorscale": {
           "diverging": [
            [
             0,
             "#8e0152"
            ],
            [
             0.1,
             "#c51b7d"
            ],
            [
             0.2,
             "#de77ae"
            ],
            [
             0.3,
             "#f1b6da"
            ],
            [
             0.4,
             "#fde0ef"
            ],
            [
             0.5,
             "#f7f7f7"
            ],
            [
             0.6,
             "#e6f5d0"
            ],
            [
             0.7,
             "#b8e186"
            ],
            [
             0.8,
             "#7fbc41"
            ],
            [
             0.9,
             "#4d9221"
            ],
            [
             1,
             "#276419"
            ]
           ],
           "sequential": [
            [
             0,
             "#0d0887"
            ],
            [
             0.1111111111111111,
             "#46039f"
            ],
            [
             0.2222222222222222,
             "#7201a8"
            ],
            [
             0.3333333333333333,
             "#9c179e"
            ],
            [
             0.4444444444444444,
             "#bd3786"
            ],
            [
             0.5555555555555556,
             "#d8576b"
            ],
            [
             0.6666666666666666,
             "#ed7953"
            ],
            [
             0.7777777777777778,
             "#fb9f3a"
            ],
            [
             0.8888888888888888,
             "#fdca26"
            ],
            [
             1,
             "#f0f921"
            ]
           ],
           "sequentialminus": [
            [
             0,
             "#0d0887"
            ],
            [
             0.1111111111111111,
             "#46039f"
            ],
            [
             0.2222222222222222,
             "#7201a8"
            ],
            [
             0.3333333333333333,
             "#9c179e"
            ],
            [
             0.4444444444444444,
             "#bd3786"
            ],
            [
             0.5555555555555556,
             "#d8576b"
            ],
            [
             0.6666666666666666,
             "#ed7953"
            ],
            [
             0.7777777777777778,
             "#fb9f3a"
            ],
            [
             0.8888888888888888,
             "#fdca26"
            ],
            [
             1,
             "#f0f921"
            ]
           ]
          },
          "colorway": [
           "#636efa",
           "#EF553B",
           "#00cc96",
           "#ab63fa",
           "#FFA15A",
           "#19d3f3",
           "#FF6692",
           "#B6E880",
           "#FF97FF",
           "#FECB52"
          ],
          "font": {
           "color": "#2a3f5f"
          },
          "geo": {
           "bgcolor": "white",
           "lakecolor": "white",
           "landcolor": "#E5ECF6",
           "showlakes": true,
           "showland": true,
           "subunitcolor": "white"
          },
          "hoverlabel": {
           "align": "left"
          },
          "hovermode": "closest",
          "mapbox": {
           "style": "light"
          },
          "paper_bgcolor": "white",
          "plot_bgcolor": "#E5ECF6",
          "polar": {
           "angularaxis": {
            "gridcolor": "white",
            "linecolor": "white",
            "ticks": ""
           },
           "bgcolor": "#E5ECF6",
           "radialaxis": {
            "gridcolor": "white",
            "linecolor": "white",
            "ticks": ""
           }
          },
          "scene": {
           "xaxis": {
            "backgroundcolor": "#E5ECF6",
            "gridcolor": "white",
            "gridwidth": 2,
            "linecolor": "white",
            "showbackground": true,
            "ticks": "",
            "zerolinecolor": "white"
           },
           "yaxis": {
            "backgroundcolor": "#E5ECF6",
            "gridcolor": "white",
            "gridwidth": 2,
            "linecolor": "white",
            "showbackground": true,
            "ticks": "",
            "zerolinecolor": "white"
           },
           "zaxis": {
            "backgroundcolor": "#E5ECF6",
            "gridcolor": "white",
            "gridwidth": 2,
            "linecolor": "white",
            "showbackground": true,
            "ticks": "",
            "zerolinecolor": "white"
           }
          },
          "shapedefaults": {
           "line": {
            "color": "#2a3f5f"
           }
          },
          "ternary": {
           "aaxis": {
            "gridcolor": "white",
            "linecolor": "white",
            "ticks": ""
           },
           "baxis": {
            "gridcolor": "white",
            "linecolor": "white",
            "ticks": ""
           },
           "bgcolor": "#E5ECF6",
           "caxis": {
            "gridcolor": "white",
            "linecolor": "white",
            "ticks": ""
           }
          },
          "title": {
           "x": 0.05
          },
          "xaxis": {
           "automargin": true,
           "gridcolor": "white",
           "linecolor": "white",
           "ticks": "",
           "title": {
            "standoff": 15
           },
           "zerolinecolor": "white",
           "zerolinewidth": 2
          },
          "yaxis": {
           "automargin": true,
           "gridcolor": "white",
           "linecolor": "white",
           "ticks": "",
           "title": {
            "standoff": 15
           },
           "zerolinecolor": "white",
           "zerolinewidth": 2
          }
         }
        },
        "title": {
         "text": "Haken 19, Trajektorien-Ansatz 4"
        }
       }
      }
     },
     "metadata": {},
     "output_type": "display_data"
    }
   ],
   "source": [
    "visualize_rectangles_html(\n",
    "    rectangles = rectangles_1,\n",
    "    secondary_rectangles = rectangles_optim,\n",
    "    secondary_legend_title = 'optimale Trajektorie',\n",
    "    connect_points = (trajectory_1[1][0], trajectory_1[-1][0]),\n",
    "    hook_num = hook_num,\n",
    "    trajectory_process = 1,\n",
    "    html_filename = '/home/mo/Thesis/Evaluation/Trajektorientests/traj1.html'\n",
    "    )\n",
    "\n",
    "visualize_rectangles_html(\n",
    "    rectangles = rectangles_2,\n",
    "    secondary_rectangles = rectangles_optim,\n",
    "    secondary_legend_title = 'optimale Trajektorie',\n",
    "    connect_points = (trajectory_1[1][0], trajectory_1[-1][0]),\n",
    "    hook_num = hook_num,\n",
    "    trajectory_process = 2,\n",
    "    html_filename = '/home/mo/Thesis/Evaluation/Trajektorientests/traj2.html'\n",
    "    )\n",
    "\n",
    "visualize_rectangles_html(\n",
    "    rectangles = rectangles_3,\n",
    "    secondary_rectangles = rectangles_optim,\n",
    "    secondary_legend_title = 'optimale Trajektorie',\n",
    "    connect_points = (trajectory_1[1][0], trajectory_1[-1][0]),\n",
    "    hook_num = hook_num,\n",
    "    trajectory_process = 3,\n",
    "    html_filename = '/home/mo/Thesis/Evaluation/Trajektorientests/traj3.html'\n",
    "    )\n",
    "\n",
    "visualize_rectangles_html(\n",
    "    rectangles = rectangles_4,\n",
    "    secondary_rectangles = rectangles_optim,\n",
    "    secondary_legend_title = 'optimale Trajektorie',\n",
    "    connect_points = (trajectory_1[1][0], trajectory_1[-1][0]),\n",
    "    hook_num = hook_num,\n",
    "    trajectory_process = 4,\n",
    "    html_filename = '/home/mo/Thesis/Evaluation/Trajektorientests/traj4.html'\n",
    "    )"
   ]
  },
  {
   "cell_type": "code",
   "execution_count": null,
   "id": "5bd2d90f",
   "metadata": {},
   "outputs": [],
   "source": []
  }
 ],
 "metadata": {
  "kernelspec": {
   "display_name": "Python 3",
   "language": "python",
   "name": "python3"
  },
  "language_info": {
   "codemirror_mode": {
    "name": "ipython",
    "version": 3
   },
   "file_extension": ".py",
   "mimetype": "text/x-python",
   "name": "python",
   "nbconvert_exporter": "python",
   "pygments_lexer": "ipython3",
   "version": "3.8.10"
  }
 },
 "nbformat": 4,
 "nbformat_minor": 5
}
