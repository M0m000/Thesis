{
 "cells": [
  {
   "cell_type": "code",
   "execution_count": 447,
   "id": "c56fbbd2",
   "metadata": {},
   "outputs": [],
   "source": [
    "import csv\n",
    "import numpy as np\n",
    "from scipy.spatial.transform import Rotation as R\n",
    "import matplotlib.pyplot as plt\n",
    "from mpl_toolkits.mplot3d.art3d import Poly3DCollection\n",
    "import matplotlib.cm as cm"
   ]
  },
  {
   "cell_type": "markdown",
   "id": "d43cbb9f",
   "metadata": {},
   "source": [
    "### **Trajektorien CSVs laden**"
   ]
  },
  {
   "cell_type": "code",
   "execution_count": 448,
   "id": "ce8ad287",
   "metadata": {},
   "outputs": [],
   "source": [
    "def load_csv_to_trajectory(filepath):\n",
    "    \"\"\"Lädt die CSV und stellt Trajektorie-Liste wieder her\"\"\"\n",
    "    trajectory = []\n",
    "    with open(filepath, mode='r', newline='') as file:\n",
    "        reader = csv.reader(file)\n",
    "        next(reader)  # Überspringe Kopfzeile\n",
    "\n",
    "        for row in reader:\n",
    "            numbers = list(map(float, row))\n",
    "            trans = numbers[:3]\n",
    "            rot = numbers[3:]\n",
    "            trajectory.append((trans, rot))\n",
    "    return trajectory"
   ]
  },
  {
   "cell_type": "code",
   "execution_count": 511,
   "id": "fa040c5d",
   "metadata": {},
   "outputs": [],
   "source": [
    "hook_num = 19\n",
    "v = 40"
   ]
  },
  {
   "cell_type": "code",
   "execution_count": 512,
   "id": "6ae1d02a",
   "metadata": {},
   "outputs": [],
   "source": [
    "traj_optim_path = traj_1_path = '/home/mo/Thesis/Evaluation/Trajektorientests/v_' + str(v) + '/' + str(hook_num) + '/trajectory_0.csv'\n",
    "traj_1_path = '/home/mo/Thesis/Evaluation/Trajektorientests/v_' + str(v) + '/' + str(hook_num) + '/trajectory_1.csv'\n",
    "traj_2_path = '/home/mo/Thesis/Evaluation/Trajektorientests/v_' + str(v) + '/' + str(hook_num) + '/trajectory_2.csv'\n",
    "traj_3_path = '/home/mo/Thesis/Evaluation/Trajektorientests/v_' + str(v) + '/' + str(hook_num) + '/trajectory_3.csv'\n",
    "traj_4_path = '/home/mo/Thesis/Evaluation/Trajektorientests/v_' + str(v) + '/' + str(hook_num) + '/trajectory_4.csv'"
   ]
  },
  {
   "cell_type": "code",
   "execution_count": 513,
   "id": "aad60faa",
   "metadata": {},
   "outputs": [],
   "source": [
    "trajectory_optim = load_csv_to_trajectory(traj_optim_path)\n",
    "trajectory_1 = load_csv_to_trajectory(traj_1_path)\n",
    "trajectory_2 = load_csv_to_trajectory(traj_2_path)\n",
    "trajectory_3 = load_csv_to_trajectory(traj_3_path)\n",
    "trajectory_4 = load_csv_to_trajectory(traj_4_path)"
   ]
  },
  {
   "cell_type": "markdown",
   "id": "d66a9f4b",
   "metadata": {},
   "source": [
    "### **Euklidsche Distanz**"
   ]
  },
  {
   "cell_type": "code",
   "execution_count": 500,
   "id": "549aa99e",
   "metadata": {},
   "outputs": [],
   "source": [
    "def interpolate_trajectory(traj, num_points):\n",
    "    \"\"\"\n",
    "    Interpoliert eine Trajektorie auf `num_points` gleichmäßig verteilte Punkte.\n",
    "    Nur die translatorischen Komponenten werden verwendet (3D Punkte).\n",
    "    \"\"\"\n",
    "    positions = np.array([p[0] for p in traj])  # Nur Positionen\n",
    "    rotations = np.array([p[1] for p in traj])  # Nur Rotationen\n",
    "    \n",
    "    # Abstände zwischen aufeinanderfolgenden Punkten\n",
    "    deltas_trans = np.linalg.norm(np.diff(positions, axis=0), axis=1)\n",
    "    deltas_rot = np.linalg.norm(np.diff(rotations, axis=0), axis=1)\n",
    "    cumulative_dist_trans = np.concatenate([[0], np.cumsum(deltas_trans)])\n",
    "    cumulative_dist_rot = np.concatenate([[0], np.cumsum(deltas_rot)])\n",
    "    \n",
    "    # Gleichmäßig verteilte Distanzen entlang der Trajektorie\n",
    "    target_distances_trans = np.linspace(0, cumulative_dist_trans[-1], num_points)\n",
    "    target_distances_rot = np.linspace(0, cumulative_dist_rot[-1], num_points)\n",
    "\n",
    "    # Interpolation\n",
    "    interp_positions = []\n",
    "    interp_rotations = []\n",
    "\n",
    "    for dist in target_distances_trans:\n",
    "        idx = np.searchsorted(cumulative_dist_trans, dist) - 1\n",
    "        idx = np.clip(idx, 0, len(positions) - 2)\n",
    "        # Lokale lineare Interpolation\n",
    "        t = (dist - cumulative_dist_trans[idx]) / (cumulative_dist_trans[idx + 1] - cumulative_dist_trans[idx])\n",
    "        point = (1 - t) * positions[idx] + t * positions[idx + 1]\n",
    "        interp_positions.append(point)\n",
    "    \n",
    "    for rot in target_distances_rot:\n",
    "        idx = np.searchsorted(cumulative_dist_rot, rot) - 1\n",
    "        idx = np.clip(idx, 0, len(rotations) - 2)\n",
    "        # Lokale lineare Interpolation\n",
    "        t = (rot - cumulative_dist_rot[idx]) / (cumulative_dist_rot[idx + 1] - cumulative_dist_rot[idx])\n",
    "        point = (1 - t) * rotations[idx] + t * rotations[idx + 1]\n",
    "        interp_rotations.append(point)\n",
    "    \n",
    "    return np.array(interp_positions), np.array(interp_rotations)\n",
    "\n",
    "\n",
    "def trajectory_distance(traj1, traj2, num_points=10):\n",
    "    \"\"\"\n",
    "    Vergleicht zwei Trajektorien anhand von `num_points` gleichverteilten Punkten.\n",
    "    Gibt die euklidischen Abstände zurück (Liste) und den Mittelwert.\n",
    "    \"\"\"\n",
    "    interp1_trans, interp1_rot = interpolate_trajectory(traj1, num_points)\n",
    "    interp2_trans, interp2_rot = interpolate_trajectory(traj2, num_points)\n",
    "\n",
    "    # Punktweise euklidischer Abstand\n",
    "    distances = np.linalg.norm(interp1_trans - interp2_trans, axis=1)\n",
    "    rotations = np.linalg.norm(interp1_rot - interp2_rot, axis=1)\n",
    "    mean_distance = np.mean(distances)\n",
    "    mean_rotation = np.mean(rotations)\n",
    "    max_distance = np.max(distances)\n",
    "    max_rotation = np.max(rotations)\n",
    "    return distances, mean_distance, max_distance, rotations, mean_rotation, max_rotation"
   ]
  },
  {
   "cell_type": "code",
   "execution_count": 501,
   "id": "2fc24563",
   "metadata": {},
   "outputs": [],
   "source": [
    "def plot_trajectory_distances(\n",
    "    distances=None, \n",
    "    mean_distance=None, \n",
    "    max_distance=None, \n",
    "    rotations=None, \n",
    "    mean_rotation=None, \n",
    "    max_rotation=None, \n",
    "    hook_num=0, \n",
    "    trajectory_process=4\n",
    "):\n",
    "    \"\"\"\n",
    "    Plottet die euklidischen Distanzen und Rotationen entlang der interpolierten Punkte.\n",
    "    \"\"\"\n",
    "    fig, (ax1, ax2) = plt.subplots(2, 1, figsize=(10, 8), sharex=True)\n",
    "    fig.suptitle(f\"Vergleich zwischen optimaler und berechneter Trajektorie - Haken {hook_num}, Trajektorie-Ansatz {trajectory_process} – Distanz\", fontsize=14)\n",
    "\n",
    "    # Plot 1: Euklidische Distanzen\n",
    "    ax1.set_title(f\"Euklidsche Distanz translatorisch\")\n",
    "    ax1.plot(range(1, len(distances) + 1), distances, linestyle='-', marker = '.', label='Euklidische Distanz [mm]')\n",
    "\n",
    "    if mean_distance is not None:\n",
    "        ax1.plot(range(1, len(distances) + 1), [mean_distance] * len(distances), linestyle='--', color='red', label='Mittelwert')\n",
    "    \n",
    "    if max_distance is not None:\n",
    "        ax1.plot(range(1, len(distances) + 1), [max_distance] * len(distances), linestyle='--', color='magenta', label=f\"Max-Wert - {max_distance:.3f}mm\")\n",
    "\n",
    "    ax1.set_ylabel(\"Distanz [mm]\")\n",
    "    ax1.grid(True)\n",
    "    ax1.legend()\n",
    "\n",
    "    \n",
    "    # Plot 2: Rotationen\n",
    "    ax2.set_title(\"Euklidsche Distanz rotatorisch\")\n",
    "    if rotations is not None:\n",
    "        ax2.plot(range(1, len(rotations) + 1), rotations, linestyle='-', marker = '.', label='Rotationsabweichung [°]', color='orange')\n",
    "\n",
    "        if mean_rotation is not None:\n",
    "            ax2.plot(range(1, len(rotations) + 1), [mean_rotation] * len(rotations), linestyle='--', color='red', label='Mittelwert')\n",
    "        \n",
    "        if max_rotation is not None:\n",
    "            ax2.plot(range(1, len(rotations) + 1), [max_rotation] * len(rotations), linestyle='--', color='magenta', label=f\"Max-Wert - {max_rotation:.3f}°\")\n",
    "\n",
    "        ax2.set_ylabel(\"Rotation [°]\")\n",
    "        ax2.grid(True)\n",
    "        ax2.legend()\n",
    "    else:\n",
    "        ax2.text(0.5, 0.5, \"Keine Rotationsdaten verfügbar\", ha='center', va='center', transform=ax2.transAxes)\n",
    "        ax2.axis('off')\n",
    "    \n",
    "    ax2.set_xlabel(\"Punktindex (entlang der Trajektorie)\")\n",
    "    plt.tight_layout(rect=[0, 0, 1, 0.95])  # Platz für Suptitle\n",
    "    plt.show()"
   ]
  },
  {
   "cell_type": "code",
   "execution_count": 502,
   "id": "0f0e378a",
   "metadata": {},
   "outputs": [],
   "source": [
    "distances, mean_distance, max_distance, rotations, mean_rotation, max_rotation = trajectory_distance(trajectory_1, trajectory_optim, 100)\n",
    "plot_trajectory_distances(distances, mean_distance, max_distance, rotations, mean_rotation, max_rotation, hook_num = hook_num, trajectory_process = 4)"
   ]
  },
  {
   "cell_type": "markdown",
   "id": "efe3dd89",
   "metadata": {},
   "source": [
    "### **Absolute Distanzen**"
   ]
  },
  {
   "cell_type": "code",
   "execution_count": 514,
   "id": "74d6bbd8",
   "metadata": {},
   "outputs": [],
   "source": [
    "def trajectory_difference(traj1, traj2, num_points=10):\n",
    "    \"\"\"\n",
    "    Vergleicht zwei Trajektorien anhand von `num_points` gleichverteilten Punkten.\n",
    "    Gibt die vorzeichenbehafteten Differenzen für Translation und Rotation zurück.\n",
    "    Rückgabe:\n",
    "        diffs_trans: (num_points, 3) - x, y, z\n",
    "        diffs_rot:   (num_points, 3) - roll, pitch, yaw\n",
    "    \"\"\"\n",
    "    interp1_trans, interp1_rot = interpolate_trajectory(traj1, num_points)\n",
    "    interp2_trans, interp2_rot = interpolate_trajectory(traj2, num_points)\n",
    "\n",
    "    # Vorzeichenbehaftete Differenzen\n",
    "    diffs_trans = interp1_trans - interp2_trans\n",
    "    diffs_rot = interp1_rot - interp2_rot\n",
    "\n",
    "    return diffs_trans, diffs_rot"
   ]
  },
  {
   "cell_type": "code",
   "execution_count": 515,
   "id": "0dd37334",
   "metadata": {},
   "outputs": [],
   "source": [
    "def plot_signed_trajectory_differences(\n",
    "    diffs_trans, \n",
    "    diffs_rot, \n",
    "    hook_num=0, \n",
    "    trajectory_process=4\n",
    "):\n",
    "    \"\"\"\n",
    "    Plottet die vorzeichenbehafteten Differenzen (x, y, z, roll, pitch, yaw) \n",
    "    entlang der interpolierten Punkte.\n",
    "    \"\"\"\n",
    "    num_points = diffs_trans.shape[0]\n",
    "    indices = range(1, num_points + 1)\n",
    "\n",
    "    fig, (ax1, ax2) = plt.subplots(2, 1, figsize=(10, 8), sharex=True)\n",
    "    fig.suptitle(f\"Vorzeichenbehaftete Differenzen – Haken {hook_num}, Trajektorie-Ansatz {trajectory_process}\", fontsize=14)\n",
    "\n",
    "    # --- Plot 1: Translation (x, y, z) ---\n",
    "    ax1.set_title(\"Translation: Abweichung in x, y, z [mm]\")\n",
    "    ax1.plot(indices, diffs_trans[:, 0], label=\"x [mm]\", marker='.', linestyle='-', color='blue')\n",
    "    ax1.plot(indices, diffs_trans[:, 1], label=\"y [mm]\", marker='.',linestyle='-', color='green')\n",
    "    ax1.plot(indices, diffs_trans[:, 2], label=\"z [mm]\", marker='.',linestyle='-', color='purple')\n",
    "    ax1.axhline(0, color='gray', linestyle='--', linewidth=0.8)\n",
    "\n",
    "    ax1.set_ylabel(\"Abweichung [mm]\")\n",
    "    ax1.grid(True)\n",
    "    ax1.legend()\n",
    "\n",
    "    # --- Plot 2: Rotation (roll, pitch, yaw) ---\n",
    "    ax2.set_title(\"Rotation: Abweichung in Roll, Pitch, Yaw [°]\")\n",
    "    ax2.plot(indices, diffs_rot[:, 0], label=\"roll [°]\", marker='.',linestyle='-', color='orange')\n",
    "    ax2.plot(indices, diffs_rot[:, 1], label=\"pitch [°]\", marker='.',linestyle='-', color='red')\n",
    "    ax2.plot(indices, diffs_rot[:, 2], label=\"yaw [°]\", marker='.',linestyle='-', color='brown')\n",
    "    ax2.axhline(0, color='gray', linestyle='--', linewidth=0.8)\n",
    "\n",
    "    ax2.set_xlabel(\"Punktindex (entlang der Trajektorie)\")\n",
    "    ax2.set_ylabel(\"Abweichung [°]\")\n",
    "    ax2.grid(True)\n",
    "    ax2.legend()\n",
    "\n",
    "    plt.tight_layout(rect=[0, 0, 1, 0.95])\n",
    "    plt.show()"
   ]
  },
  {
   "cell_type": "code",
   "execution_count": 516,
   "id": "0fccff97",
   "metadata": {},
   "outputs": [],
   "source": [
    "diffs_trans, diffs_rot = trajectory_difference(trajectory_1, trajectory_optim, 100)\n",
    "plot_signed_trajectory_differences(diffs_trans, diffs_rot, hook_num=2, trajectory_process=1)"
   ]
  },
  {
   "cell_type": "markdown",
   "id": "170527fd",
   "metadata": {},
   "source": [
    "### **3D-Darstellung**"
   ]
  },
  {
   "cell_type": "code",
   "execution_count": 517,
   "id": "edfb46e9",
   "metadata": {},
   "outputs": [],
   "source": [
    "def compute_rectangle_corners(trajectory, width=8, height=12):\n",
    "    \"\"\"\n",
    "    Berechnet die Rechteck-Eckpunkte (4 Stück) für jeden Trajektorienpunkt.\n",
    "\n",
    "    :param trajectory: Liste von ([x, y, z], [roll, pitch, yaw]) Einträgen\n",
    "    :param width: Breite des Rechtecks (in X-Richtung)\n",
    "    :param height: Höhe des Rechtecks (in Y-Richtung)\n",
    "    :return: Liste von Rechtecken, jedes als Liste von 4 Eckpunkten (jeweils [x, y, z])\n",
    "    \"\"\"\n",
    "    rectangles = []\n",
    "\n",
    "    # Rechteck im lokalen TCP-Koordinatensystem (XY-Ebene, Zentrum im Ursprung)\n",
    "    half_w = width / 2\n",
    "    half_h = height / 2\n",
    "    local_corners = np.array([\n",
    "        [-half_w, 0, -half_h],\n",
    "        [ half_w, 0, -half_h],\n",
    "        [ half_w, 0, half_h],\n",
    "        [-half_w, 0, half_h]\n",
    "    ])\n",
    "\n",
    "    for trans, rpy in trajectory:\n",
    "        # RPY in Radiant, falls nicht schon so\n",
    "        rot = R.from_euler('xyz', rpy, degrees=True)\n",
    "        rotated_corners = rot.apply(local_corners)\n",
    "        translated_corners = rotated_corners + np.array(trans)\n",
    "        rectangles.append(translated_corners.tolist())\n",
    "    return rectangles"
   ]
  },
  {
   "cell_type": "code",
   "execution_count": 518,
   "id": "05d04c48",
   "metadata": {},
   "outputs": [],
   "source": [
    "rectangles_optim = compute_rectangle_corners(trajectory_optim)\n",
    "rectangles_1 = compute_rectangle_corners(trajectory_1)\n",
    "rectangles_2 = compute_rectangle_corners(trajectory_2)\n",
    "rectangles_3 = compute_rectangle_corners(trajectory_3)\n",
    "rectangles_4 = compute_rectangle_corners(trajectory_4)"
   ]
  },
  {
   "cell_type": "code",
   "execution_count": 519,
   "id": "f78ad7a3",
   "metadata": {},
   "outputs": [],
   "source": [
    "def visualize_rectangles(rectangles, figsize=(8, 8), connect_points=None, \n",
    "                         secondary_rectangles=None, secondary_legend_title=None,\n",
    "                         hook_num = 0, trajectory_process = 1):\n",
    "    \"\"\"\n",
    "    Visualisiert Rechtecke + Trajektorie im 3D-Raum mit Legende und Bezeichnungen der Trajektorienpunkte.\n",
    "    \n",
    "    Zusätzlich kann ein zweiter Satz Rechtecke (grau & transparent) dargestellt werden – inkl. Mittelpunktslinie.\n",
    "\n",
    "    :param rectangles: Liste von Rechtecken (jeweils 4 Punkte [x, y, z])\n",
    "    :param figsize: Größe der Plotfläche (Breite, Höhe)\n",
    "    :param connect_points: Optionales Tupel mit zwei Punkten [x, y, z], die verbunden werden sollen\n",
    "    :param secondary_rectangles: Optionaler zweiter Satz Rechtecke (werden grau dargestellt)\n",
    "    :param secondary_legend_title: Optionaler Legenden-Eintrag für die grauen Rechtecke\n",
    "    \"\"\"\n",
    "    %matplotlib qt\n",
    "\n",
    "    fig = plt.figure(figsize=figsize)\n",
    "    ax = fig.add_subplot(111, projection='3d')\n",
    "    fig.suptitle(f\"Einfädelung Trajektorie Spitze -> Senke (TCP in WORLD-Frame)\", fontsize=14, y=0.98)\n",
    "\n",
    "    centers = []\n",
    "    cmap = cm.get_cmap('tab20')\n",
    "    legend_handles = []\n",
    "\n",
    "    # Berechnete Trajektorie (farbig)\n",
    "    for i, rect in enumerate(rectangles):\n",
    "        color = cmap(i / len(rectangles))\n",
    "        poly = Poly3DCollection([rect], facecolors=color, alpha=0.2, edgecolors=color)\n",
    "        ax.add_collection3d(poly)\n",
    "\n",
    "        if i == 0:\n",
    "            label = 'Pre-Position'\n",
    "        elif i == 1:\n",
    "            label = 'Spitze'\n",
    "        elif i == len(rectangles) - 1:\n",
    "            label = 'Loslassen'\n",
    "        else:\n",
    "            label = str(i + 1)\n",
    "\n",
    "        legend_handles.append(plt.Line2D([0], [0], marker='o', color='w', label=label,\n",
    "                                         markersize=10, markerfacecolor=color))\n",
    "\n",
    "        center = np.mean(np.array(rect), axis=0)\n",
    "        centers.append(center)\n",
    "        ax.scatter(*center, color='red', s=30)\n",
    "        ax.text(center[0]-5, center[1]-5, center[2], f\"P{i}\", color=color, alpha = 0.8, fontsize=12)\n",
    "\n",
    "    # Linie durch die berechneten Mittelpunkte\n",
    "    centers = np.array(centers)\n",
    "    ax.plot(centers[:, 0], centers[:, 1], centers[:, 2], color='black', linewidth=2)\n",
    "\n",
    "    # Beschriftung Hauptlinie\n",
    "    if len(centers) > 0:\n",
    "        ax.text(*centers[0], 'Pre-Position', color='black', fontsize=10)\n",
    "    if len(centers) > 2:\n",
    "        ax.text(*centers[-1], 'Loslassen', color='black', fontsize=10)\n",
    "\n",
    "    # Optimal-Trajektorie (grün)\n",
    "    if secondary_rectangles is not None:\n",
    "        secondary_centers = []\n",
    "        for rect in secondary_rectangles:\n",
    "            poly = Poly3DCollection([rect], facecolors='green', alpha=0.1, edgecolors='green')\n",
    "            ax.add_collection3d(poly)\n",
    "\n",
    "            center = np.mean(np.array(rect), axis=0)\n",
    "            secondary_centers.append(center)\n",
    "            ax.scatter(*center, color='green', s=20)\n",
    "\n",
    "        # Linie durch grüne Mittelpunkte\n",
    "        secondary_centers = np.array(secondary_centers)\n",
    "        ax.plot(secondary_centers[:, 0], secondary_centers[:, 1], secondary_centers[:, 2],\n",
    "                color='green', linewidth=1, linestyle='-')\n",
    "\n",
    "        # Legendenhandle für Optimal-Trajektorie\n",
    "        if secondary_legend_title:\n",
    "            legend_handles.append(plt.Line2D([0], [0], marker='o', color='w', label=secondary_legend_title,\n",
    "                                             markersize=10, markerfacecolor='green'))\n",
    "\n",
    "    # Einzeichnen von Spitze und Senke inkl. graue Verbindungslinie\n",
    "    if connect_points is not None and len(connect_points) == 2:\n",
    "        p1, p2 = np.array(connect_points[0]), np.array(connect_points[1])\n",
    "        ax.plot([p1[0], p2[0]], [p1[1], p2[1]], [p1[2], p2[2]],\n",
    "                color='gray', linestyle='dashed', linewidth=2)\n",
    "        ax.scatter(*p1, 'o', color='magenta', linewidth=6)\n",
    "        ax.scatter(*p2, 'o', color='magenta', linewidth=6)\n",
    "        ax.text(*p1, 'Spitze', color='magenta', fontsize=12, ha='center')\n",
    "        ax.text(*p2, 'Senke', color='magenta', fontsize=12, ha='center')\n",
    "\n",
    "    # Achseneinstellungen\n",
    "    ax.set_xlabel('X')\n",
    "    ax.set_ylabel('Y')\n",
    "    ax.set_zlabel('Z')\n",
    "    ax.set_title(f\"Haken {hook_num}, Trajektorien-Ansatz {trajectory_process}\", fontsize = 10)\n",
    "\n",
    "    all_points = rectangles + (secondary_rectangles if secondary_rectangles else [])\n",
    "    all_points = np.vstack(all_points)\n",
    "    mid = np.mean(all_points, axis=0)\n",
    "    max_range = np.ptp(all_points, axis=0).max() / 2\n",
    "    for i, axis in enumerate([ax.set_xlim, ax.set_ylim, ax.set_zlim]):\n",
    "        axis(mid[i] - max_range, mid[i] + max_range)\n",
    "\n",
    "    ax.set_box_aspect([1, 1, 1])\n",
    "    ax.legend(handles=legend_handles, title=\"Trajektorien-Punkte\", loc='upper left')\n",
    "    plt.tight_layout(pad=0.5, w_pad=0.5, h_pad=0.5)\n",
    "    plt.show()"
   ]
  },
  {
   "cell_type": "code",
   "execution_count": 520,
   "id": "5a944d76",
   "metadata": {},
   "outputs": [
    {
     "name": "stderr",
     "output_type": "stream",
     "text": [
      "/tmp/ipykernel_5205/3888305038.py:22: MatplotlibDeprecationWarning:\n",
      "\n",
      "The get_cmap function was deprecated in Matplotlib 3.7 and will be removed two minor releases later. Use ``matplotlib.colormaps[name]`` or ``matplotlib.colormaps.get_cmap(obj)`` instead.\n",
      "\n"
     ]
    }
   ],
   "source": [
    "visualize_rectangles(rectangles = rectangles_1,\n",
    "                     secondary_rectangles = rectangles_optim,\n",
    "                     secondary_legend_title = 'optimale Trajektorie',\n",
    "                     connect_points = (trajectory_1[1][0], trajectory_1[-1][0]),\n",
    "                     hook_num = hook_num,\n",
    "                     trajectory_process = 1)\n",
    "\n",
    "visualize_rectangles(rectangles = rectangles_2,\n",
    "                     secondary_rectangles = rectangles_optim,\n",
    "                     secondary_legend_title = 'optimale Trajektorie',\n",
    "                     connect_points = (trajectory_1[1][0], trajectory_1[-1][0]),\n",
    "                     hook_num = hook_num,\n",
    "                     trajectory_process = 2)\n",
    "\n",
    "visualize_rectangles(rectangles = rectangles_3,\n",
    "                     secondary_rectangles = rectangles_optim,\n",
    "                     secondary_legend_title = 'optimale Trajektorie',\n",
    "                     connect_points = (trajectory_1[1][0], trajectory_1[-1][0]),\n",
    "                     hook_num = hook_num,\n",
    "                     trajectory_process = 3)\n",
    "\n",
    "visualize_rectangles(rectangles = rectangles_4,\n",
    "                     secondary_rectangles = rectangles_optim,\n",
    "                     secondary_legend_title = 'optimale Trajektorie',\n",
    "                     connect_points = (trajectory_1[1][0], trajectory_1[-1][0]),\n",
    "                     hook_num = hook_num,\n",
    "                     trajectory_process = 4)"
   ]
  },
  {
   "cell_type": "code",
   "execution_count": 353,
   "id": "f0769d9e",
   "metadata": {},
   "outputs": [],
   "source": [
    "import plotly.graph_objects as go\n",
    "import numpy as np\n",
    "import matplotlib.pyplot as plt\n",
    "import matplotlib.cm as cm"
   ]
  },
  {
   "cell_type": "code",
   "execution_count": 354,
   "id": "0653e612",
   "metadata": {},
   "outputs": [],
   "source": [
    "def visualize_rectangles_html(rectangles, figsize=(16, 9), connect_points=None, \n",
    "                              secondary_rectangles=None, secondary_legend_title=None,\n",
    "                              hook_num=0, trajectory_process=1, html_filename=\"/home/mo/Thesis/Evaluation/Trajektorientests/CSV/plot_interaktiv.html\"):\n",
    "    \"\"\"\n",
    "    Visualisiert Rechtecke und Trajektorien im 3D-Raum als interaktive HTML-Datei.\n",
    "    \n",
    "    :param rectangles: Liste von Rechtecken (jeweils 4 Punkte [x, y, z])\n",
    "    :param figsize: Größe der Plotfläche (Breite, Höhe)\n",
    "    :param connect_points: Optionales Tupel mit zwei Punkten [x, y, z], die verbunden werden sollen\n",
    "    :param secondary_rectangles: Optionaler zweiter Satz Rechtecke (werden grau dargestellt)\n",
    "    :param secondary_legend_title: Optionaler Legenden-Eintrag für die grauen Rechtecke\n",
    "    :param html_filename: Der Name der HTML-Datei, die erstellt wird\n",
    "    \"\"\"\n",
    "    fig = go.Figure()\n",
    "\n",
    "    # Berechnete Trajektorie (farbig)\n",
    "    cmap = plt.cm.get_cmap('tab20')\n",
    "    centers = []\n",
    "\n",
    "    for i, rect in enumerate(rectangles):\n",
    "        # Verwende rgba-String für die Farbe (anstatt des RGBA-Tupels)\n",
    "        color = f\"rgba({int(cmap(i / len(rectangles))[0] * 255)}, \" \\\n",
    "                f\"{int(cmap(i / len(rectangles))[1] * 255)}, \" \\\n",
    "                f\"{int(cmap(i / len(rectangles))[2] * 255)}, 0.8)\"\n",
    "        x, y, z = zip(*rect)\n",
    "        fig.add_trace(go.Mesh3d(x=x, y=y, z=z, color=color, opacity=0.8, \n",
    "                               name=f'P{i+1}'))\n",
    "\n",
    "        center = np.mean(np.array(rect), axis=0)\n",
    "        centers.append(center)\n",
    "        \n",
    "        # Text für \"P0\", \"P1\", etc.\n",
    "        if i == 0:\n",
    "            text_label = ''\n",
    "            # text_label = 'Pre-Position'\n",
    "        elif i == 1:\n",
    "            text_label = ''\n",
    "            # text_label = 'Spitze'\n",
    "        elif i == len(rectangles) - 1:\n",
    "            text_label = ''\n",
    "            # text_label = 'Loslassen'\n",
    "        else:\n",
    "            text_label = f'P{i}'  # Standardtext für den Punkt\n",
    "        \n",
    "        # Füge den Text an den Punkten hinzu (mit entsprechender Position)\n",
    "        fig.add_trace(go.Scatter3d(x=[center[0]], y=[center[1]], z=[center[2]], \n",
    "                                   mode='markers+text', marker=dict(size=3, color='red'),\n",
    "                                   text=text_label, textposition=\"top center\", textfont=dict(size=12), showlegend=False))\n",
    "\n",
    "        # Hinzufügen der Umrandung der Rechtecke mit einer Linie\n",
    "        for j in range(4):\n",
    "            x0, y0, z0 = rect[j]\n",
    "            x1, y1, z1 = rect[(j + 1) % 4]  # Nächster Punkt im Rechteck\n",
    "            fig.add_trace(go.Scatter3d(x=[x0, x1], y=[y0, y1], z=[z0, z1], \n",
    "                                       mode='lines', \n",
    "                                       line=dict(color=color, width=4),  # Keine opacity hier\n",
    "                                       showlegend=False))\n",
    "\n",
    "    # Linie durch die berechneten Mittelpunkte\n",
    "    centers = np.array(centers)\n",
    "    fig.add_trace(go.Scatter3d(x=centers[:, 0], y=centers[:, 1], z=centers[:, 2],\n",
    "                               mode='lines', line=dict(color='black', width=2), name='Berechnete Hakenlinie'))\n",
    "\n",
    "    # Beschriftung der ersten und letzten Punkte\n",
    "    if len(centers) > 0:\n",
    "        fig.add_trace(go.Scatter3d(x=[centers[0, 0]], y=[centers[0, 1]], z=[centers[0, 2]],\n",
    "                                   mode='text', text=['Pre-Position'], textposition=\"top center\", textfont=dict(size=10), showlegend=False))\n",
    "    if len(centers) > 2:\n",
    "        fig.add_trace(go.Scatter3d(x=[centers[-1, 0]], y=[centers[-1, 1]], z=[centers[-1, 2]],\n",
    "                                   mode='text', text=['Loslassen'], textposition=\"top center\", textfont=dict(size=10), showlegend=False))\n",
    "\n",
    "    # Optimal-Trajektorie (grün) – Zweite Rechtecke\n",
    "    if secondary_rectangles:\n",
    "        for rect in secondary_rectangles:\n",
    "            x, y, z = zip(*rect)\n",
    "            fig.add_trace(go.Mesh3d(x=x, y=y, z=z, color='rgba(0,255,0,0.2)', opacity=0.8, \n",
    "                                   name=secondary_legend_title or 'Optimale Trajektorie'))\n",
    "        \n",
    "            # Hinzufügen der Umrandung der Rechtecke mit einer Linie\n",
    "            for j in range(4):\n",
    "                x0, y0, z0 = rect[j]\n",
    "                x1, y1, z1 = rect[(j + 1) % 4]  # Nächster Punkt im Rechteck\n",
    "                fig.add_trace(go.Scatter3d(x=[x0, x1], y=[y0, y1], z=[z0, z1], \n",
    "                                           mode='lines', \n",
    "                                           line=dict(color='rgba(0,255,0,0.2)', width=3),  # Keine opacity hier\n",
    "                                           showlegend=False))\n",
    "            \n",
    "            # Hinzufügen eines roten Punktes in der Mitte des Rechtecks\n",
    "            center = np.mean(np.array(rect), axis=0)\n",
    "            fig.add_trace(go.Scatter3d(x=[center[0]], y=[center[1]], z=[center[2]], \n",
    "                                       mode='markers', marker=dict(size=4, color='green'), \n",
    "                                       name=f'Mitte P{i+1}', showlegend=False))\n",
    "        \n",
    "        # Mittelpunkte der sekundären Rechtecke sammeln\n",
    "        secondary_centers = [np.mean(np.array(rect), axis=0) for rect in secondary_rectangles]\n",
    "        secondary_centers = np.array(secondary_centers)\n",
    "\n",
    "        # Linie durch die Mittelpunkte zeichnen\n",
    "        fig.add_trace(go.Scatter3d(\n",
    "            x=secondary_centers[:, 0], y=secondary_centers[:, 1], z=secondary_centers[:, 2],\n",
    "            mode='lines',\n",
    "            line=dict(color='green', width=2),\n",
    "            name='Optimale Hakenlinie'\n",
    "        ))\n",
    "    \n",
    "    # Einzeichnen von Spitze und Senke inkl. graue Verbindungslinie\n",
    "    if connect_points:\n",
    "        p1, p2 = np.array(connect_points[0]), np.array(connect_points[1])\n",
    "        fig.add_trace(go.Scatter3d(x=[p1[0], p2[0]], y=[p1[1], p2[1]], z=[p1[2], p2[2]], \n",
    "                                   mode='lines', line=dict(color='gray', dash='dash'), name='Direkte Gerade Spitze -> Senke'))\n",
    "        fig.add_trace(go.Scatter3d(x=[p1[0]], y=[p1[1]], z=[p1[2]], mode='markers', \n",
    "                                   marker=dict(size=8, color='magenta'), name='Spitze'))\n",
    "        fig.add_trace(go.Scatter3d(x=[p2[0]], y=[p2[1]], z=[p2[2]], mode='markers', \n",
    "                                   marker=dict(size=8, color='magenta'), name='Senke'))\n",
    "        \n",
    "        # Hinzufügen von Text \"Spitze\" und \"Senke\"\n",
    "        fig.add_trace(go.Scatter3d(x=[p1[0]], y=[p1[1]], z=[p1[2]], mode='text', \n",
    "                                   text=['Spitze'], textposition=\"top center\", textfont=dict(size=10), showlegend=False))\n",
    "        fig.add_trace(go.Scatter3d(x=[p2[0]], y=[p2[1]], z=[p2[2]], mode='text', \n",
    "                                   text=['Senke'], textposition=\"top center\", textfont=dict(size=10), showlegend=False))\n",
    "\n",
    "    # Achsen und Layout\n",
    "    fig.update_layout(scene=dict(\n",
    "                        xaxis_title='X',\n",
    "                        yaxis_title='Y',\n",
    "                        zaxis_title='Z',\n",
    "                        aspectmode='cube'),\n",
    "                      title=f'Haken {hook_num}, Trajektorien-Ansatz {trajectory_process}',\n",
    "                      legend=dict(title=\"Legende\"))\n",
    "    \n",
    "    # HTML exportieren\n",
    "    fig.write_html(html_filename)\n",
    "    print(f\"HTML-Datei '{html_filename}' erfolgreich erstellt!\")\n",
    "    fig.show()"
   ]
  },
  {
   "cell_type": "code",
   "execution_count": 355,
   "id": "2e400931",
   "metadata": {},
   "outputs": [
    {
     "name": "stdout",
     "output_type": "stream",
     "text": [
      "HTML-Datei '/home/mo/Thesis/Evaluation/Trajektorientests/traj1.html' erfolgreich erstellt!\n"
     ]
    },
    {
     "name": "stderr",
     "output_type": "stream",
     "text": [
      "/tmp/ipykernel_5205/2458576168.py:17: MatplotlibDeprecationWarning:\n",
      "\n",
      "The get_cmap function was deprecated in Matplotlib 3.7 and will be removed two minor releases later. Use ``matplotlib.colormaps[name]`` or ``matplotlib.colormaps.get_cmap(obj)`` instead.\n",
      "\n"
     ]
    },
    {
     "data": {
      "application/vnd.plotly.v1+json": {
       "config": {
        "plotlyServerURL": "https://plot.ly"
       },
       "data": [
        {
         "color": "rgba(31, 119, 180, 0.8)",
         "name": "P1",
         "opacity": 0.8,
         "type": "mesh3d",
         "x": [
          356.0725147055406,
          362.36845473884694,
          365.38023968185996,
          359.0842996485536
         ],
         "y": [
          913.8108386428452,
          913.812928945207,
          923.6331262663317,
          923.6310359639699
         ],
         "z": [
          736.8152144664907,
          733.7556173152882,
          739.959880045961,
          743.0194771971635
         ]
        },
        {
         "marker": {
          "color": "red",
          "size": 3
         },
         "mode": "markers+text",
         "showlegend": false,
         "text": "",
         "textfont": {
          "size": 12
         },
         "textposition": "top center",
         "type": "scatter3d",
         "x": [
          360.7263771937003
         ],
         "y": [
          918.7219824545884
         ],
         "z": [
          738.3875472562258
         ]
        },
        {
         "line": {
          "color": "rgba(31, 119, 180, 0.8)",
          "width": 4
         },
         "mode": "lines",
         "showlegend": false,
         "type": "scatter3d",
         "x": [
          356.0725147055406,
          362.36845473884694
         ],
         "y": [
          913.8108386428452,
          913.812928945207
         ],
         "z": [
          736.8152144664907,
          733.7556173152882
         ]
        },
        {
         "line": {
          "color": "rgba(31, 119, 180, 0.8)",
          "width": 4
         },
         "mode": "lines",
         "showlegend": false,
         "type": "scatter3d",
         "x": [
          362.36845473884694,
          365.38023968185996
         ],
         "y": [
          913.812928945207,
          923.6331262663317
         ],
         "z": [
          733.7556173152882,
          739.959880045961
         ]
        },
        {
         "line": {
          "color": "rgba(31, 119, 180, 0.8)",
          "width": 4
         },
         "mode": "lines",
         "showlegend": false,
         "type": "scatter3d",
         "x": [
          365.38023968185996,
          359.0842996485536
         ],
         "y": [
          923.6331262663317,
          923.6310359639699
         ],
         "z": [
          739.959880045961,
          743.0194771971635
         ]
        },
        {
         "line": {
          "color": "rgba(31, 119, 180, 0.8)",
          "width": 4
         },
         "mode": "lines",
         "showlegend": false,
         "type": "scatter3d",
         "x": [
          359.0842996485536,
          356.0725147055406
         ],
         "y": [
          923.6310359639699,
          913.8108386428452
         ],
         "z": [
          743.0194771971635,
          736.8152144664907
         ]
        },
        {
         "color": "rgba(174, 199, 232, 0.8)",
         "name": "P2",
         "opacity": 0.8,
         "type": "mesh3d",
         "x": [
          350.84906519025833,
          357.21186694041444,
          354.74865444707336,
          348.38585269691725
         ],
         "y": [
          917.217975319851,
          919.0814101713638,
          930.5487130044843,
          928.6852781529715
         ],
         "z": [
          734.6619316005542,
          732.4164106270655,
          734.9528549781514,
          737.1983759516402
         ]
        },
        {
         "marker": {
          "color": "red",
          "size": 3
         },
         "mode": "markers+text",
         "showlegend": false,
         "text": "",
         "textfont": {
          "size": 12
         },
         "textposition": "top center",
         "type": "scatter3d",
         "x": [
          352.79885981866585
         ],
         "y": [
          923.8833441621676
         ],
         "z": [
          734.8073932893528
         ]
        },
        {
         "line": {
          "color": "rgba(174, 199, 232, 0.8)",
          "width": 4
         },
         "mode": "lines",
         "showlegend": false,
         "type": "scatter3d",
         "x": [
          350.84906519025833,
          357.21186694041444
         ],
         "y": [
          917.217975319851,
          919.0814101713638
         ],
         "z": [
          734.6619316005542,
          732.4164106270655
         ]
        },
        {
         "line": {
          "color": "rgba(174, 199, 232, 0.8)",
          "width": 4
         },
         "mode": "lines",
         "showlegend": false,
         "type": "scatter3d",
         "x": [
          357.21186694041444,
          354.74865444707336
         ],
         "y": [
          919.0814101713638,
          930.5487130044843
         ],
         "z": [
          732.4164106270655,
          734.9528549781514
         ]
        },
        {
         "line": {
          "color": "rgba(174, 199, 232, 0.8)",
          "width": 4
         },
         "mode": "lines",
         "showlegend": false,
         "type": "scatter3d",
         "x": [
          354.74865444707336,
          348.38585269691725
         ],
         "y": [
          930.5487130044843,
          928.6852781529715
         ],
         "z": [
          734.9528549781514,
          737.1983759516402
         ]
        },
        {
         "line": {
          "color": "rgba(174, 199, 232, 0.8)",
          "width": 4
         },
         "mode": "lines",
         "showlegend": false,
         "type": "scatter3d",
         "x": [
          348.38585269691725,
          350.84906519025833
         ],
         "y": [
          928.6852781529715,
          917.217975319851
         ],
         "z": [
          737.1983759516402,
          734.6619316005542
         ]
        },
        {
         "color": "rgba(255, 187, 120, 0.8)",
         "name": "P3",
         "opacity": 0.8,
         "type": "mesh3d",
         "x": [
          346.09521117663076,
          351.9347528908747,
          358.33175039820753,
          352.4922086839636
         ],
         "y": [
          921.0285397161191,
          918.8379595528949,
          926.857568266039,
          929.0481484292633
         ],
         "z": [
          732.631651147653,
          729.453426625047,
          735.6795248397589,
          738.8577493623649
         ]
        },
        {
         "marker": {
          "color": "red",
          "size": 3
         },
         "mode": "markers+text",
         "showlegend": false,
         "text": "P2",
         "textfont": {
          "size": 12
         },
         "textposition": "top center",
         "type": "scatter3d",
         "x": [
          352.21348078741914
         ],
         "y": [
          923.9430539910791
         ],
         "z": [
          734.1555879937059
         ]
        },
        {
         "line": {
          "color": "rgba(255, 187, 120, 0.8)",
          "width": 4
         },
         "mode": "lines",
         "showlegend": false,
         "type": "scatter3d",
         "x": [
          346.09521117663076,
          351.9347528908747
         ],
         "y": [
          921.0285397161191,
          918.8379595528949
         ],
         "z": [
          732.631651147653,
          729.453426625047
         ]
        },
        {
         "line": {
          "color": "rgba(255, 187, 120, 0.8)",
          "width": 4
         },
         "mode": "lines",
         "showlegend": false,
         "type": "scatter3d",
         "x": [
          351.9347528908747,
          358.33175039820753
         ],
         "y": [
          918.8379595528949,
          926.857568266039
         ],
         "z": [
          729.453426625047,
          735.6795248397589
         ]
        },
        {
         "line": {
          "color": "rgba(255, 187, 120, 0.8)",
          "width": 4
         },
         "mode": "lines",
         "showlegend": false,
         "type": "scatter3d",
         "x": [
          358.33175039820753,
          352.4922086839636
         ],
         "y": [
          926.857568266039,
          929.0481484292633
         ],
         "z": [
          735.6795248397589,
          738.8577493623649
         ]
        },
        {
         "line": {
          "color": "rgba(255, 187, 120, 0.8)",
          "width": 4
         },
         "mode": "lines",
         "showlegend": false,
         "type": "scatter3d",
         "x": [
          352.4922086839636,
          346.09521117663076
         ],
         "y": [
          929.0481484292633,
          921.0285397161191
         ],
         "z": [
          738.8577493623649,
          732.631651147653
         ]
        },
        {
         "color": "rgba(152, 223, 138, 0.8)",
         "name": "P4",
         "opacity": 0.8,
         "type": "mesh3d",
         "x": [
          345.1187513836279,
          350.92926569789915,
          357.4288801361214,
          351.61836582185015
         ],
         "y": [
          922.1634776107071,
          919.9132710465167,
          927.82365289874,
          930.0738594629304
         ],
         "z": [
          731.9920632276504,
          728.8023149896036,
          735.0617775149702,
          738.2515257530171
         ]
        },
        {
         "marker": {
          "color": "red",
          "size": 3
         },
         "mode": "markers+text",
         "showlegend": false,
         "text": "P3",
         "textfont": {
          "size": 12
         },
         "textposition": "top center",
         "type": "scatter3d",
         "x": [
          351.27381575987465
         ],
         "y": [
          924.9935652547235
         ],
         "z": [
          733.5269203713103
         ]
        },
        {
         "line": {
          "color": "rgba(152, 223, 138, 0.8)",
          "width": 4
         },
         "mode": "lines",
         "showlegend": false,
         "type": "scatter3d",
         "x": [
          345.1187513836279,
          350.92926569789915
         ],
         "y": [
          922.1634776107071,
          919.9132710465167
         ],
         "z": [
          731.9920632276504,
          728.8023149896036
         ]
        },
        {
         "line": {
          "color": "rgba(152, 223, 138, 0.8)",
          "width": 4
         },
         "mode": "lines",
         "showlegend": false,
         "type": "scatter3d",
         "x": [
          350.92926569789915,
          357.4288801361214
         ],
         "y": [
          919.9132710465167,
          927.82365289874
         ],
         "z": [
          728.8023149896036,
          735.0617775149702
         ]
        },
        {
         "line": {
          "color": "rgba(152, 223, 138, 0.8)",
          "width": 4
         },
         "mode": "lines",
         "showlegend": false,
         "type": "scatter3d",
         "x": [
          357.4288801361214,
          351.61836582185015
         ],
         "y": [
          927.82365289874,
          930.0738594629304
         ],
         "z": [
          735.0617775149702,
          738.2515257530171
         ]
        },
        {
         "line": {
          "color": "rgba(152, 223, 138, 0.8)",
          "width": 4
         },
         "mode": "lines",
         "showlegend": false,
         "type": "scatter3d",
         "x": [
          351.61836582185015,
          345.1187513836279
         ],
         "y": [
          930.0738594629304,
          922.1634776107071
         ],
         "z": [
          738.2515257530171,
          731.9920632276504
         ]
        },
        {
         "color": "rgba(255, 152, 150, 0.8)",
         "name": "P5",
         "opacity": 0.8,
         "type": "mesh3d",
         "x": [
          348.79293375484116,
          354.71665287359343,
          351.8628938800337,
          345.93917476128144
         ],
         "y": [
          919.3483798929783,
          921.9634481454949,
          932.7979351292956,
          930.182866876779
         ],
         "z": [
          732.0737162741566,
          729.414586748013,
          733.7122548837035,
          736.3713844098471
         ]
        },
        {
         "marker": {
          "color": "red",
          "size": 3
         },
         "mode": "markers+text",
         "showlegend": false,
         "text": "P4",
         "textfont": {
          "size": 12
         },
         "textposition": "top center",
         "type": "scatter3d",
         "x": [
          350.32791381743743
         ],
         "y": [
          926.073157511137
         ],
         "z": [
          732.89298557893
         ]
        },
        {
         "line": {
          "color": "rgba(255, 152, 150, 0.8)",
          "width": 4
         },
         "mode": "lines",
         "showlegend": false,
         "type": "scatter3d",
         "x": [
          348.79293375484116,
          354.71665287359343
         ],
         "y": [
          919.3483798929783,
          921.9634481454949
         ],
         "z": [
          732.0737162741566,
          729.414586748013
         ]
        },
        {
         "line": {
          "color": "rgba(255, 152, 150, 0.8)",
          "width": 4
         },
         "mode": "lines",
         "showlegend": false,
         "type": "scatter3d",
         "x": [
          354.71665287359343,
          351.8628938800337
         ],
         "y": [
          921.9634481454949,
          932.7979351292956
         ],
         "z": [
          729.414586748013,
          733.7122548837035
         ]
        },
        {
         "line": {
          "color": "rgba(255, 152, 150, 0.8)",
          "width": 4
         },
         "mode": "lines",
         "showlegend": false,
         "type": "scatter3d",
         "x": [
          351.8628938800337,
          345.93917476128144
         ],
         "y": [
          932.7979351292956,
          930.182866876779
         ],
         "z": [
          733.7122548837035,
          736.3713844098471
         ]
        },
        {
         "line": {
          "color": "rgba(255, 152, 150, 0.8)",
          "width": 4
         },
         "mode": "lines",
         "showlegend": false,
         "type": "scatter3d",
         "x": [
          345.93917476128144,
          348.79293375484116
         ],
         "y": [
          930.182866876779,
          919.3483798929783
         ],
         "z": [
          736.3713844098471,
          732.0737162741566
         ]
        },
        {
         "color": "rgba(197, 176, 213, 0.8)",
         "name": "P6",
         "opacity": 0.8,
         "type": "mesh3d",
         "x": [
          343.14747588808405,
          348.95959789125743,
          355.4583773640536,
          349.6462553608802
         ],
         "y": [
          923.4111627046199,
          921.2585093926085,
          928.9632273432013,
          931.1158806552127
         ],
         "z": [
          730.6147724644364,
          727.3612633529517,
          733.8730362809473,
          737.126545392432
         ]
        },
        {
         "marker": {
          "color": "red",
          "size": 3
         },
         "mode": "markers+text",
         "showlegend": false,
         "text": "P5",
         "textfont": {
          "size": 12
         },
         "textposition": "top center",
         "type": "scatter3d",
         "x": [
          349.3029266260688
         ],
         "y": [
          926.1871950239106
         ],
         "z": [
          732.2439043726919
         ]
        },
        {
         "line": {
          "color": "rgba(197, 176, 213, 0.8)",
          "width": 4
         },
         "mode": "lines",
         "showlegend": false,
         "type": "scatter3d",
         "x": [
          343.14747588808405,
          348.95959789125743
         ],
         "y": [
          923.4111627046199,
          921.2585093926085
         ],
         "z": [
          730.6147724644364,
          727.3612633529517
         ]
        },
        {
         "line": {
          "color": "rgba(197, 176, 213, 0.8)",
          "width": 4
         },
         "mode": "lines",
         "showlegend": false,
         "type": "scatter3d",
         "x": [
          348.95959789125743,
          355.4583773640536
         ],
         "y": [
          921.2585093926085,
          928.9632273432013
         ],
         "z": [
          727.3612633529517,
          733.8730362809473
         ]
        },
        {
         "line": {
          "color": "rgba(197, 176, 213, 0.8)",
          "width": 4
         },
         "mode": "lines",
         "showlegend": false,
         "type": "scatter3d",
         "x": [
          355.4583773640536,
          349.6462553608802
         ],
         "y": [
          928.9632273432013,
          931.1158806552127
         ],
         "z": [
          733.8730362809473,
          737.126545392432
         ]
        },
        {
         "line": {
          "color": "rgba(197, 176, 213, 0.8)",
          "width": 4
         },
         "mode": "lines",
         "showlegend": false,
         "type": "scatter3d",
         "x": [
          349.6462553608802,
          343.14747588808405
         ],
         "y": [
          931.1158806552127,
          923.4111627046199
         ],
         "z": [
          737.126545392432,
          730.6147724644364
         ]
        },
        {
         "color": "rgba(140, 86, 75, 0.8)",
         "name": "P7",
         "opacity": 0.8,
         "type": "mesh3d",
         "x": [
          347.8267154285554,
          353.9798715817799,
          348.86678393387024,
          342.71362778064577
         ],
         "y": [
          922.0565135626939,
          923.5219267842166,
          932.4986435199585,
          931.0332302984358
         ],
         "z": [
          736.2286235480224,
          733.230084996624,
          727.1247683503684,
          730.1233069017668
         ]
        },
        {
         "marker": {
          "color": "red",
          "size": 3
         },
         "mode": "markers+text",
         "showlegend": false,
         "text": "P6",
         "textfont": {
          "size": 12
         },
         "textposition": "top center",
         "type": "scatter3d",
         "x": [
          348.3467496812128
         ],
         "y": [
          927.2775785413262
         ],
         "z": [
          731.6766959491954
         ]
        },
        {
         "line": {
          "color": "rgba(140, 86, 75, 0.8)",
          "width": 4
         },
         "mode": "lines",
         "showlegend": false,
         "type": "scatter3d",
         "x": [
          347.8267154285554,
          353.9798715817799
         ],
         "y": [
          922.0565135626939,
          923.5219267842166
         ],
         "z": [
          736.2286235480224,
          733.230084996624
         ]
        },
        {
         "line": {
          "color": "rgba(140, 86, 75, 0.8)",
          "width": 4
         },
         "mode": "lines",
         "showlegend": false,
         "type": "scatter3d",
         "x": [
          353.9798715817799,
          348.86678393387024
         ],
         "y": [
          923.5219267842166,
          932.4986435199585
         ],
         "z": [
          733.230084996624,
          727.1247683503684
         ]
        },
        {
         "line": {
          "color": "rgba(140, 86, 75, 0.8)",
          "width": 4
         },
         "mode": "lines",
         "showlegend": false,
         "type": "scatter3d",
         "x": [
          348.86678393387024,
          342.71362778064577
         ],
         "y": [
          932.4986435199585,
          931.0332302984358
         ],
         "z": [
          727.1247683503684,
          730.1233069017668
         ]
        },
        {
         "line": {
          "color": "rgba(140, 86, 75, 0.8)",
          "width": 4
         },
         "mode": "lines",
         "showlegend": false,
         "type": "scatter3d",
         "x": [
          342.71362778064577,
          347.8267154285554
         ],
         "y": [
          931.0332302984358,
          922.0565135626939
         ],
         "z": [
          730.1233069017668,
          736.2286235480224
         ]
        },
        {
         "color": "rgba(227, 119, 194, 0.8)",
         "name": "P8",
         "opacity": 0.8,
         "type": "mesh3d",
         "x": [
          341.36900438920117,
          347.27580561301653,
          353.42981209474414,
          347.5230108709288
         ],
         "y": [
          923.6006100848724,
          922.0519511205589,
          929.2601196454191,
          930.8087786097326
         ],
         "z": [
          729.1205311122912,
          725.6983454489198,
          733.0584073195882,
          736.4805929829597
         ]
        },
        {
         "marker": {
          "color": "red",
          "size": 3
         },
         "mode": "markers+text",
         "showlegend": false,
         "text": "P7",
         "textfont": {
          "size": 12
         },
         "textposition": "top center",
         "type": "scatter3d",
         "x": [
          347.39940824197265
         ],
         "y": [
          926.4303648651457
         ],
         "z": [
          731.0894692159397
         ]
        },
        {
         "line": {
          "color": "rgba(227, 119, 194, 0.8)",
          "width": 4
         },
         "mode": "lines",
         "showlegend": false,
         "type": "scatter3d",
         "x": [
          341.36900438920117,
          347.27580561301653
         ],
         "y": [
          923.6006100848724,
          922.0519511205589
         ],
         "z": [
          729.1205311122912,
          725.6983454489198
         ]
        },
        {
         "line": {
          "color": "rgba(227, 119, 194, 0.8)",
          "width": 4
         },
         "mode": "lines",
         "showlegend": false,
         "type": "scatter3d",
         "x": [
          347.27580561301653,
          353.42981209474414
         ],
         "y": [
          922.0519511205589,
          929.2601196454191
         ],
         "z": [
          725.6983454489198,
          733.0584073195882
         ]
        },
        {
         "line": {
          "color": "rgba(227, 119, 194, 0.8)",
          "width": 4
         },
         "mode": "lines",
         "showlegend": false,
         "type": "scatter3d",
         "x": [
          353.42981209474414,
          347.5230108709288
         ],
         "y": [
          929.2601196454191,
          930.8087786097326
         ],
         "z": [
          733.0584073195882,
          736.4805929829597
         ]
        },
        {
         "line": {
          "color": "rgba(227, 119, 194, 0.8)",
          "width": 4
         },
         "mode": "lines",
         "showlegend": false,
         "type": "scatter3d",
         "x": [
          347.5230108709288,
          341.36900438920117
         ],
         "y": [
          930.8087786097326,
          923.6006100848724
         ],
         "z": [
          736.4805929829597,
          729.1205311122912
         ]
        },
        {
         "color": "rgba(127, 127, 127, 0.8)",
         "name": "P9",
         "opacity": 0.8,
         "type": "mesh3d",
         "x": [
          341.4239224152393,
          347.6585073019732,
          351.1641944402654,
          344.9296095535315
         ],
         "y": [
          931.7522704041872,
          931.1475833710354,
          923.4245095143366,
          924.0291965474885
         ],
         "z": [
          733.4251000374982,
          736.5498888114871,
          728.0608200820923,
          724.9360313081033
         ]
        },
        {
         "marker": {
          "color": "red",
          "size": 3
         },
         "mode": "markers+text",
         "showlegend": false,
         "text": "P8",
         "textfont": {
          "size": 12
         },
         "textposition": "top center",
         "type": "scatter3d",
         "x": [
          346.29405842775236
         ],
         "y": [
          927.5883899592619
         ],
         "z": [
          730.7429600597952
         ]
        },
        {
         "line": {
          "color": "rgba(127, 127, 127, 0.8)",
          "width": 4
         },
         "mode": "lines",
         "showlegend": false,
         "type": "scatter3d",
         "x": [
          341.4239224152393,
          347.6585073019732
         ],
         "y": [
          931.7522704041872,
          931.1475833710354
         ],
         "z": [
          733.4251000374982,
          736.5498888114871
         ]
        },
        {
         "line": {
          "color": "rgba(127, 127, 127, 0.8)",
          "width": 4
         },
         "mode": "lines",
         "showlegend": false,
         "type": "scatter3d",
         "x": [
          347.6585073019732,
          351.1641944402654
         ],
         "y": [
          931.1475833710354,
          923.4245095143366
         ],
         "z": [
          736.5498888114871,
          728.0608200820923
         ]
        },
        {
         "line": {
          "color": "rgba(127, 127, 127, 0.8)",
          "width": 4
         },
         "mode": "lines",
         "showlegend": false,
         "type": "scatter3d",
         "x": [
          351.1641944402654,
          344.9296095535315
         ],
         "y": [
          923.4245095143366,
          924.0291965474885
         ],
         "z": [
          728.0608200820923,
          724.9360313081033
         ]
        },
        {
         "line": {
          "color": "rgba(127, 127, 127, 0.8)",
          "width": 4
         },
         "mode": "lines",
         "showlegend": false,
         "type": "scatter3d",
         "x": [
          344.9296095535315,
          341.4239224152393
         ],
         "y": [
          924.0291965474885,
          931.7522704041872
         ],
         "z": [
          724.9360313081033,
          733.4251000374982
         ]
        },
        {
         "color": "rgba(188, 189, 34, 0.8)",
         "name": "P10",
         "opacity": 0.8,
         "type": "mesh3d",
         "x": [
          338.4727291395776,
          343.51472343885627,
          351.67153719448527,
          346.6295428952066
         ],
         "y": [
          926.7675972873267,
          923.9998042629419,
          926.8605748929574,
          929.6283679173422
         ],
         "z": [
          728.5919042711795,
          724.602215654231,
          732.9258194866117,
          736.9155081035601
         ]
        },
        {
         "marker": {
          "color": "red",
          "size": 3
         },
         "mode": "markers+text",
         "showlegend": false,
         "text": "P9",
         "textfont": {
          "size": 12
         },
         "textposition": "top center",
         "type": "scatter3d",
         "x": [
          345.07213316703144
         ],
         "y": [
          926.8140860901419
         ],
         "z": [
          730.7588618788956
         ]
        },
        {
         "line": {
          "color": "rgba(188, 189, 34, 0.8)",
          "width": 4
         },
         "mode": "lines",
         "showlegend": false,
         "type": "scatter3d",
         "x": [
          338.4727291395776,
          343.51472343885627
         ],
         "y": [
          926.7675972873267,
          923.9998042629419
         ],
         "z": [
          728.5919042711795,
          724.602215654231
         ]
        },
        {
         "line": {
          "color": "rgba(188, 189, 34, 0.8)",
          "width": 4
         },
         "mode": "lines",
         "showlegend": false,
         "type": "scatter3d",
         "x": [
          343.51472343885627,
          351.67153719448527
         ],
         "y": [
          923.9998042629419,
          926.8605748929574
         ],
         "z": [
          724.602215654231,
          732.9258194866117
         ]
        },
        {
         "line": {
          "color": "rgba(188, 189, 34, 0.8)",
          "width": 4
         },
         "mode": "lines",
         "showlegend": false,
         "type": "scatter3d",
         "x": [
          351.67153719448527,
          346.6295428952066
         ],
         "y": [
          926.8605748929574,
          929.6283679173422
         ],
         "z": [
          732.9258194866117,
          736.9155081035601
         ]
        },
        {
         "line": {
          "color": "rgba(188, 189, 34, 0.8)",
          "width": 4
         },
         "mode": "lines",
         "showlegend": false,
         "type": "scatter3d",
         "x": [
          346.6295428952066,
          338.4727291395776
         ],
         "y": [
          929.6283679173422,
          926.7675972873267
         ],
         "z": [
          736.9155081035601,
          728.5919042711795
         ]
        },
        {
         "color": "rgba(23, 190, 207, 0.8)",
         "name": "P11",
         "opacity": 0.8,
         "type": "mesh3d",
         "x": [
          340.3687516768666,
          347.3687516768666,
          347.3687516768666,
          340.3687516768666
         ],
         "y": [
          928.9599347828362,
          928.9599347828362,
          928.9599347828362,
          928.9599347828362
         ],
         "z": [
          736.7928638091671,
          736.7928638091671,
          724.7928638091671,
          724.7928638091671
         ]
        },
        {
         "marker": {
          "color": "red",
          "size": 3
         },
         "mode": "markers+text",
         "showlegend": false,
         "text": "",
         "textfont": {
          "size": 12
         },
         "textposition": "top center",
         "type": "scatter3d",
         "x": [
          343.8687516768666
         ],
         "y": [
          928.9599347828362
         ],
         "z": [
          730.7928638091671
         ]
        },
        {
         "line": {
          "color": "rgba(23, 190, 207, 0.8)",
          "width": 4
         },
         "mode": "lines",
         "showlegend": false,
         "type": "scatter3d",
         "x": [
          340.3687516768666,
          347.3687516768666
         ],
         "y": [
          928.9599347828362,
          928.9599347828362
         ],
         "z": [
          736.7928638091671,
          736.7928638091671
         ]
        },
        {
         "line": {
          "color": "rgba(23, 190, 207, 0.8)",
          "width": 4
         },
         "mode": "lines",
         "showlegend": false,
         "type": "scatter3d",
         "x": [
          347.3687516768666,
          347.3687516768666
         ],
         "y": [
          928.9599347828362,
          928.9599347828362
         ],
         "z": [
          736.7928638091671,
          724.7928638091671
         ]
        },
        {
         "line": {
          "color": "rgba(23, 190, 207, 0.8)",
          "width": 4
         },
         "mode": "lines",
         "showlegend": false,
         "type": "scatter3d",
         "x": [
          347.3687516768666,
          340.3687516768666
         ],
         "y": [
          928.9599347828362,
          928.9599347828362
         ],
         "z": [
          724.7928638091671,
          724.7928638091671
         ]
        },
        {
         "line": {
          "color": "rgba(23, 190, 207, 0.8)",
          "width": 4
         },
         "mode": "lines",
         "showlegend": false,
         "type": "scatter3d",
         "x": [
          340.3687516768666,
          340.3687516768666
         ],
         "y": [
          928.9599347828362,
          928.9599347828362
         ],
         "z": [
          724.7928638091671,
          736.7928638091671
         ]
        },
        {
         "line": {
          "color": "black",
          "width": 2
         },
         "mode": "lines",
         "name": "Berechnete Hakenlinie",
         "type": "scatter3d",
         "x": {
          "bdata": "DDixPZ+LdkAitDshyAx2QKKE1GpqA3ZAqFyijGH0dUDOHI8iP+V1QNoAl8nY1HVAUstkSYzFdUBokOX5Y7Z1QPQknHa0pHVAtpUbdSeRdUDMhyho5n11QA==",
          "dtype": "f8"
         },
         "y": {
          "bdata": "8rW8nsa1jED7fL4WEd+MQGAQ5F+L34xA1htX0vLnjEBS7prTlfCMQFzNGmB/8YxAiigZezj6jEAwaSJjcfOMQJmCywW1/IxATmqRP4P2jECYlEnyrQeNQA==",
          "dtype": "f8"
         },
         "z": {
          "bdata": "KDlgshkTh0A+5pyKdfaGQPAE66Q+8YZA/hIHIjfshkBvip/VJOeGQIHAIoTz4YZACtmQ32ndhkCu46I7t9iGQHA4C5Xx1YZATUAtJhLWhkBwFPvIV9aGQA==",
          "dtype": "f8"
         }
        },
        {
         "mode": "text",
         "showlegend": false,
         "text": [
          "Pre-Position"
         ],
         "textfont": {
          "size": 10
         },
         "textposition": "top center",
         "type": "scatter3d",
         "x": [
          360.7263771937003
         ],
         "y": [
          918.7219824545884
         ],
         "z": [
          738.3875472562258
         ]
        },
        {
         "mode": "text",
         "showlegend": false,
         "text": [
          "Loslassen"
         ],
         "textfont": {
          "size": 10
         },
         "textposition": "top center",
         "type": "scatter3d",
         "x": [
          343.8687516768666
         ],
         "y": [
          928.9599347828362
         ],
         "z": [
          730.7928638091671
         ]
        },
        {
         "color": "rgba(0,255,0,0.2)",
         "name": "optimale Trajektorie",
         "opacity": 0.8,
         "type": "mesh3d",
         "x": [
          354.7552535323742,
          358.18077030289726,
          366.69750066355704,
          363.27198389303396
         ],
         "y": [
          916.2236452181562,
          912.766610553211,
          921.2203199737728,
          924.677354638718
         ],
         "z": [
          740.9082604394843,
          735.8768842678755,
          735.8668345653551,
          740.8982107369638
         ]
        },
        {
         "line": {
          "color": "rgba(0,255,0,0.2)",
          "width": 3
         },
         "mode": "lines",
         "showlegend": false,
         "type": "scatter3d",
         "x": [
          354.7552535323742,
          358.18077030289726
         ],
         "y": [
          916.2236452181562,
          912.766610553211
         ],
         "z": [
          740.9082604394843,
          735.8768842678755
         ]
        },
        {
         "line": {
          "color": "rgba(0,255,0,0.2)",
          "width": 3
         },
         "mode": "lines",
         "showlegend": false,
         "type": "scatter3d",
         "x": [
          358.18077030289726,
          366.69750066355704
         ],
         "y": [
          912.766610553211,
          921.2203199737728
         ],
         "z": [
          735.8768842678755,
          735.8668345653551
         ]
        },
        {
         "line": {
          "color": "rgba(0,255,0,0.2)",
          "width": 3
         },
         "mode": "lines",
         "showlegend": false,
         "type": "scatter3d",
         "x": [
          366.69750066355704,
          363.27198389303396
         ],
         "y": [
          921.2203199737728,
          924.677354638718
         ],
         "z": [
          735.8668345653551,
          740.8982107369638
         ]
        },
        {
         "line": {
          "color": "rgba(0,255,0,0.2)",
          "width": 3
         },
         "mode": "lines",
         "showlegend": false,
         "type": "scatter3d",
         "x": [
          363.27198389303396,
          354.7552535323742
         ],
         "y": [
          924.677354638718,
          916.2236452181562
         ],
         "z": [
          740.8982107369638,
          740.9082604394843
         ]
        },
        {
         "marker": {
          "color": "green",
          "size": 4
         },
         "mode": "markers",
         "name": "Mitte P11",
         "showlegend": false,
         "type": "scatter3d",
         "x": [
          360.7263770979656
         ],
         "y": [
          918.7219825959645
         ],
         "z": [
          738.3875475024197
         ]
        },
        {
         "color": "rgba(0,255,0,0.2)",
         "name": "optimale Trajektorie",
         "opacity": 0.8,
         "type": "mesh3d",
         "x": [
          348.32127180875534,
          351.55027129653183,
          360.03843354653475,
          356.80943405875826
         ],
         "y": [
          922.0753710412343,
          918.693588655731,
          927.172508309515,
          930.5542906950184
         ],
         "z": [
          737.7205844044221,
          732.5112552532705,
          732.2683085054033,
          737.4776376565549
         ]
        },
        {
         "line": {
          "color": "rgba(0,255,0,0.2)",
          "width": 3
         },
         "mode": "lines",
         "showlegend": false,
         "type": "scatter3d",
         "x": [
          348.32127180875534,
          351.55027129653183
         ],
         "y": [
          922.0753710412343,
          918.693588655731
         ],
         "z": [
          737.7205844044221,
          732.5112552532705
         ]
        },
        {
         "line": {
          "color": "rgba(0,255,0,0.2)",
          "width": 3
         },
         "mode": "lines",
         "showlegend": false,
         "type": "scatter3d",
         "x": [
          351.55027129653183,
          360.03843354653475
         ],
         "y": [
          918.693588655731,
          927.172508309515
         ],
         "z": [
          732.5112552532705,
          732.2683085054033
         ]
        },
        {
         "line": {
          "color": "rgba(0,255,0,0.2)",
          "width": 3
         },
         "mode": "lines",
         "showlegend": false,
         "type": "scatter3d",
         "x": [
          360.03843354653475,
          356.80943405875826
         ],
         "y": [
          927.172508309515,
          930.5542906950184
         ],
         "z": [
          732.2683085054033,
          737.4776376565549
         ]
        },
        {
         "line": {
          "color": "rgba(0,255,0,0.2)",
          "width": 3
         },
         "mode": "lines",
         "showlegend": false,
         "type": "scatter3d",
         "x": [
          356.80943405875826,
          348.32127180875534
         ],
         "y": [
          930.5542906950184,
          922.0753710412343
         ],
         "z": [
          737.4776376565549,
          737.7205844044221
         ]
        },
        {
         "marker": {
          "color": "green",
          "size": 4
         },
         "mode": "markers",
         "name": "Mitte P11",
         "showlegend": false,
         "type": "scatter3d",
         "x": [
          354.17985267764504
         ],
         "y": [
          924.6239396753747
         ],
         "z": [
          734.9944464549126
         ]
        },
        {
         "color": "rgba(0,255,0,0.2)",
         "name": "optimale Trajektorie",
         "opacity": 0.8,
         "type": "mesh3d",
         "x": [
          344.45786774625606,
          347.19461703621727,
          355.65190977732243,
          352.9151604873612
         ],
         "y": [
          923.604273069617,
          920.6762989512706,
          929.1839226055426,
          932.111896723889
         ],
         "z": [
          735.351587915442,
          729.6124964467346,
          729.3050240926611,
          735.0441155613686
         ]
        },
        {
         "line": {
          "color": "rgba(0,255,0,0.2)",
          "width": 3
         },
         "mode": "lines",
         "showlegend": false,
         "type": "scatter3d",
         "x": [
          344.45786774625606,
          347.19461703621727
         ],
         "y": [
          923.604273069617,
          920.6762989512706
         ],
         "z": [
          735.351587915442,
          729.6124964467346
         ]
        },
        {
         "line": {
          "color": "rgba(0,255,0,0.2)",
          "width": 3
         },
         "mode": "lines",
         "showlegend": false,
         "type": "scatter3d",
         "x": [
          347.19461703621727,
          355.65190977732243
         ],
         "y": [
          920.6762989512706,
          929.1839226055426
         ],
         "z": [
          729.6124964467346,
          729.3050240926611
         ]
        },
        {
         "line": {
          "color": "rgba(0,255,0,0.2)",
          "width": 3
         },
         "mode": "lines",
         "showlegend": false,
         "type": "scatter3d",
         "x": [
          355.65190977732243,
          352.9151604873612
         ],
         "y": [
          929.1839226055426,
          932.111896723889
         ],
         "z": [
          729.3050240926611,
          735.0441155613686
         ]
        },
        {
         "line": {
          "color": "rgba(0,255,0,0.2)",
          "width": 3
         },
         "mode": "lines",
         "showlegend": false,
         "type": "scatter3d",
         "x": [
          352.9151604873612,
          344.45786774625606
         ],
         "y": [
          932.111896723889,
          923.604273069617
         ],
         "z": [
          735.0441155613686,
          735.351587915442
         ]
        },
        {
         "marker": {
          "color": "green",
          "size": 4
         },
         "mode": "markers",
         "name": "Mitte P11",
         "showlegend": false,
         "type": "scatter3d",
         "x": [
          350.0548887617892
         ],
         "y": [
          926.3940978375798
         ],
         "z": [
          732.3283060040516
         ]
        },
        {
         "color": "rgba(0,255,0,0.2)",
         "name": "optimale Trajektorie",
         "opacity": 0.8,
         "type": "mesh3d",
         "x": [
          341.4089876137504,
          344.154202138906,
          352.5711869141524,
          349.82597238899683
         ],
         "y": [
          926.002961472274,
          923.0704876185356,
          931.6167178110749,
          934.5491916648133
         ],
         "z": [
          732.6121926382228,
          726.8794451025279,
          726.5383926294411,
          732.271140165136
         ]
        },
        {
         "line": {
          "color": "rgba(0,255,0,0.2)",
          "width": 3
         },
         "mode": "lines",
         "showlegend": false,
         "type": "scatter3d",
         "x": [
          341.4089876137504,
          344.154202138906
         ],
         "y": [
          926.002961472274,
          923.0704876185356
         ],
         "z": [
          732.6121926382228,
          726.8794451025279
         ]
        },
        {
         "line": {
          "color": "rgba(0,255,0,0.2)",
          "width": 3
         },
         "mode": "lines",
         "showlegend": false,
         "type": "scatter3d",
         "x": [
          344.154202138906,
          352.5711869141524
         ],
         "y": [
          923.0704876185356,
          931.6167178110749
         ],
         "z": [
          726.8794451025279,
          726.5383926294411
         ]
        },
        {
         "line": {
          "color": "rgba(0,255,0,0.2)",
          "width": 3
         },
         "mode": "lines",
         "showlegend": false,
         "type": "scatter3d",
         "x": [
          352.5711869141524,
          349.82597238899683
         ],
         "y": [
          931.6167178110749,
          934.5491916648133
         ],
         "z": [
          726.5383926294411,
          732.271140165136
         ]
        },
        {
         "line": {
          "color": "rgba(0,255,0,0.2)",
          "width": 3
         },
         "mode": "lines",
         "showlegend": false,
         "type": "scatter3d",
         "x": [
          349.82597238899683,
          341.4089876137504
         ],
         "y": [
          934.5491916648133,
          926.002961472274
         ],
         "z": [
          732.271140165136,
          732.6121926382228
         ]
        },
        {
         "marker": {
          "color": "green",
          "size": 4
         },
         "mode": "markers",
         "name": "Mitte P11",
         "showlegend": false,
         "type": "scatter3d",
         "x": [
          346.9900872639514
         ],
         "y": [
          928.8098396416744
         ],
         "z": [
          729.575292633832
         ]
        },
        {
         "color": "rgba(0,255,0,0.2)",
         "name": "optimale Trajektorie",
         "opacity": 0.8,
         "type": "mesh3d",
         "x": [
          341.23017817051556,
          341.5601028893483,
          349.98723222577513,
          349.6573075069424
         ],
         "y": [
          925.7492919965342,
          925.1119763891603,
          933.6464759807324,
          934.2837915881063
         ],
         "z": [
          732.9613709286734,
          725.9982553547007,
          725.6164073894183,
          732.579522963391
         ]
        },
        {
         "line": {
          "color": "rgba(0,255,0,0.2)",
          "width": 3
         },
         "mode": "lines",
         "showlegend": false,
         "type": "scatter3d",
         "x": [
          341.23017817051556,
          341.5601028893483
         ],
         "y": [
          925.7492919965342,
          925.1119763891603
         ],
         "z": [
          732.9613709286734,
          725.9982553547007
         ]
        },
        {
         "line": {
          "color": "rgba(0,255,0,0.2)",
          "width": 3
         },
         "mode": "lines",
         "showlegend": false,
         "type": "scatter3d",
         "x": [
          341.5601028893483,
          349.98723222577513
         ],
         "y": [
          925.1119763891603,
          933.6464759807324
         ],
         "z": [
          725.9982553547007,
          725.6164073894183
         ]
        },
        {
         "line": {
          "color": "rgba(0,255,0,0.2)",
          "width": 3
         },
         "mode": "lines",
         "showlegend": false,
         "type": "scatter3d",
         "x": [
          349.98723222577513,
          349.6573075069424
         ],
         "y": [
          933.6464759807324,
          934.2837915881063
         ],
         "z": [
          725.6164073894183,
          732.579522963391
         ]
        },
        {
         "line": {
          "color": "rgba(0,255,0,0.2)",
          "width": 3
         },
         "mode": "lines",
         "showlegend": false,
         "type": "scatter3d",
         "x": [
          349.6573075069424,
          341.23017817051556
         ],
         "y": [
          934.2837915881063,
          925.7492919965342
         ],
         "z": [
          732.579522963391,
          732.9613709286734
         ]
        },
        {
         "marker": {
          "color": "green",
          "size": 4
         },
         "mode": "markers",
         "name": "Mitte P11",
         "showlegend": false,
         "type": "scatter3d",
         "x": [
          345.60870519814534
         ],
         "y": [
          929.6978839886333
         ],
         "z": [
          729.2888891590459
         ]
        },
        {
         "line": {
          "color": "green",
          "width": 2
         },
         "mode": "lines",
         "name": "Optimale Hakenlinie",
         "type": "scatter3d",
         "x": {
          "bdata": "NoWXPZ+LdkBWiTOt4CJ2QNfMCdPg4HVAuC2+ZdevdUAIb6lBvZl1QA==",
          "dtype": "f8"
         },
         "y": {
          "bdata": "l6/Pnsa1jEBKoxXU/eSMQKNexBwn84xA+L80jXoGjUCoXDNElQ2NQA==",
          "dtype": "f8"
         },
         "z": {
          "bdata": "UESBshkTh0DIy1eg9PeGQNvz5V6g4oZAgT8GM5rMhkArkh6lT8qGQA==",
          "dtype": "f8"
         }
        },
        {
         "line": {
          "color": "gray",
          "dash": "dash"
         },
         "mode": "lines",
         "name": "Direkte Gerade Spitze -> Senke",
         "type": "scatter3d",
         "x": [
          352.79885981866585,
          343.8687516768666
         ],
         "y": [
          923.8833441621676,
          928.9599347828362
         ],
         "z": [
          734.8073932893528,
          730.7928638091671
         ]
        },
        {
         "marker": {
          "color": "magenta",
          "size": 8
         },
         "mode": "markers",
         "name": "Spitze",
         "type": "scatter3d",
         "x": [
          352.79885981866585
         ],
         "y": [
          923.8833441621676
         ],
         "z": [
          734.8073932893528
         ]
        },
        {
         "marker": {
          "color": "magenta",
          "size": 8
         },
         "mode": "markers",
         "name": "Senke",
         "type": "scatter3d",
         "x": [
          343.8687516768666
         ],
         "y": [
          928.9599347828362
         ],
         "z": [
          730.7928638091671
         ]
        },
        {
         "mode": "text",
         "showlegend": false,
         "text": [
          "Spitze"
         ],
         "textfont": {
          "size": 10
         },
         "textposition": "top center",
         "type": "scatter3d",
         "x": [
          352.79885981866585
         ],
         "y": [
          923.8833441621676
         ],
         "z": [
          734.8073932893528
         ]
        },
        {
         "mode": "text",
         "showlegend": false,
         "text": [
          "Senke"
         ],
         "textfont": {
          "size": 10
         },
         "textposition": "top center",
         "type": "scatter3d",
         "x": [
          343.8687516768666
         ],
         "y": [
          928.9599347828362
         ],
         "z": [
          730.7928638091671
         ]
        }
       ],
       "layout": {
        "legend": {
         "title": {
          "text": "Legende"
         }
        },
        "scene": {
         "aspectmode": "cube",
         "xaxis": {
          "title": {
           "text": "X"
          }
         },
         "yaxis": {
          "title": {
           "text": "Y"
          }
         },
         "zaxis": {
          "title": {
           "text": "Z"
          }
         }
        },
        "template": {
         "data": {
          "bar": [
           {
            "error_x": {
             "color": "#2a3f5f"
            },
            "error_y": {
             "color": "#2a3f5f"
            },
            "marker": {
             "line": {
              "color": "#E5ECF6",
              "width": 0.5
             },
             "pattern": {
              "fillmode": "overlay",
              "size": 10,
              "solidity": 0.2
             }
            },
            "type": "bar"
           }
          ],
          "barpolar": [
           {
            "marker": {
             "line": {
              "color": "#E5ECF6",
              "width": 0.5
             },
             "pattern": {
              "fillmode": "overlay",
              "size": 10,
              "solidity": 0.2
             }
            },
            "type": "barpolar"
           }
          ],
          "carpet": [
           {
            "aaxis": {
             "endlinecolor": "#2a3f5f",
             "gridcolor": "white",
             "linecolor": "white",
             "minorgridcolor": "white",
             "startlinecolor": "#2a3f5f"
            },
            "baxis": {
             "endlinecolor": "#2a3f5f",
             "gridcolor": "white",
             "linecolor": "white",
             "minorgridcolor": "white",
             "startlinecolor": "#2a3f5f"
            },
            "type": "carpet"
           }
          ],
          "choropleth": [
           {
            "colorbar": {
             "outlinewidth": 0,
             "ticks": ""
            },
            "type": "choropleth"
           }
          ],
          "contour": [
           {
            "colorbar": {
             "outlinewidth": 0,
             "ticks": ""
            },
            "colorscale": [
             [
              0,
              "#0d0887"
             ],
             [
              0.1111111111111111,
              "#46039f"
             ],
             [
              0.2222222222222222,
              "#7201a8"
             ],
             [
              0.3333333333333333,
              "#9c179e"
             ],
             [
              0.4444444444444444,
              "#bd3786"
             ],
             [
              0.5555555555555556,
              "#d8576b"
             ],
             [
              0.6666666666666666,
              "#ed7953"
             ],
             [
              0.7777777777777778,
              "#fb9f3a"
             ],
             [
              0.8888888888888888,
              "#fdca26"
             ],
             [
              1,
              "#f0f921"
             ]
            ],
            "type": "contour"
           }
          ],
          "contourcarpet": [
           {
            "colorbar": {
             "outlinewidth": 0,
             "ticks": ""
            },
            "type": "contourcarpet"
           }
          ],
          "heatmap": [
           {
            "colorbar": {
             "outlinewidth": 0,
             "ticks": ""
            },
            "colorscale": [
             [
              0,
              "#0d0887"
             ],
             [
              0.1111111111111111,
              "#46039f"
             ],
             [
              0.2222222222222222,
              "#7201a8"
             ],
             [
              0.3333333333333333,
              "#9c179e"
             ],
             [
              0.4444444444444444,
              "#bd3786"
             ],
             [
              0.5555555555555556,
              "#d8576b"
             ],
             [
              0.6666666666666666,
              "#ed7953"
             ],
             [
              0.7777777777777778,
              "#fb9f3a"
             ],
             [
              0.8888888888888888,
              "#fdca26"
             ],
             [
              1,
              "#f0f921"
             ]
            ],
            "type": "heatmap"
           }
          ],
          "histogram": [
           {
            "marker": {
             "pattern": {
              "fillmode": "overlay",
              "size": 10,
              "solidity": 0.2
             }
            },
            "type": "histogram"
           }
          ],
          "histogram2d": [
           {
            "colorbar": {
             "outlinewidth": 0,
             "ticks": ""
            },
            "colorscale": [
             [
              0,
              "#0d0887"
             ],
             [
              0.1111111111111111,
              "#46039f"
             ],
             [
              0.2222222222222222,
              "#7201a8"
             ],
             [
              0.3333333333333333,
              "#9c179e"
             ],
             [
              0.4444444444444444,
              "#bd3786"
             ],
             [
              0.5555555555555556,
              "#d8576b"
             ],
             [
              0.6666666666666666,
              "#ed7953"
             ],
             [
              0.7777777777777778,
              "#fb9f3a"
             ],
             [
              0.8888888888888888,
              "#fdca26"
             ],
             [
              1,
              "#f0f921"
             ]
            ],
            "type": "histogram2d"
           }
          ],
          "histogram2dcontour": [
           {
            "colorbar": {
             "outlinewidth": 0,
             "ticks": ""
            },
            "colorscale": [
             [
              0,
              "#0d0887"
             ],
             [
              0.1111111111111111,
              "#46039f"
             ],
             [
              0.2222222222222222,
              "#7201a8"
             ],
             [
              0.3333333333333333,
              "#9c179e"
             ],
             [
              0.4444444444444444,
              "#bd3786"
             ],
             [
              0.5555555555555556,
              "#d8576b"
             ],
             [
              0.6666666666666666,
              "#ed7953"
             ],
             [
              0.7777777777777778,
              "#fb9f3a"
             ],
             [
              0.8888888888888888,
              "#fdca26"
             ],
             [
              1,
              "#f0f921"
             ]
            ],
            "type": "histogram2dcontour"
           }
          ],
          "mesh3d": [
           {
            "colorbar": {
             "outlinewidth": 0,
             "ticks": ""
            },
            "type": "mesh3d"
           }
          ],
          "parcoords": [
           {
            "line": {
             "colorbar": {
              "outlinewidth": 0,
              "ticks": ""
             }
            },
            "type": "parcoords"
           }
          ],
          "pie": [
           {
            "automargin": true,
            "type": "pie"
           }
          ],
          "scatter": [
           {
            "fillpattern": {
             "fillmode": "overlay",
             "size": 10,
             "solidity": 0.2
            },
            "type": "scatter"
           }
          ],
          "scatter3d": [
           {
            "line": {
             "colorbar": {
              "outlinewidth": 0,
              "ticks": ""
             }
            },
            "marker": {
             "colorbar": {
              "outlinewidth": 0,
              "ticks": ""
             }
            },
            "type": "scatter3d"
           }
          ],
          "scattercarpet": [
           {
            "marker": {
             "colorbar": {
              "outlinewidth": 0,
              "ticks": ""
             }
            },
            "type": "scattercarpet"
           }
          ],
          "scattergeo": [
           {
            "marker": {
             "colorbar": {
              "outlinewidth": 0,
              "ticks": ""
             }
            },
            "type": "scattergeo"
           }
          ],
          "scattergl": [
           {
            "marker": {
             "colorbar": {
              "outlinewidth": 0,
              "ticks": ""
             }
            },
            "type": "scattergl"
           }
          ],
          "scattermap": [
           {
            "marker": {
             "colorbar": {
              "outlinewidth": 0,
              "ticks": ""
             }
            },
            "type": "scattermap"
           }
          ],
          "scattermapbox": [
           {
            "marker": {
             "colorbar": {
              "outlinewidth": 0,
              "ticks": ""
             }
            },
            "type": "scattermapbox"
           }
          ],
          "scatterpolar": [
           {
            "marker": {
             "colorbar": {
              "outlinewidth": 0,
              "ticks": ""
             }
            },
            "type": "scatterpolar"
           }
          ],
          "scatterpolargl": [
           {
            "marker": {
             "colorbar": {
              "outlinewidth": 0,
              "ticks": ""
             }
            },
            "type": "scatterpolargl"
           }
          ],
          "scatterternary": [
           {
            "marker": {
             "colorbar": {
              "outlinewidth": 0,
              "ticks": ""
             }
            },
            "type": "scatterternary"
           }
          ],
          "surface": [
           {
            "colorbar": {
             "outlinewidth": 0,
             "ticks": ""
            },
            "colorscale": [
             [
              0,
              "#0d0887"
             ],
             [
              0.1111111111111111,
              "#46039f"
             ],
             [
              0.2222222222222222,
              "#7201a8"
             ],
             [
              0.3333333333333333,
              "#9c179e"
             ],
             [
              0.4444444444444444,
              "#bd3786"
             ],
             [
              0.5555555555555556,
              "#d8576b"
             ],
             [
              0.6666666666666666,
              "#ed7953"
             ],
             [
              0.7777777777777778,
              "#fb9f3a"
             ],
             [
              0.8888888888888888,
              "#fdca26"
             ],
             [
              1,
              "#f0f921"
             ]
            ],
            "type": "surface"
           }
          ],
          "table": [
           {
            "cells": {
             "fill": {
              "color": "#EBF0F8"
             },
             "line": {
              "color": "white"
             }
            },
            "header": {
             "fill": {
              "color": "#C8D4E3"
             },
             "line": {
              "color": "white"
             }
            },
            "type": "table"
           }
          ]
         },
         "layout": {
          "annotationdefaults": {
           "arrowcolor": "#2a3f5f",
           "arrowhead": 0,
           "arrowwidth": 1
          },
          "autotypenumbers": "strict",
          "coloraxis": {
           "colorbar": {
            "outlinewidth": 0,
            "ticks": ""
           }
          },
          "colorscale": {
           "diverging": [
            [
             0,
             "#8e0152"
            ],
            [
             0.1,
             "#c51b7d"
            ],
            [
             0.2,
             "#de77ae"
            ],
            [
             0.3,
             "#f1b6da"
            ],
            [
             0.4,
             "#fde0ef"
            ],
            [
             0.5,
             "#f7f7f7"
            ],
            [
             0.6,
             "#e6f5d0"
            ],
            [
             0.7,
             "#b8e186"
            ],
            [
             0.8,
             "#7fbc41"
            ],
            [
             0.9,
             "#4d9221"
            ],
            [
             1,
             "#276419"
            ]
           ],
           "sequential": [
            [
             0,
             "#0d0887"
            ],
            [
             0.1111111111111111,
             "#46039f"
            ],
            [
             0.2222222222222222,
             "#7201a8"
            ],
            [
             0.3333333333333333,
             "#9c179e"
            ],
            [
             0.4444444444444444,
             "#bd3786"
            ],
            [
             0.5555555555555556,
             "#d8576b"
            ],
            [
             0.6666666666666666,
             "#ed7953"
            ],
            [
             0.7777777777777778,
             "#fb9f3a"
            ],
            [
             0.8888888888888888,
             "#fdca26"
            ],
            [
             1,
             "#f0f921"
            ]
           ],
           "sequentialminus": [
            [
             0,
             "#0d0887"
            ],
            [
             0.1111111111111111,
             "#46039f"
            ],
            [
             0.2222222222222222,
             "#7201a8"
            ],
            [
             0.3333333333333333,
             "#9c179e"
            ],
            [
             0.4444444444444444,
             "#bd3786"
            ],
            [
             0.5555555555555556,
             "#d8576b"
            ],
            [
             0.6666666666666666,
             "#ed7953"
            ],
            [
             0.7777777777777778,
             "#fb9f3a"
            ],
            [
             0.8888888888888888,
             "#fdca26"
            ],
            [
             1,
             "#f0f921"
            ]
           ]
          },
          "colorway": [
           "#636efa",
           "#EF553B",
           "#00cc96",
           "#ab63fa",
           "#FFA15A",
           "#19d3f3",
           "#FF6692",
           "#B6E880",
           "#FF97FF",
           "#FECB52"
          ],
          "font": {
           "color": "#2a3f5f"
          },
          "geo": {
           "bgcolor": "white",
           "lakecolor": "white",
           "landcolor": "#E5ECF6",
           "showlakes": true,
           "showland": true,
           "subunitcolor": "white"
          },
          "hoverlabel": {
           "align": "left"
          },
          "hovermode": "closest",
          "mapbox": {
           "style": "light"
          },
          "paper_bgcolor": "white",
          "plot_bgcolor": "#E5ECF6",
          "polar": {
           "angularaxis": {
            "gridcolor": "white",
            "linecolor": "white",
            "ticks": ""
           },
           "bgcolor": "#E5ECF6",
           "radialaxis": {
            "gridcolor": "white",
            "linecolor": "white",
            "ticks": ""
           }
          },
          "scene": {
           "xaxis": {
            "backgroundcolor": "#E5ECF6",
            "gridcolor": "white",
            "gridwidth": 2,
            "linecolor": "white",
            "showbackground": true,
            "ticks": "",
            "zerolinecolor": "white"
           },
           "yaxis": {
            "backgroundcolor": "#E5ECF6",
            "gridcolor": "white",
            "gridwidth": 2,
            "linecolor": "white",
            "showbackground": true,
            "ticks": "",
            "zerolinecolor": "white"
           },
           "zaxis": {
            "backgroundcolor": "#E5ECF6",
            "gridcolor": "white",
            "gridwidth": 2,
            "linecolor": "white",
            "showbackground": true,
            "ticks": "",
            "zerolinecolor": "white"
           }
          },
          "shapedefaults": {
           "line": {
            "color": "#2a3f5f"
           }
          },
          "ternary": {
           "aaxis": {
            "gridcolor": "white",
            "linecolor": "white",
            "ticks": ""
           },
           "baxis": {
            "gridcolor": "white",
            "linecolor": "white",
            "ticks": ""
           },
           "bgcolor": "#E5ECF6",
           "caxis": {
            "gridcolor": "white",
            "linecolor": "white",
            "ticks": ""
           }
          },
          "title": {
           "x": 0.05
          },
          "xaxis": {
           "automargin": true,
           "gridcolor": "white",
           "linecolor": "white",
           "ticks": "",
           "title": {
            "standoff": 15
           },
           "zerolinecolor": "white",
           "zerolinewidth": 2
          },
          "yaxis": {
           "automargin": true,
           "gridcolor": "white",
           "linecolor": "white",
           "ticks": "",
           "title": {
            "standoff": 15
           },
           "zerolinecolor": "white",
           "zerolinewidth": 2
          }
         }
        },
        "title": {
         "text": "Haken 23, Trajektorien-Ansatz 1"
        }
       }
      }
     },
     "metadata": {},
     "output_type": "display_data"
    },
    {
     "name": "stdout",
     "output_type": "stream",
     "text": [
      "HTML-Datei '/home/mo/Thesis/Evaluation/Trajektorientests/traj2.html' erfolgreich erstellt!\n"
     ]
    },
    {
     "data": {
      "application/vnd.plotly.v1+json": {
       "config": {
        "plotlyServerURL": "https://plot.ly"
       },
       "data": [
        {
         "color": "rgba(31, 119, 180, 0.8)",
         "name": "P1",
         "opacity": 0.8,
         "type": "mesh3d",
         "x": [
          356.0725147055406,
          362.36845473884694,
          365.38023968185996,
          359.0842996485536
         ],
         "y": [
          913.8108386428452,
          913.812928945207,
          923.6331262663317,
          923.6310359639699
         ],
         "z": [
          736.8152144664907,
          733.7556173152882,
          739.959880045961,
          743.0194771971635
         ]
        },
        {
         "marker": {
          "color": "red",
          "size": 3
         },
         "mode": "markers+text",
         "showlegend": false,
         "text": "",
         "textfont": {
          "size": 12
         },
         "textposition": "top center",
         "type": "scatter3d",
         "x": [
          360.7263771937003
         ],
         "y": [
          918.7219824545884
         ],
         "z": [
          738.3875472562258
         ]
        },
        {
         "line": {
          "color": "rgba(31, 119, 180, 0.8)",
          "width": 4
         },
         "mode": "lines",
         "showlegend": false,
         "type": "scatter3d",
         "x": [
          356.0725147055406,
          362.36845473884694
         ],
         "y": [
          913.8108386428452,
          913.812928945207
         ],
         "z": [
          736.8152144664907,
          733.7556173152882
         ]
        },
        {
         "line": {
          "color": "rgba(31, 119, 180, 0.8)",
          "width": 4
         },
         "mode": "lines",
         "showlegend": false,
         "type": "scatter3d",
         "x": [
          362.36845473884694,
          365.38023968185996
         ],
         "y": [
          913.812928945207,
          923.6331262663317
         ],
         "z": [
          733.7556173152882,
          739.959880045961
         ]
        },
        {
         "line": {
          "color": "rgba(31, 119, 180, 0.8)",
          "width": 4
         },
         "mode": "lines",
         "showlegend": false,
         "type": "scatter3d",
         "x": [
          365.38023968185996,
          359.0842996485536
         ],
         "y": [
          923.6331262663317,
          923.6310359639699
         ],
         "z": [
          739.959880045961,
          743.0194771971635
         ]
        },
        {
         "line": {
          "color": "rgba(31, 119, 180, 0.8)",
          "width": 4
         },
         "mode": "lines",
         "showlegend": false,
         "type": "scatter3d",
         "x": [
          359.0842996485536,
          356.0725147055406
         ],
         "y": [
          923.6310359639699,
          913.8108386428452
         ],
         "z": [
          743.0194771971635,
          736.8152144664907
         ]
        },
        {
         "color": "rgba(174, 199, 232, 0.8)",
         "name": "P2",
         "opacity": 0.8,
         "type": "mesh3d",
         "x": [
          348.14499733050616,
          354.4409373638125,
          357.45272230682554,
          351.1567822735192
         ],
         "y": [
          918.9722003504244,
          918.9742906527862,
          928.7944879739109,
          928.7923976715491
         ],
         "z": [
          733.2350604996177,
          730.1754633484152,
          736.379726079088,
          739.4393232302905
         ]
        },
        {
         "marker": {
          "color": "red",
          "size": 3
         },
         "mode": "markers+text",
         "showlegend": false,
         "text": "",
         "textfont": {
          "size": 12
         },
         "textposition": "top center",
         "type": "scatter3d",
         "x": [
          352.79885981866585
         ],
         "y": [
          923.8833441621678
         ],
         "z": [
          734.8073932893528
         ]
        },
        {
         "line": {
          "color": "rgba(174, 199, 232, 0.8)",
          "width": 4
         },
         "mode": "lines",
         "showlegend": false,
         "type": "scatter3d",
         "x": [
          348.14499733050616,
          354.4409373638125
         ],
         "y": [
          918.9722003504244,
          918.9742906527862
         ],
         "z": [
          733.2350604996177,
          730.1754633484152
         ]
        },
        {
         "line": {
          "color": "rgba(174, 199, 232, 0.8)",
          "width": 4
         },
         "mode": "lines",
         "showlegend": false,
         "type": "scatter3d",
         "x": [
          354.4409373638125,
          357.45272230682554
         ],
         "y": [
          918.9742906527862,
          928.7944879739109
         ],
         "z": [
          730.1754633484152,
          736.379726079088
         ]
        },
        {
         "line": {
          "color": "rgba(174, 199, 232, 0.8)",
          "width": 4
         },
         "mode": "lines",
         "showlegend": false,
         "type": "scatter3d",
         "x": [
          357.45272230682554,
          351.1567822735192
         ],
         "y": [
          928.7944879739109,
          928.7923976715491
         ],
         "z": [
          736.379726079088,
          739.4393232302905
         ]
        },
        {
         "line": {
          "color": "rgba(174, 199, 232, 0.8)",
          "width": 4
         },
         "mode": "lines",
         "showlegend": false,
         "type": "scatter3d",
         "x": [
          351.1567822735192,
          348.14499733050616
         ],
         "y": [
          928.7923976715491,
          918.9722003504244
         ],
         "z": [
          739.4393232302905,
          733.2350604996177
         ]
        },
        {
         "color": "rgba(255, 187, 120, 0.8)",
         "name": "P3",
         "opacity": 0.8,
         "type": "mesh3d",
         "x": [
          347.55961829925945,
          353.8555583325658,
          356.86734327557883,
          350.5714032422725
         ],
         "y": [
          919.0319101793358,
          919.0340004816976,
          928.8541978028223,
          928.8521075004605
         ],
         "z": [
          732.5832552039708,
          729.5236580527683,
          735.727920783441,
          738.7875179346436
         ]
        },
        {
         "marker": {
          "color": "red",
          "size": 3
         },
         "mode": "markers+text",
         "showlegend": false,
         "text": "P2",
         "textfont": {
          "size": 12
         },
         "textposition": "top center",
         "type": "scatter3d",
         "x": [
          352.21348078741914
         ],
         "y": [
          923.9430539910791
         ],
         "z": [
          734.1555879937059
         ]
        },
        {
         "line": {
          "color": "rgba(255, 187, 120, 0.8)",
          "width": 4
         },
         "mode": "lines",
         "showlegend": false,
         "type": "scatter3d",
         "x": [
          347.55961829925945,
          353.8555583325658
         ],
         "y": [
          919.0319101793358,
          919.0340004816976
         ],
         "z": [
          732.5832552039708,
          729.5236580527683
         ]
        },
        {
         "line": {
          "color": "rgba(255, 187, 120, 0.8)",
          "width": 4
         },
         "mode": "lines",
         "showlegend": false,
         "type": "scatter3d",
         "x": [
          353.8555583325658,
          356.86734327557883
         ],
         "y": [
          919.0340004816976,
          928.8541978028223
         ],
         "z": [
          729.5236580527683,
          735.727920783441
         ]
        },
        {
         "line": {
          "color": "rgba(255, 187, 120, 0.8)",
          "width": 4
         },
         "mode": "lines",
         "showlegend": false,
         "type": "scatter3d",
         "x": [
          356.86734327557883,
          350.5714032422725
         ],
         "y": [
          928.8541978028223,
          928.8521075004605
         ],
         "z": [
          735.727920783441,
          738.7875179346436
         ]
        },
        {
         "line": {
          "color": "rgba(255, 187, 120, 0.8)",
          "width": 4
         },
         "mode": "lines",
         "showlegend": false,
         "type": "scatter3d",
         "x": [
          350.5714032422725,
          347.55961829925945
         ],
         "y": [
          928.8521075004605,
          919.0319101793358
         ],
         "z": [
          738.7875179346436,
          732.5832552039708
         ]
        },
        {
         "color": "rgba(152, 223, 138, 0.8)",
         "name": "P4",
         "opacity": 0.8,
         "type": "mesh3d",
         "x": [
          346.61995327171496,
          352.9158933050213,
          355.92767824803434,
          349.631738214728
         ],
         "y": [
          920.0824214429803,
          920.0845117453421,
          929.9047090664668,
          929.902618764105
         ],
         "z": [
          731.9545875815752,
          728.8949904303727,
          735.0992531610455,
          738.158850312248
         ]
        },
        {
         "marker": {
          "color": "red",
          "size": 3
         },
         "mode": "markers+text",
         "showlegend": false,
         "text": "P3",
         "textfont": {
          "size": 12
         },
         "textposition": "top center",
         "type": "scatter3d",
         "x": [
          351.27381575987465
         ],
         "y": [
          924.9935652547235
         ],
         "z": [
          733.5269203713103
         ]
        },
        {
         "line": {
          "color": "rgba(152, 223, 138, 0.8)",
          "width": 4
         },
         "mode": "lines",
         "showlegend": false,
         "type": "scatter3d",
         "x": [
          346.61995327171496,
          352.9158933050213
         ],
         "y": [
          920.0824214429803,
          920.0845117453421
         ],
         "z": [
          731.9545875815752,
          728.8949904303727
         ]
        },
        {
         "line": {
          "color": "rgba(152, 223, 138, 0.8)",
          "width": 4
         },
         "mode": "lines",
         "showlegend": false,
         "type": "scatter3d",
         "x": [
          352.9158933050213,
          355.92767824803434
         ],
         "y": [
          920.0845117453421,
          929.9047090664668
         ],
         "z": [
          728.8949904303727,
          735.0992531610455
         ]
        },
        {
         "line": {
          "color": "rgba(152, 223, 138, 0.8)",
          "width": 4
         },
         "mode": "lines",
         "showlegend": false,
         "type": "scatter3d",
         "x": [
          355.92767824803434,
          349.631738214728
         ],
         "y": [
          929.9047090664668,
          929.902618764105
         ],
         "z": [
          735.0992531610455,
          738.158850312248
         ]
        },
        {
         "line": {
          "color": "rgba(152, 223, 138, 0.8)",
          "width": 4
         },
         "mode": "lines",
         "showlegend": false,
         "type": "scatter3d",
         "x": [
          349.631738214728,
          346.61995327171496
         ],
         "y": [
          929.902618764105,
          920.0824214429803
         ],
         "z": [
          738.158850312248,
          731.9545875815752
         ]
        },
        {
         "color": "rgba(255, 152, 150, 0.8)",
         "name": "P5",
         "opacity": 0.8,
         "type": "mesh3d",
         "x": [
          345.67405132927775,
          351.9699913625841,
          354.9817763055971,
          348.68583627229077
         ],
         "y": [
          921.1620136993937,
          921.1641040017555,
          930.9843013228802,
          930.9822110205184
         ],
         "z": [
          731.3206527891949,
          728.2610556379924,
          734.4653183686652,
          737.5249155198677
         ]
        },
        {
         "marker": {
          "color": "red",
          "size": 3
         },
         "mode": "markers+text",
         "showlegend": false,
         "text": "P4",
         "textfont": {
          "size": 12
         },
         "textposition": "top center",
         "type": "scatter3d",
         "x": [
          350.32791381743743
         ],
         "y": [
          926.073157511137
         ],
         "z": [
          732.89298557893
         ]
        },
        {
         "line": {
          "color": "rgba(255, 152, 150, 0.8)",
          "width": 4
         },
         "mode": "lines",
         "showlegend": false,
         "type": "scatter3d",
         "x": [
          345.67405132927775,
          351.9699913625841
         ],
         "y": [
          921.1620136993937,
          921.1641040017555
         ],
         "z": [
          731.3206527891949,
          728.2610556379924
         ]
        },
        {
         "line": {
          "color": "rgba(255, 152, 150, 0.8)",
          "width": 4
         },
         "mode": "lines",
         "showlegend": false,
         "type": "scatter3d",
         "x": [
          351.9699913625841,
          354.9817763055971
         ],
         "y": [
          921.1641040017555,
          930.9843013228802
         ],
         "z": [
          728.2610556379924,
          734.4653183686652
         ]
        },
        {
         "line": {
          "color": "rgba(255, 152, 150, 0.8)",
          "width": 4
         },
         "mode": "lines",
         "showlegend": false,
         "type": "scatter3d",
         "x": [
          354.9817763055971,
          348.68583627229077
         ],
         "y": [
          930.9843013228802,
          930.9822110205184
         ],
         "z": [
          734.4653183686652,
          737.5249155198677
         ]
        },
        {
         "line": {
          "color": "rgba(255, 152, 150, 0.8)",
          "width": 4
         },
         "mode": "lines",
         "showlegend": false,
         "type": "scatter3d",
         "x": [
          348.68583627229077,
          345.67405132927775
         ],
         "y": [
          930.9822110205184,
          921.1620136993937
         ],
         "z": [
          737.5249155198677,
          731.3206527891949
         ]
        },
        {
         "color": "rgba(197, 176, 213, 0.8)",
         "name": "P6",
         "opacity": 0.8,
         "type": "mesh3d",
         "x": [
          344.64906413790914,
          350.9450041712155,
          353.9567891142285,
          347.66084908092216
         ],
         "y": [
          921.2760512121673,
          921.2781415145291,
          931.0983388356539,
          931.096248533292
         ],
         "z": [
          730.6715715829567,
          727.6119744317542,
          733.816237162427,
          736.8758343136295
         ]
        },
        {
         "marker": {
          "color": "red",
          "size": 3
         },
         "mode": "markers+text",
         "showlegend": false,
         "text": "P5",
         "textfont": {
          "size": 12
         },
         "textposition": "top center",
         "type": "scatter3d",
         "x": [
          349.3029266260688
         ],
         "y": [
          926.1871950239106
         ],
         "z": [
          732.2439043726919
         ]
        },
        {
         "line": {
          "color": "rgba(197, 176, 213, 0.8)",
          "width": 4
         },
         "mode": "lines",
         "showlegend": false,
         "type": "scatter3d",
         "x": [
          344.64906413790914,
          350.9450041712155
         ],
         "y": [
          921.2760512121673,
          921.2781415145291
         ],
         "z": [
          730.6715715829567,
          727.6119744317542
         ]
        },
        {
         "line": {
          "color": "rgba(197, 176, 213, 0.8)",
          "width": 4
         },
         "mode": "lines",
         "showlegend": false,
         "type": "scatter3d",
         "x": [
          350.9450041712155,
          353.9567891142285
         ],
         "y": [
          921.2781415145291,
          931.0983388356539
         ],
         "z": [
          727.6119744317542,
          733.816237162427
         ]
        },
        {
         "line": {
          "color": "rgba(197, 176, 213, 0.8)",
          "width": 4
         },
         "mode": "lines",
         "showlegend": false,
         "type": "scatter3d",
         "x": [
          353.9567891142285,
          347.66084908092216
         ],
         "y": [
          931.0983388356539,
          931.096248533292
         ],
         "z": [
          733.816237162427,
          736.8758343136295
         ]
        },
        {
         "line": {
          "color": "rgba(197, 176, 213, 0.8)",
          "width": 4
         },
         "mode": "lines",
         "showlegend": false,
         "type": "scatter3d",
         "x": [
          347.66084908092216,
          344.64906413790914
         ],
         "y": [
          931.096248533292,
          921.2760512121673
         ],
         "z": [
          736.8758343136295,
          730.6715715829567
         ]
        },
        {
         "color": "rgba(140, 86, 75, 0.8)",
         "name": "P7",
         "opacity": 0.8,
         "type": "mesh3d",
         "x": [
          343.69288719305314,
          349.9888272263595,
          353.0006121693725,
          346.70467213606616
         ],
         "y": [
          922.3664347295829,
          922.3685250319447,
          932.1887223530695,
          932.1866320507077
         ],
         "z": [
          730.1043631594603,
          727.0447660082577,
          733.2490287389305,
          736.308625890133
         ]
        },
        {
         "marker": {
          "color": "red",
          "size": 3
         },
         "mode": "markers+text",
         "showlegend": false,
         "text": "P6",
         "textfont": {
          "size": 12
         },
         "textposition": "top center",
         "type": "scatter3d",
         "x": [
          348.3467496812128
         ],
         "y": [
          927.2775785413262
         ],
         "z": [
          731.6766959491954
         ]
        },
        {
         "line": {
          "color": "rgba(140, 86, 75, 0.8)",
          "width": 4
         },
         "mode": "lines",
         "showlegend": false,
         "type": "scatter3d",
         "x": [
          343.69288719305314,
          349.9888272263595
         ],
         "y": [
          922.3664347295829,
          922.3685250319447
         ],
         "z": [
          730.1043631594603,
          727.0447660082577
         ]
        },
        {
         "line": {
          "color": "rgba(140, 86, 75, 0.8)",
          "width": 4
         },
         "mode": "lines",
         "showlegend": false,
         "type": "scatter3d",
         "x": [
          349.9888272263595,
          353.0006121693725
         ],
         "y": [
          922.3685250319447,
          932.1887223530695
         ],
         "z": [
          727.0447660082577,
          733.2490287389305
         ]
        },
        {
         "line": {
          "color": "rgba(140, 86, 75, 0.8)",
          "width": 4
         },
         "mode": "lines",
         "showlegend": false,
         "type": "scatter3d",
         "x": [
          353.0006121693725,
          346.70467213606616
         ],
         "y": [
          932.1887223530695,
          932.1866320507077
         ],
         "z": [
          733.2490287389305,
          736.308625890133
         ]
        },
        {
         "line": {
          "color": "rgba(140, 86, 75, 0.8)",
          "width": 4
         },
         "mode": "lines",
         "showlegend": false,
         "type": "scatter3d",
         "x": [
          346.70467213606616,
          343.69288719305314
         ],
         "y": [
          932.1866320507077,
          922.3664347295829
         ],
         "z": [
          736.308625890133,
          730.1043631594603
         ]
        },
        {
         "color": "rgba(227, 119, 194, 0.8)",
         "name": "P8",
         "opacity": 0.8,
         "type": "mesh3d",
         "x": [
          342.74554575381296,
          349.0414857871193,
          352.05327073013234,
          345.757330696826
         ],
         "y": [
          921.5192210534025,
          921.5213113557643,
          931.341508676889,
          931.3394183745272
         ],
         "z": [
          729.5171364262046,
          726.4575392750021,
          732.6618020056749,
          735.7213991568774
         ]
        },
        {
         "marker": {
          "color": "red",
          "size": 3
         },
         "mode": "markers+text",
         "showlegend": false,
         "text": "P7",
         "textfont": {
          "size": 12
         },
         "textposition": "top center",
         "type": "scatter3d",
         "x": [
          347.39940824197265
         ],
         "y": [
          926.4303648651457
         ],
         "z": [
          731.0894692159397
         ]
        },
        {
         "line": {
          "color": "rgba(227, 119, 194, 0.8)",
          "width": 4
         },
         "mode": "lines",
         "showlegend": false,
         "type": "scatter3d",
         "x": [
          342.74554575381296,
          349.0414857871193
         ],
         "y": [
          921.5192210534025,
          921.5213113557643
         ],
         "z": [
          729.5171364262046,
          726.4575392750021
         ]
        },
        {
         "line": {
          "color": "rgba(227, 119, 194, 0.8)",
          "width": 4
         },
         "mode": "lines",
         "showlegend": false,
         "type": "scatter3d",
         "x": [
          349.0414857871193,
          352.05327073013234
         ],
         "y": [
          921.5213113557643,
          931.341508676889
         ],
         "z": [
          726.4575392750021,
          732.6618020056749
         ]
        },
        {
         "line": {
          "color": "rgba(227, 119, 194, 0.8)",
          "width": 4
         },
         "mode": "lines",
         "showlegend": false,
         "type": "scatter3d",
         "x": [
          352.05327073013234,
          345.757330696826
         ],
         "y": [
          931.341508676889,
          931.3394183745272
         ],
         "z": [
          732.6618020056749,
          735.7213991568774
         ]
        },
        {
         "line": {
          "color": "rgba(227, 119, 194, 0.8)",
          "width": 4
         },
         "mode": "lines",
         "showlegend": false,
         "type": "scatter3d",
         "x": [
          345.757330696826,
          342.74554575381296
         ],
         "y": [
          931.3394183745272,
          921.5192210534025
         ],
         "z": [
          735.7213991568774,
          729.5171364262046
         ]
        },
        {
         "color": "rgba(127, 127, 127, 0.8)",
         "name": "P9",
         "opacity": 0.8,
         "type": "mesh3d",
         "x": [
          341.6401959395927,
          347.936135972899,
          350.94792091591205,
          344.6519808826057
         ],
         "y": [
          922.6772461475186,
          922.6793364498805,
          932.4995337710052,
          932.4974434686434
         ],
         "z": [
          729.1706272700601,
          726.1110301188576,
          732.3152928495304,
          735.3748900007329
         ]
        },
        {
         "marker": {
          "color": "red",
          "size": 3
         },
         "mode": "markers+text",
         "showlegend": false,
         "text": "P8",
         "textfont": {
          "size": 12
         },
         "textposition": "top center",
         "type": "scatter3d",
         "x": [
          346.29405842775236
         ],
         "y": [
          927.5883899592619
         ],
         "z": [
          730.7429600597952
         ]
        },
        {
         "line": {
          "color": "rgba(127, 127, 127, 0.8)",
          "width": 4
         },
         "mode": "lines",
         "showlegend": false,
         "type": "scatter3d",
         "x": [
          341.6401959395927,
          347.936135972899
         ],
         "y": [
          922.6772461475186,
          922.6793364498805
         ],
         "z": [
          729.1706272700601,
          726.1110301188576
         ]
        },
        {
         "line": {
          "color": "rgba(127, 127, 127, 0.8)",
          "width": 4
         },
         "mode": "lines",
         "showlegend": false,
         "type": "scatter3d",
         "x": [
          347.936135972899,
          350.94792091591205
         ],
         "y": [
          922.6793364498805,
          932.4995337710052
         ],
         "z": [
          726.1110301188576,
          732.3152928495304
         ]
        },
        {
         "line": {
          "color": "rgba(127, 127, 127, 0.8)",
          "width": 4
         },
         "mode": "lines",
         "showlegend": false,
         "type": "scatter3d",
         "x": [
          350.94792091591205,
          344.6519808826057
         ],
         "y": [
          932.4995337710052,
          932.4974434686434
         ],
         "z": [
          732.3152928495304,
          735.3748900007329
         ]
        },
        {
         "line": {
          "color": "rgba(127, 127, 127, 0.8)",
          "width": 4
         },
         "mode": "lines",
         "showlegend": false,
         "type": "scatter3d",
         "x": [
          344.6519808826057,
          341.6401959395927
         ],
         "y": [
          932.4974434686434,
          922.6772461475186
         ],
         "z": [
          735.3748900007329,
          729.1706272700601
         ]
        },
        {
         "color": "rgba(188, 189, 34, 0.8)",
         "name": "P10",
         "opacity": 0.8,
         "type": "mesh3d",
         "x": [
          340.41827067887175,
          346.7142107121781,
          349.7259956551911,
          343.4300556218848
         ],
         "y": [
          921.9029422783988,
          921.9050325807606,
          931.7252299018853,
          931.7231395995235
         ],
         "z": [
          729.1865290891604,
          726.1269319379579,
          732.3311946686307,
          735.3907918198332
         ]
        },
        {
         "marker": {
          "color": "red",
          "size": 3
         },
         "mode": "markers+text",
         "showlegend": false,
         "text": "P9",
         "textfont": {
          "size": 12
         },
         "textposition": "top center",
         "type": "scatter3d",
         "x": [
          345.07213316703144
         ],
         "y": [
          926.814086090142
         ],
         "z": [
          730.7588618788956
         ]
        },
        {
         "line": {
          "color": "rgba(188, 189, 34, 0.8)",
          "width": 4
         },
         "mode": "lines",
         "showlegend": false,
         "type": "scatter3d",
         "x": [
          340.41827067887175,
          346.7142107121781
         ],
         "y": [
          921.9029422783988,
          921.9050325807606
         ],
         "z": [
          729.1865290891604,
          726.1269319379579
         ]
        },
        {
         "line": {
          "color": "rgba(188, 189, 34, 0.8)",
          "width": 4
         },
         "mode": "lines",
         "showlegend": false,
         "type": "scatter3d",
         "x": [
          346.7142107121781,
          349.7259956551911
         ],
         "y": [
          921.9050325807606,
          931.7252299018853
         ],
         "z": [
          726.1269319379579,
          732.3311946686307
         ]
        },
        {
         "line": {
          "color": "rgba(188, 189, 34, 0.8)",
          "width": 4
         },
         "mode": "lines",
         "showlegend": false,
         "type": "scatter3d",
         "x": [
          349.7259956551911,
          343.4300556218848
         ],
         "y": [
          931.7252299018853,
          931.7231395995235
         ],
         "z": [
          732.3311946686307,
          735.3907918198332
         ]
        },
        {
         "line": {
          "color": "rgba(188, 189, 34, 0.8)",
          "width": 4
         },
         "mode": "lines",
         "showlegend": false,
         "type": "scatter3d",
         "x": [
          343.4300556218848,
          340.41827067887175
         ],
         "y": [
          931.7231395995235,
          921.9029422783988
         ],
         "z": [
          735.3907918198332,
          729.1865290891604
         ]
        },
        {
         "color": "rgba(23, 190, 207, 0.8)",
         "name": "P11",
         "opacity": 0.8,
         "type": "mesh3d",
         "x": [
          339.21488918870693,
          345.5108292220133,
          348.5226141650263,
          342.22667413171996
         ],
         "y": [
          924.0487909710929,
          924.0508812734547,
          933.8710785945794,
          933.8689882922176
         ],
         "z": [
          729.220531019432,
          726.1609338682294,
          732.3651965989022,
          735.4247937501048
         ]
        },
        {
         "marker": {
          "color": "red",
          "size": 3
         },
         "mode": "markers+text",
         "showlegend": false,
         "text": "",
         "textfont": {
          "size": 12
         },
         "textposition": "top center",
         "type": "scatter3d",
         "x": [
          343.8687516768666
         ],
         "y": [
          928.9599347828362
         ],
         "z": [
          730.7928638091671
         ]
        },
        {
         "line": {
          "color": "rgba(23, 190, 207, 0.8)",
          "width": 4
         },
         "mode": "lines",
         "showlegend": false,
         "type": "scatter3d",
         "x": [
          339.21488918870693,
          345.5108292220133
         ],
         "y": [
          924.0487909710929,
          924.0508812734547
         ],
         "z": [
          729.220531019432,
          726.1609338682294
         ]
        },
        {
         "line": {
          "color": "rgba(23, 190, 207, 0.8)",
          "width": 4
         },
         "mode": "lines",
         "showlegend": false,
         "type": "scatter3d",
         "x": [
          345.5108292220133,
          348.5226141650263
         ],
         "y": [
          924.0508812734547,
          933.8710785945794
         ],
         "z": [
          726.1609338682294,
          732.3651965989022
         ]
        },
        {
         "line": {
          "color": "rgba(23, 190, 207, 0.8)",
          "width": 4
         },
         "mode": "lines",
         "showlegend": false,
         "type": "scatter3d",
         "x": [
          348.5226141650263,
          342.22667413171996
         ],
         "y": [
          933.8710785945794,
          933.8689882922176
         ],
         "z": [
          732.3651965989022,
          735.4247937501048
         ]
        },
        {
         "line": {
          "color": "rgba(23, 190, 207, 0.8)",
          "width": 4
         },
         "mode": "lines",
         "showlegend": false,
         "type": "scatter3d",
         "x": [
          342.22667413171996,
          339.21488918870693
         ],
         "y": [
          933.8689882922176,
          924.0487909710929
         ],
         "z": [
          735.4247937501048,
          729.220531019432
         ]
        },
        {
         "line": {
          "color": "black",
          "width": 2
         },
         "mode": "lines",
         "name": "Berechnete Hakenlinie",
         "type": "scatter3d",
         "x": {
          "bdata": "DDixPZ+LdkAitDshyAx2QKKE1GpqA3ZAqFyijGH0dUDOHI8iP+V1QNoAl8nY1HVAUstkSYzFdUBokOX5Y7Z1QPQknHa0pHVAtpUbdSeRdUDMhyho5n11QA==",
          "dtype": "f8"
         },
         "y": {
          "bdata": "8rW8nsa1jED8fL4WEd+MQGAQ5F+L34xA1htX0vLnjEBS7prTlfCMQFzNGmB/8YxAiigZezj6jEAwaSJjcfOMQJmCywW1/IxAT2qRP4P2jECYlEnyrQeNQA==",
          "dtype": "f8"
         },
         "z": {
          "bdata": "KDlgshkTh0A+5pyKdfaGQPAE66Q+8YZA/hIHIjfshkBvip/VJOeGQIHAIoTz4YZACtmQ32ndhkCu46I7t9iGQHA4C5Xx1YZATUAtJhLWhkBwFPvIV9aGQA==",
          "dtype": "f8"
         }
        },
        {
         "mode": "text",
         "showlegend": false,
         "text": [
          "Pre-Position"
         ],
         "textfont": {
          "size": 10
         },
         "textposition": "top center",
         "type": "scatter3d",
         "x": [
          360.7263771937003
         ],
         "y": [
          918.7219824545884
         ],
         "z": [
          738.3875472562258
         ]
        },
        {
         "mode": "text",
         "showlegend": false,
         "text": [
          "Loslassen"
         ],
         "textfont": {
          "size": 10
         },
         "textposition": "top center",
         "type": "scatter3d",
         "x": [
          343.8687516768666
         ],
         "y": [
          928.9599347828362
         ],
         "z": [
          730.7928638091671
         ]
        },
        {
         "color": "rgba(0,255,0,0.2)",
         "name": "optimale Trajektorie",
         "opacity": 0.8,
         "type": "mesh3d",
         "x": [
          354.7552535323742,
          358.18077030289726,
          366.69750066355704,
          363.27198389303396
         ],
         "y": [
          916.2236452181562,
          912.766610553211,
          921.2203199737728,
          924.677354638718
         ],
         "z": [
          740.9082604394843,
          735.8768842678755,
          735.8668345653551,
          740.8982107369638
         ]
        },
        {
         "line": {
          "color": "rgba(0,255,0,0.2)",
          "width": 3
         },
         "mode": "lines",
         "showlegend": false,
         "type": "scatter3d",
         "x": [
          354.7552535323742,
          358.18077030289726
         ],
         "y": [
          916.2236452181562,
          912.766610553211
         ],
         "z": [
          740.9082604394843,
          735.8768842678755
         ]
        },
        {
         "line": {
          "color": "rgba(0,255,0,0.2)",
          "width": 3
         },
         "mode": "lines",
         "showlegend": false,
         "type": "scatter3d",
         "x": [
          358.18077030289726,
          366.69750066355704
         ],
         "y": [
          912.766610553211,
          921.2203199737728
         ],
         "z": [
          735.8768842678755,
          735.8668345653551
         ]
        },
        {
         "line": {
          "color": "rgba(0,255,0,0.2)",
          "width": 3
         },
         "mode": "lines",
         "showlegend": false,
         "type": "scatter3d",
         "x": [
          366.69750066355704,
          363.27198389303396
         ],
         "y": [
          921.2203199737728,
          924.677354638718
         ],
         "z": [
          735.8668345653551,
          740.8982107369638
         ]
        },
        {
         "line": {
          "color": "rgba(0,255,0,0.2)",
          "width": 3
         },
         "mode": "lines",
         "showlegend": false,
         "type": "scatter3d",
         "x": [
          363.27198389303396,
          354.7552535323742
         ],
         "y": [
          924.677354638718,
          916.2236452181562
         ],
         "z": [
          740.8982107369638,
          740.9082604394843
         ]
        },
        {
         "marker": {
          "color": "green",
          "size": 4
         },
         "mode": "markers",
         "name": "Mitte P11",
         "showlegend": false,
         "type": "scatter3d",
         "x": [
          360.7263770979656
         ],
         "y": [
          918.7219825959645
         ],
         "z": [
          738.3875475024197
         ]
        },
        {
         "color": "rgba(0,255,0,0.2)",
         "name": "optimale Trajektorie",
         "opacity": 0.8,
         "type": "mesh3d",
         "x": [
          348.32127180875534,
          351.55027129653183,
          360.03843354653475,
          356.80943405875826
         ],
         "y": [
          922.0753710412343,
          918.693588655731,
          927.172508309515,
          930.5542906950184
         ],
         "z": [
          737.7205844044221,
          732.5112552532705,
          732.2683085054033,
          737.4776376565549
         ]
        },
        {
         "line": {
          "color": "rgba(0,255,0,0.2)",
          "width": 3
         },
         "mode": "lines",
         "showlegend": false,
         "type": "scatter3d",
         "x": [
          348.32127180875534,
          351.55027129653183
         ],
         "y": [
          922.0753710412343,
          918.693588655731
         ],
         "z": [
          737.7205844044221,
          732.5112552532705
         ]
        },
        {
         "line": {
          "color": "rgba(0,255,0,0.2)",
          "width": 3
         },
         "mode": "lines",
         "showlegend": false,
         "type": "scatter3d",
         "x": [
          351.55027129653183,
          360.03843354653475
         ],
         "y": [
          918.693588655731,
          927.172508309515
         ],
         "z": [
          732.5112552532705,
          732.2683085054033
         ]
        },
        {
         "line": {
          "color": "rgba(0,255,0,0.2)",
          "width": 3
         },
         "mode": "lines",
         "showlegend": false,
         "type": "scatter3d",
         "x": [
          360.03843354653475,
          356.80943405875826
         ],
         "y": [
          927.172508309515,
          930.5542906950184
         ],
         "z": [
          732.2683085054033,
          737.4776376565549
         ]
        },
        {
         "line": {
          "color": "rgba(0,255,0,0.2)",
          "width": 3
         },
         "mode": "lines",
         "showlegend": false,
         "type": "scatter3d",
         "x": [
          356.80943405875826,
          348.32127180875534
         ],
         "y": [
          930.5542906950184,
          922.0753710412343
         ],
         "z": [
          737.4776376565549,
          737.7205844044221
         ]
        },
        {
         "marker": {
          "color": "green",
          "size": 4
         },
         "mode": "markers",
         "name": "Mitte P11",
         "showlegend": false,
         "type": "scatter3d",
         "x": [
          354.17985267764504
         ],
         "y": [
          924.6239396753747
         ],
         "z": [
          734.9944464549126
         ]
        },
        {
         "color": "rgba(0,255,0,0.2)",
         "name": "optimale Trajektorie",
         "opacity": 0.8,
         "type": "mesh3d",
         "x": [
          344.45786774625606,
          347.19461703621727,
          355.65190977732243,
          352.9151604873612
         ],
         "y": [
          923.604273069617,
          920.6762989512706,
          929.1839226055426,
          932.111896723889
         ],
         "z": [
          735.351587915442,
          729.6124964467346,
          729.3050240926611,
          735.0441155613686
         ]
        },
        {
         "line": {
          "color": "rgba(0,255,0,0.2)",
          "width": 3
         },
         "mode": "lines",
         "showlegend": false,
         "type": "scatter3d",
         "x": [
          344.45786774625606,
          347.19461703621727
         ],
         "y": [
          923.604273069617,
          920.6762989512706
         ],
         "z": [
          735.351587915442,
          729.6124964467346
         ]
        },
        {
         "line": {
          "color": "rgba(0,255,0,0.2)",
          "width": 3
         },
         "mode": "lines",
         "showlegend": false,
         "type": "scatter3d",
         "x": [
          347.19461703621727,
          355.65190977732243
         ],
         "y": [
          920.6762989512706,
          929.1839226055426
         ],
         "z": [
          729.6124964467346,
          729.3050240926611
         ]
        },
        {
         "line": {
          "color": "rgba(0,255,0,0.2)",
          "width": 3
         },
         "mode": "lines",
         "showlegend": false,
         "type": "scatter3d",
         "x": [
          355.65190977732243,
          352.9151604873612
         ],
         "y": [
          929.1839226055426,
          932.111896723889
         ],
         "z": [
          729.3050240926611,
          735.0441155613686
         ]
        },
        {
         "line": {
          "color": "rgba(0,255,0,0.2)",
          "width": 3
         },
         "mode": "lines",
         "showlegend": false,
         "type": "scatter3d",
         "x": [
          352.9151604873612,
          344.45786774625606
         ],
         "y": [
          932.111896723889,
          923.604273069617
         ],
         "z": [
          735.0441155613686,
          735.351587915442
         ]
        },
        {
         "marker": {
          "color": "green",
          "size": 4
         },
         "mode": "markers",
         "name": "Mitte P11",
         "showlegend": false,
         "type": "scatter3d",
         "x": [
          350.0548887617892
         ],
         "y": [
          926.3940978375798
         ],
         "z": [
          732.3283060040516
         ]
        },
        {
         "color": "rgba(0,255,0,0.2)",
         "name": "optimale Trajektorie",
         "opacity": 0.8,
         "type": "mesh3d",
         "x": [
          341.4089876137504,
          344.154202138906,
          352.5711869141524,
          349.82597238899683
         ],
         "y": [
          926.002961472274,
          923.0704876185356,
          931.6167178110749,
          934.5491916648133
         ],
         "z": [
          732.6121926382228,
          726.8794451025279,
          726.5383926294411,
          732.271140165136
         ]
        },
        {
         "line": {
          "color": "rgba(0,255,0,0.2)",
          "width": 3
         },
         "mode": "lines",
         "showlegend": false,
         "type": "scatter3d",
         "x": [
          341.4089876137504,
          344.154202138906
         ],
         "y": [
          926.002961472274,
          923.0704876185356
         ],
         "z": [
          732.6121926382228,
          726.8794451025279
         ]
        },
        {
         "line": {
          "color": "rgba(0,255,0,0.2)",
          "width": 3
         },
         "mode": "lines",
         "showlegend": false,
         "type": "scatter3d",
         "x": [
          344.154202138906,
          352.5711869141524
         ],
         "y": [
          923.0704876185356,
          931.6167178110749
         ],
         "z": [
          726.8794451025279,
          726.5383926294411
         ]
        },
        {
         "line": {
          "color": "rgba(0,255,0,0.2)",
          "width": 3
         },
         "mode": "lines",
         "showlegend": false,
         "type": "scatter3d",
         "x": [
          352.5711869141524,
          349.82597238899683
         ],
         "y": [
          931.6167178110749,
          934.5491916648133
         ],
         "z": [
          726.5383926294411,
          732.271140165136
         ]
        },
        {
         "line": {
          "color": "rgba(0,255,0,0.2)",
          "width": 3
         },
         "mode": "lines",
         "showlegend": false,
         "type": "scatter3d",
         "x": [
          349.82597238899683,
          341.4089876137504
         ],
         "y": [
          934.5491916648133,
          926.002961472274
         ],
         "z": [
          732.271140165136,
          732.6121926382228
         ]
        },
        {
         "marker": {
          "color": "green",
          "size": 4
         },
         "mode": "markers",
         "name": "Mitte P11",
         "showlegend": false,
         "type": "scatter3d",
         "x": [
          346.9900872639514
         ],
         "y": [
          928.8098396416744
         ],
         "z": [
          729.575292633832
         ]
        },
        {
         "color": "rgba(0,255,0,0.2)",
         "name": "optimale Trajektorie",
         "opacity": 0.8,
         "type": "mesh3d",
         "x": [
          341.23017817051556,
          341.5601028893483,
          349.98723222577513,
          349.6573075069424
         ],
         "y": [
          925.7492919965342,
          925.1119763891603,
          933.6464759807324,
          934.2837915881063
         ],
         "z": [
          732.9613709286734,
          725.9982553547007,
          725.6164073894183,
          732.579522963391
         ]
        },
        {
         "line": {
          "color": "rgba(0,255,0,0.2)",
          "width": 3
         },
         "mode": "lines",
         "showlegend": false,
         "type": "scatter3d",
         "x": [
          341.23017817051556,
          341.5601028893483
         ],
         "y": [
          925.7492919965342,
          925.1119763891603
         ],
         "z": [
          732.9613709286734,
          725.9982553547007
         ]
        },
        {
         "line": {
          "color": "rgba(0,255,0,0.2)",
          "width": 3
         },
         "mode": "lines",
         "showlegend": false,
         "type": "scatter3d",
         "x": [
          341.5601028893483,
          349.98723222577513
         ],
         "y": [
          925.1119763891603,
          933.6464759807324
         ],
         "z": [
          725.9982553547007,
          725.6164073894183
         ]
        },
        {
         "line": {
          "color": "rgba(0,255,0,0.2)",
          "width": 3
         },
         "mode": "lines",
         "showlegend": false,
         "type": "scatter3d",
         "x": [
          349.98723222577513,
          349.6573075069424
         ],
         "y": [
          933.6464759807324,
          934.2837915881063
         ],
         "z": [
          725.6164073894183,
          732.579522963391
         ]
        },
        {
         "line": {
          "color": "rgba(0,255,0,0.2)",
          "width": 3
         },
         "mode": "lines",
         "showlegend": false,
         "type": "scatter3d",
         "x": [
          349.6573075069424,
          341.23017817051556
         ],
         "y": [
          934.2837915881063,
          925.7492919965342
         ],
         "z": [
          732.579522963391,
          732.9613709286734
         ]
        },
        {
         "marker": {
          "color": "green",
          "size": 4
         },
         "mode": "markers",
         "name": "Mitte P11",
         "showlegend": false,
         "type": "scatter3d",
         "x": [
          345.60870519814534
         ],
         "y": [
          929.6978839886333
         ],
         "z": [
          729.2888891590459
         ]
        },
        {
         "line": {
          "color": "green",
          "width": 2
         },
         "mode": "lines",
         "name": "Optimale Hakenlinie",
         "type": "scatter3d",
         "x": {
          "bdata": "NoWXPZ+LdkBWiTOt4CJ2QNfMCdPg4HVAuC2+ZdevdUAIb6lBvZl1QA==",
          "dtype": "f8"
         },
         "y": {
          "bdata": "l6/Pnsa1jEBKoxXU/eSMQKNexBwn84xA+L80jXoGjUCoXDNElQ2NQA==",
          "dtype": "f8"
         },
         "z": {
          "bdata": "UESBshkTh0DIy1eg9PeGQNvz5V6g4oZAgT8GM5rMhkArkh6lT8qGQA==",
          "dtype": "f8"
         }
        },
        {
         "line": {
          "color": "gray",
          "dash": "dash"
         },
         "mode": "lines",
         "name": "Direkte Gerade Spitze -> Senke",
         "type": "scatter3d",
         "x": [
          352.79885981866585,
          343.8687516768666
         ],
         "y": [
          923.8833441621676,
          928.9599347828362
         ],
         "z": [
          734.8073932893528,
          730.7928638091671
         ]
        },
        {
         "marker": {
          "color": "magenta",
          "size": 8
         },
         "mode": "markers",
         "name": "Spitze",
         "type": "scatter3d",
         "x": [
          352.79885981866585
         ],
         "y": [
          923.8833441621676
         ],
         "z": [
          734.8073932893528
         ]
        },
        {
         "marker": {
          "color": "magenta",
          "size": 8
         },
         "mode": "markers",
         "name": "Senke",
         "type": "scatter3d",
         "x": [
          343.8687516768666
         ],
         "y": [
          928.9599347828362
         ],
         "z": [
          730.7928638091671
         ]
        },
        {
         "mode": "text",
         "showlegend": false,
         "text": [
          "Spitze"
         ],
         "textfont": {
          "size": 10
         },
         "textposition": "top center",
         "type": "scatter3d",
         "x": [
          352.79885981866585
         ],
         "y": [
          923.8833441621676
         ],
         "z": [
          734.8073932893528
         ]
        },
        {
         "mode": "text",
         "showlegend": false,
         "text": [
          "Senke"
         ],
         "textfont": {
          "size": 10
         },
         "textposition": "top center",
         "type": "scatter3d",
         "x": [
          343.8687516768666
         ],
         "y": [
          928.9599347828362
         ],
         "z": [
          730.7928638091671
         ]
        }
       ],
       "layout": {
        "legend": {
         "title": {
          "text": "Legende"
         }
        },
        "scene": {
         "aspectmode": "cube",
         "xaxis": {
          "title": {
           "text": "X"
          }
         },
         "yaxis": {
          "title": {
           "text": "Y"
          }
         },
         "zaxis": {
          "title": {
           "text": "Z"
          }
         }
        },
        "template": {
         "data": {
          "bar": [
           {
            "error_x": {
             "color": "#2a3f5f"
            },
            "error_y": {
             "color": "#2a3f5f"
            },
            "marker": {
             "line": {
              "color": "#E5ECF6",
              "width": 0.5
             },
             "pattern": {
              "fillmode": "overlay",
              "size": 10,
              "solidity": 0.2
             }
            },
            "type": "bar"
           }
          ],
          "barpolar": [
           {
            "marker": {
             "line": {
              "color": "#E5ECF6",
              "width": 0.5
             },
             "pattern": {
              "fillmode": "overlay",
              "size": 10,
              "solidity": 0.2
             }
            },
            "type": "barpolar"
           }
          ],
          "carpet": [
           {
            "aaxis": {
             "endlinecolor": "#2a3f5f",
             "gridcolor": "white",
             "linecolor": "white",
             "minorgridcolor": "white",
             "startlinecolor": "#2a3f5f"
            },
            "baxis": {
             "endlinecolor": "#2a3f5f",
             "gridcolor": "white",
             "linecolor": "white",
             "minorgridcolor": "white",
             "startlinecolor": "#2a3f5f"
            },
            "type": "carpet"
           }
          ],
          "choropleth": [
           {
            "colorbar": {
             "outlinewidth": 0,
             "ticks": ""
            },
            "type": "choropleth"
           }
          ],
          "contour": [
           {
            "colorbar": {
             "outlinewidth": 0,
             "ticks": ""
            },
            "colorscale": [
             [
              0,
              "#0d0887"
             ],
             [
              0.1111111111111111,
              "#46039f"
             ],
             [
              0.2222222222222222,
              "#7201a8"
             ],
             [
              0.3333333333333333,
              "#9c179e"
             ],
             [
              0.4444444444444444,
              "#bd3786"
             ],
             [
              0.5555555555555556,
              "#d8576b"
             ],
             [
              0.6666666666666666,
              "#ed7953"
             ],
             [
              0.7777777777777778,
              "#fb9f3a"
             ],
             [
              0.8888888888888888,
              "#fdca26"
             ],
             [
              1,
              "#f0f921"
             ]
            ],
            "type": "contour"
           }
          ],
          "contourcarpet": [
           {
            "colorbar": {
             "outlinewidth": 0,
             "ticks": ""
            },
            "type": "contourcarpet"
           }
          ],
          "heatmap": [
           {
            "colorbar": {
             "outlinewidth": 0,
             "ticks": ""
            },
            "colorscale": [
             [
              0,
              "#0d0887"
             ],
             [
              0.1111111111111111,
              "#46039f"
             ],
             [
              0.2222222222222222,
              "#7201a8"
             ],
             [
              0.3333333333333333,
              "#9c179e"
             ],
             [
              0.4444444444444444,
              "#bd3786"
             ],
             [
              0.5555555555555556,
              "#d8576b"
             ],
             [
              0.6666666666666666,
              "#ed7953"
             ],
             [
              0.7777777777777778,
              "#fb9f3a"
             ],
             [
              0.8888888888888888,
              "#fdca26"
             ],
             [
              1,
              "#f0f921"
             ]
            ],
            "type": "heatmap"
           }
          ],
          "histogram": [
           {
            "marker": {
             "pattern": {
              "fillmode": "overlay",
              "size": 10,
              "solidity": 0.2
             }
            },
            "type": "histogram"
           }
          ],
          "histogram2d": [
           {
            "colorbar": {
             "outlinewidth": 0,
             "ticks": ""
            },
            "colorscale": [
             [
              0,
              "#0d0887"
             ],
             [
              0.1111111111111111,
              "#46039f"
             ],
             [
              0.2222222222222222,
              "#7201a8"
             ],
             [
              0.3333333333333333,
              "#9c179e"
             ],
             [
              0.4444444444444444,
              "#bd3786"
             ],
             [
              0.5555555555555556,
              "#d8576b"
             ],
             [
              0.6666666666666666,
              "#ed7953"
             ],
             [
              0.7777777777777778,
              "#fb9f3a"
             ],
             [
              0.8888888888888888,
              "#fdca26"
             ],
             [
              1,
              "#f0f921"
             ]
            ],
            "type": "histogram2d"
           }
          ],
          "histogram2dcontour": [
           {
            "colorbar": {
             "outlinewidth": 0,
             "ticks": ""
            },
            "colorscale": [
             [
              0,
              "#0d0887"
             ],
             [
              0.1111111111111111,
              "#46039f"
             ],
             [
              0.2222222222222222,
              "#7201a8"
             ],
             [
              0.3333333333333333,
              "#9c179e"
             ],
             [
              0.4444444444444444,
              "#bd3786"
             ],
             [
              0.5555555555555556,
              "#d8576b"
             ],
             [
              0.6666666666666666,
              "#ed7953"
             ],
             [
              0.7777777777777778,
              "#fb9f3a"
             ],
             [
              0.8888888888888888,
              "#fdca26"
             ],
             [
              1,
              "#f0f921"
             ]
            ],
            "type": "histogram2dcontour"
           }
          ],
          "mesh3d": [
           {
            "colorbar": {
             "outlinewidth": 0,
             "ticks": ""
            },
            "type": "mesh3d"
           }
          ],
          "parcoords": [
           {
            "line": {
             "colorbar": {
              "outlinewidth": 0,
              "ticks": ""
             }
            },
            "type": "parcoords"
           }
          ],
          "pie": [
           {
            "automargin": true,
            "type": "pie"
           }
          ],
          "scatter": [
           {
            "fillpattern": {
             "fillmode": "overlay",
             "size": 10,
             "solidity": 0.2
            },
            "type": "scatter"
           }
          ],
          "scatter3d": [
           {
            "line": {
             "colorbar": {
              "outlinewidth": 0,
              "ticks": ""
             }
            },
            "marker": {
             "colorbar": {
              "outlinewidth": 0,
              "ticks": ""
             }
            },
            "type": "scatter3d"
           }
          ],
          "scattercarpet": [
           {
            "marker": {
             "colorbar": {
              "outlinewidth": 0,
              "ticks": ""
             }
            },
            "type": "scattercarpet"
           }
          ],
          "scattergeo": [
           {
            "marker": {
             "colorbar": {
              "outlinewidth": 0,
              "ticks": ""
             }
            },
            "type": "scattergeo"
           }
          ],
          "scattergl": [
           {
            "marker": {
             "colorbar": {
              "outlinewidth": 0,
              "ticks": ""
             }
            },
            "type": "scattergl"
           }
          ],
          "scattermap": [
           {
            "marker": {
             "colorbar": {
              "outlinewidth": 0,
              "ticks": ""
             }
            },
            "type": "scattermap"
           }
          ],
          "scattermapbox": [
           {
            "marker": {
             "colorbar": {
              "outlinewidth": 0,
              "ticks": ""
             }
            },
            "type": "scattermapbox"
           }
          ],
          "scatterpolar": [
           {
            "marker": {
             "colorbar": {
              "outlinewidth": 0,
              "ticks": ""
             }
            },
            "type": "scatterpolar"
           }
          ],
          "scatterpolargl": [
           {
            "marker": {
             "colorbar": {
              "outlinewidth": 0,
              "ticks": ""
             }
            },
            "type": "scatterpolargl"
           }
          ],
          "scatterternary": [
           {
            "marker": {
             "colorbar": {
              "outlinewidth": 0,
              "ticks": ""
             }
            },
            "type": "scatterternary"
           }
          ],
          "surface": [
           {
            "colorbar": {
             "outlinewidth": 0,
             "ticks": ""
            },
            "colorscale": [
             [
              0,
              "#0d0887"
             ],
             [
              0.1111111111111111,
              "#46039f"
             ],
             [
              0.2222222222222222,
              "#7201a8"
             ],
             [
              0.3333333333333333,
              "#9c179e"
             ],
             [
              0.4444444444444444,
              "#bd3786"
             ],
             [
              0.5555555555555556,
              "#d8576b"
             ],
             [
              0.6666666666666666,
              "#ed7953"
             ],
             [
              0.7777777777777778,
              "#fb9f3a"
             ],
             [
              0.8888888888888888,
              "#fdca26"
             ],
             [
              1,
              "#f0f921"
             ]
            ],
            "type": "surface"
           }
          ],
          "table": [
           {
            "cells": {
             "fill": {
              "color": "#EBF0F8"
             },
             "line": {
              "color": "white"
             }
            },
            "header": {
             "fill": {
              "color": "#C8D4E3"
             },
             "line": {
              "color": "white"
             }
            },
            "type": "table"
           }
          ]
         },
         "layout": {
          "annotationdefaults": {
           "arrowcolor": "#2a3f5f",
           "arrowhead": 0,
           "arrowwidth": 1
          },
          "autotypenumbers": "strict",
          "coloraxis": {
           "colorbar": {
            "outlinewidth": 0,
            "ticks": ""
           }
          },
          "colorscale": {
           "diverging": [
            [
             0,
             "#8e0152"
            ],
            [
             0.1,
             "#c51b7d"
            ],
            [
             0.2,
             "#de77ae"
            ],
            [
             0.3,
             "#f1b6da"
            ],
            [
             0.4,
             "#fde0ef"
            ],
            [
             0.5,
             "#f7f7f7"
            ],
            [
             0.6,
             "#e6f5d0"
            ],
            [
             0.7,
             "#b8e186"
            ],
            [
             0.8,
             "#7fbc41"
            ],
            [
             0.9,
             "#4d9221"
            ],
            [
             1,
             "#276419"
            ]
           ],
           "sequential": [
            [
             0,
             "#0d0887"
            ],
            [
             0.1111111111111111,
             "#46039f"
            ],
            [
             0.2222222222222222,
             "#7201a8"
            ],
            [
             0.3333333333333333,
             "#9c179e"
            ],
            [
             0.4444444444444444,
             "#bd3786"
            ],
            [
             0.5555555555555556,
             "#d8576b"
            ],
            [
             0.6666666666666666,
             "#ed7953"
            ],
            [
             0.7777777777777778,
             "#fb9f3a"
            ],
            [
             0.8888888888888888,
             "#fdca26"
            ],
            [
             1,
             "#f0f921"
            ]
           ],
           "sequentialminus": [
            [
             0,
             "#0d0887"
            ],
            [
             0.1111111111111111,
             "#46039f"
            ],
            [
             0.2222222222222222,
             "#7201a8"
            ],
            [
             0.3333333333333333,
             "#9c179e"
            ],
            [
             0.4444444444444444,
             "#bd3786"
            ],
            [
             0.5555555555555556,
             "#d8576b"
            ],
            [
             0.6666666666666666,
             "#ed7953"
            ],
            [
             0.7777777777777778,
             "#fb9f3a"
            ],
            [
             0.8888888888888888,
             "#fdca26"
            ],
            [
             1,
             "#f0f921"
            ]
           ]
          },
          "colorway": [
           "#636efa",
           "#EF553B",
           "#00cc96",
           "#ab63fa",
           "#FFA15A",
           "#19d3f3",
           "#FF6692",
           "#B6E880",
           "#FF97FF",
           "#FECB52"
          ],
          "font": {
           "color": "#2a3f5f"
          },
          "geo": {
           "bgcolor": "white",
           "lakecolor": "white",
           "landcolor": "#E5ECF6",
           "showlakes": true,
           "showland": true,
           "subunitcolor": "white"
          },
          "hoverlabel": {
           "align": "left"
          },
          "hovermode": "closest",
          "mapbox": {
           "style": "light"
          },
          "paper_bgcolor": "white",
          "plot_bgcolor": "#E5ECF6",
          "polar": {
           "angularaxis": {
            "gridcolor": "white",
            "linecolor": "white",
            "ticks": ""
           },
           "bgcolor": "#E5ECF6",
           "radialaxis": {
            "gridcolor": "white",
            "linecolor": "white",
            "ticks": ""
           }
          },
          "scene": {
           "xaxis": {
            "backgroundcolor": "#E5ECF6",
            "gridcolor": "white",
            "gridwidth": 2,
            "linecolor": "white",
            "showbackground": true,
            "ticks": "",
            "zerolinecolor": "white"
           },
           "yaxis": {
            "backgroundcolor": "#E5ECF6",
            "gridcolor": "white",
            "gridwidth": 2,
            "linecolor": "white",
            "showbackground": true,
            "ticks": "",
            "zerolinecolor": "white"
           },
           "zaxis": {
            "backgroundcolor": "#E5ECF6",
            "gridcolor": "white",
            "gridwidth": 2,
            "linecolor": "white",
            "showbackground": true,
            "ticks": "",
            "zerolinecolor": "white"
           }
          },
          "shapedefaults": {
           "line": {
            "color": "#2a3f5f"
           }
          },
          "ternary": {
           "aaxis": {
            "gridcolor": "white",
            "linecolor": "white",
            "ticks": ""
           },
           "baxis": {
            "gridcolor": "white",
            "linecolor": "white",
            "ticks": ""
           },
           "bgcolor": "#E5ECF6",
           "caxis": {
            "gridcolor": "white",
            "linecolor": "white",
            "ticks": ""
           }
          },
          "title": {
           "x": 0.05
          },
          "xaxis": {
           "automargin": true,
           "gridcolor": "white",
           "linecolor": "white",
           "ticks": "",
           "title": {
            "standoff": 15
           },
           "zerolinecolor": "white",
           "zerolinewidth": 2
          },
          "yaxis": {
           "automargin": true,
           "gridcolor": "white",
           "linecolor": "white",
           "ticks": "",
           "title": {
            "standoff": 15
           },
           "zerolinecolor": "white",
           "zerolinewidth": 2
          }
         }
        },
        "title": {
         "text": "Haken 23, Trajektorien-Ansatz 2"
        }
       }
      }
     },
     "metadata": {},
     "output_type": "display_data"
    },
    {
     "name": "stdout",
     "output_type": "stream",
     "text": [
      "HTML-Datei '/home/mo/Thesis/Evaluation/Trajektorientests/traj3.html' erfolgreich erstellt!\n"
     ]
    },
    {
     "data": {
      "application/vnd.plotly.v1+json": {
       "config": {
        "plotlyServerURL": "https://plot.ly"
       },
       "data": [
        {
         "color": "rgba(31, 119, 180, 0.8)",
         "name": "P1",
         "opacity": 0.8,
         "type": "mesh3d",
         "x": [
          356.7779374548432,
          363.07658321748096,
          364.67481693255735,
          358.3761711699196
         ],
         "y": [
          913.0088612395815,
          913.0198585799769,
          924.4351036695954,
          924.4241063292
         ],
         "z": [
          738.2458800008283,
          735.1918759708196,
          738.5292145116234,
          741.583218541632
         ]
        },
        {
         "marker": {
          "color": "red",
          "size": 3
         },
         "mode": "markers+text",
         "showlegend": false,
         "text": "",
         "textfont": {
          "size": 12
         },
         "textposition": "top center",
         "type": "scatter3d",
         "x": [
          360.7263771937003
         ],
         "y": [
          918.7219824545884
         ],
         "z": [
          738.3875472562258
         ]
        },
        {
         "line": {
          "color": "rgba(31, 119, 180, 0.8)",
          "width": 4
         },
         "mode": "lines",
         "showlegend": false,
         "type": "scatter3d",
         "x": [
          356.7779374548432,
          363.07658321748096
         ],
         "y": [
          913.0088612395815,
          913.0198585799769
         ],
         "z": [
          738.2458800008283,
          735.1918759708196
         ]
        },
        {
         "line": {
          "color": "rgba(31, 119, 180, 0.8)",
          "width": 4
         },
         "mode": "lines",
         "showlegend": false,
         "type": "scatter3d",
         "x": [
          363.07658321748096,
          364.67481693255735
         ],
         "y": [
          913.0198585799769,
          924.4351036695954
         ],
         "z": [
          735.1918759708196,
          738.5292145116234
         ]
        },
        {
         "line": {
          "color": "rgba(31, 119, 180, 0.8)",
          "width": 4
         },
         "mode": "lines",
         "showlegend": false,
         "type": "scatter3d",
         "x": [
          364.67481693255735,
          358.3761711699196
         ],
         "y": [
          924.4351036695954,
          924.4241063292
         ],
         "z": [
          738.5292145116234,
          741.583218541632
         ]
        },
        {
         "line": {
          "color": "rgba(31, 119, 180, 0.8)",
          "width": 4
         },
         "mode": "lines",
         "showlegend": false,
         "type": "scatter3d",
         "x": [
          358.3761711699196,
          356.7779374548432
         ],
         "y": [
          924.4241063292,
          913.0088612395815
         ],
         "z": [
          741.583218541632,
          738.2458800008283
         ]
        },
        {
         "color": "rgba(174, 199, 232, 0.8)",
         "name": "P2",
         "opacity": 0.8,
         "type": "mesh3d",
         "x": [
          348.85042007980877,
          355.14906584244653,
          356.7472995575229,
          350.44865379488516
         ],
         "y": [
          918.1702229471607,
          918.1812202875561,
          929.5964653771746,
          929.5854680367792
         ],
         "z": [
          734.6657260339553,
          731.6117220039466,
          734.9490605447504,
          738.003064574759
         ]
        },
        {
         "marker": {
          "color": "red",
          "size": 3
         },
         "mode": "markers+text",
         "showlegend": false,
         "text": "",
         "textfont": {
          "size": 12
         },
         "textposition": "top center",
         "type": "scatter3d",
         "x": [
          352.79885981866585
         ],
         "y": [
          923.8833441621678
         ],
         "z": [
          734.8073932893528
         ]
        },
        {
         "line": {
          "color": "rgba(174, 199, 232, 0.8)",
          "width": 4
         },
         "mode": "lines",
         "showlegend": false,
         "type": "scatter3d",
         "x": [
          348.85042007980877,
          355.14906584244653
         ],
         "y": [
          918.1702229471607,
          918.1812202875561
         ],
         "z": [
          734.6657260339553,
          731.6117220039466
         ]
        },
        {
         "line": {
          "color": "rgba(174, 199, 232, 0.8)",
          "width": 4
         },
         "mode": "lines",
         "showlegend": false,
         "type": "scatter3d",
         "x": [
          355.14906584244653,
          356.7472995575229
         ],
         "y": [
          918.1812202875561,
          929.5964653771746
         ],
         "z": [
          731.6117220039466,
          734.9490605447504
         ]
        },
        {
         "line": {
          "color": "rgba(174, 199, 232, 0.8)",
          "width": 4
         },
         "mode": "lines",
         "showlegend": false,
         "type": "scatter3d",
         "x": [
          356.7472995575229,
          350.44865379488516
         ],
         "y": [
          929.5964653771746,
          929.5854680367792
         ],
         "z": [
          734.9490605447504,
          738.003064574759
         ]
        },
        {
         "line": {
          "color": "rgba(174, 199, 232, 0.8)",
          "width": 4
         },
         "mode": "lines",
         "showlegend": false,
         "type": "scatter3d",
         "x": [
          350.44865379488516,
          348.85042007980877
         ],
         "y": [
          929.5854680367792,
          918.1702229471607
         ],
         "z": [
          738.003064574759,
          734.6657260339553
         ]
        },
        {
         "color": "rgba(255, 187, 120, 0.8)",
         "name": "P3",
         "opacity": 0.8,
         "type": "mesh3d",
         "x": [
          348.26504104856207,
          354.56368681119983,
          356.1619205262762,
          349.86327476363846
         ],
         "y": [
          918.2299327760721,
          918.2409301164676,
          929.656175206086,
          929.6451778656906
         ],
         "z": [
          734.0139207383083,
          730.9599167082997,
          734.2972552491035,
          737.3512592791121
         ]
        },
        {
         "marker": {
          "color": "red",
          "size": 3
         },
         "mode": "markers+text",
         "showlegend": false,
         "text": "P2",
         "textfont": {
          "size": 12
         },
         "textposition": "top center",
         "type": "scatter3d",
         "x": [
          352.21348078741914
         ],
         "y": [
          923.9430539910791
         ],
         "z": [
          734.1555879937059
         ]
        },
        {
         "line": {
          "color": "rgba(255, 187, 120, 0.8)",
          "width": 4
         },
         "mode": "lines",
         "showlegend": false,
         "type": "scatter3d",
         "x": [
          348.26504104856207,
          354.56368681119983
         ],
         "y": [
          918.2299327760721,
          918.2409301164676
         ],
         "z": [
          734.0139207383083,
          730.9599167082997
         ]
        },
        {
         "line": {
          "color": "rgba(255, 187, 120, 0.8)",
          "width": 4
         },
         "mode": "lines",
         "showlegend": false,
         "type": "scatter3d",
         "x": [
          354.56368681119983,
          356.1619205262762
         ],
         "y": [
          918.2409301164676,
          929.656175206086
         ],
         "z": [
          730.9599167082997,
          734.2972552491035
         ]
        },
        {
         "line": {
          "color": "rgba(255, 187, 120, 0.8)",
          "width": 4
         },
         "mode": "lines",
         "showlegend": false,
         "type": "scatter3d",
         "x": [
          356.1619205262762,
          349.86327476363846
         ],
         "y": [
          929.656175206086,
          929.6451778656906
         ],
         "z": [
          734.2972552491035,
          737.3512592791121
         ]
        },
        {
         "line": {
          "color": "rgba(255, 187, 120, 0.8)",
          "width": 4
         },
         "mode": "lines",
         "showlegend": false,
         "type": "scatter3d",
         "x": [
          349.86327476363846,
          348.26504104856207
         ],
         "y": [
          929.6451778656906,
          918.2299327760721
         ],
         "z": [
          737.3512592791121,
          734.0139207383083
         ]
        },
        {
         "color": "rgba(152, 223, 138, 0.8)",
         "name": "P4",
         "opacity": 0.8,
         "type": "mesh3d",
         "x": [
          347.3253760210176,
          353.62402178365534,
          355.2222554987317,
          348.92360973609397
         ],
         "y": [
          919.2804440397166,
          919.291441380112,
          930.7066864697305,
          930.695689129335
         ],
         "z": [
          733.3852531159127,
          730.3312490859041,
          733.6685876267079,
          736.7225916567165
         ]
        },
        {
         "marker": {
          "color": "red",
          "size": 3
         },
         "mode": "markers+text",
         "showlegend": false,
         "text": "P3",
         "textfont": {
          "size": 12
         },
         "textposition": "top center",
         "type": "scatter3d",
         "x": [
          351.27381575987465
         ],
         "y": [
          924.9935652547235
         ],
         "z": [
          733.5269203713103
         ]
        },
        {
         "line": {
          "color": "rgba(152, 223, 138, 0.8)",
          "width": 4
         },
         "mode": "lines",
         "showlegend": false,
         "type": "scatter3d",
         "x": [
          347.3253760210176,
          353.62402178365534
         ],
         "y": [
          919.2804440397166,
          919.291441380112
         ],
         "z": [
          733.3852531159127,
          730.3312490859041
         ]
        },
        {
         "line": {
          "color": "rgba(152, 223, 138, 0.8)",
          "width": 4
         },
         "mode": "lines",
         "showlegend": false,
         "type": "scatter3d",
         "x": [
          353.62402178365534,
          355.2222554987317
         ],
         "y": [
          919.291441380112,
          930.7066864697305
         ],
         "z": [
          730.3312490859041,
          733.6685876267079
         ]
        },
        {
         "line": {
          "color": "rgba(152, 223, 138, 0.8)",
          "width": 4
         },
         "mode": "lines",
         "showlegend": false,
         "type": "scatter3d",
         "x": [
          355.2222554987317,
          348.92360973609397
         ],
         "y": [
          930.7066864697305,
          930.695689129335
         ],
         "z": [
          733.6685876267079,
          736.7225916567165
         ]
        },
        {
         "line": {
          "color": "rgba(152, 223, 138, 0.8)",
          "width": 4
         },
         "mode": "lines",
         "showlegend": false,
         "type": "scatter3d",
         "x": [
          348.92360973609397,
          347.3253760210176
         ],
         "y": [
          930.695689129335,
          919.2804440397166
         ],
         "z": [
          736.7225916567165,
          733.3852531159127
         ]
        },
        {
         "color": "rgba(255, 152, 150, 0.8)",
         "name": "P5",
         "opacity": 0.8,
         "type": "mesh3d",
         "x": [
          346.37947407858036,
          352.6781198412181,
          354.2763535562945,
          347.97770779365675
         ],
         "y": [
          920.36003629613,
          920.3710336365255,
          931.7862787261439,
          931.7752813857485
         ],
         "z": [
          732.7513183235325,
          729.6973142935238,
          733.0346528343276,
          736.0886568643363
         ]
        },
        {
         "marker": {
          "color": "red",
          "size": 3
         },
         "mode": "markers+text",
         "showlegend": false,
         "text": "P4",
         "textfont": {
          "size": 12
         },
         "textposition": "top center",
         "type": "scatter3d",
         "x": [
          350.32791381743743
         ],
         "y": [
          926.073157511137
         ],
         "z": [
          732.89298557893
         ]
        },
        {
         "line": {
          "color": "rgba(255, 152, 150, 0.8)",
          "width": 4
         },
         "mode": "lines",
         "showlegend": false,
         "type": "scatter3d",
         "x": [
          346.37947407858036,
          352.6781198412181
         ],
         "y": [
          920.36003629613,
          920.3710336365255
         ],
         "z": [
          732.7513183235325,
          729.6973142935238
         ]
        },
        {
         "line": {
          "color": "rgba(255, 152, 150, 0.8)",
          "width": 4
         },
         "mode": "lines",
         "showlegend": false,
         "type": "scatter3d",
         "x": [
          352.6781198412181,
          354.2763535562945
         ],
         "y": [
          920.3710336365255,
          931.7862787261439
         ],
         "z": [
          729.6973142935238,
          733.0346528343276
         ]
        },
        {
         "line": {
          "color": "rgba(255, 152, 150, 0.8)",
          "width": 4
         },
         "mode": "lines",
         "showlegend": false,
         "type": "scatter3d",
         "x": [
          354.2763535562945,
          347.97770779365675
         ],
         "y": [
          931.7862787261439,
          931.7752813857485
         ],
         "z": [
          733.0346528343276,
          736.0886568643363
         ]
        },
        {
         "line": {
          "color": "rgba(255, 152, 150, 0.8)",
          "width": 4
         },
         "mode": "lines",
         "showlegend": false,
         "type": "scatter3d",
         "x": [
          347.97770779365675,
          346.37947407858036
         ],
         "y": [
          931.7752813857485,
          920.36003629613
         ],
         "z": [
          736.0886568643363,
          732.7513183235325
         ]
        },
        {
         "color": "rgba(197, 176, 213, 0.8)",
         "name": "P6",
         "opacity": 0.8,
         "type": "mesh3d",
         "x": [
          345.35448688721175,
          351.6531326498495,
          353.2513663649259,
          346.95272060228814
         ],
         "y": [
          920.4740738089037,
          920.4850711492991,
          931.9003162389175,
          931.8893188985221
         ],
         "z": [
          732.1022371172943,
          729.0482330872857,
          732.3855716280895,
          735.4395756580981
         ]
        },
        {
         "marker": {
          "color": "red",
          "size": 3
         },
         "mode": "markers+text",
         "showlegend": false,
         "text": "P5",
         "textfont": {
          "size": 12
         },
         "textposition": "top center",
         "type": "scatter3d",
         "x": [
          349.3029266260688
         ],
         "y": [
          926.1871950239106
         ],
         "z": [
          732.2439043726919
         ]
        },
        {
         "line": {
          "color": "rgba(197, 176, 213, 0.8)",
          "width": 4
         },
         "mode": "lines",
         "showlegend": false,
         "type": "scatter3d",
         "x": [
          345.35448688721175,
          351.6531326498495
         ],
         "y": [
          920.4740738089037,
          920.4850711492991
         ],
         "z": [
          732.1022371172943,
          729.0482330872857
         ]
        },
        {
         "line": {
          "color": "rgba(197, 176, 213, 0.8)",
          "width": 4
         },
         "mode": "lines",
         "showlegend": false,
         "type": "scatter3d",
         "x": [
          351.6531326498495,
          353.2513663649259
         ],
         "y": [
          920.4850711492991,
          931.9003162389175
         ],
         "z": [
          729.0482330872857,
          732.3855716280895
         ]
        },
        {
         "line": {
          "color": "rgba(197, 176, 213, 0.8)",
          "width": 4
         },
         "mode": "lines",
         "showlegend": false,
         "type": "scatter3d",
         "x": [
          353.2513663649259,
          346.95272060228814
         ],
         "y": [
          931.9003162389175,
          931.8893188985221
         ],
         "z": [
          732.3855716280895,
          735.4395756580981
         ]
        },
        {
         "line": {
          "color": "rgba(197, 176, 213, 0.8)",
          "width": 4
         },
         "mode": "lines",
         "showlegend": false,
         "type": "scatter3d",
         "x": [
          346.95272060228814,
          345.35448688721175
         ],
         "y": [
          931.8893188985221,
          920.4740738089037
         ],
         "z": [
          735.4395756580981,
          732.1022371172943
         ]
        },
        {
         "color": "rgba(140, 86, 75, 0.8)",
         "name": "P7",
         "opacity": 0.8,
         "type": "mesh3d",
         "x": [
          344.39830994235575,
          350.6969557049935,
          352.2951894200699,
          345.99654365743214
         ],
         "y": [
          921.5644573263193,
          921.5754546667147,
          932.9906997563331,
          932.9797024159377
         ],
         "z": [
          731.5350286937978,
          728.4810246637892,
          731.818363204593,
          734.8723672346016
         ]
        },
        {
         "marker": {
          "color": "red",
          "size": 3
         },
         "mode": "markers+text",
         "showlegend": false,
         "text": "P6",
         "textfont": {
          "size": 12
         },
         "textposition": "top center",
         "type": "scatter3d",
         "x": [
          348.3467496812128
         ],
         "y": [
          927.2775785413262
         ],
         "z": [
          731.6766959491954
         ]
        },
        {
         "line": {
          "color": "rgba(140, 86, 75, 0.8)",
          "width": 4
         },
         "mode": "lines",
         "showlegend": false,
         "type": "scatter3d",
         "x": [
          344.39830994235575,
          350.6969557049935
         ],
         "y": [
          921.5644573263193,
          921.5754546667147
         ],
         "z": [
          731.5350286937978,
          728.4810246637892
         ]
        },
        {
         "line": {
          "color": "rgba(140, 86, 75, 0.8)",
          "width": 4
         },
         "mode": "lines",
         "showlegend": false,
         "type": "scatter3d",
         "x": [
          350.6969557049935,
          352.2951894200699
         ],
         "y": [
          921.5754546667147,
          932.9906997563331
         ],
         "z": [
          728.4810246637892,
          731.818363204593
         ]
        },
        {
         "line": {
          "color": "rgba(140, 86, 75, 0.8)",
          "width": 4
         },
         "mode": "lines",
         "showlegend": false,
         "type": "scatter3d",
         "x": [
          352.2951894200699,
          345.99654365743214
         ],
         "y": [
          932.9906997563331,
          932.9797024159377
         ],
         "z": [
          731.818363204593,
          734.8723672346016
         ]
        },
        {
         "line": {
          "color": "rgba(140, 86, 75, 0.8)",
          "width": 4
         },
         "mode": "lines",
         "showlegend": false,
         "type": "scatter3d",
         "x": [
          345.99654365743214,
          344.39830994235575
         ],
         "y": [
          932.9797024159377,
          921.5644573263193
         ],
         "z": [
          734.8723672346016,
          731.5350286937978
         ]
        },
        {
         "color": "rgba(227, 119, 194, 0.8)",
         "name": "P8",
         "opacity": 0.8,
         "type": "mesh3d",
         "x": [
          343.4509685031156,
          349.74961426575334,
          351.3478479808297,
          345.04920221819197
         ],
         "y": [
          920.7172436501388,
          920.7282409905342,
          932.1434860801527,
          932.1324887397573
         ],
         "z": [
          730.9478019605422,
          727.8937979305335,
          731.2311364713373,
          734.285140501346
         ]
        },
        {
         "marker": {
          "color": "red",
          "size": 3
         },
         "mode": "markers+text",
         "showlegend": false,
         "text": "P7",
         "textfont": {
          "size": 12
         },
         "textposition": "top center",
         "type": "scatter3d",
         "x": [
          347.39940824197265
         ],
         "y": [
          926.4303648651457
         ],
         "z": [
          731.0894692159397
         ]
        },
        {
         "line": {
          "color": "rgba(227, 119, 194, 0.8)",
          "width": 4
         },
         "mode": "lines",
         "showlegend": false,
         "type": "scatter3d",
         "x": [
          343.4509685031156,
          349.74961426575334
         ],
         "y": [
          920.7172436501388,
          920.7282409905342
         ],
         "z": [
          730.9478019605422,
          727.8937979305335
         ]
        },
        {
         "line": {
          "color": "rgba(227, 119, 194, 0.8)",
          "width": 4
         },
         "mode": "lines",
         "showlegend": false,
         "type": "scatter3d",
         "x": [
          349.74961426575334,
          351.3478479808297
         ],
         "y": [
          920.7282409905342,
          932.1434860801527
         ],
         "z": [
          727.8937979305335,
          731.2311364713373
         ]
        },
        {
         "line": {
          "color": "rgba(227, 119, 194, 0.8)",
          "width": 4
         },
         "mode": "lines",
         "showlegend": false,
         "type": "scatter3d",
         "x": [
          351.3478479808297,
          345.04920221819197
         ],
         "y": [
          932.1434860801527,
          932.1324887397573
         ],
         "z": [
          731.2311364713373,
          734.285140501346
         ]
        },
        {
         "line": {
          "color": "rgba(227, 119, 194, 0.8)",
          "width": 4
         },
         "mode": "lines",
         "showlegend": false,
         "type": "scatter3d",
         "x": [
          345.04920221819197,
          343.4509685031156
         ],
         "y": [
          932.1324887397573,
          920.7172436501388
         ],
         "z": [
          734.285140501346,
          730.9478019605422
         ]
        },
        {
         "color": "rgba(127, 127, 127, 0.8)",
         "name": "P9",
         "opacity": 0.8,
         "type": "mesh3d",
         "x": [
          342.3456186888953,
          348.64426445153305,
          350.24249816660944,
          343.9438524039717
         ],
         "y": [
          921.875268744255,
          921.8862660846504,
          933.3015111742689,
          933.2905138338734
         ],
         "z": [
          730.6012928043976,
          727.547288774389,
          730.8846273151928,
          733.9386313452014
         ]
        },
        {
         "marker": {
          "color": "red",
          "size": 3
         },
         "mode": "markers+text",
         "showlegend": false,
         "text": "P8",
         "textfont": {
          "size": 12
         },
         "textposition": "top center",
         "type": "scatter3d",
         "x": [
          346.29405842775236
         ],
         "y": [
          927.5883899592619
         ],
         "z": [
          730.7429600597952
         ]
        },
        {
         "line": {
          "color": "rgba(127, 127, 127, 0.8)",
          "width": 4
         },
         "mode": "lines",
         "showlegend": false,
         "type": "scatter3d",
         "x": [
          342.3456186888953,
          348.64426445153305
         ],
         "y": [
          921.875268744255,
          921.8862660846504
         ],
         "z": [
          730.6012928043976,
          727.547288774389
         ]
        },
        {
         "line": {
          "color": "rgba(127, 127, 127, 0.8)",
          "width": 4
         },
         "mode": "lines",
         "showlegend": false,
         "type": "scatter3d",
         "x": [
          348.64426445153305,
          350.24249816660944
         ],
         "y": [
          921.8862660846504,
          933.3015111742689
         ],
         "z": [
          727.547288774389,
          730.8846273151928
         ]
        },
        {
         "line": {
          "color": "rgba(127, 127, 127, 0.8)",
          "width": 4
         },
         "mode": "lines",
         "showlegend": false,
         "type": "scatter3d",
         "x": [
          350.24249816660944,
          343.9438524039717
         ],
         "y": [
          933.3015111742689,
          933.2905138338734
         ],
         "z": [
          730.8846273151928,
          733.9386313452014
         ]
        },
        {
         "line": {
          "color": "rgba(127, 127, 127, 0.8)",
          "width": 4
         },
         "mode": "lines",
         "showlegend": false,
         "type": "scatter3d",
         "x": [
          343.9438524039717,
          342.3456186888953
         ],
         "y": [
          933.2905138338734,
          921.875268744255
         ],
         "z": [
          733.9386313452014,
          730.6012928043976
         ]
        },
        {
         "color": "rgba(188, 189, 34, 0.8)",
         "name": "P10",
         "opacity": 0.8,
         "type": "mesh3d",
         "x": [
          341.12369342817436,
          347.4223391908121,
          349.0205729058885,
          342.72192714325075
         ],
         "y": [
          921.1009648751351,
          921.1119622155305,
          932.527207305149,
          932.5162099647536
         ],
         "z": [
          730.617194623498,
          727.5631905934894,
          730.9005291342932,
          733.9545331643018
         ]
        },
        {
         "marker": {
          "color": "red",
          "size": 3
         },
         "mode": "markers+text",
         "showlegend": false,
         "text": "P9",
         "textfont": {
          "size": 12
         },
         "textposition": "top center",
         "type": "scatter3d",
         "x": [
          345.07213316703144
         ],
         "y": [
          926.814086090142
         ],
         "z": [
          730.7588618788956
         ]
        },
        {
         "line": {
          "color": "rgba(188, 189, 34, 0.8)",
          "width": 4
         },
         "mode": "lines",
         "showlegend": false,
         "type": "scatter3d",
         "x": [
          341.12369342817436,
          347.4223391908121
         ],
         "y": [
          921.1009648751351,
          921.1119622155305
         ],
         "z": [
          730.617194623498,
          727.5631905934894
         ]
        },
        {
         "line": {
          "color": "rgba(188, 189, 34, 0.8)",
          "width": 4
         },
         "mode": "lines",
         "showlegend": false,
         "type": "scatter3d",
         "x": [
          347.4223391908121,
          349.0205729058885
         ],
         "y": [
          921.1119622155305,
          932.527207305149
         ],
         "z": [
          727.5631905934894,
          730.9005291342932
         ]
        },
        {
         "line": {
          "color": "rgba(188, 189, 34, 0.8)",
          "width": 4
         },
         "mode": "lines",
         "showlegend": false,
         "type": "scatter3d",
         "x": [
          349.0205729058885,
          342.72192714325075
         ],
         "y": [
          932.527207305149,
          932.5162099647536
         ],
         "z": [
          730.9005291342932,
          733.9545331643018
         ]
        },
        {
         "line": {
          "color": "rgba(188, 189, 34, 0.8)",
          "width": 4
         },
         "mode": "lines",
         "showlegend": false,
         "type": "scatter3d",
         "x": [
          342.72192714325075,
          341.12369342817436
         ],
         "y": [
          932.5162099647536,
          921.1009648751351
         ],
         "z": [
          733.9545331643018,
          730.617194623498
         ]
        },
        {
         "color": "rgba(23, 190, 207, 0.8)",
         "name": "P11",
         "opacity": 0.8,
         "type": "mesh3d",
         "x": [
          339.92031193800955,
          346.2189577006473,
          347.8171914157237,
          341.51854565308594
         ],
         "y": [
          923.2468135678292,
          923.2578109082247,
          934.6730559978431,
          934.6620586574477
         ],
         "z": [
          730.6511965537695,
          727.5971925237609,
          730.9345310645647,
          733.9885350945733
         ]
        },
        {
         "marker": {
          "color": "red",
          "size": 3
         },
         "mode": "markers+text",
         "showlegend": false,
         "text": "",
         "textfont": {
          "size": 12
         },
         "textposition": "top center",
         "type": "scatter3d",
         "x": [
          343.8687516768666
         ],
         "y": [
          928.9599347828362
         ],
         "z": [
          730.7928638091671
         ]
        },
        {
         "line": {
          "color": "rgba(23, 190, 207, 0.8)",
          "width": 4
         },
         "mode": "lines",
         "showlegend": false,
         "type": "scatter3d",
         "x": [
          339.92031193800955,
          346.2189577006473
         ],
         "y": [
          923.2468135678292,
          923.2578109082247
         ],
         "z": [
          730.6511965537695,
          727.5971925237609
         ]
        },
        {
         "line": {
          "color": "rgba(23, 190, 207, 0.8)",
          "width": 4
         },
         "mode": "lines",
         "showlegend": false,
         "type": "scatter3d",
         "x": [
          346.2189577006473,
          347.8171914157237
         ],
         "y": [
          923.2578109082247,
          934.6730559978431
         ],
         "z": [
          727.5971925237609,
          730.9345310645647
         ]
        },
        {
         "line": {
          "color": "rgba(23, 190, 207, 0.8)",
          "width": 4
         },
         "mode": "lines",
         "showlegend": false,
         "type": "scatter3d",
         "x": [
          347.8171914157237,
          341.51854565308594
         ],
         "y": [
          934.6730559978431,
          934.6620586574477
         ],
         "z": [
          730.9345310645647,
          733.9885350945733
         ]
        },
        {
         "line": {
          "color": "rgba(23, 190, 207, 0.8)",
          "width": 4
         },
         "mode": "lines",
         "showlegend": false,
         "type": "scatter3d",
         "x": [
          341.51854565308594,
          339.92031193800955
         ],
         "y": [
          934.6620586574477,
          923.2468135678292
         ],
         "z": [
          733.9885350945733,
          730.6511965537695
         ]
        },
        {
         "line": {
          "color": "black",
          "width": 2
         },
         "mode": "lines",
         "name": "Berechnete Hakenlinie",
         "type": "scatter3d",
         "x": {
          "bdata": "DDixPZ+LdkAitDshyAx2QKKE1GpqA3ZAqFyijGH0dUDOHI8iP+V1QNoAl8nY1HVAUstkSYzFdUBokOX5Y7Z1QPQknHa0pHVAtpUbdSeRdUDMhyho5n11QA==",
          "dtype": "f8"
         },
         "y": {
          "bdata": "8rW8nsa1jED8fL4WEd+MQGAQ5F+L34xA1htX0vLnjEBS7prTlfCMQFzNGmB/8YxAiigZezj6jEAwaSJjcfOMQJmCywW1/IxAT2qRP4P2jECYlEnyrQeNQA==",
          "dtype": "f8"
         },
         "z": {
          "bdata": "KDlgshkTh0A+5pyKdfaGQPAE66Q+8YZA/hIHIjfshkBvip/VJOeGQIHAIoTz4YZACtmQ32ndhkCu46I7t9iGQHA4C5Xx1YZATUAtJhLWhkBwFPvIV9aGQA==",
          "dtype": "f8"
         }
        },
        {
         "mode": "text",
         "showlegend": false,
         "text": [
          "Pre-Position"
         ],
         "textfont": {
          "size": 10
         },
         "textposition": "top center",
         "type": "scatter3d",
         "x": [
          360.7263771937003
         ],
         "y": [
          918.7219824545884
         ],
         "z": [
          738.3875472562258
         ]
        },
        {
         "mode": "text",
         "showlegend": false,
         "text": [
          "Loslassen"
         ],
         "textfont": {
          "size": 10
         },
         "textposition": "top center",
         "type": "scatter3d",
         "x": [
          343.8687516768666
         ],
         "y": [
          928.9599347828362
         ],
         "z": [
          730.7928638091671
         ]
        },
        {
         "color": "rgba(0,255,0,0.2)",
         "name": "optimale Trajektorie",
         "opacity": 0.8,
         "type": "mesh3d",
         "x": [
          354.7552535323742,
          358.18077030289726,
          366.69750066355704,
          363.27198389303396
         ],
         "y": [
          916.2236452181562,
          912.766610553211,
          921.2203199737728,
          924.677354638718
         ],
         "z": [
          740.9082604394843,
          735.8768842678755,
          735.8668345653551,
          740.8982107369638
         ]
        },
        {
         "line": {
          "color": "rgba(0,255,0,0.2)",
          "width": 3
         },
         "mode": "lines",
         "showlegend": false,
         "type": "scatter3d",
         "x": [
          354.7552535323742,
          358.18077030289726
         ],
         "y": [
          916.2236452181562,
          912.766610553211
         ],
         "z": [
          740.9082604394843,
          735.8768842678755
         ]
        },
        {
         "line": {
          "color": "rgba(0,255,0,0.2)",
          "width": 3
         },
         "mode": "lines",
         "showlegend": false,
         "type": "scatter3d",
         "x": [
          358.18077030289726,
          366.69750066355704
         ],
         "y": [
          912.766610553211,
          921.2203199737728
         ],
         "z": [
          735.8768842678755,
          735.8668345653551
         ]
        },
        {
         "line": {
          "color": "rgba(0,255,0,0.2)",
          "width": 3
         },
         "mode": "lines",
         "showlegend": false,
         "type": "scatter3d",
         "x": [
          366.69750066355704,
          363.27198389303396
         ],
         "y": [
          921.2203199737728,
          924.677354638718
         ],
         "z": [
          735.8668345653551,
          740.8982107369638
         ]
        },
        {
         "line": {
          "color": "rgba(0,255,0,0.2)",
          "width": 3
         },
         "mode": "lines",
         "showlegend": false,
         "type": "scatter3d",
         "x": [
          363.27198389303396,
          354.7552535323742
         ],
         "y": [
          924.677354638718,
          916.2236452181562
         ],
         "z": [
          740.8982107369638,
          740.9082604394843
         ]
        },
        {
         "marker": {
          "color": "green",
          "size": 4
         },
         "mode": "markers",
         "name": "Mitte P11",
         "showlegend": false,
         "type": "scatter3d",
         "x": [
          360.7263770979656
         ],
         "y": [
          918.7219825959645
         ],
         "z": [
          738.3875475024197
         ]
        },
        {
         "color": "rgba(0,255,0,0.2)",
         "name": "optimale Trajektorie",
         "opacity": 0.8,
         "type": "mesh3d",
         "x": [
          348.32127180875534,
          351.55027129653183,
          360.03843354653475,
          356.80943405875826
         ],
         "y": [
          922.0753710412343,
          918.693588655731,
          927.172508309515,
          930.5542906950184
         ],
         "z": [
          737.7205844044221,
          732.5112552532705,
          732.2683085054033,
          737.4776376565549
         ]
        },
        {
         "line": {
          "color": "rgba(0,255,0,0.2)",
          "width": 3
         },
         "mode": "lines",
         "showlegend": false,
         "type": "scatter3d",
         "x": [
          348.32127180875534,
          351.55027129653183
         ],
         "y": [
          922.0753710412343,
          918.693588655731
         ],
         "z": [
          737.7205844044221,
          732.5112552532705
         ]
        },
        {
         "line": {
          "color": "rgba(0,255,0,0.2)",
          "width": 3
         },
         "mode": "lines",
         "showlegend": false,
         "type": "scatter3d",
         "x": [
          351.55027129653183,
          360.03843354653475
         ],
         "y": [
          918.693588655731,
          927.172508309515
         ],
         "z": [
          732.5112552532705,
          732.2683085054033
         ]
        },
        {
         "line": {
          "color": "rgba(0,255,0,0.2)",
          "width": 3
         },
         "mode": "lines",
         "showlegend": false,
         "type": "scatter3d",
         "x": [
          360.03843354653475,
          356.80943405875826
         ],
         "y": [
          927.172508309515,
          930.5542906950184
         ],
         "z": [
          732.2683085054033,
          737.4776376565549
         ]
        },
        {
         "line": {
          "color": "rgba(0,255,0,0.2)",
          "width": 3
         },
         "mode": "lines",
         "showlegend": false,
         "type": "scatter3d",
         "x": [
          356.80943405875826,
          348.32127180875534
         ],
         "y": [
          930.5542906950184,
          922.0753710412343
         ],
         "z": [
          737.4776376565549,
          737.7205844044221
         ]
        },
        {
         "marker": {
          "color": "green",
          "size": 4
         },
         "mode": "markers",
         "name": "Mitte P11",
         "showlegend": false,
         "type": "scatter3d",
         "x": [
          354.17985267764504
         ],
         "y": [
          924.6239396753747
         ],
         "z": [
          734.9944464549126
         ]
        },
        {
         "color": "rgba(0,255,0,0.2)",
         "name": "optimale Trajektorie",
         "opacity": 0.8,
         "type": "mesh3d",
         "x": [
          344.45786774625606,
          347.19461703621727,
          355.65190977732243,
          352.9151604873612
         ],
         "y": [
          923.604273069617,
          920.6762989512706,
          929.1839226055426,
          932.111896723889
         ],
         "z": [
          735.351587915442,
          729.6124964467346,
          729.3050240926611,
          735.0441155613686
         ]
        },
        {
         "line": {
          "color": "rgba(0,255,0,0.2)",
          "width": 3
         },
         "mode": "lines",
         "showlegend": false,
         "type": "scatter3d",
         "x": [
          344.45786774625606,
          347.19461703621727
         ],
         "y": [
          923.604273069617,
          920.6762989512706
         ],
         "z": [
          735.351587915442,
          729.6124964467346
         ]
        },
        {
         "line": {
          "color": "rgba(0,255,0,0.2)",
          "width": 3
         },
         "mode": "lines",
         "showlegend": false,
         "type": "scatter3d",
         "x": [
          347.19461703621727,
          355.65190977732243
         ],
         "y": [
          920.6762989512706,
          929.1839226055426
         ],
         "z": [
          729.6124964467346,
          729.3050240926611
         ]
        },
        {
         "line": {
          "color": "rgba(0,255,0,0.2)",
          "width": 3
         },
         "mode": "lines",
         "showlegend": false,
         "type": "scatter3d",
         "x": [
          355.65190977732243,
          352.9151604873612
         ],
         "y": [
          929.1839226055426,
          932.111896723889
         ],
         "z": [
          729.3050240926611,
          735.0441155613686
         ]
        },
        {
         "line": {
          "color": "rgba(0,255,0,0.2)",
          "width": 3
         },
         "mode": "lines",
         "showlegend": false,
         "type": "scatter3d",
         "x": [
          352.9151604873612,
          344.45786774625606
         ],
         "y": [
          932.111896723889,
          923.604273069617
         ],
         "z": [
          735.0441155613686,
          735.351587915442
         ]
        },
        {
         "marker": {
          "color": "green",
          "size": 4
         },
         "mode": "markers",
         "name": "Mitte P11",
         "showlegend": false,
         "type": "scatter3d",
         "x": [
          350.0548887617892
         ],
         "y": [
          926.3940978375798
         ],
         "z": [
          732.3283060040516
         ]
        },
        {
         "color": "rgba(0,255,0,0.2)",
         "name": "optimale Trajektorie",
         "opacity": 0.8,
         "type": "mesh3d",
         "x": [
          341.4089876137504,
          344.154202138906,
          352.5711869141524,
          349.82597238899683
         ],
         "y": [
          926.002961472274,
          923.0704876185356,
          931.6167178110749,
          934.5491916648133
         ],
         "z": [
          732.6121926382228,
          726.8794451025279,
          726.5383926294411,
          732.271140165136
         ]
        },
        {
         "line": {
          "color": "rgba(0,255,0,0.2)",
          "width": 3
         },
         "mode": "lines",
         "showlegend": false,
         "type": "scatter3d",
         "x": [
          341.4089876137504,
          344.154202138906
         ],
         "y": [
          926.002961472274,
          923.0704876185356
         ],
         "z": [
          732.6121926382228,
          726.8794451025279
         ]
        },
        {
         "line": {
          "color": "rgba(0,255,0,0.2)",
          "width": 3
         },
         "mode": "lines",
         "showlegend": false,
         "type": "scatter3d",
         "x": [
          344.154202138906,
          352.5711869141524
         ],
         "y": [
          923.0704876185356,
          931.6167178110749
         ],
         "z": [
          726.8794451025279,
          726.5383926294411
         ]
        },
        {
         "line": {
          "color": "rgba(0,255,0,0.2)",
          "width": 3
         },
         "mode": "lines",
         "showlegend": false,
         "type": "scatter3d",
         "x": [
          352.5711869141524,
          349.82597238899683
         ],
         "y": [
          931.6167178110749,
          934.5491916648133
         ],
         "z": [
          726.5383926294411,
          732.271140165136
         ]
        },
        {
         "line": {
          "color": "rgba(0,255,0,0.2)",
          "width": 3
         },
         "mode": "lines",
         "showlegend": false,
         "type": "scatter3d",
         "x": [
          349.82597238899683,
          341.4089876137504
         ],
         "y": [
          934.5491916648133,
          926.002961472274
         ],
         "z": [
          732.271140165136,
          732.6121926382228
         ]
        },
        {
         "marker": {
          "color": "green",
          "size": 4
         },
         "mode": "markers",
         "name": "Mitte P11",
         "showlegend": false,
         "type": "scatter3d",
         "x": [
          346.9900872639514
         ],
         "y": [
          928.8098396416744
         ],
         "z": [
          729.575292633832
         ]
        },
        {
         "color": "rgba(0,255,0,0.2)",
         "name": "optimale Trajektorie",
         "opacity": 0.8,
         "type": "mesh3d",
         "x": [
          341.23017817051556,
          341.5601028893483,
          349.98723222577513,
          349.6573075069424
         ],
         "y": [
          925.7492919965342,
          925.1119763891603,
          933.6464759807324,
          934.2837915881063
         ],
         "z": [
          732.9613709286734,
          725.9982553547007,
          725.6164073894183,
          732.579522963391
         ]
        },
        {
         "line": {
          "color": "rgba(0,255,0,0.2)",
          "width": 3
         },
         "mode": "lines",
         "showlegend": false,
         "type": "scatter3d",
         "x": [
          341.23017817051556,
          341.5601028893483
         ],
         "y": [
          925.7492919965342,
          925.1119763891603
         ],
         "z": [
          732.9613709286734,
          725.9982553547007
         ]
        },
        {
         "line": {
          "color": "rgba(0,255,0,0.2)",
          "width": 3
         },
         "mode": "lines",
         "showlegend": false,
         "type": "scatter3d",
         "x": [
          341.5601028893483,
          349.98723222577513
         ],
         "y": [
          925.1119763891603,
          933.6464759807324
         ],
         "z": [
          725.9982553547007,
          725.6164073894183
         ]
        },
        {
         "line": {
          "color": "rgba(0,255,0,0.2)",
          "width": 3
         },
         "mode": "lines",
         "showlegend": false,
         "type": "scatter3d",
         "x": [
          349.98723222577513,
          349.6573075069424
         ],
         "y": [
          933.6464759807324,
          934.2837915881063
         ],
         "z": [
          725.6164073894183,
          732.579522963391
         ]
        },
        {
         "line": {
          "color": "rgba(0,255,0,0.2)",
          "width": 3
         },
         "mode": "lines",
         "showlegend": false,
         "type": "scatter3d",
         "x": [
          349.6573075069424,
          341.23017817051556
         ],
         "y": [
          934.2837915881063,
          925.7492919965342
         ],
         "z": [
          732.579522963391,
          732.9613709286734
         ]
        },
        {
         "marker": {
          "color": "green",
          "size": 4
         },
         "mode": "markers",
         "name": "Mitte P11",
         "showlegend": false,
         "type": "scatter3d",
         "x": [
          345.60870519814534
         ],
         "y": [
          929.6978839886333
         ],
         "z": [
          729.2888891590459
         ]
        },
        {
         "line": {
          "color": "green",
          "width": 2
         },
         "mode": "lines",
         "name": "Optimale Hakenlinie",
         "type": "scatter3d",
         "x": {
          "bdata": "NoWXPZ+LdkBWiTOt4CJ2QNfMCdPg4HVAuC2+ZdevdUAIb6lBvZl1QA==",
          "dtype": "f8"
         },
         "y": {
          "bdata": "l6/Pnsa1jEBKoxXU/eSMQKNexBwn84xA+L80jXoGjUCoXDNElQ2NQA==",
          "dtype": "f8"
         },
         "z": {
          "bdata": "UESBshkTh0DIy1eg9PeGQNvz5V6g4oZAgT8GM5rMhkArkh6lT8qGQA==",
          "dtype": "f8"
         }
        },
        {
         "line": {
          "color": "gray",
          "dash": "dash"
         },
         "mode": "lines",
         "name": "Direkte Gerade Spitze -> Senke",
         "type": "scatter3d",
         "x": [
          352.79885981866585,
          343.8687516768666
         ],
         "y": [
          923.8833441621676,
          928.9599347828362
         ],
         "z": [
          734.8073932893528,
          730.7928638091671
         ]
        },
        {
         "marker": {
          "color": "magenta",
          "size": 8
         },
         "mode": "markers",
         "name": "Spitze",
         "type": "scatter3d",
         "x": [
          352.79885981866585
         ],
         "y": [
          923.8833441621676
         ],
         "z": [
          734.8073932893528
         ]
        },
        {
         "marker": {
          "color": "magenta",
          "size": 8
         },
         "mode": "markers",
         "name": "Senke",
         "type": "scatter3d",
         "x": [
          343.8687516768666
         ],
         "y": [
          928.9599347828362
         ],
         "z": [
          730.7928638091671
         ]
        },
        {
         "mode": "text",
         "showlegend": false,
         "text": [
          "Spitze"
         ],
         "textfont": {
          "size": 10
         },
         "textposition": "top center",
         "type": "scatter3d",
         "x": [
          352.79885981866585
         ],
         "y": [
          923.8833441621676
         ],
         "z": [
          734.8073932893528
         ]
        },
        {
         "mode": "text",
         "showlegend": false,
         "text": [
          "Senke"
         ],
         "textfont": {
          "size": 10
         },
         "textposition": "top center",
         "type": "scatter3d",
         "x": [
          343.8687516768666
         ],
         "y": [
          928.9599347828362
         ],
         "z": [
          730.7928638091671
         ]
        }
       ],
       "layout": {
        "legend": {
         "title": {
          "text": "Legende"
         }
        },
        "scene": {
         "aspectmode": "cube",
         "xaxis": {
          "title": {
           "text": "X"
          }
         },
         "yaxis": {
          "title": {
           "text": "Y"
          }
         },
         "zaxis": {
          "title": {
           "text": "Z"
          }
         }
        },
        "template": {
         "data": {
          "bar": [
           {
            "error_x": {
             "color": "#2a3f5f"
            },
            "error_y": {
             "color": "#2a3f5f"
            },
            "marker": {
             "line": {
              "color": "#E5ECF6",
              "width": 0.5
             },
             "pattern": {
              "fillmode": "overlay",
              "size": 10,
              "solidity": 0.2
             }
            },
            "type": "bar"
           }
          ],
          "barpolar": [
           {
            "marker": {
             "line": {
              "color": "#E5ECF6",
              "width": 0.5
             },
             "pattern": {
              "fillmode": "overlay",
              "size": 10,
              "solidity": 0.2
             }
            },
            "type": "barpolar"
           }
          ],
          "carpet": [
           {
            "aaxis": {
             "endlinecolor": "#2a3f5f",
             "gridcolor": "white",
             "linecolor": "white",
             "minorgridcolor": "white",
             "startlinecolor": "#2a3f5f"
            },
            "baxis": {
             "endlinecolor": "#2a3f5f",
             "gridcolor": "white",
             "linecolor": "white",
             "minorgridcolor": "white",
             "startlinecolor": "#2a3f5f"
            },
            "type": "carpet"
           }
          ],
          "choropleth": [
           {
            "colorbar": {
             "outlinewidth": 0,
             "ticks": ""
            },
            "type": "choropleth"
           }
          ],
          "contour": [
           {
            "colorbar": {
             "outlinewidth": 0,
             "ticks": ""
            },
            "colorscale": [
             [
              0,
              "#0d0887"
             ],
             [
              0.1111111111111111,
              "#46039f"
             ],
             [
              0.2222222222222222,
              "#7201a8"
             ],
             [
              0.3333333333333333,
              "#9c179e"
             ],
             [
              0.4444444444444444,
              "#bd3786"
             ],
             [
              0.5555555555555556,
              "#d8576b"
             ],
             [
              0.6666666666666666,
              "#ed7953"
             ],
             [
              0.7777777777777778,
              "#fb9f3a"
             ],
             [
              0.8888888888888888,
              "#fdca26"
             ],
             [
              1,
              "#f0f921"
             ]
            ],
            "type": "contour"
           }
          ],
          "contourcarpet": [
           {
            "colorbar": {
             "outlinewidth": 0,
             "ticks": ""
            },
            "type": "contourcarpet"
           }
          ],
          "heatmap": [
           {
            "colorbar": {
             "outlinewidth": 0,
             "ticks": ""
            },
            "colorscale": [
             [
              0,
              "#0d0887"
             ],
             [
              0.1111111111111111,
              "#46039f"
             ],
             [
              0.2222222222222222,
              "#7201a8"
             ],
             [
              0.3333333333333333,
              "#9c179e"
             ],
             [
              0.4444444444444444,
              "#bd3786"
             ],
             [
              0.5555555555555556,
              "#d8576b"
             ],
             [
              0.6666666666666666,
              "#ed7953"
             ],
             [
              0.7777777777777778,
              "#fb9f3a"
             ],
             [
              0.8888888888888888,
              "#fdca26"
             ],
             [
              1,
              "#f0f921"
             ]
            ],
            "type": "heatmap"
           }
          ],
          "histogram": [
           {
            "marker": {
             "pattern": {
              "fillmode": "overlay",
              "size": 10,
              "solidity": 0.2
             }
            },
            "type": "histogram"
           }
          ],
          "histogram2d": [
           {
            "colorbar": {
             "outlinewidth": 0,
             "ticks": ""
            },
            "colorscale": [
             [
              0,
              "#0d0887"
             ],
             [
              0.1111111111111111,
              "#46039f"
             ],
             [
              0.2222222222222222,
              "#7201a8"
             ],
             [
              0.3333333333333333,
              "#9c179e"
             ],
             [
              0.4444444444444444,
              "#bd3786"
             ],
             [
              0.5555555555555556,
              "#d8576b"
             ],
             [
              0.6666666666666666,
              "#ed7953"
             ],
             [
              0.7777777777777778,
              "#fb9f3a"
             ],
             [
              0.8888888888888888,
              "#fdca26"
             ],
             [
              1,
              "#f0f921"
             ]
            ],
            "type": "histogram2d"
           }
          ],
          "histogram2dcontour": [
           {
            "colorbar": {
             "outlinewidth": 0,
             "ticks": ""
            },
            "colorscale": [
             [
              0,
              "#0d0887"
             ],
             [
              0.1111111111111111,
              "#46039f"
             ],
             [
              0.2222222222222222,
              "#7201a8"
             ],
             [
              0.3333333333333333,
              "#9c179e"
             ],
             [
              0.4444444444444444,
              "#bd3786"
             ],
             [
              0.5555555555555556,
              "#d8576b"
             ],
             [
              0.6666666666666666,
              "#ed7953"
             ],
             [
              0.7777777777777778,
              "#fb9f3a"
             ],
             [
              0.8888888888888888,
              "#fdca26"
             ],
             [
              1,
              "#f0f921"
             ]
            ],
            "type": "histogram2dcontour"
           }
          ],
          "mesh3d": [
           {
            "colorbar": {
             "outlinewidth": 0,
             "ticks": ""
            },
            "type": "mesh3d"
           }
          ],
          "parcoords": [
           {
            "line": {
             "colorbar": {
              "outlinewidth": 0,
              "ticks": ""
             }
            },
            "type": "parcoords"
           }
          ],
          "pie": [
           {
            "automargin": true,
            "type": "pie"
           }
          ],
          "scatter": [
           {
            "fillpattern": {
             "fillmode": "overlay",
             "size": 10,
             "solidity": 0.2
            },
            "type": "scatter"
           }
          ],
          "scatter3d": [
           {
            "line": {
             "colorbar": {
              "outlinewidth": 0,
              "ticks": ""
             }
            },
            "marker": {
             "colorbar": {
              "outlinewidth": 0,
              "ticks": ""
             }
            },
            "type": "scatter3d"
           }
          ],
          "scattercarpet": [
           {
            "marker": {
             "colorbar": {
              "outlinewidth": 0,
              "ticks": ""
             }
            },
            "type": "scattercarpet"
           }
          ],
          "scattergeo": [
           {
            "marker": {
             "colorbar": {
              "outlinewidth": 0,
              "ticks": ""
             }
            },
            "type": "scattergeo"
           }
          ],
          "scattergl": [
           {
            "marker": {
             "colorbar": {
              "outlinewidth": 0,
              "ticks": ""
             }
            },
            "type": "scattergl"
           }
          ],
          "scattermap": [
           {
            "marker": {
             "colorbar": {
              "outlinewidth": 0,
              "ticks": ""
             }
            },
            "type": "scattermap"
           }
          ],
          "scattermapbox": [
           {
            "marker": {
             "colorbar": {
              "outlinewidth": 0,
              "ticks": ""
             }
            },
            "type": "scattermapbox"
           }
          ],
          "scatterpolar": [
           {
            "marker": {
             "colorbar": {
              "outlinewidth": 0,
              "ticks": ""
             }
            },
            "type": "scatterpolar"
           }
          ],
          "scatterpolargl": [
           {
            "marker": {
             "colorbar": {
              "outlinewidth": 0,
              "ticks": ""
             }
            },
            "type": "scatterpolargl"
           }
          ],
          "scatterternary": [
           {
            "marker": {
             "colorbar": {
              "outlinewidth": 0,
              "ticks": ""
             }
            },
            "type": "scatterternary"
           }
          ],
          "surface": [
           {
            "colorbar": {
             "outlinewidth": 0,
             "ticks": ""
            },
            "colorscale": [
             [
              0,
              "#0d0887"
             ],
             [
              0.1111111111111111,
              "#46039f"
             ],
             [
              0.2222222222222222,
              "#7201a8"
             ],
             [
              0.3333333333333333,
              "#9c179e"
             ],
             [
              0.4444444444444444,
              "#bd3786"
             ],
             [
              0.5555555555555556,
              "#d8576b"
             ],
             [
              0.6666666666666666,
              "#ed7953"
             ],
             [
              0.7777777777777778,
              "#fb9f3a"
             ],
             [
              0.8888888888888888,
              "#fdca26"
             ],
             [
              1,
              "#f0f921"
             ]
            ],
            "type": "surface"
           }
          ],
          "table": [
           {
            "cells": {
             "fill": {
              "color": "#EBF0F8"
             },
             "line": {
              "color": "white"
             }
            },
            "header": {
             "fill": {
              "color": "#C8D4E3"
             },
             "line": {
              "color": "white"
             }
            },
            "type": "table"
           }
          ]
         },
         "layout": {
          "annotationdefaults": {
           "arrowcolor": "#2a3f5f",
           "arrowhead": 0,
           "arrowwidth": 1
          },
          "autotypenumbers": "strict",
          "coloraxis": {
           "colorbar": {
            "outlinewidth": 0,
            "ticks": ""
           }
          },
          "colorscale": {
           "diverging": [
            [
             0,
             "#8e0152"
            ],
            [
             0.1,
             "#c51b7d"
            ],
            [
             0.2,
             "#de77ae"
            ],
            [
             0.3,
             "#f1b6da"
            ],
            [
             0.4,
             "#fde0ef"
            ],
            [
             0.5,
             "#f7f7f7"
            ],
            [
             0.6,
             "#e6f5d0"
            ],
            [
             0.7,
             "#b8e186"
            ],
            [
             0.8,
             "#7fbc41"
            ],
            [
             0.9,
             "#4d9221"
            ],
            [
             1,
             "#276419"
            ]
           ],
           "sequential": [
            [
             0,
             "#0d0887"
            ],
            [
             0.1111111111111111,
             "#46039f"
            ],
            [
             0.2222222222222222,
             "#7201a8"
            ],
            [
             0.3333333333333333,
             "#9c179e"
            ],
            [
             0.4444444444444444,
             "#bd3786"
            ],
            [
             0.5555555555555556,
             "#d8576b"
            ],
            [
             0.6666666666666666,
             "#ed7953"
            ],
            [
             0.7777777777777778,
             "#fb9f3a"
            ],
            [
             0.8888888888888888,
             "#fdca26"
            ],
            [
             1,
             "#f0f921"
            ]
           ],
           "sequentialminus": [
            [
             0,
             "#0d0887"
            ],
            [
             0.1111111111111111,
             "#46039f"
            ],
            [
             0.2222222222222222,
             "#7201a8"
            ],
            [
             0.3333333333333333,
             "#9c179e"
            ],
            [
             0.4444444444444444,
             "#bd3786"
            ],
            [
             0.5555555555555556,
             "#d8576b"
            ],
            [
             0.6666666666666666,
             "#ed7953"
            ],
            [
             0.7777777777777778,
             "#fb9f3a"
            ],
            [
             0.8888888888888888,
             "#fdca26"
            ],
            [
             1,
             "#f0f921"
            ]
           ]
          },
          "colorway": [
           "#636efa",
           "#EF553B",
           "#00cc96",
           "#ab63fa",
           "#FFA15A",
           "#19d3f3",
           "#FF6692",
           "#B6E880",
           "#FF97FF",
           "#FECB52"
          ],
          "font": {
           "color": "#2a3f5f"
          },
          "geo": {
           "bgcolor": "white",
           "lakecolor": "white",
           "landcolor": "#E5ECF6",
           "showlakes": true,
           "showland": true,
           "subunitcolor": "white"
          },
          "hoverlabel": {
           "align": "left"
          },
          "hovermode": "closest",
          "mapbox": {
           "style": "light"
          },
          "paper_bgcolor": "white",
          "plot_bgcolor": "#E5ECF6",
          "polar": {
           "angularaxis": {
            "gridcolor": "white",
            "linecolor": "white",
            "ticks": ""
           },
           "bgcolor": "#E5ECF6",
           "radialaxis": {
            "gridcolor": "white",
            "linecolor": "white",
            "ticks": ""
           }
          },
          "scene": {
           "xaxis": {
            "backgroundcolor": "#E5ECF6",
            "gridcolor": "white",
            "gridwidth": 2,
            "linecolor": "white",
            "showbackground": true,
            "ticks": "",
            "zerolinecolor": "white"
           },
           "yaxis": {
            "backgroundcolor": "#E5ECF6",
            "gridcolor": "white",
            "gridwidth": 2,
            "linecolor": "white",
            "showbackground": true,
            "ticks": "",
            "zerolinecolor": "white"
           },
           "zaxis": {
            "backgroundcolor": "#E5ECF6",
            "gridcolor": "white",
            "gridwidth": 2,
            "linecolor": "white",
            "showbackground": true,
            "ticks": "",
            "zerolinecolor": "white"
           }
          },
          "shapedefaults": {
           "line": {
            "color": "#2a3f5f"
           }
          },
          "ternary": {
           "aaxis": {
            "gridcolor": "white",
            "linecolor": "white",
            "ticks": ""
           },
           "baxis": {
            "gridcolor": "white",
            "linecolor": "white",
            "ticks": ""
           },
           "bgcolor": "#E5ECF6",
           "caxis": {
            "gridcolor": "white",
            "linecolor": "white",
            "ticks": ""
           }
          },
          "title": {
           "x": 0.05
          },
          "xaxis": {
           "automargin": true,
           "gridcolor": "white",
           "linecolor": "white",
           "ticks": "",
           "title": {
            "standoff": 15
           },
           "zerolinecolor": "white",
           "zerolinewidth": 2
          },
          "yaxis": {
           "automargin": true,
           "gridcolor": "white",
           "linecolor": "white",
           "ticks": "",
           "title": {
            "standoff": 15
           },
           "zerolinecolor": "white",
           "zerolinewidth": 2
          }
         }
        },
        "title": {
         "text": "Haken 23, Trajektorien-Ansatz 3"
        }
       }
      }
     },
     "metadata": {},
     "output_type": "display_data"
    },
    {
     "name": "stdout",
     "output_type": "stream",
     "text": [
      "HTML-Datei '/home/mo/Thesis/Evaluation/Trajektorientests/traj4.html' erfolgreich erstellt!\n"
     ]
    },
    {
     "data": {
      "application/vnd.plotly.v1+json": {
       "config": {
        "plotlyServerURL": "https://plot.ly"
       },
       "data": [
        {
         "color": "rgba(31, 119, 180, 0.8)",
         "name": "P1",
         "opacity": 0.8,
         "type": "mesh3d",
         "x": [
          354.75525362983194,
          358.18077020433805,
          366.6975007575686,
          363.2719841830625
         ],
         "y": [
          916.2236451904284,
          912.7666104923389,
          921.2203197187484,
          924.6773544168379
         ],
         "z": [
          740.9082603100115,
          735.8768840277216,
          735.8668342024401,
          740.89821048473
         ]
        },
        {
         "marker": {
          "color": "red",
          "size": 3
         },
         "mode": "markers+text",
         "showlegend": false,
         "text": "",
         "textfont": {
          "size": 12
         },
         "textposition": "top center",
         "type": "scatter3d",
         "x": [
          360.7263771937003
         ],
         "y": [
          918.7219824545884
         ],
         "z": [
          738.3875472562258
         ]
        },
        {
         "line": {
          "color": "rgba(31, 119, 180, 0.8)",
          "width": 4
         },
         "mode": "lines",
         "showlegend": false,
         "type": "scatter3d",
         "x": [
          354.75525362983194,
          358.18077020433805
         ],
         "y": [
          916.2236451904284,
          912.7666104923389
         ],
         "z": [
          740.9082603100115,
          735.8768840277216
         ]
        },
        {
         "line": {
          "color": "rgba(31, 119, 180, 0.8)",
          "width": 4
         },
         "mode": "lines",
         "showlegend": false,
         "type": "scatter3d",
         "x": [
          358.18077020433805,
          366.6975007575686
         ],
         "y": [
          912.7666104923389,
          921.2203197187484
         ],
         "z": [
          735.8768840277216,
          735.8668342024401
         ]
        },
        {
         "line": {
          "color": "rgba(31, 119, 180, 0.8)",
          "width": 4
         },
         "mode": "lines",
         "showlegend": false,
         "type": "scatter3d",
         "x": [
          366.6975007575686,
          363.2719841830625
         ],
         "y": [
          921.2203197187484,
          924.6773544168379
         ],
         "z": [
          735.8668342024401,
          740.89821048473
         ]
        },
        {
         "line": {
          "color": "rgba(31, 119, 180, 0.8)",
          "width": 4
         },
         "mode": "lines",
         "showlegend": false,
         "type": "scatter3d",
         "x": [
          363.2719841830625,
          354.75525362983194
         ],
         "y": [
          924.6773544168379,
          916.2236451904284
         ],
         "z": [
          740.89821048473,
          740.9082603100115
         ]
        },
        {
         "color": "rgba(214, 39, 40, 0.8)",
         "name": "P2",
         "opacity": 0.8,
         "type": "mesh3d",
         "x": [
          346.82475086083366,
          350.25026743533977,
          358.7669979885703,
          355.3414814140642
         ],
         "y": [
          921.0393724212319,
          917.5823377231424,
          926.0360469495519,
          929.4930816476414
         ],
         "z": [
          737.3184205265117,
          732.2870442442218,
          732.2769944189403,
          737.3083707012302
         ]
        },
        {
         "marker": {
          "color": "red",
          "size": 3
         },
         "mode": "markers+text",
         "showlegend": false,
         "text": "",
         "textfont": {
          "size": 12
         },
         "textposition": "top center",
         "type": "scatter3d",
         "x": [
          352.795874424702
         ],
         "y": [
          923.5377096853919
         ],
         "z": [
          734.797707472726
         ]
        },
        {
         "line": {
          "color": "rgba(214, 39, 40, 0.8)",
          "width": 4
         },
         "mode": "lines",
         "showlegend": false,
         "type": "scatter3d",
         "x": [
          346.82475086083366,
          350.25026743533977
         ],
         "y": [
          921.0393724212319,
          917.5823377231424
         ],
         "z": [
          737.3184205265117,
          732.2870442442218
         ]
        },
        {
         "line": {
          "color": "rgba(214, 39, 40, 0.8)",
          "width": 4
         },
         "mode": "lines",
         "showlegend": false,
         "type": "scatter3d",
         "x": [
          350.25026743533977,
          358.7669979885703
         ],
         "y": [
          917.5823377231424,
          926.0360469495519
         ],
         "z": [
          732.2870442442218,
          732.2769944189403
         ]
        },
        {
         "line": {
          "color": "rgba(214, 39, 40, 0.8)",
          "width": 4
         },
         "mode": "lines",
         "showlegend": false,
         "type": "scatter3d",
         "x": [
          358.7669979885703,
          355.3414814140642
         ],
         "y": [
          926.0360469495519,
          929.4930816476414
         ],
         "z": [
          732.2769944189403,
          737.3083707012302
         ]
        },
        {
         "line": {
          "color": "rgba(214, 39, 40, 0.8)",
          "width": 4
         },
         "mode": "lines",
         "showlegend": false,
         "type": "scatter3d",
         "x": [
          355.3414814140642,
          346.82475086083366
         ],
         "y": [
          929.4930816476414,
          921.0393724212319
         ],
         "z": [
          737.3083707012302,
          737.3184205265117
         ]
        },
        {
         "color": "rgba(247, 182, 210, 0.8)",
         "name": "P3",
         "opacity": 0.8,
         "type": "mesh3d",
         "x": [
          342.8594994763345,
          346.2850160508406,
          354.8017466040712,
          351.3762300295651
         ],
         "y": [
          923.4472360366335,
          919.990201338544,
          928.4439105649535,
          931.900945263043
         ],
         "z": [
          735.5235006347617,
          730.4921243524718,
          730.4820745271903,
          735.5134508094802
         ]
        },
        {
         "marker": {
          "color": "red",
          "size": 3
         },
         "mode": "markers+text",
         "showlegend": false,
         "text": "",
         "textfont": {
          "size": 12
         },
         "textposition": "top center",
         "type": "scatter3d",
         "x": [
          348.83062304020285
         ],
         "y": [
          925.9455733007935
         ],
         "z": [
          733.002787580976
         ]
        },
        {
         "line": {
          "color": "rgba(247, 182, 210, 0.8)",
          "width": 4
         },
         "mode": "lines",
         "showlegend": false,
         "type": "scatter3d",
         "x": [
          342.8594994763345,
          346.2850160508406
         ],
         "y": [
          923.4472360366335,
          919.990201338544
         ],
         "z": [
          735.5235006347617,
          730.4921243524718
         ]
        },
        {
         "line": {
          "color": "rgba(247, 182, 210, 0.8)",
          "width": 4
         },
         "mode": "lines",
         "showlegend": false,
         "type": "scatter3d",
         "x": [
          346.2850160508406,
          354.8017466040712
         ],
         "y": [
          919.990201338544,
          928.4439105649535
         ],
         "z": [
          730.4921243524718,
          730.4820745271903
         ]
        },
        {
         "line": {
          "color": "rgba(247, 182, 210, 0.8)",
          "width": 4
         },
         "mode": "lines",
         "showlegend": false,
         "type": "scatter3d",
         "x": [
          354.8017466040712,
          351.3762300295651
         ],
         "y": [
          928.4439105649535,
          931.900945263043
         ],
         "z": [
          730.4820745271903,
          735.5134508094802
         ]
        },
        {
         "line": {
          "color": "rgba(247, 182, 210, 0.8)",
          "width": 4
         },
         "mode": "lines",
         "showlegend": false,
         "type": "scatter3d",
         "x": [
          351.3762300295651,
          342.8594994763345
         ],
         "y": [
          931.900945263043,
          923.4472360366335
         ],
         "z": [
          735.5134508094802,
          735.5235006347617
         ]
        },
        {
         "line": {
          "color": "black",
          "width": 2
         },
         "mode": "lines",
         "name": "Berechnete Hakenlinie",
         "type": "scatter3d",
         "x": {
          "bdata": "DDixPZ+LdkAWHdLmuwx2QJuPYjtKzXVA",
          "dtype": "f8"
         },
         "y": {
          "bdata": "8rW8nsa1jEABTLw6TdyMQAgXvIiQ74xA",
          "dtype": "f8"
         },
         "z": {
          "bdata": "KDlgshkTh0AQmXS0YfaGQATJfrUF6IZA",
          "dtype": "f8"
         }
        },
        {
         "mode": "text",
         "showlegend": false,
         "text": [
          "Pre-Position"
         ],
         "textfont": {
          "size": 10
         },
         "textposition": "top center",
         "type": "scatter3d",
         "x": [
          360.7263771937003
         ],
         "y": [
          918.7219824545884
         ],
         "z": [
          738.3875472562258
         ]
        },
        {
         "mode": "text",
         "showlegend": false,
         "text": [
          "Loslassen"
         ],
         "textfont": {
          "size": 10
         },
         "textposition": "top center",
         "type": "scatter3d",
         "x": [
          348.83062304020285
         ],
         "y": [
          925.9455733007935
         ],
         "z": [
          733.002787580976
         ]
        },
        {
         "color": "rgba(0,255,0,0.2)",
         "name": "optimale Trajektorie",
         "opacity": 0.8,
         "type": "mesh3d",
         "x": [
          354.7552535323742,
          358.18077030289726,
          366.69750066355704,
          363.27198389303396
         ],
         "y": [
          916.2236452181562,
          912.766610553211,
          921.2203199737728,
          924.677354638718
         ],
         "z": [
          740.9082604394843,
          735.8768842678755,
          735.8668345653551,
          740.8982107369638
         ]
        },
        {
         "line": {
          "color": "rgba(0,255,0,0.2)",
          "width": 3
         },
         "mode": "lines",
         "showlegend": false,
         "type": "scatter3d",
         "x": [
          354.7552535323742,
          358.18077030289726
         ],
         "y": [
          916.2236452181562,
          912.766610553211
         ],
         "z": [
          740.9082604394843,
          735.8768842678755
         ]
        },
        {
         "line": {
          "color": "rgba(0,255,0,0.2)",
          "width": 3
         },
         "mode": "lines",
         "showlegend": false,
         "type": "scatter3d",
         "x": [
          358.18077030289726,
          366.69750066355704
         ],
         "y": [
          912.766610553211,
          921.2203199737728
         ],
         "z": [
          735.8768842678755,
          735.8668345653551
         ]
        },
        {
         "line": {
          "color": "rgba(0,255,0,0.2)",
          "width": 3
         },
         "mode": "lines",
         "showlegend": false,
         "type": "scatter3d",
         "x": [
          366.69750066355704,
          363.27198389303396
         ],
         "y": [
          921.2203199737728,
          924.677354638718
         ],
         "z": [
          735.8668345653551,
          740.8982107369638
         ]
        },
        {
         "line": {
          "color": "rgba(0,255,0,0.2)",
          "width": 3
         },
         "mode": "lines",
         "showlegend": false,
         "type": "scatter3d",
         "x": [
          363.27198389303396,
          354.7552535323742
         ],
         "y": [
          924.677354638718,
          916.2236452181562
         ],
         "z": [
          740.8982107369638,
          740.9082604394843
         ]
        },
        {
         "marker": {
          "color": "green",
          "size": 4
         },
         "mode": "markers",
         "name": "Mitte P3",
         "showlegend": false,
         "type": "scatter3d",
         "x": [
          360.7263770979656
         ],
         "y": [
          918.7219825959645
         ],
         "z": [
          738.3875475024197
         ]
        },
        {
         "color": "rgba(0,255,0,0.2)",
         "name": "optimale Trajektorie",
         "opacity": 0.8,
         "type": "mesh3d",
         "x": [
          348.32127180875534,
          351.55027129653183,
          360.03843354653475,
          356.80943405875826
         ],
         "y": [
          922.0753710412343,
          918.693588655731,
          927.172508309515,
          930.5542906950184
         ],
         "z": [
          737.7205844044221,
          732.5112552532705,
          732.2683085054033,
          737.4776376565549
         ]
        },
        {
         "line": {
          "color": "rgba(0,255,0,0.2)",
          "width": 3
         },
         "mode": "lines",
         "showlegend": false,
         "type": "scatter3d",
         "x": [
          348.32127180875534,
          351.55027129653183
         ],
         "y": [
          922.0753710412343,
          918.693588655731
         ],
         "z": [
          737.7205844044221,
          732.5112552532705
         ]
        },
        {
         "line": {
          "color": "rgba(0,255,0,0.2)",
          "width": 3
         },
         "mode": "lines",
         "showlegend": false,
         "type": "scatter3d",
         "x": [
          351.55027129653183,
          360.03843354653475
         ],
         "y": [
          918.693588655731,
          927.172508309515
         ],
         "z": [
          732.5112552532705,
          732.2683085054033
         ]
        },
        {
         "line": {
          "color": "rgba(0,255,0,0.2)",
          "width": 3
         },
         "mode": "lines",
         "showlegend": false,
         "type": "scatter3d",
         "x": [
          360.03843354653475,
          356.80943405875826
         ],
         "y": [
          927.172508309515,
          930.5542906950184
         ],
         "z": [
          732.2683085054033,
          737.4776376565549
         ]
        },
        {
         "line": {
          "color": "rgba(0,255,0,0.2)",
          "width": 3
         },
         "mode": "lines",
         "showlegend": false,
         "type": "scatter3d",
         "x": [
          356.80943405875826,
          348.32127180875534
         ],
         "y": [
          930.5542906950184,
          922.0753710412343
         ],
         "z": [
          737.4776376565549,
          737.7205844044221
         ]
        },
        {
         "marker": {
          "color": "green",
          "size": 4
         },
         "mode": "markers",
         "name": "Mitte P3",
         "showlegend": false,
         "type": "scatter3d",
         "x": [
          354.17985267764504
         ],
         "y": [
          924.6239396753747
         ],
         "z": [
          734.9944464549126
         ]
        },
        {
         "color": "rgba(0,255,0,0.2)",
         "name": "optimale Trajektorie",
         "opacity": 0.8,
         "type": "mesh3d",
         "x": [
          344.45786774625606,
          347.19461703621727,
          355.65190977732243,
          352.9151604873612
         ],
         "y": [
          923.604273069617,
          920.6762989512706,
          929.1839226055426,
          932.111896723889
         ],
         "z": [
          735.351587915442,
          729.6124964467346,
          729.3050240926611,
          735.0441155613686
         ]
        },
        {
         "line": {
          "color": "rgba(0,255,0,0.2)",
          "width": 3
         },
         "mode": "lines",
         "showlegend": false,
         "type": "scatter3d",
         "x": [
          344.45786774625606,
          347.19461703621727
         ],
         "y": [
          923.604273069617,
          920.6762989512706
         ],
         "z": [
          735.351587915442,
          729.6124964467346
         ]
        },
        {
         "line": {
          "color": "rgba(0,255,0,0.2)",
          "width": 3
         },
         "mode": "lines",
         "showlegend": false,
         "type": "scatter3d",
         "x": [
          347.19461703621727,
          355.65190977732243
         ],
         "y": [
          920.6762989512706,
          929.1839226055426
         ],
         "z": [
          729.6124964467346,
          729.3050240926611
         ]
        },
        {
         "line": {
          "color": "rgba(0,255,0,0.2)",
          "width": 3
         },
         "mode": "lines",
         "showlegend": false,
         "type": "scatter3d",
         "x": [
          355.65190977732243,
          352.9151604873612
         ],
         "y": [
          929.1839226055426,
          932.111896723889
         ],
         "z": [
          729.3050240926611,
          735.0441155613686
         ]
        },
        {
         "line": {
          "color": "rgba(0,255,0,0.2)",
          "width": 3
         },
         "mode": "lines",
         "showlegend": false,
         "type": "scatter3d",
         "x": [
          352.9151604873612,
          344.45786774625606
         ],
         "y": [
          932.111896723889,
          923.604273069617
         ],
         "z": [
          735.0441155613686,
          735.351587915442
         ]
        },
        {
         "marker": {
          "color": "green",
          "size": 4
         },
         "mode": "markers",
         "name": "Mitte P3",
         "showlegend": false,
         "type": "scatter3d",
         "x": [
          350.0548887617892
         ],
         "y": [
          926.3940978375798
         ],
         "z": [
          732.3283060040516
         ]
        },
        {
         "color": "rgba(0,255,0,0.2)",
         "name": "optimale Trajektorie",
         "opacity": 0.8,
         "type": "mesh3d",
         "x": [
          341.4089876137504,
          344.154202138906,
          352.5711869141524,
          349.82597238899683
         ],
         "y": [
          926.002961472274,
          923.0704876185356,
          931.6167178110749,
          934.5491916648133
         ],
         "z": [
          732.6121926382228,
          726.8794451025279,
          726.5383926294411,
          732.271140165136
         ]
        },
        {
         "line": {
          "color": "rgba(0,255,0,0.2)",
          "width": 3
         },
         "mode": "lines",
         "showlegend": false,
         "type": "scatter3d",
         "x": [
          341.4089876137504,
          344.154202138906
         ],
         "y": [
          926.002961472274,
          923.0704876185356
         ],
         "z": [
          732.6121926382228,
          726.8794451025279
         ]
        },
        {
         "line": {
          "color": "rgba(0,255,0,0.2)",
          "width": 3
         },
         "mode": "lines",
         "showlegend": false,
         "type": "scatter3d",
         "x": [
          344.154202138906,
          352.5711869141524
         ],
         "y": [
          923.0704876185356,
          931.6167178110749
         ],
         "z": [
          726.8794451025279,
          726.5383926294411
         ]
        },
        {
         "line": {
          "color": "rgba(0,255,0,0.2)",
          "width": 3
         },
         "mode": "lines",
         "showlegend": false,
         "type": "scatter3d",
         "x": [
          352.5711869141524,
          349.82597238899683
         ],
         "y": [
          931.6167178110749,
          934.5491916648133
         ],
         "z": [
          726.5383926294411,
          732.271140165136
         ]
        },
        {
         "line": {
          "color": "rgba(0,255,0,0.2)",
          "width": 3
         },
         "mode": "lines",
         "showlegend": false,
         "type": "scatter3d",
         "x": [
          349.82597238899683,
          341.4089876137504
         ],
         "y": [
          934.5491916648133,
          926.002961472274
         ],
         "z": [
          732.271140165136,
          732.6121926382228
         ]
        },
        {
         "marker": {
          "color": "green",
          "size": 4
         },
         "mode": "markers",
         "name": "Mitte P3",
         "showlegend": false,
         "type": "scatter3d",
         "x": [
          346.9900872639514
         ],
         "y": [
          928.8098396416744
         ],
         "z": [
          729.575292633832
         ]
        },
        {
         "color": "rgba(0,255,0,0.2)",
         "name": "optimale Trajektorie",
         "opacity": 0.8,
         "type": "mesh3d",
         "x": [
          341.23017817051556,
          341.5601028893483,
          349.98723222577513,
          349.6573075069424
         ],
         "y": [
          925.7492919965342,
          925.1119763891603,
          933.6464759807324,
          934.2837915881063
         ],
         "z": [
          732.9613709286734,
          725.9982553547007,
          725.6164073894183,
          732.579522963391
         ]
        },
        {
         "line": {
          "color": "rgba(0,255,0,0.2)",
          "width": 3
         },
         "mode": "lines",
         "showlegend": false,
         "type": "scatter3d",
         "x": [
          341.23017817051556,
          341.5601028893483
         ],
         "y": [
          925.7492919965342,
          925.1119763891603
         ],
         "z": [
          732.9613709286734,
          725.9982553547007
         ]
        },
        {
         "line": {
          "color": "rgba(0,255,0,0.2)",
          "width": 3
         },
         "mode": "lines",
         "showlegend": false,
         "type": "scatter3d",
         "x": [
          341.5601028893483,
          349.98723222577513
         ],
         "y": [
          925.1119763891603,
          933.6464759807324
         ],
         "z": [
          725.9982553547007,
          725.6164073894183
         ]
        },
        {
         "line": {
          "color": "rgba(0,255,0,0.2)",
          "width": 3
         },
         "mode": "lines",
         "showlegend": false,
         "type": "scatter3d",
         "x": [
          349.98723222577513,
          349.6573075069424
         ],
         "y": [
          933.6464759807324,
          934.2837915881063
         ],
         "z": [
          725.6164073894183,
          732.579522963391
         ]
        },
        {
         "line": {
          "color": "rgba(0,255,0,0.2)",
          "width": 3
         },
         "mode": "lines",
         "showlegend": false,
         "type": "scatter3d",
         "x": [
          349.6573075069424,
          341.23017817051556
         ],
         "y": [
          934.2837915881063,
          925.7492919965342
         ],
         "z": [
          732.579522963391,
          732.9613709286734
         ]
        },
        {
         "marker": {
          "color": "green",
          "size": 4
         },
         "mode": "markers",
         "name": "Mitte P3",
         "showlegend": false,
         "type": "scatter3d",
         "x": [
          345.60870519814534
         ],
         "y": [
          929.6978839886333
         ],
         "z": [
          729.2888891590459
         ]
        },
        {
         "line": {
          "color": "green",
          "width": 2
         },
         "mode": "lines",
         "name": "Optimale Hakenlinie",
         "type": "scatter3d",
         "x": {
          "bdata": "NoWXPZ+LdkBWiTOt4CJ2QNfMCdPg4HVAuC2+ZdevdUAIb6lBvZl1QA==",
          "dtype": "f8"
         },
         "y": {
          "bdata": "l6/Pnsa1jEBKoxXU/eSMQKNexBwn84xA+L80jXoGjUCoXDNElQ2NQA==",
          "dtype": "f8"
         },
         "z": {
          "bdata": "UESBshkTh0DIy1eg9PeGQNvz5V6g4oZAgT8GM5rMhkArkh6lT8qGQA==",
          "dtype": "f8"
         }
        },
        {
         "line": {
          "color": "gray",
          "dash": "dash"
         },
         "mode": "lines",
         "name": "Direkte Gerade Spitze -> Senke",
         "type": "scatter3d",
         "x": [
          352.79885981866585,
          343.8687516768666
         ],
         "y": [
          923.8833441621676,
          928.9599347828362
         ],
         "z": [
          734.8073932893528,
          730.7928638091671
         ]
        },
        {
         "marker": {
          "color": "magenta",
          "size": 8
         },
         "mode": "markers",
         "name": "Spitze",
         "type": "scatter3d",
         "x": [
          352.79885981866585
         ],
         "y": [
          923.8833441621676
         ],
         "z": [
          734.8073932893528
         ]
        },
        {
         "marker": {
          "color": "magenta",
          "size": 8
         },
         "mode": "markers",
         "name": "Senke",
         "type": "scatter3d",
         "x": [
          343.8687516768666
         ],
         "y": [
          928.9599347828362
         ],
         "z": [
          730.7928638091671
         ]
        },
        {
         "mode": "text",
         "showlegend": false,
         "text": [
          "Spitze"
         ],
         "textfont": {
          "size": 10
         },
         "textposition": "top center",
         "type": "scatter3d",
         "x": [
          352.79885981866585
         ],
         "y": [
          923.8833441621676
         ],
         "z": [
          734.8073932893528
         ]
        },
        {
         "mode": "text",
         "showlegend": false,
         "text": [
          "Senke"
         ],
         "textfont": {
          "size": 10
         },
         "textposition": "top center",
         "type": "scatter3d",
         "x": [
          343.8687516768666
         ],
         "y": [
          928.9599347828362
         ],
         "z": [
          730.7928638091671
         ]
        }
       ],
       "layout": {
        "legend": {
         "title": {
          "text": "Legende"
         }
        },
        "scene": {
         "aspectmode": "cube",
         "xaxis": {
          "title": {
           "text": "X"
          }
         },
         "yaxis": {
          "title": {
           "text": "Y"
          }
         },
         "zaxis": {
          "title": {
           "text": "Z"
          }
         }
        },
        "template": {
         "data": {
          "bar": [
           {
            "error_x": {
             "color": "#2a3f5f"
            },
            "error_y": {
             "color": "#2a3f5f"
            },
            "marker": {
             "line": {
              "color": "#E5ECF6",
              "width": 0.5
             },
             "pattern": {
              "fillmode": "overlay",
              "size": 10,
              "solidity": 0.2
             }
            },
            "type": "bar"
           }
          ],
          "barpolar": [
           {
            "marker": {
             "line": {
              "color": "#E5ECF6",
              "width": 0.5
             },
             "pattern": {
              "fillmode": "overlay",
              "size": 10,
              "solidity": 0.2
             }
            },
            "type": "barpolar"
           }
          ],
          "carpet": [
           {
            "aaxis": {
             "endlinecolor": "#2a3f5f",
             "gridcolor": "white",
             "linecolor": "white",
             "minorgridcolor": "white",
             "startlinecolor": "#2a3f5f"
            },
            "baxis": {
             "endlinecolor": "#2a3f5f",
             "gridcolor": "white",
             "linecolor": "white",
             "minorgridcolor": "white",
             "startlinecolor": "#2a3f5f"
            },
            "type": "carpet"
           }
          ],
          "choropleth": [
           {
            "colorbar": {
             "outlinewidth": 0,
             "ticks": ""
            },
            "type": "choropleth"
           }
          ],
          "contour": [
           {
            "colorbar": {
             "outlinewidth": 0,
             "ticks": ""
            },
            "colorscale": [
             [
              0,
              "#0d0887"
             ],
             [
              0.1111111111111111,
              "#46039f"
             ],
             [
              0.2222222222222222,
              "#7201a8"
             ],
             [
              0.3333333333333333,
              "#9c179e"
             ],
             [
              0.4444444444444444,
              "#bd3786"
             ],
             [
              0.5555555555555556,
              "#d8576b"
             ],
             [
              0.6666666666666666,
              "#ed7953"
             ],
             [
              0.7777777777777778,
              "#fb9f3a"
             ],
             [
              0.8888888888888888,
              "#fdca26"
             ],
             [
              1,
              "#f0f921"
             ]
            ],
            "type": "contour"
           }
          ],
          "contourcarpet": [
           {
            "colorbar": {
             "outlinewidth": 0,
             "ticks": ""
            },
            "type": "contourcarpet"
           }
          ],
          "heatmap": [
           {
            "colorbar": {
             "outlinewidth": 0,
             "ticks": ""
            },
            "colorscale": [
             [
              0,
              "#0d0887"
             ],
             [
              0.1111111111111111,
              "#46039f"
             ],
             [
              0.2222222222222222,
              "#7201a8"
             ],
             [
              0.3333333333333333,
              "#9c179e"
             ],
             [
              0.4444444444444444,
              "#bd3786"
             ],
             [
              0.5555555555555556,
              "#d8576b"
             ],
             [
              0.6666666666666666,
              "#ed7953"
             ],
             [
              0.7777777777777778,
              "#fb9f3a"
             ],
             [
              0.8888888888888888,
              "#fdca26"
             ],
             [
              1,
              "#f0f921"
             ]
            ],
            "type": "heatmap"
           }
          ],
          "histogram": [
           {
            "marker": {
             "pattern": {
              "fillmode": "overlay",
              "size": 10,
              "solidity": 0.2
             }
            },
            "type": "histogram"
           }
          ],
          "histogram2d": [
           {
            "colorbar": {
             "outlinewidth": 0,
             "ticks": ""
            },
            "colorscale": [
             [
              0,
              "#0d0887"
             ],
             [
              0.1111111111111111,
              "#46039f"
             ],
             [
              0.2222222222222222,
              "#7201a8"
             ],
             [
              0.3333333333333333,
              "#9c179e"
             ],
             [
              0.4444444444444444,
              "#bd3786"
             ],
             [
              0.5555555555555556,
              "#d8576b"
             ],
             [
              0.6666666666666666,
              "#ed7953"
             ],
             [
              0.7777777777777778,
              "#fb9f3a"
             ],
             [
              0.8888888888888888,
              "#fdca26"
             ],
             [
              1,
              "#f0f921"
             ]
            ],
            "type": "histogram2d"
           }
          ],
          "histogram2dcontour": [
           {
            "colorbar": {
             "outlinewidth": 0,
             "ticks": ""
            },
            "colorscale": [
             [
              0,
              "#0d0887"
             ],
             [
              0.1111111111111111,
              "#46039f"
             ],
             [
              0.2222222222222222,
              "#7201a8"
             ],
             [
              0.3333333333333333,
              "#9c179e"
             ],
             [
              0.4444444444444444,
              "#bd3786"
             ],
             [
              0.5555555555555556,
              "#d8576b"
             ],
             [
              0.6666666666666666,
              "#ed7953"
             ],
             [
              0.7777777777777778,
              "#fb9f3a"
             ],
             [
              0.8888888888888888,
              "#fdca26"
             ],
             [
              1,
              "#f0f921"
             ]
            ],
            "type": "histogram2dcontour"
           }
          ],
          "mesh3d": [
           {
            "colorbar": {
             "outlinewidth": 0,
             "ticks": ""
            },
            "type": "mesh3d"
           }
          ],
          "parcoords": [
           {
            "line": {
             "colorbar": {
              "outlinewidth": 0,
              "ticks": ""
             }
            },
            "type": "parcoords"
           }
          ],
          "pie": [
           {
            "automargin": true,
            "type": "pie"
           }
          ],
          "scatter": [
           {
            "fillpattern": {
             "fillmode": "overlay",
             "size": 10,
             "solidity": 0.2
            },
            "type": "scatter"
           }
          ],
          "scatter3d": [
           {
            "line": {
             "colorbar": {
              "outlinewidth": 0,
              "ticks": ""
             }
            },
            "marker": {
             "colorbar": {
              "outlinewidth": 0,
              "ticks": ""
             }
            },
            "type": "scatter3d"
           }
          ],
          "scattercarpet": [
           {
            "marker": {
             "colorbar": {
              "outlinewidth": 0,
              "ticks": ""
             }
            },
            "type": "scattercarpet"
           }
          ],
          "scattergeo": [
           {
            "marker": {
             "colorbar": {
              "outlinewidth": 0,
              "ticks": ""
             }
            },
            "type": "scattergeo"
           }
          ],
          "scattergl": [
           {
            "marker": {
             "colorbar": {
              "outlinewidth": 0,
              "ticks": ""
             }
            },
            "type": "scattergl"
           }
          ],
          "scattermap": [
           {
            "marker": {
             "colorbar": {
              "outlinewidth": 0,
              "ticks": ""
             }
            },
            "type": "scattermap"
           }
          ],
          "scattermapbox": [
           {
            "marker": {
             "colorbar": {
              "outlinewidth": 0,
              "ticks": ""
             }
            },
            "type": "scattermapbox"
           }
          ],
          "scatterpolar": [
           {
            "marker": {
             "colorbar": {
              "outlinewidth": 0,
              "ticks": ""
             }
            },
            "type": "scatterpolar"
           }
          ],
          "scatterpolargl": [
           {
            "marker": {
             "colorbar": {
              "outlinewidth": 0,
              "ticks": ""
             }
            },
            "type": "scatterpolargl"
           }
          ],
          "scatterternary": [
           {
            "marker": {
             "colorbar": {
              "outlinewidth": 0,
              "ticks": ""
             }
            },
            "type": "scatterternary"
           }
          ],
          "surface": [
           {
            "colorbar": {
             "outlinewidth": 0,
             "ticks": ""
            },
            "colorscale": [
             [
              0,
              "#0d0887"
             ],
             [
              0.1111111111111111,
              "#46039f"
             ],
             [
              0.2222222222222222,
              "#7201a8"
             ],
             [
              0.3333333333333333,
              "#9c179e"
             ],
             [
              0.4444444444444444,
              "#bd3786"
             ],
             [
              0.5555555555555556,
              "#d8576b"
             ],
             [
              0.6666666666666666,
              "#ed7953"
             ],
             [
              0.7777777777777778,
              "#fb9f3a"
             ],
             [
              0.8888888888888888,
              "#fdca26"
             ],
             [
              1,
              "#f0f921"
             ]
            ],
            "type": "surface"
           }
          ],
          "table": [
           {
            "cells": {
             "fill": {
              "color": "#EBF0F8"
             },
             "line": {
              "color": "white"
             }
            },
            "header": {
             "fill": {
              "color": "#C8D4E3"
             },
             "line": {
              "color": "white"
             }
            },
            "type": "table"
           }
          ]
         },
         "layout": {
          "annotationdefaults": {
           "arrowcolor": "#2a3f5f",
           "arrowhead": 0,
           "arrowwidth": 1
          },
          "autotypenumbers": "strict",
          "coloraxis": {
           "colorbar": {
            "outlinewidth": 0,
            "ticks": ""
           }
          },
          "colorscale": {
           "diverging": [
            [
             0,
             "#8e0152"
            ],
            [
             0.1,
             "#c51b7d"
            ],
            [
             0.2,
             "#de77ae"
            ],
            [
             0.3,
             "#f1b6da"
            ],
            [
             0.4,
             "#fde0ef"
            ],
            [
             0.5,
             "#f7f7f7"
            ],
            [
             0.6,
             "#e6f5d0"
            ],
            [
             0.7,
             "#b8e186"
            ],
            [
             0.8,
             "#7fbc41"
            ],
            [
             0.9,
             "#4d9221"
            ],
            [
             1,
             "#276419"
            ]
           ],
           "sequential": [
            [
             0,
             "#0d0887"
            ],
            [
             0.1111111111111111,
             "#46039f"
            ],
            [
             0.2222222222222222,
             "#7201a8"
            ],
            [
             0.3333333333333333,
             "#9c179e"
            ],
            [
             0.4444444444444444,
             "#bd3786"
            ],
            [
             0.5555555555555556,
             "#d8576b"
            ],
            [
             0.6666666666666666,
             "#ed7953"
            ],
            [
             0.7777777777777778,
             "#fb9f3a"
            ],
            [
             0.8888888888888888,
             "#fdca26"
            ],
            [
             1,
             "#f0f921"
            ]
           ],
           "sequentialminus": [
            [
             0,
             "#0d0887"
            ],
            [
             0.1111111111111111,
             "#46039f"
            ],
            [
             0.2222222222222222,
             "#7201a8"
            ],
            [
             0.3333333333333333,
             "#9c179e"
            ],
            [
             0.4444444444444444,
             "#bd3786"
            ],
            [
             0.5555555555555556,
             "#d8576b"
            ],
            [
             0.6666666666666666,
             "#ed7953"
            ],
            [
             0.7777777777777778,
             "#fb9f3a"
            ],
            [
             0.8888888888888888,
             "#fdca26"
            ],
            [
             1,
             "#f0f921"
            ]
           ]
          },
          "colorway": [
           "#636efa",
           "#EF553B",
           "#00cc96",
           "#ab63fa",
           "#FFA15A",
           "#19d3f3",
           "#FF6692",
           "#B6E880",
           "#FF97FF",
           "#FECB52"
          ],
          "font": {
           "color": "#2a3f5f"
          },
          "geo": {
           "bgcolor": "white",
           "lakecolor": "white",
           "landcolor": "#E5ECF6",
           "showlakes": true,
           "showland": true,
           "subunitcolor": "white"
          },
          "hoverlabel": {
           "align": "left"
          },
          "hovermode": "closest",
          "mapbox": {
           "style": "light"
          },
          "paper_bgcolor": "white",
          "plot_bgcolor": "#E5ECF6",
          "polar": {
           "angularaxis": {
            "gridcolor": "white",
            "linecolor": "white",
            "ticks": ""
           },
           "bgcolor": "#E5ECF6",
           "radialaxis": {
            "gridcolor": "white",
            "linecolor": "white",
            "ticks": ""
           }
          },
          "scene": {
           "xaxis": {
            "backgroundcolor": "#E5ECF6",
            "gridcolor": "white",
            "gridwidth": 2,
            "linecolor": "white",
            "showbackground": true,
            "ticks": "",
            "zerolinecolor": "white"
           },
           "yaxis": {
            "backgroundcolor": "#E5ECF6",
            "gridcolor": "white",
            "gridwidth": 2,
            "linecolor": "white",
            "showbackground": true,
            "ticks": "",
            "zerolinecolor": "white"
           },
           "zaxis": {
            "backgroundcolor": "#E5ECF6",
            "gridcolor": "white",
            "gridwidth": 2,
            "linecolor": "white",
            "showbackground": true,
            "ticks": "",
            "zerolinecolor": "white"
           }
          },
          "shapedefaults": {
           "line": {
            "color": "#2a3f5f"
           }
          },
          "ternary": {
           "aaxis": {
            "gridcolor": "white",
            "linecolor": "white",
            "ticks": ""
           },
           "baxis": {
            "gridcolor": "white",
            "linecolor": "white",
            "ticks": ""
           },
           "bgcolor": "#E5ECF6",
           "caxis": {
            "gridcolor": "white",
            "linecolor": "white",
            "ticks": ""
           }
          },
          "title": {
           "x": 0.05
          },
          "xaxis": {
           "automargin": true,
           "gridcolor": "white",
           "linecolor": "white",
           "ticks": "",
           "title": {
            "standoff": 15
           },
           "zerolinecolor": "white",
           "zerolinewidth": 2
          },
          "yaxis": {
           "automargin": true,
           "gridcolor": "white",
           "linecolor": "white",
           "ticks": "",
           "title": {
            "standoff": 15
           },
           "zerolinecolor": "white",
           "zerolinewidth": 2
          }
         }
        },
        "title": {
         "text": "Haken 23, Trajektorien-Ansatz 4"
        }
       }
      }
     },
     "metadata": {},
     "output_type": "display_data"
    }
   ],
   "source": [
    "visualize_rectangles_html(\n",
    "    rectangles = rectangles_1,\n",
    "    secondary_rectangles = rectangles_optim,\n",
    "    secondary_legend_title = 'optimale Trajektorie',\n",
    "    connect_points = (trajectory_1[1][0], trajectory_1[-1][0]),\n",
    "    hook_num = hook_num,\n",
    "    trajectory_process = 1,\n",
    "    html_filename = '/home/mo/Thesis/Evaluation/Trajektorientests/traj1.html'\n",
    "    )\n",
    "\n",
    "visualize_rectangles_html(\n",
    "    rectangles = rectangles_2,\n",
    "    secondary_rectangles = rectangles_optim,\n",
    "    secondary_legend_title = 'optimale Trajektorie',\n",
    "    connect_points = (trajectory_1[1][0], trajectory_1[-1][0]),\n",
    "    hook_num = hook_num,\n",
    "    trajectory_process = 2,\n",
    "    html_filename = '/home/mo/Thesis/Evaluation/Trajektorientests/traj2.html'\n",
    "    )\n",
    "\n",
    "visualize_rectangles_html(\n",
    "    rectangles = rectangles_3,\n",
    "    secondary_rectangles = rectangles_optim,\n",
    "    secondary_legend_title = 'optimale Trajektorie',\n",
    "    connect_points = (trajectory_1[1][0], trajectory_1[-1][0]),\n",
    "    hook_num = hook_num,\n",
    "    trajectory_process = 3,\n",
    "    html_filename = '/home/mo/Thesis/Evaluation/Trajektorientests/traj3.html'\n",
    "    )\n",
    "\n",
    "visualize_rectangles_html(\n",
    "    rectangles = rectangles_4,\n",
    "    secondary_rectangles = rectangles_optim,\n",
    "    secondary_legend_title = 'optimale Trajektorie',\n",
    "    connect_points = (trajectory_1[1][0], trajectory_1[-1][0]),\n",
    "    hook_num = hook_num,\n",
    "    trajectory_process = 4,\n",
    "    html_filename = '/home/mo/Thesis/Evaluation/Trajektorientests/traj4.html'\n",
    "    )"
   ]
  },
  {
   "cell_type": "code",
   "execution_count": null,
   "id": "5bd2d90f",
   "metadata": {},
   "outputs": [],
   "source": []
  }
 ],
 "metadata": {
  "kernelspec": {
   "display_name": "Python 3",
   "language": "python",
   "name": "python3"
  },
  "language_info": {
   "codemirror_mode": {
    "name": "ipython",
    "version": 3
   },
   "file_extension": ".py",
   "mimetype": "text/x-python",
   "name": "python",
   "nbconvert_exporter": "python",
   "pygments_lexer": "ipython3",
   "version": "3.8.10"
  }
 },
 "nbformat": 4,
 "nbformat_minor": 5
}
