{
 "cells": [
  {
   "cell_type": "code",
   "execution_count": 1,
   "id": "c56fbbd2",
   "metadata": {},
   "outputs": [],
   "source": [
    "import csv\n",
    "import numpy as np\n",
    "from scipy.spatial.transform import Rotation as R\n",
    "import matplotlib.pyplot as plt\n",
    "from mpl_toolkits.mplot3d.art3d import Poly3DCollection\n",
    "import matplotlib.cm as cm"
   ]
  },
  {
   "cell_type": "code",
   "execution_count": 2,
   "id": "ce8ad287",
   "metadata": {},
   "outputs": [],
   "source": [
    "def load_csv_to_trajectory(filepath):\n",
    "    \"\"\"Lädt die CSV und stellt Trajektorie-Liste wieder her\"\"\"\n",
    "    trajectory = []\n",
    "    with open(filepath, mode='r', newline='') as file:\n",
    "        reader = csv.reader(file)\n",
    "        next(reader)  # Überspringe Kopfzeile\n",
    "\n",
    "        for row in reader:\n",
    "            numbers = list(map(float, row))\n",
    "            trans = numbers[:3]\n",
    "            rot = numbers[3:]\n",
    "            trajectory.append((trans, rot))\n",
    "    return trajectory"
   ]
  },
  {
   "cell_type": "code",
   "execution_count": 3,
   "id": "6ae1d02a",
   "metadata": {},
   "outputs": [],
   "source": [
    "traj_optim_path = traj_1_path = '/home/mo/Thesis/Evaluation/Trajektorientests/CSV/trajectory_0.csv'\n",
    "traj_1_path = '/home/mo/Thesis/Evaluation/Trajektorientests/CSV/trajectory_1.csv'\n",
    "traj_2_path = '/home/mo/Thesis/Evaluation/Trajektorientests/CSV/trajectory_2.csv'\n",
    "traj_3_path = '/home/mo/Thesis/Evaluation/Trajektorientests/CSV/trajectory_3.csv'\n",
    "traj_4_path = '/home/mo/Thesis/Evaluation/Trajektorientests/CSV/trajectory_4.csv'"
   ]
  },
  {
   "cell_type": "code",
   "execution_count": 4,
   "id": "aad60faa",
   "metadata": {},
   "outputs": [],
   "source": [
    "trajectory_optim = load_csv_to_trajectory(traj_optim_path)\n",
    "trajectory_1 = load_csv_to_trajectory(traj_1_path)\n",
    "trajectory_2 = load_csv_to_trajectory(traj_2_path)\n",
    "trajectory_3 = load_csv_to_trajectory(traj_3_path)\n",
    "trajectory_4 = load_csv_to_trajectory(traj_4_path)"
   ]
  },
  {
   "cell_type": "code",
   "execution_count": 5,
   "id": "edfb46e9",
   "metadata": {},
   "outputs": [],
   "source": [
    "def compute_rectangle_corners(trajectory, width=7, height=12):\n",
    "    \"\"\"\n",
    "    Berechnet die Rechteck-Eckpunkte (4 Stück) für jeden Trajektorienpunkt.\n",
    "\n",
    "    :param trajectory: Liste von ([x, y, z], [roll, pitch, yaw]) Einträgen\n",
    "    :param width: Breite des Rechtecks (in X-Richtung)\n",
    "    :param height: Höhe des Rechtecks (in Y-Richtung)\n",
    "    :return: Liste von Rechtecken, jedes als Liste von 4 Eckpunkten (jeweils [x, y, z])\n",
    "    \"\"\"\n",
    "    rectangles = []\n",
    "\n",
    "    # Rechteck im lokalen TCP-Koordinatensystem (XY-Ebene, Zentrum im Ursprung)\n",
    "    half_w = width / 2\n",
    "    half_h = height / 2\n",
    "    local_corners = np.array([\n",
    "        [-half_w, 0, -half_h],\n",
    "        [ half_w, 0, -half_h],\n",
    "        [ half_w, 0, half_h],\n",
    "        [-half_w, 0, half_h]\n",
    "    ])\n",
    "\n",
    "    for trans, rpy in trajectory:\n",
    "        # RPY in Radiant, falls nicht schon so\n",
    "        rot = R.from_euler('xyz', rpy, degrees=True)\n",
    "        rotated_corners = rot.apply(local_corners)\n",
    "        translated_corners = rotated_corners + np.array(trans)\n",
    "        rectangles.append(translated_corners.tolist())\n",
    "    return rectangles"
   ]
  },
  {
   "cell_type": "code",
   "execution_count": 6,
   "id": "05d04c48",
   "metadata": {},
   "outputs": [],
   "source": [
    "rectangles_optim = compute_rectangle_corners(trajectory_optim)\n",
    "rectangles_1 = compute_rectangle_corners(trajectory_1)\n",
    "rectangles_2 = compute_rectangle_corners(trajectory_2)\n",
    "rectangles_3 = compute_rectangle_corners(trajectory_3)\n",
    "rectangles_4 = compute_rectangle_corners(trajectory_4)"
   ]
  },
  {
   "cell_type": "code",
   "execution_count": null,
   "id": "f78ad7a3",
   "metadata": {},
   "outputs": [],
   "source": [
    "def visualize_rectangles(rectangles, figsize=(6, 6), connect_points=None, \n",
    "                         secondary_rectangles=None, secondary_legend_title=None,\n",
    "                         hook_num = 0, trajectory_process = 1):\n",
    "    \"\"\"\n",
    "    Visualisiert Rechtecke + Trajektorie im 3D-Raum mit Legende und Bezeichnungen der Trajektorienpunkte.\n",
    "    \n",
    "    Zusätzlich kann ein zweiter Satz Rechtecke (grau & transparent) dargestellt werden – inkl. Mittelpunktslinie.\n",
    "\n",
    "    :param rectangles: Liste von Rechtecken (jeweils 4 Punkte [x, y, z])\n",
    "    :param figsize: Größe der Plotfläche (Breite, Höhe)\n",
    "    :param connect_points: Optionales Tupel mit zwei Punkten [x, y, z], die verbunden werden sollen\n",
    "    :param secondary_rectangles: Optionaler zweiter Satz Rechtecke (werden grau dargestellt)\n",
    "    :param secondary_legend_title: Optionaler Legenden-Eintrag für die grauen Rechtecke\n",
    "    \"\"\"\n",
    "    %matplotlib qt\n",
    "\n",
    "    fig = plt.figure(figsize=figsize)\n",
    "    ax = fig.add_subplot(111, projection='3d')\n",
    "    fig.suptitle(f\"Einfädelung Trajektorie Spitze -> Senke (TCP in WORLD-Frame)\", fontsize=14, y=0.98)\n",
    "\n",
    "    centers = []\n",
    "    cmap = cm.get_cmap('tab20')\n",
    "    legend_handles = []\n",
    "\n",
    "    # Berechnete Trajektorie (farbig)\n",
    "    for i, rect in enumerate(rectangles):\n",
    "        color = cmap(i / len(rectangles))\n",
    "        poly = Poly3DCollection([rect], facecolors=color, alpha=0.2, edgecolors=color)\n",
    "        ax.add_collection3d(poly)\n",
    "\n",
    "        if i == 0:\n",
    "            label = 'Pre-Position'\n",
    "        elif i == 1:\n",
    "            label = 'Spitze'\n",
    "        elif i == len(rectangles) - 1:\n",
    "            label = 'Loslassen'\n",
    "        else:\n",
    "            label = str(i + 1)\n",
    "\n",
    "        legend_handles.append(plt.Line2D([0], [0], marker='o', color='w', label=label,\n",
    "                                         markersize=10, markerfacecolor=color))\n",
    "\n",
    "        center = np.mean(np.array(rect), axis=0)\n",
    "        centers.append(center)\n",
    "        ax.scatter(*center, color='red', s=30)\n",
    "        ax.text(center[0]-5, center[1]-5, center[2], f\"P{i}\", color=color, alpha = 1, fontsize=12)\n",
    "\n",
    "    # Linie durch die berechneten Mittelpunkte\n",
    "    centers = np.array(centers)\n",
    "    ax.plot(centers[:, 0], centers[:, 1], centers[:, 2], color='black', linewidth=2)\n",
    "\n",
    "    # Beschriftung Hauptlinie\n",
    "    if len(centers) > 0:\n",
    "        ax.text(*centers[0], 'Pre-Position', color='black', fontsize=10)\n",
    "    if len(centers) > 2:\n",
    "        ax.text(*centers[-1], 'Loslassen', color='black', fontsize=10)\n",
    "\n",
    "    # Optimal-Trajektorie (grün)\n",
    "    if secondary_rectangles is not None:\n",
    "        secondary_centers = []\n",
    "        for rect in secondary_rectangles:\n",
    "            poly = Poly3DCollection([rect], facecolors='green', alpha=0.6, edgecolors='gray')\n",
    "            ax.add_collection3d(poly)\n",
    "\n",
    "            center = np.mean(np.array(rect), axis=0)\n",
    "            secondary_centers.append(center)\n",
    "            ax.scatter(*center, color='green', s=20)\n",
    "\n",
    "        # Linie durch grüne Mittelpunkte\n",
    "        secondary_centers = np.array(secondary_centers)\n",
    "        ax.plot(secondary_centers[:, 0], secondary_centers[:, 1], secondary_centers[:, 2],\n",
    "                color='green', linewidth=1, linestyle='--')\n",
    "\n",
    "        # Legendenhandle für Optimal-Trajektorie\n",
    "        if secondary_legend_title:\n",
    "            legend_handles.append(plt.Line2D([0], [0], marker='o', color='w', label=secondary_legend_title,\n",
    "                                             markersize=10, markerfacecolor='green'))\n",
    "\n",
    "    # Einzeichnen von Spitze und Senke inkl. graue Verbindungslinie\n",
    "    if connect_points is not None and len(connect_points) == 2:\n",
    "        p1, p2 = np.array(connect_points[0]), np.array(connect_points[1])\n",
    "        ax.plot([p1[0], p2[0]], [p1[1], p2[1]], [p1[2], p2[2]],\n",
    "                color='gray', linestyle='dashed', linewidth=2)\n",
    "        ax.scatter(*p1, 'o', color='magenta', linewidth=6)\n",
    "        ax.scatter(*p2, 'o', color='magenta', linewidth=6)\n",
    "        ax.text(*p1, 'Spitze', color='magenta', fontsize=12, ha='center')\n",
    "        ax.text(*p2, 'Senke', color='magenta', fontsize=12, ha='center')\n",
    "\n",
    "    # Achseneinstellungen\n",
    "    ax.set_xlabel('X')\n",
    "    ax.set_ylabel('Y')\n",
    "    ax.set_zlabel('Z')\n",
    "    ax.set_title(f\"Haken {hook_num}, Trajektorien-Ansatz {trajectory_process}\", fontsize = 10)\n",
    "\n",
    "    all_points = rectangles + (secondary_rectangles if secondary_rectangles else [])\n",
    "    all_points = np.vstack(all_points)\n",
    "    mid = np.mean(all_points, axis=0)\n",
    "    max_range = np.ptp(all_points, axis=0).max() / 2\n",
    "    for i, axis in enumerate([ax.set_xlim, ax.set_ylim, ax.set_zlim]):\n",
    "        axis(mid[i] - max_range, mid[i] + max_range)\n",
    "\n",
    "    ax.set_box_aspect([1, 1, 1])\n",
    "    ax.legend(handles=legend_handles, title=\"Trajektorien-Punkte\", loc='upper left')\n",
    "    plt.tight_layout(pad=0.5, w_pad=0.5, h_pad=0.5)\n",
    "    plt.show()"
   ]
  },
  {
   "cell_type": "code",
   "execution_count": 46,
   "id": "5a944d76",
   "metadata": {},
   "outputs": [
    {
     "name": "stderr",
     "output_type": "stream",
     "text": [
      "/tmp/ipykernel_843311/2776531934.py:22: MatplotlibDeprecationWarning:\n",
      "\n",
      "The get_cmap function was deprecated in Matplotlib 3.7 and will be removed two minor releases later. Use ``matplotlib.colormaps[name]`` or ``matplotlib.colormaps.get_cmap(obj)`` instead.\n",
      "\n"
     ]
    }
   ],
   "source": [
    "hook_num = 12\n",
    "\n",
    "visualize_rectangles(rectangles = rectangles_1,\n",
    "                     # secondary_rectangles = rectangles_optim,\n",
    "                     # secondary_legend_title = 'optimale Trajektorie',\n",
    "                     connect_points = (trajectory_1[1][0], trajectory_1[-1][0]),\n",
    "                     hook_num = hook_num,\n",
    "                     trajectory_process = 1)\n",
    "\n",
    "visualize_rectangles(rectangles = rectangles_2,\n",
    "                     secondary_rectangles = rectangles_optim,\n",
    "                     secondary_legend_title = 'optimale Trajektorie',\n",
    "                     connect_points = (trajectory_1[1][0], trajectory_1[-1][0]),\n",
    "                     hook_num = hook_num,\n",
    "                     trajectory_process = 2)\n",
    "\n",
    "visualize_rectangles(rectangles = rectangles_3,\n",
    "                     secondary_rectangles = rectangles_optim,\n",
    "                     secondary_legend_title = 'optimale Trajektorie',\n",
    "                     connect_points = (trajectory_1[1][0], trajectory_1[-1][0]),\n",
    "                     hook_num = hook_num,\n",
    "                     trajectory_process = 3)\n",
    "\n",
    "visualize_rectangles(rectangles = rectangles_4,\n",
    "                     secondary_rectangles = rectangles_optim,\n",
    "                     secondary_legend_title = 'optimale Trajektorie',\n",
    "                     connect_points = (trajectory_1[1][0], trajectory_1[-1][0]),\n",
    "                     hook_num = hook_num,\n",
    "                     trajectory_process = 4)"
   ]
  },
  {
   "cell_type": "code",
   "execution_count": 9,
   "id": "f0769d9e",
   "metadata": {},
   "outputs": [],
   "source": [
    "import plotly.graph_objects as go"
   ]
  },
  {
   "cell_type": "code",
   "execution_count": 76,
   "id": "0653e612",
   "metadata": {},
   "outputs": [],
   "source": [
    "import plotly.graph_objects as go\n",
    "import numpy as np\n",
    "import matplotlib.pyplot as plt\n",
    "import matplotlib.cm as cm\n",
    "\n",
    "def visualize_rectangles_html(rectangles, figsize=(6, 6), connect_points=None, \n",
    "                              secondary_rectangles=None, secondary_legend_title=None,\n",
    "                              hook_num=0, trajectory_process=1, html_filename=\"plot_interaktiv.html\"):\n",
    "    \"\"\"\n",
    "    Visualisiert Rechtecke und Trajektorien im 3D-Raum als interaktive HTML-Datei.\n",
    "    \n",
    "    :param rectangles: Liste von Rechtecken (jeweils 4 Punkte [x, y, z])\n",
    "    :param figsize: Größe der Plotfläche (Breite, Höhe)\n",
    "    :param connect_points: Optionales Tupel mit zwei Punkten [x, y, z], die verbunden werden sollen\n",
    "    :param secondary_rectangles: Optionaler zweiter Satz Rechtecke (werden grau dargestellt)\n",
    "    :param secondary_legend_title: Optionaler Legenden-Eintrag für die grauen Rechtecke\n",
    "    :param html_filename: Der Name der HTML-Datei, die erstellt wird\n",
    "    \"\"\"\n",
    "    fig = go.Figure()\n",
    "\n",
    "    # Berechnete Trajektorie (farbig)\n",
    "    cmap = plt.cm.get_cmap('tab20')\n",
    "    centers = []\n",
    "\n",
    "    for i, rect in enumerate(rectangles):\n",
    "        # Verwende rgba-String für die Farbe (anstatt des RGBA-Tupels)\n",
    "        color = f\"rgba({int(cmap(i / len(rectangles))[0] * 255)}, \" \\\n",
    "                f\"{int(cmap(i / len(rectangles))[1] * 255)}, \" \\\n",
    "                f\"{int(cmap(i / len(rectangles))[2] * 255)}, 0.8)\"\n",
    "        x, y, z = zip(*rect)\n",
    "        fig.add_trace(go.Mesh3d(x=x, y=y, z=z, color=color, opacity=0.8, \n",
    "                               name=f'P{i+1}'))\n",
    "\n",
    "        center = np.mean(np.array(rect), axis=0)\n",
    "        centers.append(center)\n",
    "        \n",
    "        # Text für \"P0\", \"P1\", etc.\n",
    "        if i == 0:\n",
    "            text_label = ''\n",
    "            # text_label = 'Pre-Position'\n",
    "        elif i == 1:\n",
    "            text_label = ''\n",
    "            # text_label = 'Spitze'\n",
    "        elif i == len(rectangles) - 1:\n",
    "            text_label = ''\n",
    "            # text_label = 'Loslassen'\n",
    "        else:\n",
    "            text_label = f'P{i}'  # Standardtext für den Punkt\n",
    "        \n",
    "        # Füge den Text an den Punkten hinzu (mit entsprechender Position)\n",
    "        fig.add_trace(go.Scatter3d(x=[center[0]], y=[center[1]], z=[center[2]], \n",
    "                                   mode='markers+text', marker=dict(size=3, color='red'),\n",
    "                                   text=text_label, textposition=\"top center\", textfont=dict(size=12), showlegend=False))\n",
    "\n",
    "        # Hinzufügen der Umrandung der Rechtecke mit einer Linie\n",
    "        for j in range(4):\n",
    "            x0, y0, z0 = rect[j]\n",
    "            x1, y1, z1 = rect[(j + 1) % 4]  # Nächster Punkt im Rechteck\n",
    "            fig.add_trace(go.Scatter3d(x=[x0, x1], y=[y0, y1], z=[z0, z1], \n",
    "                                       mode='lines', \n",
    "                                       line=dict(color=color, width=4),  # Keine opacity hier\n",
    "                                       showlegend=False))\n",
    "\n",
    "    # Linie durch die berechneten Mittelpunkte\n",
    "    centers = np.array(centers)\n",
    "    fig.add_trace(go.Scatter3d(x=centers[:, 0], y=centers[:, 1], z=centers[:, 2],\n",
    "                               mode='lines', line=dict(color='black', width=2), name='Berechnete Hakenlinie'))\n",
    "\n",
    "    # Beschriftung der ersten und letzten Punkte\n",
    "    if len(centers) > 0:\n",
    "        fig.add_trace(go.Scatter3d(x=[centers[0, 0]], y=[centers[0, 1]], z=[centers[0, 2]],\n",
    "                                   mode='text', text=['Pre-Position'], textposition=\"top center\", textfont=dict(size=10), showlegend=False))\n",
    "    if len(centers) > 2:\n",
    "        fig.add_trace(go.Scatter3d(x=[centers[-1, 0]], y=[centers[-1, 1]], z=[centers[-1, 2]],\n",
    "                                   mode='text', text=['Loslassen'], textposition=\"top center\", textfont=dict(size=10), showlegend=False))\n",
    "\n",
    "    # Optimal-Trajektorie (grün) – Zweite Rechtecke\n",
    "    if secondary_rectangles:\n",
    "        for rect in secondary_rectangles:\n",
    "            x, y, z = zip(*rect)\n",
    "            fig.add_trace(go.Mesh3d(x=x, y=y, z=z, color='rgba(0,255,0,0.2)', opacity=0.8, \n",
    "                                   name=secondary_legend_title or 'Optimale Trajektorie'))\n",
    "        \n",
    "            # Hinzufügen der Umrandung der Rechtecke mit einer Linie\n",
    "            for j in range(4):\n",
    "                x0, y0, z0 = rect[j]\n",
    "                x1, y1, z1 = rect[(j + 1) % 4]  # Nächster Punkt im Rechteck\n",
    "                fig.add_trace(go.Scatter3d(x=[x0, x1], y=[y0, y1], z=[z0, z1], \n",
    "                                           mode='lines', \n",
    "                                           line=dict(color='rgba(0,255,0,0.2)', width=3),  # Keine opacity hier\n",
    "                                           showlegend=False))\n",
    "            \n",
    "            # Hinzufügen eines roten Punktes in der Mitte des Rechtecks\n",
    "            center = np.mean(np.array(rect), axis=0)\n",
    "            fig.add_trace(go.Scatter3d(x=[center[0]], y=[center[1]], z=[center[2]], \n",
    "                                       mode='markers', marker=dict(size=4, color='green'), \n",
    "                                       name=f'Mitte P{i+1}', showlegend=False))\n",
    "    \n",
    "    # Einzeichnen von Spitze und Senke inkl. graue Verbindungslinie\n",
    "    if connect_points:\n",
    "        p1, p2 = np.array(connect_points[0]), np.array(connect_points[1])\n",
    "        fig.add_trace(go.Scatter3d(x=[p1[0], p2[0]], y=[p1[1], p2[1]], z=[p1[2], p2[2]], \n",
    "                                   mode='lines', line=dict(color='gray', dash='dash'), name='Hakenlinie'))\n",
    "        fig.add_trace(go.Scatter3d(x=[p1[0]], y=[p1[1]], z=[p1[2]], mode='markers', \n",
    "                                   marker=dict(size=8, color='magenta'), name='Spitze'))\n",
    "        fig.add_trace(go.Scatter3d(x=[p2[0]], y=[p2[1]], z=[p2[2]], mode='markers', \n",
    "                                   marker=dict(size=8, color='magenta'), name='Senke'))\n",
    "        \n",
    "        # Hinzufügen von Text \"Spitze\" und \"Senke\"\n",
    "        fig.add_trace(go.Scatter3d(x=[p1[0]], y=[p1[1]], z=[p1[2]], mode='text', \n",
    "                                   text=['Spitze'], textposition=\"top center\", textfont=dict(size=10), showlegend=False))\n",
    "        fig.add_trace(go.Scatter3d(x=[p2[0]], y=[p2[1]], z=[p2[2]], mode='text', \n",
    "                                   text=['Senke'], textposition=\"top center\", textfont=dict(size=10), showlegend=False))\n",
    "\n",
    "    # Achsen und Layout\n",
    "    fig.update_layout(scene=dict(\n",
    "                        xaxis_title='X',\n",
    "                        yaxis_title='Y',\n",
    "                        zaxis_title='Z',\n",
    "                        aspectmode='cube'),\n",
    "                      title=f'Haken {hook_num}, Trajektorien-Ansatz {trajectory_process}',\n",
    "                      legend=dict(title=\"Legende\"))\n",
    "    \n",
    "    # HTML exportieren\n",
    "    fig.write_html(html_filename)\n",
    "    print(f\"HTML-Datei '{html_filename}' erfolgreich erstellt!\")\n",
    "    fig.show()"
   ]
  },
  {
   "cell_type": "code",
   "execution_count": 77,
   "id": "2e400931",
   "metadata": {},
   "outputs": [
    {
     "name": "stdout",
     "output_type": "stream",
     "text": [
      "HTML-Datei 'traj1.html' erfolgreich erstellt!\n"
     ]
    },
    {
     "name": "stderr",
     "output_type": "stream",
     "text": [
      "/tmp/ipykernel_843311/3105340960.py:22: MatplotlibDeprecationWarning:\n",
      "\n",
      "The get_cmap function was deprecated in Matplotlib 3.7 and will be removed two minor releases later. Use ``matplotlib.colormaps[name]`` or ``matplotlib.colormaps.get_cmap(obj)`` instead.\n",
      "\n"
     ]
    },
    {
     "data": {
      "application/vnd.plotly.v1+json": {
       "config": {
        "plotlyServerURL": "https://plot.ly"
       },
       "data": [
        {
         "color": "rgba(31, 119, 180, 0.8)",
         "name": "P1",
         "opacity": 0.8,
         "type": "mesh3d",
         "x": [
          -77.95849608902961,
          -71.9224629466011,
          -66.31296560464659,
          -72.3489987470751
         ],
         "y": [
          912.6118425604354,
          910.7758138208554,
          919.671016821588,
          921.507045561168
         ],
         "z": [
          742.8232024578308,
          739.7908267603058,
          745.5708702849138,
          748.6032459824388
         ]
        },
        {
         "marker": {
          "color": "red",
          "size": 3
         },
         "mode": "markers+text",
         "showlegend": false,
         "text": "",
         "textfont": {
          "size": 12
         },
         "textposition": "top center",
         "type": "scatter3d",
         "x": [
          -72.1357308468381
         ],
         "y": [
          916.1414296910117
         ],
         "z": [
          744.1970363713723
         ]
        },
        {
         "line": {
          "color": "rgba(31, 119, 180, 0.8)",
          "width": 4
         },
         "mode": "lines",
         "showlegend": false,
         "type": "scatter3d",
         "x": [
          -77.95849608902961,
          -71.9224629466011
         ],
         "y": [
          912.6118425604354,
          910.7758138208554
         ],
         "z": [
          742.8232024578308,
          739.7908267603058
         ]
        },
        {
         "line": {
          "color": "rgba(31, 119, 180, 0.8)",
          "width": 4
         },
         "mode": "lines",
         "showlegend": false,
         "type": "scatter3d",
         "x": [
          -71.9224629466011,
          -66.31296560464659
         ],
         "y": [
          910.7758138208554,
          919.671016821588
         ],
         "z": [
          739.7908267603058,
          745.5708702849138
         ]
        },
        {
         "line": {
          "color": "rgba(31, 119, 180, 0.8)",
          "width": 4
         },
         "mode": "lines",
         "showlegend": false,
         "type": "scatter3d",
         "x": [
          -66.31296560464659,
          -72.3489987470751
         ],
         "y": [
          919.671016821588,
          921.507045561168
         ],
         "z": [
          745.5708702849138,
          748.6032459824388
         ]
        },
        {
         "line": {
          "color": "rgba(31, 119, 180, 0.8)",
          "width": 4
         },
         "mode": "lines",
         "showlegend": false,
         "type": "scatter3d",
         "x": [
          -72.3489987470751,
          -77.95849608902961
         ],
         "y": [
          921.507045561168,
          912.6118425604354
         ],
         "z": [
          748.6032459824388,
          742.8232024578308
         ]
        },
        {
         "color": "rgba(174, 199, 232, 0.8)",
         "name": "P2",
         "opacity": 0.8,
         "type": "mesh3d",
         "x": [
          -85.35202778938351,
          -81.49627790291946,
          -71.775310574751,
          -75.63106046121506
         ],
         "y": [
          922.889336630813,
          917.900063867016,
          921.8758094356822,
          926.8650821994792
         ],
         "z": [
          738.2179882302911,
          735.1781938126591,
          740.9830401825394,
          744.0228346001714
         ]
        },
        {
         "marker": {
          "color": "red",
          "size": 3
         },
         "mode": "markers+text",
         "showlegend": false,
         "text": "",
         "textfont": {
          "size": 12
         },
         "textposition": "top center",
         "type": "scatter3d",
         "x": [
          -78.56366918206726
         ],
         "y": [
          922.3825730332476
         ],
         "z": [
          739.6005142064153
         ]
        },
        {
         "line": {
          "color": "rgba(174, 199, 232, 0.8)",
          "width": 4
         },
         "mode": "lines",
         "showlegend": false,
         "type": "scatter3d",
         "x": [
          -85.35202778938351,
          -81.49627790291946
         ],
         "y": [
          922.889336630813,
          917.900063867016
         ],
         "z": [
          738.2179882302911,
          735.1781938126591
         ]
        },
        {
         "line": {
          "color": "rgba(174, 199, 232, 0.8)",
          "width": 4
         },
         "mode": "lines",
         "showlegend": false,
         "type": "scatter3d",
         "x": [
          -81.49627790291946,
          -71.775310574751
         ],
         "y": [
          917.900063867016,
          921.8758094356822
         ],
         "z": [
          735.1781938126591,
          740.9830401825394
         ]
        },
        {
         "line": {
          "color": "rgba(174, 199, 232, 0.8)",
          "width": 4
         },
         "mode": "lines",
         "showlegend": false,
         "type": "scatter3d",
         "x": [
          -71.775310574751,
          -75.63106046121506
         ],
         "y": [
          921.8758094356822,
          926.8650821994792
         ],
         "z": [
          740.9830401825394,
          744.0228346001714
         ]
        },
        {
         "line": {
          "color": "rgba(174, 199, 232, 0.8)",
          "width": 4
         },
         "mode": "lines",
         "showlegend": false,
         "type": "scatter3d",
         "x": [
          -75.63106046121506,
          -85.35202778938351
         ],
         "y": [
          926.8650821994792,
          922.889336630813
         ],
         "z": [
          744.0228346001714,
          738.2179882302911
         ]
        },
        {
         "color": "rgba(255, 187, 120, 0.8)",
         "name": "P3",
         "opacity": 0.8,
         "type": "mesh3d",
         "x": [
          -85.35335404127713,
          -79.92037729028772,
          -72.38220456410286,
          -77.81518131509227
         ],
         "y": [
          921.2130571075494,
          917.9101100794334,
          925.5442253988218,
          928.8471724269378
         ],
         "z": [
          737.6718504080943,
          734.743829821987,
          740.119351679489,
          743.0473722655963
         ]
        },
        {
         "marker": {
          "color": "red",
          "size": 3
         },
         "mode": "markers+text",
         "showlegend": false,
         "text": "P2",
         "textfont": {
          "size": 12
         },
         "textposition": "top center",
         "type": "scatter3d",
         "x": [
          -78.86777930269
         ],
         "y": [
          923.3786412531856
         ],
         "z": [
          738.8956010437917
         ]
        },
        {
         "line": {
          "color": "rgba(255, 187, 120, 0.8)",
          "width": 4
         },
         "mode": "lines",
         "showlegend": false,
         "type": "scatter3d",
         "x": [
          -85.35335404127713,
          -79.92037729028772
         ],
         "y": [
          921.2130571075494,
          917.9101100794334
         ],
         "z": [
          737.6718504080943,
          734.743829821987
         ]
        },
        {
         "line": {
          "color": "rgba(255, 187, 120, 0.8)",
          "width": 4
         },
         "mode": "lines",
         "showlegend": false,
         "type": "scatter3d",
         "x": [
          -79.92037729028772,
          -72.38220456410286
         ],
         "y": [
          917.9101100794334,
          925.5442253988218
         ],
         "z": [
          734.743829821987,
          740.119351679489
         ]
        },
        {
         "line": {
          "color": "rgba(255, 187, 120, 0.8)",
          "width": 4
         },
         "mode": "lines",
         "showlegend": false,
         "type": "scatter3d",
         "x": [
          -72.38220456410286,
          -77.81518131509227
         ],
         "y": [
          925.5442253988218,
          928.8471724269378
         ],
         "z": [
          740.119351679489,
          743.0473722655963
         ]
        },
        {
         "line": {
          "color": "rgba(255, 187, 120, 0.8)",
          "width": 4
         },
         "mode": "lines",
         "showlegend": false,
         "type": "scatter3d",
         "x": [
          -77.81518131509227,
          -85.35335404127713
         ],
         "y": [
          928.8471724269378,
          921.2130571075494
         ],
         "z": [
          743.0473722655963,
          737.6718504080943
         ]
        },
        {
         "color": "rgba(152, 223, 138, 0.8)",
         "name": "P4",
         "opacity": 0.8,
         "type": "mesh3d",
         "x": [
          -81.00354111690294,
          -74.96220824431651,
          -78.213474046843,
          -84.25480691942943
         ],
         "y": [
          917.6312255588035,
          920.1593509480401,
          931.2117761429591,
          928.6836507537225
         ],
         "z": [
          737.6019184003231,
          735.1298991570923,
          738.4874530274036,
          740.9594722706345
         ]
        },
        {
         "marker": {
          "color": "red",
          "size": 3
         },
         "mode": "markers+text",
         "showlegend": false,
         "text": "P3",
         "textfont": {
          "size": 12
         },
         "textposition": "top center",
         "type": "scatter3d",
         "x": [
          -79.60850758187297
         ],
         "y": [
          924.4215008508813
         ],
         "z": [
          738.0446857138634
         ]
        },
        {
         "line": {
          "color": "rgba(152, 223, 138, 0.8)",
          "width": 4
         },
         "mode": "lines",
         "showlegend": false,
         "type": "scatter3d",
         "x": [
          -81.00354111690294,
          -74.96220824431651
         ],
         "y": [
          917.6312255588035,
          920.1593509480401
         ],
         "z": [
          737.6019184003231,
          735.1298991570923
         ]
        },
        {
         "line": {
          "color": "rgba(152, 223, 138, 0.8)",
          "width": 4
         },
         "mode": "lines",
         "showlegend": false,
         "type": "scatter3d",
         "x": [
          -74.96220824431651,
          -78.213474046843
         ],
         "y": [
          920.1593509480401,
          931.2117761429591
         ],
         "z": [
          735.1298991570923,
          738.4874530274036
         ]
        },
        {
         "line": {
          "color": "rgba(152, 223, 138, 0.8)",
          "width": 4
         },
         "mode": "lines",
         "showlegend": false,
         "type": "scatter3d",
         "x": [
          -78.213474046843,
          -84.25480691942943
         ],
         "y": [
          931.2117761429591,
          928.6836507537225
         ],
         "z": [
          738.4874530274036,
          740.9594722706345
         ]
        },
        {
         "line": {
          "color": "rgba(152, 223, 138, 0.8)",
          "width": 4
         },
         "mode": "lines",
         "showlegend": false,
         "type": "scatter3d",
         "x": [
          -84.25480691942943,
          -81.00354111690294
         ],
         "y": [
          928.6836507537225,
          917.6312255588035
         ],
         "z": [
          740.9594722706345,
          737.6019184003231
         ]
        },
        {
         "color": "rgba(255, 152, 150, 0.8)",
         "name": "P5",
         "opacity": 0.8,
         "type": "mesh3d",
         "x": [
          -86.95898333363074,
          -81.5080178643314,
          -74.00724567372752,
          -79.45821114302686
         ],
         "y": [
          922.3358851912308,
          919.1331660166112,
          926.6281446752664,
          929.830863849886
         ],
         "z": [
          736.0128384883652,
          733.0079149716962,
          738.6260740519436,
          741.6309975686127
         ]
        },
        {
         "marker": {
          "color": "red",
          "size": 3
         },
         "mode": "markers+text",
         "showlegend": false,
         "text": "P4",
         "textfont": {
          "size": 12
         },
         "textposition": "top center",
         "type": "scatter3d",
         "x": [
          -80.48311450367913
         ],
         "y": [
          924.4820149332486
         ],
         "z": [
          737.3194562701544
         ]
        },
        {
         "line": {
          "color": "rgba(255, 152, 150, 0.8)",
          "width": 4
         },
         "mode": "lines",
         "showlegend": false,
         "type": "scatter3d",
         "x": [
          -86.95898333363074,
          -81.5080178643314
         ],
         "y": [
          922.3358851912308,
          919.1331660166112
         ],
         "z": [
          736.0128384883652,
          733.0079149716962
         ]
        },
        {
         "line": {
          "color": "rgba(255, 152, 150, 0.8)",
          "width": 4
         },
         "mode": "lines",
         "showlegend": false,
         "type": "scatter3d",
         "x": [
          -81.5080178643314,
          -74.00724567372752
         ],
         "y": [
          919.1331660166112,
          926.6281446752664
         ],
         "z": [
          733.0079149716962,
          738.6260740519436
         ]
        },
        {
         "line": {
          "color": "rgba(255, 152, 150, 0.8)",
          "width": 4
         },
         "mode": "lines",
         "showlegend": false,
         "type": "scatter3d",
         "x": [
          -74.00724567372752,
          -79.45821114302686
         ],
         "y": [
          926.6281446752664,
          929.830863849886
         ],
         "z": [
          738.6260740519436,
          741.6309975686127
         ]
        },
        {
         "line": {
          "color": "rgba(255, 152, 150, 0.8)",
          "width": 4
         },
         "mode": "lines",
         "showlegend": false,
         "type": "scatter3d",
         "x": [
          -79.45821114302686,
          -86.95898333363074
         ],
         "y": [
          929.830863849886,
          922.3358851912308
         ],
         "z": [
          741.6309975686127,
          736.0128384883652
         ]
        },
        {
         "color": "rgba(197, 176, 213, 0.8)",
         "name": "P6",
         "opacity": 0.8,
         "type": "mesh3d",
         "x": [
          -87.70653158179317,
          -82.25489443998937,
          -74.75569809417021,
          -80.20733523597401
         ],
         "y": [
          923.3855531839963,
          920.183921317535,
          927.6806197572059,
          930.8822516236672
         ],
         "z": [
          735.2260657383671,
          732.2212020366719,
          737.8391702344717,
          740.8440339361669
         ]
        },
        {
         "marker": {
          "color": "red",
          "size": 3
         },
         "mode": "markers+text",
         "showlegend": false,
         "text": "P5",
         "textfont": {
          "size": 12
         },
         "textposition": "top center",
         "type": "scatter3d",
         "x": [
          -81.23111483798169
         ],
         "y": [
          925.5330864706011
         ],
         "z": [
          736.5326179864194
         ]
        },
        {
         "line": {
          "color": "rgba(197, 176, 213, 0.8)",
          "width": 4
         },
         "mode": "lines",
         "showlegend": false,
         "type": "scatter3d",
         "x": [
          -87.70653158179317,
          -82.25489443998937
         ],
         "y": [
          923.3855531839963,
          920.183921317535
         ],
         "z": [
          735.2260657383671,
          732.2212020366719
         ]
        },
        {
         "line": {
          "color": "rgba(197, 176, 213, 0.8)",
          "width": 4
         },
         "mode": "lines",
         "showlegend": false,
         "type": "scatter3d",
         "x": [
          -82.25489443998937,
          -74.75569809417021
         ],
         "y": [
          920.183921317535,
          927.6806197572059
         ],
         "z": [
          732.2212020366719,
          737.8391702344717
         ]
        },
        {
         "line": {
          "color": "rgba(197, 176, 213, 0.8)",
          "width": 4
         },
         "mode": "lines",
         "showlegend": false,
         "type": "scatter3d",
         "x": [
          -74.75569809417021,
          -80.20733523597401
         ],
         "y": [
          927.6806197572059,
          930.8822516236672
         ],
         "z": [
          737.8391702344717,
          740.8440339361669
         ]
        },
        {
         "line": {
          "color": "rgba(197, 176, 213, 0.8)",
          "width": 4
         },
         "mode": "lines",
         "showlegend": false,
         "type": "scatter3d",
         "x": [
          -80.20733523597401,
          -87.70653158179317
         ],
         "y": [
          930.8822516236672,
          923.3855531839963
         ],
         "z": [
          740.8440339361669,
          735.2260657383671
         ]
        },
        {
         "color": "rgba(140, 86, 75, 0.8)",
         "name": "P7",
         "opacity": 0.8,
         "type": "mesh3d",
         "x": [
          -88.2258704764853,
          -82.49416425530069,
          -75.74428676012575,
          -81.47599298131036
         ],
         "y": [
          923.8118326904228,
          921.0925120602978,
          929.3724567671479,
          932.0917773972728
         ],
         "z": [
          734.485770582741,
          731.5272508338445,
          736.993663684301,
          739.9521834331975
         ]
        },
        {
         "marker": {
          "color": "red",
          "size": 3
         },
         "mode": "markers+text",
         "showlegend": false,
         "text": "P6",
         "textfont": {
          "size": 12
         },
         "textposition": "top center",
         "type": "scatter3d",
         "x": [
          -81.98507861830552
         ],
         "y": [
          926.5921447287853
         ],
         "z": [
          735.7397171335211
         ]
        },
        {
         "line": {
          "color": "rgba(140, 86, 75, 0.8)",
          "width": 4
         },
         "mode": "lines",
         "showlegend": false,
         "type": "scatter3d",
         "x": [
          -88.2258704764853,
          -82.49416425530069
         ],
         "y": [
          923.8118326904228,
          921.0925120602978
         ],
         "z": [
          734.485770582741,
          731.5272508338445
         ]
        },
        {
         "line": {
          "color": "rgba(140, 86, 75, 0.8)",
          "width": 4
         },
         "mode": "lines",
         "showlegend": false,
         "type": "scatter3d",
         "x": [
          -82.49416425530069,
          -75.74428676012575
         ],
         "y": [
          921.0925120602978,
          929.3724567671479
         ],
         "z": [
          731.5272508338445,
          736.993663684301
         ]
        },
        {
         "line": {
          "color": "rgba(140, 86, 75, 0.8)",
          "width": 4
         },
         "mode": "lines",
         "showlegend": false,
         "type": "scatter3d",
         "x": [
          -75.74428676012575,
          -81.47599298131036
         ],
         "y": [
          929.3724567671479,
          932.0917773972728
         ],
         "z": [
          736.993663684301,
          739.9521834331975
         ]
        },
        {
         "line": {
          "color": "rgba(140, 86, 75, 0.8)",
          "width": 4
         },
         "mode": "lines",
         "showlegend": false,
         "type": "scatter3d",
         "x": [
          -81.47599298131036,
          -88.2258704764853
         ],
         "y": [
          932.0917773972728,
          923.8118326904228
         ],
         "z": [
          739.9521834331975,
          734.485770582741
         ]
        },
        {
         "color": "rgba(227, 119, 194, 0.8)",
         "name": "P8",
         "opacity": 0.8,
         "type": "mesh3d",
         "x": [
          -84.16831317640462,
          -78.29897468949325,
          -81.61356546326245,
          -87.48290395017382
         ],
         "y": [
          920.8831059276988,
          923.6696663654474,
          934.459417647689,
          931.6728572099404
         ],
         "z": [
          734.1333743063836,
          731.5283893442705,
          735.6020554167181,
          738.2070403788313
         ]
        },
        {
         "marker": {
          "color": "red",
          "size": 3
         },
         "mode": "markers+text",
         "showlegend": false,
         "text": "P7",
         "textfont": {
          "size": 12
         },
         "textposition": "top center",
         "type": "scatter3d",
         "x": [
          -82.89093931983354
         ],
         "y": [
          927.6712617876939
         ],
         "z": [
          734.8677148615509
         ]
        },
        {
         "line": {
          "color": "rgba(227, 119, 194, 0.8)",
          "width": 4
         },
         "mode": "lines",
         "showlegend": false,
         "type": "scatter3d",
         "x": [
          -84.16831317640462,
          -78.29897468949325
         ],
         "y": [
          920.8831059276988,
          923.6696663654474
         ],
         "z": [
          734.1333743063836,
          731.5283893442705
         ]
        },
        {
         "line": {
          "color": "rgba(227, 119, 194, 0.8)",
          "width": 4
         },
         "mode": "lines",
         "showlegend": false,
         "type": "scatter3d",
         "x": [
          -78.29897468949325,
          -81.61356546326245
         ],
         "y": [
          923.6696663654474,
          934.459417647689
         ],
         "z": [
          731.5283893442705,
          735.6020554167181
         ]
        },
        {
         "line": {
          "color": "rgba(227, 119, 194, 0.8)",
          "width": 4
         },
         "mode": "lines",
         "showlegend": false,
         "type": "scatter3d",
         "x": [
          -81.61356546326245,
          -87.48290395017382
         ],
         "y": [
          934.459417647689,
          931.6728572099404
         ],
         "z": [
          735.6020554167181,
          738.2070403788313
         ]
        },
        {
         "line": {
          "color": "rgba(227, 119, 194, 0.8)",
          "width": 4
         },
         "mode": "lines",
         "showlegend": false,
         "type": "scatter3d",
         "x": [
          -87.48290395017382,
          -84.16831317640462
         ],
         "y": [
          931.6728572099404,
          920.8831059276988
         ],
         "z": [
          738.2070403788313,
          734.1333743063836
         ]
        },
        {
         "color": "rgba(127, 127, 127, 0.8)",
         "name": "P9",
         "opacity": 0.8,
         "type": "mesh3d",
         "x": [
          -89.89434269653246,
          -84.03390980105914,
          -77.65176089473734,
          -83.51219379021066
         ],
         "y": [
          925.3404600732889,
          923.922124397636,
          930.1382054563638,
          931.5565411320167
         ],
         "z": [
          732.0404057864711,
          728.4846147086904,
          736.5238007128117,
          740.0795917905924
         ]
        },
        {
         "marker": {
          "color": "red",
          "size": 3
         },
         "mode": "markers+text",
         "showlegend": false,
         "text": "P8",
         "textfont": {
          "size": 12
         },
         "textposition": "top center",
         "type": "scatter3d",
         "x": [
          -83.7730517956349
         ],
         "y": [
          927.7393327648264
         ],
         "z": [
          734.2821032496414
         ]
        },
        {
         "line": {
          "color": "rgba(127, 127, 127, 0.8)",
          "width": 4
         },
         "mode": "lines",
         "showlegend": false,
         "type": "scatter3d",
         "x": [
          -89.89434269653246,
          -84.03390980105914
         ],
         "y": [
          925.3404600732889,
          923.922124397636
         ],
         "z": [
          732.0404057864711,
          728.4846147086904
         ]
        },
        {
         "line": {
          "color": "rgba(127, 127, 127, 0.8)",
          "width": 4
         },
         "mode": "lines",
         "showlegend": false,
         "type": "scatter3d",
         "x": [
          -84.03390980105914,
          -77.65176089473734
         ],
         "y": [
          923.922124397636,
          930.1382054563638
         ],
         "z": [
          728.4846147086904,
          736.5238007128117
         ]
        },
        {
         "line": {
          "color": "rgba(127, 127, 127, 0.8)",
          "width": 4
         },
         "mode": "lines",
         "showlegend": false,
         "type": "scatter3d",
         "x": [
          -77.65176089473734,
          -83.51219379021066
         ],
         "y": [
          930.1382054563638,
          931.5565411320167
         ],
         "z": [
          736.5238007128117,
          740.0795917905924
         ]
        },
        {
         "line": {
          "color": "rgba(127, 127, 127, 0.8)",
          "width": 4
         },
         "mode": "lines",
         "showlegend": false,
         "type": "scatter3d",
         "x": [
          -83.51219379021066,
          -89.89434269653246
         ],
         "y": [
          931.5565411320167,
          925.3404600732889
         ],
         "z": [
          740.0795917905924,
          732.0404057864711
         ]
        },
        {
         "color": "rgba(188, 189, 34, 0.8)",
         "name": "P10",
         "opacity": 0.8,
         "type": "mesh3d",
         "x": [
          -90.76460271218849,
          -84.79388420886598,
          -78.88763769302415,
          -84.85835619634666
         ],
         "y": [
          926.1594690919982,
          925.2019317284049,
          931.5874563508336,
          932.5449937144268
         ],
         "z": [
          731.7840282210883,
          728.2578911347848,
          736.5247724929792,
          740.0509095792827
         ]
        },
        {
         "marker": {
          "color": "red",
          "size": 3
         },
         "mode": "markers+text",
         "showlegend": false,
         "text": "P9",
         "textfont": {
          "size": 12
         },
         "textposition": "top center",
         "type": "scatter3d",
         "x": [
          -84.82612020260632
         ],
         "y": [
          928.8734627214159
         ],
         "z": [
          734.1544003570338
         ]
        },
        {
         "line": {
          "color": "rgba(188, 189, 34, 0.8)",
          "width": 4
         },
         "mode": "lines",
         "showlegend": false,
         "type": "scatter3d",
         "x": [
          -90.76460271218849,
          -84.79388420886598
         ],
         "y": [
          926.1594690919982,
          925.2019317284049
         ],
         "z": [
          731.7840282210883,
          728.2578911347848
         ]
        },
        {
         "line": {
          "color": "rgba(188, 189, 34, 0.8)",
          "width": 4
         },
         "mode": "lines",
         "showlegend": false,
         "type": "scatter3d",
         "x": [
          -84.79388420886598,
          -78.88763769302415
         ],
         "y": [
          925.2019317284049,
          931.5874563508336
         ],
         "z": [
          728.2578911347848,
          736.5247724929792
         ]
        },
        {
         "line": {
          "color": "rgba(188, 189, 34, 0.8)",
          "width": 4
         },
         "mode": "lines",
         "showlegend": false,
         "type": "scatter3d",
         "x": [
          -78.88763769302415,
          -84.85835619634666
         ],
         "y": [
          931.5874563508336,
          932.5449937144268
         ],
         "z": [
          736.5247724929792,
          740.0509095792827
         ]
        },
        {
         "line": {
          "color": "rgba(188, 189, 34, 0.8)",
          "width": 4
         },
         "mode": "lines",
         "showlegend": false,
         "type": "scatter3d",
         "x": [
          -84.85835619634666,
          -90.76460271218849
         ],
         "y": [
          932.5449937144268,
          926.1594690919982
         ],
         "z": [
          740.0509095792827,
          731.7840282210883
         ]
        },
        {
         "color": "rgba(23, 190, 207, 0.8)",
         "name": "P11",
         "opacity": 0.8,
         "type": "mesh3d",
         "x": [
          -89.53338858367687,
          -82.53338858367687,
          -82.53338858367687,
          -89.53338858367687
         ],
         "y": [
          930.0360388523495,
          930.0360388523495,
          930.0360388523495,
          930.0360388523495
         ],
         "z": [
          740.103251627065,
          740.103251627065,
          728.103251627065,
          728.103251627065
         ]
        },
        {
         "marker": {
          "color": "red",
          "size": 3
         },
         "mode": "markers+text",
         "showlegend": false,
         "text": "",
         "textfont": {
          "size": 12
         },
         "textposition": "top center",
         "type": "scatter3d",
         "x": [
          -86.03338858367687
         ],
         "y": [
          930.0360388523495
         ],
         "z": [
          734.103251627065
         ]
        },
        {
         "line": {
          "color": "rgba(23, 190, 207, 0.8)",
          "width": 4
         },
         "mode": "lines",
         "showlegend": false,
         "type": "scatter3d",
         "x": [
          -89.53338858367687,
          -82.53338858367687
         ],
         "y": [
          930.0360388523495,
          930.0360388523495
         ],
         "z": [
          740.103251627065,
          740.103251627065
         ]
        },
        {
         "line": {
          "color": "rgba(23, 190, 207, 0.8)",
          "width": 4
         },
         "mode": "lines",
         "showlegend": false,
         "type": "scatter3d",
         "x": [
          -82.53338858367687,
          -82.53338858367687
         ],
         "y": [
          930.0360388523495,
          930.0360388523495
         ],
         "z": [
          740.103251627065,
          728.103251627065
         ]
        },
        {
         "line": {
          "color": "rgba(23, 190, 207, 0.8)",
          "width": 4
         },
         "mode": "lines",
         "showlegend": false,
         "type": "scatter3d",
         "x": [
          -82.53338858367687,
          -89.53338858367687
         ],
         "y": [
          930.0360388523495,
          930.0360388523495
         ],
         "z": [
          728.103251627065,
          728.103251627065
         ]
        },
        {
         "line": {
          "color": "rgba(23, 190, 207, 0.8)",
          "width": 4
         },
         "mode": "lines",
         "showlegend": false,
         "type": "scatter3d",
         "x": [
          -89.53338858367687,
          -89.53338858367687
         ],
         "y": [
          930.0360388523495,
          930.0360388523495
         ],
         "z": [
          728.103251627065,
          740.103251627065
         ]
        },
        {
         "line": {
          "color": "black",
          "width": 2
         },
         "mode": "lines",
         "name": "Berechnete Hakenlinie",
         "type": "scatter3d",
         "x": {
          "bdata": "mA5v0K8IUsB8r+cnE6RTwMBMM7KJt1PAzODIyfHmU8CcYRhZ6x5UwByw45XKTlTAHGcwhwt/VMD0WVomBblUwGwXPa558VTAlDBFJ980VcDsvN4JI4JVwA==",
          "dtype": "f8"
         },
         "y": {
          "bdata": "oczjpSGhjEAKUXOCD9OMQMq6EHUH24xALI7WO1/jjEDkM6Uq2+OMQGDp1sJD7IxADiVgtrz0jECZCYC+Xv2MQFPuSyfq/YxADfYF2vwGjUDQ4bzOSRCNQA==",
          "dtype": "f8"
         },
         "z": {
          "bdata": "VRnOh5NBh0CyamTazRyHQMpK4TAqF4dAIv0uhFsQh0CGxhY/jgqHQHYHOM1CBIdAHQbR8Or9hkDqRH0U8faGQHE6Wb9B8oZAmx9BNjzxhkAGzJZ10/CGQA==",
          "dtype": "f8"
         }
        },
        {
         "mode": "text",
         "showlegend": false,
         "text": [
          "Pre-Position"
         ],
         "textfont": {
          "size": 10
         },
         "textposition": "top center",
         "type": "scatter3d",
         "x": [
          -72.1357308468381
         ],
         "y": [
          916.1414296910117
         ],
         "z": [
          744.1970363713723
         ]
        },
        {
         "mode": "text",
         "showlegend": false,
         "text": [
          "Loslassen"
         ],
         "textfont": {
          "size": 10
         },
         "textposition": "top center",
         "type": "scatter3d",
         "x": [
          -86.03338858367687
         ],
         "y": [
          930.0360388523495
         ],
         "z": [
          734.103251627065
         ]
        },
        {
         "color": "rgba(0,255,0,0.2)",
         "name": "optimale Trajektorie",
         "opacity": 0.8,
         "type": "mesh3d",
         "x": [
          -87.68415207550848,
          -84.26620372055652,
          -75.7194349382604,
          -79.13738329321237
         ],
         "y": [
          922.1793237908196,
          918.7101913940295,
          927.1335363336862,
          930.6026687304762
         ],
         "z": [
          745.1114089974996,
          740.0832135501822,
          740.0813670587332,
          745.1095625060506
         ]
        },
        {
         "line": {
          "color": "rgba(0,255,0,0.2)",
          "width": 3
         },
         "mode": "lines",
         "showlegend": false,
         "type": "scatter3d",
         "x": [
          -87.68415207550848,
          -84.26620372055652
         ],
         "y": [
          922.1793237908196,
          918.7101913940295
         ],
         "z": [
          745.1114089974996,
          740.0832135501822
         ]
        },
        {
         "line": {
          "color": "rgba(0,255,0,0.2)",
          "width": 3
         },
         "mode": "lines",
         "showlegend": false,
         "type": "scatter3d",
         "x": [
          -84.26620372055652,
          -75.7194349382604
         ],
         "y": [
          918.7101913940295,
          927.1335363336862
         ],
         "z": [
          740.0832135501822,
          740.0813670587332
         ]
        },
        {
         "line": {
          "color": "rgba(0,255,0,0.2)",
          "width": 3
         },
         "mode": "lines",
         "showlegend": false,
         "type": "scatter3d",
         "x": [
          -75.7194349382604,
          -79.13738329321237
         ],
         "y": [
          927.1335363336862,
          930.6026687304762
         ],
         "z": [
          740.0813670587332,
          745.1095625060506
         ]
        },
        {
         "line": {
          "color": "rgba(0,255,0,0.2)",
          "width": 3
         },
         "mode": "lines",
         "showlegend": false,
         "type": "scatter3d",
         "x": [
          -79.13738329321237,
          -87.68415207550848
         ],
         "y": [
          930.6026687304762,
          922.1793237908196
         ],
         "z": [
          745.1095625060506,
          745.1114089974996
         ]
        },
        {
         "marker": {
          "color": "green",
          "size": 4
         },
         "mode": "markers",
         "name": "Mitte P11",
         "showlegend": false,
         "type": "scatter3d",
         "x": [
          -81.70179350688444
         ],
         "y": [
          924.6564300622529
         ],
         "z": [
          742.5963880281164
         ]
        },
        {
         "color": "rgba(0,255,0,0.2)",
         "name": "optimale Trajektorie",
         "opacity": 0.8,
         "type": "mesh3d",
         "x": [
          -87.68415207550848,
          -84.26620372055652,
          -75.7194349382604,
          -79.13738329321237
         ],
         "y": [
          922.1793237908196,
          918.7101913940295,
          927.1335363336862,
          930.6026687304762
         ],
         "z": [
          745.1114089974996,
          740.0832135501822,
          740.0813670587332,
          745.1095625060506
         ]
        },
        {
         "line": {
          "color": "rgba(0,255,0,0.2)",
          "width": 3
         },
         "mode": "lines",
         "showlegend": false,
         "type": "scatter3d",
         "x": [
          -87.68415207550848,
          -84.26620372055652
         ],
         "y": [
          922.1793237908196,
          918.7101913940295
         ],
         "z": [
          745.1114089974996,
          740.0832135501822
         ]
        },
        {
         "line": {
          "color": "rgba(0,255,0,0.2)",
          "width": 3
         },
         "mode": "lines",
         "showlegend": false,
         "type": "scatter3d",
         "x": [
          -84.26620372055652,
          -75.7194349382604
         ],
         "y": [
          918.7101913940295,
          927.1335363336862
         ],
         "z": [
          740.0832135501822,
          740.0813670587332
         ]
        },
        {
         "line": {
          "color": "rgba(0,255,0,0.2)",
          "width": 3
         },
         "mode": "lines",
         "showlegend": false,
         "type": "scatter3d",
         "x": [
          -75.7194349382604,
          -79.13738329321237
         ],
         "y": [
          927.1335363336862,
          930.6026687304762
         ],
         "z": [
          740.0813670587332,
          745.1095625060506
         ]
        },
        {
         "line": {
          "color": "rgba(0,255,0,0.2)",
          "width": 3
         },
         "mode": "lines",
         "showlegend": false,
         "type": "scatter3d",
         "x": [
          -79.13738329321237,
          -87.68415207550848
         ],
         "y": [
          930.6026687304762,
          922.1793237908196
         ],
         "z": [
          745.1095625060506,
          745.1114089974996
         ]
        },
        {
         "marker": {
          "color": "green",
          "size": 4
         },
         "mode": "markers",
         "name": "Mitte P11",
         "showlegend": false,
         "type": "scatter3d",
         "x": [
          -81.70179350688444
         ],
         "y": [
          924.6564300622529
         ],
         "z": [
          742.5963880281164
         ]
        },
        {
         "color": "rgba(0,255,0,0.2)",
         "name": "optimale Trajektorie",
         "opacity": 0.8,
         "type": "mesh3d",
         "x": [
          -84.15681026577322,
          -80.62426892245928,
          -72.22632746829753,
          -75.75886881161146
         ],
         "y": [
          919.7617550682718,
          916.3272391411039,
          924.8988492563714,
          928.3333651835393
         ],
         "z": [
          740.975172356054,
          736.002723059801,
          736.048323107119,
          741.020772403372
         ]
        },
        {
         "line": {
          "color": "rgba(0,255,0,0.2)",
          "width": 3
         },
         "mode": "lines",
         "showlegend": false,
         "type": "scatter3d",
         "x": [
          -84.15681026577322,
          -80.62426892245928
         ],
         "y": [
          919.7617550682718,
          916.3272391411039
         ],
         "z": [
          740.975172356054,
          736.002723059801
         ]
        },
        {
         "line": {
          "color": "rgba(0,255,0,0.2)",
          "width": 3
         },
         "mode": "lines",
         "showlegend": false,
         "type": "scatter3d",
         "x": [
          -80.62426892245928,
          -72.22632746829753
         ],
         "y": [
          916.3272391411039,
          924.8988492563714
         ],
         "z": [
          736.002723059801,
          736.048323107119
         ]
        },
        {
         "line": {
          "color": "rgba(0,255,0,0.2)",
          "width": 3
         },
         "mode": "lines",
         "showlegend": false,
         "type": "scatter3d",
         "x": [
          -72.22632746829753,
          -75.75886881161146
         ],
         "y": [
          924.8988492563714,
          928.3333651835393
         ],
         "z": [
          736.048323107119,
          741.020772403372
         ]
        },
        {
         "line": {
          "color": "rgba(0,255,0,0.2)",
          "width": 3
         },
         "mode": "lines",
         "showlegend": false,
         "type": "scatter3d",
         "x": [
          -75.75886881161146,
          -84.15681026577322
         ],
         "y": [
          928.3333651835393,
          919.7617550682718
         ],
         "z": [
          741.020772403372,
          740.975172356054
         ]
        },
        {
         "marker": {
          "color": "green",
          "size": 4
         },
         "mode": "markers",
         "name": "Mitte P11",
         "showlegend": false,
         "type": "scatter3d",
         "x": [
          -78.19156886703537
         ],
         "y": [
          922.3303021623216
         ],
         "z": [
          738.5117477315865
         ]
        },
        {
         "color": "rgba(0,255,0,0.2)",
         "name": "optimale Trajektorie",
         "opacity": 0.8,
         "type": "mesh3d",
         "x": [
          -87.92999422803064,
          -84.23772775297013,
          -76.66421504175594,
          -80.35648151681644
         ],
         "y": [
          921.4618053372254,
          918.9123036482364,
          928.1856588592949,
          930.735160548284
         ],
         "z": [
          738.3272658012595,
          732.9544444367447,
          733.7586759597598,
          739.1314973242746
         ]
        },
        {
         "line": {
          "color": "rgba(0,255,0,0.2)",
          "width": 3
         },
         "mode": "lines",
         "showlegend": false,
         "type": "scatter3d",
         "x": [
          -87.92999422803064,
          -84.23772775297013
         ],
         "y": [
          921.4618053372254,
          918.9123036482364
         ],
         "z": [
          738.3272658012595,
          732.9544444367447
         ]
        },
        {
         "line": {
          "color": "rgba(0,255,0,0.2)",
          "width": 3
         },
         "mode": "lines",
         "showlegend": false,
         "type": "scatter3d",
         "x": [
          -84.23772775297013,
          -76.66421504175594
         ],
         "y": [
          918.9123036482364,
          928.1856588592949
         ],
         "z": [
          732.9544444367447,
          733.7586759597598
         ]
        },
        {
         "line": {
          "color": "rgba(0,255,0,0.2)",
          "width": 3
         },
         "mode": "lines",
         "showlegend": false,
         "type": "scatter3d",
         "x": [
          -76.66421504175594,
          -80.35648151681644
         ],
         "y": [
          928.1856588592949,
          930.735160548284
         ],
         "z": [
          733.7586759597598,
          739.1314973242746
         ]
        },
        {
         "line": {
          "color": "rgba(0,255,0,0.2)",
          "width": 3
         },
         "mode": "lines",
         "showlegend": false,
         "type": "scatter3d",
         "x": [
          -80.35648151681644,
          -87.92999422803064
         ],
         "y": [
          930.735160548284,
          921.4618053372254
         ],
         "z": [
          739.1314973242746,
          738.3272658012595
         ]
        },
        {
         "marker": {
          "color": "green",
          "size": 4
         },
         "mode": "markers",
         "name": "Mitte P11",
         "showlegend": false,
         "type": "scatter3d",
         "x": [
          -82.29710463489329
         ],
         "y": [
          924.8237320982602
         ],
         "z": [
          736.0429708805096
         ]
        },
        {
         "color": "rgba(0,255,0,0.2)",
         "name": "optimale Trajektorie",
         "opacity": 0.8,
         "type": "mesh3d",
         "x": [
          -90.82173459447384,
          -87.1108729820927,
          -79.63287295943147,
          -83.3437345718126
         ],
         "y": [
          923.8050932373077,
          921.2772437832492,
          930.6311375703546,
          933.158987024413
         ],
         "z": [
          736.9073277841488,
          731.5370872651988,
          732.3014083238069,
          737.6716488427569
         ]
        },
        {
         "line": {
          "color": "rgba(0,255,0,0.2)",
          "width": 3
         },
         "mode": "lines",
         "showlegend": false,
         "type": "scatter3d",
         "x": [
          -90.82173459447384,
          -87.1108729820927
         ],
         "y": [
          923.8050932373077,
          921.2772437832492
         ],
         "z": [
          736.9073277841488,
          731.5370872651988
         ]
        },
        {
         "line": {
          "color": "rgba(0,255,0,0.2)",
          "width": 3
         },
         "mode": "lines",
         "showlegend": false,
         "type": "scatter3d",
         "x": [
          -87.1108729820927,
          -79.63287295943147
         ],
         "y": [
          921.2772437832492,
          930.6311375703546
         ],
         "z": [
          731.5370872651988,
          732.3014083238069
         ]
        },
        {
         "line": {
          "color": "rgba(0,255,0,0.2)",
          "width": 3
         },
         "mode": "lines",
         "showlegend": false,
         "type": "scatter3d",
         "x": [
          -79.63287295943147,
          -83.3437345718126
         ],
         "y": [
          930.6311375703546,
          933.158987024413
         ],
         "z": [
          732.3014083238069,
          737.6716488427569
         ]
        },
        {
         "line": {
          "color": "rgba(0,255,0,0.2)",
          "width": 3
         },
         "mode": "lines",
         "showlegend": false,
         "type": "scatter3d",
         "x": [
          -83.3437345718126,
          -90.82173459447384
         ],
         "y": [
          933.158987024413,
          923.8050932373077
         ],
         "z": [
          737.6716488427569,
          736.9073277841488
         ]
        },
        {
         "marker": {
          "color": "green",
          "size": 4
         },
         "mode": "markers",
         "name": "Mitte P11",
         "showlegend": false,
         "type": "scatter3d",
         "x": [
          -85.22730377695265
         ],
         "y": [
          927.2181154038311
         ],
         "z": [
          734.6043680539779
         ]
        },
        {
         "color": "rgba(0,255,0,0.2)",
         "name": "optimale Trajektorie",
         "opacity": 0.8,
         "type": "mesh3d",
         "x": [
          -90.02966363832807,
          -86.77961731644277,
          -79.24735913518539,
          -82.4974054570707
         ],
         "y": [
          923.9725422629892,
          921.7396106399103,
          931.0596219247984,
          933.2925535478773
         ],
         "z": [
          736.3679845822938,
          730.5842820249129,
          731.2186922553154,
          737.0023948126964
         ]
        },
        {
         "line": {
          "color": "rgba(0,255,0,0.2)",
          "width": 3
         },
         "mode": "lines",
         "showlegend": false,
         "type": "scatter3d",
         "x": [
          -90.02966363832807,
          -86.77961731644277
         ],
         "y": [
          923.9725422629892,
          921.7396106399103
         ],
         "z": [
          736.3679845822938,
          730.5842820249129
         ]
        },
        {
         "line": {
          "color": "rgba(0,255,0,0.2)",
          "width": 3
         },
         "mode": "lines",
         "showlegend": false,
         "type": "scatter3d",
         "x": [
          -86.77961731644277,
          -79.24735913518539
         ],
         "y": [
          921.7396106399103,
          931.0596219247984
         ],
         "z": [
          730.5842820249129,
          731.2186922553154
         ]
        },
        {
         "line": {
          "color": "rgba(0,255,0,0.2)",
          "width": 3
         },
         "mode": "lines",
         "showlegend": false,
         "type": "scatter3d",
         "x": [
          -79.24735913518539,
          -82.4974054570707
         ],
         "y": [
          931.0596219247984,
          933.2925535478773
         ],
         "z": [
          731.2186922553154,
          737.0023948126964
         ]
        },
        {
         "line": {
          "color": "rgba(0,255,0,0.2)",
          "width": 3
         },
         "mode": "lines",
         "showlegend": false,
         "type": "scatter3d",
         "x": [
          -82.4974054570707,
          -90.02966363832807
         ],
         "y": [
          933.2925535478773,
          923.9725422629892
         ],
         "z": [
          737.0023948126964,
          736.3679845822938
         ]
        },
        {
         "marker": {
          "color": "green",
          "size": 4
         },
         "mode": "markers",
         "name": "Mitte P11",
         "showlegend": false,
         "type": "scatter3d",
         "x": [
          -84.63851138675673
         ],
         "y": [
          927.5160820938938
         ],
         "z": [
          733.7933384188046
         ]
        },
        {
         "color": "rgba(0,255,0,0.2)",
         "name": "optimale Trajektorie",
         "opacity": 0.8,
         "type": "mesh3d",
         "x": [
          -90.55964214532602,
          -89.07323476731871,
          -81.5481972681747,
          -83.03460464618202
         ],
         "y": [
          924.4663790725193,
          923.7168064961844,
          933.0438274924176,
          933.7934000687525
         ],
         "z": [
          736.1333636990933,
          729.3341921275404,
          729.9510308198276,
          736.7502023913804
         ]
        },
        {
         "line": {
          "color": "rgba(0,255,0,0.2)",
          "width": 3
         },
         "mode": "lines",
         "showlegend": false,
         "type": "scatter3d",
         "x": [
          -90.55964214532602,
          -89.07323476731871
         ],
         "y": [
          924.4663790725193,
          923.7168064961844
         ],
         "z": [
          736.1333636990933,
          729.3341921275404
         ]
        },
        {
         "line": {
          "color": "rgba(0,255,0,0.2)",
          "width": 3
         },
         "mode": "lines",
         "showlegend": false,
         "type": "scatter3d",
         "x": [
          -89.07323476731871,
          -81.5481972681747
         ],
         "y": [
          923.7168064961844,
          933.0438274924176
         ],
         "z": [
          729.3341921275404,
          729.9510308198276
         ]
        },
        {
         "line": {
          "color": "rgba(0,255,0,0.2)",
          "width": 3
         },
         "mode": "lines",
         "showlegend": false,
         "type": "scatter3d",
         "x": [
          -81.5481972681747,
          -83.03460464618202
         ],
         "y": [
          933.0438274924176,
          933.7934000687525
         ],
         "z": [
          729.9510308198276,
          736.7502023913804
         ]
        },
        {
         "line": {
          "color": "rgba(0,255,0,0.2)",
          "width": 3
         },
         "mode": "lines",
         "showlegend": false,
         "type": "scatter3d",
         "x": [
          -83.03460464618202,
          -90.55964214532602
         ],
         "y": [
          933.7934000687525,
          924.4663790725193
         ],
         "z": [
          736.7502023913804,
          736.1333636990933
         ]
        },
        {
         "marker": {
          "color": "green",
          "size": 4
         },
         "mode": "markers",
         "name": "Mitte P11",
         "showlegend": false,
         "type": "scatter3d",
         "x": [
          -86.05391970675036
         ],
         "y": [
          928.7551032824684
         ],
         "z": [
          733.0421972594604
         ]
        },
        {
         "color": "rgba(0,255,0,0.2)",
         "name": "optimale Trajektorie",
         "opacity": 0.8,
         "type": "mesh3d",
         "x": [
          -90.46097215090803,
          -90.441738585145,
          -82.91622730748936,
          -82.9354608732524
         ],
         "y": [
          924.2135732861534,
          924.656825989803,
          933.9837502126704,
          933.5404975090208
         ],
         "z": [
          736.7665644152,
          729.7806387706877,
          730.3931455467857,
          737.3790711912981
         ]
        },
        {
         "line": {
          "color": "rgba(0,255,0,0.2)",
          "width": 3
         },
         "mode": "lines",
         "showlegend": false,
         "type": "scatter3d",
         "x": [
          -90.46097215090803,
          -90.441738585145
         ],
         "y": [
          924.2135732861534,
          924.656825989803
         ],
         "z": [
          736.7665644152,
          729.7806387706877
         ]
        },
        {
         "line": {
          "color": "rgba(0,255,0,0.2)",
          "width": 3
         },
         "mode": "lines",
         "showlegend": false,
         "type": "scatter3d",
         "x": [
          -90.441738585145,
          -82.91622730748936
         ],
         "y": [
          924.656825989803,
          933.9837502126704
         ],
         "z": [
          729.7806387706877,
          730.3931455467857
         ]
        },
        {
         "line": {
          "color": "rgba(0,255,0,0.2)",
          "width": 3
         },
         "mode": "lines",
         "showlegend": false,
         "type": "scatter3d",
         "x": [
          -82.91622730748936,
          -82.9354608732524
         ],
         "y": [
          933.9837502126704,
          933.5404975090208
         ],
         "z": [
          730.3931455467857,
          737.3790711912981
         ]
        },
        {
         "line": {
          "color": "rgba(0,255,0,0.2)",
          "width": 3
         },
         "mode": "lines",
         "showlegend": false,
         "type": "scatter3d",
         "x": [
          -82.9354608732524,
          -90.46097215090803
         ],
         "y": [
          933.5404975090208,
          924.2135732861534
         ],
         "z": [
          737.3790711912981,
          736.7665644152
         ]
        },
        {
         "marker": {
          "color": "green",
          "size": 4
         },
         "mode": "markers",
         "name": "Mitte P11",
         "showlegend": false,
         "type": "scatter3d",
         "x": [
          -86.6885997291987
         ],
         "y": [
          929.0986617494119
         ],
         "z": [
          733.5798549809929
         ]
        },
        {
         "color": "rgba(0,255,0,0.2)",
         "name": "optimale Trajektorie",
         "opacity": 0.8,
         "type": "mesh3d",
         "x": [
          -90.64744840644612,
          -90.66447609686051,
          -83.12319815228982,
          -83.10617046187542
         ],
         "y": [
          924.5880456141653,
          924.9890360141546,
          934.3090393804433,
          933.9080489804539
         ],
         "z": [
          732.4600207246752,
          725.4715361423873,
          725.9879315481563,
          732.9764161304442
         ]
        },
        {
         "line": {
          "color": "rgba(0,255,0,0.2)",
          "width": 3
         },
         "mode": "lines",
         "showlegend": false,
         "type": "scatter3d",
         "x": [
          -90.64744840644612,
          -90.66447609686051
         ],
         "y": [
          924.5880456141653,
          924.9890360141546
         ],
         "z": [
          732.4600207246752,
          725.4715361423873
         ]
        },
        {
         "line": {
          "color": "rgba(0,255,0,0.2)",
          "width": 3
         },
         "mode": "lines",
         "showlegend": false,
         "type": "scatter3d",
         "x": [
          -90.66447609686051,
          -83.12319815228982
         ],
         "y": [
          924.9890360141546,
          934.3090393804433
         ],
         "z": [
          725.4715361423873,
          725.9879315481563
         ]
        },
        {
         "line": {
          "color": "rgba(0,255,0,0.2)",
          "width": 3
         },
         "mode": "lines",
         "showlegend": false,
         "type": "scatter3d",
         "x": [
          -83.12319815228982,
          -83.10617046187542
         ],
         "y": [
          934.3090393804433,
          933.9080489804539
         ],
         "z": [
          725.9879315481563,
          732.9764161304442
         ]
        },
        {
         "line": {
          "color": "rgba(0,255,0,0.2)",
          "width": 3
         },
         "mode": "lines",
         "showlegend": false,
         "type": "scatter3d",
         "x": [
          -83.10617046187542,
          -90.64744840644612
         ],
         "y": [
          933.9080489804539,
          924.5880456141653
         ],
         "z": [
          732.9764161304442,
          732.4600207246752
         ]
        },
        {
         "marker": {
          "color": "green",
          "size": 4
         },
         "mode": "markers",
         "name": "Mitte P11",
         "showlegend": false,
         "type": "scatter3d",
         "x": [
          -86.88532327936797
         ],
         "y": [
          929.4485424973043
         ],
         "z": [
          729.2239761364158
         ]
        },
        {
         "line": {
          "color": "gray",
          "dash": "dash"
         },
         "mode": "lines",
         "name": "Hakenlinie",
         "type": "scatter3d",
         "x": [
          -78.56366918206726,
          -86.03338858367687
         ],
         "y": [
          922.3825730332476,
          930.0360388523495
         ],
         "z": [
          739.6005142064153,
          734.103251627065
         ]
        },
        {
         "marker": {
          "color": "magenta",
          "size": 8
         },
         "mode": "markers",
         "name": "Spitze",
         "type": "scatter3d",
         "x": [
          -78.56366918206726
         ],
         "y": [
          922.3825730332476
         ],
         "z": [
          739.6005142064153
         ]
        },
        {
         "marker": {
          "color": "magenta",
          "size": 8
         },
         "mode": "markers",
         "name": "Senke",
         "type": "scatter3d",
         "x": [
          -86.03338858367687
         ],
         "y": [
          930.0360388523495
         ],
         "z": [
          734.103251627065
         ]
        },
        {
         "mode": "text",
         "showlegend": false,
         "text": [
          "Spitze"
         ],
         "textfont": {
          "size": 10
         },
         "textposition": "top center",
         "type": "scatter3d",
         "x": [
          -78.56366918206726
         ],
         "y": [
          922.3825730332476
         ],
         "z": [
          739.6005142064153
         ]
        },
        {
         "mode": "text",
         "showlegend": false,
         "text": [
          "Senke"
         ],
         "textfont": {
          "size": 10
         },
         "textposition": "top center",
         "type": "scatter3d",
         "x": [
          -86.03338858367687
         ],
         "y": [
          930.0360388523495
         ],
         "z": [
          734.103251627065
         ]
        }
       ],
       "layout": {
        "legend": {
         "title": {
          "text": "Legende"
         }
        },
        "scene": {
         "aspectmode": "cube",
         "xaxis": {
          "title": {
           "text": "X"
          }
         },
         "yaxis": {
          "title": {
           "text": "Y"
          }
         },
         "zaxis": {
          "title": {
           "text": "Z"
          }
         }
        },
        "template": {
         "data": {
          "bar": [
           {
            "error_x": {
             "color": "#2a3f5f"
            },
            "error_y": {
             "color": "#2a3f5f"
            },
            "marker": {
             "line": {
              "color": "#E5ECF6",
              "width": 0.5
             },
             "pattern": {
              "fillmode": "overlay",
              "size": 10,
              "solidity": 0.2
             }
            },
            "type": "bar"
           }
          ],
          "barpolar": [
           {
            "marker": {
             "line": {
              "color": "#E5ECF6",
              "width": 0.5
             },
             "pattern": {
              "fillmode": "overlay",
              "size": 10,
              "solidity": 0.2
             }
            },
            "type": "barpolar"
           }
          ],
          "carpet": [
           {
            "aaxis": {
             "endlinecolor": "#2a3f5f",
             "gridcolor": "white",
             "linecolor": "white",
             "minorgridcolor": "white",
             "startlinecolor": "#2a3f5f"
            },
            "baxis": {
             "endlinecolor": "#2a3f5f",
             "gridcolor": "white",
             "linecolor": "white",
             "minorgridcolor": "white",
             "startlinecolor": "#2a3f5f"
            },
            "type": "carpet"
           }
          ],
          "choropleth": [
           {
            "colorbar": {
             "outlinewidth": 0,
             "ticks": ""
            },
            "type": "choropleth"
           }
          ],
          "contour": [
           {
            "colorbar": {
             "outlinewidth": 0,
             "ticks": ""
            },
            "colorscale": [
             [
              0,
              "#0d0887"
             ],
             [
              0.1111111111111111,
              "#46039f"
             ],
             [
              0.2222222222222222,
              "#7201a8"
             ],
             [
              0.3333333333333333,
              "#9c179e"
             ],
             [
              0.4444444444444444,
              "#bd3786"
             ],
             [
              0.5555555555555556,
              "#d8576b"
             ],
             [
              0.6666666666666666,
              "#ed7953"
             ],
             [
              0.7777777777777778,
              "#fb9f3a"
             ],
             [
              0.8888888888888888,
              "#fdca26"
             ],
             [
              1,
              "#f0f921"
             ]
            ],
            "type": "contour"
           }
          ],
          "contourcarpet": [
           {
            "colorbar": {
             "outlinewidth": 0,
             "ticks": ""
            },
            "type": "contourcarpet"
           }
          ],
          "heatmap": [
           {
            "colorbar": {
             "outlinewidth": 0,
             "ticks": ""
            },
            "colorscale": [
             [
              0,
              "#0d0887"
             ],
             [
              0.1111111111111111,
              "#46039f"
             ],
             [
              0.2222222222222222,
              "#7201a8"
             ],
             [
              0.3333333333333333,
              "#9c179e"
             ],
             [
              0.4444444444444444,
              "#bd3786"
             ],
             [
              0.5555555555555556,
              "#d8576b"
             ],
             [
              0.6666666666666666,
              "#ed7953"
             ],
             [
              0.7777777777777778,
              "#fb9f3a"
             ],
             [
              0.8888888888888888,
              "#fdca26"
             ],
             [
              1,
              "#f0f921"
             ]
            ],
            "type": "heatmap"
           }
          ],
          "histogram": [
           {
            "marker": {
             "pattern": {
              "fillmode": "overlay",
              "size": 10,
              "solidity": 0.2
             }
            },
            "type": "histogram"
           }
          ],
          "histogram2d": [
           {
            "colorbar": {
             "outlinewidth": 0,
             "ticks": ""
            },
            "colorscale": [
             [
              0,
              "#0d0887"
             ],
             [
              0.1111111111111111,
              "#46039f"
             ],
             [
              0.2222222222222222,
              "#7201a8"
             ],
             [
              0.3333333333333333,
              "#9c179e"
             ],
             [
              0.4444444444444444,
              "#bd3786"
             ],
             [
              0.5555555555555556,
              "#d8576b"
             ],
             [
              0.6666666666666666,
              "#ed7953"
             ],
             [
              0.7777777777777778,
              "#fb9f3a"
             ],
             [
              0.8888888888888888,
              "#fdca26"
             ],
             [
              1,
              "#f0f921"
             ]
            ],
            "type": "histogram2d"
           }
          ],
          "histogram2dcontour": [
           {
            "colorbar": {
             "outlinewidth": 0,
             "ticks": ""
            },
            "colorscale": [
             [
              0,
              "#0d0887"
             ],
             [
              0.1111111111111111,
              "#46039f"
             ],
             [
              0.2222222222222222,
              "#7201a8"
             ],
             [
              0.3333333333333333,
              "#9c179e"
             ],
             [
              0.4444444444444444,
              "#bd3786"
             ],
             [
              0.5555555555555556,
              "#d8576b"
             ],
             [
              0.6666666666666666,
              "#ed7953"
             ],
             [
              0.7777777777777778,
              "#fb9f3a"
             ],
             [
              0.8888888888888888,
              "#fdca26"
             ],
             [
              1,
              "#f0f921"
             ]
            ],
            "type": "histogram2dcontour"
           }
          ],
          "mesh3d": [
           {
            "colorbar": {
             "outlinewidth": 0,
             "ticks": ""
            },
            "type": "mesh3d"
           }
          ],
          "parcoords": [
           {
            "line": {
             "colorbar": {
              "outlinewidth": 0,
              "ticks": ""
             }
            },
            "type": "parcoords"
           }
          ],
          "pie": [
           {
            "automargin": true,
            "type": "pie"
           }
          ],
          "scatter": [
           {
            "fillpattern": {
             "fillmode": "overlay",
             "size": 10,
             "solidity": 0.2
            },
            "type": "scatter"
           }
          ],
          "scatter3d": [
           {
            "line": {
             "colorbar": {
              "outlinewidth": 0,
              "ticks": ""
             }
            },
            "marker": {
             "colorbar": {
              "outlinewidth": 0,
              "ticks": ""
             }
            },
            "type": "scatter3d"
           }
          ],
          "scattercarpet": [
           {
            "marker": {
             "colorbar": {
              "outlinewidth": 0,
              "ticks": ""
             }
            },
            "type": "scattercarpet"
           }
          ],
          "scattergeo": [
           {
            "marker": {
             "colorbar": {
              "outlinewidth": 0,
              "ticks": ""
             }
            },
            "type": "scattergeo"
           }
          ],
          "scattergl": [
           {
            "marker": {
             "colorbar": {
              "outlinewidth": 0,
              "ticks": ""
             }
            },
            "type": "scattergl"
           }
          ],
          "scattermap": [
           {
            "marker": {
             "colorbar": {
              "outlinewidth": 0,
              "ticks": ""
             }
            },
            "type": "scattermap"
           }
          ],
          "scattermapbox": [
           {
            "marker": {
             "colorbar": {
              "outlinewidth": 0,
              "ticks": ""
             }
            },
            "type": "scattermapbox"
           }
          ],
          "scatterpolar": [
           {
            "marker": {
             "colorbar": {
              "outlinewidth": 0,
              "ticks": ""
             }
            },
            "type": "scatterpolar"
           }
          ],
          "scatterpolargl": [
           {
            "marker": {
             "colorbar": {
              "outlinewidth": 0,
              "ticks": ""
             }
            },
            "type": "scatterpolargl"
           }
          ],
          "scatterternary": [
           {
            "marker": {
             "colorbar": {
              "outlinewidth": 0,
              "ticks": ""
             }
            },
            "type": "scatterternary"
           }
          ],
          "surface": [
           {
            "colorbar": {
             "outlinewidth": 0,
             "ticks": ""
            },
            "colorscale": [
             [
              0,
              "#0d0887"
             ],
             [
              0.1111111111111111,
              "#46039f"
             ],
             [
              0.2222222222222222,
              "#7201a8"
             ],
             [
              0.3333333333333333,
              "#9c179e"
             ],
             [
              0.4444444444444444,
              "#bd3786"
             ],
             [
              0.5555555555555556,
              "#d8576b"
             ],
             [
              0.6666666666666666,
              "#ed7953"
             ],
             [
              0.7777777777777778,
              "#fb9f3a"
             ],
             [
              0.8888888888888888,
              "#fdca26"
             ],
             [
              1,
              "#f0f921"
             ]
            ],
            "type": "surface"
           }
          ],
          "table": [
           {
            "cells": {
             "fill": {
              "color": "#EBF0F8"
             },
             "line": {
              "color": "white"
             }
            },
            "header": {
             "fill": {
              "color": "#C8D4E3"
             },
             "line": {
              "color": "white"
             }
            },
            "type": "table"
           }
          ]
         },
         "layout": {
          "annotationdefaults": {
           "arrowcolor": "#2a3f5f",
           "arrowhead": 0,
           "arrowwidth": 1
          },
          "autotypenumbers": "strict",
          "coloraxis": {
           "colorbar": {
            "outlinewidth": 0,
            "ticks": ""
           }
          },
          "colorscale": {
           "diverging": [
            [
             0,
             "#8e0152"
            ],
            [
             0.1,
             "#c51b7d"
            ],
            [
             0.2,
             "#de77ae"
            ],
            [
             0.3,
             "#f1b6da"
            ],
            [
             0.4,
             "#fde0ef"
            ],
            [
             0.5,
             "#f7f7f7"
            ],
            [
             0.6,
             "#e6f5d0"
            ],
            [
             0.7,
             "#b8e186"
            ],
            [
             0.8,
             "#7fbc41"
            ],
            [
             0.9,
             "#4d9221"
            ],
            [
             1,
             "#276419"
            ]
           ],
           "sequential": [
            [
             0,
             "#0d0887"
            ],
            [
             0.1111111111111111,
             "#46039f"
            ],
            [
             0.2222222222222222,
             "#7201a8"
            ],
            [
             0.3333333333333333,
             "#9c179e"
            ],
            [
             0.4444444444444444,
             "#bd3786"
            ],
            [
             0.5555555555555556,
             "#d8576b"
            ],
            [
             0.6666666666666666,
             "#ed7953"
            ],
            [
             0.7777777777777778,
             "#fb9f3a"
            ],
            [
             0.8888888888888888,
             "#fdca26"
            ],
            [
             1,
             "#f0f921"
            ]
           ],
           "sequentialminus": [
            [
             0,
             "#0d0887"
            ],
            [
             0.1111111111111111,
             "#46039f"
            ],
            [
             0.2222222222222222,
             "#7201a8"
            ],
            [
             0.3333333333333333,
             "#9c179e"
            ],
            [
             0.4444444444444444,
             "#bd3786"
            ],
            [
             0.5555555555555556,
             "#d8576b"
            ],
            [
             0.6666666666666666,
             "#ed7953"
            ],
            [
             0.7777777777777778,
             "#fb9f3a"
            ],
            [
             0.8888888888888888,
             "#fdca26"
            ],
            [
             1,
             "#f0f921"
            ]
           ]
          },
          "colorway": [
           "#636efa",
           "#EF553B",
           "#00cc96",
           "#ab63fa",
           "#FFA15A",
           "#19d3f3",
           "#FF6692",
           "#B6E880",
           "#FF97FF",
           "#FECB52"
          ],
          "font": {
           "color": "#2a3f5f"
          },
          "geo": {
           "bgcolor": "white",
           "lakecolor": "white",
           "landcolor": "#E5ECF6",
           "showlakes": true,
           "showland": true,
           "subunitcolor": "white"
          },
          "hoverlabel": {
           "align": "left"
          },
          "hovermode": "closest",
          "mapbox": {
           "style": "light"
          },
          "paper_bgcolor": "white",
          "plot_bgcolor": "#E5ECF6",
          "polar": {
           "angularaxis": {
            "gridcolor": "white",
            "linecolor": "white",
            "ticks": ""
           },
           "bgcolor": "#E5ECF6",
           "radialaxis": {
            "gridcolor": "white",
            "linecolor": "white",
            "ticks": ""
           }
          },
          "scene": {
           "xaxis": {
            "backgroundcolor": "#E5ECF6",
            "gridcolor": "white",
            "gridwidth": 2,
            "linecolor": "white",
            "showbackground": true,
            "ticks": "",
            "zerolinecolor": "white"
           },
           "yaxis": {
            "backgroundcolor": "#E5ECF6",
            "gridcolor": "white",
            "gridwidth": 2,
            "linecolor": "white",
            "showbackground": true,
            "ticks": "",
            "zerolinecolor": "white"
           },
           "zaxis": {
            "backgroundcolor": "#E5ECF6",
            "gridcolor": "white",
            "gridwidth": 2,
            "linecolor": "white",
            "showbackground": true,
            "ticks": "",
            "zerolinecolor": "white"
           }
          },
          "shapedefaults": {
           "line": {
            "color": "#2a3f5f"
           }
          },
          "ternary": {
           "aaxis": {
            "gridcolor": "white",
            "linecolor": "white",
            "ticks": ""
           },
           "baxis": {
            "gridcolor": "white",
            "linecolor": "white",
            "ticks": ""
           },
           "bgcolor": "#E5ECF6",
           "caxis": {
            "gridcolor": "white",
            "linecolor": "white",
            "ticks": ""
           }
          },
          "title": {
           "x": 0.05
          },
          "xaxis": {
           "automargin": true,
           "gridcolor": "white",
           "linecolor": "white",
           "ticks": "",
           "title": {
            "standoff": 15
           },
           "zerolinecolor": "white",
           "zerolinewidth": 2
          },
          "yaxis": {
           "automargin": true,
           "gridcolor": "white",
           "linecolor": "white",
           "ticks": "",
           "title": {
            "standoff": 15
           },
           "zerolinecolor": "white",
           "zerolinewidth": 2
          }
         }
        },
        "title": {
         "text": "Haken 12, Trajektorien-Ansatz 1"
        }
       }
      }
     },
     "metadata": {},
     "output_type": "display_data"
    },
    {
     "name": "stdout",
     "output_type": "stream",
     "text": [
      "HTML-Datei 'traj2.html' erfolgreich erstellt!\n"
     ]
    },
    {
     "data": {
      "application/vnd.plotly.v1+json": {
       "config": {
        "plotlyServerURL": "https://plot.ly"
       },
       "data": [
        {
         "color": "rgba(31, 119, 180, 0.8)",
         "name": "P1",
         "opacity": 0.8,
         "type": "mesh3d",
         "x": [
          -77.95849608902962,
          -71.92246294660112,
          -66.31296560464658,
          -72.34899874707509
         ],
         "y": [
          912.6118425604354,
          910.7758138208554,
          919.671016821588,
          921.507045561168
         ],
         "z": [
          742.8232024578308,
          739.7908267603058,
          745.5708702849138,
          748.6032459824388
         ]
        },
        {
         "marker": {
          "color": "red",
          "size": 3
         },
         "mode": "markers+text",
         "showlegend": false,
         "text": "",
         "textfont": {
          "size": 12
         },
         "textposition": "top center",
         "type": "scatter3d",
         "x": [
          -72.1357308468381
         ],
         "y": [
          916.1414296910117
         ],
         "z": [
          744.1970363713723
         ]
        },
        {
         "line": {
          "color": "rgba(31, 119, 180, 0.8)",
          "width": 4
         },
         "mode": "lines",
         "showlegend": false,
         "type": "scatter3d",
         "x": [
          -77.95849608902962,
          -71.92246294660112
         ],
         "y": [
          912.6118425604354,
          910.7758138208554
         ],
         "z": [
          742.8232024578308,
          739.7908267603058
         ]
        },
        {
         "line": {
          "color": "rgba(31, 119, 180, 0.8)",
          "width": 4
         },
         "mode": "lines",
         "showlegend": false,
         "type": "scatter3d",
         "x": [
          -71.92246294660112,
          -66.31296560464658
         ],
         "y": [
          910.7758138208554,
          919.671016821588
         ],
         "z": [
          739.7908267603058,
          745.5708702849138
         ]
        },
        {
         "line": {
          "color": "rgba(31, 119, 180, 0.8)",
          "width": 4
         },
         "mode": "lines",
         "showlegend": false,
         "type": "scatter3d",
         "x": [
          -66.31296560464658,
          -72.34899874707509
         ],
         "y": [
          919.671016821588,
          921.507045561168
         ],
         "z": [
          745.5708702849138,
          748.6032459824388
         ]
        },
        {
         "line": {
          "color": "rgba(31, 119, 180, 0.8)",
          "width": 4
         },
         "mode": "lines",
         "showlegend": false,
         "type": "scatter3d",
         "x": [
          -72.34899874707509,
          -77.95849608902962
         ],
         "y": [
          921.507045561168,
          912.6118425604354
         ],
         "z": [
          748.6032459824388,
          742.8232024578308
         ]
        },
        {
         "color": "rgba(174, 199, 232, 0.8)",
         "name": "P2",
         "opacity": 0.8,
         "type": "mesh3d",
         "x": [
          -84.38643442425878,
          -78.35040128183027,
          -72.74090393987574,
          -78.77693708230424
         ],
         "y": [
          918.8529859026713,
          917.0169571630913,
          925.9121601638238,
          927.7481889034038
         ],
         "z": [
          738.2266802928738,
          735.1943045953487,
          740.9743481199567,
          744.0067238174818
         ]
        },
        {
         "marker": {
          "color": "red",
          "size": 3
         },
         "mode": "markers+text",
         "showlegend": false,
         "text": "",
         "textfont": {
          "size": 12
         },
         "textposition": "top center",
         "type": "scatter3d",
         "x": [
          -78.56366918206726
         ],
         "y": [
          922.3825730332476
         ],
         "z": [
          739.6005142064153
         ]
        },
        {
         "line": {
          "color": "rgba(174, 199, 232, 0.8)",
          "width": 4
         },
         "mode": "lines",
         "showlegend": false,
         "type": "scatter3d",
         "x": [
          -84.38643442425878,
          -78.35040128183027
         ],
         "y": [
          918.8529859026713,
          917.0169571630913
         ],
         "z": [
          738.2266802928738,
          735.1943045953487
         ]
        },
        {
         "line": {
          "color": "rgba(174, 199, 232, 0.8)",
          "width": 4
         },
         "mode": "lines",
         "showlegend": false,
         "type": "scatter3d",
         "x": [
          -78.35040128183027,
          -72.74090393987574
         ],
         "y": [
          917.0169571630913,
          925.9121601638238
         ],
         "z": [
          735.1943045953487,
          740.9743481199567
         ]
        },
        {
         "line": {
          "color": "rgba(174, 199, 232, 0.8)",
          "width": 4
         },
         "mode": "lines",
         "showlegend": false,
         "type": "scatter3d",
         "x": [
          -72.74090393987574,
          -78.77693708230424
         ],
         "y": [
          925.9121601638238,
          927.7481889034038
         ],
         "z": [
          740.9743481199567,
          744.0067238174818
         ]
        },
        {
         "line": {
          "color": "rgba(174, 199, 232, 0.8)",
          "width": 4
         },
         "mode": "lines",
         "showlegend": false,
         "type": "scatter3d",
         "x": [
          -78.77693708230424,
          -84.38643442425878
         ],
         "y": [
          927.7481889034038,
          918.8529859026713
         ],
         "z": [
          744.0067238174818,
          738.2266802928738
         ]
        },
        {
         "color": "rgba(255, 187, 120, 0.8)",
         "name": "P3",
         "opacity": 0.8,
         "type": "mesh3d",
         "x": [
          -84.69054454488152,
          -78.65451140245301,
          -73.04501406049847,
          -79.08104720292698
         ],
         "y": [
          919.8490541226093,
          918.0130253830293,
          926.9082283837619,
          928.7442571233419
         ],
         "z": [
          737.5217671302502,
          734.4893914327251,
          740.2694349573331,
          743.3018106548582
         ]
        },
        {
         "marker": {
          "color": "red",
          "size": 3
         },
         "mode": "markers+text",
         "showlegend": false,
         "text": "P2",
         "textfont": {
          "size": 12
         },
         "textposition": "top center",
         "type": "scatter3d",
         "x": [
          -78.86777930269
         ],
         "y": [
          923.3786412531856
         ],
         "z": [
          738.8956010437917
         ]
        },
        {
         "line": {
          "color": "rgba(255, 187, 120, 0.8)",
          "width": 4
         },
         "mode": "lines",
         "showlegend": false,
         "type": "scatter3d",
         "x": [
          -84.69054454488152,
          -78.65451140245301
         ],
         "y": [
          919.8490541226093,
          918.0130253830293
         ],
         "z": [
          737.5217671302502,
          734.4893914327251
         ]
        },
        {
         "line": {
          "color": "rgba(255, 187, 120, 0.8)",
          "width": 4
         },
         "mode": "lines",
         "showlegend": false,
         "type": "scatter3d",
         "x": [
          -78.65451140245301,
          -73.04501406049847
         ],
         "y": [
          918.0130253830293,
          926.9082283837619
         ],
         "z": [
          734.4893914327251,
          740.2694349573331
         ]
        },
        {
         "line": {
          "color": "rgba(255, 187, 120, 0.8)",
          "width": 4
         },
         "mode": "lines",
         "showlegend": false,
         "type": "scatter3d",
         "x": [
          -73.04501406049847,
          -79.08104720292698
         ],
         "y": [
          926.9082283837619,
          928.7442571233419
         ],
         "z": [
          740.2694349573331,
          743.3018106548582
         ]
        },
        {
         "line": {
          "color": "rgba(255, 187, 120, 0.8)",
          "width": 4
         },
         "mode": "lines",
         "showlegend": false,
         "type": "scatter3d",
         "x": [
          -79.08104720292698,
          -84.69054454488152
         ],
         "y": [
          928.7442571233419,
          919.8490541226093
         ],
         "z": [
          743.3018106548582,
          737.5217671302502
         ]
        },
        {
         "color": "rgba(152, 223, 138, 0.8)",
         "name": "P4",
         "opacity": 0.8,
         "type": "mesh3d",
         "x": [
          -85.4312728240645,
          -79.39523968163599,
          -73.78574233968145,
          -79.82177548210996
         ],
         "y": [
          920.8919137203051,
          919.0558849807251,
          927.9510879814576,
          929.7871167210376
         ],
         "z": [
          736.6708518003219,
          733.6384761027969,
          739.4185196274049,
          742.4508953249299
         ]
        },
        {
         "marker": {
          "color": "red",
          "size": 3
         },
         "mode": "markers+text",
         "showlegend": false,
         "text": "P3",
         "textfont": {
          "size": 12
         },
         "textposition": "top center",
         "type": "scatter3d",
         "x": [
          -79.60850758187297
         ],
         "y": [
          924.4215008508813
         ],
         "z": [
          738.0446857138634
         ]
        },
        {
         "line": {
          "color": "rgba(152, 223, 138, 0.8)",
          "width": 4
         },
         "mode": "lines",
         "showlegend": false,
         "type": "scatter3d",
         "x": [
          -85.4312728240645,
          -79.39523968163599
         ],
         "y": [
          920.8919137203051,
          919.0558849807251
         ],
         "z": [
          736.6708518003219,
          733.6384761027969
         ]
        },
        {
         "line": {
          "color": "rgba(152, 223, 138, 0.8)",
          "width": 4
         },
         "mode": "lines",
         "showlegend": false,
         "type": "scatter3d",
         "x": [
          -79.39523968163599,
          -73.78574233968145
         ],
         "y": [
          919.0558849807251,
          927.9510879814576
         ],
         "z": [
          733.6384761027969,
          739.4185196274049
         ]
        },
        {
         "line": {
          "color": "rgba(152, 223, 138, 0.8)",
          "width": 4
         },
         "mode": "lines",
         "showlegend": false,
         "type": "scatter3d",
         "x": [
          -73.78574233968145,
          -79.82177548210996
         ],
         "y": [
          927.9510879814576,
          929.7871167210376
         ],
         "z": [
          739.4185196274049,
          742.4508953249299
         ]
        },
        {
         "line": {
          "color": "rgba(152, 223, 138, 0.8)",
          "width": 4
         },
         "mode": "lines",
         "showlegend": false,
         "type": "scatter3d",
         "x": [
          -79.82177548210996,
          -85.4312728240645
         ],
         "y": [
          929.7871167210376,
          920.8919137203051
         ],
         "z": [
          742.4508953249299,
          736.6708518003219
         ]
        },
        {
         "color": "rgba(255, 152, 150, 0.8)",
         "name": "P5",
         "opacity": 0.8,
         "type": "mesh3d",
         "x": [
          -86.30587974587066,
          -80.26984660344215,
          -74.66034926148761,
          -80.69638240391612
         ],
         "y": [
          920.9524278026723,
          919.1163990630923,
          928.0116020638249,
          929.8476308034049
         ],
         "z": [
          735.945622356613,
          732.9132466590879,
          738.6932901836959,
          741.725665881221
         ]
        },
        {
         "marker": {
          "color": "red",
          "size": 3
         },
         "mode": "markers+text",
         "showlegend": false,
         "text": "P4",
         "textfont": {
          "size": 12
         },
         "textposition": "top center",
         "type": "scatter3d",
         "x": [
          -80.48311450367913
         ],
         "y": [
          924.4820149332486
         ],
         "z": [
          737.3194562701544
         ]
        },
        {
         "line": {
          "color": "rgba(255, 152, 150, 0.8)",
          "width": 4
         },
         "mode": "lines",
         "showlegend": false,
         "type": "scatter3d",
         "x": [
          -86.30587974587066,
          -80.26984660344215
         ],
         "y": [
          920.9524278026723,
          919.1163990630923
         ],
         "z": [
          735.945622356613,
          732.9132466590879
         ]
        },
        {
         "line": {
          "color": "rgba(255, 152, 150, 0.8)",
          "width": 4
         },
         "mode": "lines",
         "showlegend": false,
         "type": "scatter3d",
         "x": [
          -80.26984660344215,
          -74.66034926148761
         ],
         "y": [
          919.1163990630923,
          928.0116020638249
         ],
         "z": [
          732.9132466590879,
          738.6932901836959
         ]
        },
        {
         "line": {
          "color": "rgba(255, 152, 150, 0.8)",
          "width": 4
         },
         "mode": "lines",
         "showlegend": false,
         "type": "scatter3d",
         "x": [
          -74.66034926148761,
          -80.69638240391612
         ],
         "y": [
          928.0116020638249,
          929.8476308034049
         ],
         "z": [
          738.6932901836959,
          741.725665881221
         ]
        },
        {
         "line": {
          "color": "rgba(255, 152, 150, 0.8)",
          "width": 4
         },
         "mode": "lines",
         "showlegend": false,
         "type": "scatter3d",
         "x": [
          -80.69638240391612,
          -86.30587974587066
         ],
         "y": [
          929.8476308034049,
          920.9524278026723
         ],
         "z": [
          741.725665881221,
          735.945622356613
         ]
        },
        {
         "color": "rgba(197, 176, 213, 0.8)",
         "name": "P6",
         "opacity": 0.8,
         "type": "mesh3d",
         "x": [
          -87.05388008017322,
          -81.01784693774471,
          -75.40834959579017,
          -81.44438273821868
         ],
         "y": [
          922.0034993400249,
          920.1674706004449,
          929.0626736011774,
          930.8987023407574
         ],
         "z": [
          735.1587840728779,
          732.1264083753529,
          737.9064518999609,
          740.9388275974859
         ]
        },
        {
         "marker": {
          "color": "red",
          "size": 3
         },
         "mode": "markers+text",
         "showlegend": false,
         "text": "P5",
         "textfont": {
          "size": 12
         },
         "textposition": "top center",
         "type": "scatter3d",
         "x": [
          -81.23111483798169
         ],
         "y": [
          925.5330864706011
         ],
         "z": [
          736.5326179864194
         ]
        },
        {
         "line": {
          "color": "rgba(197, 176, 213, 0.8)",
          "width": 4
         },
         "mode": "lines",
         "showlegend": false,
         "type": "scatter3d",
         "x": [
          -87.05388008017322,
          -81.01784693774471
         ],
         "y": [
          922.0034993400249,
          920.1674706004449
         ],
         "z": [
          735.1587840728779,
          732.1264083753529
         ]
        },
        {
         "line": {
          "color": "rgba(197, 176, 213, 0.8)",
          "width": 4
         },
         "mode": "lines",
         "showlegend": false,
         "type": "scatter3d",
         "x": [
          -81.01784693774471,
          -75.40834959579017
         ],
         "y": [
          920.1674706004449,
          929.0626736011774
         ],
         "z": [
          732.1264083753529,
          737.9064518999609
         ]
        },
        {
         "line": {
          "color": "rgba(197, 176, 213, 0.8)",
          "width": 4
         },
         "mode": "lines",
         "showlegend": false,
         "type": "scatter3d",
         "x": [
          -75.40834959579017,
          -81.44438273821868
         ],
         "y": [
          929.0626736011774,
          930.8987023407574
         ],
         "z": [
          737.9064518999609,
          740.9388275974859
         ]
        },
        {
         "line": {
          "color": "rgba(197, 176, 213, 0.8)",
          "width": 4
         },
         "mode": "lines",
         "showlegend": false,
         "type": "scatter3d",
         "x": [
          -81.44438273821868,
          -87.05388008017322
         ],
         "y": [
          930.8987023407574,
          922.0034993400249
         ],
         "z": [
          740.9388275974859,
          735.1587840728779
         ]
        },
        {
         "color": "rgba(140, 86, 75, 0.8)",
         "name": "P7",
         "opacity": 0.8,
         "type": "mesh3d",
         "x": [
          -87.80784386049704,
          -81.77181071806854,
          -76.162313376114,
          -82.19834651854251
         ],
         "y": [
          923.0625575982091,
          921.2265288586291,
          930.1217318593616,
          931.9577605989416
         ],
         "z": [
          734.3658832199795,
          731.3335075224545,
          737.1135510470625,
          740.1459267445875
         ]
        },
        {
         "marker": {
          "color": "red",
          "size": 3
         },
         "mode": "markers+text",
         "showlegend": false,
         "text": "P6",
         "textfont": {
          "size": 12
         },
         "textposition": "top center",
         "type": "scatter3d",
         "x": [
          -81.98507861830552
         ],
         "y": [
          926.5921447287853
         ],
         "z": [
          735.739717133521
         ]
        },
        {
         "line": {
          "color": "rgba(140, 86, 75, 0.8)",
          "width": 4
         },
         "mode": "lines",
         "showlegend": false,
         "type": "scatter3d",
         "x": [
          -87.80784386049704,
          -81.77181071806854
         ],
         "y": [
          923.0625575982091,
          921.2265288586291
         ],
         "z": [
          734.3658832199795,
          731.3335075224545
         ]
        },
        {
         "line": {
          "color": "rgba(140, 86, 75, 0.8)",
          "width": 4
         },
         "mode": "lines",
         "showlegend": false,
         "type": "scatter3d",
         "x": [
          -81.77181071806854,
          -76.162313376114
         ],
         "y": [
          921.2265288586291,
          930.1217318593616
         ],
         "z": [
          731.3335075224545,
          737.1135510470625
         ]
        },
        {
         "line": {
          "color": "rgba(140, 86, 75, 0.8)",
          "width": 4
         },
         "mode": "lines",
         "showlegend": false,
         "type": "scatter3d",
         "x": [
          -76.162313376114,
          -82.19834651854251
         ],
         "y": [
          930.1217318593616,
          931.9577605989416
         ],
         "z": [
          737.1135510470625,
          740.1459267445875
         ]
        },
        {
         "line": {
          "color": "rgba(140, 86, 75, 0.8)",
          "width": 4
         },
         "mode": "lines",
         "showlegend": false,
         "type": "scatter3d",
         "x": [
          -82.19834651854251,
          -87.80784386049704
         ],
         "y": [
          931.9577605989416,
          923.0625575982091
         ],
         "z": [
          740.1459267445875,
          734.3658832199795
         ]
        },
        {
         "color": "rgba(227, 119, 194, 0.8)",
         "name": "P8",
         "opacity": 0.8,
         "type": "mesh3d",
         "x": [
          -88.71370456202506,
          -82.67767141959655,
          -77.06817407764201,
          -83.10420722007052
         ],
         "y": [
          924.1416746571176,
          922.3056459175376,
          931.2008489182701,
          933.0368776578501
         ],
         "z": [
          733.4938809480094,
          730.4615052504844,
          736.2415487750924,
          739.2739244726174
         ]
        },
        {
         "marker": {
          "color": "red",
          "size": 3
         },
         "mode": "markers+text",
         "showlegend": false,
         "text": "P7",
         "textfont": {
          "size": 12
         },
         "textposition": "top center",
         "type": "scatter3d",
         "x": [
          -82.89093931983354
         ],
         "y": [
          927.6712617876939
         ],
         "z": [
          734.8677148615509
         ]
        },
        {
         "line": {
          "color": "rgba(227, 119, 194, 0.8)",
          "width": 4
         },
         "mode": "lines",
         "showlegend": false,
         "type": "scatter3d",
         "x": [
          -88.71370456202506,
          -82.67767141959655
         ],
         "y": [
          924.1416746571176,
          922.3056459175376
         ],
         "z": [
          733.4938809480094,
          730.4615052504844
         ]
        },
        {
         "line": {
          "color": "rgba(227, 119, 194, 0.8)",
          "width": 4
         },
         "mode": "lines",
         "showlegend": false,
         "type": "scatter3d",
         "x": [
          -82.67767141959655,
          -77.06817407764201
         ],
         "y": [
          922.3056459175376,
          931.2008489182701
         ],
         "z": [
          730.4615052504844,
          736.2415487750924
         ]
        },
        {
         "line": {
          "color": "rgba(227, 119, 194, 0.8)",
          "width": 4
         },
         "mode": "lines",
         "showlegend": false,
         "type": "scatter3d",
         "x": [
          -77.06817407764201,
          -83.10420722007052
         ],
         "y": [
          931.2008489182701,
          933.0368776578501
         ],
         "z": [
          736.2415487750924,
          739.2739244726174
         ]
        },
        {
         "line": {
          "color": "rgba(227, 119, 194, 0.8)",
          "width": 4
         },
         "mode": "lines",
         "showlegend": false,
         "type": "scatter3d",
         "x": [
          -83.10420722007052,
          -88.71370456202506
         ],
         "y": [
          933.0368776578501,
          924.1416746571176
         ],
         "z": [
          739.2739244726174,
          733.4938809480094
         ]
        },
        {
         "color": "rgba(127, 127, 127, 0.8)",
         "name": "P9",
         "opacity": 0.8,
         "type": "mesh3d",
         "x": [
          -89.59581703782642,
          -83.55978389539791,
          -77.95028655344338,
          -83.98631969587188
         ],
         "y": [
          924.2097456342501,
          922.3737168946701,
          931.2689198954026,
          933.1049486349826
         ],
         "z": [
          732.9082693360999,
          729.8758936385749,
          735.6559371631829,
          738.6883128607079
         ]
        },
        {
         "marker": {
          "color": "red",
          "size": 3
         },
         "mode": "markers+text",
         "showlegend": false,
         "text": "P8",
         "textfont": {
          "size": 12
         },
         "textposition": "top center",
         "type": "scatter3d",
         "x": [
          -83.7730517956349
         ],
         "y": [
          927.7393327648264
         ],
         "z": [
          734.2821032496414
         ]
        },
        {
         "line": {
          "color": "rgba(127, 127, 127, 0.8)",
          "width": 4
         },
         "mode": "lines",
         "showlegend": false,
         "type": "scatter3d",
         "x": [
          -89.59581703782642,
          -83.55978389539791
         ],
         "y": [
          924.2097456342501,
          922.3737168946701
         ],
         "z": [
          732.9082693360999,
          729.8758936385749
         ]
        },
        {
         "line": {
          "color": "rgba(127, 127, 127, 0.8)",
          "width": 4
         },
         "mode": "lines",
         "showlegend": false,
         "type": "scatter3d",
         "x": [
          -83.55978389539791,
          -77.95028655344338
         ],
         "y": [
          922.3737168946701,
          931.2689198954026
         ],
         "z": [
          729.8758936385749,
          735.6559371631829
         ]
        },
        {
         "line": {
          "color": "rgba(127, 127, 127, 0.8)",
          "width": 4
         },
         "mode": "lines",
         "showlegend": false,
         "type": "scatter3d",
         "x": [
          -77.95028655344338,
          -83.98631969587188
         ],
         "y": [
          931.2689198954026,
          933.1049486349826
         ],
         "z": [
          735.6559371631829,
          738.6883128607079
         ]
        },
        {
         "line": {
          "color": "rgba(127, 127, 127, 0.8)",
          "width": 4
         },
         "mode": "lines",
         "showlegend": false,
         "type": "scatter3d",
         "x": [
          -83.98631969587188,
          -89.59581703782642
         ],
         "y": [
          933.1049486349826,
          924.2097456342501
         ],
         "z": [
          738.6883128607079,
          732.9082693360999
         ]
        },
        {
         "color": "rgba(188, 189, 34, 0.8)",
         "name": "P10",
         "opacity": 0.8,
         "type": "mesh3d",
         "x": [
          -90.64888544479784,
          -84.61285230236933,
          -79.0033549604148,
          -85.0393881028433
         ],
         "y": [
          925.3438755908396,
          923.5078468512596,
          932.4030498519921,
          934.2390785915721
         ],
         "z": [
          732.7805664434923,
          729.7481907459672,
          735.5282342705752,
          738.5606099681003
         ]
        },
        {
         "marker": {
          "color": "red",
          "size": 3
         },
         "mode": "markers+text",
         "showlegend": false,
         "text": "P9",
         "textfont": {
          "size": 12
         },
         "textposition": "top center",
         "type": "scatter3d",
         "x": [
          -84.82612020260632
         ],
         "y": [
          928.873462721416
         ],
         "z": [
          734.1544003570338
         ]
        },
        {
         "line": {
          "color": "rgba(188, 189, 34, 0.8)",
          "width": 4
         },
         "mode": "lines",
         "showlegend": false,
         "type": "scatter3d",
         "x": [
          -90.64888544479784,
          -84.61285230236933
         ],
         "y": [
          925.3438755908396,
          923.5078468512596
         ],
         "z": [
          732.7805664434923,
          729.7481907459672
         ]
        },
        {
         "line": {
          "color": "rgba(188, 189, 34, 0.8)",
          "width": 4
         },
         "mode": "lines",
         "showlegend": false,
         "type": "scatter3d",
         "x": [
          -84.61285230236933,
          -79.0033549604148
         ],
         "y": [
          923.5078468512596,
          932.4030498519921
         ],
         "z": [
          729.7481907459672,
          735.5282342705752
         ]
        },
        {
         "line": {
          "color": "rgba(188, 189, 34, 0.8)",
          "width": 4
         },
         "mode": "lines",
         "showlegend": false,
         "type": "scatter3d",
         "x": [
          -79.0033549604148,
          -85.0393881028433
         ],
         "y": [
          932.4030498519921,
          934.2390785915721
         ],
         "z": [
          735.5282342705752,
          738.5606099681003
         ]
        },
        {
         "line": {
          "color": "rgba(188, 189, 34, 0.8)",
          "width": 4
         },
         "mode": "lines",
         "showlegend": false,
         "type": "scatter3d",
         "x": [
          -85.0393881028433,
          -90.64888544479784
         ],
         "y": [
          934.2390785915721,
          925.3438755908396
         ],
         "z": [
          738.5606099681003,
          732.7805664434923
         ]
        },
        {
         "color": "rgba(23, 190, 207, 0.8)",
         "name": "P11",
         "opacity": 0.8,
         "type": "mesh3d",
         "x": [
          -91.85615382586839,
          -85.82012068343988,
          -80.21062334148534,
          -86.24665648391385
         ],
         "y": [
          926.5064517217733,
          924.6704229821933,
          933.5656259829258,
          935.4016547225058
         ],
         "z": [
          732.7294177135235,
          729.6970420159985,
          735.4770855406065,
          738.5094612381315
         ]
        },
        {
         "marker": {
          "color": "red",
          "size": 3
         },
         "mode": "markers+text",
         "showlegend": false,
         "text": "",
         "textfont": {
          "size": 12
         },
         "textposition": "top center",
         "type": "scatter3d",
         "x": [
          -86.03338858367687
         ],
         "y": [
          930.0360388523495
         ],
         "z": [
          734.103251627065
         ]
        },
        {
         "line": {
          "color": "rgba(23, 190, 207, 0.8)",
          "width": 4
         },
         "mode": "lines",
         "showlegend": false,
         "type": "scatter3d",
         "x": [
          -91.85615382586839,
          -85.82012068343988
         ],
         "y": [
          926.5064517217733,
          924.6704229821933
         ],
         "z": [
          732.7294177135235,
          729.6970420159985
         ]
        },
        {
         "line": {
          "color": "rgba(23, 190, 207, 0.8)",
          "width": 4
         },
         "mode": "lines",
         "showlegend": false,
         "type": "scatter3d",
         "x": [
          -85.82012068343988,
          -80.21062334148534
         ],
         "y": [
          924.6704229821933,
          933.5656259829258
         ],
         "z": [
          729.6970420159985,
          735.4770855406065
         ]
        },
        {
         "line": {
          "color": "rgba(23, 190, 207, 0.8)",
          "width": 4
         },
         "mode": "lines",
         "showlegend": false,
         "type": "scatter3d",
         "x": [
          -80.21062334148534,
          -86.24665648391385
         ],
         "y": [
          933.5656259829258,
          935.4016547225058
         ],
         "z": [
          735.4770855406065,
          738.5094612381315
         ]
        },
        {
         "line": {
          "color": "rgba(23, 190, 207, 0.8)",
          "width": 4
         },
         "mode": "lines",
         "showlegend": false,
         "type": "scatter3d",
         "x": [
          -86.24665648391385,
          -91.85615382586839
         ],
         "y": [
          935.4016547225058,
          926.5064517217733
         ],
         "z": [
          738.5094612381315,
          732.7294177135235
         ]
        },
        {
         "line": {
          "color": "black",
          "width": 2
         },
         "mode": "lines",
         "name": "Berechnete Hakenlinie",
         "type": "scatter3d",
         "x": {
          "bdata": "mA5v0K8IUsB8r+cnE6RTwMBMM7KJt1PAzODIyfHmU8CcYRhZ6x5UwByw45XKTlTAHGcwhwt/VMD0WVomBblUwGwXPa558VTAlDBFJ980VcDsvN4JI4JVwA==",
          "dtype": "f8"
         },
         "y": {
          "bdata": "oczjpSGhjEAKUXOCD9OMQMq6EHUH24xALI7WO1/jjEDkM6Uq2+OMQGDp1sJD7IxADiVgtrz0jECZCYC+Xv2MQFPuSyfq/YxADvYF2vwGjUDQ4bzOSRCNQA==",
          "dtype": "f8"
         },
         "z": {
          "bdata": "VRnOh5NBh0CyamTazRyHQMpK4TAqF4dAIv0uhFsQh0CGxhY/jgqHQHYHOM1CBIdAHAbR8Or9hkDqRH0U8faGQHE6Wb9B8oZAmx9BNjzxhkAGzJZ10/CGQA==",
          "dtype": "f8"
         }
        },
        {
         "mode": "text",
         "showlegend": false,
         "text": [
          "Pre-Position"
         ],
         "textfont": {
          "size": 10
         },
         "textposition": "top center",
         "type": "scatter3d",
         "x": [
          -72.1357308468381
         ],
         "y": [
          916.1414296910117
         ],
         "z": [
          744.1970363713723
         ]
        },
        {
         "mode": "text",
         "showlegend": false,
         "text": [
          "Loslassen"
         ],
         "textfont": {
          "size": 10
         },
         "textposition": "top center",
         "type": "scatter3d",
         "x": [
          -86.03338858367687
         ],
         "y": [
          930.0360388523495
         ],
         "z": [
          734.103251627065
         ]
        },
        {
         "color": "rgba(0,255,0,0.2)",
         "name": "optimale Trajektorie",
         "opacity": 0.8,
         "type": "mesh3d",
         "x": [
          -87.68415207550848,
          -84.26620372055652,
          -75.7194349382604,
          -79.13738329321237
         ],
         "y": [
          922.1793237908196,
          918.7101913940295,
          927.1335363336862,
          930.6026687304762
         ],
         "z": [
          745.1114089974996,
          740.0832135501822,
          740.0813670587332,
          745.1095625060506
         ]
        },
        {
         "line": {
          "color": "rgba(0,255,0,0.2)",
          "width": 3
         },
         "mode": "lines",
         "showlegend": false,
         "type": "scatter3d",
         "x": [
          -87.68415207550848,
          -84.26620372055652
         ],
         "y": [
          922.1793237908196,
          918.7101913940295
         ],
         "z": [
          745.1114089974996,
          740.0832135501822
         ]
        },
        {
         "line": {
          "color": "rgba(0,255,0,0.2)",
          "width": 3
         },
         "mode": "lines",
         "showlegend": false,
         "type": "scatter3d",
         "x": [
          -84.26620372055652,
          -75.7194349382604
         ],
         "y": [
          918.7101913940295,
          927.1335363336862
         ],
         "z": [
          740.0832135501822,
          740.0813670587332
         ]
        },
        {
         "line": {
          "color": "rgba(0,255,0,0.2)",
          "width": 3
         },
         "mode": "lines",
         "showlegend": false,
         "type": "scatter3d",
         "x": [
          -75.7194349382604,
          -79.13738329321237
         ],
         "y": [
          927.1335363336862,
          930.6026687304762
         ],
         "z": [
          740.0813670587332,
          745.1095625060506
         ]
        },
        {
         "line": {
          "color": "rgba(0,255,0,0.2)",
          "width": 3
         },
         "mode": "lines",
         "showlegend": false,
         "type": "scatter3d",
         "x": [
          -79.13738329321237,
          -87.68415207550848
         ],
         "y": [
          930.6026687304762,
          922.1793237908196
         ],
         "z": [
          745.1095625060506,
          745.1114089974996
         ]
        },
        {
         "marker": {
          "color": "green",
          "size": 4
         },
         "mode": "markers",
         "name": "Mitte P11",
         "showlegend": false,
         "type": "scatter3d",
         "x": [
          -81.70179350688444
         ],
         "y": [
          924.6564300622529
         ],
         "z": [
          742.5963880281164
         ]
        },
        {
         "color": "rgba(0,255,0,0.2)",
         "name": "optimale Trajektorie",
         "opacity": 0.8,
         "type": "mesh3d",
         "x": [
          -87.68415207550848,
          -84.26620372055652,
          -75.7194349382604,
          -79.13738329321237
         ],
         "y": [
          922.1793237908196,
          918.7101913940295,
          927.1335363336862,
          930.6026687304762
         ],
         "z": [
          745.1114089974996,
          740.0832135501822,
          740.0813670587332,
          745.1095625060506
         ]
        },
        {
         "line": {
          "color": "rgba(0,255,0,0.2)",
          "width": 3
         },
         "mode": "lines",
         "showlegend": false,
         "type": "scatter3d",
         "x": [
          -87.68415207550848,
          -84.26620372055652
         ],
         "y": [
          922.1793237908196,
          918.7101913940295
         ],
         "z": [
          745.1114089974996,
          740.0832135501822
         ]
        },
        {
         "line": {
          "color": "rgba(0,255,0,0.2)",
          "width": 3
         },
         "mode": "lines",
         "showlegend": false,
         "type": "scatter3d",
         "x": [
          -84.26620372055652,
          -75.7194349382604
         ],
         "y": [
          918.7101913940295,
          927.1335363336862
         ],
         "z": [
          740.0832135501822,
          740.0813670587332
         ]
        },
        {
         "line": {
          "color": "rgba(0,255,0,0.2)",
          "width": 3
         },
         "mode": "lines",
         "showlegend": false,
         "type": "scatter3d",
         "x": [
          -75.7194349382604,
          -79.13738329321237
         ],
         "y": [
          927.1335363336862,
          930.6026687304762
         ],
         "z": [
          740.0813670587332,
          745.1095625060506
         ]
        },
        {
         "line": {
          "color": "rgba(0,255,0,0.2)",
          "width": 3
         },
         "mode": "lines",
         "showlegend": false,
         "type": "scatter3d",
         "x": [
          -79.13738329321237,
          -87.68415207550848
         ],
         "y": [
          930.6026687304762,
          922.1793237908196
         ],
         "z": [
          745.1095625060506,
          745.1114089974996
         ]
        },
        {
         "marker": {
          "color": "green",
          "size": 4
         },
         "mode": "markers",
         "name": "Mitte P11",
         "showlegend": false,
         "type": "scatter3d",
         "x": [
          -81.70179350688444
         ],
         "y": [
          924.6564300622529
         ],
         "z": [
          742.5963880281164
         ]
        },
        {
         "color": "rgba(0,255,0,0.2)",
         "name": "optimale Trajektorie",
         "opacity": 0.8,
         "type": "mesh3d",
         "x": [
          -84.15681026577322,
          -80.62426892245928,
          -72.22632746829753,
          -75.75886881161146
         ],
         "y": [
          919.7617550682718,
          916.3272391411039,
          924.8988492563714,
          928.3333651835393
         ],
         "z": [
          740.975172356054,
          736.002723059801,
          736.048323107119,
          741.020772403372
         ]
        },
        {
         "line": {
          "color": "rgba(0,255,0,0.2)",
          "width": 3
         },
         "mode": "lines",
         "showlegend": false,
         "type": "scatter3d",
         "x": [
          -84.15681026577322,
          -80.62426892245928
         ],
         "y": [
          919.7617550682718,
          916.3272391411039
         ],
         "z": [
          740.975172356054,
          736.002723059801
         ]
        },
        {
         "line": {
          "color": "rgba(0,255,0,0.2)",
          "width": 3
         },
         "mode": "lines",
         "showlegend": false,
         "type": "scatter3d",
         "x": [
          -80.62426892245928,
          -72.22632746829753
         ],
         "y": [
          916.3272391411039,
          924.8988492563714
         ],
         "z": [
          736.002723059801,
          736.048323107119
         ]
        },
        {
         "line": {
          "color": "rgba(0,255,0,0.2)",
          "width": 3
         },
         "mode": "lines",
         "showlegend": false,
         "type": "scatter3d",
         "x": [
          -72.22632746829753,
          -75.75886881161146
         ],
         "y": [
          924.8988492563714,
          928.3333651835393
         ],
         "z": [
          736.048323107119,
          741.020772403372
         ]
        },
        {
         "line": {
          "color": "rgba(0,255,0,0.2)",
          "width": 3
         },
         "mode": "lines",
         "showlegend": false,
         "type": "scatter3d",
         "x": [
          -75.75886881161146,
          -84.15681026577322
         ],
         "y": [
          928.3333651835393,
          919.7617550682718
         ],
         "z": [
          741.020772403372,
          740.975172356054
         ]
        },
        {
         "marker": {
          "color": "green",
          "size": 4
         },
         "mode": "markers",
         "name": "Mitte P11",
         "showlegend": false,
         "type": "scatter3d",
         "x": [
          -78.19156886703537
         ],
         "y": [
          922.3303021623216
         ],
         "z": [
          738.5117477315865
         ]
        },
        {
         "color": "rgba(0,255,0,0.2)",
         "name": "optimale Trajektorie",
         "opacity": 0.8,
         "type": "mesh3d",
         "x": [
          -87.92999422803064,
          -84.23772775297013,
          -76.66421504175594,
          -80.35648151681644
         ],
         "y": [
          921.4618053372254,
          918.9123036482364,
          928.1856588592949,
          930.735160548284
         ],
         "z": [
          738.3272658012595,
          732.9544444367447,
          733.7586759597598,
          739.1314973242746
         ]
        },
        {
         "line": {
          "color": "rgba(0,255,0,0.2)",
          "width": 3
         },
         "mode": "lines",
         "showlegend": false,
         "type": "scatter3d",
         "x": [
          -87.92999422803064,
          -84.23772775297013
         ],
         "y": [
          921.4618053372254,
          918.9123036482364
         ],
         "z": [
          738.3272658012595,
          732.9544444367447
         ]
        },
        {
         "line": {
          "color": "rgba(0,255,0,0.2)",
          "width": 3
         },
         "mode": "lines",
         "showlegend": false,
         "type": "scatter3d",
         "x": [
          -84.23772775297013,
          -76.66421504175594
         ],
         "y": [
          918.9123036482364,
          928.1856588592949
         ],
         "z": [
          732.9544444367447,
          733.7586759597598
         ]
        },
        {
         "line": {
          "color": "rgba(0,255,0,0.2)",
          "width": 3
         },
         "mode": "lines",
         "showlegend": false,
         "type": "scatter3d",
         "x": [
          -76.66421504175594,
          -80.35648151681644
         ],
         "y": [
          928.1856588592949,
          930.735160548284
         ],
         "z": [
          733.7586759597598,
          739.1314973242746
         ]
        },
        {
         "line": {
          "color": "rgba(0,255,0,0.2)",
          "width": 3
         },
         "mode": "lines",
         "showlegend": false,
         "type": "scatter3d",
         "x": [
          -80.35648151681644,
          -87.92999422803064
         ],
         "y": [
          930.735160548284,
          921.4618053372254
         ],
         "z": [
          739.1314973242746,
          738.3272658012595
         ]
        },
        {
         "marker": {
          "color": "green",
          "size": 4
         },
         "mode": "markers",
         "name": "Mitte P11",
         "showlegend": false,
         "type": "scatter3d",
         "x": [
          -82.29710463489329
         ],
         "y": [
          924.8237320982602
         ],
         "z": [
          736.0429708805096
         ]
        },
        {
         "color": "rgba(0,255,0,0.2)",
         "name": "optimale Trajektorie",
         "opacity": 0.8,
         "type": "mesh3d",
         "x": [
          -90.82173459447384,
          -87.1108729820927,
          -79.63287295943147,
          -83.3437345718126
         ],
         "y": [
          923.8050932373077,
          921.2772437832492,
          930.6311375703546,
          933.158987024413
         ],
         "z": [
          736.9073277841488,
          731.5370872651988,
          732.3014083238069,
          737.6716488427569
         ]
        },
        {
         "line": {
          "color": "rgba(0,255,0,0.2)",
          "width": 3
         },
         "mode": "lines",
         "showlegend": false,
         "type": "scatter3d",
         "x": [
          -90.82173459447384,
          -87.1108729820927
         ],
         "y": [
          923.8050932373077,
          921.2772437832492
         ],
         "z": [
          736.9073277841488,
          731.5370872651988
         ]
        },
        {
         "line": {
          "color": "rgba(0,255,0,0.2)",
          "width": 3
         },
         "mode": "lines",
         "showlegend": false,
         "type": "scatter3d",
         "x": [
          -87.1108729820927,
          -79.63287295943147
         ],
         "y": [
          921.2772437832492,
          930.6311375703546
         ],
         "z": [
          731.5370872651988,
          732.3014083238069
         ]
        },
        {
         "line": {
          "color": "rgba(0,255,0,0.2)",
          "width": 3
         },
         "mode": "lines",
         "showlegend": false,
         "type": "scatter3d",
         "x": [
          -79.63287295943147,
          -83.3437345718126
         ],
         "y": [
          930.6311375703546,
          933.158987024413
         ],
         "z": [
          732.3014083238069,
          737.6716488427569
         ]
        },
        {
         "line": {
          "color": "rgba(0,255,0,0.2)",
          "width": 3
         },
         "mode": "lines",
         "showlegend": false,
         "type": "scatter3d",
         "x": [
          -83.3437345718126,
          -90.82173459447384
         ],
         "y": [
          933.158987024413,
          923.8050932373077
         ],
         "z": [
          737.6716488427569,
          736.9073277841488
         ]
        },
        {
         "marker": {
          "color": "green",
          "size": 4
         },
         "mode": "markers",
         "name": "Mitte P11",
         "showlegend": false,
         "type": "scatter3d",
         "x": [
          -85.22730377695265
         ],
         "y": [
          927.2181154038311
         ],
         "z": [
          734.6043680539779
         ]
        },
        {
         "color": "rgba(0,255,0,0.2)",
         "name": "optimale Trajektorie",
         "opacity": 0.8,
         "type": "mesh3d",
         "x": [
          -90.02966363832807,
          -86.77961731644277,
          -79.24735913518539,
          -82.4974054570707
         ],
         "y": [
          923.9725422629892,
          921.7396106399103,
          931.0596219247984,
          933.2925535478773
         ],
         "z": [
          736.3679845822938,
          730.5842820249129,
          731.2186922553154,
          737.0023948126964
         ]
        },
        {
         "line": {
          "color": "rgba(0,255,0,0.2)",
          "width": 3
         },
         "mode": "lines",
         "showlegend": false,
         "type": "scatter3d",
         "x": [
          -90.02966363832807,
          -86.77961731644277
         ],
         "y": [
          923.9725422629892,
          921.7396106399103
         ],
         "z": [
          736.3679845822938,
          730.5842820249129
         ]
        },
        {
         "line": {
          "color": "rgba(0,255,0,0.2)",
          "width": 3
         },
         "mode": "lines",
         "showlegend": false,
         "type": "scatter3d",
         "x": [
          -86.77961731644277,
          -79.24735913518539
         ],
         "y": [
          921.7396106399103,
          931.0596219247984
         ],
         "z": [
          730.5842820249129,
          731.2186922553154
         ]
        },
        {
         "line": {
          "color": "rgba(0,255,0,0.2)",
          "width": 3
         },
         "mode": "lines",
         "showlegend": false,
         "type": "scatter3d",
         "x": [
          -79.24735913518539,
          -82.4974054570707
         ],
         "y": [
          931.0596219247984,
          933.2925535478773
         ],
         "z": [
          731.2186922553154,
          737.0023948126964
         ]
        },
        {
         "line": {
          "color": "rgba(0,255,0,0.2)",
          "width": 3
         },
         "mode": "lines",
         "showlegend": false,
         "type": "scatter3d",
         "x": [
          -82.4974054570707,
          -90.02966363832807
         ],
         "y": [
          933.2925535478773,
          923.9725422629892
         ],
         "z": [
          737.0023948126964,
          736.3679845822938
         ]
        },
        {
         "marker": {
          "color": "green",
          "size": 4
         },
         "mode": "markers",
         "name": "Mitte P11",
         "showlegend": false,
         "type": "scatter3d",
         "x": [
          -84.63851138675673
         ],
         "y": [
          927.5160820938938
         ],
         "z": [
          733.7933384188046
         ]
        },
        {
         "color": "rgba(0,255,0,0.2)",
         "name": "optimale Trajektorie",
         "opacity": 0.8,
         "type": "mesh3d",
         "x": [
          -90.55964214532602,
          -89.07323476731871,
          -81.5481972681747,
          -83.03460464618202
         ],
         "y": [
          924.4663790725193,
          923.7168064961844,
          933.0438274924176,
          933.7934000687525
         ],
         "z": [
          736.1333636990933,
          729.3341921275404,
          729.9510308198276,
          736.7502023913804
         ]
        },
        {
         "line": {
          "color": "rgba(0,255,0,0.2)",
          "width": 3
         },
         "mode": "lines",
         "showlegend": false,
         "type": "scatter3d",
         "x": [
          -90.55964214532602,
          -89.07323476731871
         ],
         "y": [
          924.4663790725193,
          923.7168064961844
         ],
         "z": [
          736.1333636990933,
          729.3341921275404
         ]
        },
        {
         "line": {
          "color": "rgba(0,255,0,0.2)",
          "width": 3
         },
         "mode": "lines",
         "showlegend": false,
         "type": "scatter3d",
         "x": [
          -89.07323476731871,
          -81.5481972681747
         ],
         "y": [
          923.7168064961844,
          933.0438274924176
         ],
         "z": [
          729.3341921275404,
          729.9510308198276
         ]
        },
        {
         "line": {
          "color": "rgba(0,255,0,0.2)",
          "width": 3
         },
         "mode": "lines",
         "showlegend": false,
         "type": "scatter3d",
         "x": [
          -81.5481972681747,
          -83.03460464618202
         ],
         "y": [
          933.0438274924176,
          933.7934000687525
         ],
         "z": [
          729.9510308198276,
          736.7502023913804
         ]
        },
        {
         "line": {
          "color": "rgba(0,255,0,0.2)",
          "width": 3
         },
         "mode": "lines",
         "showlegend": false,
         "type": "scatter3d",
         "x": [
          -83.03460464618202,
          -90.55964214532602
         ],
         "y": [
          933.7934000687525,
          924.4663790725193
         ],
         "z": [
          736.7502023913804,
          736.1333636990933
         ]
        },
        {
         "marker": {
          "color": "green",
          "size": 4
         },
         "mode": "markers",
         "name": "Mitte P11",
         "showlegend": false,
         "type": "scatter3d",
         "x": [
          -86.05391970675036
         ],
         "y": [
          928.7551032824684
         ],
         "z": [
          733.0421972594604
         ]
        },
        {
         "color": "rgba(0,255,0,0.2)",
         "name": "optimale Trajektorie",
         "opacity": 0.8,
         "type": "mesh3d",
         "x": [
          -90.46097215090803,
          -90.441738585145,
          -82.91622730748936,
          -82.9354608732524
         ],
         "y": [
          924.2135732861534,
          924.656825989803,
          933.9837502126704,
          933.5404975090208
         ],
         "z": [
          736.7665644152,
          729.7806387706877,
          730.3931455467857,
          737.3790711912981
         ]
        },
        {
         "line": {
          "color": "rgba(0,255,0,0.2)",
          "width": 3
         },
         "mode": "lines",
         "showlegend": false,
         "type": "scatter3d",
         "x": [
          -90.46097215090803,
          -90.441738585145
         ],
         "y": [
          924.2135732861534,
          924.656825989803
         ],
         "z": [
          736.7665644152,
          729.7806387706877
         ]
        },
        {
         "line": {
          "color": "rgba(0,255,0,0.2)",
          "width": 3
         },
         "mode": "lines",
         "showlegend": false,
         "type": "scatter3d",
         "x": [
          -90.441738585145,
          -82.91622730748936
         ],
         "y": [
          924.656825989803,
          933.9837502126704
         ],
         "z": [
          729.7806387706877,
          730.3931455467857
         ]
        },
        {
         "line": {
          "color": "rgba(0,255,0,0.2)",
          "width": 3
         },
         "mode": "lines",
         "showlegend": false,
         "type": "scatter3d",
         "x": [
          -82.91622730748936,
          -82.9354608732524
         ],
         "y": [
          933.9837502126704,
          933.5404975090208
         ],
         "z": [
          730.3931455467857,
          737.3790711912981
         ]
        },
        {
         "line": {
          "color": "rgba(0,255,0,0.2)",
          "width": 3
         },
         "mode": "lines",
         "showlegend": false,
         "type": "scatter3d",
         "x": [
          -82.9354608732524,
          -90.46097215090803
         ],
         "y": [
          933.5404975090208,
          924.2135732861534
         ],
         "z": [
          737.3790711912981,
          736.7665644152
         ]
        },
        {
         "marker": {
          "color": "green",
          "size": 4
         },
         "mode": "markers",
         "name": "Mitte P11",
         "showlegend": false,
         "type": "scatter3d",
         "x": [
          -86.6885997291987
         ],
         "y": [
          929.0986617494119
         ],
         "z": [
          733.5798549809929
         ]
        },
        {
         "color": "rgba(0,255,0,0.2)",
         "name": "optimale Trajektorie",
         "opacity": 0.8,
         "type": "mesh3d",
         "x": [
          -90.64744840644612,
          -90.66447609686051,
          -83.12319815228982,
          -83.10617046187542
         ],
         "y": [
          924.5880456141653,
          924.9890360141546,
          934.3090393804433,
          933.9080489804539
         ],
         "z": [
          732.4600207246752,
          725.4715361423873,
          725.9879315481563,
          732.9764161304442
         ]
        },
        {
         "line": {
          "color": "rgba(0,255,0,0.2)",
          "width": 3
         },
         "mode": "lines",
         "showlegend": false,
         "type": "scatter3d",
         "x": [
          -90.64744840644612,
          -90.66447609686051
         ],
         "y": [
          924.5880456141653,
          924.9890360141546
         ],
         "z": [
          732.4600207246752,
          725.4715361423873
         ]
        },
        {
         "line": {
          "color": "rgba(0,255,0,0.2)",
          "width": 3
         },
         "mode": "lines",
         "showlegend": false,
         "type": "scatter3d",
         "x": [
          -90.66447609686051,
          -83.12319815228982
         ],
         "y": [
          924.9890360141546,
          934.3090393804433
         ],
         "z": [
          725.4715361423873,
          725.9879315481563
         ]
        },
        {
         "line": {
          "color": "rgba(0,255,0,0.2)",
          "width": 3
         },
         "mode": "lines",
         "showlegend": false,
         "type": "scatter3d",
         "x": [
          -83.12319815228982,
          -83.10617046187542
         ],
         "y": [
          934.3090393804433,
          933.9080489804539
         ],
         "z": [
          725.9879315481563,
          732.9764161304442
         ]
        },
        {
         "line": {
          "color": "rgba(0,255,0,0.2)",
          "width": 3
         },
         "mode": "lines",
         "showlegend": false,
         "type": "scatter3d",
         "x": [
          -83.10617046187542,
          -90.64744840644612
         ],
         "y": [
          933.9080489804539,
          924.5880456141653
         ],
         "z": [
          732.9764161304442,
          732.4600207246752
         ]
        },
        {
         "marker": {
          "color": "green",
          "size": 4
         },
         "mode": "markers",
         "name": "Mitte P11",
         "showlegend": false,
         "type": "scatter3d",
         "x": [
          -86.88532327936797
         ],
         "y": [
          929.4485424973043
         ],
         "z": [
          729.2239761364158
         ]
        },
        {
         "line": {
          "color": "gray",
          "dash": "dash"
         },
         "mode": "lines",
         "name": "Hakenlinie",
         "type": "scatter3d",
         "x": [
          -78.56366918206726,
          -86.03338858367687
         ],
         "y": [
          922.3825730332476,
          930.0360388523495
         ],
         "z": [
          739.6005142064153,
          734.103251627065
         ]
        },
        {
         "marker": {
          "color": "magenta",
          "size": 8
         },
         "mode": "markers",
         "name": "Spitze",
         "type": "scatter3d",
         "x": [
          -78.56366918206726
         ],
         "y": [
          922.3825730332476
         ],
         "z": [
          739.6005142064153
         ]
        },
        {
         "marker": {
          "color": "magenta",
          "size": 8
         },
         "mode": "markers",
         "name": "Senke",
         "type": "scatter3d",
         "x": [
          -86.03338858367687
         ],
         "y": [
          930.0360388523495
         ],
         "z": [
          734.103251627065
         ]
        },
        {
         "mode": "text",
         "showlegend": false,
         "text": [
          "Spitze"
         ],
         "textfont": {
          "size": 10
         },
         "textposition": "top center",
         "type": "scatter3d",
         "x": [
          -78.56366918206726
         ],
         "y": [
          922.3825730332476
         ],
         "z": [
          739.6005142064153
         ]
        },
        {
         "mode": "text",
         "showlegend": false,
         "text": [
          "Senke"
         ],
         "textfont": {
          "size": 10
         },
         "textposition": "top center",
         "type": "scatter3d",
         "x": [
          -86.03338858367687
         ],
         "y": [
          930.0360388523495
         ],
         "z": [
          734.103251627065
         ]
        }
       ],
       "layout": {
        "legend": {
         "title": {
          "text": "Legende"
         }
        },
        "scene": {
         "aspectmode": "cube",
         "xaxis": {
          "title": {
           "text": "X"
          }
         },
         "yaxis": {
          "title": {
           "text": "Y"
          }
         },
         "zaxis": {
          "title": {
           "text": "Z"
          }
         }
        },
        "template": {
         "data": {
          "bar": [
           {
            "error_x": {
             "color": "#2a3f5f"
            },
            "error_y": {
             "color": "#2a3f5f"
            },
            "marker": {
             "line": {
              "color": "#E5ECF6",
              "width": 0.5
             },
             "pattern": {
              "fillmode": "overlay",
              "size": 10,
              "solidity": 0.2
             }
            },
            "type": "bar"
           }
          ],
          "barpolar": [
           {
            "marker": {
             "line": {
              "color": "#E5ECF6",
              "width": 0.5
             },
             "pattern": {
              "fillmode": "overlay",
              "size": 10,
              "solidity": 0.2
             }
            },
            "type": "barpolar"
           }
          ],
          "carpet": [
           {
            "aaxis": {
             "endlinecolor": "#2a3f5f",
             "gridcolor": "white",
             "linecolor": "white",
             "minorgridcolor": "white",
             "startlinecolor": "#2a3f5f"
            },
            "baxis": {
             "endlinecolor": "#2a3f5f",
             "gridcolor": "white",
             "linecolor": "white",
             "minorgridcolor": "white",
             "startlinecolor": "#2a3f5f"
            },
            "type": "carpet"
           }
          ],
          "choropleth": [
           {
            "colorbar": {
             "outlinewidth": 0,
             "ticks": ""
            },
            "type": "choropleth"
           }
          ],
          "contour": [
           {
            "colorbar": {
             "outlinewidth": 0,
             "ticks": ""
            },
            "colorscale": [
             [
              0,
              "#0d0887"
             ],
             [
              0.1111111111111111,
              "#46039f"
             ],
             [
              0.2222222222222222,
              "#7201a8"
             ],
             [
              0.3333333333333333,
              "#9c179e"
             ],
             [
              0.4444444444444444,
              "#bd3786"
             ],
             [
              0.5555555555555556,
              "#d8576b"
             ],
             [
              0.6666666666666666,
              "#ed7953"
             ],
             [
              0.7777777777777778,
              "#fb9f3a"
             ],
             [
              0.8888888888888888,
              "#fdca26"
             ],
             [
              1,
              "#f0f921"
             ]
            ],
            "type": "contour"
           }
          ],
          "contourcarpet": [
           {
            "colorbar": {
             "outlinewidth": 0,
             "ticks": ""
            },
            "type": "contourcarpet"
           }
          ],
          "heatmap": [
           {
            "colorbar": {
             "outlinewidth": 0,
             "ticks": ""
            },
            "colorscale": [
             [
              0,
              "#0d0887"
             ],
             [
              0.1111111111111111,
              "#46039f"
             ],
             [
              0.2222222222222222,
              "#7201a8"
             ],
             [
              0.3333333333333333,
              "#9c179e"
             ],
             [
              0.4444444444444444,
              "#bd3786"
             ],
             [
              0.5555555555555556,
              "#d8576b"
             ],
             [
              0.6666666666666666,
              "#ed7953"
             ],
             [
              0.7777777777777778,
              "#fb9f3a"
             ],
             [
              0.8888888888888888,
              "#fdca26"
             ],
             [
              1,
              "#f0f921"
             ]
            ],
            "type": "heatmap"
           }
          ],
          "histogram": [
           {
            "marker": {
             "pattern": {
              "fillmode": "overlay",
              "size": 10,
              "solidity": 0.2
             }
            },
            "type": "histogram"
           }
          ],
          "histogram2d": [
           {
            "colorbar": {
             "outlinewidth": 0,
             "ticks": ""
            },
            "colorscale": [
             [
              0,
              "#0d0887"
             ],
             [
              0.1111111111111111,
              "#46039f"
             ],
             [
              0.2222222222222222,
              "#7201a8"
             ],
             [
              0.3333333333333333,
              "#9c179e"
             ],
             [
              0.4444444444444444,
              "#bd3786"
             ],
             [
              0.5555555555555556,
              "#d8576b"
             ],
             [
              0.6666666666666666,
              "#ed7953"
             ],
             [
              0.7777777777777778,
              "#fb9f3a"
             ],
             [
              0.8888888888888888,
              "#fdca26"
             ],
             [
              1,
              "#f0f921"
             ]
            ],
            "type": "histogram2d"
           }
          ],
          "histogram2dcontour": [
           {
            "colorbar": {
             "outlinewidth": 0,
             "ticks": ""
            },
            "colorscale": [
             [
              0,
              "#0d0887"
             ],
             [
              0.1111111111111111,
              "#46039f"
             ],
             [
              0.2222222222222222,
              "#7201a8"
             ],
             [
              0.3333333333333333,
              "#9c179e"
             ],
             [
              0.4444444444444444,
              "#bd3786"
             ],
             [
              0.5555555555555556,
              "#d8576b"
             ],
             [
              0.6666666666666666,
              "#ed7953"
             ],
             [
              0.7777777777777778,
              "#fb9f3a"
             ],
             [
              0.8888888888888888,
              "#fdca26"
             ],
             [
              1,
              "#f0f921"
             ]
            ],
            "type": "histogram2dcontour"
           }
          ],
          "mesh3d": [
           {
            "colorbar": {
             "outlinewidth": 0,
             "ticks": ""
            },
            "type": "mesh3d"
           }
          ],
          "parcoords": [
           {
            "line": {
             "colorbar": {
              "outlinewidth": 0,
              "ticks": ""
             }
            },
            "type": "parcoords"
           }
          ],
          "pie": [
           {
            "automargin": true,
            "type": "pie"
           }
          ],
          "scatter": [
           {
            "fillpattern": {
             "fillmode": "overlay",
             "size": 10,
             "solidity": 0.2
            },
            "type": "scatter"
           }
          ],
          "scatter3d": [
           {
            "line": {
             "colorbar": {
              "outlinewidth": 0,
              "ticks": ""
             }
            },
            "marker": {
             "colorbar": {
              "outlinewidth": 0,
              "ticks": ""
             }
            },
            "type": "scatter3d"
           }
          ],
          "scattercarpet": [
           {
            "marker": {
             "colorbar": {
              "outlinewidth": 0,
              "ticks": ""
             }
            },
            "type": "scattercarpet"
           }
          ],
          "scattergeo": [
           {
            "marker": {
             "colorbar": {
              "outlinewidth": 0,
              "ticks": ""
             }
            },
            "type": "scattergeo"
           }
          ],
          "scattergl": [
           {
            "marker": {
             "colorbar": {
              "outlinewidth": 0,
              "ticks": ""
             }
            },
            "type": "scattergl"
           }
          ],
          "scattermap": [
           {
            "marker": {
             "colorbar": {
              "outlinewidth": 0,
              "ticks": ""
             }
            },
            "type": "scattermap"
           }
          ],
          "scattermapbox": [
           {
            "marker": {
             "colorbar": {
              "outlinewidth": 0,
              "ticks": ""
             }
            },
            "type": "scattermapbox"
           }
          ],
          "scatterpolar": [
           {
            "marker": {
             "colorbar": {
              "outlinewidth": 0,
              "ticks": ""
             }
            },
            "type": "scatterpolar"
           }
          ],
          "scatterpolargl": [
           {
            "marker": {
             "colorbar": {
              "outlinewidth": 0,
              "ticks": ""
             }
            },
            "type": "scatterpolargl"
           }
          ],
          "scatterternary": [
           {
            "marker": {
             "colorbar": {
              "outlinewidth": 0,
              "ticks": ""
             }
            },
            "type": "scatterternary"
           }
          ],
          "surface": [
           {
            "colorbar": {
             "outlinewidth": 0,
             "ticks": ""
            },
            "colorscale": [
             [
              0,
              "#0d0887"
             ],
             [
              0.1111111111111111,
              "#46039f"
             ],
             [
              0.2222222222222222,
              "#7201a8"
             ],
             [
              0.3333333333333333,
              "#9c179e"
             ],
             [
              0.4444444444444444,
              "#bd3786"
             ],
             [
              0.5555555555555556,
              "#d8576b"
             ],
             [
              0.6666666666666666,
              "#ed7953"
             ],
             [
              0.7777777777777778,
              "#fb9f3a"
             ],
             [
              0.8888888888888888,
              "#fdca26"
             ],
             [
              1,
              "#f0f921"
             ]
            ],
            "type": "surface"
           }
          ],
          "table": [
           {
            "cells": {
             "fill": {
              "color": "#EBF0F8"
             },
             "line": {
              "color": "white"
             }
            },
            "header": {
             "fill": {
              "color": "#C8D4E3"
             },
             "line": {
              "color": "white"
             }
            },
            "type": "table"
           }
          ]
         },
         "layout": {
          "annotationdefaults": {
           "arrowcolor": "#2a3f5f",
           "arrowhead": 0,
           "arrowwidth": 1
          },
          "autotypenumbers": "strict",
          "coloraxis": {
           "colorbar": {
            "outlinewidth": 0,
            "ticks": ""
           }
          },
          "colorscale": {
           "diverging": [
            [
             0,
             "#8e0152"
            ],
            [
             0.1,
             "#c51b7d"
            ],
            [
             0.2,
             "#de77ae"
            ],
            [
             0.3,
             "#f1b6da"
            ],
            [
             0.4,
             "#fde0ef"
            ],
            [
             0.5,
             "#f7f7f7"
            ],
            [
             0.6,
             "#e6f5d0"
            ],
            [
             0.7,
             "#b8e186"
            ],
            [
             0.8,
             "#7fbc41"
            ],
            [
             0.9,
             "#4d9221"
            ],
            [
             1,
             "#276419"
            ]
           ],
           "sequential": [
            [
             0,
             "#0d0887"
            ],
            [
             0.1111111111111111,
             "#46039f"
            ],
            [
             0.2222222222222222,
             "#7201a8"
            ],
            [
             0.3333333333333333,
             "#9c179e"
            ],
            [
             0.4444444444444444,
             "#bd3786"
            ],
            [
             0.5555555555555556,
             "#d8576b"
            ],
            [
             0.6666666666666666,
             "#ed7953"
            ],
            [
             0.7777777777777778,
             "#fb9f3a"
            ],
            [
             0.8888888888888888,
             "#fdca26"
            ],
            [
             1,
             "#f0f921"
            ]
           ],
           "sequentialminus": [
            [
             0,
             "#0d0887"
            ],
            [
             0.1111111111111111,
             "#46039f"
            ],
            [
             0.2222222222222222,
             "#7201a8"
            ],
            [
             0.3333333333333333,
             "#9c179e"
            ],
            [
             0.4444444444444444,
             "#bd3786"
            ],
            [
             0.5555555555555556,
             "#d8576b"
            ],
            [
             0.6666666666666666,
             "#ed7953"
            ],
            [
             0.7777777777777778,
             "#fb9f3a"
            ],
            [
             0.8888888888888888,
             "#fdca26"
            ],
            [
             1,
             "#f0f921"
            ]
           ]
          },
          "colorway": [
           "#636efa",
           "#EF553B",
           "#00cc96",
           "#ab63fa",
           "#FFA15A",
           "#19d3f3",
           "#FF6692",
           "#B6E880",
           "#FF97FF",
           "#FECB52"
          ],
          "font": {
           "color": "#2a3f5f"
          },
          "geo": {
           "bgcolor": "white",
           "lakecolor": "white",
           "landcolor": "#E5ECF6",
           "showlakes": true,
           "showland": true,
           "subunitcolor": "white"
          },
          "hoverlabel": {
           "align": "left"
          },
          "hovermode": "closest",
          "mapbox": {
           "style": "light"
          },
          "paper_bgcolor": "white",
          "plot_bgcolor": "#E5ECF6",
          "polar": {
           "angularaxis": {
            "gridcolor": "white",
            "linecolor": "white",
            "ticks": ""
           },
           "bgcolor": "#E5ECF6",
           "radialaxis": {
            "gridcolor": "white",
            "linecolor": "white",
            "ticks": ""
           }
          },
          "scene": {
           "xaxis": {
            "backgroundcolor": "#E5ECF6",
            "gridcolor": "white",
            "gridwidth": 2,
            "linecolor": "white",
            "showbackground": true,
            "ticks": "",
            "zerolinecolor": "white"
           },
           "yaxis": {
            "backgroundcolor": "#E5ECF6",
            "gridcolor": "white",
            "gridwidth": 2,
            "linecolor": "white",
            "showbackground": true,
            "ticks": "",
            "zerolinecolor": "white"
           },
           "zaxis": {
            "backgroundcolor": "#E5ECF6",
            "gridcolor": "white",
            "gridwidth": 2,
            "linecolor": "white",
            "showbackground": true,
            "ticks": "",
            "zerolinecolor": "white"
           }
          },
          "shapedefaults": {
           "line": {
            "color": "#2a3f5f"
           }
          },
          "ternary": {
           "aaxis": {
            "gridcolor": "white",
            "linecolor": "white",
            "ticks": ""
           },
           "baxis": {
            "gridcolor": "white",
            "linecolor": "white",
            "ticks": ""
           },
           "bgcolor": "#E5ECF6",
           "caxis": {
            "gridcolor": "white",
            "linecolor": "white",
            "ticks": ""
           }
          },
          "title": {
           "x": 0.05
          },
          "xaxis": {
           "automargin": true,
           "gridcolor": "white",
           "linecolor": "white",
           "ticks": "",
           "title": {
            "standoff": 15
           },
           "zerolinecolor": "white",
           "zerolinewidth": 2
          },
          "yaxis": {
           "automargin": true,
           "gridcolor": "white",
           "linecolor": "white",
           "ticks": "",
           "title": {
            "standoff": 15
           },
           "zerolinecolor": "white",
           "zerolinewidth": 2
          }
         }
        },
        "title": {
         "text": "Haken 12, Trajektorien-Ansatz 2"
        }
       }
      }
     },
     "metadata": {},
     "output_type": "display_data"
    },
    {
     "name": "stdout",
     "output_type": "stream",
     "text": [
      "HTML-Datei 'traj3.html' erfolgreich erstellt!\n"
     ]
    },
    {
     "data": {
      "application/vnd.plotly.v1+json": {
       "config": {
        "plotlyServerURL": "https://plot.ly"
       },
       "data": [
        {
         "color": "rgba(31, 119, 180, 0.8)",
         "name": "P1",
         "opacity": 0.8,
         "type": "mesh3d",
         "x": [
          -76.83776966075209,
          -70.59857593859277,
          -67.43369203292411,
          -73.67288575508343
         ],
         "y": [
          911.0286722645264,
          910.0964411434912,
          921.2541871174969,
          922.1864182385322
         ],
         "z": [
          744.1737449487727,
          741.1400332231235,
          744.2203277939719,
          747.2540395196211
         ]
        },
        {
         "marker": {
          "color": "red",
          "size": 3
         },
         "mode": "markers+text",
         "showlegend": false,
         "text": "",
         "textfont": {
          "size": 12
         },
         "textposition": "top center",
         "type": "scatter3d",
         "x": [
          -72.1357308468381
         ],
         "y": [
          916.1414296910117
         ],
         "z": [
          744.1970363713723
         ]
        },
        {
         "line": {
          "color": "rgba(31, 119, 180, 0.8)",
          "width": 4
         },
         "mode": "lines",
         "showlegend": false,
         "type": "scatter3d",
         "x": [
          -76.83776966075209,
          -70.59857593859277
         ],
         "y": [
          911.0286722645264,
          910.0964411434912
         ],
         "z": [
          744.1737449487727,
          741.1400332231235
         ]
        },
        {
         "line": {
          "color": "rgba(31, 119, 180, 0.8)",
          "width": 4
         },
         "mode": "lines",
         "showlegend": false,
         "type": "scatter3d",
         "x": [
          -70.59857593859277,
          -67.43369203292411
         ],
         "y": [
          910.0964411434912,
          921.2541871174969
         ],
         "z": [
          741.1400332231235,
          744.2203277939719
         ]
        },
        {
         "line": {
          "color": "rgba(31, 119, 180, 0.8)",
          "width": 4
         },
         "mode": "lines",
         "showlegend": false,
         "type": "scatter3d",
         "x": [
          -67.43369203292411,
          -73.67288575508343
         ],
         "y": [
          921.2541871174969,
          922.1864182385322
         ],
         "z": [
          744.2203277939719,
          747.2540395196211
         ]
        },
        {
         "line": {
          "color": "rgba(31, 119, 180, 0.8)",
          "width": 4
         },
         "mode": "lines",
         "showlegend": false,
         "type": "scatter3d",
         "x": [
          -73.67288575508343,
          -76.83776966075209
         ],
         "y": [
          922.1864182385322,
          911.0286722645264
         ],
         "z": [
          747.2540395196211,
          744.1737449487727
         ]
        },
        {
         "color": "rgba(174, 199, 232, 0.8)",
         "name": "P2",
         "opacity": 0.8,
         "type": "mesh3d",
         "x": [
          -83.26570799598124,
          -77.02651427382193,
          -73.86163036815327,
          -80.10082409031259
         ],
         "y": [
          917.2698156067623,
          916.3375844857271,
          927.4953304597328,
          928.427561580768
         ],
         "z": [
          739.5772227838156,
          736.5435110581665,
          739.6238056290149,
          742.657517354664
         ]
        },
        {
         "marker": {
          "color": "red",
          "size": 3
         },
         "mode": "markers+text",
         "showlegend": false,
         "text": "",
         "textfont": {
          "size": 12
         },
         "textposition": "top center",
         "type": "scatter3d",
         "x": [
          -78.56366918206726
         ],
         "y": [
          922.3825730332476
         ],
         "z": [
          739.6005142064153
         ]
        },
        {
         "line": {
          "color": "rgba(174, 199, 232, 0.8)",
          "width": 4
         },
         "mode": "lines",
         "showlegend": false,
         "type": "scatter3d",
         "x": [
          -83.26570799598124,
          -77.02651427382193
         ],
         "y": [
          917.2698156067623,
          916.3375844857271
         ],
         "z": [
          739.5772227838156,
          736.5435110581665
         ]
        },
        {
         "line": {
          "color": "rgba(174, 199, 232, 0.8)",
          "width": 4
         },
         "mode": "lines",
         "showlegend": false,
         "type": "scatter3d",
         "x": [
          -77.02651427382193,
          -73.86163036815327
         ],
         "y": [
          916.3375844857271,
          927.4953304597328
         ],
         "z": [
          736.5435110581665,
          739.6238056290149
         ]
        },
        {
         "line": {
          "color": "rgba(174, 199, 232, 0.8)",
          "width": 4
         },
         "mode": "lines",
         "showlegend": false,
         "type": "scatter3d",
         "x": [
          -73.86163036815327,
          -80.10082409031259
         ],
         "y": [
          927.4953304597328,
          928.427561580768
         ],
         "z": [
          739.6238056290149,
          742.657517354664
         ]
        },
        {
         "line": {
          "color": "rgba(174, 199, 232, 0.8)",
          "width": 4
         },
         "mode": "lines",
         "showlegend": false,
         "type": "scatter3d",
         "x": [
          -80.10082409031259,
          -83.26570799598124
         ],
         "y": [
          928.427561580768,
          917.2698156067623
         ],
         "z": [
          742.657517354664,
          739.5772227838156
         ]
        },
        {
         "color": "rgba(255, 187, 120, 0.8)",
         "name": "P3",
         "opacity": 0.8,
         "type": "mesh3d",
         "x": [
          -83.56981811660398,
          -77.33062439444467,
          -74.16574048877601,
          -80.40493421093532
         ],
         "y": [
          918.2658838267004,
          917.3336527056651,
          928.4913986796709,
          929.4236298007061
         ],
         "z": [
          738.872309621192,
          735.8385978955429,
          738.9188924663913,
          741.9526041920404
         ]
        },
        {
         "marker": {
          "color": "red",
          "size": 3
         },
         "mode": "markers+text",
         "showlegend": false,
         "text": "P2",
         "textfont": {
          "size": 12
         },
         "textposition": "top center",
         "type": "scatter3d",
         "x": [
          -78.86777930269
         ],
         "y": [
          923.3786412531856
         ],
         "z": [
          738.8956010437917
         ]
        },
        {
         "line": {
          "color": "rgba(255, 187, 120, 0.8)",
          "width": 4
         },
         "mode": "lines",
         "showlegend": false,
         "type": "scatter3d",
         "x": [
          -83.56981811660398,
          -77.33062439444467
         ],
         "y": [
          918.2658838267004,
          917.3336527056651
         ],
         "z": [
          738.872309621192,
          735.8385978955429
         ]
        },
        {
         "line": {
          "color": "rgba(255, 187, 120, 0.8)",
          "width": 4
         },
         "mode": "lines",
         "showlegend": false,
         "type": "scatter3d",
         "x": [
          -77.33062439444467,
          -74.16574048877601
         ],
         "y": [
          917.3336527056651,
          928.4913986796709
         ],
         "z": [
          735.8385978955429,
          738.9188924663913
         ]
        },
        {
         "line": {
          "color": "rgba(255, 187, 120, 0.8)",
          "width": 4
         },
         "mode": "lines",
         "showlegend": false,
         "type": "scatter3d",
         "x": [
          -74.16574048877601,
          -80.40493421093532
         ],
         "y": [
          928.4913986796709,
          929.4236298007061
         ],
         "z": [
          738.9188924663913,
          741.9526041920404
         ]
        },
        {
         "line": {
          "color": "rgba(255, 187, 120, 0.8)",
          "width": 4
         },
         "mode": "lines",
         "showlegend": false,
         "type": "scatter3d",
         "x": [
          -80.40493421093532,
          -83.56981811660398
         ],
         "y": [
          929.4236298007061,
          918.2658838267004
         ],
         "z": [
          741.9526041920404,
          738.872309621192
         ]
        },
        {
         "color": "rgba(152, 223, 138, 0.8)",
         "name": "P4",
         "opacity": 0.8,
         "type": "mesh3d",
         "x": [
          -84.31054639578696,
          -78.07135267362764,
          -74.90646876795898,
          -81.1456624901183
         ],
         "y": [
          919.3087434243961,
          918.3765123033609,
          929.5342582773666,
          930.4664893984018
         ],
         "z": [
          738.0213942912637,
          734.9876825656146,
          738.067977136463,
          741.1016888621122
         ]
        },
        {
         "marker": {
          "color": "red",
          "size": 3
         },
         "mode": "markers+text",
         "showlegend": false,
         "text": "P3",
         "textfont": {
          "size": 12
         },
         "textposition": "top center",
         "type": "scatter3d",
         "x": [
          -79.60850758187297
         ],
         "y": [
          924.4215008508813
         ],
         "z": [
          738.0446857138634
         ]
        },
        {
         "line": {
          "color": "rgba(152, 223, 138, 0.8)",
          "width": 4
         },
         "mode": "lines",
         "showlegend": false,
         "type": "scatter3d",
         "x": [
          -84.31054639578696,
          -78.07135267362764
         ],
         "y": [
          919.3087434243961,
          918.3765123033609
         ],
         "z": [
          738.0213942912637,
          734.9876825656146
         ]
        },
        {
         "line": {
          "color": "rgba(152, 223, 138, 0.8)",
          "width": 4
         },
         "mode": "lines",
         "showlegend": false,
         "type": "scatter3d",
         "x": [
          -78.07135267362764,
          -74.90646876795898
         ],
         "y": [
          918.3765123033609,
          929.5342582773666
         ],
         "z": [
          734.9876825656146,
          738.067977136463
         ]
        },
        {
         "line": {
          "color": "rgba(152, 223, 138, 0.8)",
          "width": 4
         },
         "mode": "lines",
         "showlegend": false,
         "type": "scatter3d",
         "x": [
          -74.90646876795898,
          -81.1456624901183
         ],
         "y": [
          929.5342582773666,
          930.4664893984018
         ],
         "z": [
          738.067977136463,
          741.1016888621122
         ]
        },
        {
         "line": {
          "color": "rgba(152, 223, 138, 0.8)",
          "width": 4
         },
         "mode": "lines",
         "showlegend": false,
         "type": "scatter3d",
         "x": [
          -81.1456624901183,
          -84.31054639578696
         ],
         "y": [
          930.4664893984018,
          919.3087434243961
         ],
         "z": [
          741.1016888621122,
          738.0213942912637
         ]
        },
        {
         "color": "rgba(255, 152, 150, 0.8)",
         "name": "P5",
         "opacity": 0.8,
         "type": "mesh3d",
         "x": [
          -85.18515331759312,
          -78.9459595954338,
          -75.78107568976515,
          -82.02026941192446
         ],
         "y": [
          919.3692575067633,
          918.4370263857281,
          929.5947723597338,
          930.527003480769
         ],
         "z": [
          737.2961648475548,
          734.2624531219057,
          737.3427476927541,
          740.3764594184032
         ]
        },
        {
         "marker": {
          "color": "red",
          "size": 3
         },
         "mode": "markers+text",
         "showlegend": false,
         "text": "P4",
         "textfont": {
          "size": 12
         },
         "textposition": "top center",
         "type": "scatter3d",
         "x": [
          -80.48311450367913
         ],
         "y": [
          924.4820149332486
         ],
         "z": [
          737.3194562701544
         ]
        },
        {
         "line": {
          "color": "rgba(255, 152, 150, 0.8)",
          "width": 4
         },
         "mode": "lines",
         "showlegend": false,
         "type": "scatter3d",
         "x": [
          -85.18515331759312,
          -78.9459595954338
         ],
         "y": [
          919.3692575067633,
          918.4370263857281
         ],
         "z": [
          737.2961648475548,
          734.2624531219057
         ]
        },
        {
         "line": {
          "color": "rgba(255, 152, 150, 0.8)",
          "width": 4
         },
         "mode": "lines",
         "showlegend": false,
         "type": "scatter3d",
         "x": [
          -78.9459595954338,
          -75.78107568976515
         ],
         "y": [
          918.4370263857281,
          929.5947723597338
         ],
         "z": [
          734.2624531219057,
          737.3427476927541
         ]
        },
        {
         "line": {
          "color": "rgba(255, 152, 150, 0.8)",
          "width": 4
         },
         "mode": "lines",
         "showlegend": false,
         "type": "scatter3d",
         "x": [
          -75.78107568976515,
          -82.02026941192446
         ],
         "y": [
          929.5947723597338,
          930.527003480769
         ],
         "z": [
          737.3427476927541,
          740.3764594184032
         ]
        },
        {
         "line": {
          "color": "rgba(255, 152, 150, 0.8)",
          "width": 4
         },
         "mode": "lines",
         "showlegend": false,
         "type": "scatter3d",
         "x": [
          -82.02026941192446,
          -85.18515331759312
         ],
         "y": [
          930.527003480769,
          919.3692575067633
         ],
         "z": [
          740.3764594184032,
          737.2961648475548
         ]
        },
        {
         "color": "rgba(197, 176, 213, 0.8)",
         "name": "P6",
         "opacity": 0.8,
         "type": "mesh3d",
         "x": [
          -85.93315365189568,
          -79.69395992973637,
          -76.5290760240677,
          -82.76826974622702
         ],
         "y": [
          920.4203290441159,
          919.4880979230807,
          930.6458438970864,
          931.5780750181216
         ],
         "z": [
          736.5093265638197,
          733.4756148381706,
          736.555909409019,
          739.5896211346682
         ]
        },
        {
         "marker": {
          "color": "red",
          "size": 3
         },
         "mode": "markers+text",
         "showlegend": false,
         "text": "P5",
         "textfont": {
          "size": 12
         },
         "textposition": "top center",
         "type": "scatter3d",
         "x": [
          -81.23111483798169
         ],
         "y": [
          925.5330864706011
         ],
         "z": [
          736.5326179864194
         ]
        },
        {
         "line": {
          "color": "rgba(197, 176, 213, 0.8)",
          "width": 4
         },
         "mode": "lines",
         "showlegend": false,
         "type": "scatter3d",
         "x": [
          -85.93315365189568,
          -79.69395992973637
         ],
         "y": [
          920.4203290441159,
          919.4880979230807
         ],
         "z": [
          736.5093265638197,
          733.4756148381706
         ]
        },
        {
         "line": {
          "color": "rgba(197, 176, 213, 0.8)",
          "width": 4
         },
         "mode": "lines",
         "showlegend": false,
         "type": "scatter3d",
         "x": [
          -79.69395992973637,
          -76.5290760240677
         ],
         "y": [
          919.4880979230807,
          930.6458438970864
         ],
         "z": [
          733.4756148381706,
          736.555909409019
         ]
        },
        {
         "line": {
          "color": "rgba(197, 176, 213, 0.8)",
          "width": 4
         },
         "mode": "lines",
         "showlegend": false,
         "type": "scatter3d",
         "x": [
          -76.5290760240677,
          -82.76826974622702
         ],
         "y": [
          930.6458438970864,
          931.5780750181216
         ],
         "z": [
          736.555909409019,
          739.5896211346682
         ]
        },
        {
         "line": {
          "color": "rgba(197, 176, 213, 0.8)",
          "width": 4
         },
         "mode": "lines",
         "showlegend": false,
         "type": "scatter3d",
         "x": [
          -82.76826974622702,
          -85.93315365189568
         ],
         "y": [
          931.5780750181216,
          920.4203290441159
         ],
         "z": [
          739.5896211346682,
          736.5093265638197
         ]
        },
        {
         "color": "rgba(140, 86, 75, 0.8)",
         "name": "P7",
         "opacity": 0.8,
         "type": "mesh3d",
         "x": [
          -86.68711743221951,
          -80.4479237100602,
          -77.28303980439154,
          -83.52223352655085
         ],
         "y": [
          921.4793873023001,
          920.5471561812649,
          931.7049021552706,
          932.6371332763058
         ],
         "z": [
          735.7164257109214,
          732.6827139852722,
          735.7630085561207,
          738.7967202817698
         ]
        },
        {
         "marker": {
          "color": "red",
          "size": 3
         },
         "mode": "markers+text",
         "showlegend": false,
         "text": "P6",
         "textfont": {
          "size": 12
         },
         "textposition": "top center",
         "type": "scatter3d",
         "x": [
          -81.98507861830552
         ],
         "y": [
          926.5921447287853
         ],
         "z": [
          735.739717133521
         ]
        },
        {
         "line": {
          "color": "rgba(140, 86, 75, 0.8)",
          "width": 4
         },
         "mode": "lines",
         "showlegend": false,
         "type": "scatter3d",
         "x": [
          -86.68711743221951,
          -80.4479237100602
         ],
         "y": [
          921.4793873023001,
          920.5471561812649
         ],
         "z": [
          735.7164257109214,
          732.6827139852722
         ]
        },
        {
         "line": {
          "color": "rgba(140, 86, 75, 0.8)",
          "width": 4
         },
         "mode": "lines",
         "showlegend": false,
         "type": "scatter3d",
         "x": [
          -80.4479237100602,
          -77.28303980439154
         ],
         "y": [
          920.5471561812649,
          931.7049021552706
         ],
         "z": [
          732.6827139852722,
          735.7630085561207
         ]
        },
        {
         "line": {
          "color": "rgba(140, 86, 75, 0.8)",
          "width": 4
         },
         "mode": "lines",
         "showlegend": false,
         "type": "scatter3d",
         "x": [
          -77.28303980439154,
          -83.52223352655085
         ],
         "y": [
          931.7049021552706,
          932.6371332763058
         ],
         "z": [
          735.7630085561207,
          738.7967202817698
         ]
        },
        {
         "line": {
          "color": "rgba(140, 86, 75, 0.8)",
          "width": 4
         },
         "mode": "lines",
         "showlegend": false,
         "type": "scatter3d",
         "x": [
          -83.52223352655085,
          -86.68711743221951
         ],
         "y": [
          932.6371332763058,
          921.4793873023001
         ],
         "z": [
          738.7967202817698,
          735.7164257109214
         ]
        },
        {
         "color": "rgba(227, 119, 194, 0.8)",
         "name": "P8",
         "opacity": 0.8,
         "type": "mesh3d",
         "x": [
          -87.59297813374752,
          -81.35378441158821,
          -78.18890050591955,
          -84.42809422807886
         ],
         "y": [
          922.5585043612086,
          921.6262732401734,
          932.7840192141791,
          933.7162503352143
         ],
         "z": [
          734.8444234389513,
          731.8107117133021,
          734.8910062841505,
          737.9247180097997
         ]
        },
        {
         "marker": {
          "color": "red",
          "size": 3
         },
         "mode": "markers+text",
         "showlegend": false,
         "text": "P7",
         "textfont": {
          "size": 12
         },
         "textposition": "top center",
         "type": "scatter3d",
         "x": [
          -82.89093931983354
         ],
         "y": [
          927.6712617876939
         ],
         "z": [
          734.8677148615509
         ]
        },
        {
         "line": {
          "color": "rgba(227, 119, 194, 0.8)",
          "width": 4
         },
         "mode": "lines",
         "showlegend": false,
         "type": "scatter3d",
         "x": [
          -87.59297813374752,
          -81.35378441158821
         ],
         "y": [
          922.5585043612086,
          921.6262732401734
         ],
         "z": [
          734.8444234389513,
          731.8107117133021
         ]
        },
        {
         "line": {
          "color": "rgba(227, 119, 194, 0.8)",
          "width": 4
         },
         "mode": "lines",
         "showlegend": false,
         "type": "scatter3d",
         "x": [
          -81.35378441158821,
          -78.18890050591955
         ],
         "y": [
          921.6262732401734,
          932.7840192141791
         ],
         "z": [
          731.8107117133021,
          734.8910062841505
         ]
        },
        {
         "line": {
          "color": "rgba(227, 119, 194, 0.8)",
          "width": 4
         },
         "mode": "lines",
         "showlegend": false,
         "type": "scatter3d",
         "x": [
          -78.18890050591955,
          -84.42809422807886
         ],
         "y": [
          932.7840192141791,
          933.7162503352143
         ],
         "z": [
          734.8910062841505,
          737.9247180097997
         ]
        },
        {
         "line": {
          "color": "rgba(227, 119, 194, 0.8)",
          "width": 4
         },
         "mode": "lines",
         "showlegend": false,
         "type": "scatter3d",
         "x": [
          -84.42809422807886,
          -87.59297813374752
         ],
         "y": [
          933.7162503352143,
          922.5585043612086
         ],
         "z": [
          737.9247180097997,
          734.8444234389513
         ]
        },
        {
         "color": "rgba(127, 127, 127, 0.8)",
         "name": "P9",
         "opacity": 0.8,
         "type": "mesh3d",
         "x": [
          -88.47509060954889,
          -82.23589688738957,
          -79.07101298172091,
          -85.31020670388023
         ],
         "y": [
          922.6265753383411,
          921.6943442173059,
          932.8520901913116,
          933.7843213123468
         ],
         "z": [
          734.2588118270418,
          731.2251001013926,
          734.305394672241,
          737.3391063978902
         ]
        },
        {
         "marker": {
          "color": "red",
          "size": 3
         },
         "mode": "markers+text",
         "showlegend": false,
         "text": "P8",
         "textfont": {
          "size": 12
         },
         "textposition": "top center",
         "type": "scatter3d",
         "x": [
          -83.7730517956349
         ],
         "y": [
          927.7393327648264
         ],
         "z": [
          734.2821032496414
         ]
        },
        {
         "line": {
          "color": "rgba(127, 127, 127, 0.8)",
          "width": 4
         },
         "mode": "lines",
         "showlegend": false,
         "type": "scatter3d",
         "x": [
          -88.47509060954889,
          -82.23589688738957
         ],
         "y": [
          922.6265753383411,
          921.6943442173059
         ],
         "z": [
          734.2588118270418,
          731.2251001013926
         ]
        },
        {
         "line": {
          "color": "rgba(127, 127, 127, 0.8)",
          "width": 4
         },
         "mode": "lines",
         "showlegend": false,
         "type": "scatter3d",
         "x": [
          -82.23589688738957,
          -79.07101298172091
         ],
         "y": [
          921.6943442173059,
          932.8520901913116
         ],
         "z": [
          731.2251001013926,
          734.305394672241
         ]
        },
        {
         "line": {
          "color": "rgba(127, 127, 127, 0.8)",
          "width": 4
         },
         "mode": "lines",
         "showlegend": false,
         "type": "scatter3d",
         "x": [
          -79.07101298172091,
          -85.31020670388023
         ],
         "y": [
          932.8520901913116,
          933.7843213123468
         ],
         "z": [
          734.305394672241,
          737.3391063978902
         ]
        },
        {
         "line": {
          "color": "rgba(127, 127, 127, 0.8)",
          "width": 4
         },
         "mode": "lines",
         "showlegend": false,
         "type": "scatter3d",
         "x": [
          -85.31020670388023,
          -88.47509060954889
         ],
         "y": [
          933.7843213123468,
          922.6265753383411
         ],
         "z": [
          737.3391063978902,
          734.2588118270418
         ]
        },
        {
         "color": "rgba(188, 189, 34, 0.8)",
         "name": "P10",
         "opacity": 0.8,
         "type": "mesh3d",
         "x": [
          -89.5281590165203,
          -83.28896529436099,
          -80.12408138869233,
          -86.36327511085165
         ],
         "y": [
          923.7607052949306,
          922.8284741738954,
          933.9862201479011,
          934.9184512689363
         ],
         "z": [
          734.1311089344341,
          731.097397208785,
          734.1776917796334,
          737.2114035052825
         ]
        },
        {
         "marker": {
          "color": "red",
          "size": 3
         },
         "mode": "markers+text",
         "showlegend": false,
         "text": "P9",
         "textfont": {
          "size": 12
         },
         "textposition": "top center",
         "type": "scatter3d",
         "x": [
          -84.82612020260632
         ],
         "y": [
          928.8734627214158
         ],
         "z": [
          734.1544003570336
         ]
        },
        {
         "line": {
          "color": "rgba(188, 189, 34, 0.8)",
          "width": 4
         },
         "mode": "lines",
         "showlegend": false,
         "type": "scatter3d",
         "x": [
          -89.5281590165203,
          -83.28896529436099
         ],
         "y": [
          923.7607052949306,
          922.8284741738954
         ],
         "z": [
          734.1311089344341,
          731.097397208785
         ]
        },
        {
         "line": {
          "color": "rgba(188, 189, 34, 0.8)",
          "width": 4
         },
         "mode": "lines",
         "showlegend": false,
         "type": "scatter3d",
         "x": [
          -83.28896529436099,
          -80.12408138869233
         ],
         "y": [
          922.8284741738954,
          933.9862201479011
         ],
         "z": [
          731.097397208785,
          734.1776917796334
         ]
        },
        {
         "line": {
          "color": "rgba(188, 189, 34, 0.8)",
          "width": 4
         },
         "mode": "lines",
         "showlegend": false,
         "type": "scatter3d",
         "x": [
          -80.12408138869233,
          -86.36327511085165
         ],
         "y": [
          933.9862201479011,
          934.9184512689363
         ],
         "z": [
          734.1776917796334,
          737.2114035052825
         ]
        },
        {
         "line": {
          "color": "rgba(188, 189, 34, 0.8)",
          "width": 4
         },
         "mode": "lines",
         "showlegend": false,
         "type": "scatter3d",
         "x": [
          -86.36327511085165,
          -89.5281590165203
         ],
         "y": [
          934.9184512689363,
          923.7607052949306
         ],
         "z": [
          737.2114035052825,
          734.1311089344341
         ]
        },
        {
         "color": "rgba(23, 190, 207, 0.8)",
         "name": "P11",
         "opacity": 0.8,
         "type": "mesh3d",
         "x": [
          -90.73542739759085,
          -84.49623367543154,
          -81.33134976976288,
          -87.5705434919222
         ],
         "y": [
          924.9232814258643,
          923.9910503048291,
          935.1487962788348,
          936.08102739987
         ],
         "z": [
          734.0799602044654,
          731.0462484788162,
          734.1265430496646,
          737.1602547753138
         ]
        },
        {
         "marker": {
          "color": "red",
          "size": 3
         },
         "mode": "markers+text",
         "showlegend": false,
         "text": "",
         "textfont": {
          "size": 12
         },
         "textposition": "top center",
         "type": "scatter3d",
         "x": [
          -86.03338858367687
         ],
         "y": [
          930.0360388523495
         ],
         "z": [
          734.103251627065
         ]
        },
        {
         "line": {
          "color": "rgba(23, 190, 207, 0.8)",
          "width": 4
         },
         "mode": "lines",
         "showlegend": false,
         "type": "scatter3d",
         "x": [
          -90.73542739759085,
          -84.49623367543154
         ],
         "y": [
          924.9232814258643,
          923.9910503048291
         ],
         "z": [
          734.0799602044654,
          731.0462484788162
         ]
        },
        {
         "line": {
          "color": "rgba(23, 190, 207, 0.8)",
          "width": 4
         },
         "mode": "lines",
         "showlegend": false,
         "type": "scatter3d",
         "x": [
          -84.49623367543154,
          -81.33134976976288
         ],
         "y": [
          923.9910503048291,
          935.1487962788348
         ],
         "z": [
          731.0462484788162,
          734.1265430496646
         ]
        },
        {
         "line": {
          "color": "rgba(23, 190, 207, 0.8)",
          "width": 4
         },
         "mode": "lines",
         "showlegend": false,
         "type": "scatter3d",
         "x": [
          -81.33134976976288,
          -87.5705434919222
         ],
         "y": [
          935.1487962788348,
          936.08102739987
         ],
         "z": [
          734.1265430496646,
          737.1602547753138
         ]
        },
        {
         "line": {
          "color": "rgba(23, 190, 207, 0.8)",
          "width": 4
         },
         "mode": "lines",
         "showlegend": false,
         "type": "scatter3d",
         "x": [
          -87.5705434919222,
          -90.73542739759085
         ],
         "y": [
          936.08102739987,
          924.9232814258643
         ],
         "z": [
          737.1602547753138,
          734.0799602044654
         ]
        },
        {
         "line": {
          "color": "black",
          "width": 2
         },
         "mode": "lines",
         "name": "Berechnete Hakenlinie",
         "type": "scatter3d",
         "x": {
          "bdata": "mA5v0K8IUsB8r+cnE6RTwMBMM7KJt1PAzODIyfHmU8CcYRhZ6x5UwByw45XKTlTAHGcwhwt/VMD0WVomBblUwGwXPa558VTAlDBFJ980VcDsvN4JI4JVwA==",
          "dtype": "f8"
         },
         "y": {
          "bdata": "oczjpSGhjEAKUXOCD9OMQMq6EHUH24xALI7WO1/jjEDkM6Uq2+OMQGDp1sJD7IxADiVgtrz0jECZCYC+Xv2MQFPuSyfq/YxADPYF2vwGjUDQ4bzOSRCNQA==",
          "dtype": "f8"
         },
         "z": {
          "bdata": "VRnOh5NBh0CyamTazRyHQMpK4TAqF4dAIv0uhFsQh0CGxhY/jgqHQHYHOM1CBIdAHAbR8Or9hkDqRH0U8faGQHE6Wb9B8oZAmh9BNjzxhkAGzJZ10/CGQA==",
          "dtype": "f8"
         }
        },
        {
         "mode": "text",
         "showlegend": false,
         "text": [
          "Pre-Position"
         ],
         "textfont": {
          "size": 10
         },
         "textposition": "top center",
         "type": "scatter3d",
         "x": [
          -72.1357308468381
         ],
         "y": [
          916.1414296910117
         ],
         "z": [
          744.1970363713723
         ]
        },
        {
         "mode": "text",
         "showlegend": false,
         "text": [
          "Loslassen"
         ],
         "textfont": {
          "size": 10
         },
         "textposition": "top center",
         "type": "scatter3d",
         "x": [
          -86.03338858367687
         ],
         "y": [
          930.0360388523495
         ],
         "z": [
          734.103251627065
         ]
        },
        {
         "color": "rgba(0,255,0,0.2)",
         "name": "optimale Trajektorie",
         "opacity": 0.8,
         "type": "mesh3d",
         "x": [
          -87.68415207550848,
          -84.26620372055652,
          -75.7194349382604,
          -79.13738329321237
         ],
         "y": [
          922.1793237908196,
          918.7101913940295,
          927.1335363336862,
          930.6026687304762
         ],
         "z": [
          745.1114089974996,
          740.0832135501822,
          740.0813670587332,
          745.1095625060506
         ]
        },
        {
         "line": {
          "color": "rgba(0,255,0,0.2)",
          "width": 3
         },
         "mode": "lines",
         "showlegend": false,
         "type": "scatter3d",
         "x": [
          -87.68415207550848,
          -84.26620372055652
         ],
         "y": [
          922.1793237908196,
          918.7101913940295
         ],
         "z": [
          745.1114089974996,
          740.0832135501822
         ]
        },
        {
         "line": {
          "color": "rgba(0,255,0,0.2)",
          "width": 3
         },
         "mode": "lines",
         "showlegend": false,
         "type": "scatter3d",
         "x": [
          -84.26620372055652,
          -75.7194349382604
         ],
         "y": [
          918.7101913940295,
          927.1335363336862
         ],
         "z": [
          740.0832135501822,
          740.0813670587332
         ]
        },
        {
         "line": {
          "color": "rgba(0,255,0,0.2)",
          "width": 3
         },
         "mode": "lines",
         "showlegend": false,
         "type": "scatter3d",
         "x": [
          -75.7194349382604,
          -79.13738329321237
         ],
         "y": [
          927.1335363336862,
          930.6026687304762
         ],
         "z": [
          740.0813670587332,
          745.1095625060506
         ]
        },
        {
         "line": {
          "color": "rgba(0,255,0,0.2)",
          "width": 3
         },
         "mode": "lines",
         "showlegend": false,
         "type": "scatter3d",
         "x": [
          -79.13738329321237,
          -87.68415207550848
         ],
         "y": [
          930.6026687304762,
          922.1793237908196
         ],
         "z": [
          745.1095625060506,
          745.1114089974996
         ]
        },
        {
         "marker": {
          "color": "green",
          "size": 4
         },
         "mode": "markers",
         "name": "Mitte P11",
         "showlegend": false,
         "type": "scatter3d",
         "x": [
          -81.70179350688444
         ],
         "y": [
          924.6564300622529
         ],
         "z": [
          742.5963880281164
         ]
        },
        {
         "color": "rgba(0,255,0,0.2)",
         "name": "optimale Trajektorie",
         "opacity": 0.8,
         "type": "mesh3d",
         "x": [
          -87.68415207550848,
          -84.26620372055652,
          -75.7194349382604,
          -79.13738329321237
         ],
         "y": [
          922.1793237908196,
          918.7101913940295,
          927.1335363336862,
          930.6026687304762
         ],
         "z": [
          745.1114089974996,
          740.0832135501822,
          740.0813670587332,
          745.1095625060506
         ]
        },
        {
         "line": {
          "color": "rgba(0,255,0,0.2)",
          "width": 3
         },
         "mode": "lines",
         "showlegend": false,
         "type": "scatter3d",
         "x": [
          -87.68415207550848,
          -84.26620372055652
         ],
         "y": [
          922.1793237908196,
          918.7101913940295
         ],
         "z": [
          745.1114089974996,
          740.0832135501822
         ]
        },
        {
         "line": {
          "color": "rgba(0,255,0,0.2)",
          "width": 3
         },
         "mode": "lines",
         "showlegend": false,
         "type": "scatter3d",
         "x": [
          -84.26620372055652,
          -75.7194349382604
         ],
         "y": [
          918.7101913940295,
          927.1335363336862
         ],
         "z": [
          740.0832135501822,
          740.0813670587332
         ]
        },
        {
         "line": {
          "color": "rgba(0,255,0,0.2)",
          "width": 3
         },
         "mode": "lines",
         "showlegend": false,
         "type": "scatter3d",
         "x": [
          -75.7194349382604,
          -79.13738329321237
         ],
         "y": [
          927.1335363336862,
          930.6026687304762
         ],
         "z": [
          740.0813670587332,
          745.1095625060506
         ]
        },
        {
         "line": {
          "color": "rgba(0,255,0,0.2)",
          "width": 3
         },
         "mode": "lines",
         "showlegend": false,
         "type": "scatter3d",
         "x": [
          -79.13738329321237,
          -87.68415207550848
         ],
         "y": [
          930.6026687304762,
          922.1793237908196
         ],
         "z": [
          745.1095625060506,
          745.1114089974996
         ]
        },
        {
         "marker": {
          "color": "green",
          "size": 4
         },
         "mode": "markers",
         "name": "Mitte P11",
         "showlegend": false,
         "type": "scatter3d",
         "x": [
          -81.70179350688444
         ],
         "y": [
          924.6564300622529
         ],
         "z": [
          742.5963880281164
         ]
        },
        {
         "color": "rgba(0,255,0,0.2)",
         "name": "optimale Trajektorie",
         "opacity": 0.8,
         "type": "mesh3d",
         "x": [
          -84.15681026577322,
          -80.62426892245928,
          -72.22632746829753,
          -75.75886881161146
         ],
         "y": [
          919.7617550682718,
          916.3272391411039,
          924.8988492563714,
          928.3333651835393
         ],
         "z": [
          740.975172356054,
          736.002723059801,
          736.048323107119,
          741.020772403372
         ]
        },
        {
         "line": {
          "color": "rgba(0,255,0,0.2)",
          "width": 3
         },
         "mode": "lines",
         "showlegend": false,
         "type": "scatter3d",
         "x": [
          -84.15681026577322,
          -80.62426892245928
         ],
         "y": [
          919.7617550682718,
          916.3272391411039
         ],
         "z": [
          740.975172356054,
          736.002723059801
         ]
        },
        {
         "line": {
          "color": "rgba(0,255,0,0.2)",
          "width": 3
         },
         "mode": "lines",
         "showlegend": false,
         "type": "scatter3d",
         "x": [
          -80.62426892245928,
          -72.22632746829753
         ],
         "y": [
          916.3272391411039,
          924.8988492563714
         ],
         "z": [
          736.002723059801,
          736.048323107119
         ]
        },
        {
         "line": {
          "color": "rgba(0,255,0,0.2)",
          "width": 3
         },
         "mode": "lines",
         "showlegend": false,
         "type": "scatter3d",
         "x": [
          -72.22632746829753,
          -75.75886881161146
         ],
         "y": [
          924.8988492563714,
          928.3333651835393
         ],
         "z": [
          736.048323107119,
          741.020772403372
         ]
        },
        {
         "line": {
          "color": "rgba(0,255,0,0.2)",
          "width": 3
         },
         "mode": "lines",
         "showlegend": false,
         "type": "scatter3d",
         "x": [
          -75.75886881161146,
          -84.15681026577322
         ],
         "y": [
          928.3333651835393,
          919.7617550682718
         ],
         "z": [
          741.020772403372,
          740.975172356054
         ]
        },
        {
         "marker": {
          "color": "green",
          "size": 4
         },
         "mode": "markers",
         "name": "Mitte P11",
         "showlegend": false,
         "type": "scatter3d",
         "x": [
          -78.19156886703537
         ],
         "y": [
          922.3303021623216
         ],
         "z": [
          738.5117477315865
         ]
        },
        {
         "color": "rgba(0,255,0,0.2)",
         "name": "optimale Trajektorie",
         "opacity": 0.8,
         "type": "mesh3d",
         "x": [
          -87.92999422803064,
          -84.23772775297013,
          -76.66421504175594,
          -80.35648151681644
         ],
         "y": [
          921.4618053372254,
          918.9123036482364,
          928.1856588592949,
          930.735160548284
         ],
         "z": [
          738.3272658012595,
          732.9544444367447,
          733.7586759597598,
          739.1314973242746
         ]
        },
        {
         "line": {
          "color": "rgba(0,255,0,0.2)",
          "width": 3
         },
         "mode": "lines",
         "showlegend": false,
         "type": "scatter3d",
         "x": [
          -87.92999422803064,
          -84.23772775297013
         ],
         "y": [
          921.4618053372254,
          918.9123036482364
         ],
         "z": [
          738.3272658012595,
          732.9544444367447
         ]
        },
        {
         "line": {
          "color": "rgba(0,255,0,0.2)",
          "width": 3
         },
         "mode": "lines",
         "showlegend": false,
         "type": "scatter3d",
         "x": [
          -84.23772775297013,
          -76.66421504175594
         ],
         "y": [
          918.9123036482364,
          928.1856588592949
         ],
         "z": [
          732.9544444367447,
          733.7586759597598
         ]
        },
        {
         "line": {
          "color": "rgba(0,255,0,0.2)",
          "width": 3
         },
         "mode": "lines",
         "showlegend": false,
         "type": "scatter3d",
         "x": [
          -76.66421504175594,
          -80.35648151681644
         ],
         "y": [
          928.1856588592949,
          930.735160548284
         ],
         "z": [
          733.7586759597598,
          739.1314973242746
         ]
        },
        {
         "line": {
          "color": "rgba(0,255,0,0.2)",
          "width": 3
         },
         "mode": "lines",
         "showlegend": false,
         "type": "scatter3d",
         "x": [
          -80.35648151681644,
          -87.92999422803064
         ],
         "y": [
          930.735160548284,
          921.4618053372254
         ],
         "z": [
          739.1314973242746,
          738.3272658012595
         ]
        },
        {
         "marker": {
          "color": "green",
          "size": 4
         },
         "mode": "markers",
         "name": "Mitte P11",
         "showlegend": false,
         "type": "scatter3d",
         "x": [
          -82.29710463489329
         ],
         "y": [
          924.8237320982602
         ],
         "z": [
          736.0429708805096
         ]
        },
        {
         "color": "rgba(0,255,0,0.2)",
         "name": "optimale Trajektorie",
         "opacity": 0.8,
         "type": "mesh3d",
         "x": [
          -90.82173459447384,
          -87.1108729820927,
          -79.63287295943147,
          -83.3437345718126
         ],
         "y": [
          923.8050932373077,
          921.2772437832492,
          930.6311375703546,
          933.158987024413
         ],
         "z": [
          736.9073277841488,
          731.5370872651988,
          732.3014083238069,
          737.6716488427569
         ]
        },
        {
         "line": {
          "color": "rgba(0,255,0,0.2)",
          "width": 3
         },
         "mode": "lines",
         "showlegend": false,
         "type": "scatter3d",
         "x": [
          -90.82173459447384,
          -87.1108729820927
         ],
         "y": [
          923.8050932373077,
          921.2772437832492
         ],
         "z": [
          736.9073277841488,
          731.5370872651988
         ]
        },
        {
         "line": {
          "color": "rgba(0,255,0,0.2)",
          "width": 3
         },
         "mode": "lines",
         "showlegend": false,
         "type": "scatter3d",
         "x": [
          -87.1108729820927,
          -79.63287295943147
         ],
         "y": [
          921.2772437832492,
          930.6311375703546
         ],
         "z": [
          731.5370872651988,
          732.3014083238069
         ]
        },
        {
         "line": {
          "color": "rgba(0,255,0,0.2)",
          "width": 3
         },
         "mode": "lines",
         "showlegend": false,
         "type": "scatter3d",
         "x": [
          -79.63287295943147,
          -83.3437345718126
         ],
         "y": [
          930.6311375703546,
          933.158987024413
         ],
         "z": [
          732.3014083238069,
          737.6716488427569
         ]
        },
        {
         "line": {
          "color": "rgba(0,255,0,0.2)",
          "width": 3
         },
         "mode": "lines",
         "showlegend": false,
         "type": "scatter3d",
         "x": [
          -83.3437345718126,
          -90.82173459447384
         ],
         "y": [
          933.158987024413,
          923.8050932373077
         ],
         "z": [
          737.6716488427569,
          736.9073277841488
         ]
        },
        {
         "marker": {
          "color": "green",
          "size": 4
         },
         "mode": "markers",
         "name": "Mitte P11",
         "showlegend": false,
         "type": "scatter3d",
         "x": [
          -85.22730377695265
         ],
         "y": [
          927.2181154038311
         ],
         "z": [
          734.6043680539779
         ]
        },
        {
         "color": "rgba(0,255,0,0.2)",
         "name": "optimale Trajektorie",
         "opacity": 0.8,
         "type": "mesh3d",
         "x": [
          -90.02966363832807,
          -86.77961731644277,
          -79.24735913518539,
          -82.4974054570707
         ],
         "y": [
          923.9725422629892,
          921.7396106399103,
          931.0596219247984,
          933.2925535478773
         ],
         "z": [
          736.3679845822938,
          730.5842820249129,
          731.2186922553154,
          737.0023948126964
         ]
        },
        {
         "line": {
          "color": "rgba(0,255,0,0.2)",
          "width": 3
         },
         "mode": "lines",
         "showlegend": false,
         "type": "scatter3d",
         "x": [
          -90.02966363832807,
          -86.77961731644277
         ],
         "y": [
          923.9725422629892,
          921.7396106399103
         ],
         "z": [
          736.3679845822938,
          730.5842820249129
         ]
        },
        {
         "line": {
          "color": "rgba(0,255,0,0.2)",
          "width": 3
         },
         "mode": "lines",
         "showlegend": false,
         "type": "scatter3d",
         "x": [
          -86.77961731644277,
          -79.24735913518539
         ],
         "y": [
          921.7396106399103,
          931.0596219247984
         ],
         "z": [
          730.5842820249129,
          731.2186922553154
         ]
        },
        {
         "line": {
          "color": "rgba(0,255,0,0.2)",
          "width": 3
         },
         "mode": "lines",
         "showlegend": false,
         "type": "scatter3d",
         "x": [
          -79.24735913518539,
          -82.4974054570707
         ],
         "y": [
          931.0596219247984,
          933.2925535478773
         ],
         "z": [
          731.2186922553154,
          737.0023948126964
         ]
        },
        {
         "line": {
          "color": "rgba(0,255,0,0.2)",
          "width": 3
         },
         "mode": "lines",
         "showlegend": false,
         "type": "scatter3d",
         "x": [
          -82.4974054570707,
          -90.02966363832807
         ],
         "y": [
          933.2925535478773,
          923.9725422629892
         ],
         "z": [
          737.0023948126964,
          736.3679845822938
         ]
        },
        {
         "marker": {
          "color": "green",
          "size": 4
         },
         "mode": "markers",
         "name": "Mitte P11",
         "showlegend": false,
         "type": "scatter3d",
         "x": [
          -84.63851138675673
         ],
         "y": [
          927.5160820938938
         ],
         "z": [
          733.7933384188046
         ]
        },
        {
         "color": "rgba(0,255,0,0.2)",
         "name": "optimale Trajektorie",
         "opacity": 0.8,
         "type": "mesh3d",
         "x": [
          -90.55964214532602,
          -89.07323476731871,
          -81.5481972681747,
          -83.03460464618202
         ],
         "y": [
          924.4663790725193,
          923.7168064961844,
          933.0438274924176,
          933.7934000687525
         ],
         "z": [
          736.1333636990933,
          729.3341921275404,
          729.9510308198276,
          736.7502023913804
         ]
        },
        {
         "line": {
          "color": "rgba(0,255,0,0.2)",
          "width": 3
         },
         "mode": "lines",
         "showlegend": false,
         "type": "scatter3d",
         "x": [
          -90.55964214532602,
          -89.07323476731871
         ],
         "y": [
          924.4663790725193,
          923.7168064961844
         ],
         "z": [
          736.1333636990933,
          729.3341921275404
         ]
        },
        {
         "line": {
          "color": "rgba(0,255,0,0.2)",
          "width": 3
         },
         "mode": "lines",
         "showlegend": false,
         "type": "scatter3d",
         "x": [
          -89.07323476731871,
          -81.5481972681747
         ],
         "y": [
          923.7168064961844,
          933.0438274924176
         ],
         "z": [
          729.3341921275404,
          729.9510308198276
         ]
        },
        {
         "line": {
          "color": "rgba(0,255,0,0.2)",
          "width": 3
         },
         "mode": "lines",
         "showlegend": false,
         "type": "scatter3d",
         "x": [
          -81.5481972681747,
          -83.03460464618202
         ],
         "y": [
          933.0438274924176,
          933.7934000687525
         ],
         "z": [
          729.9510308198276,
          736.7502023913804
         ]
        },
        {
         "line": {
          "color": "rgba(0,255,0,0.2)",
          "width": 3
         },
         "mode": "lines",
         "showlegend": false,
         "type": "scatter3d",
         "x": [
          -83.03460464618202,
          -90.55964214532602
         ],
         "y": [
          933.7934000687525,
          924.4663790725193
         ],
         "z": [
          736.7502023913804,
          736.1333636990933
         ]
        },
        {
         "marker": {
          "color": "green",
          "size": 4
         },
         "mode": "markers",
         "name": "Mitte P11",
         "showlegend": false,
         "type": "scatter3d",
         "x": [
          -86.05391970675036
         ],
         "y": [
          928.7551032824684
         ],
         "z": [
          733.0421972594604
         ]
        },
        {
         "color": "rgba(0,255,0,0.2)",
         "name": "optimale Trajektorie",
         "opacity": 0.8,
         "type": "mesh3d",
         "x": [
          -90.46097215090803,
          -90.441738585145,
          -82.91622730748936,
          -82.9354608732524
         ],
         "y": [
          924.2135732861534,
          924.656825989803,
          933.9837502126704,
          933.5404975090208
         ],
         "z": [
          736.7665644152,
          729.7806387706877,
          730.3931455467857,
          737.3790711912981
         ]
        },
        {
         "line": {
          "color": "rgba(0,255,0,0.2)",
          "width": 3
         },
         "mode": "lines",
         "showlegend": false,
         "type": "scatter3d",
         "x": [
          -90.46097215090803,
          -90.441738585145
         ],
         "y": [
          924.2135732861534,
          924.656825989803
         ],
         "z": [
          736.7665644152,
          729.7806387706877
         ]
        },
        {
         "line": {
          "color": "rgba(0,255,0,0.2)",
          "width": 3
         },
         "mode": "lines",
         "showlegend": false,
         "type": "scatter3d",
         "x": [
          -90.441738585145,
          -82.91622730748936
         ],
         "y": [
          924.656825989803,
          933.9837502126704
         ],
         "z": [
          729.7806387706877,
          730.3931455467857
         ]
        },
        {
         "line": {
          "color": "rgba(0,255,0,0.2)",
          "width": 3
         },
         "mode": "lines",
         "showlegend": false,
         "type": "scatter3d",
         "x": [
          -82.91622730748936,
          -82.9354608732524
         ],
         "y": [
          933.9837502126704,
          933.5404975090208
         ],
         "z": [
          730.3931455467857,
          737.3790711912981
         ]
        },
        {
         "line": {
          "color": "rgba(0,255,0,0.2)",
          "width": 3
         },
         "mode": "lines",
         "showlegend": false,
         "type": "scatter3d",
         "x": [
          -82.9354608732524,
          -90.46097215090803
         ],
         "y": [
          933.5404975090208,
          924.2135732861534
         ],
         "z": [
          737.3790711912981,
          736.7665644152
         ]
        },
        {
         "marker": {
          "color": "green",
          "size": 4
         },
         "mode": "markers",
         "name": "Mitte P11",
         "showlegend": false,
         "type": "scatter3d",
         "x": [
          -86.6885997291987
         ],
         "y": [
          929.0986617494119
         ],
         "z": [
          733.5798549809929
         ]
        },
        {
         "color": "rgba(0,255,0,0.2)",
         "name": "optimale Trajektorie",
         "opacity": 0.8,
         "type": "mesh3d",
         "x": [
          -90.64744840644612,
          -90.66447609686051,
          -83.12319815228982,
          -83.10617046187542
         ],
         "y": [
          924.5880456141653,
          924.9890360141546,
          934.3090393804433,
          933.9080489804539
         ],
         "z": [
          732.4600207246752,
          725.4715361423873,
          725.9879315481563,
          732.9764161304442
         ]
        },
        {
         "line": {
          "color": "rgba(0,255,0,0.2)",
          "width": 3
         },
         "mode": "lines",
         "showlegend": false,
         "type": "scatter3d",
         "x": [
          -90.64744840644612,
          -90.66447609686051
         ],
         "y": [
          924.5880456141653,
          924.9890360141546
         ],
         "z": [
          732.4600207246752,
          725.4715361423873
         ]
        },
        {
         "line": {
          "color": "rgba(0,255,0,0.2)",
          "width": 3
         },
         "mode": "lines",
         "showlegend": false,
         "type": "scatter3d",
         "x": [
          -90.66447609686051,
          -83.12319815228982
         ],
         "y": [
          924.9890360141546,
          934.3090393804433
         ],
         "z": [
          725.4715361423873,
          725.9879315481563
         ]
        },
        {
         "line": {
          "color": "rgba(0,255,0,0.2)",
          "width": 3
         },
         "mode": "lines",
         "showlegend": false,
         "type": "scatter3d",
         "x": [
          -83.12319815228982,
          -83.10617046187542
         ],
         "y": [
          934.3090393804433,
          933.9080489804539
         ],
         "z": [
          725.9879315481563,
          732.9764161304442
         ]
        },
        {
         "line": {
          "color": "rgba(0,255,0,0.2)",
          "width": 3
         },
         "mode": "lines",
         "showlegend": false,
         "type": "scatter3d",
         "x": [
          -83.10617046187542,
          -90.64744840644612
         ],
         "y": [
          933.9080489804539,
          924.5880456141653
         ],
         "z": [
          732.9764161304442,
          732.4600207246752
         ]
        },
        {
         "marker": {
          "color": "green",
          "size": 4
         },
         "mode": "markers",
         "name": "Mitte P11",
         "showlegend": false,
         "type": "scatter3d",
         "x": [
          -86.88532327936797
         ],
         "y": [
          929.4485424973043
         ],
         "z": [
          729.2239761364158
         ]
        },
        {
         "line": {
          "color": "gray",
          "dash": "dash"
         },
         "mode": "lines",
         "name": "Hakenlinie",
         "type": "scatter3d",
         "x": [
          -78.56366918206726,
          -86.03338858367687
         ],
         "y": [
          922.3825730332476,
          930.0360388523495
         ],
         "z": [
          739.6005142064153,
          734.103251627065
         ]
        },
        {
         "marker": {
          "color": "magenta",
          "size": 8
         },
         "mode": "markers",
         "name": "Spitze",
         "type": "scatter3d",
         "x": [
          -78.56366918206726
         ],
         "y": [
          922.3825730332476
         ],
         "z": [
          739.6005142064153
         ]
        },
        {
         "marker": {
          "color": "magenta",
          "size": 8
         },
         "mode": "markers",
         "name": "Senke",
         "type": "scatter3d",
         "x": [
          -86.03338858367687
         ],
         "y": [
          930.0360388523495
         ],
         "z": [
          734.103251627065
         ]
        },
        {
         "mode": "text",
         "showlegend": false,
         "text": [
          "Spitze"
         ],
         "textfont": {
          "size": 10
         },
         "textposition": "top center",
         "type": "scatter3d",
         "x": [
          -78.56366918206726
         ],
         "y": [
          922.3825730332476
         ],
         "z": [
          739.6005142064153
         ]
        },
        {
         "mode": "text",
         "showlegend": false,
         "text": [
          "Senke"
         ],
         "textfont": {
          "size": 10
         },
         "textposition": "top center",
         "type": "scatter3d",
         "x": [
          -86.03338858367687
         ],
         "y": [
          930.0360388523495
         ],
         "z": [
          734.103251627065
         ]
        }
       ],
       "layout": {
        "legend": {
         "title": {
          "text": "Legende"
         }
        },
        "scene": {
         "aspectmode": "cube",
         "xaxis": {
          "title": {
           "text": "X"
          }
         },
         "yaxis": {
          "title": {
           "text": "Y"
          }
         },
         "zaxis": {
          "title": {
           "text": "Z"
          }
         }
        },
        "template": {
         "data": {
          "bar": [
           {
            "error_x": {
             "color": "#2a3f5f"
            },
            "error_y": {
             "color": "#2a3f5f"
            },
            "marker": {
             "line": {
              "color": "#E5ECF6",
              "width": 0.5
             },
             "pattern": {
              "fillmode": "overlay",
              "size": 10,
              "solidity": 0.2
             }
            },
            "type": "bar"
           }
          ],
          "barpolar": [
           {
            "marker": {
             "line": {
              "color": "#E5ECF6",
              "width": 0.5
             },
             "pattern": {
              "fillmode": "overlay",
              "size": 10,
              "solidity": 0.2
             }
            },
            "type": "barpolar"
           }
          ],
          "carpet": [
           {
            "aaxis": {
             "endlinecolor": "#2a3f5f",
             "gridcolor": "white",
             "linecolor": "white",
             "minorgridcolor": "white",
             "startlinecolor": "#2a3f5f"
            },
            "baxis": {
             "endlinecolor": "#2a3f5f",
             "gridcolor": "white",
             "linecolor": "white",
             "minorgridcolor": "white",
             "startlinecolor": "#2a3f5f"
            },
            "type": "carpet"
           }
          ],
          "choropleth": [
           {
            "colorbar": {
             "outlinewidth": 0,
             "ticks": ""
            },
            "type": "choropleth"
           }
          ],
          "contour": [
           {
            "colorbar": {
             "outlinewidth": 0,
             "ticks": ""
            },
            "colorscale": [
             [
              0,
              "#0d0887"
             ],
             [
              0.1111111111111111,
              "#46039f"
             ],
             [
              0.2222222222222222,
              "#7201a8"
             ],
             [
              0.3333333333333333,
              "#9c179e"
             ],
             [
              0.4444444444444444,
              "#bd3786"
             ],
             [
              0.5555555555555556,
              "#d8576b"
             ],
             [
              0.6666666666666666,
              "#ed7953"
             ],
             [
              0.7777777777777778,
              "#fb9f3a"
             ],
             [
              0.8888888888888888,
              "#fdca26"
             ],
             [
              1,
              "#f0f921"
             ]
            ],
            "type": "contour"
           }
          ],
          "contourcarpet": [
           {
            "colorbar": {
             "outlinewidth": 0,
             "ticks": ""
            },
            "type": "contourcarpet"
           }
          ],
          "heatmap": [
           {
            "colorbar": {
             "outlinewidth": 0,
             "ticks": ""
            },
            "colorscale": [
             [
              0,
              "#0d0887"
             ],
             [
              0.1111111111111111,
              "#46039f"
             ],
             [
              0.2222222222222222,
              "#7201a8"
             ],
             [
              0.3333333333333333,
              "#9c179e"
             ],
             [
              0.4444444444444444,
              "#bd3786"
             ],
             [
              0.5555555555555556,
              "#d8576b"
             ],
             [
              0.6666666666666666,
              "#ed7953"
             ],
             [
              0.7777777777777778,
              "#fb9f3a"
             ],
             [
              0.8888888888888888,
              "#fdca26"
             ],
             [
              1,
              "#f0f921"
             ]
            ],
            "type": "heatmap"
           }
          ],
          "histogram": [
           {
            "marker": {
             "pattern": {
              "fillmode": "overlay",
              "size": 10,
              "solidity": 0.2
             }
            },
            "type": "histogram"
           }
          ],
          "histogram2d": [
           {
            "colorbar": {
             "outlinewidth": 0,
             "ticks": ""
            },
            "colorscale": [
             [
              0,
              "#0d0887"
             ],
             [
              0.1111111111111111,
              "#46039f"
             ],
             [
              0.2222222222222222,
              "#7201a8"
             ],
             [
              0.3333333333333333,
              "#9c179e"
             ],
             [
              0.4444444444444444,
              "#bd3786"
             ],
             [
              0.5555555555555556,
              "#d8576b"
             ],
             [
              0.6666666666666666,
              "#ed7953"
             ],
             [
              0.7777777777777778,
              "#fb9f3a"
             ],
             [
              0.8888888888888888,
              "#fdca26"
             ],
             [
              1,
              "#f0f921"
             ]
            ],
            "type": "histogram2d"
           }
          ],
          "histogram2dcontour": [
           {
            "colorbar": {
             "outlinewidth": 0,
             "ticks": ""
            },
            "colorscale": [
             [
              0,
              "#0d0887"
             ],
             [
              0.1111111111111111,
              "#46039f"
             ],
             [
              0.2222222222222222,
              "#7201a8"
             ],
             [
              0.3333333333333333,
              "#9c179e"
             ],
             [
              0.4444444444444444,
              "#bd3786"
             ],
             [
              0.5555555555555556,
              "#d8576b"
             ],
             [
              0.6666666666666666,
              "#ed7953"
             ],
             [
              0.7777777777777778,
              "#fb9f3a"
             ],
             [
              0.8888888888888888,
              "#fdca26"
             ],
             [
              1,
              "#f0f921"
             ]
            ],
            "type": "histogram2dcontour"
           }
          ],
          "mesh3d": [
           {
            "colorbar": {
             "outlinewidth": 0,
             "ticks": ""
            },
            "type": "mesh3d"
           }
          ],
          "parcoords": [
           {
            "line": {
             "colorbar": {
              "outlinewidth": 0,
              "ticks": ""
             }
            },
            "type": "parcoords"
           }
          ],
          "pie": [
           {
            "automargin": true,
            "type": "pie"
           }
          ],
          "scatter": [
           {
            "fillpattern": {
             "fillmode": "overlay",
             "size": 10,
             "solidity": 0.2
            },
            "type": "scatter"
           }
          ],
          "scatter3d": [
           {
            "line": {
             "colorbar": {
              "outlinewidth": 0,
              "ticks": ""
             }
            },
            "marker": {
             "colorbar": {
              "outlinewidth": 0,
              "ticks": ""
             }
            },
            "type": "scatter3d"
           }
          ],
          "scattercarpet": [
           {
            "marker": {
             "colorbar": {
              "outlinewidth": 0,
              "ticks": ""
             }
            },
            "type": "scattercarpet"
           }
          ],
          "scattergeo": [
           {
            "marker": {
             "colorbar": {
              "outlinewidth": 0,
              "ticks": ""
             }
            },
            "type": "scattergeo"
           }
          ],
          "scattergl": [
           {
            "marker": {
             "colorbar": {
              "outlinewidth": 0,
              "ticks": ""
             }
            },
            "type": "scattergl"
           }
          ],
          "scattermap": [
           {
            "marker": {
             "colorbar": {
              "outlinewidth": 0,
              "ticks": ""
             }
            },
            "type": "scattermap"
           }
          ],
          "scattermapbox": [
           {
            "marker": {
             "colorbar": {
              "outlinewidth": 0,
              "ticks": ""
             }
            },
            "type": "scattermapbox"
           }
          ],
          "scatterpolar": [
           {
            "marker": {
             "colorbar": {
              "outlinewidth": 0,
              "ticks": ""
             }
            },
            "type": "scatterpolar"
           }
          ],
          "scatterpolargl": [
           {
            "marker": {
             "colorbar": {
              "outlinewidth": 0,
              "ticks": ""
             }
            },
            "type": "scatterpolargl"
           }
          ],
          "scatterternary": [
           {
            "marker": {
             "colorbar": {
              "outlinewidth": 0,
              "ticks": ""
             }
            },
            "type": "scatterternary"
           }
          ],
          "surface": [
           {
            "colorbar": {
             "outlinewidth": 0,
             "ticks": ""
            },
            "colorscale": [
             [
              0,
              "#0d0887"
             ],
             [
              0.1111111111111111,
              "#46039f"
             ],
             [
              0.2222222222222222,
              "#7201a8"
             ],
             [
              0.3333333333333333,
              "#9c179e"
             ],
             [
              0.4444444444444444,
              "#bd3786"
             ],
             [
              0.5555555555555556,
              "#d8576b"
             ],
             [
              0.6666666666666666,
              "#ed7953"
             ],
             [
              0.7777777777777778,
              "#fb9f3a"
             ],
             [
              0.8888888888888888,
              "#fdca26"
             ],
             [
              1,
              "#f0f921"
             ]
            ],
            "type": "surface"
           }
          ],
          "table": [
           {
            "cells": {
             "fill": {
              "color": "#EBF0F8"
             },
             "line": {
              "color": "white"
             }
            },
            "header": {
             "fill": {
              "color": "#C8D4E3"
             },
             "line": {
              "color": "white"
             }
            },
            "type": "table"
           }
          ]
         },
         "layout": {
          "annotationdefaults": {
           "arrowcolor": "#2a3f5f",
           "arrowhead": 0,
           "arrowwidth": 1
          },
          "autotypenumbers": "strict",
          "coloraxis": {
           "colorbar": {
            "outlinewidth": 0,
            "ticks": ""
           }
          },
          "colorscale": {
           "diverging": [
            [
             0,
             "#8e0152"
            ],
            [
             0.1,
             "#c51b7d"
            ],
            [
             0.2,
             "#de77ae"
            ],
            [
             0.3,
             "#f1b6da"
            ],
            [
             0.4,
             "#fde0ef"
            ],
            [
             0.5,
             "#f7f7f7"
            ],
            [
             0.6,
             "#e6f5d0"
            ],
            [
             0.7,
             "#b8e186"
            ],
            [
             0.8,
             "#7fbc41"
            ],
            [
             0.9,
             "#4d9221"
            ],
            [
             1,
             "#276419"
            ]
           ],
           "sequential": [
            [
             0,
             "#0d0887"
            ],
            [
             0.1111111111111111,
             "#46039f"
            ],
            [
             0.2222222222222222,
             "#7201a8"
            ],
            [
             0.3333333333333333,
             "#9c179e"
            ],
            [
             0.4444444444444444,
             "#bd3786"
            ],
            [
             0.5555555555555556,
             "#d8576b"
            ],
            [
             0.6666666666666666,
             "#ed7953"
            ],
            [
             0.7777777777777778,
             "#fb9f3a"
            ],
            [
             0.8888888888888888,
             "#fdca26"
            ],
            [
             1,
             "#f0f921"
            ]
           ],
           "sequentialminus": [
            [
             0,
             "#0d0887"
            ],
            [
             0.1111111111111111,
             "#46039f"
            ],
            [
             0.2222222222222222,
             "#7201a8"
            ],
            [
             0.3333333333333333,
             "#9c179e"
            ],
            [
             0.4444444444444444,
             "#bd3786"
            ],
            [
             0.5555555555555556,
             "#d8576b"
            ],
            [
             0.6666666666666666,
             "#ed7953"
            ],
            [
             0.7777777777777778,
             "#fb9f3a"
            ],
            [
             0.8888888888888888,
             "#fdca26"
            ],
            [
             1,
             "#f0f921"
            ]
           ]
          },
          "colorway": [
           "#636efa",
           "#EF553B",
           "#00cc96",
           "#ab63fa",
           "#FFA15A",
           "#19d3f3",
           "#FF6692",
           "#B6E880",
           "#FF97FF",
           "#FECB52"
          ],
          "font": {
           "color": "#2a3f5f"
          },
          "geo": {
           "bgcolor": "white",
           "lakecolor": "white",
           "landcolor": "#E5ECF6",
           "showlakes": true,
           "showland": true,
           "subunitcolor": "white"
          },
          "hoverlabel": {
           "align": "left"
          },
          "hovermode": "closest",
          "mapbox": {
           "style": "light"
          },
          "paper_bgcolor": "white",
          "plot_bgcolor": "#E5ECF6",
          "polar": {
           "angularaxis": {
            "gridcolor": "white",
            "linecolor": "white",
            "ticks": ""
           },
           "bgcolor": "#E5ECF6",
           "radialaxis": {
            "gridcolor": "white",
            "linecolor": "white",
            "ticks": ""
           }
          },
          "scene": {
           "xaxis": {
            "backgroundcolor": "#E5ECF6",
            "gridcolor": "white",
            "gridwidth": 2,
            "linecolor": "white",
            "showbackground": true,
            "ticks": "",
            "zerolinecolor": "white"
           },
           "yaxis": {
            "backgroundcolor": "#E5ECF6",
            "gridcolor": "white",
            "gridwidth": 2,
            "linecolor": "white",
            "showbackground": true,
            "ticks": "",
            "zerolinecolor": "white"
           },
           "zaxis": {
            "backgroundcolor": "#E5ECF6",
            "gridcolor": "white",
            "gridwidth": 2,
            "linecolor": "white",
            "showbackground": true,
            "ticks": "",
            "zerolinecolor": "white"
           }
          },
          "shapedefaults": {
           "line": {
            "color": "#2a3f5f"
           }
          },
          "ternary": {
           "aaxis": {
            "gridcolor": "white",
            "linecolor": "white",
            "ticks": ""
           },
           "baxis": {
            "gridcolor": "white",
            "linecolor": "white",
            "ticks": ""
           },
           "bgcolor": "#E5ECF6",
           "caxis": {
            "gridcolor": "white",
            "linecolor": "white",
            "ticks": ""
           }
          },
          "title": {
           "x": 0.05
          },
          "xaxis": {
           "automargin": true,
           "gridcolor": "white",
           "linecolor": "white",
           "ticks": "",
           "title": {
            "standoff": 15
           },
           "zerolinecolor": "white",
           "zerolinewidth": 2
          },
          "yaxis": {
           "automargin": true,
           "gridcolor": "white",
           "linecolor": "white",
           "ticks": "",
           "title": {
            "standoff": 15
           },
           "zerolinecolor": "white",
           "zerolinewidth": 2
          }
         }
        },
        "title": {
         "text": "Haken 12, Trajektorien-Ansatz 3"
        }
       }
      }
     },
     "metadata": {},
     "output_type": "display_data"
    },
    {
     "name": "stdout",
     "output_type": "stream",
     "text": [
      "HTML-Datei 'traj4.html' erfolgreich erstellt!\n"
     ]
    },
    {
     "data": {
      "application/vnd.plotly.v1+json": {
       "config": {
        "plotlyServerURL": "https://plot.ly"
       },
       "data": [
        {
         "color": "rgba(31, 119, 180, 0.8)",
         "name": "P1",
         "opacity": 0.8,
         "type": "mesh3d",
         "x": [
          -78.11808948050897,
          -74.70014119387265,
          -66.15337221316723,
          -69.57132049980355
         ],
         "y": [
          913.6643235814237,
          910.1951910622702,
          918.6185358005997,
          922.0876683197532
         ],
         "z": [
          746.712057345437,
          741.6838619361044,
          741.6820153973076,
          746.7102108066401
         ]
        },
        {
         "marker": {
          "color": "red",
          "size": 3
         },
         "mode": "markers+text",
         "showlegend": false,
         "text": "",
         "textfont": {
          "size": 12
         },
         "textposition": "top center",
         "type": "scatter3d",
         "x": [
          -72.1357308468381
         ],
         "y": [
          916.1414296910116
         ],
         "z": [
          744.1970363713723
         ]
        },
        {
         "line": {
          "color": "rgba(31, 119, 180, 0.8)",
          "width": 4
         },
         "mode": "lines",
         "showlegend": false,
         "type": "scatter3d",
         "x": [
          -78.11808948050897,
          -74.70014119387265
         ],
         "y": [
          913.6643235814237,
          910.1951910622702
         ],
         "z": [
          746.712057345437,
          741.6838619361044
         ]
        },
        {
         "line": {
          "color": "rgba(31, 119, 180, 0.8)",
          "width": 4
         },
         "mode": "lines",
         "showlegend": false,
         "type": "scatter3d",
         "x": [
          -74.70014119387265,
          -66.15337221316723
         ],
         "y": [
          910.1951910622702,
          918.6185358005997
         ],
         "z": [
          741.6838619361044,
          741.6820153973076
         ]
        },
        {
         "line": {
          "color": "rgba(31, 119, 180, 0.8)",
          "width": 4
         },
         "mode": "lines",
         "showlegend": false,
         "type": "scatter3d",
         "x": [
          -66.15337221316723,
          -69.57132049980355
         ],
         "y": [
          918.6185358005997,
          922.0876683197532
         ],
         "z": [
          741.6820153973076,
          746.7102108066401
         ]
        },
        {
         "line": {
          "color": "rgba(31, 119, 180, 0.8)",
          "width": 4
         },
         "mode": "lines",
         "showlegend": false,
         "type": "scatter3d",
         "x": [
          -69.57132049980355,
          -78.11808948050897
         ],
         "y": [
          922.0876683197532,
          913.6643235814237
         ],
         "z": [
          746.7102108066401,
          746.712057345437
         ]
        },
        {
         "color": "rgba(214, 39, 40, 0.8)",
         "name": "P2",
         "opacity": 0.8,
         "type": "mesh3d",
         "x": [
          -84.49021333310391,
          -81.07226504646759,
          -72.52549606576217,
          -75.94344435239849
         ],
         "y": [
          919.798198078161,
          916.3290655590075,
          924.7524102973371,
          928.2215428164906
         ],
         "z": [
          742.0899855026639,
          737.0617900933314,
          737.0599435545346,
          742.0881389638671
         ]
        },
        {
         "marker": {
          "color": "red",
          "size": 3
         },
         "mode": "markers+text",
         "showlegend": false,
         "text": "",
         "textfont": {
          "size": 12
         },
         "textposition": "top center",
         "type": "scatter3d",
         "x": [
          -78.50785469943304
         ],
         "y": [
          922.275304187749
         ],
         "z": [
          739.5749645285993
         ]
        },
        {
         "line": {
          "color": "rgba(214, 39, 40, 0.8)",
          "width": 4
         },
         "mode": "lines",
         "showlegend": false,
         "type": "scatter3d",
         "x": [
          -84.49021333310391,
          -81.07226504646759
         ],
         "y": [
          919.798198078161,
          916.3290655590075
         ],
         "z": [
          742.0899855026639,
          737.0617900933314
         ]
        },
        {
         "line": {
          "color": "rgba(214, 39, 40, 0.8)",
          "width": 4
         },
         "mode": "lines",
         "showlegend": false,
         "type": "scatter3d",
         "x": [
          -81.07226504646759,
          -72.52549606576217
         ],
         "y": [
          916.3290655590075,
          924.7524102973371
         ],
         "z": [
          737.0617900933314,
          737.0599435545346
         ]
        },
        {
         "line": {
          "color": "rgba(214, 39, 40, 0.8)",
          "width": 4
         },
         "mode": "lines",
         "showlegend": false,
         "type": "scatter3d",
         "x": [
          -72.52549606576217,
          -75.94344435239849
         ],
         "y": [
          924.7524102973371,
          928.2215428164906
         ],
         "z": [
          737.0599435545346,
          742.0881389638671
         ]
        },
        {
         "line": {
          "color": "rgba(214, 39, 40, 0.8)",
          "width": 4
         },
         "mode": "lines",
         "showlegend": false,
         "type": "scatter3d",
         "x": [
          -75.94344435239849,
          -84.49021333310391
         ],
         "y": [
          928.2215428164906,
          919.798198078161
         ],
         "z": [
          742.0881389638671,
          742.0899855026639
         ]
        },
        {
         "color": "rgba(247, 182, 210, 0.8)",
         "name": "P3",
         "opacity": 0.8,
         "type": "mesh3d",
         "x": [
          -87.67627525940132,
          -84.258326972765,
          -75.71155799205958,
          -79.1295062786959
         ],
         "y": [
          922.8651353265298,
          919.3960028073762,
          927.8193475457058,
          931.2884800648593
         ],
         "z": [
          739.7789495812774,
          734.7507541719449,
          734.7489076331481,
          739.7771030424806
         ]
        },
        {
         "marker": {
          "color": "red",
          "size": 3
         },
         "mode": "markers+text",
         "showlegend": false,
         "text": "",
         "textfont": {
          "size": 12
         },
         "textposition": "top center",
         "type": "scatter3d",
         "x": [
          -81.69391662573045
         ],
         "y": [
          925.3422414361179
         ],
         "z": [
          737.2639286072127
         ]
        },
        {
         "line": {
          "color": "rgba(247, 182, 210, 0.8)",
          "width": 4
         },
         "mode": "lines",
         "showlegend": false,
         "type": "scatter3d",
         "x": [
          -87.67627525940132,
          -84.258326972765
         ],
         "y": [
          922.8651353265298,
          919.3960028073762
         ],
         "z": [
          739.7789495812774,
          734.7507541719449
         ]
        },
        {
         "line": {
          "color": "rgba(247, 182, 210, 0.8)",
          "width": 4
         },
         "mode": "lines",
         "showlegend": false,
         "type": "scatter3d",
         "x": [
          -84.258326972765,
          -75.71155799205958
         ],
         "y": [
          919.3960028073762,
          927.8193475457058
         ],
         "z": [
          734.7507541719449,
          734.7489076331481
         ]
        },
        {
         "line": {
          "color": "rgba(247, 182, 210, 0.8)",
          "width": 4
         },
         "mode": "lines",
         "showlegend": false,
         "type": "scatter3d",
         "x": [
          -75.71155799205958,
          -79.1295062786959
         ],
         "y": [
          927.8193475457058,
          931.2884800648593
         ],
         "z": [
          734.7489076331481,
          739.7771030424806
         ]
        },
        {
         "line": {
          "color": "rgba(247, 182, 210, 0.8)",
          "width": 4
         },
         "mode": "lines",
         "showlegend": false,
         "type": "scatter3d",
         "x": [
          -79.1295062786959,
          -87.67627525940132
         ],
         "y": [
          931.2884800648593,
          922.8651353265298
         ],
         "z": [
          739.7771030424806,
          739.7789495812774
         ]
        },
        {
         "line": {
          "color": "black",
          "width": 2
         },
         "mode": "lines",
         "name": "Berechnete Hakenlinie",
         "type": "scatter3d",
         "x": {
          "bdata": "mA5v0K8IUsDUS/+wgKBTwG5qRyFpbFTA",
          "dtype": "f8"
         },
         "y": {
          "bdata": "oMzjpSGhjECslq7SM9KMQLP7E+m86oxA",
          "dtype": "f8"
         },
         "z": {
          "bdata": "VRnOh5NBh0CNtQCHmRyHQKkDmoYcCodA",
          "dtype": "f8"
         }
        },
        {
         "mode": "text",
         "showlegend": false,
         "text": [
          "Pre-Position"
         ],
         "textfont": {
          "size": 10
         },
         "textposition": "top center",
         "type": "scatter3d",
         "x": [
          -72.1357308468381
         ],
         "y": [
          916.1414296910116
         ],
         "z": [
          744.1970363713723
         ]
        },
        {
         "mode": "text",
         "showlegend": false,
         "text": [
          "Loslassen"
         ],
         "textfont": {
          "size": 10
         },
         "textposition": "top center",
         "type": "scatter3d",
         "x": [
          -81.69391662573045
         ],
         "y": [
          925.3422414361179
         ],
         "z": [
          737.2639286072127
         ]
        },
        {
         "color": "rgba(0,255,0,0.2)",
         "name": "optimale Trajektorie",
         "opacity": 0.8,
         "type": "mesh3d",
         "x": [
          -87.68415207550848,
          -84.26620372055652,
          -75.7194349382604,
          -79.13738329321237
         ],
         "y": [
          922.1793237908196,
          918.7101913940295,
          927.1335363336862,
          930.6026687304762
         ],
         "z": [
          745.1114089974996,
          740.0832135501822,
          740.0813670587332,
          745.1095625060506
         ]
        },
        {
         "line": {
          "color": "rgba(0,255,0,0.2)",
          "width": 3
         },
         "mode": "lines",
         "showlegend": false,
         "type": "scatter3d",
         "x": [
          -87.68415207550848,
          -84.26620372055652
         ],
         "y": [
          922.1793237908196,
          918.7101913940295
         ],
         "z": [
          745.1114089974996,
          740.0832135501822
         ]
        },
        {
         "line": {
          "color": "rgba(0,255,0,0.2)",
          "width": 3
         },
         "mode": "lines",
         "showlegend": false,
         "type": "scatter3d",
         "x": [
          -84.26620372055652,
          -75.7194349382604
         ],
         "y": [
          918.7101913940295,
          927.1335363336862
         ],
         "z": [
          740.0832135501822,
          740.0813670587332
         ]
        },
        {
         "line": {
          "color": "rgba(0,255,0,0.2)",
          "width": 3
         },
         "mode": "lines",
         "showlegend": false,
         "type": "scatter3d",
         "x": [
          -75.7194349382604,
          -79.13738329321237
         ],
         "y": [
          927.1335363336862,
          930.6026687304762
         ],
         "z": [
          740.0813670587332,
          745.1095625060506
         ]
        },
        {
         "line": {
          "color": "rgba(0,255,0,0.2)",
          "width": 3
         },
         "mode": "lines",
         "showlegend": false,
         "type": "scatter3d",
         "x": [
          -79.13738329321237,
          -87.68415207550848
         ],
         "y": [
          930.6026687304762,
          922.1793237908196
         ],
         "z": [
          745.1095625060506,
          745.1114089974996
         ]
        },
        {
         "marker": {
          "color": "green",
          "size": 4
         },
         "mode": "markers",
         "name": "Mitte P3",
         "showlegend": false,
         "type": "scatter3d",
         "x": [
          -81.70179350688444
         ],
         "y": [
          924.6564300622529
         ],
         "z": [
          742.5963880281164
         ]
        },
        {
         "color": "rgba(0,255,0,0.2)",
         "name": "optimale Trajektorie",
         "opacity": 0.8,
         "type": "mesh3d",
         "x": [
          -87.68415207550848,
          -84.26620372055652,
          -75.7194349382604,
          -79.13738329321237
         ],
         "y": [
          922.1793237908196,
          918.7101913940295,
          927.1335363336862,
          930.6026687304762
         ],
         "z": [
          745.1114089974996,
          740.0832135501822,
          740.0813670587332,
          745.1095625060506
         ]
        },
        {
         "line": {
          "color": "rgba(0,255,0,0.2)",
          "width": 3
         },
         "mode": "lines",
         "showlegend": false,
         "type": "scatter3d",
         "x": [
          -87.68415207550848,
          -84.26620372055652
         ],
         "y": [
          922.1793237908196,
          918.7101913940295
         ],
         "z": [
          745.1114089974996,
          740.0832135501822
         ]
        },
        {
         "line": {
          "color": "rgba(0,255,0,0.2)",
          "width": 3
         },
         "mode": "lines",
         "showlegend": false,
         "type": "scatter3d",
         "x": [
          -84.26620372055652,
          -75.7194349382604
         ],
         "y": [
          918.7101913940295,
          927.1335363336862
         ],
         "z": [
          740.0832135501822,
          740.0813670587332
         ]
        },
        {
         "line": {
          "color": "rgba(0,255,0,0.2)",
          "width": 3
         },
         "mode": "lines",
         "showlegend": false,
         "type": "scatter3d",
         "x": [
          -75.7194349382604,
          -79.13738329321237
         ],
         "y": [
          927.1335363336862,
          930.6026687304762
         ],
         "z": [
          740.0813670587332,
          745.1095625060506
         ]
        },
        {
         "line": {
          "color": "rgba(0,255,0,0.2)",
          "width": 3
         },
         "mode": "lines",
         "showlegend": false,
         "type": "scatter3d",
         "x": [
          -79.13738329321237,
          -87.68415207550848
         ],
         "y": [
          930.6026687304762,
          922.1793237908196
         ],
         "z": [
          745.1095625060506,
          745.1114089974996
         ]
        },
        {
         "marker": {
          "color": "green",
          "size": 4
         },
         "mode": "markers",
         "name": "Mitte P3",
         "showlegend": false,
         "type": "scatter3d",
         "x": [
          -81.70179350688444
         ],
         "y": [
          924.6564300622529
         ],
         "z": [
          742.5963880281164
         ]
        },
        {
         "color": "rgba(0,255,0,0.2)",
         "name": "optimale Trajektorie",
         "opacity": 0.8,
         "type": "mesh3d",
         "x": [
          -84.15681026577322,
          -80.62426892245928,
          -72.22632746829753,
          -75.75886881161146
         ],
         "y": [
          919.7617550682718,
          916.3272391411039,
          924.8988492563714,
          928.3333651835393
         ],
         "z": [
          740.975172356054,
          736.002723059801,
          736.048323107119,
          741.020772403372
         ]
        },
        {
         "line": {
          "color": "rgba(0,255,0,0.2)",
          "width": 3
         },
         "mode": "lines",
         "showlegend": false,
         "type": "scatter3d",
         "x": [
          -84.15681026577322,
          -80.62426892245928
         ],
         "y": [
          919.7617550682718,
          916.3272391411039
         ],
         "z": [
          740.975172356054,
          736.002723059801
         ]
        },
        {
         "line": {
          "color": "rgba(0,255,0,0.2)",
          "width": 3
         },
         "mode": "lines",
         "showlegend": false,
         "type": "scatter3d",
         "x": [
          -80.62426892245928,
          -72.22632746829753
         ],
         "y": [
          916.3272391411039,
          924.8988492563714
         ],
         "z": [
          736.002723059801,
          736.048323107119
         ]
        },
        {
         "line": {
          "color": "rgba(0,255,0,0.2)",
          "width": 3
         },
         "mode": "lines",
         "showlegend": false,
         "type": "scatter3d",
         "x": [
          -72.22632746829753,
          -75.75886881161146
         ],
         "y": [
          924.8988492563714,
          928.3333651835393
         ],
         "z": [
          736.048323107119,
          741.020772403372
         ]
        },
        {
         "line": {
          "color": "rgba(0,255,0,0.2)",
          "width": 3
         },
         "mode": "lines",
         "showlegend": false,
         "type": "scatter3d",
         "x": [
          -75.75886881161146,
          -84.15681026577322
         ],
         "y": [
          928.3333651835393,
          919.7617550682718
         ],
         "z": [
          741.020772403372,
          740.975172356054
         ]
        },
        {
         "marker": {
          "color": "green",
          "size": 4
         },
         "mode": "markers",
         "name": "Mitte P3",
         "showlegend": false,
         "type": "scatter3d",
         "x": [
          -78.19156886703537
         ],
         "y": [
          922.3303021623216
         ],
         "z": [
          738.5117477315865
         ]
        },
        {
         "color": "rgba(0,255,0,0.2)",
         "name": "optimale Trajektorie",
         "opacity": 0.8,
         "type": "mesh3d",
         "x": [
          -87.92999422803064,
          -84.23772775297013,
          -76.66421504175594,
          -80.35648151681644
         ],
         "y": [
          921.4618053372254,
          918.9123036482364,
          928.1856588592949,
          930.735160548284
         ],
         "z": [
          738.3272658012595,
          732.9544444367447,
          733.7586759597598,
          739.1314973242746
         ]
        },
        {
         "line": {
          "color": "rgba(0,255,0,0.2)",
          "width": 3
         },
         "mode": "lines",
         "showlegend": false,
         "type": "scatter3d",
         "x": [
          -87.92999422803064,
          -84.23772775297013
         ],
         "y": [
          921.4618053372254,
          918.9123036482364
         ],
         "z": [
          738.3272658012595,
          732.9544444367447
         ]
        },
        {
         "line": {
          "color": "rgba(0,255,0,0.2)",
          "width": 3
         },
         "mode": "lines",
         "showlegend": false,
         "type": "scatter3d",
         "x": [
          -84.23772775297013,
          -76.66421504175594
         ],
         "y": [
          918.9123036482364,
          928.1856588592949
         ],
         "z": [
          732.9544444367447,
          733.7586759597598
         ]
        },
        {
         "line": {
          "color": "rgba(0,255,0,0.2)",
          "width": 3
         },
         "mode": "lines",
         "showlegend": false,
         "type": "scatter3d",
         "x": [
          -76.66421504175594,
          -80.35648151681644
         ],
         "y": [
          928.1856588592949,
          930.735160548284
         ],
         "z": [
          733.7586759597598,
          739.1314973242746
         ]
        },
        {
         "line": {
          "color": "rgba(0,255,0,0.2)",
          "width": 3
         },
         "mode": "lines",
         "showlegend": false,
         "type": "scatter3d",
         "x": [
          -80.35648151681644,
          -87.92999422803064
         ],
         "y": [
          930.735160548284,
          921.4618053372254
         ],
         "z": [
          739.1314973242746,
          738.3272658012595
         ]
        },
        {
         "marker": {
          "color": "green",
          "size": 4
         },
         "mode": "markers",
         "name": "Mitte P3",
         "showlegend": false,
         "type": "scatter3d",
         "x": [
          -82.29710463489329
         ],
         "y": [
          924.8237320982602
         ],
         "z": [
          736.0429708805096
         ]
        },
        {
         "color": "rgba(0,255,0,0.2)",
         "name": "optimale Trajektorie",
         "opacity": 0.8,
         "type": "mesh3d",
         "x": [
          -90.82173459447384,
          -87.1108729820927,
          -79.63287295943147,
          -83.3437345718126
         ],
         "y": [
          923.8050932373077,
          921.2772437832492,
          930.6311375703546,
          933.158987024413
         ],
         "z": [
          736.9073277841488,
          731.5370872651988,
          732.3014083238069,
          737.6716488427569
         ]
        },
        {
         "line": {
          "color": "rgba(0,255,0,0.2)",
          "width": 3
         },
         "mode": "lines",
         "showlegend": false,
         "type": "scatter3d",
         "x": [
          -90.82173459447384,
          -87.1108729820927
         ],
         "y": [
          923.8050932373077,
          921.2772437832492
         ],
         "z": [
          736.9073277841488,
          731.5370872651988
         ]
        },
        {
         "line": {
          "color": "rgba(0,255,0,0.2)",
          "width": 3
         },
         "mode": "lines",
         "showlegend": false,
         "type": "scatter3d",
         "x": [
          -87.1108729820927,
          -79.63287295943147
         ],
         "y": [
          921.2772437832492,
          930.6311375703546
         ],
         "z": [
          731.5370872651988,
          732.3014083238069
         ]
        },
        {
         "line": {
          "color": "rgba(0,255,0,0.2)",
          "width": 3
         },
         "mode": "lines",
         "showlegend": false,
         "type": "scatter3d",
         "x": [
          -79.63287295943147,
          -83.3437345718126
         ],
         "y": [
          930.6311375703546,
          933.158987024413
         ],
         "z": [
          732.3014083238069,
          737.6716488427569
         ]
        },
        {
         "line": {
          "color": "rgba(0,255,0,0.2)",
          "width": 3
         },
         "mode": "lines",
         "showlegend": false,
         "type": "scatter3d",
         "x": [
          -83.3437345718126,
          -90.82173459447384
         ],
         "y": [
          933.158987024413,
          923.8050932373077
         ],
         "z": [
          737.6716488427569,
          736.9073277841488
         ]
        },
        {
         "marker": {
          "color": "green",
          "size": 4
         },
         "mode": "markers",
         "name": "Mitte P3",
         "showlegend": false,
         "type": "scatter3d",
         "x": [
          -85.22730377695265
         ],
         "y": [
          927.2181154038311
         ],
         "z": [
          734.6043680539779
         ]
        },
        {
         "color": "rgba(0,255,0,0.2)",
         "name": "optimale Trajektorie",
         "opacity": 0.8,
         "type": "mesh3d",
         "x": [
          -90.02966363832807,
          -86.77961731644277,
          -79.24735913518539,
          -82.4974054570707
         ],
         "y": [
          923.9725422629892,
          921.7396106399103,
          931.0596219247984,
          933.2925535478773
         ],
         "z": [
          736.3679845822938,
          730.5842820249129,
          731.2186922553154,
          737.0023948126964
         ]
        },
        {
         "line": {
          "color": "rgba(0,255,0,0.2)",
          "width": 3
         },
         "mode": "lines",
         "showlegend": false,
         "type": "scatter3d",
         "x": [
          -90.02966363832807,
          -86.77961731644277
         ],
         "y": [
          923.9725422629892,
          921.7396106399103
         ],
         "z": [
          736.3679845822938,
          730.5842820249129
         ]
        },
        {
         "line": {
          "color": "rgba(0,255,0,0.2)",
          "width": 3
         },
         "mode": "lines",
         "showlegend": false,
         "type": "scatter3d",
         "x": [
          -86.77961731644277,
          -79.24735913518539
         ],
         "y": [
          921.7396106399103,
          931.0596219247984
         ],
         "z": [
          730.5842820249129,
          731.2186922553154
         ]
        },
        {
         "line": {
          "color": "rgba(0,255,0,0.2)",
          "width": 3
         },
         "mode": "lines",
         "showlegend": false,
         "type": "scatter3d",
         "x": [
          -79.24735913518539,
          -82.4974054570707
         ],
         "y": [
          931.0596219247984,
          933.2925535478773
         ],
         "z": [
          731.2186922553154,
          737.0023948126964
         ]
        },
        {
         "line": {
          "color": "rgba(0,255,0,0.2)",
          "width": 3
         },
         "mode": "lines",
         "showlegend": false,
         "type": "scatter3d",
         "x": [
          -82.4974054570707,
          -90.02966363832807
         ],
         "y": [
          933.2925535478773,
          923.9725422629892
         ],
         "z": [
          737.0023948126964,
          736.3679845822938
         ]
        },
        {
         "marker": {
          "color": "green",
          "size": 4
         },
         "mode": "markers",
         "name": "Mitte P3",
         "showlegend": false,
         "type": "scatter3d",
         "x": [
          -84.63851138675673
         ],
         "y": [
          927.5160820938938
         ],
         "z": [
          733.7933384188046
         ]
        },
        {
         "color": "rgba(0,255,0,0.2)",
         "name": "optimale Trajektorie",
         "opacity": 0.8,
         "type": "mesh3d",
         "x": [
          -90.55964214532602,
          -89.07323476731871,
          -81.5481972681747,
          -83.03460464618202
         ],
         "y": [
          924.4663790725193,
          923.7168064961844,
          933.0438274924176,
          933.7934000687525
         ],
         "z": [
          736.1333636990933,
          729.3341921275404,
          729.9510308198276,
          736.7502023913804
         ]
        },
        {
         "line": {
          "color": "rgba(0,255,0,0.2)",
          "width": 3
         },
         "mode": "lines",
         "showlegend": false,
         "type": "scatter3d",
         "x": [
          -90.55964214532602,
          -89.07323476731871
         ],
         "y": [
          924.4663790725193,
          923.7168064961844
         ],
         "z": [
          736.1333636990933,
          729.3341921275404
         ]
        },
        {
         "line": {
          "color": "rgba(0,255,0,0.2)",
          "width": 3
         },
         "mode": "lines",
         "showlegend": false,
         "type": "scatter3d",
         "x": [
          -89.07323476731871,
          -81.5481972681747
         ],
         "y": [
          923.7168064961844,
          933.0438274924176
         ],
         "z": [
          729.3341921275404,
          729.9510308198276
         ]
        },
        {
         "line": {
          "color": "rgba(0,255,0,0.2)",
          "width": 3
         },
         "mode": "lines",
         "showlegend": false,
         "type": "scatter3d",
         "x": [
          -81.5481972681747,
          -83.03460464618202
         ],
         "y": [
          933.0438274924176,
          933.7934000687525
         ],
         "z": [
          729.9510308198276,
          736.7502023913804
         ]
        },
        {
         "line": {
          "color": "rgba(0,255,0,0.2)",
          "width": 3
         },
         "mode": "lines",
         "showlegend": false,
         "type": "scatter3d",
         "x": [
          -83.03460464618202,
          -90.55964214532602
         ],
         "y": [
          933.7934000687525,
          924.4663790725193
         ],
         "z": [
          736.7502023913804,
          736.1333636990933
         ]
        },
        {
         "marker": {
          "color": "green",
          "size": 4
         },
         "mode": "markers",
         "name": "Mitte P3",
         "showlegend": false,
         "type": "scatter3d",
         "x": [
          -86.05391970675036
         ],
         "y": [
          928.7551032824684
         ],
         "z": [
          733.0421972594604
         ]
        },
        {
         "color": "rgba(0,255,0,0.2)",
         "name": "optimale Trajektorie",
         "opacity": 0.8,
         "type": "mesh3d",
         "x": [
          -90.46097215090803,
          -90.441738585145,
          -82.91622730748936,
          -82.9354608732524
         ],
         "y": [
          924.2135732861534,
          924.656825989803,
          933.9837502126704,
          933.5404975090208
         ],
         "z": [
          736.7665644152,
          729.7806387706877,
          730.3931455467857,
          737.3790711912981
         ]
        },
        {
         "line": {
          "color": "rgba(0,255,0,0.2)",
          "width": 3
         },
         "mode": "lines",
         "showlegend": false,
         "type": "scatter3d",
         "x": [
          -90.46097215090803,
          -90.441738585145
         ],
         "y": [
          924.2135732861534,
          924.656825989803
         ],
         "z": [
          736.7665644152,
          729.7806387706877
         ]
        },
        {
         "line": {
          "color": "rgba(0,255,0,0.2)",
          "width": 3
         },
         "mode": "lines",
         "showlegend": false,
         "type": "scatter3d",
         "x": [
          -90.441738585145,
          -82.91622730748936
         ],
         "y": [
          924.656825989803,
          933.9837502126704
         ],
         "z": [
          729.7806387706877,
          730.3931455467857
         ]
        },
        {
         "line": {
          "color": "rgba(0,255,0,0.2)",
          "width": 3
         },
         "mode": "lines",
         "showlegend": false,
         "type": "scatter3d",
         "x": [
          -82.91622730748936,
          -82.9354608732524
         ],
         "y": [
          933.9837502126704,
          933.5404975090208
         ],
         "z": [
          730.3931455467857,
          737.3790711912981
         ]
        },
        {
         "line": {
          "color": "rgba(0,255,0,0.2)",
          "width": 3
         },
         "mode": "lines",
         "showlegend": false,
         "type": "scatter3d",
         "x": [
          -82.9354608732524,
          -90.46097215090803
         ],
         "y": [
          933.5404975090208,
          924.2135732861534
         ],
         "z": [
          737.3790711912981,
          736.7665644152
         ]
        },
        {
         "marker": {
          "color": "green",
          "size": 4
         },
         "mode": "markers",
         "name": "Mitte P3",
         "showlegend": false,
         "type": "scatter3d",
         "x": [
          -86.6885997291987
         ],
         "y": [
          929.0986617494119
         ],
         "z": [
          733.5798549809929
         ]
        },
        {
         "color": "rgba(0,255,0,0.2)",
         "name": "optimale Trajektorie",
         "opacity": 0.8,
         "type": "mesh3d",
         "x": [
          -90.64744840644612,
          -90.66447609686051,
          -83.12319815228982,
          -83.10617046187542
         ],
         "y": [
          924.5880456141653,
          924.9890360141546,
          934.3090393804433,
          933.9080489804539
         ],
         "z": [
          732.4600207246752,
          725.4715361423873,
          725.9879315481563,
          732.9764161304442
         ]
        },
        {
         "line": {
          "color": "rgba(0,255,0,0.2)",
          "width": 3
         },
         "mode": "lines",
         "showlegend": false,
         "type": "scatter3d",
         "x": [
          -90.64744840644612,
          -90.66447609686051
         ],
         "y": [
          924.5880456141653,
          924.9890360141546
         ],
         "z": [
          732.4600207246752,
          725.4715361423873
         ]
        },
        {
         "line": {
          "color": "rgba(0,255,0,0.2)",
          "width": 3
         },
         "mode": "lines",
         "showlegend": false,
         "type": "scatter3d",
         "x": [
          -90.66447609686051,
          -83.12319815228982
         ],
         "y": [
          924.9890360141546,
          934.3090393804433
         ],
         "z": [
          725.4715361423873,
          725.9879315481563
         ]
        },
        {
         "line": {
          "color": "rgba(0,255,0,0.2)",
          "width": 3
         },
         "mode": "lines",
         "showlegend": false,
         "type": "scatter3d",
         "x": [
          -83.12319815228982,
          -83.10617046187542
         ],
         "y": [
          934.3090393804433,
          933.9080489804539
         ],
         "z": [
          725.9879315481563,
          732.9764161304442
         ]
        },
        {
         "line": {
          "color": "rgba(0,255,0,0.2)",
          "width": 3
         },
         "mode": "lines",
         "showlegend": false,
         "type": "scatter3d",
         "x": [
          -83.10617046187542,
          -90.64744840644612
         ],
         "y": [
          933.9080489804539,
          924.5880456141653
         ],
         "z": [
          732.9764161304442,
          732.4600207246752
         ]
        },
        {
         "marker": {
          "color": "green",
          "size": 4
         },
         "mode": "markers",
         "name": "Mitte P3",
         "showlegend": false,
         "type": "scatter3d",
         "x": [
          -86.88532327936797
         ],
         "y": [
          929.4485424973043
         ],
         "z": [
          729.2239761364158
         ]
        },
        {
         "line": {
          "color": "gray",
          "dash": "dash"
         },
         "mode": "lines",
         "name": "Hakenlinie",
         "type": "scatter3d",
         "x": [
          -78.56366918206726,
          -86.03338858367687
         ],
         "y": [
          922.3825730332476,
          930.0360388523495
         ],
         "z": [
          739.6005142064153,
          734.103251627065
         ]
        },
        {
         "marker": {
          "color": "magenta",
          "size": 8
         },
         "mode": "markers",
         "name": "Spitze",
         "type": "scatter3d",
         "x": [
          -78.56366918206726
         ],
         "y": [
          922.3825730332476
         ],
         "z": [
          739.6005142064153
         ]
        },
        {
         "marker": {
          "color": "magenta",
          "size": 8
         },
         "mode": "markers",
         "name": "Senke",
         "type": "scatter3d",
         "x": [
          -86.03338858367687
         ],
         "y": [
          930.0360388523495
         ],
         "z": [
          734.103251627065
         ]
        },
        {
         "mode": "text",
         "showlegend": false,
         "text": [
          "Spitze"
         ],
         "textfont": {
          "size": 10
         },
         "textposition": "top center",
         "type": "scatter3d",
         "x": [
          -78.56366918206726
         ],
         "y": [
          922.3825730332476
         ],
         "z": [
          739.6005142064153
         ]
        },
        {
         "mode": "text",
         "showlegend": false,
         "text": [
          "Senke"
         ],
         "textfont": {
          "size": 10
         },
         "textposition": "top center",
         "type": "scatter3d",
         "x": [
          -86.03338858367687
         ],
         "y": [
          930.0360388523495
         ],
         "z": [
          734.103251627065
         ]
        }
       ],
       "layout": {
        "legend": {
         "title": {
          "text": "Legende"
         }
        },
        "scene": {
         "aspectmode": "cube",
         "xaxis": {
          "title": {
           "text": "X"
          }
         },
         "yaxis": {
          "title": {
           "text": "Y"
          }
         },
         "zaxis": {
          "title": {
           "text": "Z"
          }
         }
        },
        "template": {
         "data": {
          "bar": [
           {
            "error_x": {
             "color": "#2a3f5f"
            },
            "error_y": {
             "color": "#2a3f5f"
            },
            "marker": {
             "line": {
              "color": "#E5ECF6",
              "width": 0.5
             },
             "pattern": {
              "fillmode": "overlay",
              "size": 10,
              "solidity": 0.2
             }
            },
            "type": "bar"
           }
          ],
          "barpolar": [
           {
            "marker": {
             "line": {
              "color": "#E5ECF6",
              "width": 0.5
             },
             "pattern": {
              "fillmode": "overlay",
              "size": 10,
              "solidity": 0.2
             }
            },
            "type": "barpolar"
           }
          ],
          "carpet": [
           {
            "aaxis": {
             "endlinecolor": "#2a3f5f",
             "gridcolor": "white",
             "linecolor": "white",
             "minorgridcolor": "white",
             "startlinecolor": "#2a3f5f"
            },
            "baxis": {
             "endlinecolor": "#2a3f5f",
             "gridcolor": "white",
             "linecolor": "white",
             "minorgridcolor": "white",
             "startlinecolor": "#2a3f5f"
            },
            "type": "carpet"
           }
          ],
          "choropleth": [
           {
            "colorbar": {
             "outlinewidth": 0,
             "ticks": ""
            },
            "type": "choropleth"
           }
          ],
          "contour": [
           {
            "colorbar": {
             "outlinewidth": 0,
             "ticks": ""
            },
            "colorscale": [
             [
              0,
              "#0d0887"
             ],
             [
              0.1111111111111111,
              "#46039f"
             ],
             [
              0.2222222222222222,
              "#7201a8"
             ],
             [
              0.3333333333333333,
              "#9c179e"
             ],
             [
              0.4444444444444444,
              "#bd3786"
             ],
             [
              0.5555555555555556,
              "#d8576b"
             ],
             [
              0.6666666666666666,
              "#ed7953"
             ],
             [
              0.7777777777777778,
              "#fb9f3a"
             ],
             [
              0.8888888888888888,
              "#fdca26"
             ],
             [
              1,
              "#f0f921"
             ]
            ],
            "type": "contour"
           }
          ],
          "contourcarpet": [
           {
            "colorbar": {
             "outlinewidth": 0,
             "ticks": ""
            },
            "type": "contourcarpet"
           }
          ],
          "heatmap": [
           {
            "colorbar": {
             "outlinewidth": 0,
             "ticks": ""
            },
            "colorscale": [
             [
              0,
              "#0d0887"
             ],
             [
              0.1111111111111111,
              "#46039f"
             ],
             [
              0.2222222222222222,
              "#7201a8"
             ],
             [
              0.3333333333333333,
              "#9c179e"
             ],
             [
              0.4444444444444444,
              "#bd3786"
             ],
             [
              0.5555555555555556,
              "#d8576b"
             ],
             [
              0.6666666666666666,
              "#ed7953"
             ],
             [
              0.7777777777777778,
              "#fb9f3a"
             ],
             [
              0.8888888888888888,
              "#fdca26"
             ],
             [
              1,
              "#f0f921"
             ]
            ],
            "type": "heatmap"
           }
          ],
          "histogram": [
           {
            "marker": {
             "pattern": {
              "fillmode": "overlay",
              "size": 10,
              "solidity": 0.2
             }
            },
            "type": "histogram"
           }
          ],
          "histogram2d": [
           {
            "colorbar": {
             "outlinewidth": 0,
             "ticks": ""
            },
            "colorscale": [
             [
              0,
              "#0d0887"
             ],
             [
              0.1111111111111111,
              "#46039f"
             ],
             [
              0.2222222222222222,
              "#7201a8"
             ],
             [
              0.3333333333333333,
              "#9c179e"
             ],
             [
              0.4444444444444444,
              "#bd3786"
             ],
             [
              0.5555555555555556,
              "#d8576b"
             ],
             [
              0.6666666666666666,
              "#ed7953"
             ],
             [
              0.7777777777777778,
              "#fb9f3a"
             ],
             [
              0.8888888888888888,
              "#fdca26"
             ],
             [
              1,
              "#f0f921"
             ]
            ],
            "type": "histogram2d"
           }
          ],
          "histogram2dcontour": [
           {
            "colorbar": {
             "outlinewidth": 0,
             "ticks": ""
            },
            "colorscale": [
             [
              0,
              "#0d0887"
             ],
             [
              0.1111111111111111,
              "#46039f"
             ],
             [
              0.2222222222222222,
              "#7201a8"
             ],
             [
              0.3333333333333333,
              "#9c179e"
             ],
             [
              0.4444444444444444,
              "#bd3786"
             ],
             [
              0.5555555555555556,
              "#d8576b"
             ],
             [
              0.6666666666666666,
              "#ed7953"
             ],
             [
              0.7777777777777778,
              "#fb9f3a"
             ],
             [
              0.8888888888888888,
              "#fdca26"
             ],
             [
              1,
              "#f0f921"
             ]
            ],
            "type": "histogram2dcontour"
           }
          ],
          "mesh3d": [
           {
            "colorbar": {
             "outlinewidth": 0,
             "ticks": ""
            },
            "type": "mesh3d"
           }
          ],
          "parcoords": [
           {
            "line": {
             "colorbar": {
              "outlinewidth": 0,
              "ticks": ""
             }
            },
            "type": "parcoords"
           }
          ],
          "pie": [
           {
            "automargin": true,
            "type": "pie"
           }
          ],
          "scatter": [
           {
            "fillpattern": {
             "fillmode": "overlay",
             "size": 10,
             "solidity": 0.2
            },
            "type": "scatter"
           }
          ],
          "scatter3d": [
           {
            "line": {
             "colorbar": {
              "outlinewidth": 0,
              "ticks": ""
             }
            },
            "marker": {
             "colorbar": {
              "outlinewidth": 0,
              "ticks": ""
             }
            },
            "type": "scatter3d"
           }
          ],
          "scattercarpet": [
           {
            "marker": {
             "colorbar": {
              "outlinewidth": 0,
              "ticks": ""
             }
            },
            "type": "scattercarpet"
           }
          ],
          "scattergeo": [
           {
            "marker": {
             "colorbar": {
              "outlinewidth": 0,
              "ticks": ""
             }
            },
            "type": "scattergeo"
           }
          ],
          "scattergl": [
           {
            "marker": {
             "colorbar": {
              "outlinewidth": 0,
              "ticks": ""
             }
            },
            "type": "scattergl"
           }
          ],
          "scattermap": [
           {
            "marker": {
             "colorbar": {
              "outlinewidth": 0,
              "ticks": ""
             }
            },
            "type": "scattermap"
           }
          ],
          "scattermapbox": [
           {
            "marker": {
             "colorbar": {
              "outlinewidth": 0,
              "ticks": ""
             }
            },
            "type": "scattermapbox"
           }
          ],
          "scatterpolar": [
           {
            "marker": {
             "colorbar": {
              "outlinewidth": 0,
              "ticks": ""
             }
            },
            "type": "scatterpolar"
           }
          ],
          "scatterpolargl": [
           {
            "marker": {
             "colorbar": {
              "outlinewidth": 0,
              "ticks": ""
             }
            },
            "type": "scatterpolargl"
           }
          ],
          "scatterternary": [
           {
            "marker": {
             "colorbar": {
              "outlinewidth": 0,
              "ticks": ""
             }
            },
            "type": "scatterternary"
           }
          ],
          "surface": [
           {
            "colorbar": {
             "outlinewidth": 0,
             "ticks": ""
            },
            "colorscale": [
             [
              0,
              "#0d0887"
             ],
             [
              0.1111111111111111,
              "#46039f"
             ],
             [
              0.2222222222222222,
              "#7201a8"
             ],
             [
              0.3333333333333333,
              "#9c179e"
             ],
             [
              0.4444444444444444,
              "#bd3786"
             ],
             [
              0.5555555555555556,
              "#d8576b"
             ],
             [
              0.6666666666666666,
              "#ed7953"
             ],
             [
              0.7777777777777778,
              "#fb9f3a"
             ],
             [
              0.8888888888888888,
              "#fdca26"
             ],
             [
              1,
              "#f0f921"
             ]
            ],
            "type": "surface"
           }
          ],
          "table": [
           {
            "cells": {
             "fill": {
              "color": "#EBF0F8"
             },
             "line": {
              "color": "white"
             }
            },
            "header": {
             "fill": {
              "color": "#C8D4E3"
             },
             "line": {
              "color": "white"
             }
            },
            "type": "table"
           }
          ]
         },
         "layout": {
          "annotationdefaults": {
           "arrowcolor": "#2a3f5f",
           "arrowhead": 0,
           "arrowwidth": 1
          },
          "autotypenumbers": "strict",
          "coloraxis": {
           "colorbar": {
            "outlinewidth": 0,
            "ticks": ""
           }
          },
          "colorscale": {
           "diverging": [
            [
             0,
             "#8e0152"
            ],
            [
             0.1,
             "#c51b7d"
            ],
            [
             0.2,
             "#de77ae"
            ],
            [
             0.3,
             "#f1b6da"
            ],
            [
             0.4,
             "#fde0ef"
            ],
            [
             0.5,
             "#f7f7f7"
            ],
            [
             0.6,
             "#e6f5d0"
            ],
            [
             0.7,
             "#b8e186"
            ],
            [
             0.8,
             "#7fbc41"
            ],
            [
             0.9,
             "#4d9221"
            ],
            [
             1,
             "#276419"
            ]
           ],
           "sequential": [
            [
             0,
             "#0d0887"
            ],
            [
             0.1111111111111111,
             "#46039f"
            ],
            [
             0.2222222222222222,
             "#7201a8"
            ],
            [
             0.3333333333333333,
             "#9c179e"
            ],
            [
             0.4444444444444444,
             "#bd3786"
            ],
            [
             0.5555555555555556,
             "#d8576b"
            ],
            [
             0.6666666666666666,
             "#ed7953"
            ],
            [
             0.7777777777777778,
             "#fb9f3a"
            ],
            [
             0.8888888888888888,
             "#fdca26"
            ],
            [
             1,
             "#f0f921"
            ]
           ],
           "sequentialminus": [
            [
             0,
             "#0d0887"
            ],
            [
             0.1111111111111111,
             "#46039f"
            ],
            [
             0.2222222222222222,
             "#7201a8"
            ],
            [
             0.3333333333333333,
             "#9c179e"
            ],
            [
             0.4444444444444444,
             "#bd3786"
            ],
            [
             0.5555555555555556,
             "#d8576b"
            ],
            [
             0.6666666666666666,
             "#ed7953"
            ],
            [
             0.7777777777777778,
             "#fb9f3a"
            ],
            [
             0.8888888888888888,
             "#fdca26"
            ],
            [
             1,
             "#f0f921"
            ]
           ]
          },
          "colorway": [
           "#636efa",
           "#EF553B",
           "#00cc96",
           "#ab63fa",
           "#FFA15A",
           "#19d3f3",
           "#FF6692",
           "#B6E880",
           "#FF97FF",
           "#FECB52"
          ],
          "font": {
           "color": "#2a3f5f"
          },
          "geo": {
           "bgcolor": "white",
           "lakecolor": "white",
           "landcolor": "#E5ECF6",
           "showlakes": true,
           "showland": true,
           "subunitcolor": "white"
          },
          "hoverlabel": {
           "align": "left"
          },
          "hovermode": "closest",
          "mapbox": {
           "style": "light"
          },
          "paper_bgcolor": "white",
          "plot_bgcolor": "#E5ECF6",
          "polar": {
           "angularaxis": {
            "gridcolor": "white",
            "linecolor": "white",
            "ticks": ""
           },
           "bgcolor": "#E5ECF6",
           "radialaxis": {
            "gridcolor": "white",
            "linecolor": "white",
            "ticks": ""
           }
          },
          "scene": {
           "xaxis": {
            "backgroundcolor": "#E5ECF6",
            "gridcolor": "white",
            "gridwidth": 2,
            "linecolor": "white",
            "showbackground": true,
            "ticks": "",
            "zerolinecolor": "white"
           },
           "yaxis": {
            "backgroundcolor": "#E5ECF6",
            "gridcolor": "white",
            "gridwidth": 2,
            "linecolor": "white",
            "showbackground": true,
            "ticks": "",
            "zerolinecolor": "white"
           },
           "zaxis": {
            "backgroundcolor": "#E5ECF6",
            "gridcolor": "white",
            "gridwidth": 2,
            "linecolor": "white",
            "showbackground": true,
            "ticks": "",
            "zerolinecolor": "white"
           }
          },
          "shapedefaults": {
           "line": {
            "color": "#2a3f5f"
           }
          },
          "ternary": {
           "aaxis": {
            "gridcolor": "white",
            "linecolor": "white",
            "ticks": ""
           },
           "baxis": {
            "gridcolor": "white",
            "linecolor": "white",
            "ticks": ""
           },
           "bgcolor": "#E5ECF6",
           "caxis": {
            "gridcolor": "white",
            "linecolor": "white",
            "ticks": ""
           }
          },
          "title": {
           "x": 0.05
          },
          "xaxis": {
           "automargin": true,
           "gridcolor": "white",
           "linecolor": "white",
           "ticks": "",
           "title": {
            "standoff": 15
           },
           "zerolinecolor": "white",
           "zerolinewidth": 2
          },
          "yaxis": {
           "automargin": true,
           "gridcolor": "white",
           "linecolor": "white",
           "ticks": "",
           "title": {
            "standoff": 15
           },
           "zerolinecolor": "white",
           "zerolinewidth": 2
          }
         }
        },
        "title": {
         "text": "Haken 12, Trajektorien-Ansatz 4"
        }
       }
      }
     },
     "metadata": {},
     "output_type": "display_data"
    }
   ],
   "source": [
    "hook_num = 12\n",
    "\n",
    "visualize_rectangles_html(\n",
    "    rectangles = rectangles_1,\n",
    "    secondary_rectangles = rectangles_optim,\n",
    "    secondary_legend_title = 'optimale Trajektorie',\n",
    "    connect_points = (trajectory_1[1][0], trajectory_1[-1][0]),\n",
    "    hook_num = hook_num,\n",
    "    trajectory_process = 1,\n",
    "    html_filename = 'traj1.html'\n",
    "    )\n",
    "\n",
    "visualize_rectangles_html(\n",
    "    rectangles = rectangles_2,\n",
    "    secondary_rectangles = rectangles_optim,\n",
    "    secondary_legend_title = 'optimale Trajektorie',\n",
    "    connect_points = (trajectory_1[1][0], trajectory_1[-1][0]),\n",
    "    hook_num = hook_num,\n",
    "    trajectory_process = 2,\n",
    "    html_filename = 'traj2.html'\n",
    "    )\n",
    "\n",
    "visualize_rectangles_html(\n",
    "    rectangles = rectangles_3,\n",
    "    secondary_rectangles = rectangles_optim,\n",
    "    secondary_legend_title = 'optimale Trajektorie',\n",
    "    connect_points = (trajectory_1[1][0], trajectory_1[-1][0]),\n",
    "    hook_num = hook_num,\n",
    "    trajectory_process = 3,\n",
    "    html_filename = 'traj3.html'\n",
    "    )\n",
    "\n",
    "visualize_rectangles_html(\n",
    "    rectangles = rectangles_4,\n",
    "    secondary_rectangles = rectangles_optim,\n",
    "    secondary_legend_title = 'optimale Trajektorie',\n",
    "    connect_points = (trajectory_1[1][0], trajectory_1[-1][0]),\n",
    "    hook_num = hook_num,\n",
    "    trajectory_process = 4,\n",
    "    html_filename = 'traj4.html'\n",
    "    )"
   ]
  },
  {
   "cell_type": "code",
   "execution_count": null,
   "id": "eaca27e4",
   "metadata": {},
   "outputs": [],
   "source": []
  }
 ],
 "metadata": {
  "kernelspec": {
   "display_name": "Python 3",
   "language": "python",
   "name": "python3"
  },
  "language_info": {
   "codemirror_mode": {
    "name": "ipython",
    "version": 3
   },
   "file_extension": ".py",
   "mimetype": "text/x-python",
   "name": "python",
   "nbconvert_exporter": "python",
   "pygments_lexer": "ipython3",
   "version": "3.8.10"
  }
 },
 "nbformat": 4,
 "nbformat_minor": 5
}
