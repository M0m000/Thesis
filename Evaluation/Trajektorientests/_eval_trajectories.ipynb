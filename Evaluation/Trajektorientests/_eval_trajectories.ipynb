{
 "cells": [
  {
   "cell_type": "code",
   "execution_count": 35,
   "id": "c56fbbd2",
   "metadata": {},
   "outputs": [],
   "source": [
    "import csv\n",
    "import numpy as np\n",
    "from scipy.spatial.transform import Rotation as R\n",
    "import matplotlib.pyplot as plt\n",
    "from mpl_toolkits.mplot3d.art3d import Poly3DCollection\n",
    "import matplotlib.cm as cm\n",
    "import plotly.graph_objects as go\n",
    "from FC.FC_frame_handler import FrameHandler"
   ]
  },
  {
   "cell_type": "markdown",
   "id": "d43cbb9f",
   "metadata": {},
   "source": [
    "### **Trajektorien CSVs laden**"
   ]
  },
  {
   "cell_type": "code",
   "execution_count": 19,
   "id": "ce8ad287",
   "metadata": {},
   "outputs": [],
   "source": [
    "def load_csv_to_trajectory(filepath):\n",
    "    \"\"\"Lädt die CSV und stellt Trajektorie-Liste wieder her\"\"\"\n",
    "    trajectory = []\n",
    "    with open(filepath, mode='r', newline='') as file:\n",
    "        reader = csv.reader(file)\n",
    "        next(reader)  # Überspringe Kopfzeile\n",
    "\n",
    "        for row in reader:\n",
    "            numbers = list(map(float, row))\n",
    "            trans = numbers[:3]\n",
    "            rot = numbers[3:]\n",
    "            trajectory.append((trans, rot))\n",
    "    return trajectory"
   ]
  },
  {
   "cell_type": "code",
   "execution_count": 20,
   "id": "fa040c5d",
   "metadata": {},
   "outputs": [],
   "source": [
    "hook_num = 17\n",
    "v = 10\n",
    "hook_model = 'D'"
   ]
  },
  {
   "cell_type": "code",
   "execution_count": 21,
   "id": "6ae1d02a",
   "metadata": {},
   "outputs": [],
   "source": [
    "traj_optim_path = traj_1_path = '/home/mo/Thesis/Evaluation/Trajektorientests/Modell' + hook_model + '/v_' + str(v) + '/' + str(hook_num) + '/trajectory_0.csv'\n",
    "traj_1_path = '/home/mo/Thesis/Evaluation/Trajektorientests/Modell' + hook_model + '/v_' + str(v) + '/' + str(hook_num) + '/trajectory_1.csv'\n",
    "traj_2_path = '/home/mo/Thesis/Evaluation/Trajektorientests/Modell' + hook_model + '/v_' + str(v) + '/' + str(hook_num) + '/trajectory_2.csv'\n",
    "traj_3_path = '/home/mo/Thesis/Evaluation/Trajektorientests/Modell' + hook_model + '/v_' + str(v) + '/' + str(hook_num) + '/trajectory_3.csv'\n",
    "traj_4_path = '/home/mo/Thesis/Evaluation/Trajektorientests/Modell' + hook_model + '/v_' + str(v) + '/' + str(hook_num) + '/trajectory_4.csv'"
   ]
  },
  {
   "cell_type": "code",
   "execution_count": 22,
   "id": "aad60faa",
   "metadata": {},
   "outputs": [],
   "source": [
    "trajectory_optim = load_csv_to_trajectory(traj_optim_path)\n",
    "trajectory_1 = load_csv_to_trajectory(traj_1_path)\n",
    "trajectory_2 = load_csv_to_trajectory(traj_2_path)\n",
    "trajectory_3 = load_csv_to_trajectory(traj_3_path)\n",
    "trajectory_4 = load_csv_to_trajectory(traj_4_path)"
   ]
  },
  {
   "cell_type": "markdown",
   "id": "d66a9f4b",
   "metadata": {},
   "source": [
    "### **Euklidsche Distanz**"
   ]
  },
  {
   "cell_type": "code",
   "execution_count": 23,
   "id": "549aa99e",
   "metadata": {},
   "outputs": [],
   "source": [
    "def interpolate_trajectory(traj, num_points):\n",
    "    \"\"\"\n",
    "    Interpoliert eine Trajektorie auf `num_points` gleichmäßig verteilte Punkte.\n",
    "    Nur die translatorischen Komponenten werden verwendet (3D Punkte).\n",
    "    \"\"\"\n",
    "    positions = np.array([p[0] for p in traj])  # Nur Positionen\n",
    "    rotations = np.array([p[1] for p in traj])  # Nur Rotationen\n",
    "    \n",
    "    # Abstände zwischen aufeinanderfolgenden Punkten\n",
    "    deltas_trans = np.linalg.norm(np.diff(positions, axis=0), axis=1)\n",
    "    deltas_rot = np.linalg.norm(np.diff(rotations, axis=0), axis=1)\n",
    "    cumulative_dist_trans = np.concatenate([[0], np.cumsum(deltas_trans)])\n",
    "    cumulative_dist_rot = np.concatenate([[0], np.cumsum(deltas_rot)])\n",
    "    \n",
    "    # Gleichmäßig verteilte Distanzen entlang der Trajektorie\n",
    "    target_distances_trans = np.linspace(0, cumulative_dist_trans[-1], num_points)\n",
    "    target_distances_rot = np.linspace(0, cumulative_dist_rot[-1], num_points)\n",
    "\n",
    "    # Interpolation\n",
    "    interp_positions = []\n",
    "    interp_rotations = []\n",
    "\n",
    "    for dist in target_distances_trans:\n",
    "        idx = np.searchsorted(cumulative_dist_trans, dist) - 1\n",
    "        idx = np.clip(idx, 0, len(positions) - 2)\n",
    "        # Lokale lineare Interpolation\n",
    "        t = (dist - cumulative_dist_trans[idx]) / (cumulative_dist_trans[idx + 1] - cumulative_dist_trans[idx])\n",
    "        point = (1 - t) * positions[idx] + t * positions[idx + 1]\n",
    "        interp_positions.append(point)\n",
    "    \n",
    "    for rot in target_distances_rot:\n",
    "        idx = np.searchsorted(cumulative_dist_rot, rot) - 1\n",
    "        idx = np.clip(idx, 0, len(rotations) - 2)\n",
    "        # Lokale lineare Interpolation\n",
    "        t = (rot - cumulative_dist_rot[idx]) / (cumulative_dist_rot[idx + 1] - cumulative_dist_rot[idx])\n",
    "        point = (1 - t) * rotations[idx] + t * rotations[idx + 1]\n",
    "        interp_rotations.append(point)\n",
    "    \n",
    "    return np.array(interp_positions), np.array(interp_rotations)\n",
    "\n",
    "\n",
    "def trajectory_distance(traj1, traj2, num_points=10):\n",
    "    \"\"\"\n",
    "    Vergleicht zwei Trajektorien anhand von `num_points` gleichverteilten Punkten.\n",
    "    Gibt die euklidischen Abstände zurück (Liste) und den Mittelwert.\n",
    "    \"\"\"\n",
    "    interp1_trans, interp1_rot = interpolate_trajectory(traj1, num_points)\n",
    "    interp2_trans, interp2_rot = interpolate_trajectory(traj2, num_points)\n",
    "\n",
    "    # Punktweise euklidischer Abstand\n",
    "    distances = np.linalg.norm(interp1_trans - interp2_trans, axis=1)\n",
    "    rotations = np.linalg.norm(interp1_rot - interp2_rot, axis=1)\n",
    "    mean_distance = np.mean(distances)\n",
    "    mean_rotation = np.mean(rotations)\n",
    "    max_distance = np.max(distances)\n",
    "    max_rotation = np.max(rotations)\n",
    "    return distances, mean_distance, max_distance, rotations, mean_rotation, max_rotation"
   ]
  },
  {
   "cell_type": "code",
   "execution_count": 24,
   "id": "2fc24563",
   "metadata": {},
   "outputs": [],
   "source": [
    "def plot_trajectory_distances(\n",
    "    distances=None, \n",
    "    mean_distance=None, \n",
    "    max_distance=None, \n",
    "    rotations=None, \n",
    "    mean_rotation=None, \n",
    "    max_rotation=None, \n",
    "    hook_num=0, \n",
    "    trajectory_process=4\n",
    "):\n",
    "    \"\"\"\n",
    "    Plottet die euklidischen Distanzen und Rotationen entlang der interpolierten Punkte.\n",
    "    \"\"\"\n",
    "\n",
    "    %matplotlib inline\n",
    "    \n",
    "    fig, (ax1, ax2) = plt.subplots(2, 1, figsize=(10, 8), sharex=True)\n",
    "    fig.suptitle(f\"Vergleich zwischen optimaler und berechneter Trajektorie - Haken {hook_num}, Trajektorie-Ansatz {trajectory_process} – Distanz\", fontsize=14)\n",
    "\n",
    "    # Plot 1: Euklidische Distanzen\n",
    "    ax1.set_title(f\"Euklidsche Distanz translatorisch\")\n",
    "    ax1.plot(range(1, len(distances) + 1), distances, linestyle='-', marker = '.', label='Euklidische Distanz [mm]')\n",
    "\n",
    "    if mean_distance is not None:\n",
    "        ax1.plot(range(1, len(distances) + 1), [mean_distance] * len(distances), linestyle='--', color='red', label='Mittelwert')\n",
    "    \n",
    "    if max_distance is not None:\n",
    "        ax1.plot(range(1, len(distances) + 1), [max_distance] * len(distances), linestyle='--', color='magenta', label=f\"Max-Wert - {max_distance:.3f}mm\")\n",
    "\n",
    "    ax1.set_ylabel(\"Distanz [mm]\")\n",
    "    ax1.grid(True)\n",
    "    ax1.legend()\n",
    "\n",
    "    \n",
    "    # Plot 2: Rotationen\n",
    "    ax2.set_title(\"Euklidsche Distanz rotatorisch\")\n",
    "    if rotations is not None:\n",
    "        ax2.plot(range(1, len(rotations) + 1), rotations, linestyle='-', marker = '.', label='Rotationsabweichung [°]', color='orange')\n",
    "\n",
    "        if mean_rotation is not None:\n",
    "            ax2.plot(range(1, len(rotations) + 1), [mean_rotation] * len(rotations), linestyle='--', color='red', label='Mittelwert')\n",
    "        \n",
    "        if max_rotation is not None:\n",
    "            ax2.plot(range(1, len(rotations) + 1), [max_rotation] * len(rotations), linestyle='--', color='magenta', label=f\"Max-Wert - {max_rotation:.3f}°\")\n",
    "\n",
    "        ax2.set_ylabel(\"Rotation [°]\")\n",
    "        ax2.grid(True)\n",
    "        ax2.legend()\n",
    "    else:\n",
    "        ax2.text(0.5, 0.5, \"Keine Rotationsdaten verfügbar\", ha='center', va='center', transform=ax2.transAxes)\n",
    "        ax2.axis('off')\n",
    "    \n",
    "    ax2.set_xlabel(\"Punktindex (entlang der Trajektorie)\")\n",
    "    plt.tight_layout(rect=[0, 0, 1, 0.95])  # Platz für Suptitle\n",
    "    plt.show()"
   ]
  },
  {
   "cell_type": "code",
   "execution_count": 25,
   "id": "0f0e378a",
   "metadata": {},
   "outputs": [],
   "source": [
    "distances, mean_distance, max_distance, rotations, mean_rotation, max_rotation = trajectory_distance(trajectory_1, trajectory_optim, 100)\n",
    "# plot_trajectory_distances(distances, mean_distance, max_distance, rotations, mean_rotation, max_rotation, hook_num = hook_num, trajectory_process = 4)"
   ]
  },
  {
   "cell_type": "markdown",
   "id": "efe3dd89",
   "metadata": {},
   "source": [
    "### **Absolute Distanzen**"
   ]
  },
  {
   "cell_type": "code",
   "execution_count": 26,
   "id": "74d6bbd8",
   "metadata": {},
   "outputs": [],
   "source": [
    "def trajectory_difference(traj1, traj2, num_points=10):\n",
    "    \"\"\"\n",
    "    Vergleicht zwei Trajektorien anhand von `num_points` gleichverteilten Punkten.\n",
    "    Gibt die vorzeichenbehafteten Differenzen für Translation und Rotation zurück.\n",
    "    Rückgabe:\n",
    "        diffs_trans: (num_points, 3) - x, y, z\n",
    "        diffs_rot:   (num_points, 3) - roll, pitch, yaw\n",
    "    \"\"\"\n",
    "    interp1_trans, interp1_rot = interpolate_trajectory(traj1, num_points)\n",
    "    interp2_trans, interp2_rot = interpolate_trajectory(traj2, num_points)\n",
    "\n",
    "    # Vorzeichenbehaftete Differenzen\n",
    "    diffs_trans = interp1_trans - interp2_trans\n",
    "    diffs_rot = interp1_rot - interp2_rot\n",
    "\n",
    "    return diffs_trans, diffs_rot"
   ]
  },
  {
   "cell_type": "code",
   "execution_count": 27,
   "id": "0dd37334",
   "metadata": {},
   "outputs": [],
   "source": [
    "def plot_signed_trajectory_differences(\n",
    "    diffs_trans, \n",
    "    diffs_rot, \n",
    "    hook_num=0, \n",
    "    trajectory_process=4\n",
    "):\n",
    "    \"\"\"\n",
    "    Plottet die vorzeichenbehafteten Differenzen (x, y, z, roll, pitch, yaw) \n",
    "    entlang der interpolierten Punkte.\n",
    "    \"\"\"\n",
    "\n",
    "    %matplotlib inline\n",
    "    \n",
    "    num_points = diffs_trans.shape[0]\n",
    "    indices = range(1, num_points + 1)\n",
    "\n",
    "    fig, (ax1, ax2) = plt.subplots(2, 1, figsize=(10, 8), sharex=True)\n",
    "    fig.suptitle(f\"Vorzeichenbehaftete Differenzen – Haken {hook_num}, Trajektorie-Ansatz {trajectory_process}\", fontsize=14)\n",
    "\n",
    "    # --- Plot 1: Translation (x, y, z) ---\n",
    "    ax1.set_title(\"Translation: Abweichung in x, y, z [mm]\")\n",
    "    ax1.plot(indices, diffs_trans[:, 0], label=\"x [mm]\", marker='.', linestyle='-', color='blue')\n",
    "    ax1.plot(indices, diffs_trans[:, 1], label=\"y [mm]\", marker='.',linestyle='-', color='green')\n",
    "    ax1.plot(indices, diffs_trans[:, 2], label=\"z [mm]\", marker='.',linestyle='-', color='purple')\n",
    "    ax1.axhline(0, color='gray', linestyle='--', linewidth=0.8)\n",
    "\n",
    "    ax1.set_ylabel(\"Abweichung [mm]\")\n",
    "    ax1.grid(True)\n",
    "    ax1.legend()\n",
    "\n",
    "    # --- Plot 2: Rotation (roll, pitch, yaw) ---\n",
    "    ax2.set_title(\"Rotation: Abweichung in Roll, Pitch, Yaw [°]\")\n",
    "    ax2.plot(indices, diffs_rot[:, 0], label=\"roll [°]\", marker='.',linestyle='-', color='orange')\n",
    "    ax2.plot(indices, diffs_rot[:, 1], label=\"pitch [°]\", marker='.',linestyle='-', color='red')\n",
    "    ax2.plot(indices, diffs_rot[:, 2], label=\"yaw [°]\", marker='.',linestyle='-', color='brown')\n",
    "    ax2.axhline(0, color='gray', linestyle='--', linewidth=0.8)\n",
    "\n",
    "    ax2.set_xlabel(\"Punktindex (entlang der Trajektorie)\")\n",
    "    ax2.set_ylabel(\"Abweichung [°]\")\n",
    "    ax2.grid(True)\n",
    "    ax2.legend()\n",
    "\n",
    "    plt.tight_layout(rect=[0, 0, 1, 0.95])\n",
    "    plt.show()"
   ]
  },
  {
   "cell_type": "code",
   "execution_count": 28,
   "id": "0fccff97",
   "metadata": {},
   "outputs": [],
   "source": [
    "diffs_trans, diffs_rot = trajectory_difference(trajectory_1, trajectory_optim, 100)\n",
    "# plot_signed_trajectory_differences(diffs_trans, diffs_rot, hook_num=2, trajectory_process=1)"
   ]
  },
  {
   "cell_type": "markdown",
   "id": "170527fd",
   "metadata": {},
   "source": [
    "### **3D-Darstellung**"
   ]
  },
  {
   "cell_type": "code",
   "execution_count": 29,
   "id": "edfb46e9",
   "metadata": {},
   "outputs": [],
   "source": [
    "def compute_rectangle_corners(trajectory, width=8, height=12):\n",
    "    \"\"\"\n",
    "    Berechnet die Rechteck-Eckpunkte (4 Stück) für jeden Trajektorienpunkt.\n",
    "\n",
    "    :param trajectory: Liste von ([x, y, z], [roll, pitch, yaw]) Einträgen\n",
    "    :param width: Breite des Rechtecks (in X-Richtung)\n",
    "    :param height: Höhe des Rechtecks (in Y-Richtung)\n",
    "    :return: Liste von Rechtecken, jedes als Liste von 4 Eckpunkten (jeweils [x, y, z])\n",
    "    \"\"\"\n",
    "    rectangles = []\n",
    "\n",
    "    # Rechteck im lokalen TCP-Koordinatensystem (XY-Ebene, Zentrum im Ursprung)\n",
    "    half_w = width / 2\n",
    "    half_h = height / 2\n",
    "    local_corners = np.array([\n",
    "        [-half_w, 0, -half_h],\n",
    "        [ half_w, 0, -half_h],\n",
    "        [ half_w, 0, half_h],\n",
    "        [-half_w, 0, half_h]\n",
    "    ])\n",
    "\n",
    "    for trans, rpy in trajectory:\n",
    "        # RPY in Radiant, falls nicht schon so\n",
    "        rot = R.from_euler('xyz', rpy, degrees=True)\n",
    "        rotated_corners = rot.apply(local_corners)\n",
    "        translated_corners = rotated_corners + np.array(trans)\n",
    "        rectangles.append(translated_corners.tolist())\n",
    "    return rectangles"
   ]
  },
  {
   "cell_type": "code",
   "execution_count": 30,
   "id": "05d04c48",
   "metadata": {},
   "outputs": [],
   "source": [
    "rectangles_optim = compute_rectangle_corners(trajectory_optim)\n",
    "rectangles_1 = compute_rectangle_corners(trajectory_1)\n",
    "rectangles_2 = compute_rectangle_corners(trajectory_2)\n",
    "rectangles_3 = compute_rectangle_corners(trajectory_3)\n",
    "rectangles_4 = compute_rectangle_corners(trajectory_4)"
   ]
  },
  {
   "cell_type": "code",
   "execution_count": 31,
   "id": "f78ad7a3",
   "metadata": {},
   "outputs": [],
   "source": [
    "def visualize_rectangles(rectangles, figsize=(8, 8), connect_points=None, \n",
    "                         secondary_rectangles=None, secondary_legend_title=None,\n",
    "                         hook_num = 0, trajectory_process = 1):\n",
    "    \"\"\"\n",
    "    Visualisiert Rechtecke + Trajektorie im 3D-Raum mit Legende und Bezeichnungen der Trajektorienpunkte.\n",
    "    \n",
    "    Zusätzlich kann ein zweiter Satz Rechtecke (grau & transparent) dargestellt werden – inkl. Mittelpunktslinie.\n",
    "\n",
    "    :param rectangles: Liste von Rechtecken (jeweils 4 Punkte [x, y, z])\n",
    "    :param figsize: Größe der Plotfläche (Breite, Höhe)\n",
    "    :param connect_points: Optionales Tupel mit zwei Punkten [x, y, z], die verbunden werden sollen\n",
    "    :param secondary_rectangles: Optionaler zweiter Satz Rechtecke (werden grau dargestellt)\n",
    "    :param secondary_legend_title: Optionaler Legenden-Eintrag für die grauen Rechtecke\n",
    "    \"\"\"\n",
    "    %matplotlib qt\n",
    "\n",
    "    fig = plt.figure(figsize=figsize)\n",
    "    ax = fig.add_subplot(111, projection='3d')\n",
    "    fig.suptitle(f\"Einfädelung Trajektorie Spitze -> Senke (TCP in WORLD-Frame)\", fontsize=14, y=0.98)\n",
    "\n",
    "    centers = []\n",
    "    cmap = cm.get_cmap('tab20')\n",
    "    legend_handles = []\n",
    "\n",
    "    # Berechnete Trajektorie (farbig)\n",
    "    for i, rect in enumerate(rectangles):\n",
    "        color = cmap(i / len(rectangles))\n",
    "        poly = Poly3DCollection([rect], facecolors=color, alpha=0.2, edgecolors=color)\n",
    "        ax.add_collection3d(poly)\n",
    "\n",
    "        if i == 0:\n",
    "            label = 'Pre-Position'\n",
    "        elif i == 1:\n",
    "            label = 'Spitze'\n",
    "        elif i == len(rectangles) - 1:\n",
    "            label = 'Loslassen'\n",
    "        else:\n",
    "            label = str(i + 1)\n",
    "\n",
    "        legend_handles.append(plt.Line2D([0], [0], marker='o', color='w', label=label,\n",
    "                                         markersize=10, markerfacecolor=color))\n",
    "\n",
    "        center = np.mean(np.array(rect), axis=0)\n",
    "        centers.append(center)\n",
    "        ax.scatter(*center, color='red', s=30)\n",
    "        ax.text(center[0]-5, center[1]-5, center[2], f\"P{i}\", color=color, alpha = 0.8, fontsize=12)\n",
    "\n",
    "    # Linie durch die berechneten Mittelpunkte\n",
    "    centers = np.array(centers)\n",
    "    ax.plot(centers[:, 0], centers[:, 1], centers[:, 2], color='black', linewidth=2)\n",
    "\n",
    "    # Beschriftung Hauptlinie\n",
    "    if len(centers) > 0:\n",
    "        ax.text(*centers[0], 'Pre-Position', color='black', fontsize=10)\n",
    "    if len(centers) > 2:\n",
    "        ax.text(*centers[-1], 'Loslassen', color='black', fontsize=10)\n",
    "\n",
    "    # Optimal-Trajektorie (grün)\n",
    "    if secondary_rectangles is not None:\n",
    "        secondary_centers = []\n",
    "        for rect in secondary_rectangles:\n",
    "            poly = Poly3DCollection([rect], facecolors='green', alpha=0.1, edgecolors='green')\n",
    "            ax.add_collection3d(poly)\n",
    "\n",
    "            center = np.mean(np.array(rect), axis=0)\n",
    "            secondary_centers.append(center)\n",
    "            ax.scatter(*center, color='green', s=20)\n",
    "\n",
    "        # Linie durch grüne Mittelpunkte\n",
    "        secondary_centers = np.array(secondary_centers)\n",
    "        ax.plot(secondary_centers[:, 0], secondary_centers[:, 1], secondary_centers[:, 2],\n",
    "                color='green', linewidth=1, linestyle='-')\n",
    "\n",
    "        # Legendenhandle für Optimal-Trajektorie\n",
    "        if secondary_legend_title:\n",
    "            legend_handles.append(plt.Line2D([0], [0], marker='o', color='w', label=secondary_legend_title,\n",
    "                                             markersize=10, markerfacecolor='green'))\n",
    "\n",
    "    # Einzeichnen von Spitze und Senke inkl. graue Verbindungslinie\n",
    "    if connect_points is not None and len(connect_points) == 2:\n",
    "        p1, p2 = np.array(connect_points[0]), np.array(connect_points[1])\n",
    "        ax.plot([p1[0], p2[0]], [p1[1], p2[1]], [p1[2], p2[2]],\n",
    "                color='gray', linestyle='dashed', linewidth=2)\n",
    "        ax.scatter(*p1, 'o', color='magenta', linewidth=6)\n",
    "        ax.scatter(*p2, 'o', color='magenta', linewidth=6)\n",
    "        ax.text(*p1, 'Spitze', color='magenta', fontsize=12, ha='center')\n",
    "        ax.text(*p2, 'Senke', color='magenta', fontsize=12, ha='center')\n",
    "\n",
    "    # Achseneinstellungen\n",
    "    ax.set_xlabel('X')\n",
    "    ax.set_ylabel('Y')\n",
    "    ax.set_zlabel('Z')\n",
    "    ax.set_title(f\"Haken {hook_num}, Trajektorien-Ansatz {trajectory_process}\", fontsize = 10)\n",
    "\n",
    "    all_points = rectangles + (secondary_rectangles if secondary_rectangles else [])\n",
    "    all_points = np.vstack(all_points)\n",
    "    mid = np.mean(all_points, axis=0)\n",
    "    max_range = np.ptp(all_points, axis=0).max() / 2\n",
    "    for i, axis in enumerate([ax.set_xlim, ax.set_ylim, ax.set_zlim]):\n",
    "        axis(mid[i] - max_range, mid[i] + max_range)\n",
    "\n",
    "    ax.set_box_aspect([1, 1, 1])\n",
    "    ax.legend(handles=legend_handles, title=\"Trajektorien-Punkte\", loc='upper left')\n",
    "    plt.tight_layout(pad=0.5, w_pad=0.5, h_pad=0.5)\n",
    "    plt.show()"
   ]
  },
  {
   "cell_type": "code",
   "execution_count": 32,
   "id": "5a944d76",
   "metadata": {},
   "outputs": [
    {
     "data": {
      "text/plain": [
       "\"\\nvisualize_rectangles(rectangles = rectangles_1,\\n                     secondary_rectangles = rectangles_optim,\\n                     secondary_legend_title = 'optimale Trajektorie',\\n                     connect_points = (trajectory_1[1][0], trajectory_1[-1][0]),\\n                     hook_num = hook_num,\\n                     trajectory_process = 1)\\n\\nvisualize_rectangles(rectangles = rectangles_2,\\n                     secondary_rectangles = rectangles_optim,\\n                     secondary_legend_title = 'optimale Trajektorie',\\n                     connect_points = (trajectory_1[1][0], trajectory_1[-1][0]),\\n                     hook_num = hook_num,\\n                     trajectory_process = 2)\\n\\nvisualize_rectangles(rectangles = rectangles_3,\\n                     secondary_rectangles = rectangles_optim,\\n                     secondary_legend_title = 'optimale Trajektorie',\\n                     connect_points = (trajectory_1[1][0], trajectory_1[-1][0]),\\n                     hook_num = hook_num,\\n                     trajectory_process = 3)\\n\\nvisualize_rectangles(rectangles = rectangles_4,\\n                     secondary_rectangles = rectangles_optim,\\n                     secondary_legend_title = 'optimale Trajektorie',\\n                     connect_points = (trajectory_1[1][0], trajectory_1[-1][0]),\\n                     hook_num = hook_num,\\n                     trajectory_process = 4)\\n\""
      ]
     },
     "execution_count": 32,
     "metadata": {},
     "output_type": "execute_result"
    }
   ],
   "source": [
    "'''\n",
    "visualize_rectangles(rectangles = rectangles_1,\n",
    "                     secondary_rectangles = rectangles_optim,\n",
    "                     secondary_legend_title = 'optimale Trajektorie',\n",
    "                     connect_points = (trajectory_1[1][0], trajectory_1[-1][0]),\n",
    "                     hook_num = hook_num,\n",
    "                     trajectory_process = 1)\n",
    "\n",
    "visualize_rectangles(rectangles = rectangles_2,\n",
    "                     secondary_rectangles = rectangles_optim,\n",
    "                     secondary_legend_title = 'optimale Trajektorie',\n",
    "                     connect_points = (trajectory_1[1][0], trajectory_1[-1][0]),\n",
    "                     hook_num = hook_num,\n",
    "                     trajectory_process = 2)\n",
    "\n",
    "visualize_rectangles(rectangles = rectangles_3,\n",
    "                     secondary_rectangles = rectangles_optim,\n",
    "                     secondary_legend_title = 'optimale Trajektorie',\n",
    "                     connect_points = (trajectory_1[1][0], trajectory_1[-1][0]),\n",
    "                     hook_num = hook_num,\n",
    "                     trajectory_process = 3)\n",
    "\n",
    "visualize_rectangles(rectangles = rectangles_4,\n",
    "                     secondary_rectangles = rectangles_optim,\n",
    "                     secondary_legend_title = 'optimale Trajektorie',\n",
    "                     connect_points = (trajectory_1[1][0], trajectory_1[-1][0]),\n",
    "                     hook_num = hook_num,\n",
    "                     trajectory_process = 4)\n",
    "'''"
   ]
  },
  {
   "cell_type": "code",
   "execution_count": 33,
   "id": "0653e612",
   "metadata": {},
   "outputs": [],
   "source": [
    "def visualize_rectangles_html(rectangles, connect_points=None, \n",
    "                              secondary_rectangles=None, secondary_legend_title=None,\n",
    "                              hook_num=0, trajectory_process=1, html_filename=\"/home/mo/Thesis/Evaluation/Trajektorientests/CSV/plot_interaktiv.html\"):\n",
    "    \"\"\"\n",
    "    Visualisiert Rechtecke und Trajektorien im 3D-Raum als interaktive HTML-Datei.\n",
    "    \n",
    "    :param rectangles: Liste von Rechtecken (jeweils 4 Punkte [x, y, z])\n",
    "    :param figsize: Größe der Plotfläche (Breite, Höhe)\n",
    "    :param connect_points: Optionales Tupel mit zwei Punkten [x, y, z], die verbunden werden sollen\n",
    "    :param secondary_rectangles: Optionaler zweiter Satz Rechtecke (werden grau dargestellt)\n",
    "    :param secondary_legend_title: Optionaler Legenden-Eintrag für die grauen Rechtecke\n",
    "    :param html_filename: Der Name der HTML-Datei, die erstellt wird\n",
    "    \"\"\"\n",
    "    fig = go.Figure()\n",
    "\n",
    "    # Berechnete Trajektorie (farbig)\n",
    "    cmap = plt.cm.get_cmap('tab20')\n",
    "    centers = []\n",
    "\n",
    "    for i, rect in enumerate(rectangles):\n",
    "        # Verwende rgba-String für die Farbe (anstatt des RGBA-Tupels)\n",
    "        color = f\"rgba({int(cmap(i / len(rectangles))[0] * 255)}, \" \\\n",
    "                f\"{int(cmap(i / len(rectangles))[1] * 255)}, \" \\\n",
    "                f\"{int(cmap(i / len(rectangles))[2] * 255)}, 0.8)\"\n",
    "        x, y, z = zip(*rect)\n",
    "        fig.add_trace(go.Mesh3d(x=x, y=y, z=z, color=color, opacity=0.8, \n",
    "                               name=f'P{i+1}'))\n",
    "\n",
    "        center = np.mean(np.array(rect), axis=0)\n",
    "        centers.append(center)\n",
    "        \n",
    "        # Text für \"P0\", \"P1\", etc.\n",
    "        if i == 0:\n",
    "            text_label = ''\n",
    "            # text_label = 'Pre-Position'\n",
    "        elif i == 1:\n",
    "            text_label = ''\n",
    "            # text_label = 'Spitze'\n",
    "        elif i == len(rectangles) - 1:\n",
    "            text_label = ''\n",
    "            # text_label = 'Loslassen'\n",
    "        else:\n",
    "            text_label = f'P{i}'  # Standardtext für den Punkt\n",
    "        \n",
    "        # Füge den Text an den Punkten hinzu (mit entsprechender Position)\n",
    "        fig.add_trace(go.Scatter3d(x=[center[0]], y=[center[1]], z=[center[2]], \n",
    "                                   mode='markers+text', marker=dict(size=3, color='red'),\n",
    "                                   text=text_label, textposition=\"top center\", textfont=dict(size=12), showlegend=False))\n",
    "\n",
    "        # Hinzufügen der Umrandung der Rechtecke mit einer Linie\n",
    "        for j in range(4):\n",
    "            x0, y0, z0 = rect[j]\n",
    "            x1, y1, z1 = rect[(j + 1) % 4]  # Nächster Punkt im Rechteck\n",
    "            fig.add_trace(go.Scatter3d(x=[x0, x1], y=[y0, y1], z=[z0, z1], \n",
    "                                       mode='lines', \n",
    "                                       line=dict(color=color, width=4),  # Keine opacity hier\n",
    "                                       showlegend=False))\n",
    "\n",
    "    # Linie durch die berechneten Mittelpunkte\n",
    "    centers = np.array(centers)\n",
    "    fig.add_trace(go.Scatter3d(x=centers[:, 0], y=centers[:, 1], z=centers[:, 2],\n",
    "                               mode='lines', line=dict(color='black', width=2), name='Berechnete Hakenlinie'))\n",
    "\n",
    "    # Beschriftung der ersten und letzten Punkte\n",
    "    if len(centers) > 0:\n",
    "        fig.add_trace(go.Scatter3d(x=[centers[0, 0]], y=[centers[0, 1]], z=[centers[0, 2]],\n",
    "                                   mode='text', text=['Pre-Position'], textposition=\"top center\", textfont=dict(size=10), showlegend=False))\n",
    "    if len(centers) > 2:\n",
    "        fig.add_trace(go.Scatter3d(x=[centers[-1, 0]], y=[centers[-1, 1]], z=[centers[-1, 2]],\n",
    "                                   mode='text', text=['Loslassen'], textposition=\"top center\", textfont=dict(size=10), showlegend=False))\n",
    "\n",
    "    # Optimal-Trajektorie (grün) – Zweite Rechtecke\n",
    "    if secondary_rectangles:\n",
    "        for rect in secondary_rectangles:\n",
    "            x, y, z = zip(*rect)\n",
    "            fig.add_trace(go.Mesh3d(x=x, y=y, z=z, color='rgba(0,255,0,0.2)', opacity=0.8, \n",
    "                                   name=secondary_legend_title or 'Optimale Trajektorie'))\n",
    "        \n",
    "            # Hinzufügen der Umrandung der Rechtecke mit einer Linie\n",
    "            for j in range(4):\n",
    "                x0, y0, z0 = rect[j]\n",
    "                x1, y1, z1 = rect[(j + 1) % 4]  # Nächster Punkt im Rechteck\n",
    "                fig.add_trace(go.Scatter3d(x=[x0, x1], y=[y0, y1], z=[z0, z1], \n",
    "                                           mode='lines', \n",
    "                                           line=dict(color='rgba(0,255,0,0.2)', width=3),  # Keine opacity hier\n",
    "                                           showlegend=False))\n",
    "            \n",
    "            # Hinzufügen eines roten Punktes in der Mitte des Rechtecks\n",
    "            center = np.mean(np.array(rect), axis=0)\n",
    "            fig.add_trace(go.Scatter3d(x=[center[0]], y=[center[1]], z=[center[2]], \n",
    "                                       mode='markers', marker=dict(size=4, color='green'), \n",
    "                                       name=f'Mitte P{i+1}', showlegend=False))\n",
    "        \n",
    "        # Mittelpunkte der sekundären Rechtecke sammeln\n",
    "        secondary_centers = [np.mean(np.array(rect), axis=0) for rect in secondary_rectangles]\n",
    "        secondary_centers = np.array(secondary_centers)\n",
    "\n",
    "        # Linie durch die Mittelpunkte zeichnen\n",
    "        fig.add_trace(go.Scatter3d(\n",
    "            x=secondary_centers[:, 0], y=secondary_centers[:, 1], z=secondary_centers[:, 2],\n",
    "            mode='lines',\n",
    "            line=dict(color='green', width=2),\n",
    "            name='Optimale Hakenlinie'\n",
    "        ))\n",
    "    \n",
    "    # Einzeichnen von Spitze und Senke inkl. graue Verbindungslinie\n",
    "    if connect_points:\n",
    "        p1, p2 = np.array(connect_points[0]), np.array(connect_points[1])\n",
    "        fig.add_trace(go.Scatter3d(x=[p1[0], p2[0]], y=[p1[1], p2[1]], z=[p1[2], p2[2]], \n",
    "                                   mode='lines', line=dict(color='gray', dash='dash'), name='Direkte Gerade Spitze -> Senke'))\n",
    "        fig.add_trace(go.Scatter3d(x=[p1[0]], y=[p1[1]], z=[p1[2]], mode='markers', \n",
    "                                   marker=dict(size=8, color='magenta'), name='Spitze'))\n",
    "        fig.add_trace(go.Scatter3d(x=[p2[0]], y=[p2[1]], z=[p2[2]], mode='markers', \n",
    "                                   marker=dict(size=8, color='magenta'), name='Senke'))\n",
    "        \n",
    "        # Hinzufügen von Text \"Spitze\" und \"Senke\"\n",
    "        fig.add_trace(go.Scatter3d(x=[p1[0]], y=[p1[1]], z=[p1[2]], mode='text', \n",
    "                                   text=['Spitze'], textposition=\"top center\", textfont=dict(size=10), showlegend=False))\n",
    "        fig.add_trace(go.Scatter3d(x=[p2[0]], y=[p2[1]], z=[p2[2]], mode='text', \n",
    "                                   text=['Senke'], textposition=\"top center\", textfont=dict(size=10), showlegend=False))\n",
    "\n",
    "    # Achsen und Layout\n",
    "    fig.update_layout(scene=dict(\n",
    "                        xaxis_title='X',\n",
    "                        yaxis_title='Y',\n",
    "                        zaxis_title='Z',\n",
    "                        aspectmode='cube'),\n",
    "                      title=f'Haken {hook_num}, Trajektorien-Ansatz {trajectory_process}',\n",
    "                      legend=dict(title=\"Legende\"))\n",
    "    \n",
    "    # HTML exportieren\n",
    "    fig.write_html(html_filename)\n",
    "    print(f\"HTML-Datei '{html_filename}' erfolgreich erstellt!\")\n",
    "    fig.show()"
   ]
  },
  {
   "cell_type": "code",
   "execution_count": 34,
   "id": "2e400931",
   "metadata": {},
   "outputs": [
    {
     "name": "stdout",
     "output_type": "stream",
     "text": [
      "HTML-Datei '/home/mo/Thesis/Evaluation/Trajektorientests/traj1.html' erfolgreich erstellt!\n"
     ]
    },
    {
     "name": "stderr",
     "output_type": "stream",
     "text": [
      "/tmp/ipykernel_366278/442480858.py:17: MatplotlibDeprecationWarning:\n",
      "\n",
      "The get_cmap function was deprecated in Matplotlib 3.7 and will be removed two minor releases later. Use ``matplotlib.colormaps[name]`` or ``matplotlib.colormaps.get_cmap(obj)`` instead.\n",
      "\n"
     ]
    },
    {
     "data": {
      "application/vnd.plotly.v1+json": {
       "config": {
        "plotlyServerURL": "https://plot.ly"
       },
       "data": [
        {
         "color": "rgba(31, 119, 180, 0.8)",
         "name": "P1",
         "opacity": 0.8,
         "type": "mesh3d",
         "x": [
          271.493050949107,
          279.493050949107,
          279.493050949107,
          271.493050949107
         ],
         "y": [
          936.2638737384093,
          936.2638737384093,
          936.2638737384093,
          936.2638737384093
         ],
         "z": [
          727.4907210570175,
          727.4907210570175,
          715.4907210570175,
          715.4907210570175
         ]
        },
        {
         "marker": {
          "color": "red",
          "size": 3
         },
         "mode": "markers+text",
         "showlegend": false,
         "text": "",
         "textfont": {
          "size": 12
         },
         "textposition": "top center",
         "type": "scatter3d",
         "x": [
          275.493050949107
         ],
         "y": [
          936.2638737384093
         ],
         "z": [
          721.4907210570175
         ]
        },
        {
         "line": {
          "color": "rgba(31, 119, 180, 0.8)",
          "width": 4
         },
         "mode": "lines",
         "showlegend": false,
         "type": "scatter3d",
         "x": [
          271.493050949107,
          279.493050949107
         ],
         "y": [
          936.2638737384093,
          936.2638737384093
         ],
         "z": [
          727.4907210570175,
          727.4907210570175
         ]
        },
        {
         "line": {
          "color": "rgba(31, 119, 180, 0.8)",
          "width": 4
         },
         "mode": "lines",
         "showlegend": false,
         "type": "scatter3d",
         "x": [
          279.493050949107,
          279.493050949107
         ],
         "y": [
          936.2638737384093,
          936.2638737384093
         ],
         "z": [
          727.4907210570175,
          715.4907210570175
         ]
        },
        {
         "line": {
          "color": "rgba(31, 119, 180, 0.8)",
          "width": 4
         },
         "mode": "lines",
         "showlegend": false,
         "type": "scatter3d",
         "x": [
          279.493050949107,
          271.493050949107
         ],
         "y": [
          936.2638737384093,
          936.2638737384093
         ],
         "z": [
          715.4907210570175,
          715.4907210570175
         ]
        },
        {
         "line": {
          "color": "rgba(31, 119, 180, 0.8)",
          "width": 4
         },
         "mode": "lines",
         "showlegend": false,
         "type": "scatter3d",
         "x": [
          271.493050949107,
          271.493050949107
         ],
         "y": [
          936.2638737384093,
          936.2638737384093
         ],
         "z": [
          715.4907210570175,
          727.4907210570175
         ]
        },
        {
         "color": "rgba(174, 199, 232, 0.8)",
         "name": "P2",
         "opacity": 0.8,
         "type": "mesh3d",
         "x": [
          268.761333065563,
          272.54639748257097,
          282.19318499659937,
          278.4081205795914
         ],
         "y": [
          938.3470015621417,
          932.6284433443574,
          933.9625847523259,
          939.6811429701103
         ],
         "z": [
          720.0669357953664,
          715.9473024052561,
          722.9586900969139,
          727.0783234870241
         ]
        },
        {
         "marker": {
          "color": "red",
          "size": 3
         },
         "mode": "markers+text",
         "showlegend": false,
         "text": "",
         "textfont": {
          "size": 12
         },
         "textposition": "top center",
         "type": "scatter3d",
         "x": [
          275.4772590310812
         ],
         "y": [
          936.1547931572338
         ],
         "z": [
          721.5128129461401
         ]
        },
        {
         "line": {
          "color": "rgba(174, 199, 232, 0.8)",
          "width": 4
         },
         "mode": "lines",
         "showlegend": false,
         "type": "scatter3d",
         "x": [
          268.761333065563,
          272.54639748257097
         ],
         "y": [
          938.3470015621417,
          932.6284433443574
         ],
         "z": [
          720.0669357953664,
          715.9473024052561
         ]
        },
        {
         "line": {
          "color": "rgba(174, 199, 232, 0.8)",
          "width": 4
         },
         "mode": "lines",
         "showlegend": false,
         "type": "scatter3d",
         "x": [
          272.54639748257097,
          282.19318499659937
         ],
         "y": [
          932.6284433443574,
          933.9625847523259
         ],
         "z": [
          715.9473024052561,
          722.9586900969139
         ]
        },
        {
         "line": {
          "color": "rgba(174, 199, 232, 0.8)",
          "width": 4
         },
         "mode": "lines",
         "showlegend": false,
         "type": "scatter3d",
         "x": [
          282.19318499659937,
          278.4081205795914
         ],
         "y": [
          933.9625847523259,
          939.6811429701103
         ],
         "z": [
          722.9586900969139,
          727.0783234870241
         ]
        },
        {
         "line": {
          "color": "rgba(174, 199, 232, 0.8)",
          "width": 4
         },
         "mode": "lines",
         "showlegend": false,
         "type": "scatter3d",
         "x": [
          278.4081205795914,
          268.761333065563
         ],
         "y": [
          939.6811429701103,
          938.3470015621417
         ],
         "z": [
          727.0783234870241,
          720.0669357953664
         ]
        },
        {
         "color": "rgba(255, 187, 120, 0.8)",
         "name": "P3",
         "opacity": 0.8,
         "type": "mesh3d",
         "x": [
          267.934567646561,
          274.28292189975946,
          281.50213019937036,
          275.1537759461719
         ],
         "y": [
          937.9898703813167,
          934.2312321671889,
          942.6461728248635,
          946.4048110389913
         ],
         "z": [
          719.0901557982613,
          715.9964465276292,
          720.5868501323948,
          723.6805594030269
         ]
        },
        {
         "marker": {
          "color": "red",
          "size": 3
         },
         "mode": "markers+text",
         "showlegend": false,
         "text": "P2",
         "textfont": {
          "size": 12
         },
         "textposition": "top center",
         "type": "scatter3d",
         "x": [
          274.7183489229657
         ],
         "y": [
          940.3180216030901
         ],
         "z": [
          719.8385029653281
         ]
        },
        {
         "line": {
          "color": "rgba(255, 187, 120, 0.8)",
          "width": 4
         },
         "mode": "lines",
         "showlegend": false,
         "type": "scatter3d",
         "x": [
          267.934567646561,
          274.28292189975946
         ],
         "y": [
          937.9898703813167,
          934.2312321671889
         ],
         "z": [
          719.0901557982613,
          715.9964465276292
         ]
        },
        {
         "line": {
          "color": "rgba(255, 187, 120, 0.8)",
          "width": 4
         },
         "mode": "lines",
         "showlegend": false,
         "type": "scatter3d",
         "x": [
          274.28292189975946,
          281.50213019937036
         ],
         "y": [
          934.2312321671889,
          942.6461728248635
         ],
         "z": [
          715.9964465276292,
          720.5868501323948
         ]
        },
        {
         "line": {
          "color": "rgba(255, 187, 120, 0.8)",
          "width": 4
         },
         "mode": "lines",
         "showlegend": false,
         "type": "scatter3d",
         "x": [
          281.50213019937036,
          275.1537759461719
         ],
         "y": [
          942.6461728248635,
          946.4048110389913
         ],
         "z": [
          720.5868501323948,
          723.6805594030269
         ]
        },
        {
         "line": {
          "color": "rgba(255, 187, 120, 0.8)",
          "width": 4
         },
         "mode": "lines",
         "showlegend": false,
         "type": "scatter3d",
         "x": [
          275.1537759461719,
          267.934567646561
         ],
         "y": [
          946.4048110389913,
          937.9898703813167
         ],
         "z": [
          723.6805594030269,
          719.0901557982613
         ]
        },
        {
         "color": "rgba(152, 223, 138, 0.8)",
         "name": "P4",
         "opacity": 0.8,
         "type": "mesh3d",
         "x": [
          266.99987713129127,
          270.7025587828929,
          280.1512513157849,
          276.4485696641833
         ],
         "y": [
          944.3323444406603,
          938.7541635362023,
          939.2311729685216,
          944.8093538729796
         ],
         "z": [
          716.7993746270888,
          712.4205567062302,
          719.8026073305721,
          724.1814252514307
         ]
        },
        {
         "marker": {
          "color": "red",
          "size": 3
         },
         "mode": "markers+text",
         "showlegend": false,
         "text": "P3",
         "textfont": {
          "size": 12
         },
         "textposition": "top center",
         "type": "scatter3d",
         "x": [
          273.5755642235381
         ],
         "y": [
          941.781758704591
         ],
         "z": [
          718.3009909788304
         ]
        },
        {
         "line": {
          "color": "rgba(152, 223, 138, 0.8)",
          "width": 4
         },
         "mode": "lines",
         "showlegend": false,
         "type": "scatter3d",
         "x": [
          266.99987713129127,
          270.7025587828929
         ],
         "y": [
          944.3323444406603,
          938.7541635362023
         ],
         "z": [
          716.7993746270888,
          712.4205567062302
         ]
        },
        {
         "line": {
          "color": "rgba(152, 223, 138, 0.8)",
          "width": 4
         },
         "mode": "lines",
         "showlegend": false,
         "type": "scatter3d",
         "x": [
          270.7025587828929,
          280.1512513157849
         ],
         "y": [
          938.7541635362023,
          939.2311729685216
         ],
         "z": [
          712.4205567062302,
          719.8026073305721
         ]
        },
        {
         "line": {
          "color": "rgba(152, 223, 138, 0.8)",
          "width": 4
         },
         "mode": "lines",
         "showlegend": false,
         "type": "scatter3d",
         "x": [
          280.1512513157849,
          276.4485696641833
         ],
         "y": [
          939.2311729685216,
          944.8093538729796
         ],
         "z": [
          719.8026073305721,
          724.1814252514307
         ]
        },
        {
         "line": {
          "color": "rgba(152, 223, 138, 0.8)",
          "width": 4
         },
         "mode": "lines",
         "showlegend": false,
         "type": "scatter3d",
         "x": [
          276.4485696641833,
          266.99987713129127
         ],
         "y": [
          944.8093538729796,
          944.3323444406603
         ],
         "z": [
          724.1814252514307,
          716.7993746270888
         ]
        },
        {
         "color": "rgba(255, 152, 150, 0.8)",
         "name": "P5",
         "opacity": 0.8,
         "type": "mesh3d",
         "x": [
          265.5426909707655,
          270.79488261122253,
          279.7054593535741,
          274.45326771311704
         ],
         "y": [
          947.5905561604453,
          942.9401318252228,
          947.5719708963726,
          952.2223952315951
         ],
         "z": [
          715.2208108852768,
          711.3752892725066,
          717.943979319817,
          721.7895009325872
         ]
        },
        {
         "marker": {
          "color": "red",
          "size": 3
         },
         "mode": "markers+text",
         "showlegend": false,
         "text": "P4",
         "textfont": {
          "size": 12
         },
         "textposition": "top center",
         "type": "scatter3d",
         "x": [
          272.6240751621698
         ],
         "y": [
          947.581263528409
         ],
         "z": [
          716.5823951025469
         ]
        },
        {
         "line": {
          "color": "rgba(255, 152, 150, 0.8)",
          "width": 4
         },
         "mode": "lines",
         "showlegend": false,
         "type": "scatter3d",
         "x": [
          265.5426909707655,
          270.79488261122253
         ],
         "y": [
          947.5905561604453,
          942.9401318252228
         ],
         "z": [
          715.2208108852768,
          711.3752892725066
         ]
        },
        {
         "line": {
          "color": "rgba(255, 152, 150, 0.8)",
          "width": 4
         },
         "mode": "lines",
         "showlegend": false,
         "type": "scatter3d",
         "x": [
          270.79488261122253,
          279.7054593535741
         ],
         "y": [
          942.9401318252228,
          947.5719708963726
         ],
         "z": [
          711.3752892725066,
          717.943979319817
         ]
        },
        {
         "line": {
          "color": "rgba(255, 152, 150, 0.8)",
          "width": 4
         },
         "mode": "lines",
         "showlegend": false,
         "type": "scatter3d",
         "x": [
          279.7054593535741,
          274.45326771311704
         ],
         "y": [
          947.5719708963726,
          952.2223952315951
         ],
         "z": [
          717.943979319817,
          721.7895009325872
         ]
        },
        {
         "line": {
          "color": "rgba(255, 152, 150, 0.8)",
          "width": 4
         },
         "mode": "lines",
         "showlegend": false,
         "type": "scatter3d",
         "x": [
          274.45326771311704,
          265.5426909707655
         ],
         "y": [
          952.2223952315951,
          947.5905561604453
         ],
         "z": [
          721.7895009325872,
          715.2208108852768
         ]
        },
        {
         "color": "rgba(197, 176, 213, 0.8)",
         "name": "P6",
         "opacity": 0.8,
         "type": "mesh3d",
         "x": [
          264.4128198366352,
          268.94075359104795,
          278.1586776272716,
          273.63074387285883
         ],
         "y": [
          952.1646933399666,
          947.2022776626177,
          949.094295574781,
          954.0567112521298
         ],
         "z": [
          713.5533026668077,
          709.2090827643566,
          716.655568155631,
          720.9997880580821
         ]
        },
        {
         "marker": {
          "color": "red",
          "size": 3
         },
         "mode": "markers+text",
         "showlegend": false,
         "text": "P5",
         "textfont": {
          "size": 12
         },
         "textposition": "top center",
         "type": "scatter3d",
         "x": [
          271.2857487319534
         ],
         "y": [
          950.6294944573738
         ],
         "z": [
          715.1044354112194
         ]
        },
        {
         "line": {
          "color": "rgba(197, 176, 213, 0.8)",
          "width": 4
         },
         "mode": "lines",
         "showlegend": false,
         "type": "scatter3d",
         "x": [
          264.4128198366352,
          268.94075359104795
         ],
         "y": [
          952.1646933399666,
          947.2022776626177
         ],
         "z": [
          713.5533026668077,
          709.2090827643566
         ]
        },
        {
         "line": {
          "color": "rgba(197, 176, 213, 0.8)",
          "width": 4
         },
         "mode": "lines",
         "showlegend": false,
         "type": "scatter3d",
         "x": [
          268.94075359104795,
          278.1586776272716
         ],
         "y": [
          947.2022776626177,
          949.094295574781
         ],
         "z": [
          709.2090827643566,
          716.655568155631
         ]
        },
        {
         "line": {
          "color": "rgba(197, 176, 213, 0.8)",
          "width": 4
         },
         "mode": "lines",
         "showlegend": false,
         "type": "scatter3d",
         "x": [
          278.1586776272716,
          273.63074387285883
         ],
         "y": [
          949.094295574781,
          954.0567112521298
         ],
         "z": [
          716.655568155631,
          720.9997880580821
         ]
        },
        {
         "line": {
          "color": "rgba(197, 176, 213, 0.8)",
          "width": 4
         },
         "mode": "lines",
         "showlegend": false,
         "type": "scatter3d",
         "x": [
          273.63074387285883,
          264.4128198366352
         ],
         "y": [
          954.0567112521298,
          952.1646933399666
         ],
         "z": [
          720.9997880580821,
          713.5533026668077
         ]
        },
        {
         "color": "rgba(140, 86, 75, 0.8)",
         "name": "P7",
         "opacity": 0.8,
         "type": "mesh3d",
         "x": [
          263.0092756225169,
          267.73705922555956,
          276.84301294620474,
          272.11522934316207
         ],
         "y": [
          956.5726871738805,
          951.8123344820673,
          953.9836888545581,
          958.7440415463712
         ],
         "z": [
          712.3029556031302,
          707.9455361314303,
          715.453320560044,
          719.8107400317438
         ]
        },
        {
         "marker": {
          "color": "red",
          "size": 3
         },
         "mode": "markers+text",
         "showlegend": false,
         "text": "P6",
         "textfont": {
          "size": 12
         },
         "textposition": "top center",
         "type": "scatter3d",
         "x": [
          269.9261442843608
         ],
         "y": [
          955.2781880142192
         ],
         "z": [
          713.8781380815872
         ]
        },
        {
         "line": {
          "color": "rgba(140, 86, 75, 0.8)",
          "width": 4
         },
         "mode": "lines",
         "showlegend": false,
         "type": "scatter3d",
         "x": [
          263.0092756225169,
          267.73705922555956
         ],
         "y": [
          956.5726871738805,
          951.8123344820673
         ],
         "z": [
          712.3029556031302,
          707.9455361314303
         ]
        },
        {
         "line": {
          "color": "rgba(140, 86, 75, 0.8)",
          "width": 4
         },
         "mode": "lines",
         "showlegend": false,
         "type": "scatter3d",
         "x": [
          267.73705922555956,
          276.84301294620474
         ],
         "y": [
          951.8123344820673,
          953.9836888545581
         ],
         "z": [
          707.9455361314303,
          715.453320560044
         ]
        },
        {
         "line": {
          "color": "rgba(140, 86, 75, 0.8)",
          "width": 4
         },
         "mode": "lines",
         "showlegend": false,
         "type": "scatter3d",
         "x": [
          276.84301294620474,
          272.11522934316207
         ],
         "y": [
          953.9836888545581,
          958.7440415463712
         ],
         "z": [
          715.453320560044,
          719.8107400317438
         ]
        },
        {
         "line": {
          "color": "rgba(140, 86, 75, 0.8)",
          "width": 4
         },
         "mode": "lines",
         "showlegend": false,
         "type": "scatter3d",
         "x": [
          272.11522934316207,
          263.0092756225169
         ],
         "y": [
          958.7440415463712,
          956.5726871738805
         ],
         "z": [
          719.8107400317438,
          712.3029556031302
         ]
        },
        {
         "color": "rgba(227, 119, 194, 0.8)",
         "name": "P8",
         "opacity": 0.8,
         "type": "mesh3d",
         "x": [
          261.87601561816393,
          265.8399053533086,
          274.83339607435516,
          270.8695063392105
         ],
         "y": [
          962.845141618316,
          957.8456303939258,
          957.3234845284234,
          962.3229957528135
         ],
         "z": [
          711.1563952454184,
          706.3301683874255,
          714.2576199543281,
          719.083846812321
         ]
        },
        {
         "marker": {
          "color": "red",
          "size": 3
         },
         "mode": "markers+text",
         "showlegend": false,
         "text": "P7",
         "textfont": {
          "size": 12
         },
         "textposition": "top center",
         "type": "scatter3d",
         "x": [
          268.35470584625955
         ],
         "y": [
          960.0843130733697
         ],
         "z": [
          712.7070075998732
         ]
        },
        {
         "line": {
          "color": "rgba(227, 119, 194, 0.8)",
          "width": 4
         },
         "mode": "lines",
         "showlegend": false,
         "type": "scatter3d",
         "x": [
          261.87601561816393,
          265.8399053533086
         ],
         "y": [
          962.845141618316,
          957.8456303939258
         ],
         "z": [
          711.1563952454184,
          706.3301683874255
         ]
        },
        {
         "line": {
          "color": "rgba(227, 119, 194, 0.8)",
          "width": 4
         },
         "mode": "lines",
         "showlegend": false,
         "type": "scatter3d",
         "x": [
          265.8399053533086,
          274.83339607435516
         ],
         "y": [
          957.8456303939258,
          957.3234845284234
         ],
         "z": [
          706.3301683874255,
          714.2576199543281
         ]
        },
        {
         "line": {
          "color": "rgba(227, 119, 194, 0.8)",
          "width": 4
         },
         "mode": "lines",
         "showlegend": false,
         "type": "scatter3d",
         "x": [
          274.83339607435516,
          270.8695063392105
         ],
         "y": [
          957.3234845284234,
          962.3229957528135
         ],
         "z": [
          714.2576199543281,
          719.083846812321
         ]
        },
        {
         "line": {
          "color": "rgba(227, 119, 194, 0.8)",
          "width": 4
         },
         "mode": "lines",
         "showlegend": false,
         "type": "scatter3d",
         "x": [
          270.8695063392105,
          261.87601561816393
         ],
         "y": [
          962.3229957528135,
          962.845141618316
         ],
         "z": [
          719.083846812321,
          711.1563952454184
         ]
        },
        {
         "color": "rgba(127, 127, 127, 0.8)",
         "name": "P9",
         "opacity": 0.8,
         "type": "mesh3d",
         "x": [
          260.03645900446594,
          264.4388806880607,
          273.38727069185694,
          268.9848490082622
         ],
         "y": [
          970.537258740738,
          965.8631230589866,
          966.1333492422089,
          970.8074849239603
         ],
         "z": [
          710.3639068652082,
          705.5919954087378,
          713.5828210325304,
          718.3547324890008
         ]
        },
        {
         "marker": {
          "color": "red",
          "size": 3
         },
         "mode": "markers+text",
         "showlegend": false,
         "text": "P8",
         "textfont": {
          "size": 12
         },
         "textposition": "top center",
         "type": "scatter3d",
         "x": [
          266.71186484816144
         ],
         "y": [
          968.3353039914734
         ],
         "z": [
          711.9733639488693
         ]
        },
        {
         "line": {
          "color": "rgba(127, 127, 127, 0.8)",
          "width": 4
         },
         "mode": "lines",
         "showlegend": false,
         "type": "scatter3d",
         "x": [
          260.03645900446594,
          264.4388806880607
         ],
         "y": [
          970.537258740738,
          965.8631230589866
         ],
         "z": [
          710.3639068652082,
          705.5919954087378
         ]
        },
        {
         "line": {
          "color": "rgba(127, 127, 127, 0.8)",
          "width": 4
         },
         "mode": "lines",
         "showlegend": false,
         "type": "scatter3d",
         "x": [
          264.4388806880607,
          273.38727069185694
         ],
         "y": [
          965.8631230589866,
          966.1333492422089
         ],
         "z": [
          705.5919954087378,
          713.5828210325304
         ]
        },
        {
         "line": {
          "color": "rgba(127, 127, 127, 0.8)",
          "width": 4
         },
         "mode": "lines",
         "showlegend": false,
         "type": "scatter3d",
         "x": [
          273.38727069185694,
          268.9848490082622
         ],
         "y": [
          966.1333492422089,
          970.8074849239603
         ],
         "z": [
          713.5828210325304,
          718.3547324890008
         ]
        },
        {
         "line": {
          "color": "rgba(127, 127, 127, 0.8)",
          "width": 4
         },
         "mode": "lines",
         "showlegend": false,
         "type": "scatter3d",
         "x": [
          268.9848490082622,
          260.03645900446594
         ],
         "y": [
          970.8074849239603,
          970.537258740738
         ],
         "z": [
          718.3547324890008,
          710.3639068652082
         ]
        },
        {
         "color": "rgba(188, 189, 34, 0.8)",
         "name": "P10",
         "opacity": 0.8,
         "type": "mesh3d",
         "x": [
          258.16935926572114,
          262.56789040993885,
          271.4938717749044,
          267.0953406306867
         ],
         "y": [
          977.5292244558021,
          972.8799075892907,
          973.0464411558895,
          977.6957580224009
         ],
         "z": [
          709.8676590820351,
          705.0679948804353,
          713.0866682896399,
          717.8863324912396
         ]
        },
        {
         "marker": {
          "color": "red",
          "size": 3
         },
         "mode": "markers+text",
         "showlegend": false,
         "text": "P9",
         "textfont": {
          "size": 12
         },
         "textposition": "top center",
         "type": "scatter3d",
         "x": [
          264.83161552031277
         ],
         "y": [
          975.2878328058459
         ],
         "z": [
          711.4771636858375
         ]
        },
        {
         "line": {
          "color": "rgba(188, 189, 34, 0.8)",
          "width": 4
         },
         "mode": "lines",
         "showlegend": false,
         "type": "scatter3d",
         "x": [
          258.16935926572114,
          262.56789040993885
         ],
         "y": [
          977.5292244558021,
          972.8799075892907
         ],
         "z": [
          709.8676590820351,
          705.0679948804353
         ]
        },
        {
         "line": {
          "color": "rgba(188, 189, 34, 0.8)",
          "width": 4
         },
         "mode": "lines",
         "showlegend": false,
         "type": "scatter3d",
         "x": [
          262.56789040993885,
          271.4938717749044
         ],
         "y": [
          972.8799075892907,
          973.0464411558895
         ],
         "z": [
          705.0679948804353,
          713.0866682896399
         ]
        },
        {
         "line": {
          "color": "rgba(188, 189, 34, 0.8)",
          "width": 4
         },
         "mode": "lines",
         "showlegend": false,
         "type": "scatter3d",
         "x": [
          271.4938717749044,
          267.0953406306867
         ],
         "y": [
          973.0464411558895,
          977.6957580224009
         ],
         "z": [
          713.0866682896399,
          717.8863324912396
         ]
        },
        {
         "line": {
          "color": "rgba(188, 189, 34, 0.8)",
          "width": 4
         },
         "mode": "lines",
         "showlegend": false,
         "type": "scatter3d",
         "x": [
          267.0953406306867,
          258.16935926572114
         ],
         "y": [
          977.6957580224009,
          977.5292244558021
         ],
         "z": [
          717.8863324912396,
          709.8676590820351
         ]
        },
        {
         "color": "rgba(23, 190, 207, 0.8)",
         "name": "P11",
         "opacity": 0.8,
         "type": "mesh3d",
         "x": [
          258.87494971035653,
          266.87494971035653,
          266.87494971035653,
          258.87494971035653
         ],
         "y": [
          982.5314174759983,
          982.5314174759983,
          982.5314174759983,
          982.5314174759983
         ],
         "z": [
          717.0545267676108,
          717.0545267676108,
          705.0545267676108,
          705.0545267676108
         ]
        },
        {
         "marker": {
          "color": "red",
          "size": 3
         },
         "mode": "markers+text",
         "showlegend": false,
         "text": "",
         "textfont": {
          "size": 12
         },
         "textposition": "top center",
         "type": "scatter3d",
         "x": [
          262.87494971035653
         ],
         "y": [
          982.5314174759983
         ],
         "z": [
          711.0545267676108
         ]
        },
        {
         "line": {
          "color": "rgba(23, 190, 207, 0.8)",
          "width": 4
         },
         "mode": "lines",
         "showlegend": false,
         "type": "scatter3d",
         "x": [
          258.87494971035653,
          266.87494971035653
         ],
         "y": [
          982.5314174759983,
          982.5314174759983
         ],
         "z": [
          717.0545267676108,
          717.0545267676108
         ]
        },
        {
         "line": {
          "color": "rgba(23, 190, 207, 0.8)",
          "width": 4
         },
         "mode": "lines",
         "showlegend": false,
         "type": "scatter3d",
         "x": [
          266.87494971035653,
          266.87494971035653
         ],
         "y": [
          982.5314174759983,
          982.5314174759983
         ],
         "z": [
          717.0545267676108,
          705.0545267676108
         ]
        },
        {
         "line": {
          "color": "rgba(23, 190, 207, 0.8)",
          "width": 4
         },
         "mode": "lines",
         "showlegend": false,
         "type": "scatter3d",
         "x": [
          266.87494971035653,
          258.87494971035653
         ],
         "y": [
          982.5314174759983,
          982.5314174759983
         ],
         "z": [
          705.0545267676108,
          705.0545267676108
         ]
        },
        {
         "line": {
          "color": "rgba(23, 190, 207, 0.8)",
          "width": 4
         },
         "mode": "lines",
         "showlegend": false,
         "type": "scatter3d",
         "x": [
          258.87494971035653,
          258.87494971035653
         ],
         "y": [
          982.5314174759983,
          982.5314174759983
         ],
         "z": [
          705.0545267676108,
          717.0545267676108
         ]
        },
        {
         "line": {
          "color": "black",
          "width": 2
         },
         "mode": "lines",
         "name": "Berechnete Hakenlinie",
         "type": "scatter3d",
         "x": {
          "bdata": "0lpkieM3cUBuo13aojdxQBK0cFt+K3FAgM3UgjUZcUA+vDw2/AlxQNApQ22S9HBAUEurfNHecEAolgngrMVwQGggZcxjq3BAbmkTTE6NcEAEekTL/21wQA==",
          "dtype": "f8"
         },
         "y": {
          "bdata": "7qXVaRxCjUC23zEEPUGNQIwF6U6LYo1Apyy1CkFujUD+Jn5tppyNQHjbYzQJtY1ArzmjujnajUD8JVWsrACOQMbs27OuQo5AmD5Je016jkB8P85XQLSOQA==",
          "dtype": "f8"
         },
         "z": {
          "bdata": "ylop/+yLhkAZhaw9GoyGQHftCkG1foZAvlP1bWhyhkBRdsO+qGSGQNqdO+LVWIZAUC5CbQZPhkDVu5nzp0WGQP67CXPJP4ZAFswxO9E7hkAp3bqrbziGQA==",
          "dtype": "f8"
         }
        },
        {
         "mode": "text",
         "showlegend": false,
         "text": [
          "Pre-Position"
         ],
         "textfont": {
          "size": 10
         },
         "textposition": "top center",
         "type": "scatter3d",
         "x": [
          275.493050949107
         ],
         "y": [
          936.2638737384093
         ],
         "z": [
          721.4907210570175
         ]
        },
        {
         "mode": "text",
         "showlegend": false,
         "text": [
          "Loslassen"
         ],
         "textfont": {
          "size": 10
         },
         "textposition": "top center",
         "type": "scatter3d",
         "x": [
          262.87494971035653
         ],
         "y": [
          982.5314174759983
         ],
         "z": [
          711.0545267676108
         ]
        },
        {
         "color": "rgba(0,255,0,0.2)",
         "name": "optimale Trajektorie",
         "opacity": 0.8,
         "type": "mesh3d",
         "x": [
          271.61979252830685,
          279.3101684380986,
          279.3663094399687,
          271.67593353017696
         ],
         "y": [
          930.2686209040137,
          930.2601976855832,
          942.2591284658247,
          942.2675516842552
         ],
         "z": [
          722.5177561361269,
          720.3136582672731,
          720.4636859943136,
          722.6677838631673
         ]
        },
        {
         "line": {
          "color": "rgba(0,255,0,0.2)",
          "width": 3
         },
         "mode": "lines",
         "showlegend": false,
         "type": "scatter3d",
         "x": [
          271.61979252830685,
          279.3101684380986
         ],
         "y": [
          930.2686209040137,
          930.2601976855832
         ],
         "z": [
          722.5177561361269,
          720.3136582672731
         ]
        },
        {
         "line": {
          "color": "rgba(0,255,0,0.2)",
          "width": 3
         },
         "mode": "lines",
         "showlegend": false,
         "type": "scatter3d",
         "x": [
          279.3101684380986,
          279.3663094399687
         ],
         "y": [
          930.2601976855832,
          942.2591284658247
         ],
         "z": [
          720.3136582672731,
          720.4636859943136
         ]
        },
        {
         "line": {
          "color": "rgba(0,255,0,0.2)",
          "width": 3
         },
         "mode": "lines",
         "showlegend": false,
         "type": "scatter3d",
         "x": [
          279.3663094399687,
          271.67593353017696
         ],
         "y": [
          942.2591284658247,
          942.2675516842552
         ],
         "z": [
          720.4636859943136,
          722.6677838631673
         ]
        },
        {
         "line": {
          "color": "rgba(0,255,0,0.2)",
          "width": 3
         },
         "mode": "lines",
         "showlegend": false,
         "type": "scatter3d",
         "x": [
          271.67593353017696,
          271.61979252830685
         ],
         "y": [
          942.2675516842552,
          930.2686209040137
         ],
         "z": [
          722.6677838631673,
          722.5177561361269
         ]
        },
        {
         "marker": {
          "color": "green",
          "size": 4
         },
         "mode": "markers",
         "name": "Mitte P11",
         "showlegend": false,
         "type": "scatter3d",
         "x": [
          275.49305098413777
         ],
         "y": [
          936.2638746849192
         ],
         "z": [
          721.4907210652202
         ]
        },
        {
         "color": "rgba(0,255,0,0.2)",
         "name": "optimale Trajektorie",
         "opacity": 0.8,
         "type": "mesh3d",
         "x": [
          274.82316046322234,
          281.0351292258658,
          281.2823798185996,
          275.0704110559562
         ],
         "y": [
          927.9849209855388,
          928.0005322349925,
          939.99311417739,
          939.9775029279363
         ],
         "z": [
          724.2369171068719,
          719.1959647781117,
          719.5377914875357,
          724.578743816296
         ]
        },
        {
         "line": {
          "color": "rgba(0,255,0,0.2)",
          "width": 3
         },
         "mode": "lines",
         "showlegend": false,
         "type": "scatter3d",
         "x": [
          274.82316046322234,
          281.0351292258658
         ],
         "y": [
          927.9849209855388,
          928.0005322349925
         ],
         "z": [
          724.2369171068719,
          719.1959647781117
         ]
        },
        {
         "line": {
          "color": "rgba(0,255,0,0.2)",
          "width": 3
         },
         "mode": "lines",
         "showlegend": false,
         "type": "scatter3d",
         "x": [
          281.0351292258658,
          281.2823798185996
         ],
         "y": [
          928.0005322349925,
          939.99311417739
         ],
         "z": [
          719.1959647781117,
          719.5377914875357
         ]
        },
        {
         "line": {
          "color": "rgba(0,255,0,0.2)",
          "width": 3
         },
         "mode": "lines",
         "showlegend": false,
         "type": "scatter3d",
         "x": [
          281.2823798185996,
          275.0704110559562
         ],
         "y": [
          939.99311417739,
          939.9775029279363
         ],
         "z": [
          719.5377914875357,
          724.578743816296
         ]
        },
        {
         "line": {
          "color": "rgba(0,255,0,0.2)",
          "width": 3
         },
         "mode": "lines",
         "showlegend": false,
         "type": "scatter3d",
         "x": [
          275.0704110559562,
          274.82316046322234
         ],
         "y": [
          939.9775029279363,
          927.9849209855388
         ],
         "z": [
          724.578743816296,
          724.2369171068719
         ]
        },
        {
         "marker": {
          "color": "green",
          "size": 4
         },
         "mode": "markers",
         "name": "Mitte P11",
         "showlegend": false,
         "type": "scatter3d",
         "x": [
          278.052770140911
         ],
         "y": [
          933.9890175814644
         ],
         "z": [
          721.8873542972038
         ]
        },
        {
         "color": "rgba(0,255,0,0.2)",
         "name": "optimale Trajektorie",
         "opacity": 0.8,
         "type": "mesh3d",
         "x": [
          270.7477423823568,
          276.3014143222067,
          277.03843378023475,
          271.48476184038486
         ],
         "y": [
          928.1084438753062,
          928.3210903100422,
          940.2429166112045,
          940.0302701764684
         ],
         "z": [
          720.0943969418504,
          714.3401368262214,
          715.4920309026909,
          721.2462910183199
         ]
        },
        {
         "line": {
          "color": "rgba(0,255,0,0.2)",
          "width": 3
         },
         "mode": "lines",
         "showlegend": false,
         "type": "scatter3d",
         "x": [
          270.7477423823568,
          276.3014143222067
         ],
         "y": [
          928.1084438753062,
          928.3210903100422
         ],
         "z": [
          720.0943969418504,
          714.3401368262214
         ]
        },
        {
         "line": {
          "color": "rgba(0,255,0,0.2)",
          "width": 3
         },
         "mode": "lines",
         "showlegend": false,
         "type": "scatter3d",
         "x": [
          276.3014143222067,
          277.03843378023475
         ],
         "y": [
          928.3210903100422,
          940.2429166112045
         ],
         "z": [
          714.3401368262214,
          715.4920309026909
         ]
        },
        {
         "line": {
          "color": "rgba(0,255,0,0.2)",
          "width": 3
         },
         "mode": "lines",
         "showlegend": false,
         "type": "scatter3d",
         "x": [
          277.03843378023475,
          271.48476184038486
         ],
         "y": [
          940.2429166112045,
          940.0302701764684
         ],
         "z": [
          715.4920309026909,
          721.2462910183199
         ]
        },
        {
         "line": {
          "color": "rgba(0,255,0,0.2)",
          "width": 3
         },
         "mode": "lines",
         "showlegend": false,
         "type": "scatter3d",
         "x": [
          271.48476184038486,
          270.7477423823568
         ],
         "y": [
          940.0302701764684,
          928.1084438753062
         ],
         "z": [
          721.2462910183199,
          720.0943969418504
         ]
        },
        {
         "marker": {
          "color": "green",
          "size": 4
         },
         "mode": "markers",
         "name": "Mitte P11",
         "showlegend": false,
         "type": "scatter3d",
         "x": [
          273.8930880812958
         ],
         "y": [
          934.1756802432553
         ],
         "z": [
          717.7932139222706
         ]
        },
        {
         "color": "rgba(0,255,0,0.2)",
         "name": "optimale Trajektorie",
         "opacity": 0.8,
         "type": "mesh3d",
         "x": [
          267.65577711349266,
          271.3258571697832,
          272.44896662958234,
          268.7788865732918
         ],
         "y": [
          927.591384924965,
          928.0417160843109,
          939.9142583333121,
          939.4639271739662
         ],
         "z": [
          716.1091626214103,
          709.0149597608107,
          710.3496378819287,
          717.4438407425283
         ]
        },
        {
         "line": {
          "color": "rgba(0,255,0,0.2)",
          "width": 3
         },
         "mode": "lines",
         "showlegend": false,
         "type": "scatter3d",
         "x": [
          267.65577711349266,
          271.3258571697832
         ],
         "y": [
          927.591384924965,
          928.0417160843109
         ],
         "z": [
          716.1091626214103,
          709.0149597608107
         ]
        },
        {
         "line": {
          "color": "rgba(0,255,0,0.2)",
          "width": 3
         },
         "mode": "lines",
         "showlegend": false,
         "type": "scatter3d",
         "x": [
          271.3258571697832,
          272.44896662958234
         ],
         "y": [
          928.0417160843109,
          939.9142583333121
         ],
         "z": [
          709.0149597608107,
          710.3496378819287
         ]
        },
        {
         "line": {
          "color": "rgba(0,255,0,0.2)",
          "width": 3
         },
         "mode": "lines",
         "showlegend": false,
         "type": "scatter3d",
         "x": [
          272.44896662958234,
          268.7788865732918
         ],
         "y": [
          939.9142583333121,
          939.4639271739662
         ],
         "z": [
          710.3496378819287,
          717.4438407425283
         ]
        },
        {
         "line": {
          "color": "rgba(0,255,0,0.2)",
          "width": 3
         },
         "mode": "lines",
         "showlegend": false,
         "type": "scatter3d",
         "x": [
          268.7788865732918,
          267.65577711349266
         ],
         "y": [
          939.4639271739662,
          927.591384924965
         ],
         "z": [
          717.4438407425283,
          716.1091626214103
         ]
        },
        {
         "marker": {
          "color": "green",
          "size": 4
         },
         "mode": "markers",
         "name": "Mitte P11",
         "showlegend": false,
         "type": "scatter3d",
         "x": [
          270.0523718715375
         ],
         "y": [
          933.7528216291385
         ],
         "z": [
          713.2294002516695
         ]
        },
        {
         "color": "rgba(0,255,0,0.2)",
         "name": "optimale Trajektorie",
         "opacity": 0.8,
         "type": "mesh3d",
         "x": [
          265.1178169359699,
          266.609468829399,
          267.71249991865534,
          266.22084802522625
         ],
         "y": [
          928.0938901855569,
          928.811324974996,
          940.6897030839269,
          939.9722682944879
         ],
         "z": [
          715.2831303023092,
          707.456236796471,
          708.755257934637,
          716.5821514404753
         ]
        },
        {
         "line": {
          "color": "rgba(0,255,0,0.2)",
          "width": 3
         },
         "mode": "lines",
         "showlegend": false,
         "type": "scatter3d",
         "x": [
          265.1178169359699,
          266.609468829399
         ],
         "y": [
          928.0938901855569,
          928.811324974996
         ],
         "z": [
          715.2831303023092,
          707.456236796471
         ]
        },
        {
         "line": {
          "color": "rgba(0,255,0,0.2)",
          "width": 3
         },
         "mode": "lines",
         "showlegend": false,
         "type": "scatter3d",
         "x": [
          266.609468829399,
          267.71249991865534
         ],
         "y": [
          928.811324974996,
          940.6897030839269
         ],
         "z": [
          707.456236796471,
          708.755257934637
         ]
        },
        {
         "line": {
          "color": "rgba(0,255,0,0.2)",
          "width": 3
         },
         "mode": "lines",
         "showlegend": false,
         "type": "scatter3d",
         "x": [
          267.71249991865534,
          266.22084802522625
         ],
         "y": [
          940.6897030839269,
          939.9722682944879
         ],
         "z": [
          708.755257934637,
          716.5821514404753
         ]
        },
        {
         "line": {
          "color": "rgba(0,255,0,0.2)",
          "width": 3
         },
         "mode": "lines",
         "showlegend": false,
         "type": "scatter3d",
         "x": [
          266.22084802522625,
          265.1178169359699
         ],
         "y": [
          939.9722682944879,
          928.0938901855569
         ],
         "z": [
          716.5821514404753,
          715.2831303023092
         ]
        },
        {
         "marker": {
          "color": "green",
          "size": 4
         },
         "mode": "markers",
         "name": "Mitte P11",
         "showlegend": false,
         "type": "scatter3d",
         "x": [
          266.41515842731263
         ],
         "y": [
          934.3917966347419
         ],
         "z": [
          712.0191941184731
         ]
        },
        {
         "color": "rgba(0,255,0,0.2)",
         "name": "optimale Trajektorie",
         "opacity": 0.8,
         "type": "mesh3d",
         "x": [
          265.79397971378364,
          265.75299945607424,
          266.90384170758375,
          266.94482196529316
         ],
         "y": [
          927.6749003859125,
          928.5559547291616,
          940.4286286270371,
          939.547574283788
         ],
         "z": [
          715.1295772178627,
          707.1783468814481,
          708.487994401526,
          716.4392247379405
         ]
        },
        {
         "line": {
          "color": "rgba(0,255,0,0.2)",
          "width": 3
         },
         "mode": "lines",
         "showlegend": false,
         "type": "scatter3d",
         "x": [
          265.79397971378364,
          265.75299945607424
         ],
         "y": [
          927.6749003859125,
          928.5559547291616
         ],
         "z": [
          715.1295772178627,
          707.1783468814481
         ]
        },
        {
         "line": {
          "color": "rgba(0,255,0,0.2)",
          "width": 3
         },
         "mode": "lines",
         "showlegend": false,
         "type": "scatter3d",
         "x": [
          265.75299945607424,
          266.90384170758375
         ],
         "y": [
          928.5559547291616,
          940.4286286270371
         ],
         "z": [
          707.1783468814481,
          708.487994401526
         ]
        },
        {
         "line": {
          "color": "rgba(0,255,0,0.2)",
          "width": 3
         },
         "mode": "lines",
         "showlegend": false,
         "type": "scatter3d",
         "x": [
          266.90384170758375,
          266.94482196529316
         ],
         "y": [
          940.4286286270371,
          939.547574283788
         ],
         "z": [
          708.487994401526,
          716.4392247379405
         ]
        },
        {
         "line": {
          "color": "rgba(0,255,0,0.2)",
          "width": 3
         },
         "mode": "lines",
         "showlegend": false,
         "type": "scatter3d",
         "x": [
          266.94482196529316,
          265.79397971378364
         ],
         "y": [
          939.547574283788,
          927.6749003859125
         ],
         "z": [
          716.4392247379405,
          715.1295772178627
         ]
        },
        {
         "marker": {
          "color": "green",
          "size": 4
         },
         "mode": "markers",
         "name": "Mitte P11",
         "showlegend": false,
         "type": "scatter3d",
         "x": [
          266.3489107106837
         ],
         "y": [
          934.0517645064748
         ],
         "z": [
          711.8087858096943
         ]
        },
        {
         "line": {
          "color": "green",
          "width": 2
         },
         "mode": "lines",
         "name": "Optimale Hakenlinie",
         "type": "scatter3d",
         "x": {
          "bdata": "HsJtieM3cUCw1oAl2GBxQM5ZuhZKHnFAvjfjg9bgcEB3vyl9pKZwQMW5ZSOVpXBA",
          "dtype": "f8"
         },
         "y": {
          "bdata": "w69UahxCjUB4vAyC6S+NQK4aC8tnMY1A+KZYxwUujUAyJ0ZmIjONQDlzggNqMI1A",
          "dtype": "f8"
         },
         "z": {
          "bdata": "onQq/+yLhkClszVNGY+GQBN3ioBYboZA65TMz9VJhkDx+D5PJ0CGQNnQsWR4PoZA",
          "dtype": "f8"
         }
        },
        {
         "line": {
          "color": "gray",
          "dash": "dash"
         },
         "mode": "lines",
         "name": "Direkte Gerade Spitze -> Senke",
         "type": "scatter3d",
         "x": [
          275.4772590310812,
          262.87494971035653
         ],
         "y": [
          936.1547931572338,
          982.5314174759983
         ],
         "z": [
          721.5128129461401,
          711.0545267676108
         ]
        },
        {
         "marker": {
          "color": "magenta",
          "size": 8
         },
         "mode": "markers",
         "name": "Spitze",
         "type": "scatter3d",
         "x": [
          275.4772590310812
         ],
         "y": [
          936.1547931572338
         ],
         "z": [
          721.5128129461401
         ]
        },
        {
         "marker": {
          "color": "magenta",
          "size": 8
         },
         "mode": "markers",
         "name": "Senke",
         "type": "scatter3d",
         "x": [
          262.87494971035653
         ],
         "y": [
          982.5314174759983
         ],
         "z": [
          711.0545267676108
         ]
        },
        {
         "mode": "text",
         "showlegend": false,
         "text": [
          "Spitze"
         ],
         "textfont": {
          "size": 10
         },
         "textposition": "top center",
         "type": "scatter3d",
         "x": [
          275.4772590310812
         ],
         "y": [
          936.1547931572338
         ],
         "z": [
          721.5128129461401
         ]
        },
        {
         "mode": "text",
         "showlegend": false,
         "text": [
          "Senke"
         ],
         "textfont": {
          "size": 10
         },
         "textposition": "top center",
         "type": "scatter3d",
         "x": [
          262.87494971035653
         ],
         "y": [
          982.5314174759983
         ],
         "z": [
          711.0545267676108
         ]
        }
       ],
       "layout": {
        "legend": {
         "title": {
          "text": "Legende"
         }
        },
        "scene": {
         "aspectmode": "cube",
         "xaxis": {
          "title": {
           "text": "X"
          }
         },
         "yaxis": {
          "title": {
           "text": "Y"
          }
         },
         "zaxis": {
          "title": {
           "text": "Z"
          }
         }
        },
        "template": {
         "data": {
          "bar": [
           {
            "error_x": {
             "color": "#2a3f5f"
            },
            "error_y": {
             "color": "#2a3f5f"
            },
            "marker": {
             "line": {
              "color": "#E5ECF6",
              "width": 0.5
             },
             "pattern": {
              "fillmode": "overlay",
              "size": 10,
              "solidity": 0.2
             }
            },
            "type": "bar"
           }
          ],
          "barpolar": [
           {
            "marker": {
             "line": {
              "color": "#E5ECF6",
              "width": 0.5
             },
             "pattern": {
              "fillmode": "overlay",
              "size": 10,
              "solidity": 0.2
             }
            },
            "type": "barpolar"
           }
          ],
          "carpet": [
           {
            "aaxis": {
             "endlinecolor": "#2a3f5f",
             "gridcolor": "white",
             "linecolor": "white",
             "minorgridcolor": "white",
             "startlinecolor": "#2a3f5f"
            },
            "baxis": {
             "endlinecolor": "#2a3f5f",
             "gridcolor": "white",
             "linecolor": "white",
             "minorgridcolor": "white",
             "startlinecolor": "#2a3f5f"
            },
            "type": "carpet"
           }
          ],
          "choropleth": [
           {
            "colorbar": {
             "outlinewidth": 0,
             "ticks": ""
            },
            "type": "choropleth"
           }
          ],
          "contour": [
           {
            "colorbar": {
             "outlinewidth": 0,
             "ticks": ""
            },
            "colorscale": [
             [
              0,
              "#0d0887"
             ],
             [
              0.1111111111111111,
              "#46039f"
             ],
             [
              0.2222222222222222,
              "#7201a8"
             ],
             [
              0.3333333333333333,
              "#9c179e"
             ],
             [
              0.4444444444444444,
              "#bd3786"
             ],
             [
              0.5555555555555556,
              "#d8576b"
             ],
             [
              0.6666666666666666,
              "#ed7953"
             ],
             [
              0.7777777777777778,
              "#fb9f3a"
             ],
             [
              0.8888888888888888,
              "#fdca26"
             ],
             [
              1,
              "#f0f921"
             ]
            ],
            "type": "contour"
           }
          ],
          "contourcarpet": [
           {
            "colorbar": {
             "outlinewidth": 0,
             "ticks": ""
            },
            "type": "contourcarpet"
           }
          ],
          "heatmap": [
           {
            "colorbar": {
             "outlinewidth": 0,
             "ticks": ""
            },
            "colorscale": [
             [
              0,
              "#0d0887"
             ],
             [
              0.1111111111111111,
              "#46039f"
             ],
             [
              0.2222222222222222,
              "#7201a8"
             ],
             [
              0.3333333333333333,
              "#9c179e"
             ],
             [
              0.4444444444444444,
              "#bd3786"
             ],
             [
              0.5555555555555556,
              "#d8576b"
             ],
             [
              0.6666666666666666,
              "#ed7953"
             ],
             [
              0.7777777777777778,
              "#fb9f3a"
             ],
             [
              0.8888888888888888,
              "#fdca26"
             ],
             [
              1,
              "#f0f921"
             ]
            ],
            "type": "heatmap"
           }
          ],
          "histogram": [
           {
            "marker": {
             "pattern": {
              "fillmode": "overlay",
              "size": 10,
              "solidity": 0.2
             }
            },
            "type": "histogram"
           }
          ],
          "histogram2d": [
           {
            "colorbar": {
             "outlinewidth": 0,
             "ticks": ""
            },
            "colorscale": [
             [
              0,
              "#0d0887"
             ],
             [
              0.1111111111111111,
              "#46039f"
             ],
             [
              0.2222222222222222,
              "#7201a8"
             ],
             [
              0.3333333333333333,
              "#9c179e"
             ],
             [
              0.4444444444444444,
              "#bd3786"
             ],
             [
              0.5555555555555556,
              "#d8576b"
             ],
             [
              0.6666666666666666,
              "#ed7953"
             ],
             [
              0.7777777777777778,
              "#fb9f3a"
             ],
             [
              0.8888888888888888,
              "#fdca26"
             ],
             [
              1,
              "#f0f921"
             ]
            ],
            "type": "histogram2d"
           }
          ],
          "histogram2dcontour": [
           {
            "colorbar": {
             "outlinewidth": 0,
             "ticks": ""
            },
            "colorscale": [
             [
              0,
              "#0d0887"
             ],
             [
              0.1111111111111111,
              "#46039f"
             ],
             [
              0.2222222222222222,
              "#7201a8"
             ],
             [
              0.3333333333333333,
              "#9c179e"
             ],
             [
              0.4444444444444444,
              "#bd3786"
             ],
             [
              0.5555555555555556,
              "#d8576b"
             ],
             [
              0.6666666666666666,
              "#ed7953"
             ],
             [
              0.7777777777777778,
              "#fb9f3a"
             ],
             [
              0.8888888888888888,
              "#fdca26"
             ],
             [
              1,
              "#f0f921"
             ]
            ],
            "type": "histogram2dcontour"
           }
          ],
          "mesh3d": [
           {
            "colorbar": {
             "outlinewidth": 0,
             "ticks": ""
            },
            "type": "mesh3d"
           }
          ],
          "parcoords": [
           {
            "line": {
             "colorbar": {
              "outlinewidth": 0,
              "ticks": ""
             }
            },
            "type": "parcoords"
           }
          ],
          "pie": [
           {
            "automargin": true,
            "type": "pie"
           }
          ],
          "scatter": [
           {
            "fillpattern": {
             "fillmode": "overlay",
             "size": 10,
             "solidity": 0.2
            },
            "type": "scatter"
           }
          ],
          "scatter3d": [
           {
            "line": {
             "colorbar": {
              "outlinewidth": 0,
              "ticks": ""
             }
            },
            "marker": {
             "colorbar": {
              "outlinewidth": 0,
              "ticks": ""
             }
            },
            "type": "scatter3d"
           }
          ],
          "scattercarpet": [
           {
            "marker": {
             "colorbar": {
              "outlinewidth": 0,
              "ticks": ""
             }
            },
            "type": "scattercarpet"
           }
          ],
          "scattergeo": [
           {
            "marker": {
             "colorbar": {
              "outlinewidth": 0,
              "ticks": ""
             }
            },
            "type": "scattergeo"
           }
          ],
          "scattergl": [
           {
            "marker": {
             "colorbar": {
              "outlinewidth": 0,
              "ticks": ""
             }
            },
            "type": "scattergl"
           }
          ],
          "scattermap": [
           {
            "marker": {
             "colorbar": {
              "outlinewidth": 0,
              "ticks": ""
             }
            },
            "type": "scattermap"
           }
          ],
          "scattermapbox": [
           {
            "marker": {
             "colorbar": {
              "outlinewidth": 0,
              "ticks": ""
             }
            },
            "type": "scattermapbox"
           }
          ],
          "scatterpolar": [
           {
            "marker": {
             "colorbar": {
              "outlinewidth": 0,
              "ticks": ""
             }
            },
            "type": "scatterpolar"
           }
          ],
          "scatterpolargl": [
           {
            "marker": {
             "colorbar": {
              "outlinewidth": 0,
              "ticks": ""
             }
            },
            "type": "scatterpolargl"
           }
          ],
          "scatterternary": [
           {
            "marker": {
             "colorbar": {
              "outlinewidth": 0,
              "ticks": ""
             }
            },
            "type": "scatterternary"
           }
          ],
          "surface": [
           {
            "colorbar": {
             "outlinewidth": 0,
             "ticks": ""
            },
            "colorscale": [
             [
              0,
              "#0d0887"
             ],
             [
              0.1111111111111111,
              "#46039f"
             ],
             [
              0.2222222222222222,
              "#7201a8"
             ],
             [
              0.3333333333333333,
              "#9c179e"
             ],
             [
              0.4444444444444444,
              "#bd3786"
             ],
             [
              0.5555555555555556,
              "#d8576b"
             ],
             [
              0.6666666666666666,
              "#ed7953"
             ],
             [
              0.7777777777777778,
              "#fb9f3a"
             ],
             [
              0.8888888888888888,
              "#fdca26"
             ],
             [
              1,
              "#f0f921"
             ]
            ],
            "type": "surface"
           }
          ],
          "table": [
           {
            "cells": {
             "fill": {
              "color": "#EBF0F8"
             },
             "line": {
              "color": "white"
             }
            },
            "header": {
             "fill": {
              "color": "#C8D4E3"
             },
             "line": {
              "color": "white"
             }
            },
            "type": "table"
           }
          ]
         },
         "layout": {
          "annotationdefaults": {
           "arrowcolor": "#2a3f5f",
           "arrowhead": 0,
           "arrowwidth": 1
          },
          "autotypenumbers": "strict",
          "coloraxis": {
           "colorbar": {
            "outlinewidth": 0,
            "ticks": ""
           }
          },
          "colorscale": {
           "diverging": [
            [
             0,
             "#8e0152"
            ],
            [
             0.1,
             "#c51b7d"
            ],
            [
             0.2,
             "#de77ae"
            ],
            [
             0.3,
             "#f1b6da"
            ],
            [
             0.4,
             "#fde0ef"
            ],
            [
             0.5,
             "#f7f7f7"
            ],
            [
             0.6,
             "#e6f5d0"
            ],
            [
             0.7,
             "#b8e186"
            ],
            [
             0.8,
             "#7fbc41"
            ],
            [
             0.9,
             "#4d9221"
            ],
            [
             1,
             "#276419"
            ]
           ],
           "sequential": [
            [
             0,
             "#0d0887"
            ],
            [
             0.1111111111111111,
             "#46039f"
            ],
            [
             0.2222222222222222,
             "#7201a8"
            ],
            [
             0.3333333333333333,
             "#9c179e"
            ],
            [
             0.4444444444444444,
             "#bd3786"
            ],
            [
             0.5555555555555556,
             "#d8576b"
            ],
            [
             0.6666666666666666,
             "#ed7953"
            ],
            [
             0.7777777777777778,
             "#fb9f3a"
            ],
            [
             0.8888888888888888,
             "#fdca26"
            ],
            [
             1,
             "#f0f921"
            ]
           ],
           "sequentialminus": [
            [
             0,
             "#0d0887"
            ],
            [
             0.1111111111111111,
             "#46039f"
            ],
            [
             0.2222222222222222,
             "#7201a8"
            ],
            [
             0.3333333333333333,
             "#9c179e"
            ],
            [
             0.4444444444444444,
             "#bd3786"
            ],
            [
             0.5555555555555556,
             "#d8576b"
            ],
            [
             0.6666666666666666,
             "#ed7953"
            ],
            [
             0.7777777777777778,
             "#fb9f3a"
            ],
            [
             0.8888888888888888,
             "#fdca26"
            ],
            [
             1,
             "#f0f921"
            ]
           ]
          },
          "colorway": [
           "#636efa",
           "#EF553B",
           "#00cc96",
           "#ab63fa",
           "#FFA15A",
           "#19d3f3",
           "#FF6692",
           "#B6E880",
           "#FF97FF",
           "#FECB52"
          ],
          "font": {
           "color": "#2a3f5f"
          },
          "geo": {
           "bgcolor": "white",
           "lakecolor": "white",
           "landcolor": "#E5ECF6",
           "showlakes": true,
           "showland": true,
           "subunitcolor": "white"
          },
          "hoverlabel": {
           "align": "left"
          },
          "hovermode": "closest",
          "mapbox": {
           "style": "light"
          },
          "paper_bgcolor": "white",
          "plot_bgcolor": "#E5ECF6",
          "polar": {
           "angularaxis": {
            "gridcolor": "white",
            "linecolor": "white",
            "ticks": ""
           },
           "bgcolor": "#E5ECF6",
           "radialaxis": {
            "gridcolor": "white",
            "linecolor": "white",
            "ticks": ""
           }
          },
          "scene": {
           "xaxis": {
            "backgroundcolor": "#E5ECF6",
            "gridcolor": "white",
            "gridwidth": 2,
            "linecolor": "white",
            "showbackground": true,
            "ticks": "",
            "zerolinecolor": "white"
           },
           "yaxis": {
            "backgroundcolor": "#E5ECF6",
            "gridcolor": "white",
            "gridwidth": 2,
            "linecolor": "white",
            "showbackground": true,
            "ticks": "",
            "zerolinecolor": "white"
           },
           "zaxis": {
            "backgroundcolor": "#E5ECF6",
            "gridcolor": "white",
            "gridwidth": 2,
            "linecolor": "white",
            "showbackground": true,
            "ticks": "",
            "zerolinecolor": "white"
           }
          },
          "shapedefaults": {
           "line": {
            "color": "#2a3f5f"
           }
          },
          "ternary": {
           "aaxis": {
            "gridcolor": "white",
            "linecolor": "white",
            "ticks": ""
           },
           "baxis": {
            "gridcolor": "white",
            "linecolor": "white",
            "ticks": ""
           },
           "bgcolor": "#E5ECF6",
           "caxis": {
            "gridcolor": "white",
            "linecolor": "white",
            "ticks": ""
           }
          },
          "title": {
           "x": 0.05
          },
          "xaxis": {
           "automargin": true,
           "gridcolor": "white",
           "linecolor": "white",
           "ticks": "",
           "title": {
            "standoff": 15
           },
           "zerolinecolor": "white",
           "zerolinewidth": 2
          },
          "yaxis": {
           "automargin": true,
           "gridcolor": "white",
           "linecolor": "white",
           "ticks": "",
           "title": {
            "standoff": 15
           },
           "zerolinecolor": "white",
           "zerolinewidth": 2
          }
         }
        },
        "title": {
         "text": "Haken 17, Trajektorien-Ansatz 1"
        }
       }
      }
     },
     "metadata": {},
     "output_type": "display_data"
    },
    {
     "name": "stdout",
     "output_type": "stream",
     "text": [
      "HTML-Datei '/home/mo/Thesis/Evaluation/Trajektorientests/traj2.html' erfolgreich erstellt!\n"
     ]
    },
    {
     "data": {
      "application/vnd.plotly.v1+json": {
       "config": {
        "plotlyServerURL": "https://plot.ly"
       },
       "data": [
        {
         "color": "rgba(31, 119, 180, 0.8)",
         "name": "P1",
         "opacity": 0.8,
         "type": "mesh3d",
         "x": [
          268.6946258503076,
          273.0883410032355,
          282.2914760479064,
          277.8977608949785
         ],
         "y": [
          938.0882166832229,
          933.0996751224382,
          934.4395307935957,
          939.4280723543804
         ],
         "z": [
          719.924455116724,
          715.4736439264736,
          723.056986997311,
          727.5077981875613
         ]
        },
        {
         "marker": {
          "color": "red",
          "size": 3
         },
         "mode": "markers+text",
         "showlegend": false,
         "text": "",
         "textfont": {
          "size": 12
         },
         "textposition": "top center",
         "type": "scatter3d",
         "x": [
          275.493050949107
         ],
         "y": [
          936.2638737384093
         ],
         "z": [
          721.4907210570175
         ]
        },
        {
         "line": {
          "color": "rgba(31, 119, 180, 0.8)",
          "width": 4
         },
         "mode": "lines",
         "showlegend": false,
         "type": "scatter3d",
         "x": [
          268.6946258503076,
          273.0883410032355
         ],
         "y": [
          938.0882166832229,
          933.0996751224382
         ],
         "z": [
          719.924455116724,
          715.4736439264736
         ]
        },
        {
         "line": {
          "color": "rgba(31, 119, 180, 0.8)",
          "width": 4
         },
         "mode": "lines",
         "showlegend": false,
         "type": "scatter3d",
         "x": [
          273.0883410032355,
          282.2914760479064
         ],
         "y": [
          933.0996751224382,
          934.4395307935957
         ],
         "z": [
          715.4736439264736,
          723.056986997311
         ]
        },
        {
         "line": {
          "color": "rgba(31, 119, 180, 0.8)",
          "width": 4
         },
         "mode": "lines",
         "showlegend": false,
         "type": "scatter3d",
         "x": [
          282.2914760479064,
          277.8977608949785
         ],
         "y": [
          934.4395307935957,
          939.4280723543804
         ],
         "z": [
          723.056986997311,
          727.5077981875613
         ]
        },
        {
         "line": {
          "color": "rgba(31, 119, 180, 0.8)",
          "width": 4
         },
         "mode": "lines",
         "showlegend": false,
         "type": "scatter3d",
         "x": [
          277.8977608949785,
          268.6946258503076
         ],
         "y": [
          939.4280723543804,
          938.0882166832229
         ],
         "z": [
          727.5077981875613,
          719.924455116724
         ]
        },
        {
         "color": "rgba(174, 199, 232, 0.8)",
         "name": "P2",
         "opacity": 0.8,
         "type": "mesh3d",
         "x": [
          268.6788339322818,
          273.0725490852097,
          282.2756841298806,
          277.8819689769527
         ],
         "y": [
          937.9791361020474,
          932.9905945412627,
          934.3304502124203,
          939.318991773205
         ],
         "z": [
          719.9465470058466,
          715.4957358155963,
          723.0790788864336,
          727.529890076684
         ]
        },
        {
         "marker": {
          "color": "red",
          "size": 3
         },
         "mode": "markers+text",
         "showlegend": false,
         "text": "",
         "textfont": {
          "size": 12
         },
         "textposition": "top center",
         "type": "scatter3d",
         "x": [
          275.4772590310812
         ],
         "y": [
          936.1547931572338
         ],
         "z": [
          721.5128129461401
         ]
        },
        {
         "line": {
          "color": "rgba(174, 199, 232, 0.8)",
          "width": 4
         },
         "mode": "lines",
         "showlegend": false,
         "type": "scatter3d",
         "x": [
          268.6788339322818,
          273.0725490852097
         ],
         "y": [
          937.9791361020474,
          932.9905945412627
         ],
         "z": [
          719.9465470058466,
          715.4957358155963
         ]
        },
        {
         "line": {
          "color": "rgba(174, 199, 232, 0.8)",
          "width": 4
         },
         "mode": "lines",
         "showlegend": false,
         "type": "scatter3d",
         "x": [
          273.0725490852097,
          282.2756841298806
         ],
         "y": [
          932.9905945412627,
          934.3304502124203
         ],
         "z": [
          715.4957358155963,
          723.0790788864336
         ]
        },
        {
         "line": {
          "color": "rgba(174, 199, 232, 0.8)",
          "width": 4
         },
         "mode": "lines",
         "showlegend": false,
         "type": "scatter3d",
         "x": [
          282.2756841298806,
          277.8819689769527
         ],
         "y": [
          934.3304502124203,
          939.318991773205
         ],
         "z": [
          723.0790788864336,
          727.529890076684
         ]
        },
        {
         "line": {
          "color": "rgba(174, 199, 232, 0.8)",
          "width": 4
         },
         "mode": "lines",
         "showlegend": false,
         "type": "scatter3d",
         "x": [
          277.8819689769527,
          268.6788339322818
         ],
         "y": [
          939.318991773205,
          937.9791361020474
         ],
         "z": [
          727.529890076684,
          719.9465470058466
         ]
        },
        {
         "color": "rgba(255, 187, 120, 0.8)",
         "name": "P3",
         "opacity": 0.8,
         "type": "mesh3d",
         "x": [
          267.9199238241663,
          272.3136389770942,
          281.51677402176506,
          277.1230588688372
         ],
         "y": [
          942.1423645479036,
          937.1538229871189,
          938.4936786582765,
          943.4822202190612
         ],
         "z": [
          718.2722370250345,
          713.8214258347842,
          721.4047689056216,
          725.8555800958719
         ]
        },
        {
         "marker": {
          "color": "red",
          "size": 3
         },
         "mode": "markers+text",
         "showlegend": false,
         "text": "P2",
         "textfont": {
          "size": 12
         },
         "textposition": "top center",
         "type": "scatter3d",
         "x": [
          274.7183489229657
         ],
         "y": [
          940.3180216030901
         ],
         "z": [
          719.8385029653281
         ]
        },
        {
         "line": {
          "color": "rgba(255, 187, 120, 0.8)",
          "width": 4
         },
         "mode": "lines",
         "showlegend": false,
         "type": "scatter3d",
         "x": [
          267.9199238241663,
          272.3136389770942
         ],
         "y": [
          942.1423645479036,
          937.1538229871189
         ],
         "z": [
          718.2722370250345,
          713.8214258347842
         ]
        },
        {
         "line": {
          "color": "rgba(255, 187, 120, 0.8)",
          "width": 4
         },
         "mode": "lines",
         "showlegend": false,
         "type": "scatter3d",
         "x": [
          272.3136389770942,
          281.51677402176506
         ],
         "y": [
          937.1538229871189,
          938.4936786582765
         ],
         "z": [
          713.8214258347842,
          721.4047689056216
         ]
        },
        {
         "line": {
          "color": "rgba(255, 187, 120, 0.8)",
          "width": 4
         },
         "mode": "lines",
         "showlegend": false,
         "type": "scatter3d",
         "x": [
          281.51677402176506,
          277.1230588688372
         ],
         "y": [
          938.4936786582765,
          943.4822202190612
         ],
         "z": [
          721.4047689056216,
          725.8555800958719
         ]
        },
        {
         "line": {
          "color": "rgba(255, 187, 120, 0.8)",
          "width": 4
         },
         "mode": "lines",
         "showlegend": false,
         "type": "scatter3d",
         "x": [
          277.1230588688372,
          267.9199238241663
         ],
         "y": [
          943.4822202190612,
          942.1423645479036
         ],
         "z": [
          725.8555800958719,
          718.2722370250345
         ]
        },
        {
         "color": "rgba(152, 223, 138, 0.8)",
         "name": "P4",
         "opacity": 0.8,
         "type": "mesh3d",
         "x": [
          266.7771391247387,
          271.1708542776666,
          280.3739893223375,
          275.9802741694096
         ],
         "y": [
          943.6061016494045,
          938.6175600886198,
          939.9574157597774,
          944.9459573205621
         ],
         "z": [
          716.7347250385369,
          712.2839138482866,
          719.867256919124,
          724.3180681093743
         ]
        },
        {
         "marker": {
          "color": "red",
          "size": 3
         },
         "mode": "markers+text",
         "showlegend": false,
         "text": "P3",
         "textfont": {
          "size": 12
         },
         "textposition": "top center",
         "type": "scatter3d",
         "x": [
          273.5755642235381
         ],
         "y": [
          941.7817587045911
         ],
         "z": [
          718.3009909788304
         ]
        },
        {
         "line": {
          "color": "rgba(152, 223, 138, 0.8)",
          "width": 4
         },
         "mode": "lines",
         "showlegend": false,
         "type": "scatter3d",
         "x": [
          266.7771391247387,
          271.1708542776666
         ],
         "y": [
          943.6061016494045,
          938.6175600886198
         ],
         "z": [
          716.7347250385369,
          712.2839138482866
         ]
        },
        {
         "line": {
          "color": "rgba(152, 223, 138, 0.8)",
          "width": 4
         },
         "mode": "lines",
         "showlegend": false,
         "type": "scatter3d",
         "x": [
          271.1708542776666,
          280.3739893223375
         ],
         "y": [
          938.6175600886198,
          939.9574157597774
         ],
         "z": [
          712.2839138482866,
          719.867256919124
         ]
        },
        {
         "line": {
          "color": "rgba(152, 223, 138, 0.8)",
          "width": 4
         },
         "mode": "lines",
         "showlegend": false,
         "type": "scatter3d",
         "x": [
          280.3739893223375,
          275.9802741694096
         ],
         "y": [
          939.9574157597774,
          944.9459573205621
         ],
         "z": [
          719.867256919124,
          724.3180681093743
         ]
        },
        {
         "line": {
          "color": "rgba(152, 223, 138, 0.8)",
          "width": 4
         },
         "mode": "lines",
         "showlegend": false,
         "type": "scatter3d",
         "x": [
          275.9802741694096,
          266.7771391247387
         ],
         "y": [
          944.9459573205621,
          943.6061016494045
         ],
         "z": [
          724.3180681093743,
          716.7347250385369
         ]
        },
        {
         "color": "rgba(255, 152, 150, 0.8)",
         "name": "P5",
         "opacity": 0.8,
         "type": "mesh3d",
         "x": [
          265.8256500633704,
          270.2193652162983,
          279.4225002609692,
          275.0287851080413
         ],
         "y": [
          949.4056064732225,
          944.4170649124378,
          945.7569205835954,
          950.7454621443801
         ],
         "z": [
          715.0161291622534,
          710.5653179720031,
          718.1486610428404,
          722.5994722330908
         ]
        },
        {
         "marker": {
          "color": "red",
          "size": 3
         },
         "mode": "markers+text",
         "showlegend": false,
         "text": "P4",
         "textfont": {
          "size": 12
         },
         "textposition": "top center",
         "type": "scatter3d",
         "x": [
          272.6240751621698
         ],
         "y": [
          947.581263528409
         ],
         "z": [
          716.5823951025469
         ]
        },
        {
         "line": {
          "color": "rgba(255, 152, 150, 0.8)",
          "width": 4
         },
         "mode": "lines",
         "showlegend": false,
         "type": "scatter3d",
         "x": [
          265.8256500633704,
          270.2193652162983
         ],
         "y": [
          949.4056064732225,
          944.4170649124378
         ],
         "z": [
          715.0161291622534,
          710.5653179720031
         ]
        },
        {
         "line": {
          "color": "rgba(255, 152, 150, 0.8)",
          "width": 4
         },
         "mode": "lines",
         "showlegend": false,
         "type": "scatter3d",
         "x": [
          270.2193652162983,
          279.4225002609692
         ],
         "y": [
          944.4170649124378,
          945.7569205835954
         ],
         "z": [
          710.5653179720031,
          718.1486610428404
         ]
        },
        {
         "line": {
          "color": "rgba(255, 152, 150, 0.8)",
          "width": 4
         },
         "mode": "lines",
         "showlegend": false,
         "type": "scatter3d",
         "x": [
          279.4225002609692,
          275.0287851080413
         ],
         "y": [
          945.7569205835954,
          950.7454621443801
         ],
         "z": [
          718.1486610428404,
          722.5994722330908
         ]
        },
        {
         "line": {
          "color": "rgba(255, 152, 150, 0.8)",
          "width": 4
         },
         "mode": "lines",
         "showlegend": false,
         "type": "scatter3d",
         "x": [
          275.0287851080413,
          265.8256500633704
         ],
         "y": [
          950.7454621443801,
          949.4056064732225
         ],
         "z": [
          722.5994722330908,
          715.0161291622534
         ]
        },
        {
         "color": "rgba(197, 176, 213, 0.8)",
         "name": "P6",
         "opacity": 0.8,
         "type": "mesh3d",
         "x": [
          264.487323633154,
          268.8810387860819,
          278.0841738307528,
          273.6904586778249
         ],
         "y": [
          952.4538374021873,
          947.4652958414026,
          948.8051515125602,
          953.7936930733449
         ],
         "z": [
          713.5381694709258,
          709.0873582806755,
          716.6707013515129,
          721.1215125417632
         ]
        },
        {
         "marker": {
          "color": "red",
          "size": 3
         },
         "mode": "markers+text",
         "showlegend": false,
         "text": "P5",
         "textfont": {
          "size": 12
         },
         "textposition": "top center",
         "type": "scatter3d",
         "x": [
          271.2857487319534
         ],
         "y": [
          950.6294944573738
         ],
         "z": [
          715.1044354112194
         ]
        },
        {
         "line": {
          "color": "rgba(197, 176, 213, 0.8)",
          "width": 4
         },
         "mode": "lines",
         "showlegend": false,
         "type": "scatter3d",
         "x": [
          264.487323633154,
          268.8810387860819
         ],
         "y": [
          952.4538374021873,
          947.4652958414026
         ],
         "z": [
          713.5381694709258,
          709.0873582806755
         ]
        },
        {
         "line": {
          "color": "rgba(197, 176, 213, 0.8)",
          "width": 4
         },
         "mode": "lines",
         "showlegend": false,
         "type": "scatter3d",
         "x": [
          268.8810387860819,
          278.0841738307528
         ],
         "y": [
          947.4652958414026,
          948.8051515125602
         ],
         "z": [
          709.0873582806755,
          716.6707013515129
         ]
        },
        {
         "line": {
          "color": "rgba(197, 176, 213, 0.8)",
          "width": 4
         },
         "mode": "lines",
         "showlegend": false,
         "type": "scatter3d",
         "x": [
          278.0841738307528,
          273.6904586778249
         ],
         "y": [
          948.8051515125602,
          953.7936930733449
         ],
         "z": [
          716.6707013515129,
          721.1215125417632
         ]
        },
        {
         "line": {
          "color": "rgba(197, 176, 213, 0.8)",
          "width": 4
         },
         "mode": "lines",
         "showlegend": false,
         "type": "scatter3d",
         "x": [
          273.6904586778249,
          264.487323633154
         ],
         "y": [
          953.7936930733449,
          952.4538374021873
         ],
         "z": [
          721.1215125417632,
          713.5381694709258
         ]
        },
        {
         "color": "rgba(140, 86, 75, 0.8)",
         "name": "P7",
         "opacity": 0.8,
         "type": "mesh3d",
         "x": [
          263.12771918556143,
          267.5214343384893,
          276.7245693831602,
          272.3308542302323
         ],
         "y": [
          957.1025309590328,
          952.1139893982481,
          953.4538450694057,
          958.4423866301904
         ],
         "z": [
          712.3118721412935,
          707.8610609510432,
          715.4444040218806,
          719.8952152121309
         ]
        },
        {
         "marker": {
          "color": "red",
          "size": 3
         },
         "mode": "markers+text",
         "showlegend": false,
         "text": "P6",
         "textfont": {
          "size": 12
         },
         "textposition": "top center",
         "type": "scatter3d",
         "x": [
          269.9261442843608
         ],
         "y": [
          955.2781880142193
         ],
         "z": [
          713.878138081587
         ]
        },
        {
         "line": {
          "color": "rgba(140, 86, 75, 0.8)",
          "width": 4
         },
         "mode": "lines",
         "showlegend": false,
         "type": "scatter3d",
         "x": [
          263.12771918556143,
          267.5214343384893
         ],
         "y": [
          957.1025309590328,
          952.1139893982481
         ],
         "z": [
          712.3118721412935,
          707.8610609510432
         ]
        },
        {
         "line": {
          "color": "rgba(140, 86, 75, 0.8)",
          "width": 4
         },
         "mode": "lines",
         "showlegend": false,
         "type": "scatter3d",
         "x": [
          267.5214343384893,
          276.7245693831602
         ],
         "y": [
          952.1139893982481,
          953.4538450694057
         ],
         "z": [
          707.8610609510432,
          715.4444040218806
         ]
        },
        {
         "line": {
          "color": "rgba(140, 86, 75, 0.8)",
          "width": 4
         },
         "mode": "lines",
         "showlegend": false,
         "type": "scatter3d",
         "x": [
          276.7245693831602,
          272.3308542302323
         ],
         "y": [
          953.4538450694057,
          958.4423866301904
         ],
         "z": [
          715.4444040218806,
          719.8952152121309
         ]
        },
        {
         "line": {
          "color": "rgba(140, 86, 75, 0.8)",
          "width": 4
         },
         "mode": "lines",
         "showlegend": false,
         "type": "scatter3d",
         "x": [
          272.3308542302323,
          263.12771918556143
         ],
         "y": [
          958.4423866301904,
          957.1025309590328
         ],
         "z": [
          719.8952152121309,
          712.3118721412935
         ]
        },
        {
         "color": "rgba(227, 119, 194, 0.8)",
         "name": "P8",
         "opacity": 0.8,
         "type": "mesh3d",
         "x": [
          261.55628074746016,
          265.94999590038805,
          275.15313094505893,
          270.75941579213105
         ],
         "y": [
          961.9086560181833,
          956.9201144573985,
          958.2599701285561,
          963.2485116893408
         ],
         "z": [
          711.1407416595797,
          706.6899304693294,
          714.2732735401668,
          718.7240847304171
         ]
        },
        {
         "marker": {
          "color": "red",
          "size": 3
         },
         "mode": "markers+text",
         "showlegend": false,
         "text": "P7",
         "textfont": {
          "size": 12
         },
         "textposition": "top center",
         "type": "scatter3d",
         "x": [
          268.35470584625955
         ],
         "y": [
          960.0843130733697
         ],
         "z": [
          712.7070075998732
         ]
        },
        {
         "line": {
          "color": "rgba(227, 119, 194, 0.8)",
          "width": 4
         },
         "mode": "lines",
         "showlegend": false,
         "type": "scatter3d",
         "x": [
          261.55628074746016,
          265.94999590038805
         ],
         "y": [
          961.9086560181833,
          956.9201144573985
         ],
         "z": [
          711.1407416595797,
          706.6899304693294
         ]
        },
        {
         "line": {
          "color": "rgba(227, 119, 194, 0.8)",
          "width": 4
         },
         "mode": "lines",
         "showlegend": false,
         "type": "scatter3d",
         "x": [
          265.94999590038805,
          275.15313094505893
         ],
         "y": [
          956.9201144573985,
          958.2599701285561
         ],
         "z": [
          706.6899304693294,
          714.2732735401668
         ]
        },
        {
         "line": {
          "color": "rgba(227, 119, 194, 0.8)",
          "width": 4
         },
         "mode": "lines",
         "showlegend": false,
         "type": "scatter3d",
         "x": [
          275.15313094505893,
          270.75941579213105
         ],
         "y": [
          958.2599701285561,
          963.2485116893408
         ],
         "z": [
          714.2732735401668,
          718.7240847304171
         ]
        },
        {
         "line": {
          "color": "rgba(227, 119, 194, 0.8)",
          "width": 4
         },
         "mode": "lines",
         "showlegend": false,
         "type": "scatter3d",
         "x": [
          270.75941579213105,
          261.55628074746016
         ],
         "y": [
          963.2485116893408,
          961.9086560181833
         ],
         "z": [
          718.7240847304171,
          711.1407416595797
         ]
        },
        {
         "color": "rgba(127, 127, 127, 0.8)",
         "name": "P9",
         "opacity": 0.8,
         "type": "mesh3d",
         "x": [
          259.91343974936206,
          264.30715490228994,
          273.5102899469608,
          269.11657479403294
         ],
         "y": [
          970.159646936287,
          965.1711053755023,
          966.5109610466599,
          971.4995026074446
         ],
         "z": [
          710.4070980085758,
          705.9562868183255,
          713.5396298891628,
          717.9904410794131
         ]
        },
        {
         "marker": {
          "color": "red",
          "size": 3
         },
         "mode": "markers+text",
         "showlegend": false,
         "text": "P8",
         "textfont": {
          "size": 12
         },
         "textposition": "top center",
         "type": "scatter3d",
         "x": [
          266.71186484816144
         ],
         "y": [
          968.3353039914734
         ],
         "z": [
          711.9733639488693
         ]
        },
        {
         "line": {
          "color": "rgba(127, 127, 127, 0.8)",
          "width": 4
         },
         "mode": "lines",
         "showlegend": false,
         "type": "scatter3d",
         "x": [
          259.91343974936206,
          264.30715490228994
         ],
         "y": [
          970.159646936287,
          965.1711053755023
         ],
         "z": [
          710.4070980085758,
          705.9562868183255
         ]
        },
        {
         "line": {
          "color": "rgba(127, 127, 127, 0.8)",
          "width": 4
         },
         "mode": "lines",
         "showlegend": false,
         "type": "scatter3d",
         "x": [
          264.30715490228994,
          273.5102899469608
         ],
         "y": [
          965.1711053755023,
          966.5109610466599
         ],
         "z": [
          705.9562868183255,
          713.5396298891628
         ]
        },
        {
         "line": {
          "color": "rgba(127, 127, 127, 0.8)",
          "width": 4
         },
         "mode": "lines",
         "showlegend": false,
         "type": "scatter3d",
         "x": [
          273.5102899469608,
          269.11657479403294
         ],
         "y": [
          966.5109610466599,
          971.4995026074446
         ],
         "z": [
          713.5396298891628,
          717.9904410794131
         ]
        },
        {
         "line": {
          "color": "rgba(127, 127, 127, 0.8)",
          "width": 4
         },
         "mode": "lines",
         "showlegend": false,
         "type": "scatter3d",
         "x": [
          269.11657479403294,
          259.91343974936206
         ],
         "y": [
          971.4995026074446,
          970.159646936287
         ],
         "z": [
          717.9904410794131,
          710.4070980085758
         ]
        },
        {
         "color": "rgba(188, 189, 34, 0.8)",
         "name": "P10",
         "opacity": 0.8,
         "type": "mesh3d",
         "x": [
          258.0331904215134,
          262.42690557444126,
          271.63004061911215,
          267.23632546618427
         ],
         "y": [
          977.1121757506594,
          972.1236341898747,
          973.4634898610323,
          978.452031421817
         ],
         "z": [
          709.9108977455439,
          705.4600865552936,
          713.043429626131,
          717.4942408163813
         ]
        },
        {
         "marker": {
          "color": "red",
          "size": 3
         },
         "mode": "markers+text",
         "showlegend": false,
         "text": "P9",
         "textfont": {
          "size": 12
         },
         "textposition": "top center",
         "type": "scatter3d",
         "x": [
          264.83161552031277
         ],
         "y": [
          975.2878328058459
         ],
         "z": [
          711.4771636858375
         ]
        },
        {
         "line": {
          "color": "rgba(188, 189, 34, 0.8)",
          "width": 4
         },
         "mode": "lines",
         "showlegend": false,
         "type": "scatter3d",
         "x": [
          258.0331904215134,
          262.42690557444126
         ],
         "y": [
          977.1121757506594,
          972.1236341898747
         ],
         "z": [
          709.9108977455439,
          705.4600865552936
         ]
        },
        {
         "line": {
          "color": "rgba(188, 189, 34, 0.8)",
          "width": 4
         },
         "mode": "lines",
         "showlegend": false,
         "type": "scatter3d",
         "x": [
          262.42690557444126,
          271.63004061911215
         ],
         "y": [
          972.1236341898747,
          973.4634898610323
         ],
         "z": [
          705.4600865552936,
          713.043429626131
         ]
        },
        {
         "line": {
          "color": "rgba(188, 189, 34, 0.8)",
          "width": 4
         },
         "mode": "lines",
         "showlegend": false,
         "type": "scatter3d",
         "x": [
          271.63004061911215,
          267.23632546618427
         ],
         "y": [
          973.4634898610323,
          978.452031421817
         ],
         "z": [
          713.043429626131,
          717.4942408163813
         ]
        },
        {
         "line": {
          "color": "rgba(188, 189, 34, 0.8)",
          "width": 4
         },
         "mode": "lines",
         "showlegend": false,
         "type": "scatter3d",
         "x": [
          267.23632546618427,
          258.0331904215134
         ],
         "y": [
          978.452031421817,
          977.1121757506594
         ],
         "z": [
          717.4942408163813,
          709.9108977455439
         ]
        },
        {
         "color": "rgba(23, 190, 207, 0.8)",
         "name": "P11",
         "opacity": 0.8,
         "type": "mesh3d",
         "x": [
          256.07652461155715,
          260.47023976448503,
          269.6733748091559,
          265.27965965622803
         ],
         "y": [
          984.3557604208119,
          979.3672188600272,
          980.7070745311847,
          985.6956160919694
         ],
         "z": [
          709.4882608273173,
          705.037449637067,
          712.6207927079043,
          717.0716038981546
         ]
        },
        {
         "marker": {
          "color": "red",
          "size": 3
         },
         "mode": "markers+text",
         "showlegend": false,
         "text": "",
         "textfont": {
          "size": 12
         },
         "textposition": "top center",
         "type": "scatter3d",
         "x": [
          262.87494971035653
         ],
         "y": [
          982.5314174759983
         ],
         "z": [
          711.0545267676108
         ]
        },
        {
         "line": {
          "color": "rgba(23, 190, 207, 0.8)",
          "width": 4
         },
         "mode": "lines",
         "showlegend": false,
         "type": "scatter3d",
         "x": [
          256.07652461155715,
          260.47023976448503
         ],
         "y": [
          984.3557604208119,
          979.3672188600272
         ],
         "z": [
          709.4882608273173,
          705.037449637067
         ]
        },
        {
         "line": {
          "color": "rgba(23, 190, 207, 0.8)",
          "width": 4
         },
         "mode": "lines",
         "showlegend": false,
         "type": "scatter3d",
         "x": [
          260.47023976448503,
          269.6733748091559
         ],
         "y": [
          979.3672188600272,
          980.7070745311847
         ],
         "z": [
          705.037449637067,
          712.6207927079043
         ]
        },
        {
         "line": {
          "color": "rgba(23, 190, 207, 0.8)",
          "width": 4
         },
         "mode": "lines",
         "showlegend": false,
         "type": "scatter3d",
         "x": [
          269.6733748091559,
          265.27965965622803
         ],
         "y": [
          980.7070745311847,
          985.6956160919694
         ],
         "z": [
          712.6207927079043,
          717.0716038981546
         ]
        },
        {
         "line": {
          "color": "rgba(23, 190, 207, 0.8)",
          "width": 4
         },
         "mode": "lines",
         "showlegend": false,
         "type": "scatter3d",
         "x": [
          265.27965965622803,
          256.07652461155715
         ],
         "y": [
          985.6956160919694,
          984.3557604208119
         ],
         "z": [
          717.0716038981546,
          709.4882608273173
         ]
        },
        {
         "line": {
          "color": "black",
          "width": 2
         },
         "mode": "lines",
         "name": "Berechnete Hakenlinie",
         "type": "scatter3d",
         "x": {
          "bdata": "0lpkieM3cUBuo13aojdxQBK0cFt+K3FAgM3UgjUZcUA+vDw2/AlxQNApQ22S9HBAUEurfNHecEAolgngrMVwQGggZcxjq3BAbmkTTE6NcEAEekTL/21wQA==",
          "dtype": "f8"
         },
         "y": {
          "bdata": "7qXVaRxCjUC23zEEPUGNQIwF6U6LYo1AqCy1CkFujUD+Jn5tppyNQHjbYzQJtY1AsDmjujnajUD8JVWsrACOQMbs27OuQo5AmD5Je016jkB8P85XQLSOQA==",
          "dtype": "f8"
         },
         "z": {
          "bdata": "ylop/+yLhkAZhaw9GoyGQHftCkG1foZAvlP1bWhyhkBRdsO+qGSGQNqdO+LVWIZATy5CbQZPhkDVu5nzp0WGQP67CXPJP4ZAFswxO9E7hkAp3bqrbziGQA==",
          "dtype": "f8"
         }
        },
        {
         "mode": "text",
         "showlegend": false,
         "text": [
          "Pre-Position"
         ],
         "textfont": {
          "size": 10
         },
         "textposition": "top center",
         "type": "scatter3d",
         "x": [
          275.493050949107
         ],
         "y": [
          936.2638737384093
         ],
         "z": [
          721.4907210570175
         ]
        },
        {
         "mode": "text",
         "showlegend": false,
         "text": [
          "Loslassen"
         ],
         "textfont": {
          "size": 10
         },
         "textposition": "top center",
         "type": "scatter3d",
         "x": [
          262.87494971035653
         ],
         "y": [
          982.5314174759983
         ],
         "z": [
          711.0545267676108
         ]
        },
        {
         "color": "rgba(0,255,0,0.2)",
         "name": "optimale Trajektorie",
         "opacity": 0.8,
         "type": "mesh3d",
         "x": [
          271.61979252830685,
          279.3101684380986,
          279.3663094399687,
          271.67593353017696
         ],
         "y": [
          930.2686209040137,
          930.2601976855832,
          942.2591284658247,
          942.2675516842552
         ],
         "z": [
          722.5177561361269,
          720.3136582672731,
          720.4636859943136,
          722.6677838631673
         ]
        },
        {
         "line": {
          "color": "rgba(0,255,0,0.2)",
          "width": 3
         },
         "mode": "lines",
         "showlegend": false,
         "type": "scatter3d",
         "x": [
          271.61979252830685,
          279.3101684380986
         ],
         "y": [
          930.2686209040137,
          930.2601976855832
         ],
         "z": [
          722.5177561361269,
          720.3136582672731
         ]
        },
        {
         "line": {
          "color": "rgba(0,255,0,0.2)",
          "width": 3
         },
         "mode": "lines",
         "showlegend": false,
         "type": "scatter3d",
         "x": [
          279.3101684380986,
          279.3663094399687
         ],
         "y": [
          930.2601976855832,
          942.2591284658247
         ],
         "z": [
          720.3136582672731,
          720.4636859943136
         ]
        },
        {
         "line": {
          "color": "rgba(0,255,0,0.2)",
          "width": 3
         },
         "mode": "lines",
         "showlegend": false,
         "type": "scatter3d",
         "x": [
          279.3663094399687,
          271.67593353017696
         ],
         "y": [
          942.2591284658247,
          942.2675516842552
         ],
         "z": [
          720.4636859943136,
          722.6677838631673
         ]
        },
        {
         "line": {
          "color": "rgba(0,255,0,0.2)",
          "width": 3
         },
         "mode": "lines",
         "showlegend": false,
         "type": "scatter3d",
         "x": [
          271.67593353017696,
          271.61979252830685
         ],
         "y": [
          942.2675516842552,
          930.2686209040137
         ],
         "z": [
          722.6677838631673,
          722.5177561361269
         ]
        },
        {
         "marker": {
          "color": "green",
          "size": 4
         },
         "mode": "markers",
         "name": "Mitte P11",
         "showlegend": false,
         "type": "scatter3d",
         "x": [
          275.49305098413777
         ],
         "y": [
          936.2638746849192
         ],
         "z": [
          721.4907210652202
         ]
        },
        {
         "color": "rgba(0,255,0,0.2)",
         "name": "optimale Trajektorie",
         "opacity": 0.8,
         "type": "mesh3d",
         "x": [
          274.82316046322234,
          281.0351292258658,
          281.2823798185996,
          275.0704110559562
         ],
         "y": [
          927.9849209855388,
          928.0005322349925,
          939.99311417739,
          939.9775029279363
         ],
         "z": [
          724.2369171068719,
          719.1959647781117,
          719.5377914875357,
          724.578743816296
         ]
        },
        {
         "line": {
          "color": "rgba(0,255,0,0.2)",
          "width": 3
         },
         "mode": "lines",
         "showlegend": false,
         "type": "scatter3d",
         "x": [
          274.82316046322234,
          281.0351292258658
         ],
         "y": [
          927.9849209855388,
          928.0005322349925
         ],
         "z": [
          724.2369171068719,
          719.1959647781117
         ]
        },
        {
         "line": {
          "color": "rgba(0,255,0,0.2)",
          "width": 3
         },
         "mode": "lines",
         "showlegend": false,
         "type": "scatter3d",
         "x": [
          281.0351292258658,
          281.2823798185996
         ],
         "y": [
          928.0005322349925,
          939.99311417739
         ],
         "z": [
          719.1959647781117,
          719.5377914875357
         ]
        },
        {
         "line": {
          "color": "rgba(0,255,0,0.2)",
          "width": 3
         },
         "mode": "lines",
         "showlegend": false,
         "type": "scatter3d",
         "x": [
          281.2823798185996,
          275.0704110559562
         ],
         "y": [
          939.99311417739,
          939.9775029279363
         ],
         "z": [
          719.5377914875357,
          724.578743816296
         ]
        },
        {
         "line": {
          "color": "rgba(0,255,0,0.2)",
          "width": 3
         },
         "mode": "lines",
         "showlegend": false,
         "type": "scatter3d",
         "x": [
          275.0704110559562,
          274.82316046322234
         ],
         "y": [
          939.9775029279363,
          927.9849209855388
         ],
         "z": [
          724.578743816296,
          724.2369171068719
         ]
        },
        {
         "marker": {
          "color": "green",
          "size": 4
         },
         "mode": "markers",
         "name": "Mitte P11",
         "showlegend": false,
         "type": "scatter3d",
         "x": [
          278.052770140911
         ],
         "y": [
          933.9890175814644
         ],
         "z": [
          721.8873542972038
         ]
        },
        {
         "color": "rgba(0,255,0,0.2)",
         "name": "optimale Trajektorie",
         "opacity": 0.8,
         "type": "mesh3d",
         "x": [
          270.7477423823568,
          276.3014143222067,
          277.03843378023475,
          271.48476184038486
         ],
         "y": [
          928.1084438753062,
          928.3210903100422,
          940.2429166112045,
          940.0302701764684
         ],
         "z": [
          720.0943969418504,
          714.3401368262214,
          715.4920309026909,
          721.2462910183199
         ]
        },
        {
         "line": {
          "color": "rgba(0,255,0,0.2)",
          "width": 3
         },
         "mode": "lines",
         "showlegend": false,
         "type": "scatter3d",
         "x": [
          270.7477423823568,
          276.3014143222067
         ],
         "y": [
          928.1084438753062,
          928.3210903100422
         ],
         "z": [
          720.0943969418504,
          714.3401368262214
         ]
        },
        {
         "line": {
          "color": "rgba(0,255,0,0.2)",
          "width": 3
         },
         "mode": "lines",
         "showlegend": false,
         "type": "scatter3d",
         "x": [
          276.3014143222067,
          277.03843378023475
         ],
         "y": [
          928.3210903100422,
          940.2429166112045
         ],
         "z": [
          714.3401368262214,
          715.4920309026909
         ]
        },
        {
         "line": {
          "color": "rgba(0,255,0,0.2)",
          "width": 3
         },
         "mode": "lines",
         "showlegend": false,
         "type": "scatter3d",
         "x": [
          277.03843378023475,
          271.48476184038486
         ],
         "y": [
          940.2429166112045,
          940.0302701764684
         ],
         "z": [
          715.4920309026909,
          721.2462910183199
         ]
        },
        {
         "line": {
          "color": "rgba(0,255,0,0.2)",
          "width": 3
         },
         "mode": "lines",
         "showlegend": false,
         "type": "scatter3d",
         "x": [
          271.48476184038486,
          270.7477423823568
         ],
         "y": [
          940.0302701764684,
          928.1084438753062
         ],
         "z": [
          721.2462910183199,
          720.0943969418504
         ]
        },
        {
         "marker": {
          "color": "green",
          "size": 4
         },
         "mode": "markers",
         "name": "Mitte P11",
         "showlegend": false,
         "type": "scatter3d",
         "x": [
          273.8930880812958
         ],
         "y": [
          934.1756802432553
         ],
         "z": [
          717.7932139222706
         ]
        },
        {
         "color": "rgba(0,255,0,0.2)",
         "name": "optimale Trajektorie",
         "opacity": 0.8,
         "type": "mesh3d",
         "x": [
          267.65577711349266,
          271.3258571697832,
          272.44896662958234,
          268.7788865732918
         ],
         "y": [
          927.591384924965,
          928.0417160843109,
          939.9142583333121,
          939.4639271739662
         ],
         "z": [
          716.1091626214103,
          709.0149597608107,
          710.3496378819287,
          717.4438407425283
         ]
        },
        {
         "line": {
          "color": "rgba(0,255,0,0.2)",
          "width": 3
         },
         "mode": "lines",
         "showlegend": false,
         "type": "scatter3d",
         "x": [
          267.65577711349266,
          271.3258571697832
         ],
         "y": [
          927.591384924965,
          928.0417160843109
         ],
         "z": [
          716.1091626214103,
          709.0149597608107
         ]
        },
        {
         "line": {
          "color": "rgba(0,255,0,0.2)",
          "width": 3
         },
         "mode": "lines",
         "showlegend": false,
         "type": "scatter3d",
         "x": [
          271.3258571697832,
          272.44896662958234
         ],
         "y": [
          928.0417160843109,
          939.9142583333121
         ],
         "z": [
          709.0149597608107,
          710.3496378819287
         ]
        },
        {
         "line": {
          "color": "rgba(0,255,0,0.2)",
          "width": 3
         },
         "mode": "lines",
         "showlegend": false,
         "type": "scatter3d",
         "x": [
          272.44896662958234,
          268.7788865732918
         ],
         "y": [
          939.9142583333121,
          939.4639271739662
         ],
         "z": [
          710.3496378819287,
          717.4438407425283
         ]
        },
        {
         "line": {
          "color": "rgba(0,255,0,0.2)",
          "width": 3
         },
         "mode": "lines",
         "showlegend": false,
         "type": "scatter3d",
         "x": [
          268.7788865732918,
          267.65577711349266
         ],
         "y": [
          939.4639271739662,
          927.591384924965
         ],
         "z": [
          717.4438407425283,
          716.1091626214103
         ]
        },
        {
         "marker": {
          "color": "green",
          "size": 4
         },
         "mode": "markers",
         "name": "Mitte P11",
         "showlegend": false,
         "type": "scatter3d",
         "x": [
          270.0523718715375
         ],
         "y": [
          933.7528216291385
         ],
         "z": [
          713.2294002516695
         ]
        },
        {
         "color": "rgba(0,255,0,0.2)",
         "name": "optimale Trajektorie",
         "opacity": 0.8,
         "type": "mesh3d",
         "x": [
          265.1178169359699,
          266.609468829399,
          267.71249991865534,
          266.22084802522625
         ],
         "y": [
          928.0938901855569,
          928.811324974996,
          940.6897030839269,
          939.9722682944879
         ],
         "z": [
          715.2831303023092,
          707.456236796471,
          708.755257934637,
          716.5821514404753
         ]
        },
        {
         "line": {
          "color": "rgba(0,255,0,0.2)",
          "width": 3
         },
         "mode": "lines",
         "showlegend": false,
         "type": "scatter3d",
         "x": [
          265.1178169359699,
          266.609468829399
         ],
         "y": [
          928.0938901855569,
          928.811324974996
         ],
         "z": [
          715.2831303023092,
          707.456236796471
         ]
        },
        {
         "line": {
          "color": "rgba(0,255,0,0.2)",
          "width": 3
         },
         "mode": "lines",
         "showlegend": false,
         "type": "scatter3d",
         "x": [
          266.609468829399,
          267.71249991865534
         ],
         "y": [
          928.811324974996,
          940.6897030839269
         ],
         "z": [
          707.456236796471,
          708.755257934637
         ]
        },
        {
         "line": {
          "color": "rgba(0,255,0,0.2)",
          "width": 3
         },
         "mode": "lines",
         "showlegend": false,
         "type": "scatter3d",
         "x": [
          267.71249991865534,
          266.22084802522625
         ],
         "y": [
          940.6897030839269,
          939.9722682944879
         ],
         "z": [
          708.755257934637,
          716.5821514404753
         ]
        },
        {
         "line": {
          "color": "rgba(0,255,0,0.2)",
          "width": 3
         },
         "mode": "lines",
         "showlegend": false,
         "type": "scatter3d",
         "x": [
          266.22084802522625,
          265.1178169359699
         ],
         "y": [
          939.9722682944879,
          928.0938901855569
         ],
         "z": [
          716.5821514404753,
          715.2831303023092
         ]
        },
        {
         "marker": {
          "color": "green",
          "size": 4
         },
         "mode": "markers",
         "name": "Mitte P11",
         "showlegend": false,
         "type": "scatter3d",
         "x": [
          266.41515842731263
         ],
         "y": [
          934.3917966347419
         ],
         "z": [
          712.0191941184731
         ]
        },
        {
         "color": "rgba(0,255,0,0.2)",
         "name": "optimale Trajektorie",
         "opacity": 0.8,
         "type": "mesh3d",
         "x": [
          265.79397971378364,
          265.75299945607424,
          266.90384170758375,
          266.94482196529316
         ],
         "y": [
          927.6749003859125,
          928.5559547291616,
          940.4286286270371,
          939.547574283788
         ],
         "z": [
          715.1295772178627,
          707.1783468814481,
          708.487994401526,
          716.4392247379405
         ]
        },
        {
         "line": {
          "color": "rgba(0,255,0,0.2)",
          "width": 3
         },
         "mode": "lines",
         "showlegend": false,
         "type": "scatter3d",
         "x": [
          265.79397971378364,
          265.75299945607424
         ],
         "y": [
          927.6749003859125,
          928.5559547291616
         ],
         "z": [
          715.1295772178627,
          707.1783468814481
         ]
        },
        {
         "line": {
          "color": "rgba(0,255,0,0.2)",
          "width": 3
         },
         "mode": "lines",
         "showlegend": false,
         "type": "scatter3d",
         "x": [
          265.75299945607424,
          266.90384170758375
         ],
         "y": [
          928.5559547291616,
          940.4286286270371
         ],
         "z": [
          707.1783468814481,
          708.487994401526
         ]
        },
        {
         "line": {
          "color": "rgba(0,255,0,0.2)",
          "width": 3
         },
         "mode": "lines",
         "showlegend": false,
         "type": "scatter3d",
         "x": [
          266.90384170758375,
          266.94482196529316
         ],
         "y": [
          940.4286286270371,
          939.547574283788
         ],
         "z": [
          708.487994401526,
          716.4392247379405
         ]
        },
        {
         "line": {
          "color": "rgba(0,255,0,0.2)",
          "width": 3
         },
         "mode": "lines",
         "showlegend": false,
         "type": "scatter3d",
         "x": [
          266.94482196529316,
          265.79397971378364
         ],
         "y": [
          939.547574283788,
          927.6749003859125
         ],
         "z": [
          716.4392247379405,
          715.1295772178627
         ]
        },
        {
         "marker": {
          "color": "green",
          "size": 4
         },
         "mode": "markers",
         "name": "Mitte P11",
         "showlegend": false,
         "type": "scatter3d",
         "x": [
          266.3489107106837
         ],
         "y": [
          934.0517645064748
         ],
         "z": [
          711.8087858096943
         ]
        },
        {
         "line": {
          "color": "green",
          "width": 2
         },
         "mode": "lines",
         "name": "Optimale Hakenlinie",
         "type": "scatter3d",
         "x": {
          "bdata": "HsJtieM3cUCw1oAl2GBxQM5ZuhZKHnFAvjfjg9bgcEB3vyl9pKZwQMW5ZSOVpXBA",
          "dtype": "f8"
         },
         "y": {
          "bdata": "w69UahxCjUB4vAyC6S+NQK4aC8tnMY1A+KZYxwUujUAyJ0ZmIjONQDlzggNqMI1A",
          "dtype": "f8"
         },
         "z": {
          "bdata": "onQq/+yLhkClszVNGY+GQBN3ioBYboZA65TMz9VJhkDx+D5PJ0CGQNnQsWR4PoZA",
          "dtype": "f8"
         }
        },
        {
         "line": {
          "color": "gray",
          "dash": "dash"
         },
         "mode": "lines",
         "name": "Direkte Gerade Spitze -> Senke",
         "type": "scatter3d",
         "x": [
          275.4772590310812,
          262.87494971035653
         ],
         "y": [
          936.1547931572338,
          982.5314174759983
         ],
         "z": [
          721.5128129461401,
          711.0545267676108
         ]
        },
        {
         "marker": {
          "color": "magenta",
          "size": 8
         },
         "mode": "markers",
         "name": "Spitze",
         "type": "scatter3d",
         "x": [
          275.4772590310812
         ],
         "y": [
          936.1547931572338
         ],
         "z": [
          721.5128129461401
         ]
        },
        {
         "marker": {
          "color": "magenta",
          "size": 8
         },
         "mode": "markers",
         "name": "Senke",
         "type": "scatter3d",
         "x": [
          262.87494971035653
         ],
         "y": [
          982.5314174759983
         ],
         "z": [
          711.0545267676108
         ]
        },
        {
         "mode": "text",
         "showlegend": false,
         "text": [
          "Spitze"
         ],
         "textfont": {
          "size": 10
         },
         "textposition": "top center",
         "type": "scatter3d",
         "x": [
          275.4772590310812
         ],
         "y": [
          936.1547931572338
         ],
         "z": [
          721.5128129461401
         ]
        },
        {
         "mode": "text",
         "showlegend": false,
         "text": [
          "Senke"
         ],
         "textfont": {
          "size": 10
         },
         "textposition": "top center",
         "type": "scatter3d",
         "x": [
          262.87494971035653
         ],
         "y": [
          982.5314174759983
         ],
         "z": [
          711.0545267676108
         ]
        }
       ],
       "layout": {
        "legend": {
         "title": {
          "text": "Legende"
         }
        },
        "scene": {
         "aspectmode": "cube",
         "xaxis": {
          "title": {
           "text": "X"
          }
         },
         "yaxis": {
          "title": {
           "text": "Y"
          }
         },
         "zaxis": {
          "title": {
           "text": "Z"
          }
         }
        },
        "template": {
         "data": {
          "bar": [
           {
            "error_x": {
             "color": "#2a3f5f"
            },
            "error_y": {
             "color": "#2a3f5f"
            },
            "marker": {
             "line": {
              "color": "#E5ECF6",
              "width": 0.5
             },
             "pattern": {
              "fillmode": "overlay",
              "size": 10,
              "solidity": 0.2
             }
            },
            "type": "bar"
           }
          ],
          "barpolar": [
           {
            "marker": {
             "line": {
              "color": "#E5ECF6",
              "width": 0.5
             },
             "pattern": {
              "fillmode": "overlay",
              "size": 10,
              "solidity": 0.2
             }
            },
            "type": "barpolar"
           }
          ],
          "carpet": [
           {
            "aaxis": {
             "endlinecolor": "#2a3f5f",
             "gridcolor": "white",
             "linecolor": "white",
             "minorgridcolor": "white",
             "startlinecolor": "#2a3f5f"
            },
            "baxis": {
             "endlinecolor": "#2a3f5f",
             "gridcolor": "white",
             "linecolor": "white",
             "minorgridcolor": "white",
             "startlinecolor": "#2a3f5f"
            },
            "type": "carpet"
           }
          ],
          "choropleth": [
           {
            "colorbar": {
             "outlinewidth": 0,
             "ticks": ""
            },
            "type": "choropleth"
           }
          ],
          "contour": [
           {
            "colorbar": {
             "outlinewidth": 0,
             "ticks": ""
            },
            "colorscale": [
             [
              0,
              "#0d0887"
             ],
             [
              0.1111111111111111,
              "#46039f"
             ],
             [
              0.2222222222222222,
              "#7201a8"
             ],
             [
              0.3333333333333333,
              "#9c179e"
             ],
             [
              0.4444444444444444,
              "#bd3786"
             ],
             [
              0.5555555555555556,
              "#d8576b"
             ],
             [
              0.6666666666666666,
              "#ed7953"
             ],
             [
              0.7777777777777778,
              "#fb9f3a"
             ],
             [
              0.8888888888888888,
              "#fdca26"
             ],
             [
              1,
              "#f0f921"
             ]
            ],
            "type": "contour"
           }
          ],
          "contourcarpet": [
           {
            "colorbar": {
             "outlinewidth": 0,
             "ticks": ""
            },
            "type": "contourcarpet"
           }
          ],
          "heatmap": [
           {
            "colorbar": {
             "outlinewidth": 0,
             "ticks": ""
            },
            "colorscale": [
             [
              0,
              "#0d0887"
             ],
             [
              0.1111111111111111,
              "#46039f"
             ],
             [
              0.2222222222222222,
              "#7201a8"
             ],
             [
              0.3333333333333333,
              "#9c179e"
             ],
             [
              0.4444444444444444,
              "#bd3786"
             ],
             [
              0.5555555555555556,
              "#d8576b"
             ],
             [
              0.6666666666666666,
              "#ed7953"
             ],
             [
              0.7777777777777778,
              "#fb9f3a"
             ],
             [
              0.8888888888888888,
              "#fdca26"
             ],
             [
              1,
              "#f0f921"
             ]
            ],
            "type": "heatmap"
           }
          ],
          "histogram": [
           {
            "marker": {
             "pattern": {
              "fillmode": "overlay",
              "size": 10,
              "solidity": 0.2
             }
            },
            "type": "histogram"
           }
          ],
          "histogram2d": [
           {
            "colorbar": {
             "outlinewidth": 0,
             "ticks": ""
            },
            "colorscale": [
             [
              0,
              "#0d0887"
             ],
             [
              0.1111111111111111,
              "#46039f"
             ],
             [
              0.2222222222222222,
              "#7201a8"
             ],
             [
              0.3333333333333333,
              "#9c179e"
             ],
             [
              0.4444444444444444,
              "#bd3786"
             ],
             [
              0.5555555555555556,
              "#d8576b"
             ],
             [
              0.6666666666666666,
              "#ed7953"
             ],
             [
              0.7777777777777778,
              "#fb9f3a"
             ],
             [
              0.8888888888888888,
              "#fdca26"
             ],
             [
              1,
              "#f0f921"
             ]
            ],
            "type": "histogram2d"
           }
          ],
          "histogram2dcontour": [
           {
            "colorbar": {
             "outlinewidth": 0,
             "ticks": ""
            },
            "colorscale": [
             [
              0,
              "#0d0887"
             ],
             [
              0.1111111111111111,
              "#46039f"
             ],
             [
              0.2222222222222222,
              "#7201a8"
             ],
             [
              0.3333333333333333,
              "#9c179e"
             ],
             [
              0.4444444444444444,
              "#bd3786"
             ],
             [
              0.5555555555555556,
              "#d8576b"
             ],
             [
              0.6666666666666666,
              "#ed7953"
             ],
             [
              0.7777777777777778,
              "#fb9f3a"
             ],
             [
              0.8888888888888888,
              "#fdca26"
             ],
             [
              1,
              "#f0f921"
             ]
            ],
            "type": "histogram2dcontour"
           }
          ],
          "mesh3d": [
           {
            "colorbar": {
             "outlinewidth": 0,
             "ticks": ""
            },
            "type": "mesh3d"
           }
          ],
          "parcoords": [
           {
            "line": {
             "colorbar": {
              "outlinewidth": 0,
              "ticks": ""
             }
            },
            "type": "parcoords"
           }
          ],
          "pie": [
           {
            "automargin": true,
            "type": "pie"
           }
          ],
          "scatter": [
           {
            "fillpattern": {
             "fillmode": "overlay",
             "size": 10,
             "solidity": 0.2
            },
            "type": "scatter"
           }
          ],
          "scatter3d": [
           {
            "line": {
             "colorbar": {
              "outlinewidth": 0,
              "ticks": ""
             }
            },
            "marker": {
             "colorbar": {
              "outlinewidth": 0,
              "ticks": ""
             }
            },
            "type": "scatter3d"
           }
          ],
          "scattercarpet": [
           {
            "marker": {
             "colorbar": {
              "outlinewidth": 0,
              "ticks": ""
             }
            },
            "type": "scattercarpet"
           }
          ],
          "scattergeo": [
           {
            "marker": {
             "colorbar": {
              "outlinewidth": 0,
              "ticks": ""
             }
            },
            "type": "scattergeo"
           }
          ],
          "scattergl": [
           {
            "marker": {
             "colorbar": {
              "outlinewidth": 0,
              "ticks": ""
             }
            },
            "type": "scattergl"
           }
          ],
          "scattermap": [
           {
            "marker": {
             "colorbar": {
              "outlinewidth": 0,
              "ticks": ""
             }
            },
            "type": "scattermap"
           }
          ],
          "scattermapbox": [
           {
            "marker": {
             "colorbar": {
              "outlinewidth": 0,
              "ticks": ""
             }
            },
            "type": "scattermapbox"
           }
          ],
          "scatterpolar": [
           {
            "marker": {
             "colorbar": {
              "outlinewidth": 0,
              "ticks": ""
             }
            },
            "type": "scatterpolar"
           }
          ],
          "scatterpolargl": [
           {
            "marker": {
             "colorbar": {
              "outlinewidth": 0,
              "ticks": ""
             }
            },
            "type": "scatterpolargl"
           }
          ],
          "scatterternary": [
           {
            "marker": {
             "colorbar": {
              "outlinewidth": 0,
              "ticks": ""
             }
            },
            "type": "scatterternary"
           }
          ],
          "surface": [
           {
            "colorbar": {
             "outlinewidth": 0,
             "ticks": ""
            },
            "colorscale": [
             [
              0,
              "#0d0887"
             ],
             [
              0.1111111111111111,
              "#46039f"
             ],
             [
              0.2222222222222222,
              "#7201a8"
             ],
             [
              0.3333333333333333,
              "#9c179e"
             ],
             [
              0.4444444444444444,
              "#bd3786"
             ],
             [
              0.5555555555555556,
              "#d8576b"
             ],
             [
              0.6666666666666666,
              "#ed7953"
             ],
             [
              0.7777777777777778,
              "#fb9f3a"
             ],
             [
              0.8888888888888888,
              "#fdca26"
             ],
             [
              1,
              "#f0f921"
             ]
            ],
            "type": "surface"
           }
          ],
          "table": [
           {
            "cells": {
             "fill": {
              "color": "#EBF0F8"
             },
             "line": {
              "color": "white"
             }
            },
            "header": {
             "fill": {
              "color": "#C8D4E3"
             },
             "line": {
              "color": "white"
             }
            },
            "type": "table"
           }
          ]
         },
         "layout": {
          "annotationdefaults": {
           "arrowcolor": "#2a3f5f",
           "arrowhead": 0,
           "arrowwidth": 1
          },
          "autotypenumbers": "strict",
          "coloraxis": {
           "colorbar": {
            "outlinewidth": 0,
            "ticks": ""
           }
          },
          "colorscale": {
           "diverging": [
            [
             0,
             "#8e0152"
            ],
            [
             0.1,
             "#c51b7d"
            ],
            [
             0.2,
             "#de77ae"
            ],
            [
             0.3,
             "#f1b6da"
            ],
            [
             0.4,
             "#fde0ef"
            ],
            [
             0.5,
             "#f7f7f7"
            ],
            [
             0.6,
             "#e6f5d0"
            ],
            [
             0.7,
             "#b8e186"
            ],
            [
             0.8,
             "#7fbc41"
            ],
            [
             0.9,
             "#4d9221"
            ],
            [
             1,
             "#276419"
            ]
           ],
           "sequential": [
            [
             0,
             "#0d0887"
            ],
            [
             0.1111111111111111,
             "#46039f"
            ],
            [
             0.2222222222222222,
             "#7201a8"
            ],
            [
             0.3333333333333333,
             "#9c179e"
            ],
            [
             0.4444444444444444,
             "#bd3786"
            ],
            [
             0.5555555555555556,
             "#d8576b"
            ],
            [
             0.6666666666666666,
             "#ed7953"
            ],
            [
             0.7777777777777778,
             "#fb9f3a"
            ],
            [
             0.8888888888888888,
             "#fdca26"
            ],
            [
             1,
             "#f0f921"
            ]
           ],
           "sequentialminus": [
            [
             0,
             "#0d0887"
            ],
            [
             0.1111111111111111,
             "#46039f"
            ],
            [
             0.2222222222222222,
             "#7201a8"
            ],
            [
             0.3333333333333333,
             "#9c179e"
            ],
            [
             0.4444444444444444,
             "#bd3786"
            ],
            [
             0.5555555555555556,
             "#d8576b"
            ],
            [
             0.6666666666666666,
             "#ed7953"
            ],
            [
             0.7777777777777778,
             "#fb9f3a"
            ],
            [
             0.8888888888888888,
             "#fdca26"
            ],
            [
             1,
             "#f0f921"
            ]
           ]
          },
          "colorway": [
           "#636efa",
           "#EF553B",
           "#00cc96",
           "#ab63fa",
           "#FFA15A",
           "#19d3f3",
           "#FF6692",
           "#B6E880",
           "#FF97FF",
           "#FECB52"
          ],
          "font": {
           "color": "#2a3f5f"
          },
          "geo": {
           "bgcolor": "white",
           "lakecolor": "white",
           "landcolor": "#E5ECF6",
           "showlakes": true,
           "showland": true,
           "subunitcolor": "white"
          },
          "hoverlabel": {
           "align": "left"
          },
          "hovermode": "closest",
          "mapbox": {
           "style": "light"
          },
          "paper_bgcolor": "white",
          "plot_bgcolor": "#E5ECF6",
          "polar": {
           "angularaxis": {
            "gridcolor": "white",
            "linecolor": "white",
            "ticks": ""
           },
           "bgcolor": "#E5ECF6",
           "radialaxis": {
            "gridcolor": "white",
            "linecolor": "white",
            "ticks": ""
           }
          },
          "scene": {
           "xaxis": {
            "backgroundcolor": "#E5ECF6",
            "gridcolor": "white",
            "gridwidth": 2,
            "linecolor": "white",
            "showbackground": true,
            "ticks": "",
            "zerolinecolor": "white"
           },
           "yaxis": {
            "backgroundcolor": "#E5ECF6",
            "gridcolor": "white",
            "gridwidth": 2,
            "linecolor": "white",
            "showbackground": true,
            "ticks": "",
            "zerolinecolor": "white"
           },
           "zaxis": {
            "backgroundcolor": "#E5ECF6",
            "gridcolor": "white",
            "gridwidth": 2,
            "linecolor": "white",
            "showbackground": true,
            "ticks": "",
            "zerolinecolor": "white"
           }
          },
          "shapedefaults": {
           "line": {
            "color": "#2a3f5f"
           }
          },
          "ternary": {
           "aaxis": {
            "gridcolor": "white",
            "linecolor": "white",
            "ticks": ""
           },
           "baxis": {
            "gridcolor": "white",
            "linecolor": "white",
            "ticks": ""
           },
           "bgcolor": "#E5ECF6",
           "caxis": {
            "gridcolor": "white",
            "linecolor": "white",
            "ticks": ""
           }
          },
          "title": {
           "x": 0.05
          },
          "xaxis": {
           "automargin": true,
           "gridcolor": "white",
           "linecolor": "white",
           "ticks": "",
           "title": {
            "standoff": 15
           },
           "zerolinecolor": "white",
           "zerolinewidth": 2
          },
          "yaxis": {
           "automargin": true,
           "gridcolor": "white",
           "linecolor": "white",
           "ticks": "",
           "title": {
            "standoff": 15
           },
           "zerolinecolor": "white",
           "zerolinewidth": 2
          }
         }
        },
        "title": {
         "text": "Haken 17, Trajektorien-Ansatz 2"
        }
       }
      }
     },
     "metadata": {},
     "output_type": "display_data"
    },
    {
     "name": "stdout",
     "output_type": "stream",
     "text": [
      "HTML-Datei '/home/mo/Thesis/Evaluation/Trajektorientests/traj3.html' erfolgreich erstellt!\n"
     ]
    },
    {
     "data": {
      "application/vnd.plotly.v1+json": {
       "config": {
        "plotlyServerURL": "https://plot.ly"
       },
       "data": [
        {
         "color": "rgba(31, 119, 180, 0.8)",
         "name": "P1",
         "opacity": 0.8,
         "type": "mesh3d",
         "x": [
          268.9708619152701,
          275.58206398385965,
          282.01523998294385,
          275.4040379143543
         ],
         "y": [
          933.2525656190933,
          930.2612124285074,
          939.2751818577253,
          942.2665350483112
         ],
         "z": [
          720.8637652232943,
          717.4957074302259,
          722.1176768907407,
          725.485734683809
         ]
        },
        {
         "marker": {
          "color": "red",
          "size": 3
         },
         "mode": "markers+text",
         "showlegend": false,
         "text": "",
         "textfont": {
          "size": 12
         },
         "textposition": "top center",
         "type": "scatter3d",
         "x": [
          275.493050949107
         ],
         "y": [
          936.2638737384093
         ],
         "z": [
          721.4907210570175
         ]
        },
        {
         "line": {
          "color": "rgba(31, 119, 180, 0.8)",
          "width": 4
         },
         "mode": "lines",
         "showlegend": false,
         "type": "scatter3d",
         "x": [
          268.9708619152701,
          275.58206398385965
         ],
         "y": [
          933.2525656190933,
          930.2612124285074
         ],
         "z": [
          720.8637652232943,
          717.4957074302259
         ]
        },
        {
         "line": {
          "color": "rgba(31, 119, 180, 0.8)",
          "width": 4
         },
         "mode": "lines",
         "showlegend": false,
         "type": "scatter3d",
         "x": [
          275.58206398385965,
          282.01523998294385
         ],
         "y": [
          930.2612124285074,
          939.2751818577253
         ],
         "z": [
          717.4957074302259,
          722.1176768907407
         ]
        },
        {
         "line": {
          "color": "rgba(31, 119, 180, 0.8)",
          "width": 4
         },
         "mode": "lines",
         "showlegend": false,
         "type": "scatter3d",
         "x": [
          282.01523998294385,
          275.4040379143543
         ],
         "y": [
          939.2751818577253,
          942.2665350483112
         ],
         "z": [
          722.1176768907407,
          725.485734683809
         ]
        },
        {
         "line": {
          "color": "rgba(31, 119, 180, 0.8)",
          "width": 4
         },
         "mode": "lines",
         "showlegend": false,
         "type": "scatter3d",
         "x": [
          275.4040379143543,
          268.9708619152701
         ],
         "y": [
          942.2665350483112,
          933.2525656190933
         ],
         "z": [
          725.485734683809,
          720.8637652232943
         ]
        },
        {
         "color": "rgba(174, 199, 232, 0.8)",
         "name": "P2",
         "opacity": 0.8,
         "type": "mesh3d",
         "x": [
          268.9550699972443,
          275.56627206583386,
          281.99944806491806,
          275.3882459963285
         ],
         "y": [
          933.1434850379178,
          930.1521318473319,
          939.1661012765499,
          942.1574544671357
         ],
         "z": [
          720.8858571124169,
          717.5177993193486,
          722.1397687798633,
          725.5078265729317
         ]
        },
        {
         "marker": {
          "color": "red",
          "size": 3
         },
         "mode": "markers+text",
         "showlegend": false,
         "text": "",
         "textfont": {
          "size": 12
         },
         "textposition": "top center",
         "type": "scatter3d",
         "x": [
          275.4772590310812
         ],
         "y": [
          936.1547931572338
         ],
         "z": [
          721.5128129461401
         ]
        },
        {
         "line": {
          "color": "rgba(174, 199, 232, 0.8)",
          "width": 4
         },
         "mode": "lines",
         "showlegend": false,
         "type": "scatter3d",
         "x": [
          268.9550699972443,
          275.56627206583386
         ],
         "y": [
          933.1434850379178,
          930.1521318473319
         ],
         "z": [
          720.8858571124169,
          717.5177993193486
         ]
        },
        {
         "line": {
          "color": "rgba(174, 199, 232, 0.8)",
          "width": 4
         },
         "mode": "lines",
         "showlegend": false,
         "type": "scatter3d",
         "x": [
          275.56627206583386,
          281.99944806491806
         ],
         "y": [
          930.1521318473319,
          939.1661012765499
         ],
         "z": [
          717.5177993193486,
          722.1397687798633
         ]
        },
        {
         "line": {
          "color": "rgba(174, 199, 232, 0.8)",
          "width": 4
         },
         "mode": "lines",
         "showlegend": false,
         "type": "scatter3d",
         "x": [
          281.99944806491806,
          275.3882459963285
         ],
         "y": [
          939.1661012765499,
          942.1574544671357
         ],
         "z": [
          722.1397687798633,
          725.5078265729317
         ]
        },
        {
         "line": {
          "color": "rgba(174, 199, 232, 0.8)",
          "width": 4
         },
         "mode": "lines",
         "showlegend": false,
         "type": "scatter3d",
         "x": [
          275.3882459963285,
          268.9550699972443
         ],
         "y": [
          942.1574544671357,
          933.1434850379178
         ],
         "z": [
          725.5078265729317,
          720.8858571124169
         ]
        },
        {
         "color": "rgba(255, 187, 120, 0.8)",
         "name": "P3",
         "opacity": 0.8,
         "type": "mesh3d",
         "x": [
          268.1961598891288,
          274.80736195771834,
          281.24053795680254,
          274.629335888213
         ],
         "y": [
          937.306713483774,
          934.3153602931882,
          943.3293297224061,
          946.320682912992
         ],
         "z": [
          719.2115471316049,
          715.8434893385365,
          720.4654587990512,
          723.8335165921196
         ]
        },
        {
         "marker": {
          "color": "red",
          "size": 3
         },
         "mode": "markers+text",
         "showlegend": false,
         "text": "P2",
         "textfont": {
          "size": 12
         },
         "textposition": "top center",
         "type": "scatter3d",
         "x": [
          274.7183489229657
         ],
         "y": [
          940.3180216030901
         ],
         "z": [
          719.8385029653282
         ]
        },
        {
         "line": {
          "color": "rgba(255, 187, 120, 0.8)",
          "width": 4
         },
         "mode": "lines",
         "showlegend": false,
         "type": "scatter3d",
         "x": [
          268.1961598891288,
          274.80736195771834
         ],
         "y": [
          937.306713483774,
          934.3153602931882
         ],
         "z": [
          719.2115471316049,
          715.8434893385365
         ]
        },
        {
         "line": {
          "color": "rgba(255, 187, 120, 0.8)",
          "width": 4
         },
         "mode": "lines",
         "showlegend": false,
         "type": "scatter3d",
         "x": [
          274.80736195771834,
          281.24053795680254
         ],
         "y": [
          934.3153602931882,
          943.3293297224061
         ],
         "z": [
          715.8434893385365,
          720.4654587990512
         ]
        },
        {
         "line": {
          "color": "rgba(255, 187, 120, 0.8)",
          "width": 4
         },
         "mode": "lines",
         "showlegend": false,
         "type": "scatter3d",
         "x": [
          281.24053795680254,
          274.629335888213
         ],
         "y": [
          943.3293297224061,
          946.320682912992
         ],
         "z": [
          720.4654587990512,
          723.8335165921196
         ]
        },
        {
         "line": {
          "color": "rgba(255, 187, 120, 0.8)",
          "width": 4
         },
         "mode": "lines",
         "showlegend": false,
         "type": "scatter3d",
         "x": [
          274.629335888213,
          268.1961598891288
         ],
         "y": [
          946.320682912992,
          937.306713483774
         ],
         "z": [
          723.8335165921196,
          719.2115471316049
         ]
        },
        {
         "color": "rgba(152, 223, 138, 0.8)",
         "name": "P4",
         "opacity": 0.8,
         "type": "mesh3d",
         "x": [
          267.0533751897012,
          273.66457725829076,
          280.09775325737496,
          273.4865511887854
         ],
         "y": [
          938.770450585275,
          935.7790973946891,
          944.793066823907,
          947.7844200144929
         ],
         "z": [
          717.6740351451073,
          714.3059773520389,
          718.9279468125536,
          722.296004605622
         ]
        },
        {
         "marker": {
          "color": "red",
          "size": 3
         },
         "mode": "markers+text",
         "showlegend": false,
         "text": "P3",
         "textfont": {
          "size": 12
         },
         "textposition": "top center",
         "type": "scatter3d",
         "x": [
          273.5755642235381
         ],
         "y": [
          941.781758704591
         ],
         "z": [
          718.3009909788304
         ]
        },
        {
         "line": {
          "color": "rgba(152, 223, 138, 0.8)",
          "width": 4
         },
         "mode": "lines",
         "showlegend": false,
         "type": "scatter3d",
         "x": [
          267.0533751897012,
          273.66457725829076
         ],
         "y": [
          938.770450585275,
          935.7790973946891
         ],
         "z": [
          717.6740351451073,
          714.3059773520389
         ]
        },
        {
         "line": {
          "color": "rgba(152, 223, 138, 0.8)",
          "width": 4
         },
         "mode": "lines",
         "showlegend": false,
         "type": "scatter3d",
         "x": [
          273.66457725829076,
          280.09775325737496
         ],
         "y": [
          935.7790973946891,
          944.793066823907
         ],
         "z": [
          714.3059773520389,
          718.9279468125536
         ]
        },
        {
         "line": {
          "color": "rgba(152, 223, 138, 0.8)",
          "width": 4
         },
         "mode": "lines",
         "showlegend": false,
         "type": "scatter3d",
         "x": [
          280.09775325737496,
          273.4865511887854
         ],
         "y": [
          944.793066823907,
          947.7844200144929
         ],
         "z": [
          718.9279468125536,
          722.296004605622
         ]
        },
        {
         "line": {
          "color": "rgba(152, 223, 138, 0.8)",
          "width": 4
         },
         "mode": "lines",
         "showlegend": false,
         "type": "scatter3d",
         "x": [
          273.4865511887854,
          267.0533751897012
         ],
         "y": [
          947.7844200144929,
          938.770450585275
         ],
         "z": [
          722.296004605622,
          717.6740351451073
         ]
        },
        {
         "color": "rgba(255, 152, 150, 0.8)",
         "name": "P5",
         "opacity": 0.8,
         "type": "mesh3d",
         "x": [
          266.1018861283329,
          272.71308819692246,
          279.14626419600665,
          272.5350621274171
         ],
         "y": [
          944.5699554090929,
          941.5786022185071,
          950.592571647725,
          953.5839248383108
         ],
         "z": [
          715.9554392688237,
          712.5873814757554,
          717.2093509362701,
          720.5774087293385
         ]
        },
        {
         "marker": {
          "color": "red",
          "size": 3
         },
         "mode": "markers+text",
         "showlegend": false,
         "text": "P4",
         "textfont": {
          "size": 12
         },
         "textposition": "top center",
         "type": "scatter3d",
         "x": [
          272.6240751621698
         ],
         "y": [
          947.581263528409
         ],
         "z": [
          716.5823951025469
         ]
        },
        {
         "line": {
          "color": "rgba(255, 152, 150, 0.8)",
          "width": 4
         },
         "mode": "lines",
         "showlegend": false,
         "type": "scatter3d",
         "x": [
          266.1018861283329,
          272.71308819692246
         ],
         "y": [
          944.5699554090929,
          941.5786022185071
         ],
         "z": [
          715.9554392688237,
          712.5873814757554
         ]
        },
        {
         "line": {
          "color": "rgba(255, 152, 150, 0.8)",
          "width": 4
         },
         "mode": "lines",
         "showlegend": false,
         "type": "scatter3d",
         "x": [
          272.71308819692246,
          279.14626419600665
         ],
         "y": [
          941.5786022185071,
          950.592571647725
         ],
         "z": [
          712.5873814757554,
          717.2093509362701
         ]
        },
        {
         "line": {
          "color": "rgba(255, 152, 150, 0.8)",
          "width": 4
         },
         "mode": "lines",
         "showlegend": false,
         "type": "scatter3d",
         "x": [
          279.14626419600665,
          272.5350621274171
         ],
         "y": [
          950.592571647725,
          953.5839248383108
         ],
         "z": [
          717.2093509362701,
          720.5774087293385
         ]
        },
        {
         "line": {
          "color": "rgba(255, 152, 150, 0.8)",
          "width": 4
         },
         "mode": "lines",
         "showlegend": false,
         "type": "scatter3d",
         "x": [
          272.5350621274171,
          266.1018861283329
         ],
         "y": [
          953.5839248383108,
          944.5699554090929
         ],
         "z": [
          720.5774087293385,
          715.9554392688237
         ]
        },
        {
         "color": "rgba(197, 176, 213, 0.8)",
         "name": "P6",
         "opacity": 0.8,
         "type": "mesh3d",
         "x": [
          264.7635596981165,
          271.37476176670606,
          277.80793776579026,
          271.1967356972007
         ],
         "y": [
          947.6181863380577,
          944.6268331474719,
          953.6408025766898,
          956.6321557672757
         ],
         "z": [
          714.4774795774962,
          711.1094217844278,
          715.7313912449425,
          719.0994490380109
         ]
        },
        {
         "marker": {
          "color": "red",
          "size": 3
         },
         "mode": "markers+text",
         "showlegend": false,
         "text": "P5",
         "textfont": {
          "size": 12
         },
         "textposition": "top center",
         "type": "scatter3d",
         "x": [
          271.2857487319534
         ],
         "y": [
          950.6294944573738
         ],
         "z": [
          715.1044354112194
         ]
        },
        {
         "line": {
          "color": "rgba(197, 176, 213, 0.8)",
          "width": 4
         },
         "mode": "lines",
         "showlegend": false,
         "type": "scatter3d",
         "x": [
          264.7635596981165,
          271.37476176670606
         ],
         "y": [
          947.6181863380577,
          944.6268331474719
         ],
         "z": [
          714.4774795774962,
          711.1094217844278
         ]
        },
        {
         "line": {
          "color": "rgba(197, 176, 213, 0.8)",
          "width": 4
         },
         "mode": "lines",
         "showlegend": false,
         "type": "scatter3d",
         "x": [
          271.37476176670606,
          277.80793776579026
         ],
         "y": [
          944.6268331474719,
          953.6408025766898
         ],
         "z": [
          711.1094217844278,
          715.7313912449425
         ]
        },
        {
         "line": {
          "color": "rgba(197, 176, 213, 0.8)",
          "width": 4
         },
         "mode": "lines",
         "showlegend": false,
         "type": "scatter3d",
         "x": [
          277.80793776579026,
          271.1967356972007
         ],
         "y": [
          953.6408025766898,
          956.6321557672757
         ],
         "z": [
          715.7313912449425,
          719.0994490380109
         ]
        },
        {
         "line": {
          "color": "rgba(197, 176, 213, 0.8)",
          "width": 4
         },
         "mode": "lines",
         "showlegend": false,
         "type": "scatter3d",
         "x": [
          271.1967356972007,
          264.7635596981165
         ],
         "y": [
          956.6321557672757,
          947.6181863380577
         ],
         "z": [
          719.0994490380109,
          714.4774795774962
         ]
        },
        {
         "color": "rgba(140, 86, 75, 0.8)",
         "name": "P7",
         "opacity": 0.8,
         "type": "mesh3d",
         "x": [
          263.40395525052395,
          270.0151573191135,
          276.4483333181977,
          269.83713124960815
         ],
         "y": [
          952.2668798949032,
          949.2755267043174,
          958.2894961335353,
          961.2808493241212
         ],
         "z": [
          713.2511822478639,
          709.8831244547955,
          714.5050939153102,
          717.8731517083786
         ]
        },
        {
         "marker": {
          "color": "red",
          "size": 3
         },
         "mode": "markers+text",
         "showlegend": false,
         "text": "P6",
         "textfont": {
          "size": 12
         },
         "textposition": "top center",
         "type": "scatter3d",
         "x": [
          269.9261442843608
         ],
         "y": [
          955.2781880142193
         ],
         "z": [
          713.8781380815872
         ]
        },
        {
         "line": {
          "color": "rgba(140, 86, 75, 0.8)",
          "width": 4
         },
         "mode": "lines",
         "showlegend": false,
         "type": "scatter3d",
         "x": [
          263.40395525052395,
          270.0151573191135
         ],
         "y": [
          952.2668798949032,
          949.2755267043174
         ],
         "z": [
          713.2511822478639,
          709.8831244547955
         ]
        },
        {
         "line": {
          "color": "rgba(140, 86, 75, 0.8)",
          "width": 4
         },
         "mode": "lines",
         "showlegend": false,
         "type": "scatter3d",
         "x": [
          270.0151573191135,
          276.4483333181977
         ],
         "y": [
          949.2755267043174,
          958.2894961335353
         ],
         "z": [
          709.8831244547955,
          714.5050939153102
         ]
        },
        {
         "line": {
          "color": "rgba(140, 86, 75, 0.8)",
          "width": 4
         },
         "mode": "lines",
         "showlegend": false,
         "type": "scatter3d",
         "x": [
          276.4483333181977,
          269.83713124960815
         ],
         "y": [
          958.2894961335353,
          961.2808493241212
         ],
         "z": [
          714.5050939153102,
          717.8731517083786
         ]
        },
        {
         "line": {
          "color": "rgba(140, 86, 75, 0.8)",
          "width": 4
         },
         "mode": "lines",
         "showlegend": false,
         "type": "scatter3d",
         "x": [
          269.83713124960815,
          263.40395525052395
         ],
         "y": [
          961.2808493241212,
          952.2668798949032
         ],
         "z": [
          717.8731517083786,
          713.2511822478639
         ]
        },
        {
         "color": "rgba(227, 119, 194, 0.8)",
         "name": "P8",
         "opacity": 0.8,
         "type": "mesh3d",
         "x": [
          261.8325168124227,
          268.4437188810122,
          274.8768948800964,
          268.2656928115069
         ],
         "y": [
          957.0730049540537,
          954.0816517634678,
          963.0956211926857,
          966.0869743832716
         ],
         "z": [
          712.0800517661501,
          708.7119939730817,
          713.3339634335964,
          716.7020212266648
         ]
        },
        {
         "marker": {
          "color": "red",
          "size": 3
         },
         "mode": "markers+text",
         "showlegend": false,
         "text": "P7",
         "textfont": {
          "size": 12
         },
         "textposition": "top center",
         "type": "scatter3d",
         "x": [
          268.35470584625955
         ],
         "y": [
          960.0843130733697
         ],
         "z": [
          712.7070075998732
         ]
        },
        {
         "line": {
          "color": "rgba(227, 119, 194, 0.8)",
          "width": 4
         },
         "mode": "lines",
         "showlegend": false,
         "type": "scatter3d",
         "x": [
          261.8325168124227,
          268.4437188810122
         ],
         "y": [
          957.0730049540537,
          954.0816517634678
         ],
         "z": [
          712.0800517661501,
          708.7119939730817
         ]
        },
        {
         "line": {
          "color": "rgba(227, 119, 194, 0.8)",
          "width": 4
         },
         "mode": "lines",
         "showlegend": false,
         "type": "scatter3d",
         "x": [
          268.4437188810122,
          274.8768948800964
         ],
         "y": [
          954.0816517634678,
          963.0956211926857
         ],
         "z": [
          708.7119939730817,
          713.3339634335964
         ]
        },
        {
         "line": {
          "color": "rgba(227, 119, 194, 0.8)",
          "width": 4
         },
         "mode": "lines",
         "showlegend": false,
         "type": "scatter3d",
         "x": [
          274.8768948800964,
          268.2656928115069
         ],
         "y": [
          963.0956211926857,
          966.0869743832716
         ],
         "z": [
          713.3339634335964,
          716.7020212266648
         ]
        },
        {
         "line": {
          "color": "rgba(227, 119, 194, 0.8)",
          "width": 4
         },
         "mode": "lines",
         "showlegend": false,
         "type": "scatter3d",
         "x": [
          268.2656928115069,
          261.8325168124227
         ],
         "y": [
          966.0869743832716,
          957.0730049540537
         ],
         "z": [
          716.7020212266648,
          712.0800517661501
         ]
        },
        {
         "color": "rgba(127, 127, 127, 0.8)",
         "name": "P9",
         "opacity": 0.8,
         "type": "mesh3d",
         "x": [
          260.1896758143246,
          266.8008778829141,
          273.2340538819983,
          266.6228518134088
         ],
         "y": [
          965.3239958721574,
          962.3326426815715,
          971.3466121107895,
          974.3379653013753
         ],
         "z": [
          711.3464081151461,
          707.9783503220777,
          712.6003197825925,
          715.9683775756608
         ]
        },
        {
         "marker": {
          "color": "red",
          "size": 3
         },
         "mode": "markers+text",
         "showlegend": false,
         "text": "P8",
         "textfont": {
          "size": 12
         },
         "textposition": "top center",
         "type": "scatter3d",
         "x": [
          266.71186484816144
         ],
         "y": [
          968.3353039914734
         ],
         "z": [
          711.9733639488693
         ]
        },
        {
         "line": {
          "color": "rgba(127, 127, 127, 0.8)",
          "width": 4
         },
         "mode": "lines",
         "showlegend": false,
         "type": "scatter3d",
         "x": [
          260.1896758143246,
          266.8008778829141
         ],
         "y": [
          965.3239958721574,
          962.3326426815715
         ],
         "z": [
          711.3464081151461,
          707.9783503220777
         ]
        },
        {
         "line": {
          "color": "rgba(127, 127, 127, 0.8)",
          "width": 4
         },
         "mode": "lines",
         "showlegend": false,
         "type": "scatter3d",
         "x": [
          266.8008778829141,
          273.2340538819983
         ],
         "y": [
          962.3326426815715,
          971.3466121107895
         ],
         "z": [
          707.9783503220777,
          712.6003197825925
         ]
        },
        {
         "line": {
          "color": "rgba(127, 127, 127, 0.8)",
          "width": 4
         },
         "mode": "lines",
         "showlegend": false,
         "type": "scatter3d",
         "x": [
          273.2340538819983,
          266.6228518134088
         ],
         "y": [
          971.3466121107895,
          974.3379653013753
         ],
         "z": [
          712.6003197825925,
          715.9683775756608
         ]
        },
        {
         "line": {
          "color": "rgba(127, 127, 127, 0.8)",
          "width": 4
         },
         "mode": "lines",
         "showlegend": false,
         "type": "scatter3d",
         "x": [
          266.6228518134088,
          260.1896758143246
         ],
         "y": [
          974.3379653013753,
          965.3239958721574
         ],
         "z": [
          715.9683775756608,
          711.3464081151461
         ]
        },
        {
         "color": "rgba(188, 189, 34, 0.8)",
         "name": "P10",
         "opacity": 0.8,
         "type": "mesh3d",
         "x": [
          258.3094264864759,
          264.92062855506543,
          271.35380455414963,
          264.7426024855601
         ],
         "y": [
          972.2765246865298,
          969.2851714959439,
          978.2991409251619,
          981.2904941157477
         ],
         "z": [
          710.8502078521143,
          707.4821500590459,
          712.1041195195606,
          715.472177312629
         ]
        },
        {
         "marker": {
          "color": "red",
          "size": 3
         },
         "mode": "markers+text",
         "showlegend": false,
         "text": "P9",
         "textfont": {
          "size": 12
         },
         "textposition": "top center",
         "type": "scatter3d",
         "x": [
          264.83161552031277
         ],
         "y": [
          975.2878328058458
         ],
         "z": [
          711.4771636858375
         ]
        },
        {
         "line": {
          "color": "rgba(188, 189, 34, 0.8)",
          "width": 4
         },
         "mode": "lines",
         "showlegend": false,
         "type": "scatter3d",
         "x": [
          258.3094264864759,
          264.92062855506543
         ],
         "y": [
          972.2765246865298,
          969.2851714959439
         ],
         "z": [
          710.8502078521143,
          707.4821500590459
         ]
        },
        {
         "line": {
          "color": "rgba(188, 189, 34, 0.8)",
          "width": 4
         },
         "mode": "lines",
         "showlegend": false,
         "type": "scatter3d",
         "x": [
          264.92062855506543,
          271.35380455414963
         ],
         "y": [
          969.2851714959439,
          978.2991409251619
         ],
         "z": [
          707.4821500590459,
          712.1041195195606
         ]
        },
        {
         "line": {
          "color": "rgba(188, 189, 34, 0.8)",
          "width": 4
         },
         "mode": "lines",
         "showlegend": false,
         "type": "scatter3d",
         "x": [
          271.35380455414963,
          264.7426024855601
         ],
         "y": [
          978.2991409251619,
          981.2904941157477
         ],
         "z": [
          712.1041195195606,
          715.472177312629
         ]
        },
        {
         "line": {
          "color": "rgba(188, 189, 34, 0.8)",
          "width": 4
         },
         "mode": "lines",
         "showlegend": false,
         "type": "scatter3d",
         "x": [
          264.7426024855601,
          258.3094264864759
         ],
         "y": [
          981.2904941157477,
          972.2765246865298
         ],
         "z": [
          715.472177312629,
          710.8502078521143
         ]
        },
        {
         "color": "rgba(23, 190, 207, 0.8)",
         "name": "P11",
         "opacity": 0.8,
         "type": "mesh3d",
         "x": [
          256.35276067651967,
          262.9639627451092,
          269.3971387441934,
          262.78593667560386
         ],
         "y": [
          979.5201093566823,
          976.5287561660964,
          985.5427255953143,
          988.5340787859002
         ],
         "z": [
          710.4275709338876,
          707.0595131408193,
          711.681482601334,
          715.0495403944024
         ]
        },
        {
         "marker": {
          "color": "red",
          "size": 3
         },
         "mode": "markers+text",
         "showlegend": false,
         "text": "",
         "textfont": {
          "size": 12
         },
         "textposition": "top center",
         "type": "scatter3d",
         "x": [
          262.87494971035653
         ],
         "y": [
          982.5314174759983
         ],
         "z": [
          711.0545267676108
         ]
        },
        {
         "line": {
          "color": "rgba(23, 190, 207, 0.8)",
          "width": 4
         },
         "mode": "lines",
         "showlegend": false,
         "type": "scatter3d",
         "x": [
          256.35276067651967,
          262.9639627451092
         ],
         "y": [
          979.5201093566823,
          976.5287561660964
         ],
         "z": [
          710.4275709338876,
          707.0595131408193
         ]
        },
        {
         "line": {
          "color": "rgba(23, 190, 207, 0.8)",
          "width": 4
         },
         "mode": "lines",
         "showlegend": false,
         "type": "scatter3d",
         "x": [
          262.9639627451092,
          269.3971387441934
         ],
         "y": [
          976.5287561660964,
          985.5427255953143
         ],
         "z": [
          707.0595131408193,
          711.681482601334
         ]
        },
        {
         "line": {
          "color": "rgba(23, 190, 207, 0.8)",
          "width": 4
         },
         "mode": "lines",
         "showlegend": false,
         "type": "scatter3d",
         "x": [
          269.3971387441934,
          262.78593667560386
         ],
         "y": [
          985.5427255953143,
          988.5340787859002
         ],
         "z": [
          711.681482601334,
          715.0495403944024
         ]
        },
        {
         "line": {
          "color": "rgba(23, 190, 207, 0.8)",
          "width": 4
         },
         "mode": "lines",
         "showlegend": false,
         "type": "scatter3d",
         "x": [
          262.78593667560386,
          256.35276067651967
         ],
         "y": [
          988.5340787859002,
          979.5201093566823
         ],
         "z": [
          715.0495403944024,
          710.4275709338876
         ]
        },
        {
         "line": {
          "color": "black",
          "width": 2
         },
         "mode": "lines",
         "name": "Berechnete Hakenlinie",
         "type": "scatter3d",
         "x": {
          "bdata": "0lpkieM3cUBuo13aojdxQBK0cFt+K3FAgM3UgjUZcUA+vDw2/AlxQNApQ22S9HBAUEurfNHecEAolgngrMVwQGggZcxjq3BAbmkTTE6NcEAEekTL/21wQA==",
          "dtype": "f8"
         },
         "y": {
          "bdata": "7qXVaRxCjUC23zEEPUGNQIwF6U6LYo1Apyy1CkFujUD+Jn5tppyNQHjbYzQJtY1AsDmjujnajUD8JVWsrACOQMbs27OuQo5Alz5Je016jkB8P85XQLSOQA==",
          "dtype": "f8"
         },
         "z": {
          "bdata": "ylop/+yLhkAZhaw9GoyGQHjtCkG1foZAvlP1bWhyhkBRdsO+qGSGQNqdO+LVWIZAUC5CbQZPhkDVu5nzp0WGQP67CXPJP4ZAFswxO9E7hkAp3bqrbziGQA==",
          "dtype": "f8"
         }
        },
        {
         "mode": "text",
         "showlegend": false,
         "text": [
          "Pre-Position"
         ],
         "textfont": {
          "size": 10
         },
         "textposition": "top center",
         "type": "scatter3d",
         "x": [
          275.493050949107
         ],
         "y": [
          936.2638737384093
         ],
         "z": [
          721.4907210570175
         ]
        },
        {
         "mode": "text",
         "showlegend": false,
         "text": [
          "Loslassen"
         ],
         "textfont": {
          "size": 10
         },
         "textposition": "top center",
         "type": "scatter3d",
         "x": [
          262.87494971035653
         ],
         "y": [
          982.5314174759983
         ],
         "z": [
          711.0545267676108
         ]
        },
        {
         "color": "rgba(0,255,0,0.2)",
         "name": "optimale Trajektorie",
         "opacity": 0.8,
         "type": "mesh3d",
         "x": [
          271.61979252830685,
          279.3101684380986,
          279.3663094399687,
          271.67593353017696
         ],
         "y": [
          930.2686209040137,
          930.2601976855832,
          942.2591284658247,
          942.2675516842552
         ],
         "z": [
          722.5177561361269,
          720.3136582672731,
          720.4636859943136,
          722.6677838631673
         ]
        },
        {
         "line": {
          "color": "rgba(0,255,0,0.2)",
          "width": 3
         },
         "mode": "lines",
         "showlegend": false,
         "type": "scatter3d",
         "x": [
          271.61979252830685,
          279.3101684380986
         ],
         "y": [
          930.2686209040137,
          930.2601976855832
         ],
         "z": [
          722.5177561361269,
          720.3136582672731
         ]
        },
        {
         "line": {
          "color": "rgba(0,255,0,0.2)",
          "width": 3
         },
         "mode": "lines",
         "showlegend": false,
         "type": "scatter3d",
         "x": [
          279.3101684380986,
          279.3663094399687
         ],
         "y": [
          930.2601976855832,
          942.2591284658247
         ],
         "z": [
          720.3136582672731,
          720.4636859943136
         ]
        },
        {
         "line": {
          "color": "rgba(0,255,0,0.2)",
          "width": 3
         },
         "mode": "lines",
         "showlegend": false,
         "type": "scatter3d",
         "x": [
          279.3663094399687,
          271.67593353017696
         ],
         "y": [
          942.2591284658247,
          942.2675516842552
         ],
         "z": [
          720.4636859943136,
          722.6677838631673
         ]
        },
        {
         "line": {
          "color": "rgba(0,255,0,0.2)",
          "width": 3
         },
         "mode": "lines",
         "showlegend": false,
         "type": "scatter3d",
         "x": [
          271.67593353017696,
          271.61979252830685
         ],
         "y": [
          942.2675516842552,
          930.2686209040137
         ],
         "z": [
          722.6677838631673,
          722.5177561361269
         ]
        },
        {
         "marker": {
          "color": "green",
          "size": 4
         },
         "mode": "markers",
         "name": "Mitte P11",
         "showlegend": false,
         "type": "scatter3d",
         "x": [
          275.49305098413777
         ],
         "y": [
          936.2638746849192
         ],
         "z": [
          721.4907210652202
         ]
        },
        {
         "color": "rgba(0,255,0,0.2)",
         "name": "optimale Trajektorie",
         "opacity": 0.8,
         "type": "mesh3d",
         "x": [
          274.82316046322234,
          281.0351292258658,
          281.2823798185996,
          275.0704110559562
         ],
         "y": [
          927.9849209855388,
          928.0005322349925,
          939.99311417739,
          939.9775029279363
         ],
         "z": [
          724.2369171068719,
          719.1959647781117,
          719.5377914875357,
          724.578743816296
         ]
        },
        {
         "line": {
          "color": "rgba(0,255,0,0.2)",
          "width": 3
         },
         "mode": "lines",
         "showlegend": false,
         "type": "scatter3d",
         "x": [
          274.82316046322234,
          281.0351292258658
         ],
         "y": [
          927.9849209855388,
          928.0005322349925
         ],
         "z": [
          724.2369171068719,
          719.1959647781117
         ]
        },
        {
         "line": {
          "color": "rgba(0,255,0,0.2)",
          "width": 3
         },
         "mode": "lines",
         "showlegend": false,
         "type": "scatter3d",
         "x": [
          281.0351292258658,
          281.2823798185996
         ],
         "y": [
          928.0005322349925,
          939.99311417739
         ],
         "z": [
          719.1959647781117,
          719.5377914875357
         ]
        },
        {
         "line": {
          "color": "rgba(0,255,0,0.2)",
          "width": 3
         },
         "mode": "lines",
         "showlegend": false,
         "type": "scatter3d",
         "x": [
          281.2823798185996,
          275.0704110559562
         ],
         "y": [
          939.99311417739,
          939.9775029279363
         ],
         "z": [
          719.5377914875357,
          724.578743816296
         ]
        },
        {
         "line": {
          "color": "rgba(0,255,0,0.2)",
          "width": 3
         },
         "mode": "lines",
         "showlegend": false,
         "type": "scatter3d",
         "x": [
          275.0704110559562,
          274.82316046322234
         ],
         "y": [
          939.9775029279363,
          927.9849209855388
         ],
         "z": [
          724.578743816296,
          724.2369171068719
         ]
        },
        {
         "marker": {
          "color": "green",
          "size": 4
         },
         "mode": "markers",
         "name": "Mitte P11",
         "showlegend": false,
         "type": "scatter3d",
         "x": [
          278.052770140911
         ],
         "y": [
          933.9890175814644
         ],
         "z": [
          721.8873542972038
         ]
        },
        {
         "color": "rgba(0,255,0,0.2)",
         "name": "optimale Trajektorie",
         "opacity": 0.8,
         "type": "mesh3d",
         "x": [
          270.7477423823568,
          276.3014143222067,
          277.03843378023475,
          271.48476184038486
         ],
         "y": [
          928.1084438753062,
          928.3210903100422,
          940.2429166112045,
          940.0302701764684
         ],
         "z": [
          720.0943969418504,
          714.3401368262214,
          715.4920309026909,
          721.2462910183199
         ]
        },
        {
         "line": {
          "color": "rgba(0,255,0,0.2)",
          "width": 3
         },
         "mode": "lines",
         "showlegend": false,
         "type": "scatter3d",
         "x": [
          270.7477423823568,
          276.3014143222067
         ],
         "y": [
          928.1084438753062,
          928.3210903100422
         ],
         "z": [
          720.0943969418504,
          714.3401368262214
         ]
        },
        {
         "line": {
          "color": "rgba(0,255,0,0.2)",
          "width": 3
         },
         "mode": "lines",
         "showlegend": false,
         "type": "scatter3d",
         "x": [
          276.3014143222067,
          277.03843378023475
         ],
         "y": [
          928.3210903100422,
          940.2429166112045
         ],
         "z": [
          714.3401368262214,
          715.4920309026909
         ]
        },
        {
         "line": {
          "color": "rgba(0,255,0,0.2)",
          "width": 3
         },
         "mode": "lines",
         "showlegend": false,
         "type": "scatter3d",
         "x": [
          277.03843378023475,
          271.48476184038486
         ],
         "y": [
          940.2429166112045,
          940.0302701764684
         ],
         "z": [
          715.4920309026909,
          721.2462910183199
         ]
        },
        {
         "line": {
          "color": "rgba(0,255,0,0.2)",
          "width": 3
         },
         "mode": "lines",
         "showlegend": false,
         "type": "scatter3d",
         "x": [
          271.48476184038486,
          270.7477423823568
         ],
         "y": [
          940.0302701764684,
          928.1084438753062
         ],
         "z": [
          721.2462910183199,
          720.0943969418504
         ]
        },
        {
         "marker": {
          "color": "green",
          "size": 4
         },
         "mode": "markers",
         "name": "Mitte P11",
         "showlegend": false,
         "type": "scatter3d",
         "x": [
          273.8930880812958
         ],
         "y": [
          934.1756802432553
         ],
         "z": [
          717.7932139222706
         ]
        },
        {
         "color": "rgba(0,255,0,0.2)",
         "name": "optimale Trajektorie",
         "opacity": 0.8,
         "type": "mesh3d",
         "x": [
          267.65577711349266,
          271.3258571697832,
          272.44896662958234,
          268.7788865732918
         ],
         "y": [
          927.591384924965,
          928.0417160843109,
          939.9142583333121,
          939.4639271739662
         ],
         "z": [
          716.1091626214103,
          709.0149597608107,
          710.3496378819287,
          717.4438407425283
         ]
        },
        {
         "line": {
          "color": "rgba(0,255,0,0.2)",
          "width": 3
         },
         "mode": "lines",
         "showlegend": false,
         "type": "scatter3d",
         "x": [
          267.65577711349266,
          271.3258571697832
         ],
         "y": [
          927.591384924965,
          928.0417160843109
         ],
         "z": [
          716.1091626214103,
          709.0149597608107
         ]
        },
        {
         "line": {
          "color": "rgba(0,255,0,0.2)",
          "width": 3
         },
         "mode": "lines",
         "showlegend": false,
         "type": "scatter3d",
         "x": [
          271.3258571697832,
          272.44896662958234
         ],
         "y": [
          928.0417160843109,
          939.9142583333121
         ],
         "z": [
          709.0149597608107,
          710.3496378819287
         ]
        },
        {
         "line": {
          "color": "rgba(0,255,0,0.2)",
          "width": 3
         },
         "mode": "lines",
         "showlegend": false,
         "type": "scatter3d",
         "x": [
          272.44896662958234,
          268.7788865732918
         ],
         "y": [
          939.9142583333121,
          939.4639271739662
         ],
         "z": [
          710.3496378819287,
          717.4438407425283
         ]
        },
        {
         "line": {
          "color": "rgba(0,255,0,0.2)",
          "width": 3
         },
         "mode": "lines",
         "showlegend": false,
         "type": "scatter3d",
         "x": [
          268.7788865732918,
          267.65577711349266
         ],
         "y": [
          939.4639271739662,
          927.591384924965
         ],
         "z": [
          717.4438407425283,
          716.1091626214103
         ]
        },
        {
         "marker": {
          "color": "green",
          "size": 4
         },
         "mode": "markers",
         "name": "Mitte P11",
         "showlegend": false,
         "type": "scatter3d",
         "x": [
          270.0523718715375
         ],
         "y": [
          933.7528216291385
         ],
         "z": [
          713.2294002516695
         ]
        },
        {
         "color": "rgba(0,255,0,0.2)",
         "name": "optimale Trajektorie",
         "opacity": 0.8,
         "type": "mesh3d",
         "x": [
          265.1178169359699,
          266.609468829399,
          267.71249991865534,
          266.22084802522625
         ],
         "y": [
          928.0938901855569,
          928.811324974996,
          940.6897030839269,
          939.9722682944879
         ],
         "z": [
          715.2831303023092,
          707.456236796471,
          708.755257934637,
          716.5821514404753
         ]
        },
        {
         "line": {
          "color": "rgba(0,255,0,0.2)",
          "width": 3
         },
         "mode": "lines",
         "showlegend": false,
         "type": "scatter3d",
         "x": [
          265.1178169359699,
          266.609468829399
         ],
         "y": [
          928.0938901855569,
          928.811324974996
         ],
         "z": [
          715.2831303023092,
          707.456236796471
         ]
        },
        {
         "line": {
          "color": "rgba(0,255,0,0.2)",
          "width": 3
         },
         "mode": "lines",
         "showlegend": false,
         "type": "scatter3d",
         "x": [
          266.609468829399,
          267.71249991865534
         ],
         "y": [
          928.811324974996,
          940.6897030839269
         ],
         "z": [
          707.456236796471,
          708.755257934637
         ]
        },
        {
         "line": {
          "color": "rgba(0,255,0,0.2)",
          "width": 3
         },
         "mode": "lines",
         "showlegend": false,
         "type": "scatter3d",
         "x": [
          267.71249991865534,
          266.22084802522625
         ],
         "y": [
          940.6897030839269,
          939.9722682944879
         ],
         "z": [
          708.755257934637,
          716.5821514404753
         ]
        },
        {
         "line": {
          "color": "rgba(0,255,0,0.2)",
          "width": 3
         },
         "mode": "lines",
         "showlegend": false,
         "type": "scatter3d",
         "x": [
          266.22084802522625,
          265.1178169359699
         ],
         "y": [
          939.9722682944879,
          928.0938901855569
         ],
         "z": [
          716.5821514404753,
          715.2831303023092
         ]
        },
        {
         "marker": {
          "color": "green",
          "size": 4
         },
         "mode": "markers",
         "name": "Mitte P11",
         "showlegend": false,
         "type": "scatter3d",
         "x": [
          266.41515842731263
         ],
         "y": [
          934.3917966347419
         ],
         "z": [
          712.0191941184731
         ]
        },
        {
         "color": "rgba(0,255,0,0.2)",
         "name": "optimale Trajektorie",
         "opacity": 0.8,
         "type": "mesh3d",
         "x": [
          265.79397971378364,
          265.75299945607424,
          266.90384170758375,
          266.94482196529316
         ],
         "y": [
          927.6749003859125,
          928.5559547291616,
          940.4286286270371,
          939.547574283788
         ],
         "z": [
          715.1295772178627,
          707.1783468814481,
          708.487994401526,
          716.4392247379405
         ]
        },
        {
         "line": {
          "color": "rgba(0,255,0,0.2)",
          "width": 3
         },
         "mode": "lines",
         "showlegend": false,
         "type": "scatter3d",
         "x": [
          265.79397971378364,
          265.75299945607424
         ],
         "y": [
          927.6749003859125,
          928.5559547291616
         ],
         "z": [
          715.1295772178627,
          707.1783468814481
         ]
        },
        {
         "line": {
          "color": "rgba(0,255,0,0.2)",
          "width": 3
         },
         "mode": "lines",
         "showlegend": false,
         "type": "scatter3d",
         "x": [
          265.75299945607424,
          266.90384170758375
         ],
         "y": [
          928.5559547291616,
          940.4286286270371
         ],
         "z": [
          707.1783468814481,
          708.487994401526
         ]
        },
        {
         "line": {
          "color": "rgba(0,255,0,0.2)",
          "width": 3
         },
         "mode": "lines",
         "showlegend": false,
         "type": "scatter3d",
         "x": [
          266.90384170758375,
          266.94482196529316
         ],
         "y": [
          940.4286286270371,
          939.547574283788
         ],
         "z": [
          708.487994401526,
          716.4392247379405
         ]
        },
        {
         "line": {
          "color": "rgba(0,255,0,0.2)",
          "width": 3
         },
         "mode": "lines",
         "showlegend": false,
         "type": "scatter3d",
         "x": [
          266.94482196529316,
          265.79397971378364
         ],
         "y": [
          939.547574283788,
          927.6749003859125
         ],
         "z": [
          716.4392247379405,
          715.1295772178627
         ]
        },
        {
         "marker": {
          "color": "green",
          "size": 4
         },
         "mode": "markers",
         "name": "Mitte P11",
         "showlegend": false,
         "type": "scatter3d",
         "x": [
          266.3489107106837
         ],
         "y": [
          934.0517645064748
         ],
         "z": [
          711.8087858096943
         ]
        },
        {
         "line": {
          "color": "green",
          "width": 2
         },
         "mode": "lines",
         "name": "Optimale Hakenlinie",
         "type": "scatter3d",
         "x": {
          "bdata": "HsJtieM3cUCw1oAl2GBxQM5ZuhZKHnFAvjfjg9bgcEB3vyl9pKZwQMW5ZSOVpXBA",
          "dtype": "f8"
         },
         "y": {
          "bdata": "w69UahxCjUB4vAyC6S+NQK4aC8tnMY1A+KZYxwUujUAyJ0ZmIjONQDlzggNqMI1A",
          "dtype": "f8"
         },
         "z": {
          "bdata": "onQq/+yLhkClszVNGY+GQBN3ioBYboZA65TMz9VJhkDx+D5PJ0CGQNnQsWR4PoZA",
          "dtype": "f8"
         }
        },
        {
         "line": {
          "color": "gray",
          "dash": "dash"
         },
         "mode": "lines",
         "name": "Direkte Gerade Spitze -> Senke",
         "type": "scatter3d",
         "x": [
          275.4772590310812,
          262.87494971035653
         ],
         "y": [
          936.1547931572338,
          982.5314174759983
         ],
         "z": [
          721.5128129461401,
          711.0545267676108
         ]
        },
        {
         "marker": {
          "color": "magenta",
          "size": 8
         },
         "mode": "markers",
         "name": "Spitze",
         "type": "scatter3d",
         "x": [
          275.4772590310812
         ],
         "y": [
          936.1547931572338
         ],
         "z": [
          721.5128129461401
         ]
        },
        {
         "marker": {
          "color": "magenta",
          "size": 8
         },
         "mode": "markers",
         "name": "Senke",
         "type": "scatter3d",
         "x": [
          262.87494971035653
         ],
         "y": [
          982.5314174759983
         ],
         "z": [
          711.0545267676108
         ]
        },
        {
         "mode": "text",
         "showlegend": false,
         "text": [
          "Spitze"
         ],
         "textfont": {
          "size": 10
         },
         "textposition": "top center",
         "type": "scatter3d",
         "x": [
          275.4772590310812
         ],
         "y": [
          936.1547931572338
         ],
         "z": [
          721.5128129461401
         ]
        },
        {
         "mode": "text",
         "showlegend": false,
         "text": [
          "Senke"
         ],
         "textfont": {
          "size": 10
         },
         "textposition": "top center",
         "type": "scatter3d",
         "x": [
          262.87494971035653
         ],
         "y": [
          982.5314174759983
         ],
         "z": [
          711.0545267676108
         ]
        }
       ],
       "layout": {
        "legend": {
         "title": {
          "text": "Legende"
         }
        },
        "scene": {
         "aspectmode": "cube",
         "xaxis": {
          "title": {
           "text": "X"
          }
         },
         "yaxis": {
          "title": {
           "text": "Y"
          }
         },
         "zaxis": {
          "title": {
           "text": "Z"
          }
         }
        },
        "template": {
         "data": {
          "bar": [
           {
            "error_x": {
             "color": "#2a3f5f"
            },
            "error_y": {
             "color": "#2a3f5f"
            },
            "marker": {
             "line": {
              "color": "#E5ECF6",
              "width": 0.5
             },
             "pattern": {
              "fillmode": "overlay",
              "size": 10,
              "solidity": 0.2
             }
            },
            "type": "bar"
           }
          ],
          "barpolar": [
           {
            "marker": {
             "line": {
              "color": "#E5ECF6",
              "width": 0.5
             },
             "pattern": {
              "fillmode": "overlay",
              "size": 10,
              "solidity": 0.2
             }
            },
            "type": "barpolar"
           }
          ],
          "carpet": [
           {
            "aaxis": {
             "endlinecolor": "#2a3f5f",
             "gridcolor": "white",
             "linecolor": "white",
             "minorgridcolor": "white",
             "startlinecolor": "#2a3f5f"
            },
            "baxis": {
             "endlinecolor": "#2a3f5f",
             "gridcolor": "white",
             "linecolor": "white",
             "minorgridcolor": "white",
             "startlinecolor": "#2a3f5f"
            },
            "type": "carpet"
           }
          ],
          "choropleth": [
           {
            "colorbar": {
             "outlinewidth": 0,
             "ticks": ""
            },
            "type": "choropleth"
           }
          ],
          "contour": [
           {
            "colorbar": {
             "outlinewidth": 0,
             "ticks": ""
            },
            "colorscale": [
             [
              0,
              "#0d0887"
             ],
             [
              0.1111111111111111,
              "#46039f"
             ],
             [
              0.2222222222222222,
              "#7201a8"
             ],
             [
              0.3333333333333333,
              "#9c179e"
             ],
             [
              0.4444444444444444,
              "#bd3786"
             ],
             [
              0.5555555555555556,
              "#d8576b"
             ],
             [
              0.6666666666666666,
              "#ed7953"
             ],
             [
              0.7777777777777778,
              "#fb9f3a"
             ],
             [
              0.8888888888888888,
              "#fdca26"
             ],
             [
              1,
              "#f0f921"
             ]
            ],
            "type": "contour"
           }
          ],
          "contourcarpet": [
           {
            "colorbar": {
             "outlinewidth": 0,
             "ticks": ""
            },
            "type": "contourcarpet"
           }
          ],
          "heatmap": [
           {
            "colorbar": {
             "outlinewidth": 0,
             "ticks": ""
            },
            "colorscale": [
             [
              0,
              "#0d0887"
             ],
             [
              0.1111111111111111,
              "#46039f"
             ],
             [
              0.2222222222222222,
              "#7201a8"
             ],
             [
              0.3333333333333333,
              "#9c179e"
             ],
             [
              0.4444444444444444,
              "#bd3786"
             ],
             [
              0.5555555555555556,
              "#d8576b"
             ],
             [
              0.6666666666666666,
              "#ed7953"
             ],
             [
              0.7777777777777778,
              "#fb9f3a"
             ],
             [
              0.8888888888888888,
              "#fdca26"
             ],
             [
              1,
              "#f0f921"
             ]
            ],
            "type": "heatmap"
           }
          ],
          "histogram": [
           {
            "marker": {
             "pattern": {
              "fillmode": "overlay",
              "size": 10,
              "solidity": 0.2
             }
            },
            "type": "histogram"
           }
          ],
          "histogram2d": [
           {
            "colorbar": {
             "outlinewidth": 0,
             "ticks": ""
            },
            "colorscale": [
             [
              0,
              "#0d0887"
             ],
             [
              0.1111111111111111,
              "#46039f"
             ],
             [
              0.2222222222222222,
              "#7201a8"
             ],
             [
              0.3333333333333333,
              "#9c179e"
             ],
             [
              0.4444444444444444,
              "#bd3786"
             ],
             [
              0.5555555555555556,
              "#d8576b"
             ],
             [
              0.6666666666666666,
              "#ed7953"
             ],
             [
              0.7777777777777778,
              "#fb9f3a"
             ],
             [
              0.8888888888888888,
              "#fdca26"
             ],
             [
              1,
              "#f0f921"
             ]
            ],
            "type": "histogram2d"
           }
          ],
          "histogram2dcontour": [
           {
            "colorbar": {
             "outlinewidth": 0,
             "ticks": ""
            },
            "colorscale": [
             [
              0,
              "#0d0887"
             ],
             [
              0.1111111111111111,
              "#46039f"
             ],
             [
              0.2222222222222222,
              "#7201a8"
             ],
             [
              0.3333333333333333,
              "#9c179e"
             ],
             [
              0.4444444444444444,
              "#bd3786"
             ],
             [
              0.5555555555555556,
              "#d8576b"
             ],
             [
              0.6666666666666666,
              "#ed7953"
             ],
             [
              0.7777777777777778,
              "#fb9f3a"
             ],
             [
              0.8888888888888888,
              "#fdca26"
             ],
             [
              1,
              "#f0f921"
             ]
            ],
            "type": "histogram2dcontour"
           }
          ],
          "mesh3d": [
           {
            "colorbar": {
             "outlinewidth": 0,
             "ticks": ""
            },
            "type": "mesh3d"
           }
          ],
          "parcoords": [
           {
            "line": {
             "colorbar": {
              "outlinewidth": 0,
              "ticks": ""
             }
            },
            "type": "parcoords"
           }
          ],
          "pie": [
           {
            "automargin": true,
            "type": "pie"
           }
          ],
          "scatter": [
           {
            "fillpattern": {
             "fillmode": "overlay",
             "size": 10,
             "solidity": 0.2
            },
            "type": "scatter"
           }
          ],
          "scatter3d": [
           {
            "line": {
             "colorbar": {
              "outlinewidth": 0,
              "ticks": ""
             }
            },
            "marker": {
             "colorbar": {
              "outlinewidth": 0,
              "ticks": ""
             }
            },
            "type": "scatter3d"
           }
          ],
          "scattercarpet": [
           {
            "marker": {
             "colorbar": {
              "outlinewidth": 0,
              "ticks": ""
             }
            },
            "type": "scattercarpet"
           }
          ],
          "scattergeo": [
           {
            "marker": {
             "colorbar": {
              "outlinewidth": 0,
              "ticks": ""
             }
            },
            "type": "scattergeo"
           }
          ],
          "scattergl": [
           {
            "marker": {
             "colorbar": {
              "outlinewidth": 0,
              "ticks": ""
             }
            },
            "type": "scattergl"
           }
          ],
          "scattermap": [
           {
            "marker": {
             "colorbar": {
              "outlinewidth": 0,
              "ticks": ""
             }
            },
            "type": "scattermap"
           }
          ],
          "scattermapbox": [
           {
            "marker": {
             "colorbar": {
              "outlinewidth": 0,
              "ticks": ""
             }
            },
            "type": "scattermapbox"
           }
          ],
          "scatterpolar": [
           {
            "marker": {
             "colorbar": {
              "outlinewidth": 0,
              "ticks": ""
             }
            },
            "type": "scatterpolar"
           }
          ],
          "scatterpolargl": [
           {
            "marker": {
             "colorbar": {
              "outlinewidth": 0,
              "ticks": ""
             }
            },
            "type": "scatterpolargl"
           }
          ],
          "scatterternary": [
           {
            "marker": {
             "colorbar": {
              "outlinewidth": 0,
              "ticks": ""
             }
            },
            "type": "scatterternary"
           }
          ],
          "surface": [
           {
            "colorbar": {
             "outlinewidth": 0,
             "ticks": ""
            },
            "colorscale": [
             [
              0,
              "#0d0887"
             ],
             [
              0.1111111111111111,
              "#46039f"
             ],
             [
              0.2222222222222222,
              "#7201a8"
             ],
             [
              0.3333333333333333,
              "#9c179e"
             ],
             [
              0.4444444444444444,
              "#bd3786"
             ],
             [
              0.5555555555555556,
              "#d8576b"
             ],
             [
              0.6666666666666666,
              "#ed7953"
             ],
             [
              0.7777777777777778,
              "#fb9f3a"
             ],
             [
              0.8888888888888888,
              "#fdca26"
             ],
             [
              1,
              "#f0f921"
             ]
            ],
            "type": "surface"
           }
          ],
          "table": [
           {
            "cells": {
             "fill": {
              "color": "#EBF0F8"
             },
             "line": {
              "color": "white"
             }
            },
            "header": {
             "fill": {
              "color": "#C8D4E3"
             },
             "line": {
              "color": "white"
             }
            },
            "type": "table"
           }
          ]
         },
         "layout": {
          "annotationdefaults": {
           "arrowcolor": "#2a3f5f",
           "arrowhead": 0,
           "arrowwidth": 1
          },
          "autotypenumbers": "strict",
          "coloraxis": {
           "colorbar": {
            "outlinewidth": 0,
            "ticks": ""
           }
          },
          "colorscale": {
           "diverging": [
            [
             0,
             "#8e0152"
            ],
            [
             0.1,
             "#c51b7d"
            ],
            [
             0.2,
             "#de77ae"
            ],
            [
             0.3,
             "#f1b6da"
            ],
            [
             0.4,
             "#fde0ef"
            ],
            [
             0.5,
             "#f7f7f7"
            ],
            [
             0.6,
             "#e6f5d0"
            ],
            [
             0.7,
             "#b8e186"
            ],
            [
             0.8,
             "#7fbc41"
            ],
            [
             0.9,
             "#4d9221"
            ],
            [
             1,
             "#276419"
            ]
           ],
           "sequential": [
            [
             0,
             "#0d0887"
            ],
            [
             0.1111111111111111,
             "#46039f"
            ],
            [
             0.2222222222222222,
             "#7201a8"
            ],
            [
             0.3333333333333333,
             "#9c179e"
            ],
            [
             0.4444444444444444,
             "#bd3786"
            ],
            [
             0.5555555555555556,
             "#d8576b"
            ],
            [
             0.6666666666666666,
             "#ed7953"
            ],
            [
             0.7777777777777778,
             "#fb9f3a"
            ],
            [
             0.8888888888888888,
             "#fdca26"
            ],
            [
             1,
             "#f0f921"
            ]
           ],
           "sequentialminus": [
            [
             0,
             "#0d0887"
            ],
            [
             0.1111111111111111,
             "#46039f"
            ],
            [
             0.2222222222222222,
             "#7201a8"
            ],
            [
             0.3333333333333333,
             "#9c179e"
            ],
            [
             0.4444444444444444,
             "#bd3786"
            ],
            [
             0.5555555555555556,
             "#d8576b"
            ],
            [
             0.6666666666666666,
             "#ed7953"
            ],
            [
             0.7777777777777778,
             "#fb9f3a"
            ],
            [
             0.8888888888888888,
             "#fdca26"
            ],
            [
             1,
             "#f0f921"
            ]
           ]
          },
          "colorway": [
           "#636efa",
           "#EF553B",
           "#00cc96",
           "#ab63fa",
           "#FFA15A",
           "#19d3f3",
           "#FF6692",
           "#B6E880",
           "#FF97FF",
           "#FECB52"
          ],
          "font": {
           "color": "#2a3f5f"
          },
          "geo": {
           "bgcolor": "white",
           "lakecolor": "white",
           "landcolor": "#E5ECF6",
           "showlakes": true,
           "showland": true,
           "subunitcolor": "white"
          },
          "hoverlabel": {
           "align": "left"
          },
          "hovermode": "closest",
          "mapbox": {
           "style": "light"
          },
          "paper_bgcolor": "white",
          "plot_bgcolor": "#E5ECF6",
          "polar": {
           "angularaxis": {
            "gridcolor": "white",
            "linecolor": "white",
            "ticks": ""
           },
           "bgcolor": "#E5ECF6",
           "radialaxis": {
            "gridcolor": "white",
            "linecolor": "white",
            "ticks": ""
           }
          },
          "scene": {
           "xaxis": {
            "backgroundcolor": "#E5ECF6",
            "gridcolor": "white",
            "gridwidth": 2,
            "linecolor": "white",
            "showbackground": true,
            "ticks": "",
            "zerolinecolor": "white"
           },
           "yaxis": {
            "backgroundcolor": "#E5ECF6",
            "gridcolor": "white",
            "gridwidth": 2,
            "linecolor": "white",
            "showbackground": true,
            "ticks": "",
            "zerolinecolor": "white"
           },
           "zaxis": {
            "backgroundcolor": "#E5ECF6",
            "gridcolor": "white",
            "gridwidth": 2,
            "linecolor": "white",
            "showbackground": true,
            "ticks": "",
            "zerolinecolor": "white"
           }
          },
          "shapedefaults": {
           "line": {
            "color": "#2a3f5f"
           }
          },
          "ternary": {
           "aaxis": {
            "gridcolor": "white",
            "linecolor": "white",
            "ticks": ""
           },
           "baxis": {
            "gridcolor": "white",
            "linecolor": "white",
            "ticks": ""
           },
           "bgcolor": "#E5ECF6",
           "caxis": {
            "gridcolor": "white",
            "linecolor": "white",
            "ticks": ""
           }
          },
          "title": {
           "x": 0.05
          },
          "xaxis": {
           "automargin": true,
           "gridcolor": "white",
           "linecolor": "white",
           "ticks": "",
           "title": {
            "standoff": 15
           },
           "zerolinecolor": "white",
           "zerolinewidth": 2
          },
          "yaxis": {
           "automargin": true,
           "gridcolor": "white",
           "linecolor": "white",
           "ticks": "",
           "title": {
            "standoff": 15
           },
           "zerolinecolor": "white",
           "zerolinewidth": 2
          }
         }
        },
        "title": {
         "text": "Haken 17, Trajektorien-Ansatz 3"
        }
       }
      }
     },
     "metadata": {},
     "output_type": "display_data"
    },
    {
     "name": "stdout",
     "output_type": "stream",
     "text": [
      "HTML-Datei '/home/mo/Thesis/Evaluation/Trajektorientests/traj4.html' erfolgreich erstellt!\n"
     ]
    },
    {
     "data": {
      "application/vnd.plotly.v1+json": {
       "config": {
        "plotlyServerURL": "https://plot.ly"
       },
       "data": [
        {
         "color": "rgba(31, 119, 180, 0.8)",
         "name": "P1",
         "opacity": 0.8,
         "type": "mesh3d",
         "x": [
          271.61979251440187,
          279.310168438144,
          279.3663093838121,
          271.67593346007
         ],
         "y": [
          930.268619939724,
          930.2601967565863,
          942.2591275370946,
          942.2675507202323
         ],
         "z": [
          722.5177561038073,
          720.3136582834932,
          720.4636860102277,
          722.6677838305418
         ]
        },
        {
         "marker": {
          "color": "red",
          "size": 3
         },
         "mode": "markers+text",
         "showlegend": false,
         "text": "",
         "textfont": {
          "size": 12
         },
         "textposition": "top center",
         "type": "scatter3d",
         "x": [
          275.493050949107
         ],
         "y": [
          936.2638737384093
         ],
         "z": [
          721.4907210570175
         ]
        },
        {
         "line": {
          "color": "rgba(31, 119, 180, 0.8)",
          "width": 4
         },
         "mode": "lines",
         "showlegend": false,
         "type": "scatter3d",
         "x": [
          271.61979251440187,
          279.310168438144
         ],
         "y": [
          930.268619939724,
          930.2601967565863
         ],
         "z": [
          722.5177561038073,
          720.3136582834932
         ]
        },
        {
         "line": {
          "color": "rgba(31, 119, 180, 0.8)",
          "width": 4
         },
         "mode": "lines",
         "showlegend": false,
         "type": "scatter3d",
         "x": [
          279.310168438144,
          279.3663093838121
         ],
         "y": [
          930.2601967565863,
          942.2591275370946
         ],
         "z": [
          720.3136582834932,
          720.4636860102277
         ]
        },
        {
         "line": {
          "color": "rgba(31, 119, 180, 0.8)",
          "width": 4
         },
         "mode": "lines",
         "showlegend": false,
         "type": "scatter3d",
         "x": [
          279.3663093838121,
          271.67593346007
         ],
         "y": [
          942.2591275370946,
          942.2675507202323
         ],
         "z": [
          720.4636860102277,
          722.6677838305418
         ]
        },
        {
         "line": {
          "color": "rgba(31, 119, 180, 0.8)",
          "width": 4
         },
         "mode": "lines",
         "showlegend": false,
         "type": "scatter3d",
         "x": [
          271.67593346007,
          271.61979251440187
         ],
         "y": [
          942.2675507202323,
          930.268619939724
         ],
         "z": [
          722.6677838305418,
          722.5177561038073
         ]
        },
        {
         "color": "rgba(214, 39, 40, 0.8)",
         "name": "P2",
         "opacity": 0.8,
         "type": "mesh3d",
         "x": [
          271.61979251440187,
          279.310168438144,
          279.3663093838121,
          271.67593346007
         ],
         "y": [
          930.268619939724,
          930.2601967565863,
          942.2591275370946,
          942.2675507202323
         ],
         "z": [
          722.5177561038073,
          720.3136582834932,
          720.4636860102277,
          722.6677838305418
         ]
        },
        {
         "marker": {
          "color": "red",
          "size": 3
         },
         "mode": "markers+text",
         "showlegend": false,
         "text": "",
         "textfont": {
          "size": 12
         },
         "textposition": "top center",
         "type": "scatter3d",
         "x": [
          275.493050949107
         ],
         "y": [
          936.2638737384093
         ],
         "z": [
          721.4907210570175
         ]
        },
        {
         "line": {
          "color": "rgba(214, 39, 40, 0.8)",
          "width": 4
         },
         "mode": "lines",
         "showlegend": false,
         "type": "scatter3d",
         "x": [
          271.61979251440187,
          279.310168438144
         ],
         "y": [
          930.268619939724,
          930.2601967565863
         ],
         "z": [
          722.5177561038073,
          720.3136582834932
         ]
        },
        {
         "line": {
          "color": "rgba(214, 39, 40, 0.8)",
          "width": 4
         },
         "mode": "lines",
         "showlegend": false,
         "type": "scatter3d",
         "x": [
          279.310168438144,
          279.3663093838121
         ],
         "y": [
          930.2601967565863,
          942.2591275370946
         ],
         "z": [
          720.3136582834932,
          720.4636860102277
         ]
        },
        {
         "line": {
          "color": "rgba(214, 39, 40, 0.8)",
          "width": 4
         },
         "mode": "lines",
         "showlegend": false,
         "type": "scatter3d",
         "x": [
          279.3663093838121,
          271.67593346007
         ],
         "y": [
          942.2591275370946,
          942.2675507202323
         ],
         "z": [
          720.4636860102277,
          722.6677838305418
         ]
        },
        {
         "line": {
          "color": "rgba(214, 39, 40, 0.8)",
          "width": 4
         },
         "mode": "lines",
         "showlegend": false,
         "type": "scatter3d",
         "x": [
          271.67593346007,
          271.61979251440187
         ],
         "y": [
          942.2675507202323,
          930.268619939724
         ],
         "z": [
          722.6677838305418,
          722.5177561038073
         ]
        },
        {
         "color": "rgba(247, 182, 210, 0.8)",
         "name": "P3",
         "opacity": 0.8,
         "type": "mesh3d",
         "x": [
          270.3560650812769,
          278.046441005019,
          278.1025819506871,
          270.412206026945
         ],
         "y": [
          934.9694151248509,
          934.9609919417132,
          946.9599227222216,
          946.9683459053592
         ],
         "z": [
          721.4691736649191,
          719.265075844605,
          719.4151035713395,
          721.6192013916536
         ]
        },
        {
         "marker": {
          "color": "red",
          "size": 3
         },
         "mode": "markers+text",
         "showlegend": false,
         "text": "",
         "textfont": {
          "size": 12
         },
         "textposition": "top center",
         "type": "scatter3d",
         "x": [
          274.22932351598206
         ],
         "y": [
          940.9646689235362
         ],
         "z": [
          720.4421386181293
         ]
        },
        {
         "line": {
          "color": "rgba(247, 182, 210, 0.8)",
          "width": 4
         },
         "mode": "lines",
         "showlegend": false,
         "type": "scatter3d",
         "x": [
          270.3560650812769,
          278.046441005019
         ],
         "y": [
          934.9694151248509,
          934.9609919417132
         ],
         "z": [
          721.4691736649191,
          719.265075844605
         ]
        },
        {
         "line": {
          "color": "rgba(247, 182, 210, 0.8)",
          "width": 4
         },
         "mode": "lines",
         "showlegend": false,
         "type": "scatter3d",
         "x": [
          278.046441005019,
          278.1025819506871
         ],
         "y": [
          934.9609919417132,
          946.9599227222216
         ],
         "z": [
          719.265075844605,
          719.4151035713395
         ]
        },
        {
         "line": {
          "color": "rgba(247, 182, 210, 0.8)",
          "width": 4
         },
         "mode": "lines",
         "showlegend": false,
         "type": "scatter3d",
         "x": [
          278.1025819506871,
          270.412206026945
         ],
         "y": [
          946.9599227222216,
          946.9683459053592
         ],
         "z": [
          719.4151035713395,
          721.6192013916536
         ]
        },
        {
         "line": {
          "color": "rgba(247, 182, 210, 0.8)",
          "width": 4
         },
         "mode": "lines",
         "showlegend": false,
         "type": "scatter3d",
         "x": [
          270.412206026945,
          270.3560650812769
         ],
         "y": [
          946.9683459053592,
          934.9694151248509
         ],
         "z": [
          721.6192013916536,
          721.4691736649191
         ]
        },
        {
         "line": {
          "color": "black",
          "width": 2
         },
         "mode": "lines",
         "name": "Berechnete Hakenlinie",
         "type": "scatter3d",
         "x": {
          "bdata": "0lpkieM3cUDSWmSJ4zdxQIyVIk+rI3FA",
          "dtype": "f8"
         },
         "y": {
          "bdata": "7qXVaRxCjUDupdVpHEKNQHIwV6S3Z41A",
          "dtype": "f8"
         },
         "z": {
          "bdata": "ylop/+yLhkDKWin/7IuGQFDJ+H+Jg4ZA",
          "dtype": "f8"
         }
        },
        {
         "mode": "text",
         "showlegend": false,
         "text": [
          "Pre-Position"
         ],
         "textfont": {
          "size": 10
         },
         "textposition": "top center",
         "type": "scatter3d",
         "x": [
          275.493050949107
         ],
         "y": [
          936.2638737384093
         ],
         "z": [
          721.4907210570175
         ]
        },
        {
         "mode": "text",
         "showlegend": false,
         "text": [
          "Loslassen"
         ],
         "textfont": {
          "size": 10
         },
         "textposition": "top center",
         "type": "scatter3d",
         "x": [
          274.22932351598206
         ],
         "y": [
          940.9646689235362
         ],
         "z": [
          720.4421386181293
         ]
        },
        {
         "color": "rgba(0,255,0,0.2)",
         "name": "optimale Trajektorie",
         "opacity": 0.8,
         "type": "mesh3d",
         "x": [
          271.61979252830685,
          279.3101684380986,
          279.3663094399687,
          271.67593353017696
         ],
         "y": [
          930.2686209040137,
          930.2601976855832,
          942.2591284658247,
          942.2675516842552
         ],
         "z": [
          722.5177561361269,
          720.3136582672731,
          720.4636859943136,
          722.6677838631673
         ]
        },
        {
         "line": {
          "color": "rgba(0,255,0,0.2)",
          "width": 3
         },
         "mode": "lines",
         "showlegend": false,
         "type": "scatter3d",
         "x": [
          271.61979252830685,
          279.3101684380986
         ],
         "y": [
          930.2686209040137,
          930.2601976855832
         ],
         "z": [
          722.5177561361269,
          720.3136582672731
         ]
        },
        {
         "line": {
          "color": "rgba(0,255,0,0.2)",
          "width": 3
         },
         "mode": "lines",
         "showlegend": false,
         "type": "scatter3d",
         "x": [
          279.3101684380986,
          279.3663094399687
         ],
         "y": [
          930.2601976855832,
          942.2591284658247
         ],
         "z": [
          720.3136582672731,
          720.4636859943136
         ]
        },
        {
         "line": {
          "color": "rgba(0,255,0,0.2)",
          "width": 3
         },
         "mode": "lines",
         "showlegend": false,
         "type": "scatter3d",
         "x": [
          279.3663094399687,
          271.67593353017696
         ],
         "y": [
          942.2591284658247,
          942.2675516842552
         ],
         "z": [
          720.4636859943136,
          722.6677838631673
         ]
        },
        {
         "line": {
          "color": "rgba(0,255,0,0.2)",
          "width": 3
         },
         "mode": "lines",
         "showlegend": false,
         "type": "scatter3d",
         "x": [
          271.67593353017696,
          271.61979252830685
         ],
         "y": [
          942.2675516842552,
          930.2686209040137
         ],
         "z": [
          722.6677838631673,
          722.5177561361269
         ]
        },
        {
         "marker": {
          "color": "green",
          "size": 4
         },
         "mode": "markers",
         "name": "Mitte P3",
         "showlegend": false,
         "type": "scatter3d",
         "x": [
          275.49305098413777
         ],
         "y": [
          936.2638746849192
         ],
         "z": [
          721.4907210652202
         ]
        },
        {
         "color": "rgba(0,255,0,0.2)",
         "name": "optimale Trajektorie",
         "opacity": 0.8,
         "type": "mesh3d",
         "x": [
          274.82316046322234,
          281.0351292258658,
          281.2823798185996,
          275.0704110559562
         ],
         "y": [
          927.9849209855388,
          928.0005322349925,
          939.99311417739,
          939.9775029279363
         ],
         "z": [
          724.2369171068719,
          719.1959647781117,
          719.5377914875357,
          724.578743816296
         ]
        },
        {
         "line": {
          "color": "rgba(0,255,0,0.2)",
          "width": 3
         },
         "mode": "lines",
         "showlegend": false,
         "type": "scatter3d",
         "x": [
          274.82316046322234,
          281.0351292258658
         ],
         "y": [
          927.9849209855388,
          928.0005322349925
         ],
         "z": [
          724.2369171068719,
          719.1959647781117
         ]
        },
        {
         "line": {
          "color": "rgba(0,255,0,0.2)",
          "width": 3
         },
         "mode": "lines",
         "showlegend": false,
         "type": "scatter3d",
         "x": [
          281.0351292258658,
          281.2823798185996
         ],
         "y": [
          928.0005322349925,
          939.99311417739
         ],
         "z": [
          719.1959647781117,
          719.5377914875357
         ]
        },
        {
         "line": {
          "color": "rgba(0,255,0,0.2)",
          "width": 3
         },
         "mode": "lines",
         "showlegend": false,
         "type": "scatter3d",
         "x": [
          281.2823798185996,
          275.0704110559562
         ],
         "y": [
          939.99311417739,
          939.9775029279363
         ],
         "z": [
          719.5377914875357,
          724.578743816296
         ]
        },
        {
         "line": {
          "color": "rgba(0,255,0,0.2)",
          "width": 3
         },
         "mode": "lines",
         "showlegend": false,
         "type": "scatter3d",
         "x": [
          275.0704110559562,
          274.82316046322234
         ],
         "y": [
          939.9775029279363,
          927.9849209855388
         ],
         "z": [
          724.578743816296,
          724.2369171068719
         ]
        },
        {
         "marker": {
          "color": "green",
          "size": 4
         },
         "mode": "markers",
         "name": "Mitte P3",
         "showlegend": false,
         "type": "scatter3d",
         "x": [
          278.052770140911
         ],
         "y": [
          933.9890175814644
         ],
         "z": [
          721.8873542972038
         ]
        },
        {
         "color": "rgba(0,255,0,0.2)",
         "name": "optimale Trajektorie",
         "opacity": 0.8,
         "type": "mesh3d",
         "x": [
          270.7477423823568,
          276.3014143222067,
          277.03843378023475,
          271.48476184038486
         ],
         "y": [
          928.1084438753062,
          928.3210903100422,
          940.2429166112045,
          940.0302701764684
         ],
         "z": [
          720.0943969418504,
          714.3401368262214,
          715.4920309026909,
          721.2462910183199
         ]
        },
        {
         "line": {
          "color": "rgba(0,255,0,0.2)",
          "width": 3
         },
         "mode": "lines",
         "showlegend": false,
         "type": "scatter3d",
         "x": [
          270.7477423823568,
          276.3014143222067
         ],
         "y": [
          928.1084438753062,
          928.3210903100422
         ],
         "z": [
          720.0943969418504,
          714.3401368262214
         ]
        },
        {
         "line": {
          "color": "rgba(0,255,0,0.2)",
          "width": 3
         },
         "mode": "lines",
         "showlegend": false,
         "type": "scatter3d",
         "x": [
          276.3014143222067,
          277.03843378023475
         ],
         "y": [
          928.3210903100422,
          940.2429166112045
         ],
         "z": [
          714.3401368262214,
          715.4920309026909
         ]
        },
        {
         "line": {
          "color": "rgba(0,255,0,0.2)",
          "width": 3
         },
         "mode": "lines",
         "showlegend": false,
         "type": "scatter3d",
         "x": [
          277.03843378023475,
          271.48476184038486
         ],
         "y": [
          940.2429166112045,
          940.0302701764684
         ],
         "z": [
          715.4920309026909,
          721.2462910183199
         ]
        },
        {
         "line": {
          "color": "rgba(0,255,0,0.2)",
          "width": 3
         },
         "mode": "lines",
         "showlegend": false,
         "type": "scatter3d",
         "x": [
          271.48476184038486,
          270.7477423823568
         ],
         "y": [
          940.0302701764684,
          928.1084438753062
         ],
         "z": [
          721.2462910183199,
          720.0943969418504
         ]
        },
        {
         "marker": {
          "color": "green",
          "size": 4
         },
         "mode": "markers",
         "name": "Mitte P3",
         "showlegend": false,
         "type": "scatter3d",
         "x": [
          273.8930880812958
         ],
         "y": [
          934.1756802432553
         ],
         "z": [
          717.7932139222706
         ]
        },
        {
         "color": "rgba(0,255,0,0.2)",
         "name": "optimale Trajektorie",
         "opacity": 0.8,
         "type": "mesh3d",
         "x": [
          267.65577711349266,
          271.3258571697832,
          272.44896662958234,
          268.7788865732918
         ],
         "y": [
          927.591384924965,
          928.0417160843109,
          939.9142583333121,
          939.4639271739662
         ],
         "z": [
          716.1091626214103,
          709.0149597608107,
          710.3496378819287,
          717.4438407425283
         ]
        },
        {
         "line": {
          "color": "rgba(0,255,0,0.2)",
          "width": 3
         },
         "mode": "lines",
         "showlegend": false,
         "type": "scatter3d",
         "x": [
          267.65577711349266,
          271.3258571697832
         ],
         "y": [
          927.591384924965,
          928.0417160843109
         ],
         "z": [
          716.1091626214103,
          709.0149597608107
         ]
        },
        {
         "line": {
          "color": "rgba(0,255,0,0.2)",
          "width": 3
         },
         "mode": "lines",
         "showlegend": false,
         "type": "scatter3d",
         "x": [
          271.3258571697832,
          272.44896662958234
         ],
         "y": [
          928.0417160843109,
          939.9142583333121
         ],
         "z": [
          709.0149597608107,
          710.3496378819287
         ]
        },
        {
         "line": {
          "color": "rgba(0,255,0,0.2)",
          "width": 3
         },
         "mode": "lines",
         "showlegend": false,
         "type": "scatter3d",
         "x": [
          272.44896662958234,
          268.7788865732918
         ],
         "y": [
          939.9142583333121,
          939.4639271739662
         ],
         "z": [
          710.3496378819287,
          717.4438407425283
         ]
        },
        {
         "line": {
          "color": "rgba(0,255,0,0.2)",
          "width": 3
         },
         "mode": "lines",
         "showlegend": false,
         "type": "scatter3d",
         "x": [
          268.7788865732918,
          267.65577711349266
         ],
         "y": [
          939.4639271739662,
          927.591384924965
         ],
         "z": [
          717.4438407425283,
          716.1091626214103
         ]
        },
        {
         "marker": {
          "color": "green",
          "size": 4
         },
         "mode": "markers",
         "name": "Mitte P3",
         "showlegend": false,
         "type": "scatter3d",
         "x": [
          270.0523718715375
         ],
         "y": [
          933.7528216291385
         ],
         "z": [
          713.2294002516695
         ]
        },
        {
         "color": "rgba(0,255,0,0.2)",
         "name": "optimale Trajektorie",
         "opacity": 0.8,
         "type": "mesh3d",
         "x": [
          265.1178169359699,
          266.609468829399,
          267.71249991865534,
          266.22084802522625
         ],
         "y": [
          928.0938901855569,
          928.811324974996,
          940.6897030839269,
          939.9722682944879
         ],
         "z": [
          715.2831303023092,
          707.456236796471,
          708.755257934637,
          716.5821514404753
         ]
        },
        {
         "line": {
          "color": "rgba(0,255,0,0.2)",
          "width": 3
         },
         "mode": "lines",
         "showlegend": false,
         "type": "scatter3d",
         "x": [
          265.1178169359699,
          266.609468829399
         ],
         "y": [
          928.0938901855569,
          928.811324974996
         ],
         "z": [
          715.2831303023092,
          707.456236796471
         ]
        },
        {
         "line": {
          "color": "rgba(0,255,0,0.2)",
          "width": 3
         },
         "mode": "lines",
         "showlegend": false,
         "type": "scatter3d",
         "x": [
          266.609468829399,
          267.71249991865534
         ],
         "y": [
          928.811324974996,
          940.6897030839269
         ],
         "z": [
          707.456236796471,
          708.755257934637
         ]
        },
        {
         "line": {
          "color": "rgba(0,255,0,0.2)",
          "width": 3
         },
         "mode": "lines",
         "showlegend": false,
         "type": "scatter3d",
         "x": [
          267.71249991865534,
          266.22084802522625
         ],
         "y": [
          940.6897030839269,
          939.9722682944879
         ],
         "z": [
          708.755257934637,
          716.5821514404753
         ]
        },
        {
         "line": {
          "color": "rgba(0,255,0,0.2)",
          "width": 3
         },
         "mode": "lines",
         "showlegend": false,
         "type": "scatter3d",
         "x": [
          266.22084802522625,
          265.1178169359699
         ],
         "y": [
          939.9722682944879,
          928.0938901855569
         ],
         "z": [
          716.5821514404753,
          715.2831303023092
         ]
        },
        {
         "marker": {
          "color": "green",
          "size": 4
         },
         "mode": "markers",
         "name": "Mitte P3",
         "showlegend": false,
         "type": "scatter3d",
         "x": [
          266.41515842731263
         ],
         "y": [
          934.3917966347419
         ],
         "z": [
          712.0191941184731
         ]
        },
        {
         "color": "rgba(0,255,0,0.2)",
         "name": "optimale Trajektorie",
         "opacity": 0.8,
         "type": "mesh3d",
         "x": [
          265.79397971378364,
          265.75299945607424,
          266.90384170758375,
          266.94482196529316
         ],
         "y": [
          927.6749003859125,
          928.5559547291616,
          940.4286286270371,
          939.547574283788
         ],
         "z": [
          715.1295772178627,
          707.1783468814481,
          708.487994401526,
          716.4392247379405
         ]
        },
        {
         "line": {
          "color": "rgba(0,255,0,0.2)",
          "width": 3
         },
         "mode": "lines",
         "showlegend": false,
         "type": "scatter3d",
         "x": [
          265.79397971378364,
          265.75299945607424
         ],
         "y": [
          927.6749003859125,
          928.5559547291616
         ],
         "z": [
          715.1295772178627,
          707.1783468814481
         ]
        },
        {
         "line": {
          "color": "rgba(0,255,0,0.2)",
          "width": 3
         },
         "mode": "lines",
         "showlegend": false,
         "type": "scatter3d",
         "x": [
          265.75299945607424,
          266.90384170758375
         ],
         "y": [
          928.5559547291616,
          940.4286286270371
         ],
         "z": [
          707.1783468814481,
          708.487994401526
         ]
        },
        {
         "line": {
          "color": "rgba(0,255,0,0.2)",
          "width": 3
         },
         "mode": "lines",
         "showlegend": false,
         "type": "scatter3d",
         "x": [
          266.90384170758375,
          266.94482196529316
         ],
         "y": [
          940.4286286270371,
          939.547574283788
         ],
         "z": [
          708.487994401526,
          716.4392247379405
         ]
        },
        {
         "line": {
          "color": "rgba(0,255,0,0.2)",
          "width": 3
         },
         "mode": "lines",
         "showlegend": false,
         "type": "scatter3d",
         "x": [
          266.94482196529316,
          265.79397971378364
         ],
         "y": [
          939.547574283788,
          927.6749003859125
         ],
         "z": [
          716.4392247379405,
          715.1295772178627
         ]
        },
        {
         "marker": {
          "color": "green",
          "size": 4
         },
         "mode": "markers",
         "name": "Mitte P3",
         "showlegend": false,
         "type": "scatter3d",
         "x": [
          266.3489107106837
         ],
         "y": [
          934.0517645064748
         ],
         "z": [
          711.8087858096943
         ]
        },
        {
         "line": {
          "color": "green",
          "width": 2
         },
         "mode": "lines",
         "name": "Optimale Hakenlinie",
         "type": "scatter3d",
         "x": {
          "bdata": "HsJtieM3cUCw1oAl2GBxQM5ZuhZKHnFAvjfjg9bgcEB3vyl9pKZwQMW5ZSOVpXBA",
          "dtype": "f8"
         },
         "y": {
          "bdata": "w69UahxCjUB4vAyC6S+NQK4aC8tnMY1A+KZYxwUujUAyJ0ZmIjONQDlzggNqMI1A",
          "dtype": "f8"
         },
         "z": {
          "bdata": "onQq/+yLhkClszVNGY+GQBN3ioBYboZA65TMz9VJhkDx+D5PJ0CGQNnQsWR4PoZA",
          "dtype": "f8"
         }
        },
        {
         "line": {
          "color": "gray",
          "dash": "dash"
         },
         "mode": "lines",
         "name": "Direkte Gerade Spitze -> Senke",
         "type": "scatter3d",
         "x": [
          275.4772590310812,
          262.87494971035653
         ],
         "y": [
          936.1547931572338,
          982.5314174759983
         ],
         "z": [
          721.5128129461401,
          711.0545267676108
         ]
        },
        {
         "marker": {
          "color": "magenta",
          "size": 8
         },
         "mode": "markers",
         "name": "Spitze",
         "type": "scatter3d",
         "x": [
          275.4772590310812
         ],
         "y": [
          936.1547931572338
         ],
         "z": [
          721.5128129461401
         ]
        },
        {
         "marker": {
          "color": "magenta",
          "size": 8
         },
         "mode": "markers",
         "name": "Senke",
         "type": "scatter3d",
         "x": [
          262.87494971035653
         ],
         "y": [
          982.5314174759983
         ],
         "z": [
          711.0545267676108
         ]
        },
        {
         "mode": "text",
         "showlegend": false,
         "text": [
          "Spitze"
         ],
         "textfont": {
          "size": 10
         },
         "textposition": "top center",
         "type": "scatter3d",
         "x": [
          275.4772590310812
         ],
         "y": [
          936.1547931572338
         ],
         "z": [
          721.5128129461401
         ]
        },
        {
         "mode": "text",
         "showlegend": false,
         "text": [
          "Senke"
         ],
         "textfont": {
          "size": 10
         },
         "textposition": "top center",
         "type": "scatter3d",
         "x": [
          262.87494971035653
         ],
         "y": [
          982.5314174759983
         ],
         "z": [
          711.0545267676108
         ]
        }
       ],
       "layout": {
        "legend": {
         "title": {
          "text": "Legende"
         }
        },
        "scene": {
         "aspectmode": "cube",
         "xaxis": {
          "title": {
           "text": "X"
          }
         },
         "yaxis": {
          "title": {
           "text": "Y"
          }
         },
         "zaxis": {
          "title": {
           "text": "Z"
          }
         }
        },
        "template": {
         "data": {
          "bar": [
           {
            "error_x": {
             "color": "#2a3f5f"
            },
            "error_y": {
             "color": "#2a3f5f"
            },
            "marker": {
             "line": {
              "color": "#E5ECF6",
              "width": 0.5
             },
             "pattern": {
              "fillmode": "overlay",
              "size": 10,
              "solidity": 0.2
             }
            },
            "type": "bar"
           }
          ],
          "barpolar": [
           {
            "marker": {
             "line": {
              "color": "#E5ECF6",
              "width": 0.5
             },
             "pattern": {
              "fillmode": "overlay",
              "size": 10,
              "solidity": 0.2
             }
            },
            "type": "barpolar"
           }
          ],
          "carpet": [
           {
            "aaxis": {
             "endlinecolor": "#2a3f5f",
             "gridcolor": "white",
             "linecolor": "white",
             "minorgridcolor": "white",
             "startlinecolor": "#2a3f5f"
            },
            "baxis": {
             "endlinecolor": "#2a3f5f",
             "gridcolor": "white",
             "linecolor": "white",
             "minorgridcolor": "white",
             "startlinecolor": "#2a3f5f"
            },
            "type": "carpet"
           }
          ],
          "choropleth": [
           {
            "colorbar": {
             "outlinewidth": 0,
             "ticks": ""
            },
            "type": "choropleth"
           }
          ],
          "contour": [
           {
            "colorbar": {
             "outlinewidth": 0,
             "ticks": ""
            },
            "colorscale": [
             [
              0,
              "#0d0887"
             ],
             [
              0.1111111111111111,
              "#46039f"
             ],
             [
              0.2222222222222222,
              "#7201a8"
             ],
             [
              0.3333333333333333,
              "#9c179e"
             ],
             [
              0.4444444444444444,
              "#bd3786"
             ],
             [
              0.5555555555555556,
              "#d8576b"
             ],
             [
              0.6666666666666666,
              "#ed7953"
             ],
             [
              0.7777777777777778,
              "#fb9f3a"
             ],
             [
              0.8888888888888888,
              "#fdca26"
             ],
             [
              1,
              "#f0f921"
             ]
            ],
            "type": "contour"
           }
          ],
          "contourcarpet": [
           {
            "colorbar": {
             "outlinewidth": 0,
             "ticks": ""
            },
            "type": "contourcarpet"
           }
          ],
          "heatmap": [
           {
            "colorbar": {
             "outlinewidth": 0,
             "ticks": ""
            },
            "colorscale": [
             [
              0,
              "#0d0887"
             ],
             [
              0.1111111111111111,
              "#46039f"
             ],
             [
              0.2222222222222222,
              "#7201a8"
             ],
             [
              0.3333333333333333,
              "#9c179e"
             ],
             [
              0.4444444444444444,
              "#bd3786"
             ],
             [
              0.5555555555555556,
              "#d8576b"
             ],
             [
              0.6666666666666666,
              "#ed7953"
             ],
             [
              0.7777777777777778,
              "#fb9f3a"
             ],
             [
              0.8888888888888888,
              "#fdca26"
             ],
             [
              1,
              "#f0f921"
             ]
            ],
            "type": "heatmap"
           }
          ],
          "histogram": [
           {
            "marker": {
             "pattern": {
              "fillmode": "overlay",
              "size": 10,
              "solidity": 0.2
             }
            },
            "type": "histogram"
           }
          ],
          "histogram2d": [
           {
            "colorbar": {
             "outlinewidth": 0,
             "ticks": ""
            },
            "colorscale": [
             [
              0,
              "#0d0887"
             ],
             [
              0.1111111111111111,
              "#46039f"
             ],
             [
              0.2222222222222222,
              "#7201a8"
             ],
             [
              0.3333333333333333,
              "#9c179e"
             ],
             [
              0.4444444444444444,
              "#bd3786"
             ],
             [
              0.5555555555555556,
              "#d8576b"
             ],
             [
              0.6666666666666666,
              "#ed7953"
             ],
             [
              0.7777777777777778,
              "#fb9f3a"
             ],
             [
              0.8888888888888888,
              "#fdca26"
             ],
             [
              1,
              "#f0f921"
             ]
            ],
            "type": "histogram2d"
           }
          ],
          "histogram2dcontour": [
           {
            "colorbar": {
             "outlinewidth": 0,
             "ticks": ""
            },
            "colorscale": [
             [
              0,
              "#0d0887"
             ],
             [
              0.1111111111111111,
              "#46039f"
             ],
             [
              0.2222222222222222,
              "#7201a8"
             ],
             [
              0.3333333333333333,
              "#9c179e"
             ],
             [
              0.4444444444444444,
              "#bd3786"
             ],
             [
              0.5555555555555556,
              "#d8576b"
             ],
             [
              0.6666666666666666,
              "#ed7953"
             ],
             [
              0.7777777777777778,
              "#fb9f3a"
             ],
             [
              0.8888888888888888,
              "#fdca26"
             ],
             [
              1,
              "#f0f921"
             ]
            ],
            "type": "histogram2dcontour"
           }
          ],
          "mesh3d": [
           {
            "colorbar": {
             "outlinewidth": 0,
             "ticks": ""
            },
            "type": "mesh3d"
           }
          ],
          "parcoords": [
           {
            "line": {
             "colorbar": {
              "outlinewidth": 0,
              "ticks": ""
             }
            },
            "type": "parcoords"
           }
          ],
          "pie": [
           {
            "automargin": true,
            "type": "pie"
           }
          ],
          "scatter": [
           {
            "fillpattern": {
             "fillmode": "overlay",
             "size": 10,
             "solidity": 0.2
            },
            "type": "scatter"
           }
          ],
          "scatter3d": [
           {
            "line": {
             "colorbar": {
              "outlinewidth": 0,
              "ticks": ""
             }
            },
            "marker": {
             "colorbar": {
              "outlinewidth": 0,
              "ticks": ""
             }
            },
            "type": "scatter3d"
           }
          ],
          "scattercarpet": [
           {
            "marker": {
             "colorbar": {
              "outlinewidth": 0,
              "ticks": ""
             }
            },
            "type": "scattercarpet"
           }
          ],
          "scattergeo": [
           {
            "marker": {
             "colorbar": {
              "outlinewidth": 0,
              "ticks": ""
             }
            },
            "type": "scattergeo"
           }
          ],
          "scattergl": [
           {
            "marker": {
             "colorbar": {
              "outlinewidth": 0,
              "ticks": ""
             }
            },
            "type": "scattergl"
           }
          ],
          "scattermap": [
           {
            "marker": {
             "colorbar": {
              "outlinewidth": 0,
              "ticks": ""
             }
            },
            "type": "scattermap"
           }
          ],
          "scattermapbox": [
           {
            "marker": {
             "colorbar": {
              "outlinewidth": 0,
              "ticks": ""
             }
            },
            "type": "scattermapbox"
           }
          ],
          "scatterpolar": [
           {
            "marker": {
             "colorbar": {
              "outlinewidth": 0,
              "ticks": ""
             }
            },
            "type": "scatterpolar"
           }
          ],
          "scatterpolargl": [
           {
            "marker": {
             "colorbar": {
              "outlinewidth": 0,
              "ticks": ""
             }
            },
            "type": "scatterpolargl"
           }
          ],
          "scatterternary": [
           {
            "marker": {
             "colorbar": {
              "outlinewidth": 0,
              "ticks": ""
             }
            },
            "type": "scatterternary"
           }
          ],
          "surface": [
           {
            "colorbar": {
             "outlinewidth": 0,
             "ticks": ""
            },
            "colorscale": [
             [
              0,
              "#0d0887"
             ],
             [
              0.1111111111111111,
              "#46039f"
             ],
             [
              0.2222222222222222,
              "#7201a8"
             ],
             [
              0.3333333333333333,
              "#9c179e"
             ],
             [
              0.4444444444444444,
              "#bd3786"
             ],
             [
              0.5555555555555556,
              "#d8576b"
             ],
             [
              0.6666666666666666,
              "#ed7953"
             ],
             [
              0.7777777777777778,
              "#fb9f3a"
             ],
             [
              0.8888888888888888,
              "#fdca26"
             ],
             [
              1,
              "#f0f921"
             ]
            ],
            "type": "surface"
           }
          ],
          "table": [
           {
            "cells": {
             "fill": {
              "color": "#EBF0F8"
             },
             "line": {
              "color": "white"
             }
            },
            "header": {
             "fill": {
              "color": "#C8D4E3"
             },
             "line": {
              "color": "white"
             }
            },
            "type": "table"
           }
          ]
         },
         "layout": {
          "annotationdefaults": {
           "arrowcolor": "#2a3f5f",
           "arrowhead": 0,
           "arrowwidth": 1
          },
          "autotypenumbers": "strict",
          "coloraxis": {
           "colorbar": {
            "outlinewidth": 0,
            "ticks": ""
           }
          },
          "colorscale": {
           "diverging": [
            [
             0,
             "#8e0152"
            ],
            [
             0.1,
             "#c51b7d"
            ],
            [
             0.2,
             "#de77ae"
            ],
            [
             0.3,
             "#f1b6da"
            ],
            [
             0.4,
             "#fde0ef"
            ],
            [
             0.5,
             "#f7f7f7"
            ],
            [
             0.6,
             "#e6f5d0"
            ],
            [
             0.7,
             "#b8e186"
            ],
            [
             0.8,
             "#7fbc41"
            ],
            [
             0.9,
             "#4d9221"
            ],
            [
             1,
             "#276419"
            ]
           ],
           "sequential": [
            [
             0,
             "#0d0887"
            ],
            [
             0.1111111111111111,
             "#46039f"
            ],
            [
             0.2222222222222222,
             "#7201a8"
            ],
            [
             0.3333333333333333,
             "#9c179e"
            ],
            [
             0.4444444444444444,
             "#bd3786"
            ],
            [
             0.5555555555555556,
             "#d8576b"
            ],
            [
             0.6666666666666666,
             "#ed7953"
            ],
            [
             0.7777777777777778,
             "#fb9f3a"
            ],
            [
             0.8888888888888888,
             "#fdca26"
            ],
            [
             1,
             "#f0f921"
            ]
           ],
           "sequentialminus": [
            [
             0,
             "#0d0887"
            ],
            [
             0.1111111111111111,
             "#46039f"
            ],
            [
             0.2222222222222222,
             "#7201a8"
            ],
            [
             0.3333333333333333,
             "#9c179e"
            ],
            [
             0.4444444444444444,
             "#bd3786"
            ],
            [
             0.5555555555555556,
             "#d8576b"
            ],
            [
             0.6666666666666666,
             "#ed7953"
            ],
            [
             0.7777777777777778,
             "#fb9f3a"
            ],
            [
             0.8888888888888888,
             "#fdca26"
            ],
            [
             1,
             "#f0f921"
            ]
           ]
          },
          "colorway": [
           "#636efa",
           "#EF553B",
           "#00cc96",
           "#ab63fa",
           "#FFA15A",
           "#19d3f3",
           "#FF6692",
           "#B6E880",
           "#FF97FF",
           "#FECB52"
          ],
          "font": {
           "color": "#2a3f5f"
          },
          "geo": {
           "bgcolor": "white",
           "lakecolor": "white",
           "landcolor": "#E5ECF6",
           "showlakes": true,
           "showland": true,
           "subunitcolor": "white"
          },
          "hoverlabel": {
           "align": "left"
          },
          "hovermode": "closest",
          "mapbox": {
           "style": "light"
          },
          "paper_bgcolor": "white",
          "plot_bgcolor": "#E5ECF6",
          "polar": {
           "angularaxis": {
            "gridcolor": "white",
            "linecolor": "white",
            "ticks": ""
           },
           "bgcolor": "#E5ECF6",
           "radialaxis": {
            "gridcolor": "white",
            "linecolor": "white",
            "ticks": ""
           }
          },
          "scene": {
           "xaxis": {
            "backgroundcolor": "#E5ECF6",
            "gridcolor": "white",
            "gridwidth": 2,
            "linecolor": "white",
            "showbackground": true,
            "ticks": "",
            "zerolinecolor": "white"
           },
           "yaxis": {
            "backgroundcolor": "#E5ECF6",
            "gridcolor": "white",
            "gridwidth": 2,
            "linecolor": "white",
            "showbackground": true,
            "ticks": "",
            "zerolinecolor": "white"
           },
           "zaxis": {
            "backgroundcolor": "#E5ECF6",
            "gridcolor": "white",
            "gridwidth": 2,
            "linecolor": "white",
            "showbackground": true,
            "ticks": "",
            "zerolinecolor": "white"
           }
          },
          "shapedefaults": {
           "line": {
            "color": "#2a3f5f"
           }
          },
          "ternary": {
           "aaxis": {
            "gridcolor": "white",
            "linecolor": "white",
            "ticks": ""
           },
           "baxis": {
            "gridcolor": "white",
            "linecolor": "white",
            "ticks": ""
           },
           "bgcolor": "#E5ECF6",
           "caxis": {
            "gridcolor": "white",
            "linecolor": "white",
            "ticks": ""
           }
          },
          "title": {
           "x": 0.05
          },
          "xaxis": {
           "automargin": true,
           "gridcolor": "white",
           "linecolor": "white",
           "ticks": "",
           "title": {
            "standoff": 15
           },
           "zerolinecolor": "white",
           "zerolinewidth": 2
          },
          "yaxis": {
           "automargin": true,
           "gridcolor": "white",
           "linecolor": "white",
           "ticks": "",
           "title": {
            "standoff": 15
           },
           "zerolinecolor": "white",
           "zerolinewidth": 2
          }
         }
        },
        "title": {
         "text": "Haken 17, Trajektorien-Ansatz 4"
        }
       }
      }
     },
     "metadata": {},
     "output_type": "display_data"
    }
   ],
   "source": [
    "visualize_rectangles_html(\n",
    "    rectangles = rectangles_1,\n",
    "    secondary_rectangles = rectangles_optim,\n",
    "    secondary_legend_title = 'optimale Trajektorie',\n",
    "    connect_points = (trajectory_1[1][0], trajectory_1[-1][0]),\n",
    "    hook_num = hook_num,\n",
    "    trajectory_process = 1,\n",
    "    html_filename = '/home/mo/Thesis/Evaluation/Trajektorientests/traj1.html'\n",
    "    )\n",
    "\n",
    "visualize_rectangles_html(\n",
    "    rectangles = rectangles_2,\n",
    "    secondary_rectangles = rectangles_optim,\n",
    "    secondary_legend_title = 'optimale Trajektorie',\n",
    "    connect_points = (trajectory_1[1][0], trajectory_1[-1][0]),\n",
    "    hook_num = hook_num,\n",
    "    trajectory_process = 2,\n",
    "    html_filename = '/home/mo/Thesis/Evaluation/Trajektorientests/traj2.html'\n",
    "    )\n",
    "\n",
    "visualize_rectangles_html(\n",
    "    rectangles = rectangles_3,\n",
    "    secondary_rectangles = rectangles_optim,\n",
    "    secondary_legend_title = 'optimale Trajektorie',\n",
    "    connect_points = (trajectory_1[1][0], trajectory_1[-1][0]),\n",
    "    hook_num = hook_num,\n",
    "    trajectory_process = 3,\n",
    "    html_filename = '/home/mo/Thesis/Evaluation/Trajektorientests/traj3.html'\n",
    "    )\n",
    "\n",
    "visualize_rectangles_html(\n",
    "    rectangles = rectangles_4,\n",
    "    secondary_rectangles = rectangles_optim,\n",
    "    secondary_legend_title = 'optimale Trajektorie',\n",
    "    connect_points = (trajectory_1[1][0], trajectory_1[-1][0]),\n",
    "    hook_num = hook_num,\n",
    "    trajectory_process = 4,\n",
    "    html_filename = '/home/mo/Thesis/Evaluation/Trajektorientests/traj4.html'\n",
    "    )"
   ]
  },
  {
   "cell_type": "code",
   "execution_count": null,
   "id": "5bd2d90f",
   "metadata": {},
   "outputs": [],
   "source": []
  }
 ],
 "metadata": {
  "kernelspec": {
   "display_name": "Python 3",
   "language": "python",
   "name": "python3"
  },
  "language_info": {
   "codemirror_mode": {
    "name": "ipython",
    "version": 3
   },
   "file_extension": ".py",
   "mimetype": "text/x-python",
   "name": "python",
   "nbconvert_exporter": "python",
   "pygments_lexer": "ipython3",
   "version": "3.8.10"
  }
 },
 "nbformat": 4,
 "nbformat_minor": 5
}
