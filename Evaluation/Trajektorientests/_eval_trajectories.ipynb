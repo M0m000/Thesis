{
 "cells": [
  {
   "cell_type": "code",
   "execution_count": 592,
   "id": "c56fbbd2",
   "metadata": {},
   "outputs": [],
   "source": [
    "import csv\n",
    "import numpy as np\n",
    "from scipy.spatial.transform import Rotation as R\n",
    "import matplotlib.pyplot as plt\n",
    "from mpl_toolkits.mplot3d.art3d import Poly3DCollection\n",
    "import matplotlib.cm as cm\n",
    "import plotly.graph_objects as go"
   ]
  },
  {
   "cell_type": "markdown",
   "id": "d43cbb9f",
   "metadata": {},
   "source": [
    "### **Trajektorien CSVs laden**"
   ]
  },
  {
   "cell_type": "code",
   "execution_count": 593,
   "id": "ce8ad287",
   "metadata": {},
   "outputs": [],
   "source": [
    "def load_csv_to_trajectory(filepath):\n",
    "    \"\"\"Lädt die CSV und stellt Trajektorie-Liste wieder her\"\"\"\n",
    "    trajectory = []\n",
    "    with open(filepath, mode='r', newline='') as file:\n",
    "        reader = csv.reader(file)\n",
    "        next(reader)  # Überspringe Kopfzeile\n",
    "\n",
    "        for row in reader:\n",
    "            numbers = list(map(float, row))\n",
    "            trans = numbers[:3]\n",
    "            rot = numbers[3:]\n",
    "            trajectory.append((trans, rot))\n",
    "    return trajectory"
   ]
  },
  {
   "cell_type": "code",
   "execution_count": 594,
   "id": "fa040c5d",
   "metadata": {},
   "outputs": [],
   "source": [
    "hook_num = 3\n",
    "v = 10\n",
    "hook_model = 'D'\n",
    "frame = '_work'"
   ]
  },
  {
   "cell_type": "code",
   "execution_count": 595,
   "id": "6ae1d02a",
   "metadata": {},
   "outputs": [],
   "source": [
    "traj_optim_path = '/home/mo/Thesis/Evaluation/Trajektorientests/Modell' + hook_model + '/v_' + str(v) + '/' + str(hook_num) + '/trajectory_0' + str(frame) + '.csv'\n",
    "traj_1_path = '/home/mo/Thesis/Evaluation/Trajektorientests/Modell' + hook_model + '/v_' + str(v) + '/' + str(hook_num) + '/trajectory_1' + str(frame) + '.csv'\n",
    "traj_2_path = '/home/mo/Thesis/Evaluation/Trajektorientests/Modell' + hook_model + '/v_' + str(v) + '/' + str(hook_num) + '/trajectory_2' + str(frame) + '.csv'\n",
    "traj_3_path = '/home/mo/Thesis/Evaluation/Trajektorientests/Modell' + hook_model + '/v_' + str(v) + '/' + str(hook_num) + '/trajectory_3' + str(frame) + '.csv'\n",
    "traj_4_path = '/home/mo/Thesis/Evaluation/Trajektorientests/Modell' + hook_model + '/v_' + str(v) + '/' + str(hook_num) + '/trajectory_4' + str(frame) + '.csv'"
   ]
  },
  {
   "cell_type": "code",
   "execution_count": 596,
   "id": "aad60faa",
   "metadata": {},
   "outputs": [],
   "source": [
    "trajectory_optim = load_csv_to_trajectory(traj_optim_path)\n",
    "trajectory_1 = load_csv_to_trajectory(traj_1_path)\n",
    "trajectory_2 = load_csv_to_trajectory(traj_2_path)\n",
    "trajectory_3 = load_csv_to_trajectory(traj_3_path)\n",
    "trajectory_4 = load_csv_to_trajectory(traj_4_path)"
   ]
  },
  {
   "cell_type": "markdown",
   "id": "d66a9f4b",
   "metadata": {},
   "source": [
    "### **Euklidsche Distanz**"
   ]
  },
  {
   "cell_type": "code",
   "execution_count": 597,
   "id": "549aa99e",
   "metadata": {},
   "outputs": [],
   "source": [
    "def interpolate_trajectory(traj, num_points):\n",
    "    \"\"\"\n",
    "    Interpoliert eine Trajektorie auf `num_points` gleichmäßig verteilte Punkte.\n",
    "    Nur die translatorischen Komponenten werden verwendet (3D Punkte).\n",
    "    \"\"\"\n",
    "    positions = np.array([p[0] for p in traj])  # Nur Positionen\n",
    "    rotations = np.array([p[1] for p in traj])  # Nur Rotationen\n",
    "    \n",
    "    # Abstände zwischen aufeinanderfolgenden Punkten\n",
    "    deltas_trans = np.linalg.norm(np.diff(positions, axis=0), axis=1)\n",
    "    deltas_rot = np.linalg.norm(np.diff(rotations, axis=0), axis=1)\n",
    "    cumulative_dist_trans = np.concatenate([[0], np.cumsum(deltas_trans)])\n",
    "    cumulative_dist_rot = np.concatenate([[0], np.cumsum(deltas_rot)])\n",
    "    \n",
    "    # Gleichmäßig verteilte Distanzen entlang der Trajektorie\n",
    "    target_distances_trans = np.linspace(0, cumulative_dist_trans[-1], num_points)\n",
    "    target_distances_rot = np.linspace(0, cumulative_dist_rot[-1], num_points)\n",
    "\n",
    "    # Interpolation\n",
    "    interp_positions = []\n",
    "    interp_rotations = []\n",
    "\n",
    "    for dist in target_distances_trans:\n",
    "        idx = np.searchsorted(cumulative_dist_trans, dist) - 1\n",
    "        idx = np.clip(idx, 0, len(positions) - 2)\n",
    "        # Lokale lineare Interpolation\n",
    "        t = (dist - cumulative_dist_trans[idx]) / (cumulative_dist_trans[idx + 1] - cumulative_dist_trans[idx])\n",
    "        point = (1 - t) * positions[idx] + t * positions[idx + 1]\n",
    "        interp_positions.append(point)\n",
    "    \n",
    "    for rot in target_distances_rot:\n",
    "        idx = np.searchsorted(cumulative_dist_rot, rot) - 1\n",
    "        idx = np.clip(idx, 0, len(rotations) - 2)\n",
    "        # Lokale lineare Interpolation\n",
    "        t = (rot - cumulative_dist_rot[idx]) / (cumulative_dist_rot[idx + 1] - cumulative_dist_rot[idx])\n",
    "        point = (1 - t) * rotations[idx] + t * rotations[idx + 1]\n",
    "        interp_rotations.append(point)\n",
    "    \n",
    "    return np.array(interp_positions), np.array(interp_rotations)\n",
    "\n",
    "\n",
    "def trajectory_distance(traj1, traj2, num_points=10):\n",
    "    \"\"\"\n",
    "    Vergleicht zwei Trajektorien anhand von `num_points` gleichverteilten Punkten.\n",
    "    Gibt die euklidischen Abstände zurück (Liste) und den Mittelwert.\n",
    "    \"\"\"\n",
    "    interp1_trans, interp1_rot = interpolate_trajectory(traj1, num_points)\n",
    "    interp2_trans, interp2_rot = interpolate_trajectory(traj2, num_points)\n",
    "\n",
    "    # Punktweise euklidischer Abstand\n",
    "    distances = np.linalg.norm(interp1_trans - interp2_trans, axis=1)\n",
    "    rotations = np.linalg.norm(interp1_rot - interp2_rot, axis=1)\n",
    "    mean_distance = np.mean(distances)\n",
    "    mean_rotation = np.mean(rotations)\n",
    "    max_distance = np.max(distances)\n",
    "    max_rotation = np.max(rotations)\n",
    "    return distances, mean_distance, max_distance, rotations, mean_rotation, max_rotation"
   ]
  },
  {
   "cell_type": "code",
   "execution_count": 598,
   "id": "2fc24563",
   "metadata": {},
   "outputs": [],
   "source": [
    "def plot_trajectory_distances(\n",
    "    distances=None, \n",
    "    mean_distance=None, \n",
    "    max_distance=None, \n",
    "    rotations=None, \n",
    "    mean_rotation=None, \n",
    "    max_rotation=None, \n",
    "    hook_num=0, \n",
    "    trajectory_process=4\n",
    "):\n",
    "    \"\"\"\n",
    "    Plottet die euklidischen Distanzen und Rotationen entlang der interpolierten Punkte.\n",
    "    \"\"\"\n",
    "\n",
    "    %matplotlib inline\n",
    "    \n",
    "    fig, (ax1, ax2) = plt.subplots(2, 1, figsize=(10, 8), sharex=True)\n",
    "    fig.suptitle(f\"Vergleich zwischen optimaler und berechneter Trajektorie - Haken {hook_num}, Trajektorie-Ansatz {trajectory_process} – Distanz\", fontsize=14)\n",
    "\n",
    "    # Plot 1: Euklidische Distanzen\n",
    "    ax1.set_title(f\"Euklidsche Distanz translatorisch\")\n",
    "    ax1.plot(range(1, len(distances) + 1), distances, linestyle='-', marker = '.', label='Euklidische Distanz [mm]')\n",
    "\n",
    "    if mean_distance is not None:\n",
    "        ax1.plot(range(1, len(distances) + 1), [mean_distance] * len(distances), linestyle='--', color='red', label='Mittelwert')\n",
    "    \n",
    "    if max_distance is not None:\n",
    "        ax1.plot(range(1, len(distances) + 1), [max_distance] * len(distances), linestyle='--', color='magenta', label=f\"Max-Wert - {max_distance:.3f}mm\")\n",
    "\n",
    "    ax1.set_ylabel(\"Distanz [mm]\")\n",
    "    ax1.grid(True)\n",
    "    ax1.legend()\n",
    "\n",
    "    \n",
    "    # Plot 2: Rotationen\n",
    "    ax2.set_title(\"Euklidsche Distanz rotatorisch\")\n",
    "    if rotations is not None:\n",
    "        ax2.plot(range(1, len(rotations) + 1), rotations, linestyle='-', marker = '.', label='Rotationsabweichung [°]', color='orange')\n",
    "\n",
    "        if mean_rotation is not None:\n",
    "            ax2.plot(range(1, len(rotations) + 1), [mean_rotation] * len(rotations), linestyle='--', color='red', label='Mittelwert')\n",
    "        \n",
    "        if max_rotation is not None:\n",
    "            ax2.plot(range(1, len(rotations) + 1), [max_rotation] * len(rotations), linestyle='--', color='magenta', label=f\"Max-Wert - {max_rotation:.3f}°\")\n",
    "\n",
    "        ax2.set_ylabel(\"Rotation [°]\")\n",
    "        ax2.grid(True)\n",
    "        ax2.legend()\n",
    "    else:\n",
    "        ax2.text(0.5, 0.5, \"Keine Rotationsdaten verfügbar\", ha='center', va='center', transform=ax2.transAxes)\n",
    "        ax2.axis('off')\n",
    "    \n",
    "    ax2.set_xlabel(\"Punktindex (entlang der Trajektorie)\")\n",
    "    plt.tight_layout(rect=[0, 0, 1, 0.95])  # Platz für Suptitle\n",
    "    plt.show()"
   ]
  },
  {
   "cell_type": "code",
   "execution_count": 599,
   "id": "0f0e378a",
   "metadata": {},
   "outputs": [],
   "source": [
    "distances, mean_distance, max_distance, rotations, mean_rotation, max_rotation = trajectory_distance(trajectory_1, trajectory_optim, 100)\n",
    "# plot_trajectory_distances(distances, mean_distance, max_distance, rotations, mean_rotation, max_rotation, hook_num = hook_num, trajectory_process = 4)"
   ]
  },
  {
   "cell_type": "markdown",
   "id": "efe3dd89",
   "metadata": {},
   "source": [
    "### **Absolute Distanzen**"
   ]
  },
  {
   "cell_type": "code",
   "execution_count": 600,
   "id": "74d6bbd8",
   "metadata": {},
   "outputs": [],
   "source": [
    "def trajectory_difference(traj1, traj2, num_points=10):\n",
    "    \"\"\"\n",
    "    Vergleicht zwei Trajektorien anhand von `num_points` gleichverteilten Punkten.\n",
    "    Gibt die vorzeichenbehafteten Differenzen für Translation und Rotation zurück.\n",
    "    Rückgabe:\n",
    "        diffs_trans: (num_points, 3) - x, y, z\n",
    "        diffs_rot:   (num_points, 3) - roll, pitch, yaw\n",
    "    \"\"\"\n",
    "    interp1_trans, interp1_rot = interpolate_trajectory(traj1, num_points)\n",
    "    interp2_trans, interp2_rot = interpolate_trajectory(traj2, num_points)\n",
    "\n",
    "    # Vorzeichenbehaftete Differenzen\n",
    "    diffs_trans = interp1_trans - interp2_trans\n",
    "    diffs_rot = interp1_rot - interp2_rot\n",
    "\n",
    "    return diffs_trans, diffs_rot"
   ]
  },
  {
   "cell_type": "code",
   "execution_count": 601,
   "id": "0dd37334",
   "metadata": {},
   "outputs": [],
   "source": [
    "def plot_signed_trajectory_differences(\n",
    "    diffs_trans, \n",
    "    diffs_rot, \n",
    "    hook_num=0, \n",
    "    trajectory_process=4\n",
    "):\n",
    "    \"\"\"\n",
    "    Plottet die vorzeichenbehafteten Differenzen (x, y, z, roll, pitch, yaw) \n",
    "    entlang der interpolierten Punkte.\n",
    "    \"\"\"\n",
    "\n",
    "    %matplotlib inline\n",
    "    \n",
    "    num_points = diffs_trans.shape[0]\n",
    "    indices = range(1, num_points + 1)\n",
    "\n",
    "    fig, (ax1, ax2) = plt.subplots(2, 1, figsize=(10, 8), sharex=True)\n",
    "    fig.suptitle(f\"Vorzeichenbehaftete Differenzen – Haken {hook_num}, Trajektorie-Ansatz {trajectory_process}\", fontsize=14)\n",
    "\n",
    "    # --- Plot 1: Translation (x, y, z) ---\n",
    "    ax1.set_title(\"Translation: Abweichung in x, y, z [mm]\")\n",
    "    ax1.plot(indices, diffs_trans[:, 0], label=\"x [mm]\", marker='.', linestyle='-', color='blue')\n",
    "    ax1.plot(indices, diffs_trans[:, 1], label=\"y [mm]\", marker='.',linestyle='-', color='green')\n",
    "    ax1.plot(indices, diffs_trans[:, 2], label=\"z [mm]\", marker='.',linestyle='-', color='purple')\n",
    "    ax1.axhline(0, color='gray', linestyle='--', linewidth=0.8)\n",
    "\n",
    "    ax1.set_ylabel(\"Abweichung [mm]\")\n",
    "    ax1.grid(True)\n",
    "    ax1.legend()\n",
    "\n",
    "    # --- Plot 2: Rotation (roll, pitch, yaw) ---\n",
    "    ax2.set_title(\"Rotation: Abweichung in Roll, Pitch, Yaw [°]\")\n",
    "    ax2.plot(indices, diffs_rot[:, 0], label=\"roll [°]\", marker='.',linestyle='-', color='orange')\n",
    "    ax2.plot(indices, diffs_rot[:, 1], label=\"pitch [°]\", marker='.',linestyle='-', color='red')\n",
    "    ax2.plot(indices, diffs_rot[:, 2], label=\"yaw [°]\", marker='.',linestyle='-', color='brown')\n",
    "    ax2.axhline(0, color='gray', linestyle='--', linewidth=0.8)\n",
    "\n",
    "    ax2.set_xlabel(\"Punktindex (entlang der Trajektorie)\")\n",
    "    ax2.set_ylabel(\"Abweichung [°]\")\n",
    "    ax2.grid(True)\n",
    "    ax2.legend()\n",
    "\n",
    "    plt.tight_layout(rect=[0, 0, 1, 0.95])\n",
    "    plt.show()"
   ]
  },
  {
   "cell_type": "code",
   "execution_count": 602,
   "id": "0fccff97",
   "metadata": {},
   "outputs": [],
   "source": [
    "diffs_trans, diffs_rot = trajectory_difference(trajectory_1, trajectory_optim, 100)\n",
    "# plot_signed_trajectory_differences(diffs_trans, diffs_rot, hook_num=2, trajectory_process=1)"
   ]
  },
  {
   "cell_type": "markdown",
   "id": "170527fd",
   "metadata": {},
   "source": [
    "### **3D-Darstellung**"
   ]
  },
  {
   "cell_type": "code",
   "execution_count": 603,
   "id": "edfb46e9",
   "metadata": {},
   "outputs": [],
   "source": [
    "def fix_rpy(rpy):\n",
    "    roll, pitch, yaw = rpy\n",
    "    return [roll, -pitch, yaw]  # oder vielleicht yaw auch invertieren – je nach System\n",
    "\n",
    "\n",
    "def compute_rectangle_corners(trajectory, frame='', width=8, height=12):\n",
    "    \"\"\"\n",
    "    Berechnet die Rechteck-Eckpunkte (4 Stück) für jeden Trajektorienpunkt.\n",
    "\n",
    "    :param trajectory: Liste von ([x, y, z], [roll, pitch, yaw]) Einträgen\n",
    "    :param width: Breite des Rechtecks (in X-Richtung)\n",
    "    :param height: Höhe des Rechtecks (in Y-Richtung)\n",
    "    :return: Liste von Rechtecken, jedes als Liste von 4 Eckpunkten (jeweils [x, y, z])\n",
    "    \"\"\"\n",
    "    rectangles = []\n",
    "\n",
    "    # Rechteck im lokalen TCP-Koordinatensystem (XY-Ebene, Zentrum im Ursprung)\n",
    "    half_w = width / 2\n",
    "    half_h = height / 2\n",
    "\n",
    "    if frame == '_work':\n",
    "        local_corners = np.array([\n",
    "            [-half_w, half_h, 0],\n",
    "            [ half_w, half_h, 0],\n",
    "            [ half_w, -half_h, 0],\n",
    "            [-half_w, -half_h, 0]\n",
    "        ])\n",
    "    else:\n",
    "        local_corners = np.array([\n",
    "        [-half_w, 0, -half_h],\n",
    "        [ half_w, 0, -half_h],\n",
    "        [ half_w, 0, half_h],\n",
    "        [-half_w, 0, half_h]\n",
    "        ])\n",
    "\n",
    "    for trans, rpy in trajectory:\n",
    "        # RPY in Radiant, falls nicht schon so\n",
    "        if frame == '_work':\n",
    "            rot = R.from_euler('xyz', fix_rpy(rpy), degrees=True)\n",
    "        else:\n",
    "            rot = R.from_euler('xyz', rpy, degrees=True)\n",
    "        rotated_corners = rot.apply(local_corners)\n",
    "        translated_corners = rotated_corners + np.array(trans)\n",
    "        rectangles.append(translated_corners.tolist())\n",
    "    return rectangles"
   ]
  },
  {
   "cell_type": "code",
   "execution_count": 604,
   "id": "05d04c48",
   "metadata": {},
   "outputs": [],
   "source": [
    "rectangles_optim = compute_rectangle_corners(trajectory_optim, frame = frame)\n",
    "rectangles_1 = compute_rectangle_corners(trajectory_1, frame = frame)\n",
    "rectangles_2 = compute_rectangle_corners(trajectory_2, frame = frame)\n",
    "rectangles_3 = compute_rectangle_corners(trajectory_3, frame = frame)\n",
    "rectangles_4 = compute_rectangle_corners(trajectory_4, frame = frame)"
   ]
  },
  {
   "cell_type": "code",
   "execution_count": 605,
   "id": "f78ad7a3",
   "metadata": {},
   "outputs": [],
   "source": [
    "def visualize_rectangles(rectangles, figsize=(8, 8), connect_points=None, \n",
    "                         secondary_rectangles=None, secondary_legend_title=None,\n",
    "                         hook_num = 0, trajectory_process = 1):\n",
    "    \"\"\"\n",
    "    Visualisiert Rechtecke + Trajektorie im 3D-Raum mit Legende und Bezeichnungen der Trajektorienpunkte.\n",
    "    \n",
    "    Zusätzlich kann ein zweiter Satz Rechtecke (grau & transparent) dargestellt werden – inkl. Mittelpunktslinie.\n",
    "\n",
    "    :param rectangles: Liste von Rechtecken (jeweils 4 Punkte [x, y, z])\n",
    "    :param figsize: Größe der Plotfläche (Breite, Höhe)\n",
    "    :param connect_points: Optionales Tupel mit zwei Punkten [x, y, z], die verbunden werden sollen\n",
    "    :param secondary_rectangles: Optionaler zweiter Satz Rechtecke (werden grau dargestellt)\n",
    "    :param secondary_legend_title: Optionaler Legenden-Eintrag für die grauen Rechtecke\n",
    "    \"\"\"\n",
    "    %matplotlib qt\n",
    "\n",
    "    fig = plt.figure(figsize=figsize)\n",
    "    ax = fig.add_subplot(111, projection='3d')\n",
    "    fig.suptitle(f\"Einfädelung Trajektorie Spitze -> Senke (TCP in WORLD-Frame)\", fontsize=14, y=0.98)\n",
    "\n",
    "    centers = []\n",
    "    cmap = cm.get_cmap('tab20')\n",
    "    legend_handles = []\n",
    "\n",
    "    # Berechnete Trajektorie (farbig)\n",
    "    for i, rect in enumerate(rectangles):\n",
    "        color = cmap(i / len(rectangles))\n",
    "        poly = Poly3DCollection([rect], facecolors=color, alpha=0.2, edgecolors=color)\n",
    "        ax.add_collection3d(poly)\n",
    "\n",
    "        if i == 0:\n",
    "            label = 'Pre-Position'\n",
    "        elif i == 1:\n",
    "            label = 'Spitze'\n",
    "        elif i == len(rectangles) - 1:\n",
    "            label = 'Loslassen'\n",
    "        else:\n",
    "            label = str(i + 1)\n",
    "\n",
    "        legend_handles.append(plt.Line2D([0], [0], marker='o', color='w', label=label,\n",
    "                                         markersize=10, markerfacecolor=color))\n",
    "\n",
    "        center = np.mean(np.array(rect), axis=0)\n",
    "        centers.append(center)\n",
    "        ax.scatter(*center, color='red', s=30)\n",
    "        ax.text(center[0]-5, center[1]-5, center[2], f\"P{i}\", color=color, alpha = 0.8, fontsize=12)\n",
    "\n",
    "    # Linie durch die berechneten Mittelpunkte\n",
    "    centers = np.array(centers)\n",
    "    ax.plot(centers[:, 0], centers[:, 1], centers[:, 2], color='black', linewidth=2)\n",
    "\n",
    "    # Beschriftung Hauptlinie\n",
    "    if len(centers) > 0:\n",
    "        ax.text(*centers[0], 'Pre-Position', color='black', fontsize=10)\n",
    "    if len(centers) > 2:\n",
    "        ax.text(*centers[-1], 'Loslassen', color='black', fontsize=10)\n",
    "\n",
    "    # Optimal-Trajektorie (grün)\n",
    "    if secondary_rectangles is not None:\n",
    "        secondary_centers = []\n",
    "        for rect in secondary_rectangles:\n",
    "            poly = Poly3DCollection([rect], facecolors='green', alpha=0.1, edgecolors='green')\n",
    "            ax.add_collection3d(poly)\n",
    "\n",
    "            center = np.mean(np.array(rect), axis=0)\n",
    "            secondary_centers.append(center)\n",
    "            ax.scatter(*center, color='green', s=20)\n",
    "\n",
    "        # Linie durch grüne Mittelpunkte\n",
    "        secondary_centers = np.array(secondary_centers)\n",
    "        ax.plot(secondary_centers[:, 0], secondary_centers[:, 1], secondary_centers[:, 2],\n",
    "                color='green', linewidth=1, linestyle='-')\n",
    "\n",
    "        # Legendenhandle für Optimal-Trajektorie\n",
    "        if secondary_legend_title:\n",
    "            legend_handles.append(plt.Line2D([0], [0], marker='o', color='w', label=secondary_legend_title,\n",
    "                                             markersize=10, markerfacecolor='green'))\n",
    "\n",
    "    # Einzeichnen von Spitze und Senke inkl. graue Verbindungslinie\n",
    "    if connect_points is not None and len(connect_points) == 2:\n",
    "        p1, p2 = np.array(connect_points[0]), np.array(connect_points[1])\n",
    "        ax.plot([p1[0], p2[0]], [p1[1], p2[1]], [p1[2], p2[2]],\n",
    "                color='gray', linestyle='dashed', linewidth=2)\n",
    "        ax.scatter(*p1, 'o', color='magenta', linewidth=6)\n",
    "        ax.scatter(*p2, 'o', color='magenta', linewidth=6)\n",
    "        ax.text(*p1, 'Spitze', color='magenta', fontsize=12, ha='center')\n",
    "        ax.text(*p2, 'Senke', color='magenta', fontsize=12, ha='center')\n",
    "\n",
    "    # Achseneinstellungen\n",
    "    ax.set_xlabel('X')\n",
    "    ax.set_ylabel('Y')\n",
    "    ax.set_zlabel('Z')\n",
    "    ax.set_title(f\"Haken {hook_num}, Trajektorien-Ansatz {trajectory_process}\", fontsize = 10)\n",
    "\n",
    "    all_points = rectangles + (secondary_rectangles if secondary_rectangles else [])\n",
    "    all_points = np.vstack(all_points)\n",
    "    mid = np.mean(all_points, axis=0)\n",
    "    max_range = np.ptp(all_points, axis=0).max() / 2\n",
    "    for i, axis in enumerate([ax.set_xlim, ax.set_ylim, ax.set_zlim]):\n",
    "        axis(mid[i] - max_range, mid[i] + max_range)\n",
    "\n",
    "    ax.set_box_aspect([1, 1, 1])\n",
    "    ax.legend(handles=legend_handles, title=\"Trajektorien-Punkte\", loc='upper left')\n",
    "    plt.tight_layout(pad=0.5, w_pad=0.5, h_pad=0.5)\n",
    "    plt.show()"
   ]
  },
  {
   "cell_type": "code",
   "execution_count": 606,
   "id": "5a944d76",
   "metadata": {},
   "outputs": [
    {
     "data": {
      "text/plain": [
       "\"\\nvisualize_rectangles(rectangles = rectangles_1,\\n                     secondary_rectangles = rectangles_optim,\\n                     secondary_legend_title = 'optimale Trajektorie',\\n                     connect_points = (trajectory_1[1][0], trajectory_1[-1][0]),\\n                     hook_num = hook_num,\\n                     trajectory_process = 1)\\n\\nvisualize_rectangles(rectangles = rectangles_2,\\n                     secondary_rectangles = rectangles_optim,\\n                     secondary_legend_title = 'optimale Trajektorie',\\n                     connect_points = (trajectory_1[1][0], trajectory_1[-1][0]),\\n                     hook_num = hook_num,\\n                     trajectory_process = 2)\\n\\nvisualize_rectangles(rectangles = rectangles_3,\\n                     secondary_rectangles = rectangles_optim,\\n                     secondary_legend_title = 'optimale Trajektorie',\\n                     connect_points = (trajectory_1[1][0], trajectory_1[-1][0]),\\n                     hook_num = hook_num,\\n                     trajectory_process = 3)\\n\\nvisualize_rectangles(rectangles = rectangles_4,\\n                     secondary_rectangles = rectangles_optim,\\n                     secondary_legend_title = 'optimale Trajektorie',\\n                     connect_points = (trajectory_1[1][0], trajectory_1[-1][0]),\\n                     hook_num = hook_num,\\n                     trajectory_process = 4)\\n\""
      ]
     },
     "execution_count": 606,
     "metadata": {},
     "output_type": "execute_result"
    }
   ],
   "source": [
    "'''\n",
    "visualize_rectangles(rectangles = rectangles_1,\n",
    "                     secondary_rectangles = rectangles_optim,\n",
    "                     secondary_legend_title = 'optimale Trajektorie',\n",
    "                     connect_points = (trajectory_1[1][0], trajectory_1[-1][0]),\n",
    "                     hook_num = hook_num,\n",
    "                     trajectory_process = 1)\n",
    "\n",
    "visualize_rectangles(rectangles = rectangles_2,\n",
    "                     secondary_rectangles = rectangles_optim,\n",
    "                     secondary_legend_title = 'optimale Trajektorie',\n",
    "                     connect_points = (trajectory_1[1][0], trajectory_1[-1][0]),\n",
    "                     hook_num = hook_num,\n",
    "                     trajectory_process = 2)\n",
    "\n",
    "visualize_rectangles(rectangles = rectangles_3,\n",
    "                     secondary_rectangles = rectangles_optim,\n",
    "                     secondary_legend_title = 'optimale Trajektorie',\n",
    "                     connect_points = (trajectory_1[1][0], trajectory_1[-1][0]),\n",
    "                     hook_num = hook_num,\n",
    "                     trajectory_process = 3)\n",
    "\n",
    "visualize_rectangles(rectangles = rectangles_4,\n",
    "                     secondary_rectangles = rectangles_optim,\n",
    "                     secondary_legend_title = 'optimale Trajektorie',\n",
    "                     connect_points = (trajectory_1[1][0], trajectory_1[-1][0]),\n",
    "                     hook_num = hook_num,\n",
    "                     trajectory_process = 4)\n",
    "'''"
   ]
  },
  {
   "cell_type": "code",
   "execution_count": 661,
   "id": "0653e612",
   "metadata": {},
   "outputs": [],
   "source": [
    "def visualize_rectangles_html(rectangles, connect_points=None, \n",
    "                              secondary_rectangles=None, secondary_legend_title=None,\n",
    "                              hook_num=0, trajectory_process=1, html_filename=\"/home/mo/Thesis/Evaluation/Trajektorientests/CSV/plot_interaktiv.html\"):\n",
    "    \"\"\"\n",
    "    Visualisiert Rechtecke und Trajektorien im 3D-Raum als interaktive HTML-Datei.\n",
    "    \n",
    "    :param rectangles: Liste von Rechtecken (jeweils 4 Punkte [x, y, z])\n",
    "    :param figsize: Größe der Plotfläche (Breite, Höhe)\n",
    "    :param connect_points: Optionales Tupel mit zwei Punkten [x, y, z], die verbunden werden sollen\n",
    "    :param secondary_rectangles: Optionaler zweiter Satz Rechtecke (werden grau dargestellt)\n",
    "    :param secondary_legend_title: Optionaler Legenden-Eintrag für die grauen Rechtecke\n",
    "    :param html_filename: Der Name der HTML-Datei, die erstellt wird\n",
    "    \"\"\"\n",
    "    fig = go.Figure()\n",
    "\n",
    "    # Berechnete Trajektorie (farbig)\n",
    "    cmap = plt.cm.get_cmap('tab20')\n",
    "    centers = []\n",
    "\n",
    "    for i, rect in enumerate(rectangles):\n",
    "        # Verwende rgba-String für die Farbe (anstatt des RGBA-Tupels)\n",
    "        color = f\"rgba({int(cmap(i / len(rectangles))[0] * 255)}, \" \\\n",
    "                f\"{int(cmap(i / len(rectangles))[1] * 255)}, \" \\\n",
    "                f\"{int(cmap(i / len(rectangles))[2] * 255)}, 0.8)\"\n",
    "        x, y, z = zip(*rect)\n",
    "        fig.add_trace(go.Mesh3d(x=x, y=y, z=z, color=color, opacity=0.8, \n",
    "                               name=f'P{i+1}'))\n",
    "\n",
    "        center = np.mean(np.array(rect), axis=0)\n",
    "        centers.append(center)\n",
    "        \n",
    "        # Text für \"P0\", \"P1\", etc.\n",
    "        if i == 0:\n",
    "            text_label = ''\n",
    "            # text_label = 'Pre-Position'\n",
    "        elif i == 1:\n",
    "            text_label = ''\n",
    "            # text_label = 'Spitze'\n",
    "        elif i == len(rectangles) - 1:\n",
    "            text_label = ''\n",
    "            # text_label = 'Loslassen'\n",
    "        else:\n",
    "            text_label = f'P{i}'  # Standardtext für den Punkt\n",
    "        \n",
    "        # Füge den Text an den Punkten hinzu (mit entsprechender Position)\n",
    "        fig.add_trace(go.Scatter3d(x=[center[0]], y=[center[1]], z=[center[2]], \n",
    "                                   mode='markers+text', marker=dict(size=3, color='red'),\n",
    "                                   text=text_label, textposition=\"top center\", textfont=dict(size=12), showlegend=False))\n",
    "\n",
    "        # Hinzufügen der Umrandung der Rechtecke mit einer Linie\n",
    "        for j in range(4):\n",
    "            x0, y0, z0 = rect[j]\n",
    "            x1, y1, z1 = rect[(j + 1) % 4]  # Nächster Punkt im Rechteck\n",
    "            fig.add_trace(go.Scatter3d(x=[x0, x1], y=[y0, y1], z=[z0, z1], \n",
    "                                       mode='lines', \n",
    "                                       line=dict(color=color, width=4),  # Keine opacity hier\n",
    "                                       showlegend=False))\n",
    "\n",
    "    # Linie durch die berechneten Mittelpunkte\n",
    "    centers = np.array(centers)\n",
    "    fig.add_trace(go.Scatter3d(x=centers[:, 0], y=centers[:, 1], z=centers[:, 2],\n",
    "                               mode='lines', line=dict(color='black', width=2), name='Berechnete Hakenlinie'))\n",
    "\n",
    "    # Beschriftung der ersten und letzten Punkte\n",
    "    if len(centers) > 0:\n",
    "        fig.add_trace(go.Scatter3d(x=[centers[0, 0]], y=[centers[0, 1]], z=[centers[0, 2]],\n",
    "                                   mode='text', text=['Pre-Position'], textposition=\"top center\", textfont=dict(size=10), showlegend=False))\n",
    "    if len(centers) > 2:\n",
    "        fig.add_trace(go.Scatter3d(x=[centers[-1, 0]], y=[centers[-1, 1]], z=[centers[-1, 2]],\n",
    "                                   mode='text', text=['Loslassen'], textposition=\"top center\", textfont=dict(size=10), showlegend=False))\n",
    "\n",
    "    # Optimal-Trajektorie (grün) – Zweite Rechtecke\n",
    "    if secondary_rectangles:\n",
    "        for rect in secondary_rectangles:\n",
    "            x, y, z = zip(*rect)\n",
    "            fig.add_trace(go.Mesh3d(x=x, y=y, z=z, color='rgba(0,255,0,0.2)', opacity=0.8, \n",
    "                                   name=secondary_legend_title or 'Optimale Trajektorie'))\n",
    "        \n",
    "            # Hinzufügen der Umrandung der Rechtecke mit einer Linie\n",
    "            for j in range(4):\n",
    "                x0, y0, z0 = rect[j]\n",
    "                x1, y1, z1 = rect[(j + 1) % 4]  # Nächster Punkt im Rechteck\n",
    "                fig.add_trace(go.Scatter3d(x=[x0, x1], y=[y0, y1], z=[z0, z1], \n",
    "                                           mode='lines', \n",
    "                                           line=dict(color='rgba(0,255,0,0.2)', width=3),  # Keine opacity hier\n",
    "                                           showlegend=False))\n",
    "            \n",
    "            # Hinzufügen eines roten Punktes in der Mitte des Rechtecks\n",
    "            center = np.mean(np.array(rect), axis=0)\n",
    "            fig.add_trace(go.Scatter3d(x=[center[0]], y=[center[1]], z=[center[2]], \n",
    "                                       mode='markers', marker=dict(size=4, color='green'), \n",
    "                                       name=f'Mitte P{i+1}', showlegend=False))\n",
    "        \n",
    "        # Mittelpunkte der sekundären Rechtecke sammeln\n",
    "        secondary_centers = [np.mean(np.array(rect), axis=0) for rect in secondary_rectangles]\n",
    "        secondary_centers = np.array(secondary_centers)\n",
    "\n",
    "        # Linie durch die Mittelpunkte zeichnen\n",
    "        fig.add_trace(go.Scatter3d(\n",
    "            x=secondary_centers[:, 0], y=secondary_centers[:, 1], z=secondary_centers[:, 2],\n",
    "            mode='lines',\n",
    "            line=dict(color='green', width=2),\n",
    "            name='Optimale Hakenlinie'\n",
    "        ))\n",
    "    \n",
    "    # Einzeichnen von Spitze und Senke inkl. graue Verbindungslinie\n",
    "    if connect_points:\n",
    "        p1, p2 = np.array(connect_points[0]), np.array(connect_points[1])\n",
    "        fig.add_trace(go.Scatter3d(x=[p1[0], p2[0]], y=[p1[1], p2[1]], z=[p1[2], p2[2]], \n",
    "                                   mode='lines', line=dict(color='gray', dash='dash'), name='Direkte Gerade Spitze -> Senke'))\n",
    "        fig.add_trace(go.Scatter3d(x=[p1[0]], y=[p1[1]], z=[p1[2]], mode='markers', \n",
    "                                   marker=dict(size=8, color='magenta'), name='Spitze'))\n",
    "        fig.add_trace(go.Scatter3d(x=[p2[0]], y=[p2[1]], z=[p2[2]], mode='markers', \n",
    "                                   marker=dict(size=8, color='magenta'), name='Senke'))\n",
    "        \n",
    "        # Hinzufügen von Text \"Spitze\" und \"Senke\"\n",
    "        fig.add_trace(go.Scatter3d(x=[p1[0]], y=[p1[1]], z=[p1[2]], mode='text', \n",
    "                                   text=['Spitze'], textposition=\"top center\", textfont=dict(size=10), showlegend=False))\n",
    "        fig.add_trace(go.Scatter3d(x=[p2[0]], y=[p2[1]], z=[p2[2]], mode='text', \n",
    "                                   text=['Senke'], textposition=\"top center\", textfont=dict(size=10), showlegend=False))\n",
    "\n",
    "    # Achsen und Layout\n",
    "    fig.update_layout(\n",
    "        scene=dict(\n",
    "            xaxis_title='X',\n",
    "            yaxis_title='Y',\n",
    "            zaxis_title='Z',\n",
    "            aspectmode='cube',\n",
    "            camera=dict(\n",
    "                up=dict(x=0, y=-1., z=0),\n",
    "                eye=dict(x=-1, y=-1, z=-1.5)\n",
    "            )\n",
    "        ),\n",
    "        title=f'Haken {hook_num}, Trajektorien-Ansatz {trajectory_process}',\n",
    "        legend=dict(title=\"Legende\")\n",
    "    )\n",
    "    \n",
    "    # HTML exportieren\n",
    "    fig.write_html(html_filename)\n",
    "    print(f\"HTML-Datei '{html_filename}' erfolgreich erstellt!\")\n",
    "    fig.show()"
   ]
  },
  {
   "cell_type": "code",
   "execution_count": 662,
   "id": "2e400931",
   "metadata": {},
   "outputs": [
    {
     "name": "stdout",
     "output_type": "stream",
     "text": [
      "HTML-Datei '/home/mo/Thesis/Evaluation/Trajektorientests/traj1.html' erfolgreich erstellt!\n"
     ]
    },
    {
     "name": "stderr",
     "output_type": "stream",
     "text": [
      "/tmp/ipykernel_366278/974647754.py:17: MatplotlibDeprecationWarning:\n",
      "\n",
      "The get_cmap function was deprecated in Matplotlib 3.7 and will be removed two minor releases later. Use ``matplotlib.colormaps[name]`` or ``matplotlib.colormaps.get_cmap(obj)`` instead.\n",
      "\n"
     ]
    },
    {
     "data": {
      "application/vnd.plotly.v1+json": {
       "config": {
        "plotlyServerURL": "https://plot.ly"
       },
       "data": [
        {
         "color": "rgba(31, 119, 180, 0.8)",
         "name": "P1",
         "opacity": 0.8,
         "type": "mesh3d",
         "x": [
          154.31192991196954,
          162.30817811527697,
          162.44617839663167,
          154.44993019332424
         ],
         "y": [
          -487.09996881291517,
          -487.1919219020076,
          -475.19271544319605,
          -475.1007623541036
         ],
         "z": [
          353.0035703769451,
          352.77650364554364,
          352.77703389183563,
          353.0041006232371
         ]
        },
        {
         "marker": {
          "color": "red",
          "size": 3
         },
         "mode": "markers+text",
         "showlegend": false,
         "text": "",
         "textfont": {
          "size": 12
         },
         "textposition": "top center",
         "type": "scatter3d",
         "x": [
          158.3790541543006
         ],
         "y": [
          -481.1463421280556
         ],
         "z": [
          352.89030213439037
         ]
        },
        {
         "line": {
          "color": "rgba(31, 119, 180, 0.8)",
          "width": 4
         },
         "mode": "lines",
         "showlegend": false,
         "type": "scatter3d",
         "x": [
          154.31192991196954,
          162.30817811527697
         ],
         "y": [
          -487.09996881291517,
          -487.1919219020076
         ],
         "z": [
          353.0035703769451,
          352.77650364554364
         ]
        },
        {
         "line": {
          "color": "rgba(31, 119, 180, 0.8)",
          "width": 4
         },
         "mode": "lines",
         "showlegend": false,
         "type": "scatter3d",
         "x": [
          162.30817811527697,
          162.44617839663167
         ],
         "y": [
          -487.1919219020076,
          -475.19271544319605
         ],
         "z": [
          352.77650364554364,
          352.77703389183563
         ]
        },
        {
         "line": {
          "color": "rgba(31, 119, 180, 0.8)",
          "width": 4
         },
         "mode": "lines",
         "showlegend": false,
         "type": "scatter3d",
         "x": [
          162.44617839663167,
          154.44993019332424
         ],
         "y": [
          -475.19271544319605,
          -475.1007623541036
         ],
         "z": [
          352.77703389183563,
          353.0041006232371
         ]
        },
        {
         "line": {
          "color": "rgba(31, 119, 180, 0.8)",
          "width": 4
         },
         "mode": "lines",
         "showlegend": false,
         "type": "scatter3d",
         "x": [
          154.44993019332424,
          154.31192991196954
         ],
         "y": [
          -475.1007623541036,
          -487.09996881291517
         ],
         "z": [
          353.0041006232371,
          353.0035703769451
         ]
        },
        {
         "color": "rgba(174, 199, 232, 0.8)",
         "name": "P2",
         "opacity": 0.8,
         "type": "mesh3d",
         "x": [
          153.44035964767082,
          160.14079482493807,
          163.4378814796739,
          156.73744630240665
         ],
         "y": [
          -485.135038399958,
          -482.653716811306,
          -476.9843451137271,
          -479.46566670237905
         ],
         "z": [
          349.9615068343983,
          346.36328343820276,
          356.4125343628167,
          360.0107577590122
         ]
        },
        {
         "marker": {
          "color": "red",
          "size": 3
         },
         "mode": "markers+text",
         "showlegend": false,
         "text": "",
         "textfont": {
          "size": 12
         },
         "textposition": "top center",
         "type": "scatter3d",
         "x": [
          158.43912056367236
         ],
         "y": [
          -481.05969175684254
         ],
         "z": [
          353.1870205986075
         ]
        },
        {
         "line": {
          "color": "rgba(174, 199, 232, 0.8)",
          "width": 4
         },
         "mode": "lines",
         "showlegend": false,
         "type": "scatter3d",
         "x": [
          153.44035964767082,
          160.14079482493807
         ],
         "y": [
          -485.135038399958,
          -482.653716811306
         ],
         "z": [
          349.9615068343983,
          346.36328343820276
         ]
        },
        {
         "line": {
          "color": "rgba(174, 199, 232, 0.8)",
          "width": 4
         },
         "mode": "lines",
         "showlegend": false,
         "type": "scatter3d",
         "x": [
          160.14079482493807,
          163.4378814796739
         ],
         "y": [
          -482.653716811306,
          -476.9843451137271
         ],
         "z": [
          346.36328343820276,
          356.4125343628167
         ]
        },
        {
         "line": {
          "color": "rgba(174, 199, 232, 0.8)",
          "width": 4
         },
         "mode": "lines",
         "showlegend": false,
         "type": "scatter3d",
         "x": [
          163.4378814796739,
          156.73744630240665
         ],
         "y": [
          -476.9843451137271,
          -479.46566670237905
         ],
         "z": [
          356.4125343628167,
          360.0107577590122
         ]
        },
        {
         "line": {
          "color": "rgba(174, 199, 232, 0.8)",
          "width": 4
         },
         "mode": "lines",
         "showlegend": false,
         "type": "scatter3d",
         "x": [
          156.73744630240665,
          153.44035964767082
         ],
         "y": [
          -479.46566670237905,
          -485.135038399958
         ],
         "z": [
          360.0107577590122,
          349.9615068343983
         ]
        },
        {
         "color": "rgba(255, 187, 120, 0.8)",
         "name": "P3",
         "opacity": 0.8,
         "type": "mesh3d",
         "x": [
          152.18667021208697,
          159.63387812533628,
          162.763708795145,
          155.31650088189568
         ],
         "y": [
          -480.22915701694865,
          -477.9548273648931,
          -478.8878227083346,
          -481.16215236039017
         ],
         "z": [
          347.2573952891265,
          345.42258768869056,
          356.96960806918014,
          358.8044156696161
         ]
        },
        {
         "marker": {
          "color": "red",
          "size": 3
         },
         "mode": "markers+text",
         "showlegend": false,
         "text": "P2",
         "textfont": {
          "size": 12
         },
         "textposition": "top center",
         "type": "scatter3d",
         "x": [
          157.47518950361598
         ],
         "y": [
          -479.55848986264164
         ],
         "z": [
          352.1135016791533
         ]
        },
        {
         "line": {
          "color": "rgba(255, 187, 120, 0.8)",
          "width": 4
         },
         "mode": "lines",
         "showlegend": false,
         "type": "scatter3d",
         "x": [
          152.18667021208697,
          159.63387812533628
         ],
         "y": [
          -480.22915701694865,
          -477.9548273648931
         ],
         "z": [
          347.2573952891265,
          345.42258768869056
         ]
        },
        {
         "line": {
          "color": "rgba(255, 187, 120, 0.8)",
          "width": 4
         },
         "mode": "lines",
         "showlegend": false,
         "type": "scatter3d",
         "x": [
          159.63387812533628,
          162.763708795145
         ],
         "y": [
          -477.9548273648931,
          -478.8878227083346
         ],
         "z": [
          345.42258768869056,
          356.96960806918014
         ]
        },
        {
         "line": {
          "color": "rgba(255, 187, 120, 0.8)",
          "width": 4
         },
         "mode": "lines",
         "showlegend": false,
         "type": "scatter3d",
         "x": [
          162.763708795145,
          155.31650088189568
         ],
         "y": [
          -478.8878227083346,
          -481.16215236039017
         ],
         "z": [
          356.96960806918014,
          358.8044156696161
         ]
        },
        {
         "line": {
          "color": "rgba(255, 187, 120, 0.8)",
          "width": 4
         },
         "mode": "lines",
         "showlegend": false,
         "type": "scatter3d",
         "x": [
          155.31650088189568,
          152.18667021208697
         ],
         "y": [
          -481.16215236039017,
          -480.22915701694865
         ],
         "z": [
          358.8044156696161,
          347.2573952891265
         ]
        },
        {
         "color": "rgba(152, 223, 138, 0.8)",
         "name": "P4",
         "opacity": 0.8,
         "type": "mesh3d",
         "x": [
          151.06301381532546,
          158.51135056630514,
          161.63596559524467,
          154.187628844265
         ],
         "y": [
          -478.58345709256923,
          -476.310349817551,
          -477.2427272375263,
          -479.51583451254453
         ],
         "z": [
          347.3197040361314,
          345.48796634741467,
          357.03644907319494,
          358.86818676191166
         ]
        },
        {
         "marker": {
          "color": "red",
          "size": 3
         },
         "mode": "markers+text",
         "showlegend": false,
         "text": "P3",
         "textfont": {
          "size": 12
         },
         "textposition": "top center",
         "type": "scatter3d",
         "x": [
          156.34948970528507
         ],
         "y": [
          -477.91309216504783
         ],
         "z": [
          352.17807655466316
         ]
        },
        {
         "line": {
          "color": "rgba(152, 223, 138, 0.8)",
          "width": 4
         },
         "mode": "lines",
         "showlegend": false,
         "type": "scatter3d",
         "x": [
          151.06301381532546,
          158.51135056630514
         ],
         "y": [
          -478.58345709256923,
          -476.310349817551
         ],
         "z": [
          347.3197040361314,
          345.48796634741467
         ]
        },
        {
         "line": {
          "color": "rgba(152, 223, 138, 0.8)",
          "width": 4
         },
         "mode": "lines",
         "showlegend": false,
         "type": "scatter3d",
         "x": [
          158.51135056630514,
          161.63596559524467
         ],
         "y": [
          -476.310349817551,
          -477.2427272375263
         ],
         "z": [
          345.48796634741467,
          357.03644907319494
         ]
        },
        {
         "line": {
          "color": "rgba(152, 223, 138, 0.8)",
          "width": 4
         },
         "mode": "lines",
         "showlegend": false,
         "type": "scatter3d",
         "x": [
          161.63596559524467,
          154.187628844265
         ],
         "y": [
          -477.2427272375263,
          -479.51583451254453
         ],
         "z": [
          357.03644907319494,
          358.86818676191166
         ]
        },
        {
         "line": {
          "color": "rgba(152, 223, 138, 0.8)",
          "width": 4
         },
         "mode": "lines",
         "showlegend": false,
         "type": "scatter3d",
         "x": [
          154.187628844265,
          151.06301381532546
         ],
         "y": [
          -479.51583451254453,
          -478.58345709256923
         ],
         "z": [
          358.86818676191166,
          347.3197040361314
         ]
        },
        {
         "color": "rgba(255, 152, 150, 0.8)",
         "name": "P5",
         "opacity": 0.8,
         "type": "mesh3d",
         "x": [
          149.7595228608723,
          157.0823826580633,
          160.6887331575833,
          153.3658733603923
         ],
         "y": [
          -476.8872113854702,
          -474.40230622491896,
          -475.64542992185955,
          -478.1303350824108
         ],
         "z": [
          347.5787818877567,
          345.5291549134636,
          356.9067152648182,
          358.9563422391113
         ]
        },
        {
         "marker": {
          "color": "red",
          "size": 3
         },
         "mode": "markers+text",
         "showlegend": false,
         "text": "P4",
         "textfont": {
          "size": 12
         },
         "textposition": "top center",
         "type": "scatter3d",
         "x": [
          155.2241280092278
         ],
         "y": [
          -476.2663206536649
         ],
         "z": [
          352.2427485762875
         ]
        },
        {
         "line": {
          "color": "rgba(255, 152, 150, 0.8)",
          "width": 4
         },
         "mode": "lines",
         "showlegend": false,
         "type": "scatter3d",
         "x": [
          149.7595228608723,
          157.0823826580633
         ],
         "y": [
          -476.8872113854702,
          -474.40230622491896
         ],
         "z": [
          347.5787818877567,
          345.5291549134636
         ]
        },
        {
         "line": {
          "color": "rgba(255, 152, 150, 0.8)",
          "width": 4
         },
         "mode": "lines",
         "showlegend": false,
         "type": "scatter3d",
         "x": [
          157.0823826580633,
          160.6887331575833
         ],
         "y": [
          -474.40230622491896,
          -475.64542992185955
         ],
         "z": [
          345.5291549134636,
          356.9067152648182
         ]
        },
        {
         "line": {
          "color": "rgba(255, 152, 150, 0.8)",
          "width": 4
         },
         "mode": "lines",
         "showlegend": false,
         "type": "scatter3d",
         "x": [
          160.6887331575833,
          153.3658733603923
         ],
         "y": [
          -475.64542992185955,
          -478.1303350824108
         ],
         "z": [
          356.9067152648182,
          358.9563422391113
         ]
        },
        {
         "line": {
          "color": "rgba(255, 152, 150, 0.8)",
          "width": 4
         },
         "mode": "lines",
         "showlegend": false,
         "type": "scatter3d",
         "x": [
          153.3658733603923,
          149.7595228608723
         ],
         "y": [
          -478.1303350824108,
          -476.8872113854702
         ],
         "z": [
          358.9563422391113,
          347.5787818877567
         ]
        },
        {
         "color": "rgba(197, 176, 213, 0.8)",
         "name": "P6",
         "opacity": 0.8,
         "type": "mesh3d",
         "x": [
          148.1065803584639,
          155.18721815612685,
          159.7699943326551,
          152.68935653499216
         ],
         "y": [
          -475.1881288322246,
          -472.4488833380603,
          -474.2135490761665,
          -476.9527945703308
         ],
         "z": [
          348.128029154738,
          345.60590653658335,
          356.55506711393355,
          359.0771897320882
         ]
        },
        {
         "marker": {
          "color": "red",
          "size": 3
         },
         "mode": "markers+text",
         "showlegend": false,
         "text": "P5",
         "textfont": {
          "size": 12
         },
         "textposition": "top center",
         "type": "scatter3d",
         "x": [
          153.9382873455595
         ],
         "y": [
          -474.70083895419555
         ],
         "z": [
          352.34154813433577
         ]
        },
        {
         "line": {
          "color": "rgba(197, 176, 213, 0.8)",
          "width": 4
         },
         "mode": "lines",
         "showlegend": false,
         "type": "scatter3d",
         "x": [
          148.1065803584639,
          155.18721815612685
         ],
         "y": [
          -475.1881288322246,
          -472.4488833380603
         ],
         "z": [
          348.128029154738,
          345.60590653658335
         ]
        },
        {
         "line": {
          "color": "rgba(197, 176, 213, 0.8)",
          "width": 4
         },
         "mode": "lines",
         "showlegend": false,
         "type": "scatter3d",
         "x": [
          155.18721815612685,
          159.7699943326551
         ],
         "y": [
          -472.4488833380603,
          -474.2135490761665
         ],
         "z": [
          345.60590653658335,
          356.55506711393355
         ]
        },
        {
         "line": {
          "color": "rgba(197, 176, 213, 0.8)",
          "width": 4
         },
         "mode": "lines",
         "showlegend": false,
         "type": "scatter3d",
         "x": [
          159.7699943326551,
          152.68935653499216
         ],
         "y": [
          -474.2135490761665,
          -476.9527945703308
         ],
         "z": [
          356.55506711393355,
          359.0771897320882
         ]
        },
        {
         "line": {
          "color": "rgba(197, 176, 213, 0.8)",
          "width": 4
         },
         "mode": "lines",
         "showlegend": false,
         "type": "scatter3d",
         "x": [
          152.68935653499216,
          148.1065803584639
         ],
         "y": [
          -476.9527945703308,
          -475.1881288322246
         ],
         "z": [
          359.0771897320882,
          348.128029154738
         ]
        },
        {
         "color": "rgba(140, 86, 75, 0.8)",
         "name": "P7",
         "opacity": 0.8,
         "type": "mesh3d",
         "x": [
          146.3646093351163,
          153.24462697368034,
          158.61932051311072,
          151.7393028745467
         ],
         "y": [
          -473.68132170741876,
          -470.81469397658896,
          -473.08137752639993,
          -475.94800525722974
         ],
         "z": [
          348.68642761530765,
          345.77991720832733,
          356.2668049755451,
          359.1733153825254
         ]
        },
        {
         "marker": {
          "color": "red",
          "size": 3
         },
         "mode": "markers+text",
         "showlegend": false,
         "text": "P6",
         "textfont": {
          "size": 12
         },
         "textposition": "top center",
         "type": "scatter3d",
         "x": [
          152.49196492411352
         ],
         "y": [
          -473.38134961690935
         ],
         "z": [
          352.4766162954263
         ]
        },
        {
         "line": {
          "color": "rgba(140, 86, 75, 0.8)",
          "width": 4
         },
         "mode": "lines",
         "showlegend": false,
         "type": "scatter3d",
         "x": [
          146.3646093351163,
          153.24462697368034
         ],
         "y": [
          -473.68132170741876,
          -470.81469397658896
         ],
         "z": [
          348.68642761530765,
          345.77991720832733
         ]
        },
        {
         "line": {
          "color": "rgba(140, 86, 75, 0.8)",
          "width": 4
         },
         "mode": "lines",
         "showlegend": false,
         "type": "scatter3d",
         "x": [
          153.24462697368034,
          158.61932051311072
         ],
         "y": [
          -470.81469397658896,
          -473.08137752639993
         ],
         "z": [
          345.77991720832733,
          356.2668049755451
         ]
        },
        {
         "line": {
          "color": "rgba(140, 86, 75, 0.8)",
          "width": 4
         },
         "mode": "lines",
         "showlegend": false,
         "type": "scatter3d",
         "x": [
          158.61932051311072,
          151.7393028745467
         ],
         "y": [
          -473.08137752639993,
          -475.94800525722974
         ],
         "z": [
          356.2668049755451,
          359.1733153825254
         ]
        },
        {
         "line": {
          "color": "rgba(140, 86, 75, 0.8)",
          "width": 4
         },
         "mode": "lines",
         "showlegend": false,
         "type": "scatter3d",
         "x": [
          151.7393028745467,
          146.3646093351163
         ],
         "y": [
          -475.94800525722974,
          -473.68132170741876
         ],
         "z": [
          359.1733153825254,
          348.68642761530765
         ]
        },
        {
         "color": "rgba(227, 119, 194, 0.8)",
         "name": "P8",
         "opacity": 0.8,
         "type": "mesh3d",
         "x": [
          149.9460934259605,
          156.99585676755555,
          151.82303540894827,
          144.77327206735322
         ],
         "y": [
          -476.979328164101,
          -473.64596344573374,
          -467.47151646431684,
          -470.8048811826841
         ],
         "z": [
          347.30485644724473,
          349.09077819296795,
          357.9856151035363,
          356.1996933578131
         ]
        },
        {
         "marker": {
          "color": "red",
          "size": 3
         },
         "mode": "markers+text",
         "showlegend": false,
         "text": "P7",
         "textfont": {
          "size": 12
         },
         "textposition": "top center",
         "type": "scatter3d",
         "x": [
          150.88456441745438
         ],
         "y": [
          -472.2254223142089
         ],
         "z": [
          352.64523577539046
         ]
        },
        {
         "line": {
          "color": "rgba(227, 119, 194, 0.8)",
          "width": 4
         },
         "mode": "lines",
         "showlegend": false,
         "type": "scatter3d",
         "x": [
          149.9460934259605,
          156.99585676755555
         ],
         "y": [
          -476.979328164101,
          -473.64596344573374
         ],
         "z": [
          347.30485644724473,
          349.09077819296795
         ]
        },
        {
         "line": {
          "color": "rgba(227, 119, 194, 0.8)",
          "width": 4
         },
         "mode": "lines",
         "showlegend": false,
         "type": "scatter3d",
         "x": [
          156.99585676755555,
          151.82303540894827
         ],
         "y": [
          -473.64596344573374,
          -467.47151646431684
         ],
         "z": [
          349.09077819296795,
          357.9856151035363
         ]
        },
        {
         "line": {
          "color": "rgba(227, 119, 194, 0.8)",
          "width": 4
         },
         "mode": "lines",
         "showlegend": false,
         "type": "scatter3d",
         "x": [
          151.82303540894827,
          144.77327206735322
         ],
         "y": [
          -467.47151646431684,
          -470.8048811826841
         ],
         "z": [
          357.9856151035363,
          356.1996933578131
         ]
        },
        {
         "line": {
          "color": "rgba(227, 119, 194, 0.8)",
          "width": 4
         },
         "mode": "lines",
         "showlegend": false,
         "type": "scatter3d",
         "x": [
          144.77327206735322,
          149.9460934259605
         ],
         "y": [
          -470.8048811826841,
          -476.979328164101
         ],
         "z": [
          356.1996933578131,
          347.30485644724473
         ]
        },
        {
         "color": "rgba(127, 127, 127, 0.8)",
         "name": "P9",
         "opacity": 0.8,
         "type": "mesh3d",
         "x": [
          142.59100915967556,
          149.56797087976662,
          155.39102769065616,
          148.4140659705651
         ],
         "y": [
          -473.91571614311044,
          -477.0927215298856,
          -469.56731677859455,
          -466.3903113918194
         ],
         "z": [
          354.28702623328155,
          356.57364861766996,
          349.2619940370433,
          346.97537165265487
         ]
        },
        {
         "marker": {
          "color": "red",
          "size": 3
         },
         "mode": "markers+text",
         "showlegend": false,
         "text": "P8",
         "textfont": {
          "size": 12
         },
         "textposition": "top center",
         "type": "scatter3d",
         "x": [
          148.99101842516586
         ],
         "y": [
          -471.7415164608525
         ],
         "z": [
          351.77451013516236
         ]
        },
        {
         "line": {
          "color": "rgba(127, 127, 127, 0.8)",
          "width": 4
         },
         "mode": "lines",
         "showlegend": false,
         "type": "scatter3d",
         "x": [
          142.59100915967556,
          149.56797087976662
         ],
         "y": [
          -473.91571614311044,
          -477.0927215298856
         ],
         "z": [
          354.28702623328155,
          356.57364861766996
         ]
        },
        {
         "line": {
          "color": "rgba(127, 127, 127, 0.8)",
          "width": 4
         },
         "mode": "lines",
         "showlegend": false,
         "type": "scatter3d",
         "x": [
          149.56797087976662,
          155.39102769065616
         ],
         "y": [
          -477.0927215298856,
          -469.56731677859455
         ],
         "z": [
          356.57364861766996,
          349.2619940370433
         ]
        },
        {
         "line": {
          "color": "rgba(127, 127, 127, 0.8)",
          "width": 4
         },
         "mode": "lines",
         "showlegend": false,
         "type": "scatter3d",
         "x": [
          155.39102769065616,
          148.4140659705651
         ],
         "y": [
          -469.56731677859455,
          -466.3903113918194
         ],
         "z": [
          349.2619940370433,
          346.97537165265487
         ]
        },
        {
         "line": {
          "color": "rgba(127, 127, 127, 0.8)",
          "width": 4
         },
         "mode": "lines",
         "showlegend": false,
         "type": "scatter3d",
         "x": [
          148.4140659705651,
          142.59100915967556
         ],
         "y": [
          -466.3903113918194,
          -473.91571614311044
         ],
         "z": [
          346.97537165265487,
          354.28702623328155
         ]
        },
        {
         "color": "rgba(188, 189, 34, 0.8)",
         "name": "P10",
         "opacity": 0.8,
         "type": "mesh3d",
         "x": [
          141.2401493998711,
          148.2653189934907,
          152.65999137101954,
          145.63482177739994
         ],
         "y": [
          -469.68173365865374,
          -465.8548989685401,
          -473.8238557965389,
          -477.65069048665254
         ],
         "z": [
          347.0681746792223,
          347.01992081486804,
          354.84185035735794,
          354.8901042217122
         ]
        },
        {
         "marker": {
          "color": "red",
          "size": 3
         },
         "mode": "markers+text",
         "showlegend": false,
         "text": "P9",
         "textfont": {
          "size": 12
         },
         "textposition": "top center",
         "type": "scatter3d",
         "x": [
          146.95007038544531
         ],
         "y": [
          -471.7527947275963
         ],
         "z": [
          350.9550125182901
         ]
        },
        {
         "line": {
          "color": "rgba(188, 189, 34, 0.8)",
          "width": 4
         },
         "mode": "lines",
         "showlegend": false,
         "type": "scatter3d",
         "x": [
          141.2401493998711,
          148.2653189934907
         ],
         "y": [
          -469.68173365865374,
          -465.8548989685401
         ],
         "z": [
          347.0681746792223,
          347.01992081486804
         ]
        },
        {
         "line": {
          "color": "rgba(188, 189, 34, 0.8)",
          "width": 4
         },
         "mode": "lines",
         "showlegend": false,
         "type": "scatter3d",
         "x": [
          148.2653189934907,
          152.65999137101954
         ],
         "y": [
          -465.8548989685401,
          -473.8238557965389
         ],
         "z": [
          347.01992081486804,
          354.84185035735794
         ]
        },
        {
         "line": {
          "color": "rgba(188, 189, 34, 0.8)",
          "width": 4
         },
         "mode": "lines",
         "showlegend": false,
         "type": "scatter3d",
         "x": [
          152.65999137101954,
          145.63482177739994
         ],
         "y": [
          -473.8238557965389,
          -477.65069048665254
         ],
         "z": [
          354.84185035735794,
          354.8901042217122
         ]
        },
        {
         "line": {
          "color": "rgba(188, 189, 34, 0.8)",
          "width": 4
         },
         "mode": "lines",
         "showlegend": false,
         "type": "scatter3d",
         "x": [
          145.63482177739994,
          141.2401493998711
         ],
         "y": [
          -477.65069048665254,
          -469.68173365865374
         ],
         "z": [
          354.8901042217122,
          347.0681746792223
         ]
        },
        {
         "color": "rgba(23, 190, 207, 0.8)",
         "name": "P11",
         "opacity": 0.8,
         "type": "mesh3d",
         "x": [
          140.9135800241941,
          148.90982822750152,
          149.0478285088562,
          141.05158030554878
         ],
         "y": [
          -477.5280225479201,
          -477.61997563701254,
          -465.620769178201,
          -465.52881608910855
         ],
         "z": [
          352.43655011352183,
          352.20948338212037,
          352.21001362841236,
          352.4370803598138
         ]
        },
        {
         "marker": {
          "color": "red",
          "size": 3
         },
         "mode": "markers+text",
         "showlegend": false,
         "text": "",
         "textfont": {
          "size": 12
         },
         "textposition": "top center",
         "type": "scatter3d",
         "x": [
          144.98070426652515
         ],
         "y": [
          -471.57439586306054
         ],
         "z": [
          352.3232818709671
         ]
        },
        {
         "line": {
          "color": "rgba(23, 190, 207, 0.8)",
          "width": 4
         },
         "mode": "lines",
         "showlegend": false,
         "type": "scatter3d",
         "x": [
          140.9135800241941,
          148.90982822750152
         ],
         "y": [
          -477.5280225479201,
          -477.61997563701254
         ],
         "z": [
          352.43655011352183,
          352.20948338212037
         ]
        },
        {
         "line": {
          "color": "rgba(23, 190, 207, 0.8)",
          "width": 4
         },
         "mode": "lines",
         "showlegend": false,
         "type": "scatter3d",
         "x": [
          148.90982822750152,
          149.0478285088562
         ],
         "y": [
          -477.61997563701254,
          -465.620769178201
         ],
         "z": [
          352.20948338212037,
          352.21001362841236
         ]
        },
        {
         "line": {
          "color": "rgba(23, 190, 207, 0.8)",
          "width": 4
         },
         "mode": "lines",
         "showlegend": false,
         "type": "scatter3d",
         "x": [
          149.0478285088562,
          141.05158030554878
         ],
         "y": [
          -465.620769178201,
          -465.52881608910855
         ],
         "z": [
          352.21001362841236,
          352.4370803598138
         ]
        },
        {
         "line": {
          "color": "rgba(23, 190, 207, 0.8)",
          "width": 4
         },
         "mode": "lines",
         "showlegend": false,
         "type": "scatter3d",
         "x": [
          141.05158030554878,
          140.9135800241941
         ],
         "y": [
          -465.52881608910855,
          -477.5280225479201
         ],
         "z": [
          352.4370803598138,
          352.43655011352183
         ]
        },
        {
         "line": {
          "color": "black",
          "width": 2
         },
         "mode": "lines",
         "name": "Berechnete Hakenlinie",
         "type": "scatter3d",
         "x": {
          "bdata": "SoQtNiHMY0Aqf5FGDc5jQNwtnsA0r2NAns8IBS+LY0AIuIAOLGdjQLjtLnMGPmNAGHs5Lb4PY0CAhQlaTtxiQES6RWy2n2JAWEwC+mZeYkC++OntYR9iQA==",
          "dtype": "f8"
         },
         "y": {
          "bdata": "auDXalcSfsCs91d/9BB+wBjzEJPv+H3A1LGHBpzefcDXG3LZQsR9wIZA6KI2q33AfE8OAhqWfcAOtW1Um4N9wOpMXUDde33ACvp7cgt8fcDYbLe5MHl9wA==",
          "dtype": "f8"
         },
         "z": {
          "bdata": "QGxzrT4OdkApq08J/hJ2QBIAI+fQAXZAZyfNZtkCdkDjxFRM4gN2QLYvLft2BXZAjJloOKAHdkAumL/iUgp2QBZPvWRk/HVAOtU0u0fvdUAYc5wpLAV2QA==",
          "dtype": "f8"
         }
        },
        {
         "mode": "text",
         "showlegend": false,
         "text": [
          "Pre-Position"
         ],
         "textfont": {
          "size": 10
         },
         "textposition": "top center",
         "type": "scatter3d",
         "x": [
          158.3790541543006
         ],
         "y": [
          -481.1463421280556
         ],
         "z": [
          352.89030213439037
         ]
        },
        {
         "mode": "text",
         "showlegend": false,
         "text": [
          "Loslassen"
         ],
         "textfont": {
          "size": 10
         },
         "textposition": "top center",
         "type": "scatter3d",
         "x": [
          144.98070426652515
         ],
         "y": [
          -471.57439586306054
         ],
         "z": [
          352.3232818709671
         ]
        },
        {
         "color": "rgba(0,255,0,0.2)",
         "name": "optimale Trajektorie",
         "opacity": 0.8,
         "type": "mesh3d",
         "x": [
          154.63437388380015,
          162.3106875652591,
          162.12373138440495,
          154.447417702946
         ],
         "y": [
          -482.1840103894636,
          -479.9365352997564,
          -480.10867369788906,
          -482.3561487875963
         ],
         "z": [
          346.8157146726451,
          346.9675829872873,
          358.9648916754194,
          358.81302336077715
         ]
        },
        {
         "line": {
          "color": "rgba(0,255,0,0.2)",
          "width": 3
         },
         "mode": "lines",
         "showlegend": false,
         "type": "scatter3d",
         "x": [
          154.63437388380015,
          162.3106875652591
         ],
         "y": [
          -482.1840103894636,
          -479.9365352997564
         ],
         "z": [
          346.8157146726451,
          346.9675829872873
         ]
        },
        {
         "line": {
          "color": "rgba(0,255,0,0.2)",
          "width": 3
         },
         "mode": "lines",
         "showlegend": false,
         "type": "scatter3d",
         "x": [
          162.3106875652591,
          162.12373138440495
         ],
         "y": [
          -479.9365352997564,
          -480.10867369788906
         ],
         "z": [
          346.9675829872873,
          358.9648916754194
         ]
        },
        {
         "line": {
          "color": "rgba(0,255,0,0.2)",
          "width": 3
         },
         "mode": "lines",
         "showlegend": false,
         "type": "scatter3d",
         "x": [
          162.12373138440495,
          154.447417702946
         ],
         "y": [
          -480.10867369788906,
          -482.3561487875963
         ],
         "z": [
          358.9648916754194,
          358.81302336077715
         ]
        },
        {
         "line": {
          "color": "rgba(0,255,0,0.2)",
          "width": 3
         },
         "mode": "lines",
         "showlegend": false,
         "type": "scatter3d",
         "x": [
          154.447417702946,
          154.63437388380015
         ],
         "y": [
          -482.3561487875963,
          -482.1840103894636
         ],
         "z": [
          358.81302336077715,
          346.8157146726451
         ]
        },
        {
         "marker": {
          "color": "green",
          "size": 4
         },
         "mode": "markers",
         "name": "Mitte P11",
         "showlegend": false,
         "type": "scatter3d",
         "x": [
          158.37905263410255
         ],
         "y": [
          -481.1463420436763
         ],
         "z": [
          352.8903031740322
         ]
        },
        {
         "color": "rgba(0,255,0,0.2)",
         "name": "optimale Trajektorie",
         "opacity": 0.8,
         "type": "mesh3d",
         "x": [
          157.07389154920628,
          164.06834371470626,
          161.47110243773096,
          154.47665027223098
         ],
         "y": [
          -480.0554487908449,
          -476.7861838866203,
          -478.64261253768694,
          -481.91187744191154
         ],
         "z": [
          346.40474140850966,
          348.49986572237225,
          360.0674069655524,
          357.9722826516898
         ]
        },
        {
         "line": {
          "color": "rgba(0,255,0,0.2)",
          "width": 3
         },
         "mode": "lines",
         "showlegend": false,
         "type": "scatter3d",
         "x": [
          157.07389154920628,
          164.06834371470626
         ],
         "y": [
          -480.0554487908449,
          -476.7861838866203
         ],
         "z": [
          346.40474140850966,
          348.49986572237225
         ]
        },
        {
         "line": {
          "color": "rgba(0,255,0,0.2)",
          "width": 3
         },
         "mode": "lines",
         "showlegend": false,
         "type": "scatter3d",
         "x": [
          164.06834371470626,
          161.47110243773096
         ],
         "y": [
          -476.7861838866203,
          -478.64261253768694
         ],
         "z": [
          348.49986572237225,
          360.0674069655524
         ]
        },
        {
         "line": {
          "color": "rgba(0,255,0,0.2)",
          "width": 3
         },
         "mode": "lines",
         "showlegend": false,
         "type": "scatter3d",
         "x": [
          161.47110243773096,
          154.47665027223098
         ],
         "y": [
          -478.64261253768694,
          -481.91187744191154
         ],
         "z": [
          360.0674069655524,
          357.9722826516898
         ]
        },
        {
         "line": {
          "color": "rgba(0,255,0,0.2)",
          "width": 3
         },
         "mode": "lines",
         "showlegend": false,
         "type": "scatter3d",
         "x": [
          154.47665027223098,
          157.07389154920628
         ],
         "y": [
          -481.91187744191154,
          -480.0554487908449
         ],
         "z": [
          357.9722826516898,
          346.40474140850966
         ]
        },
        {
         "marker": {
          "color": "green",
          "size": 4
         },
         "mode": "markers",
         "name": "Mitte P11",
         "showlegend": false,
         "type": "scatter3d",
         "x": [
          159.27249699346862
         ],
         "y": [
          -479.3490306642659
         ],
         "z": [
          353.236074187031
         ]
        },
        {
         "color": "rgba(0,255,0,0.2)",
         "name": "optimale Trajektorie",
         "opacity": 0.8,
         "type": "mesh3d",
         "x": [
          154.10459206375154,
          159.95516476592132,
          158.04796273947872,
          152.19739003730894
         ],
         "y": [
          -475.9700075280206,
          -470.8915124220568,
          -473.2547157780506,
          -478.33321088401436
         ],
         "z": [
          347.6144405058793,
          349.60935567082436,
          361.21874197366367,
          359.2238268087186
         ]
        },
        {
         "line": {
          "color": "rgba(0,255,0,0.2)",
          "width": 3
         },
         "mode": "lines",
         "showlegend": false,
         "type": "scatter3d",
         "x": [
          154.10459206375154,
          159.95516476592132
         ],
         "y": [
          -475.9700075280206,
          -470.8915124220568
         ],
         "z": [
          347.6144405058793,
          349.60935567082436
         ]
        },
        {
         "line": {
          "color": "rgba(0,255,0,0.2)",
          "width": 3
         },
         "mode": "lines",
         "showlegend": false,
         "type": "scatter3d",
         "x": [
          159.95516476592132,
          158.04796273947872
         ],
         "y": [
          -470.8915124220568,
          -473.2547157780506
         ],
         "z": [
          349.60935567082436,
          361.21874197366367
         ]
        },
        {
         "line": {
          "color": "rgba(0,255,0,0.2)",
          "width": 3
         },
         "mode": "lines",
         "showlegend": false,
         "type": "scatter3d",
         "x": [
          158.04796273947872,
          152.19739003730894
         ],
         "y": [
          -473.2547157780506,
          -478.33321088401436
         ],
         "z": [
          361.21874197366367,
          359.2238268087186
         ]
        },
        {
         "line": {
          "color": "rgba(0,255,0,0.2)",
          "width": 3
         },
         "mode": "lines",
         "showlegend": false,
         "type": "scatter3d",
         "x": [
          152.19739003730894,
          154.10459206375154
         ],
         "y": [
          -478.33321088401436,
          -475.9700075280206
         ],
         "z": [
          359.2238268087186,
          347.6144405058793
         ]
        },
        {
         "marker": {
          "color": "green",
          "size": 4
         },
         "mode": "markers",
         "name": "Mitte P11",
         "showlegend": false,
         "type": "scatter3d",
         "x": [
          156.07627740161513
         ],
         "y": [
          -474.6123616530355
         ],
         "z": [
          354.4165912397715
         ]
        },
        {
         "color": "rgba(0,255,0,0.2)",
         "name": "optimale Trajektorie",
         "opacity": 0.8,
         "type": "mesh3d",
         "x": [
          152.1911065854075,
          156.92251794974118,
          155.6527892861094,
          150.92137792177573
         ],
         "y": [
          -472.48423970231454,
          -466.32280846538106,
          -468.9567576269086,
          -475.1181888638421
         ],
         "z": [
          348.7757439903779,
          350.6863751986425,
          362.3246783797441,
          360.4140471714795
         ]
        },
        {
         "line": {
          "color": "rgba(0,255,0,0.2)",
          "width": 3
         },
         "mode": "lines",
         "showlegend": false,
         "type": "scatter3d",
         "x": [
          152.1911065854075,
          156.92251794974118
         ],
         "y": [
          -472.48423970231454,
          -466.32280846538106
         ],
         "z": [
          348.7757439903779,
          350.6863751986425
         ]
        },
        {
         "line": {
          "color": "rgba(0,255,0,0.2)",
          "width": 3
         },
         "mode": "lines",
         "showlegend": false,
         "type": "scatter3d",
         "x": [
          156.92251794974118,
          155.6527892861094
         ],
         "y": [
          -466.32280846538106,
          -468.9567576269086
         ],
         "z": [
          350.6863751986425,
          362.3246783797441
         ]
        },
        {
         "line": {
          "color": "rgba(0,255,0,0.2)",
          "width": 3
         },
         "mode": "lines",
         "showlegend": false,
         "type": "scatter3d",
         "x": [
          155.6527892861094,
          150.92137792177573
         ],
         "y": [
          -468.9567576269086,
          -475.1181888638421
         ],
         "z": [
          362.3246783797441,
          360.4140471714795
         ]
        },
        {
         "line": {
          "color": "rgba(0,255,0,0.2)",
          "width": 3
         },
         "mode": "lines",
         "showlegend": false,
         "type": "scatter3d",
         "x": [
          150.92137792177573,
          152.1911065854075
         ],
         "y": [
          -475.1181888638421,
          -472.48423970231454
         ],
         "z": [
          360.4140471714795,
          348.7757439903779
         ]
        },
        {
         "marker": {
          "color": "green",
          "size": 4
         },
         "mode": "markers",
         "name": "Mitte P11",
         "showlegend": false,
         "type": "scatter3d",
         "x": [
          153.92194793575845
         ],
         "y": [
          -470.72049866461157
         ],
         "z": [
          355.550211185061
         ]
        },
        {
         "color": "rgba(0,255,0,0.2)",
         "name": "optimale Trajektorie",
         "opacity": 0.8,
         "type": "mesh3d",
         "x": [
          146.87509792087917,
          150.59208757901857,
          149.87628067705214,
          146.15929101891274
         ],
         "y": [
          -470.96487534278214,
          -464.1027596509518,
          -466.7124342415888,
          -473.5745499334192
         ],
         "z": [
          349.2935996522149,
          351.0529620688932,
          362.74386532784115,
          360.98450291116285
         ]
        },
        {
         "line": {
          "color": "rgba(0,255,0,0.2)",
          "width": 3
         },
         "mode": "lines",
         "showlegend": false,
         "type": "scatter3d",
         "x": [
          146.87509792087917,
          150.59208757901857
         ],
         "y": [
          -470.96487534278214,
          -464.1027596509518
         ],
         "z": [
          349.2935996522149,
          351.0529620688932
         ]
        },
        {
         "line": {
          "color": "rgba(0,255,0,0.2)",
          "width": 3
         },
         "mode": "lines",
         "showlegend": false,
         "type": "scatter3d",
         "x": [
          150.59208757901857,
          149.87628067705214
         ],
         "y": [
          -464.1027596509518,
          -466.7124342415888
         ],
         "z": [
          351.0529620688932,
          362.74386532784115
         ]
        },
        {
         "line": {
          "color": "rgba(0,255,0,0.2)",
          "width": 3
         },
         "mode": "lines",
         "showlegend": false,
         "type": "scatter3d",
         "x": [
          149.87628067705214,
          146.15929101891274
         ],
         "y": [
          -466.7124342415888,
          -473.5745499334192
         ],
         "z": [
          362.74386532784115,
          360.98450291116285
         ]
        },
        {
         "line": {
          "color": "rgba(0,255,0,0.2)",
          "width": 3
         },
         "mode": "lines",
         "showlegend": false,
         "type": "scatter3d",
         "x": [
          146.15929101891274,
          146.87509792087917
         ],
         "y": [
          -473.5745499334192,
          -470.96487534278214
         ],
         "z": [
          360.98450291116285,
          349.2935996522149
         ]
        },
        {
         "marker": {
          "color": "green",
          "size": 4
         },
         "mode": "markers",
         "name": "Mitte P11",
         "showlegend": false,
         "type": "scatter3d",
         "x": [
          148.37568929896565
         ],
         "y": [
          -468.8386547921855
         ],
         "z": [
          356.018732490028
         ]
        },
        {
         "color": "rgba(0,255,0,0.2)",
         "name": "optimale Trajektorie",
         "opacity": 0.8,
         "type": "mesh3d",
         "x": [
          143.74357601688587,
          145.26811337286884,
          146.58465554900783,
          145.06011819302486
         ],
         "y": [
          -472.1085783404218,
          -464.31864672275196,
          -466.08507077285105,
          -473.8750023905209
         ],
         "z": [
          350.02093713609173,
          351.01730616523713,
          362.8133420575901,
          361.8169730284447
         ]
        },
        {
         "line": {
          "color": "rgba(0,255,0,0.2)",
          "width": 3
         },
         "mode": "lines",
         "showlegend": false,
         "type": "scatter3d",
         "x": [
          143.74357601688587,
          145.26811337286884
         ],
         "y": [
          -472.1085783404218,
          -464.31864672275196
         ],
         "z": [
          350.02093713609173,
          351.01730616523713
         ]
        },
        {
         "line": {
          "color": "rgba(0,255,0,0.2)",
          "width": 3
         },
         "mode": "lines",
         "showlegend": false,
         "type": "scatter3d",
         "x": [
          145.26811337286884,
          146.58465554900783
         ],
         "y": [
          -464.31864672275196,
          -466.08507077285105
         ],
         "z": [
          351.01730616523713,
          362.8133420575901
         ]
        },
        {
         "line": {
          "color": "rgba(0,255,0,0.2)",
          "width": 3
         },
         "mode": "lines",
         "showlegend": false,
         "type": "scatter3d",
         "x": [
          146.58465554900783,
          145.06011819302486
         ],
         "y": [
          -466.08507077285105,
          -473.8750023905209
         ],
         "z": [
          362.8133420575901,
          361.8169730284447
         ]
        },
        {
         "line": {
          "color": "rgba(0,255,0,0.2)",
          "width": 3
         },
         "mode": "lines",
         "showlegend": false,
         "type": "scatter3d",
         "x": [
          145.06011819302486,
          143.74357601688587
         ],
         "y": [
          -473.8750023905209,
          -472.1085783404218
         ],
         "z": [
          361.8169730284447,
          350.02093713609173
         ]
        },
        {
         "marker": {
          "color": "green",
          "size": 4
         },
         "mode": "markers",
         "name": "Mitte P11",
         "showlegend": false,
         "type": "scatter3d",
         "x": [
          145.16411578294685
         ],
         "y": [
          -469.0968245566364
         ],
         "z": [
          356.4171395968409
         ]
        },
        {
         "line": {
          "color": "green",
          "width": 2
         },
         "mode": "lines",
         "name": "Optimale Hakenlinie",
         "type": "scatter3d",
         "x": {
          "bdata": "3F39MiHMY0CYZp1LuOhjQIwrTt1wgmNAUBb1mIA9Y0B4kJClBYxiQHQQvm9AJWJA",
          "dtype": "f8"
         },
         "y": {
          "bdata": "6jnBalcSfsAshS2hlfV9wMuRuzvMqX3AGJWbKYdrfcAgkUkha019wEAD6JeMUX3A",
          "dtype": "f8"
         },
         "z": {
          "bdata": "5X+Krj4OdkCmC7r1xhN2QOZpk1uqJnZAsFs+qs04dkCwgHC6TEB2QMbkkZqsRnZA",
          "dtype": "f8"
         }
        },
        {
         "line": {
          "color": "gray",
          "dash": "dash"
         },
         "mode": "lines",
         "name": "Direkte Gerade Spitze -> Senke",
         "type": "scatter3d",
         "x": [
          158.43912056367236,
          144.98070426652515
         ],
         "y": [
          -481.05969175684254,
          -471.57439586306054
         ],
         "z": [
          353.1870205986075,
          352.3232818709671
         ]
        },
        {
         "marker": {
          "color": "magenta",
          "size": 8
         },
         "mode": "markers",
         "name": "Spitze",
         "type": "scatter3d",
         "x": [
          158.43912056367236
         ],
         "y": [
          -481.05969175684254
         ],
         "z": [
          353.1870205986075
         ]
        },
        {
         "marker": {
          "color": "magenta",
          "size": 8
         },
         "mode": "markers",
         "name": "Senke",
         "type": "scatter3d",
         "x": [
          144.98070426652515
         ],
         "y": [
          -471.57439586306054
         ],
         "z": [
          352.3232818709671
         ]
        },
        {
         "mode": "text",
         "showlegend": false,
         "text": [
          "Spitze"
         ],
         "textfont": {
          "size": 10
         },
         "textposition": "top center",
         "type": "scatter3d",
         "x": [
          158.43912056367236
         ],
         "y": [
          -481.05969175684254
         ],
         "z": [
          353.1870205986075
         ]
        },
        {
         "mode": "text",
         "showlegend": false,
         "text": [
          "Senke"
         ],
         "textfont": {
          "size": 10
         },
         "textposition": "top center",
         "type": "scatter3d",
         "x": [
          144.98070426652515
         ],
         "y": [
          -471.57439586306054
         ],
         "z": [
          352.3232818709671
         ]
        }
       ],
       "layout": {
        "legend": {
         "title": {
          "text": "Legende"
         }
        },
        "scene": {
         "aspectmode": "cube",
         "camera": {
          "eye": {
           "x": -1,
           "y": -1,
           "z": -1.5
          },
          "up": {
           "x": 0,
           "y": -1,
           "z": 0
          }
         },
         "xaxis": {
          "title": {
           "text": "X"
          }
         },
         "yaxis": {
          "title": {
           "text": "Y"
          }
         },
         "zaxis": {
          "title": {
           "text": "Z"
          }
         }
        },
        "template": {
         "data": {
          "bar": [
           {
            "error_x": {
             "color": "#2a3f5f"
            },
            "error_y": {
             "color": "#2a3f5f"
            },
            "marker": {
             "line": {
              "color": "#E5ECF6",
              "width": 0.5
             },
             "pattern": {
              "fillmode": "overlay",
              "size": 10,
              "solidity": 0.2
             }
            },
            "type": "bar"
           }
          ],
          "barpolar": [
           {
            "marker": {
             "line": {
              "color": "#E5ECF6",
              "width": 0.5
             },
             "pattern": {
              "fillmode": "overlay",
              "size": 10,
              "solidity": 0.2
             }
            },
            "type": "barpolar"
           }
          ],
          "carpet": [
           {
            "aaxis": {
             "endlinecolor": "#2a3f5f",
             "gridcolor": "white",
             "linecolor": "white",
             "minorgridcolor": "white",
             "startlinecolor": "#2a3f5f"
            },
            "baxis": {
             "endlinecolor": "#2a3f5f",
             "gridcolor": "white",
             "linecolor": "white",
             "minorgridcolor": "white",
             "startlinecolor": "#2a3f5f"
            },
            "type": "carpet"
           }
          ],
          "choropleth": [
           {
            "colorbar": {
             "outlinewidth": 0,
             "ticks": ""
            },
            "type": "choropleth"
           }
          ],
          "contour": [
           {
            "colorbar": {
             "outlinewidth": 0,
             "ticks": ""
            },
            "colorscale": [
             [
              0,
              "#0d0887"
             ],
             [
              0.1111111111111111,
              "#46039f"
             ],
             [
              0.2222222222222222,
              "#7201a8"
             ],
             [
              0.3333333333333333,
              "#9c179e"
             ],
             [
              0.4444444444444444,
              "#bd3786"
             ],
             [
              0.5555555555555556,
              "#d8576b"
             ],
             [
              0.6666666666666666,
              "#ed7953"
             ],
             [
              0.7777777777777778,
              "#fb9f3a"
             ],
             [
              0.8888888888888888,
              "#fdca26"
             ],
             [
              1,
              "#f0f921"
             ]
            ],
            "type": "contour"
           }
          ],
          "contourcarpet": [
           {
            "colorbar": {
             "outlinewidth": 0,
             "ticks": ""
            },
            "type": "contourcarpet"
           }
          ],
          "heatmap": [
           {
            "colorbar": {
             "outlinewidth": 0,
             "ticks": ""
            },
            "colorscale": [
             [
              0,
              "#0d0887"
             ],
             [
              0.1111111111111111,
              "#46039f"
             ],
             [
              0.2222222222222222,
              "#7201a8"
             ],
             [
              0.3333333333333333,
              "#9c179e"
             ],
             [
              0.4444444444444444,
              "#bd3786"
             ],
             [
              0.5555555555555556,
              "#d8576b"
             ],
             [
              0.6666666666666666,
              "#ed7953"
             ],
             [
              0.7777777777777778,
              "#fb9f3a"
             ],
             [
              0.8888888888888888,
              "#fdca26"
             ],
             [
              1,
              "#f0f921"
             ]
            ],
            "type": "heatmap"
           }
          ],
          "histogram": [
           {
            "marker": {
             "pattern": {
              "fillmode": "overlay",
              "size": 10,
              "solidity": 0.2
             }
            },
            "type": "histogram"
           }
          ],
          "histogram2d": [
           {
            "colorbar": {
             "outlinewidth": 0,
             "ticks": ""
            },
            "colorscale": [
             [
              0,
              "#0d0887"
             ],
             [
              0.1111111111111111,
              "#46039f"
             ],
             [
              0.2222222222222222,
              "#7201a8"
             ],
             [
              0.3333333333333333,
              "#9c179e"
             ],
             [
              0.4444444444444444,
              "#bd3786"
             ],
             [
              0.5555555555555556,
              "#d8576b"
             ],
             [
              0.6666666666666666,
              "#ed7953"
             ],
             [
              0.7777777777777778,
              "#fb9f3a"
             ],
             [
              0.8888888888888888,
              "#fdca26"
             ],
             [
              1,
              "#f0f921"
             ]
            ],
            "type": "histogram2d"
           }
          ],
          "histogram2dcontour": [
           {
            "colorbar": {
             "outlinewidth": 0,
             "ticks": ""
            },
            "colorscale": [
             [
              0,
              "#0d0887"
             ],
             [
              0.1111111111111111,
              "#46039f"
             ],
             [
              0.2222222222222222,
              "#7201a8"
             ],
             [
              0.3333333333333333,
              "#9c179e"
             ],
             [
              0.4444444444444444,
              "#bd3786"
             ],
             [
              0.5555555555555556,
              "#d8576b"
             ],
             [
              0.6666666666666666,
              "#ed7953"
             ],
             [
              0.7777777777777778,
              "#fb9f3a"
             ],
             [
              0.8888888888888888,
              "#fdca26"
             ],
             [
              1,
              "#f0f921"
             ]
            ],
            "type": "histogram2dcontour"
           }
          ],
          "mesh3d": [
           {
            "colorbar": {
             "outlinewidth": 0,
             "ticks": ""
            },
            "type": "mesh3d"
           }
          ],
          "parcoords": [
           {
            "line": {
             "colorbar": {
              "outlinewidth": 0,
              "ticks": ""
             }
            },
            "type": "parcoords"
           }
          ],
          "pie": [
           {
            "automargin": true,
            "type": "pie"
           }
          ],
          "scatter": [
           {
            "fillpattern": {
             "fillmode": "overlay",
             "size": 10,
             "solidity": 0.2
            },
            "type": "scatter"
           }
          ],
          "scatter3d": [
           {
            "line": {
             "colorbar": {
              "outlinewidth": 0,
              "ticks": ""
             }
            },
            "marker": {
             "colorbar": {
              "outlinewidth": 0,
              "ticks": ""
             }
            },
            "type": "scatter3d"
           }
          ],
          "scattercarpet": [
           {
            "marker": {
             "colorbar": {
              "outlinewidth": 0,
              "ticks": ""
             }
            },
            "type": "scattercarpet"
           }
          ],
          "scattergeo": [
           {
            "marker": {
             "colorbar": {
              "outlinewidth": 0,
              "ticks": ""
             }
            },
            "type": "scattergeo"
           }
          ],
          "scattergl": [
           {
            "marker": {
             "colorbar": {
              "outlinewidth": 0,
              "ticks": ""
             }
            },
            "type": "scattergl"
           }
          ],
          "scattermap": [
           {
            "marker": {
             "colorbar": {
              "outlinewidth": 0,
              "ticks": ""
             }
            },
            "type": "scattermap"
           }
          ],
          "scattermapbox": [
           {
            "marker": {
             "colorbar": {
              "outlinewidth": 0,
              "ticks": ""
             }
            },
            "type": "scattermapbox"
           }
          ],
          "scatterpolar": [
           {
            "marker": {
             "colorbar": {
              "outlinewidth": 0,
              "ticks": ""
             }
            },
            "type": "scatterpolar"
           }
          ],
          "scatterpolargl": [
           {
            "marker": {
             "colorbar": {
              "outlinewidth": 0,
              "ticks": ""
             }
            },
            "type": "scatterpolargl"
           }
          ],
          "scatterternary": [
           {
            "marker": {
             "colorbar": {
              "outlinewidth": 0,
              "ticks": ""
             }
            },
            "type": "scatterternary"
           }
          ],
          "surface": [
           {
            "colorbar": {
             "outlinewidth": 0,
             "ticks": ""
            },
            "colorscale": [
             [
              0,
              "#0d0887"
             ],
             [
              0.1111111111111111,
              "#46039f"
             ],
             [
              0.2222222222222222,
              "#7201a8"
             ],
             [
              0.3333333333333333,
              "#9c179e"
             ],
             [
              0.4444444444444444,
              "#bd3786"
             ],
             [
              0.5555555555555556,
              "#d8576b"
             ],
             [
              0.6666666666666666,
              "#ed7953"
             ],
             [
              0.7777777777777778,
              "#fb9f3a"
             ],
             [
              0.8888888888888888,
              "#fdca26"
             ],
             [
              1,
              "#f0f921"
             ]
            ],
            "type": "surface"
           }
          ],
          "table": [
           {
            "cells": {
             "fill": {
              "color": "#EBF0F8"
             },
             "line": {
              "color": "white"
             }
            },
            "header": {
             "fill": {
              "color": "#C8D4E3"
             },
             "line": {
              "color": "white"
             }
            },
            "type": "table"
           }
          ]
         },
         "layout": {
          "annotationdefaults": {
           "arrowcolor": "#2a3f5f",
           "arrowhead": 0,
           "arrowwidth": 1
          },
          "autotypenumbers": "strict",
          "coloraxis": {
           "colorbar": {
            "outlinewidth": 0,
            "ticks": ""
           }
          },
          "colorscale": {
           "diverging": [
            [
             0,
             "#8e0152"
            ],
            [
             0.1,
             "#c51b7d"
            ],
            [
             0.2,
             "#de77ae"
            ],
            [
             0.3,
             "#f1b6da"
            ],
            [
             0.4,
             "#fde0ef"
            ],
            [
             0.5,
             "#f7f7f7"
            ],
            [
             0.6,
             "#e6f5d0"
            ],
            [
             0.7,
             "#b8e186"
            ],
            [
             0.8,
             "#7fbc41"
            ],
            [
             0.9,
             "#4d9221"
            ],
            [
             1,
             "#276419"
            ]
           ],
           "sequential": [
            [
             0,
             "#0d0887"
            ],
            [
             0.1111111111111111,
             "#46039f"
            ],
            [
             0.2222222222222222,
             "#7201a8"
            ],
            [
             0.3333333333333333,
             "#9c179e"
            ],
            [
             0.4444444444444444,
             "#bd3786"
            ],
            [
             0.5555555555555556,
             "#d8576b"
            ],
            [
             0.6666666666666666,
             "#ed7953"
            ],
            [
             0.7777777777777778,
             "#fb9f3a"
            ],
            [
             0.8888888888888888,
             "#fdca26"
            ],
            [
             1,
             "#f0f921"
            ]
           ],
           "sequentialminus": [
            [
             0,
             "#0d0887"
            ],
            [
             0.1111111111111111,
             "#46039f"
            ],
            [
             0.2222222222222222,
             "#7201a8"
            ],
            [
             0.3333333333333333,
             "#9c179e"
            ],
            [
             0.4444444444444444,
             "#bd3786"
            ],
            [
             0.5555555555555556,
             "#d8576b"
            ],
            [
             0.6666666666666666,
             "#ed7953"
            ],
            [
             0.7777777777777778,
             "#fb9f3a"
            ],
            [
             0.8888888888888888,
             "#fdca26"
            ],
            [
             1,
             "#f0f921"
            ]
           ]
          },
          "colorway": [
           "#636efa",
           "#EF553B",
           "#00cc96",
           "#ab63fa",
           "#FFA15A",
           "#19d3f3",
           "#FF6692",
           "#B6E880",
           "#FF97FF",
           "#FECB52"
          ],
          "font": {
           "color": "#2a3f5f"
          },
          "geo": {
           "bgcolor": "white",
           "lakecolor": "white",
           "landcolor": "#E5ECF6",
           "showlakes": true,
           "showland": true,
           "subunitcolor": "white"
          },
          "hoverlabel": {
           "align": "left"
          },
          "hovermode": "closest",
          "mapbox": {
           "style": "light"
          },
          "paper_bgcolor": "white",
          "plot_bgcolor": "#E5ECF6",
          "polar": {
           "angularaxis": {
            "gridcolor": "white",
            "linecolor": "white",
            "ticks": ""
           },
           "bgcolor": "#E5ECF6",
           "radialaxis": {
            "gridcolor": "white",
            "linecolor": "white",
            "ticks": ""
           }
          },
          "scene": {
           "xaxis": {
            "backgroundcolor": "#E5ECF6",
            "gridcolor": "white",
            "gridwidth": 2,
            "linecolor": "white",
            "showbackground": true,
            "ticks": "",
            "zerolinecolor": "white"
           },
           "yaxis": {
            "backgroundcolor": "#E5ECF6",
            "gridcolor": "white",
            "gridwidth": 2,
            "linecolor": "white",
            "showbackground": true,
            "ticks": "",
            "zerolinecolor": "white"
           },
           "zaxis": {
            "backgroundcolor": "#E5ECF6",
            "gridcolor": "white",
            "gridwidth": 2,
            "linecolor": "white",
            "showbackground": true,
            "ticks": "",
            "zerolinecolor": "white"
           }
          },
          "shapedefaults": {
           "line": {
            "color": "#2a3f5f"
           }
          },
          "ternary": {
           "aaxis": {
            "gridcolor": "white",
            "linecolor": "white",
            "ticks": ""
           },
           "baxis": {
            "gridcolor": "white",
            "linecolor": "white",
            "ticks": ""
           },
           "bgcolor": "#E5ECF6",
           "caxis": {
            "gridcolor": "white",
            "linecolor": "white",
            "ticks": ""
           }
          },
          "title": {
           "x": 0.05
          },
          "xaxis": {
           "automargin": true,
           "gridcolor": "white",
           "linecolor": "white",
           "ticks": "",
           "title": {
            "standoff": 15
           },
           "zerolinecolor": "white",
           "zerolinewidth": 2
          },
          "yaxis": {
           "automargin": true,
           "gridcolor": "white",
           "linecolor": "white",
           "ticks": "",
           "title": {
            "standoff": 15
           },
           "zerolinecolor": "white",
           "zerolinewidth": 2
          }
         }
        },
        "title": {
         "text": "Haken 3, Trajektorien-Ansatz 1"
        }
       }
      }
     },
     "metadata": {},
     "output_type": "display_data"
    },
    {
     "name": "stdout",
     "output_type": "stream",
     "text": [
      "HTML-Datei '/home/mo/Thesis/Evaluation/Trajektorientests/traj2.html' erfolgreich erstellt!\n"
     ]
    },
    {
     "data": {
      "application/vnd.plotly.v1+json": {
       "config": {
        "plotlyServerURL": "https://plot.ly"
       },
       "data": [
        {
         "color": "rgba(31, 119, 180, 0.8)",
         "name": "P1",
         "opacity": 0.8,
         "type": "mesh3d",
         "x": [
          151.96954218537317,
          158.57920346064955,
          164.78856612322804,
          158.17890484795166
         ],
         "y": [
          -481.64620972556764,
          -478.9217712749426,
          -480.64647453054357,
          -483.3709129811686
         ],
         "z": [
          349.6240674972074,
          346.03382893203275,
          356.1565367715733,
          359.746775336748
         ]
        },
        {
         "marker": {
          "color": "red",
          "size": 3
         },
         "mode": "markers+text",
         "showlegend": false,
         "text": "",
         "textfont": {
          "size": 12
         },
         "textposition": "top center",
         "type": "scatter3d",
         "x": [
          158.3790541543006
         ],
         "y": [
          -481.1463421280556
         ],
         "z": [
          352.89030213439037
         ]
        },
        {
         "line": {
          "color": "rgba(31, 119, 180, 0.8)",
          "width": 4
         },
         "mode": "lines",
         "showlegend": false,
         "type": "scatter3d",
         "x": [
          151.96954218537317,
          158.57920346064955
         ],
         "y": [
          -481.64620972556764,
          -478.9217712749426
         ],
         "z": [
          349.6240674972074,
          346.03382893203275
         ]
        },
        {
         "line": {
          "color": "rgba(31, 119, 180, 0.8)",
          "width": 4
         },
         "mode": "lines",
         "showlegend": false,
         "type": "scatter3d",
         "x": [
          158.57920346064955,
          164.78856612322804
         ],
         "y": [
          -478.9217712749426,
          -480.64647453054357
         ],
         "z": [
          346.03382893203275,
          356.1565367715733
         ]
        },
        {
         "line": {
          "color": "rgba(31, 119, 180, 0.8)",
          "width": 4
         },
         "mode": "lines",
         "showlegend": false,
         "type": "scatter3d",
         "x": [
          164.78856612322804,
          158.17890484795166
         ],
         "y": [
          -480.64647453054357,
          -483.3709129811686
         ],
         "z": [
          356.1565367715733,
          359.746775336748
         ]
        },
        {
         "line": {
          "color": "rgba(31, 119, 180, 0.8)",
          "width": 4
         },
         "mode": "lines",
         "showlegend": false,
         "type": "scatter3d",
         "x": [
          158.17890484795166,
          151.96954218537317
         ],
         "y": [
          -483.3709129811686,
          -481.64620972556764
         ],
         "z": [
          359.746775336748,
          349.6240674972074
         ]
        },
        {
         "color": "rgba(174, 199, 232, 0.8)",
         "name": "P2",
         "opacity": 0.8,
         "type": "mesh3d",
         "x": [
          152.02960859474493,
          158.6392698700213,
          164.8486325325998,
          158.2389712573234
         ],
         "y": [
          -481.5595593543546,
          -478.83512090372955,
          -480.5598241593305,
          -483.28426260995553
         ],
         "z": [
          349.92078596142454,
          346.33054739624987,
          356.45325523579044,
          360.0434938009651
         ]
        },
        {
         "marker": {
          "color": "red",
          "size": 3
         },
         "mode": "markers+text",
         "showlegend": false,
         "text": "",
         "textfont": {
          "size": 12
         },
         "textposition": "top center",
         "type": "scatter3d",
         "x": [
          158.43912056367236
         ],
         "y": [
          -481.05969175684254
         ],
         "z": [
          353.1870205986075
         ]
        },
        {
         "line": {
          "color": "rgba(174, 199, 232, 0.8)",
          "width": 4
         },
         "mode": "lines",
         "showlegend": false,
         "type": "scatter3d",
         "x": [
          152.02960859474493,
          158.6392698700213
         ],
         "y": [
          -481.5595593543546,
          -478.83512090372955
         ],
         "z": [
          349.92078596142454,
          346.33054739624987
         ]
        },
        {
         "line": {
          "color": "rgba(174, 199, 232, 0.8)",
          "width": 4
         },
         "mode": "lines",
         "showlegend": false,
         "type": "scatter3d",
         "x": [
          158.6392698700213,
          164.8486325325998
         ],
         "y": [
          -478.83512090372955,
          -480.5598241593305
         ],
         "z": [
          346.33054739624987,
          356.45325523579044
         ]
        },
        {
         "line": {
          "color": "rgba(174, 199, 232, 0.8)",
          "width": 4
         },
         "mode": "lines",
         "showlegend": false,
         "type": "scatter3d",
         "x": [
          164.8486325325998,
          158.2389712573234
         ],
         "y": [
          -480.5598241593305,
          -483.28426260995553
         ],
         "z": [
          356.45325523579044,
          360.0434938009651
         ]
        },
        {
         "line": {
          "color": "rgba(174, 199, 232, 0.8)",
          "width": 4
         },
         "mode": "lines",
         "showlegend": false,
         "type": "scatter3d",
         "x": [
          158.2389712573234,
          152.02960859474493
         ],
         "y": [
          -483.28426260995553,
          -481.5595593543546
         ],
         "z": [
          360.0434938009651,
          349.92078596142454
         ]
        },
        {
         "color": "rgba(255, 187, 120, 0.8)",
         "name": "P3",
         "opacity": 0.8,
         "type": "mesh3d",
         "x": [
          151.06567753468855,
          157.67533880996493,
          163.8847014725434,
          157.27504019726703
         ],
         "y": [
          -480.0583574601537,
          -477.33391900952864,
          -479.0586222651296,
          -481.78306071575463
         ],
         "z": [
          348.8472670419704,
          345.2570284767957,
          355.3797363163363,
          358.96997488151095
         ]
        },
        {
         "marker": {
          "color": "red",
          "size": 3
         },
         "mode": "markers+text",
         "showlegend": false,
         "text": "P2",
         "textfont": {
          "size": 12
         },
         "textposition": "top center",
         "type": "scatter3d",
         "x": [
          157.47518950361598
         ],
         "y": [
          -479.55848986264164
         ],
         "z": [
          352.11350167915333
         ]
        },
        {
         "line": {
          "color": "rgba(255, 187, 120, 0.8)",
          "width": 4
         },
         "mode": "lines",
         "showlegend": false,
         "type": "scatter3d",
         "x": [
          151.06567753468855,
          157.67533880996493
         ],
         "y": [
          -480.0583574601537,
          -477.33391900952864
         ],
         "z": [
          348.8472670419704,
          345.2570284767957
         ]
        },
        {
         "line": {
          "color": "rgba(255, 187, 120, 0.8)",
          "width": 4
         },
         "mode": "lines",
         "showlegend": false,
         "type": "scatter3d",
         "x": [
          157.67533880996493,
          163.8847014725434
         ],
         "y": [
          -477.33391900952864,
          -479.0586222651296
         ],
         "z": [
          345.2570284767957,
          355.3797363163363
         ]
        },
        {
         "line": {
          "color": "rgba(255, 187, 120, 0.8)",
          "width": 4
         },
         "mode": "lines",
         "showlegend": false,
         "type": "scatter3d",
         "x": [
          163.8847014725434,
          157.27504019726703
         ],
         "y": [
          -479.0586222651296,
          -481.78306071575463
         ],
         "z": [
          355.3797363163363,
          358.96997488151095
         ]
        },
        {
         "line": {
          "color": "rgba(255, 187, 120, 0.8)",
          "width": 4
         },
         "mode": "lines",
         "showlegend": false,
         "type": "scatter3d",
         "x": [
          157.27504019726703,
          151.06567753468855
         ],
         "y": [
          -481.78306071575463,
          -480.0583574601537
         ],
         "z": [
          358.96997488151095,
          348.8472670419704
         ]
        },
        {
         "color": "rgba(152, 223, 138, 0.8)",
         "name": "P4",
         "opacity": 0.8,
         "type": "mesh3d",
         "x": [
          149.93997773635763,
          156.549639011634,
          162.7590016742125,
          156.14934039893612
         ],
         "y": [
          -478.4129597625598,
          -475.6885213119348,
          -477.41322456753574,
          -480.13766301816077
         ],
         "z": [
          348.9118419174802,
          345.32160335230554,
          355.4443111918461,
          359.0345497570208
         ]
        },
        {
         "marker": {
          "color": "red",
          "size": 3
         },
         "mode": "markers+text",
         "showlegend": false,
         "text": "P3",
         "textfont": {
          "size": 12
         },
         "textposition": "top center",
         "type": "scatter3d",
         "x": [
          156.34948970528507
         ],
         "y": [
          -477.9130921650478
         ],
         "z": [
          352.17807655466316
         ]
        },
        {
         "line": {
          "color": "rgba(152, 223, 138, 0.8)",
          "width": 4
         },
         "mode": "lines",
         "showlegend": false,
         "type": "scatter3d",
         "x": [
          149.93997773635763,
          156.549639011634
         ],
         "y": [
          -478.4129597625598,
          -475.6885213119348
         ],
         "z": [
          348.9118419174802,
          345.32160335230554
         ]
        },
        {
         "line": {
          "color": "rgba(152, 223, 138, 0.8)",
          "width": 4
         },
         "mode": "lines",
         "showlegend": false,
         "type": "scatter3d",
         "x": [
          156.549639011634,
          162.7590016742125
         ],
         "y": [
          -475.6885213119348,
          -477.41322456753574
         ],
         "z": [
          345.32160335230554,
          355.4443111918461
         ]
        },
        {
         "line": {
          "color": "rgba(152, 223, 138, 0.8)",
          "width": 4
         },
         "mode": "lines",
         "showlegend": false,
         "type": "scatter3d",
         "x": [
          162.7590016742125,
          156.14934039893612
         ],
         "y": [
          -477.41322456753574,
          -480.13766301816077
         ],
         "z": [
          355.4443111918461,
          359.0345497570208
         ]
        },
        {
         "line": {
          "color": "rgba(152, 223, 138, 0.8)",
          "width": 4
         },
         "mode": "lines",
         "showlegend": false,
         "type": "scatter3d",
         "x": [
          156.14934039893612,
          149.93997773635763
         ],
         "y": [
          -480.13766301816077,
          -478.4129597625598
         ],
         "z": [
          359.0345497570208,
          348.9118419174802
         ]
        },
        {
         "color": "rgba(255, 152, 150, 0.8)",
         "name": "P5",
         "opacity": 0.8,
         "type": "mesh3d",
         "x": [
          148.81461604030036,
          155.42427731557675,
          161.63363997815523,
          155.02397870287885
         ],
         "y": [
          -476.7661882511769,
          -474.0417498005519,
          -475.76645305615284,
          -478.49089150677787
         ],
         "z": [
          348.9765139391045,
          345.38627537392983,
          355.5089832134704,
          359.0992217786451
         ]
        },
        {
         "marker": {
          "color": "red",
          "size": 3
         },
         "mode": "markers+text",
         "showlegend": false,
         "text": "P4",
         "textfont": {
          "size": 12
         },
         "textposition": "top center",
         "type": "scatter3d",
         "x": [
          155.2241280092278
         ],
         "y": [
          -476.2663206536649
         ],
         "z": [
          352.24274857628745
         ]
        },
        {
         "line": {
          "color": "rgba(255, 152, 150, 0.8)",
          "width": 4
         },
         "mode": "lines",
         "showlegend": false,
         "type": "scatter3d",
         "x": [
          148.81461604030036,
          155.42427731557675
         ],
         "y": [
          -476.7661882511769,
          -474.0417498005519
         ],
         "z": [
          348.9765139391045,
          345.38627537392983
         ]
        },
        {
         "line": {
          "color": "rgba(255, 152, 150, 0.8)",
          "width": 4
         },
         "mode": "lines",
         "showlegend": false,
         "type": "scatter3d",
         "x": [
          155.42427731557675,
          161.63363997815523
         ],
         "y": [
          -474.0417498005519,
          -475.76645305615284
         ],
         "z": [
          345.38627537392983,
          355.5089832134704
         ]
        },
        {
         "line": {
          "color": "rgba(255, 152, 150, 0.8)",
          "width": 4
         },
         "mode": "lines",
         "showlegend": false,
         "type": "scatter3d",
         "x": [
          161.63363997815523,
          155.02397870287885
         ],
         "y": [
          -475.76645305615284,
          -478.49089150677787
         ],
         "z": [
          355.5089832134704,
          359.0992217786451
         ]
        },
        {
         "line": {
          "color": "rgba(255, 152, 150, 0.8)",
          "width": 4
         },
         "mode": "lines",
         "showlegend": false,
         "type": "scatter3d",
         "x": [
          155.02397870287885,
          148.81461604030036
         ],
         "y": [
          -478.49089150677787,
          -476.7661882511769
         ],
         "z": [
          359.0992217786451,
          348.9765139391045
         ]
        },
        {
         "color": "rgba(197, 176, 213, 0.8)",
         "name": "P6",
         "opacity": 0.8,
         "type": "mesh3d",
         "x": [
          147.52877537663207,
          154.13843665190845,
          160.34779931448693,
          153.73813803921055
         ],
         "y": [
          -475.2007065517076,
          -472.47626810108255,
          -474.2009713566835,
          -476.92540980730854
         ],
         "z": [
          349.0753134971528,
          345.48507493197815,
          355.6077827715187,
          359.1980213366934
         ]
        },
        {
         "marker": {
          "color": "red",
          "size": 3
         },
         "mode": "markers+text",
         "showlegend": false,
         "text": "P5",
         "textfont": {
          "size": 12
         },
         "textposition": "top center",
         "type": "scatter3d",
         "x": [
          153.9382873455595
         ],
         "y": [
          -474.70083895419555
         ],
         "z": [
          352.34154813433577
         ]
        },
        {
         "line": {
          "color": "rgba(197, 176, 213, 0.8)",
          "width": 4
         },
         "mode": "lines",
         "showlegend": false,
         "type": "scatter3d",
         "x": [
          147.52877537663207,
          154.13843665190845
         ],
         "y": [
          -475.2007065517076,
          -472.47626810108255
         ],
         "z": [
          349.0753134971528,
          345.48507493197815
         ]
        },
        {
         "line": {
          "color": "rgba(197, 176, 213, 0.8)",
          "width": 4
         },
         "mode": "lines",
         "showlegend": false,
         "type": "scatter3d",
         "x": [
          154.13843665190845,
          160.34779931448693
         ],
         "y": [
          -472.47626810108255,
          -474.2009713566835
         ],
         "z": [
          345.48507493197815,
          355.6077827715187
         ]
        },
        {
         "line": {
          "color": "rgba(197, 176, 213, 0.8)",
          "width": 4
         },
         "mode": "lines",
         "showlegend": false,
         "type": "scatter3d",
         "x": [
          160.34779931448693,
          153.73813803921055
         ],
         "y": [
          -474.2009713566835,
          -476.92540980730854
         ],
         "z": [
          355.6077827715187,
          359.1980213366934
         ]
        },
        {
         "line": {
          "color": "rgba(197, 176, 213, 0.8)",
          "width": 4
         },
         "mode": "lines",
         "showlegend": false,
         "type": "scatter3d",
         "x": [
          153.73813803921055,
          147.52877537663207
         ],
         "y": [
          -476.92540980730854,
          -475.2007065517076
         ],
         "z": [
          359.1980213366934,
          349.0753134971528
         ]
        },
        {
         "color": "rgba(140, 86, 75, 0.8)",
         "name": "P7",
         "opacity": 0.8,
         "type": "mesh3d",
         "x": [
          146.08245295518608,
          152.69211423046247,
          158.90147689304095,
          152.29181561776457
         ],
         "y": [
          -473.8812172144214,
          -471.15677876379635,
          -472.8814820193973,
          -475.60592047002234
         ],
         "z": [
          349.2103816582434,
          345.62014309306875,
          355.7428509326093,
          359.333089497784
         ]
        },
        {
         "marker": {
          "color": "red",
          "size": 3
         },
         "mode": "markers+text",
         "showlegend": false,
         "text": "P6",
         "textfont": {
          "size": 12
         },
         "textposition": "top center",
         "type": "scatter3d",
         "x": [
          152.49196492411352
         ],
         "y": [
          -473.38134961690935
         ],
         "z": [
          352.47661629542637
         ]
        },
        {
         "line": {
          "color": "rgba(140, 86, 75, 0.8)",
          "width": 4
         },
         "mode": "lines",
         "showlegend": false,
         "type": "scatter3d",
         "x": [
          146.08245295518608,
          152.69211423046247
         ],
         "y": [
          -473.8812172144214,
          -471.15677876379635
         ],
         "z": [
          349.2103816582434,
          345.62014309306875
         ]
        },
        {
         "line": {
          "color": "rgba(140, 86, 75, 0.8)",
          "width": 4
         },
         "mode": "lines",
         "showlegend": false,
         "type": "scatter3d",
         "x": [
          152.69211423046247,
          158.90147689304095
         ],
         "y": [
          -471.15677876379635,
          -472.8814820193973
         ],
         "z": [
          345.62014309306875,
          355.7428509326093
         ]
        },
        {
         "line": {
          "color": "rgba(140, 86, 75, 0.8)",
          "width": 4
         },
         "mode": "lines",
         "showlegend": false,
         "type": "scatter3d",
         "x": [
          158.90147689304095,
          152.29181561776457
         ],
         "y": [
          -472.8814820193973,
          -475.60592047002234
         ],
         "z": [
          355.7428509326093,
          359.333089497784
         ]
        },
        {
         "line": {
          "color": "rgba(140, 86, 75, 0.8)",
          "width": 4
         },
         "mode": "lines",
         "showlegend": false,
         "type": "scatter3d",
         "x": [
          152.29181561776457,
          146.08245295518608
         ],
         "y": [
          -475.60592047002234,
          -473.8812172144214
         ],
         "z": [
          359.333089497784,
          349.2103816582434
         ]
        },
        {
         "color": "rgba(227, 119, 194, 0.8)",
         "name": "P8",
         "opacity": 0.8,
         "type": "mesh3d",
         "x": [
          144.47505244852695,
          151.08471372380333,
          157.29407638638182,
          150.68441511110544
         ],
         "y": [
          -472.72528991172095,
          -470.0008514610959,
          -471.7255547166969,
          -474.4499931673219
         ],
         "z": [
          349.37900113820757,
          345.7887625730329,
          355.91147041257346,
          359.50170897774814
         ]
        },
        {
         "marker": {
          "color": "red",
          "size": 3
         },
         "mode": "markers+text",
         "showlegend": false,
         "text": "P7",
         "textfont": {
          "size": 12
         },
         "textposition": "top center",
         "type": "scatter3d",
         "x": [
          150.88456441745438
         ],
         "y": [
          -472.2254223142089
         ],
         "z": [
          352.6452357753905
         ]
        },
        {
         "line": {
          "color": "rgba(227, 119, 194, 0.8)",
          "width": 4
         },
         "mode": "lines",
         "showlegend": false,
         "type": "scatter3d",
         "x": [
          144.47505244852695,
          151.08471372380333
         ],
         "y": [
          -472.72528991172095,
          -470.0008514610959
         ],
         "z": [
          349.37900113820757,
          345.7887625730329
         ]
        },
        {
         "line": {
          "color": "rgba(227, 119, 194, 0.8)",
          "width": 4
         },
         "mode": "lines",
         "showlegend": false,
         "type": "scatter3d",
         "x": [
          151.08471372380333,
          157.29407638638182
         ],
         "y": [
          -470.0008514610959,
          -471.7255547166969
         ],
         "z": [
          345.7887625730329,
          355.91147041257346
         ]
        },
        {
         "line": {
          "color": "rgba(227, 119, 194, 0.8)",
          "width": 4
         },
         "mode": "lines",
         "showlegend": false,
         "type": "scatter3d",
         "x": [
          157.29407638638182,
          150.68441511110544
         ],
         "y": [
          -471.7255547166969,
          -474.4499931673219
         ],
         "z": [
          355.91147041257346,
          359.50170897774814
         ]
        },
        {
         "line": {
          "color": "rgba(227, 119, 194, 0.8)",
          "width": 4
         },
         "mode": "lines",
         "showlegend": false,
         "type": "scatter3d",
         "x": [
          150.68441511110544,
          144.47505244852695
         ],
         "y": [
          -474.4499931673219,
          -472.72528991172095
         ],
         "z": [
          359.50170897774814,
          349.37900113820757
         ]
        },
        {
         "color": "rgba(127, 127, 127, 0.8)",
         "name": "P9",
         "opacity": 0.8,
         "type": "mesh3d",
         "x": [
          142.58150645623843,
          149.1911677315148,
          155.4005303940933,
          148.79086911881691
         ],
         "y": [
          -472.24138405836453,
          -469.5169456077395,
          -471.24164886334046,
          -473.9660873139655
         ],
         "z": [
          348.50827549797947,
          344.9180369328048,
          355.04074477234536,
          358.63098333752004
         ]
        },
        {
         "marker": {
          "color": "red",
          "size": 3
         },
         "mode": "markers+text",
         "showlegend": false,
         "text": "P8",
         "textfont": {
          "size": 12
         },
         "textposition": "top center",
         "type": "scatter3d",
         "x": [
          148.99101842516586
         ],
         "y": [
          -471.7415164608525
         ],
         "z": [
          351.7745101351624
         ]
        },
        {
         "line": {
          "color": "rgba(127, 127, 127, 0.8)",
          "width": 4
         },
         "mode": "lines",
         "showlegend": false,
         "type": "scatter3d",
         "x": [
          142.58150645623843,
          149.1911677315148
         ],
         "y": [
          -472.24138405836453,
          -469.5169456077395
         ],
         "z": [
          348.50827549797947,
          344.9180369328048
         ]
        },
        {
         "line": {
          "color": "rgba(127, 127, 127, 0.8)",
          "width": 4
         },
         "mode": "lines",
         "showlegend": false,
         "type": "scatter3d",
         "x": [
          149.1911677315148,
          155.4005303940933
         ],
         "y": [
          -469.5169456077395,
          -471.24164886334046
         ],
         "z": [
          344.9180369328048,
          355.04074477234536
         ]
        },
        {
         "line": {
          "color": "rgba(127, 127, 127, 0.8)",
          "width": 4
         },
         "mode": "lines",
         "showlegend": false,
         "type": "scatter3d",
         "x": [
          155.4005303940933,
          148.79086911881691
         ],
         "y": [
          -471.24164886334046,
          -473.9660873139655
         ],
         "z": [
          355.04074477234536,
          358.63098333752004
         ]
        },
        {
         "line": {
          "color": "rgba(127, 127, 127, 0.8)",
          "width": 4
         },
         "mode": "lines",
         "showlegend": false,
         "type": "scatter3d",
         "x": [
          148.79086911881691,
          142.58150645623843
         ],
         "y": [
          -473.9660873139655,
          -472.24138405836453
         ],
         "z": [
          358.63098333752004,
          348.50827549797947
         ]
        },
        {
         "color": "rgba(188, 189, 34, 0.8)",
         "name": "P10",
         "opacity": 0.8,
         "type": "mesh3d",
         "x": [
          140.54055841651788,
          147.15021969179426,
          153.35958235437275,
          146.74992107909637
         ],
         "y": [
          -472.25266232510836,
          -469.52822387448333,
          -471.2529271300843,
          -473.9773655807093
         ],
         "z": [
          347.68877788110717,
          344.0985393159325,
          354.22124715547307,
          357.81148572064774
         ]
        },
        {
         "marker": {
          "color": "red",
          "size": 3
         },
         "mode": "markers+text",
         "showlegend": false,
         "text": "P9",
         "textfont": {
          "size": 12
         },
         "textposition": "top center",
         "type": "scatter3d",
         "x": [
          146.95007038544531
         ],
         "y": [
          -471.7527947275963
         ],
         "z": [
          350.9550125182901
         ]
        },
        {
         "line": {
          "color": "rgba(188, 189, 34, 0.8)",
          "width": 4
         },
         "mode": "lines",
         "showlegend": false,
         "type": "scatter3d",
         "x": [
          140.54055841651788,
          147.15021969179426
         ],
         "y": [
          -472.25266232510836,
          -469.52822387448333
         ],
         "z": [
          347.68877788110717,
          344.0985393159325
         ]
        },
        {
         "line": {
          "color": "rgba(188, 189, 34, 0.8)",
          "width": 4
         },
         "mode": "lines",
         "showlegend": false,
         "type": "scatter3d",
         "x": [
          147.15021969179426,
          153.35958235437275
         ],
         "y": [
          -469.52822387448333,
          -471.2529271300843
         ],
         "z": [
          344.0985393159325,
          354.22124715547307
         ]
        },
        {
         "line": {
          "color": "rgba(188, 189, 34, 0.8)",
          "width": 4
         },
         "mode": "lines",
         "showlegend": false,
         "type": "scatter3d",
         "x": [
          153.35958235437275,
          146.74992107909637
         ],
         "y": [
          -471.2529271300843,
          -473.9773655807093
         ],
         "z": [
          354.22124715547307,
          357.81148572064774
         ]
        },
        {
         "line": {
          "color": "rgba(188, 189, 34, 0.8)",
          "width": 4
         },
         "mode": "lines",
         "showlegend": false,
         "type": "scatter3d",
         "x": [
          146.74992107909637,
          140.54055841651788
         ],
         "y": [
          -473.9773655807093,
          -472.25266232510836
         ],
         "z": [
          357.81148572064774,
          347.68877788110717
         ]
        },
        {
         "color": "rgba(23, 190, 207, 0.8)",
         "name": "P11",
         "opacity": 0.8,
         "type": "mesh3d",
         "x": [
          138.57119229759772,
          145.1808535728741,
          151.39021623545258,
          144.7805549601762
         ],
         "y": [
          -472.0742634605726,
          -469.34982500994755,
          -471.0745282655485,
          -473.79896671617354
         ],
         "z": [
          349.05704723378415,
          345.4668086686095,
          355.58951650815004,
          359.1797550733247
         ]
        },
        {
         "marker": {
          "color": "red",
          "size": 3
         },
         "mode": "markers+text",
         "showlegend": false,
         "text": "",
         "textfont": {
          "size": 12
         },
         "textposition": "top center",
         "type": "scatter3d",
         "x": [
          144.98070426652515
         ],
         "y": [
          -471.57439586306054
         ],
         "z": [
          352.3232818709671
         ]
        },
        {
         "line": {
          "color": "rgba(23, 190, 207, 0.8)",
          "width": 4
         },
         "mode": "lines",
         "showlegend": false,
         "type": "scatter3d",
         "x": [
          138.57119229759772,
          145.1808535728741
         ],
         "y": [
          -472.0742634605726,
          -469.34982500994755
         ],
         "z": [
          349.05704723378415,
          345.4668086686095
         ]
        },
        {
         "line": {
          "color": "rgba(23, 190, 207, 0.8)",
          "width": 4
         },
         "mode": "lines",
         "showlegend": false,
         "type": "scatter3d",
         "x": [
          145.1808535728741,
          151.39021623545258
         ],
         "y": [
          -469.34982500994755,
          -471.0745282655485
         ],
         "z": [
          345.4668086686095,
          355.58951650815004
         ]
        },
        {
         "line": {
          "color": "rgba(23, 190, 207, 0.8)",
          "width": 4
         },
         "mode": "lines",
         "showlegend": false,
         "type": "scatter3d",
         "x": [
          151.39021623545258,
          144.7805549601762
         ],
         "y": [
          -471.0745282655485,
          -473.79896671617354
         ],
         "z": [
          355.58951650815004,
          359.1797550733247
         ]
        },
        {
         "line": {
          "color": "rgba(23, 190, 207, 0.8)",
          "width": 4
         },
         "mode": "lines",
         "showlegend": false,
         "type": "scatter3d",
         "x": [
          144.7805549601762,
          138.57119229759772
         ],
         "y": [
          -473.79896671617354,
          -472.0742634605726
         ],
         "z": [
          359.1797550733247,
          349.05704723378415
         ]
        },
        {
         "line": {
          "color": "black",
          "width": 2
         },
         "mode": "lines",
         "name": "Berechnete Hakenlinie",
         "type": "scatter3d",
         "x": {
          "bdata": "SoQtNiHMY0Aqf5FGDc5jQNwtnsA0r2NAns8IBS+LY0AIuIAOLGdjQLjtLnMGPmNAGHs5Lb4PY0CAhQlaTtxiQES6RWy2n2JAWEwC+mZeYkC++OntYR9iQA==",
          "dtype": "f8"
         },
         "y": {
          "bdata": "auDXalcSfsCs91d/9BB+wBjzEJPv+H3A07GHBpzefcDXG3LZQsR9wIZA6KI2q33AfE8OAhqWfcAOtW1Um4N9wOpMXUDde33ACvp7cgt8fcDYbLe5MHl9wA==",
          "dtype": "f8"
         },
         "z": {
          "bdata": "QGxzrT4OdkApq08J/hJ2QBMAI+fQAXZAZyfNZtkCdkDixFRM4gN2QLYvLft2BXZAjZloOKAHdkAvmL/iUgp2QBdPvWRk/HVAOtU0u0fvdUAYc5wpLAV2QA==",
          "dtype": "f8"
         }
        },
        {
         "mode": "text",
         "showlegend": false,
         "text": [
          "Pre-Position"
         ],
         "textfont": {
          "size": 10
         },
         "textposition": "top center",
         "type": "scatter3d",
         "x": [
          158.3790541543006
         ],
         "y": [
          -481.1463421280556
         ],
         "z": [
          352.89030213439037
         ]
        },
        {
         "mode": "text",
         "showlegend": false,
         "text": [
          "Loslassen"
         ],
         "textfont": {
          "size": 10
         },
         "textposition": "top center",
         "type": "scatter3d",
         "x": [
          144.98070426652515
         ],
         "y": [
          -471.57439586306054
         ],
         "z": [
          352.3232818709671
         ]
        },
        {
         "color": "rgba(0,255,0,0.2)",
         "name": "optimale Trajektorie",
         "opacity": 0.8,
         "type": "mesh3d",
         "x": [
          154.63437388380015,
          162.3106875652591,
          162.12373138440495,
          154.447417702946
         ],
         "y": [
          -482.1840103894636,
          -479.9365352997564,
          -480.10867369788906,
          -482.3561487875963
         ],
         "z": [
          346.8157146726451,
          346.9675829872873,
          358.9648916754194,
          358.81302336077715
         ]
        },
        {
         "line": {
          "color": "rgba(0,255,0,0.2)",
          "width": 3
         },
         "mode": "lines",
         "showlegend": false,
         "type": "scatter3d",
         "x": [
          154.63437388380015,
          162.3106875652591
         ],
         "y": [
          -482.1840103894636,
          -479.9365352997564
         ],
         "z": [
          346.8157146726451,
          346.9675829872873
         ]
        },
        {
         "line": {
          "color": "rgba(0,255,0,0.2)",
          "width": 3
         },
         "mode": "lines",
         "showlegend": false,
         "type": "scatter3d",
         "x": [
          162.3106875652591,
          162.12373138440495
         ],
         "y": [
          -479.9365352997564,
          -480.10867369788906
         ],
         "z": [
          346.9675829872873,
          358.9648916754194
         ]
        },
        {
         "line": {
          "color": "rgba(0,255,0,0.2)",
          "width": 3
         },
         "mode": "lines",
         "showlegend": false,
         "type": "scatter3d",
         "x": [
          162.12373138440495,
          154.447417702946
         ],
         "y": [
          -480.10867369788906,
          -482.3561487875963
         ],
         "z": [
          358.9648916754194,
          358.81302336077715
         ]
        },
        {
         "line": {
          "color": "rgba(0,255,0,0.2)",
          "width": 3
         },
         "mode": "lines",
         "showlegend": false,
         "type": "scatter3d",
         "x": [
          154.447417702946,
          154.63437388380015
         ],
         "y": [
          -482.3561487875963,
          -482.1840103894636
         ],
         "z": [
          358.81302336077715,
          346.8157146726451
         ]
        },
        {
         "marker": {
          "color": "green",
          "size": 4
         },
         "mode": "markers",
         "name": "Mitte P11",
         "showlegend": false,
         "type": "scatter3d",
         "x": [
          158.37905263410255
         ],
         "y": [
          -481.1463420436763
         ],
         "z": [
          352.8903031740322
         ]
        },
        {
         "color": "rgba(0,255,0,0.2)",
         "name": "optimale Trajektorie",
         "opacity": 0.8,
         "type": "mesh3d",
         "x": [
          157.07389154920628,
          164.06834371470626,
          161.47110243773096,
          154.47665027223098
         ],
         "y": [
          -480.0554487908449,
          -476.7861838866203,
          -478.64261253768694,
          -481.91187744191154
         ],
         "z": [
          346.40474140850966,
          348.49986572237225,
          360.0674069655524,
          357.9722826516898
         ]
        },
        {
         "line": {
          "color": "rgba(0,255,0,0.2)",
          "width": 3
         },
         "mode": "lines",
         "showlegend": false,
         "type": "scatter3d",
         "x": [
          157.07389154920628,
          164.06834371470626
         ],
         "y": [
          -480.0554487908449,
          -476.7861838866203
         ],
         "z": [
          346.40474140850966,
          348.49986572237225
         ]
        },
        {
         "line": {
          "color": "rgba(0,255,0,0.2)",
          "width": 3
         },
         "mode": "lines",
         "showlegend": false,
         "type": "scatter3d",
         "x": [
          164.06834371470626,
          161.47110243773096
         ],
         "y": [
          -476.7861838866203,
          -478.64261253768694
         ],
         "z": [
          348.49986572237225,
          360.0674069655524
         ]
        },
        {
         "line": {
          "color": "rgba(0,255,0,0.2)",
          "width": 3
         },
         "mode": "lines",
         "showlegend": false,
         "type": "scatter3d",
         "x": [
          161.47110243773096,
          154.47665027223098
         ],
         "y": [
          -478.64261253768694,
          -481.91187744191154
         ],
         "z": [
          360.0674069655524,
          357.9722826516898
         ]
        },
        {
         "line": {
          "color": "rgba(0,255,0,0.2)",
          "width": 3
         },
         "mode": "lines",
         "showlegend": false,
         "type": "scatter3d",
         "x": [
          154.47665027223098,
          157.07389154920628
         ],
         "y": [
          -481.91187744191154,
          -480.0554487908449
         ],
         "z": [
          357.9722826516898,
          346.40474140850966
         ]
        },
        {
         "marker": {
          "color": "green",
          "size": 4
         },
         "mode": "markers",
         "name": "Mitte P11",
         "showlegend": false,
         "type": "scatter3d",
         "x": [
          159.27249699346862
         ],
         "y": [
          -479.3490306642659
         ],
         "z": [
          353.236074187031
         ]
        },
        {
         "color": "rgba(0,255,0,0.2)",
         "name": "optimale Trajektorie",
         "opacity": 0.8,
         "type": "mesh3d",
         "x": [
          154.10459206375154,
          159.95516476592132,
          158.04796273947872,
          152.19739003730894
         ],
         "y": [
          -475.9700075280206,
          -470.8915124220568,
          -473.2547157780506,
          -478.33321088401436
         ],
         "z": [
          347.6144405058793,
          349.60935567082436,
          361.21874197366367,
          359.2238268087186
         ]
        },
        {
         "line": {
          "color": "rgba(0,255,0,0.2)",
          "width": 3
         },
         "mode": "lines",
         "showlegend": false,
         "type": "scatter3d",
         "x": [
          154.10459206375154,
          159.95516476592132
         ],
         "y": [
          -475.9700075280206,
          -470.8915124220568
         ],
         "z": [
          347.6144405058793,
          349.60935567082436
         ]
        },
        {
         "line": {
          "color": "rgba(0,255,0,0.2)",
          "width": 3
         },
         "mode": "lines",
         "showlegend": false,
         "type": "scatter3d",
         "x": [
          159.95516476592132,
          158.04796273947872
         ],
         "y": [
          -470.8915124220568,
          -473.2547157780506
         ],
         "z": [
          349.60935567082436,
          361.21874197366367
         ]
        },
        {
         "line": {
          "color": "rgba(0,255,0,0.2)",
          "width": 3
         },
         "mode": "lines",
         "showlegend": false,
         "type": "scatter3d",
         "x": [
          158.04796273947872,
          152.19739003730894
         ],
         "y": [
          -473.2547157780506,
          -478.33321088401436
         ],
         "z": [
          361.21874197366367,
          359.2238268087186
         ]
        },
        {
         "line": {
          "color": "rgba(0,255,0,0.2)",
          "width": 3
         },
         "mode": "lines",
         "showlegend": false,
         "type": "scatter3d",
         "x": [
          152.19739003730894,
          154.10459206375154
         ],
         "y": [
          -478.33321088401436,
          -475.9700075280206
         ],
         "z": [
          359.2238268087186,
          347.6144405058793
         ]
        },
        {
         "marker": {
          "color": "green",
          "size": 4
         },
         "mode": "markers",
         "name": "Mitte P11",
         "showlegend": false,
         "type": "scatter3d",
         "x": [
          156.07627740161513
         ],
         "y": [
          -474.6123616530355
         ],
         "z": [
          354.4165912397715
         ]
        },
        {
         "color": "rgba(0,255,0,0.2)",
         "name": "optimale Trajektorie",
         "opacity": 0.8,
         "type": "mesh3d",
         "x": [
          152.1911065854075,
          156.92251794974118,
          155.6527892861094,
          150.92137792177573
         ],
         "y": [
          -472.48423970231454,
          -466.32280846538106,
          -468.9567576269086,
          -475.1181888638421
         ],
         "z": [
          348.7757439903779,
          350.6863751986425,
          362.3246783797441,
          360.4140471714795
         ]
        },
        {
         "line": {
          "color": "rgba(0,255,0,0.2)",
          "width": 3
         },
         "mode": "lines",
         "showlegend": false,
         "type": "scatter3d",
         "x": [
          152.1911065854075,
          156.92251794974118
         ],
         "y": [
          -472.48423970231454,
          -466.32280846538106
         ],
         "z": [
          348.7757439903779,
          350.6863751986425
         ]
        },
        {
         "line": {
          "color": "rgba(0,255,0,0.2)",
          "width": 3
         },
         "mode": "lines",
         "showlegend": false,
         "type": "scatter3d",
         "x": [
          156.92251794974118,
          155.6527892861094
         ],
         "y": [
          -466.32280846538106,
          -468.9567576269086
         ],
         "z": [
          350.6863751986425,
          362.3246783797441
         ]
        },
        {
         "line": {
          "color": "rgba(0,255,0,0.2)",
          "width": 3
         },
         "mode": "lines",
         "showlegend": false,
         "type": "scatter3d",
         "x": [
          155.6527892861094,
          150.92137792177573
         ],
         "y": [
          -468.9567576269086,
          -475.1181888638421
         ],
         "z": [
          362.3246783797441,
          360.4140471714795
         ]
        },
        {
         "line": {
          "color": "rgba(0,255,0,0.2)",
          "width": 3
         },
         "mode": "lines",
         "showlegend": false,
         "type": "scatter3d",
         "x": [
          150.92137792177573,
          152.1911065854075
         ],
         "y": [
          -475.1181888638421,
          -472.48423970231454
         ],
         "z": [
          360.4140471714795,
          348.7757439903779
         ]
        },
        {
         "marker": {
          "color": "green",
          "size": 4
         },
         "mode": "markers",
         "name": "Mitte P11",
         "showlegend": false,
         "type": "scatter3d",
         "x": [
          153.92194793575845
         ],
         "y": [
          -470.72049866461157
         ],
         "z": [
          355.550211185061
         ]
        },
        {
         "color": "rgba(0,255,0,0.2)",
         "name": "optimale Trajektorie",
         "opacity": 0.8,
         "type": "mesh3d",
         "x": [
          146.87509792087917,
          150.59208757901857,
          149.87628067705214,
          146.15929101891274
         ],
         "y": [
          -470.96487534278214,
          -464.1027596509518,
          -466.7124342415888,
          -473.5745499334192
         ],
         "z": [
          349.2935996522149,
          351.0529620688932,
          362.74386532784115,
          360.98450291116285
         ]
        },
        {
         "line": {
          "color": "rgba(0,255,0,0.2)",
          "width": 3
         },
         "mode": "lines",
         "showlegend": false,
         "type": "scatter3d",
         "x": [
          146.87509792087917,
          150.59208757901857
         ],
         "y": [
          -470.96487534278214,
          -464.1027596509518
         ],
         "z": [
          349.2935996522149,
          351.0529620688932
         ]
        },
        {
         "line": {
          "color": "rgba(0,255,0,0.2)",
          "width": 3
         },
         "mode": "lines",
         "showlegend": false,
         "type": "scatter3d",
         "x": [
          150.59208757901857,
          149.87628067705214
         ],
         "y": [
          -464.1027596509518,
          -466.7124342415888
         ],
         "z": [
          351.0529620688932,
          362.74386532784115
         ]
        },
        {
         "line": {
          "color": "rgba(0,255,0,0.2)",
          "width": 3
         },
         "mode": "lines",
         "showlegend": false,
         "type": "scatter3d",
         "x": [
          149.87628067705214,
          146.15929101891274
         ],
         "y": [
          -466.7124342415888,
          -473.5745499334192
         ],
         "z": [
          362.74386532784115,
          360.98450291116285
         ]
        },
        {
         "line": {
          "color": "rgba(0,255,0,0.2)",
          "width": 3
         },
         "mode": "lines",
         "showlegend": false,
         "type": "scatter3d",
         "x": [
          146.15929101891274,
          146.87509792087917
         ],
         "y": [
          -473.5745499334192,
          -470.96487534278214
         ],
         "z": [
          360.98450291116285,
          349.2935996522149
         ]
        },
        {
         "marker": {
          "color": "green",
          "size": 4
         },
         "mode": "markers",
         "name": "Mitte P11",
         "showlegend": false,
         "type": "scatter3d",
         "x": [
          148.37568929896565
         ],
         "y": [
          -468.8386547921855
         ],
         "z": [
          356.018732490028
         ]
        },
        {
         "color": "rgba(0,255,0,0.2)",
         "name": "optimale Trajektorie",
         "opacity": 0.8,
         "type": "mesh3d",
         "x": [
          143.74357601688587,
          145.26811337286884,
          146.58465554900783,
          145.06011819302486
         ],
         "y": [
          -472.1085783404218,
          -464.31864672275196,
          -466.08507077285105,
          -473.8750023905209
         ],
         "z": [
          350.02093713609173,
          351.01730616523713,
          362.8133420575901,
          361.8169730284447
         ]
        },
        {
         "line": {
          "color": "rgba(0,255,0,0.2)",
          "width": 3
         },
         "mode": "lines",
         "showlegend": false,
         "type": "scatter3d",
         "x": [
          143.74357601688587,
          145.26811337286884
         ],
         "y": [
          -472.1085783404218,
          -464.31864672275196
         ],
         "z": [
          350.02093713609173,
          351.01730616523713
         ]
        },
        {
         "line": {
          "color": "rgba(0,255,0,0.2)",
          "width": 3
         },
         "mode": "lines",
         "showlegend": false,
         "type": "scatter3d",
         "x": [
          145.26811337286884,
          146.58465554900783
         ],
         "y": [
          -464.31864672275196,
          -466.08507077285105
         ],
         "z": [
          351.01730616523713,
          362.8133420575901
         ]
        },
        {
         "line": {
          "color": "rgba(0,255,0,0.2)",
          "width": 3
         },
         "mode": "lines",
         "showlegend": false,
         "type": "scatter3d",
         "x": [
          146.58465554900783,
          145.06011819302486
         ],
         "y": [
          -466.08507077285105,
          -473.8750023905209
         ],
         "z": [
          362.8133420575901,
          361.8169730284447
         ]
        },
        {
         "line": {
          "color": "rgba(0,255,0,0.2)",
          "width": 3
         },
         "mode": "lines",
         "showlegend": false,
         "type": "scatter3d",
         "x": [
          145.06011819302486,
          143.74357601688587
         ],
         "y": [
          -473.8750023905209,
          -472.1085783404218
         ],
         "z": [
          361.8169730284447,
          350.02093713609173
         ]
        },
        {
         "marker": {
          "color": "green",
          "size": 4
         },
         "mode": "markers",
         "name": "Mitte P11",
         "showlegend": false,
         "type": "scatter3d",
         "x": [
          145.16411578294685
         ],
         "y": [
          -469.0968245566364
         ],
         "z": [
          356.4171395968409
         ]
        },
        {
         "line": {
          "color": "green",
          "width": 2
         },
         "mode": "lines",
         "name": "Optimale Hakenlinie",
         "type": "scatter3d",
         "x": {
          "bdata": "3F39MiHMY0CYZp1LuOhjQIwrTt1wgmNAUBb1mIA9Y0B4kJClBYxiQHQQvm9AJWJA",
          "dtype": "f8"
         },
         "y": {
          "bdata": "6jnBalcSfsAshS2hlfV9wMuRuzvMqX3AGJWbKYdrfcAgkUkha019wEAD6JeMUX3A",
          "dtype": "f8"
         },
         "z": {
          "bdata": "5X+Krj4OdkCmC7r1xhN2QOZpk1uqJnZAsFs+qs04dkCwgHC6TEB2QMbkkZqsRnZA",
          "dtype": "f8"
         }
        },
        {
         "line": {
          "color": "gray",
          "dash": "dash"
         },
         "mode": "lines",
         "name": "Direkte Gerade Spitze -> Senke",
         "type": "scatter3d",
         "x": [
          158.43912056367236,
          144.98070426652515
         ],
         "y": [
          -481.05969175684254,
          -471.57439586306054
         ],
         "z": [
          353.1870205986075,
          352.3232818709671
         ]
        },
        {
         "marker": {
          "color": "magenta",
          "size": 8
         },
         "mode": "markers",
         "name": "Spitze",
         "type": "scatter3d",
         "x": [
          158.43912056367236
         ],
         "y": [
          -481.05969175684254
         ],
         "z": [
          353.1870205986075
         ]
        },
        {
         "marker": {
          "color": "magenta",
          "size": 8
         },
         "mode": "markers",
         "name": "Senke",
         "type": "scatter3d",
         "x": [
          144.98070426652515
         ],
         "y": [
          -471.57439586306054
         ],
         "z": [
          352.3232818709671
         ]
        },
        {
         "mode": "text",
         "showlegend": false,
         "text": [
          "Spitze"
         ],
         "textfont": {
          "size": 10
         },
         "textposition": "top center",
         "type": "scatter3d",
         "x": [
          158.43912056367236
         ],
         "y": [
          -481.05969175684254
         ],
         "z": [
          353.1870205986075
         ]
        },
        {
         "mode": "text",
         "showlegend": false,
         "text": [
          "Senke"
         ],
         "textfont": {
          "size": 10
         },
         "textposition": "top center",
         "type": "scatter3d",
         "x": [
          144.98070426652515
         ],
         "y": [
          -471.57439586306054
         ],
         "z": [
          352.3232818709671
         ]
        }
       ],
       "layout": {
        "legend": {
         "title": {
          "text": "Legende"
         }
        },
        "scene": {
         "aspectmode": "cube",
         "camera": {
          "eye": {
           "x": -1,
           "y": -1,
           "z": -1.5
          },
          "up": {
           "x": 0,
           "y": -1,
           "z": 0
          }
         },
         "xaxis": {
          "title": {
           "text": "X"
          }
         },
         "yaxis": {
          "title": {
           "text": "Y"
          }
         },
         "zaxis": {
          "title": {
           "text": "Z"
          }
         }
        },
        "template": {
         "data": {
          "bar": [
           {
            "error_x": {
             "color": "#2a3f5f"
            },
            "error_y": {
             "color": "#2a3f5f"
            },
            "marker": {
             "line": {
              "color": "#E5ECF6",
              "width": 0.5
             },
             "pattern": {
              "fillmode": "overlay",
              "size": 10,
              "solidity": 0.2
             }
            },
            "type": "bar"
           }
          ],
          "barpolar": [
           {
            "marker": {
             "line": {
              "color": "#E5ECF6",
              "width": 0.5
             },
             "pattern": {
              "fillmode": "overlay",
              "size": 10,
              "solidity": 0.2
             }
            },
            "type": "barpolar"
           }
          ],
          "carpet": [
           {
            "aaxis": {
             "endlinecolor": "#2a3f5f",
             "gridcolor": "white",
             "linecolor": "white",
             "minorgridcolor": "white",
             "startlinecolor": "#2a3f5f"
            },
            "baxis": {
             "endlinecolor": "#2a3f5f",
             "gridcolor": "white",
             "linecolor": "white",
             "minorgridcolor": "white",
             "startlinecolor": "#2a3f5f"
            },
            "type": "carpet"
           }
          ],
          "choropleth": [
           {
            "colorbar": {
             "outlinewidth": 0,
             "ticks": ""
            },
            "type": "choropleth"
           }
          ],
          "contour": [
           {
            "colorbar": {
             "outlinewidth": 0,
             "ticks": ""
            },
            "colorscale": [
             [
              0,
              "#0d0887"
             ],
             [
              0.1111111111111111,
              "#46039f"
             ],
             [
              0.2222222222222222,
              "#7201a8"
             ],
             [
              0.3333333333333333,
              "#9c179e"
             ],
             [
              0.4444444444444444,
              "#bd3786"
             ],
             [
              0.5555555555555556,
              "#d8576b"
             ],
             [
              0.6666666666666666,
              "#ed7953"
             ],
             [
              0.7777777777777778,
              "#fb9f3a"
             ],
             [
              0.8888888888888888,
              "#fdca26"
             ],
             [
              1,
              "#f0f921"
             ]
            ],
            "type": "contour"
           }
          ],
          "contourcarpet": [
           {
            "colorbar": {
             "outlinewidth": 0,
             "ticks": ""
            },
            "type": "contourcarpet"
           }
          ],
          "heatmap": [
           {
            "colorbar": {
             "outlinewidth": 0,
             "ticks": ""
            },
            "colorscale": [
             [
              0,
              "#0d0887"
             ],
             [
              0.1111111111111111,
              "#46039f"
             ],
             [
              0.2222222222222222,
              "#7201a8"
             ],
             [
              0.3333333333333333,
              "#9c179e"
             ],
             [
              0.4444444444444444,
              "#bd3786"
             ],
             [
              0.5555555555555556,
              "#d8576b"
             ],
             [
              0.6666666666666666,
              "#ed7953"
             ],
             [
              0.7777777777777778,
              "#fb9f3a"
             ],
             [
              0.8888888888888888,
              "#fdca26"
             ],
             [
              1,
              "#f0f921"
             ]
            ],
            "type": "heatmap"
           }
          ],
          "histogram": [
           {
            "marker": {
             "pattern": {
              "fillmode": "overlay",
              "size": 10,
              "solidity": 0.2
             }
            },
            "type": "histogram"
           }
          ],
          "histogram2d": [
           {
            "colorbar": {
             "outlinewidth": 0,
             "ticks": ""
            },
            "colorscale": [
             [
              0,
              "#0d0887"
             ],
             [
              0.1111111111111111,
              "#46039f"
             ],
             [
              0.2222222222222222,
              "#7201a8"
             ],
             [
              0.3333333333333333,
              "#9c179e"
             ],
             [
              0.4444444444444444,
              "#bd3786"
             ],
             [
              0.5555555555555556,
              "#d8576b"
             ],
             [
              0.6666666666666666,
              "#ed7953"
             ],
             [
              0.7777777777777778,
              "#fb9f3a"
             ],
             [
              0.8888888888888888,
              "#fdca26"
             ],
             [
              1,
              "#f0f921"
             ]
            ],
            "type": "histogram2d"
           }
          ],
          "histogram2dcontour": [
           {
            "colorbar": {
             "outlinewidth": 0,
             "ticks": ""
            },
            "colorscale": [
             [
              0,
              "#0d0887"
             ],
             [
              0.1111111111111111,
              "#46039f"
             ],
             [
              0.2222222222222222,
              "#7201a8"
             ],
             [
              0.3333333333333333,
              "#9c179e"
             ],
             [
              0.4444444444444444,
              "#bd3786"
             ],
             [
              0.5555555555555556,
              "#d8576b"
             ],
             [
              0.6666666666666666,
              "#ed7953"
             ],
             [
              0.7777777777777778,
              "#fb9f3a"
             ],
             [
              0.8888888888888888,
              "#fdca26"
             ],
             [
              1,
              "#f0f921"
             ]
            ],
            "type": "histogram2dcontour"
           }
          ],
          "mesh3d": [
           {
            "colorbar": {
             "outlinewidth": 0,
             "ticks": ""
            },
            "type": "mesh3d"
           }
          ],
          "parcoords": [
           {
            "line": {
             "colorbar": {
              "outlinewidth": 0,
              "ticks": ""
             }
            },
            "type": "parcoords"
           }
          ],
          "pie": [
           {
            "automargin": true,
            "type": "pie"
           }
          ],
          "scatter": [
           {
            "fillpattern": {
             "fillmode": "overlay",
             "size": 10,
             "solidity": 0.2
            },
            "type": "scatter"
           }
          ],
          "scatter3d": [
           {
            "line": {
             "colorbar": {
              "outlinewidth": 0,
              "ticks": ""
             }
            },
            "marker": {
             "colorbar": {
              "outlinewidth": 0,
              "ticks": ""
             }
            },
            "type": "scatter3d"
           }
          ],
          "scattercarpet": [
           {
            "marker": {
             "colorbar": {
              "outlinewidth": 0,
              "ticks": ""
             }
            },
            "type": "scattercarpet"
           }
          ],
          "scattergeo": [
           {
            "marker": {
             "colorbar": {
              "outlinewidth": 0,
              "ticks": ""
             }
            },
            "type": "scattergeo"
           }
          ],
          "scattergl": [
           {
            "marker": {
             "colorbar": {
              "outlinewidth": 0,
              "ticks": ""
             }
            },
            "type": "scattergl"
           }
          ],
          "scattermap": [
           {
            "marker": {
             "colorbar": {
              "outlinewidth": 0,
              "ticks": ""
             }
            },
            "type": "scattermap"
           }
          ],
          "scattermapbox": [
           {
            "marker": {
             "colorbar": {
              "outlinewidth": 0,
              "ticks": ""
             }
            },
            "type": "scattermapbox"
           }
          ],
          "scatterpolar": [
           {
            "marker": {
             "colorbar": {
              "outlinewidth": 0,
              "ticks": ""
             }
            },
            "type": "scatterpolar"
           }
          ],
          "scatterpolargl": [
           {
            "marker": {
             "colorbar": {
              "outlinewidth": 0,
              "ticks": ""
             }
            },
            "type": "scatterpolargl"
           }
          ],
          "scatterternary": [
           {
            "marker": {
             "colorbar": {
              "outlinewidth": 0,
              "ticks": ""
             }
            },
            "type": "scatterternary"
           }
          ],
          "surface": [
           {
            "colorbar": {
             "outlinewidth": 0,
             "ticks": ""
            },
            "colorscale": [
             [
              0,
              "#0d0887"
             ],
             [
              0.1111111111111111,
              "#46039f"
             ],
             [
              0.2222222222222222,
              "#7201a8"
             ],
             [
              0.3333333333333333,
              "#9c179e"
             ],
             [
              0.4444444444444444,
              "#bd3786"
             ],
             [
              0.5555555555555556,
              "#d8576b"
             ],
             [
              0.6666666666666666,
              "#ed7953"
             ],
             [
              0.7777777777777778,
              "#fb9f3a"
             ],
             [
              0.8888888888888888,
              "#fdca26"
             ],
             [
              1,
              "#f0f921"
             ]
            ],
            "type": "surface"
           }
          ],
          "table": [
           {
            "cells": {
             "fill": {
              "color": "#EBF0F8"
             },
             "line": {
              "color": "white"
             }
            },
            "header": {
             "fill": {
              "color": "#C8D4E3"
             },
             "line": {
              "color": "white"
             }
            },
            "type": "table"
           }
          ]
         },
         "layout": {
          "annotationdefaults": {
           "arrowcolor": "#2a3f5f",
           "arrowhead": 0,
           "arrowwidth": 1
          },
          "autotypenumbers": "strict",
          "coloraxis": {
           "colorbar": {
            "outlinewidth": 0,
            "ticks": ""
           }
          },
          "colorscale": {
           "diverging": [
            [
             0,
             "#8e0152"
            ],
            [
             0.1,
             "#c51b7d"
            ],
            [
             0.2,
             "#de77ae"
            ],
            [
             0.3,
             "#f1b6da"
            ],
            [
             0.4,
             "#fde0ef"
            ],
            [
             0.5,
             "#f7f7f7"
            ],
            [
             0.6,
             "#e6f5d0"
            ],
            [
             0.7,
             "#b8e186"
            ],
            [
             0.8,
             "#7fbc41"
            ],
            [
             0.9,
             "#4d9221"
            ],
            [
             1,
             "#276419"
            ]
           ],
           "sequential": [
            [
             0,
             "#0d0887"
            ],
            [
             0.1111111111111111,
             "#46039f"
            ],
            [
             0.2222222222222222,
             "#7201a8"
            ],
            [
             0.3333333333333333,
             "#9c179e"
            ],
            [
             0.4444444444444444,
             "#bd3786"
            ],
            [
             0.5555555555555556,
             "#d8576b"
            ],
            [
             0.6666666666666666,
             "#ed7953"
            ],
            [
             0.7777777777777778,
             "#fb9f3a"
            ],
            [
             0.8888888888888888,
             "#fdca26"
            ],
            [
             1,
             "#f0f921"
            ]
           ],
           "sequentialminus": [
            [
             0,
             "#0d0887"
            ],
            [
             0.1111111111111111,
             "#46039f"
            ],
            [
             0.2222222222222222,
             "#7201a8"
            ],
            [
             0.3333333333333333,
             "#9c179e"
            ],
            [
             0.4444444444444444,
             "#bd3786"
            ],
            [
             0.5555555555555556,
             "#d8576b"
            ],
            [
             0.6666666666666666,
             "#ed7953"
            ],
            [
             0.7777777777777778,
             "#fb9f3a"
            ],
            [
             0.8888888888888888,
             "#fdca26"
            ],
            [
             1,
             "#f0f921"
            ]
           ]
          },
          "colorway": [
           "#636efa",
           "#EF553B",
           "#00cc96",
           "#ab63fa",
           "#FFA15A",
           "#19d3f3",
           "#FF6692",
           "#B6E880",
           "#FF97FF",
           "#FECB52"
          ],
          "font": {
           "color": "#2a3f5f"
          },
          "geo": {
           "bgcolor": "white",
           "lakecolor": "white",
           "landcolor": "#E5ECF6",
           "showlakes": true,
           "showland": true,
           "subunitcolor": "white"
          },
          "hoverlabel": {
           "align": "left"
          },
          "hovermode": "closest",
          "mapbox": {
           "style": "light"
          },
          "paper_bgcolor": "white",
          "plot_bgcolor": "#E5ECF6",
          "polar": {
           "angularaxis": {
            "gridcolor": "white",
            "linecolor": "white",
            "ticks": ""
           },
           "bgcolor": "#E5ECF6",
           "radialaxis": {
            "gridcolor": "white",
            "linecolor": "white",
            "ticks": ""
           }
          },
          "scene": {
           "xaxis": {
            "backgroundcolor": "#E5ECF6",
            "gridcolor": "white",
            "gridwidth": 2,
            "linecolor": "white",
            "showbackground": true,
            "ticks": "",
            "zerolinecolor": "white"
           },
           "yaxis": {
            "backgroundcolor": "#E5ECF6",
            "gridcolor": "white",
            "gridwidth": 2,
            "linecolor": "white",
            "showbackground": true,
            "ticks": "",
            "zerolinecolor": "white"
           },
           "zaxis": {
            "backgroundcolor": "#E5ECF6",
            "gridcolor": "white",
            "gridwidth": 2,
            "linecolor": "white",
            "showbackground": true,
            "ticks": "",
            "zerolinecolor": "white"
           }
          },
          "shapedefaults": {
           "line": {
            "color": "#2a3f5f"
           }
          },
          "ternary": {
           "aaxis": {
            "gridcolor": "white",
            "linecolor": "white",
            "ticks": ""
           },
           "baxis": {
            "gridcolor": "white",
            "linecolor": "white",
            "ticks": ""
           },
           "bgcolor": "#E5ECF6",
           "caxis": {
            "gridcolor": "white",
            "linecolor": "white",
            "ticks": ""
           }
          },
          "title": {
           "x": 0.05
          },
          "xaxis": {
           "automargin": true,
           "gridcolor": "white",
           "linecolor": "white",
           "ticks": "",
           "title": {
            "standoff": 15
           },
           "zerolinecolor": "white",
           "zerolinewidth": 2
          },
          "yaxis": {
           "automargin": true,
           "gridcolor": "white",
           "linecolor": "white",
           "ticks": "",
           "title": {
            "standoff": 15
           },
           "zerolinecolor": "white",
           "zerolinewidth": 2
          }
         }
        },
        "title": {
         "text": "Haken 3, Trajektorien-Ansatz 2"
        }
       }
      }
     },
     "metadata": {},
     "output_type": "display_data"
    },
    {
     "name": "stdout",
     "output_type": "stream",
     "text": [
      "HTML-Datei '/home/mo/Thesis/Evaluation/Trajektorientests/traj3.html' erfolgreich erstellt!\n"
     ]
    },
    {
     "data": {
      "application/vnd.plotly.v1+json": {
       "config": {
        "plotlyServerURL": "https://plot.ly"
       },
       "data": [
        {
         "color": "rgba(31, 119, 180, 0.8)",
         "name": "P1",
         "opacity": 0.8,
         "type": "mesh3d",
         "x": [
          153.1223258647577,
          160.48272263159768,
          163.6357824438435,
          156.27538567700353
         ],
         "y": [
          -481.89939549821185,
          -479.3131658892941,
          -480.39328875789937,
          -482.9795183668171
         ],
         "z": [
          348.01180663766024,
          346.2409379681511,
          357.7687976311205,
          359.5396663006296
         ]
        },
        {
         "marker": {
          "color": "red",
          "size": 3
         },
         "mode": "markers+text",
         "showlegend": false,
         "text": "",
         "textfont": {
          "size": 12
         },
         "textposition": "top center",
         "type": "scatter3d",
         "x": [
          158.3790541543006
         ],
         "y": [
          -481.1463421280556
         ],
         "z": [
          352.89030213439037
         ]
        },
        {
         "line": {
          "color": "rgba(31, 119, 180, 0.8)",
          "width": 4
         },
         "mode": "lines",
         "showlegend": false,
         "type": "scatter3d",
         "x": [
          153.1223258647577,
          160.48272263159768
         ],
         "y": [
          -481.89939549821185,
          -479.3131658892941
         ],
         "z": [
          348.01180663766024,
          346.2409379681511
         ]
        },
        {
         "line": {
          "color": "rgba(31, 119, 180, 0.8)",
          "width": 4
         },
         "mode": "lines",
         "showlegend": false,
         "type": "scatter3d",
         "x": [
          160.48272263159768,
          163.6357824438435
         ],
         "y": [
          -479.3131658892941,
          -480.39328875789937
         ],
         "z": [
          346.2409379681511,
          357.7687976311205
         ]
        },
        {
         "line": {
          "color": "rgba(31, 119, 180, 0.8)",
          "width": 4
         },
         "mode": "lines",
         "showlegend": false,
         "type": "scatter3d",
         "x": [
          163.6357824438435,
          156.27538567700353
         ],
         "y": [
          -480.39328875789937,
          -482.9795183668171
         ],
         "z": [
          357.7687976311205,
          359.5396663006296
         ]
        },
        {
         "line": {
          "color": "rgba(31, 119, 180, 0.8)",
          "width": 4
         },
         "mode": "lines",
         "showlegend": false,
         "type": "scatter3d",
         "x": [
          156.27538567700353,
          153.1223258647577
         ],
         "y": [
          -482.9795183668171,
          -481.89939549821185
         ],
         "z": [
          359.5396663006296,
          348.01180663766024
         ]
        },
        {
         "color": "rgba(174, 199, 232, 0.8)",
         "name": "P2",
         "opacity": 0.8,
         "type": "mesh3d",
         "x": [
          153.18239227412946,
          160.54278904096944,
          163.69584885321527,
          156.33545208637528
         ],
         "y": [
          -481.8127451269988,
          -479.22651551808104,
          -480.3066383866863,
          -482.89286799560404
         ],
         "z": [
          348.30852510187736,
          346.53765643236824,
          358.0655160953376,
          359.83638476484674
         ]
        },
        {
         "marker": {
          "color": "red",
          "size": 3
         },
         "mode": "markers+text",
         "showlegend": false,
         "text": "",
         "textfont": {
          "size": 12
         },
         "textposition": "top center",
         "type": "scatter3d",
         "x": [
          158.43912056367236
         ],
         "y": [
          -481.05969175684254
         ],
         "z": [
          353.1870205986075
         ]
        },
        {
         "line": {
          "color": "rgba(174, 199, 232, 0.8)",
          "width": 4
         },
         "mode": "lines",
         "showlegend": false,
         "type": "scatter3d",
         "x": [
          153.18239227412946,
          160.54278904096944
         ],
         "y": [
          -481.8127451269988,
          -479.22651551808104
         ],
         "z": [
          348.30852510187736,
          346.53765643236824
         ]
        },
        {
         "line": {
          "color": "rgba(174, 199, 232, 0.8)",
          "width": 4
         },
         "mode": "lines",
         "showlegend": false,
         "type": "scatter3d",
         "x": [
          160.54278904096944,
          163.69584885321527
         ],
         "y": [
          -479.22651551808104,
          -480.3066383866863
         ],
         "z": [
          346.53765643236824,
          358.0655160953376
         ]
        },
        {
         "line": {
          "color": "rgba(174, 199, 232, 0.8)",
          "width": 4
         },
         "mode": "lines",
         "showlegend": false,
         "type": "scatter3d",
         "x": [
          163.69584885321527,
          156.33545208637528
         ],
         "y": [
          -480.3066383866863,
          -482.89286799560404
         ],
         "z": [
          358.0655160953376,
          359.83638476484674
         ]
        },
        {
         "line": {
          "color": "rgba(174, 199, 232, 0.8)",
          "width": 4
         },
         "mode": "lines",
         "showlegend": false,
         "type": "scatter3d",
         "x": [
          156.33545208637528,
          153.18239227412946
         ],
         "y": [
          -482.89286799560404,
          -481.8127451269988
         ],
         "z": [
          359.83638476484674,
          348.30852510187736
         ]
        },
        {
         "color": "rgba(255, 187, 120, 0.8)",
         "name": "P3",
         "opacity": 0.8,
         "type": "mesh3d",
         "x": [
          152.21846121407307,
          159.57885798091306,
          162.73191779315889,
          155.3715210263189
         ],
         "y": [
          -480.3115432327979,
          -477.72531362388014,
          -478.8054364924854,
          -481.39166610140313
         ],
         "z": [
          347.2350061824232,
          345.4641375129141,
          356.99199717588345,
          358.7628658453926
         ]
        },
        {
         "marker": {
          "color": "red",
          "size": 3
         },
         "mode": "markers+text",
         "showlegend": false,
         "text": "P2",
         "textfont": {
          "size": 12
         },
         "textposition": "top center",
         "type": "scatter3d",
         "x": [
          157.47518950361598
         ],
         "y": [
          -479.55848986264164
         ],
         "z": [
          352.11350167915333
         ]
        },
        {
         "line": {
          "color": "rgba(255, 187, 120, 0.8)",
          "width": 4
         },
         "mode": "lines",
         "showlegend": false,
         "type": "scatter3d",
         "x": [
          152.21846121407307,
          159.57885798091306
         ],
         "y": [
          -480.3115432327979,
          -477.72531362388014
         ],
         "z": [
          347.2350061824232,
          345.4641375129141
         ]
        },
        {
         "line": {
          "color": "rgba(255, 187, 120, 0.8)",
          "width": 4
         },
         "mode": "lines",
         "showlegend": false,
         "type": "scatter3d",
         "x": [
          159.57885798091306,
          162.73191779315889
         ],
         "y": [
          -477.72531362388014,
          -478.8054364924854
         ],
         "z": [
          345.4641375129141,
          356.99199717588345
         ]
        },
        {
         "line": {
          "color": "rgba(255, 187, 120, 0.8)",
          "width": 4
         },
         "mode": "lines",
         "showlegend": false,
         "type": "scatter3d",
         "x": [
          162.73191779315889,
          155.3715210263189
         ],
         "y": [
          -478.8054364924854,
          -481.39166610140313
         ],
         "z": [
          356.99199717588345,
          358.7628658453926
         ]
        },
        {
         "line": {
          "color": "rgba(255, 187, 120, 0.8)",
          "width": 4
         },
         "mode": "lines",
         "showlegend": false,
         "type": "scatter3d",
         "x": [
          155.3715210263189,
          152.21846121407307
         ],
         "y": [
          -481.39166610140313,
          -480.3115432327979
         ],
         "z": [
          358.7628658453926,
          347.2350061824232
         ]
        },
        {
         "color": "rgba(152, 223, 138, 0.8)",
         "name": "P4",
         "opacity": 0.8,
         "type": "mesh3d",
         "x": [
          151.09276141574216,
          158.45315818258214,
          161.60621799482797,
          154.245821227988
         ],
         "y": [
          -478.666145535204,
          -476.0799159262863,
          -477.16003879489153,
          -479.74626840380927
         ],
         "z": [
          347.29958105793304,
          345.5287123884239,
          357.0565720513933,
          358.8274407209024
         ]
        },
        {
         "marker": {
          "color": "red",
          "size": 3
         },
         "mode": "markers+text",
         "showlegend": false,
         "text": "P3",
         "textfont": {
          "size": 12
         },
         "textposition": "top center",
         "type": "scatter3d",
         "x": [
          156.34948970528507
         ],
         "y": [
          -477.9130921650477
         ],
         "z": [
          352.17807655466316
         ]
        },
        {
         "line": {
          "color": "rgba(152, 223, 138, 0.8)",
          "width": 4
         },
         "mode": "lines",
         "showlegend": false,
         "type": "scatter3d",
         "x": [
          151.09276141574216,
          158.45315818258214
         ],
         "y": [
          -478.666145535204,
          -476.0799159262863
         ],
         "z": [
          347.29958105793304,
          345.5287123884239
         ]
        },
        {
         "line": {
          "color": "rgba(152, 223, 138, 0.8)",
          "width": 4
         },
         "mode": "lines",
         "showlegend": false,
         "type": "scatter3d",
         "x": [
          158.45315818258214,
          161.60621799482797
         ],
         "y": [
          -476.0799159262863,
          -477.16003879489153
         ],
         "z": [
          345.5287123884239,
          357.0565720513933
         ]
        },
        {
         "line": {
          "color": "rgba(152, 223, 138, 0.8)",
          "width": 4
         },
         "mode": "lines",
         "showlegend": false,
         "type": "scatter3d",
         "x": [
          161.60621799482797,
          154.245821227988
         ],
         "y": [
          -477.16003879489153,
          -479.74626840380927
         ],
         "z": [
          357.0565720513933,
          358.8274407209024
         ]
        },
        {
         "line": {
          "color": "rgba(152, 223, 138, 0.8)",
          "width": 4
         },
         "mode": "lines",
         "showlegend": false,
         "type": "scatter3d",
         "x": [
          154.245821227988,
          151.09276141574216
         ],
         "y": [
          -479.74626840380927,
          -478.666145535204
         ],
         "z": [
          358.8274407209024,
          347.29958105793304
         ]
        },
        {
         "color": "rgba(255, 152, 150, 0.8)",
         "name": "P5",
         "opacity": 0.8,
         "type": "mesh3d",
         "x": [
          149.9673997196849,
          157.32779648652487,
          160.4808562987707,
          153.12045953193072
         ],
         "y": [
          -477.0193740238211,
          -474.4331444149034,
          -475.51326728350864,
          -478.0994968924264
         ],
         "z": [
          347.36425307955733,
          345.5933844100482,
          357.1212440730176,
          358.8921127425267
         ]
        },
        {
         "marker": {
          "color": "red",
          "size": 3
         },
         "mode": "markers+text",
         "showlegend": false,
         "text": "P4",
         "textfont": {
          "size": 12
         },
         "textposition": "top center",
         "type": "scatter3d",
         "x": [
          155.2241280092278
         ],
         "y": [
          -476.26632065366493
         ],
         "z": [
          352.24274857628745
         ]
        },
        {
         "line": {
          "color": "rgba(255, 152, 150, 0.8)",
          "width": 4
         },
         "mode": "lines",
         "showlegend": false,
         "type": "scatter3d",
         "x": [
          149.9673997196849,
          157.32779648652487
         ],
         "y": [
          -477.0193740238211,
          -474.4331444149034
         ],
         "z": [
          347.36425307955733,
          345.5933844100482
         ]
        },
        {
         "line": {
          "color": "rgba(255, 152, 150, 0.8)",
          "width": 4
         },
         "mode": "lines",
         "showlegend": false,
         "type": "scatter3d",
         "x": [
          157.32779648652487,
          160.4808562987707
         ],
         "y": [
          -474.4331444149034,
          -475.51326728350864
         ],
         "z": [
          345.5933844100482,
          357.1212440730176
         ]
        },
        {
         "line": {
          "color": "rgba(255, 152, 150, 0.8)",
          "width": 4
         },
         "mode": "lines",
         "showlegend": false,
         "type": "scatter3d",
         "x": [
          160.4808562987707,
          153.12045953193072
         ],
         "y": [
          -475.51326728350864,
          -478.0994968924264
         ],
         "z": [
          357.1212440730176,
          358.8921127425267
         ]
        },
        {
         "line": {
          "color": "rgba(255, 152, 150, 0.8)",
          "width": 4
         },
         "mode": "lines",
         "showlegend": false,
         "type": "scatter3d",
         "x": [
          153.12045953193072,
          149.9673997196849
         ],
         "y": [
          -478.0994968924264,
          -477.0193740238211
         ],
         "z": [
          358.8921127425267,
          347.36425307955733
         ]
        },
        {
         "color": "rgba(197, 176, 213, 0.8)",
         "name": "P6",
         "opacity": 0.8,
         "type": "mesh3d",
         "x": [
          148.6815590560166,
          156.04195582285658,
          159.1950156351024,
          151.83461886826242
         ],
         "y": [
          -475.4538923243518,
          -472.86766271543405,
          -473.9477855840393,
          -476.53401519295704
         ],
         "z": [
          347.46305263760564,
          345.6921839680965,
          357.2200436310659,
          358.990912300575
         ]
        },
        {
         "marker": {
          "color": "red",
          "size": 3
         },
         "mode": "markers+text",
         "showlegend": false,
         "text": "P5",
         "textfont": {
          "size": 12
         },
         "textposition": "top center",
         "type": "scatter3d",
         "x": [
          153.9382873455595
         ],
         "y": [
          -474.70083895419555
         ],
         "z": [
          352.34154813433577
         ]
        },
        {
         "line": {
          "color": "rgba(197, 176, 213, 0.8)",
          "width": 4
         },
         "mode": "lines",
         "showlegend": false,
         "type": "scatter3d",
         "x": [
          148.6815590560166,
          156.04195582285658
         ],
         "y": [
          -475.4538923243518,
          -472.86766271543405
         ],
         "z": [
          347.46305263760564,
          345.6921839680965
         ]
        },
        {
         "line": {
          "color": "rgba(197, 176, 213, 0.8)",
          "width": 4
         },
         "mode": "lines",
         "showlegend": false,
         "type": "scatter3d",
         "x": [
          156.04195582285658,
          159.1950156351024
         ],
         "y": [
          -472.86766271543405,
          -473.9477855840393
         ],
         "z": [
          345.6921839680965,
          357.2200436310659
         ]
        },
        {
         "line": {
          "color": "rgba(197, 176, 213, 0.8)",
          "width": 4
         },
         "mode": "lines",
         "showlegend": false,
         "type": "scatter3d",
         "x": [
          159.1950156351024,
          151.83461886826242
         ],
         "y": [
          -473.9477855840393,
          -476.53401519295704
         ],
         "z": [
          357.2200436310659,
          358.990912300575
         ]
        },
        {
         "line": {
          "color": "rgba(197, 176, 213, 0.8)",
          "width": 4
         },
         "mode": "lines",
         "showlegend": false,
         "type": "scatter3d",
         "x": [
          151.83461886826242,
          148.6815590560166
         ],
         "y": [
          -476.53401519295704,
          -475.4538923243518
         ],
         "z": [
          358.990912300575,
          347.46305263760564
         ]
        },
        {
         "color": "rgba(140, 86, 75, 0.8)",
         "name": "P7",
         "opacity": 0.8,
         "type": "mesh3d",
         "x": [
          147.2352366345706,
          154.5956334014106,
          157.74869321365642,
          150.38829644681644
         ],
         "y": [
          -474.1344029870656,
          -471.54817337814785,
          -472.6282962467531,
          -475.21452585567084
         ],
         "z": [
          347.59812079869624,
          345.8272521291871,
          357.3551117921565,
          359.1259804616656
         ]
        },
        {
         "marker": {
          "color": "red",
          "size": 3
         },
         "mode": "markers+text",
         "showlegend": false,
         "text": "P6",
         "textfont": {
          "size": 12
         },
         "textposition": "top center",
         "type": "scatter3d",
         "x": [
          152.49196492411352
         ],
         "y": [
          -473.38134961690935
         ],
         "z": [
          352.47661629542637
         ]
        },
        {
         "line": {
          "color": "rgba(140, 86, 75, 0.8)",
          "width": 4
         },
         "mode": "lines",
         "showlegend": false,
         "type": "scatter3d",
         "x": [
          147.2352366345706,
          154.5956334014106
         ],
         "y": [
          -474.1344029870656,
          -471.54817337814785
         ],
         "z": [
          347.59812079869624,
          345.8272521291871
         ]
        },
        {
         "line": {
          "color": "rgba(140, 86, 75, 0.8)",
          "width": 4
         },
         "mode": "lines",
         "showlegend": false,
         "type": "scatter3d",
         "x": [
          154.5956334014106,
          157.74869321365642
         ],
         "y": [
          -471.54817337814785,
          -472.6282962467531
         ],
         "z": [
          345.8272521291871,
          357.3551117921565
         ]
        },
        {
         "line": {
          "color": "rgba(140, 86, 75, 0.8)",
          "width": 4
         },
         "mode": "lines",
         "showlegend": false,
         "type": "scatter3d",
         "x": [
          157.74869321365642,
          150.38829644681644
         ],
         "y": [
          -472.6282962467531,
          -475.21452585567084
         ],
         "z": [
          357.3551117921565,
          359.1259804616656
         ]
        },
        {
         "line": {
          "color": "rgba(140, 86, 75, 0.8)",
          "width": 4
         },
         "mode": "lines",
         "showlegend": false,
         "type": "scatter3d",
         "x": [
          150.38829644681644,
          147.2352366345706
         ],
         "y": [
          -475.21452585567084,
          -474.1344029870656
         ],
         "z": [
          359.1259804616656,
          347.59812079869624
         ]
        },
        {
         "color": "rgba(227, 119, 194, 0.8)",
         "name": "P8",
         "opacity": 0.8,
         "type": "mesh3d",
         "x": [
          145.62783612791148,
          152.98823289475146,
          156.1412927069973,
          148.7808959401573
         ],
         "y": [
          -472.97847568436515,
          -470.3922460754474,
          -471.4723689440527,
          -474.0585985529704
         ],
         "z": [
          347.7667402786604,
          345.99587160915127,
          357.52373127212064,
          359.29459994162977
         ]
        },
        {
         "marker": {
          "color": "red",
          "size": 3
         },
         "mode": "markers+text",
         "showlegend": false,
         "text": "P7",
         "textfont": {
          "size": 12
         },
         "textposition": "top center",
         "type": "scatter3d",
         "x": [
          150.88456441745438
         ],
         "y": [
          -472.2254223142089
         ],
         "z": [
          352.6452357753905
         ]
        },
        {
         "line": {
          "color": "rgba(227, 119, 194, 0.8)",
          "width": 4
         },
         "mode": "lines",
         "showlegend": false,
         "type": "scatter3d",
         "x": [
          145.62783612791148,
          152.98823289475146
         ],
         "y": [
          -472.97847568436515,
          -470.3922460754474
         ],
         "z": [
          347.7667402786604,
          345.99587160915127
         ]
        },
        {
         "line": {
          "color": "rgba(227, 119, 194, 0.8)",
          "width": 4
         },
         "mode": "lines",
         "showlegend": false,
         "type": "scatter3d",
         "x": [
          152.98823289475146,
          156.1412927069973
         ],
         "y": [
          -470.3922460754474,
          -471.4723689440527
         ],
         "z": [
          345.99587160915127,
          357.52373127212064
         ]
        },
        {
         "line": {
          "color": "rgba(227, 119, 194, 0.8)",
          "width": 4
         },
         "mode": "lines",
         "showlegend": false,
         "type": "scatter3d",
         "x": [
          156.1412927069973,
          148.7808959401573
         ],
         "y": [
          -471.4723689440527,
          -474.0585985529704
         ],
         "z": [
          357.52373127212064,
          359.29459994162977
         ]
        },
        {
         "line": {
          "color": "rgba(227, 119, 194, 0.8)",
          "width": 4
         },
         "mode": "lines",
         "showlegend": false,
         "type": "scatter3d",
         "x": [
          148.7808959401573,
          145.62783612791148
         ],
         "y": [
          -474.0585985529704,
          -472.97847568436515
         ],
         "z": [
          359.29459994162977,
          347.7667402786604
         ]
        },
        {
         "color": "rgba(127, 127, 127, 0.8)",
         "name": "P9",
         "opacity": 0.8,
         "type": "mesh3d",
         "x": [
          143.73429013562296,
          151.09468690246294,
          154.24774671470877,
          146.88734994786878
         ],
         "y": [
          -472.49456983100873,
          -469.908340222091,
          -470.98846309069626,
          -473.574692699614
         ],
         "z": [
          346.8960146384323,
          345.12514596892316,
          356.65300563189254,
          358.42387430140167
         ]
        },
        {
         "marker": {
          "color": "red",
          "size": 3
         },
         "mode": "markers+text",
         "showlegend": false,
         "text": "P8",
         "textfont": {
          "size": 12
         },
         "textposition": "top center",
         "type": "scatter3d",
         "x": [
          148.99101842516586
         ],
         "y": [
          -471.7415164608525
         ],
         "z": [
          351.7745101351624
         ]
        },
        {
         "line": {
          "color": "rgba(127, 127, 127, 0.8)",
          "width": 4
         },
         "mode": "lines",
         "showlegend": false,
         "type": "scatter3d",
         "x": [
          143.73429013562296,
          151.09468690246294
         ],
         "y": [
          -472.49456983100873,
          -469.908340222091
         ],
         "z": [
          346.8960146384323,
          345.12514596892316
         ]
        },
        {
         "line": {
          "color": "rgba(127, 127, 127, 0.8)",
          "width": 4
         },
         "mode": "lines",
         "showlegend": false,
         "type": "scatter3d",
         "x": [
          151.09468690246294,
          154.24774671470877
         ],
         "y": [
          -469.908340222091,
          -470.98846309069626
         ],
         "z": [
          345.12514596892316,
          356.65300563189254
         ]
        },
        {
         "line": {
          "color": "rgba(127, 127, 127, 0.8)",
          "width": 4
         },
         "mode": "lines",
         "showlegend": false,
         "type": "scatter3d",
         "x": [
          154.24774671470877,
          146.88734994786878
         ],
         "y": [
          -470.98846309069626,
          -473.574692699614
         ],
         "z": [
          356.65300563189254,
          358.42387430140167
         ]
        },
        {
         "line": {
          "color": "rgba(127, 127, 127, 0.8)",
          "width": 4
         },
         "mode": "lines",
         "showlegend": false,
         "type": "scatter3d",
         "x": [
          146.88734994786878,
          143.73429013562296
         ],
         "y": [
          -473.574692699614,
          -472.49456983100873
         ],
         "z": [
          358.42387430140167,
          346.8960146384323
         ]
        },
        {
         "color": "rgba(188, 189, 34, 0.8)",
         "name": "P10",
         "opacity": 0.8,
         "type": "mesh3d",
         "x": [
          141.6933420959024,
          149.0537388627424,
          152.20679867498822,
          144.84640190814824
         ],
         "y": [
          -472.50584809775256,
          -469.91961848883483,
          -470.9997413574401,
          -473.5859709663578
         ],
         "z": [
          346.07651702156,
          344.30564835205087,
          355.83350801502024,
          357.60437668452937
         ]
        },
        {
         "marker": {
          "color": "red",
          "size": 3
         },
         "mode": "markers+text",
         "showlegend": false,
         "text": "P9",
         "textfont": {
          "size": 12
         },
         "textposition": "top center",
         "type": "scatter3d",
         "x": [
          146.95007038544531
         ],
         "y": [
          -471.7527947275963
         ],
         "z": [
          350.9550125182901
         ]
        },
        {
         "line": {
          "color": "rgba(188, 189, 34, 0.8)",
          "width": 4
         },
         "mode": "lines",
         "showlegend": false,
         "type": "scatter3d",
         "x": [
          141.6933420959024,
          149.0537388627424
         ],
         "y": [
          -472.50584809775256,
          -469.91961848883483
         ],
         "z": [
          346.07651702156,
          344.30564835205087
         ]
        },
        {
         "line": {
          "color": "rgba(188, 189, 34, 0.8)",
          "width": 4
         },
         "mode": "lines",
         "showlegend": false,
         "type": "scatter3d",
         "x": [
          149.0537388627424,
          152.20679867498822
         ],
         "y": [
          -469.91961848883483,
          -470.9997413574401
         ],
         "z": [
          344.30564835205087,
          355.83350801502024
         ]
        },
        {
         "line": {
          "color": "rgba(188, 189, 34, 0.8)",
          "width": 4
         },
         "mode": "lines",
         "showlegend": false,
         "type": "scatter3d",
         "x": [
          152.20679867498822,
          144.84640190814824
         ],
         "y": [
          -470.9997413574401,
          -473.5859709663578
         ],
         "z": [
          355.83350801502024,
          357.60437668452937
         ]
        },
        {
         "line": {
          "color": "rgba(188, 189, 34, 0.8)",
          "width": 4
         },
         "mode": "lines",
         "showlegend": false,
         "type": "scatter3d",
         "x": [
          144.84640190814824,
          141.6933420959024
         ],
         "y": [
          -473.5859709663578,
          -472.50584809775256
         ],
         "z": [
          357.60437668452937,
          346.07651702156
         ]
        },
        {
         "color": "rgba(23, 190, 207, 0.8)",
         "name": "P11",
         "opacity": 0.8,
         "type": "mesh3d",
         "x": [
          139.72397597698225,
          147.08437274382223,
          150.23743255606806,
          142.87703578922807
         ],
         "y": [
          -472.3274492332168,
          -469.74121962429905,
          -470.8213424929043,
          -473.40757210182204
         ],
         "z": [
          347.44478637423697,
          345.67391770472784,
          357.2017773676972,
          358.97264603720635
         ]
        },
        {
         "marker": {
          "color": "red",
          "size": 3
         },
         "mode": "markers+text",
         "showlegend": false,
         "text": "",
         "textfont": {
          "size": 12
         },
         "textposition": "top center",
         "type": "scatter3d",
         "x": [
          144.98070426652515
         ],
         "y": [
          -471.57439586306054
         ],
         "z": [
          352.3232818709671
         ]
        },
        {
         "line": {
          "color": "rgba(23, 190, 207, 0.8)",
          "width": 4
         },
         "mode": "lines",
         "showlegend": false,
         "type": "scatter3d",
         "x": [
          139.72397597698225,
          147.08437274382223
         ],
         "y": [
          -472.3274492332168,
          -469.74121962429905
         ],
         "z": [
          347.44478637423697,
          345.67391770472784
         ]
        },
        {
         "line": {
          "color": "rgba(23, 190, 207, 0.8)",
          "width": 4
         },
         "mode": "lines",
         "showlegend": false,
         "type": "scatter3d",
         "x": [
          147.08437274382223,
          150.23743255606806
         ],
         "y": [
          -469.74121962429905,
          -470.8213424929043
         ],
         "z": [
          345.67391770472784,
          357.2017773676972
         ]
        },
        {
         "line": {
          "color": "rgba(23, 190, 207, 0.8)",
          "width": 4
         },
         "mode": "lines",
         "showlegend": false,
         "type": "scatter3d",
         "x": [
          150.23743255606806,
          142.87703578922807
         ],
         "y": [
          -470.8213424929043,
          -473.40757210182204
         ],
         "z": [
          357.2017773676972,
          358.97264603720635
         ]
        },
        {
         "line": {
          "color": "rgba(23, 190, 207, 0.8)",
          "width": 4
         },
         "mode": "lines",
         "showlegend": false,
         "type": "scatter3d",
         "x": [
          142.87703578922807,
          139.72397597698225
         ],
         "y": [
          -473.40757210182204,
          -472.3274492332168
         ],
         "z": [
          358.97264603720635,
          347.44478637423697
         ]
        },
        {
         "line": {
          "color": "black",
          "width": 2
         },
         "mode": "lines",
         "name": "Berechnete Hakenlinie",
         "type": "scatter3d",
         "x": {
          "bdata": "SoQtNiHMY0Aqf5FGDc5jQNwtnsA0r2NAns8IBS+LY0AIuIAOLGdjQLjtLnMGPmNAGHs5Lb4PY0CAhQlaTtxiQES6RWy2n2JAWEwC+mZeYkC++OntYR9iQA==",
          "dtype": "f8"
         },
         "y": {
          "bdata": "auDXalcSfsCs91d/9BB+wBjzEJPv+H3A0rGHBpzefcDYG3LZQsR9wIZA6KI2q33AfE8OAhqWfcAOtW1Um4N9wOpMXUDde33ACvp7cgt8fcDYbLe5MHl9wA==",
          "dtype": "f8"
         },
         "z": {
          "bdata": "QGxzrT4OdkApq08J/hJ2QBMAI+fQAXZAZyfNZtkCdkDixFRM4gN2QLYvLft2BXZAjZloOKAHdkAvmL/iUgp2QBdPvWRk/HVAOtU0u0fvdUAYc5wpLAV2QA==",
          "dtype": "f8"
         }
        },
        {
         "mode": "text",
         "showlegend": false,
         "text": [
          "Pre-Position"
         ],
         "textfont": {
          "size": 10
         },
         "textposition": "top center",
         "type": "scatter3d",
         "x": [
          158.3790541543006
         ],
         "y": [
          -481.1463421280556
         ],
         "z": [
          352.89030213439037
         ]
        },
        {
         "mode": "text",
         "showlegend": false,
         "text": [
          "Loslassen"
         ],
         "textfont": {
          "size": 10
         },
         "textposition": "top center",
         "type": "scatter3d",
         "x": [
          144.98070426652515
         ],
         "y": [
          -471.57439586306054
         ],
         "z": [
          352.3232818709671
         ]
        },
        {
         "color": "rgba(0,255,0,0.2)",
         "name": "optimale Trajektorie",
         "opacity": 0.8,
         "type": "mesh3d",
         "x": [
          154.63437388380015,
          162.3106875652591,
          162.12373138440495,
          154.447417702946
         ],
         "y": [
          -482.1840103894636,
          -479.9365352997564,
          -480.10867369788906,
          -482.3561487875963
         ],
         "z": [
          346.8157146726451,
          346.9675829872873,
          358.9648916754194,
          358.81302336077715
         ]
        },
        {
         "line": {
          "color": "rgba(0,255,0,0.2)",
          "width": 3
         },
         "mode": "lines",
         "showlegend": false,
         "type": "scatter3d",
         "x": [
          154.63437388380015,
          162.3106875652591
         ],
         "y": [
          -482.1840103894636,
          -479.9365352997564
         ],
         "z": [
          346.8157146726451,
          346.9675829872873
         ]
        },
        {
         "line": {
          "color": "rgba(0,255,0,0.2)",
          "width": 3
         },
         "mode": "lines",
         "showlegend": false,
         "type": "scatter3d",
         "x": [
          162.3106875652591,
          162.12373138440495
         ],
         "y": [
          -479.9365352997564,
          -480.10867369788906
         ],
         "z": [
          346.9675829872873,
          358.9648916754194
         ]
        },
        {
         "line": {
          "color": "rgba(0,255,0,0.2)",
          "width": 3
         },
         "mode": "lines",
         "showlegend": false,
         "type": "scatter3d",
         "x": [
          162.12373138440495,
          154.447417702946
         ],
         "y": [
          -480.10867369788906,
          -482.3561487875963
         ],
         "z": [
          358.9648916754194,
          358.81302336077715
         ]
        },
        {
         "line": {
          "color": "rgba(0,255,0,0.2)",
          "width": 3
         },
         "mode": "lines",
         "showlegend": false,
         "type": "scatter3d",
         "x": [
          154.447417702946,
          154.63437388380015
         ],
         "y": [
          -482.3561487875963,
          -482.1840103894636
         ],
         "z": [
          358.81302336077715,
          346.8157146726451
         ]
        },
        {
         "marker": {
          "color": "green",
          "size": 4
         },
         "mode": "markers",
         "name": "Mitte P11",
         "showlegend": false,
         "type": "scatter3d",
         "x": [
          158.37905263410255
         ],
         "y": [
          -481.1463420436763
         ],
         "z": [
          352.8903031740322
         ]
        },
        {
         "color": "rgba(0,255,0,0.2)",
         "name": "optimale Trajektorie",
         "opacity": 0.8,
         "type": "mesh3d",
         "x": [
          157.07389154920628,
          164.06834371470626,
          161.47110243773096,
          154.47665027223098
         ],
         "y": [
          -480.0554487908449,
          -476.7861838866203,
          -478.64261253768694,
          -481.91187744191154
         ],
         "z": [
          346.40474140850966,
          348.49986572237225,
          360.0674069655524,
          357.9722826516898
         ]
        },
        {
         "line": {
          "color": "rgba(0,255,0,0.2)",
          "width": 3
         },
         "mode": "lines",
         "showlegend": false,
         "type": "scatter3d",
         "x": [
          157.07389154920628,
          164.06834371470626
         ],
         "y": [
          -480.0554487908449,
          -476.7861838866203
         ],
         "z": [
          346.40474140850966,
          348.49986572237225
         ]
        },
        {
         "line": {
          "color": "rgba(0,255,0,0.2)",
          "width": 3
         },
         "mode": "lines",
         "showlegend": false,
         "type": "scatter3d",
         "x": [
          164.06834371470626,
          161.47110243773096
         ],
         "y": [
          -476.7861838866203,
          -478.64261253768694
         ],
         "z": [
          348.49986572237225,
          360.0674069655524
         ]
        },
        {
         "line": {
          "color": "rgba(0,255,0,0.2)",
          "width": 3
         },
         "mode": "lines",
         "showlegend": false,
         "type": "scatter3d",
         "x": [
          161.47110243773096,
          154.47665027223098
         ],
         "y": [
          -478.64261253768694,
          -481.91187744191154
         ],
         "z": [
          360.0674069655524,
          357.9722826516898
         ]
        },
        {
         "line": {
          "color": "rgba(0,255,0,0.2)",
          "width": 3
         },
         "mode": "lines",
         "showlegend": false,
         "type": "scatter3d",
         "x": [
          154.47665027223098,
          157.07389154920628
         ],
         "y": [
          -481.91187744191154,
          -480.0554487908449
         ],
         "z": [
          357.9722826516898,
          346.40474140850966
         ]
        },
        {
         "marker": {
          "color": "green",
          "size": 4
         },
         "mode": "markers",
         "name": "Mitte P11",
         "showlegend": false,
         "type": "scatter3d",
         "x": [
          159.27249699346862
         ],
         "y": [
          -479.3490306642659
         ],
         "z": [
          353.236074187031
         ]
        },
        {
         "color": "rgba(0,255,0,0.2)",
         "name": "optimale Trajektorie",
         "opacity": 0.8,
         "type": "mesh3d",
         "x": [
          154.10459206375154,
          159.95516476592132,
          158.04796273947872,
          152.19739003730894
         ],
         "y": [
          -475.9700075280206,
          -470.8915124220568,
          -473.2547157780506,
          -478.33321088401436
         ],
         "z": [
          347.6144405058793,
          349.60935567082436,
          361.21874197366367,
          359.2238268087186
         ]
        },
        {
         "line": {
          "color": "rgba(0,255,0,0.2)",
          "width": 3
         },
         "mode": "lines",
         "showlegend": false,
         "type": "scatter3d",
         "x": [
          154.10459206375154,
          159.95516476592132
         ],
         "y": [
          -475.9700075280206,
          -470.8915124220568
         ],
         "z": [
          347.6144405058793,
          349.60935567082436
         ]
        },
        {
         "line": {
          "color": "rgba(0,255,0,0.2)",
          "width": 3
         },
         "mode": "lines",
         "showlegend": false,
         "type": "scatter3d",
         "x": [
          159.95516476592132,
          158.04796273947872
         ],
         "y": [
          -470.8915124220568,
          -473.2547157780506
         ],
         "z": [
          349.60935567082436,
          361.21874197366367
         ]
        },
        {
         "line": {
          "color": "rgba(0,255,0,0.2)",
          "width": 3
         },
         "mode": "lines",
         "showlegend": false,
         "type": "scatter3d",
         "x": [
          158.04796273947872,
          152.19739003730894
         ],
         "y": [
          -473.2547157780506,
          -478.33321088401436
         ],
         "z": [
          361.21874197366367,
          359.2238268087186
         ]
        },
        {
         "line": {
          "color": "rgba(0,255,0,0.2)",
          "width": 3
         },
         "mode": "lines",
         "showlegend": false,
         "type": "scatter3d",
         "x": [
          152.19739003730894,
          154.10459206375154
         ],
         "y": [
          -478.33321088401436,
          -475.9700075280206
         ],
         "z": [
          359.2238268087186,
          347.6144405058793
         ]
        },
        {
         "marker": {
          "color": "green",
          "size": 4
         },
         "mode": "markers",
         "name": "Mitte P11",
         "showlegend": false,
         "type": "scatter3d",
         "x": [
          156.07627740161513
         ],
         "y": [
          -474.6123616530355
         ],
         "z": [
          354.4165912397715
         ]
        },
        {
         "color": "rgba(0,255,0,0.2)",
         "name": "optimale Trajektorie",
         "opacity": 0.8,
         "type": "mesh3d",
         "x": [
          152.1911065854075,
          156.92251794974118,
          155.6527892861094,
          150.92137792177573
         ],
         "y": [
          -472.48423970231454,
          -466.32280846538106,
          -468.9567576269086,
          -475.1181888638421
         ],
         "z": [
          348.7757439903779,
          350.6863751986425,
          362.3246783797441,
          360.4140471714795
         ]
        },
        {
         "line": {
          "color": "rgba(0,255,0,0.2)",
          "width": 3
         },
         "mode": "lines",
         "showlegend": false,
         "type": "scatter3d",
         "x": [
          152.1911065854075,
          156.92251794974118
         ],
         "y": [
          -472.48423970231454,
          -466.32280846538106
         ],
         "z": [
          348.7757439903779,
          350.6863751986425
         ]
        },
        {
         "line": {
          "color": "rgba(0,255,0,0.2)",
          "width": 3
         },
         "mode": "lines",
         "showlegend": false,
         "type": "scatter3d",
         "x": [
          156.92251794974118,
          155.6527892861094
         ],
         "y": [
          -466.32280846538106,
          -468.9567576269086
         ],
         "z": [
          350.6863751986425,
          362.3246783797441
         ]
        },
        {
         "line": {
          "color": "rgba(0,255,0,0.2)",
          "width": 3
         },
         "mode": "lines",
         "showlegend": false,
         "type": "scatter3d",
         "x": [
          155.6527892861094,
          150.92137792177573
         ],
         "y": [
          -468.9567576269086,
          -475.1181888638421
         ],
         "z": [
          362.3246783797441,
          360.4140471714795
         ]
        },
        {
         "line": {
          "color": "rgba(0,255,0,0.2)",
          "width": 3
         },
         "mode": "lines",
         "showlegend": false,
         "type": "scatter3d",
         "x": [
          150.92137792177573,
          152.1911065854075
         ],
         "y": [
          -475.1181888638421,
          -472.48423970231454
         ],
         "z": [
          360.4140471714795,
          348.7757439903779
         ]
        },
        {
         "marker": {
          "color": "green",
          "size": 4
         },
         "mode": "markers",
         "name": "Mitte P11",
         "showlegend": false,
         "type": "scatter3d",
         "x": [
          153.92194793575845
         ],
         "y": [
          -470.72049866461157
         ],
         "z": [
          355.550211185061
         ]
        },
        {
         "color": "rgba(0,255,0,0.2)",
         "name": "optimale Trajektorie",
         "opacity": 0.8,
         "type": "mesh3d",
         "x": [
          146.87509792087917,
          150.59208757901857,
          149.87628067705214,
          146.15929101891274
         ],
         "y": [
          -470.96487534278214,
          -464.1027596509518,
          -466.7124342415888,
          -473.5745499334192
         ],
         "z": [
          349.2935996522149,
          351.0529620688932,
          362.74386532784115,
          360.98450291116285
         ]
        },
        {
         "line": {
          "color": "rgba(0,255,0,0.2)",
          "width": 3
         },
         "mode": "lines",
         "showlegend": false,
         "type": "scatter3d",
         "x": [
          146.87509792087917,
          150.59208757901857
         ],
         "y": [
          -470.96487534278214,
          -464.1027596509518
         ],
         "z": [
          349.2935996522149,
          351.0529620688932
         ]
        },
        {
         "line": {
          "color": "rgba(0,255,0,0.2)",
          "width": 3
         },
         "mode": "lines",
         "showlegend": false,
         "type": "scatter3d",
         "x": [
          150.59208757901857,
          149.87628067705214
         ],
         "y": [
          -464.1027596509518,
          -466.7124342415888
         ],
         "z": [
          351.0529620688932,
          362.74386532784115
         ]
        },
        {
         "line": {
          "color": "rgba(0,255,0,0.2)",
          "width": 3
         },
         "mode": "lines",
         "showlegend": false,
         "type": "scatter3d",
         "x": [
          149.87628067705214,
          146.15929101891274
         ],
         "y": [
          -466.7124342415888,
          -473.5745499334192
         ],
         "z": [
          362.74386532784115,
          360.98450291116285
         ]
        },
        {
         "line": {
          "color": "rgba(0,255,0,0.2)",
          "width": 3
         },
         "mode": "lines",
         "showlegend": false,
         "type": "scatter3d",
         "x": [
          146.15929101891274,
          146.87509792087917
         ],
         "y": [
          -473.5745499334192,
          -470.96487534278214
         ],
         "z": [
          360.98450291116285,
          349.2935996522149
         ]
        },
        {
         "marker": {
          "color": "green",
          "size": 4
         },
         "mode": "markers",
         "name": "Mitte P11",
         "showlegend": false,
         "type": "scatter3d",
         "x": [
          148.37568929896565
         ],
         "y": [
          -468.8386547921855
         ],
         "z": [
          356.018732490028
         ]
        },
        {
         "color": "rgba(0,255,0,0.2)",
         "name": "optimale Trajektorie",
         "opacity": 0.8,
         "type": "mesh3d",
         "x": [
          143.74357601688587,
          145.26811337286884,
          146.58465554900783,
          145.06011819302486
         ],
         "y": [
          -472.1085783404218,
          -464.31864672275196,
          -466.08507077285105,
          -473.8750023905209
         ],
         "z": [
          350.02093713609173,
          351.01730616523713,
          362.8133420575901,
          361.8169730284447
         ]
        },
        {
         "line": {
          "color": "rgba(0,255,0,0.2)",
          "width": 3
         },
         "mode": "lines",
         "showlegend": false,
         "type": "scatter3d",
         "x": [
          143.74357601688587,
          145.26811337286884
         ],
         "y": [
          -472.1085783404218,
          -464.31864672275196
         ],
         "z": [
          350.02093713609173,
          351.01730616523713
         ]
        },
        {
         "line": {
          "color": "rgba(0,255,0,0.2)",
          "width": 3
         },
         "mode": "lines",
         "showlegend": false,
         "type": "scatter3d",
         "x": [
          145.26811337286884,
          146.58465554900783
         ],
         "y": [
          -464.31864672275196,
          -466.08507077285105
         ],
         "z": [
          351.01730616523713,
          362.8133420575901
         ]
        },
        {
         "line": {
          "color": "rgba(0,255,0,0.2)",
          "width": 3
         },
         "mode": "lines",
         "showlegend": false,
         "type": "scatter3d",
         "x": [
          146.58465554900783,
          145.06011819302486
         ],
         "y": [
          -466.08507077285105,
          -473.8750023905209
         ],
         "z": [
          362.8133420575901,
          361.8169730284447
         ]
        },
        {
         "line": {
          "color": "rgba(0,255,0,0.2)",
          "width": 3
         },
         "mode": "lines",
         "showlegend": false,
         "type": "scatter3d",
         "x": [
          145.06011819302486,
          143.74357601688587
         ],
         "y": [
          -473.8750023905209,
          -472.1085783404218
         ],
         "z": [
          361.8169730284447,
          350.02093713609173
         ]
        },
        {
         "marker": {
          "color": "green",
          "size": 4
         },
         "mode": "markers",
         "name": "Mitte P11",
         "showlegend": false,
         "type": "scatter3d",
         "x": [
          145.16411578294685
         ],
         "y": [
          -469.0968245566364
         ],
         "z": [
          356.4171395968409
         ]
        },
        {
         "line": {
          "color": "green",
          "width": 2
         },
         "mode": "lines",
         "name": "Optimale Hakenlinie",
         "type": "scatter3d",
         "x": {
          "bdata": "3F39MiHMY0CYZp1LuOhjQIwrTt1wgmNAUBb1mIA9Y0B4kJClBYxiQHQQvm9AJWJA",
          "dtype": "f8"
         },
         "y": {
          "bdata": "6jnBalcSfsAshS2hlfV9wMuRuzvMqX3AGJWbKYdrfcAgkUkha019wEAD6JeMUX3A",
          "dtype": "f8"
         },
         "z": {
          "bdata": "5X+Krj4OdkCmC7r1xhN2QOZpk1uqJnZAsFs+qs04dkCwgHC6TEB2QMbkkZqsRnZA",
          "dtype": "f8"
         }
        },
        {
         "line": {
          "color": "gray",
          "dash": "dash"
         },
         "mode": "lines",
         "name": "Direkte Gerade Spitze -> Senke",
         "type": "scatter3d",
         "x": [
          158.43912056367236,
          144.98070426652515
         ],
         "y": [
          -481.05969175684254,
          -471.57439586306054
         ],
         "z": [
          353.1870205986075,
          352.3232818709671
         ]
        },
        {
         "marker": {
          "color": "magenta",
          "size": 8
         },
         "mode": "markers",
         "name": "Spitze",
         "type": "scatter3d",
         "x": [
          158.43912056367236
         ],
         "y": [
          -481.05969175684254
         ],
         "z": [
          353.1870205986075
         ]
        },
        {
         "marker": {
          "color": "magenta",
          "size": 8
         },
         "mode": "markers",
         "name": "Senke",
         "type": "scatter3d",
         "x": [
          144.98070426652515
         ],
         "y": [
          -471.57439586306054
         ],
         "z": [
          352.3232818709671
         ]
        },
        {
         "mode": "text",
         "showlegend": false,
         "text": [
          "Spitze"
         ],
         "textfont": {
          "size": 10
         },
         "textposition": "top center",
         "type": "scatter3d",
         "x": [
          158.43912056367236
         ],
         "y": [
          -481.05969175684254
         ],
         "z": [
          353.1870205986075
         ]
        },
        {
         "mode": "text",
         "showlegend": false,
         "text": [
          "Senke"
         ],
         "textfont": {
          "size": 10
         },
         "textposition": "top center",
         "type": "scatter3d",
         "x": [
          144.98070426652515
         ],
         "y": [
          -471.57439586306054
         ],
         "z": [
          352.3232818709671
         ]
        }
       ],
       "layout": {
        "legend": {
         "title": {
          "text": "Legende"
         }
        },
        "scene": {
         "aspectmode": "cube",
         "camera": {
          "eye": {
           "x": -1,
           "y": -1,
           "z": -1.5
          },
          "up": {
           "x": 0,
           "y": -1,
           "z": 0
          }
         },
         "xaxis": {
          "title": {
           "text": "X"
          }
         },
         "yaxis": {
          "title": {
           "text": "Y"
          }
         },
         "zaxis": {
          "title": {
           "text": "Z"
          }
         }
        },
        "template": {
         "data": {
          "bar": [
           {
            "error_x": {
             "color": "#2a3f5f"
            },
            "error_y": {
             "color": "#2a3f5f"
            },
            "marker": {
             "line": {
              "color": "#E5ECF6",
              "width": 0.5
             },
             "pattern": {
              "fillmode": "overlay",
              "size": 10,
              "solidity": 0.2
             }
            },
            "type": "bar"
           }
          ],
          "barpolar": [
           {
            "marker": {
             "line": {
              "color": "#E5ECF6",
              "width": 0.5
             },
             "pattern": {
              "fillmode": "overlay",
              "size": 10,
              "solidity": 0.2
             }
            },
            "type": "barpolar"
           }
          ],
          "carpet": [
           {
            "aaxis": {
             "endlinecolor": "#2a3f5f",
             "gridcolor": "white",
             "linecolor": "white",
             "minorgridcolor": "white",
             "startlinecolor": "#2a3f5f"
            },
            "baxis": {
             "endlinecolor": "#2a3f5f",
             "gridcolor": "white",
             "linecolor": "white",
             "minorgridcolor": "white",
             "startlinecolor": "#2a3f5f"
            },
            "type": "carpet"
           }
          ],
          "choropleth": [
           {
            "colorbar": {
             "outlinewidth": 0,
             "ticks": ""
            },
            "type": "choropleth"
           }
          ],
          "contour": [
           {
            "colorbar": {
             "outlinewidth": 0,
             "ticks": ""
            },
            "colorscale": [
             [
              0,
              "#0d0887"
             ],
             [
              0.1111111111111111,
              "#46039f"
             ],
             [
              0.2222222222222222,
              "#7201a8"
             ],
             [
              0.3333333333333333,
              "#9c179e"
             ],
             [
              0.4444444444444444,
              "#bd3786"
             ],
             [
              0.5555555555555556,
              "#d8576b"
             ],
             [
              0.6666666666666666,
              "#ed7953"
             ],
             [
              0.7777777777777778,
              "#fb9f3a"
             ],
             [
              0.8888888888888888,
              "#fdca26"
             ],
             [
              1,
              "#f0f921"
             ]
            ],
            "type": "contour"
           }
          ],
          "contourcarpet": [
           {
            "colorbar": {
             "outlinewidth": 0,
             "ticks": ""
            },
            "type": "contourcarpet"
           }
          ],
          "heatmap": [
           {
            "colorbar": {
             "outlinewidth": 0,
             "ticks": ""
            },
            "colorscale": [
             [
              0,
              "#0d0887"
             ],
             [
              0.1111111111111111,
              "#46039f"
             ],
             [
              0.2222222222222222,
              "#7201a8"
             ],
             [
              0.3333333333333333,
              "#9c179e"
             ],
             [
              0.4444444444444444,
              "#bd3786"
             ],
             [
              0.5555555555555556,
              "#d8576b"
             ],
             [
              0.6666666666666666,
              "#ed7953"
             ],
             [
              0.7777777777777778,
              "#fb9f3a"
             ],
             [
              0.8888888888888888,
              "#fdca26"
             ],
             [
              1,
              "#f0f921"
             ]
            ],
            "type": "heatmap"
           }
          ],
          "histogram": [
           {
            "marker": {
             "pattern": {
              "fillmode": "overlay",
              "size": 10,
              "solidity": 0.2
             }
            },
            "type": "histogram"
           }
          ],
          "histogram2d": [
           {
            "colorbar": {
             "outlinewidth": 0,
             "ticks": ""
            },
            "colorscale": [
             [
              0,
              "#0d0887"
             ],
             [
              0.1111111111111111,
              "#46039f"
             ],
             [
              0.2222222222222222,
              "#7201a8"
             ],
             [
              0.3333333333333333,
              "#9c179e"
             ],
             [
              0.4444444444444444,
              "#bd3786"
             ],
             [
              0.5555555555555556,
              "#d8576b"
             ],
             [
              0.6666666666666666,
              "#ed7953"
             ],
             [
              0.7777777777777778,
              "#fb9f3a"
             ],
             [
              0.8888888888888888,
              "#fdca26"
             ],
             [
              1,
              "#f0f921"
             ]
            ],
            "type": "histogram2d"
           }
          ],
          "histogram2dcontour": [
           {
            "colorbar": {
             "outlinewidth": 0,
             "ticks": ""
            },
            "colorscale": [
             [
              0,
              "#0d0887"
             ],
             [
              0.1111111111111111,
              "#46039f"
             ],
             [
              0.2222222222222222,
              "#7201a8"
             ],
             [
              0.3333333333333333,
              "#9c179e"
             ],
             [
              0.4444444444444444,
              "#bd3786"
             ],
             [
              0.5555555555555556,
              "#d8576b"
             ],
             [
              0.6666666666666666,
              "#ed7953"
             ],
             [
              0.7777777777777778,
              "#fb9f3a"
             ],
             [
              0.8888888888888888,
              "#fdca26"
             ],
             [
              1,
              "#f0f921"
             ]
            ],
            "type": "histogram2dcontour"
           }
          ],
          "mesh3d": [
           {
            "colorbar": {
             "outlinewidth": 0,
             "ticks": ""
            },
            "type": "mesh3d"
           }
          ],
          "parcoords": [
           {
            "line": {
             "colorbar": {
              "outlinewidth": 0,
              "ticks": ""
             }
            },
            "type": "parcoords"
           }
          ],
          "pie": [
           {
            "automargin": true,
            "type": "pie"
           }
          ],
          "scatter": [
           {
            "fillpattern": {
             "fillmode": "overlay",
             "size": 10,
             "solidity": 0.2
            },
            "type": "scatter"
           }
          ],
          "scatter3d": [
           {
            "line": {
             "colorbar": {
              "outlinewidth": 0,
              "ticks": ""
             }
            },
            "marker": {
             "colorbar": {
              "outlinewidth": 0,
              "ticks": ""
             }
            },
            "type": "scatter3d"
           }
          ],
          "scattercarpet": [
           {
            "marker": {
             "colorbar": {
              "outlinewidth": 0,
              "ticks": ""
             }
            },
            "type": "scattercarpet"
           }
          ],
          "scattergeo": [
           {
            "marker": {
             "colorbar": {
              "outlinewidth": 0,
              "ticks": ""
             }
            },
            "type": "scattergeo"
           }
          ],
          "scattergl": [
           {
            "marker": {
             "colorbar": {
              "outlinewidth": 0,
              "ticks": ""
             }
            },
            "type": "scattergl"
           }
          ],
          "scattermap": [
           {
            "marker": {
             "colorbar": {
              "outlinewidth": 0,
              "ticks": ""
             }
            },
            "type": "scattermap"
           }
          ],
          "scattermapbox": [
           {
            "marker": {
             "colorbar": {
              "outlinewidth": 0,
              "ticks": ""
             }
            },
            "type": "scattermapbox"
           }
          ],
          "scatterpolar": [
           {
            "marker": {
             "colorbar": {
              "outlinewidth": 0,
              "ticks": ""
             }
            },
            "type": "scatterpolar"
           }
          ],
          "scatterpolargl": [
           {
            "marker": {
             "colorbar": {
              "outlinewidth": 0,
              "ticks": ""
             }
            },
            "type": "scatterpolargl"
           }
          ],
          "scatterternary": [
           {
            "marker": {
             "colorbar": {
              "outlinewidth": 0,
              "ticks": ""
             }
            },
            "type": "scatterternary"
           }
          ],
          "surface": [
           {
            "colorbar": {
             "outlinewidth": 0,
             "ticks": ""
            },
            "colorscale": [
             [
              0,
              "#0d0887"
             ],
             [
              0.1111111111111111,
              "#46039f"
             ],
             [
              0.2222222222222222,
              "#7201a8"
             ],
             [
              0.3333333333333333,
              "#9c179e"
             ],
             [
              0.4444444444444444,
              "#bd3786"
             ],
             [
              0.5555555555555556,
              "#d8576b"
             ],
             [
              0.6666666666666666,
              "#ed7953"
             ],
             [
              0.7777777777777778,
              "#fb9f3a"
             ],
             [
              0.8888888888888888,
              "#fdca26"
             ],
             [
              1,
              "#f0f921"
             ]
            ],
            "type": "surface"
           }
          ],
          "table": [
           {
            "cells": {
             "fill": {
              "color": "#EBF0F8"
             },
             "line": {
              "color": "white"
             }
            },
            "header": {
             "fill": {
              "color": "#C8D4E3"
             },
             "line": {
              "color": "white"
             }
            },
            "type": "table"
           }
          ]
         },
         "layout": {
          "annotationdefaults": {
           "arrowcolor": "#2a3f5f",
           "arrowhead": 0,
           "arrowwidth": 1
          },
          "autotypenumbers": "strict",
          "coloraxis": {
           "colorbar": {
            "outlinewidth": 0,
            "ticks": ""
           }
          },
          "colorscale": {
           "diverging": [
            [
             0,
             "#8e0152"
            ],
            [
             0.1,
             "#c51b7d"
            ],
            [
             0.2,
             "#de77ae"
            ],
            [
             0.3,
             "#f1b6da"
            ],
            [
             0.4,
             "#fde0ef"
            ],
            [
             0.5,
             "#f7f7f7"
            ],
            [
             0.6,
             "#e6f5d0"
            ],
            [
             0.7,
             "#b8e186"
            ],
            [
             0.8,
             "#7fbc41"
            ],
            [
             0.9,
             "#4d9221"
            ],
            [
             1,
             "#276419"
            ]
           ],
           "sequential": [
            [
             0,
             "#0d0887"
            ],
            [
             0.1111111111111111,
             "#46039f"
            ],
            [
             0.2222222222222222,
             "#7201a8"
            ],
            [
             0.3333333333333333,
             "#9c179e"
            ],
            [
             0.4444444444444444,
             "#bd3786"
            ],
            [
             0.5555555555555556,
             "#d8576b"
            ],
            [
             0.6666666666666666,
             "#ed7953"
            ],
            [
             0.7777777777777778,
             "#fb9f3a"
            ],
            [
             0.8888888888888888,
             "#fdca26"
            ],
            [
             1,
             "#f0f921"
            ]
           ],
           "sequentialminus": [
            [
             0,
             "#0d0887"
            ],
            [
             0.1111111111111111,
             "#46039f"
            ],
            [
             0.2222222222222222,
             "#7201a8"
            ],
            [
             0.3333333333333333,
             "#9c179e"
            ],
            [
             0.4444444444444444,
             "#bd3786"
            ],
            [
             0.5555555555555556,
             "#d8576b"
            ],
            [
             0.6666666666666666,
             "#ed7953"
            ],
            [
             0.7777777777777778,
             "#fb9f3a"
            ],
            [
             0.8888888888888888,
             "#fdca26"
            ],
            [
             1,
             "#f0f921"
            ]
           ]
          },
          "colorway": [
           "#636efa",
           "#EF553B",
           "#00cc96",
           "#ab63fa",
           "#FFA15A",
           "#19d3f3",
           "#FF6692",
           "#B6E880",
           "#FF97FF",
           "#FECB52"
          ],
          "font": {
           "color": "#2a3f5f"
          },
          "geo": {
           "bgcolor": "white",
           "lakecolor": "white",
           "landcolor": "#E5ECF6",
           "showlakes": true,
           "showland": true,
           "subunitcolor": "white"
          },
          "hoverlabel": {
           "align": "left"
          },
          "hovermode": "closest",
          "mapbox": {
           "style": "light"
          },
          "paper_bgcolor": "white",
          "plot_bgcolor": "#E5ECF6",
          "polar": {
           "angularaxis": {
            "gridcolor": "white",
            "linecolor": "white",
            "ticks": ""
           },
           "bgcolor": "#E5ECF6",
           "radialaxis": {
            "gridcolor": "white",
            "linecolor": "white",
            "ticks": ""
           }
          },
          "scene": {
           "xaxis": {
            "backgroundcolor": "#E5ECF6",
            "gridcolor": "white",
            "gridwidth": 2,
            "linecolor": "white",
            "showbackground": true,
            "ticks": "",
            "zerolinecolor": "white"
           },
           "yaxis": {
            "backgroundcolor": "#E5ECF6",
            "gridcolor": "white",
            "gridwidth": 2,
            "linecolor": "white",
            "showbackground": true,
            "ticks": "",
            "zerolinecolor": "white"
           },
           "zaxis": {
            "backgroundcolor": "#E5ECF6",
            "gridcolor": "white",
            "gridwidth": 2,
            "linecolor": "white",
            "showbackground": true,
            "ticks": "",
            "zerolinecolor": "white"
           }
          },
          "shapedefaults": {
           "line": {
            "color": "#2a3f5f"
           }
          },
          "ternary": {
           "aaxis": {
            "gridcolor": "white",
            "linecolor": "white",
            "ticks": ""
           },
           "baxis": {
            "gridcolor": "white",
            "linecolor": "white",
            "ticks": ""
           },
           "bgcolor": "#E5ECF6",
           "caxis": {
            "gridcolor": "white",
            "linecolor": "white",
            "ticks": ""
           }
          },
          "title": {
           "x": 0.05
          },
          "xaxis": {
           "automargin": true,
           "gridcolor": "white",
           "linecolor": "white",
           "ticks": "",
           "title": {
            "standoff": 15
           },
           "zerolinecolor": "white",
           "zerolinewidth": 2
          },
          "yaxis": {
           "automargin": true,
           "gridcolor": "white",
           "linecolor": "white",
           "ticks": "",
           "title": {
            "standoff": 15
           },
           "zerolinecolor": "white",
           "zerolinewidth": 2
          }
         }
        },
        "title": {
         "text": "Haken 3, Trajektorien-Ansatz 3"
        }
       }
      }
     },
     "metadata": {},
     "output_type": "display_data"
    },
    {
     "name": "stdout",
     "output_type": "stream",
     "text": [
      "HTML-Datei '/home/mo/Thesis/Evaluation/Trajektorientests/traj4.html' erfolgreich erstellt!\n"
     ]
    },
    {
     "data": {
      "application/vnd.plotly.v1+json": {
       "config": {
        "plotlyServerURL": "https://plot.ly"
       },
       "data": [
        {
         "color": "rgba(31, 119, 180, 0.8)",
         "name": "P1",
         "opacity": 0.8,
         "type": "mesh3d",
         "x": [
          154.6343754422264,
          162.31068905064296,
          162.1237328663748,
          154.44741925795824
         ],
         "y": [
          -482.1840105972483,
          -479.9365352584047,
          -480.1086736588629,
          -482.3561489977065
         ],
         "z": [
          346.81571363051773,
          346.9675819502175,
          358.964890638263,
          358.81302231856324
         ]
        },
        {
         "marker": {
          "color": "red",
          "size": 3
         },
         "mode": "markers+text",
         "showlegend": false,
         "text": "",
         "textfont": {
          "size": 12
         },
         "textposition": "top center",
         "type": "scatter3d",
         "x": [
          158.3790541543006
         ],
         "y": [
          -481.1463421280556
         ],
         "z": [
          352.8903021343904
         ]
        },
        {
         "line": {
          "color": "rgba(31, 119, 180, 0.8)",
          "width": 4
         },
         "mode": "lines",
         "showlegend": false,
         "type": "scatter3d",
         "x": [
          154.6343754422264,
          162.31068905064296
         ],
         "y": [
          -482.1840105972483,
          -479.9365352584047
         ],
         "z": [
          346.81571363051773,
          346.9675819502175
         ]
        },
        {
         "line": {
          "color": "rgba(31, 119, 180, 0.8)",
          "width": 4
         },
         "mode": "lines",
         "showlegend": false,
         "type": "scatter3d",
         "x": [
          162.31068905064296,
          162.1237328663748
         ],
         "y": [
          -479.9365352584047,
          -480.1086736588629
         ],
         "z": [
          346.9675819502175,
          358.964890638263
         ]
        },
        {
         "line": {
          "color": "rgba(31, 119, 180, 0.8)",
          "width": 4
         },
         "mode": "lines",
         "showlegend": false,
         "type": "scatter3d",
         "x": [
          162.1237328663748,
          154.44741925795824
         ],
         "y": [
          -480.1086736588629,
          -482.3561489977065
         ],
         "z": [
          358.964890638263,
          358.81302231856324
         ]
        },
        {
         "line": {
          "color": "rgba(31, 119, 180, 0.8)",
          "width": 4
         },
         "mode": "lines",
         "showlegend": false,
         "type": "scatter3d",
         "x": [
          154.44741925795824,
          154.6343754422264
         ],
         "y": [
          -482.3561489977065,
          -482.1840105972483
         ],
         "z": [
          358.81302231856324,
          346.81571363051773
         ]
        },
        {
         "color": "rgba(214, 39, 40, 0.8)",
         "name": "P2",
         "opacity": 0.8,
         "type": "mesh3d",
         "x": [
          154.6343754422264,
          162.31068905064296,
          162.1237328663748,
          154.44741925795824
         ],
         "y": [
          -482.1840105972483,
          -479.9365352584047,
          -480.1086736588629,
          -482.3561489977065
         ],
         "z": [
          346.81571363051773,
          346.9675819502175,
          358.964890638263,
          358.81302231856324
         ]
        },
        {
         "marker": {
          "color": "red",
          "size": 3
         },
         "mode": "markers+text",
         "showlegend": false,
         "text": "",
         "textfont": {
          "size": 12
         },
         "textposition": "top center",
         "type": "scatter3d",
         "x": [
          158.3790541543006
         ],
         "y": [
          -481.1463421280556
         ],
         "z": [
          352.8903021343904
         ]
        },
        {
         "line": {
          "color": "rgba(214, 39, 40, 0.8)",
          "width": 4
         },
         "mode": "lines",
         "showlegend": false,
         "type": "scatter3d",
         "x": [
          154.6343754422264,
          162.31068905064296
         ],
         "y": [
          -482.1840105972483,
          -479.9365352584047
         ],
         "z": [
          346.81571363051773,
          346.9675819502175
         ]
        },
        {
         "line": {
          "color": "rgba(214, 39, 40, 0.8)",
          "width": 4
         },
         "mode": "lines",
         "showlegend": false,
         "type": "scatter3d",
         "x": [
          162.31068905064296,
          162.1237328663748
         ],
         "y": [
          -479.9365352584047,
          -480.1086736588629
         ],
         "z": [
          346.9675819502175,
          358.964890638263
         ]
        },
        {
         "line": {
          "color": "rgba(214, 39, 40, 0.8)",
          "width": 4
         },
         "mode": "lines",
         "showlegend": false,
         "type": "scatter3d",
         "x": [
          162.1237328663748,
          154.44741925795824
         ],
         "y": [
          -480.1086736588629,
          -482.3561489977065
         ],
         "z": [
          358.964890638263,
          358.81302231856324
         ]
        },
        {
         "line": {
          "color": "rgba(214, 39, 40, 0.8)",
          "width": 4
         },
         "mode": "lines",
         "showlegend": false,
         "type": "scatter3d",
         "x": [
          154.44741925795824,
          154.6343754422264
         ],
         "y": [
          -482.3561489977065,
          -482.1840105972483
         ],
         "z": [
          358.81302231856324,
          346.81571363051773
         ]
        },
        {
         "color": "rgba(247, 182, 210, 0.8)",
         "name": "P3",
         "opacity": 0.8,
         "type": "mesh3d",
         "x": [
          150.57982082854252,
          158.2561344369591,
          158.06917825269093,
          150.39286464427437
         ],
         "y": [
          -479.2591832294663,
          -477.01170789062274,
          -477.18384629108095,
          -479.4313216299245
         ],
         "z": [
          346.8929907508557,
          347.04485907055545,
          359.04216775860095,
          358.8902994389012
         ]
        },
        {
         "marker": {
          "color": "red",
          "size": 3
         },
         "mode": "markers+text",
         "showlegend": false,
         "text": "",
         "textfont": {
          "size": 12
         },
         "textposition": "top center",
         "type": "scatter3d",
         "x": [
          154.32449954061673
         ],
         "y": [
          -478.22151476027364
         ],
         "z": [
          352.9675792547283
         ]
        },
        {
         "line": {
          "color": "rgba(247, 182, 210, 0.8)",
          "width": 4
         },
         "mode": "lines",
         "showlegend": false,
         "type": "scatter3d",
         "x": [
          150.57982082854252,
          158.2561344369591
         ],
         "y": [
          -479.2591832294663,
          -477.01170789062274
         ],
         "z": [
          346.8929907508557,
          347.04485907055545
         ]
        },
        {
         "line": {
          "color": "rgba(247, 182, 210, 0.8)",
          "width": 4
         },
         "mode": "lines",
         "showlegend": false,
         "type": "scatter3d",
         "x": [
          158.2561344369591,
          158.06917825269093
         ],
         "y": [
          -477.01170789062274,
          -477.18384629108095
         ],
         "z": [
          347.04485907055545,
          359.04216775860095
         ]
        },
        {
         "line": {
          "color": "rgba(247, 182, 210, 0.8)",
          "width": 4
         },
         "mode": "lines",
         "showlegend": false,
         "type": "scatter3d",
         "x": [
          158.06917825269093,
          150.39286464427437
         ],
         "y": [
          -477.18384629108095,
          -479.4313216299245
         ],
         "z": [
          359.04216775860095,
          358.8902994389012
         ]
        },
        {
         "line": {
          "color": "rgba(247, 182, 210, 0.8)",
          "width": 4
         },
         "mode": "lines",
         "showlegend": false,
         "type": "scatter3d",
         "x": [
          150.39286464427437,
          150.57982082854252
         ],
         "y": [
          -479.4313216299245,
          -479.2591832294663
         ],
         "z": [
          358.8902994389012,
          346.8929907508557
         ]
        },
        {
         "line": {
          "color": "black",
          "width": 2
         },
         "mode": "lines",
         "name": "Berechnete Hakenlinie",
         "type": "scatter3d",
         "x": {
          "bdata": "SoQtNiHMY0BKhC02IcxjQIJQ3ExiSmNA",
          "dtype": "f8"
         },
         "y": {
          "bdata": "auDXalcSfsBq4NdqVxJ+wE6vD1OL433A",
          "dtype": "f8"
         },
         "z": {
          "bdata": "QWxzrT4OdkBBbHOtPg52QIp1YjR7D3ZA",
          "dtype": "f8"
         }
        },
        {
         "mode": "text",
         "showlegend": false,
         "text": [
          "Pre-Position"
         ],
         "textfont": {
          "size": 10
         },
         "textposition": "top center",
         "type": "scatter3d",
         "x": [
          158.3790541543006
         ],
         "y": [
          -481.1463421280556
         ],
         "z": [
          352.8903021343904
         ]
        },
        {
         "mode": "text",
         "showlegend": false,
         "text": [
          "Loslassen"
         ],
         "textfont": {
          "size": 10
         },
         "textposition": "top center",
         "type": "scatter3d",
         "x": [
          154.32449954061673
         ],
         "y": [
          -478.22151476027364
         ],
         "z": [
          352.9675792547283
         ]
        },
        {
         "color": "rgba(0,255,0,0.2)",
         "name": "optimale Trajektorie",
         "opacity": 0.8,
         "type": "mesh3d",
         "x": [
          154.63437388380015,
          162.3106875652591,
          162.12373138440495,
          154.447417702946
         ],
         "y": [
          -482.1840103894636,
          -479.9365352997564,
          -480.10867369788906,
          -482.3561487875963
         ],
         "z": [
          346.8157146726451,
          346.9675829872873,
          358.9648916754194,
          358.81302336077715
         ]
        },
        {
         "line": {
          "color": "rgba(0,255,0,0.2)",
          "width": 3
         },
         "mode": "lines",
         "showlegend": false,
         "type": "scatter3d",
         "x": [
          154.63437388380015,
          162.3106875652591
         ],
         "y": [
          -482.1840103894636,
          -479.9365352997564
         ],
         "z": [
          346.8157146726451,
          346.9675829872873
         ]
        },
        {
         "line": {
          "color": "rgba(0,255,0,0.2)",
          "width": 3
         },
         "mode": "lines",
         "showlegend": false,
         "type": "scatter3d",
         "x": [
          162.3106875652591,
          162.12373138440495
         ],
         "y": [
          -479.9365352997564,
          -480.10867369788906
         ],
         "z": [
          346.9675829872873,
          358.9648916754194
         ]
        },
        {
         "line": {
          "color": "rgba(0,255,0,0.2)",
          "width": 3
         },
         "mode": "lines",
         "showlegend": false,
         "type": "scatter3d",
         "x": [
          162.12373138440495,
          154.447417702946
         ],
         "y": [
          -480.10867369788906,
          -482.3561487875963
         ],
         "z": [
          358.9648916754194,
          358.81302336077715
         ]
        },
        {
         "line": {
          "color": "rgba(0,255,0,0.2)",
          "width": 3
         },
         "mode": "lines",
         "showlegend": false,
         "type": "scatter3d",
         "x": [
          154.447417702946,
          154.63437388380015
         ],
         "y": [
          -482.3561487875963,
          -482.1840103894636
         ],
         "z": [
          358.81302336077715,
          346.8157146726451
         ]
        },
        {
         "marker": {
          "color": "green",
          "size": 4
         },
         "mode": "markers",
         "name": "Mitte P3",
         "showlegend": false,
         "type": "scatter3d",
         "x": [
          158.37905263410255
         ],
         "y": [
          -481.1463420436763
         ],
         "z": [
          352.8903031740322
         ]
        },
        {
         "color": "rgba(0,255,0,0.2)",
         "name": "optimale Trajektorie",
         "opacity": 0.8,
         "type": "mesh3d",
         "x": [
          157.07389154920628,
          164.06834371470626,
          161.47110243773096,
          154.47665027223098
         ],
         "y": [
          -480.0554487908449,
          -476.7861838866203,
          -478.64261253768694,
          -481.91187744191154
         ],
         "z": [
          346.40474140850966,
          348.49986572237225,
          360.0674069655524,
          357.9722826516898
         ]
        },
        {
         "line": {
          "color": "rgba(0,255,0,0.2)",
          "width": 3
         },
         "mode": "lines",
         "showlegend": false,
         "type": "scatter3d",
         "x": [
          157.07389154920628,
          164.06834371470626
         ],
         "y": [
          -480.0554487908449,
          -476.7861838866203
         ],
         "z": [
          346.40474140850966,
          348.49986572237225
         ]
        },
        {
         "line": {
          "color": "rgba(0,255,0,0.2)",
          "width": 3
         },
         "mode": "lines",
         "showlegend": false,
         "type": "scatter3d",
         "x": [
          164.06834371470626,
          161.47110243773096
         ],
         "y": [
          -476.7861838866203,
          -478.64261253768694
         ],
         "z": [
          348.49986572237225,
          360.0674069655524
         ]
        },
        {
         "line": {
          "color": "rgba(0,255,0,0.2)",
          "width": 3
         },
         "mode": "lines",
         "showlegend": false,
         "type": "scatter3d",
         "x": [
          161.47110243773096,
          154.47665027223098
         ],
         "y": [
          -478.64261253768694,
          -481.91187744191154
         ],
         "z": [
          360.0674069655524,
          357.9722826516898
         ]
        },
        {
         "line": {
          "color": "rgba(0,255,0,0.2)",
          "width": 3
         },
         "mode": "lines",
         "showlegend": false,
         "type": "scatter3d",
         "x": [
          154.47665027223098,
          157.07389154920628
         ],
         "y": [
          -481.91187744191154,
          -480.0554487908449
         ],
         "z": [
          357.9722826516898,
          346.40474140850966
         ]
        },
        {
         "marker": {
          "color": "green",
          "size": 4
         },
         "mode": "markers",
         "name": "Mitte P3",
         "showlegend": false,
         "type": "scatter3d",
         "x": [
          159.27249699346862
         ],
         "y": [
          -479.3490306642659
         ],
         "z": [
          353.236074187031
         ]
        },
        {
         "color": "rgba(0,255,0,0.2)",
         "name": "optimale Trajektorie",
         "opacity": 0.8,
         "type": "mesh3d",
         "x": [
          154.10459206375154,
          159.95516476592132,
          158.04796273947872,
          152.19739003730894
         ],
         "y": [
          -475.9700075280206,
          -470.8915124220568,
          -473.2547157780506,
          -478.33321088401436
         ],
         "z": [
          347.6144405058793,
          349.60935567082436,
          361.21874197366367,
          359.2238268087186
         ]
        },
        {
         "line": {
          "color": "rgba(0,255,0,0.2)",
          "width": 3
         },
         "mode": "lines",
         "showlegend": false,
         "type": "scatter3d",
         "x": [
          154.10459206375154,
          159.95516476592132
         ],
         "y": [
          -475.9700075280206,
          -470.8915124220568
         ],
         "z": [
          347.6144405058793,
          349.60935567082436
         ]
        },
        {
         "line": {
          "color": "rgba(0,255,0,0.2)",
          "width": 3
         },
         "mode": "lines",
         "showlegend": false,
         "type": "scatter3d",
         "x": [
          159.95516476592132,
          158.04796273947872
         ],
         "y": [
          -470.8915124220568,
          -473.2547157780506
         ],
         "z": [
          349.60935567082436,
          361.21874197366367
         ]
        },
        {
         "line": {
          "color": "rgba(0,255,0,0.2)",
          "width": 3
         },
         "mode": "lines",
         "showlegend": false,
         "type": "scatter3d",
         "x": [
          158.04796273947872,
          152.19739003730894
         ],
         "y": [
          -473.2547157780506,
          -478.33321088401436
         ],
         "z": [
          361.21874197366367,
          359.2238268087186
         ]
        },
        {
         "line": {
          "color": "rgba(0,255,0,0.2)",
          "width": 3
         },
         "mode": "lines",
         "showlegend": false,
         "type": "scatter3d",
         "x": [
          152.19739003730894,
          154.10459206375154
         ],
         "y": [
          -478.33321088401436,
          -475.9700075280206
         ],
         "z": [
          359.2238268087186,
          347.6144405058793
         ]
        },
        {
         "marker": {
          "color": "green",
          "size": 4
         },
         "mode": "markers",
         "name": "Mitte P3",
         "showlegend": false,
         "type": "scatter3d",
         "x": [
          156.07627740161513
         ],
         "y": [
          -474.6123616530355
         ],
         "z": [
          354.4165912397715
         ]
        },
        {
         "color": "rgba(0,255,0,0.2)",
         "name": "optimale Trajektorie",
         "opacity": 0.8,
         "type": "mesh3d",
         "x": [
          152.1911065854075,
          156.92251794974118,
          155.6527892861094,
          150.92137792177573
         ],
         "y": [
          -472.48423970231454,
          -466.32280846538106,
          -468.9567576269086,
          -475.1181888638421
         ],
         "z": [
          348.7757439903779,
          350.6863751986425,
          362.3246783797441,
          360.4140471714795
         ]
        },
        {
         "line": {
          "color": "rgba(0,255,0,0.2)",
          "width": 3
         },
         "mode": "lines",
         "showlegend": false,
         "type": "scatter3d",
         "x": [
          152.1911065854075,
          156.92251794974118
         ],
         "y": [
          -472.48423970231454,
          -466.32280846538106
         ],
         "z": [
          348.7757439903779,
          350.6863751986425
         ]
        },
        {
         "line": {
          "color": "rgba(0,255,0,0.2)",
          "width": 3
         },
         "mode": "lines",
         "showlegend": false,
         "type": "scatter3d",
         "x": [
          156.92251794974118,
          155.6527892861094
         ],
         "y": [
          -466.32280846538106,
          -468.9567576269086
         ],
         "z": [
          350.6863751986425,
          362.3246783797441
         ]
        },
        {
         "line": {
          "color": "rgba(0,255,0,0.2)",
          "width": 3
         },
         "mode": "lines",
         "showlegend": false,
         "type": "scatter3d",
         "x": [
          155.6527892861094,
          150.92137792177573
         ],
         "y": [
          -468.9567576269086,
          -475.1181888638421
         ],
         "z": [
          362.3246783797441,
          360.4140471714795
         ]
        },
        {
         "line": {
          "color": "rgba(0,255,0,0.2)",
          "width": 3
         },
         "mode": "lines",
         "showlegend": false,
         "type": "scatter3d",
         "x": [
          150.92137792177573,
          152.1911065854075
         ],
         "y": [
          -475.1181888638421,
          -472.48423970231454
         ],
         "z": [
          360.4140471714795,
          348.7757439903779
         ]
        },
        {
         "marker": {
          "color": "green",
          "size": 4
         },
         "mode": "markers",
         "name": "Mitte P3",
         "showlegend": false,
         "type": "scatter3d",
         "x": [
          153.92194793575845
         ],
         "y": [
          -470.72049866461157
         ],
         "z": [
          355.550211185061
         ]
        },
        {
         "color": "rgba(0,255,0,0.2)",
         "name": "optimale Trajektorie",
         "opacity": 0.8,
         "type": "mesh3d",
         "x": [
          146.87509792087917,
          150.59208757901857,
          149.87628067705214,
          146.15929101891274
         ],
         "y": [
          -470.96487534278214,
          -464.1027596509518,
          -466.7124342415888,
          -473.5745499334192
         ],
         "z": [
          349.2935996522149,
          351.0529620688932,
          362.74386532784115,
          360.98450291116285
         ]
        },
        {
         "line": {
          "color": "rgba(0,255,0,0.2)",
          "width": 3
         },
         "mode": "lines",
         "showlegend": false,
         "type": "scatter3d",
         "x": [
          146.87509792087917,
          150.59208757901857
         ],
         "y": [
          -470.96487534278214,
          -464.1027596509518
         ],
         "z": [
          349.2935996522149,
          351.0529620688932
         ]
        },
        {
         "line": {
          "color": "rgba(0,255,0,0.2)",
          "width": 3
         },
         "mode": "lines",
         "showlegend": false,
         "type": "scatter3d",
         "x": [
          150.59208757901857,
          149.87628067705214
         ],
         "y": [
          -464.1027596509518,
          -466.7124342415888
         ],
         "z": [
          351.0529620688932,
          362.74386532784115
         ]
        },
        {
         "line": {
          "color": "rgba(0,255,0,0.2)",
          "width": 3
         },
         "mode": "lines",
         "showlegend": false,
         "type": "scatter3d",
         "x": [
          149.87628067705214,
          146.15929101891274
         ],
         "y": [
          -466.7124342415888,
          -473.5745499334192
         ],
         "z": [
          362.74386532784115,
          360.98450291116285
         ]
        },
        {
         "line": {
          "color": "rgba(0,255,0,0.2)",
          "width": 3
         },
         "mode": "lines",
         "showlegend": false,
         "type": "scatter3d",
         "x": [
          146.15929101891274,
          146.87509792087917
         ],
         "y": [
          -473.5745499334192,
          -470.96487534278214
         ],
         "z": [
          360.98450291116285,
          349.2935996522149
         ]
        },
        {
         "marker": {
          "color": "green",
          "size": 4
         },
         "mode": "markers",
         "name": "Mitte P3",
         "showlegend": false,
         "type": "scatter3d",
         "x": [
          148.37568929896565
         ],
         "y": [
          -468.8386547921855
         ],
         "z": [
          356.018732490028
         ]
        },
        {
         "color": "rgba(0,255,0,0.2)",
         "name": "optimale Trajektorie",
         "opacity": 0.8,
         "type": "mesh3d",
         "x": [
          143.74357601688587,
          145.26811337286884,
          146.58465554900783,
          145.06011819302486
         ],
         "y": [
          -472.1085783404218,
          -464.31864672275196,
          -466.08507077285105,
          -473.8750023905209
         ],
         "z": [
          350.02093713609173,
          351.01730616523713,
          362.8133420575901,
          361.8169730284447
         ]
        },
        {
         "line": {
          "color": "rgba(0,255,0,0.2)",
          "width": 3
         },
         "mode": "lines",
         "showlegend": false,
         "type": "scatter3d",
         "x": [
          143.74357601688587,
          145.26811337286884
         ],
         "y": [
          -472.1085783404218,
          -464.31864672275196
         ],
         "z": [
          350.02093713609173,
          351.01730616523713
         ]
        },
        {
         "line": {
          "color": "rgba(0,255,0,0.2)",
          "width": 3
         },
         "mode": "lines",
         "showlegend": false,
         "type": "scatter3d",
         "x": [
          145.26811337286884,
          146.58465554900783
         ],
         "y": [
          -464.31864672275196,
          -466.08507077285105
         ],
         "z": [
          351.01730616523713,
          362.8133420575901
         ]
        },
        {
         "line": {
          "color": "rgba(0,255,0,0.2)",
          "width": 3
         },
         "mode": "lines",
         "showlegend": false,
         "type": "scatter3d",
         "x": [
          146.58465554900783,
          145.06011819302486
         ],
         "y": [
          -466.08507077285105,
          -473.8750023905209
         ],
         "z": [
          362.8133420575901,
          361.8169730284447
         ]
        },
        {
         "line": {
          "color": "rgba(0,255,0,0.2)",
          "width": 3
         },
         "mode": "lines",
         "showlegend": false,
         "type": "scatter3d",
         "x": [
          145.06011819302486,
          143.74357601688587
         ],
         "y": [
          -473.8750023905209,
          -472.1085783404218
         ],
         "z": [
          361.8169730284447,
          350.02093713609173
         ]
        },
        {
         "marker": {
          "color": "green",
          "size": 4
         },
         "mode": "markers",
         "name": "Mitte P3",
         "showlegend": false,
         "type": "scatter3d",
         "x": [
          145.16411578294685
         ],
         "y": [
          -469.0968245566364
         ],
         "z": [
          356.4171395968409
         ]
        },
        {
         "line": {
          "color": "green",
          "width": 2
         },
         "mode": "lines",
         "name": "Optimale Hakenlinie",
         "type": "scatter3d",
         "x": {
          "bdata": "3F39MiHMY0CYZp1LuOhjQIwrTt1wgmNAUBb1mIA9Y0B4kJClBYxiQHQQvm9AJWJA",
          "dtype": "f8"
         },
         "y": {
          "bdata": "6jnBalcSfsAshS2hlfV9wMuRuzvMqX3AGJWbKYdrfcAgkUkha019wEAD6JeMUX3A",
          "dtype": "f8"
         },
         "z": {
          "bdata": "5X+Krj4OdkCmC7r1xhN2QOZpk1uqJnZAsFs+qs04dkCwgHC6TEB2QMbkkZqsRnZA",
          "dtype": "f8"
         }
        },
        {
         "line": {
          "color": "gray",
          "dash": "dash"
         },
         "mode": "lines",
         "name": "Direkte Gerade Spitze -> Senke",
         "type": "scatter3d",
         "x": [
          158.43912056367236,
          144.98070426652515
         ],
         "y": [
          -481.05969175684254,
          -471.57439586306054
         ],
         "z": [
          353.1870205986075,
          352.3232818709671
         ]
        },
        {
         "marker": {
          "color": "magenta",
          "size": 8
         },
         "mode": "markers",
         "name": "Spitze",
         "type": "scatter3d",
         "x": [
          158.43912056367236
         ],
         "y": [
          -481.05969175684254
         ],
         "z": [
          353.1870205986075
         ]
        },
        {
         "marker": {
          "color": "magenta",
          "size": 8
         },
         "mode": "markers",
         "name": "Senke",
         "type": "scatter3d",
         "x": [
          144.98070426652515
         ],
         "y": [
          -471.57439586306054
         ],
         "z": [
          352.3232818709671
         ]
        },
        {
         "mode": "text",
         "showlegend": false,
         "text": [
          "Spitze"
         ],
         "textfont": {
          "size": 10
         },
         "textposition": "top center",
         "type": "scatter3d",
         "x": [
          158.43912056367236
         ],
         "y": [
          -481.05969175684254
         ],
         "z": [
          353.1870205986075
         ]
        },
        {
         "mode": "text",
         "showlegend": false,
         "text": [
          "Senke"
         ],
         "textfont": {
          "size": 10
         },
         "textposition": "top center",
         "type": "scatter3d",
         "x": [
          144.98070426652515
         ],
         "y": [
          -471.57439586306054
         ],
         "z": [
          352.3232818709671
         ]
        }
       ],
       "layout": {
        "legend": {
         "title": {
          "text": "Legende"
         }
        },
        "scene": {
         "aspectmode": "cube",
         "camera": {
          "eye": {
           "x": -1,
           "y": -1,
           "z": -1.5
          },
          "up": {
           "x": 0,
           "y": -1,
           "z": 0
          }
         },
         "xaxis": {
          "title": {
           "text": "X"
          }
         },
         "yaxis": {
          "title": {
           "text": "Y"
          }
         },
         "zaxis": {
          "title": {
           "text": "Z"
          }
         }
        },
        "template": {
         "data": {
          "bar": [
           {
            "error_x": {
             "color": "#2a3f5f"
            },
            "error_y": {
             "color": "#2a3f5f"
            },
            "marker": {
             "line": {
              "color": "#E5ECF6",
              "width": 0.5
             },
             "pattern": {
              "fillmode": "overlay",
              "size": 10,
              "solidity": 0.2
             }
            },
            "type": "bar"
           }
          ],
          "barpolar": [
           {
            "marker": {
             "line": {
              "color": "#E5ECF6",
              "width": 0.5
             },
             "pattern": {
              "fillmode": "overlay",
              "size": 10,
              "solidity": 0.2
             }
            },
            "type": "barpolar"
           }
          ],
          "carpet": [
           {
            "aaxis": {
             "endlinecolor": "#2a3f5f",
             "gridcolor": "white",
             "linecolor": "white",
             "minorgridcolor": "white",
             "startlinecolor": "#2a3f5f"
            },
            "baxis": {
             "endlinecolor": "#2a3f5f",
             "gridcolor": "white",
             "linecolor": "white",
             "minorgridcolor": "white",
             "startlinecolor": "#2a3f5f"
            },
            "type": "carpet"
           }
          ],
          "choropleth": [
           {
            "colorbar": {
             "outlinewidth": 0,
             "ticks": ""
            },
            "type": "choropleth"
           }
          ],
          "contour": [
           {
            "colorbar": {
             "outlinewidth": 0,
             "ticks": ""
            },
            "colorscale": [
             [
              0,
              "#0d0887"
             ],
             [
              0.1111111111111111,
              "#46039f"
             ],
             [
              0.2222222222222222,
              "#7201a8"
             ],
             [
              0.3333333333333333,
              "#9c179e"
             ],
             [
              0.4444444444444444,
              "#bd3786"
             ],
             [
              0.5555555555555556,
              "#d8576b"
             ],
             [
              0.6666666666666666,
              "#ed7953"
             ],
             [
              0.7777777777777778,
              "#fb9f3a"
             ],
             [
              0.8888888888888888,
              "#fdca26"
             ],
             [
              1,
              "#f0f921"
             ]
            ],
            "type": "contour"
           }
          ],
          "contourcarpet": [
           {
            "colorbar": {
             "outlinewidth": 0,
             "ticks": ""
            },
            "type": "contourcarpet"
           }
          ],
          "heatmap": [
           {
            "colorbar": {
             "outlinewidth": 0,
             "ticks": ""
            },
            "colorscale": [
             [
              0,
              "#0d0887"
             ],
             [
              0.1111111111111111,
              "#46039f"
             ],
             [
              0.2222222222222222,
              "#7201a8"
             ],
             [
              0.3333333333333333,
              "#9c179e"
             ],
             [
              0.4444444444444444,
              "#bd3786"
             ],
             [
              0.5555555555555556,
              "#d8576b"
             ],
             [
              0.6666666666666666,
              "#ed7953"
             ],
             [
              0.7777777777777778,
              "#fb9f3a"
             ],
             [
              0.8888888888888888,
              "#fdca26"
             ],
             [
              1,
              "#f0f921"
             ]
            ],
            "type": "heatmap"
           }
          ],
          "histogram": [
           {
            "marker": {
             "pattern": {
              "fillmode": "overlay",
              "size": 10,
              "solidity": 0.2
             }
            },
            "type": "histogram"
           }
          ],
          "histogram2d": [
           {
            "colorbar": {
             "outlinewidth": 0,
             "ticks": ""
            },
            "colorscale": [
             [
              0,
              "#0d0887"
             ],
             [
              0.1111111111111111,
              "#46039f"
             ],
             [
              0.2222222222222222,
              "#7201a8"
             ],
             [
              0.3333333333333333,
              "#9c179e"
             ],
             [
              0.4444444444444444,
              "#bd3786"
             ],
             [
              0.5555555555555556,
              "#d8576b"
             ],
             [
              0.6666666666666666,
              "#ed7953"
             ],
             [
              0.7777777777777778,
              "#fb9f3a"
             ],
             [
              0.8888888888888888,
              "#fdca26"
             ],
             [
              1,
              "#f0f921"
             ]
            ],
            "type": "histogram2d"
           }
          ],
          "histogram2dcontour": [
           {
            "colorbar": {
             "outlinewidth": 0,
             "ticks": ""
            },
            "colorscale": [
             [
              0,
              "#0d0887"
             ],
             [
              0.1111111111111111,
              "#46039f"
             ],
             [
              0.2222222222222222,
              "#7201a8"
             ],
             [
              0.3333333333333333,
              "#9c179e"
             ],
             [
              0.4444444444444444,
              "#bd3786"
             ],
             [
              0.5555555555555556,
              "#d8576b"
             ],
             [
              0.6666666666666666,
              "#ed7953"
             ],
             [
              0.7777777777777778,
              "#fb9f3a"
             ],
             [
              0.8888888888888888,
              "#fdca26"
             ],
             [
              1,
              "#f0f921"
             ]
            ],
            "type": "histogram2dcontour"
           }
          ],
          "mesh3d": [
           {
            "colorbar": {
             "outlinewidth": 0,
             "ticks": ""
            },
            "type": "mesh3d"
           }
          ],
          "parcoords": [
           {
            "line": {
             "colorbar": {
              "outlinewidth": 0,
              "ticks": ""
             }
            },
            "type": "parcoords"
           }
          ],
          "pie": [
           {
            "automargin": true,
            "type": "pie"
           }
          ],
          "scatter": [
           {
            "fillpattern": {
             "fillmode": "overlay",
             "size": 10,
             "solidity": 0.2
            },
            "type": "scatter"
           }
          ],
          "scatter3d": [
           {
            "line": {
             "colorbar": {
              "outlinewidth": 0,
              "ticks": ""
             }
            },
            "marker": {
             "colorbar": {
              "outlinewidth": 0,
              "ticks": ""
             }
            },
            "type": "scatter3d"
           }
          ],
          "scattercarpet": [
           {
            "marker": {
             "colorbar": {
              "outlinewidth": 0,
              "ticks": ""
             }
            },
            "type": "scattercarpet"
           }
          ],
          "scattergeo": [
           {
            "marker": {
             "colorbar": {
              "outlinewidth": 0,
              "ticks": ""
             }
            },
            "type": "scattergeo"
           }
          ],
          "scattergl": [
           {
            "marker": {
             "colorbar": {
              "outlinewidth": 0,
              "ticks": ""
             }
            },
            "type": "scattergl"
           }
          ],
          "scattermap": [
           {
            "marker": {
             "colorbar": {
              "outlinewidth": 0,
              "ticks": ""
             }
            },
            "type": "scattermap"
           }
          ],
          "scattermapbox": [
           {
            "marker": {
             "colorbar": {
              "outlinewidth": 0,
              "ticks": ""
             }
            },
            "type": "scattermapbox"
           }
          ],
          "scatterpolar": [
           {
            "marker": {
             "colorbar": {
              "outlinewidth": 0,
              "ticks": ""
             }
            },
            "type": "scatterpolar"
           }
          ],
          "scatterpolargl": [
           {
            "marker": {
             "colorbar": {
              "outlinewidth": 0,
              "ticks": ""
             }
            },
            "type": "scatterpolargl"
           }
          ],
          "scatterternary": [
           {
            "marker": {
             "colorbar": {
              "outlinewidth": 0,
              "ticks": ""
             }
            },
            "type": "scatterternary"
           }
          ],
          "surface": [
           {
            "colorbar": {
             "outlinewidth": 0,
             "ticks": ""
            },
            "colorscale": [
             [
              0,
              "#0d0887"
             ],
             [
              0.1111111111111111,
              "#46039f"
             ],
             [
              0.2222222222222222,
              "#7201a8"
             ],
             [
              0.3333333333333333,
              "#9c179e"
             ],
             [
              0.4444444444444444,
              "#bd3786"
             ],
             [
              0.5555555555555556,
              "#d8576b"
             ],
             [
              0.6666666666666666,
              "#ed7953"
             ],
             [
              0.7777777777777778,
              "#fb9f3a"
             ],
             [
              0.8888888888888888,
              "#fdca26"
             ],
             [
              1,
              "#f0f921"
             ]
            ],
            "type": "surface"
           }
          ],
          "table": [
           {
            "cells": {
             "fill": {
              "color": "#EBF0F8"
             },
             "line": {
              "color": "white"
             }
            },
            "header": {
             "fill": {
              "color": "#C8D4E3"
             },
             "line": {
              "color": "white"
             }
            },
            "type": "table"
           }
          ]
         },
         "layout": {
          "annotationdefaults": {
           "arrowcolor": "#2a3f5f",
           "arrowhead": 0,
           "arrowwidth": 1
          },
          "autotypenumbers": "strict",
          "coloraxis": {
           "colorbar": {
            "outlinewidth": 0,
            "ticks": ""
           }
          },
          "colorscale": {
           "diverging": [
            [
             0,
             "#8e0152"
            ],
            [
             0.1,
             "#c51b7d"
            ],
            [
             0.2,
             "#de77ae"
            ],
            [
             0.3,
             "#f1b6da"
            ],
            [
             0.4,
             "#fde0ef"
            ],
            [
             0.5,
             "#f7f7f7"
            ],
            [
             0.6,
             "#e6f5d0"
            ],
            [
             0.7,
             "#b8e186"
            ],
            [
             0.8,
             "#7fbc41"
            ],
            [
             0.9,
             "#4d9221"
            ],
            [
             1,
             "#276419"
            ]
           ],
           "sequential": [
            [
             0,
             "#0d0887"
            ],
            [
             0.1111111111111111,
             "#46039f"
            ],
            [
             0.2222222222222222,
             "#7201a8"
            ],
            [
             0.3333333333333333,
             "#9c179e"
            ],
            [
             0.4444444444444444,
             "#bd3786"
            ],
            [
             0.5555555555555556,
             "#d8576b"
            ],
            [
             0.6666666666666666,
             "#ed7953"
            ],
            [
             0.7777777777777778,
             "#fb9f3a"
            ],
            [
             0.8888888888888888,
             "#fdca26"
            ],
            [
             1,
             "#f0f921"
            ]
           ],
           "sequentialminus": [
            [
             0,
             "#0d0887"
            ],
            [
             0.1111111111111111,
             "#46039f"
            ],
            [
             0.2222222222222222,
             "#7201a8"
            ],
            [
             0.3333333333333333,
             "#9c179e"
            ],
            [
             0.4444444444444444,
             "#bd3786"
            ],
            [
             0.5555555555555556,
             "#d8576b"
            ],
            [
             0.6666666666666666,
             "#ed7953"
            ],
            [
             0.7777777777777778,
             "#fb9f3a"
            ],
            [
             0.8888888888888888,
             "#fdca26"
            ],
            [
             1,
             "#f0f921"
            ]
           ]
          },
          "colorway": [
           "#636efa",
           "#EF553B",
           "#00cc96",
           "#ab63fa",
           "#FFA15A",
           "#19d3f3",
           "#FF6692",
           "#B6E880",
           "#FF97FF",
           "#FECB52"
          ],
          "font": {
           "color": "#2a3f5f"
          },
          "geo": {
           "bgcolor": "white",
           "lakecolor": "white",
           "landcolor": "#E5ECF6",
           "showlakes": true,
           "showland": true,
           "subunitcolor": "white"
          },
          "hoverlabel": {
           "align": "left"
          },
          "hovermode": "closest",
          "mapbox": {
           "style": "light"
          },
          "paper_bgcolor": "white",
          "plot_bgcolor": "#E5ECF6",
          "polar": {
           "angularaxis": {
            "gridcolor": "white",
            "linecolor": "white",
            "ticks": ""
           },
           "bgcolor": "#E5ECF6",
           "radialaxis": {
            "gridcolor": "white",
            "linecolor": "white",
            "ticks": ""
           }
          },
          "scene": {
           "xaxis": {
            "backgroundcolor": "#E5ECF6",
            "gridcolor": "white",
            "gridwidth": 2,
            "linecolor": "white",
            "showbackground": true,
            "ticks": "",
            "zerolinecolor": "white"
           },
           "yaxis": {
            "backgroundcolor": "#E5ECF6",
            "gridcolor": "white",
            "gridwidth": 2,
            "linecolor": "white",
            "showbackground": true,
            "ticks": "",
            "zerolinecolor": "white"
           },
           "zaxis": {
            "backgroundcolor": "#E5ECF6",
            "gridcolor": "white",
            "gridwidth": 2,
            "linecolor": "white",
            "showbackground": true,
            "ticks": "",
            "zerolinecolor": "white"
           }
          },
          "shapedefaults": {
           "line": {
            "color": "#2a3f5f"
           }
          },
          "ternary": {
           "aaxis": {
            "gridcolor": "white",
            "linecolor": "white",
            "ticks": ""
           },
           "baxis": {
            "gridcolor": "white",
            "linecolor": "white",
            "ticks": ""
           },
           "bgcolor": "#E5ECF6",
           "caxis": {
            "gridcolor": "white",
            "linecolor": "white",
            "ticks": ""
           }
          },
          "title": {
           "x": 0.05
          },
          "xaxis": {
           "automargin": true,
           "gridcolor": "white",
           "linecolor": "white",
           "ticks": "",
           "title": {
            "standoff": 15
           },
           "zerolinecolor": "white",
           "zerolinewidth": 2
          },
          "yaxis": {
           "automargin": true,
           "gridcolor": "white",
           "linecolor": "white",
           "ticks": "",
           "title": {
            "standoff": 15
           },
           "zerolinecolor": "white",
           "zerolinewidth": 2
          }
         }
        },
        "title": {
         "text": "Haken 3, Trajektorien-Ansatz 4"
        }
       }
      }
     },
     "metadata": {},
     "output_type": "display_data"
    }
   ],
   "source": [
    "visualize_rectangles_html(\n",
    "    rectangles = rectangles_1,\n",
    "    secondary_rectangles = rectangles_optim,\n",
    "    secondary_legend_title = 'optimale Trajektorie',\n",
    "    connect_points = (trajectory_1[1][0], trajectory_1[-1][0]),\n",
    "    hook_num = hook_num,\n",
    "    trajectory_process = 1,\n",
    "    html_filename = '/home/mo/Thesis/Evaluation/Trajektorientests/traj1.html'\n",
    "    )\n",
    "\n",
    "visualize_rectangles_html(\n",
    "    rectangles = rectangles_2,\n",
    "    secondary_rectangles = rectangles_optim,\n",
    "    secondary_legend_title = 'optimale Trajektorie',\n",
    "    connect_points = (trajectory_1[1][0], trajectory_1[-1][0]),\n",
    "    hook_num = hook_num,\n",
    "    trajectory_process = 2,\n",
    "    html_filename = '/home/mo/Thesis/Evaluation/Trajektorientests/traj2.html'\n",
    "    )\n",
    "\n",
    "visualize_rectangles_html(\n",
    "    rectangles = rectangles_3,\n",
    "    secondary_rectangles = rectangles_optim,\n",
    "    secondary_legend_title = 'optimale Trajektorie',\n",
    "    connect_points = (trajectory_1[1][0], trajectory_1[-1][0]),\n",
    "    hook_num = hook_num,\n",
    "    trajectory_process = 3,\n",
    "    html_filename = '/home/mo/Thesis/Evaluation/Trajektorientests/traj3.html'\n",
    "    )\n",
    "\n",
    "visualize_rectangles_html(\n",
    "    rectangles = rectangles_4,\n",
    "    secondary_rectangles = rectangles_optim,\n",
    "    secondary_legend_title = 'optimale Trajektorie',\n",
    "    connect_points = (trajectory_1[1][0], trajectory_1[-1][0]),\n",
    "    hook_num = hook_num,\n",
    "    trajectory_process = 4,\n",
    "    html_filename = '/home/mo/Thesis/Evaluation/Trajektorientests/traj4.html'\n",
    "    )"
   ]
  }
 ],
 "metadata": {
  "kernelspec": {
   "display_name": "Python 3",
   "language": "python",
   "name": "python3"
  },
  "language_info": {
   "codemirror_mode": {
    "name": "ipython",
    "version": 3
   },
   "file_extension": ".py",
   "mimetype": "text/x-python",
   "name": "python",
   "nbconvert_exporter": "python",
   "pygments_lexer": "ipython3",
   "version": "3.8.10"
  }
 },
 "nbformat": 4,
 "nbformat_minor": 5
}
