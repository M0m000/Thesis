{
 "cells": [
  {
   "cell_type": "code",
   "execution_count": 380,
   "id": "c56fbbd2",
   "metadata": {},
   "outputs": [],
   "source": [
    "import csv\n",
    "import numpy as np\n",
    "from scipy.spatial.transform import Rotation as R\n",
    "import matplotlib.pyplot as plt\n",
    "from mpl_toolkits.mplot3d.art3d import Poly3DCollection\n",
    "import matplotlib.cm as cm\n",
    "import plotly.graph_objects as go\n",
    "from FC.FC_frame_handler import FrameHandler"
   ]
  },
  {
   "cell_type": "markdown",
   "id": "d43cbb9f",
   "metadata": {},
   "source": [
    "### **Trajektorien CSVs laden**"
   ]
  },
  {
   "cell_type": "code",
   "execution_count": 381,
   "id": "ce8ad287",
   "metadata": {},
   "outputs": [],
   "source": [
    "def load_csv_to_trajectory(filepath):\n",
    "    \"\"\"Lädt die CSV und stellt Trajektorie-Liste wieder her\"\"\"\n",
    "    trajectory = []\n",
    "    with open(filepath, mode='r', newline='') as file:\n",
    "        reader = csv.reader(file)\n",
    "        next(reader)  # Überspringe Kopfzeile\n",
    "\n",
    "        for row in reader:\n",
    "            numbers = list(map(float, row))\n",
    "            trans = numbers[:3]\n",
    "            rot = numbers[3:]\n",
    "            trajectory.append((trans, rot))\n",
    "    return trajectory"
   ]
  },
  {
   "cell_type": "code",
   "execution_count": 382,
   "id": "fa040c5d",
   "metadata": {},
   "outputs": [],
   "source": [
    "hook_num = 18\n",
    "v = 10\n",
    "hook_model = 'D'\n",
    "frame = '_work'"
   ]
  },
  {
   "cell_type": "code",
   "execution_count": 383,
   "id": "6ae1d02a",
   "metadata": {},
   "outputs": [],
   "source": [
    "traj_optim_path = '/home/mo/Thesis/Evaluation/Trajektorientests/Modell' + hook_model + '/v_' + str(v) + '/' + str(hook_num) + '/trajectory_0' + str(frame) + '.csv'\n",
    "traj_1_path = '/home/mo/Thesis/Evaluation/Trajektorientests/Modell' + hook_model + '/v_' + str(v) + '/' + str(hook_num) + '/trajectory_1' + str(frame) + '.csv'\n",
    "traj_2_path = '/home/mo/Thesis/Evaluation/Trajektorientests/Modell' + hook_model + '/v_' + str(v) + '/' + str(hook_num) + '/trajectory_2' + str(frame) + '.csv'\n",
    "traj_3_path = '/home/mo/Thesis/Evaluation/Trajektorientests/Modell' + hook_model + '/v_' + str(v) + '/' + str(hook_num) + '/trajectory_3' + str(frame) + '.csv'\n",
    "traj_4_path = '/home/mo/Thesis/Evaluation/Trajektorientests/Modell' + hook_model + '/v_' + str(v) + '/' + str(hook_num) + '/trajectory_4' + str(frame) + '.csv'"
   ]
  },
  {
   "cell_type": "code",
   "execution_count": 384,
   "id": "aad60faa",
   "metadata": {},
   "outputs": [],
   "source": [
    "trajectory_optim = load_csv_to_trajectory(traj_optim_path)\n",
    "trajectory_1 = load_csv_to_trajectory(traj_1_path)\n",
    "trajectory_2 = load_csv_to_trajectory(traj_2_path)\n",
    "trajectory_3 = load_csv_to_trajectory(traj_3_path)\n",
    "trajectory_4 = load_csv_to_trajectory(traj_4_path)"
   ]
  },
  {
   "cell_type": "markdown",
   "id": "d66a9f4b",
   "metadata": {},
   "source": [
    "### **Euklidsche Distanz**"
   ]
  },
  {
   "cell_type": "code",
   "execution_count": 385,
   "id": "549aa99e",
   "metadata": {},
   "outputs": [],
   "source": [
    "def interpolate_trajectory(traj, num_points):\n",
    "    \"\"\"\n",
    "    Interpoliert eine Trajektorie auf `num_points` gleichmäßig verteilte Punkte.\n",
    "    Nur die translatorischen Komponenten werden verwendet (3D Punkte).\n",
    "    \"\"\"\n",
    "    positions = np.array([p[0] for p in traj])  # Nur Positionen\n",
    "    rotations = np.array([p[1] for p in traj])  # Nur Rotationen\n",
    "    \n",
    "    # Abstände zwischen aufeinanderfolgenden Punkten\n",
    "    deltas_trans = np.linalg.norm(np.diff(positions, axis=0), axis=1)\n",
    "    deltas_rot = np.linalg.norm(np.diff(rotations, axis=0), axis=1)\n",
    "    cumulative_dist_trans = np.concatenate([[0], np.cumsum(deltas_trans)])\n",
    "    cumulative_dist_rot = np.concatenate([[0], np.cumsum(deltas_rot)])\n",
    "    \n",
    "    # Gleichmäßig verteilte Distanzen entlang der Trajektorie\n",
    "    target_distances_trans = np.linspace(0, cumulative_dist_trans[-1], num_points)\n",
    "    target_distances_rot = np.linspace(0, cumulative_dist_rot[-1], num_points)\n",
    "\n",
    "    # Interpolation\n",
    "    interp_positions = []\n",
    "    interp_rotations = []\n",
    "\n",
    "    for dist in target_distances_trans:\n",
    "        idx = np.searchsorted(cumulative_dist_trans, dist) - 1\n",
    "        idx = np.clip(idx, 0, len(positions) - 2)\n",
    "        # Lokale lineare Interpolation\n",
    "        t = (dist - cumulative_dist_trans[idx]) / (cumulative_dist_trans[idx + 1] - cumulative_dist_trans[idx])\n",
    "        point = (1 - t) * positions[idx] + t * positions[idx + 1]\n",
    "        interp_positions.append(point)\n",
    "    \n",
    "    for rot in target_distances_rot:\n",
    "        idx = np.searchsorted(cumulative_dist_rot, rot) - 1\n",
    "        idx = np.clip(idx, 0, len(rotations) - 2)\n",
    "        # Lokale lineare Interpolation\n",
    "        t = (rot - cumulative_dist_rot[idx]) / (cumulative_dist_rot[idx + 1] - cumulative_dist_rot[idx])\n",
    "        point = (1 - t) * rotations[idx] + t * rotations[idx + 1]\n",
    "        interp_rotations.append(point)\n",
    "    \n",
    "    return np.array(interp_positions), np.array(interp_rotations)\n",
    "\n",
    "\n",
    "def trajectory_distance(traj1, traj2, num_points=10):\n",
    "    \"\"\"\n",
    "    Vergleicht zwei Trajektorien anhand von `num_points` gleichverteilten Punkten.\n",
    "    Gibt die euklidischen Abstände zurück (Liste) und den Mittelwert.\n",
    "    \"\"\"\n",
    "    interp1_trans, interp1_rot = interpolate_trajectory(traj1, num_points)\n",
    "    interp2_trans, interp2_rot = interpolate_trajectory(traj2, num_points)\n",
    "\n",
    "    # Punktweise euklidischer Abstand\n",
    "    distances = np.linalg.norm(interp1_trans - interp2_trans, axis=1)\n",
    "    rotations = np.linalg.norm(interp1_rot - interp2_rot, axis=1)\n",
    "    mean_distance = np.mean(distances)\n",
    "    mean_rotation = np.mean(rotations)\n",
    "    max_distance = np.max(distances)\n",
    "    max_rotation = np.max(rotations)\n",
    "    return distances, mean_distance, max_distance, rotations, mean_rotation, max_rotation"
   ]
  },
  {
   "cell_type": "code",
   "execution_count": 386,
   "id": "2fc24563",
   "metadata": {},
   "outputs": [],
   "source": [
    "def plot_trajectory_distances(\n",
    "    distances=None, \n",
    "    mean_distance=None, \n",
    "    max_distance=None, \n",
    "    rotations=None, \n",
    "    mean_rotation=None, \n",
    "    max_rotation=None, \n",
    "    hook_num=0, \n",
    "    trajectory_process=4\n",
    "):\n",
    "    \"\"\"\n",
    "    Plottet die euklidischen Distanzen und Rotationen entlang der interpolierten Punkte.\n",
    "    \"\"\"\n",
    "\n",
    "    %matplotlib inline\n",
    "    \n",
    "    fig, (ax1, ax2) = plt.subplots(2, 1, figsize=(10, 8), sharex=True)\n",
    "    fig.suptitle(f\"Vergleich zwischen optimaler und berechneter Trajektorie - Haken {hook_num}, Trajektorie-Ansatz {trajectory_process} – Distanz\", fontsize=14)\n",
    "\n",
    "    # Plot 1: Euklidische Distanzen\n",
    "    ax1.set_title(f\"Euklidsche Distanz translatorisch\")\n",
    "    ax1.plot(range(1, len(distances) + 1), distances, linestyle='-', marker = '.', label='Euklidische Distanz [mm]')\n",
    "\n",
    "    if mean_distance is not None:\n",
    "        ax1.plot(range(1, len(distances) + 1), [mean_distance] * len(distances), linestyle='--', color='red', label='Mittelwert')\n",
    "    \n",
    "    if max_distance is not None:\n",
    "        ax1.plot(range(1, len(distances) + 1), [max_distance] * len(distances), linestyle='--', color='magenta', label=f\"Max-Wert - {max_distance:.3f}mm\")\n",
    "\n",
    "    ax1.set_ylabel(\"Distanz [mm]\")\n",
    "    ax1.grid(True)\n",
    "    ax1.legend()\n",
    "\n",
    "    \n",
    "    # Plot 2: Rotationen\n",
    "    ax2.set_title(\"Euklidsche Distanz rotatorisch\")\n",
    "    if rotations is not None:\n",
    "        ax2.plot(range(1, len(rotations) + 1), rotations, linestyle='-', marker = '.', label='Rotationsabweichung [°]', color='orange')\n",
    "\n",
    "        if mean_rotation is not None:\n",
    "            ax2.plot(range(1, len(rotations) + 1), [mean_rotation] * len(rotations), linestyle='--', color='red', label='Mittelwert')\n",
    "        \n",
    "        if max_rotation is not None:\n",
    "            ax2.plot(range(1, len(rotations) + 1), [max_rotation] * len(rotations), linestyle='--', color='magenta', label=f\"Max-Wert - {max_rotation:.3f}°\")\n",
    "\n",
    "        ax2.set_ylabel(\"Rotation [°]\")\n",
    "        ax2.grid(True)\n",
    "        ax2.legend()\n",
    "    else:\n",
    "        ax2.text(0.5, 0.5, \"Keine Rotationsdaten verfügbar\", ha='center', va='center', transform=ax2.transAxes)\n",
    "        ax2.axis('off')\n",
    "    \n",
    "    ax2.set_xlabel(\"Punktindex (entlang der Trajektorie)\")\n",
    "    plt.tight_layout(rect=[0, 0, 1, 0.95])  # Platz für Suptitle\n",
    "    plt.show()"
   ]
  },
  {
   "cell_type": "code",
   "execution_count": 387,
   "id": "0f0e378a",
   "metadata": {},
   "outputs": [],
   "source": [
    "distances, mean_distance, max_distance, rotations, mean_rotation, max_rotation = trajectory_distance(trajectory_1, trajectory_optim, 100)\n",
    "# plot_trajectory_distances(distances, mean_distance, max_distance, rotations, mean_rotation, max_rotation, hook_num = hook_num, trajectory_process = 4)"
   ]
  },
  {
   "cell_type": "markdown",
   "id": "efe3dd89",
   "metadata": {},
   "source": [
    "### **Absolute Distanzen**"
   ]
  },
  {
   "cell_type": "code",
   "execution_count": 388,
   "id": "74d6bbd8",
   "metadata": {},
   "outputs": [],
   "source": [
    "def trajectory_difference(traj1, traj2, num_points=10):\n",
    "    \"\"\"\n",
    "    Vergleicht zwei Trajektorien anhand von `num_points` gleichverteilten Punkten.\n",
    "    Gibt die vorzeichenbehafteten Differenzen für Translation und Rotation zurück.\n",
    "    Rückgabe:\n",
    "        diffs_trans: (num_points, 3) - x, y, z\n",
    "        diffs_rot:   (num_points, 3) - roll, pitch, yaw\n",
    "    \"\"\"\n",
    "    interp1_trans, interp1_rot = interpolate_trajectory(traj1, num_points)\n",
    "    interp2_trans, interp2_rot = interpolate_trajectory(traj2, num_points)\n",
    "\n",
    "    # Vorzeichenbehaftete Differenzen\n",
    "    diffs_trans = interp1_trans - interp2_trans\n",
    "    diffs_rot = interp1_rot - interp2_rot\n",
    "\n",
    "    return diffs_trans, diffs_rot"
   ]
  },
  {
   "cell_type": "code",
   "execution_count": 389,
   "id": "0dd37334",
   "metadata": {},
   "outputs": [],
   "source": [
    "def plot_signed_trajectory_differences(\n",
    "    diffs_trans, \n",
    "    diffs_rot, \n",
    "    hook_num=0, \n",
    "    trajectory_process=4\n",
    "):\n",
    "    \"\"\"\n",
    "    Plottet die vorzeichenbehafteten Differenzen (x, y, z, roll, pitch, yaw) \n",
    "    entlang der interpolierten Punkte.\n",
    "    \"\"\"\n",
    "\n",
    "    %matplotlib inline\n",
    "    \n",
    "    num_points = diffs_trans.shape[0]\n",
    "    indices = range(1, num_points + 1)\n",
    "\n",
    "    fig, (ax1, ax2) = plt.subplots(2, 1, figsize=(10, 8), sharex=True)\n",
    "    fig.suptitle(f\"Vorzeichenbehaftete Differenzen – Haken {hook_num}, Trajektorie-Ansatz {trajectory_process}\", fontsize=14)\n",
    "\n",
    "    # --- Plot 1: Translation (x, y, z) ---\n",
    "    ax1.set_title(\"Translation: Abweichung in x, y, z [mm]\")\n",
    "    ax1.plot(indices, diffs_trans[:, 0], label=\"x [mm]\", marker='.', linestyle='-', color='blue')\n",
    "    ax1.plot(indices, diffs_trans[:, 1], label=\"y [mm]\", marker='.',linestyle='-', color='green')\n",
    "    ax1.plot(indices, diffs_trans[:, 2], label=\"z [mm]\", marker='.',linestyle='-', color='purple')\n",
    "    ax1.axhline(0, color='gray', linestyle='--', linewidth=0.8)\n",
    "\n",
    "    ax1.set_ylabel(\"Abweichung [mm]\")\n",
    "    ax1.grid(True)\n",
    "    ax1.legend()\n",
    "\n",
    "    # --- Plot 2: Rotation (roll, pitch, yaw) ---\n",
    "    ax2.set_title(\"Rotation: Abweichung in Roll, Pitch, Yaw [°]\")\n",
    "    ax2.plot(indices, diffs_rot[:, 0], label=\"roll [°]\", marker='.',linestyle='-', color='orange')\n",
    "    ax2.plot(indices, diffs_rot[:, 1], label=\"pitch [°]\", marker='.',linestyle='-', color='red')\n",
    "    ax2.plot(indices, diffs_rot[:, 2], label=\"yaw [°]\", marker='.',linestyle='-', color='brown')\n",
    "    ax2.axhline(0, color='gray', linestyle='--', linewidth=0.8)\n",
    "\n",
    "    ax2.set_xlabel(\"Punktindex (entlang der Trajektorie)\")\n",
    "    ax2.set_ylabel(\"Abweichung [°]\")\n",
    "    ax2.grid(True)\n",
    "    ax2.legend()\n",
    "\n",
    "    plt.tight_layout(rect=[0, 0, 1, 0.95])\n",
    "    plt.show()"
   ]
  },
  {
   "cell_type": "code",
   "execution_count": 390,
   "id": "0fccff97",
   "metadata": {},
   "outputs": [],
   "source": [
    "diffs_trans, diffs_rot = trajectory_difference(trajectory_1, trajectory_optim, 100)\n",
    "# plot_signed_trajectory_differences(diffs_trans, diffs_rot, hook_num=2, trajectory_process=1)"
   ]
  },
  {
   "cell_type": "markdown",
   "id": "170527fd",
   "metadata": {},
   "source": [
    "### **3D-Darstellung**"
   ]
  },
  {
   "cell_type": "code",
   "execution_count": 391,
   "id": "edfb46e9",
   "metadata": {},
   "outputs": [],
   "source": [
    "def compute_rectangle_corners(trajectory, width=8, height=12):\n",
    "    \"\"\"\n",
    "    Berechnet die Rechteck-Eckpunkte (4 Stück) für jeden Trajektorienpunkt.\n",
    "\n",
    "    :param trajectory: Liste von ([x, y, z], [roll, pitch, yaw]) Einträgen\n",
    "    :param width: Breite des Rechtecks (in X-Richtung)\n",
    "    :param height: Höhe des Rechtecks (in Y-Richtung)\n",
    "    :return: Liste von Rechtecken, jedes als Liste von 4 Eckpunkten (jeweils [x, y, z])\n",
    "    \"\"\"\n",
    "    rectangles = []\n",
    "\n",
    "    # Rechteck im lokalen TCP-Koordinatensystem (XY-Ebene, Zentrum im Ursprung)\n",
    "    half_w = width / 2\n",
    "    half_h = height / 2\n",
    "    local_corners = np.array([\n",
    "        [-half_w, 0, -half_h],\n",
    "        [ half_w, 0, -half_h],\n",
    "        [ half_w, 0, half_h],\n",
    "        [-half_w, 0, half_h]\n",
    "    ])\n",
    "\n",
    "    for trans, rpy in trajectory:\n",
    "        # RPY in Radiant, falls nicht schon so\n",
    "        rot = R.from_euler('xyz', rpy, degrees=True)\n",
    "        rotated_corners = rot.apply(local_corners)\n",
    "        translated_corners = rotated_corners + np.array(trans)\n",
    "        rectangles.append(translated_corners.tolist())\n",
    "    return rectangles"
   ]
  },
  {
   "cell_type": "code",
   "execution_count": 392,
   "id": "05d04c48",
   "metadata": {},
   "outputs": [],
   "source": [
    "rectangles_optim = compute_rectangle_corners(trajectory_optim)\n",
    "rectangles_1 = compute_rectangle_corners(trajectory_1)\n",
    "rectangles_2 = compute_rectangle_corners(trajectory_2)\n",
    "rectangles_3 = compute_rectangle_corners(trajectory_3)\n",
    "rectangles_4 = compute_rectangle_corners(trajectory_4)"
   ]
  },
  {
   "cell_type": "code",
   "execution_count": 393,
   "id": "f78ad7a3",
   "metadata": {},
   "outputs": [],
   "source": [
    "def visualize_rectangles(rectangles, figsize=(8, 8), connect_points=None, \n",
    "                         secondary_rectangles=None, secondary_legend_title=None,\n",
    "                         hook_num = 0, trajectory_process = 1):\n",
    "    \"\"\"\n",
    "    Visualisiert Rechtecke + Trajektorie im 3D-Raum mit Legende und Bezeichnungen der Trajektorienpunkte.\n",
    "    \n",
    "    Zusätzlich kann ein zweiter Satz Rechtecke (grau & transparent) dargestellt werden – inkl. Mittelpunktslinie.\n",
    "\n",
    "    :param rectangles: Liste von Rechtecken (jeweils 4 Punkte [x, y, z])\n",
    "    :param figsize: Größe der Plotfläche (Breite, Höhe)\n",
    "    :param connect_points: Optionales Tupel mit zwei Punkten [x, y, z], die verbunden werden sollen\n",
    "    :param secondary_rectangles: Optionaler zweiter Satz Rechtecke (werden grau dargestellt)\n",
    "    :param secondary_legend_title: Optionaler Legenden-Eintrag für die grauen Rechtecke\n",
    "    \"\"\"\n",
    "    %matplotlib qt\n",
    "\n",
    "    fig = plt.figure(figsize=figsize)\n",
    "    ax = fig.add_subplot(111, projection='3d')\n",
    "    fig.suptitle(f\"Einfädelung Trajektorie Spitze -> Senke (TCP in WORLD-Frame)\", fontsize=14, y=0.98)\n",
    "\n",
    "    centers = []\n",
    "    cmap = cm.get_cmap('tab20')\n",
    "    legend_handles = []\n",
    "\n",
    "    # Berechnete Trajektorie (farbig)\n",
    "    for i, rect in enumerate(rectangles):\n",
    "        color = cmap(i / len(rectangles))\n",
    "        poly = Poly3DCollection([rect], facecolors=color, alpha=0.2, edgecolors=color)\n",
    "        ax.add_collection3d(poly)\n",
    "\n",
    "        if i == 0:\n",
    "            label = 'Pre-Position'\n",
    "        elif i == 1:\n",
    "            label = 'Spitze'\n",
    "        elif i == len(rectangles) - 1:\n",
    "            label = 'Loslassen'\n",
    "        else:\n",
    "            label = str(i + 1)\n",
    "\n",
    "        legend_handles.append(plt.Line2D([0], [0], marker='o', color='w', label=label,\n",
    "                                         markersize=10, markerfacecolor=color))\n",
    "\n",
    "        center = np.mean(np.array(rect), axis=0)\n",
    "        centers.append(center)\n",
    "        ax.scatter(*center, color='red', s=30)\n",
    "        ax.text(center[0]-5, center[1]-5, center[2], f\"P{i}\", color=color, alpha = 0.8, fontsize=12)\n",
    "\n",
    "    # Linie durch die berechneten Mittelpunkte\n",
    "    centers = np.array(centers)\n",
    "    ax.plot(centers[:, 0], centers[:, 1], centers[:, 2], color='black', linewidth=2)\n",
    "\n",
    "    # Beschriftung Hauptlinie\n",
    "    if len(centers) > 0:\n",
    "        ax.text(*centers[0], 'Pre-Position', color='black', fontsize=10)\n",
    "    if len(centers) > 2:\n",
    "        ax.text(*centers[-1], 'Loslassen', color='black', fontsize=10)\n",
    "\n",
    "    # Optimal-Trajektorie (grün)\n",
    "    if secondary_rectangles is not None:\n",
    "        secondary_centers = []\n",
    "        for rect in secondary_rectangles:\n",
    "            poly = Poly3DCollection([rect], facecolors='green', alpha=0.1, edgecolors='green')\n",
    "            ax.add_collection3d(poly)\n",
    "\n",
    "            center = np.mean(np.array(rect), axis=0)\n",
    "            secondary_centers.append(center)\n",
    "            ax.scatter(*center, color='green', s=20)\n",
    "\n",
    "        # Linie durch grüne Mittelpunkte\n",
    "        secondary_centers = np.array(secondary_centers)\n",
    "        ax.plot(secondary_centers[:, 0], secondary_centers[:, 1], secondary_centers[:, 2],\n",
    "                color='green', linewidth=1, linestyle='-')\n",
    "\n",
    "        # Legendenhandle für Optimal-Trajektorie\n",
    "        if secondary_legend_title:\n",
    "            legend_handles.append(plt.Line2D([0], [0], marker='o', color='w', label=secondary_legend_title,\n",
    "                                             markersize=10, markerfacecolor='green'))\n",
    "\n",
    "    # Einzeichnen von Spitze und Senke inkl. graue Verbindungslinie\n",
    "    if connect_points is not None and len(connect_points) == 2:\n",
    "        p1, p2 = np.array(connect_points[0]), np.array(connect_points[1])\n",
    "        ax.plot([p1[0], p2[0]], [p1[1], p2[1]], [p1[2], p2[2]],\n",
    "                color='gray', linestyle='dashed', linewidth=2)\n",
    "        ax.scatter(*p1, 'o', color='magenta', linewidth=6)\n",
    "        ax.scatter(*p2, 'o', color='magenta', linewidth=6)\n",
    "        ax.text(*p1, 'Spitze', color='magenta', fontsize=12, ha='center')\n",
    "        ax.text(*p2, 'Senke', color='magenta', fontsize=12, ha='center')\n",
    "\n",
    "    # Achseneinstellungen\n",
    "    ax.set_xlabel('X')\n",
    "    ax.set_ylabel('Y')\n",
    "    ax.set_zlabel('Z')\n",
    "    ax.set_title(f\"Haken {hook_num}, Trajektorien-Ansatz {trajectory_process}\", fontsize = 10)\n",
    "\n",
    "    all_points = rectangles + (secondary_rectangles if secondary_rectangles else [])\n",
    "    all_points = np.vstack(all_points)\n",
    "    mid = np.mean(all_points, axis=0)\n",
    "    max_range = np.ptp(all_points, axis=0).max() / 2\n",
    "    for i, axis in enumerate([ax.set_xlim, ax.set_ylim, ax.set_zlim]):\n",
    "        axis(mid[i] - max_range, mid[i] + max_range)\n",
    "\n",
    "    ax.set_box_aspect([1, 1, 1])\n",
    "    ax.legend(handles=legend_handles, title=\"Trajektorien-Punkte\", loc='upper left')\n",
    "    plt.tight_layout(pad=0.5, w_pad=0.5, h_pad=0.5)\n",
    "    plt.show()"
   ]
  },
  {
   "cell_type": "code",
   "execution_count": 394,
   "id": "5a944d76",
   "metadata": {},
   "outputs": [
    {
     "data": {
      "text/plain": [
       "\"\\nvisualize_rectangles(rectangles = rectangles_1,\\n                     secondary_rectangles = rectangles_optim,\\n                     secondary_legend_title = 'optimale Trajektorie',\\n                     connect_points = (trajectory_1[1][0], trajectory_1[-1][0]),\\n                     hook_num = hook_num,\\n                     trajectory_process = 1)\\n\\nvisualize_rectangles(rectangles = rectangles_2,\\n                     secondary_rectangles = rectangles_optim,\\n                     secondary_legend_title = 'optimale Trajektorie',\\n                     connect_points = (trajectory_1[1][0], trajectory_1[-1][0]),\\n                     hook_num = hook_num,\\n                     trajectory_process = 2)\\n\\nvisualize_rectangles(rectangles = rectangles_3,\\n                     secondary_rectangles = rectangles_optim,\\n                     secondary_legend_title = 'optimale Trajektorie',\\n                     connect_points = (trajectory_1[1][0], trajectory_1[-1][0]),\\n                     hook_num = hook_num,\\n                     trajectory_process = 3)\\n\\nvisualize_rectangles(rectangles = rectangles_4,\\n                     secondary_rectangles = rectangles_optim,\\n                     secondary_legend_title = 'optimale Trajektorie',\\n                     connect_points = (trajectory_1[1][0], trajectory_1[-1][0]),\\n                     hook_num = hook_num,\\n                     trajectory_process = 4)\\n\""
      ]
     },
     "execution_count": 394,
     "metadata": {},
     "output_type": "execute_result"
    }
   ],
   "source": [
    "'''\n",
    "visualize_rectangles(rectangles = rectangles_1,\n",
    "                     secondary_rectangles = rectangles_optim,\n",
    "                     secondary_legend_title = 'optimale Trajektorie',\n",
    "                     connect_points = (trajectory_1[1][0], trajectory_1[-1][0]),\n",
    "                     hook_num = hook_num,\n",
    "                     trajectory_process = 1)\n",
    "\n",
    "visualize_rectangles(rectangles = rectangles_2,\n",
    "                     secondary_rectangles = rectangles_optim,\n",
    "                     secondary_legend_title = 'optimale Trajektorie',\n",
    "                     connect_points = (trajectory_1[1][0], trajectory_1[-1][0]),\n",
    "                     hook_num = hook_num,\n",
    "                     trajectory_process = 2)\n",
    "\n",
    "visualize_rectangles(rectangles = rectangles_3,\n",
    "                     secondary_rectangles = rectangles_optim,\n",
    "                     secondary_legend_title = 'optimale Trajektorie',\n",
    "                     connect_points = (trajectory_1[1][0], trajectory_1[-1][0]),\n",
    "                     hook_num = hook_num,\n",
    "                     trajectory_process = 3)\n",
    "\n",
    "visualize_rectangles(rectangles = rectangles_4,\n",
    "                     secondary_rectangles = rectangles_optim,\n",
    "                     secondary_legend_title = 'optimale Trajektorie',\n",
    "                     connect_points = (trajectory_1[1][0], trajectory_1[-1][0]),\n",
    "                     hook_num = hook_num,\n",
    "                     trajectory_process = 4)\n",
    "'''"
   ]
  },
  {
   "cell_type": "code",
   "execution_count": 395,
   "id": "0653e612",
   "metadata": {},
   "outputs": [],
   "source": [
    "def visualize_rectangles_html(rectangles, connect_points=None, \n",
    "                              secondary_rectangles=None, secondary_legend_title=None,\n",
    "                              hook_num=0, trajectory_process=1, html_filename=\"/home/mo/Thesis/Evaluation/Trajektorientests/CSV/plot_interaktiv.html\"):\n",
    "    \"\"\"\n",
    "    Visualisiert Rechtecke und Trajektorien im 3D-Raum als interaktive HTML-Datei.\n",
    "    \n",
    "    :param rectangles: Liste von Rechtecken (jeweils 4 Punkte [x, y, z])\n",
    "    :param figsize: Größe der Plotfläche (Breite, Höhe)\n",
    "    :param connect_points: Optionales Tupel mit zwei Punkten [x, y, z], die verbunden werden sollen\n",
    "    :param secondary_rectangles: Optionaler zweiter Satz Rechtecke (werden grau dargestellt)\n",
    "    :param secondary_legend_title: Optionaler Legenden-Eintrag für die grauen Rechtecke\n",
    "    :param html_filename: Der Name der HTML-Datei, die erstellt wird\n",
    "    \"\"\"\n",
    "    fig = go.Figure()\n",
    "\n",
    "    # Berechnete Trajektorie (farbig)\n",
    "    cmap = plt.cm.get_cmap('tab20')\n",
    "    centers = []\n",
    "\n",
    "    for i, rect in enumerate(rectangles):\n",
    "        # Verwende rgba-String für die Farbe (anstatt des RGBA-Tupels)\n",
    "        color = f\"rgba({int(cmap(i / len(rectangles))[0] * 255)}, \" \\\n",
    "                f\"{int(cmap(i / len(rectangles))[1] * 255)}, \" \\\n",
    "                f\"{int(cmap(i / len(rectangles))[2] * 255)}, 0.8)\"\n",
    "        x, y, z = zip(*rect)\n",
    "        fig.add_trace(go.Mesh3d(x=x, y=y, z=z, color=color, opacity=0.8, \n",
    "                               name=f'P{i+1}'))\n",
    "\n",
    "        center = np.mean(np.array(rect), axis=0)\n",
    "        centers.append(center)\n",
    "        \n",
    "        # Text für \"P0\", \"P1\", etc.\n",
    "        if i == 0:\n",
    "            text_label = ''\n",
    "            # text_label = 'Pre-Position'\n",
    "        elif i == 1:\n",
    "            text_label = ''\n",
    "            # text_label = 'Spitze'\n",
    "        elif i == len(rectangles) - 1:\n",
    "            text_label = ''\n",
    "            # text_label = 'Loslassen'\n",
    "        else:\n",
    "            text_label = f'P{i}'  # Standardtext für den Punkt\n",
    "        \n",
    "        # Füge den Text an den Punkten hinzu (mit entsprechender Position)\n",
    "        fig.add_trace(go.Scatter3d(x=[center[0]], y=[center[1]], z=[center[2]], \n",
    "                                   mode='markers+text', marker=dict(size=3, color='red'),\n",
    "                                   text=text_label, textposition=\"top center\", textfont=dict(size=12), showlegend=False))\n",
    "\n",
    "        # Hinzufügen der Umrandung der Rechtecke mit einer Linie\n",
    "        for j in range(4):\n",
    "            x0, y0, z0 = rect[j]\n",
    "            x1, y1, z1 = rect[(j + 1) % 4]  # Nächster Punkt im Rechteck\n",
    "            fig.add_trace(go.Scatter3d(x=[x0, x1], y=[y0, y1], z=[z0, z1], \n",
    "                                       mode='lines', \n",
    "                                       line=dict(color=color, width=4),  # Keine opacity hier\n",
    "                                       showlegend=False))\n",
    "\n",
    "    # Linie durch die berechneten Mittelpunkte\n",
    "    centers = np.array(centers)\n",
    "    fig.add_trace(go.Scatter3d(x=centers[:, 0], y=centers[:, 1], z=centers[:, 2],\n",
    "                               mode='lines', line=dict(color='black', width=2), name='Berechnete Hakenlinie'))\n",
    "\n",
    "    # Beschriftung der ersten und letzten Punkte\n",
    "    if len(centers) > 0:\n",
    "        fig.add_trace(go.Scatter3d(x=[centers[0, 0]], y=[centers[0, 1]], z=[centers[0, 2]],\n",
    "                                   mode='text', text=['Pre-Position'], textposition=\"top center\", textfont=dict(size=10), showlegend=False))\n",
    "    if len(centers) > 2:\n",
    "        fig.add_trace(go.Scatter3d(x=[centers[-1, 0]], y=[centers[-1, 1]], z=[centers[-1, 2]],\n",
    "                                   mode='text', text=['Loslassen'], textposition=\"top center\", textfont=dict(size=10), showlegend=False))\n",
    "\n",
    "    # Optimal-Trajektorie (grün) – Zweite Rechtecke\n",
    "    if secondary_rectangles:\n",
    "        for rect in secondary_rectangles:\n",
    "            x, y, z = zip(*rect)\n",
    "            fig.add_trace(go.Mesh3d(x=x, y=y, z=z, color='rgba(0,255,0,0.2)', opacity=0.8, \n",
    "                                   name=secondary_legend_title or 'Optimale Trajektorie'))\n",
    "        \n",
    "            # Hinzufügen der Umrandung der Rechtecke mit einer Linie\n",
    "            for j in range(4):\n",
    "                x0, y0, z0 = rect[j]\n",
    "                x1, y1, z1 = rect[(j + 1) % 4]  # Nächster Punkt im Rechteck\n",
    "                fig.add_trace(go.Scatter3d(x=[x0, x1], y=[y0, y1], z=[z0, z1], \n",
    "                                           mode='lines', \n",
    "                                           line=dict(color='rgba(0,255,0,0.2)', width=3),  # Keine opacity hier\n",
    "                                           showlegend=False))\n",
    "            \n",
    "            # Hinzufügen eines roten Punktes in der Mitte des Rechtecks\n",
    "            center = np.mean(np.array(rect), axis=0)\n",
    "            fig.add_trace(go.Scatter3d(x=[center[0]], y=[center[1]], z=[center[2]], \n",
    "                                       mode='markers', marker=dict(size=4, color='green'), \n",
    "                                       name=f'Mitte P{i+1}', showlegend=False))\n",
    "        \n",
    "        # Mittelpunkte der sekundären Rechtecke sammeln\n",
    "        secondary_centers = [np.mean(np.array(rect), axis=0) for rect in secondary_rectangles]\n",
    "        secondary_centers = np.array(secondary_centers)\n",
    "\n",
    "        # Linie durch die Mittelpunkte zeichnen\n",
    "        fig.add_trace(go.Scatter3d(\n",
    "            x=secondary_centers[:, 0], y=secondary_centers[:, 1], z=secondary_centers[:, 2],\n",
    "            mode='lines',\n",
    "            line=dict(color='green', width=2),\n",
    "            name='Optimale Hakenlinie'\n",
    "        ))\n",
    "    \n",
    "    # Einzeichnen von Spitze und Senke inkl. graue Verbindungslinie\n",
    "    if connect_points:\n",
    "        p1, p2 = np.array(connect_points[0]), np.array(connect_points[1])\n",
    "        fig.add_trace(go.Scatter3d(x=[p1[0], p2[0]], y=[p1[1], p2[1]], z=[p1[2], p2[2]], \n",
    "                                   mode='lines', line=dict(color='gray', dash='dash'), name='Direkte Gerade Spitze -> Senke'))\n",
    "        fig.add_trace(go.Scatter3d(x=[p1[0]], y=[p1[1]], z=[p1[2]], mode='markers', \n",
    "                                   marker=dict(size=8, color='magenta'), name='Spitze'))\n",
    "        fig.add_trace(go.Scatter3d(x=[p2[0]], y=[p2[1]], z=[p2[2]], mode='markers', \n",
    "                                   marker=dict(size=8, color='magenta'), name='Senke'))\n",
    "        \n",
    "        # Hinzufügen von Text \"Spitze\" und \"Senke\"\n",
    "        fig.add_trace(go.Scatter3d(x=[p1[0]], y=[p1[1]], z=[p1[2]], mode='text', \n",
    "                                   text=['Spitze'], textposition=\"top center\", textfont=dict(size=10), showlegend=False))\n",
    "        fig.add_trace(go.Scatter3d(x=[p2[0]], y=[p2[1]], z=[p2[2]], mode='text', \n",
    "                                   text=['Senke'], textposition=\"top center\", textfont=dict(size=10), showlegend=False))\n",
    "\n",
    "    # Achsen und Layout\n",
    "    fig.update_layout(scene=dict(\n",
    "                        xaxis_title='X',\n",
    "                        yaxis_title='Y',\n",
    "                        zaxis_title='Z',\n",
    "                        aspectmode='cube'),\n",
    "                      title=f'Haken {hook_num}, Trajektorien-Ansatz {trajectory_process}',\n",
    "                      legend=dict(title=\"Legende\"))\n",
    "    \n",
    "    # HTML exportieren\n",
    "    fig.write_html(html_filename)\n",
    "    print(f\"HTML-Datei '{html_filename}' erfolgreich erstellt!\")\n",
    "    fig.show()"
   ]
  },
  {
   "cell_type": "code",
   "execution_count": 396,
   "id": "2e400931",
   "metadata": {},
   "outputs": [
    {
     "name": "stdout",
     "output_type": "stream",
     "text": [
      "HTML-Datei '/home/mo/Thesis/Evaluation/Trajektorientests/traj1.html' erfolgreich erstellt!\n"
     ]
    },
    {
     "name": "stderr",
     "output_type": "stream",
     "text": [
      "/tmp/ipykernel_366278/442480858.py:17: MatplotlibDeprecationWarning:\n",
      "\n",
      "The get_cmap function was deprecated in Matplotlib 3.7 and will be removed two minor releases later. Use ``matplotlib.colormaps[name]`` or ``matplotlib.colormaps.get_cmap(obj)`` instead.\n",
      "\n"
     ]
    },
    {
     "data": {
      "application/vnd.plotly.v1+json": {
       "config": {
        "plotlyServerURL": "https://plot.ly"
       },
       "data": [
        {
         "color": "rgba(31, 119, 180, 0.8)",
         "name": "P1",
         "opacity": 0.8,
         "type": "mesh3d",
         "x": [
          902.7503840360102,
          910.7466322393177,
          911.0872159176204,
          903.0909677143129
         ],
         "y": [
          -489.8340264645108,
          -489.92597955360327,
          -489.92936561045025,
          -489.8374125213578
         ],
         "z": [
          353.57256744028774,
          353.7996341716892,
          341.80446884174506,
          341.5774021103436
         ]
        },
        {
         "marker": {
          "color": "red",
          "size": 3
         },
         "mode": "markers+text",
         "showlegend": false,
         "text": "",
         "textfont": {
          "size": 12
         },
         "textposition": "top center",
         "type": "scatter3d",
         "x": [
          906.9187999768153
         ],
         "y": [
          -489.88169603748054
         ],
         "z": [
          347.6885181410164
         ]
        },
        {
         "line": {
          "color": "rgba(31, 119, 180, 0.8)",
          "width": 4
         },
         "mode": "lines",
         "showlegend": false,
         "type": "scatter3d",
         "x": [
          902.7503840360102,
          910.7466322393177
         ],
         "y": [
          -489.8340264645108,
          -489.92597955360327
         ],
         "z": [
          353.57256744028774,
          353.7996341716892
         ]
        },
        {
         "line": {
          "color": "rgba(31, 119, 180, 0.8)",
          "width": 4
         },
         "mode": "lines",
         "showlegend": false,
         "type": "scatter3d",
         "x": [
          910.7466322393177,
          911.0872159176204
         ],
         "y": [
          -489.92597955360327,
          -489.92936561045025
         ],
         "z": [
          353.7996341716892,
          341.80446884174506
         ]
        },
        {
         "line": {
          "color": "rgba(31, 119, 180, 0.8)",
          "width": 4
         },
         "mode": "lines",
         "showlegend": false,
         "type": "scatter3d",
         "x": [
          911.0872159176204,
          903.0909677143129
         ],
         "y": [
          -489.92936561045025,
          -489.8374125213578
         ],
         "z": [
          341.80446884174506,
          341.5774021103436
         ]
        },
        {
         "line": {
          "color": "rgba(31, 119, 180, 0.8)",
          "width": 4
         },
         "mode": "lines",
         "showlegend": false,
         "type": "scatter3d",
         "x": [
          903.0909677143129,
          902.7503840360102
         ],
         "y": [
          -489.8374125213578,
          -489.8340264645108
         ],
         "z": [
          341.5774021103436,
          353.57256744028774
         ]
        },
        {
         "color": "rgba(174, 199, 232, 0.8)",
         "name": "P2",
         "opacity": 0.8,
         "type": "mesh3d",
         "x": [
          904.385379038394,
          907.8702590659458,
          909.4059375286691,
          905.9210575011174
         ],
         "y": [
          -496.5120406826621,
          -494.5454886552002,
          -483.3218459555607,
          -485.2883979830226
         ],
         "z": [
          348.8166204193268,
          341.88926274725185,
          345.84799186275825,
          352.7753495348332
         ]
        },
        {
         "marker": {
          "color": "red",
          "size": 3
         },
         "mode": "markers+text",
         "showlegend": false,
         "text": "",
         "textfont": {
          "size": 12
         },
         "textposition": "top center",
         "type": "scatter3d",
         "x": [
          906.8956582835316
         ],
         "y": [
          -489.9169433191114
         ],
         "z": [
          347.33230614104247
         ]
        },
        {
         "line": {
          "color": "rgba(174, 199, 232, 0.8)",
          "width": 4
         },
         "mode": "lines",
         "showlegend": false,
         "type": "scatter3d",
         "x": [
          904.385379038394,
          907.8702590659458
         ],
         "y": [
          -496.5120406826621,
          -494.5454886552002
         ],
         "z": [
          348.8166204193268,
          341.88926274725185
         ]
        },
        {
         "line": {
          "color": "rgba(174, 199, 232, 0.8)",
          "width": 4
         },
         "mode": "lines",
         "showlegend": false,
         "type": "scatter3d",
         "x": [
          907.8702590659458,
          909.4059375286691
         ],
         "y": [
          -494.5454886552002,
          -483.3218459555607
         ],
         "z": [
          341.88926274725185,
          345.84799186275825
         ]
        },
        {
         "line": {
          "color": "rgba(174, 199, 232, 0.8)",
          "width": 4
         },
         "mode": "lines",
         "showlegend": false,
         "type": "scatter3d",
         "x": [
          909.4059375286691,
          905.9210575011174
         ],
         "y": [
          -483.3218459555607,
          -485.2883979830226
         ],
         "z": [
          345.84799186275825,
          352.7753495348332
         ]
        },
        {
         "line": {
          "color": "rgba(174, 199, 232, 0.8)",
          "width": 4
         },
         "mode": "lines",
         "showlegend": false,
         "type": "scatter3d",
         "x": [
          905.9210575011174,
          904.385379038394
         ],
         "y": [
          -485.2883979830226,
          -496.5120406826621
         ],
         "z": [
          352.7753495348332,
          348.8166204193268
         ]
        },
        {
         "color": "rgba(255, 187, 120, 0.8)",
         "name": "P3",
         "opacity": 0.8,
         "type": "mesh3d",
         "x": [
          903.9013103078127,
          908.733559966729,
          908.8309814873791,
          903.9987318284627
         ],
         "y": [
          -495.1068907058855,
          -492.6992772595161,
          -481.6162296341103,
          -484.0238430804797
         ],
         "z": [
          351.24719631087305,
          345.34357363265565,
          349.9432001805724,
          355.8468228587898
         ]
        },
        {
         "marker": {
          "color": "red",
          "size": 3
         },
         "mode": "markers+text",
         "showlegend": false,
         "text": "P2",
         "textfont": {
          "size": 12
         },
         "textposition": "top center",
         "type": "scatter3d",
         "x": [
          906.366145897596
         ],
         "y": [
          -488.3615601699979
         ],
         "z": [
          350.5951982457227
         ]
        },
        {
         "line": {
          "color": "rgba(255, 187, 120, 0.8)",
          "width": 4
         },
         "mode": "lines",
         "showlegend": false,
         "type": "scatter3d",
         "x": [
          903.9013103078127,
          908.733559966729
         ],
         "y": [
          -495.1068907058855,
          -492.6992772595161
         ],
         "z": [
          351.24719631087305,
          345.34357363265565
         ]
        },
        {
         "line": {
          "color": "rgba(255, 187, 120, 0.8)",
          "width": 4
         },
         "mode": "lines",
         "showlegend": false,
         "type": "scatter3d",
         "x": [
          908.733559966729,
          908.8309814873791
         ],
         "y": [
          -492.6992772595161,
          -481.6162296341103
         ],
         "z": [
          345.34357363265565,
          349.9432001805724
         ]
        },
        {
         "line": {
          "color": "rgba(255, 187, 120, 0.8)",
          "width": 4
         },
         "mode": "lines",
         "showlegend": false,
         "type": "scatter3d",
         "x": [
          908.8309814873791,
          903.9987318284627
         ],
         "y": [
          -481.6162296341103,
          -484.0238430804797
         ],
         "z": [
          349.9432001805724,
          355.8468228587898
         ]
        },
        {
         "line": {
          "color": "rgba(255, 187, 120, 0.8)",
          "width": 4
         },
         "mode": "lines",
         "showlegend": false,
         "type": "scatter3d",
         "x": [
          903.9987318284627,
          903.9013103078127
         ],
         "y": [
          -484.0238430804797,
          -495.1068907058855
         ],
         "z": [
          355.8468228587898,
          351.24719631087305
         ]
        },
        {
         "color": "rgba(152, 223, 138, 0.8)",
         "name": "P4",
         "opacity": 0.8,
         "type": "mesh3d",
         "x": [
          902.8758166578675,
          907.0028698678279,
          908.0665793943267,
          903.9395261843663
         ],
         "y": [
          -493.55996609422584,
          -491.25074925970927,
          -480.2289690301511,
          -482.5381858646677
         ],
         "z": [
          353.8100128208918,
          347.35749785280836,
          351.98230948297856,
          358.434824451062
         ]
        },
        {
         "marker": {
          "color": "red",
          "size": 3
         },
         "mode": "markers+text",
         "showlegend": false,
         "text": "P3",
         "textfont": {
          "size": 12
         },
         "textposition": "top center",
         "type": "scatter3d",
         "x": [
          905.4711980260972
         ],
         "y": [
          -486.8944675621885
         ],
         "z": [
          352.8961611519352
         ]
        },
        {
         "line": {
          "color": "rgba(152, 223, 138, 0.8)",
          "width": 4
         },
         "mode": "lines",
         "showlegend": false,
         "type": "scatter3d",
         "x": [
          902.8758166578675,
          907.0028698678279
         ],
         "y": [
          -493.55996609422584,
          -491.25074925970927
         ],
         "z": [
          353.8100128208918,
          347.35749785280836
         ]
        },
        {
         "line": {
          "color": "rgba(152, 223, 138, 0.8)",
          "width": 4
         },
         "mode": "lines",
         "showlegend": false,
         "type": "scatter3d",
         "x": [
          907.0028698678279,
          908.0665793943267
         ],
         "y": [
          -491.25074925970927,
          -480.2289690301511
         ],
         "z": [
          347.35749785280836,
          351.98230948297856
         ]
        },
        {
         "line": {
          "color": "rgba(152, 223, 138, 0.8)",
          "width": 4
         },
         "mode": "lines",
         "showlegend": false,
         "type": "scatter3d",
         "x": [
          908.0665793943267,
          903.9395261843663
         ],
         "y": [
          -480.2289690301511,
          -482.5381858646677
         ],
         "z": [
          351.98230948297856,
          358.434824451062
         ]
        },
        {
         "line": {
          "color": "rgba(152, 223, 138, 0.8)",
          "width": 4
         },
         "mode": "lines",
         "showlegend": false,
         "type": "scatter3d",
         "x": [
          903.9395261843663,
          902.8758166578675
         ],
         "y": [
          -482.5381858646677,
          -493.55996609422584
         ],
         "z": [
          358.434824451062,
          353.8100128208918
         ]
        },
        {
         "color": "rgba(255, 152, 150, 0.8)",
         "name": "P5",
         "opacity": 0.8,
         "type": "mesh3d",
         "x": [
          901.8400211926772,
          905.5725270649034,
          907.3416136866139,
          903.6091078143877
         ],
         "y": [
          -491.8772813329282,
          -489.53345448547213,
          -478.6783929932335,
          -481.02221984068956
         ],
         "z": [
          357.2615294005131,
          350.585087562008,
          355.3848763620078,
          362.06131820051286
         ]
        },
        {
         "marker": {
          "color": "red",
          "size": 3
         },
         "mode": "markers+text",
         "showlegend": false,
         "text": "P4",
         "textfont": {
          "size": 12
         },
         "textposition": "top center",
         "type": "scatter3d",
         "x": [
          904.5908174396455
         ],
         "y": [
          -485.27783716308085
         ],
         "z": [
          356.32320288126044
         ]
        },
        {
         "line": {
          "color": "rgba(255, 152, 150, 0.8)",
          "width": 4
         },
         "mode": "lines",
         "showlegend": false,
         "type": "scatter3d",
         "x": [
          901.8400211926772,
          905.5725270649034
         ],
         "y": [
          -491.8772813329282,
          -489.53345448547213
         ],
         "z": [
          357.2615294005131,
          350.585087562008
         ]
        },
        {
         "line": {
          "color": "rgba(255, 152, 150, 0.8)",
          "width": 4
         },
         "mode": "lines",
         "showlegend": false,
         "type": "scatter3d",
         "x": [
          905.5725270649034,
          907.3416136866139
         ],
         "y": [
          -489.53345448547213,
          -478.6783929932335
         ],
         "z": [
          350.585087562008,
          355.3848763620078
         ]
        },
        {
         "line": {
          "color": "rgba(255, 152, 150, 0.8)",
          "width": 4
         },
         "mode": "lines",
         "showlegend": false,
         "type": "scatter3d",
         "x": [
          907.3416136866139,
          903.6091078143877
         ],
         "y": [
          -478.6783929932335,
          -481.02221984068956
         ],
         "z": [
          355.3848763620078,
          362.06131820051286
         ]
        },
        {
         "line": {
          "color": "rgba(255, 152, 150, 0.8)",
          "width": 4
         },
         "mode": "lines",
         "showlegend": false,
         "type": "scatter3d",
         "x": [
          903.6091078143877,
          901.8400211926772
         ],
         "y": [
          -481.02221984068956,
          -491.8772813329282
         ],
         "z": [
          362.06131820051286,
          357.2615294005131
         ]
        },
        {
         "color": "rgba(197, 176, 213, 0.8)",
         "name": "P6",
         "opacity": 0.8,
         "type": "mesh3d",
         "x": [
          900.9558425738663,
          905.6375553505184,
          906.4779190585249,
          901.7962062818729
         ],
         "y": [
          -490.40447497361566,
          -487.6226300368618,
          -477.08260526456337,
          -479.86445020131725
         ],
         "z": [
          361.0564120226732,
          355.19613009901207,
          360.87078133389883,
          366.73106325756
         ]
        },
        {
         "marker": {
          "color": "red",
          "size": 3
         },
         "mode": "markers+text",
         "showlegend": false,
         "text": "P5",
         "textfont": {
          "size": 12
         },
         "textposition": "top center",
         "type": "scatter3d",
         "x": [
          903.7168808161956
         ],
         "y": [
          -483.7435401190895
         ],
         "z": [
          360.963596678286
         ]
        },
        {
         "line": {
          "color": "rgba(197, 176, 213, 0.8)",
          "width": 4
         },
         "mode": "lines",
         "showlegend": false,
         "type": "scatter3d",
         "x": [
          900.9558425738663,
          905.6375553505184
         ],
         "y": [
          -490.40447497361566,
          -487.6226300368618
         ],
         "z": [
          361.0564120226732,
          355.19613009901207
         ]
        },
        {
         "line": {
          "color": "rgba(197, 176, 213, 0.8)",
          "width": 4
         },
         "mode": "lines",
         "showlegend": false,
         "type": "scatter3d",
         "x": [
          905.6375553505184,
          906.4779190585249
         ],
         "y": [
          -487.6226300368618,
          -477.08260526456337
         ],
         "z": [
          355.19613009901207,
          360.87078133389883
         ]
        },
        {
         "line": {
          "color": "rgba(197, 176, 213, 0.8)",
          "width": 4
         },
         "mode": "lines",
         "showlegend": false,
         "type": "scatter3d",
         "x": [
          906.4779190585249,
          901.7962062818729
         ],
         "y": [
          -477.08260526456337,
          -479.86445020131725
         ],
         "z": [
          360.87078133389883,
          366.73106325756
         ]
        },
        {
         "line": {
          "color": "rgba(197, 176, 213, 0.8)",
          "width": 4
         },
         "mode": "lines",
         "showlegend": false,
         "type": "scatter3d",
         "x": [
          901.7962062818729,
          900.9558425738663
         ],
         "y": [
          -479.86445020131725,
          -490.40447497361566
         ],
         "z": [
          366.73106325756,
          361.0564120226732
         ]
        },
        {
         "color": "rgba(140, 86, 75, 0.8)",
         "name": "P7",
         "opacity": 0.8,
         "type": "mesh3d",
         "x": [
          899.5455691239376,
          903.5356282739116,
          905.3733852520847,
          901.3833261021108
         ],
         "y": [
          -488.97392616507307,
          -486.31454964186486,
          -475.81217060443566,
          -478.4715471276439
         ],
         "z": [
          365.0862382686604,
          358.6825561647831,
          364.18915982251474,
          370.59284192639205
         ]
        },
        {
         "marker": {
          "color": "red",
          "size": 3
         },
         "mode": "markers+text",
         "showlegend": false,
         "text": "P6",
         "textfont": {
          "size": 12
         },
         "textposition": "top center",
         "type": "scatter3d",
         "x": [
          902.4594771880113
         ],
         "y": [
          -482.3930483847543
         ],
         "z": [
          364.63769904558757
         ]
        },
        {
         "line": {
          "color": "rgba(140, 86, 75, 0.8)",
          "width": 4
         },
         "mode": "lines",
         "showlegend": false,
         "type": "scatter3d",
         "x": [
          899.5455691239376,
          903.5356282739116
         ],
         "y": [
          -488.97392616507307,
          -486.31454964186486
         ],
         "z": [
          365.0862382686604,
          358.6825561647831
         ]
        },
        {
         "line": {
          "color": "rgba(140, 86, 75, 0.8)",
          "width": 4
         },
         "mode": "lines",
         "showlegend": false,
         "type": "scatter3d",
         "x": [
          903.5356282739116,
          905.3733852520847
         ],
         "y": [
          -486.31454964186486,
          -475.81217060443566
         ],
         "z": [
          358.6825561647831,
          364.18915982251474
         ]
        },
        {
         "line": {
          "color": "rgba(140, 86, 75, 0.8)",
          "width": 4
         },
         "mode": "lines",
         "showlegend": false,
         "type": "scatter3d",
         "x": [
          905.3733852520847,
          901.3833261021108
         ],
         "y": [
          -475.81217060443566,
          -478.4715471276439
         ],
         "z": [
          364.18915982251474,
          370.59284192639205
         ]
        },
        {
         "line": {
          "color": "rgba(140, 86, 75, 0.8)",
          "width": 4
         },
         "mode": "lines",
         "showlegend": false,
         "type": "scatter3d",
         "x": [
          901.3833261021108,
          899.5455691239376
         ],
         "y": [
          -478.4715471276439,
          -488.97392616507307
         ],
         "z": [
          370.59284192639205,
          365.0862382686604
         ]
        },
        {
         "color": "rgba(227, 119, 194, 0.8)",
         "name": "P8",
         "opacity": 0.8,
         "type": "mesh3d",
         "x": [
          898.2675003164725,
          901.8995834015569,
          904.4518014064381,
          900.8197183213537
         ],
         "y": [
          -487.70897681209016,
          -484.9772205339545,
          -474.7122707417803,
          -477.44402701991595
         ],
         "z": [
          370.02080948802893,
          363.4370810534784,
          369.10426633540646,
          375.687994769957
         ]
        },
        {
         "marker": {
          "color": "red",
          "size": 3
         },
         "mode": "markers+text",
         "showlegend": false,
         "text": "P7",
         "textfont": {
          "size": 12
         },
         "textposition": "top center",
         "type": "scatter3d",
         "x": [
          901.3596508614554
         ],
         "y": [
          -481.2106237769352
         ],
         "z": [
          369.5625379117177
         ]
        },
        {
         "line": {
          "color": "rgba(227, 119, 194, 0.8)",
          "width": 4
         },
         "mode": "lines",
         "showlegend": false,
         "type": "scatter3d",
         "x": [
          898.2675003164725,
          901.8995834015569
         ],
         "y": [
          -487.70897681209016,
          -484.9772205339545
         ],
         "z": [
          370.02080948802893,
          363.4370810534784
         ]
        },
        {
         "line": {
          "color": "rgba(227, 119, 194, 0.8)",
          "width": 4
         },
         "mode": "lines",
         "showlegend": false,
         "type": "scatter3d",
         "x": [
          901.8995834015569,
          904.4518014064381
         ],
         "y": [
          -484.9772205339545,
          -474.7122707417803
         ],
         "z": [
          363.4370810534784,
          369.10426633540646
         ]
        },
        {
         "line": {
          "color": "rgba(227, 119, 194, 0.8)",
          "width": 4
         },
         "mode": "lines",
         "showlegend": false,
         "type": "scatter3d",
         "x": [
          904.4518014064381,
          900.8197183213537
         ],
         "y": [
          -474.7122707417803,
          -477.44402701991595
         ],
         "z": [
          369.10426633540646,
          375.687994769957
         ]
        },
        {
         "line": {
          "color": "rgba(227, 119, 194, 0.8)",
          "width": 4
         },
         "mode": "lines",
         "showlegend": false,
         "type": "scatter3d",
         "x": [
          900.8197183213537,
          898.2675003164725
         ],
         "y": [
          -477.44402701991595,
          -487.70897681209016
         ],
         "z": [
          375.687994769957,
          370.02080948802893
         ]
        },
        {
         "color": "rgba(127, 127, 127, 0.8)",
         "name": "P9",
         "opacity": 0.8,
         "type": "mesh3d",
         "x": [
          896.9278940224931,
          901.3128138516589,
          903.2331746762579,
          898.8482548470921
         ],
         "y": [
          -486.86694792659614,
          -483.6984775121212,
          -473.9202978949337,
          -477.08876830940864
         ],
         "z": [
          376.80721255583245,
          370.9137184034314,
          377.599480714295,
          383.49297486669604
         ]
        },
        {
         "marker": {
          "color": "red",
          "size": 3
         },
         "mode": "markers+text",
         "showlegend": false,
         "text": "P8",
         "textfont": {
          "size": 12
         },
         "textposition": "top center",
         "type": "scatter3d",
         "x": [
          900.0805343493755
         ],
         "y": [
          -480.3936229107649
         ],
         "z": [
          377.20334663506367
         ]
        },
        {
         "line": {
          "color": "rgba(127, 127, 127, 0.8)",
          "width": 4
         },
         "mode": "lines",
         "showlegend": false,
         "type": "scatter3d",
         "x": [
          896.9278940224931,
          901.3128138516589
         ],
         "y": [
          -486.86694792659614,
          -483.6984775121212
         ],
         "z": [
          376.80721255583245,
          370.9137184034314
         ]
        },
        {
         "line": {
          "color": "rgba(127, 127, 127, 0.8)",
          "width": 4
         },
         "mode": "lines",
         "showlegend": false,
         "type": "scatter3d",
         "x": [
          901.3128138516589,
          903.2331746762579
         ],
         "y": [
          -483.6984775121212,
          -473.9202978949337
         ],
         "z": [
          370.9137184034314,
          377.599480714295
         ]
        },
        {
         "line": {
          "color": "rgba(127, 127, 127, 0.8)",
          "width": 4
         },
         "mode": "lines",
         "showlegend": false,
         "type": "scatter3d",
         "x": [
          903.2331746762579,
          898.8482548470921
         ],
         "y": [
          -473.9202978949337,
          -477.08876830940864
         ],
         "z": [
          377.599480714295,
          383.49297486669604
         ]
        },
        {
         "line": {
          "color": "rgba(127, 127, 127, 0.8)",
          "width": 4
         },
         "mode": "lines",
         "showlegend": false,
         "type": "scatter3d",
         "x": [
          898.8482548470921,
          896.9278940224931
         ],
         "y": [
          -477.08876830940864,
          -486.86694792659614
         ],
         "z": [
          383.49297486669604,
          376.80721255583245
         ]
        },
        {
         "color": "rgba(188, 189, 34, 0.8)",
         "name": "P10",
         "opacity": 0.8,
         "type": "mesh3d",
         "x": [
          895.3436692106608,
          899.9158972434591,
          901.7488681862031,
          897.1766401534048
         ],
         "y": [
          -486.28125378166567,
          -482.94486568191525,
          -473.43970742553995,
          -476.7760955252904
         ],
         "z": [
          381.8534467562325,
          376.1998421305147,
          383.29154037877066,
          388.94514500448844
         ]
        },
        {
         "marker": {
          "color": "red",
          "size": 3
         },
         "mode": "markers+text",
         "showlegend": false,
         "text": "P9",
         "textfont": {
          "size": 12
         },
         "textposition": "top center",
         "type": "scatter3d",
         "x": [
          898.546268698432
         ],
         "y": [
          -479.86048060360287
         ],
         "z": [
          382.57249356750157
         ]
        },
        {
         "line": {
          "color": "rgba(188, 189, 34, 0.8)",
          "width": 4
         },
         "mode": "lines",
         "showlegend": false,
         "type": "scatter3d",
         "x": [
          895.3436692106608,
          899.9158972434591
         ],
         "y": [
          -486.28125378166567,
          -482.94486568191525
         ],
         "z": [
          381.8534467562325,
          376.1998421305147
         ]
        },
        {
         "line": {
          "color": "rgba(188, 189, 34, 0.8)",
          "width": 4
         },
         "mode": "lines",
         "showlegend": false,
         "type": "scatter3d",
         "x": [
          899.9158972434591,
          901.7488681862031
         ],
         "y": [
          -482.94486568191525,
          -473.43970742553995
         ],
         "z": [
          376.1998421305147,
          383.29154037877066
         ]
        },
        {
         "line": {
          "color": "rgba(188, 189, 34, 0.8)",
          "width": 4
         },
         "mode": "lines",
         "showlegend": false,
         "type": "scatter3d",
         "x": [
          901.7488681862031,
          897.1766401534048
         ],
         "y": [
          -473.43970742553995,
          -476.7760955252904
         ],
         "z": [
          383.29154037877066,
          388.94514500448844
         ]
        },
        {
         "line": {
          "color": "rgba(188, 189, 34, 0.8)",
          "width": 4
         },
         "mode": "lines",
         "showlegend": false,
         "type": "scatter3d",
         "x": [
          897.1766401534048,
          895.3436692106608
         ],
         "y": [
          -476.7760955252904,
          -486.28125378166567
         ],
         "z": [
          388.94514500448844,
          381.8534467562325
         ]
        },
        {
         "color": "rgba(23, 190, 207, 0.8)",
         "name": "P11",
         "opacity": 0.8,
         "type": "mesh3d",
         "x": [
          892.6145172863785,
          900.610765489686,
          900.9513491679886,
          892.9551009646812
         ],
         "y": [
          -479.448037023497,
          -479.53999011258946,
          -479.54337616943644,
          -479.451423080344
         ],
         "z": [
          393.9877958677608,
          394.21486259916225,
          382.2196972692181,
          381.99263053781664
         ]
        },
        {
         "marker": {
          "color": "red",
          "size": 3
         },
         "mode": "markers+text",
         "showlegend": false,
         "text": "",
         "textfont": {
          "size": 12
         },
         "textposition": "top center",
         "type": "scatter3d",
         "x": [
          896.7829332271835
         ],
         "y": [
          -479.49570659646673
         ],
         "z": [
          388.10374656848944
         ]
        },
        {
         "line": {
          "color": "rgba(23, 190, 207, 0.8)",
          "width": 4
         },
         "mode": "lines",
         "showlegend": false,
         "type": "scatter3d",
         "x": [
          892.6145172863785,
          900.610765489686
         ],
         "y": [
          -479.448037023497,
          -479.53999011258946
         ],
         "z": [
          393.9877958677608,
          394.21486259916225
         ]
        },
        {
         "line": {
          "color": "rgba(23, 190, 207, 0.8)",
          "width": 4
         },
         "mode": "lines",
         "showlegend": false,
         "type": "scatter3d",
         "x": [
          900.610765489686,
          900.9513491679886
         ],
         "y": [
          -479.53999011258946,
          -479.54337616943644
         ],
         "z": [
          394.21486259916225,
          382.2196972692181
         ]
        },
        {
         "line": {
          "color": "rgba(23, 190, 207, 0.8)",
          "width": 4
         },
         "mode": "lines",
         "showlegend": false,
         "type": "scatter3d",
         "x": [
          900.9513491679886,
          892.9551009646812
         ],
         "y": [
          -479.54337616943644,
          -479.451423080344
         ],
         "z": [
          382.2196972692181,
          381.99263053781664
         ]
        },
        {
         "line": {
          "color": "rgba(23, 190, 207, 0.8)",
          "width": 4
         },
         "mode": "lines",
         "showlegend": false,
         "type": "scatter3d",
         "x": [
          892.9551009646812,
          892.6145172863785
         ],
         "y": [
          -479.451423080344,
          -479.448037023497
         ],
         "z": [
          381.99263053781664,
          393.9877958677608
         ]
        },
        {
         "line": {
          "color": "black",
          "width": 2
         },
         "mode": "lines",
         "name": "Berechnete Hakenlinie",
         "type": "scatter3d",
         "x": {
          "bdata": "5l/Ns1lXjEBH4eNOKleMQOp95t3tUoxAOIB4A8VLjEB5aX7+uUSMQIVlAiy8PYxAIj5gAq0zjEBvf6GQ4CqMQC5mMe+kIIxAwJQfwl4UjECk7X5yQwaMQA==",
          "dtype": "f8"
         },
         "y": {
          "bdata": "3t9NbRuefsDo/cHMq55+wNYaUfPIhX7A6+43vU9ufsC7kGEFclR+wA7sUorlO37AP2Qa7UkmfsAmmwm3XhN+wBGLiUdMBn7AETVPh8T9fcDHQwpq7vd9wA==",
          "dtype": "f8"
         },
         "z": {
          "bdata": "5CWZKwS7dUCZgD4gUbV1QECAmO6F6XVAHngTrVYOdkDJz8jWK0V2QF28WeRqj3ZA0xfqAzTKdkBn2cAnABl3QJq1ZuhAk3dAb9kD7yjpd0DAaynyqEF4QA==",
          "dtype": "f8"
         }
        },
        {
         "mode": "text",
         "showlegend": false,
         "text": [
          "Pre-Position"
         ],
         "textfont": {
          "size": 10
         },
         "textposition": "top center",
         "type": "scatter3d",
         "x": [
          906.9187999768153
         ],
         "y": [
          -489.88169603748054
         ],
         "z": [
          347.6885181410164
         ]
        },
        {
         "mode": "text",
         "showlegend": false,
         "text": [
          "Loslassen"
         ],
         "textfont": {
          "size": 10
         },
         "textposition": "top center",
         "type": "scatter3d",
         "x": [
          896.7829332271835
         ],
         "y": [
          -479.49570659646673
         ],
         "z": [
          388.10374656848944
         ]
        },
        {
         "color": "rgba(0,255,0,0.2)",
         "name": "optimale Trajektorie",
         "opacity": 0.8,
         "type": "mesh3d",
         "x": [
          904.7654537546975,
          912.4417674667966,
          909.0721487382114,
          901.3958350261123
         ],
         "y": [
          -496.7637534680738,
          -494.51627848391314,
          -482.9996392455562,
          -485.24711422971683
         ],
         "z": [
          347.70812818851044,
          347.556259860636,
          347.66891099247306,
          347.8207793203475
         ]
        },
        {
         "line": {
          "color": "rgba(0,255,0,0.2)",
          "width": 3
         },
         "mode": "lines",
         "showlegend": false,
         "type": "scatter3d",
         "x": [
          904.7654537546975,
          912.4417674667966
         ],
         "y": [
          -496.7637534680738,
          -494.51627848391314
         ],
         "z": [
          347.70812818851044,
          347.556259860636
         ]
        },
        {
         "line": {
          "color": "rgba(0,255,0,0.2)",
          "width": 3
         },
         "mode": "lines",
         "showlegend": false,
         "type": "scatter3d",
         "x": [
          912.4417674667966,
          909.0721487382114
         ],
         "y": [
          -494.51627848391314,
          -482.9996392455562
         ],
         "z": [
          347.556259860636,
          347.66891099247306
         ]
        },
        {
         "line": {
          "color": "rgba(0,255,0,0.2)",
          "width": 3
         },
         "mode": "lines",
         "showlegend": false,
         "type": "scatter3d",
         "x": [
          909.0721487382114,
          901.3958350261123
         ],
         "y": [
          -482.9996392455562,
          -485.24711422971683
         ],
         "z": [
          347.66891099247306,
          347.8207793203475
         ]
        },
        {
         "line": {
          "color": "rgba(0,255,0,0.2)",
          "width": 3
         },
         "mode": "lines",
         "showlegend": false,
         "type": "scatter3d",
         "x": [
          901.3958350261123,
          904.7654537546975
         ],
         "y": [
          -485.24711422971683,
          -496.7637534680738
         ],
         "z": [
          347.8207793203475,
          347.70812818851044
         ]
        },
        {
         "marker": {
          "color": "green",
          "size": 4
         },
         "mode": "markers",
         "name": "Mitte P11",
         "showlegend": false,
         "type": "scatter3d",
         "x": [
          906.9188012464544
         ],
         "y": [
          -489.881696356815
         ],
         "z": [
          347.68851959049175
         ]
        },
        {
         "color": "rgba(0,255,0,0.2)",
         "name": "optimale Trajektorie",
         "opacity": 0.8,
         "type": "mesh3d",
         "x": [
          908.2861941975428,
          914.7862257473945,
          908.0670478565686,
          901.5670163067169
         ],
         "y": [
          -498.26841982348236,
          -493.73033656557163,
          -483.84788857791096,
          -488.3859718358217
         ],
         "z": [
          345.7368742049174,
          344.6619834219992,
          345.75279515764225,
          346.82768594056046
         ]
        },
        {
         "line": {
          "color": "rgba(0,255,0,0.2)",
          "width": 3
         },
         "mode": "lines",
         "showlegend": false,
         "type": "scatter3d",
         "x": [
          908.2861941975428,
          914.7862257473945
         ],
         "y": [
          -498.26841982348236,
          -493.73033656557163
         ],
         "z": [
          345.7368742049174,
          344.6619834219992
         ]
        },
        {
         "line": {
          "color": "rgba(0,255,0,0.2)",
          "width": 3
         },
         "mode": "lines",
         "showlegend": false,
         "type": "scatter3d",
         "x": [
          914.7862257473945,
          908.0670478565686
         ],
         "y": [
          -493.73033656557163,
          -483.84788857791096
         ],
         "z": [
          344.6619834219992,
          345.75279515764225
         ]
        },
        {
         "line": {
          "color": "rgba(0,255,0,0.2)",
          "width": 3
         },
         "mode": "lines",
         "showlegend": false,
         "type": "scatter3d",
         "x": [
          908.0670478565686,
          901.5670163067169
         ],
         "y": [
          -483.84788857791096,
          -488.3859718358217
         ],
         "z": [
          345.75279515764225,
          346.82768594056046
         ]
        },
        {
         "line": {
          "color": "rgba(0,255,0,0.2)",
          "width": 3
         },
         "mode": "lines",
         "showlegend": false,
         "type": "scatter3d",
         "x": [
          901.5670163067169,
          908.2861941975428
         ],
         "y": [
          -488.3859718358217,
          -498.26841982348236
         ],
         "z": [
          346.82768594056046,
          345.7368742049174
         ]
        },
        {
         "marker": {
          "color": "green",
          "size": 4
         },
         "mode": "markers",
         "name": "Mitte P11",
         "showlegend": false,
         "type": "scatter3d",
         "x": [
          908.1766210270557
         ],
         "y": [
          -491.05815420069666
         ],
         "z": [
          345.7448346812798
         ]
        },
        {
         "color": "rgba(0,255,0,0.2)",
         "name": "optimale Trajektorie",
         "opacity": 0.8,
         "type": "mesh3d",
         "x": [
          905.1328632231249,
          911.4885238725897,
          904.4818679608396,
          898.1262073113749
         ],
         "y": [
          -495.01077062409473,
          -490.27823021364196,
          -480.6033270196635,
          -485.33586743011625
         ],
         "z": [
          345.2407504696588,
          344.1413692926887,
          345.28286879837583,
          346.3822499753459
         ]
        },
        {
         "line": {
          "color": "rgba(0,255,0,0.2)",
          "width": 3
         },
         "mode": "lines",
         "showlegend": false,
         "type": "scatter3d",
         "x": [
          905.1328632231249,
          911.4885238725897
         ],
         "y": [
          -495.01077062409473,
          -490.27823021364196
         ],
         "z": [
          345.2407504696588,
          344.1413692926887
         ]
        },
        {
         "line": {
          "color": "rgba(0,255,0,0.2)",
          "width": 3
         },
         "mode": "lines",
         "showlegend": false,
         "type": "scatter3d",
         "x": [
          911.4885238725897,
          904.4818679608396
         ],
         "y": [
          -490.27823021364196,
          -480.6033270196635
         ],
         "z": [
          344.1413692926887,
          345.28286879837583
         ]
        },
        {
         "line": {
          "color": "rgba(0,255,0,0.2)",
          "width": 3
         },
         "mode": "lines",
         "showlegend": false,
         "type": "scatter3d",
         "x": [
          904.4818679608396,
          898.1262073113749
         ],
         "y": [
          -480.6033270196635,
          -485.33586743011625
         ],
         "z": [
          345.28286879837583,
          346.3822499753459
         ]
        },
        {
         "line": {
          "color": "rgba(0,255,0,0.2)",
          "width": 3
         },
         "mode": "lines",
         "showlegend": false,
         "type": "scatter3d",
         "x": [
          898.1262073113749,
          905.1328632231249
         ],
         "y": [
          -485.33586743011625,
          -495.01077062409473
         ],
         "z": [
          346.3822499753459,
          345.2407504696588
         ]
        },
        {
         "marker": {
          "color": "green",
          "size": 4
         },
         "mode": "markers",
         "name": "Mitte P11",
         "showlegend": false,
         "type": "scatter3d",
         "x": [
          904.8073655919823
         ],
         "y": [
          -487.8070488218791
         ],
         "z": [
          345.2618096340173
         ]
        },
        {
         "color": "rgba(0,255,0,0.2)",
         "name": "optimale Trajektorie",
         "opacity": 0.8,
         "type": "mesh3d",
         "x": [
          904.8753472466959,
          910.09173861451,
          901.4706055697219,
          896.2542142019079
         ],
         "y": [
          -491.57001862567216,
          -485.5731229668986,
          -477.66777972051756,
          -483.6646753792911
         ],
         "z": [
          346.219246834986,
          345.3101244254183,
          347.9899776268009,
          348.8991000363686
         ]
        },
        {
         "line": {
          "color": "rgba(0,255,0,0.2)",
          "width": 3
         },
         "mode": "lines",
         "showlegend": false,
         "type": "scatter3d",
         "x": [
          904.8753472466959,
          910.09173861451
         ],
         "y": [
          -491.57001862567216,
          -485.5731229668986
         ],
         "z": [
          346.219246834986,
          345.3101244254183
         ]
        },
        {
         "line": {
          "color": "rgba(0,255,0,0.2)",
          "width": 3
         },
         "mode": "lines",
         "showlegend": false,
         "type": "scatter3d",
         "x": [
          910.09173861451,
          901.4706055697219
         ],
         "y": [
          -485.5731229668986,
          -477.66777972051756
         ],
         "z": [
          345.3101244254183,
          347.9899776268009
         ]
        },
        {
         "line": {
          "color": "rgba(0,255,0,0.2)",
          "width": 3
         },
         "mode": "lines",
         "showlegend": false,
         "type": "scatter3d",
         "x": [
          901.4706055697219,
          896.2542142019079
         ],
         "y": [
          -477.66777972051756,
          -483.6646753792911
         ],
         "z": [
          347.9899776268009,
          348.8991000363686
         ]
        },
        {
         "line": {
          "color": "rgba(0,255,0,0.2)",
          "width": 3
         },
         "mode": "lines",
         "showlegend": false,
         "type": "scatter3d",
         "x": [
          896.2542142019079,
          904.8753472466959
         ],
         "y": [
          -483.6646753792911,
          -491.57001862567216
         ],
         "z": [
          348.8991000363686,
          346.219246834986
         ]
        },
        {
         "marker": {
          "color": "green",
          "size": 4
         },
         "mode": "markers",
         "name": "Mitte P11",
         "showlegend": false,
         "type": "scatter3d",
         "x": [
          903.1729764082089
         ],
         "y": [
          -484.61889917309486
         ],
         "z": [
          347.1046122308935
         ]
        },
        {
         "color": "rgba(0,255,0,0.2)",
         "name": "optimale Trajektorie",
         "opacity": 0.8,
         "type": "mesh3d",
         "x": [
          901.9695336391139,
          907.1486328179014,
          898.4999575478175,
          893.32085836903
         ],
         "y": [
          -488.8632623121022,
          -482.8185539439586,
          -475.02417554941695,
          -481.0688839175606
         ],
         "z": [
          347.3832092487901,
          346.58418957420315,
          349.4907479368277,
          350.2897676114146
         ]
        },
        {
         "line": {
          "color": "rgba(0,255,0,0.2)",
          "width": 3
         },
         "mode": "lines",
         "showlegend": false,
         "type": "scatter3d",
         "x": [
          901.9695336391139,
          907.1486328179014
         ],
         "y": [
          -488.8632623121022,
          -482.8185539439586
         ],
         "z": [
          347.3832092487901,
          346.58418957420315
         ]
        },
        {
         "line": {
          "color": "rgba(0,255,0,0.2)",
          "width": 3
         },
         "mode": "lines",
         "showlegend": false,
         "type": "scatter3d",
         "x": [
          907.1486328179014,
          898.4999575478175
         ],
         "y": [
          -482.8185539439586,
          -475.02417554941695
         ],
         "z": [
          346.58418957420315,
          349.4907479368277
         ]
        },
        {
         "line": {
          "color": "rgba(0,255,0,0.2)",
          "width": 3
         },
         "mode": "lines",
         "showlegend": false,
         "type": "scatter3d",
         "x": [
          898.4999575478175,
          893.32085836903
         ],
         "y": [
          -475.02417554941695,
          -481.0688839175606
         ],
         "z": [
          349.4907479368277,
          350.2897676114146
         ]
        },
        {
         "line": {
          "color": "rgba(0,255,0,0.2)",
          "width": 3
         },
         "mode": "lines",
         "showlegend": false,
         "type": "scatter3d",
         "x": [
          893.32085836903,
          901.9695336391139
         ],
         "y": [
          -481.0688839175606,
          -488.8632623121022
         ],
         "z": [
          350.2897676114146,
          347.3832092487901
         ]
        },
        {
         "marker": {
          "color": "green",
          "size": 4
         },
         "mode": "markers",
         "name": "Mitte P11",
         "showlegend": false,
         "type": "scatter3d",
         "x": [
          900.2347455934657
         ],
         "y": [
          -481.9437189307596
         ],
         "z": [
          348.4369785928089
         ]
        },
        {
         "color": "rgba(0,255,0,0.2)",
         "name": "optimale Trajektorie",
         "opacity": 0.8,
         "type": "mesh3d",
         "x": [
          901.2814867273669,
          903.495875566697,
          893.5117436751525,
          891.2973548358224
         ],
         "y": [
          -484.50527244949103,
          -477.22424959415497,
          -476.42657737793877,
          -483.70760023327483
         ],
         "z": [
          344.7599783512991,
          347.2263903704726,
          353.8355377744666,
          351.3691257552931
         ]
        },
        {
         "line": {
          "color": "rgba(0,255,0,0.2)",
          "width": 3
         },
         "mode": "lines",
         "showlegend": false,
         "type": "scatter3d",
         "x": [
          901.2814867273669,
          903.495875566697
         ],
         "y": [
          -484.50527244949103,
          -477.22424959415497
         ],
         "z": [
          344.7599783512991,
          347.2263903704726
         ]
        },
        {
         "line": {
          "color": "rgba(0,255,0,0.2)",
          "width": 3
         },
         "mode": "lines",
         "showlegend": false,
         "type": "scatter3d",
         "x": [
          903.495875566697,
          893.5117436751525
         ],
         "y": [
          -477.22424959415497,
          -476.42657737793877
         ],
         "z": [
          347.2263903704726,
          353.8355377744666
         ]
        },
        {
         "line": {
          "color": "rgba(0,255,0,0.2)",
          "width": 3
         },
         "mode": "lines",
         "showlegend": false,
         "type": "scatter3d",
         "x": [
          893.5117436751525,
          891.2973548358224
         ],
         "y": [
          -476.42657737793877,
          -483.70760023327483
         ],
         "z": [
          353.8355377744666,
          351.3691257552931
         ]
        },
        {
         "line": {
          "color": "rgba(0,255,0,0.2)",
          "width": 3
         },
         "mode": "lines",
         "showlegend": false,
         "type": "scatter3d",
         "x": [
          891.2973548358224,
          901.2814867273669
         ],
         "y": [
          -483.70760023327483,
          -484.50527244949103
         ],
         "z": [
          351.3691257552931,
          344.7599783512991
         ]
        },
        {
         "marker": {
          "color": "green",
          "size": 4
         },
         "mode": "markers",
         "name": "Mitte P11",
         "showlegend": false,
         "type": "scatter3d",
         "x": [
          897.3966152012597
         ],
         "y": [
          -480.4659249137149
         ],
         "z": [
          349.29775806288285
         ]
        },
        {
         "color": "rgba(0,255,0,0.2)",
         "name": "optimale Trajektorie",
         "opacity": 0.8,
         "type": "mesh3d",
         "x": [
          895.6897865588385,
          896.1188135748546,
          893.4433610123151,
          893.014333996299
         ],
         "y": [
          -474.7209022793622,
          -472.12212521795976,
          -483.13619107552705,
          -485.73496813692947
         ],
         "z": [
          345.549514154888,
          353.103472958367,
          357.0445777363159,
          349.4906189328369
         ]
        },
        {
         "line": {
          "color": "rgba(0,255,0,0.2)",
          "width": 3
         },
         "mode": "lines",
         "showlegend": false,
         "type": "scatter3d",
         "x": [
          895.6897865588385,
          896.1188135748546
         ],
         "y": [
          -474.7209022793622,
          -472.12212521795976
         ],
         "z": [
          345.549514154888,
          353.103472958367
         ]
        },
        {
         "line": {
          "color": "rgba(0,255,0,0.2)",
          "width": 3
         },
         "mode": "lines",
         "showlegend": false,
         "type": "scatter3d",
         "x": [
          896.1188135748546,
          893.4433610123151
         ],
         "y": [
          -472.12212521795976,
          -483.13619107552705
         ],
         "z": [
          353.103472958367,
          357.0445777363159
         ]
        },
        {
         "line": {
          "color": "rgba(0,255,0,0.2)",
          "width": 3
         },
         "mode": "lines",
         "showlegend": false,
         "type": "scatter3d",
         "x": [
          893.4433610123151,
          893.014333996299
         ],
         "y": [
          -483.13619107552705,
          -485.73496813692947
         ],
         "z": [
          357.0445777363159,
          349.4906189328369
         ]
        },
        {
         "line": {
          "color": "rgba(0,255,0,0.2)",
          "width": 3
         },
         "mode": "lines",
         "showlegend": false,
         "type": "scatter3d",
         "x": [
          893.014333996299,
          895.6897865588385
         ],
         "y": [
          -485.73496813692947,
          -474.7209022793622
         ],
         "z": [
          349.4906189328369,
          345.549514154888
         ]
        },
        {
         "marker": {
          "color": "green",
          "size": 4
         },
         "mode": "markers",
         "name": "Mitte P11",
         "showlegend": false,
         "type": "scatter3d",
         "x": [
          894.5665737855768
         ],
         "y": [
          -478.9285466774446
         ],
         "z": [
          351.29704594560195
         ]
        },
        {
         "line": {
          "color": "green",
          "width": 2
         },
         "mode": "lines",
         "name": "Optimale Hakenlinie",
         "type": "scatter3d",
         "x": {
          "bdata": "Xsh3tFlXjEDs90i4aWGMQNZrF3x1RoxA5YF0QWI5jECGNkzC4CGMQA40l0QsC4xAlj7WV4j0i0A=",
          "dtype": "f8"
         },
         "y": {
          "bdata": "XZijbRuefsDgYRkz7rB+wPCDBqzpfH7AbL/RAudJfsCogwV5GR9+wMGsrm10B37A8sbCU9vufcA=",
          "dtype": "f8"
         },
         "z": {
          "bdata": "FD0eLQS7dUBgUMXX6pt1QB1+TF8wlHVAMOfffayxdUCp0kPd/cZ1QDxj9Z3D1HVAUdw/s8D0dUA=",
          "dtype": "f8"
         }
        },
        {
         "line": {
          "color": "gray",
          "dash": "dash"
         },
         "mode": "lines",
         "name": "Direkte Gerade Spitze -> Senke",
         "type": "scatter3d",
         "x": [
          906.8956582835316,
          896.7829332271835
         ],
         "y": [
          -489.9169433191114,
          -479.49570659646673
         ],
         "z": [
          347.3323061410425,
          388.10374656848944
         ]
        },
        {
         "marker": {
          "color": "magenta",
          "size": 8
         },
         "mode": "markers",
         "name": "Spitze",
         "type": "scatter3d",
         "x": [
          906.8956582835316
         ],
         "y": [
          -489.9169433191114
         ],
         "z": [
          347.3323061410425
         ]
        },
        {
         "marker": {
          "color": "magenta",
          "size": 8
         },
         "mode": "markers",
         "name": "Senke",
         "type": "scatter3d",
         "x": [
          896.7829332271835
         ],
         "y": [
          -479.49570659646673
         ],
         "z": [
          388.10374656848944
         ]
        },
        {
         "mode": "text",
         "showlegend": false,
         "text": [
          "Spitze"
         ],
         "textfont": {
          "size": 10
         },
         "textposition": "top center",
         "type": "scatter3d",
         "x": [
          906.8956582835316
         ],
         "y": [
          -489.9169433191114
         ],
         "z": [
          347.3323061410425
         ]
        },
        {
         "mode": "text",
         "showlegend": false,
         "text": [
          "Senke"
         ],
         "textfont": {
          "size": 10
         },
         "textposition": "top center",
         "type": "scatter3d",
         "x": [
          896.7829332271835
         ],
         "y": [
          -479.49570659646673
         ],
         "z": [
          388.10374656848944
         ]
        }
       ],
       "layout": {
        "legend": {
         "title": {
          "text": "Legende"
         }
        },
        "scene": {
         "aspectmode": "cube",
         "xaxis": {
          "title": {
           "text": "X"
          }
         },
         "yaxis": {
          "title": {
           "text": "Y"
          }
         },
         "zaxis": {
          "title": {
           "text": "Z"
          }
         }
        },
        "template": {
         "data": {
          "bar": [
           {
            "error_x": {
             "color": "#2a3f5f"
            },
            "error_y": {
             "color": "#2a3f5f"
            },
            "marker": {
             "line": {
              "color": "#E5ECF6",
              "width": 0.5
             },
             "pattern": {
              "fillmode": "overlay",
              "size": 10,
              "solidity": 0.2
             }
            },
            "type": "bar"
           }
          ],
          "barpolar": [
           {
            "marker": {
             "line": {
              "color": "#E5ECF6",
              "width": 0.5
             },
             "pattern": {
              "fillmode": "overlay",
              "size": 10,
              "solidity": 0.2
             }
            },
            "type": "barpolar"
           }
          ],
          "carpet": [
           {
            "aaxis": {
             "endlinecolor": "#2a3f5f",
             "gridcolor": "white",
             "linecolor": "white",
             "minorgridcolor": "white",
             "startlinecolor": "#2a3f5f"
            },
            "baxis": {
             "endlinecolor": "#2a3f5f",
             "gridcolor": "white",
             "linecolor": "white",
             "minorgridcolor": "white",
             "startlinecolor": "#2a3f5f"
            },
            "type": "carpet"
           }
          ],
          "choropleth": [
           {
            "colorbar": {
             "outlinewidth": 0,
             "ticks": ""
            },
            "type": "choropleth"
           }
          ],
          "contour": [
           {
            "colorbar": {
             "outlinewidth": 0,
             "ticks": ""
            },
            "colorscale": [
             [
              0,
              "#0d0887"
             ],
             [
              0.1111111111111111,
              "#46039f"
             ],
             [
              0.2222222222222222,
              "#7201a8"
             ],
             [
              0.3333333333333333,
              "#9c179e"
             ],
             [
              0.4444444444444444,
              "#bd3786"
             ],
             [
              0.5555555555555556,
              "#d8576b"
             ],
             [
              0.6666666666666666,
              "#ed7953"
             ],
             [
              0.7777777777777778,
              "#fb9f3a"
             ],
             [
              0.8888888888888888,
              "#fdca26"
             ],
             [
              1,
              "#f0f921"
             ]
            ],
            "type": "contour"
           }
          ],
          "contourcarpet": [
           {
            "colorbar": {
             "outlinewidth": 0,
             "ticks": ""
            },
            "type": "contourcarpet"
           }
          ],
          "heatmap": [
           {
            "colorbar": {
             "outlinewidth": 0,
             "ticks": ""
            },
            "colorscale": [
             [
              0,
              "#0d0887"
             ],
             [
              0.1111111111111111,
              "#46039f"
             ],
             [
              0.2222222222222222,
              "#7201a8"
             ],
             [
              0.3333333333333333,
              "#9c179e"
             ],
             [
              0.4444444444444444,
              "#bd3786"
             ],
             [
              0.5555555555555556,
              "#d8576b"
             ],
             [
              0.6666666666666666,
              "#ed7953"
             ],
             [
              0.7777777777777778,
              "#fb9f3a"
             ],
             [
              0.8888888888888888,
              "#fdca26"
             ],
             [
              1,
              "#f0f921"
             ]
            ],
            "type": "heatmap"
           }
          ],
          "histogram": [
           {
            "marker": {
             "pattern": {
              "fillmode": "overlay",
              "size": 10,
              "solidity": 0.2
             }
            },
            "type": "histogram"
           }
          ],
          "histogram2d": [
           {
            "colorbar": {
             "outlinewidth": 0,
             "ticks": ""
            },
            "colorscale": [
             [
              0,
              "#0d0887"
             ],
             [
              0.1111111111111111,
              "#46039f"
             ],
             [
              0.2222222222222222,
              "#7201a8"
             ],
             [
              0.3333333333333333,
              "#9c179e"
             ],
             [
              0.4444444444444444,
              "#bd3786"
             ],
             [
              0.5555555555555556,
              "#d8576b"
             ],
             [
              0.6666666666666666,
              "#ed7953"
             ],
             [
              0.7777777777777778,
              "#fb9f3a"
             ],
             [
              0.8888888888888888,
              "#fdca26"
             ],
             [
              1,
              "#f0f921"
             ]
            ],
            "type": "histogram2d"
           }
          ],
          "histogram2dcontour": [
           {
            "colorbar": {
             "outlinewidth": 0,
             "ticks": ""
            },
            "colorscale": [
             [
              0,
              "#0d0887"
             ],
             [
              0.1111111111111111,
              "#46039f"
             ],
             [
              0.2222222222222222,
              "#7201a8"
             ],
             [
              0.3333333333333333,
              "#9c179e"
             ],
             [
              0.4444444444444444,
              "#bd3786"
             ],
             [
              0.5555555555555556,
              "#d8576b"
             ],
             [
              0.6666666666666666,
              "#ed7953"
             ],
             [
              0.7777777777777778,
              "#fb9f3a"
             ],
             [
              0.8888888888888888,
              "#fdca26"
             ],
             [
              1,
              "#f0f921"
             ]
            ],
            "type": "histogram2dcontour"
           }
          ],
          "mesh3d": [
           {
            "colorbar": {
             "outlinewidth": 0,
             "ticks": ""
            },
            "type": "mesh3d"
           }
          ],
          "parcoords": [
           {
            "line": {
             "colorbar": {
              "outlinewidth": 0,
              "ticks": ""
             }
            },
            "type": "parcoords"
           }
          ],
          "pie": [
           {
            "automargin": true,
            "type": "pie"
           }
          ],
          "scatter": [
           {
            "fillpattern": {
             "fillmode": "overlay",
             "size": 10,
             "solidity": 0.2
            },
            "type": "scatter"
           }
          ],
          "scatter3d": [
           {
            "line": {
             "colorbar": {
              "outlinewidth": 0,
              "ticks": ""
             }
            },
            "marker": {
             "colorbar": {
              "outlinewidth": 0,
              "ticks": ""
             }
            },
            "type": "scatter3d"
           }
          ],
          "scattercarpet": [
           {
            "marker": {
             "colorbar": {
              "outlinewidth": 0,
              "ticks": ""
             }
            },
            "type": "scattercarpet"
           }
          ],
          "scattergeo": [
           {
            "marker": {
             "colorbar": {
              "outlinewidth": 0,
              "ticks": ""
             }
            },
            "type": "scattergeo"
           }
          ],
          "scattergl": [
           {
            "marker": {
             "colorbar": {
              "outlinewidth": 0,
              "ticks": ""
             }
            },
            "type": "scattergl"
           }
          ],
          "scattermap": [
           {
            "marker": {
             "colorbar": {
              "outlinewidth": 0,
              "ticks": ""
             }
            },
            "type": "scattermap"
           }
          ],
          "scattermapbox": [
           {
            "marker": {
             "colorbar": {
              "outlinewidth": 0,
              "ticks": ""
             }
            },
            "type": "scattermapbox"
           }
          ],
          "scatterpolar": [
           {
            "marker": {
             "colorbar": {
              "outlinewidth": 0,
              "ticks": ""
             }
            },
            "type": "scatterpolar"
           }
          ],
          "scatterpolargl": [
           {
            "marker": {
             "colorbar": {
              "outlinewidth": 0,
              "ticks": ""
             }
            },
            "type": "scatterpolargl"
           }
          ],
          "scatterternary": [
           {
            "marker": {
             "colorbar": {
              "outlinewidth": 0,
              "ticks": ""
             }
            },
            "type": "scatterternary"
           }
          ],
          "surface": [
           {
            "colorbar": {
             "outlinewidth": 0,
             "ticks": ""
            },
            "colorscale": [
             [
              0,
              "#0d0887"
             ],
             [
              0.1111111111111111,
              "#46039f"
             ],
             [
              0.2222222222222222,
              "#7201a8"
             ],
             [
              0.3333333333333333,
              "#9c179e"
             ],
             [
              0.4444444444444444,
              "#bd3786"
             ],
             [
              0.5555555555555556,
              "#d8576b"
             ],
             [
              0.6666666666666666,
              "#ed7953"
             ],
             [
              0.7777777777777778,
              "#fb9f3a"
             ],
             [
              0.8888888888888888,
              "#fdca26"
             ],
             [
              1,
              "#f0f921"
             ]
            ],
            "type": "surface"
           }
          ],
          "table": [
           {
            "cells": {
             "fill": {
              "color": "#EBF0F8"
             },
             "line": {
              "color": "white"
             }
            },
            "header": {
             "fill": {
              "color": "#C8D4E3"
             },
             "line": {
              "color": "white"
             }
            },
            "type": "table"
           }
          ]
         },
         "layout": {
          "annotationdefaults": {
           "arrowcolor": "#2a3f5f",
           "arrowhead": 0,
           "arrowwidth": 1
          },
          "autotypenumbers": "strict",
          "coloraxis": {
           "colorbar": {
            "outlinewidth": 0,
            "ticks": ""
           }
          },
          "colorscale": {
           "diverging": [
            [
             0,
             "#8e0152"
            ],
            [
             0.1,
             "#c51b7d"
            ],
            [
             0.2,
             "#de77ae"
            ],
            [
             0.3,
             "#f1b6da"
            ],
            [
             0.4,
             "#fde0ef"
            ],
            [
             0.5,
             "#f7f7f7"
            ],
            [
             0.6,
             "#e6f5d0"
            ],
            [
             0.7,
             "#b8e186"
            ],
            [
             0.8,
             "#7fbc41"
            ],
            [
             0.9,
             "#4d9221"
            ],
            [
             1,
             "#276419"
            ]
           ],
           "sequential": [
            [
             0,
             "#0d0887"
            ],
            [
             0.1111111111111111,
             "#46039f"
            ],
            [
             0.2222222222222222,
             "#7201a8"
            ],
            [
             0.3333333333333333,
             "#9c179e"
            ],
            [
             0.4444444444444444,
             "#bd3786"
            ],
            [
             0.5555555555555556,
             "#d8576b"
            ],
            [
             0.6666666666666666,
             "#ed7953"
            ],
            [
             0.7777777777777778,
             "#fb9f3a"
            ],
            [
             0.8888888888888888,
             "#fdca26"
            ],
            [
             1,
             "#f0f921"
            ]
           ],
           "sequentialminus": [
            [
             0,
             "#0d0887"
            ],
            [
             0.1111111111111111,
             "#46039f"
            ],
            [
             0.2222222222222222,
             "#7201a8"
            ],
            [
             0.3333333333333333,
             "#9c179e"
            ],
            [
             0.4444444444444444,
             "#bd3786"
            ],
            [
             0.5555555555555556,
             "#d8576b"
            ],
            [
             0.6666666666666666,
             "#ed7953"
            ],
            [
             0.7777777777777778,
             "#fb9f3a"
            ],
            [
             0.8888888888888888,
             "#fdca26"
            ],
            [
             1,
             "#f0f921"
            ]
           ]
          },
          "colorway": [
           "#636efa",
           "#EF553B",
           "#00cc96",
           "#ab63fa",
           "#FFA15A",
           "#19d3f3",
           "#FF6692",
           "#B6E880",
           "#FF97FF",
           "#FECB52"
          ],
          "font": {
           "color": "#2a3f5f"
          },
          "geo": {
           "bgcolor": "white",
           "lakecolor": "white",
           "landcolor": "#E5ECF6",
           "showlakes": true,
           "showland": true,
           "subunitcolor": "white"
          },
          "hoverlabel": {
           "align": "left"
          },
          "hovermode": "closest",
          "mapbox": {
           "style": "light"
          },
          "paper_bgcolor": "white",
          "plot_bgcolor": "#E5ECF6",
          "polar": {
           "angularaxis": {
            "gridcolor": "white",
            "linecolor": "white",
            "ticks": ""
           },
           "bgcolor": "#E5ECF6",
           "radialaxis": {
            "gridcolor": "white",
            "linecolor": "white",
            "ticks": ""
           }
          },
          "scene": {
           "xaxis": {
            "backgroundcolor": "#E5ECF6",
            "gridcolor": "white",
            "gridwidth": 2,
            "linecolor": "white",
            "showbackground": true,
            "ticks": "",
            "zerolinecolor": "white"
           },
           "yaxis": {
            "backgroundcolor": "#E5ECF6",
            "gridcolor": "white",
            "gridwidth": 2,
            "linecolor": "white",
            "showbackground": true,
            "ticks": "",
            "zerolinecolor": "white"
           },
           "zaxis": {
            "backgroundcolor": "#E5ECF6",
            "gridcolor": "white",
            "gridwidth": 2,
            "linecolor": "white",
            "showbackground": true,
            "ticks": "",
            "zerolinecolor": "white"
           }
          },
          "shapedefaults": {
           "line": {
            "color": "#2a3f5f"
           }
          },
          "ternary": {
           "aaxis": {
            "gridcolor": "white",
            "linecolor": "white",
            "ticks": ""
           },
           "baxis": {
            "gridcolor": "white",
            "linecolor": "white",
            "ticks": ""
           },
           "bgcolor": "#E5ECF6",
           "caxis": {
            "gridcolor": "white",
            "linecolor": "white",
            "ticks": ""
           }
          },
          "title": {
           "x": 0.05
          },
          "xaxis": {
           "automargin": true,
           "gridcolor": "white",
           "linecolor": "white",
           "ticks": "",
           "title": {
            "standoff": 15
           },
           "zerolinecolor": "white",
           "zerolinewidth": 2
          },
          "yaxis": {
           "automargin": true,
           "gridcolor": "white",
           "linecolor": "white",
           "ticks": "",
           "title": {
            "standoff": 15
           },
           "zerolinecolor": "white",
           "zerolinewidth": 2
          }
         }
        },
        "title": {
         "text": "Haken 18, Trajektorien-Ansatz 1"
        }
       }
      }
     },
     "metadata": {},
     "output_type": "display_data"
    },
    {
     "name": "stdout",
     "output_type": "stream",
     "text": [
      "HTML-Datei '/home/mo/Thesis/Evaluation/Trajektorientests/traj2.html' erfolgreich erstellt!\n"
     ]
    },
    {
     "data": {
      "application/vnd.plotly.v1+json": {
       "config": {
        "plotlyServerURL": "https://plot.ly"
       },
       "data": [
        {
         "color": "rgba(31, 119, 180, 0.8)",
         "name": "P1",
         "opacity": 0.8,
         "type": "mesh3d",
         "x": [
          904.0207865647873,
          908.2084002201053,
          909.8168133888433,
          905.6291997335253
         ],
         "y": [
          -496.47810884314725,
          -493.7490039328738,
          -483.2852832318138,
          -486.0143881420873
         ],
         "z": [
          347.9866059819986,
          341.7403368345383,
          347.3904303000342,
          353.6366994474945
         ]
        },
        {
         "marker": {
          "color": "red",
          "size": 3
         },
         "mode": "markers+text",
         "showlegend": false,
         "text": "",
         "textfont": {
          "size": 12
         },
         "textposition": "top center",
         "type": "scatter3d",
         "x": [
          906.9187999768153
         ],
         "y": [
          -489.88169603748054
         ],
         "z": [
          347.6885181410164
         ]
        },
        {
         "line": {
          "color": "rgba(31, 119, 180, 0.8)",
          "width": 4
         },
         "mode": "lines",
         "showlegend": false,
         "type": "scatter3d",
         "x": [
          904.0207865647873,
          908.2084002201053
         ],
         "y": [
          -496.47810884314725,
          -493.7490039328738
         ],
         "z": [
          347.9866059819986,
          341.7403368345383
         ]
        },
        {
         "line": {
          "color": "rgba(31, 119, 180, 0.8)",
          "width": 4
         },
         "mode": "lines",
         "showlegend": false,
         "type": "scatter3d",
         "x": [
          908.2084002201053,
          909.8168133888433
         ],
         "y": [
          -493.7490039328738,
          -483.2852832318138
         ],
         "z": [
          341.7403368345383,
          347.3904303000342
         ]
        },
        {
         "line": {
          "color": "rgba(31, 119, 180, 0.8)",
          "width": 4
         },
         "mode": "lines",
         "showlegend": false,
         "type": "scatter3d",
         "x": [
          909.8168133888433,
          905.6291997335253
         ],
         "y": [
          -483.2852832318138,
          -486.0143881420873
         ],
         "z": [
          347.3904303000342,
          353.6366994474945
         ]
        },
        {
         "line": {
          "color": "rgba(31, 119, 180, 0.8)",
          "width": 4
         },
         "mode": "lines",
         "showlegend": false,
         "type": "scatter3d",
         "x": [
          905.6291997335253,
          904.0207865647873
         ],
         "y": [
          -486.0143881420873,
          -496.47810884314725
         ],
         "z": [
          353.6366994474945,
          347.9866059819986
         ]
        },
        {
         "color": "rgba(174, 199, 232, 0.8)",
         "name": "P2",
         "opacity": 0.8,
         "type": "mesh3d",
         "x": [
          903.9976448715036,
          908.1852585268216,
          909.7936716955596,
          905.6060580402416
         ],
         "y": [
          -496.5133561247781,
          -493.78425121450465,
          -483.3205305134447,
          -486.04963542371814
         ],
         "z": [
          347.6303939820247,
          341.38412483456443,
          347.03421830006033,
          353.2804874475206
         ]
        },
        {
         "marker": {
          "color": "red",
          "size": 3
         },
         "mode": "markers+text",
         "showlegend": false,
         "text": "",
         "textfont": {
          "size": 12
         },
         "textposition": "top center",
         "type": "scatter3d",
         "x": [
          906.8956582835317
         ],
         "y": [
          -489.9169433191114
         ],
         "z": [
          347.3323061410425
         ]
        },
        {
         "line": {
          "color": "rgba(174, 199, 232, 0.8)",
          "width": 4
         },
         "mode": "lines",
         "showlegend": false,
         "type": "scatter3d",
         "x": [
          903.9976448715036,
          908.1852585268216
         ],
         "y": [
          -496.5133561247781,
          -493.78425121450465
         ],
         "z": [
          347.6303939820247,
          341.38412483456443
         ]
        },
        {
         "line": {
          "color": "rgba(174, 199, 232, 0.8)",
          "width": 4
         },
         "mode": "lines",
         "showlegend": false,
         "type": "scatter3d",
         "x": [
          908.1852585268216,
          909.7936716955596
         ],
         "y": [
          -493.78425121450465,
          -483.3205305134447
         ],
         "z": [
          341.38412483456443,
          347.03421830006033
         ]
        },
        {
         "line": {
          "color": "rgba(174, 199, 232, 0.8)",
          "width": 4
         },
         "mode": "lines",
         "showlegend": false,
         "type": "scatter3d",
         "x": [
          909.7936716955596,
          905.6060580402416
         ],
         "y": [
          -483.3205305134447,
          -486.04963542371814
         ],
         "z": [
          347.03421830006033,
          353.2804874475206
         ]
        },
        {
         "line": {
          "color": "rgba(174, 199, 232, 0.8)",
          "width": 4
         },
         "mode": "lines",
         "showlegend": false,
         "type": "scatter3d",
         "x": [
          905.6060580402416,
          903.9976448715036
         ],
         "y": [
          -486.04963542371814,
          -496.5133561247781
         ],
         "z": [
          353.2804874475206,
          347.6303939820247
         ]
        },
        {
         "color": "rgba(255, 187, 120, 0.8)",
         "name": "P3",
         "opacity": 0.8,
         "type": "mesh3d",
         "x": [
          903.4681324855678,
          907.6557461408859,
          909.2641593096239,
          905.0765456543058
         ],
         "y": [
          -494.95797297566463,
          -492.22886806539117,
          -481.7651473643312,
          -484.49425227460466
         ],
         "z": [
          350.8932860867049,
          344.6470169392446,
          350.2971104047405,
          356.5433795522008
         ]
        },
        {
         "marker": {
          "color": "red",
          "size": 3
         },
         "mode": "markers+text",
         "showlegend": false,
         "text": "P2",
         "textfont": {
          "size": 12
         },
         "textposition": "top center",
         "type": "scatter3d",
         "x": [
          906.3661458975959
         ],
         "y": [
          -488.3615601699979
         ],
         "z": [
          350.5951982457227
         ]
        },
        {
         "line": {
          "color": "rgba(255, 187, 120, 0.8)",
          "width": 4
         },
         "mode": "lines",
         "showlegend": false,
         "type": "scatter3d",
         "x": [
          903.4681324855678,
          907.6557461408859
         ],
         "y": [
          -494.95797297566463,
          -492.22886806539117
         ],
         "z": [
          350.8932860867049,
          344.6470169392446
         ]
        },
        {
         "line": {
          "color": "rgba(255, 187, 120, 0.8)",
          "width": 4
         },
         "mode": "lines",
         "showlegend": false,
         "type": "scatter3d",
         "x": [
          907.6557461408859,
          909.2641593096239
         ],
         "y": [
          -492.22886806539117,
          -481.7651473643312
         ],
         "z": [
          344.6470169392446,
          350.2971104047405
         ]
        },
        {
         "line": {
          "color": "rgba(255, 187, 120, 0.8)",
          "width": 4
         },
         "mode": "lines",
         "showlegend": false,
         "type": "scatter3d",
         "x": [
          909.2641593096239,
          905.0765456543058
         ],
         "y": [
          -481.7651473643312,
          -484.49425227460466
         ],
         "z": [
          350.2971104047405,
          356.5433795522008
         ]
        },
        {
         "line": {
          "color": "rgba(255, 187, 120, 0.8)",
          "width": 4
         },
         "mode": "lines",
         "showlegend": false,
         "type": "scatter3d",
         "x": [
          905.0765456543058,
          903.4681324855678
         ],
         "y": [
          -484.49425227460466,
          -494.95797297566463
         ],
         "z": [
          356.5433795522008,
          350.8932860867049
         ]
        },
        {
         "color": "rgba(152, 223, 138, 0.8)",
         "name": "P4",
         "opacity": 0.8,
         "type": "mesh3d",
         "x": [
          902.5731846140691,
          906.7607982693871,
          908.3692114381251,
          904.1815977828071
         ],
         "y": [
          -493.4908803678552,
          -490.76177545758173,
          -480.29805475652176,
          -483.0271596667952
         ],
         "z": [
          353.1942489929174,
          346.9479798454571,
          352.598073310953,
          358.8443424584133
         ]
        },
        {
         "marker": {
          "color": "red",
          "size": 3
         },
         "mode": "markers+text",
         "showlegend": false,
         "text": "P3",
         "textfont": {
          "size": 12
         },
         "textposition": "top center",
         "type": "scatter3d",
         "x": [
          905.4711980260972
         ],
         "y": [
          -486.89446756218854
         ],
         "z": [
          352.8961611519352
         ]
        },
        {
         "line": {
          "color": "rgba(152, 223, 138, 0.8)",
          "width": 4
         },
         "mode": "lines",
         "showlegend": false,
         "type": "scatter3d",
         "x": [
          902.5731846140691,
          906.7607982693871
         ],
         "y": [
          -493.4908803678552,
          -490.76177545758173
         ],
         "z": [
          353.1942489929174,
          346.9479798454571
         ]
        },
        {
         "line": {
          "color": "rgba(152, 223, 138, 0.8)",
          "width": 4
         },
         "mode": "lines",
         "showlegend": false,
         "type": "scatter3d",
         "x": [
          906.7607982693871,
          908.3692114381251
         ],
         "y": [
          -490.76177545758173,
          -480.29805475652176
         ],
         "z": [
          346.9479798454571,
          352.598073310953
         ]
        },
        {
         "line": {
          "color": "rgba(152, 223, 138, 0.8)",
          "width": 4
         },
         "mode": "lines",
         "showlegend": false,
         "type": "scatter3d",
         "x": [
          908.3692114381251,
          904.1815977828071
         ],
         "y": [
          -480.29805475652176,
          -483.0271596667952
         ],
         "z": [
          352.598073310953,
          358.8443424584133
         ]
        },
        {
         "line": {
          "color": "rgba(152, 223, 138, 0.8)",
          "width": 4
         },
         "mode": "lines",
         "showlegend": false,
         "type": "scatter3d",
         "x": [
          904.1815977828071,
          902.5731846140691
         ],
         "y": [
          -483.0271596667952,
          -493.4908803678552
         ],
         "z": [
          358.8443424584133,
          353.1942489929174
         ]
        },
        {
         "color": "rgba(255, 152, 150, 0.8)",
         "name": "P5",
         "opacity": 0.8,
         "type": "mesh3d",
         "x": [
          901.6928040276175,
          905.8804176829356,
          907.4888308516736,
          903.3012171963555
         ],
         "y": [
          -491.87424996874756,
          -489.1451450584741,
          -478.68142435741413,
          -481.4105292676876
         ],
         "z": [
          356.62129072224263,
          350.37502157478235,
          356.02511504027825,
          362.27138418773853
         ]
        },
        {
         "marker": {
          "color": "red",
          "size": 3
         },
         "mode": "markers+text",
         "showlegend": false,
         "text": "P4",
         "textfont": {
          "size": 12
         },
         "textposition": "top center",
         "type": "scatter3d",
         "x": [
          904.5908174396455
         ],
         "y": [
          -485.2778371630809
         ],
         "z": [
          356.32320288126044
         ]
        },
        {
         "line": {
          "color": "rgba(255, 152, 150, 0.8)",
          "width": 4
         },
         "mode": "lines",
         "showlegend": false,
         "type": "scatter3d",
         "x": [
          901.6928040276175,
          905.8804176829356
         ],
         "y": [
          -491.87424996874756,
          -489.1451450584741
         ],
         "z": [
          356.62129072224263,
          350.37502157478235
         ]
        },
        {
         "line": {
          "color": "rgba(255, 152, 150, 0.8)",
          "width": 4
         },
         "mode": "lines",
         "showlegend": false,
         "type": "scatter3d",
         "x": [
          905.8804176829356,
          907.4888308516736
         ],
         "y": [
          -489.1451450584741,
          -478.68142435741413
         ],
         "z": [
          350.37502157478235,
          356.02511504027825
         ]
        },
        {
         "line": {
          "color": "rgba(255, 152, 150, 0.8)",
          "width": 4
         },
         "mode": "lines",
         "showlegend": false,
         "type": "scatter3d",
         "x": [
          907.4888308516736,
          903.3012171963555
         ],
         "y": [
          -478.68142435741413,
          -481.4105292676876
         ],
         "z": [
          356.02511504027825,
          362.27138418773853
         ]
        },
        {
         "line": {
          "color": "rgba(255, 152, 150, 0.8)",
          "width": 4
         },
         "mode": "lines",
         "showlegend": false,
         "type": "scatter3d",
         "x": [
          903.3012171963555,
          901.6928040276175
         ],
         "y": [
          -481.4105292676876,
          -491.87424996874756
         ],
         "z": [
          362.27138418773853,
          356.62129072224263
         ]
        },
        {
         "color": "rgba(197, 176, 213, 0.8)",
         "name": "P6",
         "opacity": 0.8,
         "type": "mesh3d",
         "x": [
          900.8188674041676,
          905.0064810594856,
          906.6148942282236,
          902.4272805729056
         ],
         "y": [
          -490.33995292475623,
          -487.61084801448277,
          -477.1471273134228,
          -479.87623222369626
         ],
         "z": [
          361.2616845192682,
          355.01541537180793,
          360.66550883730383,
          366.9117779847641
         ]
        },
        {
         "marker": {
          "color": "red",
          "size": 3
         },
         "mode": "markers+text",
         "showlegend": false,
         "text": "P5",
         "textfont": {
          "size": 12
         },
         "textposition": "top center",
         "type": "scatter3d",
         "x": [
          903.7168808161956
         ],
         "y": [
          -483.7435401190895
         ],
         "z": [
          360.963596678286
         ]
        },
        {
         "line": {
          "color": "rgba(197, 176, 213, 0.8)",
          "width": 4
         },
         "mode": "lines",
         "showlegend": false,
         "type": "scatter3d",
         "x": [
          900.8188674041676,
          905.0064810594856
         ],
         "y": [
          -490.33995292475623,
          -487.61084801448277
         ],
         "z": [
          361.2616845192682,
          355.01541537180793
         ]
        },
        {
         "line": {
          "color": "rgba(197, 176, 213, 0.8)",
          "width": 4
         },
         "mode": "lines",
         "showlegend": false,
         "type": "scatter3d",
         "x": [
          905.0064810594856,
          906.6148942282236
         ],
         "y": [
          -487.61084801448277,
          -477.1471273134228
         ],
         "z": [
          355.01541537180793,
          360.66550883730383
         ]
        },
        {
         "line": {
          "color": "rgba(197, 176, 213, 0.8)",
          "width": 4
         },
         "mode": "lines",
         "showlegend": false,
         "type": "scatter3d",
         "x": [
          906.6148942282236,
          902.4272805729056
         ],
         "y": [
          -477.1471273134228,
          -479.87623222369626
         ],
         "z": [
          360.66550883730383,
          366.9117779847641
         ]
        },
        {
         "line": {
          "color": "rgba(197, 176, 213, 0.8)",
          "width": 4
         },
         "mode": "lines",
         "showlegend": false,
         "type": "scatter3d",
         "x": [
          902.4272805729056,
          900.8188674041676
         ],
         "y": [
          -479.87623222369626,
          -490.33995292475623
         ],
         "z": [
          366.9117779847641,
          361.2616845192682
         ]
        },
        {
         "color": "rgba(140, 86, 75, 0.8)",
         "name": "P7",
         "opacity": 0.8,
         "type": "mesh3d",
         "x": [
          899.5614637759832,
          903.7490774313012,
          905.3574906000392,
          901.1698769447212
         ],
         "y": [
          -488.9894611904211,
          -486.2603562801476,
          -475.79663557908765,
          -478.5257404893611
         ],
         "z": [
          364.93578688656976,
          358.6895177391095,
          364.3396112046054,
          370.58588035206566
         ]
        },
        {
         "marker": {
          "color": "red",
          "size": 3
         },
         "mode": "markers+text",
         "showlegend": false,
         "text": "P6",
         "textfont": {
          "size": 12
         },
         "textposition": "top center",
         "type": "scatter3d",
         "x": [
          902.4594771880112
         ],
         "y": [
          -482.39304838475437
         ],
         "z": [
          364.63769904558757
         ]
        },
        {
         "line": {
          "color": "rgba(140, 86, 75, 0.8)",
          "width": 4
         },
         "mode": "lines",
         "showlegend": false,
         "type": "scatter3d",
         "x": [
          899.5614637759832,
          903.7490774313012
         ],
         "y": [
          -488.9894611904211,
          -486.2603562801476
         ],
         "z": [
          364.93578688656976,
          358.6895177391095
         ]
        },
        {
         "line": {
          "color": "rgba(140, 86, 75, 0.8)",
          "width": 4
         },
         "mode": "lines",
         "showlegend": false,
         "type": "scatter3d",
         "x": [
          903.7490774313012,
          905.3574906000392
         ],
         "y": [
          -486.2603562801476,
          -475.79663557908765
         ],
         "z": [
          358.6895177391095,
          364.3396112046054
         ]
        },
        {
         "line": {
          "color": "rgba(140, 86, 75, 0.8)",
          "width": 4
         },
         "mode": "lines",
         "showlegend": false,
         "type": "scatter3d",
         "x": [
          905.3574906000392,
          901.1698769447212
         ],
         "y": [
          -475.79663557908765,
          -478.5257404893611
         ],
         "z": [
          364.3396112046054,
          370.58588035206566
         ]
        },
        {
         "line": {
          "color": "rgba(140, 86, 75, 0.8)",
          "width": 4
         },
         "mode": "lines",
         "showlegend": false,
         "type": "scatter3d",
         "x": [
          901.1698769447212,
          899.5614637759832
         ],
         "y": [
          -478.5257404893611,
          -488.9894611904211
         ],
         "z": [
          370.58588035206566,
          364.93578688656976
         ]
        },
        {
         "color": "rgba(227, 119, 194, 0.8)",
         "name": "P8",
         "opacity": 0.8,
         "type": "mesh3d",
         "x": [
          898.4616374494273,
          902.6492511047453,
          904.2576642734833,
          900.0700506181653
         ],
         "y": [
          -487.80703658260194,
          -485.0779316723285,
          -474.6142109712685,
          -477.34331588154197
         ],
         "z": [
          369.8606257526999,
          363.6143566052396,
          369.2644500707355,
          375.5107192181958
         ]
        },
        {
         "marker": {
          "color": "red",
          "size": 3
         },
         "mode": "markers+text",
         "showlegend": false,
         "text": "P7",
         "textfont": {
          "size": 12
         },
         "textposition": "top center",
         "type": "scatter3d",
         "x": [
          901.3596508614553
         ],
         "y": [
          -481.2106237769352
         ],
         "z": [
          369.56253791171775
         ]
        },
        {
         "line": {
          "color": "rgba(227, 119, 194, 0.8)",
          "width": 4
         },
         "mode": "lines",
         "showlegend": false,
         "type": "scatter3d",
         "x": [
          898.4616374494273,
          902.6492511047453
         ],
         "y": [
          -487.80703658260194,
          -485.0779316723285
         ],
         "z": [
          369.8606257526999,
          363.6143566052396
         ]
        },
        {
         "line": {
          "color": "rgba(227, 119, 194, 0.8)",
          "width": 4
         },
         "mode": "lines",
         "showlegend": false,
         "type": "scatter3d",
         "x": [
          902.6492511047453,
          904.2576642734833
         ],
         "y": [
          -485.0779316723285,
          -474.6142109712685
         ],
         "z": [
          363.6143566052396,
          369.2644500707355
         ]
        },
        {
         "line": {
          "color": "rgba(227, 119, 194, 0.8)",
          "width": 4
         },
         "mode": "lines",
         "showlegend": false,
         "type": "scatter3d",
         "x": [
          904.2576642734833,
          900.0700506181653
         ],
         "y": [
          -474.6142109712685,
          -477.34331588154197
         ],
         "z": [
          369.2644500707355,
          375.5107192181958
         ]
        },
        {
         "line": {
          "color": "rgba(227, 119, 194, 0.8)",
          "width": 4
         },
         "mode": "lines",
         "showlegend": false,
         "type": "scatter3d",
         "x": [
          900.0700506181653,
          898.4616374494273
         ],
         "y": [
          -477.34331588154197,
          -487.80703658260194
         ],
         "z": [
          375.5107192181958,
          369.8606257526999
         ]
        },
        {
         "color": "rgba(127, 127, 127, 0.8)",
         "name": "P9",
         "opacity": 0.8,
         "type": "mesh3d",
         "x": [
          897.1825209373475,
          901.3701345926655,
          902.9785477614035,
          898.7909341060855
         ],
         "y": [
          -486.99003571643163,
          -484.26093080615817,
          -473.7972101050982,
          -476.52631501537167
         ],
         "z": [
          377.5014344760459,
          371.25516532858563,
          376.90525879408153,
          383.1515279415418
         ]
        },
        {
         "marker": {
          "color": "red",
          "size": 3
         },
         "mode": "markers+text",
         "showlegend": false,
         "text": "P8",
         "textfont": {
          "size": 12
         },
         "textposition": "top center",
         "type": "scatter3d",
         "x": [
          900.0805343493755
         ],
         "y": [
          -480.3936229107649
         ],
         "z": [
          377.2033466350637
         ]
        },
        {
         "line": {
          "color": "rgba(127, 127, 127, 0.8)",
          "width": 4
         },
         "mode": "lines",
         "showlegend": false,
         "type": "scatter3d",
         "x": [
          897.1825209373475,
          901.3701345926655
         ],
         "y": [
          -486.99003571643163,
          -484.26093080615817
         ],
         "z": [
          377.5014344760459,
          371.25516532858563
         ]
        },
        {
         "line": {
          "color": "rgba(127, 127, 127, 0.8)",
          "width": 4
         },
         "mode": "lines",
         "showlegend": false,
         "type": "scatter3d",
         "x": [
          901.3701345926655,
          902.9785477614035
         ],
         "y": [
          -484.26093080615817,
          -473.7972101050982
         ],
         "z": [
          371.25516532858563,
          376.90525879408153
         ]
        },
        {
         "line": {
          "color": "rgba(127, 127, 127, 0.8)",
          "width": 4
         },
         "mode": "lines",
         "showlegend": false,
         "type": "scatter3d",
         "x": [
          902.9785477614035,
          898.7909341060855
         ],
         "y": [
          -473.7972101050982,
          -476.52631501537167
         ],
         "z": [
          376.90525879408153,
          383.1515279415418
         ]
        },
        {
         "line": {
          "color": "rgba(127, 127, 127, 0.8)",
          "width": 4
         },
         "mode": "lines",
         "showlegend": false,
         "type": "scatter3d",
         "x": [
          898.7909341060855,
          897.1825209373475
         ],
         "y": [
          -476.52631501537167,
          -486.99003571643163
         ],
         "z": [
          383.1515279415418,
          377.5014344760459
         ]
        },
        {
         "color": "rgba(188, 189, 34, 0.8)",
         "name": "P10",
         "opacity": 0.8,
         "type": "mesh3d",
         "x": [
          895.6482552864039,
          899.835868941722,
          901.44428211046,
          897.256668455142
         ],
         "y": [
          -486.4568934092695,
          -483.72778849899606,
          -473.2640677979361,
          -475.99317270820956
         ],
         "z": [
          382.87058140848376,
          376.6243122610235,
          382.2744057265194,
          388.52067487397966
         ]
        },
        {
         "marker": {
          "color": "red",
          "size": 3
         },
         "mode": "markers+text",
         "showlegend": false,
         "text": "P9",
         "textfont": {
          "size": 12
         },
         "textposition": "top center",
         "type": "scatter3d",
         "x": [
          898.546268698432
         ],
         "y": [
          -479.8604806036028
         ],
         "z": [
          382.5724935675016
         ]
        },
        {
         "line": {
          "color": "rgba(188, 189, 34, 0.8)",
          "width": 4
         },
         "mode": "lines",
         "showlegend": false,
         "type": "scatter3d",
         "x": [
          895.6482552864039,
          899.835868941722
         ],
         "y": [
          -486.4568934092695,
          -483.72778849899606
         ],
         "z": [
          382.87058140848376,
          376.6243122610235
         ]
        },
        {
         "line": {
          "color": "rgba(188, 189, 34, 0.8)",
          "width": 4
         },
         "mode": "lines",
         "showlegend": false,
         "type": "scatter3d",
         "x": [
          899.835868941722,
          901.44428211046
         ],
         "y": [
          -483.72778849899606,
          -473.2640677979361
         ],
         "z": [
          376.6243122610235,
          382.2744057265194
         ]
        },
        {
         "line": {
          "color": "rgba(188, 189, 34, 0.8)",
          "width": 4
         },
         "mode": "lines",
         "showlegend": false,
         "type": "scatter3d",
         "x": [
          901.44428211046,
          897.256668455142
         ],
         "y": [
          -473.2640677979361,
          -475.99317270820956
         ],
         "z": [
          382.2744057265194,
          388.52067487397966
         ]
        },
        {
         "line": {
          "color": "rgba(188, 189, 34, 0.8)",
          "width": 4
         },
         "mode": "lines",
         "showlegend": false,
         "type": "scatter3d",
         "x": [
          897.256668455142,
          895.6482552864039
         ],
         "y": [
          -475.99317270820956,
          -486.4568934092695
         ],
         "z": [
          388.52067487397966,
          382.87058140848376
         ]
        },
        {
         "color": "rgba(23, 190, 207, 0.8)",
         "name": "P11",
         "opacity": 0.8,
         "type": "mesh3d",
         "x": [
          893.8849198151555,
          898.0725334704736,
          899.6809466392116,
          895.4933329838935
         ],
         "y": [
          -486.09211940213345,
          -483.36301449186,
          -472.8992937908,
          -475.6283987010735
         ],
         "z": [
          388.40183440947163,
          382.15556526201135,
          387.80565872750725,
          394.05192787496753
         ]
        },
        {
         "marker": {
          "color": "red",
          "size": 3
         },
         "mode": "markers+text",
         "showlegend": false,
         "text": "",
         "textfont": {
          "size": 12
         },
         "textposition": "top center",
         "type": "scatter3d",
         "x": [
          896.7829332271835
         ],
         "y": [
          -479.4957065964667
         ],
         "z": [
          388.10374656848944
         ]
        },
        {
         "line": {
          "color": "rgba(23, 190, 207, 0.8)",
          "width": 4
         },
         "mode": "lines",
         "showlegend": false,
         "type": "scatter3d",
         "x": [
          893.8849198151555,
          898.0725334704736
         ],
         "y": [
          -486.09211940213345,
          -483.36301449186
         ],
         "z": [
          388.40183440947163,
          382.15556526201135
         ]
        },
        {
         "line": {
          "color": "rgba(23, 190, 207, 0.8)",
          "width": 4
         },
         "mode": "lines",
         "showlegend": false,
         "type": "scatter3d",
         "x": [
          898.0725334704736,
          899.6809466392116
         ],
         "y": [
          -483.36301449186,
          -472.8992937908
         ],
         "z": [
          382.15556526201135,
          387.80565872750725
         ]
        },
        {
         "line": {
          "color": "rgba(23, 190, 207, 0.8)",
          "width": 4
         },
         "mode": "lines",
         "showlegend": false,
         "type": "scatter3d",
         "x": [
          899.6809466392116,
          895.4933329838935
         ],
         "y": [
          -472.8992937908,
          -475.6283987010735
         ],
         "z": [
          387.80565872750725,
          394.05192787496753
         ]
        },
        {
         "line": {
          "color": "rgba(23, 190, 207, 0.8)",
          "width": 4
         },
         "mode": "lines",
         "showlegend": false,
         "type": "scatter3d",
         "x": [
          895.4933329838935,
          893.8849198151555
         ],
         "y": [
          -475.6283987010735,
          -486.09211940213345
         ],
         "z": [
          394.05192787496753,
          388.40183440947163
         ]
        },
        {
         "line": {
          "color": "black",
          "width": 2
         },
         "mode": "lines",
         "name": "Berechnete Hakenlinie",
         "type": "scatter3d",
         "x": {
          "bdata": "5l/Ns1lXjEBI4eNOKleMQOl95t3tUoxAOIB4A8VLjEB5aX7+uUSMQIVlAiy8PYxAIT5gAq0zjEBuf6GQ4CqMQC5mMe+kIIxAwJQfwl4UjECk7X5yQwaMQA==",
          "dtype": "f8"
         },
         "y": {
          "bdata": "3t9NbRuefsDo/cHMq55+wNYaUfPIhX7A7O43vU9ufsC8kGEFclR+wA7sUorlO37AQGQa7UkmfsAmmwm3XhN+wBGLiUdMBn7AEDVPh8T9fcDGQwpq7vd9wA==",
          "dtype": "f8"
         },
         "z": {
          "bdata": "5CWZKwS7dUCagD4gUbV1QECAmO6F6XVAHngTrVYOdkDJz8jWK0V2QF28WeRqj3ZA0xfqAzTKdkBo2cAnABl3QJu1ZuhAk3dAcNkD7yjpd0DAaynyqEF4QA==",
          "dtype": "f8"
         }
        },
        {
         "mode": "text",
         "showlegend": false,
         "text": [
          "Pre-Position"
         ],
         "textfont": {
          "size": 10
         },
         "textposition": "top center",
         "type": "scatter3d",
         "x": [
          906.9187999768153
         ],
         "y": [
          -489.88169603748054
         ],
         "z": [
          347.6885181410164
         ]
        },
        {
         "mode": "text",
         "showlegend": false,
         "text": [
          "Loslassen"
         ],
         "textfont": {
          "size": 10
         },
         "textposition": "top center",
         "type": "scatter3d",
         "x": [
          896.7829332271835
         ],
         "y": [
          -479.4957065964667
         ],
         "z": [
          388.10374656848944
         ]
        },
        {
         "color": "rgba(0,255,0,0.2)",
         "name": "optimale Trajektorie",
         "opacity": 0.8,
         "type": "mesh3d",
         "x": [
          904.7654537546975,
          912.4417674667966,
          909.0721487382114,
          901.3958350261123
         ],
         "y": [
          -496.7637534680738,
          -494.51627848391314,
          -482.9996392455562,
          -485.24711422971683
         ],
         "z": [
          347.70812818851044,
          347.556259860636,
          347.66891099247306,
          347.8207793203475
         ]
        },
        {
         "line": {
          "color": "rgba(0,255,0,0.2)",
          "width": 3
         },
         "mode": "lines",
         "showlegend": false,
         "type": "scatter3d",
         "x": [
          904.7654537546975,
          912.4417674667966
         ],
         "y": [
          -496.7637534680738,
          -494.51627848391314
         ],
         "z": [
          347.70812818851044,
          347.556259860636
         ]
        },
        {
         "line": {
          "color": "rgba(0,255,0,0.2)",
          "width": 3
         },
         "mode": "lines",
         "showlegend": false,
         "type": "scatter3d",
         "x": [
          912.4417674667966,
          909.0721487382114
         ],
         "y": [
          -494.51627848391314,
          -482.9996392455562
         ],
         "z": [
          347.556259860636,
          347.66891099247306
         ]
        },
        {
         "line": {
          "color": "rgba(0,255,0,0.2)",
          "width": 3
         },
         "mode": "lines",
         "showlegend": false,
         "type": "scatter3d",
         "x": [
          909.0721487382114,
          901.3958350261123
         ],
         "y": [
          -482.9996392455562,
          -485.24711422971683
         ],
         "z": [
          347.66891099247306,
          347.8207793203475
         ]
        },
        {
         "line": {
          "color": "rgba(0,255,0,0.2)",
          "width": 3
         },
         "mode": "lines",
         "showlegend": false,
         "type": "scatter3d",
         "x": [
          901.3958350261123,
          904.7654537546975
         ],
         "y": [
          -485.24711422971683,
          -496.7637534680738
         ],
         "z": [
          347.8207793203475,
          347.70812818851044
         ]
        },
        {
         "marker": {
          "color": "green",
          "size": 4
         },
         "mode": "markers",
         "name": "Mitte P11",
         "showlegend": false,
         "type": "scatter3d",
         "x": [
          906.9188012464544
         ],
         "y": [
          -489.881696356815
         ],
         "z": [
          347.68851959049175
         ]
        },
        {
         "color": "rgba(0,255,0,0.2)",
         "name": "optimale Trajektorie",
         "opacity": 0.8,
         "type": "mesh3d",
         "x": [
          908.2861941975428,
          914.7862257473945,
          908.0670478565686,
          901.5670163067169
         ],
         "y": [
          -498.26841982348236,
          -493.73033656557163,
          -483.84788857791096,
          -488.3859718358217
         ],
         "z": [
          345.7368742049174,
          344.6619834219992,
          345.75279515764225,
          346.82768594056046
         ]
        },
        {
         "line": {
          "color": "rgba(0,255,0,0.2)",
          "width": 3
         },
         "mode": "lines",
         "showlegend": false,
         "type": "scatter3d",
         "x": [
          908.2861941975428,
          914.7862257473945
         ],
         "y": [
          -498.26841982348236,
          -493.73033656557163
         ],
         "z": [
          345.7368742049174,
          344.6619834219992
         ]
        },
        {
         "line": {
          "color": "rgba(0,255,0,0.2)",
          "width": 3
         },
         "mode": "lines",
         "showlegend": false,
         "type": "scatter3d",
         "x": [
          914.7862257473945,
          908.0670478565686
         ],
         "y": [
          -493.73033656557163,
          -483.84788857791096
         ],
         "z": [
          344.6619834219992,
          345.75279515764225
         ]
        },
        {
         "line": {
          "color": "rgba(0,255,0,0.2)",
          "width": 3
         },
         "mode": "lines",
         "showlegend": false,
         "type": "scatter3d",
         "x": [
          908.0670478565686,
          901.5670163067169
         ],
         "y": [
          -483.84788857791096,
          -488.3859718358217
         ],
         "z": [
          345.75279515764225,
          346.82768594056046
         ]
        },
        {
         "line": {
          "color": "rgba(0,255,0,0.2)",
          "width": 3
         },
         "mode": "lines",
         "showlegend": false,
         "type": "scatter3d",
         "x": [
          901.5670163067169,
          908.2861941975428
         ],
         "y": [
          -488.3859718358217,
          -498.26841982348236
         ],
         "z": [
          346.82768594056046,
          345.7368742049174
         ]
        },
        {
         "marker": {
          "color": "green",
          "size": 4
         },
         "mode": "markers",
         "name": "Mitte P11",
         "showlegend": false,
         "type": "scatter3d",
         "x": [
          908.1766210270557
         ],
         "y": [
          -491.05815420069666
         ],
         "z": [
          345.7448346812798
         ]
        },
        {
         "color": "rgba(0,255,0,0.2)",
         "name": "optimale Trajektorie",
         "opacity": 0.8,
         "type": "mesh3d",
         "x": [
          905.1328632231249,
          911.4885238725897,
          904.4818679608396,
          898.1262073113749
         ],
         "y": [
          -495.01077062409473,
          -490.27823021364196,
          -480.6033270196635,
          -485.33586743011625
         ],
         "z": [
          345.2407504696588,
          344.1413692926887,
          345.28286879837583,
          346.3822499753459
         ]
        },
        {
         "line": {
          "color": "rgba(0,255,0,0.2)",
          "width": 3
         },
         "mode": "lines",
         "showlegend": false,
         "type": "scatter3d",
         "x": [
          905.1328632231249,
          911.4885238725897
         ],
         "y": [
          -495.01077062409473,
          -490.27823021364196
         ],
         "z": [
          345.2407504696588,
          344.1413692926887
         ]
        },
        {
         "line": {
          "color": "rgba(0,255,0,0.2)",
          "width": 3
         },
         "mode": "lines",
         "showlegend": false,
         "type": "scatter3d",
         "x": [
          911.4885238725897,
          904.4818679608396
         ],
         "y": [
          -490.27823021364196,
          -480.6033270196635
         ],
         "z": [
          344.1413692926887,
          345.28286879837583
         ]
        },
        {
         "line": {
          "color": "rgba(0,255,0,0.2)",
          "width": 3
         },
         "mode": "lines",
         "showlegend": false,
         "type": "scatter3d",
         "x": [
          904.4818679608396,
          898.1262073113749
         ],
         "y": [
          -480.6033270196635,
          -485.33586743011625
         ],
         "z": [
          345.28286879837583,
          346.3822499753459
         ]
        },
        {
         "line": {
          "color": "rgba(0,255,0,0.2)",
          "width": 3
         },
         "mode": "lines",
         "showlegend": false,
         "type": "scatter3d",
         "x": [
          898.1262073113749,
          905.1328632231249
         ],
         "y": [
          -485.33586743011625,
          -495.01077062409473
         ],
         "z": [
          346.3822499753459,
          345.2407504696588
         ]
        },
        {
         "marker": {
          "color": "green",
          "size": 4
         },
         "mode": "markers",
         "name": "Mitte P11",
         "showlegend": false,
         "type": "scatter3d",
         "x": [
          904.8073655919823
         ],
         "y": [
          -487.8070488218791
         ],
         "z": [
          345.2618096340173
         ]
        },
        {
         "color": "rgba(0,255,0,0.2)",
         "name": "optimale Trajektorie",
         "opacity": 0.8,
         "type": "mesh3d",
         "x": [
          904.8753472466959,
          910.09173861451,
          901.4706055697219,
          896.2542142019079
         ],
         "y": [
          -491.57001862567216,
          -485.5731229668986,
          -477.66777972051756,
          -483.6646753792911
         ],
         "z": [
          346.219246834986,
          345.3101244254183,
          347.9899776268009,
          348.8991000363686
         ]
        },
        {
         "line": {
          "color": "rgba(0,255,0,0.2)",
          "width": 3
         },
         "mode": "lines",
         "showlegend": false,
         "type": "scatter3d",
         "x": [
          904.8753472466959,
          910.09173861451
         ],
         "y": [
          -491.57001862567216,
          -485.5731229668986
         ],
         "z": [
          346.219246834986,
          345.3101244254183
         ]
        },
        {
         "line": {
          "color": "rgba(0,255,0,0.2)",
          "width": 3
         },
         "mode": "lines",
         "showlegend": false,
         "type": "scatter3d",
         "x": [
          910.09173861451,
          901.4706055697219
         ],
         "y": [
          -485.5731229668986,
          -477.66777972051756
         ],
         "z": [
          345.3101244254183,
          347.9899776268009
         ]
        },
        {
         "line": {
          "color": "rgba(0,255,0,0.2)",
          "width": 3
         },
         "mode": "lines",
         "showlegend": false,
         "type": "scatter3d",
         "x": [
          901.4706055697219,
          896.2542142019079
         ],
         "y": [
          -477.66777972051756,
          -483.6646753792911
         ],
         "z": [
          347.9899776268009,
          348.8991000363686
         ]
        },
        {
         "line": {
          "color": "rgba(0,255,0,0.2)",
          "width": 3
         },
         "mode": "lines",
         "showlegend": false,
         "type": "scatter3d",
         "x": [
          896.2542142019079,
          904.8753472466959
         ],
         "y": [
          -483.6646753792911,
          -491.57001862567216
         ],
         "z": [
          348.8991000363686,
          346.219246834986
         ]
        },
        {
         "marker": {
          "color": "green",
          "size": 4
         },
         "mode": "markers",
         "name": "Mitte P11",
         "showlegend": false,
         "type": "scatter3d",
         "x": [
          903.1729764082089
         ],
         "y": [
          -484.61889917309486
         ],
         "z": [
          347.1046122308935
         ]
        },
        {
         "color": "rgba(0,255,0,0.2)",
         "name": "optimale Trajektorie",
         "opacity": 0.8,
         "type": "mesh3d",
         "x": [
          901.9695336391139,
          907.1486328179014,
          898.4999575478175,
          893.32085836903
         ],
         "y": [
          -488.8632623121022,
          -482.8185539439586,
          -475.02417554941695,
          -481.0688839175606
         ],
         "z": [
          347.3832092487901,
          346.58418957420315,
          349.4907479368277,
          350.2897676114146
         ]
        },
        {
         "line": {
          "color": "rgba(0,255,0,0.2)",
          "width": 3
         },
         "mode": "lines",
         "showlegend": false,
         "type": "scatter3d",
         "x": [
          901.9695336391139,
          907.1486328179014
         ],
         "y": [
          -488.8632623121022,
          -482.8185539439586
         ],
         "z": [
          347.3832092487901,
          346.58418957420315
         ]
        },
        {
         "line": {
          "color": "rgba(0,255,0,0.2)",
          "width": 3
         },
         "mode": "lines",
         "showlegend": false,
         "type": "scatter3d",
         "x": [
          907.1486328179014,
          898.4999575478175
         ],
         "y": [
          -482.8185539439586,
          -475.02417554941695
         ],
         "z": [
          346.58418957420315,
          349.4907479368277
         ]
        },
        {
         "line": {
          "color": "rgba(0,255,0,0.2)",
          "width": 3
         },
         "mode": "lines",
         "showlegend": false,
         "type": "scatter3d",
         "x": [
          898.4999575478175,
          893.32085836903
         ],
         "y": [
          -475.02417554941695,
          -481.0688839175606
         ],
         "z": [
          349.4907479368277,
          350.2897676114146
         ]
        },
        {
         "line": {
          "color": "rgba(0,255,0,0.2)",
          "width": 3
         },
         "mode": "lines",
         "showlegend": false,
         "type": "scatter3d",
         "x": [
          893.32085836903,
          901.9695336391139
         ],
         "y": [
          -481.0688839175606,
          -488.8632623121022
         ],
         "z": [
          350.2897676114146,
          347.3832092487901
         ]
        },
        {
         "marker": {
          "color": "green",
          "size": 4
         },
         "mode": "markers",
         "name": "Mitte P11",
         "showlegend": false,
         "type": "scatter3d",
         "x": [
          900.2347455934657
         ],
         "y": [
          -481.9437189307596
         ],
         "z": [
          348.4369785928089
         ]
        },
        {
         "color": "rgba(0,255,0,0.2)",
         "name": "optimale Trajektorie",
         "opacity": 0.8,
         "type": "mesh3d",
         "x": [
          901.2814867273669,
          903.495875566697,
          893.5117436751525,
          891.2973548358224
         ],
         "y": [
          -484.50527244949103,
          -477.22424959415497,
          -476.42657737793877,
          -483.70760023327483
         ],
         "z": [
          344.7599783512991,
          347.2263903704726,
          353.8355377744666,
          351.3691257552931
         ]
        },
        {
         "line": {
          "color": "rgba(0,255,0,0.2)",
          "width": 3
         },
         "mode": "lines",
         "showlegend": false,
         "type": "scatter3d",
         "x": [
          901.2814867273669,
          903.495875566697
         ],
         "y": [
          -484.50527244949103,
          -477.22424959415497
         ],
         "z": [
          344.7599783512991,
          347.2263903704726
         ]
        },
        {
         "line": {
          "color": "rgba(0,255,0,0.2)",
          "width": 3
         },
         "mode": "lines",
         "showlegend": false,
         "type": "scatter3d",
         "x": [
          903.495875566697,
          893.5117436751525
         ],
         "y": [
          -477.22424959415497,
          -476.42657737793877
         ],
         "z": [
          347.2263903704726,
          353.8355377744666
         ]
        },
        {
         "line": {
          "color": "rgba(0,255,0,0.2)",
          "width": 3
         },
         "mode": "lines",
         "showlegend": false,
         "type": "scatter3d",
         "x": [
          893.5117436751525,
          891.2973548358224
         ],
         "y": [
          -476.42657737793877,
          -483.70760023327483
         ],
         "z": [
          353.8355377744666,
          351.3691257552931
         ]
        },
        {
         "line": {
          "color": "rgba(0,255,0,0.2)",
          "width": 3
         },
         "mode": "lines",
         "showlegend": false,
         "type": "scatter3d",
         "x": [
          891.2973548358224,
          901.2814867273669
         ],
         "y": [
          -483.70760023327483,
          -484.50527244949103
         ],
         "z": [
          351.3691257552931,
          344.7599783512991
         ]
        },
        {
         "marker": {
          "color": "green",
          "size": 4
         },
         "mode": "markers",
         "name": "Mitte P11",
         "showlegend": false,
         "type": "scatter3d",
         "x": [
          897.3966152012597
         ],
         "y": [
          -480.4659249137149
         ],
         "z": [
          349.29775806288285
         ]
        },
        {
         "color": "rgba(0,255,0,0.2)",
         "name": "optimale Trajektorie",
         "opacity": 0.8,
         "type": "mesh3d",
         "x": [
          895.6897865588385,
          896.1188135748546,
          893.4433610123151,
          893.014333996299
         ],
         "y": [
          -474.7209022793622,
          -472.12212521795976,
          -483.13619107552705,
          -485.73496813692947
         ],
         "z": [
          345.549514154888,
          353.103472958367,
          357.0445777363159,
          349.4906189328369
         ]
        },
        {
         "line": {
          "color": "rgba(0,255,0,0.2)",
          "width": 3
         },
         "mode": "lines",
         "showlegend": false,
         "type": "scatter3d",
         "x": [
          895.6897865588385,
          896.1188135748546
         ],
         "y": [
          -474.7209022793622,
          -472.12212521795976
         ],
         "z": [
          345.549514154888,
          353.103472958367
         ]
        },
        {
         "line": {
          "color": "rgba(0,255,0,0.2)",
          "width": 3
         },
         "mode": "lines",
         "showlegend": false,
         "type": "scatter3d",
         "x": [
          896.1188135748546,
          893.4433610123151
         ],
         "y": [
          -472.12212521795976,
          -483.13619107552705
         ],
         "z": [
          353.103472958367,
          357.0445777363159
         ]
        },
        {
         "line": {
          "color": "rgba(0,255,0,0.2)",
          "width": 3
         },
         "mode": "lines",
         "showlegend": false,
         "type": "scatter3d",
         "x": [
          893.4433610123151,
          893.014333996299
         ],
         "y": [
          -483.13619107552705,
          -485.73496813692947
         ],
         "z": [
          357.0445777363159,
          349.4906189328369
         ]
        },
        {
         "line": {
          "color": "rgba(0,255,0,0.2)",
          "width": 3
         },
         "mode": "lines",
         "showlegend": false,
         "type": "scatter3d",
         "x": [
          893.014333996299,
          895.6897865588385
         ],
         "y": [
          -485.73496813692947,
          -474.7209022793622
         ],
         "z": [
          349.4906189328369,
          345.549514154888
         ]
        },
        {
         "marker": {
          "color": "green",
          "size": 4
         },
         "mode": "markers",
         "name": "Mitte P11",
         "showlegend": false,
         "type": "scatter3d",
         "x": [
          894.5665737855768
         ],
         "y": [
          -478.9285466774446
         ],
         "z": [
          351.29704594560195
         ]
        },
        {
         "line": {
          "color": "green",
          "width": 2
         },
         "mode": "lines",
         "name": "Optimale Hakenlinie",
         "type": "scatter3d",
         "x": {
          "bdata": "Xsh3tFlXjEDs90i4aWGMQNZrF3x1RoxA5YF0QWI5jECGNkzC4CGMQA40l0QsC4xAlj7WV4j0i0A=",
          "dtype": "f8"
         },
         "y": {
          "bdata": "XZijbRuefsDgYRkz7rB+wPCDBqzpfH7AbL/RAudJfsCogwV5GR9+wMGsrm10B37A8sbCU9vufcA=",
          "dtype": "f8"
         },
         "z": {
          "bdata": "FD0eLQS7dUBgUMXX6pt1QB1+TF8wlHVAMOfffayxdUCp0kPd/cZ1QDxj9Z3D1HVAUdw/s8D0dUA=",
          "dtype": "f8"
         }
        },
        {
         "line": {
          "color": "gray",
          "dash": "dash"
         },
         "mode": "lines",
         "name": "Direkte Gerade Spitze -> Senke",
         "type": "scatter3d",
         "x": [
          906.8956582835316,
          896.7829332271835
         ],
         "y": [
          -489.9169433191114,
          -479.49570659646673
         ],
         "z": [
          347.3323061410425,
          388.10374656848944
         ]
        },
        {
         "marker": {
          "color": "magenta",
          "size": 8
         },
         "mode": "markers",
         "name": "Spitze",
         "type": "scatter3d",
         "x": [
          906.8956582835316
         ],
         "y": [
          -489.9169433191114
         ],
         "z": [
          347.3323061410425
         ]
        },
        {
         "marker": {
          "color": "magenta",
          "size": 8
         },
         "mode": "markers",
         "name": "Senke",
         "type": "scatter3d",
         "x": [
          896.7829332271835
         ],
         "y": [
          -479.49570659646673
         ],
         "z": [
          388.10374656848944
         ]
        },
        {
         "mode": "text",
         "showlegend": false,
         "text": [
          "Spitze"
         ],
         "textfont": {
          "size": 10
         },
         "textposition": "top center",
         "type": "scatter3d",
         "x": [
          906.8956582835316
         ],
         "y": [
          -489.9169433191114
         ],
         "z": [
          347.3323061410425
         ]
        },
        {
         "mode": "text",
         "showlegend": false,
         "text": [
          "Senke"
         ],
         "textfont": {
          "size": 10
         },
         "textposition": "top center",
         "type": "scatter3d",
         "x": [
          896.7829332271835
         ],
         "y": [
          -479.49570659646673
         ],
         "z": [
          388.10374656848944
         ]
        }
       ],
       "layout": {
        "legend": {
         "title": {
          "text": "Legende"
         }
        },
        "scene": {
         "aspectmode": "cube",
         "xaxis": {
          "title": {
           "text": "X"
          }
         },
         "yaxis": {
          "title": {
           "text": "Y"
          }
         },
         "zaxis": {
          "title": {
           "text": "Z"
          }
         }
        },
        "template": {
         "data": {
          "bar": [
           {
            "error_x": {
             "color": "#2a3f5f"
            },
            "error_y": {
             "color": "#2a3f5f"
            },
            "marker": {
             "line": {
              "color": "#E5ECF6",
              "width": 0.5
             },
             "pattern": {
              "fillmode": "overlay",
              "size": 10,
              "solidity": 0.2
             }
            },
            "type": "bar"
           }
          ],
          "barpolar": [
           {
            "marker": {
             "line": {
              "color": "#E5ECF6",
              "width": 0.5
             },
             "pattern": {
              "fillmode": "overlay",
              "size": 10,
              "solidity": 0.2
             }
            },
            "type": "barpolar"
           }
          ],
          "carpet": [
           {
            "aaxis": {
             "endlinecolor": "#2a3f5f",
             "gridcolor": "white",
             "linecolor": "white",
             "minorgridcolor": "white",
             "startlinecolor": "#2a3f5f"
            },
            "baxis": {
             "endlinecolor": "#2a3f5f",
             "gridcolor": "white",
             "linecolor": "white",
             "minorgridcolor": "white",
             "startlinecolor": "#2a3f5f"
            },
            "type": "carpet"
           }
          ],
          "choropleth": [
           {
            "colorbar": {
             "outlinewidth": 0,
             "ticks": ""
            },
            "type": "choropleth"
           }
          ],
          "contour": [
           {
            "colorbar": {
             "outlinewidth": 0,
             "ticks": ""
            },
            "colorscale": [
             [
              0,
              "#0d0887"
             ],
             [
              0.1111111111111111,
              "#46039f"
             ],
             [
              0.2222222222222222,
              "#7201a8"
             ],
             [
              0.3333333333333333,
              "#9c179e"
             ],
             [
              0.4444444444444444,
              "#bd3786"
             ],
             [
              0.5555555555555556,
              "#d8576b"
             ],
             [
              0.6666666666666666,
              "#ed7953"
             ],
             [
              0.7777777777777778,
              "#fb9f3a"
             ],
             [
              0.8888888888888888,
              "#fdca26"
             ],
             [
              1,
              "#f0f921"
             ]
            ],
            "type": "contour"
           }
          ],
          "contourcarpet": [
           {
            "colorbar": {
             "outlinewidth": 0,
             "ticks": ""
            },
            "type": "contourcarpet"
           }
          ],
          "heatmap": [
           {
            "colorbar": {
             "outlinewidth": 0,
             "ticks": ""
            },
            "colorscale": [
             [
              0,
              "#0d0887"
             ],
             [
              0.1111111111111111,
              "#46039f"
             ],
             [
              0.2222222222222222,
              "#7201a8"
             ],
             [
              0.3333333333333333,
              "#9c179e"
             ],
             [
              0.4444444444444444,
              "#bd3786"
             ],
             [
              0.5555555555555556,
              "#d8576b"
             ],
             [
              0.6666666666666666,
              "#ed7953"
             ],
             [
              0.7777777777777778,
              "#fb9f3a"
             ],
             [
              0.8888888888888888,
              "#fdca26"
             ],
             [
              1,
              "#f0f921"
             ]
            ],
            "type": "heatmap"
           }
          ],
          "histogram": [
           {
            "marker": {
             "pattern": {
              "fillmode": "overlay",
              "size": 10,
              "solidity": 0.2
             }
            },
            "type": "histogram"
           }
          ],
          "histogram2d": [
           {
            "colorbar": {
             "outlinewidth": 0,
             "ticks": ""
            },
            "colorscale": [
             [
              0,
              "#0d0887"
             ],
             [
              0.1111111111111111,
              "#46039f"
             ],
             [
              0.2222222222222222,
              "#7201a8"
             ],
             [
              0.3333333333333333,
              "#9c179e"
             ],
             [
              0.4444444444444444,
              "#bd3786"
             ],
             [
              0.5555555555555556,
              "#d8576b"
             ],
             [
              0.6666666666666666,
              "#ed7953"
             ],
             [
              0.7777777777777778,
              "#fb9f3a"
             ],
             [
              0.8888888888888888,
              "#fdca26"
             ],
             [
              1,
              "#f0f921"
             ]
            ],
            "type": "histogram2d"
           }
          ],
          "histogram2dcontour": [
           {
            "colorbar": {
             "outlinewidth": 0,
             "ticks": ""
            },
            "colorscale": [
             [
              0,
              "#0d0887"
             ],
             [
              0.1111111111111111,
              "#46039f"
             ],
             [
              0.2222222222222222,
              "#7201a8"
             ],
             [
              0.3333333333333333,
              "#9c179e"
             ],
             [
              0.4444444444444444,
              "#bd3786"
             ],
             [
              0.5555555555555556,
              "#d8576b"
             ],
             [
              0.6666666666666666,
              "#ed7953"
             ],
             [
              0.7777777777777778,
              "#fb9f3a"
             ],
             [
              0.8888888888888888,
              "#fdca26"
             ],
             [
              1,
              "#f0f921"
             ]
            ],
            "type": "histogram2dcontour"
           }
          ],
          "mesh3d": [
           {
            "colorbar": {
             "outlinewidth": 0,
             "ticks": ""
            },
            "type": "mesh3d"
           }
          ],
          "parcoords": [
           {
            "line": {
             "colorbar": {
              "outlinewidth": 0,
              "ticks": ""
             }
            },
            "type": "parcoords"
           }
          ],
          "pie": [
           {
            "automargin": true,
            "type": "pie"
           }
          ],
          "scatter": [
           {
            "fillpattern": {
             "fillmode": "overlay",
             "size": 10,
             "solidity": 0.2
            },
            "type": "scatter"
           }
          ],
          "scatter3d": [
           {
            "line": {
             "colorbar": {
              "outlinewidth": 0,
              "ticks": ""
             }
            },
            "marker": {
             "colorbar": {
              "outlinewidth": 0,
              "ticks": ""
             }
            },
            "type": "scatter3d"
           }
          ],
          "scattercarpet": [
           {
            "marker": {
             "colorbar": {
              "outlinewidth": 0,
              "ticks": ""
             }
            },
            "type": "scattercarpet"
           }
          ],
          "scattergeo": [
           {
            "marker": {
             "colorbar": {
              "outlinewidth": 0,
              "ticks": ""
             }
            },
            "type": "scattergeo"
           }
          ],
          "scattergl": [
           {
            "marker": {
             "colorbar": {
              "outlinewidth": 0,
              "ticks": ""
             }
            },
            "type": "scattergl"
           }
          ],
          "scattermap": [
           {
            "marker": {
             "colorbar": {
              "outlinewidth": 0,
              "ticks": ""
             }
            },
            "type": "scattermap"
           }
          ],
          "scattermapbox": [
           {
            "marker": {
             "colorbar": {
              "outlinewidth": 0,
              "ticks": ""
             }
            },
            "type": "scattermapbox"
           }
          ],
          "scatterpolar": [
           {
            "marker": {
             "colorbar": {
              "outlinewidth": 0,
              "ticks": ""
             }
            },
            "type": "scatterpolar"
           }
          ],
          "scatterpolargl": [
           {
            "marker": {
             "colorbar": {
              "outlinewidth": 0,
              "ticks": ""
             }
            },
            "type": "scatterpolargl"
           }
          ],
          "scatterternary": [
           {
            "marker": {
             "colorbar": {
              "outlinewidth": 0,
              "ticks": ""
             }
            },
            "type": "scatterternary"
           }
          ],
          "surface": [
           {
            "colorbar": {
             "outlinewidth": 0,
             "ticks": ""
            },
            "colorscale": [
             [
              0,
              "#0d0887"
             ],
             [
              0.1111111111111111,
              "#46039f"
             ],
             [
              0.2222222222222222,
              "#7201a8"
             ],
             [
              0.3333333333333333,
              "#9c179e"
             ],
             [
              0.4444444444444444,
              "#bd3786"
             ],
             [
              0.5555555555555556,
              "#d8576b"
             ],
             [
              0.6666666666666666,
              "#ed7953"
             ],
             [
              0.7777777777777778,
              "#fb9f3a"
             ],
             [
              0.8888888888888888,
              "#fdca26"
             ],
             [
              1,
              "#f0f921"
             ]
            ],
            "type": "surface"
           }
          ],
          "table": [
           {
            "cells": {
             "fill": {
              "color": "#EBF0F8"
             },
             "line": {
              "color": "white"
             }
            },
            "header": {
             "fill": {
              "color": "#C8D4E3"
             },
             "line": {
              "color": "white"
             }
            },
            "type": "table"
           }
          ]
         },
         "layout": {
          "annotationdefaults": {
           "arrowcolor": "#2a3f5f",
           "arrowhead": 0,
           "arrowwidth": 1
          },
          "autotypenumbers": "strict",
          "coloraxis": {
           "colorbar": {
            "outlinewidth": 0,
            "ticks": ""
           }
          },
          "colorscale": {
           "diverging": [
            [
             0,
             "#8e0152"
            ],
            [
             0.1,
             "#c51b7d"
            ],
            [
             0.2,
             "#de77ae"
            ],
            [
             0.3,
             "#f1b6da"
            ],
            [
             0.4,
             "#fde0ef"
            ],
            [
             0.5,
             "#f7f7f7"
            ],
            [
             0.6,
             "#e6f5d0"
            ],
            [
             0.7,
             "#b8e186"
            ],
            [
             0.8,
             "#7fbc41"
            ],
            [
             0.9,
             "#4d9221"
            ],
            [
             1,
             "#276419"
            ]
           ],
           "sequential": [
            [
             0,
             "#0d0887"
            ],
            [
             0.1111111111111111,
             "#46039f"
            ],
            [
             0.2222222222222222,
             "#7201a8"
            ],
            [
             0.3333333333333333,
             "#9c179e"
            ],
            [
             0.4444444444444444,
             "#bd3786"
            ],
            [
             0.5555555555555556,
             "#d8576b"
            ],
            [
             0.6666666666666666,
             "#ed7953"
            ],
            [
             0.7777777777777778,
             "#fb9f3a"
            ],
            [
             0.8888888888888888,
             "#fdca26"
            ],
            [
             1,
             "#f0f921"
            ]
           ],
           "sequentialminus": [
            [
             0,
             "#0d0887"
            ],
            [
             0.1111111111111111,
             "#46039f"
            ],
            [
             0.2222222222222222,
             "#7201a8"
            ],
            [
             0.3333333333333333,
             "#9c179e"
            ],
            [
             0.4444444444444444,
             "#bd3786"
            ],
            [
             0.5555555555555556,
             "#d8576b"
            ],
            [
             0.6666666666666666,
             "#ed7953"
            ],
            [
             0.7777777777777778,
             "#fb9f3a"
            ],
            [
             0.8888888888888888,
             "#fdca26"
            ],
            [
             1,
             "#f0f921"
            ]
           ]
          },
          "colorway": [
           "#636efa",
           "#EF553B",
           "#00cc96",
           "#ab63fa",
           "#FFA15A",
           "#19d3f3",
           "#FF6692",
           "#B6E880",
           "#FF97FF",
           "#FECB52"
          ],
          "font": {
           "color": "#2a3f5f"
          },
          "geo": {
           "bgcolor": "white",
           "lakecolor": "white",
           "landcolor": "#E5ECF6",
           "showlakes": true,
           "showland": true,
           "subunitcolor": "white"
          },
          "hoverlabel": {
           "align": "left"
          },
          "hovermode": "closest",
          "mapbox": {
           "style": "light"
          },
          "paper_bgcolor": "white",
          "plot_bgcolor": "#E5ECF6",
          "polar": {
           "angularaxis": {
            "gridcolor": "white",
            "linecolor": "white",
            "ticks": ""
           },
           "bgcolor": "#E5ECF6",
           "radialaxis": {
            "gridcolor": "white",
            "linecolor": "white",
            "ticks": ""
           }
          },
          "scene": {
           "xaxis": {
            "backgroundcolor": "#E5ECF6",
            "gridcolor": "white",
            "gridwidth": 2,
            "linecolor": "white",
            "showbackground": true,
            "ticks": "",
            "zerolinecolor": "white"
           },
           "yaxis": {
            "backgroundcolor": "#E5ECF6",
            "gridcolor": "white",
            "gridwidth": 2,
            "linecolor": "white",
            "showbackground": true,
            "ticks": "",
            "zerolinecolor": "white"
           },
           "zaxis": {
            "backgroundcolor": "#E5ECF6",
            "gridcolor": "white",
            "gridwidth": 2,
            "linecolor": "white",
            "showbackground": true,
            "ticks": "",
            "zerolinecolor": "white"
           }
          },
          "shapedefaults": {
           "line": {
            "color": "#2a3f5f"
           }
          },
          "ternary": {
           "aaxis": {
            "gridcolor": "white",
            "linecolor": "white",
            "ticks": ""
           },
           "baxis": {
            "gridcolor": "white",
            "linecolor": "white",
            "ticks": ""
           },
           "bgcolor": "#E5ECF6",
           "caxis": {
            "gridcolor": "white",
            "linecolor": "white",
            "ticks": ""
           }
          },
          "title": {
           "x": 0.05
          },
          "xaxis": {
           "automargin": true,
           "gridcolor": "white",
           "linecolor": "white",
           "ticks": "",
           "title": {
            "standoff": 15
           },
           "zerolinecolor": "white",
           "zerolinewidth": 2
          },
          "yaxis": {
           "automargin": true,
           "gridcolor": "white",
           "linecolor": "white",
           "ticks": "",
           "title": {
            "standoff": 15
           },
           "zerolinecolor": "white",
           "zerolinewidth": 2
          }
         }
        },
        "title": {
         "text": "Haken 18, Trajektorien-Ansatz 2"
        }
       }
      }
     },
     "metadata": {},
     "output_type": "display_data"
    },
    {
     "name": "stdout",
     "output_type": "stream",
     "text": [
      "HTML-Datei '/home/mo/Thesis/Evaluation/Trajektorientests/traj3.html' erfolgreich erstellt!\n"
     ]
    },
    {
     "data": {
      "application/vnd.plotly.v1+json": {
       "config": {
        "plotlyServerURL": "https://plot.ly"
       },
       "data": [
        {
         "color": "rgba(31, 119, 180, 0.8)",
         "name": "P1",
         "opacity": 0.8,
         "type": "mesh3d",
         "x": [
          904.9297795747307,
          911.4502435967361,
          908.9078203788999,
          902.3873563568945
         ],
         "y": [
          -496.7961081335317,
          -493.79622671985834,
          -482.9672839414294,
          -485.96716535510274
         ],
         "z": [
          347.2040563715515,
          343.67074907644815,
          348.17297991048133,
          351.70628720558466
         ]
        },
        {
         "marker": {
          "color": "red",
          "size": 3
         },
         "mode": "markers+text",
         "showlegend": false,
         "text": "",
         "textfont": {
          "size": 12
         },
         "textposition": "top center",
         "type": "scatter3d",
         "x": [
          906.9187999768153
         ],
         "y": [
          -489.88169603748054
         ],
         "z": [
          347.6885181410164
         ]
        },
        {
         "line": {
          "color": "rgba(31, 119, 180, 0.8)",
          "width": 4
         },
         "mode": "lines",
         "showlegend": false,
         "type": "scatter3d",
         "x": [
          904.9297795747307,
          911.4502435967361
         ],
         "y": [
          -496.7961081335317,
          -493.79622671985834
         ],
         "z": [
          347.2040563715515,
          343.67074907644815
         ]
        },
        {
         "line": {
          "color": "rgba(31, 119, 180, 0.8)",
          "width": 4
         },
         "mode": "lines",
         "showlegend": false,
         "type": "scatter3d",
         "x": [
          911.4502435967361,
          908.9078203788999
         ],
         "y": [
          -493.79622671985834,
          -482.9672839414294
         ],
         "z": [
          343.67074907644815,
          348.17297991048133
         ]
        },
        {
         "line": {
          "color": "rgba(31, 119, 180, 0.8)",
          "width": 4
         },
         "mode": "lines",
         "showlegend": false,
         "type": "scatter3d",
         "x": [
          908.9078203788999,
          902.3873563568945
         ],
         "y": [
          -482.9672839414294,
          -485.96716535510274
         ],
         "z": [
          348.17297991048133,
          351.70628720558466
         ]
        },
        {
         "line": {
          "color": "rgba(31, 119, 180, 0.8)",
          "width": 4
         },
         "mode": "lines",
         "showlegend": false,
         "type": "scatter3d",
         "x": [
          902.3873563568945,
          904.9297795747307
         ],
         "y": [
          -485.96716535510274,
          -496.7961081335317
         ],
         "z": [
          351.70628720558466,
          347.2040563715515
         ]
        },
        {
         "color": "rgba(174, 199, 232, 0.8)",
         "name": "P2",
         "opacity": 0.8,
         "type": "mesh3d",
         "x": [
          904.906637881447,
          911.4271019034524,
          908.8846786856162,
          902.3642146636108
         ],
         "y": [
          -496.83135541516253,
          -493.8314740014892,
          -483.00253122306026,
          -486.0024126367336
         ],
         "z": [
          346.8478443715776,
          343.31453707647427,
          347.81676791050745,
          351.3500752056108
         ]
        },
        {
         "marker": {
          "color": "red",
          "size": 3
         },
         "mode": "markers+text",
         "showlegend": false,
         "text": "",
         "textfont": {
          "size": 12
         },
         "textposition": "top center",
         "type": "scatter3d",
         "x": [
          906.8956582835316
         ],
         "y": [
          -489.9169433191114
         ],
         "z": [
          347.3323061410425
         ]
        },
        {
         "line": {
          "color": "rgba(174, 199, 232, 0.8)",
          "width": 4
         },
         "mode": "lines",
         "showlegend": false,
         "type": "scatter3d",
         "x": [
          904.906637881447,
          911.4271019034524
         ],
         "y": [
          -496.83135541516253,
          -493.8314740014892
         ],
         "z": [
          346.8478443715776,
          343.31453707647427
         ]
        },
        {
         "line": {
          "color": "rgba(174, 199, 232, 0.8)",
          "width": 4
         },
         "mode": "lines",
         "showlegend": false,
         "type": "scatter3d",
         "x": [
          911.4271019034524,
          908.8846786856162
         ],
         "y": [
          -493.8314740014892,
          -483.00253122306026
         ],
         "z": [
          343.31453707647427,
          347.81676791050745
         ]
        },
        {
         "line": {
          "color": "rgba(174, 199, 232, 0.8)",
          "width": 4
         },
         "mode": "lines",
         "showlegend": false,
         "type": "scatter3d",
         "x": [
          908.8846786856162,
          902.3642146636108
         ],
         "y": [
          -483.00253122306026,
          -486.0024126367336
         ],
         "z": [
          347.81676791050745,
          351.3500752056108
         ]
        },
        {
         "line": {
          "color": "rgba(174, 199, 232, 0.8)",
          "width": 4
         },
         "mode": "lines",
         "showlegend": false,
         "type": "scatter3d",
         "x": [
          902.3642146636108,
          904.906637881447
         ],
         "y": [
          -486.0024126367336,
          -496.83135541516253
         ],
         "z": [
          351.3500752056108,
          346.8478443715776
         ]
        },
        {
         "color": "rgba(255, 187, 120, 0.8)",
         "name": "P3",
         "opacity": 0.8,
         "type": "mesh3d",
         "x": [
          904.3771254955112,
          910.8975895175166,
          908.3551662996805,
          901.8347022776751
         ],
         "y": [
          -495.27597226604905,
          -492.2760908523757,
          -481.4471480739468,
          -484.4470294876201
         ],
         "z": [
          350.1107364762578,
          346.57742918115446,
          351.07966001518764,
          354.61296731029097
         ]
        },
        {
         "marker": {
          "color": "red",
          "size": 3
         },
         "mode": "markers+text",
         "showlegend": false,
         "text": "P2",
         "textfont": {
          "size": 12
         },
         "textposition": "top center",
         "type": "scatter3d",
         "x": [
          906.3661458975959
         ],
         "y": [
          -488.3615601699979
         ],
         "z": [
          350.5951982457227
         ]
        },
        {
         "line": {
          "color": "rgba(255, 187, 120, 0.8)",
          "width": 4
         },
         "mode": "lines",
         "showlegend": false,
         "type": "scatter3d",
         "x": [
          904.3771254955112,
          910.8975895175166
         ],
         "y": [
          -495.27597226604905,
          -492.2760908523757
         ],
         "z": [
          350.1107364762578,
          346.57742918115446
         ]
        },
        {
         "line": {
          "color": "rgba(255, 187, 120, 0.8)",
          "width": 4
         },
         "mode": "lines",
         "showlegend": false,
         "type": "scatter3d",
         "x": [
          910.8975895175166,
          908.3551662996805
         ],
         "y": [
          -492.2760908523757,
          -481.4471480739468
         ],
         "z": [
          346.57742918115446,
          351.07966001518764
         ]
        },
        {
         "line": {
          "color": "rgba(255, 187, 120, 0.8)",
          "width": 4
         },
         "mode": "lines",
         "showlegend": false,
         "type": "scatter3d",
         "x": [
          908.3551662996805,
          901.8347022776751
         ],
         "y": [
          -481.4471480739468,
          -484.4470294876201
         ],
         "z": [
          351.07966001518764,
          354.61296731029097
         ]
        },
        {
         "line": {
          "color": "rgba(255, 187, 120, 0.8)",
          "width": 4
         },
         "mode": "lines",
         "showlegend": false,
         "type": "scatter3d",
         "x": [
          901.8347022776751,
          904.3771254955112
         ],
         "y": [
          -484.4470294876201,
          -495.27597226604905
         ],
         "z": [
          354.61296731029097,
          350.1107364762578
         ]
        },
        {
         "color": "rgba(152, 223, 138, 0.8)",
         "name": "P4",
         "opacity": 0.8,
         "type": "mesh3d",
         "x": [
          903.4821776240125,
          910.0026416460179,
          907.4602184281817,
          900.9397544061763
         ],
         "y": [
          -493.8088796582396,
          -490.8089982445663,
          -479.98005546613734,
          -482.9799368798107
         ],
         "z": [
          352.41169938247026,
          348.87839208736693,
          353.3806229214001,
          356.91393021650345
         ]
        },
        {
         "marker": {
          "color": "red",
          "size": 3
         },
         "mode": "markers+text",
         "showlegend": false,
         "text": "P3",
         "textfont": {
          "size": 12
         },
         "textposition": "top center",
         "type": "scatter3d",
         "x": [
          905.4711980260971
         ],
         "y": [
          -486.89446756218854
         ],
         "z": [
          352.8961611519352
         ]
        },
        {
         "line": {
          "color": "rgba(152, 223, 138, 0.8)",
          "width": 4
         },
         "mode": "lines",
         "showlegend": false,
         "type": "scatter3d",
         "x": [
          903.4821776240125,
          910.0026416460179
         ],
         "y": [
          -493.8088796582396,
          -490.8089982445663
         ],
         "z": [
          352.41169938247026,
          348.87839208736693
         ]
        },
        {
         "line": {
          "color": "rgba(152, 223, 138, 0.8)",
          "width": 4
         },
         "mode": "lines",
         "showlegend": false,
         "type": "scatter3d",
         "x": [
          910.0026416460179,
          907.4602184281817
         ],
         "y": [
          -490.8089982445663,
          -479.98005546613734
         ],
         "z": [
          348.87839208736693,
          353.3806229214001
         ]
        },
        {
         "line": {
          "color": "rgba(152, 223, 138, 0.8)",
          "width": 4
         },
         "mode": "lines",
         "showlegend": false,
         "type": "scatter3d",
         "x": [
          907.4602184281817,
          900.9397544061763
         ],
         "y": [
          -479.98005546613734,
          -482.9799368798107
         ],
         "z": [
          353.3806229214001,
          356.91393021650345
         ]
        },
        {
         "line": {
          "color": "rgba(152, 223, 138, 0.8)",
          "width": 4
         },
         "mode": "lines",
         "showlegend": false,
         "type": "scatter3d",
         "x": [
          900.9397544061763,
          903.4821776240125
         ],
         "y": [
          -482.9799368798107,
          -493.8088796582396
         ],
         "z": [
          356.91393021650345,
          352.41169938247026
         ]
        },
        {
         "color": "rgba(255, 152, 150, 0.8)",
         "name": "P5",
         "opacity": 0.8,
         "type": "mesh3d",
         "x": [
          902.6017970375609,
          909.1222610595663,
          906.5798378417302,
          900.0593738197248
         ],
         "y": [
          -492.192249259132,
          -489.19236784545865,
          -478.3634250670297,
          -481.36330648070305
         ],
         "z": [
          355.8387411117955,
          352.3054338166922,
          356.80766465072537,
          360.3409719458287
         ]
        },
        {
         "marker": {
          "color": "red",
          "size": 3
         },
         "mode": "markers+text",
         "showlegend": false,
         "text": "P4",
         "textfont": {
          "size": 12
         },
         "textposition": "top center",
         "type": "scatter3d",
         "x": [
          904.5908174396455
         ],
         "y": [
          -485.2778371630809
         ],
         "z": [
          356.32320288126044
         ]
        },
        {
         "line": {
          "color": "rgba(255, 152, 150, 0.8)",
          "width": 4
         },
         "mode": "lines",
         "showlegend": false,
         "type": "scatter3d",
         "x": [
          902.6017970375609,
          909.1222610595663
         ],
         "y": [
          -492.192249259132,
          -489.19236784545865
         ],
         "z": [
          355.8387411117955,
          352.3054338166922
         ]
        },
        {
         "line": {
          "color": "rgba(255, 152, 150, 0.8)",
          "width": 4
         },
         "mode": "lines",
         "showlegend": false,
         "type": "scatter3d",
         "x": [
          909.1222610595663,
          906.5798378417302
         ],
         "y": [
          -489.19236784545865,
          -478.3634250670297
         ],
         "z": [
          352.3054338166922,
          356.80766465072537
         ]
        },
        {
         "line": {
          "color": "rgba(255, 152, 150, 0.8)",
          "width": 4
         },
         "mode": "lines",
         "showlegend": false,
         "type": "scatter3d",
         "x": [
          906.5798378417302,
          900.0593738197248
         ],
         "y": [
          -478.3634250670297,
          -481.36330648070305
         ],
         "z": [
          356.80766465072537,
          360.3409719458287
         ]
        },
        {
         "line": {
          "color": "rgba(255, 152, 150, 0.8)",
          "width": 4
         },
         "mode": "lines",
         "showlegend": false,
         "type": "scatter3d",
         "x": [
          900.0593738197248,
          902.6017970375609
         ],
         "y": [
          -481.36330648070305,
          -492.192249259132
         ],
         "z": [
          360.3409719458287,
          355.8387411117955
         ]
        },
        {
         "color": "rgba(197, 176, 213, 0.8)",
         "name": "P6",
         "opacity": 0.8,
         "type": "mesh3d",
         "x": [
          901.727860414111,
          908.2483244361164,
          905.7059012182802,
          899.1854371962748
         ],
         "y": [
          -490.65795221514065,
          -487.6580708014673,
          -476.8291280230384,
          -479.8290094367117
         ],
         "z": [
          360.4791349088211,
          356.94582761371777,
          361.44805844775095,
          364.9813657428543
         ]
        },
        {
         "marker": {
          "color": "red",
          "size": 3
         },
         "mode": "markers+text",
         "showlegend": false,
         "text": "P5",
         "textfont": {
          "size": 12
         },
         "textposition": "top center",
         "type": "scatter3d",
         "x": [
          903.7168808161956
         ],
         "y": [
          -483.7435401190895
         ],
         "z": [
          360.963596678286
         ]
        },
        {
         "line": {
          "color": "rgba(197, 176, 213, 0.8)",
          "width": 4
         },
         "mode": "lines",
         "showlegend": false,
         "type": "scatter3d",
         "x": [
          901.727860414111,
          908.2483244361164
         ],
         "y": [
          -490.65795221514065,
          -487.6580708014673
         ],
         "z": [
          360.4791349088211,
          356.94582761371777
         ]
        },
        {
         "line": {
          "color": "rgba(197, 176, 213, 0.8)",
          "width": 4
         },
         "mode": "lines",
         "showlegend": false,
         "type": "scatter3d",
         "x": [
          908.2483244361164,
          905.7059012182802
         ],
         "y": [
          -487.6580708014673,
          -476.8291280230384
         ],
         "z": [
          356.94582761371777,
          361.44805844775095
         ]
        },
        {
         "line": {
          "color": "rgba(197, 176, 213, 0.8)",
          "width": 4
         },
         "mode": "lines",
         "showlegend": false,
         "type": "scatter3d",
         "x": [
          905.7059012182802,
          899.1854371962748
         ],
         "y": [
          -476.8291280230384,
          -479.8290094367117
         ],
         "z": [
          361.44805844775095,
          364.9813657428543
         ]
        },
        {
         "line": {
          "color": "rgba(197, 176, 213, 0.8)",
          "width": 4
         },
         "mode": "lines",
         "showlegend": false,
         "type": "scatter3d",
         "x": [
          899.1854371962748,
          901.727860414111
         ],
         "y": [
          -479.8290094367117,
          -490.65795221514065
         ],
         "z": [
          364.9813657428543,
          360.4791349088211
         ]
        },
        {
         "color": "rgba(140, 86, 75, 0.8)",
         "name": "P7",
         "opacity": 0.8,
         "type": "mesh3d",
         "x": [
          900.4704567859266,
          906.990920807932,
          904.4484975900958,
          897.9280335680904
         ],
         "y": [
          -489.3074604808055,
          -486.30757906713217,
          -475.4786362887032,
          -478.47851770237656
         ],
         "z": [
          364.15323727612264,
          360.6199299810193,
          365.1221608150525,
          368.6554681101558
         ]
        },
        {
         "marker": {
          "color": "red",
          "size": 3
         },
         "mode": "markers+text",
         "showlegend": false,
         "text": "P6",
         "textfont": {
          "size": 12
         },
         "textposition": "top center",
         "type": "scatter3d",
         "x": [
          902.4594771880112
         ],
         "y": [
          -482.39304838475437
         ],
         "z": [
          364.63769904558757
         ]
        },
        {
         "line": {
          "color": "rgba(140, 86, 75, 0.8)",
          "width": 4
         },
         "mode": "lines",
         "showlegend": false,
         "type": "scatter3d",
         "x": [
          900.4704567859266,
          906.990920807932
         ],
         "y": [
          -489.3074604808055,
          -486.30757906713217
         ],
         "z": [
          364.15323727612264,
          360.6199299810193
         ]
        },
        {
         "line": {
          "color": "rgba(140, 86, 75, 0.8)",
          "width": 4
         },
         "mode": "lines",
         "showlegend": false,
         "type": "scatter3d",
         "x": [
          906.990920807932,
          904.4484975900958
         ],
         "y": [
          -486.30757906713217,
          -475.4786362887032
         ],
         "z": [
          360.6199299810193,
          365.1221608150525
         ]
        },
        {
         "line": {
          "color": "rgba(140, 86, 75, 0.8)",
          "width": 4
         },
         "mode": "lines",
         "showlegend": false,
         "type": "scatter3d",
         "x": [
          904.4484975900958,
          897.9280335680904
         ],
         "y": [
          -475.4786362887032,
          -478.47851770237656
         ],
         "z": [
          365.1221608150525,
          368.6554681101558
         ]
        },
        {
         "line": {
          "color": "rgba(140, 86, 75, 0.8)",
          "width": 4
         },
         "mode": "lines",
         "showlegend": false,
         "type": "scatter3d",
         "x": [
          897.9280335680904,
          900.4704567859266
         ],
         "y": [
          -478.47851770237656,
          -489.3074604808055
         ],
         "z": [
          368.6554681101558,
          364.15323727612264
         ]
        },
        {
         "color": "rgba(227, 119, 194, 0.8)",
         "name": "P8",
         "opacity": 0.8,
         "type": "mesh3d",
         "x": [
          899.3706304593707,
          905.8910944813761,
          903.3486712635399,
          896.8282072415345
         ],
         "y": [
          -488.12503587298636,
          -485.125154459313,
          -474.2962116808841,
          -477.2960930945574
         ],
         "z": [
          369.07807614225277,
          365.54476884714944,
          370.0469996811826,
          373.58030697628595
         ]
        },
        {
         "marker": {
          "color": "red",
          "size": 3
         },
         "mode": "markers+text",
         "showlegend": false,
         "text": "P7",
         "textfont": {
          "size": 12
         },
         "textposition": "top center",
         "type": "scatter3d",
         "x": [
          901.3596508614553
         ],
         "y": [
          -481.2106237769352
         ],
         "z": [
          369.5625379117177
         ]
        },
        {
         "line": {
          "color": "rgba(227, 119, 194, 0.8)",
          "width": 4
         },
         "mode": "lines",
         "showlegend": false,
         "type": "scatter3d",
         "x": [
          899.3706304593707,
          905.8910944813761
         ],
         "y": [
          -488.12503587298636,
          -485.125154459313
         ],
         "z": [
          369.07807614225277,
          365.54476884714944
         ]
        },
        {
         "line": {
          "color": "rgba(227, 119, 194, 0.8)",
          "width": 4
         },
         "mode": "lines",
         "showlegend": false,
         "type": "scatter3d",
         "x": [
          905.8910944813761,
          903.3486712635399
         ],
         "y": [
          -485.125154459313,
          -474.2962116808841
         ],
         "z": [
          365.54476884714944,
          370.0469996811826
         ]
        },
        {
         "line": {
          "color": "rgba(227, 119, 194, 0.8)",
          "width": 4
         },
         "mode": "lines",
         "showlegend": false,
         "type": "scatter3d",
         "x": [
          903.3486712635399,
          896.8282072415345
         ],
         "y": [
          -474.2962116808841,
          -477.2960930945574
         ],
         "z": [
          370.0469996811826,
          373.58030697628595
         ]
        },
        {
         "line": {
          "color": "rgba(227, 119, 194, 0.8)",
          "width": 4
         },
         "mode": "lines",
         "showlegend": false,
         "type": "scatter3d",
         "x": [
          896.8282072415345,
          899.3706304593707
         ],
         "y": [
          -477.2960930945574,
          -488.12503587298636
         ],
         "z": [
          373.58030697628595,
          369.07807614225277
         ]
        },
        {
         "color": "rgba(127, 127, 127, 0.8)",
         "name": "P9",
         "opacity": 0.8,
         "type": "mesh3d",
         "x": [
          898.0915139472909,
          904.6119779692963,
          902.0695547514601,
          895.5490907294547
         ],
         "y": [
          -487.30803500681606,
          -484.3081535931427,
          -473.4792108147138,
          -476.4790922283871
         ],
         "z": [
          376.7188848655988,
          373.18557757049547,
          377.68780840452865,
          381.221115699632
         ]
        },
        {
         "marker": {
          "color": "red",
          "size": 3
         },
         "mode": "markers+text",
         "showlegend": false,
         "text": "P8",
         "textfont": {
          "size": 12
         },
         "textposition": "top center",
         "type": "scatter3d",
         "x": [
          900.0805343493755
         ],
         "y": [
          -480.3936229107649
         ],
         "z": [
          377.2033466350637
         ]
        },
        {
         "line": {
          "color": "rgba(127, 127, 127, 0.8)",
          "width": 4
         },
         "mode": "lines",
         "showlegend": false,
         "type": "scatter3d",
         "x": [
          898.0915139472909,
          904.6119779692963
         ],
         "y": [
          -487.30803500681606,
          -484.3081535931427
         ],
         "z": [
          376.7188848655988,
          373.18557757049547
         ]
        },
        {
         "line": {
          "color": "rgba(127, 127, 127, 0.8)",
          "width": 4
         },
         "mode": "lines",
         "showlegend": false,
         "type": "scatter3d",
         "x": [
          904.6119779692963,
          902.0695547514601
         ],
         "y": [
          -484.3081535931427,
          -473.4792108147138
         ],
         "z": [
          373.18557757049547,
          377.68780840452865
         ]
        },
        {
         "line": {
          "color": "rgba(127, 127, 127, 0.8)",
          "width": 4
         },
         "mode": "lines",
         "showlegend": false,
         "type": "scatter3d",
         "x": [
          902.0695547514601,
          895.5490907294547
         ],
         "y": [
          -473.4792108147138,
          -476.4790922283871
         ],
         "z": [
          377.68780840452865,
          381.221115699632
         ]
        },
        {
         "line": {
          "color": "rgba(127, 127, 127, 0.8)",
          "width": 4
         },
         "mode": "lines",
         "showlegend": false,
         "type": "scatter3d",
         "x": [
          895.5490907294547,
          898.0915139472909
         ],
         "y": [
          -476.4790922283871,
          -487.30803500681606
         ],
         "z": [
          381.221115699632,
          376.7188848655988
         ]
        },
        {
         "color": "rgba(188, 189, 34, 0.8)",
         "name": "P10",
         "opacity": 0.8,
         "type": "mesh3d",
         "x": [
          896.5572482963473,
          903.0777123183527,
          900.5352891005166,
          894.0148250785112
         ],
         "y": [
          -486.77489269965395,
          -483.7750112859806,
          -472.9460685075517,
          -475.945949921225
         ],
         "z": [
          382.08803179803664,
          378.5547245029333,
          383.0569553369665,
          386.5902626320698
         ]
        },
        {
         "marker": {
          "color": "red",
          "size": 3
         },
         "mode": "markers+text",
         "showlegend": false,
         "text": "P9",
         "textfont": {
          "size": 12
         },
         "textposition": "top center",
         "type": "scatter3d",
         "x": [
          898.546268698432
         ],
         "y": [
          -479.8604806036028
         ],
         "z": [
          382.57249356750157
         ]
        },
        {
         "line": {
          "color": "rgba(188, 189, 34, 0.8)",
          "width": 4
         },
         "mode": "lines",
         "showlegend": false,
         "type": "scatter3d",
         "x": [
          896.5572482963473,
          903.0777123183527
         ],
         "y": [
          -486.77489269965395,
          -483.7750112859806
         ],
         "z": [
          382.08803179803664,
          378.5547245029333
         ]
        },
        {
         "line": {
          "color": "rgba(188, 189, 34, 0.8)",
          "width": 4
         },
         "mode": "lines",
         "showlegend": false,
         "type": "scatter3d",
         "x": [
          903.0777123183527,
          900.5352891005166
         ],
         "y": [
          -483.7750112859806,
          -472.9460685075517
         ],
         "z": [
          378.5547245029333,
          383.0569553369665
         ]
        },
        {
         "line": {
          "color": "rgba(188, 189, 34, 0.8)",
          "width": 4
         },
         "mode": "lines",
         "showlegend": false,
         "type": "scatter3d",
         "x": [
          900.5352891005166,
          894.0148250785112
         ],
         "y": [
          -472.9460685075517,
          -475.945949921225
         ],
         "z": [
          383.0569553369665,
          386.5902626320698
         ]
        },
        {
         "line": {
          "color": "rgba(188, 189, 34, 0.8)",
          "width": 4
         },
         "mode": "lines",
         "showlegend": false,
         "type": "scatter3d",
         "x": [
          894.0148250785112,
          896.5572482963473
         ],
         "y": [
          -475.945949921225,
          -486.77489269965395
         ],
         "z": [
          386.5902626320698,
          382.08803179803664
         ]
        },
        {
         "color": "rgba(23, 190, 207, 0.8)",
         "name": "P11",
         "opacity": 0.8,
         "type": "mesh3d",
         "x": [
          894.7939128250989,
          901.3143768471043,
          898.7719536292682,
          892.2514896072628
         ],
         "y": [
          -486.41011869251787,
          -483.41023727884453,
          -472.5812945004156,
          -475.58117591408893
         ],
         "z": [
          387.6192847990245,
          384.0859775039212,
          388.58820833795437,
          392.1215156330577
         ]
        },
        {
         "marker": {
          "color": "red",
          "size": 3
         },
         "mode": "markers+text",
         "showlegend": false,
         "text": "",
         "textfont": {
          "size": 12
         },
         "textposition": "top center",
         "type": "scatter3d",
         "x": [
          896.7829332271835
         ],
         "y": [
          -479.4957065964668
         ],
         "z": [
          388.10374656848944
         ]
        },
        {
         "line": {
          "color": "rgba(23, 190, 207, 0.8)",
          "width": 4
         },
         "mode": "lines",
         "showlegend": false,
         "type": "scatter3d",
         "x": [
          894.7939128250989,
          901.3143768471043
         ],
         "y": [
          -486.41011869251787,
          -483.41023727884453
         ],
         "z": [
          387.6192847990245,
          384.0859775039212
         ]
        },
        {
         "line": {
          "color": "rgba(23, 190, 207, 0.8)",
          "width": 4
         },
         "mode": "lines",
         "showlegend": false,
         "type": "scatter3d",
         "x": [
          901.3143768471043,
          898.7719536292682
         ],
         "y": [
          -483.41023727884453,
          -472.5812945004156
         ],
         "z": [
          384.0859775039212,
          388.58820833795437
         ]
        },
        {
         "line": {
          "color": "rgba(23, 190, 207, 0.8)",
          "width": 4
         },
         "mode": "lines",
         "showlegend": false,
         "type": "scatter3d",
         "x": [
          898.7719536292682,
          892.2514896072628
         ],
         "y": [
          -472.5812945004156,
          -475.58117591408893
         ],
         "z": [
          388.58820833795437,
          392.1215156330577
         ]
        },
        {
         "line": {
          "color": "rgba(23, 190, 207, 0.8)",
          "width": 4
         },
         "mode": "lines",
         "showlegend": false,
         "type": "scatter3d",
         "x": [
          892.2514896072628,
          894.7939128250989
         ],
         "y": [
          -475.58117591408893,
          -486.41011869251787
         ],
         "z": [
          392.1215156330577,
          387.6192847990245
         ]
        },
        {
         "line": {
          "color": "black",
          "width": 2
         },
         "mode": "lines",
         "name": "Berechnete Hakenlinie",
         "type": "scatter3d",
         "x": {
          "bdata": "5l/Ns1lXjEBH4eNOKleMQOl95t3tUoxAN4B4A8VLjEB5aX7+uUSMQIVlAiy8PYxAIT5gAq0zjEBuf6GQ4CqMQC5mMe+kIIxAwJQfwl4UjECk7X5yQwaMQA==",
          "dtype": "f8"
         },
         "y": {
          "bdata": "3t9NbRuefsDo/cHMq55+wNYaUfPIhX7A7O43vU9ufsC8kGEFclR+wA7sUorlO37AQGQa7UkmfsAmmwm3XhN+wBGLiUdMBn7AEDVPh8T9fcDIQwpq7vd9wA==",
          "dtype": "f8"
         },
         "z": {
          "bdata": "5CWZKwS7dUCagD4gUbV1QECAmO6F6XVAHngTrVYOdkDJz8jWK0V2QF28WeRqj3ZA0xfqAzTKdkBn2cAnABl3QJu1ZuhAk3dAb9kD7yjpd0DAaynyqEF4QA==",
          "dtype": "f8"
         }
        },
        {
         "mode": "text",
         "showlegend": false,
         "text": [
          "Pre-Position"
         ],
         "textfont": {
          "size": 10
         },
         "textposition": "top center",
         "type": "scatter3d",
         "x": [
          906.9187999768153
         ],
         "y": [
          -489.88169603748054
         ],
         "z": [
          347.6885181410164
         ]
        },
        {
         "mode": "text",
         "showlegend": false,
         "text": [
          "Loslassen"
         ],
         "textfont": {
          "size": 10
         },
         "textposition": "top center",
         "type": "scatter3d",
         "x": [
          896.7829332271835
         ],
         "y": [
          -479.4957065964668
         ],
         "z": [
          388.10374656848944
         ]
        },
        {
         "color": "rgba(0,255,0,0.2)",
         "name": "optimale Trajektorie",
         "opacity": 0.8,
         "type": "mesh3d",
         "x": [
          904.7654537546975,
          912.4417674667966,
          909.0721487382114,
          901.3958350261123
         ],
         "y": [
          -496.7637534680738,
          -494.51627848391314,
          -482.9996392455562,
          -485.24711422971683
         ],
         "z": [
          347.70812818851044,
          347.556259860636,
          347.66891099247306,
          347.8207793203475
         ]
        },
        {
         "line": {
          "color": "rgba(0,255,0,0.2)",
          "width": 3
         },
         "mode": "lines",
         "showlegend": false,
         "type": "scatter3d",
         "x": [
          904.7654537546975,
          912.4417674667966
         ],
         "y": [
          -496.7637534680738,
          -494.51627848391314
         ],
         "z": [
          347.70812818851044,
          347.556259860636
         ]
        },
        {
         "line": {
          "color": "rgba(0,255,0,0.2)",
          "width": 3
         },
         "mode": "lines",
         "showlegend": false,
         "type": "scatter3d",
         "x": [
          912.4417674667966,
          909.0721487382114
         ],
         "y": [
          -494.51627848391314,
          -482.9996392455562
         ],
         "z": [
          347.556259860636,
          347.66891099247306
         ]
        },
        {
         "line": {
          "color": "rgba(0,255,0,0.2)",
          "width": 3
         },
         "mode": "lines",
         "showlegend": false,
         "type": "scatter3d",
         "x": [
          909.0721487382114,
          901.3958350261123
         ],
         "y": [
          -482.9996392455562,
          -485.24711422971683
         ],
         "z": [
          347.66891099247306,
          347.8207793203475
         ]
        },
        {
         "line": {
          "color": "rgba(0,255,0,0.2)",
          "width": 3
         },
         "mode": "lines",
         "showlegend": false,
         "type": "scatter3d",
         "x": [
          901.3958350261123,
          904.7654537546975
         ],
         "y": [
          -485.24711422971683,
          -496.7637534680738
         ],
         "z": [
          347.8207793203475,
          347.70812818851044
         ]
        },
        {
         "marker": {
          "color": "green",
          "size": 4
         },
         "mode": "markers",
         "name": "Mitte P11",
         "showlegend": false,
         "type": "scatter3d",
         "x": [
          906.9188012464544
         ],
         "y": [
          -489.881696356815
         ],
         "z": [
          347.68851959049175
         ]
        },
        {
         "color": "rgba(0,255,0,0.2)",
         "name": "optimale Trajektorie",
         "opacity": 0.8,
         "type": "mesh3d",
         "x": [
          908.2861941975428,
          914.7862257473945,
          908.0670478565686,
          901.5670163067169
         ],
         "y": [
          -498.26841982348236,
          -493.73033656557163,
          -483.84788857791096,
          -488.3859718358217
         ],
         "z": [
          345.7368742049174,
          344.6619834219992,
          345.75279515764225,
          346.82768594056046
         ]
        },
        {
         "line": {
          "color": "rgba(0,255,0,0.2)",
          "width": 3
         },
         "mode": "lines",
         "showlegend": false,
         "type": "scatter3d",
         "x": [
          908.2861941975428,
          914.7862257473945
         ],
         "y": [
          -498.26841982348236,
          -493.73033656557163
         ],
         "z": [
          345.7368742049174,
          344.6619834219992
         ]
        },
        {
         "line": {
          "color": "rgba(0,255,0,0.2)",
          "width": 3
         },
         "mode": "lines",
         "showlegend": false,
         "type": "scatter3d",
         "x": [
          914.7862257473945,
          908.0670478565686
         ],
         "y": [
          -493.73033656557163,
          -483.84788857791096
         ],
         "z": [
          344.6619834219992,
          345.75279515764225
         ]
        },
        {
         "line": {
          "color": "rgba(0,255,0,0.2)",
          "width": 3
         },
         "mode": "lines",
         "showlegend": false,
         "type": "scatter3d",
         "x": [
          908.0670478565686,
          901.5670163067169
         ],
         "y": [
          -483.84788857791096,
          -488.3859718358217
         ],
         "z": [
          345.75279515764225,
          346.82768594056046
         ]
        },
        {
         "line": {
          "color": "rgba(0,255,0,0.2)",
          "width": 3
         },
         "mode": "lines",
         "showlegend": false,
         "type": "scatter3d",
         "x": [
          901.5670163067169,
          908.2861941975428
         ],
         "y": [
          -488.3859718358217,
          -498.26841982348236
         ],
         "z": [
          346.82768594056046,
          345.7368742049174
         ]
        },
        {
         "marker": {
          "color": "green",
          "size": 4
         },
         "mode": "markers",
         "name": "Mitte P11",
         "showlegend": false,
         "type": "scatter3d",
         "x": [
          908.1766210270557
         ],
         "y": [
          -491.05815420069666
         ],
         "z": [
          345.7448346812798
         ]
        },
        {
         "color": "rgba(0,255,0,0.2)",
         "name": "optimale Trajektorie",
         "opacity": 0.8,
         "type": "mesh3d",
         "x": [
          905.1328632231249,
          911.4885238725897,
          904.4818679608396,
          898.1262073113749
         ],
         "y": [
          -495.01077062409473,
          -490.27823021364196,
          -480.6033270196635,
          -485.33586743011625
         ],
         "z": [
          345.2407504696588,
          344.1413692926887,
          345.28286879837583,
          346.3822499753459
         ]
        },
        {
         "line": {
          "color": "rgba(0,255,0,0.2)",
          "width": 3
         },
         "mode": "lines",
         "showlegend": false,
         "type": "scatter3d",
         "x": [
          905.1328632231249,
          911.4885238725897
         ],
         "y": [
          -495.01077062409473,
          -490.27823021364196
         ],
         "z": [
          345.2407504696588,
          344.1413692926887
         ]
        },
        {
         "line": {
          "color": "rgba(0,255,0,0.2)",
          "width": 3
         },
         "mode": "lines",
         "showlegend": false,
         "type": "scatter3d",
         "x": [
          911.4885238725897,
          904.4818679608396
         ],
         "y": [
          -490.27823021364196,
          -480.6033270196635
         ],
         "z": [
          344.1413692926887,
          345.28286879837583
         ]
        },
        {
         "line": {
          "color": "rgba(0,255,0,0.2)",
          "width": 3
         },
         "mode": "lines",
         "showlegend": false,
         "type": "scatter3d",
         "x": [
          904.4818679608396,
          898.1262073113749
         ],
         "y": [
          -480.6033270196635,
          -485.33586743011625
         ],
         "z": [
          345.28286879837583,
          346.3822499753459
         ]
        },
        {
         "line": {
          "color": "rgba(0,255,0,0.2)",
          "width": 3
         },
         "mode": "lines",
         "showlegend": false,
         "type": "scatter3d",
         "x": [
          898.1262073113749,
          905.1328632231249
         ],
         "y": [
          -485.33586743011625,
          -495.01077062409473
         ],
         "z": [
          346.3822499753459,
          345.2407504696588
         ]
        },
        {
         "marker": {
          "color": "green",
          "size": 4
         },
         "mode": "markers",
         "name": "Mitte P11",
         "showlegend": false,
         "type": "scatter3d",
         "x": [
          904.8073655919823
         ],
         "y": [
          -487.8070488218791
         ],
         "z": [
          345.2618096340173
         ]
        },
        {
         "color": "rgba(0,255,0,0.2)",
         "name": "optimale Trajektorie",
         "opacity": 0.8,
         "type": "mesh3d",
         "x": [
          904.8753472466959,
          910.09173861451,
          901.4706055697219,
          896.2542142019079
         ],
         "y": [
          -491.57001862567216,
          -485.5731229668986,
          -477.66777972051756,
          -483.6646753792911
         ],
         "z": [
          346.219246834986,
          345.3101244254183,
          347.9899776268009,
          348.8991000363686
         ]
        },
        {
         "line": {
          "color": "rgba(0,255,0,0.2)",
          "width": 3
         },
         "mode": "lines",
         "showlegend": false,
         "type": "scatter3d",
         "x": [
          904.8753472466959,
          910.09173861451
         ],
         "y": [
          -491.57001862567216,
          -485.5731229668986
         ],
         "z": [
          346.219246834986,
          345.3101244254183
         ]
        },
        {
         "line": {
          "color": "rgba(0,255,0,0.2)",
          "width": 3
         },
         "mode": "lines",
         "showlegend": false,
         "type": "scatter3d",
         "x": [
          910.09173861451,
          901.4706055697219
         ],
         "y": [
          -485.5731229668986,
          -477.66777972051756
         ],
         "z": [
          345.3101244254183,
          347.9899776268009
         ]
        },
        {
         "line": {
          "color": "rgba(0,255,0,0.2)",
          "width": 3
         },
         "mode": "lines",
         "showlegend": false,
         "type": "scatter3d",
         "x": [
          901.4706055697219,
          896.2542142019079
         ],
         "y": [
          -477.66777972051756,
          -483.6646753792911
         ],
         "z": [
          347.9899776268009,
          348.8991000363686
         ]
        },
        {
         "line": {
          "color": "rgba(0,255,0,0.2)",
          "width": 3
         },
         "mode": "lines",
         "showlegend": false,
         "type": "scatter3d",
         "x": [
          896.2542142019079,
          904.8753472466959
         ],
         "y": [
          -483.6646753792911,
          -491.57001862567216
         ],
         "z": [
          348.8991000363686,
          346.219246834986
         ]
        },
        {
         "marker": {
          "color": "green",
          "size": 4
         },
         "mode": "markers",
         "name": "Mitte P11",
         "showlegend": false,
         "type": "scatter3d",
         "x": [
          903.1729764082089
         ],
         "y": [
          -484.61889917309486
         ],
         "z": [
          347.1046122308935
         ]
        },
        {
         "color": "rgba(0,255,0,0.2)",
         "name": "optimale Trajektorie",
         "opacity": 0.8,
         "type": "mesh3d",
         "x": [
          901.9695336391139,
          907.1486328179014,
          898.4999575478175,
          893.32085836903
         ],
         "y": [
          -488.8632623121022,
          -482.8185539439586,
          -475.02417554941695,
          -481.0688839175606
         ],
         "z": [
          347.3832092487901,
          346.58418957420315,
          349.4907479368277,
          350.2897676114146
         ]
        },
        {
         "line": {
          "color": "rgba(0,255,0,0.2)",
          "width": 3
         },
         "mode": "lines",
         "showlegend": false,
         "type": "scatter3d",
         "x": [
          901.9695336391139,
          907.1486328179014
         ],
         "y": [
          -488.8632623121022,
          -482.8185539439586
         ],
         "z": [
          347.3832092487901,
          346.58418957420315
         ]
        },
        {
         "line": {
          "color": "rgba(0,255,0,0.2)",
          "width": 3
         },
         "mode": "lines",
         "showlegend": false,
         "type": "scatter3d",
         "x": [
          907.1486328179014,
          898.4999575478175
         ],
         "y": [
          -482.8185539439586,
          -475.02417554941695
         ],
         "z": [
          346.58418957420315,
          349.4907479368277
         ]
        },
        {
         "line": {
          "color": "rgba(0,255,0,0.2)",
          "width": 3
         },
         "mode": "lines",
         "showlegend": false,
         "type": "scatter3d",
         "x": [
          898.4999575478175,
          893.32085836903
         ],
         "y": [
          -475.02417554941695,
          -481.0688839175606
         ],
         "z": [
          349.4907479368277,
          350.2897676114146
         ]
        },
        {
         "line": {
          "color": "rgba(0,255,0,0.2)",
          "width": 3
         },
         "mode": "lines",
         "showlegend": false,
         "type": "scatter3d",
         "x": [
          893.32085836903,
          901.9695336391139
         ],
         "y": [
          -481.0688839175606,
          -488.8632623121022
         ],
         "z": [
          350.2897676114146,
          347.3832092487901
         ]
        },
        {
         "marker": {
          "color": "green",
          "size": 4
         },
         "mode": "markers",
         "name": "Mitte P11",
         "showlegend": false,
         "type": "scatter3d",
         "x": [
          900.2347455934657
         ],
         "y": [
          -481.9437189307596
         ],
         "z": [
          348.4369785928089
         ]
        },
        {
         "color": "rgba(0,255,0,0.2)",
         "name": "optimale Trajektorie",
         "opacity": 0.8,
         "type": "mesh3d",
         "x": [
          901.2814867273669,
          903.495875566697,
          893.5117436751525,
          891.2973548358224
         ],
         "y": [
          -484.50527244949103,
          -477.22424959415497,
          -476.42657737793877,
          -483.70760023327483
         ],
         "z": [
          344.7599783512991,
          347.2263903704726,
          353.8355377744666,
          351.3691257552931
         ]
        },
        {
         "line": {
          "color": "rgba(0,255,0,0.2)",
          "width": 3
         },
         "mode": "lines",
         "showlegend": false,
         "type": "scatter3d",
         "x": [
          901.2814867273669,
          903.495875566697
         ],
         "y": [
          -484.50527244949103,
          -477.22424959415497
         ],
         "z": [
          344.7599783512991,
          347.2263903704726
         ]
        },
        {
         "line": {
          "color": "rgba(0,255,0,0.2)",
          "width": 3
         },
         "mode": "lines",
         "showlegend": false,
         "type": "scatter3d",
         "x": [
          903.495875566697,
          893.5117436751525
         ],
         "y": [
          -477.22424959415497,
          -476.42657737793877
         ],
         "z": [
          347.2263903704726,
          353.8355377744666
         ]
        },
        {
         "line": {
          "color": "rgba(0,255,0,0.2)",
          "width": 3
         },
         "mode": "lines",
         "showlegend": false,
         "type": "scatter3d",
         "x": [
          893.5117436751525,
          891.2973548358224
         ],
         "y": [
          -476.42657737793877,
          -483.70760023327483
         ],
         "z": [
          353.8355377744666,
          351.3691257552931
         ]
        },
        {
         "line": {
          "color": "rgba(0,255,0,0.2)",
          "width": 3
         },
         "mode": "lines",
         "showlegend": false,
         "type": "scatter3d",
         "x": [
          891.2973548358224,
          901.2814867273669
         ],
         "y": [
          -483.70760023327483,
          -484.50527244949103
         ],
         "z": [
          351.3691257552931,
          344.7599783512991
         ]
        },
        {
         "marker": {
          "color": "green",
          "size": 4
         },
         "mode": "markers",
         "name": "Mitte P11",
         "showlegend": false,
         "type": "scatter3d",
         "x": [
          897.3966152012597
         ],
         "y": [
          -480.4659249137149
         ],
         "z": [
          349.29775806288285
         ]
        },
        {
         "color": "rgba(0,255,0,0.2)",
         "name": "optimale Trajektorie",
         "opacity": 0.8,
         "type": "mesh3d",
         "x": [
          895.6897865588385,
          896.1188135748546,
          893.4433610123151,
          893.014333996299
         ],
         "y": [
          -474.7209022793622,
          -472.12212521795976,
          -483.13619107552705,
          -485.73496813692947
         ],
         "z": [
          345.549514154888,
          353.103472958367,
          357.0445777363159,
          349.4906189328369
         ]
        },
        {
         "line": {
          "color": "rgba(0,255,0,0.2)",
          "width": 3
         },
         "mode": "lines",
         "showlegend": false,
         "type": "scatter3d",
         "x": [
          895.6897865588385,
          896.1188135748546
         ],
         "y": [
          -474.7209022793622,
          -472.12212521795976
         ],
         "z": [
          345.549514154888,
          353.103472958367
         ]
        },
        {
         "line": {
          "color": "rgba(0,255,0,0.2)",
          "width": 3
         },
         "mode": "lines",
         "showlegend": false,
         "type": "scatter3d",
         "x": [
          896.1188135748546,
          893.4433610123151
         ],
         "y": [
          -472.12212521795976,
          -483.13619107552705
         ],
         "z": [
          353.103472958367,
          357.0445777363159
         ]
        },
        {
         "line": {
          "color": "rgba(0,255,0,0.2)",
          "width": 3
         },
         "mode": "lines",
         "showlegend": false,
         "type": "scatter3d",
         "x": [
          893.4433610123151,
          893.014333996299
         ],
         "y": [
          -483.13619107552705,
          -485.73496813692947
         ],
         "z": [
          357.0445777363159,
          349.4906189328369
         ]
        },
        {
         "line": {
          "color": "rgba(0,255,0,0.2)",
          "width": 3
         },
         "mode": "lines",
         "showlegend": false,
         "type": "scatter3d",
         "x": [
          893.014333996299,
          895.6897865588385
         ],
         "y": [
          -485.73496813692947,
          -474.7209022793622
         ],
         "z": [
          349.4906189328369,
          345.549514154888
         ]
        },
        {
         "marker": {
          "color": "green",
          "size": 4
         },
         "mode": "markers",
         "name": "Mitte P11",
         "showlegend": false,
         "type": "scatter3d",
         "x": [
          894.5665737855768
         ],
         "y": [
          -478.9285466774446
         ],
         "z": [
          351.29704594560195
         ]
        },
        {
         "line": {
          "color": "green",
          "width": 2
         },
         "mode": "lines",
         "name": "Optimale Hakenlinie",
         "type": "scatter3d",
         "x": {
          "bdata": "Xsh3tFlXjEDs90i4aWGMQNZrF3x1RoxA5YF0QWI5jECGNkzC4CGMQA40l0QsC4xAlj7WV4j0i0A=",
          "dtype": "f8"
         },
         "y": {
          "bdata": "XZijbRuefsDgYRkz7rB+wPCDBqzpfH7AbL/RAudJfsCogwV5GR9+wMGsrm10B37A8sbCU9vufcA=",
          "dtype": "f8"
         },
         "z": {
          "bdata": "FD0eLQS7dUBgUMXX6pt1QB1+TF8wlHVAMOfffayxdUCp0kPd/cZ1QDxj9Z3D1HVAUdw/s8D0dUA=",
          "dtype": "f8"
         }
        },
        {
         "line": {
          "color": "gray",
          "dash": "dash"
         },
         "mode": "lines",
         "name": "Direkte Gerade Spitze -> Senke",
         "type": "scatter3d",
         "x": [
          906.8956582835316,
          896.7829332271835
         ],
         "y": [
          -489.9169433191114,
          -479.49570659646673
         ],
         "z": [
          347.3323061410425,
          388.10374656848944
         ]
        },
        {
         "marker": {
          "color": "magenta",
          "size": 8
         },
         "mode": "markers",
         "name": "Spitze",
         "type": "scatter3d",
         "x": [
          906.8956582835316
         ],
         "y": [
          -489.9169433191114
         ],
         "z": [
          347.3323061410425
         ]
        },
        {
         "marker": {
          "color": "magenta",
          "size": 8
         },
         "mode": "markers",
         "name": "Senke",
         "type": "scatter3d",
         "x": [
          896.7829332271835
         ],
         "y": [
          -479.49570659646673
         ],
         "z": [
          388.10374656848944
         ]
        },
        {
         "mode": "text",
         "showlegend": false,
         "text": [
          "Spitze"
         ],
         "textfont": {
          "size": 10
         },
         "textposition": "top center",
         "type": "scatter3d",
         "x": [
          906.8956582835316
         ],
         "y": [
          -489.9169433191114
         ],
         "z": [
          347.3323061410425
         ]
        },
        {
         "mode": "text",
         "showlegend": false,
         "text": [
          "Senke"
         ],
         "textfont": {
          "size": 10
         },
         "textposition": "top center",
         "type": "scatter3d",
         "x": [
          896.7829332271835
         ],
         "y": [
          -479.49570659646673
         ],
         "z": [
          388.10374656848944
         ]
        }
       ],
       "layout": {
        "legend": {
         "title": {
          "text": "Legende"
         }
        },
        "scene": {
         "aspectmode": "cube",
         "xaxis": {
          "title": {
           "text": "X"
          }
         },
         "yaxis": {
          "title": {
           "text": "Y"
          }
         },
         "zaxis": {
          "title": {
           "text": "Z"
          }
         }
        },
        "template": {
         "data": {
          "bar": [
           {
            "error_x": {
             "color": "#2a3f5f"
            },
            "error_y": {
             "color": "#2a3f5f"
            },
            "marker": {
             "line": {
              "color": "#E5ECF6",
              "width": 0.5
             },
             "pattern": {
              "fillmode": "overlay",
              "size": 10,
              "solidity": 0.2
             }
            },
            "type": "bar"
           }
          ],
          "barpolar": [
           {
            "marker": {
             "line": {
              "color": "#E5ECF6",
              "width": 0.5
             },
             "pattern": {
              "fillmode": "overlay",
              "size": 10,
              "solidity": 0.2
             }
            },
            "type": "barpolar"
           }
          ],
          "carpet": [
           {
            "aaxis": {
             "endlinecolor": "#2a3f5f",
             "gridcolor": "white",
             "linecolor": "white",
             "minorgridcolor": "white",
             "startlinecolor": "#2a3f5f"
            },
            "baxis": {
             "endlinecolor": "#2a3f5f",
             "gridcolor": "white",
             "linecolor": "white",
             "minorgridcolor": "white",
             "startlinecolor": "#2a3f5f"
            },
            "type": "carpet"
           }
          ],
          "choropleth": [
           {
            "colorbar": {
             "outlinewidth": 0,
             "ticks": ""
            },
            "type": "choropleth"
           }
          ],
          "contour": [
           {
            "colorbar": {
             "outlinewidth": 0,
             "ticks": ""
            },
            "colorscale": [
             [
              0,
              "#0d0887"
             ],
             [
              0.1111111111111111,
              "#46039f"
             ],
             [
              0.2222222222222222,
              "#7201a8"
             ],
             [
              0.3333333333333333,
              "#9c179e"
             ],
             [
              0.4444444444444444,
              "#bd3786"
             ],
             [
              0.5555555555555556,
              "#d8576b"
             ],
             [
              0.6666666666666666,
              "#ed7953"
             ],
             [
              0.7777777777777778,
              "#fb9f3a"
             ],
             [
              0.8888888888888888,
              "#fdca26"
             ],
             [
              1,
              "#f0f921"
             ]
            ],
            "type": "contour"
           }
          ],
          "contourcarpet": [
           {
            "colorbar": {
             "outlinewidth": 0,
             "ticks": ""
            },
            "type": "contourcarpet"
           }
          ],
          "heatmap": [
           {
            "colorbar": {
             "outlinewidth": 0,
             "ticks": ""
            },
            "colorscale": [
             [
              0,
              "#0d0887"
             ],
             [
              0.1111111111111111,
              "#46039f"
             ],
             [
              0.2222222222222222,
              "#7201a8"
             ],
             [
              0.3333333333333333,
              "#9c179e"
             ],
             [
              0.4444444444444444,
              "#bd3786"
             ],
             [
              0.5555555555555556,
              "#d8576b"
             ],
             [
              0.6666666666666666,
              "#ed7953"
             ],
             [
              0.7777777777777778,
              "#fb9f3a"
             ],
             [
              0.8888888888888888,
              "#fdca26"
             ],
             [
              1,
              "#f0f921"
             ]
            ],
            "type": "heatmap"
           }
          ],
          "histogram": [
           {
            "marker": {
             "pattern": {
              "fillmode": "overlay",
              "size": 10,
              "solidity": 0.2
             }
            },
            "type": "histogram"
           }
          ],
          "histogram2d": [
           {
            "colorbar": {
             "outlinewidth": 0,
             "ticks": ""
            },
            "colorscale": [
             [
              0,
              "#0d0887"
             ],
             [
              0.1111111111111111,
              "#46039f"
             ],
             [
              0.2222222222222222,
              "#7201a8"
             ],
             [
              0.3333333333333333,
              "#9c179e"
             ],
             [
              0.4444444444444444,
              "#bd3786"
             ],
             [
              0.5555555555555556,
              "#d8576b"
             ],
             [
              0.6666666666666666,
              "#ed7953"
             ],
             [
              0.7777777777777778,
              "#fb9f3a"
             ],
             [
              0.8888888888888888,
              "#fdca26"
             ],
             [
              1,
              "#f0f921"
             ]
            ],
            "type": "histogram2d"
           }
          ],
          "histogram2dcontour": [
           {
            "colorbar": {
             "outlinewidth": 0,
             "ticks": ""
            },
            "colorscale": [
             [
              0,
              "#0d0887"
             ],
             [
              0.1111111111111111,
              "#46039f"
             ],
             [
              0.2222222222222222,
              "#7201a8"
             ],
             [
              0.3333333333333333,
              "#9c179e"
             ],
             [
              0.4444444444444444,
              "#bd3786"
             ],
             [
              0.5555555555555556,
              "#d8576b"
             ],
             [
              0.6666666666666666,
              "#ed7953"
             ],
             [
              0.7777777777777778,
              "#fb9f3a"
             ],
             [
              0.8888888888888888,
              "#fdca26"
             ],
             [
              1,
              "#f0f921"
             ]
            ],
            "type": "histogram2dcontour"
           }
          ],
          "mesh3d": [
           {
            "colorbar": {
             "outlinewidth": 0,
             "ticks": ""
            },
            "type": "mesh3d"
           }
          ],
          "parcoords": [
           {
            "line": {
             "colorbar": {
              "outlinewidth": 0,
              "ticks": ""
             }
            },
            "type": "parcoords"
           }
          ],
          "pie": [
           {
            "automargin": true,
            "type": "pie"
           }
          ],
          "scatter": [
           {
            "fillpattern": {
             "fillmode": "overlay",
             "size": 10,
             "solidity": 0.2
            },
            "type": "scatter"
           }
          ],
          "scatter3d": [
           {
            "line": {
             "colorbar": {
              "outlinewidth": 0,
              "ticks": ""
             }
            },
            "marker": {
             "colorbar": {
              "outlinewidth": 0,
              "ticks": ""
             }
            },
            "type": "scatter3d"
           }
          ],
          "scattercarpet": [
           {
            "marker": {
             "colorbar": {
              "outlinewidth": 0,
              "ticks": ""
             }
            },
            "type": "scattercarpet"
           }
          ],
          "scattergeo": [
           {
            "marker": {
             "colorbar": {
              "outlinewidth": 0,
              "ticks": ""
             }
            },
            "type": "scattergeo"
           }
          ],
          "scattergl": [
           {
            "marker": {
             "colorbar": {
              "outlinewidth": 0,
              "ticks": ""
             }
            },
            "type": "scattergl"
           }
          ],
          "scattermap": [
           {
            "marker": {
             "colorbar": {
              "outlinewidth": 0,
              "ticks": ""
             }
            },
            "type": "scattermap"
           }
          ],
          "scattermapbox": [
           {
            "marker": {
             "colorbar": {
              "outlinewidth": 0,
              "ticks": ""
             }
            },
            "type": "scattermapbox"
           }
          ],
          "scatterpolar": [
           {
            "marker": {
             "colorbar": {
              "outlinewidth": 0,
              "ticks": ""
             }
            },
            "type": "scatterpolar"
           }
          ],
          "scatterpolargl": [
           {
            "marker": {
             "colorbar": {
              "outlinewidth": 0,
              "ticks": ""
             }
            },
            "type": "scatterpolargl"
           }
          ],
          "scatterternary": [
           {
            "marker": {
             "colorbar": {
              "outlinewidth": 0,
              "ticks": ""
             }
            },
            "type": "scatterternary"
           }
          ],
          "surface": [
           {
            "colorbar": {
             "outlinewidth": 0,
             "ticks": ""
            },
            "colorscale": [
             [
              0,
              "#0d0887"
             ],
             [
              0.1111111111111111,
              "#46039f"
             ],
             [
              0.2222222222222222,
              "#7201a8"
             ],
             [
              0.3333333333333333,
              "#9c179e"
             ],
             [
              0.4444444444444444,
              "#bd3786"
             ],
             [
              0.5555555555555556,
              "#d8576b"
             ],
             [
              0.6666666666666666,
              "#ed7953"
             ],
             [
              0.7777777777777778,
              "#fb9f3a"
             ],
             [
              0.8888888888888888,
              "#fdca26"
             ],
             [
              1,
              "#f0f921"
             ]
            ],
            "type": "surface"
           }
          ],
          "table": [
           {
            "cells": {
             "fill": {
              "color": "#EBF0F8"
             },
             "line": {
              "color": "white"
             }
            },
            "header": {
             "fill": {
              "color": "#C8D4E3"
             },
             "line": {
              "color": "white"
             }
            },
            "type": "table"
           }
          ]
         },
         "layout": {
          "annotationdefaults": {
           "arrowcolor": "#2a3f5f",
           "arrowhead": 0,
           "arrowwidth": 1
          },
          "autotypenumbers": "strict",
          "coloraxis": {
           "colorbar": {
            "outlinewidth": 0,
            "ticks": ""
           }
          },
          "colorscale": {
           "diverging": [
            [
             0,
             "#8e0152"
            ],
            [
             0.1,
             "#c51b7d"
            ],
            [
             0.2,
             "#de77ae"
            ],
            [
             0.3,
             "#f1b6da"
            ],
            [
             0.4,
             "#fde0ef"
            ],
            [
             0.5,
             "#f7f7f7"
            ],
            [
             0.6,
             "#e6f5d0"
            ],
            [
             0.7,
             "#b8e186"
            ],
            [
             0.8,
             "#7fbc41"
            ],
            [
             0.9,
             "#4d9221"
            ],
            [
             1,
             "#276419"
            ]
           ],
           "sequential": [
            [
             0,
             "#0d0887"
            ],
            [
             0.1111111111111111,
             "#46039f"
            ],
            [
             0.2222222222222222,
             "#7201a8"
            ],
            [
             0.3333333333333333,
             "#9c179e"
            ],
            [
             0.4444444444444444,
             "#bd3786"
            ],
            [
             0.5555555555555556,
             "#d8576b"
            ],
            [
             0.6666666666666666,
             "#ed7953"
            ],
            [
             0.7777777777777778,
             "#fb9f3a"
            ],
            [
             0.8888888888888888,
             "#fdca26"
            ],
            [
             1,
             "#f0f921"
            ]
           ],
           "sequentialminus": [
            [
             0,
             "#0d0887"
            ],
            [
             0.1111111111111111,
             "#46039f"
            ],
            [
             0.2222222222222222,
             "#7201a8"
            ],
            [
             0.3333333333333333,
             "#9c179e"
            ],
            [
             0.4444444444444444,
             "#bd3786"
            ],
            [
             0.5555555555555556,
             "#d8576b"
            ],
            [
             0.6666666666666666,
             "#ed7953"
            ],
            [
             0.7777777777777778,
             "#fb9f3a"
            ],
            [
             0.8888888888888888,
             "#fdca26"
            ],
            [
             1,
             "#f0f921"
            ]
           ]
          },
          "colorway": [
           "#636efa",
           "#EF553B",
           "#00cc96",
           "#ab63fa",
           "#FFA15A",
           "#19d3f3",
           "#FF6692",
           "#B6E880",
           "#FF97FF",
           "#FECB52"
          ],
          "font": {
           "color": "#2a3f5f"
          },
          "geo": {
           "bgcolor": "white",
           "lakecolor": "white",
           "landcolor": "#E5ECF6",
           "showlakes": true,
           "showland": true,
           "subunitcolor": "white"
          },
          "hoverlabel": {
           "align": "left"
          },
          "hovermode": "closest",
          "mapbox": {
           "style": "light"
          },
          "paper_bgcolor": "white",
          "plot_bgcolor": "#E5ECF6",
          "polar": {
           "angularaxis": {
            "gridcolor": "white",
            "linecolor": "white",
            "ticks": ""
           },
           "bgcolor": "#E5ECF6",
           "radialaxis": {
            "gridcolor": "white",
            "linecolor": "white",
            "ticks": ""
           }
          },
          "scene": {
           "xaxis": {
            "backgroundcolor": "#E5ECF6",
            "gridcolor": "white",
            "gridwidth": 2,
            "linecolor": "white",
            "showbackground": true,
            "ticks": "",
            "zerolinecolor": "white"
           },
           "yaxis": {
            "backgroundcolor": "#E5ECF6",
            "gridcolor": "white",
            "gridwidth": 2,
            "linecolor": "white",
            "showbackground": true,
            "ticks": "",
            "zerolinecolor": "white"
           },
           "zaxis": {
            "backgroundcolor": "#E5ECF6",
            "gridcolor": "white",
            "gridwidth": 2,
            "linecolor": "white",
            "showbackground": true,
            "ticks": "",
            "zerolinecolor": "white"
           }
          },
          "shapedefaults": {
           "line": {
            "color": "#2a3f5f"
           }
          },
          "ternary": {
           "aaxis": {
            "gridcolor": "white",
            "linecolor": "white",
            "ticks": ""
           },
           "baxis": {
            "gridcolor": "white",
            "linecolor": "white",
            "ticks": ""
           },
           "bgcolor": "#E5ECF6",
           "caxis": {
            "gridcolor": "white",
            "linecolor": "white",
            "ticks": ""
           }
          },
          "title": {
           "x": 0.05
          },
          "xaxis": {
           "automargin": true,
           "gridcolor": "white",
           "linecolor": "white",
           "ticks": "",
           "title": {
            "standoff": 15
           },
           "zerolinecolor": "white",
           "zerolinewidth": 2
          },
          "yaxis": {
           "automargin": true,
           "gridcolor": "white",
           "linecolor": "white",
           "ticks": "",
           "title": {
            "standoff": 15
           },
           "zerolinecolor": "white",
           "zerolinewidth": 2
          }
         }
        },
        "title": {
         "text": "Haken 18, Trajektorien-Ansatz 3"
        }
       }
      }
     },
     "metadata": {},
     "output_type": "display_data"
    },
    {
     "name": "stdout",
     "output_type": "stream",
     "text": [
      "HTML-Datei '/home/mo/Thesis/Evaluation/Trajektorientests/traj4.html' erfolgreich erstellt!\n"
     ]
    },
    {
     "data": {
      "application/vnd.plotly.v1+json": {
       "config": {
        "plotlyServerURL": "https://plot.ly"
       },
       "data": [
        {
         "color": "rgba(31, 119, 180, 0.8)",
         "name": "P1",
         "opacity": 0.8,
         "type": "mesh3d",
         "x": [
          904.765452803144,
          912.4417664115606,
          909.0721471504867,
          901.39583354207
         ],
         "y": [
          -496.76375324825597,
          -494.5162779094124,
          -482.9996388267051,
          -485.2471141655487
         ],
         "z": [
          347.70812674259247,
          347.55625842289265,
          347.66890953944034,
          347.82077785914015
         ]
        },
        {
         "marker": {
          "color": "red",
          "size": 3
         },
         "mode": "markers+text",
         "showlegend": false,
         "text": "",
         "textfont": {
          "size": 12
         },
         "textposition": "top center",
         "type": "scatter3d",
         "x": [
          906.9187999768153
         ],
         "y": [
          -489.88169603748054
         ],
         "z": [
          347.6885181410164
         ]
        },
        {
         "line": {
          "color": "rgba(31, 119, 180, 0.8)",
          "width": 4
         },
         "mode": "lines",
         "showlegend": false,
         "type": "scatter3d",
         "x": [
          904.765452803144,
          912.4417664115606
         ],
         "y": [
          -496.76375324825597,
          -494.5162779094124
         ],
         "z": [
          347.70812674259247,
          347.55625842289265
         ]
        },
        {
         "line": {
          "color": "rgba(31, 119, 180, 0.8)",
          "width": 4
         },
         "mode": "lines",
         "showlegend": false,
         "type": "scatter3d",
         "x": [
          912.4417664115606,
          909.0721471504867
         ],
         "y": [
          -494.5162779094124,
          -482.9996388267051
         ],
         "z": [
          347.55625842289265,
          347.66890953944034
         ]
        },
        {
         "line": {
          "color": "rgba(31, 119, 180, 0.8)",
          "width": 4
         },
         "mode": "lines",
         "showlegend": false,
         "type": "scatter3d",
         "x": [
          909.0721471504867,
          901.39583354207
         ],
         "y": [
          -482.9996388267051,
          -485.2471141655487
         ],
         "z": [
          347.66890953944034,
          347.82077785914015
         ]
        },
        {
         "line": {
          "color": "rgba(31, 119, 180, 0.8)",
          "width": 4
         },
         "mode": "lines",
         "showlegend": false,
         "type": "scatter3d",
         "x": [
          901.39583354207,
          904.765452803144
         ],
         "y": [
          -485.2471141655487,
          -496.76375324825597
         ],
         "z": [
          347.82077785914015,
          347.70812674259247
         ]
        },
        {
         "color": "rgba(214, 39, 40, 0.8)",
         "name": "P2",
         "opacity": 0.8,
         "type": "mesh3d",
         "x": [
          904.765452803144,
          912.4417664115606,
          909.0721471504867,
          901.39583354207
         ],
         "y": [
          -496.76375324825597,
          -494.5162779094124,
          -482.9996388267051,
          -485.2471141655487
         ],
         "z": [
          347.70812674259247,
          347.55625842289265,
          347.66890953944034,
          347.82077785914015
         ]
        },
        {
         "marker": {
          "color": "red",
          "size": 3
         },
         "mode": "markers+text",
         "showlegend": false,
         "text": "",
         "textfont": {
          "size": 12
         },
         "textposition": "top center",
         "type": "scatter3d",
         "x": [
          906.9187999768153
         ],
         "y": [
          -489.88169603748054
         ],
         "z": [
          347.6885181410164
         ]
        },
        {
         "line": {
          "color": "rgba(214, 39, 40, 0.8)",
          "width": 4
         },
         "mode": "lines",
         "showlegend": false,
         "type": "scatter3d",
         "x": [
          904.765452803144,
          912.4417664115606
         ],
         "y": [
          -496.76375324825597,
          -494.5162779094124
         ],
         "z": [
          347.70812674259247,
          347.55625842289265
         ]
        },
        {
         "line": {
          "color": "rgba(214, 39, 40, 0.8)",
          "width": 4
         },
         "mode": "lines",
         "showlegend": false,
         "type": "scatter3d",
         "x": [
          912.4417664115606,
          909.0721471504867
         ],
         "y": [
          -494.5162779094124,
          -482.9996388267051
         ],
         "z": [
          347.55625842289265,
          347.66890953944034
         ]
        },
        {
         "line": {
          "color": "rgba(214, 39, 40, 0.8)",
          "width": 4
         },
         "mode": "lines",
         "showlegend": false,
         "type": "scatter3d",
         "x": [
          909.0721471504867,
          901.39583354207
         ],
         "y": [
          -482.9996388267051,
          -485.2471141655487
         ],
         "z": [
          347.66890953944034,
          347.82077785914015
         ]
        },
        {
         "line": {
          "color": "rgba(214, 39, 40, 0.8)",
          "width": 4
         },
         "mode": "lines",
         "showlegend": false,
         "type": "scatter3d",
         "x": [
          901.39583354207,
          904.765452803144
         ],
         "y": [
          -485.2471141655487,
          -496.76375324825597
         ],
         "z": [
          347.82077785914015,
          347.70812674259247
         ]
        },
        {
         "color": "rgba(247, 182, 210, 0.8)",
         "name": "P3",
         "opacity": 0.8,
         "type": "mesh3d",
         "x": [
          903.5678218922815,
          911.2441355006981,
          907.8745162396242,
          900.1982026312076
         ],
         "y": [
          -495.5454428316089,
          -493.29796749276534,
          -481.78132841005805,
          -484.0288037489016
         ],
         "z": [
          352.407211752468,
          352.2553434327682,
          352.3679945493159,
          352.5198628690157
         ]
        },
        {
         "marker": {
          "color": "red",
          "size": 3
         },
         "mode": "markers+text",
         "showlegend": false,
         "text": "",
         "textfont": {
          "size": 12
         },
         "textposition": "top center",
         "type": "scatter3d",
         "x": [
          905.7211690659528
         ],
         "y": [
          -488.6633856208334
         ],
         "z": [
          352.38760315089195
         ]
        },
        {
         "line": {
          "color": "rgba(247, 182, 210, 0.8)",
          "width": 4
         },
         "mode": "lines",
         "showlegend": false,
         "type": "scatter3d",
         "x": [
          903.5678218922815,
          911.2441355006981
         ],
         "y": [
          -495.5454428316089,
          -493.29796749276534
         ],
         "z": [
          352.407211752468,
          352.2553434327682
         ]
        },
        {
         "line": {
          "color": "rgba(247, 182, 210, 0.8)",
          "width": 4
         },
         "mode": "lines",
         "showlegend": false,
         "type": "scatter3d",
         "x": [
          911.2441355006981,
          907.8745162396242
         ],
         "y": [
          -493.29796749276534,
          -481.78132841005805
         ],
         "z": [
          352.2553434327682,
          352.3679945493159
         ]
        },
        {
         "line": {
          "color": "rgba(247, 182, 210, 0.8)",
          "width": 4
         },
         "mode": "lines",
         "showlegend": false,
         "type": "scatter3d",
         "x": [
          907.8745162396242,
          900.1982026312076
         ],
         "y": [
          -481.78132841005805,
          -484.0288037489016
         ],
         "z": [
          352.3679945493159,
          352.5198628690157
         ]
        },
        {
         "line": {
          "color": "rgba(247, 182, 210, 0.8)",
          "width": 4
         },
         "mode": "lines",
         "showlegend": false,
         "type": "scatter3d",
         "x": [
          900.1982026312076,
          903.5678218922815
         ],
         "y": [
          -484.0288037489016,
          -495.5454428316089
         ],
         "z": [
          352.5198628690157,
          352.407211752468
         ]
        },
        {
         "line": {
          "color": "black",
          "width": 2
         },
         "mode": "lines",
         "name": "Berechnete Hakenlinie",
         "type": "scatter3d",
         "x": {
          "bdata": "5l/Ns1lXjEDmX82zWVeMQDyJSfTETYxA",
          "dtype": "f8"
         },
         "y": {
          "bdata": "3t9NbRuefsDe301tG55+wNyhPTqdin7A",
          "dtype": "f8"
         },
         "z": {
          "bdata": "5CWZKwS7dUDkJZkrBLt1QIWOXJ8zBnZA",
          "dtype": "f8"
         }
        },
        {
         "mode": "text",
         "showlegend": false,
         "text": [
          "Pre-Position"
         ],
         "textfont": {
          "size": 10
         },
         "textposition": "top center",
         "type": "scatter3d",
         "x": [
          906.9187999768153
         ],
         "y": [
          -489.88169603748054
         ],
         "z": [
          347.6885181410164
         ]
        },
        {
         "mode": "text",
         "showlegend": false,
         "text": [
          "Loslassen"
         ],
         "textfont": {
          "size": 10
         },
         "textposition": "top center",
         "type": "scatter3d",
         "x": [
          905.7211690659528
         ],
         "y": [
          -488.6633856208334
         ],
         "z": [
          352.38760315089195
         ]
        },
        {
         "color": "rgba(0,255,0,0.2)",
         "name": "optimale Trajektorie",
         "opacity": 0.8,
         "type": "mesh3d",
         "x": [
          904.7654537546975,
          912.4417674667966,
          909.0721487382114,
          901.3958350261123
         ],
         "y": [
          -496.7637534680738,
          -494.51627848391314,
          -482.9996392455562,
          -485.24711422971683
         ],
         "z": [
          347.70812818851044,
          347.556259860636,
          347.66891099247306,
          347.8207793203475
         ]
        },
        {
         "line": {
          "color": "rgba(0,255,0,0.2)",
          "width": 3
         },
         "mode": "lines",
         "showlegend": false,
         "type": "scatter3d",
         "x": [
          904.7654537546975,
          912.4417674667966
         ],
         "y": [
          -496.7637534680738,
          -494.51627848391314
         ],
         "z": [
          347.70812818851044,
          347.556259860636
         ]
        },
        {
         "line": {
          "color": "rgba(0,255,0,0.2)",
          "width": 3
         },
         "mode": "lines",
         "showlegend": false,
         "type": "scatter3d",
         "x": [
          912.4417674667966,
          909.0721487382114
         ],
         "y": [
          -494.51627848391314,
          -482.9996392455562
         ],
         "z": [
          347.556259860636,
          347.66891099247306
         ]
        },
        {
         "line": {
          "color": "rgba(0,255,0,0.2)",
          "width": 3
         },
         "mode": "lines",
         "showlegend": false,
         "type": "scatter3d",
         "x": [
          909.0721487382114,
          901.3958350261123
         ],
         "y": [
          -482.9996392455562,
          -485.24711422971683
         ],
         "z": [
          347.66891099247306,
          347.8207793203475
         ]
        },
        {
         "line": {
          "color": "rgba(0,255,0,0.2)",
          "width": 3
         },
         "mode": "lines",
         "showlegend": false,
         "type": "scatter3d",
         "x": [
          901.3958350261123,
          904.7654537546975
         ],
         "y": [
          -485.24711422971683,
          -496.7637534680738
         ],
         "z": [
          347.8207793203475,
          347.70812818851044
         ]
        },
        {
         "marker": {
          "color": "green",
          "size": 4
         },
         "mode": "markers",
         "name": "Mitte P3",
         "showlegend": false,
         "type": "scatter3d",
         "x": [
          906.9188012464544
         ],
         "y": [
          -489.881696356815
         ],
         "z": [
          347.68851959049175
         ]
        },
        {
         "color": "rgba(0,255,0,0.2)",
         "name": "optimale Trajektorie",
         "opacity": 0.8,
         "type": "mesh3d",
         "x": [
          908.2861941975428,
          914.7862257473945,
          908.0670478565686,
          901.5670163067169
         ],
         "y": [
          -498.26841982348236,
          -493.73033656557163,
          -483.84788857791096,
          -488.3859718358217
         ],
         "z": [
          345.7368742049174,
          344.6619834219992,
          345.75279515764225,
          346.82768594056046
         ]
        },
        {
         "line": {
          "color": "rgba(0,255,0,0.2)",
          "width": 3
         },
         "mode": "lines",
         "showlegend": false,
         "type": "scatter3d",
         "x": [
          908.2861941975428,
          914.7862257473945
         ],
         "y": [
          -498.26841982348236,
          -493.73033656557163
         ],
         "z": [
          345.7368742049174,
          344.6619834219992
         ]
        },
        {
         "line": {
          "color": "rgba(0,255,0,0.2)",
          "width": 3
         },
         "mode": "lines",
         "showlegend": false,
         "type": "scatter3d",
         "x": [
          914.7862257473945,
          908.0670478565686
         ],
         "y": [
          -493.73033656557163,
          -483.84788857791096
         ],
         "z": [
          344.6619834219992,
          345.75279515764225
         ]
        },
        {
         "line": {
          "color": "rgba(0,255,0,0.2)",
          "width": 3
         },
         "mode": "lines",
         "showlegend": false,
         "type": "scatter3d",
         "x": [
          908.0670478565686,
          901.5670163067169
         ],
         "y": [
          -483.84788857791096,
          -488.3859718358217
         ],
         "z": [
          345.75279515764225,
          346.82768594056046
         ]
        },
        {
         "line": {
          "color": "rgba(0,255,0,0.2)",
          "width": 3
         },
         "mode": "lines",
         "showlegend": false,
         "type": "scatter3d",
         "x": [
          901.5670163067169,
          908.2861941975428
         ],
         "y": [
          -488.3859718358217,
          -498.26841982348236
         ],
         "z": [
          346.82768594056046,
          345.7368742049174
         ]
        },
        {
         "marker": {
          "color": "green",
          "size": 4
         },
         "mode": "markers",
         "name": "Mitte P3",
         "showlegend": false,
         "type": "scatter3d",
         "x": [
          908.1766210270557
         ],
         "y": [
          -491.05815420069666
         ],
         "z": [
          345.7448346812798
         ]
        },
        {
         "color": "rgba(0,255,0,0.2)",
         "name": "optimale Trajektorie",
         "opacity": 0.8,
         "type": "mesh3d",
         "x": [
          905.1328632231249,
          911.4885238725897,
          904.4818679608396,
          898.1262073113749
         ],
         "y": [
          -495.01077062409473,
          -490.27823021364196,
          -480.6033270196635,
          -485.33586743011625
         ],
         "z": [
          345.2407504696588,
          344.1413692926887,
          345.28286879837583,
          346.3822499753459
         ]
        },
        {
         "line": {
          "color": "rgba(0,255,0,0.2)",
          "width": 3
         },
         "mode": "lines",
         "showlegend": false,
         "type": "scatter3d",
         "x": [
          905.1328632231249,
          911.4885238725897
         ],
         "y": [
          -495.01077062409473,
          -490.27823021364196
         ],
         "z": [
          345.2407504696588,
          344.1413692926887
         ]
        },
        {
         "line": {
          "color": "rgba(0,255,0,0.2)",
          "width": 3
         },
         "mode": "lines",
         "showlegend": false,
         "type": "scatter3d",
         "x": [
          911.4885238725897,
          904.4818679608396
         ],
         "y": [
          -490.27823021364196,
          -480.6033270196635
         ],
         "z": [
          344.1413692926887,
          345.28286879837583
         ]
        },
        {
         "line": {
          "color": "rgba(0,255,0,0.2)",
          "width": 3
         },
         "mode": "lines",
         "showlegend": false,
         "type": "scatter3d",
         "x": [
          904.4818679608396,
          898.1262073113749
         ],
         "y": [
          -480.6033270196635,
          -485.33586743011625
         ],
         "z": [
          345.28286879837583,
          346.3822499753459
         ]
        },
        {
         "line": {
          "color": "rgba(0,255,0,0.2)",
          "width": 3
         },
         "mode": "lines",
         "showlegend": false,
         "type": "scatter3d",
         "x": [
          898.1262073113749,
          905.1328632231249
         ],
         "y": [
          -485.33586743011625,
          -495.01077062409473
         ],
         "z": [
          346.3822499753459,
          345.2407504696588
         ]
        },
        {
         "marker": {
          "color": "green",
          "size": 4
         },
         "mode": "markers",
         "name": "Mitte P3",
         "showlegend": false,
         "type": "scatter3d",
         "x": [
          904.8073655919823
         ],
         "y": [
          -487.8070488218791
         ],
         "z": [
          345.2618096340173
         ]
        },
        {
         "color": "rgba(0,255,0,0.2)",
         "name": "optimale Trajektorie",
         "opacity": 0.8,
         "type": "mesh3d",
         "x": [
          904.8753472466959,
          910.09173861451,
          901.4706055697219,
          896.2542142019079
         ],
         "y": [
          -491.57001862567216,
          -485.5731229668986,
          -477.66777972051756,
          -483.6646753792911
         ],
         "z": [
          346.219246834986,
          345.3101244254183,
          347.9899776268009,
          348.8991000363686
         ]
        },
        {
         "line": {
          "color": "rgba(0,255,0,0.2)",
          "width": 3
         },
         "mode": "lines",
         "showlegend": false,
         "type": "scatter3d",
         "x": [
          904.8753472466959,
          910.09173861451
         ],
         "y": [
          -491.57001862567216,
          -485.5731229668986
         ],
         "z": [
          346.219246834986,
          345.3101244254183
         ]
        },
        {
         "line": {
          "color": "rgba(0,255,0,0.2)",
          "width": 3
         },
         "mode": "lines",
         "showlegend": false,
         "type": "scatter3d",
         "x": [
          910.09173861451,
          901.4706055697219
         ],
         "y": [
          -485.5731229668986,
          -477.66777972051756
         ],
         "z": [
          345.3101244254183,
          347.9899776268009
         ]
        },
        {
         "line": {
          "color": "rgba(0,255,0,0.2)",
          "width": 3
         },
         "mode": "lines",
         "showlegend": false,
         "type": "scatter3d",
         "x": [
          901.4706055697219,
          896.2542142019079
         ],
         "y": [
          -477.66777972051756,
          -483.6646753792911
         ],
         "z": [
          347.9899776268009,
          348.8991000363686
         ]
        },
        {
         "line": {
          "color": "rgba(0,255,0,0.2)",
          "width": 3
         },
         "mode": "lines",
         "showlegend": false,
         "type": "scatter3d",
         "x": [
          896.2542142019079,
          904.8753472466959
         ],
         "y": [
          -483.6646753792911,
          -491.57001862567216
         ],
         "z": [
          348.8991000363686,
          346.219246834986
         ]
        },
        {
         "marker": {
          "color": "green",
          "size": 4
         },
         "mode": "markers",
         "name": "Mitte P3",
         "showlegend": false,
         "type": "scatter3d",
         "x": [
          903.1729764082089
         ],
         "y": [
          -484.61889917309486
         ],
         "z": [
          347.1046122308935
         ]
        },
        {
         "color": "rgba(0,255,0,0.2)",
         "name": "optimale Trajektorie",
         "opacity": 0.8,
         "type": "mesh3d",
         "x": [
          901.9695336391139,
          907.1486328179014,
          898.4999575478175,
          893.32085836903
         ],
         "y": [
          -488.8632623121022,
          -482.8185539439586,
          -475.02417554941695,
          -481.0688839175606
         ],
         "z": [
          347.3832092487901,
          346.58418957420315,
          349.4907479368277,
          350.2897676114146
         ]
        },
        {
         "line": {
          "color": "rgba(0,255,0,0.2)",
          "width": 3
         },
         "mode": "lines",
         "showlegend": false,
         "type": "scatter3d",
         "x": [
          901.9695336391139,
          907.1486328179014
         ],
         "y": [
          -488.8632623121022,
          -482.8185539439586
         ],
         "z": [
          347.3832092487901,
          346.58418957420315
         ]
        },
        {
         "line": {
          "color": "rgba(0,255,0,0.2)",
          "width": 3
         },
         "mode": "lines",
         "showlegend": false,
         "type": "scatter3d",
         "x": [
          907.1486328179014,
          898.4999575478175
         ],
         "y": [
          -482.8185539439586,
          -475.02417554941695
         ],
         "z": [
          346.58418957420315,
          349.4907479368277
         ]
        },
        {
         "line": {
          "color": "rgba(0,255,0,0.2)",
          "width": 3
         },
         "mode": "lines",
         "showlegend": false,
         "type": "scatter3d",
         "x": [
          898.4999575478175,
          893.32085836903
         ],
         "y": [
          -475.02417554941695,
          -481.0688839175606
         ],
         "z": [
          349.4907479368277,
          350.2897676114146
         ]
        },
        {
         "line": {
          "color": "rgba(0,255,0,0.2)",
          "width": 3
         },
         "mode": "lines",
         "showlegend": false,
         "type": "scatter3d",
         "x": [
          893.32085836903,
          901.9695336391139
         ],
         "y": [
          -481.0688839175606,
          -488.8632623121022
         ],
         "z": [
          350.2897676114146,
          347.3832092487901
         ]
        },
        {
         "marker": {
          "color": "green",
          "size": 4
         },
         "mode": "markers",
         "name": "Mitte P3",
         "showlegend": false,
         "type": "scatter3d",
         "x": [
          900.2347455934657
         ],
         "y": [
          -481.9437189307596
         ],
         "z": [
          348.4369785928089
         ]
        },
        {
         "color": "rgba(0,255,0,0.2)",
         "name": "optimale Trajektorie",
         "opacity": 0.8,
         "type": "mesh3d",
         "x": [
          901.2814867273669,
          903.495875566697,
          893.5117436751525,
          891.2973548358224
         ],
         "y": [
          -484.50527244949103,
          -477.22424959415497,
          -476.42657737793877,
          -483.70760023327483
         ],
         "z": [
          344.7599783512991,
          347.2263903704726,
          353.8355377744666,
          351.3691257552931
         ]
        },
        {
         "line": {
          "color": "rgba(0,255,0,0.2)",
          "width": 3
         },
         "mode": "lines",
         "showlegend": false,
         "type": "scatter3d",
         "x": [
          901.2814867273669,
          903.495875566697
         ],
         "y": [
          -484.50527244949103,
          -477.22424959415497
         ],
         "z": [
          344.7599783512991,
          347.2263903704726
         ]
        },
        {
         "line": {
          "color": "rgba(0,255,0,0.2)",
          "width": 3
         },
         "mode": "lines",
         "showlegend": false,
         "type": "scatter3d",
         "x": [
          903.495875566697,
          893.5117436751525
         ],
         "y": [
          -477.22424959415497,
          -476.42657737793877
         ],
         "z": [
          347.2263903704726,
          353.8355377744666
         ]
        },
        {
         "line": {
          "color": "rgba(0,255,0,0.2)",
          "width": 3
         },
         "mode": "lines",
         "showlegend": false,
         "type": "scatter3d",
         "x": [
          893.5117436751525,
          891.2973548358224
         ],
         "y": [
          -476.42657737793877,
          -483.70760023327483
         ],
         "z": [
          353.8355377744666,
          351.3691257552931
         ]
        },
        {
         "line": {
          "color": "rgba(0,255,0,0.2)",
          "width": 3
         },
         "mode": "lines",
         "showlegend": false,
         "type": "scatter3d",
         "x": [
          891.2973548358224,
          901.2814867273669
         ],
         "y": [
          -483.70760023327483,
          -484.50527244949103
         ],
         "z": [
          351.3691257552931,
          344.7599783512991
         ]
        },
        {
         "marker": {
          "color": "green",
          "size": 4
         },
         "mode": "markers",
         "name": "Mitte P3",
         "showlegend": false,
         "type": "scatter3d",
         "x": [
          897.3966152012597
         ],
         "y": [
          -480.4659249137149
         ],
         "z": [
          349.29775806288285
         ]
        },
        {
         "color": "rgba(0,255,0,0.2)",
         "name": "optimale Trajektorie",
         "opacity": 0.8,
         "type": "mesh3d",
         "x": [
          895.6897865588385,
          896.1188135748546,
          893.4433610123151,
          893.014333996299
         ],
         "y": [
          -474.7209022793622,
          -472.12212521795976,
          -483.13619107552705,
          -485.73496813692947
         ],
         "z": [
          345.549514154888,
          353.103472958367,
          357.0445777363159,
          349.4906189328369
         ]
        },
        {
         "line": {
          "color": "rgba(0,255,0,0.2)",
          "width": 3
         },
         "mode": "lines",
         "showlegend": false,
         "type": "scatter3d",
         "x": [
          895.6897865588385,
          896.1188135748546
         ],
         "y": [
          -474.7209022793622,
          -472.12212521795976
         ],
         "z": [
          345.549514154888,
          353.103472958367
         ]
        },
        {
         "line": {
          "color": "rgba(0,255,0,0.2)",
          "width": 3
         },
         "mode": "lines",
         "showlegend": false,
         "type": "scatter3d",
         "x": [
          896.1188135748546,
          893.4433610123151
         ],
         "y": [
          -472.12212521795976,
          -483.13619107552705
         ],
         "z": [
          353.103472958367,
          357.0445777363159
         ]
        },
        {
         "line": {
          "color": "rgba(0,255,0,0.2)",
          "width": 3
         },
         "mode": "lines",
         "showlegend": false,
         "type": "scatter3d",
         "x": [
          893.4433610123151,
          893.014333996299
         ],
         "y": [
          -483.13619107552705,
          -485.73496813692947
         ],
         "z": [
          357.0445777363159,
          349.4906189328369
         ]
        },
        {
         "line": {
          "color": "rgba(0,255,0,0.2)",
          "width": 3
         },
         "mode": "lines",
         "showlegend": false,
         "type": "scatter3d",
         "x": [
          893.014333996299,
          895.6897865588385
         ],
         "y": [
          -485.73496813692947,
          -474.7209022793622
         ],
         "z": [
          349.4906189328369,
          345.549514154888
         ]
        },
        {
         "marker": {
          "color": "green",
          "size": 4
         },
         "mode": "markers",
         "name": "Mitte P3",
         "showlegend": false,
         "type": "scatter3d",
         "x": [
          894.5665737855768
         ],
         "y": [
          -478.9285466774446
         ],
         "z": [
          351.29704594560195
         ]
        },
        {
         "line": {
          "color": "green",
          "width": 2
         },
         "mode": "lines",
         "name": "Optimale Hakenlinie",
         "type": "scatter3d",
         "x": {
          "bdata": "Xsh3tFlXjEDs90i4aWGMQNZrF3x1RoxA5YF0QWI5jECGNkzC4CGMQA40l0QsC4xAlj7WV4j0i0A=",
          "dtype": "f8"
         },
         "y": {
          "bdata": "XZijbRuefsDgYRkz7rB+wPCDBqzpfH7AbL/RAudJfsCogwV5GR9+wMGsrm10B37A8sbCU9vufcA=",
          "dtype": "f8"
         },
         "z": {
          "bdata": "FD0eLQS7dUBgUMXX6pt1QB1+TF8wlHVAMOfffayxdUCp0kPd/cZ1QDxj9Z3D1HVAUdw/s8D0dUA=",
          "dtype": "f8"
         }
        },
        {
         "line": {
          "color": "gray",
          "dash": "dash"
         },
         "mode": "lines",
         "name": "Direkte Gerade Spitze -> Senke",
         "type": "scatter3d",
         "x": [
          906.8956582835316,
          896.7829332271835
         ],
         "y": [
          -489.9169433191114,
          -479.49570659646673
         ],
         "z": [
          347.3323061410425,
          388.10374656848944
         ]
        },
        {
         "marker": {
          "color": "magenta",
          "size": 8
         },
         "mode": "markers",
         "name": "Spitze",
         "type": "scatter3d",
         "x": [
          906.8956582835316
         ],
         "y": [
          -489.9169433191114
         ],
         "z": [
          347.3323061410425
         ]
        },
        {
         "marker": {
          "color": "magenta",
          "size": 8
         },
         "mode": "markers",
         "name": "Senke",
         "type": "scatter3d",
         "x": [
          896.7829332271835
         ],
         "y": [
          -479.49570659646673
         ],
         "z": [
          388.10374656848944
         ]
        },
        {
         "mode": "text",
         "showlegend": false,
         "text": [
          "Spitze"
         ],
         "textfont": {
          "size": 10
         },
         "textposition": "top center",
         "type": "scatter3d",
         "x": [
          906.8956582835316
         ],
         "y": [
          -489.9169433191114
         ],
         "z": [
          347.3323061410425
         ]
        },
        {
         "mode": "text",
         "showlegend": false,
         "text": [
          "Senke"
         ],
         "textfont": {
          "size": 10
         },
         "textposition": "top center",
         "type": "scatter3d",
         "x": [
          896.7829332271835
         ],
         "y": [
          -479.49570659646673
         ],
         "z": [
          388.10374656848944
         ]
        }
       ],
       "layout": {
        "legend": {
         "title": {
          "text": "Legende"
         }
        },
        "scene": {
         "aspectmode": "cube",
         "xaxis": {
          "title": {
           "text": "X"
          }
         },
         "yaxis": {
          "title": {
           "text": "Y"
          }
         },
         "zaxis": {
          "title": {
           "text": "Z"
          }
         }
        },
        "template": {
         "data": {
          "bar": [
           {
            "error_x": {
             "color": "#2a3f5f"
            },
            "error_y": {
             "color": "#2a3f5f"
            },
            "marker": {
             "line": {
              "color": "#E5ECF6",
              "width": 0.5
             },
             "pattern": {
              "fillmode": "overlay",
              "size": 10,
              "solidity": 0.2
             }
            },
            "type": "bar"
           }
          ],
          "barpolar": [
           {
            "marker": {
             "line": {
              "color": "#E5ECF6",
              "width": 0.5
             },
             "pattern": {
              "fillmode": "overlay",
              "size": 10,
              "solidity": 0.2
             }
            },
            "type": "barpolar"
           }
          ],
          "carpet": [
           {
            "aaxis": {
             "endlinecolor": "#2a3f5f",
             "gridcolor": "white",
             "linecolor": "white",
             "minorgridcolor": "white",
             "startlinecolor": "#2a3f5f"
            },
            "baxis": {
             "endlinecolor": "#2a3f5f",
             "gridcolor": "white",
             "linecolor": "white",
             "minorgridcolor": "white",
             "startlinecolor": "#2a3f5f"
            },
            "type": "carpet"
           }
          ],
          "choropleth": [
           {
            "colorbar": {
             "outlinewidth": 0,
             "ticks": ""
            },
            "type": "choropleth"
           }
          ],
          "contour": [
           {
            "colorbar": {
             "outlinewidth": 0,
             "ticks": ""
            },
            "colorscale": [
             [
              0,
              "#0d0887"
             ],
             [
              0.1111111111111111,
              "#46039f"
             ],
             [
              0.2222222222222222,
              "#7201a8"
             ],
             [
              0.3333333333333333,
              "#9c179e"
             ],
             [
              0.4444444444444444,
              "#bd3786"
             ],
             [
              0.5555555555555556,
              "#d8576b"
             ],
             [
              0.6666666666666666,
              "#ed7953"
             ],
             [
              0.7777777777777778,
              "#fb9f3a"
             ],
             [
              0.8888888888888888,
              "#fdca26"
             ],
             [
              1,
              "#f0f921"
             ]
            ],
            "type": "contour"
           }
          ],
          "contourcarpet": [
           {
            "colorbar": {
             "outlinewidth": 0,
             "ticks": ""
            },
            "type": "contourcarpet"
           }
          ],
          "heatmap": [
           {
            "colorbar": {
             "outlinewidth": 0,
             "ticks": ""
            },
            "colorscale": [
             [
              0,
              "#0d0887"
             ],
             [
              0.1111111111111111,
              "#46039f"
             ],
             [
              0.2222222222222222,
              "#7201a8"
             ],
             [
              0.3333333333333333,
              "#9c179e"
             ],
             [
              0.4444444444444444,
              "#bd3786"
             ],
             [
              0.5555555555555556,
              "#d8576b"
             ],
             [
              0.6666666666666666,
              "#ed7953"
             ],
             [
              0.7777777777777778,
              "#fb9f3a"
             ],
             [
              0.8888888888888888,
              "#fdca26"
             ],
             [
              1,
              "#f0f921"
             ]
            ],
            "type": "heatmap"
           }
          ],
          "histogram": [
           {
            "marker": {
             "pattern": {
              "fillmode": "overlay",
              "size": 10,
              "solidity": 0.2
             }
            },
            "type": "histogram"
           }
          ],
          "histogram2d": [
           {
            "colorbar": {
             "outlinewidth": 0,
             "ticks": ""
            },
            "colorscale": [
             [
              0,
              "#0d0887"
             ],
             [
              0.1111111111111111,
              "#46039f"
             ],
             [
              0.2222222222222222,
              "#7201a8"
             ],
             [
              0.3333333333333333,
              "#9c179e"
             ],
             [
              0.4444444444444444,
              "#bd3786"
             ],
             [
              0.5555555555555556,
              "#d8576b"
             ],
             [
              0.6666666666666666,
              "#ed7953"
             ],
             [
              0.7777777777777778,
              "#fb9f3a"
             ],
             [
              0.8888888888888888,
              "#fdca26"
             ],
             [
              1,
              "#f0f921"
             ]
            ],
            "type": "histogram2d"
           }
          ],
          "histogram2dcontour": [
           {
            "colorbar": {
             "outlinewidth": 0,
             "ticks": ""
            },
            "colorscale": [
             [
              0,
              "#0d0887"
             ],
             [
              0.1111111111111111,
              "#46039f"
             ],
             [
              0.2222222222222222,
              "#7201a8"
             ],
             [
              0.3333333333333333,
              "#9c179e"
             ],
             [
              0.4444444444444444,
              "#bd3786"
             ],
             [
              0.5555555555555556,
              "#d8576b"
             ],
             [
              0.6666666666666666,
              "#ed7953"
             ],
             [
              0.7777777777777778,
              "#fb9f3a"
             ],
             [
              0.8888888888888888,
              "#fdca26"
             ],
             [
              1,
              "#f0f921"
             ]
            ],
            "type": "histogram2dcontour"
           }
          ],
          "mesh3d": [
           {
            "colorbar": {
             "outlinewidth": 0,
             "ticks": ""
            },
            "type": "mesh3d"
           }
          ],
          "parcoords": [
           {
            "line": {
             "colorbar": {
              "outlinewidth": 0,
              "ticks": ""
             }
            },
            "type": "parcoords"
           }
          ],
          "pie": [
           {
            "automargin": true,
            "type": "pie"
           }
          ],
          "scatter": [
           {
            "fillpattern": {
             "fillmode": "overlay",
             "size": 10,
             "solidity": 0.2
            },
            "type": "scatter"
           }
          ],
          "scatter3d": [
           {
            "line": {
             "colorbar": {
              "outlinewidth": 0,
              "ticks": ""
             }
            },
            "marker": {
             "colorbar": {
              "outlinewidth": 0,
              "ticks": ""
             }
            },
            "type": "scatter3d"
           }
          ],
          "scattercarpet": [
           {
            "marker": {
             "colorbar": {
              "outlinewidth": 0,
              "ticks": ""
             }
            },
            "type": "scattercarpet"
           }
          ],
          "scattergeo": [
           {
            "marker": {
             "colorbar": {
              "outlinewidth": 0,
              "ticks": ""
             }
            },
            "type": "scattergeo"
           }
          ],
          "scattergl": [
           {
            "marker": {
             "colorbar": {
              "outlinewidth": 0,
              "ticks": ""
             }
            },
            "type": "scattergl"
           }
          ],
          "scattermap": [
           {
            "marker": {
             "colorbar": {
              "outlinewidth": 0,
              "ticks": ""
             }
            },
            "type": "scattermap"
           }
          ],
          "scattermapbox": [
           {
            "marker": {
             "colorbar": {
              "outlinewidth": 0,
              "ticks": ""
             }
            },
            "type": "scattermapbox"
           }
          ],
          "scatterpolar": [
           {
            "marker": {
             "colorbar": {
              "outlinewidth": 0,
              "ticks": ""
             }
            },
            "type": "scatterpolar"
           }
          ],
          "scatterpolargl": [
           {
            "marker": {
             "colorbar": {
              "outlinewidth": 0,
              "ticks": ""
             }
            },
            "type": "scatterpolargl"
           }
          ],
          "scatterternary": [
           {
            "marker": {
             "colorbar": {
              "outlinewidth": 0,
              "ticks": ""
             }
            },
            "type": "scatterternary"
           }
          ],
          "surface": [
           {
            "colorbar": {
             "outlinewidth": 0,
             "ticks": ""
            },
            "colorscale": [
             [
              0,
              "#0d0887"
             ],
             [
              0.1111111111111111,
              "#46039f"
             ],
             [
              0.2222222222222222,
              "#7201a8"
             ],
             [
              0.3333333333333333,
              "#9c179e"
             ],
             [
              0.4444444444444444,
              "#bd3786"
             ],
             [
              0.5555555555555556,
              "#d8576b"
             ],
             [
              0.6666666666666666,
              "#ed7953"
             ],
             [
              0.7777777777777778,
              "#fb9f3a"
             ],
             [
              0.8888888888888888,
              "#fdca26"
             ],
             [
              1,
              "#f0f921"
             ]
            ],
            "type": "surface"
           }
          ],
          "table": [
           {
            "cells": {
             "fill": {
              "color": "#EBF0F8"
             },
             "line": {
              "color": "white"
             }
            },
            "header": {
             "fill": {
              "color": "#C8D4E3"
             },
             "line": {
              "color": "white"
             }
            },
            "type": "table"
           }
          ]
         },
         "layout": {
          "annotationdefaults": {
           "arrowcolor": "#2a3f5f",
           "arrowhead": 0,
           "arrowwidth": 1
          },
          "autotypenumbers": "strict",
          "coloraxis": {
           "colorbar": {
            "outlinewidth": 0,
            "ticks": ""
           }
          },
          "colorscale": {
           "diverging": [
            [
             0,
             "#8e0152"
            ],
            [
             0.1,
             "#c51b7d"
            ],
            [
             0.2,
             "#de77ae"
            ],
            [
             0.3,
             "#f1b6da"
            ],
            [
             0.4,
             "#fde0ef"
            ],
            [
             0.5,
             "#f7f7f7"
            ],
            [
             0.6,
             "#e6f5d0"
            ],
            [
             0.7,
             "#b8e186"
            ],
            [
             0.8,
             "#7fbc41"
            ],
            [
             0.9,
             "#4d9221"
            ],
            [
             1,
             "#276419"
            ]
           ],
           "sequential": [
            [
             0,
             "#0d0887"
            ],
            [
             0.1111111111111111,
             "#46039f"
            ],
            [
             0.2222222222222222,
             "#7201a8"
            ],
            [
             0.3333333333333333,
             "#9c179e"
            ],
            [
             0.4444444444444444,
             "#bd3786"
            ],
            [
             0.5555555555555556,
             "#d8576b"
            ],
            [
             0.6666666666666666,
             "#ed7953"
            ],
            [
             0.7777777777777778,
             "#fb9f3a"
            ],
            [
             0.8888888888888888,
             "#fdca26"
            ],
            [
             1,
             "#f0f921"
            ]
           ],
           "sequentialminus": [
            [
             0,
             "#0d0887"
            ],
            [
             0.1111111111111111,
             "#46039f"
            ],
            [
             0.2222222222222222,
             "#7201a8"
            ],
            [
             0.3333333333333333,
             "#9c179e"
            ],
            [
             0.4444444444444444,
             "#bd3786"
            ],
            [
             0.5555555555555556,
             "#d8576b"
            ],
            [
             0.6666666666666666,
             "#ed7953"
            ],
            [
             0.7777777777777778,
             "#fb9f3a"
            ],
            [
             0.8888888888888888,
             "#fdca26"
            ],
            [
             1,
             "#f0f921"
            ]
           ]
          },
          "colorway": [
           "#636efa",
           "#EF553B",
           "#00cc96",
           "#ab63fa",
           "#FFA15A",
           "#19d3f3",
           "#FF6692",
           "#B6E880",
           "#FF97FF",
           "#FECB52"
          ],
          "font": {
           "color": "#2a3f5f"
          },
          "geo": {
           "bgcolor": "white",
           "lakecolor": "white",
           "landcolor": "#E5ECF6",
           "showlakes": true,
           "showland": true,
           "subunitcolor": "white"
          },
          "hoverlabel": {
           "align": "left"
          },
          "hovermode": "closest",
          "mapbox": {
           "style": "light"
          },
          "paper_bgcolor": "white",
          "plot_bgcolor": "#E5ECF6",
          "polar": {
           "angularaxis": {
            "gridcolor": "white",
            "linecolor": "white",
            "ticks": ""
           },
           "bgcolor": "#E5ECF6",
           "radialaxis": {
            "gridcolor": "white",
            "linecolor": "white",
            "ticks": ""
           }
          },
          "scene": {
           "xaxis": {
            "backgroundcolor": "#E5ECF6",
            "gridcolor": "white",
            "gridwidth": 2,
            "linecolor": "white",
            "showbackground": true,
            "ticks": "",
            "zerolinecolor": "white"
           },
           "yaxis": {
            "backgroundcolor": "#E5ECF6",
            "gridcolor": "white",
            "gridwidth": 2,
            "linecolor": "white",
            "showbackground": true,
            "ticks": "",
            "zerolinecolor": "white"
           },
           "zaxis": {
            "backgroundcolor": "#E5ECF6",
            "gridcolor": "white",
            "gridwidth": 2,
            "linecolor": "white",
            "showbackground": true,
            "ticks": "",
            "zerolinecolor": "white"
           }
          },
          "shapedefaults": {
           "line": {
            "color": "#2a3f5f"
           }
          },
          "ternary": {
           "aaxis": {
            "gridcolor": "white",
            "linecolor": "white",
            "ticks": ""
           },
           "baxis": {
            "gridcolor": "white",
            "linecolor": "white",
            "ticks": ""
           },
           "bgcolor": "#E5ECF6",
           "caxis": {
            "gridcolor": "white",
            "linecolor": "white",
            "ticks": ""
           }
          },
          "title": {
           "x": 0.05
          },
          "xaxis": {
           "automargin": true,
           "gridcolor": "white",
           "linecolor": "white",
           "ticks": "",
           "title": {
            "standoff": 15
           },
           "zerolinecolor": "white",
           "zerolinewidth": 2
          },
          "yaxis": {
           "automargin": true,
           "gridcolor": "white",
           "linecolor": "white",
           "ticks": "",
           "title": {
            "standoff": 15
           },
           "zerolinecolor": "white",
           "zerolinewidth": 2
          }
         }
        },
        "title": {
         "text": "Haken 18, Trajektorien-Ansatz 4"
        }
       }
      }
     },
     "metadata": {},
     "output_type": "display_data"
    }
   ],
   "source": [
    "visualize_rectangles_html(\n",
    "    rectangles = rectangles_1,\n",
    "    secondary_rectangles = rectangles_optim,\n",
    "    secondary_legend_title = 'optimale Trajektorie',\n",
    "    connect_points = (trajectory_1[1][0], trajectory_1[-1][0]),\n",
    "    hook_num = hook_num,\n",
    "    trajectory_process = 1,\n",
    "    html_filename = '/home/mo/Thesis/Evaluation/Trajektorientests/traj1.html'\n",
    "    )\n",
    "\n",
    "visualize_rectangles_html(\n",
    "    rectangles = rectangles_2,\n",
    "    secondary_rectangles = rectangles_optim,\n",
    "    secondary_legend_title = 'optimale Trajektorie',\n",
    "    connect_points = (trajectory_1[1][0], trajectory_1[-1][0]),\n",
    "    hook_num = hook_num,\n",
    "    trajectory_process = 2,\n",
    "    html_filename = '/home/mo/Thesis/Evaluation/Trajektorientests/traj2.html'\n",
    "    )\n",
    "\n",
    "visualize_rectangles_html(\n",
    "    rectangles = rectangles_3,\n",
    "    secondary_rectangles = rectangles_optim,\n",
    "    secondary_legend_title = 'optimale Trajektorie',\n",
    "    connect_points = (trajectory_1[1][0], trajectory_1[-1][0]),\n",
    "    hook_num = hook_num,\n",
    "    trajectory_process = 3,\n",
    "    html_filename = '/home/mo/Thesis/Evaluation/Trajektorientests/traj3.html'\n",
    "    )\n",
    "\n",
    "visualize_rectangles_html(\n",
    "    rectangles = rectangles_4,\n",
    "    secondary_rectangles = rectangles_optim,\n",
    "    secondary_legend_title = 'optimale Trajektorie',\n",
    "    connect_points = (trajectory_1[1][0], trajectory_1[-1][0]),\n",
    "    hook_num = hook_num,\n",
    "    trajectory_process = 4,\n",
    "    html_filename = '/home/mo/Thesis/Evaluation/Trajektorientests/traj4.html'\n",
    "    )"
   ]
  },
  {
   "cell_type": "code",
   "execution_count": null,
   "id": "5bd2d90f",
   "metadata": {},
   "outputs": [],
   "source": []
  }
 ],
 "metadata": {
  "kernelspec": {
   "display_name": "Python 3",
   "language": "python",
   "name": "python3"
  },
  "language_info": {
   "codemirror_mode": {
    "name": "ipython",
    "version": 3
   },
   "file_extension": ".py",
   "mimetype": "text/x-python",
   "name": "python",
   "nbconvert_exporter": "python",
   "pygments_lexer": "ipython3",
   "version": "3.8.10"
  }
 },
 "nbformat": 4,
 "nbformat_minor": 5
}
