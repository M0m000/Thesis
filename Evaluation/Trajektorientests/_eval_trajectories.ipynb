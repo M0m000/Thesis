{
 "cells": [
  {
   "cell_type": "code",
   "execution_count": 90,
   "id": "c56fbbd2",
   "metadata": {},
   "outputs": [],
   "source": [
    "import csv\n",
    "import numpy as np\n",
    "from scipy.spatial.transform import Rotation as R\n",
    "import matplotlib.pyplot as plt\n",
    "from mpl_toolkits.mplot3d.art3d import Poly3DCollection\n",
    "import matplotlib.cm as cm"
   ]
  },
  {
   "cell_type": "code",
   "execution_count": 91,
   "id": "ce8ad287",
   "metadata": {},
   "outputs": [],
   "source": [
    "def load_csv_to_trajectory(filepath):\n",
    "    \"\"\"Lädt die CSV und stellt Trajektorie-Liste wieder her\"\"\"\n",
    "    trajectory = []\n",
    "    with open(filepath, mode='r', newline='') as file:\n",
    "        reader = csv.reader(file)\n",
    "        next(reader)  # Überspringe Kopfzeile\n",
    "\n",
    "        for row in reader:\n",
    "            numbers = list(map(float, row))\n",
    "            trans = numbers[:3]\n",
    "            rot = numbers[3:]\n",
    "            trajectory.append((trans, rot))\n",
    "    return trajectory"
   ]
  },
  {
   "cell_type": "code",
   "execution_count": 92,
   "id": "fa040c5d",
   "metadata": {},
   "outputs": [],
   "source": [
    "hook_num = 6"
   ]
  },
  {
   "cell_type": "code",
   "execution_count": 93,
   "id": "6ae1d02a",
   "metadata": {},
   "outputs": [],
   "source": [
    "traj_optim_path = traj_1_path = '/home/mo/Thesis/Evaluation/Trajektorientests/CSV/' + str(hook_num) + '/trajectory_0.csv'\n",
    "traj_1_path = '/home/mo/Thesis/Evaluation/Trajektorientests/CSV/' + str(hook_num) + '/trajectory_1.csv'\n",
    "traj_2_path = '/home/mo/Thesis/Evaluation/Trajektorientests/CSV/' + str(hook_num) + '/trajectory_2.csv'\n",
    "traj_3_path = '/home/mo/Thesis/Evaluation/Trajektorientests/CSV/' + str(hook_num) + '/trajectory_3.csv'\n",
    "traj_4_path = '/home/mo/Thesis/Evaluation/Trajektorientests/CSV/' + str(hook_num) + '/trajectory_4.csv'"
   ]
  },
  {
   "cell_type": "code",
   "execution_count": 94,
   "id": "aad60faa",
   "metadata": {},
   "outputs": [],
   "source": [
    "trajectory_optim = load_csv_to_trajectory(traj_optim_path)\n",
    "trajectory_1 = load_csv_to_trajectory(traj_1_path)\n",
    "trajectory_2 = load_csv_to_trajectory(traj_2_path)\n",
    "trajectory_3 = load_csv_to_trajectory(traj_3_path)\n",
    "trajectory_4 = load_csv_to_trajectory(traj_4_path)"
   ]
  },
  {
   "cell_type": "code",
   "execution_count": 95,
   "id": "edfb46e9",
   "metadata": {},
   "outputs": [],
   "source": [
    "def compute_rectangle_corners(trajectory, width=7, height=12):\n",
    "    \"\"\"\n",
    "    Berechnet die Rechteck-Eckpunkte (4 Stück) für jeden Trajektorienpunkt.\n",
    "\n",
    "    :param trajectory: Liste von ([x, y, z], [roll, pitch, yaw]) Einträgen\n",
    "    :param width: Breite des Rechtecks (in X-Richtung)\n",
    "    :param height: Höhe des Rechtecks (in Y-Richtung)\n",
    "    :return: Liste von Rechtecken, jedes als Liste von 4 Eckpunkten (jeweils [x, y, z])\n",
    "    \"\"\"\n",
    "    rectangles = []\n",
    "\n",
    "    # Rechteck im lokalen TCP-Koordinatensystem (XY-Ebene, Zentrum im Ursprung)\n",
    "    half_w = width / 2\n",
    "    half_h = height / 2\n",
    "    local_corners = np.array([\n",
    "        [-half_w, 0, -half_h],\n",
    "        [ half_w, 0, -half_h],\n",
    "        [ half_w, 0, half_h],\n",
    "        [-half_w, 0, half_h]\n",
    "    ])\n",
    "\n",
    "    for trans, rpy in trajectory:\n",
    "        # RPY in Radiant, falls nicht schon so\n",
    "        rot = R.from_euler('xyz', rpy, degrees=True)\n",
    "        rotated_corners = rot.apply(local_corners)\n",
    "        translated_corners = rotated_corners + np.array(trans)\n",
    "        rectangles.append(translated_corners.tolist())\n",
    "    return rectangles"
   ]
  },
  {
   "cell_type": "code",
   "execution_count": 96,
   "id": "05d04c48",
   "metadata": {},
   "outputs": [],
   "source": [
    "rectangles_optim = compute_rectangle_corners(trajectory_optim)\n",
    "rectangles_1 = compute_rectangle_corners(trajectory_1)\n",
    "rectangles_2 = compute_rectangle_corners(trajectory_2)\n",
    "rectangles_3 = compute_rectangle_corners(trajectory_3)\n",
    "rectangles_4 = compute_rectangle_corners(trajectory_4)"
   ]
  },
  {
   "cell_type": "code",
   "execution_count": 97,
   "id": "f78ad7a3",
   "metadata": {},
   "outputs": [],
   "source": [
    "def visualize_rectangles(rectangles, figsize=(6, 6), connect_points=None, \n",
    "                         secondary_rectangles=None, secondary_legend_title=None,\n",
    "                         hook_num = 0, trajectory_process = 1):\n",
    "    \"\"\"\n",
    "    Visualisiert Rechtecke + Trajektorie im 3D-Raum mit Legende und Bezeichnungen der Trajektorienpunkte.\n",
    "    \n",
    "    Zusätzlich kann ein zweiter Satz Rechtecke (grau & transparent) dargestellt werden – inkl. Mittelpunktslinie.\n",
    "\n",
    "    :param rectangles: Liste von Rechtecken (jeweils 4 Punkte [x, y, z])\n",
    "    :param figsize: Größe der Plotfläche (Breite, Höhe)\n",
    "    :param connect_points: Optionales Tupel mit zwei Punkten [x, y, z], die verbunden werden sollen\n",
    "    :param secondary_rectangles: Optionaler zweiter Satz Rechtecke (werden grau dargestellt)\n",
    "    :param secondary_legend_title: Optionaler Legenden-Eintrag für die grauen Rechtecke\n",
    "    \"\"\"\n",
    "    %matplotlib qt\n",
    "\n",
    "    fig = plt.figure(figsize=figsize)\n",
    "    ax = fig.add_subplot(111, projection='3d')\n",
    "    fig.suptitle(f\"Einfädelung Trajektorie Spitze -> Senke (TCP in WORLD-Frame)\", fontsize=14, y=0.98)\n",
    "\n",
    "    centers = []\n",
    "    cmap = cm.get_cmap('tab20')\n",
    "    legend_handles = []\n",
    "\n",
    "    # Berechnete Trajektorie (farbig)\n",
    "    for i, rect in enumerate(rectangles):\n",
    "        color = cmap(i / len(rectangles))\n",
    "        poly = Poly3DCollection([rect], facecolors=color, alpha=0.2, edgecolors=color)\n",
    "        ax.add_collection3d(poly)\n",
    "\n",
    "        if i == 0:\n",
    "            label = 'Pre-Position'\n",
    "        elif i == 1:\n",
    "            label = 'Spitze'\n",
    "        elif i == len(rectangles) - 1:\n",
    "            label = 'Loslassen'\n",
    "        else:\n",
    "            label = str(i + 1)\n",
    "\n",
    "        legend_handles.append(plt.Line2D([0], [0], marker='o', color='w', label=label,\n",
    "                                         markersize=10, markerfacecolor=color))\n",
    "\n",
    "        center = np.mean(np.array(rect), axis=0)\n",
    "        centers.append(center)\n",
    "        ax.scatter(*center, color='red', s=30)\n",
    "        ax.text(center[0]-5, center[1]-5, center[2], f\"P{i}\", color=color, alpha = 0.8, fontsize=12)\n",
    "\n",
    "    # Linie durch die berechneten Mittelpunkte\n",
    "    centers = np.array(centers)\n",
    "    ax.plot(centers[:, 0], centers[:, 1], centers[:, 2], color='black', linewidth=2)\n",
    "\n",
    "    # Beschriftung Hauptlinie\n",
    "    if len(centers) > 0:\n",
    "        ax.text(*centers[0], 'Pre-Position', color='black', fontsize=10)\n",
    "    if len(centers) > 2:\n",
    "        ax.text(*centers[-1], 'Loslassen', color='black', fontsize=10)\n",
    "\n",
    "    # Optimal-Trajektorie (grün)\n",
    "    if secondary_rectangles is not None:\n",
    "        secondary_centers = []\n",
    "        for rect in secondary_rectangles:\n",
    "            poly = Poly3DCollection([rect], facecolors='green', alpha=0.1, edgecolors='green')\n",
    "            ax.add_collection3d(poly)\n",
    "\n",
    "            center = np.mean(np.array(rect), axis=0)\n",
    "            secondary_centers.append(center)\n",
    "            ax.scatter(*center, color='green', s=20)\n",
    "\n",
    "        # Linie durch grüne Mittelpunkte\n",
    "        secondary_centers = np.array(secondary_centers)\n",
    "        ax.plot(secondary_centers[:, 0], secondary_centers[:, 1], secondary_centers[:, 2],\n",
    "                color='green', linewidth=1, linestyle='-')\n",
    "\n",
    "        # Legendenhandle für Optimal-Trajektorie\n",
    "        if secondary_legend_title:\n",
    "            legend_handles.append(plt.Line2D([0], [0], marker='o', color='w', label=secondary_legend_title,\n",
    "                                             markersize=10, markerfacecolor='green'))\n",
    "\n",
    "    # Einzeichnen von Spitze und Senke inkl. graue Verbindungslinie\n",
    "    if connect_points is not None and len(connect_points) == 2:\n",
    "        p1, p2 = np.array(connect_points[0]), np.array(connect_points[1])\n",
    "        ax.plot([p1[0], p2[0]], [p1[1], p2[1]], [p1[2], p2[2]],\n",
    "                color='gray', linestyle='dashed', linewidth=2)\n",
    "        ax.scatter(*p1, 'o', color='magenta', linewidth=6)\n",
    "        ax.scatter(*p2, 'o', color='magenta', linewidth=6)\n",
    "        ax.text(*p1, 'Spitze', color='magenta', fontsize=12, ha='center')\n",
    "        ax.text(*p2, 'Senke', color='magenta', fontsize=12, ha='center')\n",
    "\n",
    "    # Achseneinstellungen\n",
    "    ax.set_xlabel('X')\n",
    "    ax.set_ylabel('Y')\n",
    "    ax.set_zlabel('Z')\n",
    "    ax.set_title(f\"Haken {hook_num}, Trajektorien-Ansatz {trajectory_process}\", fontsize = 10)\n",
    "\n",
    "    all_points = rectangles + (secondary_rectangles if secondary_rectangles else [])\n",
    "    all_points = np.vstack(all_points)\n",
    "    mid = np.mean(all_points, axis=0)\n",
    "    max_range = np.ptp(all_points, axis=0).max() / 2\n",
    "    for i, axis in enumerate([ax.set_xlim, ax.set_ylim, ax.set_zlim]):\n",
    "        axis(mid[i] - max_range, mid[i] + max_range)\n",
    "\n",
    "    ax.set_box_aspect([1, 1, 1])\n",
    "    ax.legend(handles=legend_handles, title=\"Trajektorien-Punkte\", loc='upper left')\n",
    "    plt.tight_layout(pad=0.5, w_pad=0.5, h_pad=0.5)\n",
    "    plt.show()"
   ]
  },
  {
   "cell_type": "code",
   "execution_count": 42,
   "id": "5a944d76",
   "metadata": {},
   "outputs": [
    {
     "name": "stderr",
     "output_type": "stream",
     "text": [
      "/tmp/ipykernel_5205/3194331675.py:22: MatplotlibDeprecationWarning:\n",
      "\n",
      "The get_cmap function was deprecated in Matplotlib 3.7 and will be removed two minor releases later. Use ``matplotlib.colormaps[name]`` or ``matplotlib.colormaps.get_cmap(obj)`` instead.\n",
      "\n"
     ]
    }
   ],
   "source": [
    "visualize_rectangles(rectangles = rectangles_1,\n",
    "                     secondary_rectangles = rectangles_optim,\n",
    "                     secondary_legend_title = 'optimale Trajektorie',\n",
    "                     connect_points = (trajectory_1[1][0], trajectory_1[-1][0]),\n",
    "                     hook_num = hook_num,\n",
    "                     trajectory_process = 1)\n",
    "\n",
    "visualize_rectangles(rectangles = rectangles_2,\n",
    "                     secondary_rectangles = rectangles_optim,\n",
    "                     secondary_legend_title = 'optimale Trajektorie',\n",
    "                     connect_points = (trajectory_1[1][0], trajectory_1[-1][0]),\n",
    "                     hook_num = hook_num,\n",
    "                     trajectory_process = 2)\n",
    "\n",
    "visualize_rectangles(rectangles = rectangles_3,\n",
    "                     secondary_rectangles = rectangles_optim,\n",
    "                     secondary_legend_title = 'optimale Trajektorie',\n",
    "                     connect_points = (trajectory_1[1][0], trajectory_1[-1][0]),\n",
    "                     hook_num = hook_num,\n",
    "                     trajectory_process = 3)\n",
    "\n",
    "visualize_rectangles(rectangles = rectangles_4,\n",
    "                     secondary_rectangles = rectangles_optim,\n",
    "                     secondary_legend_title = 'optimale Trajektorie',\n",
    "                     connect_points = (trajectory_1[1][0], trajectory_1[-1][0]),\n",
    "                     hook_num = hook_num,\n",
    "                     trajectory_process = 4)"
   ]
  },
  {
   "cell_type": "code",
   "execution_count": 98,
   "id": "f0769d9e",
   "metadata": {},
   "outputs": [],
   "source": [
    "import plotly.graph_objects as go\n",
    "import numpy as np\n",
    "import matplotlib.pyplot as plt\n",
    "import matplotlib.cm as cm"
   ]
  },
  {
   "cell_type": "code",
   "execution_count": 99,
   "id": "0653e612",
   "metadata": {},
   "outputs": [],
   "source": [
    "def visualize_rectangles_html(rectangles, figsize=(16, 9), connect_points=None, \n",
    "                              secondary_rectangles=None, secondary_legend_title=None,\n",
    "                              hook_num=0, trajectory_process=1, html_filename=\"/home/mo/Thesis/Evaluation/Trajektorientests/CSV/plot_interaktiv.html\"):\n",
    "    \"\"\"\n",
    "    Visualisiert Rechtecke und Trajektorien im 3D-Raum als interaktive HTML-Datei.\n",
    "    \n",
    "    :param rectangles: Liste von Rechtecken (jeweils 4 Punkte [x, y, z])\n",
    "    :param figsize: Größe der Plotfläche (Breite, Höhe)\n",
    "    :param connect_points: Optionales Tupel mit zwei Punkten [x, y, z], die verbunden werden sollen\n",
    "    :param secondary_rectangles: Optionaler zweiter Satz Rechtecke (werden grau dargestellt)\n",
    "    :param secondary_legend_title: Optionaler Legenden-Eintrag für die grauen Rechtecke\n",
    "    :param html_filename: Der Name der HTML-Datei, die erstellt wird\n",
    "    \"\"\"\n",
    "    fig = go.Figure()\n",
    "\n",
    "    # Berechnete Trajektorie (farbig)\n",
    "    cmap = plt.cm.get_cmap('tab20')\n",
    "    centers = []\n",
    "\n",
    "    for i, rect in enumerate(rectangles):\n",
    "        # Verwende rgba-String für die Farbe (anstatt des RGBA-Tupels)\n",
    "        color = f\"rgba({int(cmap(i / len(rectangles))[0] * 255)}, \" \\\n",
    "                f\"{int(cmap(i / len(rectangles))[1] * 255)}, \" \\\n",
    "                f\"{int(cmap(i / len(rectangles))[2] * 255)}, 0.8)\"\n",
    "        x, y, z = zip(*rect)\n",
    "        fig.add_trace(go.Mesh3d(x=x, y=y, z=z, color=color, opacity=0.8, \n",
    "                               name=f'P{i+1}'))\n",
    "\n",
    "        center = np.mean(np.array(rect), axis=0)\n",
    "        centers.append(center)\n",
    "        \n",
    "        # Text für \"P0\", \"P1\", etc.\n",
    "        if i == 0:\n",
    "            text_label = ''\n",
    "            # text_label = 'Pre-Position'\n",
    "        elif i == 1:\n",
    "            text_label = ''\n",
    "            # text_label = 'Spitze'\n",
    "        elif i == len(rectangles) - 1:\n",
    "            text_label = ''\n",
    "            # text_label = 'Loslassen'\n",
    "        else:\n",
    "            text_label = f'P{i}'  # Standardtext für den Punkt\n",
    "        \n",
    "        # Füge den Text an den Punkten hinzu (mit entsprechender Position)\n",
    "        fig.add_trace(go.Scatter3d(x=[center[0]], y=[center[1]], z=[center[2]], \n",
    "                                   mode='markers+text', marker=dict(size=3, color='red'),\n",
    "                                   text=text_label, textposition=\"top center\", textfont=dict(size=12), showlegend=False))\n",
    "\n",
    "        # Hinzufügen der Umrandung der Rechtecke mit einer Linie\n",
    "        for j in range(4):\n",
    "            x0, y0, z0 = rect[j]\n",
    "            x1, y1, z1 = rect[(j + 1) % 4]  # Nächster Punkt im Rechteck\n",
    "            fig.add_trace(go.Scatter3d(x=[x0, x1], y=[y0, y1], z=[z0, z1], \n",
    "                                       mode='lines', \n",
    "                                       line=dict(color=color, width=4),  # Keine opacity hier\n",
    "                                       showlegend=False))\n",
    "\n",
    "    # Linie durch die berechneten Mittelpunkte\n",
    "    centers = np.array(centers)\n",
    "    fig.add_trace(go.Scatter3d(x=centers[:, 0], y=centers[:, 1], z=centers[:, 2],\n",
    "                               mode='lines', line=dict(color='black', width=2), name='Berechnete Hakenlinie'))\n",
    "\n",
    "    # Beschriftung der ersten und letzten Punkte\n",
    "    if len(centers) > 0:\n",
    "        fig.add_trace(go.Scatter3d(x=[centers[0, 0]], y=[centers[0, 1]], z=[centers[0, 2]],\n",
    "                                   mode='text', text=['Pre-Position'], textposition=\"top center\", textfont=dict(size=10), showlegend=False))\n",
    "    if len(centers) > 2:\n",
    "        fig.add_trace(go.Scatter3d(x=[centers[-1, 0]], y=[centers[-1, 1]], z=[centers[-1, 2]],\n",
    "                                   mode='text', text=['Loslassen'], textposition=\"top center\", textfont=dict(size=10), showlegend=False))\n",
    "\n",
    "    # Optimal-Trajektorie (grün) – Zweite Rechtecke\n",
    "    if secondary_rectangles:\n",
    "        for rect in secondary_rectangles:\n",
    "            x, y, z = zip(*rect)\n",
    "            fig.add_trace(go.Mesh3d(x=x, y=y, z=z, color='rgba(0,255,0,0.2)', opacity=0.8, \n",
    "                                   name=secondary_legend_title or 'Optimale Trajektorie'))\n",
    "        \n",
    "            # Hinzufügen der Umrandung der Rechtecke mit einer Linie\n",
    "            for j in range(4):\n",
    "                x0, y0, z0 = rect[j]\n",
    "                x1, y1, z1 = rect[(j + 1) % 4]  # Nächster Punkt im Rechteck\n",
    "                fig.add_trace(go.Scatter3d(x=[x0, x1], y=[y0, y1], z=[z0, z1], \n",
    "                                           mode='lines', \n",
    "                                           line=dict(color='rgba(0,255,0,0.2)', width=3),  # Keine opacity hier\n",
    "                                           showlegend=False))\n",
    "            \n",
    "            # Hinzufügen eines roten Punktes in der Mitte des Rechtecks\n",
    "            center = np.mean(np.array(rect), axis=0)\n",
    "            fig.add_trace(go.Scatter3d(x=[center[0]], y=[center[1]], z=[center[2]], \n",
    "                                       mode='markers', marker=dict(size=4, color='green'), \n",
    "                                       name=f'Mitte P{i+1}', showlegend=False))\n",
    "        \n",
    "        # Mittelpunkte der sekundären Rechtecke sammeln\n",
    "        secondary_centers = [np.mean(np.array(rect), axis=0) for rect in secondary_rectangles]\n",
    "        secondary_centers = np.array(secondary_centers)\n",
    "\n",
    "        # Linie durch die Mittelpunkte zeichnen\n",
    "        fig.add_trace(go.Scatter3d(\n",
    "            x=secondary_centers[:, 0], y=secondary_centers[:, 1], z=secondary_centers[:, 2],\n",
    "            mode='lines',\n",
    "            line=dict(color='green', width=2),\n",
    "            name='Optimale Hakenlinie'\n",
    "        ))\n",
    "    \n",
    "    # Einzeichnen von Spitze und Senke inkl. graue Verbindungslinie\n",
    "    if connect_points:\n",
    "        p1, p2 = np.array(connect_points[0]), np.array(connect_points[1])\n",
    "        fig.add_trace(go.Scatter3d(x=[p1[0], p2[0]], y=[p1[1], p2[1]], z=[p1[2], p2[2]], \n",
    "                                   mode='lines', line=dict(color='gray', dash='dash'), name='Direkte Gerade Spitze -> Senke'))\n",
    "        fig.add_trace(go.Scatter3d(x=[p1[0]], y=[p1[1]], z=[p1[2]], mode='markers', \n",
    "                                   marker=dict(size=8, color='magenta'), name='Spitze'))\n",
    "        fig.add_trace(go.Scatter3d(x=[p2[0]], y=[p2[1]], z=[p2[2]], mode='markers', \n",
    "                                   marker=dict(size=8, color='magenta'), name='Senke'))\n",
    "        \n",
    "        # Hinzufügen von Text \"Spitze\" und \"Senke\"\n",
    "        fig.add_trace(go.Scatter3d(x=[p1[0]], y=[p1[1]], z=[p1[2]], mode='text', \n",
    "                                   text=['Spitze'], textposition=\"top center\", textfont=dict(size=10), showlegend=False))\n",
    "        fig.add_trace(go.Scatter3d(x=[p2[0]], y=[p2[1]], z=[p2[2]], mode='text', \n",
    "                                   text=['Senke'], textposition=\"top center\", textfont=dict(size=10), showlegend=False))\n",
    "\n",
    "    # Achsen und Layout\n",
    "    fig.update_layout(scene=dict(\n",
    "                        xaxis_title='X',\n",
    "                        yaxis_title='Y',\n",
    "                        zaxis_title='Z',\n",
    "                        aspectmode='cube'),\n",
    "                      title=f'Haken {hook_num}, Trajektorien-Ansatz {trajectory_process}',\n",
    "                      legend=dict(title=\"Legende\"))\n",
    "    \n",
    "    # HTML exportieren\n",
    "    fig.write_html(html_filename)\n",
    "    print(f\"HTML-Datei '{html_filename}' erfolgreich erstellt!\")\n",
    "    fig.show()"
   ]
  },
  {
   "cell_type": "code",
   "execution_count": 100,
   "id": "2e400931",
   "metadata": {},
   "outputs": [
    {
     "name": "stdout",
     "output_type": "stream",
     "text": [
      "HTML-Datei '/home/mo/Thesis/Evaluation/Trajektorientests/CSV/traj1.html' erfolgreich erstellt!\n"
     ]
    },
    {
     "name": "stderr",
     "output_type": "stream",
     "text": [
      "/tmp/ipykernel_5205/2458576168.py:17: MatplotlibDeprecationWarning:\n",
      "\n",
      "The get_cmap function was deprecated in Matplotlib 3.7 and will be removed two minor releases later. Use ``matplotlib.colormaps[name]`` or ``matplotlib.colormaps.get_cmap(obj)`` instead.\n",
      "\n"
     ]
    },
    {
     "data": {
      "application/vnd.plotly.v1+json": {
       "config": {
        "plotlyServerURL": "https://plot.ly"
       },
       "data": [
        {
         "color": "rgba(31, 119, 180, 0.8)",
         "name": "P1",
         "opacity": 0.8,
         "type": "mesh3d",
         "x": [
          -312.15345189113026,
          -305.815548348261,
          -304.06001625414814,
          -310.3979197970174
         ],
         "y": [
          920.838075025095,
          921.3036063198257,
          931.8429610469719,
          931.3774297522413
         ],
         "z": [
          737.9004332207729,
          734.9654273783746,
          740.4280374689739,
          743.3630433113723
         ]
        },
        {
         "marker": {
          "color": "red",
          "size": 3
         },
         "mode": "markers+text",
         "showlegend": false,
         "text": "",
         "textfont": {
          "size": 12
         },
         "textposition": "top center",
         "type": "scatter3d",
         "x": [
          -308.10673407263926
         ],
         "y": [
          926.3405180360335
         ],
         "z": [
          739.1642353448734
         ]
        },
        {
         "line": {
          "color": "rgba(31, 119, 180, 0.8)",
          "width": 4
         },
         "mode": "lines",
         "showlegend": false,
         "type": "scatter3d",
         "x": [
          -312.15345189113026,
          -305.815548348261
         ],
         "y": [
          920.838075025095,
          921.3036063198257
         ],
         "z": [
          737.9004332207729,
          734.9654273783746
         ]
        },
        {
         "line": {
          "color": "rgba(31, 119, 180, 0.8)",
          "width": 4
         },
         "mode": "lines",
         "showlegend": false,
         "type": "scatter3d",
         "x": [
          -305.815548348261,
          -304.06001625414814
         ],
         "y": [
          921.3036063198257,
          931.8429610469719
         ],
         "z": [
          734.9654273783746,
          740.4280374689739
         ]
        },
        {
         "line": {
          "color": "rgba(31, 119, 180, 0.8)",
          "width": 4
         },
         "mode": "lines",
         "showlegend": false,
         "type": "scatter3d",
         "x": [
          -304.06001625414814,
          -310.3979197970174
         ],
         "y": [
          931.8429610469719,
          931.3774297522413
         ],
         "z": [
          740.4280374689739,
          743.3630433113723
         ]
        },
        {
         "line": {
          "color": "rgba(31, 119, 180, 0.8)",
          "width": 4
         },
         "mode": "lines",
         "showlegend": false,
         "type": "scatter3d",
         "x": [
          -310.3979197970174,
          -312.15345189113026
         ],
         "y": [
          931.3774297522413,
          920.838075025095
         ],
         "z": [
          743.3630433113723,
          737.9004332207729
         ]
        },
        {
         "color": "rgba(174, 199, 232, 0.8)",
         "name": "P2",
         "opacity": 0.8,
         "type": "mesh3d",
         "x": [
          -322.76291678735663,
          -318.82347356085484,
          -309.4795671250138,
          -313.41901035151557
         ],
         "y": [
          930.8421209762307,
          926.3581562291006,
          928.7423419623246,
          933.2263067094548
         ],
         "z": [
          733.0251935942046,
          729.3680297734736,
          736.5099532474222,
          740.1671170681532
         ]
        },
        {
         "marker": {
          "color": "red",
          "size": 3
         },
         "mode": "markers+text",
         "showlegend": false,
         "text": "",
         "textfont": {
          "size": 12
         },
         "textposition": "top center",
         "type": "scatter3d",
         "x": [
          -316.1212419561852
         ],
         "y": [
          929.7922314692776
         ],
         "z": [
          734.7675734208135
         ]
        },
        {
         "line": {
          "color": "rgba(174, 199, 232, 0.8)",
          "width": 4
         },
         "mode": "lines",
         "showlegend": false,
         "type": "scatter3d",
         "x": [
          -322.76291678735663,
          -318.82347356085484
         ],
         "y": [
          930.8421209762307,
          926.3581562291006
         ],
         "z": [
          733.0251935942046,
          729.3680297734736
         ]
        },
        {
         "line": {
          "color": "rgba(174, 199, 232, 0.8)",
          "width": 4
         },
         "mode": "lines",
         "showlegend": false,
         "type": "scatter3d",
         "x": [
          -318.82347356085484,
          -309.4795671250138
         ],
         "y": [
          926.3581562291006,
          928.7423419623246
         ],
         "z": [
          729.3680297734736,
          736.5099532474222
         ]
        },
        {
         "line": {
          "color": "rgba(174, 199, 232, 0.8)",
          "width": 4
         },
         "mode": "lines",
         "showlegend": false,
         "type": "scatter3d",
         "x": [
          -309.4795671250138,
          -313.41901035151557
         ],
         "y": [
          928.7423419623246,
          933.2263067094548
         ],
         "z": [
          736.5099532474222,
          740.1671170681532
         ]
        },
        {
         "line": {
          "color": "rgba(174, 199, 232, 0.8)",
          "width": 4
         },
         "mode": "lines",
         "showlegend": false,
         "type": "scatter3d",
         "x": [
          -313.41901035151557,
          -322.76291678735663
         ],
         "y": [
          933.2263067094548,
          930.8421209762307
         ],
         "z": [
          740.1671170681532,
          733.0251935942046
         ]
        },
        {
         "color": "rgba(255, 187, 120, 0.8)",
         "name": "P3",
         "opacity": 0.8,
         "type": "mesh3d",
         "x": [
          -323.2592917790037,
          -317.8610970188153,
          -310.23115755144676,
          -315.62935231163516
         ],
         "y": [
          930.090223814552,
          927.070170923631,
          933.7759368804616,
          936.7959897713826
         ],
         "z": [
          732.4736258834778,
          729.1966190377244,
          735.5854160024512,
          738.8624228482046
         ]
        },
        {
         "marker": {
          "color": "red",
          "size": 3
         },
         "mode": "markers+text",
         "showlegend": false,
         "text": "P2",
         "textfont": {
          "size": 12
         },
         "textposition": "top center",
         "type": "scatter3d",
         "x": [
          -316.74522466522524
         ],
         "y": [
          931.9330803475068
         ],
         "z": [
          734.0295209429645
         ]
        },
        {
         "line": {
          "color": "rgba(255, 187, 120, 0.8)",
          "width": 4
         },
         "mode": "lines",
         "showlegend": false,
         "type": "scatter3d",
         "x": [
          -323.2592917790037,
          -317.8610970188153
         ],
         "y": [
          930.090223814552,
          927.070170923631
         ],
         "z": [
          732.4736258834778,
          729.1966190377244
         ]
        },
        {
         "line": {
          "color": "rgba(255, 187, 120, 0.8)",
          "width": 4
         },
         "mode": "lines",
         "showlegend": false,
         "type": "scatter3d",
         "x": [
          -317.8610970188153,
          -310.23115755144676
         ],
         "y": [
          927.070170923631,
          933.7759368804616
         ],
         "z": [
          729.1966190377244,
          735.5854160024512
         ]
        },
        {
         "line": {
          "color": "rgba(255, 187, 120, 0.8)",
          "width": 4
         },
         "mode": "lines",
         "showlegend": false,
         "type": "scatter3d",
         "x": [
          -310.23115755144676,
          -315.62935231163516
         ],
         "y": [
          933.7759368804616,
          936.7959897713826
         ],
         "z": [
          735.5854160024512,
          738.8624228482046
         ]
        },
        {
         "line": {
          "color": "rgba(255, 187, 120, 0.8)",
          "width": 4
         },
         "mode": "lines",
         "showlegend": false,
         "type": "scatter3d",
         "x": [
          -315.62935231163516,
          -323.2592917790037
         ],
         "y": [
          936.7959897713826,
          930.090223814552
         ],
         "z": [
          738.8624228482046,
          732.4736258834778
         ]
        },
        {
         "color": "rgba(152, 223, 138, 0.8)",
         "name": "P4",
         "opacity": 0.8,
         "type": "mesh3d",
         "x": [
          -319.0209034017517,
          -313.024862815896,
          -315.99875662289327,
          -321.994797208749
         ],
         "y": [
          926.302725575294,
          928.8139342666461,
          939.8116674739618,
          937.3004587826097
         ],
         "z": [
          732.8505463982325,
          730.2541396116814,
          734.0232004927774,
          736.6196072793285
         ]
        },
        {
         "marker": {
          "color": "red",
          "size": 3
         },
         "mode": "markers+text",
         "showlegend": false,
         "text": "P3",
         "textfont": {
          "size": 12
         },
         "textposition": "top center",
         "type": "scatter3d",
         "x": [
          -317.5098300123225
         ],
         "y": [
          933.0571965246279
         ],
         "z": [
          733.436873445505
         ]
        },
        {
         "line": {
          "color": "rgba(152, 223, 138, 0.8)",
          "width": 4
         },
         "mode": "lines",
         "showlegend": false,
         "type": "scatter3d",
         "x": [
          -319.0209034017517,
          -313.024862815896
         ],
         "y": [
          926.302725575294,
          928.8139342666461
         ],
         "z": [
          732.8505463982325,
          730.2541396116814
         ]
        },
        {
         "line": {
          "color": "rgba(152, 223, 138, 0.8)",
          "width": 4
         },
         "mode": "lines",
         "showlegend": false,
         "type": "scatter3d",
         "x": [
          -313.024862815896,
          -315.99875662289327
         ],
         "y": [
          928.8139342666461,
          939.8116674739618
         ],
         "z": [
          730.2541396116814,
          734.0232004927774
         ]
        },
        {
         "line": {
          "color": "rgba(152, 223, 138, 0.8)",
          "width": 4
         },
         "mode": "lines",
         "showlegend": false,
         "type": "scatter3d",
         "x": [
          -315.99875662289327,
          -321.994797208749
         ],
         "y": [
          939.8116674739618,
          937.3004587826097
         ],
         "z": [
          734.0232004927774,
          736.6196072793285
         ]
        },
        {
         "line": {
          "color": "rgba(152, 223, 138, 0.8)",
          "width": 4
         },
         "mode": "lines",
         "showlegend": false,
         "type": "scatter3d",
         "x": [
          -321.994797208749,
          -319.0209034017517
         ],
         "y": [
          937.3004587826097,
          926.302725575294
         ],
         "z": [
          736.6196072793285,
          732.8505463982325
         ]
        },
        {
         "color": "rgba(255, 152, 150, 0.8)",
         "name": "P5",
         "opacity": 0.8,
         "type": "mesh3d",
         "x": [
          -319.8299163024413,
          -313.80254920654,
          -316.9927354224698,
          -323.0201025183711
         ],
         "y": [
          926.3546942332358,
          928.8680162273108,
          939.9260536784337,
          937.4127316843587
         ],
         "z": [
          732.3306409205345,
          729.8099151430359,
          733.2073435289262,
          735.7280693064248
         ]
        },
        {
         "marker": {
          "color": "red",
          "size": 3
         },
         "mode": "markers+text",
         "showlegend": false,
         "text": "P4",
         "textfont": {
          "size": 12
         },
         "textposition": "top center",
         "type": "scatter3d",
         "x": [
          -318.41132586245556
         ],
         "y": [
          933.1403739558348
         ],
         "z": [
          732.7689922247304
         ]
        },
        {
         "line": {
          "color": "rgba(255, 152, 150, 0.8)",
          "width": 4
         },
         "mode": "lines",
         "showlegend": false,
         "type": "scatter3d",
         "x": [
          -319.8299163024413,
          -313.80254920654
         ],
         "y": [
          926.3546942332358,
          928.8680162273108
         ],
         "z": [
          732.3306409205345,
          729.8099151430359
         ]
        },
        {
         "line": {
          "color": "rgba(255, 152, 150, 0.8)",
          "width": 4
         },
         "mode": "lines",
         "showlegend": false,
         "type": "scatter3d",
         "x": [
          -313.80254920654,
          -316.9927354224698
         ],
         "y": [
          928.8680162273108,
          939.9260536784337
         ],
         "z": [
          729.8099151430359,
          733.2073435289262
         ]
        },
        {
         "line": {
          "color": "rgba(255, 152, 150, 0.8)",
          "width": 4
         },
         "mode": "lines",
         "showlegend": false,
         "type": "scatter3d",
         "x": [
          -316.9927354224698,
          -323.0201025183711
         ],
         "y": [
          939.9260536784337,
          937.4127316843587
         ],
         "z": [
          733.2073435289262,
          735.7280693064248
         ]
        },
        {
         "line": {
          "color": "rgba(255, 152, 150, 0.8)",
          "width": 4
         },
         "mode": "lines",
         "showlegend": false,
         "type": "scatter3d",
         "x": [
          -323.0201025183711,
          -319.8299163024413
         ],
         "y": [
          937.4127316843587,
          926.3546942332358
         ],
         "z": [
          735.7280693064248,
          732.3306409205345
         ]
        },
        {
         "color": "rgba(197, 176, 213, 0.8)",
         "name": "P6",
         "opacity": 0.8,
         "type": "mesh3d",
         "x": [
          -320.7344456142054,
          -314.8391779800366,
          -317.89722670184545,
          -323.7924943360143
         ],
         "y": [
          926.4438502969987,
          929.1224815438094,
          939.9626152467439,
          937.2839839999332
         ],
         "z": [
          731.2844752582463,
          728.6253862854717,
          732.7654151884561,
          735.4245041612307
         ]
        },
        {
         "marker": {
          "color": "red",
          "size": 3
         },
         "mode": "markers+text",
         "showlegend": false,
         "text": "P5",
         "textfont": {
          "size": 12
         },
         "textposition": "top center",
         "type": "scatter3d",
         "x": [
          -319.31583615802543
         ],
         "y": [
          933.2032327718713
         ],
         "z": [
          732.0249452233512
         ]
        },
        {
         "line": {
          "color": "rgba(197, 176, 213, 0.8)",
          "width": 4
         },
         "mode": "lines",
         "showlegend": false,
         "type": "scatter3d",
         "x": [
          -320.7344456142054,
          -314.8391779800366
         ],
         "y": [
          926.4438502969987,
          929.1224815438094
         ],
         "z": [
          731.2844752582463,
          728.6253862854717
         ]
        },
        {
         "line": {
          "color": "rgba(197, 176, 213, 0.8)",
          "width": 4
         },
         "mode": "lines",
         "showlegend": false,
         "type": "scatter3d",
         "x": [
          -314.8391779800366,
          -317.89722670184545
         ],
         "y": [
          929.1224815438094,
          939.9626152467439
         ],
         "z": [
          728.6253862854717,
          732.7654151884561
         ]
        },
        {
         "line": {
          "color": "rgba(197, 176, 213, 0.8)",
          "width": 4
         },
         "mode": "lines",
         "showlegend": false,
         "type": "scatter3d",
         "x": [
          -317.89722670184545,
          -323.7924943360143
         ],
         "y": [
          939.9626152467439,
          937.2839839999332
         ],
         "z": [
          732.7654151884561,
          735.4245041612307
         ]
        },
        {
         "line": {
          "color": "rgba(197, 176, 213, 0.8)",
          "width": 4
         },
         "mode": "lines",
         "showlegend": false,
         "type": "scatter3d",
         "x": [
          -323.7924943360143,
          -320.7344456142054
         ],
         "y": [
          937.2839839999332,
          926.4438502969987
         ],
         "z": [
          735.4245041612307,
          731.2844752582463
         ]
        },
        {
         "color": "rgba(140, 86, 75, 0.8)",
         "name": "P7",
         "opacity": 0.8,
         "type": "mesh3d",
         "x": [
          -321.6590523811168,
          -315.68562586822685,
          -318.77404703357195,
          -324.7474735464619
         ],
         "y": [
          926.5153802582422,
          929.0834104623076,
          940.0554660241096,
          937.4874358200442
         ],
         "z": [
          730.8532029562411,
          728.2602516327273,
          732.0120047501616,
          734.6049560736755
         ]
        },
        {
         "marker": {
          "color": "red",
          "size": 3
         },
         "mode": "markers+text",
         "showlegend": false,
         "text": "P6",
         "textfont": {
          "size": 12
         },
         "textposition": "top center",
         "type": "scatter3d",
         "x": [
          -320.21654970734437
         ],
         "y": [
          933.2854231411759
         ],
         "z": [
          731.4326038532015
         ]
        },
        {
         "line": {
          "color": "rgba(140, 86, 75, 0.8)",
          "width": 4
         },
         "mode": "lines",
         "showlegend": false,
         "type": "scatter3d",
         "x": [
          -321.6590523811168,
          -315.68562586822685
         ],
         "y": [
          926.5153802582422,
          929.0834104623076
         ],
         "z": [
          730.8532029562411,
          728.2602516327273
         ]
        },
        {
         "line": {
          "color": "rgba(140, 86, 75, 0.8)",
          "width": 4
         },
         "mode": "lines",
         "showlegend": false,
         "type": "scatter3d",
         "x": [
          -315.68562586822685,
          -318.77404703357195
         ],
         "y": [
          929.0834104623076,
          940.0554660241096
         ],
         "z": [
          728.2602516327273,
          732.0120047501616
         ]
        },
        {
         "line": {
          "color": "rgba(140, 86, 75, 0.8)",
          "width": 4
         },
         "mode": "lines",
         "showlegend": false,
         "type": "scatter3d",
         "x": [
          -318.77404703357195,
          -324.7474735464619
         ],
         "y": [
          940.0554660241096,
          937.4874358200442
         ],
         "z": [
          732.0120047501616,
          734.6049560736755
         ]
        },
        {
         "line": {
          "color": "rgba(140, 86, 75, 0.8)",
          "width": 4
         },
         "mode": "lines",
         "showlegend": false,
         "type": "scatter3d",
         "x": [
          -324.7474735464619,
          -321.6590523811168
         ],
         "y": [
          937.4874358200442,
          926.5153802582422
         ],
         "z": [
          734.6049560736755,
          730.8532029562411
         ]
        },
        {
         "color": "rgba(227, 119, 194, 0.8)",
         "name": "P8",
         "opacity": 0.8,
         "type": "mesh3d",
         "x": [
          -322.58376315073116,
          -316.7475553103996,
          -319.65431899262654,
          -325.4905268329581
         ],
         "y": [
          926.6344223964047,
          929.3807758268681,
          940.0872893619749,
          937.3409359315115
         ],
         "z": [
          729.836530567641,
          727.1169311707748,
          731.6909111464921,
          734.4105105433583
         ]
        },
        {
         "marker": {
          "color": "red",
          "size": 3
         },
         "mode": "markers+text",
         "showlegend": false,
         "text": "P7",
         "textfont": {
          "size": 12
         },
         "textposition": "top center",
         "type": "scatter3d",
         "x": [
          -321.11904107167885
         ],
         "y": [
          933.3608558791898
         ],
         "z": [
          730.7637208570666
         ]
        },
        {
         "line": {
          "color": "rgba(227, 119, 194, 0.8)",
          "width": 4
         },
         "mode": "lines",
         "showlegend": false,
         "type": "scatter3d",
         "x": [
          -322.58376315073116,
          -316.7475553103996
         ],
         "y": [
          926.6344223964047,
          929.3807758268681
         ],
         "z": [
          729.836530567641,
          727.1169311707748
         ]
        },
        {
         "line": {
          "color": "rgba(227, 119, 194, 0.8)",
          "width": 4
         },
         "mode": "lines",
         "showlegend": false,
         "type": "scatter3d",
         "x": [
          -316.7475553103996,
          -319.65431899262654
         ],
         "y": [
          929.3807758268681,
          940.0872893619749
         ],
         "z": [
          727.1169311707748,
          731.6909111464921
         ]
        },
        {
         "line": {
          "color": "rgba(227, 119, 194, 0.8)",
          "width": 4
         },
         "mode": "lines",
         "showlegend": false,
         "type": "scatter3d",
         "x": [
          -319.65431899262654,
          -325.4905268329581
         ],
         "y": [
          940.0872893619749,
          937.3409359315115
         ],
         "z": [
          731.6909111464921,
          734.4105105433583
         ]
        },
        {
         "line": {
          "color": "rgba(227, 119, 194, 0.8)",
          "width": 4
         },
         "mode": "lines",
         "showlegend": false,
         "type": "scatter3d",
         "x": [
          -325.4905268329581,
          -322.58376315073116
         ],
         "y": [
          937.3409359315115,
          926.6344223964047
         ],
         "z": [
          734.4105105433583,
          729.836530567641
         ]
        },
        {
         "color": "rgba(127, 127, 127, 0.8)",
         "name": "P9",
         "opacity": 0.8,
         "type": "mesh3d",
         "x": [
          -325.8387165425276,
          -320.6056424767905,
          -318.19720628874524,
          -323.43028035448236
         ],
         "y": [
          935.8557246212491,
          939.7078936029726,
          931.0571698142015,
          927.205000832478
         ],
         "z": [
          724.9649186759599,
          727.5679419103465,
          735.52811860804,
          732.9250953736534
         ]
        },
        {
         "marker": {
          "color": "red",
          "size": 3
         },
         "mode": "markers+text",
         "showlegend": false,
         "text": "P8",
         "textfont": {
          "size": 12
         },
         "textposition": "top center",
         "type": "scatter3d",
         "x": [
          -322.0179614156364
         ],
         "y": [
          933.4564472177253
         ],
         "z": [
          730.246518642
         ]
        },
        {
         "line": {
          "color": "rgba(127, 127, 127, 0.8)",
          "width": 4
         },
         "mode": "lines",
         "showlegend": false,
         "type": "scatter3d",
         "x": [
          -325.8387165425276,
          -320.6056424767905
         ],
         "y": [
          935.8557246212491,
          939.7078936029726
         ],
         "z": [
          724.9649186759599,
          727.5679419103465
         ]
        },
        {
         "line": {
          "color": "rgba(127, 127, 127, 0.8)",
          "width": 4
         },
         "mode": "lines",
         "showlegend": false,
         "type": "scatter3d",
         "x": [
          -320.6056424767905,
          -318.19720628874524
         ],
         "y": [
          939.7078936029726,
          931.0571698142015
         ],
         "z": [
          727.5679419103465,
          735.52811860804
         ]
        },
        {
         "line": {
          "color": "rgba(127, 127, 127, 0.8)",
          "width": 4
         },
         "mode": "lines",
         "showlegend": false,
         "type": "scatter3d",
         "x": [
          -318.19720628874524,
          -323.43028035448236
         ],
         "y": [
          931.0571698142015,
          927.205000832478
         ],
         "z": [
          735.52811860804,
          732.9250953736534
         ]
        },
        {
         "line": {
          "color": "rgba(127, 127, 127, 0.8)",
          "width": 4
         },
         "mode": "lines",
         "showlegend": false,
         "type": "scatter3d",
         "x": [
          -323.43028035448236,
          -325.8387165425276
         ],
         "y": [
          927.205000832478,
          935.8557246212491
         ],
         "z": [
          732.9250953736534,
          724.9649186759599
         ]
        },
        {
         "color": "rgba(188, 189, 34, 0.8)",
         "name": "P10",
         "opacity": 0.8,
         "type": "mesh3d",
         "x": [
          -326.8660935795643,
          -321.6225482405706,
          -319.24834718636333,
          -324.491892525357
         ],
         "y": [
          935.9887372367587,
          939.8246012772462,
          931.1682590051523,
          927.3323949646648
         ],
         "z": [
          724.9815554939985,
          727.587582995928,
          735.5519353125046,
          732.9459078105751
         ]
        },
        {
         "marker": {
          "color": "red",
          "size": 3
         },
         "mode": "markers+text",
         "showlegend": false,
         "text": "P9",
         "textfont": {
          "size": 12
         },
         "textposition": "top center",
         "type": "scatter3d",
         "x": [
          -323.0572203829638
         ],
         "y": [
          933.5784981209555
         ],
         "z": [
          730.2667454032515
         ]
        },
        {
         "line": {
          "color": "rgba(188, 189, 34, 0.8)",
          "width": 4
         },
         "mode": "lines",
         "showlegend": false,
         "type": "scatter3d",
         "x": [
          -326.8660935795643,
          -321.6225482405706
         ],
         "y": [
          935.9887372367587,
          939.8246012772462
         ],
         "z": [
          724.9815554939985,
          727.587582995928
         ]
        },
        {
         "line": {
          "color": "rgba(188, 189, 34, 0.8)",
          "width": 4
         },
         "mode": "lines",
         "showlegend": false,
         "type": "scatter3d",
         "x": [
          -321.6225482405706,
          -319.24834718636333
         ],
         "y": [
          939.8246012772462,
          931.1682590051523
         ],
         "z": [
          727.587582995928,
          735.5519353125046
         ]
        },
        {
         "line": {
          "color": "rgba(188, 189, 34, 0.8)",
          "width": 4
         },
         "mode": "lines",
         "showlegend": false,
         "type": "scatter3d",
         "x": [
          -319.24834718636333,
          -324.491892525357
         ],
         "y": [
          931.1682590051523,
          927.3323949646648
         ],
         "z": [
          735.5519353125046,
          732.9459078105751
         ]
        },
        {
         "line": {
          "color": "rgba(188, 189, 34, 0.8)",
          "width": 4
         },
         "mode": "lines",
         "showlegend": false,
         "type": "scatter3d",
         "x": [
          -324.491892525357,
          -326.8660935795643
         ],
         "y": [
          927.3323949646648,
          935.9887372367587
         ],
         "z": [
          732.9459078105751,
          724.9815554939985
         ]
        },
        {
         "color": "rgba(23, 190, 207, 0.8)",
         "name": "P11",
         "opacity": 0.8,
         "type": "mesh3d",
         "x": [
          -327.74512554319267,
          -320.74512554319267,
          -320.74512554319267,
          -327.74512554319267
         ],
         "y": [
          933.7209497118496,
          933.7209497118496,
          933.7209497118496,
          933.7209497118496
         ],
         "z": [
          736.2895742435098,
          736.2895742435098,
          724.2895742435098,
          724.2895742435098
         ]
        },
        {
         "marker": {
          "color": "red",
          "size": 3
         },
         "mode": "markers+text",
         "showlegend": false,
         "text": "",
         "textfont": {
          "size": 12
         },
         "textposition": "top center",
         "type": "scatter3d",
         "x": [
          -324.24512554319267
         ],
         "y": [
          933.7209497118496
         ],
         "z": [
          730.2895742435098
         ]
        },
        {
         "line": {
          "color": "rgba(23, 190, 207, 0.8)",
          "width": 4
         },
         "mode": "lines",
         "showlegend": false,
         "type": "scatter3d",
         "x": [
          -327.74512554319267,
          -320.74512554319267
         ],
         "y": [
          933.7209497118496,
          933.7209497118496
         ],
         "z": [
          736.2895742435098,
          736.2895742435098
         ]
        },
        {
         "line": {
          "color": "rgba(23, 190, 207, 0.8)",
          "width": 4
         },
         "mode": "lines",
         "showlegend": false,
         "type": "scatter3d",
         "x": [
          -320.74512554319267,
          -320.74512554319267
         ],
         "y": [
          933.7209497118496,
          933.7209497118496
         ],
         "z": [
          736.2895742435098,
          724.2895742435098
         ]
        },
        {
         "line": {
          "color": "rgba(23, 190, 207, 0.8)",
          "width": 4
         },
         "mode": "lines",
         "showlegend": false,
         "type": "scatter3d",
         "x": [
          -320.74512554319267,
          -327.74512554319267
         ],
         "y": [
          933.7209497118496,
          933.7209497118496
         ],
         "z": [
          724.2895742435098,
          724.2895742435098
         ]
        },
        {
         "line": {
          "color": "rgba(23, 190, 207, 0.8)",
          "width": 4
         },
         "mode": "lines",
         "showlegend": false,
         "type": "scatter3d",
         "x": [
          -327.74512554319267,
          -327.74512554319267
         ],
         "y": [
          933.7209497118496,
          933.7209497118496
         ],
         "z": [
          724.2895742435098,
          736.2895742435098
         ]
        },
        {
         "line": {
          "color": "black",
          "width": 2
         },
         "mode": "lines",
         "name": "Berechnete Hakenlinie",
         "type": "scatter3d",
         "x": {
          "bdata": "rHXJLrVBc8B/y2eb8MFzwArVsnDsy3PAHNeDQyjYc8Duc23KlOZzwNEZN6oN9XPACnDT/HYDdMDdW5yX5xF0wPnL6JFJIHTA6JfrX+owdMDU9sII7EN0wA==",
          "dtype": "f8"
         },
         "y": {
          "bdata": "siOFYbnyjEBG23N9Vg6NQKhI1PJ2H41AxpVzI3UojUAqbGF8HymNQE3lgDigKY1A+obti0gqjUCEPWgI4yqNQNiDzM2mK41AaXKfw6AsjUCjU0iBxC2NQA==",
          "dtype": "f8"
         },
         "z": {
          "bdata": "odieWlAZh0BinYj9I/aGQKPkeXU88IZAekeBt37rhkDDQGXlJuaGQOEzexYz4IZA/kwC+XXbhkD+Qq4ZHNaGQPQJxN740YZAl/ppSyLShkAcDU0MUdKGQA==",
          "dtype": "f8"
         }
        },
        {
         "mode": "text",
         "showlegend": false,
         "text": [
          "Pre-Position"
         ],
         "textfont": {
          "size": 10
         },
         "textposition": "top center",
         "type": "scatter3d",
         "x": [
          -308.10673407263926
         ],
         "y": [
          926.3405180360335
         ],
         "z": [
          739.1642353448734
         ]
        },
        {
         "mode": "text",
         "showlegend": false,
         "text": [
          "Loslassen"
         ],
         "textfont": {
          "size": 10
         },
         "textposition": "top center",
         "type": "scatter3d",
         "x": [
          -324.24512554319267
         ],
         "y": [
          933.7209497118496
         ],
         "z": [
          730.2895742435098
         ]
        },
        {
         "color": "rgba(0,255,0,0.2)",
         "name": "optimale Trajektorie",
         "opacity": 0.8,
         "type": "mesh3d",
         "x": [
          -314.0807076717564,
          -310.68246827528543,
          -302.1327604670673,
          -305.5309998635383
         ],
         "y": [
          923.8704591078717,
          920.3903608818385,
          928.8105773436027,
          932.2906755696359
         ],
         "z": [
          741.705976356259,
          736.6720032393828,
          736.622494339869,
          741.6564674567453
         ]
        },
        {
         "line": {
          "color": "rgba(0,255,0,0.2)",
          "width": 3
         },
         "mode": "lines",
         "showlegend": false,
         "type": "scatter3d",
         "x": [
          -314.0807076717564,
          -310.68246827528543
         ],
         "y": [
          923.8704591078717,
          920.3903608818385
         ],
         "z": [
          741.705976356259,
          736.6720032393828
         ]
        },
        {
         "line": {
          "color": "rgba(0,255,0,0.2)",
          "width": 3
         },
         "mode": "lines",
         "showlegend": false,
         "type": "scatter3d",
         "x": [
          -310.68246827528543,
          -302.1327604670673
         ],
         "y": [
          920.3903608818385,
          928.8105773436027
         ],
         "z": [
          736.6720032393828,
          736.622494339869
         ]
        },
        {
         "line": {
          "color": "rgba(0,255,0,0.2)",
          "width": 3
         },
         "mode": "lines",
         "showlegend": false,
         "type": "scatter3d",
         "x": [
          -302.1327604670673,
          -305.5309998635383
         ],
         "y": [
          928.8105773436027,
          932.2906755696359
         ],
         "z": [
          736.622494339869,
          741.6564674567453
         ]
        },
        {
         "line": {
          "color": "rgba(0,255,0,0.2)",
          "width": 3
         },
         "mode": "lines",
         "showlegend": false,
         "type": "scatter3d",
         "x": [
          -305.5309998635383,
          -314.0807076717564
         ],
         "y": [
          932.2906755696359,
          923.8704591078717
         ],
         "z": [
          741.6564674567453,
          741.705976356259
         ]
        },
        {
         "marker": {
          "color": "green",
          "size": 4
         },
         "mode": "markers",
         "name": "Mitte P11",
         "showlegend": false,
         "type": "scatter3d",
         "x": [
          -308.10673406941186
         ],
         "y": [
          926.3405182257372
         ],
         "z": [
          739.164235348064
         ]
        },
        {
         "color": "rgba(0,255,0,0.2)",
         "name": "optimale Trajektorie",
         "opacity": 0.8,
         "type": "mesh3d",
         "x": [
          -327.6570962506219,
          -323.745319919014,
          -318.09381898123166,
          -322.0055953128396
         ],
         "y": [
          924.912752810046,
          922.960913598208,
          933.5434462464632,
          935.4952854583012
         ],
         "z": [
          735.8332426667993,
          730.3662206600204,
          730.6318141442347,
          736.0988361510135
         ]
        },
        {
         "line": {
          "color": "rgba(0,255,0,0.2)",
          "width": 3
         },
         "mode": "lines",
         "showlegend": false,
         "type": "scatter3d",
         "x": [
          -327.6570962506219,
          -323.745319919014
         ],
         "y": [
          924.912752810046,
          922.960913598208
         ],
         "z": [
          735.8332426667993,
          730.3662206600204
         ]
        },
        {
         "line": {
          "color": "rgba(0,255,0,0.2)",
          "width": 3
         },
         "mode": "lines",
         "showlegend": false,
         "type": "scatter3d",
         "x": [
          -323.745319919014,
          -318.09381898123166
         ],
         "y": [
          922.960913598208,
          933.5434462464632
         ],
         "z": [
          730.3662206600204,
          730.6318141442347
         ]
        },
        {
         "line": {
          "color": "rgba(0,255,0,0.2)",
          "width": 3
         },
         "mode": "lines",
         "showlegend": false,
         "type": "scatter3d",
         "x": [
          -318.09381898123166,
          -322.0055953128396
         ],
         "y": [
          933.5434462464632,
          935.4952854583012
         ],
         "z": [
          730.6318141442347,
          736.0988361510135
         ]
        },
        {
         "line": {
          "color": "rgba(0,255,0,0.2)",
          "width": 3
         },
         "mode": "lines",
         "showlegend": false,
         "type": "scatter3d",
         "x": [
          -322.0055953128396,
          -327.6570962506219
         ],
         "y": [
          935.4952854583012,
          924.912752810046
         ],
         "z": [
          736.0988361510135,
          735.8332426667993
         ]
        },
        {
         "marker": {
          "color": "green",
          "size": 4
         },
         "mode": "markers",
         "name": "Mitte P11",
         "showlegend": false,
         "type": "scatter3d",
         "x": [
          -322.8754576159268
         ],
         "y": [
          929.2280995282546
         ],
         "z": [
          733.232528405517
         ]
        },
        {
         "color": "rgba(0,255,0,0.2)",
         "name": "optimale Trajektorie",
         "opacity": 0.8,
         "type": "mesh3d",
         "x": [
          -329.26629465856485,
          -325.29895014479496,
          -319.64061872508506,
          -323.60796323885495
         ],
         "y": [
          926.6066606436598,
          924.6570452227458,
          935.2339013614765,
          937.1835167823905
         ],
         "z": [
          733.015126651613,
          727.5874957485767,
          727.9242445649336,
          733.3518754679699
         ]
        },
        {
         "line": {
          "color": "rgba(0,255,0,0.2)",
          "width": 3
         },
         "mode": "lines",
         "showlegend": false,
         "type": "scatter3d",
         "x": [
          -329.26629465856485,
          -325.29895014479496
         ],
         "y": [
          926.6066606436598,
          924.6570452227458
         ],
         "z": [
          733.015126651613,
          727.5874957485767
         ]
        },
        {
         "line": {
          "color": "rgba(0,255,0,0.2)",
          "width": 3
         },
         "mode": "lines",
         "showlegend": false,
         "type": "scatter3d",
         "x": [
          -325.29895014479496,
          -319.64061872508506
         ],
         "y": [
          924.6570452227458,
          935.2339013614765
         ],
         "z": [
          727.5874957485767,
          727.9242445649336
         ]
        },
        {
         "line": {
          "color": "rgba(0,255,0,0.2)",
          "width": 3
         },
         "mode": "lines",
         "showlegend": false,
         "type": "scatter3d",
         "x": [
          -319.64061872508506,
          -323.60796323885495
         ],
         "y": [
          935.2339013614765,
          937.1835167823905
         ],
         "z": [
          727.9242445649336,
          733.3518754679699
         ]
        },
        {
         "line": {
          "color": "rgba(0,255,0,0.2)",
          "width": 3
         },
         "mode": "lines",
         "showlegend": false,
         "type": "scatter3d",
         "x": [
          -323.60796323885495,
          -329.26629465856485
         ],
         "y": [
          937.1835167823905,
          926.6066606436598
         ],
         "z": [
          733.3518754679699,
          733.015126651613
         ]
        },
        {
         "marker": {
          "color": "green",
          "size": 4
         },
         "mode": "markers",
         "name": "Mitte P11",
         "showlegend": false,
         "type": "scatter3d",
         "x": [
          -324.45345669182495
         ],
         "y": [
          930.9202810025681
         ],
         "z": [
          730.4696856082733
         ]
        },
        {
         "color": "rgba(0,255,0,0.2)",
         "name": "optimale Trajektorie",
         "opacity": 0.8,
         "type": "mesh3d",
         "x": [
          -331.6115605547648,
          -327.6083103731176,
          -321.98366711360774,
          -325.98691729525495
         ],
         "y": [
          927.5380134692306,
          925.604724325849,
          936.198190049526,
          938.1314791929076
         ],
         "z": [
          731.8506988902191,
          726.4436311940251,
          726.8202904094069,
          732.2273581056008
         ]
        },
        {
         "line": {
          "color": "rgba(0,255,0,0.2)",
          "width": 3
         },
         "mode": "lines",
         "showlegend": false,
         "type": "scatter3d",
         "x": [
          -331.6115605547648,
          -327.6083103731176
         ],
         "y": [
          927.5380134692306,
          925.604724325849
         ],
         "z": [
          731.8506988902191,
          726.4436311940251
         ]
        },
        {
         "line": {
          "color": "rgba(0,255,0,0.2)",
          "width": 3
         },
         "mode": "lines",
         "showlegend": false,
         "type": "scatter3d",
         "x": [
          -327.6083103731176,
          -321.98366711360774
         ],
         "y": [
          925.604724325849,
          936.198190049526
         ],
         "z": [
          726.4436311940251,
          726.8202904094069
         ]
        },
        {
         "line": {
          "color": "rgba(0,255,0,0.2)",
          "width": 3
         },
         "mode": "lines",
         "showlegend": false,
         "type": "scatter3d",
         "x": [
          -321.98366711360774,
          -325.98691729525495
         ],
         "y": [
          936.198190049526,
          938.1314791929076
         ],
         "z": [
          726.8202904094069,
          732.2273581056008
         ]
        },
        {
         "line": {
          "color": "rgba(0,255,0,0.2)",
          "width": 3
         },
         "mode": "lines",
         "showlegend": false,
         "type": "scatter3d",
         "x": [
          -325.98691729525495,
          -331.6115605547648
         ],
         "y": [
          938.1314791929076,
          927.5380134692306
         ],
         "z": [
          732.2273581056008,
          731.8506988902191
         ]
        },
        {
         "marker": {
          "color": "green",
          "size": 4
         },
         "mode": "markers",
         "name": "Mitte P11",
         "showlegend": false,
         "type": "scatter3d",
         "x": [
          -326.7976138341863
         ],
         "y": [
          931.8681017593783
         ],
         "z": [
          729.335494649813
         ]
        },
        {
         "color": "rgba(0,255,0,0.2)",
         "name": "optimale Trajektorie",
         "opacity": 0.8,
         "type": "mesh3d",
         "x": [
          -332.68093052053854,
          -331.66290547011613,
          -326.0529969077449,
          -327.0710219581673
         ],
         "y": [
          928.2917177480102,
          927.9875616326801,
          938.5894380440126,
          938.8935941593427
         ],
         "z": [
          731.5043064133849,
          724.5854109773908,
          724.9447749720621,
          731.8636704080562
         ]
        },
        {
         "line": {
          "color": "rgba(0,255,0,0.2)",
          "width": 3
         },
         "mode": "lines",
         "showlegend": false,
         "type": "scatter3d",
         "x": [
          -332.68093052053854,
          -331.66290547011613
         ],
         "y": [
          928.2917177480102,
          927.9875616326801
         ],
         "z": [
          731.5043064133849,
          724.5854109773908
         ]
        },
        {
         "line": {
          "color": "rgba(0,255,0,0.2)",
          "width": 3
         },
         "mode": "lines",
         "showlegend": false,
         "type": "scatter3d",
         "x": [
          -331.66290547011613,
          -326.0529969077449
         ],
         "y": [
          927.9875616326801,
          938.5894380440126
         ],
         "z": [
          724.5854109773908,
          724.9447749720621
         ]
        },
        {
         "line": {
          "color": "rgba(0,255,0,0.2)",
          "width": 3
         },
         "mode": "lines",
         "showlegend": false,
         "type": "scatter3d",
         "x": [
          -326.0529969077449,
          -327.0710219581673
         ],
         "y": [
          938.5894380440126,
          938.8935941593427
         ],
         "z": [
          724.9447749720621,
          731.8636704080562
         ]
        },
        {
         "line": {
          "color": "rgba(0,255,0,0.2)",
          "width": 3
         },
         "mode": "lines",
         "showlegend": false,
         "type": "scatter3d",
         "x": [
          -327.0710219581673,
          -332.68093052053854
         ],
         "y": [
          938.8935941593427,
          928.2917177480102
         ],
         "z": [
          731.8636704080562,
          731.5043064133849
         ]
        },
        {
         "marker": {
          "color": "green",
          "size": 4
         },
         "mode": "markers",
         "name": "Mitte P11",
         "showlegend": false,
         "type": "scatter3d",
         "x": [
          -329.3669637141418
         ],
         "y": [
          933.4405778960114
         ],
         "z": [
          728.2245406927235
         ]
        },
        {
         "line": {
          "color": "green",
          "width": 2
         },
         "mode": "lines",
         "name": "Optimale Hakenlinie",
         "type": "scatter3d",
         "x": {
          "bdata": "45fILrVBc8AJV9jfAS50wKbYzVtBR3TArUq5BsNsdMDs8FcV35V0wA==",
          "dtype": "f8"
         },
         "y": {
          "bdata": "3pmeYbnyjECxcNgl0wmNQEhJSbxcF41ACtFV3/EejUCtNbRNhiuNQA==",
          "dtype": "f8"
         },
         "z": {
          "bdata": "QkafWlAZh0CxSNo33OmGQHw3h+rB04ZAcKfRF6/KhkDznv3by8GGQA==",
          "dtype": "f8"
         }
        },
        {
         "line": {
          "color": "gray",
          "dash": "dash"
         },
         "mode": "lines",
         "name": "Direkte Gerade Spitze -> Senke",
         "type": "scatter3d",
         "x": [
          -316.1212419561852,
          -324.24512554319267
         ],
         "y": [
          929.7922314692777,
          933.7209497118496
         ],
         "z": [
          734.7675734208134,
          730.2895742435098
         ]
        },
        {
         "marker": {
          "color": "magenta",
          "size": 8
         },
         "mode": "markers",
         "name": "Spitze",
         "type": "scatter3d",
         "x": [
          -316.1212419561852
         ],
         "y": [
          929.7922314692777
         ],
         "z": [
          734.7675734208134
         ]
        },
        {
         "marker": {
          "color": "magenta",
          "size": 8
         },
         "mode": "markers",
         "name": "Senke",
         "type": "scatter3d",
         "x": [
          -324.24512554319267
         ],
         "y": [
          933.7209497118496
         ],
         "z": [
          730.2895742435098
         ]
        },
        {
         "mode": "text",
         "showlegend": false,
         "text": [
          "Spitze"
         ],
         "textfont": {
          "size": 10
         },
         "textposition": "top center",
         "type": "scatter3d",
         "x": [
          -316.1212419561852
         ],
         "y": [
          929.7922314692777
         ],
         "z": [
          734.7675734208134
         ]
        },
        {
         "mode": "text",
         "showlegend": false,
         "text": [
          "Senke"
         ],
         "textfont": {
          "size": 10
         },
         "textposition": "top center",
         "type": "scatter3d",
         "x": [
          -324.24512554319267
         ],
         "y": [
          933.7209497118496
         ],
         "z": [
          730.2895742435098
         ]
        }
       ],
       "layout": {
        "legend": {
         "title": {
          "text": "Legende"
         }
        },
        "scene": {
         "aspectmode": "cube",
         "xaxis": {
          "title": {
           "text": "X"
          }
         },
         "yaxis": {
          "title": {
           "text": "Y"
          }
         },
         "zaxis": {
          "title": {
           "text": "Z"
          }
         }
        },
        "template": {
         "data": {
          "bar": [
           {
            "error_x": {
             "color": "#2a3f5f"
            },
            "error_y": {
             "color": "#2a3f5f"
            },
            "marker": {
             "line": {
              "color": "#E5ECF6",
              "width": 0.5
             },
             "pattern": {
              "fillmode": "overlay",
              "size": 10,
              "solidity": 0.2
             }
            },
            "type": "bar"
           }
          ],
          "barpolar": [
           {
            "marker": {
             "line": {
              "color": "#E5ECF6",
              "width": 0.5
             },
             "pattern": {
              "fillmode": "overlay",
              "size": 10,
              "solidity": 0.2
             }
            },
            "type": "barpolar"
           }
          ],
          "carpet": [
           {
            "aaxis": {
             "endlinecolor": "#2a3f5f",
             "gridcolor": "white",
             "linecolor": "white",
             "minorgridcolor": "white",
             "startlinecolor": "#2a3f5f"
            },
            "baxis": {
             "endlinecolor": "#2a3f5f",
             "gridcolor": "white",
             "linecolor": "white",
             "minorgridcolor": "white",
             "startlinecolor": "#2a3f5f"
            },
            "type": "carpet"
           }
          ],
          "choropleth": [
           {
            "colorbar": {
             "outlinewidth": 0,
             "ticks": ""
            },
            "type": "choropleth"
           }
          ],
          "contour": [
           {
            "colorbar": {
             "outlinewidth": 0,
             "ticks": ""
            },
            "colorscale": [
             [
              0,
              "#0d0887"
             ],
             [
              0.1111111111111111,
              "#46039f"
             ],
             [
              0.2222222222222222,
              "#7201a8"
             ],
             [
              0.3333333333333333,
              "#9c179e"
             ],
             [
              0.4444444444444444,
              "#bd3786"
             ],
             [
              0.5555555555555556,
              "#d8576b"
             ],
             [
              0.6666666666666666,
              "#ed7953"
             ],
             [
              0.7777777777777778,
              "#fb9f3a"
             ],
             [
              0.8888888888888888,
              "#fdca26"
             ],
             [
              1,
              "#f0f921"
             ]
            ],
            "type": "contour"
           }
          ],
          "contourcarpet": [
           {
            "colorbar": {
             "outlinewidth": 0,
             "ticks": ""
            },
            "type": "contourcarpet"
           }
          ],
          "heatmap": [
           {
            "colorbar": {
             "outlinewidth": 0,
             "ticks": ""
            },
            "colorscale": [
             [
              0,
              "#0d0887"
             ],
             [
              0.1111111111111111,
              "#46039f"
             ],
             [
              0.2222222222222222,
              "#7201a8"
             ],
             [
              0.3333333333333333,
              "#9c179e"
             ],
             [
              0.4444444444444444,
              "#bd3786"
             ],
             [
              0.5555555555555556,
              "#d8576b"
             ],
             [
              0.6666666666666666,
              "#ed7953"
             ],
             [
              0.7777777777777778,
              "#fb9f3a"
             ],
             [
              0.8888888888888888,
              "#fdca26"
             ],
             [
              1,
              "#f0f921"
             ]
            ],
            "type": "heatmap"
           }
          ],
          "histogram": [
           {
            "marker": {
             "pattern": {
              "fillmode": "overlay",
              "size": 10,
              "solidity": 0.2
             }
            },
            "type": "histogram"
           }
          ],
          "histogram2d": [
           {
            "colorbar": {
             "outlinewidth": 0,
             "ticks": ""
            },
            "colorscale": [
             [
              0,
              "#0d0887"
             ],
             [
              0.1111111111111111,
              "#46039f"
             ],
             [
              0.2222222222222222,
              "#7201a8"
             ],
             [
              0.3333333333333333,
              "#9c179e"
             ],
             [
              0.4444444444444444,
              "#bd3786"
             ],
             [
              0.5555555555555556,
              "#d8576b"
             ],
             [
              0.6666666666666666,
              "#ed7953"
             ],
             [
              0.7777777777777778,
              "#fb9f3a"
             ],
             [
              0.8888888888888888,
              "#fdca26"
             ],
             [
              1,
              "#f0f921"
             ]
            ],
            "type": "histogram2d"
           }
          ],
          "histogram2dcontour": [
           {
            "colorbar": {
             "outlinewidth": 0,
             "ticks": ""
            },
            "colorscale": [
             [
              0,
              "#0d0887"
             ],
             [
              0.1111111111111111,
              "#46039f"
             ],
             [
              0.2222222222222222,
              "#7201a8"
             ],
             [
              0.3333333333333333,
              "#9c179e"
             ],
             [
              0.4444444444444444,
              "#bd3786"
             ],
             [
              0.5555555555555556,
              "#d8576b"
             ],
             [
              0.6666666666666666,
              "#ed7953"
             ],
             [
              0.7777777777777778,
              "#fb9f3a"
             ],
             [
              0.8888888888888888,
              "#fdca26"
             ],
             [
              1,
              "#f0f921"
             ]
            ],
            "type": "histogram2dcontour"
           }
          ],
          "mesh3d": [
           {
            "colorbar": {
             "outlinewidth": 0,
             "ticks": ""
            },
            "type": "mesh3d"
           }
          ],
          "parcoords": [
           {
            "line": {
             "colorbar": {
              "outlinewidth": 0,
              "ticks": ""
             }
            },
            "type": "parcoords"
           }
          ],
          "pie": [
           {
            "automargin": true,
            "type": "pie"
           }
          ],
          "scatter": [
           {
            "fillpattern": {
             "fillmode": "overlay",
             "size": 10,
             "solidity": 0.2
            },
            "type": "scatter"
           }
          ],
          "scatter3d": [
           {
            "line": {
             "colorbar": {
              "outlinewidth": 0,
              "ticks": ""
             }
            },
            "marker": {
             "colorbar": {
              "outlinewidth": 0,
              "ticks": ""
             }
            },
            "type": "scatter3d"
           }
          ],
          "scattercarpet": [
           {
            "marker": {
             "colorbar": {
              "outlinewidth": 0,
              "ticks": ""
             }
            },
            "type": "scattercarpet"
           }
          ],
          "scattergeo": [
           {
            "marker": {
             "colorbar": {
              "outlinewidth": 0,
              "ticks": ""
             }
            },
            "type": "scattergeo"
           }
          ],
          "scattergl": [
           {
            "marker": {
             "colorbar": {
              "outlinewidth": 0,
              "ticks": ""
             }
            },
            "type": "scattergl"
           }
          ],
          "scattermap": [
           {
            "marker": {
             "colorbar": {
              "outlinewidth": 0,
              "ticks": ""
             }
            },
            "type": "scattermap"
           }
          ],
          "scattermapbox": [
           {
            "marker": {
             "colorbar": {
              "outlinewidth": 0,
              "ticks": ""
             }
            },
            "type": "scattermapbox"
           }
          ],
          "scatterpolar": [
           {
            "marker": {
             "colorbar": {
              "outlinewidth": 0,
              "ticks": ""
             }
            },
            "type": "scatterpolar"
           }
          ],
          "scatterpolargl": [
           {
            "marker": {
             "colorbar": {
              "outlinewidth": 0,
              "ticks": ""
             }
            },
            "type": "scatterpolargl"
           }
          ],
          "scatterternary": [
           {
            "marker": {
             "colorbar": {
              "outlinewidth": 0,
              "ticks": ""
             }
            },
            "type": "scatterternary"
           }
          ],
          "surface": [
           {
            "colorbar": {
             "outlinewidth": 0,
             "ticks": ""
            },
            "colorscale": [
             [
              0,
              "#0d0887"
             ],
             [
              0.1111111111111111,
              "#46039f"
             ],
             [
              0.2222222222222222,
              "#7201a8"
             ],
             [
              0.3333333333333333,
              "#9c179e"
             ],
             [
              0.4444444444444444,
              "#bd3786"
             ],
             [
              0.5555555555555556,
              "#d8576b"
             ],
             [
              0.6666666666666666,
              "#ed7953"
             ],
             [
              0.7777777777777778,
              "#fb9f3a"
             ],
             [
              0.8888888888888888,
              "#fdca26"
             ],
             [
              1,
              "#f0f921"
             ]
            ],
            "type": "surface"
           }
          ],
          "table": [
           {
            "cells": {
             "fill": {
              "color": "#EBF0F8"
             },
             "line": {
              "color": "white"
             }
            },
            "header": {
             "fill": {
              "color": "#C8D4E3"
             },
             "line": {
              "color": "white"
             }
            },
            "type": "table"
           }
          ]
         },
         "layout": {
          "annotationdefaults": {
           "arrowcolor": "#2a3f5f",
           "arrowhead": 0,
           "arrowwidth": 1
          },
          "autotypenumbers": "strict",
          "coloraxis": {
           "colorbar": {
            "outlinewidth": 0,
            "ticks": ""
           }
          },
          "colorscale": {
           "diverging": [
            [
             0,
             "#8e0152"
            ],
            [
             0.1,
             "#c51b7d"
            ],
            [
             0.2,
             "#de77ae"
            ],
            [
             0.3,
             "#f1b6da"
            ],
            [
             0.4,
             "#fde0ef"
            ],
            [
             0.5,
             "#f7f7f7"
            ],
            [
             0.6,
             "#e6f5d0"
            ],
            [
             0.7,
             "#b8e186"
            ],
            [
             0.8,
             "#7fbc41"
            ],
            [
             0.9,
             "#4d9221"
            ],
            [
             1,
             "#276419"
            ]
           ],
           "sequential": [
            [
             0,
             "#0d0887"
            ],
            [
             0.1111111111111111,
             "#46039f"
            ],
            [
             0.2222222222222222,
             "#7201a8"
            ],
            [
             0.3333333333333333,
             "#9c179e"
            ],
            [
             0.4444444444444444,
             "#bd3786"
            ],
            [
             0.5555555555555556,
             "#d8576b"
            ],
            [
             0.6666666666666666,
             "#ed7953"
            ],
            [
             0.7777777777777778,
             "#fb9f3a"
            ],
            [
             0.8888888888888888,
             "#fdca26"
            ],
            [
             1,
             "#f0f921"
            ]
           ],
           "sequentialminus": [
            [
             0,
             "#0d0887"
            ],
            [
             0.1111111111111111,
             "#46039f"
            ],
            [
             0.2222222222222222,
             "#7201a8"
            ],
            [
             0.3333333333333333,
             "#9c179e"
            ],
            [
             0.4444444444444444,
             "#bd3786"
            ],
            [
             0.5555555555555556,
             "#d8576b"
            ],
            [
             0.6666666666666666,
             "#ed7953"
            ],
            [
             0.7777777777777778,
             "#fb9f3a"
            ],
            [
             0.8888888888888888,
             "#fdca26"
            ],
            [
             1,
             "#f0f921"
            ]
           ]
          },
          "colorway": [
           "#636efa",
           "#EF553B",
           "#00cc96",
           "#ab63fa",
           "#FFA15A",
           "#19d3f3",
           "#FF6692",
           "#B6E880",
           "#FF97FF",
           "#FECB52"
          ],
          "font": {
           "color": "#2a3f5f"
          },
          "geo": {
           "bgcolor": "white",
           "lakecolor": "white",
           "landcolor": "#E5ECF6",
           "showlakes": true,
           "showland": true,
           "subunitcolor": "white"
          },
          "hoverlabel": {
           "align": "left"
          },
          "hovermode": "closest",
          "mapbox": {
           "style": "light"
          },
          "paper_bgcolor": "white",
          "plot_bgcolor": "#E5ECF6",
          "polar": {
           "angularaxis": {
            "gridcolor": "white",
            "linecolor": "white",
            "ticks": ""
           },
           "bgcolor": "#E5ECF6",
           "radialaxis": {
            "gridcolor": "white",
            "linecolor": "white",
            "ticks": ""
           }
          },
          "scene": {
           "xaxis": {
            "backgroundcolor": "#E5ECF6",
            "gridcolor": "white",
            "gridwidth": 2,
            "linecolor": "white",
            "showbackground": true,
            "ticks": "",
            "zerolinecolor": "white"
           },
           "yaxis": {
            "backgroundcolor": "#E5ECF6",
            "gridcolor": "white",
            "gridwidth": 2,
            "linecolor": "white",
            "showbackground": true,
            "ticks": "",
            "zerolinecolor": "white"
           },
           "zaxis": {
            "backgroundcolor": "#E5ECF6",
            "gridcolor": "white",
            "gridwidth": 2,
            "linecolor": "white",
            "showbackground": true,
            "ticks": "",
            "zerolinecolor": "white"
           }
          },
          "shapedefaults": {
           "line": {
            "color": "#2a3f5f"
           }
          },
          "ternary": {
           "aaxis": {
            "gridcolor": "white",
            "linecolor": "white",
            "ticks": ""
           },
           "baxis": {
            "gridcolor": "white",
            "linecolor": "white",
            "ticks": ""
           },
           "bgcolor": "#E5ECF6",
           "caxis": {
            "gridcolor": "white",
            "linecolor": "white",
            "ticks": ""
           }
          },
          "title": {
           "x": 0.05
          },
          "xaxis": {
           "automargin": true,
           "gridcolor": "white",
           "linecolor": "white",
           "ticks": "",
           "title": {
            "standoff": 15
           },
           "zerolinecolor": "white",
           "zerolinewidth": 2
          },
          "yaxis": {
           "automargin": true,
           "gridcolor": "white",
           "linecolor": "white",
           "ticks": "",
           "title": {
            "standoff": 15
           },
           "zerolinecolor": "white",
           "zerolinewidth": 2
          }
         }
        },
        "title": {
         "text": "Haken 6, Trajektorien-Ansatz 1"
        }
       }
      }
     },
     "metadata": {},
     "output_type": "display_data"
    },
    {
     "name": "stdout",
     "output_type": "stream",
     "text": [
      "HTML-Datei '/home/mo/Thesis/Evaluation/Trajektorientests/CSV/traj2.html' erfolgreich erstellt!\n"
     ]
    },
    {
     "data": {
      "application/vnd.plotly.v1+json": {
       "config": {
        "plotlyServerURL": "https://plot.ly"
       },
       "data": [
        {
         "color": "rgba(31, 119, 180, 0.8)",
         "name": "P1",
         "opacity": 0.8,
         "type": "mesh3d",
         "x": [
          -312.15345189113026,
          -305.815548348261,
          -304.06001625414814,
          -310.3979197970174
         ],
         "y": [
          920.838075025095,
          921.3036063198257,
          931.8429610469719,
          931.3774297522413
         ],
         "z": [
          737.9004332207729,
          734.9654273783746,
          740.4280374689739,
          743.3630433113723
         ]
        },
        {
         "marker": {
          "color": "red",
          "size": 3
         },
         "mode": "markers+text",
         "showlegend": false,
         "text": "",
         "textfont": {
          "size": 12
         },
         "textposition": "top center",
         "type": "scatter3d",
         "x": [
          -308.10673407263926
         ],
         "y": [
          926.3405180360335
         ],
         "z": [
          739.1642353448734
         ]
        },
        {
         "line": {
          "color": "rgba(31, 119, 180, 0.8)",
          "width": 4
         },
         "mode": "lines",
         "showlegend": false,
         "type": "scatter3d",
         "x": [
          -312.15345189113026,
          -305.815548348261
         ],
         "y": [
          920.838075025095,
          921.3036063198257
         ],
         "z": [
          737.9004332207729,
          734.9654273783746
         ]
        },
        {
         "line": {
          "color": "rgba(31, 119, 180, 0.8)",
          "width": 4
         },
         "mode": "lines",
         "showlegend": false,
         "type": "scatter3d",
         "x": [
          -305.815548348261,
          -304.06001625414814
         ],
         "y": [
          921.3036063198257,
          931.8429610469719
         ],
         "z": [
          734.9654273783746,
          740.4280374689739
         ]
        },
        {
         "line": {
          "color": "rgba(31, 119, 180, 0.8)",
          "width": 4
         },
         "mode": "lines",
         "showlegend": false,
         "type": "scatter3d",
         "x": [
          -304.06001625414814,
          -310.3979197970174
         ],
         "y": [
          931.8429610469719,
          931.3774297522413
         ],
         "z": [
          740.4280374689739,
          743.3630433113723
         ]
        },
        {
         "line": {
          "color": "rgba(31, 119, 180, 0.8)",
          "width": 4
         },
         "mode": "lines",
         "showlegend": false,
         "type": "scatter3d",
         "x": [
          -310.3979197970174,
          -312.15345189113026
         ],
         "y": [
          931.3774297522413,
          920.838075025095
         ],
         "z": [
          743.3630433113723,
          737.9004332207729
         ]
        },
        {
         "color": "rgba(174, 199, 232, 0.8)",
         "name": "P2",
         "opacity": 0.8,
         "type": "mesh3d",
         "x": [
          -320.16795977467626,
          -313.830056231807,
          -312.07452413769414,
          -318.4124276805634
         ],
         "y": [
          924.2897884583392,
          924.7553197530699,
          935.2946744802161,
          934.8291431854855
         ],
         "z": [
          733.5037712967129,
          730.5687654543145,
          736.0313755449139,
          738.9663813873123
         ]
        },
        {
         "marker": {
          "color": "red",
          "size": 3
         },
         "mode": "markers+text",
         "showlegend": false,
         "text": "",
         "textfont": {
          "size": 12
         },
         "textposition": "top center",
         "type": "scatter3d",
         "x": [
          -316.12124195618526
         ],
         "y": [
          929.7922314692777
         ],
         "z": [
          734.7675734208134
         ]
        },
        {
         "line": {
          "color": "rgba(174, 199, 232, 0.8)",
          "width": 4
         },
         "mode": "lines",
         "showlegend": false,
         "type": "scatter3d",
         "x": [
          -320.16795977467626,
          -313.830056231807
         ],
         "y": [
          924.2897884583392,
          924.7553197530699
         ],
         "z": [
          733.5037712967129,
          730.5687654543145
         ]
        },
        {
         "line": {
          "color": "rgba(174, 199, 232, 0.8)",
          "width": 4
         },
         "mode": "lines",
         "showlegend": false,
         "type": "scatter3d",
         "x": [
          -313.830056231807,
          -312.07452413769414
         ],
         "y": [
          924.7553197530699,
          935.2946744802161
         ],
         "z": [
          730.5687654543145,
          736.0313755449139
         ]
        },
        {
         "line": {
          "color": "rgba(174, 199, 232, 0.8)",
          "width": 4
         },
         "mode": "lines",
         "showlegend": false,
         "type": "scatter3d",
         "x": [
          -312.07452413769414,
          -318.4124276805634
         ],
         "y": [
          935.2946744802161,
          934.8291431854855
         ],
         "z": [
          736.0313755449139,
          738.9663813873123
         ]
        },
        {
         "line": {
          "color": "rgba(174, 199, 232, 0.8)",
          "width": 4
         },
         "mode": "lines",
         "showlegend": false,
         "type": "scatter3d",
         "x": [
          -318.4124276805634,
          -320.16795977467626
         ],
         "y": [
          934.8291431854855,
          924.2897884583392
         ],
         "z": [
          738.9663813873123,
          733.5037712967129
         ]
        },
        {
         "color": "rgba(255, 187, 120, 0.8)",
         "name": "P3",
         "opacity": 0.8,
         "type": "mesh3d",
         "x": [
          -320.7919424837163,
          -314.45403894084706,
          -312.6985068467342,
          -319.0364103896034
         ],
         "y": [
          926.4306373365683,
          926.896168631299,
          937.4355233584453,
          936.9699920637146
         ],
         "z": [
          732.765718818864,
          729.8307129764656,
          735.293323067065,
          738.2283289094634
         ]
        },
        {
         "marker": {
          "color": "red",
          "size": 3
         },
         "mode": "markers+text",
         "showlegend": false,
         "text": "P2",
         "textfont": {
          "size": 12
         },
         "textposition": "top center",
         "type": "scatter3d",
         "x": [
          -316.74522466522524
         ],
         "y": [
          931.9330803475068
         ],
         "z": [
          734.0295209429645
         ]
        },
        {
         "line": {
          "color": "rgba(255, 187, 120, 0.8)",
          "width": 4
         },
         "mode": "lines",
         "showlegend": false,
         "type": "scatter3d",
         "x": [
          -320.7919424837163,
          -314.45403894084706
         ],
         "y": [
          926.4306373365683,
          926.896168631299
         ],
         "z": [
          732.765718818864,
          729.8307129764656
         ]
        },
        {
         "line": {
          "color": "rgba(255, 187, 120, 0.8)",
          "width": 4
         },
         "mode": "lines",
         "showlegend": false,
         "type": "scatter3d",
         "x": [
          -314.45403894084706,
          -312.6985068467342
         ],
         "y": [
          926.896168631299,
          937.4355233584453
         ],
         "z": [
          729.8307129764656,
          735.293323067065
         ]
        },
        {
         "line": {
          "color": "rgba(255, 187, 120, 0.8)",
          "width": 4
         },
         "mode": "lines",
         "showlegend": false,
         "type": "scatter3d",
         "x": [
          -312.6985068467342,
          -319.0364103896034
         ],
         "y": [
          937.4355233584453,
          936.9699920637146
         ],
         "z": [
          735.293323067065,
          738.2283289094634
         ]
        },
        {
         "line": {
          "color": "rgba(255, 187, 120, 0.8)",
          "width": 4
         },
         "mode": "lines",
         "showlegend": false,
         "type": "scatter3d",
         "x": [
          -319.0364103896034,
          -320.7919424837163
         ],
         "y": [
          936.9699920637146,
          926.4306373365683
         ],
         "z": [
          738.2283289094634,
          732.765718818864
         ]
        },
        {
         "color": "rgba(152, 223, 138, 0.8)",
         "name": "P4",
         "opacity": 0.8,
         "type": "mesh3d",
         "x": [
          -321.55654783081354,
          -315.2186442879443,
          -313.4631121938314,
          -319.80101573670066
         ],
         "y": [
          927.5547535136894,
          928.0202848084201,
          938.5596395355664,
          938.0941082408357
         ],
         "z": [
          732.1730713214044,
          729.2380654790061,
          734.7006755696054,
          737.6356814120038
         ]
        },
        {
         "marker": {
          "color": "red",
          "size": 3
         },
         "mode": "markers+text",
         "showlegend": false,
         "text": "P3",
         "textfont": {
          "size": 12
         },
         "textposition": "top center",
         "type": "scatter3d",
         "x": [
          -317.5098300123225
         ],
         "y": [
          933.0571965246279
         ],
         "z": [
          733.436873445505
         ]
        },
        {
         "line": {
          "color": "rgba(152, 223, 138, 0.8)",
          "width": 4
         },
         "mode": "lines",
         "showlegend": false,
         "type": "scatter3d",
         "x": [
          -321.55654783081354,
          -315.2186442879443
         ],
         "y": [
          927.5547535136894,
          928.0202848084201
         ],
         "z": [
          732.1730713214044,
          729.2380654790061
         ]
        },
        {
         "line": {
          "color": "rgba(152, 223, 138, 0.8)",
          "width": 4
         },
         "mode": "lines",
         "showlegend": false,
         "type": "scatter3d",
         "x": [
          -315.2186442879443,
          -313.4631121938314
         ],
         "y": [
          928.0202848084201,
          938.5596395355664
         ],
         "z": [
          729.2380654790061,
          734.7006755696054
         ]
        },
        {
         "line": {
          "color": "rgba(152, 223, 138, 0.8)",
          "width": 4
         },
         "mode": "lines",
         "showlegend": false,
         "type": "scatter3d",
         "x": [
          -313.4631121938314,
          -319.80101573670066
         ],
         "y": [
          938.5596395355664,
          938.0941082408357
         ],
         "z": [
          734.7006755696054,
          737.6356814120038
         ]
        },
        {
         "line": {
          "color": "rgba(152, 223, 138, 0.8)",
          "width": 4
         },
         "mode": "lines",
         "showlegend": false,
         "type": "scatter3d",
         "x": [
          -319.80101573670066,
          -321.55654783081354
         ],
         "y": [
          938.0941082408357,
          927.5547535136894
         ],
         "z": [
          737.6356814120038,
          732.1730713214044
         ]
        },
        {
         "color": "rgba(255, 152, 150, 0.8)",
         "name": "P5",
         "opacity": 0.8,
         "type": "mesh3d",
         "x": [
          -322.4580436809466,
          -316.1201401380774,
          -314.3646080439645,
          -320.70251158683374
         ],
         "y": [
          927.6379309448963,
          928.103462239627,
          938.6428169667732,
          938.1772856720426
         ],
         "z": [
          731.5051901006299,
          728.5701842582315,
          734.0327943488309,
          736.9678001912292
         ]
        },
        {
         "marker": {
          "color": "red",
          "size": 3
         },
         "mode": "markers+text",
         "showlegend": false,
         "text": "P4",
         "textfont": {
          "size": 12
         },
         "textposition": "top center",
         "type": "scatter3d",
         "x": [
          -318.41132586245556
         ],
         "y": [
          933.1403739558348
         ],
         "z": [
          732.7689922247304
         ]
        },
        {
         "line": {
          "color": "rgba(255, 152, 150, 0.8)",
          "width": 4
         },
         "mode": "lines",
         "showlegend": false,
         "type": "scatter3d",
         "x": [
          -322.4580436809466,
          -316.1201401380774
         ],
         "y": [
          927.6379309448963,
          928.103462239627
         ],
         "z": [
          731.5051901006299,
          728.5701842582315
         ]
        },
        {
         "line": {
          "color": "rgba(255, 152, 150, 0.8)",
          "width": 4
         },
         "mode": "lines",
         "showlegend": false,
         "type": "scatter3d",
         "x": [
          -316.1201401380774,
          -314.3646080439645
         ],
         "y": [
          928.103462239627,
          938.6428169667732
         ],
         "z": [
          728.5701842582315,
          734.0327943488309
         ]
        },
        {
         "line": {
          "color": "rgba(255, 152, 150, 0.8)",
          "width": 4
         },
         "mode": "lines",
         "showlegend": false,
         "type": "scatter3d",
         "x": [
          -314.3646080439645,
          -320.70251158683374
         ],
         "y": [
          938.6428169667732,
          938.1772856720426
         ],
         "z": [
          734.0327943488309,
          736.9678001912292
         ]
        },
        {
         "line": {
          "color": "rgba(255, 152, 150, 0.8)",
          "width": 4
         },
         "mode": "lines",
         "showlegend": false,
         "type": "scatter3d",
         "x": [
          -320.70251158683374,
          -322.4580436809466
         ],
         "y": [
          938.1772856720426,
          927.6379309448963
         ],
         "z": [
          736.9678001912292,
          731.5051901006299
         ]
        },
        {
         "color": "rgba(197, 176, 213, 0.8)",
         "name": "P6",
         "opacity": 0.8,
         "type": "mesh3d",
         "x": [
          -323.3625539765165,
          -317.02465043364725,
          -315.2691183395344,
          -321.6070218824036
         ],
         "y": [
          927.7007897609328,
          928.1663210556635,
          938.7056757828097,
          938.2401444880791
         ],
         "z": [
          730.7611430992507,
          727.8261372568523,
          733.2887473474517,
          736.2237531898501
         ]
        },
        {
         "marker": {
          "color": "red",
          "size": 3
         },
         "mode": "markers+text",
         "showlegend": false,
         "text": "P5",
         "textfont": {
          "size": 12
         },
         "textposition": "top center",
         "type": "scatter3d",
         "x": [
          -319.31583615802543
         ],
         "y": [
          933.2032327718712
         ],
         "z": [
          732.0249452233512
         ]
        },
        {
         "line": {
          "color": "rgba(197, 176, 213, 0.8)",
          "width": 4
         },
         "mode": "lines",
         "showlegend": false,
         "type": "scatter3d",
         "x": [
          -323.3625539765165,
          -317.02465043364725
         ],
         "y": [
          927.7007897609328,
          928.1663210556635
         ],
         "z": [
          730.7611430992507,
          727.8261372568523
         ]
        },
        {
         "line": {
          "color": "rgba(197, 176, 213, 0.8)",
          "width": 4
         },
         "mode": "lines",
         "showlegend": false,
         "type": "scatter3d",
         "x": [
          -317.02465043364725,
          -315.2691183395344
         ],
         "y": [
          928.1663210556635,
          938.7056757828097
         ],
         "z": [
          727.8261372568523,
          733.2887473474517
         ]
        },
        {
         "line": {
          "color": "rgba(197, 176, 213, 0.8)",
          "width": 4
         },
         "mode": "lines",
         "showlegend": false,
         "type": "scatter3d",
         "x": [
          -315.2691183395344,
          -321.6070218824036
         ],
         "y": [
          938.7056757828097,
          938.2401444880791
         ],
         "z": [
          733.2887473474517,
          736.2237531898501
         ]
        },
        {
         "line": {
          "color": "rgba(197, 176, 213, 0.8)",
          "width": 4
         },
         "mode": "lines",
         "showlegend": false,
         "type": "scatter3d",
         "x": [
          -321.6070218824036,
          -323.3625539765165
         ],
         "y": [
          938.2401444880791,
          927.7007897609328
         ],
         "z": [
          736.2237531898501,
          730.7611430992507
         ]
        },
        {
         "color": "rgba(140, 86, 75, 0.8)",
         "name": "P7",
         "opacity": 0.8,
         "type": "mesh3d",
         "x": [
          -324.26326752583543,
          -317.9253639829662,
          -316.1698318888533,
          -322.50773543172255
         ],
         "y": [
          927.7829801302374,
          928.2485114249681,
          938.7878661521144,
          938.3223348573837
         ],
         "z": [
          730.1688017291009,
          727.2337958867025,
          732.6964059773019,
          735.6314118197002
         ]
        },
        {
         "marker": {
          "color": "red",
          "size": 3
         },
         "mode": "markers+text",
         "showlegend": false,
         "text": "P6",
         "textfont": {
          "size": 12
         },
         "textposition": "top center",
         "type": "scatter3d",
         "x": [
          -320.21654970734437
         ],
         "y": [
          933.2854231411759
         ],
         "z": [
          731.4326038532014
         ]
        },
        {
         "line": {
          "color": "rgba(140, 86, 75, 0.8)",
          "width": 4
         },
         "mode": "lines",
         "showlegend": false,
         "type": "scatter3d",
         "x": [
          -324.26326752583543,
          -317.9253639829662
         ],
         "y": [
          927.7829801302374,
          928.2485114249681
         ],
         "z": [
          730.1688017291009,
          727.2337958867025
         ]
        },
        {
         "line": {
          "color": "rgba(140, 86, 75, 0.8)",
          "width": 4
         },
         "mode": "lines",
         "showlegend": false,
         "type": "scatter3d",
         "x": [
          -317.9253639829662,
          -316.1698318888533
         ],
         "y": [
          928.2485114249681,
          938.7878661521144
         ],
         "z": [
          727.2337958867025,
          732.6964059773019
         ]
        },
        {
         "line": {
          "color": "rgba(140, 86, 75, 0.8)",
          "width": 4
         },
         "mode": "lines",
         "showlegend": false,
         "type": "scatter3d",
         "x": [
          -316.1698318888533,
          -322.50773543172255
         ],
         "y": [
          938.7878661521144,
          938.3223348573837
         ],
         "z": [
          732.6964059773019,
          735.6314118197002
         ]
        },
        {
         "line": {
          "color": "rgba(140, 86, 75, 0.8)",
          "width": 4
         },
         "mode": "lines",
         "showlegend": false,
         "type": "scatter3d",
         "x": [
          -322.50773543172255,
          -324.26326752583543
         ],
         "y": [
          938.3223348573837,
          927.7829801302374
         ],
         "z": [
          735.6314118197002,
          730.1688017291009
         ]
        },
        {
         "color": "rgba(227, 119, 194, 0.8)",
         "name": "P8",
         "opacity": 0.8,
         "type": "mesh3d",
         "x": [
          -325.1657588901699,
          -318.82785534730067,
          -317.0723232531878,
          -323.41022679605703
         ],
         "y": [
          927.8584128682513,
          928.323944162982,
          938.8632988901282,
          938.3977675953976
         ],
         "z": [
          729.4999187329661,
          726.5649128905677,
          732.0275229811671,
          734.9625288235654
         ]
        },
        {
         "marker": {
          "color": "red",
          "size": 3
         },
         "mode": "markers+text",
         "showlegend": false,
         "text": "P7",
         "textfont": {
          "size": 12
         },
         "textposition": "top center",
         "type": "scatter3d",
         "x": [
          -321.11904107167885
         ],
         "y": [
          933.3608558791898
         ],
         "z": [
          730.7637208570666
         ]
        },
        {
         "line": {
          "color": "rgba(227, 119, 194, 0.8)",
          "width": 4
         },
         "mode": "lines",
         "showlegend": false,
         "type": "scatter3d",
         "x": [
          -325.1657588901699,
          -318.82785534730067
         ],
         "y": [
          927.8584128682513,
          928.323944162982
         ],
         "z": [
          729.4999187329661,
          726.5649128905677
         ]
        },
        {
         "line": {
          "color": "rgba(227, 119, 194, 0.8)",
          "width": 4
         },
         "mode": "lines",
         "showlegend": false,
         "type": "scatter3d",
         "x": [
          -318.82785534730067,
          -317.0723232531878
         ],
         "y": [
          928.323944162982,
          938.8632988901282
         ],
         "z": [
          726.5649128905677,
          732.0275229811671
         ]
        },
        {
         "line": {
          "color": "rgba(227, 119, 194, 0.8)",
          "width": 4
         },
         "mode": "lines",
         "showlegend": false,
         "type": "scatter3d",
         "x": [
          -317.0723232531878,
          -323.41022679605703
         ],
         "y": [
          938.8632988901282,
          938.3977675953976
         ],
         "z": [
          732.0275229811671,
          734.9625288235654
         ]
        },
        {
         "line": {
          "color": "rgba(227, 119, 194, 0.8)",
          "width": 4
         },
         "mode": "lines",
         "showlegend": false,
         "type": "scatter3d",
         "x": [
          -323.41022679605703,
          -325.1657588901699
         ],
         "y": [
          938.3977675953976,
          927.8584128682513
         ],
         "z": [
          734.9625288235654,
          729.4999187329661
         ]
        },
        {
         "color": "rgba(127, 127, 127, 0.8)",
         "name": "P9",
         "opacity": 0.8,
         "type": "mesh3d",
         "x": [
          -326.0646792341275,
          -319.72677569125824,
          -317.97124359714536,
          -324.3091471400146
         ],
         "y": [
          927.9540042067869,
          928.4195355015175,
          938.9588902286638,
          938.4933589339331
         ],
         "z": [
          728.9827165178995,
          726.0477106755011,
          731.5103207661004,
          734.4453266084988
         ]
        },
        {
         "marker": {
          "color": "red",
          "size": 3
         },
         "mode": "markers+text",
         "showlegend": false,
         "text": "P8",
         "textfont": {
          "size": 12
         },
         "textposition": "top center",
         "type": "scatter3d",
         "x": [
          -322.0179614156364
         ],
         "y": [
          933.4564472177253
         ],
         "z": [
          730.246518642
         ]
        },
        {
         "line": {
          "color": "rgba(127, 127, 127, 0.8)",
          "width": 4
         },
         "mode": "lines",
         "showlegend": false,
         "type": "scatter3d",
         "x": [
          -326.0646792341275,
          -319.72677569125824
         ],
         "y": [
          927.9540042067869,
          928.4195355015175
         ],
         "z": [
          728.9827165178995,
          726.0477106755011
         ]
        },
        {
         "line": {
          "color": "rgba(127, 127, 127, 0.8)",
          "width": 4
         },
         "mode": "lines",
         "showlegend": false,
         "type": "scatter3d",
         "x": [
          -319.72677569125824,
          -317.97124359714536
         ],
         "y": [
          928.4195355015175,
          938.9588902286638
         ],
         "z": [
          726.0477106755011,
          731.5103207661004
         ]
        },
        {
         "line": {
          "color": "rgba(127, 127, 127, 0.8)",
          "width": 4
         },
         "mode": "lines",
         "showlegend": false,
         "type": "scatter3d",
         "x": [
          -317.97124359714536,
          -324.3091471400146
         ],
         "y": [
          938.9588902286638,
          938.4933589339331
         ],
         "z": [
          731.5103207661004,
          734.4453266084988
         ]
        },
        {
         "line": {
          "color": "rgba(127, 127, 127, 0.8)",
          "width": 4
         },
         "mode": "lines",
         "showlegend": false,
         "type": "scatter3d",
         "x": [
          -324.3091471400146,
          -326.0646792341275
         ],
         "y": [
          938.4933589339331,
          927.9540042067869
         ],
         "z": [
          734.4453266084988,
          728.9827165178995
         ]
        },
        {
         "color": "rgba(188, 189, 34, 0.8)",
         "name": "P10",
         "opacity": 0.8,
         "type": "mesh3d",
         "x": [
          -327.10393820145487,
          -320.7660346585856,
          -319.01050256447274,
          -325.348406107342
         ],
         "y": [
          928.076055110017,
          928.5415864047477,
          939.080941131894,
          938.6154098371633
         ],
         "z": [
          729.002943279151,
          726.0679374367527,
          731.530547527352,
          734.4655533697504
         ]
        },
        {
         "marker": {
          "color": "red",
          "size": 3
         },
         "mode": "markers+text",
         "showlegend": false,
         "text": "P9",
         "textfont": {
          "size": 12
         },
         "textposition": "top center",
         "type": "scatter3d",
         "x": [
          -323.0572203829638
         ],
         "y": [
          933.5784981209556
         ],
         "z": [
          730.2667454032515
         ]
        },
        {
         "line": {
          "color": "rgba(188, 189, 34, 0.8)",
          "width": 4
         },
         "mode": "lines",
         "showlegend": false,
         "type": "scatter3d",
         "x": [
          -327.10393820145487,
          -320.7660346585856
         ],
         "y": [
          928.076055110017,
          928.5415864047477
         ],
         "z": [
          729.002943279151,
          726.0679374367527
         ]
        },
        {
         "line": {
          "color": "rgba(188, 189, 34, 0.8)",
          "width": 4
         },
         "mode": "lines",
         "showlegend": false,
         "type": "scatter3d",
         "x": [
          -320.7660346585856,
          -319.01050256447274
         ],
         "y": [
          928.5415864047477,
          939.080941131894
         ],
         "z": [
          726.0679374367527,
          731.530547527352
         ]
        },
        {
         "line": {
          "color": "rgba(188, 189, 34, 0.8)",
          "width": 4
         },
         "mode": "lines",
         "showlegend": false,
         "type": "scatter3d",
         "x": [
          -319.01050256447274,
          -325.348406107342
         ],
         "y": [
          939.080941131894,
          938.6154098371633
         ],
         "z": [
          731.530547527352,
          734.4655533697504
         ]
        },
        {
         "line": {
          "color": "rgba(188, 189, 34, 0.8)",
          "width": 4
         },
         "mode": "lines",
         "showlegend": false,
         "type": "scatter3d",
         "x": [
          -325.348406107342,
          -327.10393820145487
         ],
         "y": [
          938.6154098371633,
          928.076055110017
         ],
         "z": [
          734.4655533697504,
          729.002943279151
         ]
        },
        {
         "color": "rgba(23, 190, 207, 0.8)",
         "name": "P11",
         "opacity": 0.8,
         "type": "mesh3d",
         "x": [
          -328.29184336168373,
          -321.9539398188145,
          -320.1984077247016,
          -326.53631126757085
         ],
         "y": [
          928.2185067009111,
          928.6840379956418,
          939.223392722788,
          938.7578614280574
         ],
         "z": [
          729.0257721194093,
          726.090766277011,
          731.5533763676103,
          734.4883822100087
         ]
        },
        {
         "marker": {
          "color": "red",
          "size": 3
         },
         "mode": "markers+text",
         "showlegend": false,
         "text": "",
         "textfont": {
          "size": 12
         },
         "textposition": "top center",
         "type": "scatter3d",
         "x": [
          -324.24512554319267
         ],
         "y": [
          933.7209497118496
         ],
         "z": [
          730.2895742435098
         ]
        },
        {
         "line": {
          "color": "rgba(23, 190, 207, 0.8)",
          "width": 4
         },
         "mode": "lines",
         "showlegend": false,
         "type": "scatter3d",
         "x": [
          -328.29184336168373,
          -321.9539398188145
         ],
         "y": [
          928.2185067009111,
          928.6840379956418
         ],
         "z": [
          729.0257721194093,
          726.090766277011
         ]
        },
        {
         "line": {
          "color": "rgba(23, 190, 207, 0.8)",
          "width": 4
         },
         "mode": "lines",
         "showlegend": false,
         "type": "scatter3d",
         "x": [
          -321.9539398188145,
          -320.1984077247016
         ],
         "y": [
          928.6840379956418,
          939.223392722788
         ],
         "z": [
          726.090766277011,
          731.5533763676103
         ]
        },
        {
         "line": {
          "color": "rgba(23, 190, 207, 0.8)",
          "width": 4
         },
         "mode": "lines",
         "showlegend": false,
         "type": "scatter3d",
         "x": [
          -320.1984077247016,
          -326.53631126757085
         ],
         "y": [
          939.223392722788,
          938.7578614280574
         ],
         "z": [
          731.5533763676103,
          734.4883822100087
         ]
        },
        {
         "line": {
          "color": "rgba(23, 190, 207, 0.8)",
          "width": 4
         },
         "mode": "lines",
         "showlegend": false,
         "type": "scatter3d",
         "x": [
          -326.53631126757085,
          -328.29184336168373
         ],
         "y": [
          938.7578614280574,
          928.2185067009111
         ],
         "z": [
          734.4883822100087,
          729.0257721194093
         ]
        },
        {
         "line": {
          "color": "black",
          "width": 2
         },
         "mode": "lines",
         "name": "Berechnete Hakenlinie",
         "type": "scatter3d",
         "x": {
          "bdata": "rHXJLrVBc8CAy2eb8MFzwArVsnDsy3PAHNeDQyjYc8Duc23KlOZzwNEZN6oN9XPACnDT/HYDdMDdW5yX5xF0wPnL6JFJIHTA6JfrX+owdMDU9sII7EN0wA==",
          "dtype": "f8"
         },
         "y": {
          "bdata": "siOFYbnyjEBH23N9Vg6NQKhI1PJ2H41AxpVzI3UojUAqbGF8HymNQEzlgDigKY1A+obti0gqjUCEPWgI4yqNQNiDzM2mK41AanKfw6AsjUCjU0iBxC2NQA==",
          "dtype": "f8"
         },
         "z": {
          "bdata": "odieWlAZh0BhnYj9I/aGQKPkeXU88IZAekeBt37rhkDDQGXlJuaGQOEzexYz4IZA/UwC+XXbhkD+Qq4ZHNaGQPQJxN740YZAl/ppSyLShkAcDU0MUdKGQA==",
          "dtype": "f8"
         }
        },
        {
         "mode": "text",
         "showlegend": false,
         "text": [
          "Pre-Position"
         ],
         "textfont": {
          "size": 10
         },
         "textposition": "top center",
         "type": "scatter3d",
         "x": [
          -308.10673407263926
         ],
         "y": [
          926.3405180360335
         ],
         "z": [
          739.1642353448734
         ]
        },
        {
         "mode": "text",
         "showlegend": false,
         "text": [
          "Loslassen"
         ],
         "textfont": {
          "size": 10
         },
         "textposition": "top center",
         "type": "scatter3d",
         "x": [
          -324.24512554319267
         ],
         "y": [
          933.7209497118496
         ],
         "z": [
          730.2895742435098
         ]
        },
        {
         "color": "rgba(0,255,0,0.2)",
         "name": "optimale Trajektorie",
         "opacity": 0.8,
         "type": "mesh3d",
         "x": [
          -314.0807076717564,
          -310.68246827528543,
          -302.1327604670673,
          -305.5309998635383
         ],
         "y": [
          923.8704591078717,
          920.3903608818385,
          928.8105773436027,
          932.2906755696359
         ],
         "z": [
          741.705976356259,
          736.6720032393828,
          736.622494339869,
          741.6564674567453
         ]
        },
        {
         "line": {
          "color": "rgba(0,255,0,0.2)",
          "width": 3
         },
         "mode": "lines",
         "showlegend": false,
         "type": "scatter3d",
         "x": [
          -314.0807076717564,
          -310.68246827528543
         ],
         "y": [
          923.8704591078717,
          920.3903608818385
         ],
         "z": [
          741.705976356259,
          736.6720032393828
         ]
        },
        {
         "line": {
          "color": "rgba(0,255,0,0.2)",
          "width": 3
         },
         "mode": "lines",
         "showlegend": false,
         "type": "scatter3d",
         "x": [
          -310.68246827528543,
          -302.1327604670673
         ],
         "y": [
          920.3903608818385,
          928.8105773436027
         ],
         "z": [
          736.6720032393828,
          736.622494339869
         ]
        },
        {
         "line": {
          "color": "rgba(0,255,0,0.2)",
          "width": 3
         },
         "mode": "lines",
         "showlegend": false,
         "type": "scatter3d",
         "x": [
          -302.1327604670673,
          -305.5309998635383
         ],
         "y": [
          928.8105773436027,
          932.2906755696359
         ],
         "z": [
          736.622494339869,
          741.6564674567453
         ]
        },
        {
         "line": {
          "color": "rgba(0,255,0,0.2)",
          "width": 3
         },
         "mode": "lines",
         "showlegend": false,
         "type": "scatter3d",
         "x": [
          -305.5309998635383,
          -314.0807076717564
         ],
         "y": [
          932.2906755696359,
          923.8704591078717
         ],
         "z": [
          741.6564674567453,
          741.705976356259
         ]
        },
        {
         "marker": {
          "color": "green",
          "size": 4
         },
         "mode": "markers",
         "name": "Mitte P11",
         "showlegend": false,
         "type": "scatter3d",
         "x": [
          -308.10673406941186
         ],
         "y": [
          926.3405182257372
         ],
         "z": [
          739.164235348064
         ]
        },
        {
         "color": "rgba(0,255,0,0.2)",
         "name": "optimale Trajektorie",
         "opacity": 0.8,
         "type": "mesh3d",
         "x": [
          -327.6570962506219,
          -323.745319919014,
          -318.09381898123166,
          -322.0055953128396
         ],
         "y": [
          924.912752810046,
          922.960913598208,
          933.5434462464632,
          935.4952854583012
         ],
         "z": [
          735.8332426667993,
          730.3662206600204,
          730.6318141442347,
          736.0988361510135
         ]
        },
        {
         "line": {
          "color": "rgba(0,255,0,0.2)",
          "width": 3
         },
         "mode": "lines",
         "showlegend": false,
         "type": "scatter3d",
         "x": [
          -327.6570962506219,
          -323.745319919014
         ],
         "y": [
          924.912752810046,
          922.960913598208
         ],
         "z": [
          735.8332426667993,
          730.3662206600204
         ]
        },
        {
         "line": {
          "color": "rgba(0,255,0,0.2)",
          "width": 3
         },
         "mode": "lines",
         "showlegend": false,
         "type": "scatter3d",
         "x": [
          -323.745319919014,
          -318.09381898123166
         ],
         "y": [
          922.960913598208,
          933.5434462464632
         ],
         "z": [
          730.3662206600204,
          730.6318141442347
         ]
        },
        {
         "line": {
          "color": "rgba(0,255,0,0.2)",
          "width": 3
         },
         "mode": "lines",
         "showlegend": false,
         "type": "scatter3d",
         "x": [
          -318.09381898123166,
          -322.0055953128396
         ],
         "y": [
          933.5434462464632,
          935.4952854583012
         ],
         "z": [
          730.6318141442347,
          736.0988361510135
         ]
        },
        {
         "line": {
          "color": "rgba(0,255,0,0.2)",
          "width": 3
         },
         "mode": "lines",
         "showlegend": false,
         "type": "scatter3d",
         "x": [
          -322.0055953128396,
          -327.6570962506219
         ],
         "y": [
          935.4952854583012,
          924.912752810046
         ],
         "z": [
          736.0988361510135,
          735.8332426667993
         ]
        },
        {
         "marker": {
          "color": "green",
          "size": 4
         },
         "mode": "markers",
         "name": "Mitte P11",
         "showlegend": false,
         "type": "scatter3d",
         "x": [
          -322.8754576159268
         ],
         "y": [
          929.2280995282546
         ],
         "z": [
          733.232528405517
         ]
        },
        {
         "color": "rgba(0,255,0,0.2)",
         "name": "optimale Trajektorie",
         "opacity": 0.8,
         "type": "mesh3d",
         "x": [
          -329.26629465856485,
          -325.29895014479496,
          -319.64061872508506,
          -323.60796323885495
         ],
         "y": [
          926.6066606436598,
          924.6570452227458,
          935.2339013614765,
          937.1835167823905
         ],
         "z": [
          733.015126651613,
          727.5874957485767,
          727.9242445649336,
          733.3518754679699
         ]
        },
        {
         "line": {
          "color": "rgba(0,255,0,0.2)",
          "width": 3
         },
         "mode": "lines",
         "showlegend": false,
         "type": "scatter3d",
         "x": [
          -329.26629465856485,
          -325.29895014479496
         ],
         "y": [
          926.6066606436598,
          924.6570452227458
         ],
         "z": [
          733.015126651613,
          727.5874957485767
         ]
        },
        {
         "line": {
          "color": "rgba(0,255,0,0.2)",
          "width": 3
         },
         "mode": "lines",
         "showlegend": false,
         "type": "scatter3d",
         "x": [
          -325.29895014479496,
          -319.64061872508506
         ],
         "y": [
          924.6570452227458,
          935.2339013614765
         ],
         "z": [
          727.5874957485767,
          727.9242445649336
         ]
        },
        {
         "line": {
          "color": "rgba(0,255,0,0.2)",
          "width": 3
         },
         "mode": "lines",
         "showlegend": false,
         "type": "scatter3d",
         "x": [
          -319.64061872508506,
          -323.60796323885495
         ],
         "y": [
          935.2339013614765,
          937.1835167823905
         ],
         "z": [
          727.9242445649336,
          733.3518754679699
         ]
        },
        {
         "line": {
          "color": "rgba(0,255,0,0.2)",
          "width": 3
         },
         "mode": "lines",
         "showlegend": false,
         "type": "scatter3d",
         "x": [
          -323.60796323885495,
          -329.26629465856485
         ],
         "y": [
          937.1835167823905,
          926.6066606436598
         ],
         "z": [
          733.3518754679699,
          733.015126651613
         ]
        },
        {
         "marker": {
          "color": "green",
          "size": 4
         },
         "mode": "markers",
         "name": "Mitte P11",
         "showlegend": false,
         "type": "scatter3d",
         "x": [
          -324.45345669182495
         ],
         "y": [
          930.9202810025681
         ],
         "z": [
          730.4696856082733
         ]
        },
        {
         "color": "rgba(0,255,0,0.2)",
         "name": "optimale Trajektorie",
         "opacity": 0.8,
         "type": "mesh3d",
         "x": [
          -331.6115605547648,
          -327.6083103731176,
          -321.98366711360774,
          -325.98691729525495
         ],
         "y": [
          927.5380134692306,
          925.604724325849,
          936.198190049526,
          938.1314791929076
         ],
         "z": [
          731.8506988902191,
          726.4436311940251,
          726.8202904094069,
          732.2273581056008
         ]
        },
        {
         "line": {
          "color": "rgba(0,255,0,0.2)",
          "width": 3
         },
         "mode": "lines",
         "showlegend": false,
         "type": "scatter3d",
         "x": [
          -331.6115605547648,
          -327.6083103731176
         ],
         "y": [
          927.5380134692306,
          925.604724325849
         ],
         "z": [
          731.8506988902191,
          726.4436311940251
         ]
        },
        {
         "line": {
          "color": "rgba(0,255,0,0.2)",
          "width": 3
         },
         "mode": "lines",
         "showlegend": false,
         "type": "scatter3d",
         "x": [
          -327.6083103731176,
          -321.98366711360774
         ],
         "y": [
          925.604724325849,
          936.198190049526
         ],
         "z": [
          726.4436311940251,
          726.8202904094069
         ]
        },
        {
         "line": {
          "color": "rgba(0,255,0,0.2)",
          "width": 3
         },
         "mode": "lines",
         "showlegend": false,
         "type": "scatter3d",
         "x": [
          -321.98366711360774,
          -325.98691729525495
         ],
         "y": [
          936.198190049526,
          938.1314791929076
         ],
         "z": [
          726.8202904094069,
          732.2273581056008
         ]
        },
        {
         "line": {
          "color": "rgba(0,255,0,0.2)",
          "width": 3
         },
         "mode": "lines",
         "showlegend": false,
         "type": "scatter3d",
         "x": [
          -325.98691729525495,
          -331.6115605547648
         ],
         "y": [
          938.1314791929076,
          927.5380134692306
         ],
         "z": [
          732.2273581056008,
          731.8506988902191
         ]
        },
        {
         "marker": {
          "color": "green",
          "size": 4
         },
         "mode": "markers",
         "name": "Mitte P11",
         "showlegend": false,
         "type": "scatter3d",
         "x": [
          -326.7976138341863
         ],
         "y": [
          931.8681017593783
         ],
         "z": [
          729.335494649813
         ]
        },
        {
         "color": "rgba(0,255,0,0.2)",
         "name": "optimale Trajektorie",
         "opacity": 0.8,
         "type": "mesh3d",
         "x": [
          -332.68093052053854,
          -331.66290547011613,
          -326.0529969077449,
          -327.0710219581673
         ],
         "y": [
          928.2917177480102,
          927.9875616326801,
          938.5894380440126,
          938.8935941593427
         ],
         "z": [
          731.5043064133849,
          724.5854109773908,
          724.9447749720621,
          731.8636704080562
         ]
        },
        {
         "line": {
          "color": "rgba(0,255,0,0.2)",
          "width": 3
         },
         "mode": "lines",
         "showlegend": false,
         "type": "scatter3d",
         "x": [
          -332.68093052053854,
          -331.66290547011613
         ],
         "y": [
          928.2917177480102,
          927.9875616326801
         ],
         "z": [
          731.5043064133849,
          724.5854109773908
         ]
        },
        {
         "line": {
          "color": "rgba(0,255,0,0.2)",
          "width": 3
         },
         "mode": "lines",
         "showlegend": false,
         "type": "scatter3d",
         "x": [
          -331.66290547011613,
          -326.0529969077449
         ],
         "y": [
          927.9875616326801,
          938.5894380440126
         ],
         "z": [
          724.5854109773908,
          724.9447749720621
         ]
        },
        {
         "line": {
          "color": "rgba(0,255,0,0.2)",
          "width": 3
         },
         "mode": "lines",
         "showlegend": false,
         "type": "scatter3d",
         "x": [
          -326.0529969077449,
          -327.0710219581673
         ],
         "y": [
          938.5894380440126,
          938.8935941593427
         ],
         "z": [
          724.9447749720621,
          731.8636704080562
         ]
        },
        {
         "line": {
          "color": "rgba(0,255,0,0.2)",
          "width": 3
         },
         "mode": "lines",
         "showlegend": false,
         "type": "scatter3d",
         "x": [
          -327.0710219581673,
          -332.68093052053854
         ],
         "y": [
          938.8935941593427,
          928.2917177480102
         ],
         "z": [
          731.8636704080562,
          731.5043064133849
         ]
        },
        {
         "marker": {
          "color": "green",
          "size": 4
         },
         "mode": "markers",
         "name": "Mitte P11",
         "showlegend": false,
         "type": "scatter3d",
         "x": [
          -329.3669637141418
         ],
         "y": [
          933.4405778960114
         ],
         "z": [
          728.2245406927235
         ]
        },
        {
         "line": {
          "color": "green",
          "width": 2
         },
         "mode": "lines",
         "name": "Optimale Hakenlinie",
         "type": "scatter3d",
         "x": {
          "bdata": "45fILrVBc8AJV9jfAS50wKbYzVtBR3TArUq5BsNsdMDs8FcV35V0wA==",
          "dtype": "f8"
         },
         "y": {
          "bdata": "3pmeYbnyjECxcNgl0wmNQEhJSbxcF41ACtFV3/EejUCtNbRNhiuNQA==",
          "dtype": "f8"
         },
         "z": {
          "bdata": "QkafWlAZh0CxSNo33OmGQHw3h+rB04ZAcKfRF6/KhkDznv3by8GGQA==",
          "dtype": "f8"
         }
        },
        {
         "line": {
          "color": "gray",
          "dash": "dash"
         },
         "mode": "lines",
         "name": "Direkte Gerade Spitze -> Senke",
         "type": "scatter3d",
         "x": [
          -316.1212419561852,
          -324.24512554319267
         ],
         "y": [
          929.7922314692777,
          933.7209497118496
         ],
         "z": [
          734.7675734208134,
          730.2895742435098
         ]
        },
        {
         "marker": {
          "color": "magenta",
          "size": 8
         },
         "mode": "markers",
         "name": "Spitze",
         "type": "scatter3d",
         "x": [
          -316.1212419561852
         ],
         "y": [
          929.7922314692777
         ],
         "z": [
          734.7675734208134
         ]
        },
        {
         "marker": {
          "color": "magenta",
          "size": 8
         },
         "mode": "markers",
         "name": "Senke",
         "type": "scatter3d",
         "x": [
          -324.24512554319267
         ],
         "y": [
          933.7209497118496
         ],
         "z": [
          730.2895742435098
         ]
        },
        {
         "mode": "text",
         "showlegend": false,
         "text": [
          "Spitze"
         ],
         "textfont": {
          "size": 10
         },
         "textposition": "top center",
         "type": "scatter3d",
         "x": [
          -316.1212419561852
         ],
         "y": [
          929.7922314692777
         ],
         "z": [
          734.7675734208134
         ]
        },
        {
         "mode": "text",
         "showlegend": false,
         "text": [
          "Senke"
         ],
         "textfont": {
          "size": 10
         },
         "textposition": "top center",
         "type": "scatter3d",
         "x": [
          -324.24512554319267
         ],
         "y": [
          933.7209497118496
         ],
         "z": [
          730.2895742435098
         ]
        }
       ],
       "layout": {
        "legend": {
         "title": {
          "text": "Legende"
         }
        },
        "scene": {
         "aspectmode": "cube",
         "xaxis": {
          "title": {
           "text": "X"
          }
         },
         "yaxis": {
          "title": {
           "text": "Y"
          }
         },
         "zaxis": {
          "title": {
           "text": "Z"
          }
         }
        },
        "template": {
         "data": {
          "bar": [
           {
            "error_x": {
             "color": "#2a3f5f"
            },
            "error_y": {
             "color": "#2a3f5f"
            },
            "marker": {
             "line": {
              "color": "#E5ECF6",
              "width": 0.5
             },
             "pattern": {
              "fillmode": "overlay",
              "size": 10,
              "solidity": 0.2
             }
            },
            "type": "bar"
           }
          ],
          "barpolar": [
           {
            "marker": {
             "line": {
              "color": "#E5ECF6",
              "width": 0.5
             },
             "pattern": {
              "fillmode": "overlay",
              "size": 10,
              "solidity": 0.2
             }
            },
            "type": "barpolar"
           }
          ],
          "carpet": [
           {
            "aaxis": {
             "endlinecolor": "#2a3f5f",
             "gridcolor": "white",
             "linecolor": "white",
             "minorgridcolor": "white",
             "startlinecolor": "#2a3f5f"
            },
            "baxis": {
             "endlinecolor": "#2a3f5f",
             "gridcolor": "white",
             "linecolor": "white",
             "minorgridcolor": "white",
             "startlinecolor": "#2a3f5f"
            },
            "type": "carpet"
           }
          ],
          "choropleth": [
           {
            "colorbar": {
             "outlinewidth": 0,
             "ticks": ""
            },
            "type": "choropleth"
           }
          ],
          "contour": [
           {
            "colorbar": {
             "outlinewidth": 0,
             "ticks": ""
            },
            "colorscale": [
             [
              0,
              "#0d0887"
             ],
             [
              0.1111111111111111,
              "#46039f"
             ],
             [
              0.2222222222222222,
              "#7201a8"
             ],
             [
              0.3333333333333333,
              "#9c179e"
             ],
             [
              0.4444444444444444,
              "#bd3786"
             ],
             [
              0.5555555555555556,
              "#d8576b"
             ],
             [
              0.6666666666666666,
              "#ed7953"
             ],
             [
              0.7777777777777778,
              "#fb9f3a"
             ],
             [
              0.8888888888888888,
              "#fdca26"
             ],
             [
              1,
              "#f0f921"
             ]
            ],
            "type": "contour"
           }
          ],
          "contourcarpet": [
           {
            "colorbar": {
             "outlinewidth": 0,
             "ticks": ""
            },
            "type": "contourcarpet"
           }
          ],
          "heatmap": [
           {
            "colorbar": {
             "outlinewidth": 0,
             "ticks": ""
            },
            "colorscale": [
             [
              0,
              "#0d0887"
             ],
             [
              0.1111111111111111,
              "#46039f"
             ],
             [
              0.2222222222222222,
              "#7201a8"
             ],
             [
              0.3333333333333333,
              "#9c179e"
             ],
             [
              0.4444444444444444,
              "#bd3786"
             ],
             [
              0.5555555555555556,
              "#d8576b"
             ],
             [
              0.6666666666666666,
              "#ed7953"
             ],
             [
              0.7777777777777778,
              "#fb9f3a"
             ],
             [
              0.8888888888888888,
              "#fdca26"
             ],
             [
              1,
              "#f0f921"
             ]
            ],
            "type": "heatmap"
           }
          ],
          "histogram": [
           {
            "marker": {
             "pattern": {
              "fillmode": "overlay",
              "size": 10,
              "solidity": 0.2
             }
            },
            "type": "histogram"
           }
          ],
          "histogram2d": [
           {
            "colorbar": {
             "outlinewidth": 0,
             "ticks": ""
            },
            "colorscale": [
             [
              0,
              "#0d0887"
             ],
             [
              0.1111111111111111,
              "#46039f"
             ],
             [
              0.2222222222222222,
              "#7201a8"
             ],
             [
              0.3333333333333333,
              "#9c179e"
             ],
             [
              0.4444444444444444,
              "#bd3786"
             ],
             [
              0.5555555555555556,
              "#d8576b"
             ],
             [
              0.6666666666666666,
              "#ed7953"
             ],
             [
              0.7777777777777778,
              "#fb9f3a"
             ],
             [
              0.8888888888888888,
              "#fdca26"
             ],
             [
              1,
              "#f0f921"
             ]
            ],
            "type": "histogram2d"
           }
          ],
          "histogram2dcontour": [
           {
            "colorbar": {
             "outlinewidth": 0,
             "ticks": ""
            },
            "colorscale": [
             [
              0,
              "#0d0887"
             ],
             [
              0.1111111111111111,
              "#46039f"
             ],
             [
              0.2222222222222222,
              "#7201a8"
             ],
             [
              0.3333333333333333,
              "#9c179e"
             ],
             [
              0.4444444444444444,
              "#bd3786"
             ],
             [
              0.5555555555555556,
              "#d8576b"
             ],
             [
              0.6666666666666666,
              "#ed7953"
             ],
             [
              0.7777777777777778,
              "#fb9f3a"
             ],
             [
              0.8888888888888888,
              "#fdca26"
             ],
             [
              1,
              "#f0f921"
             ]
            ],
            "type": "histogram2dcontour"
           }
          ],
          "mesh3d": [
           {
            "colorbar": {
             "outlinewidth": 0,
             "ticks": ""
            },
            "type": "mesh3d"
           }
          ],
          "parcoords": [
           {
            "line": {
             "colorbar": {
              "outlinewidth": 0,
              "ticks": ""
             }
            },
            "type": "parcoords"
           }
          ],
          "pie": [
           {
            "automargin": true,
            "type": "pie"
           }
          ],
          "scatter": [
           {
            "fillpattern": {
             "fillmode": "overlay",
             "size": 10,
             "solidity": 0.2
            },
            "type": "scatter"
           }
          ],
          "scatter3d": [
           {
            "line": {
             "colorbar": {
              "outlinewidth": 0,
              "ticks": ""
             }
            },
            "marker": {
             "colorbar": {
              "outlinewidth": 0,
              "ticks": ""
             }
            },
            "type": "scatter3d"
           }
          ],
          "scattercarpet": [
           {
            "marker": {
             "colorbar": {
              "outlinewidth": 0,
              "ticks": ""
             }
            },
            "type": "scattercarpet"
           }
          ],
          "scattergeo": [
           {
            "marker": {
             "colorbar": {
              "outlinewidth": 0,
              "ticks": ""
             }
            },
            "type": "scattergeo"
           }
          ],
          "scattergl": [
           {
            "marker": {
             "colorbar": {
              "outlinewidth": 0,
              "ticks": ""
             }
            },
            "type": "scattergl"
           }
          ],
          "scattermap": [
           {
            "marker": {
             "colorbar": {
              "outlinewidth": 0,
              "ticks": ""
             }
            },
            "type": "scattermap"
           }
          ],
          "scattermapbox": [
           {
            "marker": {
             "colorbar": {
              "outlinewidth": 0,
              "ticks": ""
             }
            },
            "type": "scattermapbox"
           }
          ],
          "scatterpolar": [
           {
            "marker": {
             "colorbar": {
              "outlinewidth": 0,
              "ticks": ""
             }
            },
            "type": "scatterpolar"
           }
          ],
          "scatterpolargl": [
           {
            "marker": {
             "colorbar": {
              "outlinewidth": 0,
              "ticks": ""
             }
            },
            "type": "scatterpolargl"
           }
          ],
          "scatterternary": [
           {
            "marker": {
             "colorbar": {
              "outlinewidth": 0,
              "ticks": ""
             }
            },
            "type": "scatterternary"
           }
          ],
          "surface": [
           {
            "colorbar": {
             "outlinewidth": 0,
             "ticks": ""
            },
            "colorscale": [
             [
              0,
              "#0d0887"
             ],
             [
              0.1111111111111111,
              "#46039f"
             ],
             [
              0.2222222222222222,
              "#7201a8"
             ],
             [
              0.3333333333333333,
              "#9c179e"
             ],
             [
              0.4444444444444444,
              "#bd3786"
             ],
             [
              0.5555555555555556,
              "#d8576b"
             ],
             [
              0.6666666666666666,
              "#ed7953"
             ],
             [
              0.7777777777777778,
              "#fb9f3a"
             ],
             [
              0.8888888888888888,
              "#fdca26"
             ],
             [
              1,
              "#f0f921"
             ]
            ],
            "type": "surface"
           }
          ],
          "table": [
           {
            "cells": {
             "fill": {
              "color": "#EBF0F8"
             },
             "line": {
              "color": "white"
             }
            },
            "header": {
             "fill": {
              "color": "#C8D4E3"
             },
             "line": {
              "color": "white"
             }
            },
            "type": "table"
           }
          ]
         },
         "layout": {
          "annotationdefaults": {
           "arrowcolor": "#2a3f5f",
           "arrowhead": 0,
           "arrowwidth": 1
          },
          "autotypenumbers": "strict",
          "coloraxis": {
           "colorbar": {
            "outlinewidth": 0,
            "ticks": ""
           }
          },
          "colorscale": {
           "diverging": [
            [
             0,
             "#8e0152"
            ],
            [
             0.1,
             "#c51b7d"
            ],
            [
             0.2,
             "#de77ae"
            ],
            [
             0.3,
             "#f1b6da"
            ],
            [
             0.4,
             "#fde0ef"
            ],
            [
             0.5,
             "#f7f7f7"
            ],
            [
             0.6,
             "#e6f5d0"
            ],
            [
             0.7,
             "#b8e186"
            ],
            [
             0.8,
             "#7fbc41"
            ],
            [
             0.9,
             "#4d9221"
            ],
            [
             1,
             "#276419"
            ]
           ],
           "sequential": [
            [
             0,
             "#0d0887"
            ],
            [
             0.1111111111111111,
             "#46039f"
            ],
            [
             0.2222222222222222,
             "#7201a8"
            ],
            [
             0.3333333333333333,
             "#9c179e"
            ],
            [
             0.4444444444444444,
             "#bd3786"
            ],
            [
             0.5555555555555556,
             "#d8576b"
            ],
            [
             0.6666666666666666,
             "#ed7953"
            ],
            [
             0.7777777777777778,
             "#fb9f3a"
            ],
            [
             0.8888888888888888,
             "#fdca26"
            ],
            [
             1,
             "#f0f921"
            ]
           ],
           "sequentialminus": [
            [
             0,
             "#0d0887"
            ],
            [
             0.1111111111111111,
             "#46039f"
            ],
            [
             0.2222222222222222,
             "#7201a8"
            ],
            [
             0.3333333333333333,
             "#9c179e"
            ],
            [
             0.4444444444444444,
             "#bd3786"
            ],
            [
             0.5555555555555556,
             "#d8576b"
            ],
            [
             0.6666666666666666,
             "#ed7953"
            ],
            [
             0.7777777777777778,
             "#fb9f3a"
            ],
            [
             0.8888888888888888,
             "#fdca26"
            ],
            [
             1,
             "#f0f921"
            ]
           ]
          },
          "colorway": [
           "#636efa",
           "#EF553B",
           "#00cc96",
           "#ab63fa",
           "#FFA15A",
           "#19d3f3",
           "#FF6692",
           "#B6E880",
           "#FF97FF",
           "#FECB52"
          ],
          "font": {
           "color": "#2a3f5f"
          },
          "geo": {
           "bgcolor": "white",
           "lakecolor": "white",
           "landcolor": "#E5ECF6",
           "showlakes": true,
           "showland": true,
           "subunitcolor": "white"
          },
          "hoverlabel": {
           "align": "left"
          },
          "hovermode": "closest",
          "mapbox": {
           "style": "light"
          },
          "paper_bgcolor": "white",
          "plot_bgcolor": "#E5ECF6",
          "polar": {
           "angularaxis": {
            "gridcolor": "white",
            "linecolor": "white",
            "ticks": ""
           },
           "bgcolor": "#E5ECF6",
           "radialaxis": {
            "gridcolor": "white",
            "linecolor": "white",
            "ticks": ""
           }
          },
          "scene": {
           "xaxis": {
            "backgroundcolor": "#E5ECF6",
            "gridcolor": "white",
            "gridwidth": 2,
            "linecolor": "white",
            "showbackground": true,
            "ticks": "",
            "zerolinecolor": "white"
           },
           "yaxis": {
            "backgroundcolor": "#E5ECF6",
            "gridcolor": "white",
            "gridwidth": 2,
            "linecolor": "white",
            "showbackground": true,
            "ticks": "",
            "zerolinecolor": "white"
           },
           "zaxis": {
            "backgroundcolor": "#E5ECF6",
            "gridcolor": "white",
            "gridwidth": 2,
            "linecolor": "white",
            "showbackground": true,
            "ticks": "",
            "zerolinecolor": "white"
           }
          },
          "shapedefaults": {
           "line": {
            "color": "#2a3f5f"
           }
          },
          "ternary": {
           "aaxis": {
            "gridcolor": "white",
            "linecolor": "white",
            "ticks": ""
           },
           "baxis": {
            "gridcolor": "white",
            "linecolor": "white",
            "ticks": ""
           },
           "bgcolor": "#E5ECF6",
           "caxis": {
            "gridcolor": "white",
            "linecolor": "white",
            "ticks": ""
           }
          },
          "title": {
           "x": 0.05
          },
          "xaxis": {
           "automargin": true,
           "gridcolor": "white",
           "linecolor": "white",
           "ticks": "",
           "title": {
            "standoff": 15
           },
           "zerolinecolor": "white",
           "zerolinewidth": 2
          },
          "yaxis": {
           "automargin": true,
           "gridcolor": "white",
           "linecolor": "white",
           "ticks": "",
           "title": {
            "standoff": 15
           },
           "zerolinecolor": "white",
           "zerolinewidth": 2
          }
         }
        },
        "title": {
         "text": "Haken 6, Trajektorien-Ansatz 2"
        }
       }
      }
     },
     "metadata": {},
     "output_type": "display_data"
    },
    {
     "name": "stdout",
     "output_type": "stream",
     "text": [
      "HTML-Datei '/home/mo/Thesis/Evaluation/Trajektorientests/CSV/traj3.html' erfolgreich erstellt!\n"
     ]
    },
    {
     "data": {
      "application/vnd.plotly.v1+json": {
       "config": {
        "plotlyServerURL": "https://plot.ly"
       },
       "data": [
        {
         "color": "rgba(31, 119, 180, 0.8)",
         "name": "P1",
         "opacity": 0.8,
         "type": "mesh3d",
         "x": [
          -311.7442258741905,
          -305.4253212362698,
          -304.4692422710879,
          -310.7881469090086
         ],
         "y": [
          920.4231065530607,
          920.6518309750203,
          932.2579295190062,
          932.0292050970467
         ],
         "z": [
          739.2180380848596,
          736.214851557908,
          739.1104326048873,
          742.1136191318388
         ]
        },
        {
         "marker": {
          "color": "red",
          "size": 3
         },
         "mode": "markers+text",
         "showlegend": false,
         "text": "",
         "textfont": {
          "size": 12
         },
         "textposition": "top center",
         "type": "scatter3d",
         "x": [
          -308.1067340726392
         ],
         "y": [
          926.3405180360335
         ],
         "z": [
          739.1642353448734
         ]
        },
        {
         "line": {
          "color": "rgba(31, 119, 180, 0.8)",
          "width": 4
         },
         "mode": "lines",
         "showlegend": false,
         "type": "scatter3d",
         "x": [
          -311.7442258741905,
          -305.4253212362698
         ],
         "y": [
          920.4231065530607,
          920.6518309750203
         ],
         "z": [
          739.2180380848596,
          736.214851557908
         ]
        },
        {
         "line": {
          "color": "rgba(31, 119, 180, 0.8)",
          "width": 4
         },
         "mode": "lines",
         "showlegend": false,
         "type": "scatter3d",
         "x": [
          -305.4253212362698,
          -304.4692422710879
         ],
         "y": [
          920.6518309750203,
          932.2579295190062
         ],
         "z": [
          736.214851557908,
          739.1104326048873
         ]
        },
        {
         "line": {
          "color": "rgba(31, 119, 180, 0.8)",
          "width": 4
         },
         "mode": "lines",
         "showlegend": false,
         "type": "scatter3d",
         "x": [
          -304.4692422710879,
          -310.7881469090086
         ],
         "y": [
          932.2579295190062,
          932.0292050970467
         ],
         "z": [
          739.1104326048873,
          742.1136191318388
         ]
        },
        {
         "line": {
          "color": "rgba(31, 119, 180, 0.8)",
          "width": 4
         },
         "mode": "lines",
         "showlegend": false,
         "type": "scatter3d",
         "x": [
          -310.7881469090086,
          -311.7442258741905
         ],
         "y": [
          932.0292050970467,
          920.4231065530607
         ],
         "z": [
          742.1136191318388,
          739.2180380848596
         ]
        },
        {
         "color": "rgba(174, 199, 232, 0.8)",
         "name": "P2",
         "opacity": 0.8,
         "type": "mesh3d",
         "x": [
          -319.7587337577365,
          -313.4398291198158,
          -312.4837501546339,
          -318.8026547925546
         ],
         "y": [
          923.8748199863049,
          924.1035444082645,
          935.7096429522504,
          935.4809185302909
         ],
         "z": [
          734.8213761607996,
          731.818189633848,
          734.7137706808272,
          737.7169572077788
         ]
        },
        {
         "marker": {
          "color": "red",
          "size": 3
         },
         "mode": "markers+text",
         "showlegend": false,
         "text": "",
         "textfont": {
          "size": 12
         },
         "textposition": "top center",
         "type": "scatter3d",
         "x": [
          -316.1212419561852
         ],
         "y": [
          929.7922314692776
         ],
         "z": [
          734.7675734208134
         ]
        },
        {
         "line": {
          "color": "rgba(174, 199, 232, 0.8)",
          "width": 4
         },
         "mode": "lines",
         "showlegend": false,
         "type": "scatter3d",
         "x": [
          -319.7587337577365,
          -313.4398291198158
         ],
         "y": [
          923.8748199863049,
          924.1035444082645
         ],
         "z": [
          734.8213761607996,
          731.818189633848
         ]
        },
        {
         "line": {
          "color": "rgba(174, 199, 232, 0.8)",
          "width": 4
         },
         "mode": "lines",
         "showlegend": false,
         "type": "scatter3d",
         "x": [
          -313.4398291198158,
          -312.4837501546339
         ],
         "y": [
          924.1035444082645,
          935.7096429522504
         ],
         "z": [
          731.818189633848,
          734.7137706808272
         ]
        },
        {
         "line": {
          "color": "rgba(174, 199, 232, 0.8)",
          "width": 4
         },
         "mode": "lines",
         "showlegend": false,
         "type": "scatter3d",
         "x": [
          -312.4837501546339,
          -318.8026547925546
         ],
         "y": [
          935.7096429522504,
          935.4809185302909
         ],
         "z": [
          734.7137706808272,
          737.7169572077788
         ]
        },
        {
         "line": {
          "color": "rgba(174, 199, 232, 0.8)",
          "width": 4
         },
         "mode": "lines",
         "showlegend": false,
         "type": "scatter3d",
         "x": [
          -318.8026547925546,
          -319.7587337577365
         ],
         "y": [
          935.4809185302909,
          923.8748199863049
         ],
         "z": [
          737.7169572077788,
          734.8213761607996
         ]
        },
        {
         "color": "rgba(255, 187, 120, 0.8)",
         "name": "P3",
         "opacity": 0.8,
         "type": "mesh3d",
         "x": [
          -320.3827164667765,
          -314.0638118288558,
          -313.10773286367396,
          -319.42663750159466
         ],
         "y": [
          926.0156688645341,
          926.2443932864936,
          937.8504918304795,
          937.62176740852
         ],
         "z": [
          734.0833236829507,
          731.0801371559991,
          733.9757182029783,
          736.9789047299299
         ]
        },
        {
         "marker": {
          "color": "red",
          "size": 3
         },
         "mode": "markers+text",
         "showlegend": false,
         "text": "P2",
         "textfont": {
          "size": 12
         },
         "textposition": "top center",
         "type": "scatter3d",
         "x": [
          -316.74522466522524
         ],
         "y": [
          931.9330803475068
         ],
         "z": [
          734.0295209429645
         ]
        },
        {
         "line": {
          "color": "rgba(255, 187, 120, 0.8)",
          "width": 4
         },
         "mode": "lines",
         "showlegend": false,
         "type": "scatter3d",
         "x": [
          -320.3827164667765,
          -314.0638118288558
         ],
         "y": [
          926.0156688645341,
          926.2443932864936
         ],
         "z": [
          734.0833236829507,
          731.0801371559991
         ]
        },
        {
         "line": {
          "color": "rgba(255, 187, 120, 0.8)",
          "width": 4
         },
         "mode": "lines",
         "showlegend": false,
         "type": "scatter3d",
         "x": [
          -314.0638118288558,
          -313.10773286367396
         ],
         "y": [
          926.2443932864936,
          937.8504918304795
         ],
         "z": [
          731.0801371559991,
          733.9757182029783
         ]
        },
        {
         "line": {
          "color": "rgba(255, 187, 120, 0.8)",
          "width": 4
         },
         "mode": "lines",
         "showlegend": false,
         "type": "scatter3d",
         "x": [
          -313.10773286367396,
          -319.42663750159466
         ],
         "y": [
          937.8504918304795,
          937.62176740852
         ],
         "z": [
          733.9757182029783,
          736.9789047299299
         ]
        },
        {
         "line": {
          "color": "rgba(255, 187, 120, 0.8)",
          "width": 4
         },
         "mode": "lines",
         "showlegend": false,
         "type": "scatter3d",
         "x": [
          -319.42663750159466,
          -320.3827164667765
         ],
         "y": [
          937.62176740852,
          926.0156688645341
         ],
         "z": [
          736.9789047299299,
          734.0833236829507
         ]
        },
        {
         "color": "rgba(152, 223, 138, 0.8)",
         "name": "P4",
         "opacity": 0.8,
         "type": "mesh3d",
         "x": [
          -321.14732181387376,
          -314.82841717595306,
          -313.8723382107712,
          -320.1912428486919
         ],
         "y": [
          927.1397850416552,
          927.3685094636147,
          938.9746080076006,
          938.7458835856411
         ],
         "z": [
          733.4906761854911,
          730.4874896585395,
          733.3830707055188,
          736.3862572324704
         ]
        },
        {
         "marker": {
          "color": "red",
          "size": 3
         },
         "mode": "markers+text",
         "showlegend": false,
         "text": "P3",
         "textfont": {
          "size": 12
         },
         "textposition": "top center",
         "type": "scatter3d",
         "x": [
          -317.5098300123225
         ],
         "y": [
          933.0571965246279
         ],
         "z": [
          733.436873445505
         ]
        },
        {
         "line": {
          "color": "rgba(152, 223, 138, 0.8)",
          "width": 4
         },
         "mode": "lines",
         "showlegend": false,
         "type": "scatter3d",
         "x": [
          -321.14732181387376,
          -314.82841717595306
         ],
         "y": [
          927.1397850416552,
          927.3685094636147
         ],
         "z": [
          733.4906761854911,
          730.4874896585395
         ]
        },
        {
         "line": {
          "color": "rgba(152, 223, 138, 0.8)",
          "width": 4
         },
         "mode": "lines",
         "showlegend": false,
         "type": "scatter3d",
         "x": [
          -314.82841717595306,
          -313.8723382107712
         ],
         "y": [
          927.3685094636147,
          938.9746080076006
         ],
         "z": [
          730.4874896585395,
          733.3830707055188
         ]
        },
        {
         "line": {
          "color": "rgba(152, 223, 138, 0.8)",
          "width": 4
         },
         "mode": "lines",
         "showlegend": false,
         "type": "scatter3d",
         "x": [
          -313.8723382107712,
          -320.1912428486919
         ],
         "y": [
          938.9746080076006,
          938.7458835856411
         ],
         "z": [
          733.3830707055188,
          736.3862572324704
         ]
        },
        {
         "line": {
          "color": "rgba(152, 223, 138, 0.8)",
          "width": 4
         },
         "mode": "lines",
         "showlegend": false,
         "type": "scatter3d",
         "x": [
          -320.1912428486919,
          -321.14732181387376
         ],
         "y": [
          938.7458835856411,
          927.1397850416552
         ],
         "z": [
          736.3862572324704,
          733.4906761854911
         ]
        },
        {
         "color": "rgba(255, 152, 150, 0.8)",
         "name": "P5",
         "opacity": 0.8,
         "type": "mesh3d",
         "x": [
          -322.04881766400683,
          -315.72991302608614,
          -314.7738340609043,
          -321.092738698825
         ],
         "y": [
          927.222962472862,
          927.4516868948216,
          939.0577854388075,
          938.829061016848
         ],
         "z": [
          732.8227949647165,
          729.8196084377649,
          732.7151894847442,
          735.7183760116958
         ]
        },
        {
         "marker": {
          "color": "red",
          "size": 3
         },
         "mode": "markers+text",
         "showlegend": false,
         "text": "P4",
         "textfont": {
          "size": 12
         },
         "textposition": "top center",
         "type": "scatter3d",
         "x": [
          -318.41132586245556
         ],
         "y": [
          933.1403739558348
         ],
         "z": [
          732.7689922247304
         ]
        },
        {
         "line": {
          "color": "rgba(255, 152, 150, 0.8)",
          "width": 4
         },
         "mode": "lines",
         "showlegend": false,
         "type": "scatter3d",
         "x": [
          -322.04881766400683,
          -315.72991302608614
         ],
         "y": [
          927.222962472862,
          927.4516868948216
         ],
         "z": [
          732.8227949647165,
          729.8196084377649
         ]
        },
        {
         "line": {
          "color": "rgba(255, 152, 150, 0.8)",
          "width": 4
         },
         "mode": "lines",
         "showlegend": false,
         "type": "scatter3d",
         "x": [
          -315.72991302608614,
          -314.7738340609043
         ],
         "y": [
          927.4516868948216,
          939.0577854388075
         ],
         "z": [
          729.8196084377649,
          732.7151894847442
         ]
        },
        {
         "line": {
          "color": "rgba(255, 152, 150, 0.8)",
          "width": 4
         },
         "mode": "lines",
         "showlegend": false,
         "type": "scatter3d",
         "x": [
          -314.7738340609043,
          -321.092738698825
         ],
         "y": [
          939.0577854388075,
          938.829061016848
         ],
         "z": [
          732.7151894847442,
          735.7183760116958
         ]
        },
        {
         "line": {
          "color": "rgba(255, 152, 150, 0.8)",
          "width": 4
         },
         "mode": "lines",
         "showlegend": false,
         "type": "scatter3d",
         "x": [
          -321.092738698825,
          -322.04881766400683
         ],
         "y": [
          938.829061016848,
          927.222962472862
         ],
         "z": [
          735.7183760116958,
          732.8227949647165
         ]
        },
        {
         "color": "rgba(197, 176, 213, 0.8)",
         "name": "P6",
         "opacity": 0.8,
         "type": "mesh3d",
         "x": [
          -322.9533279595767,
          -316.634423321656,
          -315.67834435647416,
          -321.99724899439485
         ],
         "y": [
          927.2858212888985,
          927.5145457108581,
          939.120644254844,
          938.8919198328845
         ],
         "z": [
          732.0787479633374,
          729.0755614363858,
          731.971142483365,
          734.9743290103166
         ]
        },
        {
         "marker": {
          "color": "red",
          "size": 3
         },
         "mode": "markers+text",
         "showlegend": false,
         "text": "P5",
         "textfont": {
          "size": 12
         },
         "textposition": "top center",
         "type": "scatter3d",
         "x": [
          -319.31583615802543
         ],
         "y": [
          933.2032327718713
         ],
         "z": [
          732.0249452233512
         ]
        },
        {
         "line": {
          "color": "rgba(197, 176, 213, 0.8)",
          "width": 4
         },
         "mode": "lines",
         "showlegend": false,
         "type": "scatter3d",
         "x": [
          -322.9533279595767,
          -316.634423321656
         ],
         "y": [
          927.2858212888985,
          927.5145457108581
         ],
         "z": [
          732.0787479633374,
          729.0755614363858
         ]
        },
        {
         "line": {
          "color": "rgba(197, 176, 213, 0.8)",
          "width": 4
         },
         "mode": "lines",
         "showlegend": false,
         "type": "scatter3d",
         "x": [
          -316.634423321656,
          -315.67834435647416
         ],
         "y": [
          927.5145457108581,
          939.120644254844
         ],
         "z": [
          729.0755614363858,
          731.971142483365
         ]
        },
        {
         "line": {
          "color": "rgba(197, 176, 213, 0.8)",
          "width": 4
         },
         "mode": "lines",
         "showlegend": false,
         "type": "scatter3d",
         "x": [
          -315.67834435647416,
          -321.99724899439485
         ],
         "y": [
          939.120644254844,
          938.8919198328845
         ],
         "z": [
          731.971142483365,
          734.9743290103166
         ]
        },
        {
         "line": {
          "color": "rgba(197, 176, 213, 0.8)",
          "width": 4
         },
         "mode": "lines",
         "showlegend": false,
         "type": "scatter3d",
         "x": [
          -321.99724899439485,
          -322.9533279595767
         ],
         "y": [
          938.8919198328845,
          927.2858212888985
         ],
         "z": [
          734.9743290103166,
          732.0787479633374
         ]
        },
        {
         "color": "rgba(140, 86, 75, 0.8)",
         "name": "P7",
         "opacity": 0.8,
         "type": "mesh3d",
         "x": [
          -323.85404150889565,
          -317.53513687097495,
          -316.5790579057931,
          -322.8979625437138
         ],
         "y": [
          927.3680116582032,
          927.5967360801627,
          939.2028346241486,
          938.9741102021891
         ],
         "z": [
          731.4864065931876,
          728.483220066236,
          731.3788011132152,
          734.3819876401668
         ]
        },
        {
         "marker": {
          "color": "red",
          "size": 3
         },
         "mode": "markers+text",
         "showlegend": false,
         "text": "P6",
         "textfont": {
          "size": 12
         },
         "textposition": "top center",
         "type": "scatter3d",
         "x": [
          -320.21654970734437
         ],
         "y": [
          933.2854231411759
         ],
         "z": [
          731.4326038532014
         ]
        },
        {
         "line": {
          "color": "rgba(140, 86, 75, 0.8)",
          "width": 4
         },
         "mode": "lines",
         "showlegend": false,
         "type": "scatter3d",
         "x": [
          -323.85404150889565,
          -317.53513687097495
         ],
         "y": [
          927.3680116582032,
          927.5967360801627
         ],
         "z": [
          731.4864065931876,
          728.483220066236
         ]
        },
        {
         "line": {
          "color": "rgba(140, 86, 75, 0.8)",
          "width": 4
         },
         "mode": "lines",
         "showlegend": false,
         "type": "scatter3d",
         "x": [
          -317.53513687097495,
          -316.5790579057931
         ],
         "y": [
          927.5967360801627,
          939.2028346241486
         ],
         "z": [
          728.483220066236,
          731.3788011132152
         ]
        },
        {
         "line": {
          "color": "rgba(140, 86, 75, 0.8)",
          "width": 4
         },
         "mode": "lines",
         "showlegend": false,
         "type": "scatter3d",
         "x": [
          -316.5790579057931,
          -322.8979625437138
         ],
         "y": [
          939.2028346241486,
          938.9741102021891
         ],
         "z": [
          731.3788011132152,
          734.3819876401668
         ]
        },
        {
         "line": {
          "color": "rgba(140, 86, 75, 0.8)",
          "width": 4
         },
         "mode": "lines",
         "showlegend": false,
         "type": "scatter3d",
         "x": [
          -322.8979625437138,
          -323.85404150889565
         ],
         "y": [
          938.9741102021891,
          927.3680116582032
         ],
         "z": [
          734.3819876401668,
          731.4864065931876
         ]
        },
        {
         "color": "rgba(227, 119, 194, 0.8)",
         "name": "P8",
         "opacity": 0.8,
         "type": "mesh3d",
         "x": [
          -324.7565328732301,
          -318.43762823530943,
          -317.4815492701276,
          -323.80045390804827
         ],
         "y": [
          927.443444396217,
          927.6721688181766,
          939.2782673621625,
          939.049542940203
         ],
         "z": [
          730.8175235970527,
          727.8143370701011,
          730.7099181170804,
          733.713104644032
         ]
        },
        {
         "marker": {
          "color": "red",
          "size": 3
         },
         "mode": "markers+text",
         "showlegend": false,
         "text": "P7",
         "textfont": {
          "size": 12
         },
         "textposition": "top center",
         "type": "scatter3d",
         "x": [
          -321.11904107167885
         ],
         "y": [
          933.3608558791899
         ],
         "z": [
          730.7637208570666
         ]
        },
        {
         "line": {
          "color": "rgba(227, 119, 194, 0.8)",
          "width": 4
         },
         "mode": "lines",
         "showlegend": false,
         "type": "scatter3d",
         "x": [
          -324.7565328732301,
          -318.43762823530943
         ],
         "y": [
          927.443444396217,
          927.6721688181766
         ],
         "z": [
          730.8175235970527,
          727.8143370701011
         ]
        },
        {
         "line": {
          "color": "rgba(227, 119, 194, 0.8)",
          "width": 4
         },
         "mode": "lines",
         "showlegend": false,
         "type": "scatter3d",
         "x": [
          -318.43762823530943,
          -317.4815492701276
         ],
         "y": [
          927.6721688181766,
          939.2782673621625
         ],
         "z": [
          727.8143370701011,
          730.7099181170804
         ]
        },
        {
         "line": {
          "color": "rgba(227, 119, 194, 0.8)",
          "width": 4
         },
         "mode": "lines",
         "showlegend": false,
         "type": "scatter3d",
         "x": [
          -317.4815492701276,
          -323.80045390804827
         ],
         "y": [
          939.2782673621625,
          939.049542940203
         ],
         "z": [
          730.7099181170804,
          733.713104644032
         ]
        },
        {
         "line": {
          "color": "rgba(227, 119, 194, 0.8)",
          "width": 4
         },
         "mode": "lines",
         "showlegend": false,
         "type": "scatter3d",
         "x": [
          -323.80045390804827,
          -324.7565328732301
         ],
         "y": [
          939.049542940203,
          927.443444396217
         ],
         "z": [
          733.713104644032,
          730.8175235970527
         ]
        },
        {
         "color": "rgba(127, 127, 127, 0.8)",
         "name": "P9",
         "opacity": 0.8,
         "type": "mesh3d",
         "x": [
          -325.6554532171877,
          -319.336548579267,
          -318.38046961408514,
          -324.69937425200584
         ],
         "y": [
          927.5390357347526,
          927.7677601567121,
          939.3738587006981,
          939.1451342787385
         ],
         "z": [
          730.3003213819861,
          727.2971348550345,
          730.1927159020138,
          733.1959024289654
         ]
        },
        {
         "marker": {
          "color": "red",
          "size": 3
         },
         "mode": "markers+text",
         "showlegend": false,
         "text": "P8",
         "textfont": {
          "size": 12
         },
         "textposition": "top center",
         "type": "scatter3d",
         "x": [
          -322.0179614156364
         ],
         "y": [
          933.4564472177253
         ],
         "z": [
          730.246518642
         ]
        },
        {
         "line": {
          "color": "rgba(127, 127, 127, 0.8)",
          "width": 4
         },
         "mode": "lines",
         "showlegend": false,
         "type": "scatter3d",
         "x": [
          -325.6554532171877,
          -319.336548579267
         ],
         "y": [
          927.5390357347526,
          927.7677601567121
         ],
         "z": [
          730.3003213819861,
          727.2971348550345
         ]
        },
        {
         "line": {
          "color": "rgba(127, 127, 127, 0.8)",
          "width": 4
         },
         "mode": "lines",
         "showlegend": false,
         "type": "scatter3d",
         "x": [
          -319.336548579267,
          -318.38046961408514
         ],
         "y": [
          927.7677601567121,
          939.3738587006981
         ],
         "z": [
          727.2971348550345,
          730.1927159020138
         ]
        },
        {
         "line": {
          "color": "rgba(127, 127, 127, 0.8)",
          "width": 4
         },
         "mode": "lines",
         "showlegend": false,
         "type": "scatter3d",
         "x": [
          -318.38046961408514,
          -324.69937425200584
         ],
         "y": [
          939.3738587006981,
          939.1451342787385
         ],
         "z": [
          730.1927159020138,
          733.1959024289654
         ]
        },
        {
         "line": {
          "color": "rgba(127, 127, 127, 0.8)",
          "width": 4
         },
         "mode": "lines",
         "showlegend": false,
         "type": "scatter3d",
         "x": [
          -324.69937425200584,
          -325.6554532171877
         ],
         "y": [
          939.1451342787385,
          927.5390357347526
         ],
         "z": [
          733.1959024289654,
          730.3003213819861
         ]
        },
        {
         "color": "rgba(188, 189, 34, 0.8)",
         "name": "P10",
         "opacity": 0.8,
         "type": "mesh3d",
         "x": [
          -326.6947121845151,
          -320.3758075465944,
          -319.4197285814125,
          -325.7386332193332
         ],
         "y": [
          927.6610866379827,
          927.8898110599423,
          939.4959096039282,
          939.2671851819687
         ],
         "z": [
          730.3205481432377,
          727.3173616162861,
          730.2129426632654,
          733.216129190217
         ]
        },
        {
         "marker": {
          "color": "red",
          "size": 3
         },
         "mode": "markers+text",
         "showlegend": false,
         "text": "P9",
         "textfont": {
          "size": 12
         },
         "textposition": "top center",
         "type": "scatter3d",
         "x": [
          -323.0572203829638
         ],
         "y": [
          933.5784981209555
         ],
         "z": [
          730.2667454032515
         ]
        },
        {
         "line": {
          "color": "rgba(188, 189, 34, 0.8)",
          "width": 4
         },
         "mode": "lines",
         "showlegend": false,
         "type": "scatter3d",
         "x": [
          -326.6947121845151,
          -320.3758075465944
         ],
         "y": [
          927.6610866379827,
          927.8898110599423
         ],
         "z": [
          730.3205481432377,
          727.3173616162861
         ]
        },
        {
         "line": {
          "color": "rgba(188, 189, 34, 0.8)",
          "width": 4
         },
         "mode": "lines",
         "showlegend": false,
         "type": "scatter3d",
         "x": [
          -320.3758075465944,
          -319.4197285814125
         ],
         "y": [
          927.8898110599423,
          939.4959096039282
         ],
         "z": [
          727.3173616162861,
          730.2129426632654
         ]
        },
        {
         "line": {
          "color": "rgba(188, 189, 34, 0.8)",
          "width": 4
         },
         "mode": "lines",
         "showlegend": false,
         "type": "scatter3d",
         "x": [
          -319.4197285814125,
          -325.7386332193332
         ],
         "y": [
          939.4959096039282,
          939.2671851819687
         ],
         "z": [
          730.2129426632654,
          733.216129190217
         ]
        },
        {
         "line": {
          "color": "rgba(188, 189, 34, 0.8)",
          "width": 4
         },
         "mode": "lines",
         "showlegend": false,
         "type": "scatter3d",
         "x": [
          -325.7386332193332,
          -326.6947121845151
         ],
         "y": [
          939.2671851819687,
          927.6610866379827
         ],
         "z": [
          733.216129190217,
          730.3205481432377
         ]
        },
        {
         "color": "rgba(23, 190, 207, 0.8)",
         "name": "P11",
         "opacity": 0.8,
         "type": "mesh3d",
         "x": [
          -327.88261734474395,
          -321.56371270682325,
          -320.6076337416414,
          -326.9265383795621
         ],
         "y": [
          927.8035382288768,
          928.0322626508364,
          939.6383611948223,
          939.4096367728628
         ],
         "z": [
          730.343376983496,
          727.3401904565444,
          730.2357715035237,
          733.2389580304753
         ]
        },
        {
         "marker": {
          "color": "red",
          "size": 3
         },
         "mode": "markers+text",
         "showlegend": false,
         "text": "",
         "textfont": {
          "size": 12
         },
         "textposition": "top center",
         "type": "scatter3d",
         "x": [
          -324.24512554319267
         ],
         "y": [
          933.7209497118495
         ],
         "z": [
          730.2895742435098
         ]
        },
        {
         "line": {
          "color": "rgba(23, 190, 207, 0.8)",
          "width": 4
         },
         "mode": "lines",
         "showlegend": false,
         "type": "scatter3d",
         "x": [
          -327.88261734474395,
          -321.56371270682325
         ],
         "y": [
          927.8035382288768,
          928.0322626508364
         ],
         "z": [
          730.343376983496,
          727.3401904565444
         ]
        },
        {
         "line": {
          "color": "rgba(23, 190, 207, 0.8)",
          "width": 4
         },
         "mode": "lines",
         "showlegend": false,
         "type": "scatter3d",
         "x": [
          -321.56371270682325,
          -320.6076337416414
         ],
         "y": [
          928.0322626508364,
          939.6383611948223
         ],
         "z": [
          727.3401904565444,
          730.2357715035237
         ]
        },
        {
         "line": {
          "color": "rgba(23, 190, 207, 0.8)",
          "width": 4
         },
         "mode": "lines",
         "showlegend": false,
         "type": "scatter3d",
         "x": [
          -320.6076337416414,
          -326.9265383795621
         ],
         "y": [
          939.6383611948223,
          939.4096367728628
         ],
         "z": [
          730.2357715035237,
          733.2389580304753
         ]
        },
        {
         "line": {
          "color": "rgba(23, 190, 207, 0.8)",
          "width": 4
         },
         "mode": "lines",
         "showlegend": false,
         "type": "scatter3d",
         "x": [
          -326.9265383795621,
          -327.88261734474395
         ],
         "y": [
          939.4096367728628,
          927.8035382288768
         ],
         "z": [
          733.2389580304753,
          730.343376983496
         ]
        },
        {
         "line": {
          "color": "black",
          "width": 2
         },
         "mode": "lines",
         "name": "Berechnete Hakenlinie",
         "type": "scatter3d",
         "x": {
          "bdata": "q3XJLrVBc8B/y2eb8MFzwArVsnDsy3PAHNeDQyjYc8Duc23KlOZzwNEZN6oN9XPACnDT/HYDdMDdW5yX5xF0wPnL6JFJIHTA6JfrX+owdMDU9sII7EN0wA==",
          "dtype": "f8"
         },
         "y": {
          "bdata": "siOFYbnyjEBG23N9Vg6NQKhI1PJ2H41AxpVzI3UojUAqbGF8HymNQE3lgDigKY1A+obti0gqjUCFPWgI4yqNQNiDzM2mK41AaXKfw6AsjUCiU0iBxC2NQA==",
          "dtype": "f8"
         },
         "z": {
          "bdata": "odieWlAZh0BhnYj9I/aGQKPkeXU88IZAekeBt37rhkDDQGXlJuaGQOEzexYz4IZA/UwC+XXbhkD+Qq4ZHNaGQPQJxN740YZAl/ppSyLShkAcDU0MUdKGQA==",
          "dtype": "f8"
         }
        },
        {
         "mode": "text",
         "showlegend": false,
         "text": [
          "Pre-Position"
         ],
         "textfont": {
          "size": 10
         },
         "textposition": "top center",
         "type": "scatter3d",
         "x": [
          -308.1067340726392
         ],
         "y": [
          926.3405180360335
         ],
         "z": [
          739.1642353448734
         ]
        },
        {
         "mode": "text",
         "showlegend": false,
         "text": [
          "Loslassen"
         ],
         "textfont": {
          "size": 10
         },
         "textposition": "top center",
         "type": "scatter3d",
         "x": [
          -324.24512554319267
         ],
         "y": [
          933.7209497118495
         ],
         "z": [
          730.2895742435098
         ]
        },
        {
         "color": "rgba(0,255,0,0.2)",
         "name": "optimale Trajektorie",
         "opacity": 0.8,
         "type": "mesh3d",
         "x": [
          -314.0807076717564,
          -310.68246827528543,
          -302.1327604670673,
          -305.5309998635383
         ],
         "y": [
          923.8704591078717,
          920.3903608818385,
          928.8105773436027,
          932.2906755696359
         ],
         "z": [
          741.705976356259,
          736.6720032393828,
          736.622494339869,
          741.6564674567453
         ]
        },
        {
         "line": {
          "color": "rgba(0,255,0,0.2)",
          "width": 3
         },
         "mode": "lines",
         "showlegend": false,
         "type": "scatter3d",
         "x": [
          -314.0807076717564,
          -310.68246827528543
         ],
         "y": [
          923.8704591078717,
          920.3903608818385
         ],
         "z": [
          741.705976356259,
          736.6720032393828
         ]
        },
        {
         "line": {
          "color": "rgba(0,255,0,0.2)",
          "width": 3
         },
         "mode": "lines",
         "showlegend": false,
         "type": "scatter3d",
         "x": [
          -310.68246827528543,
          -302.1327604670673
         ],
         "y": [
          920.3903608818385,
          928.8105773436027
         ],
         "z": [
          736.6720032393828,
          736.622494339869
         ]
        },
        {
         "line": {
          "color": "rgba(0,255,0,0.2)",
          "width": 3
         },
         "mode": "lines",
         "showlegend": false,
         "type": "scatter3d",
         "x": [
          -302.1327604670673,
          -305.5309998635383
         ],
         "y": [
          928.8105773436027,
          932.2906755696359
         ],
         "z": [
          736.622494339869,
          741.6564674567453
         ]
        },
        {
         "line": {
          "color": "rgba(0,255,0,0.2)",
          "width": 3
         },
         "mode": "lines",
         "showlegend": false,
         "type": "scatter3d",
         "x": [
          -305.5309998635383,
          -314.0807076717564
         ],
         "y": [
          932.2906755696359,
          923.8704591078717
         ],
         "z": [
          741.6564674567453,
          741.705976356259
         ]
        },
        {
         "marker": {
          "color": "green",
          "size": 4
         },
         "mode": "markers",
         "name": "Mitte P11",
         "showlegend": false,
         "type": "scatter3d",
         "x": [
          -308.10673406941186
         ],
         "y": [
          926.3405182257372
         ],
         "z": [
          739.164235348064
         ]
        },
        {
         "color": "rgba(0,255,0,0.2)",
         "name": "optimale Trajektorie",
         "opacity": 0.8,
         "type": "mesh3d",
         "x": [
          -327.6570962506219,
          -323.745319919014,
          -318.09381898123166,
          -322.0055953128396
         ],
         "y": [
          924.912752810046,
          922.960913598208,
          933.5434462464632,
          935.4952854583012
         ],
         "z": [
          735.8332426667993,
          730.3662206600204,
          730.6318141442347,
          736.0988361510135
         ]
        },
        {
         "line": {
          "color": "rgba(0,255,0,0.2)",
          "width": 3
         },
         "mode": "lines",
         "showlegend": false,
         "type": "scatter3d",
         "x": [
          -327.6570962506219,
          -323.745319919014
         ],
         "y": [
          924.912752810046,
          922.960913598208
         ],
         "z": [
          735.8332426667993,
          730.3662206600204
         ]
        },
        {
         "line": {
          "color": "rgba(0,255,0,0.2)",
          "width": 3
         },
         "mode": "lines",
         "showlegend": false,
         "type": "scatter3d",
         "x": [
          -323.745319919014,
          -318.09381898123166
         ],
         "y": [
          922.960913598208,
          933.5434462464632
         ],
         "z": [
          730.3662206600204,
          730.6318141442347
         ]
        },
        {
         "line": {
          "color": "rgba(0,255,0,0.2)",
          "width": 3
         },
         "mode": "lines",
         "showlegend": false,
         "type": "scatter3d",
         "x": [
          -318.09381898123166,
          -322.0055953128396
         ],
         "y": [
          933.5434462464632,
          935.4952854583012
         ],
         "z": [
          730.6318141442347,
          736.0988361510135
         ]
        },
        {
         "line": {
          "color": "rgba(0,255,0,0.2)",
          "width": 3
         },
         "mode": "lines",
         "showlegend": false,
         "type": "scatter3d",
         "x": [
          -322.0055953128396,
          -327.6570962506219
         ],
         "y": [
          935.4952854583012,
          924.912752810046
         ],
         "z": [
          736.0988361510135,
          735.8332426667993
         ]
        },
        {
         "marker": {
          "color": "green",
          "size": 4
         },
         "mode": "markers",
         "name": "Mitte P11",
         "showlegend": false,
         "type": "scatter3d",
         "x": [
          -322.8754576159268
         ],
         "y": [
          929.2280995282546
         ],
         "z": [
          733.232528405517
         ]
        },
        {
         "color": "rgba(0,255,0,0.2)",
         "name": "optimale Trajektorie",
         "opacity": 0.8,
         "type": "mesh3d",
         "x": [
          -329.26629465856485,
          -325.29895014479496,
          -319.64061872508506,
          -323.60796323885495
         ],
         "y": [
          926.6066606436598,
          924.6570452227458,
          935.2339013614765,
          937.1835167823905
         ],
         "z": [
          733.015126651613,
          727.5874957485767,
          727.9242445649336,
          733.3518754679699
         ]
        },
        {
         "line": {
          "color": "rgba(0,255,0,0.2)",
          "width": 3
         },
         "mode": "lines",
         "showlegend": false,
         "type": "scatter3d",
         "x": [
          -329.26629465856485,
          -325.29895014479496
         ],
         "y": [
          926.6066606436598,
          924.6570452227458
         ],
         "z": [
          733.015126651613,
          727.5874957485767
         ]
        },
        {
         "line": {
          "color": "rgba(0,255,0,0.2)",
          "width": 3
         },
         "mode": "lines",
         "showlegend": false,
         "type": "scatter3d",
         "x": [
          -325.29895014479496,
          -319.64061872508506
         ],
         "y": [
          924.6570452227458,
          935.2339013614765
         ],
         "z": [
          727.5874957485767,
          727.9242445649336
         ]
        },
        {
         "line": {
          "color": "rgba(0,255,0,0.2)",
          "width": 3
         },
         "mode": "lines",
         "showlegend": false,
         "type": "scatter3d",
         "x": [
          -319.64061872508506,
          -323.60796323885495
         ],
         "y": [
          935.2339013614765,
          937.1835167823905
         ],
         "z": [
          727.9242445649336,
          733.3518754679699
         ]
        },
        {
         "line": {
          "color": "rgba(0,255,0,0.2)",
          "width": 3
         },
         "mode": "lines",
         "showlegend": false,
         "type": "scatter3d",
         "x": [
          -323.60796323885495,
          -329.26629465856485
         ],
         "y": [
          937.1835167823905,
          926.6066606436598
         ],
         "z": [
          733.3518754679699,
          733.015126651613
         ]
        },
        {
         "marker": {
          "color": "green",
          "size": 4
         },
         "mode": "markers",
         "name": "Mitte P11",
         "showlegend": false,
         "type": "scatter3d",
         "x": [
          -324.45345669182495
         ],
         "y": [
          930.9202810025681
         ],
         "z": [
          730.4696856082733
         ]
        },
        {
         "color": "rgba(0,255,0,0.2)",
         "name": "optimale Trajektorie",
         "opacity": 0.8,
         "type": "mesh3d",
         "x": [
          -331.6115605547648,
          -327.6083103731176,
          -321.98366711360774,
          -325.98691729525495
         ],
         "y": [
          927.5380134692306,
          925.604724325849,
          936.198190049526,
          938.1314791929076
         ],
         "z": [
          731.8506988902191,
          726.4436311940251,
          726.8202904094069,
          732.2273581056008
         ]
        },
        {
         "line": {
          "color": "rgba(0,255,0,0.2)",
          "width": 3
         },
         "mode": "lines",
         "showlegend": false,
         "type": "scatter3d",
         "x": [
          -331.6115605547648,
          -327.6083103731176
         ],
         "y": [
          927.5380134692306,
          925.604724325849
         ],
         "z": [
          731.8506988902191,
          726.4436311940251
         ]
        },
        {
         "line": {
          "color": "rgba(0,255,0,0.2)",
          "width": 3
         },
         "mode": "lines",
         "showlegend": false,
         "type": "scatter3d",
         "x": [
          -327.6083103731176,
          -321.98366711360774
         ],
         "y": [
          925.604724325849,
          936.198190049526
         ],
         "z": [
          726.4436311940251,
          726.8202904094069
         ]
        },
        {
         "line": {
          "color": "rgba(0,255,0,0.2)",
          "width": 3
         },
         "mode": "lines",
         "showlegend": false,
         "type": "scatter3d",
         "x": [
          -321.98366711360774,
          -325.98691729525495
         ],
         "y": [
          936.198190049526,
          938.1314791929076
         ],
         "z": [
          726.8202904094069,
          732.2273581056008
         ]
        },
        {
         "line": {
          "color": "rgba(0,255,0,0.2)",
          "width": 3
         },
         "mode": "lines",
         "showlegend": false,
         "type": "scatter3d",
         "x": [
          -325.98691729525495,
          -331.6115605547648
         ],
         "y": [
          938.1314791929076,
          927.5380134692306
         ],
         "z": [
          732.2273581056008,
          731.8506988902191
         ]
        },
        {
         "marker": {
          "color": "green",
          "size": 4
         },
         "mode": "markers",
         "name": "Mitte P11",
         "showlegend": false,
         "type": "scatter3d",
         "x": [
          -326.7976138341863
         ],
         "y": [
          931.8681017593783
         ],
         "z": [
          729.335494649813
         ]
        },
        {
         "color": "rgba(0,255,0,0.2)",
         "name": "optimale Trajektorie",
         "opacity": 0.8,
         "type": "mesh3d",
         "x": [
          -332.68093052053854,
          -331.66290547011613,
          -326.0529969077449,
          -327.0710219581673
         ],
         "y": [
          928.2917177480102,
          927.9875616326801,
          938.5894380440126,
          938.8935941593427
         ],
         "z": [
          731.5043064133849,
          724.5854109773908,
          724.9447749720621,
          731.8636704080562
         ]
        },
        {
         "line": {
          "color": "rgba(0,255,0,0.2)",
          "width": 3
         },
         "mode": "lines",
         "showlegend": false,
         "type": "scatter3d",
         "x": [
          -332.68093052053854,
          -331.66290547011613
         ],
         "y": [
          928.2917177480102,
          927.9875616326801
         ],
         "z": [
          731.5043064133849,
          724.5854109773908
         ]
        },
        {
         "line": {
          "color": "rgba(0,255,0,0.2)",
          "width": 3
         },
         "mode": "lines",
         "showlegend": false,
         "type": "scatter3d",
         "x": [
          -331.66290547011613,
          -326.0529969077449
         ],
         "y": [
          927.9875616326801,
          938.5894380440126
         ],
         "z": [
          724.5854109773908,
          724.9447749720621
         ]
        },
        {
         "line": {
          "color": "rgba(0,255,0,0.2)",
          "width": 3
         },
         "mode": "lines",
         "showlegend": false,
         "type": "scatter3d",
         "x": [
          -326.0529969077449,
          -327.0710219581673
         ],
         "y": [
          938.5894380440126,
          938.8935941593427
         ],
         "z": [
          724.9447749720621,
          731.8636704080562
         ]
        },
        {
         "line": {
          "color": "rgba(0,255,0,0.2)",
          "width": 3
         },
         "mode": "lines",
         "showlegend": false,
         "type": "scatter3d",
         "x": [
          -327.0710219581673,
          -332.68093052053854
         ],
         "y": [
          938.8935941593427,
          928.2917177480102
         ],
         "z": [
          731.8636704080562,
          731.5043064133849
         ]
        },
        {
         "marker": {
          "color": "green",
          "size": 4
         },
         "mode": "markers",
         "name": "Mitte P11",
         "showlegend": false,
         "type": "scatter3d",
         "x": [
          -329.3669637141418
         ],
         "y": [
          933.4405778960114
         ],
         "z": [
          728.2245406927235
         ]
        },
        {
         "line": {
          "color": "green",
          "width": 2
         },
         "mode": "lines",
         "name": "Optimale Hakenlinie",
         "type": "scatter3d",
         "x": {
          "bdata": "45fILrVBc8AJV9jfAS50wKbYzVtBR3TArUq5BsNsdMDs8FcV35V0wA==",
          "dtype": "f8"
         },
         "y": {
          "bdata": "3pmeYbnyjECxcNgl0wmNQEhJSbxcF41ACtFV3/EejUCtNbRNhiuNQA==",
          "dtype": "f8"
         },
         "z": {
          "bdata": "QkafWlAZh0CxSNo33OmGQHw3h+rB04ZAcKfRF6/KhkDznv3by8GGQA==",
          "dtype": "f8"
         }
        },
        {
         "line": {
          "color": "gray",
          "dash": "dash"
         },
         "mode": "lines",
         "name": "Direkte Gerade Spitze -> Senke",
         "type": "scatter3d",
         "x": [
          -316.1212419561852,
          -324.24512554319267
         ],
         "y": [
          929.7922314692777,
          933.7209497118496
         ],
         "z": [
          734.7675734208134,
          730.2895742435098
         ]
        },
        {
         "marker": {
          "color": "magenta",
          "size": 8
         },
         "mode": "markers",
         "name": "Spitze",
         "type": "scatter3d",
         "x": [
          -316.1212419561852
         ],
         "y": [
          929.7922314692777
         ],
         "z": [
          734.7675734208134
         ]
        },
        {
         "marker": {
          "color": "magenta",
          "size": 8
         },
         "mode": "markers",
         "name": "Senke",
         "type": "scatter3d",
         "x": [
          -324.24512554319267
         ],
         "y": [
          933.7209497118496
         ],
         "z": [
          730.2895742435098
         ]
        },
        {
         "mode": "text",
         "showlegend": false,
         "text": [
          "Spitze"
         ],
         "textfont": {
          "size": 10
         },
         "textposition": "top center",
         "type": "scatter3d",
         "x": [
          -316.1212419561852
         ],
         "y": [
          929.7922314692777
         ],
         "z": [
          734.7675734208134
         ]
        },
        {
         "mode": "text",
         "showlegend": false,
         "text": [
          "Senke"
         ],
         "textfont": {
          "size": 10
         },
         "textposition": "top center",
         "type": "scatter3d",
         "x": [
          -324.24512554319267
         ],
         "y": [
          933.7209497118496
         ],
         "z": [
          730.2895742435098
         ]
        }
       ],
       "layout": {
        "legend": {
         "title": {
          "text": "Legende"
         }
        },
        "scene": {
         "aspectmode": "cube",
         "xaxis": {
          "title": {
           "text": "X"
          }
         },
         "yaxis": {
          "title": {
           "text": "Y"
          }
         },
         "zaxis": {
          "title": {
           "text": "Z"
          }
         }
        },
        "template": {
         "data": {
          "bar": [
           {
            "error_x": {
             "color": "#2a3f5f"
            },
            "error_y": {
             "color": "#2a3f5f"
            },
            "marker": {
             "line": {
              "color": "#E5ECF6",
              "width": 0.5
             },
             "pattern": {
              "fillmode": "overlay",
              "size": 10,
              "solidity": 0.2
             }
            },
            "type": "bar"
           }
          ],
          "barpolar": [
           {
            "marker": {
             "line": {
              "color": "#E5ECF6",
              "width": 0.5
             },
             "pattern": {
              "fillmode": "overlay",
              "size": 10,
              "solidity": 0.2
             }
            },
            "type": "barpolar"
           }
          ],
          "carpet": [
           {
            "aaxis": {
             "endlinecolor": "#2a3f5f",
             "gridcolor": "white",
             "linecolor": "white",
             "minorgridcolor": "white",
             "startlinecolor": "#2a3f5f"
            },
            "baxis": {
             "endlinecolor": "#2a3f5f",
             "gridcolor": "white",
             "linecolor": "white",
             "minorgridcolor": "white",
             "startlinecolor": "#2a3f5f"
            },
            "type": "carpet"
           }
          ],
          "choropleth": [
           {
            "colorbar": {
             "outlinewidth": 0,
             "ticks": ""
            },
            "type": "choropleth"
           }
          ],
          "contour": [
           {
            "colorbar": {
             "outlinewidth": 0,
             "ticks": ""
            },
            "colorscale": [
             [
              0,
              "#0d0887"
             ],
             [
              0.1111111111111111,
              "#46039f"
             ],
             [
              0.2222222222222222,
              "#7201a8"
             ],
             [
              0.3333333333333333,
              "#9c179e"
             ],
             [
              0.4444444444444444,
              "#bd3786"
             ],
             [
              0.5555555555555556,
              "#d8576b"
             ],
             [
              0.6666666666666666,
              "#ed7953"
             ],
             [
              0.7777777777777778,
              "#fb9f3a"
             ],
             [
              0.8888888888888888,
              "#fdca26"
             ],
             [
              1,
              "#f0f921"
             ]
            ],
            "type": "contour"
           }
          ],
          "contourcarpet": [
           {
            "colorbar": {
             "outlinewidth": 0,
             "ticks": ""
            },
            "type": "contourcarpet"
           }
          ],
          "heatmap": [
           {
            "colorbar": {
             "outlinewidth": 0,
             "ticks": ""
            },
            "colorscale": [
             [
              0,
              "#0d0887"
             ],
             [
              0.1111111111111111,
              "#46039f"
             ],
             [
              0.2222222222222222,
              "#7201a8"
             ],
             [
              0.3333333333333333,
              "#9c179e"
             ],
             [
              0.4444444444444444,
              "#bd3786"
             ],
             [
              0.5555555555555556,
              "#d8576b"
             ],
             [
              0.6666666666666666,
              "#ed7953"
             ],
             [
              0.7777777777777778,
              "#fb9f3a"
             ],
             [
              0.8888888888888888,
              "#fdca26"
             ],
             [
              1,
              "#f0f921"
             ]
            ],
            "type": "heatmap"
           }
          ],
          "histogram": [
           {
            "marker": {
             "pattern": {
              "fillmode": "overlay",
              "size": 10,
              "solidity": 0.2
             }
            },
            "type": "histogram"
           }
          ],
          "histogram2d": [
           {
            "colorbar": {
             "outlinewidth": 0,
             "ticks": ""
            },
            "colorscale": [
             [
              0,
              "#0d0887"
             ],
             [
              0.1111111111111111,
              "#46039f"
             ],
             [
              0.2222222222222222,
              "#7201a8"
             ],
             [
              0.3333333333333333,
              "#9c179e"
             ],
             [
              0.4444444444444444,
              "#bd3786"
             ],
             [
              0.5555555555555556,
              "#d8576b"
             ],
             [
              0.6666666666666666,
              "#ed7953"
             ],
             [
              0.7777777777777778,
              "#fb9f3a"
             ],
             [
              0.8888888888888888,
              "#fdca26"
             ],
             [
              1,
              "#f0f921"
             ]
            ],
            "type": "histogram2d"
           }
          ],
          "histogram2dcontour": [
           {
            "colorbar": {
             "outlinewidth": 0,
             "ticks": ""
            },
            "colorscale": [
             [
              0,
              "#0d0887"
             ],
             [
              0.1111111111111111,
              "#46039f"
             ],
             [
              0.2222222222222222,
              "#7201a8"
             ],
             [
              0.3333333333333333,
              "#9c179e"
             ],
             [
              0.4444444444444444,
              "#bd3786"
             ],
             [
              0.5555555555555556,
              "#d8576b"
             ],
             [
              0.6666666666666666,
              "#ed7953"
             ],
             [
              0.7777777777777778,
              "#fb9f3a"
             ],
             [
              0.8888888888888888,
              "#fdca26"
             ],
             [
              1,
              "#f0f921"
             ]
            ],
            "type": "histogram2dcontour"
           }
          ],
          "mesh3d": [
           {
            "colorbar": {
             "outlinewidth": 0,
             "ticks": ""
            },
            "type": "mesh3d"
           }
          ],
          "parcoords": [
           {
            "line": {
             "colorbar": {
              "outlinewidth": 0,
              "ticks": ""
             }
            },
            "type": "parcoords"
           }
          ],
          "pie": [
           {
            "automargin": true,
            "type": "pie"
           }
          ],
          "scatter": [
           {
            "fillpattern": {
             "fillmode": "overlay",
             "size": 10,
             "solidity": 0.2
            },
            "type": "scatter"
           }
          ],
          "scatter3d": [
           {
            "line": {
             "colorbar": {
              "outlinewidth": 0,
              "ticks": ""
             }
            },
            "marker": {
             "colorbar": {
              "outlinewidth": 0,
              "ticks": ""
             }
            },
            "type": "scatter3d"
           }
          ],
          "scattercarpet": [
           {
            "marker": {
             "colorbar": {
              "outlinewidth": 0,
              "ticks": ""
             }
            },
            "type": "scattercarpet"
           }
          ],
          "scattergeo": [
           {
            "marker": {
             "colorbar": {
              "outlinewidth": 0,
              "ticks": ""
             }
            },
            "type": "scattergeo"
           }
          ],
          "scattergl": [
           {
            "marker": {
             "colorbar": {
              "outlinewidth": 0,
              "ticks": ""
             }
            },
            "type": "scattergl"
           }
          ],
          "scattermap": [
           {
            "marker": {
             "colorbar": {
              "outlinewidth": 0,
              "ticks": ""
             }
            },
            "type": "scattermap"
           }
          ],
          "scattermapbox": [
           {
            "marker": {
             "colorbar": {
              "outlinewidth": 0,
              "ticks": ""
             }
            },
            "type": "scattermapbox"
           }
          ],
          "scatterpolar": [
           {
            "marker": {
             "colorbar": {
              "outlinewidth": 0,
              "ticks": ""
             }
            },
            "type": "scatterpolar"
           }
          ],
          "scatterpolargl": [
           {
            "marker": {
             "colorbar": {
              "outlinewidth": 0,
              "ticks": ""
             }
            },
            "type": "scatterpolargl"
           }
          ],
          "scatterternary": [
           {
            "marker": {
             "colorbar": {
              "outlinewidth": 0,
              "ticks": ""
             }
            },
            "type": "scatterternary"
           }
          ],
          "surface": [
           {
            "colorbar": {
             "outlinewidth": 0,
             "ticks": ""
            },
            "colorscale": [
             [
              0,
              "#0d0887"
             ],
             [
              0.1111111111111111,
              "#46039f"
             ],
             [
              0.2222222222222222,
              "#7201a8"
             ],
             [
              0.3333333333333333,
              "#9c179e"
             ],
             [
              0.4444444444444444,
              "#bd3786"
             ],
             [
              0.5555555555555556,
              "#d8576b"
             ],
             [
              0.6666666666666666,
              "#ed7953"
             ],
             [
              0.7777777777777778,
              "#fb9f3a"
             ],
             [
              0.8888888888888888,
              "#fdca26"
             ],
             [
              1,
              "#f0f921"
             ]
            ],
            "type": "surface"
           }
          ],
          "table": [
           {
            "cells": {
             "fill": {
              "color": "#EBF0F8"
             },
             "line": {
              "color": "white"
             }
            },
            "header": {
             "fill": {
              "color": "#C8D4E3"
             },
             "line": {
              "color": "white"
             }
            },
            "type": "table"
           }
          ]
         },
         "layout": {
          "annotationdefaults": {
           "arrowcolor": "#2a3f5f",
           "arrowhead": 0,
           "arrowwidth": 1
          },
          "autotypenumbers": "strict",
          "coloraxis": {
           "colorbar": {
            "outlinewidth": 0,
            "ticks": ""
           }
          },
          "colorscale": {
           "diverging": [
            [
             0,
             "#8e0152"
            ],
            [
             0.1,
             "#c51b7d"
            ],
            [
             0.2,
             "#de77ae"
            ],
            [
             0.3,
             "#f1b6da"
            ],
            [
             0.4,
             "#fde0ef"
            ],
            [
             0.5,
             "#f7f7f7"
            ],
            [
             0.6,
             "#e6f5d0"
            ],
            [
             0.7,
             "#b8e186"
            ],
            [
             0.8,
             "#7fbc41"
            ],
            [
             0.9,
             "#4d9221"
            ],
            [
             1,
             "#276419"
            ]
           ],
           "sequential": [
            [
             0,
             "#0d0887"
            ],
            [
             0.1111111111111111,
             "#46039f"
            ],
            [
             0.2222222222222222,
             "#7201a8"
            ],
            [
             0.3333333333333333,
             "#9c179e"
            ],
            [
             0.4444444444444444,
             "#bd3786"
            ],
            [
             0.5555555555555556,
             "#d8576b"
            ],
            [
             0.6666666666666666,
             "#ed7953"
            ],
            [
             0.7777777777777778,
             "#fb9f3a"
            ],
            [
             0.8888888888888888,
             "#fdca26"
            ],
            [
             1,
             "#f0f921"
            ]
           ],
           "sequentialminus": [
            [
             0,
             "#0d0887"
            ],
            [
             0.1111111111111111,
             "#46039f"
            ],
            [
             0.2222222222222222,
             "#7201a8"
            ],
            [
             0.3333333333333333,
             "#9c179e"
            ],
            [
             0.4444444444444444,
             "#bd3786"
            ],
            [
             0.5555555555555556,
             "#d8576b"
            ],
            [
             0.6666666666666666,
             "#ed7953"
            ],
            [
             0.7777777777777778,
             "#fb9f3a"
            ],
            [
             0.8888888888888888,
             "#fdca26"
            ],
            [
             1,
             "#f0f921"
            ]
           ]
          },
          "colorway": [
           "#636efa",
           "#EF553B",
           "#00cc96",
           "#ab63fa",
           "#FFA15A",
           "#19d3f3",
           "#FF6692",
           "#B6E880",
           "#FF97FF",
           "#FECB52"
          ],
          "font": {
           "color": "#2a3f5f"
          },
          "geo": {
           "bgcolor": "white",
           "lakecolor": "white",
           "landcolor": "#E5ECF6",
           "showlakes": true,
           "showland": true,
           "subunitcolor": "white"
          },
          "hoverlabel": {
           "align": "left"
          },
          "hovermode": "closest",
          "mapbox": {
           "style": "light"
          },
          "paper_bgcolor": "white",
          "plot_bgcolor": "#E5ECF6",
          "polar": {
           "angularaxis": {
            "gridcolor": "white",
            "linecolor": "white",
            "ticks": ""
           },
           "bgcolor": "#E5ECF6",
           "radialaxis": {
            "gridcolor": "white",
            "linecolor": "white",
            "ticks": ""
           }
          },
          "scene": {
           "xaxis": {
            "backgroundcolor": "#E5ECF6",
            "gridcolor": "white",
            "gridwidth": 2,
            "linecolor": "white",
            "showbackground": true,
            "ticks": "",
            "zerolinecolor": "white"
           },
           "yaxis": {
            "backgroundcolor": "#E5ECF6",
            "gridcolor": "white",
            "gridwidth": 2,
            "linecolor": "white",
            "showbackground": true,
            "ticks": "",
            "zerolinecolor": "white"
           },
           "zaxis": {
            "backgroundcolor": "#E5ECF6",
            "gridcolor": "white",
            "gridwidth": 2,
            "linecolor": "white",
            "showbackground": true,
            "ticks": "",
            "zerolinecolor": "white"
           }
          },
          "shapedefaults": {
           "line": {
            "color": "#2a3f5f"
           }
          },
          "ternary": {
           "aaxis": {
            "gridcolor": "white",
            "linecolor": "white",
            "ticks": ""
           },
           "baxis": {
            "gridcolor": "white",
            "linecolor": "white",
            "ticks": ""
           },
           "bgcolor": "#E5ECF6",
           "caxis": {
            "gridcolor": "white",
            "linecolor": "white",
            "ticks": ""
           }
          },
          "title": {
           "x": 0.05
          },
          "xaxis": {
           "automargin": true,
           "gridcolor": "white",
           "linecolor": "white",
           "ticks": "",
           "title": {
            "standoff": 15
           },
           "zerolinecolor": "white",
           "zerolinewidth": 2
          },
          "yaxis": {
           "automargin": true,
           "gridcolor": "white",
           "linecolor": "white",
           "ticks": "",
           "title": {
            "standoff": 15
           },
           "zerolinecolor": "white",
           "zerolinewidth": 2
          }
         }
        },
        "title": {
         "text": "Haken 6, Trajektorien-Ansatz 3"
        }
       }
      }
     },
     "metadata": {},
     "output_type": "display_data"
    },
    {
     "name": "stdout",
     "output_type": "stream",
     "text": [
      "HTML-Datei '/home/mo/Thesis/Evaluation/Trajektorientests/CSV/traj4.html' erfolgreich erstellt!\n"
     ]
    },
    {
     "data": {
      "application/vnd.plotly.v1+json": {
       "config": {
        "plotlyServerURL": "https://plot.ly"
       },
       "data": [
        {
         "color": "rgba(31, 119, 180, 0.8)",
         "name": "P1",
         "opacity": 0.8,
         "type": "mesh3d",
         "x": [
          -314.08070773560553,
          -310.6824682365842,
          -302.13276040967287,
          -305.5309999086942
         ],
         "y": [
          923.8704589161811,
          920.3903607117236,
          928.8105771558859,
          932.2906753603434
         ],
         "z": [
          741.7059762086553,
          736.672003146091,
          736.6224944810915,
          741.6564675436558
         ]
        },
        {
         "marker": {
          "color": "red",
          "size": 3
         },
         "mode": "markers+text",
         "showlegend": false,
         "text": "",
         "textfont": {
          "size": 12
         },
         "textposition": "top center",
         "type": "scatter3d",
         "x": [
          -308.1067340726392
         ],
         "y": [
          926.3405180360335
         ],
         "z": [
          739.1642353448734
         ]
        },
        {
         "line": {
          "color": "rgba(31, 119, 180, 0.8)",
          "width": 4
         },
         "mode": "lines",
         "showlegend": false,
         "type": "scatter3d",
         "x": [
          -314.08070773560553,
          -310.6824682365842
         ],
         "y": [
          923.8704589161811,
          920.3903607117236
         ],
         "z": [
          741.7059762086553,
          736.672003146091
         ]
        },
        {
         "line": {
          "color": "rgba(31, 119, 180, 0.8)",
          "width": 4
         },
         "mode": "lines",
         "showlegend": false,
         "type": "scatter3d",
         "x": [
          -310.6824682365842,
          -302.13276040967287
         ],
         "y": [
          920.3903607117236,
          928.8105771558859
         ],
         "z": [
          736.672003146091,
          736.6224944810915
         ]
        },
        {
         "line": {
          "color": "rgba(31, 119, 180, 0.8)",
          "width": 4
         },
         "mode": "lines",
         "showlegend": false,
         "type": "scatter3d",
         "x": [
          -302.13276040967287,
          -305.5309999086942
         ],
         "y": [
          928.8105771558859,
          932.2906753603434
         ],
         "z": [
          736.6224944810915,
          741.6564675436558
         ]
        },
        {
         "line": {
          "color": "rgba(31, 119, 180, 0.8)",
          "width": 4
         },
         "mode": "lines",
         "showlegend": false,
         "type": "scatter3d",
         "x": [
          -305.5309999086942,
          -314.08070773560553
         ],
         "y": [
          932.2906753603434,
          923.8704589161811
         ],
         "z": [
          741.6564675436558,
          741.7059762086553
         ]
        },
        {
         "color": "rgba(214, 39, 40, 0.8)",
         "name": "P2",
         "opacity": 0.8,
         "type": "mesh3d",
         "x": [
          -322.1004336954285,
          -318.70219419640716,
          -310.1524863694958,
          -313.55072586851713
         ],
         "y": [
          927.7348779486169,
          924.2547797441595,
          932.6749961883218,
          936.1550943927792
         ],
         "z": [
          737.285703060882,
          732.2517299983177,
          732.2022213333182,
          737.2361943958825
         ]
        },
        {
         "marker": {
          "color": "red",
          "size": 3
         },
         "mode": "markers+text",
         "showlegend": false,
         "text": "",
         "textfont": {
          "size": 12
         },
         "textposition": "top center",
         "type": "scatter3d",
         "x": [
          -316.12646003246215
         ],
         "y": [
          930.2049370684693
         ],
         "z": [
          734.7439621971001
         ]
        },
        {
         "line": {
          "color": "rgba(214, 39, 40, 0.8)",
          "width": 4
         },
         "mode": "lines",
         "showlegend": false,
         "type": "scatter3d",
         "x": [
          -322.1004336954285,
          -318.70219419640716
         ],
         "y": [
          927.7348779486169,
          924.2547797441595
         ],
         "z": [
          737.285703060882,
          732.2517299983177
         ]
        },
        {
         "line": {
          "color": "rgba(214, 39, 40, 0.8)",
          "width": 4
         },
         "mode": "lines",
         "showlegend": false,
         "type": "scatter3d",
         "x": [
          -318.70219419640716,
          -310.1524863694958
         ],
         "y": [
          924.2547797441595,
          932.6749961883218
         ],
         "z": [
          732.2517299983177,
          732.2022213333182
         ]
        },
        {
         "line": {
          "color": "rgba(214, 39, 40, 0.8)",
          "width": 4
         },
         "mode": "lines",
         "showlegend": false,
         "type": "scatter3d",
         "x": [
          -310.1524863694958,
          -313.55072586851713
         ],
         "y": [
          932.6749961883218,
          936.1550943927792
         ],
         "z": [
          732.2022213333182,
          737.2361943958825
         ]
        },
        {
         "line": {
          "color": "rgba(214, 39, 40, 0.8)",
          "width": 4
         },
         "mode": "lines",
         "showlegend": false,
         "type": "scatter3d",
         "x": [
          -313.55072586851713,
          -322.1004336954285
         ],
         "y": [
          936.1550943927792,
          927.7348779486169
         ],
         "z": [
          737.2361943958825,
          737.285703060882
         ]
        },
        {
         "color": "rgba(247, 182, 210, 0.8)",
         "name": "P3",
         "opacity": 0.8,
         "type": "mesh3d",
         "x": [
          -326.11029667533995,
          -322.71205717631864,
          -314.1623493494073,
          -317.5605888484286
         ],
         "y": [
          929.6670874648349,
          926.1869892603775,
          934.6072057045398,
          938.0873039089972
         ],
         "z": [
          735.0755664869954,
          730.0415934244311,
          729.9920847594316,
          735.0260578219959
         ]
        },
        {
         "marker": {
          "color": "red",
          "size": 3
         },
         "mode": "markers+text",
         "showlegend": false,
         "text": "",
         "textfont": {
          "size": 12
         },
         "textposition": "top center",
         "type": "scatter3d",
         "x": [
          -320.1363230123736
         ],
         "y": [
          932.1371465846873
         ],
         "z": [
          732.5338256232135
         ]
        },
        {
         "line": {
          "color": "rgba(247, 182, 210, 0.8)",
          "width": 4
         },
         "mode": "lines",
         "showlegend": false,
         "type": "scatter3d",
         "x": [
          -326.11029667533995,
          -322.71205717631864
         ],
         "y": [
          929.6670874648349,
          926.1869892603775
         ],
         "z": [
          735.0755664869954,
          730.0415934244311
         ]
        },
        {
         "line": {
          "color": "rgba(247, 182, 210, 0.8)",
          "width": 4
         },
         "mode": "lines",
         "showlegend": false,
         "type": "scatter3d",
         "x": [
          -322.71205717631864,
          -314.1623493494073
         ],
         "y": [
          926.1869892603775,
          934.6072057045398
         ],
         "z": [
          730.0415934244311,
          729.9920847594316
         ]
        },
        {
         "line": {
          "color": "rgba(247, 182, 210, 0.8)",
          "width": 4
         },
         "mode": "lines",
         "showlegend": false,
         "type": "scatter3d",
         "x": [
          -314.1623493494073,
          -317.5605888484286
         ],
         "y": [
          934.6072057045398,
          938.0873039089972
         ],
         "z": [
          729.9920847594316,
          735.0260578219959
         ]
        },
        {
         "line": {
          "color": "rgba(247, 182, 210, 0.8)",
          "width": 4
         },
         "mode": "lines",
         "showlegend": false,
         "type": "scatter3d",
         "x": [
          -317.5605888484286,
          -326.11029667533995
         ],
         "y": [
          938.0873039089972,
          929.6670874648349
         ],
         "z": [
          735.0260578219959,
          735.0755664869954
         ]
        },
        {
         "line": {
          "color": "black",
          "width": 2
         },
         "mode": "lines",
         "name": "Berechnete Hakenlinie",
         "type": "scatter3d",
         "x": {
          "bdata": "q3XJLrVBc8DRevT6BcJzwGT9CWEuAnTA",
          "dtype": "f8"
         },
         "y": {
          "bdata": "siOFYbnyjECDtgu2oxGNQOz/TuAYIY1A",
          "dtype": "f8"
         },
         "z": {
          "bdata": "odieWlAZh0AL0HOi8/WGQMBLXkZF5IZA",
          "dtype": "f8"
         }
        },
        {
         "mode": "text",
         "showlegend": false,
         "text": [
          "Pre-Position"
         ],
         "textfont": {
          "size": 10
         },
         "textposition": "top center",
         "type": "scatter3d",
         "x": [
          -308.1067340726392
         ],
         "y": [
          926.3405180360335
         ],
         "z": [
          739.1642353448734
         ]
        },
        {
         "mode": "text",
         "showlegend": false,
         "text": [
          "Loslassen"
         ],
         "textfont": {
          "size": 10
         },
         "textposition": "top center",
         "type": "scatter3d",
         "x": [
          -320.1363230123736
         ],
         "y": [
          932.1371465846873
         ],
         "z": [
          732.5338256232135
         ]
        },
        {
         "color": "rgba(0,255,0,0.2)",
         "name": "optimale Trajektorie",
         "opacity": 0.8,
         "type": "mesh3d",
         "x": [
          -314.0807076717564,
          -310.68246827528543,
          -302.1327604670673,
          -305.5309998635383
         ],
         "y": [
          923.8704591078717,
          920.3903608818385,
          928.8105773436027,
          932.2906755696359
         ],
         "z": [
          741.705976356259,
          736.6720032393828,
          736.622494339869,
          741.6564674567453
         ]
        },
        {
         "line": {
          "color": "rgba(0,255,0,0.2)",
          "width": 3
         },
         "mode": "lines",
         "showlegend": false,
         "type": "scatter3d",
         "x": [
          -314.0807076717564,
          -310.68246827528543
         ],
         "y": [
          923.8704591078717,
          920.3903608818385
         ],
         "z": [
          741.705976356259,
          736.6720032393828
         ]
        },
        {
         "line": {
          "color": "rgba(0,255,0,0.2)",
          "width": 3
         },
         "mode": "lines",
         "showlegend": false,
         "type": "scatter3d",
         "x": [
          -310.68246827528543,
          -302.1327604670673
         ],
         "y": [
          920.3903608818385,
          928.8105773436027
         ],
         "z": [
          736.6720032393828,
          736.622494339869
         ]
        },
        {
         "line": {
          "color": "rgba(0,255,0,0.2)",
          "width": 3
         },
         "mode": "lines",
         "showlegend": false,
         "type": "scatter3d",
         "x": [
          -302.1327604670673,
          -305.5309998635383
         ],
         "y": [
          928.8105773436027,
          932.2906755696359
         ],
         "z": [
          736.622494339869,
          741.6564674567453
         ]
        },
        {
         "line": {
          "color": "rgba(0,255,0,0.2)",
          "width": 3
         },
         "mode": "lines",
         "showlegend": false,
         "type": "scatter3d",
         "x": [
          -305.5309998635383,
          -314.0807076717564
         ],
         "y": [
          932.2906755696359,
          923.8704591078717
         ],
         "z": [
          741.6564674567453,
          741.705976356259
         ]
        },
        {
         "marker": {
          "color": "green",
          "size": 4
         },
         "mode": "markers",
         "name": "Mitte P3",
         "showlegend": false,
         "type": "scatter3d",
         "x": [
          -308.10673406941186
         ],
         "y": [
          926.3405182257372
         ],
         "z": [
          739.164235348064
         ]
        },
        {
         "color": "rgba(0,255,0,0.2)",
         "name": "optimale Trajektorie",
         "opacity": 0.8,
         "type": "mesh3d",
         "x": [
          -327.6570962506219,
          -323.745319919014,
          -318.09381898123166,
          -322.0055953128396
         ],
         "y": [
          924.912752810046,
          922.960913598208,
          933.5434462464632,
          935.4952854583012
         ],
         "z": [
          735.8332426667993,
          730.3662206600204,
          730.6318141442347,
          736.0988361510135
         ]
        },
        {
         "line": {
          "color": "rgba(0,255,0,0.2)",
          "width": 3
         },
         "mode": "lines",
         "showlegend": false,
         "type": "scatter3d",
         "x": [
          -327.6570962506219,
          -323.745319919014
         ],
         "y": [
          924.912752810046,
          922.960913598208
         ],
         "z": [
          735.8332426667993,
          730.3662206600204
         ]
        },
        {
         "line": {
          "color": "rgba(0,255,0,0.2)",
          "width": 3
         },
         "mode": "lines",
         "showlegend": false,
         "type": "scatter3d",
         "x": [
          -323.745319919014,
          -318.09381898123166
         ],
         "y": [
          922.960913598208,
          933.5434462464632
         ],
         "z": [
          730.3662206600204,
          730.6318141442347
         ]
        },
        {
         "line": {
          "color": "rgba(0,255,0,0.2)",
          "width": 3
         },
         "mode": "lines",
         "showlegend": false,
         "type": "scatter3d",
         "x": [
          -318.09381898123166,
          -322.0055953128396
         ],
         "y": [
          933.5434462464632,
          935.4952854583012
         ],
         "z": [
          730.6318141442347,
          736.0988361510135
         ]
        },
        {
         "line": {
          "color": "rgba(0,255,0,0.2)",
          "width": 3
         },
         "mode": "lines",
         "showlegend": false,
         "type": "scatter3d",
         "x": [
          -322.0055953128396,
          -327.6570962506219
         ],
         "y": [
          935.4952854583012,
          924.912752810046
         ],
         "z": [
          736.0988361510135,
          735.8332426667993
         ]
        },
        {
         "marker": {
          "color": "green",
          "size": 4
         },
         "mode": "markers",
         "name": "Mitte P3",
         "showlegend": false,
         "type": "scatter3d",
         "x": [
          -322.8754576159268
         ],
         "y": [
          929.2280995282546
         ],
         "z": [
          733.232528405517
         ]
        },
        {
         "color": "rgba(0,255,0,0.2)",
         "name": "optimale Trajektorie",
         "opacity": 0.8,
         "type": "mesh3d",
         "x": [
          -329.26629465856485,
          -325.29895014479496,
          -319.64061872508506,
          -323.60796323885495
         ],
         "y": [
          926.6066606436598,
          924.6570452227458,
          935.2339013614765,
          937.1835167823905
         ],
         "z": [
          733.015126651613,
          727.5874957485767,
          727.9242445649336,
          733.3518754679699
         ]
        },
        {
         "line": {
          "color": "rgba(0,255,0,0.2)",
          "width": 3
         },
         "mode": "lines",
         "showlegend": false,
         "type": "scatter3d",
         "x": [
          -329.26629465856485,
          -325.29895014479496
         ],
         "y": [
          926.6066606436598,
          924.6570452227458
         ],
         "z": [
          733.015126651613,
          727.5874957485767
         ]
        },
        {
         "line": {
          "color": "rgba(0,255,0,0.2)",
          "width": 3
         },
         "mode": "lines",
         "showlegend": false,
         "type": "scatter3d",
         "x": [
          -325.29895014479496,
          -319.64061872508506
         ],
         "y": [
          924.6570452227458,
          935.2339013614765
         ],
         "z": [
          727.5874957485767,
          727.9242445649336
         ]
        },
        {
         "line": {
          "color": "rgba(0,255,0,0.2)",
          "width": 3
         },
         "mode": "lines",
         "showlegend": false,
         "type": "scatter3d",
         "x": [
          -319.64061872508506,
          -323.60796323885495
         ],
         "y": [
          935.2339013614765,
          937.1835167823905
         ],
         "z": [
          727.9242445649336,
          733.3518754679699
         ]
        },
        {
         "line": {
          "color": "rgba(0,255,0,0.2)",
          "width": 3
         },
         "mode": "lines",
         "showlegend": false,
         "type": "scatter3d",
         "x": [
          -323.60796323885495,
          -329.26629465856485
         ],
         "y": [
          937.1835167823905,
          926.6066606436598
         ],
         "z": [
          733.3518754679699,
          733.015126651613
         ]
        },
        {
         "marker": {
          "color": "green",
          "size": 4
         },
         "mode": "markers",
         "name": "Mitte P3",
         "showlegend": false,
         "type": "scatter3d",
         "x": [
          -324.45345669182495
         ],
         "y": [
          930.9202810025681
         ],
         "z": [
          730.4696856082733
         ]
        },
        {
         "color": "rgba(0,255,0,0.2)",
         "name": "optimale Trajektorie",
         "opacity": 0.8,
         "type": "mesh3d",
         "x": [
          -331.6115605547648,
          -327.6083103731176,
          -321.98366711360774,
          -325.98691729525495
         ],
         "y": [
          927.5380134692306,
          925.604724325849,
          936.198190049526,
          938.1314791929076
         ],
         "z": [
          731.8506988902191,
          726.4436311940251,
          726.8202904094069,
          732.2273581056008
         ]
        },
        {
         "line": {
          "color": "rgba(0,255,0,0.2)",
          "width": 3
         },
         "mode": "lines",
         "showlegend": false,
         "type": "scatter3d",
         "x": [
          -331.6115605547648,
          -327.6083103731176
         ],
         "y": [
          927.5380134692306,
          925.604724325849
         ],
         "z": [
          731.8506988902191,
          726.4436311940251
         ]
        },
        {
         "line": {
          "color": "rgba(0,255,0,0.2)",
          "width": 3
         },
         "mode": "lines",
         "showlegend": false,
         "type": "scatter3d",
         "x": [
          -327.6083103731176,
          -321.98366711360774
         ],
         "y": [
          925.604724325849,
          936.198190049526
         ],
         "z": [
          726.4436311940251,
          726.8202904094069
         ]
        },
        {
         "line": {
          "color": "rgba(0,255,0,0.2)",
          "width": 3
         },
         "mode": "lines",
         "showlegend": false,
         "type": "scatter3d",
         "x": [
          -321.98366711360774,
          -325.98691729525495
         ],
         "y": [
          936.198190049526,
          938.1314791929076
         ],
         "z": [
          726.8202904094069,
          732.2273581056008
         ]
        },
        {
         "line": {
          "color": "rgba(0,255,0,0.2)",
          "width": 3
         },
         "mode": "lines",
         "showlegend": false,
         "type": "scatter3d",
         "x": [
          -325.98691729525495,
          -331.6115605547648
         ],
         "y": [
          938.1314791929076,
          927.5380134692306
         ],
         "z": [
          732.2273581056008,
          731.8506988902191
         ]
        },
        {
         "marker": {
          "color": "green",
          "size": 4
         },
         "mode": "markers",
         "name": "Mitte P3",
         "showlegend": false,
         "type": "scatter3d",
         "x": [
          -326.7976138341863
         ],
         "y": [
          931.8681017593783
         ],
         "z": [
          729.335494649813
         ]
        },
        {
         "color": "rgba(0,255,0,0.2)",
         "name": "optimale Trajektorie",
         "opacity": 0.8,
         "type": "mesh3d",
         "x": [
          -332.68093052053854,
          -331.66290547011613,
          -326.0529969077449,
          -327.0710219581673
         ],
         "y": [
          928.2917177480102,
          927.9875616326801,
          938.5894380440126,
          938.8935941593427
         ],
         "z": [
          731.5043064133849,
          724.5854109773908,
          724.9447749720621,
          731.8636704080562
         ]
        },
        {
         "line": {
          "color": "rgba(0,255,0,0.2)",
          "width": 3
         },
         "mode": "lines",
         "showlegend": false,
         "type": "scatter3d",
         "x": [
          -332.68093052053854,
          -331.66290547011613
         ],
         "y": [
          928.2917177480102,
          927.9875616326801
         ],
         "z": [
          731.5043064133849,
          724.5854109773908
         ]
        },
        {
         "line": {
          "color": "rgba(0,255,0,0.2)",
          "width": 3
         },
         "mode": "lines",
         "showlegend": false,
         "type": "scatter3d",
         "x": [
          -331.66290547011613,
          -326.0529969077449
         ],
         "y": [
          927.9875616326801,
          938.5894380440126
         ],
         "z": [
          724.5854109773908,
          724.9447749720621
         ]
        },
        {
         "line": {
          "color": "rgba(0,255,0,0.2)",
          "width": 3
         },
         "mode": "lines",
         "showlegend": false,
         "type": "scatter3d",
         "x": [
          -326.0529969077449,
          -327.0710219581673
         ],
         "y": [
          938.5894380440126,
          938.8935941593427
         ],
         "z": [
          724.9447749720621,
          731.8636704080562
         ]
        },
        {
         "line": {
          "color": "rgba(0,255,0,0.2)",
          "width": 3
         },
         "mode": "lines",
         "showlegend": false,
         "type": "scatter3d",
         "x": [
          -327.0710219581673,
          -332.68093052053854
         ],
         "y": [
          938.8935941593427,
          928.2917177480102
         ],
         "z": [
          731.8636704080562,
          731.5043064133849
         ]
        },
        {
         "marker": {
          "color": "green",
          "size": 4
         },
         "mode": "markers",
         "name": "Mitte P3",
         "showlegend": false,
         "type": "scatter3d",
         "x": [
          -329.3669637141418
         ],
         "y": [
          933.4405778960114
         ],
         "z": [
          728.2245406927235
         ]
        },
        {
         "line": {
          "color": "green",
          "width": 2
         },
         "mode": "lines",
         "name": "Optimale Hakenlinie",
         "type": "scatter3d",
         "x": {
          "bdata": "45fILrVBc8AJV9jfAS50wKbYzVtBR3TArUq5BsNsdMDs8FcV35V0wA==",
          "dtype": "f8"
         },
         "y": {
          "bdata": "3pmeYbnyjECxcNgl0wmNQEhJSbxcF41ACtFV3/EejUCtNbRNhiuNQA==",
          "dtype": "f8"
         },
         "z": {
          "bdata": "QkafWlAZh0CxSNo33OmGQHw3h+rB04ZAcKfRF6/KhkDznv3by8GGQA==",
          "dtype": "f8"
         }
        },
        {
         "line": {
          "color": "gray",
          "dash": "dash"
         },
         "mode": "lines",
         "name": "Direkte Gerade Spitze -> Senke",
         "type": "scatter3d",
         "x": [
          -316.1212419561852,
          -324.24512554319267
         ],
         "y": [
          929.7922314692777,
          933.7209497118496
         ],
         "z": [
          734.7675734208134,
          730.2895742435098
         ]
        },
        {
         "marker": {
          "color": "magenta",
          "size": 8
         },
         "mode": "markers",
         "name": "Spitze",
         "type": "scatter3d",
         "x": [
          -316.1212419561852
         ],
         "y": [
          929.7922314692777
         ],
         "z": [
          734.7675734208134
         ]
        },
        {
         "marker": {
          "color": "magenta",
          "size": 8
         },
         "mode": "markers",
         "name": "Senke",
         "type": "scatter3d",
         "x": [
          -324.24512554319267
         ],
         "y": [
          933.7209497118496
         ],
         "z": [
          730.2895742435098
         ]
        },
        {
         "mode": "text",
         "showlegend": false,
         "text": [
          "Spitze"
         ],
         "textfont": {
          "size": 10
         },
         "textposition": "top center",
         "type": "scatter3d",
         "x": [
          -316.1212419561852
         ],
         "y": [
          929.7922314692777
         ],
         "z": [
          734.7675734208134
         ]
        },
        {
         "mode": "text",
         "showlegend": false,
         "text": [
          "Senke"
         ],
         "textfont": {
          "size": 10
         },
         "textposition": "top center",
         "type": "scatter3d",
         "x": [
          -324.24512554319267
         ],
         "y": [
          933.7209497118496
         ],
         "z": [
          730.2895742435098
         ]
        }
       ],
       "layout": {
        "legend": {
         "title": {
          "text": "Legende"
         }
        },
        "scene": {
         "aspectmode": "cube",
         "xaxis": {
          "title": {
           "text": "X"
          }
         },
         "yaxis": {
          "title": {
           "text": "Y"
          }
         },
         "zaxis": {
          "title": {
           "text": "Z"
          }
         }
        },
        "template": {
         "data": {
          "bar": [
           {
            "error_x": {
             "color": "#2a3f5f"
            },
            "error_y": {
             "color": "#2a3f5f"
            },
            "marker": {
             "line": {
              "color": "#E5ECF6",
              "width": 0.5
             },
             "pattern": {
              "fillmode": "overlay",
              "size": 10,
              "solidity": 0.2
             }
            },
            "type": "bar"
           }
          ],
          "barpolar": [
           {
            "marker": {
             "line": {
              "color": "#E5ECF6",
              "width": 0.5
             },
             "pattern": {
              "fillmode": "overlay",
              "size": 10,
              "solidity": 0.2
             }
            },
            "type": "barpolar"
           }
          ],
          "carpet": [
           {
            "aaxis": {
             "endlinecolor": "#2a3f5f",
             "gridcolor": "white",
             "linecolor": "white",
             "minorgridcolor": "white",
             "startlinecolor": "#2a3f5f"
            },
            "baxis": {
             "endlinecolor": "#2a3f5f",
             "gridcolor": "white",
             "linecolor": "white",
             "minorgridcolor": "white",
             "startlinecolor": "#2a3f5f"
            },
            "type": "carpet"
           }
          ],
          "choropleth": [
           {
            "colorbar": {
             "outlinewidth": 0,
             "ticks": ""
            },
            "type": "choropleth"
           }
          ],
          "contour": [
           {
            "colorbar": {
             "outlinewidth": 0,
             "ticks": ""
            },
            "colorscale": [
             [
              0,
              "#0d0887"
             ],
             [
              0.1111111111111111,
              "#46039f"
             ],
             [
              0.2222222222222222,
              "#7201a8"
             ],
             [
              0.3333333333333333,
              "#9c179e"
             ],
             [
              0.4444444444444444,
              "#bd3786"
             ],
             [
              0.5555555555555556,
              "#d8576b"
             ],
             [
              0.6666666666666666,
              "#ed7953"
             ],
             [
              0.7777777777777778,
              "#fb9f3a"
             ],
             [
              0.8888888888888888,
              "#fdca26"
             ],
             [
              1,
              "#f0f921"
             ]
            ],
            "type": "contour"
           }
          ],
          "contourcarpet": [
           {
            "colorbar": {
             "outlinewidth": 0,
             "ticks": ""
            },
            "type": "contourcarpet"
           }
          ],
          "heatmap": [
           {
            "colorbar": {
             "outlinewidth": 0,
             "ticks": ""
            },
            "colorscale": [
             [
              0,
              "#0d0887"
             ],
             [
              0.1111111111111111,
              "#46039f"
             ],
             [
              0.2222222222222222,
              "#7201a8"
             ],
             [
              0.3333333333333333,
              "#9c179e"
             ],
             [
              0.4444444444444444,
              "#bd3786"
             ],
             [
              0.5555555555555556,
              "#d8576b"
             ],
             [
              0.6666666666666666,
              "#ed7953"
             ],
             [
              0.7777777777777778,
              "#fb9f3a"
             ],
             [
              0.8888888888888888,
              "#fdca26"
             ],
             [
              1,
              "#f0f921"
             ]
            ],
            "type": "heatmap"
           }
          ],
          "histogram": [
           {
            "marker": {
             "pattern": {
              "fillmode": "overlay",
              "size": 10,
              "solidity": 0.2
             }
            },
            "type": "histogram"
           }
          ],
          "histogram2d": [
           {
            "colorbar": {
             "outlinewidth": 0,
             "ticks": ""
            },
            "colorscale": [
             [
              0,
              "#0d0887"
             ],
             [
              0.1111111111111111,
              "#46039f"
             ],
             [
              0.2222222222222222,
              "#7201a8"
             ],
             [
              0.3333333333333333,
              "#9c179e"
             ],
             [
              0.4444444444444444,
              "#bd3786"
             ],
             [
              0.5555555555555556,
              "#d8576b"
             ],
             [
              0.6666666666666666,
              "#ed7953"
             ],
             [
              0.7777777777777778,
              "#fb9f3a"
             ],
             [
              0.8888888888888888,
              "#fdca26"
             ],
             [
              1,
              "#f0f921"
             ]
            ],
            "type": "histogram2d"
           }
          ],
          "histogram2dcontour": [
           {
            "colorbar": {
             "outlinewidth": 0,
             "ticks": ""
            },
            "colorscale": [
             [
              0,
              "#0d0887"
             ],
             [
              0.1111111111111111,
              "#46039f"
             ],
             [
              0.2222222222222222,
              "#7201a8"
             ],
             [
              0.3333333333333333,
              "#9c179e"
             ],
             [
              0.4444444444444444,
              "#bd3786"
             ],
             [
              0.5555555555555556,
              "#d8576b"
             ],
             [
              0.6666666666666666,
              "#ed7953"
             ],
             [
              0.7777777777777778,
              "#fb9f3a"
             ],
             [
              0.8888888888888888,
              "#fdca26"
             ],
             [
              1,
              "#f0f921"
             ]
            ],
            "type": "histogram2dcontour"
           }
          ],
          "mesh3d": [
           {
            "colorbar": {
             "outlinewidth": 0,
             "ticks": ""
            },
            "type": "mesh3d"
           }
          ],
          "parcoords": [
           {
            "line": {
             "colorbar": {
              "outlinewidth": 0,
              "ticks": ""
             }
            },
            "type": "parcoords"
           }
          ],
          "pie": [
           {
            "automargin": true,
            "type": "pie"
           }
          ],
          "scatter": [
           {
            "fillpattern": {
             "fillmode": "overlay",
             "size": 10,
             "solidity": 0.2
            },
            "type": "scatter"
           }
          ],
          "scatter3d": [
           {
            "line": {
             "colorbar": {
              "outlinewidth": 0,
              "ticks": ""
             }
            },
            "marker": {
             "colorbar": {
              "outlinewidth": 0,
              "ticks": ""
             }
            },
            "type": "scatter3d"
           }
          ],
          "scattercarpet": [
           {
            "marker": {
             "colorbar": {
              "outlinewidth": 0,
              "ticks": ""
             }
            },
            "type": "scattercarpet"
           }
          ],
          "scattergeo": [
           {
            "marker": {
             "colorbar": {
              "outlinewidth": 0,
              "ticks": ""
             }
            },
            "type": "scattergeo"
           }
          ],
          "scattergl": [
           {
            "marker": {
             "colorbar": {
              "outlinewidth": 0,
              "ticks": ""
             }
            },
            "type": "scattergl"
           }
          ],
          "scattermap": [
           {
            "marker": {
             "colorbar": {
              "outlinewidth": 0,
              "ticks": ""
             }
            },
            "type": "scattermap"
           }
          ],
          "scattermapbox": [
           {
            "marker": {
             "colorbar": {
              "outlinewidth": 0,
              "ticks": ""
             }
            },
            "type": "scattermapbox"
           }
          ],
          "scatterpolar": [
           {
            "marker": {
             "colorbar": {
              "outlinewidth": 0,
              "ticks": ""
             }
            },
            "type": "scatterpolar"
           }
          ],
          "scatterpolargl": [
           {
            "marker": {
             "colorbar": {
              "outlinewidth": 0,
              "ticks": ""
             }
            },
            "type": "scatterpolargl"
           }
          ],
          "scatterternary": [
           {
            "marker": {
             "colorbar": {
              "outlinewidth": 0,
              "ticks": ""
             }
            },
            "type": "scatterternary"
           }
          ],
          "surface": [
           {
            "colorbar": {
             "outlinewidth": 0,
             "ticks": ""
            },
            "colorscale": [
             [
              0,
              "#0d0887"
             ],
             [
              0.1111111111111111,
              "#46039f"
             ],
             [
              0.2222222222222222,
              "#7201a8"
             ],
             [
              0.3333333333333333,
              "#9c179e"
             ],
             [
              0.4444444444444444,
              "#bd3786"
             ],
             [
              0.5555555555555556,
              "#d8576b"
             ],
             [
              0.6666666666666666,
              "#ed7953"
             ],
             [
              0.7777777777777778,
              "#fb9f3a"
             ],
             [
              0.8888888888888888,
              "#fdca26"
             ],
             [
              1,
              "#f0f921"
             ]
            ],
            "type": "surface"
           }
          ],
          "table": [
           {
            "cells": {
             "fill": {
              "color": "#EBF0F8"
             },
             "line": {
              "color": "white"
             }
            },
            "header": {
             "fill": {
              "color": "#C8D4E3"
             },
             "line": {
              "color": "white"
             }
            },
            "type": "table"
           }
          ]
         },
         "layout": {
          "annotationdefaults": {
           "arrowcolor": "#2a3f5f",
           "arrowhead": 0,
           "arrowwidth": 1
          },
          "autotypenumbers": "strict",
          "coloraxis": {
           "colorbar": {
            "outlinewidth": 0,
            "ticks": ""
           }
          },
          "colorscale": {
           "diverging": [
            [
             0,
             "#8e0152"
            ],
            [
             0.1,
             "#c51b7d"
            ],
            [
             0.2,
             "#de77ae"
            ],
            [
             0.3,
             "#f1b6da"
            ],
            [
             0.4,
             "#fde0ef"
            ],
            [
             0.5,
             "#f7f7f7"
            ],
            [
             0.6,
             "#e6f5d0"
            ],
            [
             0.7,
             "#b8e186"
            ],
            [
             0.8,
             "#7fbc41"
            ],
            [
             0.9,
             "#4d9221"
            ],
            [
             1,
             "#276419"
            ]
           ],
           "sequential": [
            [
             0,
             "#0d0887"
            ],
            [
             0.1111111111111111,
             "#46039f"
            ],
            [
             0.2222222222222222,
             "#7201a8"
            ],
            [
             0.3333333333333333,
             "#9c179e"
            ],
            [
             0.4444444444444444,
             "#bd3786"
            ],
            [
             0.5555555555555556,
             "#d8576b"
            ],
            [
             0.6666666666666666,
             "#ed7953"
            ],
            [
             0.7777777777777778,
             "#fb9f3a"
            ],
            [
             0.8888888888888888,
             "#fdca26"
            ],
            [
             1,
             "#f0f921"
            ]
           ],
           "sequentialminus": [
            [
             0,
             "#0d0887"
            ],
            [
             0.1111111111111111,
             "#46039f"
            ],
            [
             0.2222222222222222,
             "#7201a8"
            ],
            [
             0.3333333333333333,
             "#9c179e"
            ],
            [
             0.4444444444444444,
             "#bd3786"
            ],
            [
             0.5555555555555556,
             "#d8576b"
            ],
            [
             0.6666666666666666,
             "#ed7953"
            ],
            [
             0.7777777777777778,
             "#fb9f3a"
            ],
            [
             0.8888888888888888,
             "#fdca26"
            ],
            [
             1,
             "#f0f921"
            ]
           ]
          },
          "colorway": [
           "#636efa",
           "#EF553B",
           "#00cc96",
           "#ab63fa",
           "#FFA15A",
           "#19d3f3",
           "#FF6692",
           "#B6E880",
           "#FF97FF",
           "#FECB52"
          ],
          "font": {
           "color": "#2a3f5f"
          },
          "geo": {
           "bgcolor": "white",
           "lakecolor": "white",
           "landcolor": "#E5ECF6",
           "showlakes": true,
           "showland": true,
           "subunitcolor": "white"
          },
          "hoverlabel": {
           "align": "left"
          },
          "hovermode": "closest",
          "mapbox": {
           "style": "light"
          },
          "paper_bgcolor": "white",
          "plot_bgcolor": "#E5ECF6",
          "polar": {
           "angularaxis": {
            "gridcolor": "white",
            "linecolor": "white",
            "ticks": ""
           },
           "bgcolor": "#E5ECF6",
           "radialaxis": {
            "gridcolor": "white",
            "linecolor": "white",
            "ticks": ""
           }
          },
          "scene": {
           "xaxis": {
            "backgroundcolor": "#E5ECF6",
            "gridcolor": "white",
            "gridwidth": 2,
            "linecolor": "white",
            "showbackground": true,
            "ticks": "",
            "zerolinecolor": "white"
           },
           "yaxis": {
            "backgroundcolor": "#E5ECF6",
            "gridcolor": "white",
            "gridwidth": 2,
            "linecolor": "white",
            "showbackground": true,
            "ticks": "",
            "zerolinecolor": "white"
           },
           "zaxis": {
            "backgroundcolor": "#E5ECF6",
            "gridcolor": "white",
            "gridwidth": 2,
            "linecolor": "white",
            "showbackground": true,
            "ticks": "",
            "zerolinecolor": "white"
           }
          },
          "shapedefaults": {
           "line": {
            "color": "#2a3f5f"
           }
          },
          "ternary": {
           "aaxis": {
            "gridcolor": "white",
            "linecolor": "white",
            "ticks": ""
           },
           "baxis": {
            "gridcolor": "white",
            "linecolor": "white",
            "ticks": ""
           },
           "bgcolor": "#E5ECF6",
           "caxis": {
            "gridcolor": "white",
            "linecolor": "white",
            "ticks": ""
           }
          },
          "title": {
           "x": 0.05
          },
          "xaxis": {
           "automargin": true,
           "gridcolor": "white",
           "linecolor": "white",
           "ticks": "",
           "title": {
            "standoff": 15
           },
           "zerolinecolor": "white",
           "zerolinewidth": 2
          },
          "yaxis": {
           "automargin": true,
           "gridcolor": "white",
           "linecolor": "white",
           "ticks": "",
           "title": {
            "standoff": 15
           },
           "zerolinecolor": "white",
           "zerolinewidth": 2
          }
         }
        },
        "title": {
         "text": "Haken 6, Trajektorien-Ansatz 4"
        }
       }
      }
     },
     "metadata": {},
     "output_type": "display_data"
    }
   ],
   "source": [
    "visualize_rectangles_html(\n",
    "    rectangles = rectangles_1,\n",
    "    secondary_rectangles = rectangles_optim,\n",
    "    secondary_legend_title = 'optimale Trajektorie',\n",
    "    connect_points = (trajectory_1[1][0], trajectory_1[-1][0]),\n",
    "    hook_num = hook_num,\n",
    "    trajectory_process = 1,\n",
    "    html_filename = '/home/mo/Thesis/Evaluation/Trajektorientests/CSV/traj1.html'\n",
    "    )\n",
    "\n",
    "visualize_rectangles_html(\n",
    "    rectangles = rectangles_2,\n",
    "    secondary_rectangles = rectangles_optim,\n",
    "    secondary_legend_title = 'optimale Trajektorie',\n",
    "    connect_points = (trajectory_1[1][0], trajectory_1[-1][0]),\n",
    "    hook_num = hook_num,\n",
    "    trajectory_process = 2,\n",
    "    html_filename = '/home/mo/Thesis/Evaluation/Trajektorientests/CSV/traj2.html'\n",
    "    )\n",
    "\n",
    "visualize_rectangles_html(\n",
    "    rectangles = rectangles_3,\n",
    "    secondary_rectangles = rectangles_optim,\n",
    "    secondary_legend_title = 'optimale Trajektorie',\n",
    "    connect_points = (trajectory_1[1][0], trajectory_1[-1][0]),\n",
    "    hook_num = hook_num,\n",
    "    trajectory_process = 3,\n",
    "    html_filename = '/home/mo/Thesis/Evaluation/Trajektorientests/CSV/traj3.html'\n",
    "    )\n",
    "\n",
    "visualize_rectangles_html(\n",
    "    rectangles = rectangles_4,\n",
    "    secondary_rectangles = rectangles_optim,\n",
    "    secondary_legend_title = 'optimale Trajektorie',\n",
    "    connect_points = (trajectory_1[1][0], trajectory_1[-1][0]),\n",
    "    hook_num = hook_num,\n",
    "    trajectory_process = 4,\n",
    "    html_filename = '/home/mo/Thesis/Evaluation/Trajektorientests/CSV/traj4.html'\n",
    "    )"
   ]
  },
  {
   "cell_type": "code",
   "execution_count": null,
   "id": "eaca27e4",
   "metadata": {},
   "outputs": [],
   "source": []
  }
 ],
 "metadata": {
  "kernelspec": {
   "display_name": "Python 3",
   "language": "python",
   "name": "python3"
  },
  "language_info": {
   "codemirror_mode": {
    "name": "ipython",
    "version": 3
   },
   "file_extension": ".py",
   "mimetype": "text/x-python",
   "name": "python",
   "nbconvert_exporter": "python",
   "pygments_lexer": "ipython3",
   "version": "3.8.10"
  }
 },
 "nbformat": 4,
 "nbformat_minor": 5
}
