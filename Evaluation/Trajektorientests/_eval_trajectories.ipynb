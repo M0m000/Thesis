{
 "cells": [
  {
   "cell_type": "code",
   "execution_count": 1106,
   "id": "c56fbbd2",
   "metadata": {},
   "outputs": [],
   "source": [
    "import csv\n",
    "import numpy as np\n",
    "from scipy.spatial.transform import Rotation as R\n",
    "import matplotlib.pyplot as plt\n",
    "from mpl_toolkits.mplot3d.art3d import Poly3DCollection\n",
    "import matplotlib.cm as cm\n",
    "import plotly.graph_objects as go"
   ]
  },
  {
   "cell_type": "markdown",
   "id": "d43cbb9f",
   "metadata": {},
   "source": [
    "### **Trajektorien CSVs laden**"
   ]
  },
  {
   "cell_type": "code",
   "execution_count": 1107,
   "id": "ce8ad287",
   "metadata": {},
   "outputs": [],
   "source": [
    "def load_csv_to_trajectory(filepath):\n",
    "    \"\"\"Lädt die CSV und stellt Trajektorie-Liste wieder her\"\"\"\n",
    "    trajectory = []\n",
    "    with open(filepath, mode='r', newline='') as file:\n",
    "        reader = csv.reader(file)\n",
    "        next(reader)  # Überspringe Kopfzeile\n",
    "\n",
    "        for row in reader:\n",
    "            numbers = list(map(float, row))\n",
    "            trans = numbers[:3]\n",
    "            rot = numbers[3:]\n",
    "            trajectory.append((trans, rot))\n",
    "    return trajectory"
   ]
  },
  {
   "cell_type": "code",
   "execution_count": 1108,
   "id": "fa040c5d",
   "metadata": {},
   "outputs": [],
   "source": [
    "hook_num = 1\n",
    "v = 10\n",
    "hook_model = 'A'\n",
    "frame = '_work'"
   ]
  },
  {
   "cell_type": "code",
   "execution_count": 1109,
   "id": "6ae1d02a",
   "metadata": {},
   "outputs": [],
   "source": [
    "traj_optim_path = '/home/mo/Thesis/Evaluation/Trajektorientests/Modell' + hook_model + '/v_' + str(v) + '/' + str(hook_num) + '/trajectory_0' + str(frame) + '.csv'\n",
    "traj_1_path = '/home/mo/Thesis/Evaluation/Trajektorientests/Modell' + hook_model + '/v_' + str(v) + '/' + str(hook_num) + '/trajectory_1' + str(frame) + '.csv'\n",
    "traj_2_path = '/home/mo/Thesis/Evaluation/Trajektorientests/Modell' + hook_model + '/v_' + str(v) + '/' + str(hook_num) + '/trajectory_2' + str(frame) + '.csv'\n",
    "traj_3_path = '/home/mo/Thesis/Evaluation/Trajektorientests/Modell' + hook_model + '/v_' + str(v) + '/' + str(hook_num) + '/trajectory_3' + str(frame) + '.csv'\n",
    "traj_4_path = '/home/mo/Thesis/Evaluation/Trajektorientests/Modell' + hook_model + '/v_' + str(v) + '/' + str(hook_num) + '/trajectory_4' + str(frame) + '.csv'"
   ]
  },
  {
   "cell_type": "code",
   "execution_count": 1110,
   "id": "aad60faa",
   "metadata": {},
   "outputs": [],
   "source": [
    "trajectory_optim = load_csv_to_trajectory(traj_optim_path)\n",
    "trajectory_1 = load_csv_to_trajectory(traj_1_path)\n",
    "trajectory_2 = load_csv_to_trajectory(traj_2_path)\n",
    "trajectory_3 = load_csv_to_trajectory(traj_3_path)\n",
    "trajectory_4 = load_csv_to_trajectory(traj_4_path)"
   ]
  },
  {
   "cell_type": "markdown",
   "id": "d66a9f4b",
   "metadata": {},
   "source": [
    "### **Euklidsche Distanz**"
   ]
  },
  {
   "cell_type": "code",
   "execution_count": 1111,
   "id": "549aa99e",
   "metadata": {},
   "outputs": [],
   "source": [
    "def interpolate_trajectory(traj, num_points):\n",
    "    \"\"\"\n",
    "    Interpoliert eine Trajektorie auf `num_points` gleichmäßig verteilte Punkte.\n",
    "    Nur die translatorischen Komponenten werden verwendet (3D Punkte).\n",
    "    \"\"\"\n",
    "    positions = np.array([p[0] for p in traj])  # Nur Positionen\n",
    "    rotations = np.array([p[1] for p in traj])  # Nur Rotationen\n",
    "    \n",
    "    # Abstände zwischen aufeinanderfolgenden Punkten\n",
    "    deltas_trans = np.linalg.norm(np.diff(positions, axis=0), axis=1)\n",
    "    deltas_rot = np.linalg.norm(np.diff(rotations, axis=0), axis=1)\n",
    "    cumulative_dist_trans = np.concatenate([[0], np.cumsum(deltas_trans)])\n",
    "    cumulative_dist_rot = np.concatenate([[0], np.cumsum(deltas_rot)])\n",
    "    \n",
    "    # Gleichmäßig verteilte Distanzen entlang der Trajektorie\n",
    "    target_distances_trans = np.linspace(0, cumulative_dist_trans[-1], num_points)\n",
    "    target_distances_rot = np.linspace(0, cumulative_dist_rot[-1], num_points)\n",
    "\n",
    "    # Interpolation\n",
    "    interp_positions = []\n",
    "    interp_rotations = []\n",
    "\n",
    "    for dist in target_distances_trans:\n",
    "        idx = np.searchsorted(cumulative_dist_trans, dist) - 1\n",
    "        idx = np.clip(idx, 0, len(positions) - 2)\n",
    "        # Lokale lineare Interpolation\n",
    "        t = (dist - cumulative_dist_trans[idx]) / (cumulative_dist_trans[idx + 1] - cumulative_dist_trans[idx])\n",
    "        point = (1 - t) * positions[idx] + t * positions[idx + 1]\n",
    "        interp_positions.append(point)\n",
    "    \n",
    "    for rot in target_distances_rot:\n",
    "        idx = np.searchsorted(cumulative_dist_rot, rot) - 1\n",
    "        idx = np.clip(idx, 0, len(rotations) - 2)\n",
    "        # Lokale lineare Interpolation\n",
    "        t = (rot - cumulative_dist_rot[idx]) / (cumulative_dist_rot[idx + 1] - cumulative_dist_rot[idx])\n",
    "        point = (1 - t) * rotations[idx] + t * rotations[idx + 1]\n",
    "        interp_rotations.append(point)\n",
    "    \n",
    "    return np.array(interp_positions), np.array(interp_rotations)\n",
    "\n",
    "\n",
    "def trajectory_distance(traj1, traj2, num_points=10):\n",
    "    \"\"\"\n",
    "    Vergleicht zwei Trajektorien anhand von `num_points` gleichverteilten Punkten.\n",
    "    Gibt die euklidischen Abstände zurück (Liste) und den Mittelwert.\n",
    "    \"\"\"\n",
    "    interp1_trans, interp1_rot = interpolate_trajectory(traj1, num_points)\n",
    "    interp2_trans, interp2_rot = interpolate_trajectory(traj2, num_points)\n",
    "\n",
    "    # Punktweise euklidischer Abstand\n",
    "    distances = np.linalg.norm(interp1_trans - interp2_trans, axis=1)\n",
    "    rotations = np.linalg.norm(interp1_rot - interp2_rot, axis=1)\n",
    "    mean_distance = np.mean(distances)\n",
    "    mean_rotation = np.mean(rotations)\n",
    "    max_distance = np.max(distances)\n",
    "    max_rotation = np.max(rotations)\n",
    "    return distances, mean_distance, max_distance, rotations, mean_rotation, max_rotation"
   ]
  },
  {
   "cell_type": "code",
   "execution_count": 1112,
   "id": "2fc24563",
   "metadata": {},
   "outputs": [],
   "source": [
    "def plot_trajectory_distances(\n",
    "    distances=None, \n",
    "    mean_distance=None, \n",
    "    max_distance=None, \n",
    "    rotations=None, \n",
    "    mean_rotation=None, \n",
    "    max_rotation=None, \n",
    "    hook_num=0, \n",
    "    trajectory_process=4\n",
    "):\n",
    "    \"\"\"\n",
    "    Plottet die euklidischen Distanzen und Rotationen entlang der interpolierten Punkte.\n",
    "    \"\"\"\n",
    "\n",
    "    %matplotlib inline\n",
    "    \n",
    "    fig, (ax1, ax2) = plt.subplots(2, 1, figsize=(10, 8), sharex=True)\n",
    "    fig.suptitle(f\"Vergleich zwischen optimaler und berechneter Trajektorie - Haken {hook_num}, Trajektorie-Ansatz {trajectory_process} – Distanz\", fontsize=14)\n",
    "\n",
    "    # Plot 1: Euklidische Distanzen\n",
    "    ax1.set_title(f\"Euklidsche Distanz translatorisch\")\n",
    "    ax1.plot(range(1, len(distances) + 1), distances, linestyle='-', marker = '.', label='Euklidische Distanz [mm]')\n",
    "\n",
    "    if mean_distance is not None:\n",
    "        ax1.plot(range(1, len(distances) + 1), [mean_distance] * len(distances), linestyle='--', color='red', label='Mittelwert')\n",
    "    \n",
    "    if max_distance is not None:\n",
    "        ax1.plot(range(1, len(distances) + 1), [max_distance] * len(distances), linestyle='--', color='magenta', label=f\"Max-Wert - {max_distance:.3f}mm\")\n",
    "\n",
    "    ax1.set_ylabel(\"Distanz [mm]\")\n",
    "    ax1.grid(True)\n",
    "    ax1.legend()\n",
    "\n",
    "    \n",
    "    # Plot 2: Rotationen\n",
    "    ax2.set_title(\"Euklidsche Distanz rotatorisch\")\n",
    "    if rotations is not None:\n",
    "        ax2.plot(range(1, len(rotations) + 1), rotations, linestyle='-', marker = '.', label='Rotationsabweichung [°]', color='orange')\n",
    "\n",
    "        if mean_rotation is not None:\n",
    "            ax2.plot(range(1, len(rotations) + 1), [mean_rotation] * len(rotations), linestyle='--', color='red', label='Mittelwert')\n",
    "        \n",
    "        if max_rotation is not None:\n",
    "            ax2.plot(range(1, len(rotations) + 1), [max_rotation] * len(rotations), linestyle='--', color='magenta', label=f\"Max-Wert - {max_rotation:.3f}°\")\n",
    "\n",
    "        ax2.set_ylabel(\"Rotation [°]\")\n",
    "        ax2.grid(True)\n",
    "        ax2.legend()\n",
    "    else:\n",
    "        ax2.text(0.5, 0.5, \"Keine Rotationsdaten verfügbar\", ha='center', va='center', transform=ax2.transAxes)\n",
    "        ax2.axis('off')\n",
    "    \n",
    "    ax2.set_xlabel(\"Punktindex (entlang der Trajektorie)\")\n",
    "    plt.tight_layout(rect=[0, 0, 1, 0.95])  # Platz für Suptitle\n",
    "    plt.show()"
   ]
  },
  {
   "cell_type": "code",
   "execution_count": 1113,
   "id": "0f0e378a",
   "metadata": {},
   "outputs": [],
   "source": [
    "distances, mean_distance, max_distance, rotations, mean_rotation, max_rotation = trajectory_distance(trajectory_1, trajectory_optim, 100)\n",
    "# plot_trajectory_distances(distances, mean_distance, max_distance, rotations, mean_rotation, max_rotation, hook_num = hook_num, trajectory_process = 4)"
   ]
  },
  {
   "cell_type": "markdown",
   "id": "efe3dd89",
   "metadata": {},
   "source": [
    "### **Absolute Distanzen**"
   ]
  },
  {
   "cell_type": "code",
   "execution_count": 1114,
   "id": "74d6bbd8",
   "metadata": {},
   "outputs": [],
   "source": [
    "def trajectory_difference(traj1, traj2, num_points=10):\n",
    "    \"\"\"\n",
    "    Vergleicht zwei Trajektorien anhand von `num_points` gleichverteilten Punkten.\n",
    "    Gibt die vorzeichenbehafteten Differenzen für Translation und Rotation zurück.\n",
    "    Rückgabe:\n",
    "        diffs_trans: (num_points, 3) - x, y, z\n",
    "        diffs_rot:   (num_points, 3) - roll, pitch, yaw\n",
    "    \"\"\"\n",
    "    interp1_trans, interp1_rot = interpolate_trajectory(traj1, num_points)\n",
    "    interp2_trans, interp2_rot = interpolate_trajectory(traj2, num_points)\n",
    "\n",
    "    # Vorzeichenbehaftete Differenzen\n",
    "    diffs_trans = interp1_trans - interp2_trans\n",
    "    diffs_rot = interp1_rot - interp2_rot\n",
    "\n",
    "    return diffs_trans, diffs_rot"
   ]
  },
  {
   "cell_type": "code",
   "execution_count": 1115,
   "id": "0dd37334",
   "metadata": {},
   "outputs": [],
   "source": [
    "def plot_signed_trajectory_differences(\n",
    "    diffs_trans, \n",
    "    diffs_rot, \n",
    "    hook_num=0, \n",
    "    trajectory_process=4\n",
    "):\n",
    "    \"\"\"\n",
    "    Plottet die vorzeichenbehafteten Differenzen (x, y, z, roll, pitch, yaw) \n",
    "    entlang der interpolierten Punkte.\n",
    "    \"\"\"\n",
    "\n",
    "    %matplotlib inline\n",
    "    \n",
    "    num_points = diffs_trans.shape[0]\n",
    "    indices = range(1, num_points + 1)\n",
    "\n",
    "    fig, (ax1, ax2) = plt.subplots(2, 1, figsize=(10, 8), sharex=True)\n",
    "    fig.suptitle(f\"Vorzeichenbehaftete Differenzen – Haken {hook_num}, Trajektorie-Ansatz {trajectory_process}\", fontsize=14)\n",
    "\n",
    "    # --- Plot 1: Translation (x, y, z) ---\n",
    "    ax1.set_title(\"Translation: Abweichung in x, y, z [mm]\")\n",
    "    ax1.plot(indices, diffs_trans[:, 0], label=\"x [mm]\", marker='.', linestyle='-', color='blue')\n",
    "    ax1.plot(indices, diffs_trans[:, 1], label=\"y [mm]\", marker='.',linestyle='-', color='green')\n",
    "    ax1.plot(indices, diffs_trans[:, 2], label=\"z [mm]\", marker='.',linestyle='-', color='purple')\n",
    "    ax1.axhline(0, color='gray', linestyle='--', linewidth=0.8)\n",
    "\n",
    "    ax1.set_ylabel(\"Abweichung [mm]\")\n",
    "    ax1.grid(True)\n",
    "    ax1.legend()\n",
    "\n",
    "    # --- Plot 2: Rotation (roll, pitch, yaw) ---\n",
    "    ax2.set_title(\"Rotation: Abweichung in Roll, Pitch, Yaw [°]\")\n",
    "    ax2.plot(indices, diffs_rot[:, 0], label=\"roll [°]\", marker='.',linestyle='-', color='orange')\n",
    "    ax2.plot(indices, diffs_rot[:, 1], label=\"pitch [°]\", marker='.',linestyle='-', color='red')\n",
    "    ax2.plot(indices, diffs_rot[:, 2], label=\"yaw [°]\", marker='.',linestyle='-', color='brown')\n",
    "    ax2.axhline(0, color='gray', linestyle='--', linewidth=0.8)\n",
    "\n",
    "    ax2.set_xlabel(\"Punktindex (entlang der Trajektorie)\")\n",
    "    ax2.set_ylabel(\"Abweichung [°]\")\n",
    "    ax2.grid(True)\n",
    "    ax2.legend()\n",
    "\n",
    "    plt.tight_layout(rect=[0, 0, 1, 0.95])\n",
    "    plt.show()"
   ]
  },
  {
   "cell_type": "code",
   "execution_count": 1116,
   "id": "0fccff97",
   "metadata": {},
   "outputs": [],
   "source": [
    "diffs_trans, diffs_rot = trajectory_difference(trajectory_1, trajectory_optim, 100)\n",
    "# plot_signed_trajectory_differences(diffs_trans, diffs_rot, hook_num=2, trajectory_process=1)"
   ]
  },
  {
   "cell_type": "markdown",
   "id": "170527fd",
   "metadata": {},
   "source": [
    "### **3D-Darstellung**"
   ]
  },
  {
   "cell_type": "code",
   "execution_count": 1117,
   "id": "edfb46e9",
   "metadata": {},
   "outputs": [],
   "source": [
    "def fix_rpy(rpy):\n",
    "    roll, pitch, yaw = rpy\n",
    "    return [roll, -pitch, yaw]  # oder vielleicht yaw auch invertieren – je nach System\n",
    "\n",
    "\n",
    "def compute_rectangle_corners(trajectory, frame='', width=8, height=12):\n",
    "    \"\"\"\n",
    "    Berechnet die Rechteck-Eckpunkte (4 Stück) für jeden Trajektorienpunkt.\n",
    "\n",
    "    :param trajectory: Liste von ([x, y, z], [roll, pitch, yaw]) Einträgen\n",
    "    :param width: Breite des Rechtecks (in X-Richtung)\n",
    "    :param height: Höhe des Rechtecks (in Y-Richtung)\n",
    "    :return: Liste von Rechtecken, jedes als Liste von 4 Eckpunkten (jeweils [x, y, z])\n",
    "    \"\"\"\n",
    "    rectangles = []\n",
    "\n",
    "    # Rechteck im lokalen TCP-Koordinatensystem (XY-Ebene, Zentrum im Ursprung)\n",
    "    half_w = width / 2\n",
    "    half_h = height / 2\n",
    "\n",
    "    if frame == '_work':\n",
    "        local_corners = np.array([\n",
    "            [-half_w, half_h, 0],\n",
    "            [ half_w, half_h, 0],\n",
    "            [ half_w, -half_h, 0],\n",
    "            [-half_w, -half_h, 0]\n",
    "        ])\n",
    "    else:\n",
    "        local_corners = np.array([\n",
    "        [-half_w, 0, -half_h],\n",
    "        [ half_w, 0, -half_h],\n",
    "        [ half_w, 0, half_h],\n",
    "        [-half_w, 0, half_h]\n",
    "        ])\n",
    "\n",
    "    for trans, rpy in trajectory:\n",
    "        # RPY in Radiant, falls nicht schon so\n",
    "        if frame == '_work':\n",
    "            rot = R.from_euler('xyz', fix_rpy(rpy), degrees=True)\n",
    "        else:\n",
    "            rot = R.from_euler('xyz', rpy, degrees=True)\n",
    "        rotated_corners = rot.apply(local_corners)\n",
    "        translated_corners = rotated_corners + np.array(trans)\n",
    "        rectangles.append(translated_corners.tolist())\n",
    "    return rectangles"
   ]
  },
  {
   "cell_type": "code",
   "execution_count": 1118,
   "id": "05d04c48",
   "metadata": {},
   "outputs": [],
   "source": [
    "rectangles_optim = compute_rectangle_corners(trajectory_optim, frame = frame)\n",
    "rectangles_1 = compute_rectangle_corners(trajectory_1, frame = frame)\n",
    "rectangles_2 = compute_rectangle_corners(trajectory_2, frame = frame)\n",
    "rectangles_3 = compute_rectangle_corners(trajectory_3, frame = frame)\n",
    "rectangles_4 = compute_rectangle_corners(trajectory_4, frame = frame)"
   ]
  },
  {
   "cell_type": "code",
   "execution_count": 1119,
   "id": "f78ad7a3",
   "metadata": {},
   "outputs": [],
   "source": [
    "def visualize_rectangles(rectangles, figsize=(8, 8), connect_points=None, \n",
    "                         secondary_rectangles=None, secondary_legend_title=None,\n",
    "                         hook_num = 0, trajectory_process = 1):\n",
    "    \"\"\"\n",
    "    Visualisiert Rechtecke + Trajektorie im 3D-Raum mit Legende und Bezeichnungen der Trajektorienpunkte.\n",
    "    \n",
    "    Zusätzlich kann ein zweiter Satz Rechtecke (grau & transparent) dargestellt werden – inkl. Mittelpunktslinie.\n",
    "\n",
    "    :param rectangles: Liste von Rechtecken (jeweils 4 Punkte [x, y, z])\n",
    "    :param figsize: Größe der Plotfläche (Breite, Höhe)\n",
    "    :param connect_points: Optionales Tupel mit zwei Punkten [x, y, z], die verbunden werden sollen\n",
    "    :param secondary_rectangles: Optionaler zweiter Satz Rechtecke (werden grau dargestellt)\n",
    "    :param secondary_legend_title: Optionaler Legenden-Eintrag für die grauen Rechtecke\n",
    "    \"\"\"\n",
    "    %matplotlib qt\n",
    "\n",
    "    fig = plt.figure(figsize=figsize)\n",
    "    ax = fig.add_subplot(111, projection='3d')\n",
    "    fig.suptitle(f\"Einfädelung Trajektorie Spitze -> Senke (TCP in WORLD-Frame)\", fontsize=14, y=0.98)\n",
    "\n",
    "    centers = []\n",
    "    cmap = cm.get_cmap('tab20')\n",
    "    legend_handles = []\n",
    "\n",
    "    # Berechnete Trajektorie (farbig)\n",
    "    for i, rect in enumerate(rectangles):\n",
    "        color = cmap(i / len(rectangles))\n",
    "        poly = Poly3DCollection([rect], facecolors=color, alpha=0.2, edgecolors=color)\n",
    "        ax.add_collection3d(poly)\n",
    "\n",
    "        if i == 0:\n",
    "            label = 'Pre-Position'\n",
    "        elif i == 1:\n",
    "            label = 'Spitze'\n",
    "        elif i == len(rectangles) - 1:\n",
    "            label = 'Loslassen'\n",
    "        else:\n",
    "            label = str(i + 1)\n",
    "\n",
    "        legend_handles.append(plt.Line2D([0], [0], marker='o', color='w', label=label,\n",
    "                                         markersize=10, markerfacecolor=color))\n",
    "\n",
    "        center = np.mean(np.array(rect), axis=0)\n",
    "        centers.append(center)\n",
    "        ax.scatter(*center, color='red', s=30)\n",
    "        ax.text(center[0]-5, center[1]-5, center[2], f\"P{i}\", color=color, alpha = 0.8, fontsize=12)\n",
    "\n",
    "    # Linie durch die berechneten Mittelpunkte\n",
    "    centers = np.array(centers)\n",
    "    ax.plot(centers[:, 0], centers[:, 1], centers[:, 2], color='black', linewidth=2)\n",
    "\n",
    "    # Beschriftung Hauptlinie\n",
    "    if len(centers) > 0:\n",
    "        ax.text(*centers[0], 'Pre-Position', color='black', fontsize=10)\n",
    "    if len(centers) > 2:\n",
    "        ax.text(*centers[-1], 'Loslassen', color='black', fontsize=10)\n",
    "\n",
    "    # Optimal-Trajektorie (grün)\n",
    "    if secondary_rectangles is not None:\n",
    "        secondary_centers = []\n",
    "        for rect in secondary_rectangles:\n",
    "            poly = Poly3DCollection([rect], facecolors='green', alpha=0.1, edgecolors='green')\n",
    "            ax.add_collection3d(poly)\n",
    "\n",
    "            center = np.mean(np.array(rect), axis=0)\n",
    "            secondary_centers.append(center)\n",
    "            ax.scatter(*center, color='green', s=20)\n",
    "\n",
    "        # Linie durch grüne Mittelpunkte\n",
    "        secondary_centers = np.array(secondary_centers)\n",
    "        ax.plot(secondary_centers[:, 0], secondary_centers[:, 1], secondary_centers[:, 2],\n",
    "                color='green', linewidth=1, linestyle='-')\n",
    "\n",
    "        # Legendenhandle für Optimal-Trajektorie\n",
    "        if secondary_legend_title:\n",
    "            legend_handles.append(plt.Line2D([0], [0], marker='o', color='w', label=secondary_legend_title,\n",
    "                                             markersize=10, markerfacecolor='green'))\n",
    "\n",
    "    # Einzeichnen von Spitze und Senke inkl. graue Verbindungslinie\n",
    "    if connect_points is not None and len(connect_points) == 2:\n",
    "        p1, p2 = np.array(connect_points[0]), np.array(connect_points[1])\n",
    "        ax.plot([p1[0], p2[0]], [p1[1], p2[1]], [p1[2], p2[2]],\n",
    "                color='gray', linestyle='dashed', linewidth=2)\n",
    "        ax.scatter(*p1, 'o', color='magenta', linewidth=6)\n",
    "        ax.scatter(*p2, 'o', color='magenta', linewidth=6)\n",
    "        ax.text(*p1, 'Spitze', color='magenta', fontsize=12, ha='center')\n",
    "        ax.text(*p2, 'Senke', color='magenta', fontsize=12, ha='center')\n",
    "\n",
    "    # Achseneinstellungen\n",
    "    ax.set_xlabel('X')\n",
    "    ax.set_ylabel('Y')\n",
    "    ax.set_zlabel('Z')\n",
    "    ax.set_title(f\"Haken {hook_num}, Trajektorien-Ansatz {trajectory_process}\", fontsize = 10)\n",
    "\n",
    "    all_points = rectangles + (secondary_rectangles if secondary_rectangles else [])\n",
    "    all_points = np.vstack(all_points)\n",
    "    mid = np.mean(all_points, axis=0)\n",
    "    max_range = np.ptp(all_points, axis=0).max() / 2\n",
    "    for i, axis in enumerate([ax.set_xlim, ax.set_ylim, ax.set_zlim]):\n",
    "        axis(mid[i] - max_range, mid[i] + max_range)\n",
    "\n",
    "    ax.set_box_aspect([1, 1, 1])\n",
    "    ax.legend(handles=legend_handles, title=\"Trajektorien-Punkte\", loc='upper left')\n",
    "    plt.tight_layout(pad=0.5, w_pad=0.5, h_pad=0.5)\n",
    "    plt.show()"
   ]
  },
  {
   "cell_type": "code",
   "execution_count": 1120,
   "id": "5a944d76",
   "metadata": {},
   "outputs": [
    {
     "data": {
      "text/plain": [
       "\"\\nvisualize_rectangles(rectangles = rectangles_1,\\n                     secondary_rectangles = rectangles_optim,\\n                     secondary_legend_title = 'optimale Trajektorie',\\n                     connect_points = (trajectory_1[1][0], trajectory_1[-1][0]),\\n                     hook_num = hook_num,\\n                     trajectory_process = 1)\\n\\nvisualize_rectangles(rectangles = rectangles_2,\\n                     secondary_rectangles = rectangles_optim,\\n                     secondary_legend_title = 'optimale Trajektorie',\\n                     connect_points = (trajectory_1[1][0], trajectory_1[-1][0]),\\n                     hook_num = hook_num,\\n                     trajectory_process = 2)\\n\\nvisualize_rectangles(rectangles = rectangles_3,\\n                     secondary_rectangles = rectangles_optim,\\n                     secondary_legend_title = 'optimale Trajektorie',\\n                     connect_points = (trajectory_1[1][0], trajectory_1[-1][0]),\\n                     hook_num = hook_num,\\n                     trajectory_process = 3)\\n\\nvisualize_rectangles(rectangles = rectangles_4,\\n                     secondary_rectangles = rectangles_optim,\\n                     secondary_legend_title = 'optimale Trajektorie',\\n                     connect_points = (trajectory_1[1][0], trajectory_1[-1][0]),\\n                     hook_num = hook_num,\\n                     trajectory_process = 4)\\n\""
      ]
     },
     "execution_count": 1120,
     "metadata": {},
     "output_type": "execute_result"
    }
   ],
   "source": [
    "'''\n",
    "visualize_rectangles(rectangles = rectangles_1,\n",
    "                     secondary_rectangles = rectangles_optim,\n",
    "                     secondary_legend_title = 'optimale Trajektorie',\n",
    "                     connect_points = (trajectory_1[1][0], trajectory_1[-1][0]),\n",
    "                     hook_num = hook_num,\n",
    "                     trajectory_process = 1)\n",
    "\n",
    "visualize_rectangles(rectangles = rectangles_2,\n",
    "                     secondary_rectangles = rectangles_optim,\n",
    "                     secondary_legend_title = 'optimale Trajektorie',\n",
    "                     connect_points = (trajectory_1[1][0], trajectory_1[-1][0]),\n",
    "                     hook_num = hook_num,\n",
    "                     trajectory_process = 2)\n",
    "\n",
    "visualize_rectangles(rectangles = rectangles_3,\n",
    "                     secondary_rectangles = rectangles_optim,\n",
    "                     secondary_legend_title = 'optimale Trajektorie',\n",
    "                     connect_points = (trajectory_1[1][0], trajectory_1[-1][0]),\n",
    "                     hook_num = hook_num,\n",
    "                     trajectory_process = 3)\n",
    "\n",
    "visualize_rectangles(rectangles = rectangles_4,\n",
    "                     secondary_rectangles = rectangles_optim,\n",
    "                     secondary_legend_title = 'optimale Trajektorie',\n",
    "                     connect_points = (trajectory_1[1][0], trajectory_1[-1][0]),\n",
    "                     hook_num = hook_num,\n",
    "                     trajectory_process = 4)\n",
    "'''"
   ]
  },
  {
   "cell_type": "code",
   "execution_count": 1121,
   "id": "0653e612",
   "metadata": {},
   "outputs": [],
   "source": [
    "def visualize_rectangles_html(rectangles, connect_points=None, \n",
    "                              secondary_rectangles=None, secondary_legend_title=None,\n",
    "                              hook_num=0, trajectory_process=1, html_filename=\"/home/mo/Thesis/Evaluation/Trajektorientests/CSV/plot_interaktiv.html\"):\n",
    "    \"\"\"\n",
    "    Visualisiert Rechtecke und Trajektorien im 3D-Raum als interaktive HTML-Datei.\n",
    "    \n",
    "    :param rectangles: Liste von Rechtecken (jeweils 4 Punkte [x, y, z])\n",
    "    :param figsize: Größe der Plotfläche (Breite, Höhe)\n",
    "    :param connect_points: Optionales Tupel mit zwei Punkten [x, y, z], die verbunden werden sollen\n",
    "    :param secondary_rectangles: Optionaler zweiter Satz Rechtecke (werden grau dargestellt)\n",
    "    :param secondary_legend_title: Optionaler Legenden-Eintrag für die grauen Rechtecke\n",
    "    :param html_filename: Der Name der HTML-Datei, die erstellt wird\n",
    "    \"\"\"\n",
    "    fig = go.Figure()\n",
    "\n",
    "    # Berechnete Trajektorie (farbig)\n",
    "    cmap = plt.cm.get_cmap('tab20')\n",
    "    centers = []\n",
    "\n",
    "    for i, rect in enumerate(rectangles):\n",
    "        # Verwende rgba-String für die Farbe (anstatt des RGBA-Tupels)\n",
    "        color = f\"rgba({int(cmap(i / len(rectangles))[0] * 255)}, \" \\\n",
    "                f\"{int(cmap(i / len(rectangles))[1] * 255)}, \" \\\n",
    "                f\"{int(cmap(i / len(rectangles))[2] * 255)}, 0.8)\"\n",
    "        x, y, z = zip(*rect)\n",
    "        fig.add_trace(go.Mesh3d(x=x, y=y, z=z, color=color, opacity=0.8, \n",
    "                               name=f'P{i+1}'))\n",
    "\n",
    "        center = np.mean(np.array(rect), axis=0)\n",
    "        centers.append(center)\n",
    "        \n",
    "        # Text für \"P0\", \"P1\", etc.\n",
    "        if i == 0:\n",
    "            text_label = ''\n",
    "            # text_label = 'Pre-Position'\n",
    "        elif i == 1:\n",
    "            text_label = ''\n",
    "            # text_label = 'Spitze'\n",
    "        elif i == len(rectangles) - 1:\n",
    "            text_label = ''\n",
    "            # text_label = 'Loslassen'\n",
    "        else:\n",
    "            text_label = f'P{i}'  # Standardtext für den Punkt\n",
    "        \n",
    "        # Füge den Text an den Punkten hinzu (mit entsprechender Position)\n",
    "        fig.add_trace(go.Scatter3d(x=[center[0]], y=[center[1]], z=[center[2]], \n",
    "                                   mode='markers+text', marker=dict(size=3, color='red'),\n",
    "                                   text=text_label, textposition=\"top center\", textfont=dict(size=12), showlegend=False))\n",
    "\n",
    "        # Hinzufügen der Umrandung der Rechtecke mit einer Linie\n",
    "        for j in range(4):\n",
    "            x0, y0, z0 = rect[j]\n",
    "            x1, y1, z1 = rect[(j + 1) % 4]  # Nächster Punkt im Rechteck\n",
    "            fig.add_trace(go.Scatter3d(x=[x0, x1], y=[y0, y1], z=[z0, z1], \n",
    "                                       mode='lines', \n",
    "                                       line=dict(color=color, width=4),  # Keine opacity hier\n",
    "                                       showlegend=False))\n",
    "\n",
    "    # Linie durch die berechneten Mittelpunkte\n",
    "    centers = np.array(centers)\n",
    "    fig.add_trace(go.Scatter3d(x=centers[:, 0], y=centers[:, 1], z=centers[:, 2],\n",
    "                               mode='lines', line=dict(color='black', width=2), name='Berechnete Hakenlinie'))\n",
    "\n",
    "    # Beschriftung der ersten und letzten Punkte\n",
    "    if len(centers) > 0:\n",
    "        fig.add_trace(go.Scatter3d(x=[centers[0, 0]], y=[centers[0, 1]], z=[centers[0, 2]],\n",
    "                                   mode='text', text=['Pre-Position'], textposition=\"top center\", textfont=dict(size=10), showlegend=False))\n",
    "    if len(centers) > 2:\n",
    "        fig.add_trace(go.Scatter3d(x=[centers[-1, 0]], y=[centers[-1, 1]], z=[centers[-1, 2]],\n",
    "                                   mode='text', text=['Loslassen'], textposition=\"top center\", textfont=dict(size=10), showlegend=False))\n",
    "\n",
    "    # Optimal-Trajektorie (grün) – Zweite Rechtecke\n",
    "    if secondary_rectangles:\n",
    "        for rect in secondary_rectangles:\n",
    "            x, y, z = zip(*rect)\n",
    "            fig.add_trace(go.Mesh3d(x=x, y=y, z=z, color='rgba(0,255,0,0.2)', opacity=0.8, \n",
    "                                   name=secondary_legend_title or 'Optimale Trajektorie'))\n",
    "        \n",
    "            # Hinzufügen der Umrandung der Rechtecke mit einer Linie\n",
    "            for j in range(4):\n",
    "                x0, y0, z0 = rect[j]\n",
    "                x1, y1, z1 = rect[(j + 1) % 4]  # Nächster Punkt im Rechteck\n",
    "                fig.add_trace(go.Scatter3d(x=[x0, x1], y=[y0, y1], z=[z0, z1], \n",
    "                                           mode='lines', \n",
    "                                           line=dict(color='rgba(0,255,0,0.2)', width=3),  # Keine opacity hier\n",
    "                                           showlegend=False))\n",
    "            \n",
    "            # Hinzufügen eines roten Punktes in der Mitte des Rechtecks\n",
    "            center = np.mean(np.array(rect), axis=0)\n",
    "            fig.add_trace(go.Scatter3d(x=[center[0]], y=[center[1]], z=[center[2]], \n",
    "                                       mode='markers', marker=dict(size=4, color='green'), \n",
    "                                       name=f'Mitte P{i+1}', showlegend=False))\n",
    "        \n",
    "        # Mittelpunkte der sekundären Rechtecke sammeln\n",
    "        secondary_centers = [np.mean(np.array(rect), axis=0) for rect in secondary_rectangles]\n",
    "        secondary_centers = np.array(secondary_centers)\n",
    "\n",
    "        # Linie durch die Mittelpunkte zeichnen\n",
    "        fig.add_trace(go.Scatter3d(\n",
    "            x=secondary_centers[:, 0], y=secondary_centers[:, 1], z=secondary_centers[:, 2],\n",
    "            mode='lines',\n",
    "            line=dict(color='green', width=2),\n",
    "            name='Optimale Hakenlinie'\n",
    "        ))\n",
    "    \n",
    "    # Einzeichnen von Spitze und Senke inkl. graue Verbindungslinie\n",
    "    if connect_points:\n",
    "        p1, p2 = np.array(connect_points[0]), np.array(connect_points[1])\n",
    "        fig.add_trace(go.Scatter3d(x=[p1[0], p2[0]], y=[p1[1], p2[1]], z=[p1[2], p2[2]], \n",
    "                                   mode='lines', line=dict(color='gray', dash='dash'), name='Direkte Gerade Spitze -> Senke'))\n",
    "        fig.add_trace(go.Scatter3d(x=[p1[0]], y=[p1[1]], z=[p1[2]], mode='markers', \n",
    "                                   marker=dict(size=8, color='magenta'), name='Spitze'))\n",
    "        fig.add_trace(go.Scatter3d(x=[p2[0]], y=[p2[1]], z=[p2[2]], mode='markers', \n",
    "                                   marker=dict(size=8, color='magenta'), name='Senke'))\n",
    "        \n",
    "        # Hinzufügen von Text \"Spitze\" und \"Senke\"\n",
    "        fig.add_trace(go.Scatter3d(x=[p1[0]], y=[p1[1]], z=[p1[2]], mode='text', \n",
    "                                   text=['Spitze'], textposition=\"top center\", textfont=dict(size=10), showlegend=False))\n",
    "        fig.add_trace(go.Scatter3d(x=[p2[0]], y=[p2[1]], z=[p2[2]], mode='text', \n",
    "                                   text=['Senke'], textposition=\"top center\", textfont=dict(size=10), showlegend=False))\n",
    "\n",
    "    # Achsen und Layout\n",
    "    fig.update_layout(\n",
    "        scene=dict(\n",
    "            xaxis_title='X',\n",
    "            yaxis_title='Y',\n",
    "            zaxis_title='Z',\n",
    "            aspectmode='cube',\n",
    "            camera=dict(\n",
    "                up=dict(x=0, y=-1., z=0),\n",
    "                eye=dict(x=-1, y=-1, z=-1.5)\n",
    "            )\n",
    "        ),\n",
    "        title=f'Haken {hook_num}, Trajektorien-Ansatz {trajectory_process}',\n",
    "        legend=dict(title=\"Legende\")\n",
    "    )\n",
    "    \n",
    "    # HTML exportieren\n",
    "    fig.write_html(html_filename)\n",
    "    print(f\"HTML-Datei '{html_filename}' erfolgreich erstellt!\")\n",
    "    fig.show()"
   ]
  },
  {
   "cell_type": "code",
   "execution_count": 1122,
   "id": "2e400931",
   "metadata": {},
   "outputs": [
    {
     "name": "stdout",
     "output_type": "stream",
     "text": [
      "HTML-Datei '/home/mo/Thesis/Evaluation/Trajektorientests/traj1.html' erfolgreich erstellt!\n"
     ]
    },
    {
     "name": "stderr",
     "output_type": "stream",
     "text": [
      "/tmp/ipykernel_366278/974647754.py:17: MatplotlibDeprecationWarning:\n",
      "\n",
      "The get_cmap function was deprecated in Matplotlib 3.7 and will be removed two minor releases later. Use ``matplotlib.colormaps[name]`` or ``matplotlib.colormaps.get_cmap(obj)`` instead.\n",
      "\n"
     ]
    },
    {
     "data": {
      "application/vnd.plotly.v1+json": {
       "config": {
        "plotlyServerURL": "https://plot.ly"
       },
       "data": [
        {
         "color": "rgba(31, 119, 180, 0.8)",
         "name": "P1",
         "opacity": 0.8,
         "type": "mesh3d",
         "x": [
          67.35561880509731,
          73.16166608050865,
          70.12749304673498,
          64.32144577132364
         ],
         "y": [
          -502.21948489614164,
          -499.5160212925173,
          -507.6645651404072,
          -510.36802874403156
         ],
         "z": [
          325.1168343244775,
          329.91069493775854,
          338.1808235437801,
          333.38696293049907
         ]
        },
        {
         "marker": {
          "color": "red",
          "size": 3
         },
         "mode": "markers+text",
         "showlegend": false,
         "text": "",
         "textfont": {
          "size": 12
         },
         "textposition": "top center",
         "type": "scatter3d",
         "x": [
          68.74155592591615
         ],
         "y": [
          -504.9420250182744
         ],
         "z": [
          331.6488289341288
         ]
        },
        {
         "line": {
          "color": "rgba(31, 119, 180, 0.8)",
          "width": 4
         },
         "mode": "lines",
         "showlegend": false,
         "type": "scatter3d",
         "x": [
          67.35561880509731,
          73.16166608050865
         ],
         "y": [
          -502.21948489614164,
          -499.5160212925173
         ],
         "z": [
          325.1168343244775,
          329.91069493775854
         ]
        },
        {
         "line": {
          "color": "rgba(31, 119, 180, 0.8)",
          "width": 4
         },
         "mode": "lines",
         "showlegend": false,
         "type": "scatter3d",
         "x": [
          73.16166608050865,
          70.12749304673498
         ],
         "y": [
          -499.5160212925173,
          -507.6645651404072
         ],
         "z": [
          329.91069493775854,
          338.1808235437801
         ]
        },
        {
         "line": {
          "color": "rgba(31, 119, 180, 0.8)",
          "width": 4
         },
         "mode": "lines",
         "showlegend": false,
         "type": "scatter3d",
         "x": [
          70.12749304673498,
          64.32144577132364
         ],
         "y": [
          -507.6645651404072,
          -510.36802874403156
         ],
         "z": [
          338.1808235437801,
          333.38696293049907
         ]
        },
        {
         "line": {
          "color": "rgba(31, 119, 180, 0.8)",
          "width": 4
         },
         "mode": "lines",
         "showlegend": false,
         "type": "scatter3d",
         "x": [
          64.32144577132364,
          67.35561880509731
         ],
         "y": [
          -510.36802874403156,
          -502.21948489614164
         ],
         "z": [
          333.38696293049907,
          325.1168343244775
         ]
        },
        {
         "color": "rgba(174, 199, 232, 0.8)",
         "name": "P2",
         "opacity": 0.8,
         "type": "mesh3d",
         "x": [
          65.71687700740041,
          69.5882382345431,
          63.07491989602589,
          59.203558668883204
         ],
         "y": [
          -495.9738353451539,
          -494.4259279655874,
          -502.8095936419,
          -504.3575010214665
         ],
         "z": [
          332.18276303629216,
          339.0103940305141,
          344.60421509030436,
          337.77658409608244
         ]
        },
        {
         "marker": {
          "color": "red",
          "size": 3
         },
         "mode": "markers+text",
         "showlegend": false,
         "text": "",
         "textfont": {
          "size": 12
         },
         "textposition": "top center",
         "type": "scatter3d",
         "x": [
          64.39589845171315
         ],
         "y": [
          -499.39171449352693
         ],
         "z": [
          338.39348906329826
         ]
        },
        {
         "line": {
          "color": "rgba(174, 199, 232, 0.8)",
          "width": 4
         },
         "mode": "lines",
         "showlegend": false,
         "type": "scatter3d",
         "x": [
          65.71687700740041,
          69.5882382345431
         ],
         "y": [
          -495.9738353451539,
          -494.4259279655874
         ],
         "z": [
          332.18276303629216,
          339.0103940305141
         ]
        },
        {
         "line": {
          "color": "rgba(174, 199, 232, 0.8)",
          "width": 4
         },
         "mode": "lines",
         "showlegend": false,
         "type": "scatter3d",
         "x": [
          69.5882382345431,
          63.07491989602589
         ],
         "y": [
          -494.4259279655874,
          -502.8095936419
         ],
         "z": [
          339.0103940305141,
          344.60421509030436
         ]
        },
        {
         "line": {
          "color": "rgba(174, 199, 232, 0.8)",
          "width": 4
         },
         "mode": "lines",
         "showlegend": false,
         "type": "scatter3d",
         "x": [
          63.07491989602589,
          59.203558668883204
         ],
         "y": [
          -502.8095936419,
          -504.3575010214665
         ],
         "z": [
          344.60421509030436,
          337.77658409608244
         ]
        },
        {
         "line": {
          "color": "rgba(174, 199, 232, 0.8)",
          "width": 4
         },
         "mode": "lines",
         "showlegend": false,
         "type": "scatter3d",
         "x": [
          59.203558668883204,
          65.71687700740041
         ],
         "y": [
          -504.3575010214665,
          -495.9738353451539
         ],
         "z": [
          337.77658409608244,
          332.18276303629216
         ]
        },
        {
         "color": "rgba(255, 187, 120, 0.8)",
         "name": "P3",
         "opacity": 0.8,
         "type": "mesh3d",
         "x": [
          63.78088163176342,
          69.12358052085818,
          64.46318484213468,
          59.12048595303991
         ],
         "y": [
          -495.5702499526606,
          -493.3041175341374,
          -501.1793039974718,
          -503.445436415995
         ],
         "z": [
          332.79361955997723,
          338.2999988097369,
          346.0628687871003,
          340.5564895373406
         ]
        },
        {
         "marker": {
          "color": "red",
          "size": 3
         },
         "mode": "markers+text",
         "showlegend": false,
         "text": "P2",
         "textfont": {
          "size": 12
         },
         "textposition": "top center",
         "type": "scatter3d",
         "x": [
          64.12203323694905
         ],
         "y": [
          -498.3747769750662
         ],
         "z": [
          339.42824417353876
         ]
        },
        {
         "line": {
          "color": "rgba(255, 187, 120, 0.8)",
          "width": 4
         },
         "mode": "lines",
         "showlegend": false,
         "type": "scatter3d",
         "x": [
          63.78088163176342,
          69.12358052085818
         ],
         "y": [
          -495.5702499526606,
          -493.3041175341374
         ],
         "z": [
          332.79361955997723,
          338.2999988097369
         ]
        },
        {
         "line": {
          "color": "rgba(255, 187, 120, 0.8)",
          "width": 4
         },
         "mode": "lines",
         "showlegend": false,
         "type": "scatter3d",
         "x": [
          69.12358052085818,
          64.46318484213468
         ],
         "y": [
          -493.3041175341374,
          -501.1793039974718
         ],
         "z": [
          338.2999988097369,
          346.0628687871003
         ]
        },
        {
         "line": {
          "color": "rgba(255, 187, 120, 0.8)",
          "width": 4
         },
         "mode": "lines",
         "showlegend": false,
         "type": "scatter3d",
         "x": [
          64.46318484213468,
          59.12048595303991
         ],
         "y": [
          -501.1793039974718,
          -503.445436415995
         ],
         "z": [
          346.0628687871003,
          340.5564895373406
         ]
        },
        {
         "line": {
          "color": "rgba(255, 187, 120, 0.8)",
          "width": 4
         },
         "mode": "lines",
         "showlegend": false,
         "type": "scatter3d",
         "x": [
          59.12048595303991,
          63.78088163176342
         ],
         "y": [
          -503.445436415995,
          -495.5702499526606
         ],
         "z": [
          340.5564895373406,
          332.79361955997723
         ]
        },
        {
         "color": "rgba(152, 223, 138, 0.8)",
         "name": "P4",
         "opacity": 0.8,
         "type": "mesh3d",
         "x": [
          63.00858021060181,
          68.38352986350993,
          64.10829505223005,
          58.73334539932192
         ],
         "y": [
          -494.4818269292346,
          -492.12017886232724,
          -500.22334230962707,
          -502.58499037653445
         ],
         "z": [
          333.92575059623425,
          339.3601350725825,
          347.11004535946745,
          341.6756608831192
         ]
        },
        {
         "marker": {
          "color": "red",
          "size": 3
         },
         "mode": "markers+text",
         "showlegend": false,
         "text": "P3",
         "textfont": {
          "size": 12
         },
         "textposition": "top center",
         "type": "scatter3d",
         "x": [
          63.55843763141593
         ],
         "y": [
          -497.35258461943084
         ],
         "z": [
          340.51789797785085
         ]
        },
        {
         "line": {
          "color": "rgba(152, 223, 138, 0.8)",
          "width": 4
         },
         "mode": "lines",
         "showlegend": false,
         "type": "scatter3d",
         "x": [
          63.00858021060181,
          68.38352986350993
         ],
         "y": [
          -494.4818269292346,
          -492.12017886232724
         ],
         "z": [
          333.92575059623425,
          339.3601350725825
         ]
        },
        {
         "line": {
          "color": "rgba(152, 223, 138, 0.8)",
          "width": 4
         },
         "mode": "lines",
         "showlegend": false,
         "type": "scatter3d",
         "x": [
          68.38352986350993,
          64.10829505223005
         ],
         "y": [
          -492.12017886232724,
          -500.22334230962707
         ],
         "z": [
          339.3601350725825,
          347.11004535946745
         ]
        },
        {
         "line": {
          "color": "rgba(152, 223, 138, 0.8)",
          "width": 4
         },
         "mode": "lines",
         "showlegend": false,
         "type": "scatter3d",
         "x": [
          64.10829505223005,
          58.73334539932192
         ],
         "y": [
          -500.22334230962707,
          -502.58499037653445
         ],
         "z": [
          347.11004535946745,
          341.6756608831192
         ]
        },
        {
         "line": {
          "color": "rgba(152, 223, 138, 0.8)",
          "width": 4
         },
         "mode": "lines",
         "showlegend": false,
         "type": "scatter3d",
         "x": [
          58.73334539932192,
          63.00858021060181
         ],
         "y": [
          -502.58499037653445,
          -494.4818269292346
         ],
         "z": [
          341.6756608831192,
          333.92575059623425
         ]
        },
        {
         "color": "rgba(255, 152, 150, 0.8)",
         "name": "P5",
         "opacity": 0.8,
         "type": "mesh3d",
         "x": [
          57.827258164127684,
          65.3397253027982,
          68.15459398861456,
          60.64212684994405
         ],
         "y": [
          -496.9976188799541,
          -494.77987633107597,
          -495.7938539427274,
          -498.01159649160553
         ],
         "z": [
          336.6166394333566,
          334.9904612520704,
          346.6114923459399,
          348.2376705272261
         ]
        },
        {
         "marker": {
          "color": "red",
          "size": 3
         },
         "mode": "markers+text",
         "showlegend": false,
         "text": "P4",
         "textfont": {
          "size": 12
         },
         "textposition": "top center",
         "type": "scatter3d",
         "x": [
          62.990926076371125
         ],
         "y": [
          -496.3957364113408
         ],
         "z": [
          341.61406588964826
         ]
        },
        {
         "line": {
          "color": "rgba(255, 152, 150, 0.8)",
          "width": 4
         },
         "mode": "lines",
         "showlegend": false,
         "type": "scatter3d",
         "x": [
          57.827258164127684,
          65.3397253027982
         ],
         "y": [
          -496.9976188799541,
          -494.77987633107597
         ],
         "z": [
          336.6166394333566,
          334.9904612520704
         ]
        },
        {
         "line": {
          "color": "rgba(255, 152, 150, 0.8)",
          "width": 4
         },
         "mode": "lines",
         "showlegend": false,
         "type": "scatter3d",
         "x": [
          65.3397253027982,
          68.15459398861456
         ],
         "y": [
          -494.77987633107597,
          -495.7938539427274
         ],
         "z": [
          334.9904612520704,
          346.6114923459399
         ]
        },
        {
         "line": {
          "color": "rgba(255, 152, 150, 0.8)",
          "width": 4
         },
         "mode": "lines",
         "showlegend": false,
         "type": "scatter3d",
         "x": [
          68.15459398861456,
          60.64212684994405
         ],
         "y": [
          -495.7938539427274,
          -498.01159649160553
         ],
         "z": [
          346.6114923459399,
          348.2376705272261
         ]
        },
        {
         "line": {
          "color": "rgba(255, 152, 150, 0.8)",
          "width": 4
         },
         "mode": "lines",
         "showlegend": false,
         "type": "scatter3d",
         "x": [
          60.64212684994405,
          57.827258164127684
         ],
         "y": [
          -498.01159649160553,
          -496.9976188799541
         ],
         "z": [
          348.2376705272261,
          336.6166394333566
         ]
        },
        {
         "color": "rgba(197, 176, 213, 0.8)",
         "name": "P6",
         "opacity": 0.8,
         "type": "mesh3d",
         "x": [
          61.8952506489619,
          65.62397853717076,
          62.63246287968389,
          58.903734991475034
         ],
         "y": [
          -491.05221930999363,
          -488.981208253884,
          -499.5299452460295,
          -501.60095630213914
         ],
         "z": [
          335.84995523727525,
          342.6180791679643,
          347.49403875983467,
          340.7259148291456
         ]
        },
        {
         "marker": {
          "color": "red",
          "size": 3
         },
         "mode": "markers+text",
         "showlegend": false,
         "text": "P5",
         "textfont": {
          "size": 12
         },
         "textposition": "top center",
         "type": "scatter3d",
         "x": [
          62.263856764322895
         ],
         "y": [
          -495.2910822780116
         ],
         "z": [
          341.67199699855496
         ]
        },
        {
         "line": {
          "color": "rgba(197, 176, 213, 0.8)",
          "width": 4
         },
         "mode": "lines",
         "showlegend": false,
         "type": "scatter3d",
         "x": [
          61.8952506489619,
          65.62397853717076
         ],
         "y": [
          -491.05221930999363,
          -488.981208253884
         ],
         "z": [
          335.84995523727525,
          342.6180791679643
         ]
        },
        {
         "line": {
          "color": "rgba(197, 176, 213, 0.8)",
          "width": 4
         },
         "mode": "lines",
         "showlegend": false,
         "type": "scatter3d",
         "x": [
          65.62397853717076,
          62.63246287968389
         ],
         "y": [
          -488.981208253884,
          -499.5299452460295
         ],
         "z": [
          342.6180791679643,
          347.49403875983467
         ]
        },
        {
         "line": {
          "color": "rgba(197, 176, 213, 0.8)",
          "width": 4
         },
         "mode": "lines",
         "showlegend": false,
         "type": "scatter3d",
         "x": [
          62.63246287968389,
          58.903734991475034
         ],
         "y": [
          -499.5299452460295,
          -501.60095630213914
         ],
         "z": [
          347.49403875983467,
          340.7259148291456
         ]
        },
        {
         "line": {
          "color": "rgba(197, 176, 213, 0.8)",
          "width": 4
         },
         "mode": "lines",
         "showlegend": false,
         "type": "scatter3d",
         "x": [
          58.903734991475034,
          61.8952506489619
         ],
         "y": [
          -501.60095630213914,
          -491.05221930999363
         ],
         "z": [
          340.7259148291456,
          335.84995523727525
         ]
        },
        {
         "color": "rgba(140, 86, 75, 0.8)",
         "name": "P7",
         "opacity": 0.8,
         "type": "mesh3d",
         "x": [
          61.49710539199933,
          66.88455817403707,
          62.18429599498003,
          56.79684321294229
         ],
         "y": [
          -491.48196032174906,
          -489.22017489053894,
          -496.98606134981605,
          -499.24784678102617
         ],
         "z": [
          337.1439664485727,
          342.6083675305285,
          350.45684145542253,
          344.99244037346676
         ]
        },
        {
         "marker": {
          "color": "red",
          "size": 3
         },
         "mode": "markers+text",
         "showlegend": false,
         "text": "P6",
         "textfont": {
          "size": 12
         },
         "textposition": "top center",
         "type": "scatter3d",
         "x": [
          61.84070069348968
         ],
         "y": [
          -494.23401083578256
         ],
         "z": [
          343.8004039519976
         ]
        },
        {
         "line": {
          "color": "rgba(140, 86, 75, 0.8)",
          "width": 4
         },
         "mode": "lines",
         "showlegend": false,
         "type": "scatter3d",
         "x": [
          61.49710539199933,
          66.88455817403707
         ],
         "y": [
          -491.48196032174906,
          -489.22017489053894
         ],
         "z": [
          337.1439664485727,
          342.6083675305285
         ]
        },
        {
         "line": {
          "color": "rgba(140, 86, 75, 0.8)",
          "width": 4
         },
         "mode": "lines",
         "showlegend": false,
         "type": "scatter3d",
         "x": [
          66.88455817403707,
          62.18429599498003
         ],
         "y": [
          -489.22017489053894,
          -496.98606134981605
         ],
         "z": [
          342.6083675305285,
          350.45684145542253
         ]
        },
        {
         "line": {
          "color": "rgba(140, 86, 75, 0.8)",
          "width": 4
         },
         "mode": "lines",
         "showlegend": false,
         "type": "scatter3d",
         "x": [
          62.18429599498003,
          56.79684321294229
         ],
         "y": [
          -496.98606134981605,
          -499.24784678102617
         ],
         "z": [
          350.45684145542253,
          344.99244037346676
         ]
        },
        {
         "line": {
          "color": "rgba(140, 86, 75, 0.8)",
          "width": 4
         },
         "mode": "lines",
         "showlegend": false,
         "type": "scatter3d",
         "x": [
          56.79684321294229,
          61.49710539199933
         ],
         "y": [
          -499.24784678102617,
          -491.48196032174906
         ],
         "z": [
          344.99244037346676,
          337.1439664485727
         ]
        },
        {
         "color": "rgba(227, 119, 194, 0.8)",
         "name": "P8",
         "opacity": 0.8,
         "type": "mesh3d",
         "x": [
          55.76330483218305,
          63.082047857359534,
          66.75406257922498,
          59.4353195540485
         ],
         "y": [
          -493.7798082147857,
          -491.32091683745114,
          -492.57464525214493,
          -495.0335366294795
         ],
         "z": [
          340.27026705921435,
          338.17506928193876,
          349.5304412681219,
          351.62563904539746
         ]
        },
        {
         "marker": {
          "color": "red",
          "size": 3
         },
         "mode": "markers+text",
         "showlegend": false,
         "text": "P7",
         "textfont": {
          "size": 12
         },
         "textposition": "top center",
         "type": "scatter3d",
         "x": [
          61.258683705704016
         ],
         "y": [
          -493.1772267334653
         ],
         "z": [
          344.9003541636681
         ]
        },
        {
         "line": {
          "color": "rgba(227, 119, 194, 0.8)",
          "width": 4
         },
         "mode": "lines",
         "showlegend": false,
         "type": "scatter3d",
         "x": [
          55.76330483218305,
          63.082047857359534
         ],
         "y": [
          -493.7798082147857,
          -491.32091683745114
         ],
         "z": [
          340.27026705921435,
          338.17506928193876
         ]
        },
        {
         "line": {
          "color": "rgba(227, 119, 194, 0.8)",
          "width": 4
         },
         "mode": "lines",
         "showlegend": false,
         "type": "scatter3d",
         "x": [
          63.082047857359534,
          66.75406257922498
         ],
         "y": [
          -491.32091683745114,
          -492.57464525214493
         ],
         "z": [
          338.17506928193876,
          349.5304412681219
         ]
        },
        {
         "line": {
          "color": "rgba(227, 119, 194, 0.8)",
          "width": 4
         },
         "mode": "lines",
         "showlegend": false,
         "type": "scatter3d",
         "x": [
          66.75406257922498,
          59.4353195540485
         ],
         "y": [
          -492.57464525214493,
          -495.0335366294795
         ],
         "z": [
          349.5304412681219,
          351.62563904539746
         ]
        },
        {
         "line": {
          "color": "rgba(227, 119, 194, 0.8)",
          "width": 4
         },
         "mode": "lines",
         "showlegend": false,
         "type": "scatter3d",
         "x": [
          59.4353195540485,
          55.76330483218305
         ],
         "y": [
          -495.0335366294795,
          -493.7798082147857
         ],
         "z": [
          351.62563904539746,
          340.27026705921435
         ]
        },
        {
         "color": "rgba(127, 127, 127, 0.8)",
         "name": "P9",
         "opacity": 0.8,
         "type": "mesh3d",
         "x": [
          56.09736027351414,
          62.82245144895243,
          64.94912267611767,
          58.22403150067938
         ],
         "y": [
          -489.93577563886015,
          -486.1664923230551,
          -494.6301297997767,
          -498.39941311558175
         ],
         "z": [
          339.7697753283055,
          341.90651395697193,
          350.143267574398,
          348.0065289457316
         ]
        },
        {
         "marker": {
          "color": "red",
          "size": 3
         },
         "mode": "markers+text",
         "showlegend": false,
         "text": "P8",
         "textfont": {
          "size": 12
         },
         "textposition": "top center",
         "type": "scatter3d",
         "x": [
          60.523241474815904
         ],
         "y": [
          -492.2829527193185
         ],
         "z": [
          344.95652145135176
         ]
        },
        {
         "line": {
          "color": "rgba(127, 127, 127, 0.8)",
          "width": 4
         },
         "mode": "lines",
         "showlegend": false,
         "type": "scatter3d",
         "x": [
          56.09736027351414,
          62.82245144895243
         ],
         "y": [
          -489.93577563886015,
          -486.1664923230551
         ],
         "z": [
          339.7697753283055,
          341.90651395697193
         ]
        },
        {
         "line": {
          "color": "rgba(127, 127, 127, 0.8)",
          "width": 4
         },
         "mode": "lines",
         "showlegend": false,
         "type": "scatter3d",
         "x": [
          62.82245144895243,
          64.94912267611767
         ],
         "y": [
          -486.1664923230551,
          -494.6301297997767
         ],
         "z": [
          341.90651395697193,
          350.143267574398
         ]
        },
        {
         "line": {
          "color": "rgba(127, 127, 127, 0.8)",
          "width": 4
         },
         "mode": "lines",
         "showlegend": false,
         "type": "scatter3d",
         "x": [
          64.94912267611767,
          58.22403150067938
         ],
         "y": [
          -494.6301297997767,
          -498.39941311558175
         ],
         "z": [
          350.143267574398,
          348.0065289457316
         ]
        },
        {
         "line": {
          "color": "rgba(127, 127, 127, 0.8)",
          "width": 4
         },
         "mode": "lines",
         "showlegend": false,
         "type": "scatter3d",
         "x": [
          58.22403150067938,
          56.09736027351414
         ],
         "y": [
          -498.39941311558175,
          -489.93577563886015
         ],
         "z": [
          348.0065289457316,
          339.7697753283055
         ]
        },
        {
         "color": "rgba(188, 189, 34, 0.8)",
         "name": "P10",
         "opacity": 0.8,
         "type": "mesh3d",
         "x": [
          55.619404634520265,
          60.88401444448593,
          63.07621342809614,
          57.811603618130476
         ],
         "y": [
          -488.4905249137621,
          -484.8591726946336,
          -495.3023777236974,
          -498.9337299428259
         ],
         "z": [
          341.0281807845546,
          345.83413174242384,
          351.32355177893,
          346.51760082106074
         ]
        },
        {
         "marker": {
          "color": "red",
          "size": 3
         },
         "mode": "markers+text",
         "showlegend": false,
         "text": "P9",
         "textfont": {
          "size": 12
         },
         "textposition": "top center",
         "type": "scatter3d",
         "x": [
          59.3478090313082
         ],
         "y": [
          -491.89645131872976
         ],
         "z": [
          346.17586628174234
         ]
        },
        {
         "line": {
          "color": "rgba(188, 189, 34, 0.8)",
          "width": 4
         },
         "mode": "lines",
         "showlegend": false,
         "type": "scatter3d",
         "x": [
          55.619404634520265,
          60.88401444448593
         ],
         "y": [
          -488.4905249137621,
          -484.8591726946336
         ],
         "z": [
          341.0281807845546,
          345.83413174242384
         ]
        },
        {
         "line": {
          "color": "rgba(188, 189, 34, 0.8)",
          "width": 4
         },
         "mode": "lines",
         "showlegend": false,
         "type": "scatter3d",
         "x": [
          60.88401444448593,
          63.07621342809614
         ],
         "y": [
          -484.8591726946336,
          -495.3023777236974
         ],
         "z": [
          345.83413174242384,
          351.32355177893
         ]
        },
        {
         "line": {
          "color": "rgba(188, 189, 34, 0.8)",
          "width": 4
         },
         "mode": "lines",
         "showlegend": false,
         "type": "scatter3d",
         "x": [
          63.07621342809614,
          57.811603618130476
         ],
         "y": [
          -495.3023777236974,
          -498.9337299428259
         ],
         "z": [
          351.32355177893,
          346.51760082106074
         ]
        },
        {
         "line": {
          "color": "rgba(188, 189, 34, 0.8)",
          "width": 4
         },
         "mode": "lines",
         "showlegend": false,
         "type": "scatter3d",
         "x": [
          57.811603618130476,
          55.619404634520265
         ],
         "y": [
          -498.9337299428259,
          -488.4905249137621
         ],
         "z": [
          346.51760082106074,
          341.0281807845546
         ]
        },
        {
         "color": "rgba(23, 190, 207, 0.8)",
         "name": "P11",
         "opacity": 0.8,
         "type": "mesh3d",
         "x": [
          54.237443081742164,
          62.233691285049574,
          62.37169156640427,
          54.37544336309686
         ],
         "y": [
          -497.66451608038466,
          -497.7564691694771,
          -485.75726271066554,
          -485.6653096215731
         ],
         "z": [
          348.59172227021224,
          348.3646555388108,
          348.36518578510277,
          348.59225251650423
         ]
        },
        {
         "marker": {
          "color": "red",
          "size": 3
         },
         "mode": "markers+text",
         "showlegend": false,
         "text": "",
         "textfont": {
          "size": 12
         },
         "textposition": "top center",
         "type": "scatter3d",
         "x": [
          58.30456732407322
         ],
         "y": [
          -491.7108893955251
         ],
         "z": [
          348.4784540276575
         ]
        },
        {
         "line": {
          "color": "rgba(23, 190, 207, 0.8)",
          "width": 4
         },
         "mode": "lines",
         "showlegend": false,
         "type": "scatter3d",
         "x": [
          54.237443081742164,
          62.233691285049574
         ],
         "y": [
          -497.66451608038466,
          -497.7564691694771
         ],
         "z": [
          348.59172227021224,
          348.3646555388108
         ]
        },
        {
         "line": {
          "color": "rgba(23, 190, 207, 0.8)",
          "width": 4
         },
         "mode": "lines",
         "showlegend": false,
         "type": "scatter3d",
         "x": [
          62.233691285049574,
          62.37169156640427
         ],
         "y": [
          -497.7564691694771,
          -485.75726271066554
         ],
         "z": [
          348.3646555388108,
          348.36518578510277
         ]
        },
        {
         "line": {
          "color": "rgba(23, 190, 207, 0.8)",
          "width": 4
         },
         "mode": "lines",
         "showlegend": false,
         "type": "scatter3d",
         "x": [
          62.37169156640427,
          54.37544336309686
         ],
         "y": [
          -485.75726271066554,
          -485.6653096215731
         ],
         "z": [
          348.36518578510277,
          348.59225251650423
         ]
        },
        {
         "line": {
          "color": "rgba(23, 190, 207, 0.8)",
          "width": 4
         },
         "mode": "lines",
         "showlegend": false,
         "type": "scatter3d",
         "x": [
          54.37544336309686,
          54.237443081742164
         ],
         "y": [
          -485.6653096215731,
          -497.66451608038466
         ],
         "z": [
          348.59225251650423,
          348.59172227021224
         ]
        },
        {
         "line": {
          "color": "black",
          "width": 2
         },
         "mode": "lines",
         "name": "Berechnete Hakenlinie",
         "type": "scatter3d",
         "x": {
          "bdata": "wH38pnUvUUBIqXVmVhlQQChufmTPB1BAwORh4nrHT0BAYmmq1n5PQDDM9g7GIU9AoCGQFJzrTkDgADSMHKFOQGAfn5P5Qk5AcFyfAYWsTUCQKeQP/CZNQA==",
          "dtype": "f8"
         },
         "y": {
          "bdata": "CljTiBKPf8AUsWp2RDZ/wEAzJBb/JX/AcxjFL6QVf8C5CLTvVAZ/wBQI5EWo9H7AiGklgr7jfsBeA7Pr1dJ+wJg8bvmGxH7AaIZW3Ve+fsCoDY/NX7t+wA==",
          "dtype": "f8"
         },
         "z": {
          "bdata": "gsxymmG6dEAyIzC7SyZ1QNMAkBbaNnVAi9hjT0lIdUAOGsE201l1QNy87H/AWnVAtNZfdM58dUBafMTZZ451QKf3b+lNj3VA14gpWdCidUDbFmm/p8d1QA==",
          "dtype": "f8"
         }
        },
        {
         "mode": "text",
         "showlegend": false,
         "text": [
          "Pre-Position"
         ],
         "textfont": {
          "size": 10
         },
         "textposition": "top center",
         "type": "scatter3d",
         "x": [
          68.74155592591615
         ],
         "y": [
          -504.9420250182744
         ],
         "z": [
          331.6488289341288
         ]
        },
        {
         "mode": "text",
         "showlegend": false,
         "text": [
          "Loslassen"
         ],
         "textfont": {
          "size": 10
         },
         "textposition": "top center",
         "type": "scatter3d",
         "x": [
          58.30456732407322
         ],
         "y": [
          -491.7108893955251
         ],
         "z": [
          348.4784540276575
         ]
        },
        {
         "color": "rgba(0,255,0,0.2)",
         "name": "optimale Trajektorie",
         "opacity": 0.8,
         "type": "mesh3d",
         "x": [
          73.16465385558409,
          76.96728057390457,
          70.74790882498122,
          66.94528210666074
         ],
         "y": [
          -504.2039154533274,
          -500.30855385450377,
          -506.52536275171707,
          -510.4207243505407
         ],
         "z": [
          328.1505419264636,
          334.01281009292654,
          342.1780230224357,
          336.3157548559727
         ]
        },
        {
         "line": {
          "color": "rgba(0,255,0,0.2)",
          "width": 3
         },
         "mode": "lines",
         "showlegend": false,
         "type": "scatter3d",
         "x": [
          73.16465385558409,
          76.96728057390457
         ],
         "y": [
          -504.2039154533274,
          -500.30855385450377
         ],
         "z": [
          328.1505419264636,
          334.01281009292654
         ]
        },
        {
         "line": {
          "color": "rgba(0,255,0,0.2)",
          "width": 3
         },
         "mode": "lines",
         "showlegend": false,
         "type": "scatter3d",
         "x": [
          76.96728057390457,
          70.74790882498122
         ],
         "y": [
          -500.30855385450377,
          -506.52536275171707
         ],
         "z": [
          334.01281009292654,
          342.1780230224357
         ]
        },
        {
         "line": {
          "color": "rgba(0,255,0,0.2)",
          "width": 3
         },
         "mode": "lines",
         "showlegend": false,
         "type": "scatter3d",
         "x": [
          70.74790882498122,
          66.94528210666074
         ],
         "y": [
          -506.52536275171707,
          -510.4207243505407
         ],
         "z": [
          342.1780230224357,
          336.3157548559727
         ]
        },
        {
         "line": {
          "color": "rgba(0,255,0,0.2)",
          "width": 3
         },
         "mode": "lines",
         "showlegend": false,
         "type": "scatter3d",
         "x": [
          66.94528210666074,
          73.16465385558409
         ],
         "y": [
          -510.4207243505407,
          -504.2039154533274
         ],
         "z": [
          336.3157548559727,
          328.1505419264636
         ]
        },
        {
         "marker": {
          "color": "green",
          "size": 4
         },
         "mode": "markers",
         "name": "Mitte P11",
         "showlegend": false,
         "type": "scatter3d",
         "x": [
          71.95628134028266
         ],
         "y": [
          -505.36463910252223
         ],
         "z": [
          335.16428247444964
         ]
        },
        {
         "color": "rgba(0,255,0,0.2)",
         "name": "optimale Trajektorie",
         "opacity": 0.8,
         "type": "mesh3d",
         "x": [
          70.55192798672024,
          74.4578268729207,
          68.33259404109512,
          64.42669515489466
         ],
         "y": [
          -497.94935780314415,
          -493.99668169405334,
          -500.0798867421164,
          -504.0325628512072
         ],
         "z": [
          339.13527099364444,
          344.89029536087355,
          353.22553015655546,
          347.47050578932635
         ]
        },
        {
         "line": {
          "color": "rgba(0,255,0,0.2)",
          "width": 3
         },
         "mode": "lines",
         "showlegend": false,
         "type": "scatter3d",
         "x": [
          70.55192798672024,
          74.4578268729207
         ],
         "y": [
          -497.94935780314415,
          -493.99668169405334
         ],
         "z": [
          339.13527099364444,
          344.89029536087355
         ]
        },
        {
         "line": {
          "color": "rgba(0,255,0,0.2)",
          "width": 3
         },
         "mode": "lines",
         "showlegend": false,
         "type": "scatter3d",
         "x": [
          74.4578268729207,
          68.33259404109512
         ],
         "y": [
          -493.99668169405334,
          -500.0798867421164
         ],
         "z": [
          344.89029536087355,
          353.22553015655546
         ]
        },
        {
         "line": {
          "color": "rgba(0,255,0,0.2)",
          "width": 3
         },
         "mode": "lines",
         "showlegend": false,
         "type": "scatter3d",
         "x": [
          68.33259404109512,
          64.42669515489466
         ],
         "y": [
          -500.0798867421164,
          -504.0325628512072
         ],
         "z": [
          353.22553015655546,
          347.47050578932635
         ]
        },
        {
         "line": {
          "color": "rgba(0,255,0,0.2)",
          "width": 3
         },
         "mode": "lines",
         "showlegend": false,
         "type": "scatter3d",
         "x": [
          64.42669515489466,
          70.55192798672024
         ],
         "y": [
          -504.0325628512072,
          -497.94935780314415
         ],
         "z": [
          347.47050578932635,
          339.13527099364444
         ]
        },
        {
         "marker": {
          "color": "green",
          "size": 4
         },
         "mode": "markers",
         "name": "Mitte P11",
         "showlegend": false,
         "type": "scatter3d",
         "x": [
          69.44226101390768
         ],
         "y": [
          -499.0146222726303
         ],
         "z": [
          346.18040057509995
         ]
        },
        {
         "color": "rgba(0,255,0,0.2)",
         "name": "optimale Trajektorie",
         "opacity": 0.8,
         "type": "mesh3d",
         "x": [
          68.49663086328412,
          72.43359805957903,
          66.36739240410058,
          62.430425207805676
         ],
         "y": [
          -495.76427350028086,
          -491.8033543209922,
          -497.88832744037234,
          -501.849246619661
         ],
         "z": [
          339.6708927511294,
          345.39901709950385,
          353.77602438623,
          348.0479000378555
         ]
        },
        {
         "line": {
          "color": "rgba(0,255,0,0.2)",
          "width": 3
         },
         "mode": "lines",
         "showlegend": false,
         "type": "scatter3d",
         "x": [
          68.49663086328412,
          72.43359805957903
         ],
         "y": [
          -495.76427350028086,
          -491.8033543209922
         ],
         "z": [
          339.6708927511294,
          345.39901709950385
         ]
        },
        {
         "line": {
          "color": "rgba(0,255,0,0.2)",
          "width": 3
         },
         "mode": "lines",
         "showlegend": false,
         "type": "scatter3d",
         "x": [
          72.43359805957903,
          66.36739240410058
         ],
         "y": [
          -491.8033543209922,
          -497.88832744037234
         ],
         "z": [
          345.39901709950385,
          353.77602438623
         ]
        },
        {
         "line": {
          "color": "rgba(0,255,0,0.2)",
          "width": 3
         },
         "mode": "lines",
         "showlegend": false,
         "type": "scatter3d",
         "x": [
          66.36739240410058,
          62.430425207805676
         ],
         "y": [
          -497.88832744037234,
          -501.849246619661
         ],
         "z": [
          353.77602438623,
          348.0479000378555
         ]
        },
        {
         "line": {
          "color": "rgba(0,255,0,0.2)",
          "width": 3
         },
         "mode": "lines",
         "showlegend": false,
         "type": "scatter3d",
         "x": [
          62.430425207805676,
          68.49663086328412
         ],
         "y": [
          -501.849246619661,
          -495.76427350028086
         ],
         "z": [
          348.0479000378555,
          339.6708927511294
         ]
        },
        {
         "marker": {
          "color": "green",
          "size": 4
         },
         "mode": "markers",
         "name": "Mitte P11",
         "showlegend": false,
         "type": "scatter3d",
         "x": [
          67.43201163369235
         ],
         "y": [
          -496.8263004703266
         ],
         "z": [
          346.7234585686797
         ]
        },
        {
         "color": "rgba(0,255,0,0.2)",
         "name": "optimale Trajektorie",
         "opacity": 0.8,
         "type": "mesh3d",
         "x": [
          67.8186744526851,
          71.75120890667846,
          65.66120223856485,
          61.728667784571506
         ],
         "y": [
          -493.57613537690315,
          -489.6241159343607,
          -495.7048070608846,
          -499.65682650342706
         ],
         "z": [
          341.4191178059707,
          347.1564268523723,
          355.5192621494558,
          349.7819531030542
         ]
        },
        {
         "line": {
          "color": "rgba(0,255,0,0.2)",
          "width": 3
         },
         "mode": "lines",
         "showlegend": false,
         "type": "scatter3d",
         "x": [
          67.8186744526851,
          71.75120890667846
         ],
         "y": [
          -493.57613537690315,
          -489.6241159343607
         ],
         "z": [
          341.4191178059707,
          347.1564268523723
         ]
        },
        {
         "line": {
          "color": "rgba(0,255,0,0.2)",
          "width": 3
         },
         "mode": "lines",
         "showlegend": false,
         "type": "scatter3d",
         "x": [
          71.75120890667846,
          65.66120223856485
         ],
         "y": [
          -489.6241159343607,
          -495.7048070608846
         ],
         "z": [
          347.1564268523723,
          355.5192621494558
         ]
        },
        {
         "line": {
          "color": "rgba(0,255,0,0.2)",
          "width": 3
         },
         "mode": "lines",
         "showlegend": false,
         "type": "scatter3d",
         "x": [
          65.66120223856485,
          61.728667784571506
         ],
         "y": [
          -495.7048070608846,
          -499.65682650342706
         ],
         "z": [
          355.5192621494558,
          349.7819531030542
         ]
        },
        {
         "line": {
          "color": "rgba(0,255,0,0.2)",
          "width": 3
         },
         "mode": "lines",
         "showlegend": false,
         "type": "scatter3d",
         "x": [
          61.728667784571506,
          67.8186744526851
         ],
         "y": [
          -499.65682650342706,
          -493.57613537690315
         ],
         "z": [
          349.7819531030542,
          341.4191178059707
         ]
        },
        {
         "marker": {
          "color": "green",
          "size": 4
         },
         "mode": "markers",
         "name": "Mitte P11",
         "showlegend": false,
         "type": "scatter3d",
         "x": [
          66.73993834562498
         ],
         "y": [
          -494.6404712188939
         ],
         "z": [
          348.4691899777132
         ]
        },
        {
         "color": "rgba(0,255,0,0.2)",
         "name": "optimale Trajektorie",
         "opacity": 0.8,
         "type": "mesh3d",
         "x": [
          65.13271172420566,
          69.04157873531966,
          62.91388467460539,
          59.00501766349141
         ],
         "y": [
          -489.8409896939866,
          -485.9045923688432,
          -492.00459377698525,
          -495.94099110212863
         ],
         "z": [
          343.69351379052625,
          349.4576732945675,
          357.77881193774317,
          352.01465243370194
         ]
        },
        {
         "line": {
          "color": "rgba(0,255,0,0.2)",
          "width": 3
         },
         "mode": "lines",
         "showlegend": false,
         "type": "scatter3d",
         "x": [
          65.13271172420566,
          69.04157873531966
         ],
         "y": [
          -489.8409896939866,
          -485.9045923688432
         ],
         "z": [
          343.69351379052625,
          349.4576732945675
         ]
        },
        {
         "line": {
          "color": "rgba(0,255,0,0.2)",
          "width": 3
         },
         "mode": "lines",
         "showlegend": false,
         "type": "scatter3d",
         "x": [
          69.04157873531966,
          62.91388467460539
         ],
         "y": [
          -485.9045923688432,
          -492.00459377698525
         ],
         "z": [
          349.4576732945675,
          357.77881193774317
         ]
        },
        {
         "line": {
          "color": "rgba(0,255,0,0.2)",
          "width": 3
         },
         "mode": "lines",
         "showlegend": false,
         "type": "scatter3d",
         "x": [
          62.91388467460539,
          59.00501766349141
         ],
         "y": [
          -492.00459377698525,
          -495.94099110212863
         ],
         "z": [
          357.77881193774317,
          352.01465243370194
         ]
        },
        {
         "line": {
          "color": "rgba(0,255,0,0.2)",
          "width": 3
         },
         "mode": "lines",
         "showlegend": false,
         "type": "scatter3d",
         "x": [
          59.00501766349141,
          65.13271172420566
         ],
         "y": [
          -495.94099110212863,
          -489.8409896939866
         ],
         "z": [
          352.01465243370194,
          343.69351379052625
         ]
        },
        {
         "marker": {
          "color": "green",
          "size": 4
         },
         "mode": "markers",
         "name": "Mitte P11",
         "showlegend": false,
         "type": "scatter3d",
         "x": [
          64.02329819940553
         ],
         "y": [
          -490.92279173548593
         ],
         "z": [
          350.7361628641347
         ]
        },
        {
         "color": "rgba(0,255,0,0.2)",
         "name": "optimale Trajektorie",
         "opacity": 0.8,
         "type": "mesh3d",
         "x": [
          64.17360527435662,
          66.09264635425508,
          62.861045194151,
          60.94200411425253
         ],
         "y": [
          -489.3165652212355,
          -484.19072463042096,
          -492.32508560323396,
          -497.4509261940485
         ],
         "z": [
          344.1949749676815,
          350.0296163080914,
          358.23869210905656,
          352.40405076864664
         ]
        },
        {
         "line": {
          "color": "rgba(0,255,0,0.2)",
          "width": 3
         },
         "mode": "lines",
         "showlegend": false,
         "type": "scatter3d",
         "x": [
          64.17360527435662,
          66.09264635425508
         ],
         "y": [
          -489.3165652212355,
          -484.19072463042096
         ],
         "z": [
          344.1949749676815,
          350.0296163080914
         ]
        },
        {
         "line": {
          "color": "rgba(0,255,0,0.2)",
          "width": 3
         },
         "mode": "lines",
         "showlegend": false,
         "type": "scatter3d",
         "x": [
          66.09264635425508,
          62.861045194151
         ],
         "y": [
          -484.19072463042096,
          -492.32508560323396
         ],
         "z": [
          350.0296163080914,
          358.23869210905656
         ]
        },
        {
         "line": {
          "color": "rgba(0,255,0,0.2)",
          "width": 3
         },
         "mode": "lines",
         "showlegend": false,
         "type": "scatter3d",
         "x": [
          62.861045194151,
          60.94200411425253
         ],
         "y": [
          -492.32508560323396,
          -497.4509261940485
         ],
         "z": [
          358.23869210905656,
          352.40405076864664
         ]
        },
        {
         "line": {
          "color": "rgba(0,255,0,0.2)",
          "width": 3
         },
         "mode": "lines",
         "showlegend": false,
         "type": "scatter3d",
         "x": [
          60.94200411425253,
          64.17360527435662
         ],
         "y": [
          -497.4509261940485,
          -489.3165652212355
         ],
         "z": [
          352.40405076864664,
          344.1949749676815
         ]
        },
        {
         "marker": {
          "color": "green",
          "size": 4
         },
         "mode": "markers",
         "name": "Mitte P11",
         "showlegend": false,
         "type": "scatter3d",
         "x": [
          63.51732523425381
         ],
         "y": [
          -490.82082541223474
         ],
         "z": [
          351.21683353836903
         ]
        },
        {
         "color": "rgba(0,255,0,0.2)",
         "name": "optimale Trajektorie",
         "opacity": 0.8,
         "type": "mesh3d",
         "x": [
          64.13141372334168,
          64.96139586222588,
          63.54709300883427,
          62.717110869950055
         ],
         "y": [
          -488.5266587476235,
          -483.11407772781416,
          -491.7475854841621,
          -497.1601665039714
         ],
         "z": [
          343.591956174245,
          349.4242024270307,
          357.63774558817425,
          351.80549933538856
         ]
        },
        {
         "line": {
          "color": "rgba(0,255,0,0.2)",
          "width": 3
         },
         "mode": "lines",
         "showlegend": false,
         "type": "scatter3d",
         "x": [
          64.13141372334168,
          64.96139586222588
         ],
         "y": [
          -488.5266587476235,
          -483.11407772781416
         ],
         "z": [
          343.591956174245,
          349.4242024270307
         ]
        },
        {
         "line": {
          "color": "rgba(0,255,0,0.2)",
          "width": 3
         },
         "mode": "lines",
         "showlegend": false,
         "type": "scatter3d",
         "x": [
          64.96139586222588,
          63.54709300883427
         ],
         "y": [
          -483.11407772781416,
          -491.7475854841621
         ],
         "z": [
          349.4242024270307,
          357.63774558817425
         ]
        },
        {
         "line": {
          "color": "rgba(0,255,0,0.2)",
          "width": 3
         },
         "mode": "lines",
         "showlegend": false,
         "type": "scatter3d",
         "x": [
          63.54709300883427,
          62.717110869950055
         ],
         "y": [
          -491.7475854841621,
          -497.1601665039714
         ],
         "z": [
          357.63774558817425,
          351.80549933538856
         ]
        },
        {
         "line": {
          "color": "rgba(0,255,0,0.2)",
          "width": 3
         },
         "mode": "lines",
         "showlegend": false,
         "type": "scatter3d",
         "x": [
          62.717110869950055,
          64.13141372334168
         ],
         "y": [
          -497.1601665039714,
          -488.5266587476235
         ],
         "z": [
          351.80549933538856,
          343.591956174245
         ]
        },
        {
         "marker": {
          "color": "green",
          "size": 4
         },
         "mode": "markers",
         "name": "Mitte P11",
         "showlegend": false,
         "type": "scatter3d",
         "x": [
          63.83925336608798
         ],
         "y": [
          -490.1371221158928
         ],
         "z": [
          350.61485088120963
         ]
        },
        {
         "line": {
          "color": "green",
          "width": 2
         },
         "mode": "lines",
         "name": "Optimale Hakenlinie",
         "type": "scatter3d",
         "x": {
          "bdata": "gJKmtjP9UUDgwSMBTlxRQNCMHxSm21BAAOFcJluvUEAoILu3fQFQQAFCmbY3wk9A8TOAp2zrT0A=",
          "dtype": "f8"
         },
         "y": {
          "bdata": "0MLPj9WVf8DYa5DkOzB/wI6L14Y4DX/A27K/Xj/qfsDmTkTBw65+wGLU0xkirX7AFrX1pjGifsA=",
          "dtype": "f8"
         },
         "z": {
          "bdata": "E/Go5qDydEC+o7br4qJ1QNjHSkmTq3VAOp5ZzYHHdUDQH7ZSx+t1QIm/cSZ483VAZavgbdbpdUA=",
          "dtype": "f8"
         }
        },
        {
         "line": {
          "color": "gray",
          "dash": "dash"
         },
         "mode": "lines",
         "name": "Direkte Gerade Spitze -> Senke",
         "type": "scatter3d",
         "x": [
          64.39589845171315,
          58.30456732407322
         ],
         "y": [
          -499.39171449352693,
          -491.7108893955251
         ],
         "z": [
          338.39348906329826,
          348.4784540276575
         ]
        },
        {
         "marker": {
          "color": "magenta",
          "size": 8
         },
         "mode": "markers",
         "name": "Spitze",
         "type": "scatter3d",
         "x": [
          64.39589845171315
         ],
         "y": [
          -499.39171449352693
         ],
         "z": [
          338.39348906329826
         ]
        },
        {
         "marker": {
          "color": "magenta",
          "size": 8
         },
         "mode": "markers",
         "name": "Senke",
         "type": "scatter3d",
         "x": [
          58.30456732407322
         ],
         "y": [
          -491.7108893955251
         ],
         "z": [
          348.4784540276575
         ]
        },
        {
         "mode": "text",
         "showlegend": false,
         "text": [
          "Spitze"
         ],
         "textfont": {
          "size": 10
         },
         "textposition": "top center",
         "type": "scatter3d",
         "x": [
          64.39589845171315
         ],
         "y": [
          -499.39171449352693
         ],
         "z": [
          338.39348906329826
         ]
        },
        {
         "mode": "text",
         "showlegend": false,
         "text": [
          "Senke"
         ],
         "textfont": {
          "size": 10
         },
         "textposition": "top center",
         "type": "scatter3d",
         "x": [
          58.30456732407322
         ],
         "y": [
          -491.7108893955251
         ],
         "z": [
          348.4784540276575
         ]
        }
       ],
       "layout": {
        "legend": {
         "title": {
          "text": "Legende"
         }
        },
        "scene": {
         "aspectmode": "cube",
         "camera": {
          "eye": {
           "x": -1,
           "y": -1,
           "z": -1.5
          },
          "up": {
           "x": 0,
           "y": -1,
           "z": 0
          }
         },
         "xaxis": {
          "title": {
           "text": "X"
          }
         },
         "yaxis": {
          "title": {
           "text": "Y"
          }
         },
         "zaxis": {
          "title": {
           "text": "Z"
          }
         }
        },
        "template": {
         "data": {
          "bar": [
           {
            "error_x": {
             "color": "#2a3f5f"
            },
            "error_y": {
             "color": "#2a3f5f"
            },
            "marker": {
             "line": {
              "color": "#E5ECF6",
              "width": 0.5
             },
             "pattern": {
              "fillmode": "overlay",
              "size": 10,
              "solidity": 0.2
             }
            },
            "type": "bar"
           }
          ],
          "barpolar": [
           {
            "marker": {
             "line": {
              "color": "#E5ECF6",
              "width": 0.5
             },
             "pattern": {
              "fillmode": "overlay",
              "size": 10,
              "solidity": 0.2
             }
            },
            "type": "barpolar"
           }
          ],
          "carpet": [
           {
            "aaxis": {
             "endlinecolor": "#2a3f5f",
             "gridcolor": "white",
             "linecolor": "white",
             "minorgridcolor": "white",
             "startlinecolor": "#2a3f5f"
            },
            "baxis": {
             "endlinecolor": "#2a3f5f",
             "gridcolor": "white",
             "linecolor": "white",
             "minorgridcolor": "white",
             "startlinecolor": "#2a3f5f"
            },
            "type": "carpet"
           }
          ],
          "choropleth": [
           {
            "colorbar": {
             "outlinewidth": 0,
             "ticks": ""
            },
            "type": "choropleth"
           }
          ],
          "contour": [
           {
            "colorbar": {
             "outlinewidth": 0,
             "ticks": ""
            },
            "colorscale": [
             [
              0,
              "#0d0887"
             ],
             [
              0.1111111111111111,
              "#46039f"
             ],
             [
              0.2222222222222222,
              "#7201a8"
             ],
             [
              0.3333333333333333,
              "#9c179e"
             ],
             [
              0.4444444444444444,
              "#bd3786"
             ],
             [
              0.5555555555555556,
              "#d8576b"
             ],
             [
              0.6666666666666666,
              "#ed7953"
             ],
             [
              0.7777777777777778,
              "#fb9f3a"
             ],
             [
              0.8888888888888888,
              "#fdca26"
             ],
             [
              1,
              "#f0f921"
             ]
            ],
            "type": "contour"
           }
          ],
          "contourcarpet": [
           {
            "colorbar": {
             "outlinewidth": 0,
             "ticks": ""
            },
            "type": "contourcarpet"
           }
          ],
          "heatmap": [
           {
            "colorbar": {
             "outlinewidth": 0,
             "ticks": ""
            },
            "colorscale": [
             [
              0,
              "#0d0887"
             ],
             [
              0.1111111111111111,
              "#46039f"
             ],
             [
              0.2222222222222222,
              "#7201a8"
             ],
             [
              0.3333333333333333,
              "#9c179e"
             ],
             [
              0.4444444444444444,
              "#bd3786"
             ],
             [
              0.5555555555555556,
              "#d8576b"
             ],
             [
              0.6666666666666666,
              "#ed7953"
             ],
             [
              0.7777777777777778,
              "#fb9f3a"
             ],
             [
              0.8888888888888888,
              "#fdca26"
             ],
             [
              1,
              "#f0f921"
             ]
            ],
            "type": "heatmap"
           }
          ],
          "histogram": [
           {
            "marker": {
             "pattern": {
              "fillmode": "overlay",
              "size": 10,
              "solidity": 0.2
             }
            },
            "type": "histogram"
           }
          ],
          "histogram2d": [
           {
            "colorbar": {
             "outlinewidth": 0,
             "ticks": ""
            },
            "colorscale": [
             [
              0,
              "#0d0887"
             ],
             [
              0.1111111111111111,
              "#46039f"
             ],
             [
              0.2222222222222222,
              "#7201a8"
             ],
             [
              0.3333333333333333,
              "#9c179e"
             ],
             [
              0.4444444444444444,
              "#bd3786"
             ],
             [
              0.5555555555555556,
              "#d8576b"
             ],
             [
              0.6666666666666666,
              "#ed7953"
             ],
             [
              0.7777777777777778,
              "#fb9f3a"
             ],
             [
              0.8888888888888888,
              "#fdca26"
             ],
             [
              1,
              "#f0f921"
             ]
            ],
            "type": "histogram2d"
           }
          ],
          "histogram2dcontour": [
           {
            "colorbar": {
             "outlinewidth": 0,
             "ticks": ""
            },
            "colorscale": [
             [
              0,
              "#0d0887"
             ],
             [
              0.1111111111111111,
              "#46039f"
             ],
             [
              0.2222222222222222,
              "#7201a8"
             ],
             [
              0.3333333333333333,
              "#9c179e"
             ],
             [
              0.4444444444444444,
              "#bd3786"
             ],
             [
              0.5555555555555556,
              "#d8576b"
             ],
             [
              0.6666666666666666,
              "#ed7953"
             ],
             [
              0.7777777777777778,
              "#fb9f3a"
             ],
             [
              0.8888888888888888,
              "#fdca26"
             ],
             [
              1,
              "#f0f921"
             ]
            ],
            "type": "histogram2dcontour"
           }
          ],
          "mesh3d": [
           {
            "colorbar": {
             "outlinewidth": 0,
             "ticks": ""
            },
            "type": "mesh3d"
           }
          ],
          "parcoords": [
           {
            "line": {
             "colorbar": {
              "outlinewidth": 0,
              "ticks": ""
             }
            },
            "type": "parcoords"
           }
          ],
          "pie": [
           {
            "automargin": true,
            "type": "pie"
           }
          ],
          "scatter": [
           {
            "fillpattern": {
             "fillmode": "overlay",
             "size": 10,
             "solidity": 0.2
            },
            "type": "scatter"
           }
          ],
          "scatter3d": [
           {
            "line": {
             "colorbar": {
              "outlinewidth": 0,
              "ticks": ""
             }
            },
            "marker": {
             "colorbar": {
              "outlinewidth": 0,
              "ticks": ""
             }
            },
            "type": "scatter3d"
           }
          ],
          "scattercarpet": [
           {
            "marker": {
             "colorbar": {
              "outlinewidth": 0,
              "ticks": ""
             }
            },
            "type": "scattercarpet"
           }
          ],
          "scattergeo": [
           {
            "marker": {
             "colorbar": {
              "outlinewidth": 0,
              "ticks": ""
             }
            },
            "type": "scattergeo"
           }
          ],
          "scattergl": [
           {
            "marker": {
             "colorbar": {
              "outlinewidth": 0,
              "ticks": ""
             }
            },
            "type": "scattergl"
           }
          ],
          "scattermap": [
           {
            "marker": {
             "colorbar": {
              "outlinewidth": 0,
              "ticks": ""
             }
            },
            "type": "scattermap"
           }
          ],
          "scattermapbox": [
           {
            "marker": {
             "colorbar": {
              "outlinewidth": 0,
              "ticks": ""
             }
            },
            "type": "scattermapbox"
           }
          ],
          "scatterpolar": [
           {
            "marker": {
             "colorbar": {
              "outlinewidth": 0,
              "ticks": ""
             }
            },
            "type": "scatterpolar"
           }
          ],
          "scatterpolargl": [
           {
            "marker": {
             "colorbar": {
              "outlinewidth": 0,
              "ticks": ""
             }
            },
            "type": "scatterpolargl"
           }
          ],
          "scatterternary": [
           {
            "marker": {
             "colorbar": {
              "outlinewidth": 0,
              "ticks": ""
             }
            },
            "type": "scatterternary"
           }
          ],
          "surface": [
           {
            "colorbar": {
             "outlinewidth": 0,
             "ticks": ""
            },
            "colorscale": [
             [
              0,
              "#0d0887"
             ],
             [
              0.1111111111111111,
              "#46039f"
             ],
             [
              0.2222222222222222,
              "#7201a8"
             ],
             [
              0.3333333333333333,
              "#9c179e"
             ],
             [
              0.4444444444444444,
              "#bd3786"
             ],
             [
              0.5555555555555556,
              "#d8576b"
             ],
             [
              0.6666666666666666,
              "#ed7953"
             ],
             [
              0.7777777777777778,
              "#fb9f3a"
             ],
             [
              0.8888888888888888,
              "#fdca26"
             ],
             [
              1,
              "#f0f921"
             ]
            ],
            "type": "surface"
           }
          ],
          "table": [
           {
            "cells": {
             "fill": {
              "color": "#EBF0F8"
             },
             "line": {
              "color": "white"
             }
            },
            "header": {
             "fill": {
              "color": "#C8D4E3"
             },
             "line": {
              "color": "white"
             }
            },
            "type": "table"
           }
          ]
         },
         "layout": {
          "annotationdefaults": {
           "arrowcolor": "#2a3f5f",
           "arrowhead": 0,
           "arrowwidth": 1
          },
          "autotypenumbers": "strict",
          "coloraxis": {
           "colorbar": {
            "outlinewidth": 0,
            "ticks": ""
           }
          },
          "colorscale": {
           "diverging": [
            [
             0,
             "#8e0152"
            ],
            [
             0.1,
             "#c51b7d"
            ],
            [
             0.2,
             "#de77ae"
            ],
            [
             0.3,
             "#f1b6da"
            ],
            [
             0.4,
             "#fde0ef"
            ],
            [
             0.5,
             "#f7f7f7"
            ],
            [
             0.6,
             "#e6f5d0"
            ],
            [
             0.7,
             "#b8e186"
            ],
            [
             0.8,
             "#7fbc41"
            ],
            [
             0.9,
             "#4d9221"
            ],
            [
             1,
             "#276419"
            ]
           ],
           "sequential": [
            [
             0,
             "#0d0887"
            ],
            [
             0.1111111111111111,
             "#46039f"
            ],
            [
             0.2222222222222222,
             "#7201a8"
            ],
            [
             0.3333333333333333,
             "#9c179e"
            ],
            [
             0.4444444444444444,
             "#bd3786"
            ],
            [
             0.5555555555555556,
             "#d8576b"
            ],
            [
             0.6666666666666666,
             "#ed7953"
            ],
            [
             0.7777777777777778,
             "#fb9f3a"
            ],
            [
             0.8888888888888888,
             "#fdca26"
            ],
            [
             1,
             "#f0f921"
            ]
           ],
           "sequentialminus": [
            [
             0,
             "#0d0887"
            ],
            [
             0.1111111111111111,
             "#46039f"
            ],
            [
             0.2222222222222222,
             "#7201a8"
            ],
            [
             0.3333333333333333,
             "#9c179e"
            ],
            [
             0.4444444444444444,
             "#bd3786"
            ],
            [
             0.5555555555555556,
             "#d8576b"
            ],
            [
             0.6666666666666666,
             "#ed7953"
            ],
            [
             0.7777777777777778,
             "#fb9f3a"
            ],
            [
             0.8888888888888888,
             "#fdca26"
            ],
            [
             1,
             "#f0f921"
            ]
           ]
          },
          "colorway": [
           "#636efa",
           "#EF553B",
           "#00cc96",
           "#ab63fa",
           "#FFA15A",
           "#19d3f3",
           "#FF6692",
           "#B6E880",
           "#FF97FF",
           "#FECB52"
          ],
          "font": {
           "color": "#2a3f5f"
          },
          "geo": {
           "bgcolor": "white",
           "lakecolor": "white",
           "landcolor": "#E5ECF6",
           "showlakes": true,
           "showland": true,
           "subunitcolor": "white"
          },
          "hoverlabel": {
           "align": "left"
          },
          "hovermode": "closest",
          "mapbox": {
           "style": "light"
          },
          "paper_bgcolor": "white",
          "plot_bgcolor": "#E5ECF6",
          "polar": {
           "angularaxis": {
            "gridcolor": "white",
            "linecolor": "white",
            "ticks": ""
           },
           "bgcolor": "#E5ECF6",
           "radialaxis": {
            "gridcolor": "white",
            "linecolor": "white",
            "ticks": ""
           }
          },
          "scene": {
           "xaxis": {
            "backgroundcolor": "#E5ECF6",
            "gridcolor": "white",
            "gridwidth": 2,
            "linecolor": "white",
            "showbackground": true,
            "ticks": "",
            "zerolinecolor": "white"
           },
           "yaxis": {
            "backgroundcolor": "#E5ECF6",
            "gridcolor": "white",
            "gridwidth": 2,
            "linecolor": "white",
            "showbackground": true,
            "ticks": "",
            "zerolinecolor": "white"
           },
           "zaxis": {
            "backgroundcolor": "#E5ECF6",
            "gridcolor": "white",
            "gridwidth": 2,
            "linecolor": "white",
            "showbackground": true,
            "ticks": "",
            "zerolinecolor": "white"
           }
          },
          "shapedefaults": {
           "line": {
            "color": "#2a3f5f"
           }
          },
          "ternary": {
           "aaxis": {
            "gridcolor": "white",
            "linecolor": "white",
            "ticks": ""
           },
           "baxis": {
            "gridcolor": "white",
            "linecolor": "white",
            "ticks": ""
           },
           "bgcolor": "#E5ECF6",
           "caxis": {
            "gridcolor": "white",
            "linecolor": "white",
            "ticks": ""
           }
          },
          "title": {
           "x": 0.05
          },
          "xaxis": {
           "automargin": true,
           "gridcolor": "white",
           "linecolor": "white",
           "ticks": "",
           "title": {
            "standoff": 15
           },
           "zerolinecolor": "white",
           "zerolinewidth": 2
          },
          "yaxis": {
           "automargin": true,
           "gridcolor": "white",
           "linecolor": "white",
           "ticks": "",
           "title": {
            "standoff": 15
           },
           "zerolinecolor": "white",
           "zerolinewidth": 2
          }
         }
        },
        "title": {
         "text": "Haken 1, Trajektorien-Ansatz 1"
        }
       }
      }
     },
     "metadata": {},
     "output_type": "display_data"
    },
    {
     "name": "stdout",
     "output_type": "stream",
     "text": [
      "HTML-Datei '/home/mo/Thesis/Evaluation/Trajektorientests/traj2.html' erfolgreich erstellt!\n"
     ]
    },
    {
     "data": {
      "application/vnd.plotly.v1+json": {
       "config": {
        "plotlyServerURL": "https://plot.ly"
       },
       "data": [
        {
         "color": "rgba(31, 119, 180, 0.8)",
         "name": "P1",
         "opacity": 0.8,
         "type": "mesh3d",
         "x": [
          67.35561880509731,
          73.16166608050865,
          70.12749304673498,
          64.32144577132364
         ],
         "y": [
          -502.21948489614164,
          -499.5160212925173,
          -507.6645651404072,
          -510.36802874403156
         ],
         "z": [
          325.1168343244775,
          329.91069493775854,
          338.1808235437801,
          333.38696293049907
         ]
        },
        {
         "marker": {
          "color": "red",
          "size": 3
         },
         "mode": "markers+text",
         "showlegend": false,
         "text": "",
         "textfont": {
          "size": 12
         },
         "textposition": "top center",
         "type": "scatter3d",
         "x": [
          68.74155592591615
         ],
         "y": [
          -504.9420250182744
         ],
         "z": [
          331.6488289341288
         ]
        },
        {
         "line": {
          "color": "rgba(31, 119, 180, 0.8)",
          "width": 4
         },
         "mode": "lines",
         "showlegend": false,
         "type": "scatter3d",
         "x": [
          67.35561880509731,
          73.16166608050865
         ],
         "y": [
          -502.21948489614164,
          -499.5160212925173
         ],
         "z": [
          325.1168343244775,
          329.91069493775854
         ]
        },
        {
         "line": {
          "color": "rgba(31, 119, 180, 0.8)",
          "width": 4
         },
         "mode": "lines",
         "showlegend": false,
         "type": "scatter3d",
         "x": [
          73.16166608050865,
          70.12749304673498
         ],
         "y": [
          -499.5160212925173,
          -507.6645651404072
         ],
         "z": [
          329.91069493775854,
          338.1808235437801
         ]
        },
        {
         "line": {
          "color": "rgba(31, 119, 180, 0.8)",
          "width": 4
         },
         "mode": "lines",
         "showlegend": false,
         "type": "scatter3d",
         "x": [
          70.12749304673498,
          64.32144577132364
         ],
         "y": [
          -507.6645651404072,
          -510.36802874403156
         ],
         "z": [
          338.1808235437801,
          333.38696293049907
         ]
        },
        {
         "line": {
          "color": "rgba(31, 119, 180, 0.8)",
          "width": 4
         },
         "mode": "lines",
         "showlegend": false,
         "type": "scatter3d",
         "x": [
          64.32144577132364,
          67.35561880509731
         ],
         "y": [
          -510.36802874403156,
          -502.21948489614164
         ],
         "z": [
          333.38696293049907,
          325.1168343244775
         ]
        },
        {
         "color": "rgba(174, 199, 232, 0.8)",
         "name": "P2",
         "opacity": 0.8,
         "type": "mesh3d",
         "x": [
          63.009961330894306,
          68.81600860630566,
          65.78183557253199,
          59.975788297120644
         ],
         "y": [
          -496.66917437139415,
          -493.9657107677698,
          -502.1142546156597,
          -504.8177182192841
         ],
         "z": [
          331.86149445364697,
          336.655355066928,
          344.92548367294955,
          340.1316230596685
         ]
        },
        {
         "marker": {
          "color": "red",
          "size": 3
         },
         "mode": "markers+text",
         "showlegend": false,
         "text": "",
         "textfont": {
          "size": 12
         },
         "textposition": "top center",
         "type": "scatter3d",
         "x": [
          64.39589845171315
         ],
         "y": [
          -499.39171449352693
         ],
         "z": [
          338.39348906329826
         ]
        },
        {
         "line": {
          "color": "rgba(174, 199, 232, 0.8)",
          "width": 4
         },
         "mode": "lines",
         "showlegend": false,
         "type": "scatter3d",
         "x": [
          63.009961330894306,
          68.81600860630566
         ],
         "y": [
          -496.66917437139415,
          -493.9657107677698
         ],
         "z": [
          331.86149445364697,
          336.655355066928
         ]
        },
        {
         "line": {
          "color": "rgba(174, 199, 232, 0.8)",
          "width": 4
         },
         "mode": "lines",
         "showlegend": false,
         "type": "scatter3d",
         "x": [
          68.81600860630566,
          65.78183557253199
         ],
         "y": [
          -493.9657107677698,
          -502.1142546156597
         ],
         "z": [
          336.655355066928,
          344.92548367294955
         ]
        },
        {
         "line": {
          "color": "rgba(174, 199, 232, 0.8)",
          "width": 4
         },
         "mode": "lines",
         "showlegend": false,
         "type": "scatter3d",
         "x": [
          65.78183557253199,
          59.975788297120644
         ],
         "y": [
          -502.1142546156597,
          -504.8177182192841
         ],
         "z": [
          344.92548367294955,
          340.1316230596685
         ]
        },
        {
         "line": {
          "color": "rgba(174, 199, 232, 0.8)",
          "width": 4
         },
         "mode": "lines",
         "showlegend": false,
         "type": "scatter3d",
         "x": [
          59.975788297120644,
          63.009961330894306
         ],
         "y": [
          -504.8177182192841,
          -496.66917437139415
         ],
         "z": [
          340.1316230596685,
          331.86149445364697
         ]
        },
        {
         "color": "rgba(255, 187, 120, 0.8)",
         "name": "P3",
         "opacity": 0.8,
         "type": "mesh3d",
         "x": [
          62.736096116130206,
          68.54214339154156,
          65.50797035776789,
          59.701923082356544
         ],
         "y": [
          -495.6522368529334,
          -492.94877324930906,
          -501.097317097199,
          -503.80078070082334
         ],
         "z": [
          332.89624956388747,
          337.6901101771685,
          345.96023878319005,
          341.166378169909
         ]
        },
        {
         "marker": {
          "color": "red",
          "size": 3
         },
         "mode": "markers+text",
         "showlegend": false,
         "text": "P2",
         "textfont": {
          "size": 12
         },
         "textposition": "top center",
         "type": "scatter3d",
         "x": [
          64.12203323694905
         ],
         "y": [
          -498.3747769750662
         ],
         "z": [
          339.42824417353876
         ]
        },
        {
         "line": {
          "color": "rgba(255, 187, 120, 0.8)",
          "width": 4
         },
         "mode": "lines",
         "showlegend": false,
         "type": "scatter3d",
         "x": [
          62.736096116130206,
          68.54214339154156
         ],
         "y": [
          -495.6522368529334,
          -492.94877324930906
         ],
         "z": [
          332.89624956388747,
          337.6901101771685
         ]
        },
        {
         "line": {
          "color": "rgba(255, 187, 120, 0.8)",
          "width": 4
         },
         "mode": "lines",
         "showlegend": false,
         "type": "scatter3d",
         "x": [
          68.54214339154156,
          65.50797035776789
         ],
         "y": [
          -492.94877324930906,
          -501.097317097199
         ],
         "z": [
          337.6901101771685,
          345.96023878319005
         ]
        },
        {
         "line": {
          "color": "rgba(255, 187, 120, 0.8)",
          "width": 4
         },
         "mode": "lines",
         "showlegend": false,
         "type": "scatter3d",
         "x": [
          65.50797035776789,
          59.701923082356544
         ],
         "y": [
          -501.097317097199,
          -503.80078070082334
         ],
         "z": [
          345.96023878319005,
          341.166378169909
         ]
        },
        {
         "line": {
          "color": "rgba(255, 187, 120, 0.8)",
          "width": 4
         },
         "mode": "lines",
         "showlegend": false,
         "type": "scatter3d",
         "x": [
          59.701923082356544,
          62.736096116130206
         ],
         "y": [
          -503.80078070082334,
          -495.6522368529334
         ],
         "z": [
          341.166378169909,
          332.89624956388747
         ]
        },
        {
         "color": "rgba(152, 223, 138, 0.8)",
         "name": "P4",
         "opacity": 0.8,
         "type": "mesh3d",
         "x": [
          62.17250051059708,
          67.97854778600843,
          64.94437475223476,
          59.13832747682342
         ],
         "y": [
          -494.63004449729806,
          -491.9265808936737,
          -500.0751247415636,
          -502.778588345188
         ],
         "z": [
          333.98590336819956,
          338.7797639814806,
          347.04989258750214,
          342.2560319742211
         ]
        },
        {
         "marker": {
          "color": "red",
          "size": 3
         },
         "mode": "markers+text",
         "showlegend": false,
         "text": "P3",
         "textfont": {
          "size": 12
         },
         "textposition": "top center",
         "type": "scatter3d",
         "x": [
          63.55843763141593
         ],
         "y": [
          -497.3525846194308
         ],
         "z": [
          340.51789797785085
         ]
        },
        {
         "line": {
          "color": "rgba(152, 223, 138, 0.8)",
          "width": 4
         },
         "mode": "lines",
         "showlegend": false,
         "type": "scatter3d",
         "x": [
          62.17250051059708,
          67.97854778600843
         ],
         "y": [
          -494.63004449729806,
          -491.9265808936737
         ],
         "z": [
          333.98590336819956,
          338.7797639814806
         ]
        },
        {
         "line": {
          "color": "rgba(152, 223, 138, 0.8)",
          "width": 4
         },
         "mode": "lines",
         "showlegend": false,
         "type": "scatter3d",
         "x": [
          67.97854778600843,
          64.94437475223476
         ],
         "y": [
          -491.9265808936737,
          -500.0751247415636
         ],
         "z": [
          338.7797639814806,
          347.04989258750214
         ]
        },
        {
         "line": {
          "color": "rgba(152, 223, 138, 0.8)",
          "width": 4
         },
         "mode": "lines",
         "showlegend": false,
         "type": "scatter3d",
         "x": [
          64.94437475223476,
          59.13832747682342
         ],
         "y": [
          -500.0751247415636,
          -502.778588345188
         ],
         "z": [
          347.04989258750214,
          342.2560319742211
         ]
        },
        {
         "line": {
          "color": "rgba(152, 223, 138, 0.8)",
          "width": 4
         },
         "mode": "lines",
         "showlegend": false,
         "type": "scatter3d",
         "x": [
          59.13832747682342,
          62.17250051059708
         ],
         "y": [
          -502.778588345188,
          -494.63004449729806
         ],
         "z": [
          342.2560319742211,
          333.98590336819956
         ]
        },
        {
         "color": "rgba(255, 152, 150, 0.8)",
         "name": "P5",
         "opacity": 0.8,
         "type": "mesh3d",
         "x": [
          61.60498895555228,
          67.41103623096363,
          64.37686319718996,
          58.57081592177862
         ],
         "y": [
          -493.67319628920797,
          -490.9697326855836,
          -499.11827653347353,
          -501.8217401370979
         ],
         "z": [
          335.08207127999697,
          339.875931893278,
          348.14606049929955,
          343.3521998860185
         ]
        },
        {
         "marker": {
          "color": "red",
          "size": 3
         },
         "mode": "markers+text",
         "showlegend": false,
         "text": "P4",
         "textfont": {
          "size": 12
         },
         "textposition": "top center",
         "type": "scatter3d",
         "x": [
          62.990926076371125
         ],
         "y": [
          -496.39573641134075
         ],
         "z": [
          341.61406588964826
         ]
        },
        {
         "line": {
          "color": "rgba(255, 152, 150, 0.8)",
          "width": 4
         },
         "mode": "lines",
         "showlegend": false,
         "type": "scatter3d",
         "x": [
          61.60498895555228,
          67.41103623096363
         ],
         "y": [
          -493.67319628920797,
          -490.9697326855836
         ],
         "z": [
          335.08207127999697,
          339.875931893278
         ]
        },
        {
         "line": {
          "color": "rgba(255, 152, 150, 0.8)",
          "width": 4
         },
         "mode": "lines",
         "showlegend": false,
         "type": "scatter3d",
         "x": [
          67.41103623096363,
          64.37686319718996
         ],
         "y": [
          -490.9697326855836,
          -499.11827653347353
         ],
         "z": [
          339.875931893278,
          348.14606049929955
         ]
        },
        {
         "line": {
          "color": "rgba(255, 152, 150, 0.8)",
          "width": 4
         },
         "mode": "lines",
         "showlegend": false,
         "type": "scatter3d",
         "x": [
          64.37686319718996,
          58.57081592177862
         ],
         "y": [
          -499.11827653347353,
          -501.8217401370979
         ],
         "z": [
          348.14606049929955,
          343.3521998860185
         ]
        },
        {
         "line": {
          "color": "rgba(255, 152, 150, 0.8)",
          "width": 4
         },
         "mode": "lines",
         "showlegend": false,
         "type": "scatter3d",
         "x": [
          58.57081592177862,
          61.60498895555228
         ],
         "y": [
          -501.8217401370979,
          -493.67319628920797
         ],
         "z": [
          343.3521998860185,
          335.08207127999697
         ]
        },
        {
         "color": "rgba(197, 176, 213, 0.8)",
         "name": "P6",
         "opacity": 0.8,
         "type": "mesh3d",
         "x": [
          60.87791964350405,
          66.6839669189154,
          63.64979388514174,
          57.84374660973039
         ],
         "y": [
          -492.5685421558788,
          -489.86507855225443,
          -498.01362240014436,
          -500.7170860037687
         ],
         "z": [
          335.14000238890367,
          339.9338630021847,
          348.20399160820625,
          343.4101309949252
         ]
        },
        {
         "marker": {
          "color": "red",
          "size": 3
         },
         "mode": "markers+text",
         "showlegend": false,
         "text": "P5",
         "textfont": {
          "size": 12
         },
         "textposition": "top center",
         "type": "scatter3d",
         "x": [
          62.263856764322895
         ],
         "y": [
          -495.2910822780116
         ],
         "z": [
          341.67199699855496
         ]
        },
        {
         "line": {
          "color": "rgba(197, 176, 213, 0.8)",
          "width": 4
         },
         "mode": "lines",
         "showlegend": false,
         "type": "scatter3d",
         "x": [
          60.87791964350405,
          66.6839669189154
         ],
         "y": [
          -492.5685421558788,
          -489.86507855225443
         ],
         "z": [
          335.14000238890367,
          339.9338630021847
         ]
        },
        {
         "line": {
          "color": "rgba(197, 176, 213, 0.8)",
          "width": 4
         },
         "mode": "lines",
         "showlegend": false,
         "type": "scatter3d",
         "x": [
          66.6839669189154,
          63.64979388514174
         ],
         "y": [
          -489.86507855225443,
          -498.01362240014436
         ],
         "z": [
          339.9338630021847,
          348.20399160820625
         ]
        },
        {
         "line": {
          "color": "rgba(197, 176, 213, 0.8)",
          "width": 4
         },
         "mode": "lines",
         "showlegend": false,
         "type": "scatter3d",
         "x": [
          63.64979388514174,
          57.84374660973039
         ],
         "y": [
          -498.01362240014436,
          -500.7170860037687
         ],
         "z": [
          348.20399160820625,
          343.4101309949252
         ]
        },
        {
         "line": {
          "color": "rgba(197, 176, 213, 0.8)",
          "width": 4
         },
         "mode": "lines",
         "showlegend": false,
         "type": "scatter3d",
         "x": [
          57.84374660973039,
          60.87791964350405
         ],
         "y": [
          -500.7170860037687,
          -492.5685421558788
         ],
         "z": [
          343.4101309949252,
          335.14000238890367
         ]
        },
        {
         "color": "rgba(140, 86, 75, 0.8)",
         "name": "P7",
         "opacity": 0.8,
         "type": "mesh3d",
         "x": [
          60.454763572670835,
          66.26081084808219,
          63.226637814308525,
          57.42059053889717
         ],
         "y": [
          -491.51147071364977,
          -488.8080071100254,
          -496.95655095791534,
          -499.6600145615397
         ],
         "z": [
          337.26840934234633,
          342.06226995562736,
          350.3323985616489,
          345.5385379483679
         ]
        },
        {
         "marker": {
          "color": "red",
          "size": 3
         },
         "mode": "markers+text",
         "showlegend": false,
         "text": "P6",
         "textfont": {
          "size": 12
         },
         "textposition": "top center",
         "type": "scatter3d",
         "x": [
          61.84070069348968
         ],
         "y": [
          -494.23401083578256
         ],
         "z": [
          343.8004039519976
         ]
        },
        {
         "line": {
          "color": "rgba(140, 86, 75, 0.8)",
          "width": 4
         },
         "mode": "lines",
         "showlegend": false,
         "type": "scatter3d",
         "x": [
          60.454763572670835,
          66.26081084808219
         ],
         "y": [
          -491.51147071364977,
          -488.8080071100254
         ],
         "z": [
          337.26840934234633,
          342.06226995562736
         ]
        },
        {
         "line": {
          "color": "rgba(140, 86, 75, 0.8)",
          "width": 4
         },
         "mode": "lines",
         "showlegend": false,
         "type": "scatter3d",
         "x": [
          66.26081084808219,
          63.226637814308525
         ],
         "y": [
          -488.8080071100254,
          -496.95655095791534
         ],
         "z": [
          342.06226995562736,
          350.3323985616489
         ]
        },
        {
         "line": {
          "color": "rgba(140, 86, 75, 0.8)",
          "width": 4
         },
         "mode": "lines",
         "showlegend": false,
         "type": "scatter3d",
         "x": [
          63.226637814308525,
          57.42059053889717
         ],
         "y": [
          -496.95655095791534,
          -499.6600145615397
         ],
         "z": [
          350.3323985616489,
          345.5385379483679
         ]
        },
        {
         "line": {
          "color": "rgba(140, 86, 75, 0.8)",
          "width": 4
         },
         "mode": "lines",
         "showlegend": false,
         "type": "scatter3d",
         "x": [
          57.42059053889717,
          60.454763572670835
         ],
         "y": [
          -499.6600145615397,
          -491.51147071364977
         ],
         "z": [
          345.5385379483679,
          337.26840934234633
         ]
        },
        {
         "color": "rgba(227, 119, 194, 0.8)",
         "name": "P8",
         "opacity": 0.8,
         "type": "mesh3d",
         "x": [
          59.87274658488517,
          65.67879386029652,
          62.64462082652286,
          56.83857355111151
         ],
         "y": [
          -490.45468661133253,
          -487.7512230077082,
          -495.8997668555981,
          -498.60323045922246
         ],
         "z": [
          338.3683595540168,
          343.16222016729785,
          351.4323487733194,
          346.6384881600384
         ]
        },
        {
         "marker": {
          "color": "red",
          "size": 3
         },
         "mode": "markers+text",
         "showlegend": false,
         "text": "P7",
         "textfont": {
          "size": 12
         },
         "textposition": "top center",
         "type": "scatter3d",
         "x": [
          61.258683705704016
         ],
         "y": [
          -493.1772267334653
         ],
         "z": [
          344.9003541636681
         ]
        },
        {
         "line": {
          "color": "rgba(227, 119, 194, 0.8)",
          "width": 4
         },
         "mode": "lines",
         "showlegend": false,
         "type": "scatter3d",
         "x": [
          59.87274658488517,
          65.67879386029652
         ],
         "y": [
          -490.45468661133253,
          -487.7512230077082
         ],
         "z": [
          338.3683595540168,
          343.16222016729785
         ]
        },
        {
         "line": {
          "color": "rgba(227, 119, 194, 0.8)",
          "width": 4
         },
         "mode": "lines",
         "showlegend": false,
         "type": "scatter3d",
         "x": [
          65.67879386029652,
          62.64462082652286
         ],
         "y": [
          -487.7512230077082,
          -495.8997668555981
         ],
         "z": [
          343.16222016729785,
          351.4323487733194
         ]
        },
        {
         "line": {
          "color": "rgba(227, 119, 194, 0.8)",
          "width": 4
         },
         "mode": "lines",
         "showlegend": false,
         "type": "scatter3d",
         "x": [
          62.64462082652286,
          56.83857355111151
         ],
         "y": [
          -495.8997668555981,
          -498.60323045922246
         ],
         "z": [
          351.4323487733194,
          346.6384881600384
         ]
        },
        {
         "line": {
          "color": "rgba(227, 119, 194, 0.8)",
          "width": 4
         },
         "mode": "lines",
         "showlegend": false,
         "type": "scatter3d",
         "x": [
          56.83857355111151,
          59.87274658488517
         ],
         "y": [
          -498.60323045922246,
          -490.45468661133253
         ],
         "z": [
          346.6384881600384,
          338.3683595540168
         ]
        },
        {
         "color": "rgba(127, 127, 127, 0.8)",
         "name": "P9",
         "opacity": 0.8,
         "type": "mesh3d",
         "x": [
          59.13730435399706,
          64.94335162940841,
          61.90917859563475,
          56.1031313202234
         ],
         "y": [
          -489.56041259718563,
          -486.8569489935613,
          -495.0054928414512,
          -497.70895644507556
         ],
         "z": [
          338.42452684170047,
          343.2183874549815,
          351.48851606100305,
          346.694655447722
         ]
        },
        {
         "marker": {
          "color": "red",
          "size": 3
         },
         "mode": "markers+text",
         "showlegend": false,
         "text": "P8",
         "textfont": {
          "size": 12
         },
         "textposition": "top center",
         "type": "scatter3d",
         "x": [
          60.523241474815904
         ],
         "y": [
          -492.2829527193184
         ],
         "z": [
          344.95652145135176
         ]
        },
        {
         "line": {
          "color": "rgba(127, 127, 127, 0.8)",
          "width": 4
         },
         "mode": "lines",
         "showlegend": false,
         "type": "scatter3d",
         "x": [
          59.13730435399706,
          64.94335162940841
         ],
         "y": [
          -489.56041259718563,
          -486.8569489935613
         ],
         "z": [
          338.42452684170047,
          343.2183874549815
         ]
        },
        {
         "line": {
          "color": "rgba(127, 127, 127, 0.8)",
          "width": 4
         },
         "mode": "lines",
         "showlegend": false,
         "type": "scatter3d",
         "x": [
          64.94335162940841,
          61.90917859563475
         ],
         "y": [
          -486.8569489935613,
          -495.0054928414512
         ],
         "z": [
          343.2183874549815,
          351.48851606100305
         ]
        },
        {
         "line": {
          "color": "rgba(127, 127, 127, 0.8)",
          "width": 4
         },
         "mode": "lines",
         "showlegend": false,
         "type": "scatter3d",
         "x": [
          61.90917859563475,
          56.1031313202234
         ],
         "y": [
          -495.0054928414512,
          -497.70895644507556
         ],
         "z": [
          351.48851606100305,
          346.694655447722
         ]
        },
        {
         "line": {
          "color": "rgba(127, 127, 127, 0.8)",
          "width": 4
         },
         "mode": "lines",
         "showlegend": false,
         "type": "scatter3d",
         "x": [
          56.1031313202234,
          59.13730435399706
         ],
         "y": [
          -497.70895644507556,
          -489.56041259718563
         ],
         "z": [
          346.694655447722,
          338.42452684170047
         ]
        },
        {
         "color": "rgba(188, 189, 34, 0.8)",
         "name": "P10",
         "opacity": 0.8,
         "type": "mesh3d",
         "x": [
          57.96187191048936,
          63.76791918590071,
          60.73374615212705,
          54.927698876715695
         ],
         "y": [
          -489.173911196597,
          -486.4704475929726,
          -494.61899144086254,
          -497.3224550444869
         ],
         "z": [
          339.643871672091,
          344.437732285372,
          352.7078608913936,
          347.91400027811255
         ]
        },
        {
         "marker": {
          "color": "red",
          "size": 3
         },
         "mode": "markers+text",
         "showlegend": false,
         "text": "P9",
         "textfont": {
          "size": 12
         },
         "textposition": "top center",
         "type": "scatter3d",
         "x": [
          59.3478090313082
         ],
         "y": [
          -491.89645131872976
         ],
         "z": [
          346.1758662817423
         ]
        },
        {
         "line": {
          "color": "rgba(188, 189, 34, 0.8)",
          "width": 4
         },
         "mode": "lines",
         "showlegend": false,
         "type": "scatter3d",
         "x": [
          57.96187191048936,
          63.76791918590071
         ],
         "y": [
          -489.173911196597,
          -486.4704475929726
         ],
         "z": [
          339.643871672091,
          344.437732285372
         ]
        },
        {
         "line": {
          "color": "rgba(188, 189, 34, 0.8)",
          "width": 4
         },
         "mode": "lines",
         "showlegend": false,
         "type": "scatter3d",
         "x": [
          63.76791918590071,
          60.73374615212705
         ],
         "y": [
          -486.4704475929726,
          -494.61899144086254
         ],
         "z": [
          344.437732285372,
          352.7078608913936
         ]
        },
        {
         "line": {
          "color": "rgba(188, 189, 34, 0.8)",
          "width": 4
         },
         "mode": "lines",
         "showlegend": false,
         "type": "scatter3d",
         "x": [
          60.73374615212705,
          54.927698876715695
         ],
         "y": [
          -494.61899144086254,
          -497.3224550444869
         ],
         "z": [
          352.7078608913936,
          347.91400027811255
         ]
        },
        {
         "line": {
          "color": "rgba(188, 189, 34, 0.8)",
          "width": 4
         },
         "mode": "lines",
         "showlegend": false,
         "type": "scatter3d",
         "x": [
          54.927698876715695,
          57.96187191048936
         ],
         "y": [
          -497.3224550444869,
          -489.173911196597
         ],
         "z": [
          347.91400027811255,
          339.643871672091
         ]
        },
        {
         "color": "rgba(23, 190, 207, 0.8)",
         "name": "P11",
         "opacity": 0.8,
         "type": "mesh3d",
         "x": [
          56.918630203254374,
          62.724677478665726,
          59.69050444489206,
          53.88445716948071
         ],
         "y": [
          -488.9883492733923,
          -486.28488566976796,
          -494.4334295176579,
          -497.13689312128224
         ],
         "z": [
          341.9464594180062,
          346.74032003128724,
          355.0104486373088,
          350.21658802402777
         ]
        },
        {
         "marker": {
          "color": "red",
          "size": 3
         },
         "mode": "markers+text",
         "showlegend": false,
         "text": "",
         "textfont": {
          "size": 12
         },
         "textposition": "top center",
         "type": "scatter3d",
         "x": [
          58.30456732407322
         ],
         "y": [
          -491.7108893955251
         ],
         "z": [
          348.4784540276575
         ]
        },
        {
         "line": {
          "color": "rgba(23, 190, 207, 0.8)",
          "width": 4
         },
         "mode": "lines",
         "showlegend": false,
         "type": "scatter3d",
         "x": [
          56.918630203254374,
          62.724677478665726
         ],
         "y": [
          -488.9883492733923,
          -486.28488566976796
         ],
         "z": [
          341.9464594180062,
          346.74032003128724
         ]
        },
        {
         "line": {
          "color": "rgba(23, 190, 207, 0.8)",
          "width": 4
         },
         "mode": "lines",
         "showlegend": false,
         "type": "scatter3d",
         "x": [
          62.724677478665726,
          59.69050444489206
         ],
         "y": [
          -486.28488566976796,
          -494.4334295176579
         ],
         "z": [
          346.74032003128724,
          355.0104486373088
         ]
        },
        {
         "line": {
          "color": "rgba(23, 190, 207, 0.8)",
          "width": 4
         },
         "mode": "lines",
         "showlegend": false,
         "type": "scatter3d",
         "x": [
          59.69050444489206,
          53.88445716948071
         ],
         "y": [
          -494.4334295176579,
          -497.13689312128224
         ],
         "z": [
          355.0104486373088,
          350.21658802402777
         ]
        },
        {
         "line": {
          "color": "rgba(23, 190, 207, 0.8)",
          "width": 4
         },
         "mode": "lines",
         "showlegend": false,
         "type": "scatter3d",
         "x": [
          53.88445716948071,
          56.918630203254374
         ],
         "y": [
          -497.13689312128224,
          -488.9883492733923
         ],
         "z": [
          350.21658802402777,
          341.9464594180062
         ]
        },
        {
         "line": {
          "color": "black",
          "width": 2
         },
         "mode": "lines",
         "name": "Berechnete Hakenlinie",
         "type": "scatter3d",
         "x": {
          "bdata": "wH38pnUvUUBIqXVmVhlQQChufmTPB1BAwORh4nrHT0BAYmmq1n5PQDDM9g7GIU9AoCGQFJzrTkDgADSMHKFOQGAfn5P5Qk5AcFyfAYWsTUCQKeQP/CZNQA==",
          "dtype": "f8"
         },
         "y": {
          "bdata": "CljTiBKPf8AUsWp2RDZ/wEAzJBb/JX/AchjFL6QVf8C4CLTvVAZ/wBQI5EWo9H7AiGklgr7jfsBeA7Pr1dJ+wJc8bvmGxH7AaIZW3Ve+fsCoDY/NX7t+wA==",
          "dtype": "f8"
         },
         "z": {
          "bdata": "gsxymmG6dEAyIzC7SyZ1QNMAkBbaNnVAi9hjT0lIdUAOGsE201l1QNy87H/AWnVAtNZfdM58dUBafMTZZ451QKf3b+lNj3VA1ogpWdCidUDbFmm/p8d1QA==",
          "dtype": "f8"
         }
        },
        {
         "mode": "text",
         "showlegend": false,
         "text": [
          "Pre-Position"
         ],
         "textfont": {
          "size": 10
         },
         "textposition": "top center",
         "type": "scatter3d",
         "x": [
          68.74155592591615
         ],
         "y": [
          -504.9420250182744
         ],
         "z": [
          331.6488289341288
         ]
        },
        {
         "mode": "text",
         "showlegend": false,
         "text": [
          "Loslassen"
         ],
         "textfont": {
          "size": 10
         },
         "textposition": "top center",
         "type": "scatter3d",
         "x": [
          58.30456732407322
         ],
         "y": [
          -491.7108893955251
         ],
         "z": [
          348.4784540276575
         ]
        },
        {
         "color": "rgba(0,255,0,0.2)",
         "name": "optimale Trajektorie",
         "opacity": 0.8,
         "type": "mesh3d",
         "x": [
          73.16465385558409,
          76.96728057390457,
          70.74790882498122,
          66.94528210666074
         ],
         "y": [
          -504.2039154533274,
          -500.30855385450377,
          -506.52536275171707,
          -510.4207243505407
         ],
         "z": [
          328.1505419264636,
          334.01281009292654,
          342.1780230224357,
          336.3157548559727
         ]
        },
        {
         "line": {
          "color": "rgba(0,255,0,0.2)",
          "width": 3
         },
         "mode": "lines",
         "showlegend": false,
         "type": "scatter3d",
         "x": [
          73.16465385558409,
          76.96728057390457
         ],
         "y": [
          -504.2039154533274,
          -500.30855385450377
         ],
         "z": [
          328.1505419264636,
          334.01281009292654
         ]
        },
        {
         "line": {
          "color": "rgba(0,255,0,0.2)",
          "width": 3
         },
         "mode": "lines",
         "showlegend": false,
         "type": "scatter3d",
         "x": [
          76.96728057390457,
          70.74790882498122
         ],
         "y": [
          -500.30855385450377,
          -506.52536275171707
         ],
         "z": [
          334.01281009292654,
          342.1780230224357
         ]
        },
        {
         "line": {
          "color": "rgba(0,255,0,0.2)",
          "width": 3
         },
         "mode": "lines",
         "showlegend": false,
         "type": "scatter3d",
         "x": [
          70.74790882498122,
          66.94528210666074
         ],
         "y": [
          -506.52536275171707,
          -510.4207243505407
         ],
         "z": [
          342.1780230224357,
          336.3157548559727
         ]
        },
        {
         "line": {
          "color": "rgba(0,255,0,0.2)",
          "width": 3
         },
         "mode": "lines",
         "showlegend": false,
         "type": "scatter3d",
         "x": [
          66.94528210666074,
          73.16465385558409
         ],
         "y": [
          -510.4207243505407,
          -504.2039154533274
         ],
         "z": [
          336.3157548559727,
          328.1505419264636
         ]
        },
        {
         "marker": {
          "color": "green",
          "size": 4
         },
         "mode": "markers",
         "name": "Mitte P11",
         "showlegend": false,
         "type": "scatter3d",
         "x": [
          71.95628134028266
         ],
         "y": [
          -505.36463910252223
         ],
         "z": [
          335.16428247444964
         ]
        },
        {
         "color": "rgba(0,255,0,0.2)",
         "name": "optimale Trajektorie",
         "opacity": 0.8,
         "type": "mesh3d",
         "x": [
          70.55192798672024,
          74.4578268729207,
          68.33259404109512,
          64.42669515489466
         ],
         "y": [
          -497.94935780314415,
          -493.99668169405334,
          -500.0798867421164,
          -504.0325628512072
         ],
         "z": [
          339.13527099364444,
          344.89029536087355,
          353.22553015655546,
          347.47050578932635
         ]
        },
        {
         "line": {
          "color": "rgba(0,255,0,0.2)",
          "width": 3
         },
         "mode": "lines",
         "showlegend": false,
         "type": "scatter3d",
         "x": [
          70.55192798672024,
          74.4578268729207
         ],
         "y": [
          -497.94935780314415,
          -493.99668169405334
         ],
         "z": [
          339.13527099364444,
          344.89029536087355
         ]
        },
        {
         "line": {
          "color": "rgba(0,255,0,0.2)",
          "width": 3
         },
         "mode": "lines",
         "showlegend": false,
         "type": "scatter3d",
         "x": [
          74.4578268729207,
          68.33259404109512
         ],
         "y": [
          -493.99668169405334,
          -500.0798867421164
         ],
         "z": [
          344.89029536087355,
          353.22553015655546
         ]
        },
        {
         "line": {
          "color": "rgba(0,255,0,0.2)",
          "width": 3
         },
         "mode": "lines",
         "showlegend": false,
         "type": "scatter3d",
         "x": [
          68.33259404109512,
          64.42669515489466
         ],
         "y": [
          -500.0798867421164,
          -504.0325628512072
         ],
         "z": [
          353.22553015655546,
          347.47050578932635
         ]
        },
        {
         "line": {
          "color": "rgba(0,255,0,0.2)",
          "width": 3
         },
         "mode": "lines",
         "showlegend": false,
         "type": "scatter3d",
         "x": [
          64.42669515489466,
          70.55192798672024
         ],
         "y": [
          -504.0325628512072,
          -497.94935780314415
         ],
         "z": [
          347.47050578932635,
          339.13527099364444
         ]
        },
        {
         "marker": {
          "color": "green",
          "size": 4
         },
         "mode": "markers",
         "name": "Mitte P11",
         "showlegend": false,
         "type": "scatter3d",
         "x": [
          69.44226101390768
         ],
         "y": [
          -499.0146222726303
         ],
         "z": [
          346.18040057509995
         ]
        },
        {
         "color": "rgba(0,255,0,0.2)",
         "name": "optimale Trajektorie",
         "opacity": 0.8,
         "type": "mesh3d",
         "x": [
          68.49663086328412,
          72.43359805957903,
          66.36739240410058,
          62.430425207805676
         ],
         "y": [
          -495.76427350028086,
          -491.8033543209922,
          -497.88832744037234,
          -501.849246619661
         ],
         "z": [
          339.6708927511294,
          345.39901709950385,
          353.77602438623,
          348.0479000378555
         ]
        },
        {
         "line": {
          "color": "rgba(0,255,0,0.2)",
          "width": 3
         },
         "mode": "lines",
         "showlegend": false,
         "type": "scatter3d",
         "x": [
          68.49663086328412,
          72.43359805957903
         ],
         "y": [
          -495.76427350028086,
          -491.8033543209922
         ],
         "z": [
          339.6708927511294,
          345.39901709950385
         ]
        },
        {
         "line": {
          "color": "rgba(0,255,0,0.2)",
          "width": 3
         },
         "mode": "lines",
         "showlegend": false,
         "type": "scatter3d",
         "x": [
          72.43359805957903,
          66.36739240410058
         ],
         "y": [
          -491.8033543209922,
          -497.88832744037234
         ],
         "z": [
          345.39901709950385,
          353.77602438623
         ]
        },
        {
         "line": {
          "color": "rgba(0,255,0,0.2)",
          "width": 3
         },
         "mode": "lines",
         "showlegend": false,
         "type": "scatter3d",
         "x": [
          66.36739240410058,
          62.430425207805676
         ],
         "y": [
          -497.88832744037234,
          -501.849246619661
         ],
         "z": [
          353.77602438623,
          348.0479000378555
         ]
        },
        {
         "line": {
          "color": "rgba(0,255,0,0.2)",
          "width": 3
         },
         "mode": "lines",
         "showlegend": false,
         "type": "scatter3d",
         "x": [
          62.430425207805676,
          68.49663086328412
         ],
         "y": [
          -501.849246619661,
          -495.76427350028086
         ],
         "z": [
          348.0479000378555,
          339.6708927511294
         ]
        },
        {
         "marker": {
          "color": "green",
          "size": 4
         },
         "mode": "markers",
         "name": "Mitte P11",
         "showlegend": false,
         "type": "scatter3d",
         "x": [
          67.43201163369235
         ],
         "y": [
          -496.8263004703266
         ],
         "z": [
          346.7234585686797
         ]
        },
        {
         "color": "rgba(0,255,0,0.2)",
         "name": "optimale Trajektorie",
         "opacity": 0.8,
         "type": "mesh3d",
         "x": [
          67.8186744526851,
          71.75120890667846,
          65.66120223856485,
          61.728667784571506
         ],
         "y": [
          -493.57613537690315,
          -489.6241159343607,
          -495.7048070608846,
          -499.65682650342706
         ],
         "z": [
          341.4191178059707,
          347.1564268523723,
          355.5192621494558,
          349.7819531030542
         ]
        },
        {
         "line": {
          "color": "rgba(0,255,0,0.2)",
          "width": 3
         },
         "mode": "lines",
         "showlegend": false,
         "type": "scatter3d",
         "x": [
          67.8186744526851,
          71.75120890667846
         ],
         "y": [
          -493.57613537690315,
          -489.6241159343607
         ],
         "z": [
          341.4191178059707,
          347.1564268523723
         ]
        },
        {
         "line": {
          "color": "rgba(0,255,0,0.2)",
          "width": 3
         },
         "mode": "lines",
         "showlegend": false,
         "type": "scatter3d",
         "x": [
          71.75120890667846,
          65.66120223856485
         ],
         "y": [
          -489.6241159343607,
          -495.7048070608846
         ],
         "z": [
          347.1564268523723,
          355.5192621494558
         ]
        },
        {
         "line": {
          "color": "rgba(0,255,0,0.2)",
          "width": 3
         },
         "mode": "lines",
         "showlegend": false,
         "type": "scatter3d",
         "x": [
          65.66120223856485,
          61.728667784571506
         ],
         "y": [
          -495.7048070608846,
          -499.65682650342706
         ],
         "z": [
          355.5192621494558,
          349.7819531030542
         ]
        },
        {
         "line": {
          "color": "rgba(0,255,0,0.2)",
          "width": 3
         },
         "mode": "lines",
         "showlegend": false,
         "type": "scatter3d",
         "x": [
          61.728667784571506,
          67.8186744526851
         ],
         "y": [
          -499.65682650342706,
          -493.57613537690315
         ],
         "z": [
          349.7819531030542,
          341.4191178059707
         ]
        },
        {
         "marker": {
          "color": "green",
          "size": 4
         },
         "mode": "markers",
         "name": "Mitte P11",
         "showlegend": false,
         "type": "scatter3d",
         "x": [
          66.73993834562498
         ],
         "y": [
          -494.6404712188939
         ],
         "z": [
          348.4691899777132
         ]
        },
        {
         "color": "rgba(0,255,0,0.2)",
         "name": "optimale Trajektorie",
         "opacity": 0.8,
         "type": "mesh3d",
         "x": [
          65.13271172420566,
          69.04157873531966,
          62.91388467460539,
          59.00501766349141
         ],
         "y": [
          -489.8409896939866,
          -485.9045923688432,
          -492.00459377698525,
          -495.94099110212863
         ],
         "z": [
          343.69351379052625,
          349.4576732945675,
          357.77881193774317,
          352.01465243370194
         ]
        },
        {
         "line": {
          "color": "rgba(0,255,0,0.2)",
          "width": 3
         },
         "mode": "lines",
         "showlegend": false,
         "type": "scatter3d",
         "x": [
          65.13271172420566,
          69.04157873531966
         ],
         "y": [
          -489.8409896939866,
          -485.9045923688432
         ],
         "z": [
          343.69351379052625,
          349.4576732945675
         ]
        },
        {
         "line": {
          "color": "rgba(0,255,0,0.2)",
          "width": 3
         },
         "mode": "lines",
         "showlegend": false,
         "type": "scatter3d",
         "x": [
          69.04157873531966,
          62.91388467460539
         ],
         "y": [
          -485.9045923688432,
          -492.00459377698525
         ],
         "z": [
          349.4576732945675,
          357.77881193774317
         ]
        },
        {
         "line": {
          "color": "rgba(0,255,0,0.2)",
          "width": 3
         },
         "mode": "lines",
         "showlegend": false,
         "type": "scatter3d",
         "x": [
          62.91388467460539,
          59.00501766349141
         ],
         "y": [
          -492.00459377698525,
          -495.94099110212863
         ],
         "z": [
          357.77881193774317,
          352.01465243370194
         ]
        },
        {
         "line": {
          "color": "rgba(0,255,0,0.2)",
          "width": 3
         },
         "mode": "lines",
         "showlegend": false,
         "type": "scatter3d",
         "x": [
          59.00501766349141,
          65.13271172420566
         ],
         "y": [
          -495.94099110212863,
          -489.8409896939866
         ],
         "z": [
          352.01465243370194,
          343.69351379052625
         ]
        },
        {
         "marker": {
          "color": "green",
          "size": 4
         },
         "mode": "markers",
         "name": "Mitte P11",
         "showlegend": false,
         "type": "scatter3d",
         "x": [
          64.02329819940553
         ],
         "y": [
          -490.92279173548593
         ],
         "z": [
          350.7361628641347
         ]
        },
        {
         "color": "rgba(0,255,0,0.2)",
         "name": "optimale Trajektorie",
         "opacity": 0.8,
         "type": "mesh3d",
         "x": [
          64.17360527435662,
          66.09264635425508,
          62.861045194151,
          60.94200411425253
         ],
         "y": [
          -489.3165652212355,
          -484.19072463042096,
          -492.32508560323396,
          -497.4509261940485
         ],
         "z": [
          344.1949749676815,
          350.0296163080914,
          358.23869210905656,
          352.40405076864664
         ]
        },
        {
         "line": {
          "color": "rgba(0,255,0,0.2)",
          "width": 3
         },
         "mode": "lines",
         "showlegend": false,
         "type": "scatter3d",
         "x": [
          64.17360527435662,
          66.09264635425508
         ],
         "y": [
          -489.3165652212355,
          -484.19072463042096
         ],
         "z": [
          344.1949749676815,
          350.0296163080914
         ]
        },
        {
         "line": {
          "color": "rgba(0,255,0,0.2)",
          "width": 3
         },
         "mode": "lines",
         "showlegend": false,
         "type": "scatter3d",
         "x": [
          66.09264635425508,
          62.861045194151
         ],
         "y": [
          -484.19072463042096,
          -492.32508560323396
         ],
         "z": [
          350.0296163080914,
          358.23869210905656
         ]
        },
        {
         "line": {
          "color": "rgba(0,255,0,0.2)",
          "width": 3
         },
         "mode": "lines",
         "showlegend": false,
         "type": "scatter3d",
         "x": [
          62.861045194151,
          60.94200411425253
         ],
         "y": [
          -492.32508560323396,
          -497.4509261940485
         ],
         "z": [
          358.23869210905656,
          352.40405076864664
         ]
        },
        {
         "line": {
          "color": "rgba(0,255,0,0.2)",
          "width": 3
         },
         "mode": "lines",
         "showlegend": false,
         "type": "scatter3d",
         "x": [
          60.94200411425253,
          64.17360527435662
         ],
         "y": [
          -497.4509261940485,
          -489.3165652212355
         ],
         "z": [
          352.40405076864664,
          344.1949749676815
         ]
        },
        {
         "marker": {
          "color": "green",
          "size": 4
         },
         "mode": "markers",
         "name": "Mitte P11",
         "showlegend": false,
         "type": "scatter3d",
         "x": [
          63.51732523425381
         ],
         "y": [
          -490.82082541223474
         ],
         "z": [
          351.21683353836903
         ]
        },
        {
         "color": "rgba(0,255,0,0.2)",
         "name": "optimale Trajektorie",
         "opacity": 0.8,
         "type": "mesh3d",
         "x": [
          64.13141372334168,
          64.96139586222588,
          63.54709300883427,
          62.717110869950055
         ],
         "y": [
          -488.5266587476235,
          -483.11407772781416,
          -491.7475854841621,
          -497.1601665039714
         ],
         "z": [
          343.591956174245,
          349.4242024270307,
          357.63774558817425,
          351.80549933538856
         ]
        },
        {
         "line": {
          "color": "rgba(0,255,0,0.2)",
          "width": 3
         },
         "mode": "lines",
         "showlegend": false,
         "type": "scatter3d",
         "x": [
          64.13141372334168,
          64.96139586222588
         ],
         "y": [
          -488.5266587476235,
          -483.11407772781416
         ],
         "z": [
          343.591956174245,
          349.4242024270307
         ]
        },
        {
         "line": {
          "color": "rgba(0,255,0,0.2)",
          "width": 3
         },
         "mode": "lines",
         "showlegend": false,
         "type": "scatter3d",
         "x": [
          64.96139586222588,
          63.54709300883427
         ],
         "y": [
          -483.11407772781416,
          -491.7475854841621
         ],
         "z": [
          349.4242024270307,
          357.63774558817425
         ]
        },
        {
         "line": {
          "color": "rgba(0,255,0,0.2)",
          "width": 3
         },
         "mode": "lines",
         "showlegend": false,
         "type": "scatter3d",
         "x": [
          63.54709300883427,
          62.717110869950055
         ],
         "y": [
          -491.7475854841621,
          -497.1601665039714
         ],
         "z": [
          357.63774558817425,
          351.80549933538856
         ]
        },
        {
         "line": {
          "color": "rgba(0,255,0,0.2)",
          "width": 3
         },
         "mode": "lines",
         "showlegend": false,
         "type": "scatter3d",
         "x": [
          62.717110869950055,
          64.13141372334168
         ],
         "y": [
          -497.1601665039714,
          -488.5266587476235
         ],
         "z": [
          351.80549933538856,
          343.591956174245
         ]
        },
        {
         "marker": {
          "color": "green",
          "size": 4
         },
         "mode": "markers",
         "name": "Mitte P11",
         "showlegend": false,
         "type": "scatter3d",
         "x": [
          63.83925336608798
         ],
         "y": [
          -490.1371221158928
         ],
         "z": [
          350.61485088120963
         ]
        },
        {
         "line": {
          "color": "green",
          "width": 2
         },
         "mode": "lines",
         "name": "Optimale Hakenlinie",
         "type": "scatter3d",
         "x": {
          "bdata": "gJKmtjP9UUDgwSMBTlxRQNCMHxSm21BAAOFcJluvUEAoILu3fQFQQAFCmbY3wk9A8TOAp2zrT0A=",
          "dtype": "f8"
         },
         "y": {
          "bdata": "0MLPj9WVf8DYa5DkOzB/wI6L14Y4DX/A27K/Xj/qfsDmTkTBw65+wGLU0xkirX7AFrX1pjGifsA=",
          "dtype": "f8"
         },
         "z": {
          "bdata": "E/Go5qDydEC+o7br4qJ1QNjHSkmTq3VAOp5ZzYHHdUDQH7ZSx+t1QIm/cSZ483VAZavgbdbpdUA=",
          "dtype": "f8"
         }
        },
        {
         "line": {
          "color": "gray",
          "dash": "dash"
         },
         "mode": "lines",
         "name": "Direkte Gerade Spitze -> Senke",
         "type": "scatter3d",
         "x": [
          64.39589845171315,
          58.30456732407322
         ],
         "y": [
          -499.39171449352693,
          -491.7108893955251
         ],
         "z": [
          338.39348906329826,
          348.4784540276575
         ]
        },
        {
         "marker": {
          "color": "magenta",
          "size": 8
         },
         "mode": "markers",
         "name": "Spitze",
         "type": "scatter3d",
         "x": [
          64.39589845171315
         ],
         "y": [
          -499.39171449352693
         ],
         "z": [
          338.39348906329826
         ]
        },
        {
         "marker": {
          "color": "magenta",
          "size": 8
         },
         "mode": "markers",
         "name": "Senke",
         "type": "scatter3d",
         "x": [
          58.30456732407322
         ],
         "y": [
          -491.7108893955251
         ],
         "z": [
          348.4784540276575
         ]
        },
        {
         "mode": "text",
         "showlegend": false,
         "text": [
          "Spitze"
         ],
         "textfont": {
          "size": 10
         },
         "textposition": "top center",
         "type": "scatter3d",
         "x": [
          64.39589845171315
         ],
         "y": [
          -499.39171449352693
         ],
         "z": [
          338.39348906329826
         ]
        },
        {
         "mode": "text",
         "showlegend": false,
         "text": [
          "Senke"
         ],
         "textfont": {
          "size": 10
         },
         "textposition": "top center",
         "type": "scatter3d",
         "x": [
          58.30456732407322
         ],
         "y": [
          -491.7108893955251
         ],
         "z": [
          348.4784540276575
         ]
        }
       ],
       "layout": {
        "legend": {
         "title": {
          "text": "Legende"
         }
        },
        "scene": {
         "aspectmode": "cube",
         "camera": {
          "eye": {
           "x": -1,
           "y": -1,
           "z": -1.5
          },
          "up": {
           "x": 0,
           "y": -1,
           "z": 0
          }
         },
         "xaxis": {
          "title": {
           "text": "X"
          }
         },
         "yaxis": {
          "title": {
           "text": "Y"
          }
         },
         "zaxis": {
          "title": {
           "text": "Z"
          }
         }
        },
        "template": {
         "data": {
          "bar": [
           {
            "error_x": {
             "color": "#2a3f5f"
            },
            "error_y": {
             "color": "#2a3f5f"
            },
            "marker": {
             "line": {
              "color": "#E5ECF6",
              "width": 0.5
             },
             "pattern": {
              "fillmode": "overlay",
              "size": 10,
              "solidity": 0.2
             }
            },
            "type": "bar"
           }
          ],
          "barpolar": [
           {
            "marker": {
             "line": {
              "color": "#E5ECF6",
              "width": 0.5
             },
             "pattern": {
              "fillmode": "overlay",
              "size": 10,
              "solidity": 0.2
             }
            },
            "type": "barpolar"
           }
          ],
          "carpet": [
           {
            "aaxis": {
             "endlinecolor": "#2a3f5f",
             "gridcolor": "white",
             "linecolor": "white",
             "minorgridcolor": "white",
             "startlinecolor": "#2a3f5f"
            },
            "baxis": {
             "endlinecolor": "#2a3f5f",
             "gridcolor": "white",
             "linecolor": "white",
             "minorgridcolor": "white",
             "startlinecolor": "#2a3f5f"
            },
            "type": "carpet"
           }
          ],
          "choropleth": [
           {
            "colorbar": {
             "outlinewidth": 0,
             "ticks": ""
            },
            "type": "choropleth"
           }
          ],
          "contour": [
           {
            "colorbar": {
             "outlinewidth": 0,
             "ticks": ""
            },
            "colorscale": [
             [
              0,
              "#0d0887"
             ],
             [
              0.1111111111111111,
              "#46039f"
             ],
             [
              0.2222222222222222,
              "#7201a8"
             ],
             [
              0.3333333333333333,
              "#9c179e"
             ],
             [
              0.4444444444444444,
              "#bd3786"
             ],
             [
              0.5555555555555556,
              "#d8576b"
             ],
             [
              0.6666666666666666,
              "#ed7953"
             ],
             [
              0.7777777777777778,
              "#fb9f3a"
             ],
             [
              0.8888888888888888,
              "#fdca26"
             ],
             [
              1,
              "#f0f921"
             ]
            ],
            "type": "contour"
           }
          ],
          "contourcarpet": [
           {
            "colorbar": {
             "outlinewidth": 0,
             "ticks": ""
            },
            "type": "contourcarpet"
           }
          ],
          "heatmap": [
           {
            "colorbar": {
             "outlinewidth": 0,
             "ticks": ""
            },
            "colorscale": [
             [
              0,
              "#0d0887"
             ],
             [
              0.1111111111111111,
              "#46039f"
             ],
             [
              0.2222222222222222,
              "#7201a8"
             ],
             [
              0.3333333333333333,
              "#9c179e"
             ],
             [
              0.4444444444444444,
              "#bd3786"
             ],
             [
              0.5555555555555556,
              "#d8576b"
             ],
             [
              0.6666666666666666,
              "#ed7953"
             ],
             [
              0.7777777777777778,
              "#fb9f3a"
             ],
             [
              0.8888888888888888,
              "#fdca26"
             ],
             [
              1,
              "#f0f921"
             ]
            ],
            "type": "heatmap"
           }
          ],
          "histogram": [
           {
            "marker": {
             "pattern": {
              "fillmode": "overlay",
              "size": 10,
              "solidity": 0.2
             }
            },
            "type": "histogram"
           }
          ],
          "histogram2d": [
           {
            "colorbar": {
             "outlinewidth": 0,
             "ticks": ""
            },
            "colorscale": [
             [
              0,
              "#0d0887"
             ],
             [
              0.1111111111111111,
              "#46039f"
             ],
             [
              0.2222222222222222,
              "#7201a8"
             ],
             [
              0.3333333333333333,
              "#9c179e"
             ],
             [
              0.4444444444444444,
              "#bd3786"
             ],
             [
              0.5555555555555556,
              "#d8576b"
             ],
             [
              0.6666666666666666,
              "#ed7953"
             ],
             [
              0.7777777777777778,
              "#fb9f3a"
             ],
             [
              0.8888888888888888,
              "#fdca26"
             ],
             [
              1,
              "#f0f921"
             ]
            ],
            "type": "histogram2d"
           }
          ],
          "histogram2dcontour": [
           {
            "colorbar": {
             "outlinewidth": 0,
             "ticks": ""
            },
            "colorscale": [
             [
              0,
              "#0d0887"
             ],
             [
              0.1111111111111111,
              "#46039f"
             ],
             [
              0.2222222222222222,
              "#7201a8"
             ],
             [
              0.3333333333333333,
              "#9c179e"
             ],
             [
              0.4444444444444444,
              "#bd3786"
             ],
             [
              0.5555555555555556,
              "#d8576b"
             ],
             [
              0.6666666666666666,
              "#ed7953"
             ],
             [
              0.7777777777777778,
              "#fb9f3a"
             ],
             [
              0.8888888888888888,
              "#fdca26"
             ],
             [
              1,
              "#f0f921"
             ]
            ],
            "type": "histogram2dcontour"
           }
          ],
          "mesh3d": [
           {
            "colorbar": {
             "outlinewidth": 0,
             "ticks": ""
            },
            "type": "mesh3d"
           }
          ],
          "parcoords": [
           {
            "line": {
             "colorbar": {
              "outlinewidth": 0,
              "ticks": ""
             }
            },
            "type": "parcoords"
           }
          ],
          "pie": [
           {
            "automargin": true,
            "type": "pie"
           }
          ],
          "scatter": [
           {
            "fillpattern": {
             "fillmode": "overlay",
             "size": 10,
             "solidity": 0.2
            },
            "type": "scatter"
           }
          ],
          "scatter3d": [
           {
            "line": {
             "colorbar": {
              "outlinewidth": 0,
              "ticks": ""
             }
            },
            "marker": {
             "colorbar": {
              "outlinewidth": 0,
              "ticks": ""
             }
            },
            "type": "scatter3d"
           }
          ],
          "scattercarpet": [
           {
            "marker": {
             "colorbar": {
              "outlinewidth": 0,
              "ticks": ""
             }
            },
            "type": "scattercarpet"
           }
          ],
          "scattergeo": [
           {
            "marker": {
             "colorbar": {
              "outlinewidth": 0,
              "ticks": ""
             }
            },
            "type": "scattergeo"
           }
          ],
          "scattergl": [
           {
            "marker": {
             "colorbar": {
              "outlinewidth": 0,
              "ticks": ""
             }
            },
            "type": "scattergl"
           }
          ],
          "scattermap": [
           {
            "marker": {
             "colorbar": {
              "outlinewidth": 0,
              "ticks": ""
             }
            },
            "type": "scattermap"
           }
          ],
          "scattermapbox": [
           {
            "marker": {
             "colorbar": {
              "outlinewidth": 0,
              "ticks": ""
             }
            },
            "type": "scattermapbox"
           }
          ],
          "scatterpolar": [
           {
            "marker": {
             "colorbar": {
              "outlinewidth": 0,
              "ticks": ""
             }
            },
            "type": "scatterpolar"
           }
          ],
          "scatterpolargl": [
           {
            "marker": {
             "colorbar": {
              "outlinewidth": 0,
              "ticks": ""
             }
            },
            "type": "scatterpolargl"
           }
          ],
          "scatterternary": [
           {
            "marker": {
             "colorbar": {
              "outlinewidth": 0,
              "ticks": ""
             }
            },
            "type": "scatterternary"
           }
          ],
          "surface": [
           {
            "colorbar": {
             "outlinewidth": 0,
             "ticks": ""
            },
            "colorscale": [
             [
              0,
              "#0d0887"
             ],
             [
              0.1111111111111111,
              "#46039f"
             ],
             [
              0.2222222222222222,
              "#7201a8"
             ],
             [
              0.3333333333333333,
              "#9c179e"
             ],
             [
              0.4444444444444444,
              "#bd3786"
             ],
             [
              0.5555555555555556,
              "#d8576b"
             ],
             [
              0.6666666666666666,
              "#ed7953"
             ],
             [
              0.7777777777777778,
              "#fb9f3a"
             ],
             [
              0.8888888888888888,
              "#fdca26"
             ],
             [
              1,
              "#f0f921"
             ]
            ],
            "type": "surface"
           }
          ],
          "table": [
           {
            "cells": {
             "fill": {
              "color": "#EBF0F8"
             },
             "line": {
              "color": "white"
             }
            },
            "header": {
             "fill": {
              "color": "#C8D4E3"
             },
             "line": {
              "color": "white"
             }
            },
            "type": "table"
           }
          ]
         },
         "layout": {
          "annotationdefaults": {
           "arrowcolor": "#2a3f5f",
           "arrowhead": 0,
           "arrowwidth": 1
          },
          "autotypenumbers": "strict",
          "coloraxis": {
           "colorbar": {
            "outlinewidth": 0,
            "ticks": ""
           }
          },
          "colorscale": {
           "diverging": [
            [
             0,
             "#8e0152"
            ],
            [
             0.1,
             "#c51b7d"
            ],
            [
             0.2,
             "#de77ae"
            ],
            [
             0.3,
             "#f1b6da"
            ],
            [
             0.4,
             "#fde0ef"
            ],
            [
             0.5,
             "#f7f7f7"
            ],
            [
             0.6,
             "#e6f5d0"
            ],
            [
             0.7,
             "#b8e186"
            ],
            [
             0.8,
             "#7fbc41"
            ],
            [
             0.9,
             "#4d9221"
            ],
            [
             1,
             "#276419"
            ]
           ],
           "sequential": [
            [
             0,
             "#0d0887"
            ],
            [
             0.1111111111111111,
             "#46039f"
            ],
            [
             0.2222222222222222,
             "#7201a8"
            ],
            [
             0.3333333333333333,
             "#9c179e"
            ],
            [
             0.4444444444444444,
             "#bd3786"
            ],
            [
             0.5555555555555556,
             "#d8576b"
            ],
            [
             0.6666666666666666,
             "#ed7953"
            ],
            [
             0.7777777777777778,
             "#fb9f3a"
            ],
            [
             0.8888888888888888,
             "#fdca26"
            ],
            [
             1,
             "#f0f921"
            ]
           ],
           "sequentialminus": [
            [
             0,
             "#0d0887"
            ],
            [
             0.1111111111111111,
             "#46039f"
            ],
            [
             0.2222222222222222,
             "#7201a8"
            ],
            [
             0.3333333333333333,
             "#9c179e"
            ],
            [
             0.4444444444444444,
             "#bd3786"
            ],
            [
             0.5555555555555556,
             "#d8576b"
            ],
            [
             0.6666666666666666,
             "#ed7953"
            ],
            [
             0.7777777777777778,
             "#fb9f3a"
            ],
            [
             0.8888888888888888,
             "#fdca26"
            ],
            [
             1,
             "#f0f921"
            ]
           ]
          },
          "colorway": [
           "#636efa",
           "#EF553B",
           "#00cc96",
           "#ab63fa",
           "#FFA15A",
           "#19d3f3",
           "#FF6692",
           "#B6E880",
           "#FF97FF",
           "#FECB52"
          ],
          "font": {
           "color": "#2a3f5f"
          },
          "geo": {
           "bgcolor": "white",
           "lakecolor": "white",
           "landcolor": "#E5ECF6",
           "showlakes": true,
           "showland": true,
           "subunitcolor": "white"
          },
          "hoverlabel": {
           "align": "left"
          },
          "hovermode": "closest",
          "mapbox": {
           "style": "light"
          },
          "paper_bgcolor": "white",
          "plot_bgcolor": "#E5ECF6",
          "polar": {
           "angularaxis": {
            "gridcolor": "white",
            "linecolor": "white",
            "ticks": ""
           },
           "bgcolor": "#E5ECF6",
           "radialaxis": {
            "gridcolor": "white",
            "linecolor": "white",
            "ticks": ""
           }
          },
          "scene": {
           "xaxis": {
            "backgroundcolor": "#E5ECF6",
            "gridcolor": "white",
            "gridwidth": 2,
            "linecolor": "white",
            "showbackground": true,
            "ticks": "",
            "zerolinecolor": "white"
           },
           "yaxis": {
            "backgroundcolor": "#E5ECF6",
            "gridcolor": "white",
            "gridwidth": 2,
            "linecolor": "white",
            "showbackground": true,
            "ticks": "",
            "zerolinecolor": "white"
           },
           "zaxis": {
            "backgroundcolor": "#E5ECF6",
            "gridcolor": "white",
            "gridwidth": 2,
            "linecolor": "white",
            "showbackground": true,
            "ticks": "",
            "zerolinecolor": "white"
           }
          },
          "shapedefaults": {
           "line": {
            "color": "#2a3f5f"
           }
          },
          "ternary": {
           "aaxis": {
            "gridcolor": "white",
            "linecolor": "white",
            "ticks": ""
           },
           "baxis": {
            "gridcolor": "white",
            "linecolor": "white",
            "ticks": ""
           },
           "bgcolor": "#E5ECF6",
           "caxis": {
            "gridcolor": "white",
            "linecolor": "white",
            "ticks": ""
           }
          },
          "title": {
           "x": 0.05
          },
          "xaxis": {
           "automargin": true,
           "gridcolor": "white",
           "linecolor": "white",
           "ticks": "",
           "title": {
            "standoff": 15
           },
           "zerolinecolor": "white",
           "zerolinewidth": 2
          },
          "yaxis": {
           "automargin": true,
           "gridcolor": "white",
           "linecolor": "white",
           "ticks": "",
           "title": {
            "standoff": 15
           },
           "zerolinecolor": "white",
           "zerolinewidth": 2
          }
         }
        },
        "title": {
         "text": "Haken 1, Trajektorien-Ansatz 2"
        }
       }
      }
     },
     "metadata": {},
     "output_type": "display_data"
    },
    {
     "name": "stdout",
     "output_type": "stream",
     "text": [
      "HTML-Datei '/home/mo/Thesis/Evaluation/Trajektorientests/traj3.html' erfolgreich erstellt!\n"
     ]
    },
    {
     "data": {
      "application/vnd.plotly.v1+json": {
       "config": {
        "plotlyServerURL": "https://plot.ly"
       },
       "data": [
        {
         "color": "rgba(31, 119, 180, 0.8)",
         "name": "P1",
         "opacity": 0.8,
         "type": "mesh3d",
         "x": [
          66.32047899821877,
          73.1487912119005,
          71.16263285361352,
          64.33432063993179
         ],
         "y": [
          -504.31292502032227,
          -501.0476533151397,
          -505.5711250162266,
          -508.83639672140913
         ],
         "z": [
          324.88549989417015,
          327.47628220918995,
          338.41215797408745,
          335.82137565906766
         ]
        },
        {
         "marker": {
          "color": "red",
          "size": 3
         },
         "mode": "markers+text",
         "showlegend": false,
         "text": "",
         "textfont": {
          "size": 12
         },
         "textposition": "top center",
         "type": "scatter3d",
         "x": [
          68.74155592591615
         ],
         "y": [
          -504.9420250182744
         ],
         "z": [
          331.6488289341288
         ]
        },
        {
         "line": {
          "color": "rgba(31, 119, 180, 0.8)",
          "width": 4
         },
         "mode": "lines",
         "showlegend": false,
         "type": "scatter3d",
         "x": [
          66.32047899821877,
          73.1487912119005
         ],
         "y": [
          -504.31292502032227,
          -501.0476533151397
         ],
         "z": [
          324.88549989417015,
          327.47628220918995
         ]
        },
        {
         "line": {
          "color": "rgba(31, 119, 180, 0.8)",
          "width": 4
         },
         "mode": "lines",
         "showlegend": false,
         "type": "scatter3d",
         "x": [
          73.1487912119005,
          71.16263285361352
         ],
         "y": [
          -501.0476533151397,
          -505.5711250162266
         ],
         "z": [
          327.47628220918995,
          338.41215797408745
         ]
        },
        {
         "line": {
          "color": "rgba(31, 119, 180, 0.8)",
          "width": 4
         },
         "mode": "lines",
         "showlegend": false,
         "type": "scatter3d",
         "x": [
          71.16263285361352,
          64.33432063993179
         ],
         "y": [
          -505.5711250162266,
          -508.83639672140913
         ],
         "z": [
          338.41215797408745,
          335.82137565906766
         ]
        },
        {
         "line": {
          "color": "rgba(31, 119, 180, 0.8)",
          "width": 4
         },
         "mode": "lines",
         "showlegend": false,
         "type": "scatter3d",
         "x": [
          64.33432063993179,
          66.32047899821877
         ],
         "y": [
          -508.83639672140913,
          -504.31292502032227
         ],
         "z": [
          335.82137565906766,
          324.88549989417015
         ]
        },
        {
         "color": "rgba(174, 199, 232, 0.8)",
         "name": "P2",
         "opacity": 0.8,
         "type": "mesh3d",
         "x": [
          61.97482152401579,
          68.80313373769751,
          66.81697537941052,
          59.988663165728795
         ],
         "y": [
          -498.7626144955748,
          -495.4973427903922,
          -500.0208144914791,
          -503.28608619666164
         ],
         "z": [
          331.6301600233396,
          334.2209423383594,
          345.1568181032569,
          342.5660357882371
         ]
        },
        {
         "marker": {
          "color": "red",
          "size": 3
         },
         "mode": "markers+text",
         "showlegend": false,
         "text": "",
         "textfont": {
          "size": 12
         },
         "textposition": "top center",
         "type": "scatter3d",
         "x": [
          64.39589845171315
         ],
         "y": [
          -499.39171449352693
         ],
         "z": [
          338.39348906329826
         ]
        },
        {
         "line": {
          "color": "rgba(174, 199, 232, 0.8)",
          "width": 4
         },
         "mode": "lines",
         "showlegend": false,
         "type": "scatter3d",
         "x": [
          61.97482152401579,
          68.80313373769751
         ],
         "y": [
          -498.7626144955748,
          -495.4973427903922
         ],
         "z": [
          331.6301600233396,
          334.2209423383594
         ]
        },
        {
         "line": {
          "color": "rgba(174, 199, 232, 0.8)",
          "width": 4
         },
         "mode": "lines",
         "showlegend": false,
         "type": "scatter3d",
         "x": [
          68.80313373769751,
          66.81697537941052
         ],
         "y": [
          -495.4973427903922,
          -500.0208144914791
         ],
         "z": [
          334.2209423383594,
          345.1568181032569
         ]
        },
        {
         "line": {
          "color": "rgba(174, 199, 232, 0.8)",
          "width": 4
         },
         "mode": "lines",
         "showlegend": false,
         "type": "scatter3d",
         "x": [
          66.81697537941052,
          59.988663165728795
         ],
         "y": [
          -500.0208144914791,
          -503.28608619666164
         ],
         "z": [
          345.1568181032569,
          342.5660357882371
         ]
        },
        {
         "line": {
          "color": "rgba(174, 199, 232, 0.8)",
          "width": 4
         },
         "mode": "lines",
         "showlegend": false,
         "type": "scatter3d",
         "x": [
          59.988663165728795,
          61.97482152401579
         ],
         "y": [
          -503.28608619666164,
          -498.7626144955748
         ],
         "z": [
          342.5660357882371,
          331.6301600233396
         ]
        },
        {
         "color": "rgba(255, 187, 120, 0.8)",
         "name": "P3",
         "opacity": 0.8,
         "type": "mesh3d",
         "x": [
          61.70095630925169,
          68.5292685229334,
          66.54311016464642,
          59.714797950964694
         ],
         "y": [
          -497.74567697711404,
          -494.4804052719315,
          -499.00387697301835,
          -502.2691486782009
         ],
         "z": [
          332.6649151335801,
          335.2556974485999,
          346.1915732134974,
          343.6007908984776
         ]
        },
        {
         "marker": {
          "color": "red",
          "size": 3
         },
         "mode": "markers+text",
         "showlegend": false,
         "text": "P2",
         "textfont": {
          "size": 12
         },
         "textposition": "top center",
         "type": "scatter3d",
         "x": [
          64.12203323694905
         ],
         "y": [
          -498.3747769750662
         ],
         "z": [
          339.4282441735387
         ]
        },
        {
         "line": {
          "color": "rgba(255, 187, 120, 0.8)",
          "width": 4
         },
         "mode": "lines",
         "showlegend": false,
         "type": "scatter3d",
         "x": [
          61.70095630925169,
          68.5292685229334
         ],
         "y": [
          -497.74567697711404,
          -494.4804052719315
         ],
         "z": [
          332.6649151335801,
          335.2556974485999
         ]
        },
        {
         "line": {
          "color": "rgba(255, 187, 120, 0.8)",
          "width": 4
         },
         "mode": "lines",
         "showlegend": false,
         "type": "scatter3d",
         "x": [
          68.5292685229334,
          66.54311016464642
         ],
         "y": [
          -494.4804052719315,
          -499.00387697301835
         ],
         "z": [
          335.2556974485999,
          346.1915732134974
         ]
        },
        {
         "line": {
          "color": "rgba(255, 187, 120, 0.8)",
          "width": 4
         },
         "mode": "lines",
         "showlegend": false,
         "type": "scatter3d",
         "x": [
          66.54311016464642,
          59.714797950964694
         ],
         "y": [
          -499.00387697301835,
          -502.2691486782009
         ],
         "z": [
          346.1915732134974,
          343.6007908984776
         ]
        },
        {
         "line": {
          "color": "rgba(255, 187, 120, 0.8)",
          "width": 4
         },
         "mode": "lines",
         "showlegend": false,
         "type": "scatter3d",
         "x": [
          59.714797950964694,
          61.70095630925169
         ],
         "y": [
          -502.2691486782009,
          -497.74567697711404
         ],
         "z": [
          343.6007908984776,
          332.6649151335801
         ]
        },
        {
         "color": "rgba(152, 223, 138, 0.8)",
         "name": "P4",
         "opacity": 0.8,
         "type": "mesh3d",
         "x": [
          61.137360703718564,
          67.96567291740028,
          65.9795145591133,
          59.15120234543157
         ],
         "y": [
          -496.7234846214787,
          -493.45821291629613,
          -497.981684617383,
          -501.24695632256555
         ],
         "z": [
          333.7545689378922,
          336.345351252912,
          347.2812270178095,
          344.6904447027897
         ]
        },
        {
         "marker": {
          "color": "red",
          "size": 3
         },
         "mode": "markers+text",
         "showlegend": false,
         "text": "P3",
         "textfont": {
          "size": 12
         },
         "textposition": "top center",
         "type": "scatter3d",
         "x": [
          63.55843763141593
         ],
         "y": [
          -497.3525846194309
         ],
         "z": [
          340.5178979778508
         ]
        },
        {
         "line": {
          "color": "rgba(152, 223, 138, 0.8)",
          "width": 4
         },
         "mode": "lines",
         "showlegend": false,
         "type": "scatter3d",
         "x": [
          61.137360703718564,
          67.96567291740028
         ],
         "y": [
          -496.7234846214787,
          -493.45821291629613
         ],
         "z": [
          333.7545689378922,
          336.345351252912
         ]
        },
        {
         "line": {
          "color": "rgba(152, 223, 138, 0.8)",
          "width": 4
         },
         "mode": "lines",
         "showlegend": false,
         "type": "scatter3d",
         "x": [
          67.96567291740028,
          65.9795145591133
         ],
         "y": [
          -493.45821291629613,
          -497.981684617383
         ],
         "z": [
          336.345351252912,
          347.2812270178095
         ]
        },
        {
         "line": {
          "color": "rgba(152, 223, 138, 0.8)",
          "width": 4
         },
         "mode": "lines",
         "showlegend": false,
         "type": "scatter3d",
         "x": [
          65.9795145591133,
          59.15120234543157
         ],
         "y": [
          -497.981684617383,
          -501.24695632256555
         ],
         "z": [
          347.2812270178095,
          344.6904447027897
         ]
        },
        {
         "line": {
          "color": "rgba(152, 223, 138, 0.8)",
          "width": 4
         },
         "mode": "lines",
         "showlegend": false,
         "type": "scatter3d",
         "x": [
          59.15120234543157,
          61.137360703718564
         ],
         "y": [
          -501.24695632256555,
          -496.7234846214787
         ],
         "z": [
          344.6904447027897,
          333.7545689378922
         ]
        },
        {
         "color": "rgba(255, 152, 150, 0.8)",
         "name": "P5",
         "opacity": 0.8,
         "type": "mesh3d",
         "x": [
          60.56984914867376,
          67.39816136235548,
          65.4120030040685,
          58.58369079038677
         ],
         "y": [
          -495.7666364133886,
          -492.50136470820604,
          -497.0248364092929,
          -500.29010811447546
         ],
         "z": [
          334.8507368496896,
          337.4415191647094,
          348.3773949296069,
          345.7866126145871
         ]
        },
        {
         "marker": {
          "color": "red",
          "size": 3
         },
         "mode": "markers+text",
         "showlegend": false,
         "text": "P4",
         "textfont": {
          "size": 12
         },
         "textposition": "top center",
         "type": "scatter3d",
         "x": [
          62.990926076371125
         ],
         "y": [
          -496.39573641134075
         ],
         "z": [
          341.61406588964826
         ]
        },
        {
         "line": {
          "color": "rgba(255, 152, 150, 0.8)",
          "width": 4
         },
         "mode": "lines",
         "showlegend": false,
         "type": "scatter3d",
         "x": [
          60.56984914867376,
          67.39816136235548
         ],
         "y": [
          -495.7666364133886,
          -492.50136470820604
         ],
         "z": [
          334.8507368496896,
          337.4415191647094
         ]
        },
        {
         "line": {
          "color": "rgba(255, 152, 150, 0.8)",
          "width": 4
         },
         "mode": "lines",
         "showlegend": false,
         "type": "scatter3d",
         "x": [
          67.39816136235548,
          65.4120030040685
         ],
         "y": [
          -492.50136470820604,
          -497.0248364092929
         ],
         "z": [
          337.4415191647094,
          348.3773949296069
         ]
        },
        {
         "line": {
          "color": "rgba(255, 152, 150, 0.8)",
          "width": 4
         },
         "mode": "lines",
         "showlegend": false,
         "type": "scatter3d",
         "x": [
          65.4120030040685,
          58.58369079038677
         ],
         "y": [
          -497.0248364092929,
          -500.29010811447546
         ],
         "z": [
          348.3773949296069,
          345.7866126145871
         ]
        },
        {
         "line": {
          "color": "rgba(255, 152, 150, 0.8)",
          "width": 4
         },
         "mode": "lines",
         "showlegend": false,
         "type": "scatter3d",
         "x": [
          58.58369079038677,
          60.56984914867376
         ],
         "y": [
          -500.29010811447546,
          -495.7666364133886
         ],
         "z": [
          345.7866126145871,
          334.8507368496896
         ]
        },
        {
         "color": "rgba(197, 176, 213, 0.8)",
         "name": "P6",
         "opacity": 0.8,
         "type": "mesh3d",
         "x": [
          59.84277983662553,
          66.67109205030725,
          64.68493369202027,
          57.85662147833854
         ],
         "y": [
          -494.6619822800594,
          -491.39671057487686,
          -495.9201822759637,
          -499.1854539811463
         ],
         "z": [
          334.9086679585963,
          337.4994502736161,
          348.4353260385136,
          345.8445437234938
         ]
        },
        {
         "marker": {
          "color": "red",
          "size": 3
         },
         "mode": "markers+text",
         "showlegend": false,
         "text": "P5",
         "textfont": {
          "size": 12
         },
         "textposition": "top center",
         "type": "scatter3d",
         "x": [
          62.263856764322895
         ],
         "y": [
          -495.2910822780116
         ],
         "z": [
          341.67199699855496
         ]
        },
        {
         "line": {
          "color": "rgba(197, 176, 213, 0.8)",
          "width": 4
         },
         "mode": "lines",
         "showlegend": false,
         "type": "scatter3d",
         "x": [
          59.84277983662553,
          66.67109205030725
         ],
         "y": [
          -494.6619822800594,
          -491.39671057487686
         ],
         "z": [
          334.9086679585963,
          337.4994502736161
         ]
        },
        {
         "line": {
          "color": "rgba(197, 176, 213, 0.8)",
          "width": 4
         },
         "mode": "lines",
         "showlegend": false,
         "type": "scatter3d",
         "x": [
          66.67109205030725,
          64.68493369202027
         ],
         "y": [
          -491.39671057487686,
          -495.9201822759637
         ],
         "z": [
          337.4994502736161,
          348.4353260385136
         ]
        },
        {
         "line": {
          "color": "rgba(197, 176, 213, 0.8)",
          "width": 4
         },
         "mode": "lines",
         "showlegend": false,
         "type": "scatter3d",
         "x": [
          64.68493369202027,
          57.85662147833854
         ],
         "y": [
          -495.9201822759637,
          -499.1854539811463
         ],
         "z": [
          348.4353260385136,
          345.8445437234938
         ]
        },
        {
         "line": {
          "color": "rgba(197, 176, 213, 0.8)",
          "width": 4
         },
         "mode": "lines",
         "showlegend": false,
         "type": "scatter3d",
         "x": [
          57.85662147833854,
          59.84277983662553
         ],
         "y": [
          -499.1854539811463,
          -494.6619822800594
         ],
         "z": [
          345.8445437234938,
          334.9086679585963
         ]
        },
        {
         "color": "rgba(140, 86, 75, 0.8)",
         "name": "P7",
         "opacity": 0.8,
         "type": "mesh3d",
         "x": [
          59.419623765792316,
          66.24793597947404,
          64.26177762118705,
          57.433465407505324
         ],
         "y": [
          -493.6049108378304,
          -490.33963913264785,
          -494.8631108337347,
          -498.12838253891726
         ],
         "z": [
          337.037074912039,
          339.62785722705877,
          350.5637329919563,
          347.9729506769365
         ]
        },
        {
         "marker": {
          "color": "red",
          "size": 3
         },
         "mode": "markers+text",
         "showlegend": false,
         "text": "P6",
         "textfont": {
          "size": 12
         },
         "textposition": "top center",
         "type": "scatter3d",
         "x": [
          61.84070069348968
         ],
         "y": [
          -494.23401083578256
         ],
         "z": [
          343.8004039519977
         ]
        },
        {
         "line": {
          "color": "rgba(140, 86, 75, 0.8)",
          "width": 4
         },
         "mode": "lines",
         "showlegend": false,
         "type": "scatter3d",
         "x": [
          59.419623765792316,
          66.24793597947404
         ],
         "y": [
          -493.6049108378304,
          -490.33963913264785
         ],
         "z": [
          337.037074912039,
          339.62785722705877
         ]
        },
        {
         "line": {
          "color": "rgba(140, 86, 75, 0.8)",
          "width": 4
         },
         "mode": "lines",
         "showlegend": false,
         "type": "scatter3d",
         "x": [
          66.24793597947404,
          64.26177762118705
         ],
         "y": [
          -490.33963913264785,
          -494.8631108337347
         ],
         "z": [
          339.62785722705877,
          350.5637329919563
         ]
        },
        {
         "line": {
          "color": "rgba(140, 86, 75, 0.8)",
          "width": 4
         },
         "mode": "lines",
         "showlegend": false,
         "type": "scatter3d",
         "x": [
          64.26177762118705,
          57.433465407505324
         ],
         "y": [
          -494.8631108337347,
          -498.12838253891726
         ],
         "z": [
          350.5637329919563,
          347.9729506769365
         ]
        },
        {
         "line": {
          "color": "rgba(140, 86, 75, 0.8)",
          "width": 4
         },
         "mode": "lines",
         "showlegend": false,
         "type": "scatter3d",
         "x": [
          57.433465407505324,
          59.419623765792316
         ],
         "y": [
          -498.12838253891726,
          -493.6049108378304
         ],
         "z": [
          347.9729506769365,
          337.037074912039
         ]
        },
        {
         "color": "rgba(227, 119, 194, 0.8)",
         "name": "P8",
         "opacity": 0.8,
         "type": "mesh3d",
         "x": [
          58.83760677800665,
          65.66591899168837,
          63.67976063340138,
          56.85144841971966
         ],
         "y": [
          -492.54812673551316,
          -489.2828550303306,
          -493.80632673141747,
          -497.0715984366
         ],
         "z": [
          338.13702512370946,
          340.72780743872926,
          351.66368320362676,
          349.07290088860697
         ]
        },
        {
         "marker": {
          "color": "red",
          "size": 3
         },
         "mode": "markers+text",
         "showlegend": false,
         "text": "P7",
         "textfont": {
          "size": 12
         },
         "textposition": "top center",
         "type": "scatter3d",
         "x": [
          61.258683705704016
         ],
         "y": [
          -493.17722673346526
         ],
         "z": [
          344.9003541636681
         ]
        },
        {
         "line": {
          "color": "rgba(227, 119, 194, 0.8)",
          "width": 4
         },
         "mode": "lines",
         "showlegend": false,
         "type": "scatter3d",
         "x": [
          58.83760677800665,
          65.66591899168837
         ],
         "y": [
          -492.54812673551316,
          -489.2828550303306
         ],
         "z": [
          338.13702512370946,
          340.72780743872926
         ]
        },
        {
         "line": {
          "color": "rgba(227, 119, 194, 0.8)",
          "width": 4
         },
         "mode": "lines",
         "showlegend": false,
         "type": "scatter3d",
         "x": [
          65.66591899168837,
          63.67976063340138
         ],
         "y": [
          -489.2828550303306,
          -493.80632673141747
         ],
         "z": [
          340.72780743872926,
          351.66368320362676
         ]
        },
        {
         "line": {
          "color": "rgba(227, 119, 194, 0.8)",
          "width": 4
         },
         "mode": "lines",
         "showlegend": false,
         "type": "scatter3d",
         "x": [
          63.67976063340138,
          56.85144841971966
         ],
         "y": [
          -493.80632673141747,
          -497.0715984366
         ],
         "z": [
          351.66368320362676,
          349.07290088860697
         ]
        },
        {
         "line": {
          "color": "rgba(227, 119, 194, 0.8)",
          "width": 4
         },
         "mode": "lines",
         "showlegend": false,
         "type": "scatter3d",
         "x": [
          56.85144841971966,
          58.83760677800665
         ],
         "y": [
          -497.0715984366,
          -492.54812673551316
         ],
         "z": [
          349.07290088860697,
          338.13702512370946
         ]
        },
        {
         "color": "rgba(127, 127, 127, 0.8)",
         "name": "P9",
         "opacity": 0.8,
         "type": "mesh3d",
         "x": [
          58.10216454711854,
          64.93047676080026,
          62.94431840251327,
          56.11600618883155
         ],
         "y": [
          -491.65385272136626,
          -488.3885810161837,
          -492.91205271727057,
          -496.1773244224531
         ],
         "z": [
          338.1931924113931,
          340.7839747264129,
          351.7198504913104,
          349.1290681762906
         ]
        },
        {
         "marker": {
          "color": "red",
          "size": 3
         },
         "mode": "markers+text",
         "showlegend": false,
         "text": "P8",
         "textfont": {
          "size": 12
         },
         "textposition": "top center",
         "type": "scatter3d",
         "x": [
          60.523241474815904
         ],
         "y": [
          -492.2829527193185
         ],
         "z": [
          344.9565214513517
         ]
        },
        {
         "line": {
          "color": "rgba(127, 127, 127, 0.8)",
          "width": 4
         },
         "mode": "lines",
         "showlegend": false,
         "type": "scatter3d",
         "x": [
          58.10216454711854,
          64.93047676080026
         ],
         "y": [
          -491.65385272136626,
          -488.3885810161837
         ],
         "z": [
          338.1931924113931,
          340.7839747264129
         ]
        },
        {
         "line": {
          "color": "rgba(127, 127, 127, 0.8)",
          "width": 4
         },
         "mode": "lines",
         "showlegend": false,
         "type": "scatter3d",
         "x": [
          64.93047676080026,
          62.94431840251327
         ],
         "y": [
          -488.3885810161837,
          -492.91205271727057
         ],
         "z": [
          340.7839747264129,
          351.7198504913104
         ]
        },
        {
         "line": {
          "color": "rgba(127, 127, 127, 0.8)",
          "width": 4
         },
         "mode": "lines",
         "showlegend": false,
         "type": "scatter3d",
         "x": [
          62.94431840251327,
          56.11600618883155
         ],
         "y": [
          -492.91205271727057,
          -496.1773244224531
         ],
         "z": [
          351.7198504913104,
          349.1290681762906
         ]
        },
        {
         "line": {
          "color": "rgba(127, 127, 127, 0.8)",
          "width": 4
         },
         "mode": "lines",
         "showlegend": false,
         "type": "scatter3d",
         "x": [
          56.11600618883155,
          58.10216454711854
         ],
         "y": [
          -496.1773244224531,
          -491.65385272136626
         ],
         "z": [
          349.1290681762906,
          338.1931924113931
         ]
        },
        {
         "color": "rgba(188, 189, 34, 0.8)",
         "name": "P10",
         "opacity": 0.8,
         "type": "mesh3d",
         "x": [
          56.92673210361084,
          63.75504431729256,
          61.768885959005566,
          54.940573745323846
         ],
         "y": [
          -491.2673513207776,
          -488.00207961559505,
          -492.5255513166819,
          -495.79082302186447
         ],
         "z": [
          339.41253724178364,
          342.00331955680343,
          352.93919532170094,
          350.34841300668114
         ]
        },
        {
         "marker": {
          "color": "red",
          "size": 3
         },
         "mode": "markers+text",
         "showlegend": false,
         "text": "P9",
         "textfont": {
          "size": 12
         },
         "textposition": "top center",
         "type": "scatter3d",
         "x": [
          59.3478090313082
         ],
         "y": [
          -491.89645131872976
         ],
         "z": [
          346.1758662817423
         ]
        },
        {
         "line": {
          "color": "rgba(188, 189, 34, 0.8)",
          "width": 4
         },
         "mode": "lines",
         "showlegend": false,
         "type": "scatter3d",
         "x": [
          56.92673210361084,
          63.75504431729256
         ],
         "y": [
          -491.2673513207776,
          -488.00207961559505
         ],
         "z": [
          339.41253724178364,
          342.00331955680343
         ]
        },
        {
         "line": {
          "color": "rgba(188, 189, 34, 0.8)",
          "width": 4
         },
         "mode": "lines",
         "showlegend": false,
         "type": "scatter3d",
         "x": [
          63.75504431729256,
          61.768885959005566
         ],
         "y": [
          -488.00207961559505,
          -492.5255513166819
         ],
         "z": [
          342.00331955680343,
          352.93919532170094
         ]
        },
        {
         "line": {
          "color": "rgba(188, 189, 34, 0.8)",
          "width": 4
         },
         "mode": "lines",
         "showlegend": false,
         "type": "scatter3d",
         "x": [
          61.768885959005566,
          54.940573745323846
         ],
         "y": [
          -492.5255513166819,
          -495.79082302186447
         ],
         "z": [
          352.93919532170094,
          350.34841300668114
         ]
        },
        {
         "line": {
          "color": "rgba(188, 189, 34, 0.8)",
          "width": 4
         },
         "mode": "lines",
         "showlegend": false,
         "type": "scatter3d",
         "x": [
          54.940573745323846,
          56.92673210361084
         ],
         "y": [
          -495.79082302186447,
          -491.2673513207776
         ],
         "z": [
          350.34841300668114,
          339.41253724178364
         ]
        },
        {
         "color": "rgba(23, 190, 207, 0.8)",
         "name": "P11",
         "opacity": 0.8,
         "type": "mesh3d",
         "x": [
          55.883490396375855,
          62.711802610057575,
          60.72564425177058,
          53.89733203808886
         ],
         "y": [
          -491.08178939757295,
          -487.8165176923904,
          -492.33998939347725,
          -495.6052610986598
         ],
         "z": [
          341.71512498769886,
          344.30590730271865,
          355.24178306761615,
          352.65100075259636
         ]
        },
        {
         "marker": {
          "color": "red",
          "size": 3
         },
         "mode": "markers+text",
         "showlegend": false,
         "text": "",
         "textfont": {
          "size": 12
         },
         "textposition": "top center",
         "type": "scatter3d",
         "x": [
          58.30456732407322
         ],
         "y": [
          -491.7108893955251
         ],
         "z": [
          348.47845402765745
         ]
        },
        {
         "line": {
          "color": "rgba(23, 190, 207, 0.8)",
          "width": 4
         },
         "mode": "lines",
         "showlegend": false,
         "type": "scatter3d",
         "x": [
          55.883490396375855,
          62.711802610057575
         ],
         "y": [
          -491.08178939757295,
          -487.8165176923904
         ],
         "z": [
          341.71512498769886,
          344.30590730271865
         ]
        },
        {
         "line": {
          "color": "rgba(23, 190, 207, 0.8)",
          "width": 4
         },
         "mode": "lines",
         "showlegend": false,
         "type": "scatter3d",
         "x": [
          62.711802610057575,
          60.72564425177058
         ],
         "y": [
          -487.8165176923904,
          -492.33998939347725
         ],
         "z": [
          344.30590730271865,
          355.24178306761615
         ]
        },
        {
         "line": {
          "color": "rgba(23, 190, 207, 0.8)",
          "width": 4
         },
         "mode": "lines",
         "showlegend": false,
         "type": "scatter3d",
         "x": [
          60.72564425177058,
          53.89733203808886
         ],
         "y": [
          -492.33998939347725,
          -495.6052610986598
         ],
         "z": [
          355.24178306761615,
          352.65100075259636
         ]
        },
        {
         "line": {
          "color": "rgba(23, 190, 207, 0.8)",
          "width": 4
         },
         "mode": "lines",
         "showlegend": false,
         "type": "scatter3d",
         "x": [
          53.89733203808886,
          55.883490396375855
         ],
         "y": [
          -495.6052610986598,
          -491.08178939757295
         ],
         "z": [
          352.65100075259636,
          341.71512498769886
         ]
        },
        {
         "line": {
          "color": "black",
          "width": 2
         },
         "mode": "lines",
         "name": "Berechnete Hakenlinie",
         "type": "scatter3d",
         "x": {
          "bdata": "wH38pnUvUUBIqXVmVhlQQChufmTPB1BAwORh4nrHT0BAYmmq1n5PQDDM9g7GIU9AoCGQFJzrTkDgADSMHKFOQGAfn5P5Qk5AcFyfAYWsTUCQKeQP/CZNQA==",
          "dtype": "f8"
         },
         "y": {
          "bdata": "CljTiBKPf8AUsWp2RDZ/wEAzJBb/JX/AdBjFL6QVf8C4CLTvVAZ/wBQI5EWo9H7AiGklgr7jfsBdA7Pr1dJ+wJg8bvmGxH7AaIZW3Ve+fsCoDY/NX7t+wA==",
          "dtype": "f8"
         },
         "z": {
          "bdata": "gsxymmG6dEAyIzC7SyZ1QNIAkBbaNnVAithjT0lIdUAOGsE201l1QNy87H/AWnVAtdZfdM58dUBafMTZZ451QKb3b+lNj3VA1ogpWdCidUDaFmm/p8d1QA==",
          "dtype": "f8"
         }
        },
        {
         "mode": "text",
         "showlegend": false,
         "text": [
          "Pre-Position"
         ],
         "textfont": {
          "size": 10
         },
         "textposition": "top center",
         "type": "scatter3d",
         "x": [
          68.74155592591615
         ],
         "y": [
          -504.9420250182744
         ],
         "z": [
          331.6488289341288
         ]
        },
        {
         "mode": "text",
         "showlegend": false,
         "text": [
          "Loslassen"
         ],
         "textfont": {
          "size": 10
         },
         "textposition": "top center",
         "type": "scatter3d",
         "x": [
          58.30456732407322
         ],
         "y": [
          -491.7108893955251
         ],
         "z": [
          348.47845402765745
         ]
        },
        {
         "color": "rgba(0,255,0,0.2)",
         "name": "optimale Trajektorie",
         "opacity": 0.8,
         "type": "mesh3d",
         "x": [
          73.16465385558409,
          76.96728057390457,
          70.74790882498122,
          66.94528210666074
         ],
         "y": [
          -504.2039154533274,
          -500.30855385450377,
          -506.52536275171707,
          -510.4207243505407
         ],
         "z": [
          328.1505419264636,
          334.01281009292654,
          342.1780230224357,
          336.3157548559727
         ]
        },
        {
         "line": {
          "color": "rgba(0,255,0,0.2)",
          "width": 3
         },
         "mode": "lines",
         "showlegend": false,
         "type": "scatter3d",
         "x": [
          73.16465385558409,
          76.96728057390457
         ],
         "y": [
          -504.2039154533274,
          -500.30855385450377
         ],
         "z": [
          328.1505419264636,
          334.01281009292654
         ]
        },
        {
         "line": {
          "color": "rgba(0,255,0,0.2)",
          "width": 3
         },
         "mode": "lines",
         "showlegend": false,
         "type": "scatter3d",
         "x": [
          76.96728057390457,
          70.74790882498122
         ],
         "y": [
          -500.30855385450377,
          -506.52536275171707
         ],
         "z": [
          334.01281009292654,
          342.1780230224357
         ]
        },
        {
         "line": {
          "color": "rgba(0,255,0,0.2)",
          "width": 3
         },
         "mode": "lines",
         "showlegend": false,
         "type": "scatter3d",
         "x": [
          70.74790882498122,
          66.94528210666074
         ],
         "y": [
          -506.52536275171707,
          -510.4207243505407
         ],
         "z": [
          342.1780230224357,
          336.3157548559727
         ]
        },
        {
         "line": {
          "color": "rgba(0,255,0,0.2)",
          "width": 3
         },
         "mode": "lines",
         "showlegend": false,
         "type": "scatter3d",
         "x": [
          66.94528210666074,
          73.16465385558409
         ],
         "y": [
          -510.4207243505407,
          -504.2039154533274
         ],
         "z": [
          336.3157548559727,
          328.1505419264636
         ]
        },
        {
         "marker": {
          "color": "green",
          "size": 4
         },
         "mode": "markers",
         "name": "Mitte P11",
         "showlegend": false,
         "type": "scatter3d",
         "x": [
          71.95628134028266
         ],
         "y": [
          -505.36463910252223
         ],
         "z": [
          335.16428247444964
         ]
        },
        {
         "color": "rgba(0,255,0,0.2)",
         "name": "optimale Trajektorie",
         "opacity": 0.8,
         "type": "mesh3d",
         "x": [
          70.55192798672024,
          74.4578268729207,
          68.33259404109512,
          64.42669515489466
         ],
         "y": [
          -497.94935780314415,
          -493.99668169405334,
          -500.0798867421164,
          -504.0325628512072
         ],
         "z": [
          339.13527099364444,
          344.89029536087355,
          353.22553015655546,
          347.47050578932635
         ]
        },
        {
         "line": {
          "color": "rgba(0,255,0,0.2)",
          "width": 3
         },
         "mode": "lines",
         "showlegend": false,
         "type": "scatter3d",
         "x": [
          70.55192798672024,
          74.4578268729207
         ],
         "y": [
          -497.94935780314415,
          -493.99668169405334
         ],
         "z": [
          339.13527099364444,
          344.89029536087355
         ]
        },
        {
         "line": {
          "color": "rgba(0,255,0,0.2)",
          "width": 3
         },
         "mode": "lines",
         "showlegend": false,
         "type": "scatter3d",
         "x": [
          74.4578268729207,
          68.33259404109512
         ],
         "y": [
          -493.99668169405334,
          -500.0798867421164
         ],
         "z": [
          344.89029536087355,
          353.22553015655546
         ]
        },
        {
         "line": {
          "color": "rgba(0,255,0,0.2)",
          "width": 3
         },
         "mode": "lines",
         "showlegend": false,
         "type": "scatter3d",
         "x": [
          68.33259404109512,
          64.42669515489466
         ],
         "y": [
          -500.0798867421164,
          -504.0325628512072
         ],
         "z": [
          353.22553015655546,
          347.47050578932635
         ]
        },
        {
         "line": {
          "color": "rgba(0,255,0,0.2)",
          "width": 3
         },
         "mode": "lines",
         "showlegend": false,
         "type": "scatter3d",
         "x": [
          64.42669515489466,
          70.55192798672024
         ],
         "y": [
          -504.0325628512072,
          -497.94935780314415
         ],
         "z": [
          347.47050578932635,
          339.13527099364444
         ]
        },
        {
         "marker": {
          "color": "green",
          "size": 4
         },
         "mode": "markers",
         "name": "Mitte P11",
         "showlegend": false,
         "type": "scatter3d",
         "x": [
          69.44226101390768
         ],
         "y": [
          -499.0146222726303
         ],
         "z": [
          346.18040057509995
         ]
        },
        {
         "color": "rgba(0,255,0,0.2)",
         "name": "optimale Trajektorie",
         "opacity": 0.8,
         "type": "mesh3d",
         "x": [
          68.49663086328412,
          72.43359805957903,
          66.36739240410058,
          62.430425207805676
         ],
         "y": [
          -495.76427350028086,
          -491.8033543209922,
          -497.88832744037234,
          -501.849246619661
         ],
         "z": [
          339.6708927511294,
          345.39901709950385,
          353.77602438623,
          348.0479000378555
         ]
        },
        {
         "line": {
          "color": "rgba(0,255,0,0.2)",
          "width": 3
         },
         "mode": "lines",
         "showlegend": false,
         "type": "scatter3d",
         "x": [
          68.49663086328412,
          72.43359805957903
         ],
         "y": [
          -495.76427350028086,
          -491.8033543209922
         ],
         "z": [
          339.6708927511294,
          345.39901709950385
         ]
        },
        {
         "line": {
          "color": "rgba(0,255,0,0.2)",
          "width": 3
         },
         "mode": "lines",
         "showlegend": false,
         "type": "scatter3d",
         "x": [
          72.43359805957903,
          66.36739240410058
         ],
         "y": [
          -491.8033543209922,
          -497.88832744037234
         ],
         "z": [
          345.39901709950385,
          353.77602438623
         ]
        },
        {
         "line": {
          "color": "rgba(0,255,0,0.2)",
          "width": 3
         },
         "mode": "lines",
         "showlegend": false,
         "type": "scatter3d",
         "x": [
          66.36739240410058,
          62.430425207805676
         ],
         "y": [
          -497.88832744037234,
          -501.849246619661
         ],
         "z": [
          353.77602438623,
          348.0479000378555
         ]
        },
        {
         "line": {
          "color": "rgba(0,255,0,0.2)",
          "width": 3
         },
         "mode": "lines",
         "showlegend": false,
         "type": "scatter3d",
         "x": [
          62.430425207805676,
          68.49663086328412
         ],
         "y": [
          -501.849246619661,
          -495.76427350028086
         ],
         "z": [
          348.0479000378555,
          339.6708927511294
         ]
        },
        {
         "marker": {
          "color": "green",
          "size": 4
         },
         "mode": "markers",
         "name": "Mitte P11",
         "showlegend": false,
         "type": "scatter3d",
         "x": [
          67.43201163369235
         ],
         "y": [
          -496.8263004703266
         ],
         "z": [
          346.7234585686797
         ]
        },
        {
         "color": "rgba(0,255,0,0.2)",
         "name": "optimale Trajektorie",
         "opacity": 0.8,
         "type": "mesh3d",
         "x": [
          67.8186744526851,
          71.75120890667846,
          65.66120223856485,
          61.728667784571506
         ],
         "y": [
          -493.57613537690315,
          -489.6241159343607,
          -495.7048070608846,
          -499.65682650342706
         ],
         "z": [
          341.4191178059707,
          347.1564268523723,
          355.5192621494558,
          349.7819531030542
         ]
        },
        {
         "line": {
          "color": "rgba(0,255,0,0.2)",
          "width": 3
         },
         "mode": "lines",
         "showlegend": false,
         "type": "scatter3d",
         "x": [
          67.8186744526851,
          71.75120890667846
         ],
         "y": [
          -493.57613537690315,
          -489.6241159343607
         ],
         "z": [
          341.4191178059707,
          347.1564268523723
         ]
        },
        {
         "line": {
          "color": "rgba(0,255,0,0.2)",
          "width": 3
         },
         "mode": "lines",
         "showlegend": false,
         "type": "scatter3d",
         "x": [
          71.75120890667846,
          65.66120223856485
         ],
         "y": [
          -489.6241159343607,
          -495.7048070608846
         ],
         "z": [
          347.1564268523723,
          355.5192621494558
         ]
        },
        {
         "line": {
          "color": "rgba(0,255,0,0.2)",
          "width": 3
         },
         "mode": "lines",
         "showlegend": false,
         "type": "scatter3d",
         "x": [
          65.66120223856485,
          61.728667784571506
         ],
         "y": [
          -495.7048070608846,
          -499.65682650342706
         ],
         "z": [
          355.5192621494558,
          349.7819531030542
         ]
        },
        {
         "line": {
          "color": "rgba(0,255,0,0.2)",
          "width": 3
         },
         "mode": "lines",
         "showlegend": false,
         "type": "scatter3d",
         "x": [
          61.728667784571506,
          67.8186744526851
         ],
         "y": [
          -499.65682650342706,
          -493.57613537690315
         ],
         "z": [
          349.7819531030542,
          341.4191178059707
         ]
        },
        {
         "marker": {
          "color": "green",
          "size": 4
         },
         "mode": "markers",
         "name": "Mitte P11",
         "showlegend": false,
         "type": "scatter3d",
         "x": [
          66.73993834562498
         ],
         "y": [
          -494.6404712188939
         ],
         "z": [
          348.4691899777132
         ]
        },
        {
         "color": "rgba(0,255,0,0.2)",
         "name": "optimale Trajektorie",
         "opacity": 0.8,
         "type": "mesh3d",
         "x": [
          65.13271172420566,
          69.04157873531966,
          62.91388467460539,
          59.00501766349141
         ],
         "y": [
          -489.8409896939866,
          -485.9045923688432,
          -492.00459377698525,
          -495.94099110212863
         ],
         "z": [
          343.69351379052625,
          349.4576732945675,
          357.77881193774317,
          352.01465243370194
         ]
        },
        {
         "line": {
          "color": "rgba(0,255,0,0.2)",
          "width": 3
         },
         "mode": "lines",
         "showlegend": false,
         "type": "scatter3d",
         "x": [
          65.13271172420566,
          69.04157873531966
         ],
         "y": [
          -489.8409896939866,
          -485.9045923688432
         ],
         "z": [
          343.69351379052625,
          349.4576732945675
         ]
        },
        {
         "line": {
          "color": "rgba(0,255,0,0.2)",
          "width": 3
         },
         "mode": "lines",
         "showlegend": false,
         "type": "scatter3d",
         "x": [
          69.04157873531966,
          62.91388467460539
         ],
         "y": [
          -485.9045923688432,
          -492.00459377698525
         ],
         "z": [
          349.4576732945675,
          357.77881193774317
         ]
        },
        {
         "line": {
          "color": "rgba(0,255,0,0.2)",
          "width": 3
         },
         "mode": "lines",
         "showlegend": false,
         "type": "scatter3d",
         "x": [
          62.91388467460539,
          59.00501766349141
         ],
         "y": [
          -492.00459377698525,
          -495.94099110212863
         ],
         "z": [
          357.77881193774317,
          352.01465243370194
         ]
        },
        {
         "line": {
          "color": "rgba(0,255,0,0.2)",
          "width": 3
         },
         "mode": "lines",
         "showlegend": false,
         "type": "scatter3d",
         "x": [
          59.00501766349141,
          65.13271172420566
         ],
         "y": [
          -495.94099110212863,
          -489.8409896939866
         ],
         "z": [
          352.01465243370194,
          343.69351379052625
         ]
        },
        {
         "marker": {
          "color": "green",
          "size": 4
         },
         "mode": "markers",
         "name": "Mitte P11",
         "showlegend": false,
         "type": "scatter3d",
         "x": [
          64.02329819940553
         ],
         "y": [
          -490.92279173548593
         ],
         "z": [
          350.7361628641347
         ]
        },
        {
         "color": "rgba(0,255,0,0.2)",
         "name": "optimale Trajektorie",
         "opacity": 0.8,
         "type": "mesh3d",
         "x": [
          64.17360527435662,
          66.09264635425508,
          62.861045194151,
          60.94200411425253
         ],
         "y": [
          -489.3165652212355,
          -484.19072463042096,
          -492.32508560323396,
          -497.4509261940485
         ],
         "z": [
          344.1949749676815,
          350.0296163080914,
          358.23869210905656,
          352.40405076864664
         ]
        },
        {
         "line": {
          "color": "rgba(0,255,0,0.2)",
          "width": 3
         },
         "mode": "lines",
         "showlegend": false,
         "type": "scatter3d",
         "x": [
          64.17360527435662,
          66.09264635425508
         ],
         "y": [
          -489.3165652212355,
          -484.19072463042096
         ],
         "z": [
          344.1949749676815,
          350.0296163080914
         ]
        },
        {
         "line": {
          "color": "rgba(0,255,0,0.2)",
          "width": 3
         },
         "mode": "lines",
         "showlegend": false,
         "type": "scatter3d",
         "x": [
          66.09264635425508,
          62.861045194151
         ],
         "y": [
          -484.19072463042096,
          -492.32508560323396
         ],
         "z": [
          350.0296163080914,
          358.23869210905656
         ]
        },
        {
         "line": {
          "color": "rgba(0,255,0,0.2)",
          "width": 3
         },
         "mode": "lines",
         "showlegend": false,
         "type": "scatter3d",
         "x": [
          62.861045194151,
          60.94200411425253
         ],
         "y": [
          -492.32508560323396,
          -497.4509261940485
         ],
         "z": [
          358.23869210905656,
          352.40405076864664
         ]
        },
        {
         "line": {
          "color": "rgba(0,255,0,0.2)",
          "width": 3
         },
         "mode": "lines",
         "showlegend": false,
         "type": "scatter3d",
         "x": [
          60.94200411425253,
          64.17360527435662
         ],
         "y": [
          -497.4509261940485,
          -489.3165652212355
         ],
         "z": [
          352.40405076864664,
          344.1949749676815
         ]
        },
        {
         "marker": {
          "color": "green",
          "size": 4
         },
         "mode": "markers",
         "name": "Mitte P11",
         "showlegend": false,
         "type": "scatter3d",
         "x": [
          63.51732523425381
         ],
         "y": [
          -490.82082541223474
         ],
         "z": [
          351.21683353836903
         ]
        },
        {
         "color": "rgba(0,255,0,0.2)",
         "name": "optimale Trajektorie",
         "opacity": 0.8,
         "type": "mesh3d",
         "x": [
          64.13141372334168,
          64.96139586222588,
          63.54709300883427,
          62.717110869950055
         ],
         "y": [
          -488.5266587476235,
          -483.11407772781416,
          -491.7475854841621,
          -497.1601665039714
         ],
         "z": [
          343.591956174245,
          349.4242024270307,
          357.63774558817425,
          351.80549933538856
         ]
        },
        {
         "line": {
          "color": "rgba(0,255,0,0.2)",
          "width": 3
         },
         "mode": "lines",
         "showlegend": false,
         "type": "scatter3d",
         "x": [
          64.13141372334168,
          64.96139586222588
         ],
         "y": [
          -488.5266587476235,
          -483.11407772781416
         ],
         "z": [
          343.591956174245,
          349.4242024270307
         ]
        },
        {
         "line": {
          "color": "rgba(0,255,0,0.2)",
          "width": 3
         },
         "mode": "lines",
         "showlegend": false,
         "type": "scatter3d",
         "x": [
          64.96139586222588,
          63.54709300883427
         ],
         "y": [
          -483.11407772781416,
          -491.7475854841621
         ],
         "z": [
          349.4242024270307,
          357.63774558817425
         ]
        },
        {
         "line": {
          "color": "rgba(0,255,0,0.2)",
          "width": 3
         },
         "mode": "lines",
         "showlegend": false,
         "type": "scatter3d",
         "x": [
          63.54709300883427,
          62.717110869950055
         ],
         "y": [
          -491.7475854841621,
          -497.1601665039714
         ],
         "z": [
          357.63774558817425,
          351.80549933538856
         ]
        },
        {
         "line": {
          "color": "rgba(0,255,0,0.2)",
          "width": 3
         },
         "mode": "lines",
         "showlegend": false,
         "type": "scatter3d",
         "x": [
          62.717110869950055,
          64.13141372334168
         ],
         "y": [
          -497.1601665039714,
          -488.5266587476235
         ],
         "z": [
          351.80549933538856,
          343.591956174245
         ]
        },
        {
         "marker": {
          "color": "green",
          "size": 4
         },
         "mode": "markers",
         "name": "Mitte P11",
         "showlegend": false,
         "type": "scatter3d",
         "x": [
          63.83925336608798
         ],
         "y": [
          -490.1371221158928
         ],
         "z": [
          350.61485088120963
         ]
        },
        {
         "line": {
          "color": "green",
          "width": 2
         },
         "mode": "lines",
         "name": "Optimale Hakenlinie",
         "type": "scatter3d",
         "x": {
          "bdata": "gJKmtjP9UUDgwSMBTlxRQNCMHxSm21BAAOFcJluvUEAoILu3fQFQQAFCmbY3wk9A8TOAp2zrT0A=",
          "dtype": "f8"
         },
         "y": {
          "bdata": "0MLPj9WVf8DYa5DkOzB/wI6L14Y4DX/A27K/Xj/qfsDmTkTBw65+wGLU0xkirX7AFrX1pjGifsA=",
          "dtype": "f8"
         },
         "z": {
          "bdata": "E/Go5qDydEC+o7br4qJ1QNjHSkmTq3VAOp5ZzYHHdUDQH7ZSx+t1QIm/cSZ483VAZavgbdbpdUA=",
          "dtype": "f8"
         }
        },
        {
         "line": {
          "color": "gray",
          "dash": "dash"
         },
         "mode": "lines",
         "name": "Direkte Gerade Spitze -> Senke",
         "type": "scatter3d",
         "x": [
          64.39589845171315,
          58.30456732407322
         ],
         "y": [
          -499.39171449352693,
          -491.7108893955251
         ],
         "z": [
          338.39348906329826,
          348.4784540276575
         ]
        },
        {
         "marker": {
          "color": "magenta",
          "size": 8
         },
         "mode": "markers",
         "name": "Spitze",
         "type": "scatter3d",
         "x": [
          64.39589845171315
         ],
         "y": [
          -499.39171449352693
         ],
         "z": [
          338.39348906329826
         ]
        },
        {
         "marker": {
          "color": "magenta",
          "size": 8
         },
         "mode": "markers",
         "name": "Senke",
         "type": "scatter3d",
         "x": [
          58.30456732407322
         ],
         "y": [
          -491.7108893955251
         ],
         "z": [
          348.4784540276575
         ]
        },
        {
         "mode": "text",
         "showlegend": false,
         "text": [
          "Spitze"
         ],
         "textfont": {
          "size": 10
         },
         "textposition": "top center",
         "type": "scatter3d",
         "x": [
          64.39589845171315
         ],
         "y": [
          -499.39171449352693
         ],
         "z": [
          338.39348906329826
         ]
        },
        {
         "mode": "text",
         "showlegend": false,
         "text": [
          "Senke"
         ],
         "textfont": {
          "size": 10
         },
         "textposition": "top center",
         "type": "scatter3d",
         "x": [
          58.30456732407322
         ],
         "y": [
          -491.7108893955251
         ],
         "z": [
          348.4784540276575
         ]
        }
       ],
       "layout": {
        "legend": {
         "title": {
          "text": "Legende"
         }
        },
        "scene": {
         "aspectmode": "cube",
         "camera": {
          "eye": {
           "x": -1,
           "y": -1,
           "z": -1.5
          },
          "up": {
           "x": 0,
           "y": -1,
           "z": 0
          }
         },
         "xaxis": {
          "title": {
           "text": "X"
          }
         },
         "yaxis": {
          "title": {
           "text": "Y"
          }
         },
         "zaxis": {
          "title": {
           "text": "Z"
          }
         }
        },
        "template": {
         "data": {
          "bar": [
           {
            "error_x": {
             "color": "#2a3f5f"
            },
            "error_y": {
             "color": "#2a3f5f"
            },
            "marker": {
             "line": {
              "color": "#E5ECF6",
              "width": 0.5
             },
             "pattern": {
              "fillmode": "overlay",
              "size": 10,
              "solidity": 0.2
             }
            },
            "type": "bar"
           }
          ],
          "barpolar": [
           {
            "marker": {
             "line": {
              "color": "#E5ECF6",
              "width": 0.5
             },
             "pattern": {
              "fillmode": "overlay",
              "size": 10,
              "solidity": 0.2
             }
            },
            "type": "barpolar"
           }
          ],
          "carpet": [
           {
            "aaxis": {
             "endlinecolor": "#2a3f5f",
             "gridcolor": "white",
             "linecolor": "white",
             "minorgridcolor": "white",
             "startlinecolor": "#2a3f5f"
            },
            "baxis": {
             "endlinecolor": "#2a3f5f",
             "gridcolor": "white",
             "linecolor": "white",
             "minorgridcolor": "white",
             "startlinecolor": "#2a3f5f"
            },
            "type": "carpet"
           }
          ],
          "choropleth": [
           {
            "colorbar": {
             "outlinewidth": 0,
             "ticks": ""
            },
            "type": "choropleth"
           }
          ],
          "contour": [
           {
            "colorbar": {
             "outlinewidth": 0,
             "ticks": ""
            },
            "colorscale": [
             [
              0,
              "#0d0887"
             ],
             [
              0.1111111111111111,
              "#46039f"
             ],
             [
              0.2222222222222222,
              "#7201a8"
             ],
             [
              0.3333333333333333,
              "#9c179e"
             ],
             [
              0.4444444444444444,
              "#bd3786"
             ],
             [
              0.5555555555555556,
              "#d8576b"
             ],
             [
              0.6666666666666666,
              "#ed7953"
             ],
             [
              0.7777777777777778,
              "#fb9f3a"
             ],
             [
              0.8888888888888888,
              "#fdca26"
             ],
             [
              1,
              "#f0f921"
             ]
            ],
            "type": "contour"
           }
          ],
          "contourcarpet": [
           {
            "colorbar": {
             "outlinewidth": 0,
             "ticks": ""
            },
            "type": "contourcarpet"
           }
          ],
          "heatmap": [
           {
            "colorbar": {
             "outlinewidth": 0,
             "ticks": ""
            },
            "colorscale": [
             [
              0,
              "#0d0887"
             ],
             [
              0.1111111111111111,
              "#46039f"
             ],
             [
              0.2222222222222222,
              "#7201a8"
             ],
             [
              0.3333333333333333,
              "#9c179e"
             ],
             [
              0.4444444444444444,
              "#bd3786"
             ],
             [
              0.5555555555555556,
              "#d8576b"
             ],
             [
              0.6666666666666666,
              "#ed7953"
             ],
             [
              0.7777777777777778,
              "#fb9f3a"
             ],
             [
              0.8888888888888888,
              "#fdca26"
             ],
             [
              1,
              "#f0f921"
             ]
            ],
            "type": "heatmap"
           }
          ],
          "histogram": [
           {
            "marker": {
             "pattern": {
              "fillmode": "overlay",
              "size": 10,
              "solidity": 0.2
             }
            },
            "type": "histogram"
           }
          ],
          "histogram2d": [
           {
            "colorbar": {
             "outlinewidth": 0,
             "ticks": ""
            },
            "colorscale": [
             [
              0,
              "#0d0887"
             ],
             [
              0.1111111111111111,
              "#46039f"
             ],
             [
              0.2222222222222222,
              "#7201a8"
             ],
             [
              0.3333333333333333,
              "#9c179e"
             ],
             [
              0.4444444444444444,
              "#bd3786"
             ],
             [
              0.5555555555555556,
              "#d8576b"
             ],
             [
              0.6666666666666666,
              "#ed7953"
             ],
             [
              0.7777777777777778,
              "#fb9f3a"
             ],
             [
              0.8888888888888888,
              "#fdca26"
             ],
             [
              1,
              "#f0f921"
             ]
            ],
            "type": "histogram2d"
           }
          ],
          "histogram2dcontour": [
           {
            "colorbar": {
             "outlinewidth": 0,
             "ticks": ""
            },
            "colorscale": [
             [
              0,
              "#0d0887"
             ],
             [
              0.1111111111111111,
              "#46039f"
             ],
             [
              0.2222222222222222,
              "#7201a8"
             ],
             [
              0.3333333333333333,
              "#9c179e"
             ],
             [
              0.4444444444444444,
              "#bd3786"
             ],
             [
              0.5555555555555556,
              "#d8576b"
             ],
             [
              0.6666666666666666,
              "#ed7953"
             ],
             [
              0.7777777777777778,
              "#fb9f3a"
             ],
             [
              0.8888888888888888,
              "#fdca26"
             ],
             [
              1,
              "#f0f921"
             ]
            ],
            "type": "histogram2dcontour"
           }
          ],
          "mesh3d": [
           {
            "colorbar": {
             "outlinewidth": 0,
             "ticks": ""
            },
            "type": "mesh3d"
           }
          ],
          "parcoords": [
           {
            "line": {
             "colorbar": {
              "outlinewidth": 0,
              "ticks": ""
             }
            },
            "type": "parcoords"
           }
          ],
          "pie": [
           {
            "automargin": true,
            "type": "pie"
           }
          ],
          "scatter": [
           {
            "fillpattern": {
             "fillmode": "overlay",
             "size": 10,
             "solidity": 0.2
            },
            "type": "scatter"
           }
          ],
          "scatter3d": [
           {
            "line": {
             "colorbar": {
              "outlinewidth": 0,
              "ticks": ""
             }
            },
            "marker": {
             "colorbar": {
              "outlinewidth": 0,
              "ticks": ""
             }
            },
            "type": "scatter3d"
           }
          ],
          "scattercarpet": [
           {
            "marker": {
             "colorbar": {
              "outlinewidth": 0,
              "ticks": ""
             }
            },
            "type": "scattercarpet"
           }
          ],
          "scattergeo": [
           {
            "marker": {
             "colorbar": {
              "outlinewidth": 0,
              "ticks": ""
             }
            },
            "type": "scattergeo"
           }
          ],
          "scattergl": [
           {
            "marker": {
             "colorbar": {
              "outlinewidth": 0,
              "ticks": ""
             }
            },
            "type": "scattergl"
           }
          ],
          "scattermap": [
           {
            "marker": {
             "colorbar": {
              "outlinewidth": 0,
              "ticks": ""
             }
            },
            "type": "scattermap"
           }
          ],
          "scattermapbox": [
           {
            "marker": {
             "colorbar": {
              "outlinewidth": 0,
              "ticks": ""
             }
            },
            "type": "scattermapbox"
           }
          ],
          "scatterpolar": [
           {
            "marker": {
             "colorbar": {
              "outlinewidth": 0,
              "ticks": ""
             }
            },
            "type": "scatterpolar"
           }
          ],
          "scatterpolargl": [
           {
            "marker": {
             "colorbar": {
              "outlinewidth": 0,
              "ticks": ""
             }
            },
            "type": "scatterpolargl"
           }
          ],
          "scatterternary": [
           {
            "marker": {
             "colorbar": {
              "outlinewidth": 0,
              "ticks": ""
             }
            },
            "type": "scatterternary"
           }
          ],
          "surface": [
           {
            "colorbar": {
             "outlinewidth": 0,
             "ticks": ""
            },
            "colorscale": [
             [
              0,
              "#0d0887"
             ],
             [
              0.1111111111111111,
              "#46039f"
             ],
             [
              0.2222222222222222,
              "#7201a8"
             ],
             [
              0.3333333333333333,
              "#9c179e"
             ],
             [
              0.4444444444444444,
              "#bd3786"
             ],
             [
              0.5555555555555556,
              "#d8576b"
             ],
             [
              0.6666666666666666,
              "#ed7953"
             ],
             [
              0.7777777777777778,
              "#fb9f3a"
             ],
             [
              0.8888888888888888,
              "#fdca26"
             ],
             [
              1,
              "#f0f921"
             ]
            ],
            "type": "surface"
           }
          ],
          "table": [
           {
            "cells": {
             "fill": {
              "color": "#EBF0F8"
             },
             "line": {
              "color": "white"
             }
            },
            "header": {
             "fill": {
              "color": "#C8D4E3"
             },
             "line": {
              "color": "white"
             }
            },
            "type": "table"
           }
          ]
         },
         "layout": {
          "annotationdefaults": {
           "arrowcolor": "#2a3f5f",
           "arrowhead": 0,
           "arrowwidth": 1
          },
          "autotypenumbers": "strict",
          "coloraxis": {
           "colorbar": {
            "outlinewidth": 0,
            "ticks": ""
           }
          },
          "colorscale": {
           "diverging": [
            [
             0,
             "#8e0152"
            ],
            [
             0.1,
             "#c51b7d"
            ],
            [
             0.2,
             "#de77ae"
            ],
            [
             0.3,
             "#f1b6da"
            ],
            [
             0.4,
             "#fde0ef"
            ],
            [
             0.5,
             "#f7f7f7"
            ],
            [
             0.6,
             "#e6f5d0"
            ],
            [
             0.7,
             "#b8e186"
            ],
            [
             0.8,
             "#7fbc41"
            ],
            [
             0.9,
             "#4d9221"
            ],
            [
             1,
             "#276419"
            ]
           ],
           "sequential": [
            [
             0,
             "#0d0887"
            ],
            [
             0.1111111111111111,
             "#46039f"
            ],
            [
             0.2222222222222222,
             "#7201a8"
            ],
            [
             0.3333333333333333,
             "#9c179e"
            ],
            [
             0.4444444444444444,
             "#bd3786"
            ],
            [
             0.5555555555555556,
             "#d8576b"
            ],
            [
             0.6666666666666666,
             "#ed7953"
            ],
            [
             0.7777777777777778,
             "#fb9f3a"
            ],
            [
             0.8888888888888888,
             "#fdca26"
            ],
            [
             1,
             "#f0f921"
            ]
           ],
           "sequentialminus": [
            [
             0,
             "#0d0887"
            ],
            [
             0.1111111111111111,
             "#46039f"
            ],
            [
             0.2222222222222222,
             "#7201a8"
            ],
            [
             0.3333333333333333,
             "#9c179e"
            ],
            [
             0.4444444444444444,
             "#bd3786"
            ],
            [
             0.5555555555555556,
             "#d8576b"
            ],
            [
             0.6666666666666666,
             "#ed7953"
            ],
            [
             0.7777777777777778,
             "#fb9f3a"
            ],
            [
             0.8888888888888888,
             "#fdca26"
            ],
            [
             1,
             "#f0f921"
            ]
           ]
          },
          "colorway": [
           "#636efa",
           "#EF553B",
           "#00cc96",
           "#ab63fa",
           "#FFA15A",
           "#19d3f3",
           "#FF6692",
           "#B6E880",
           "#FF97FF",
           "#FECB52"
          ],
          "font": {
           "color": "#2a3f5f"
          },
          "geo": {
           "bgcolor": "white",
           "lakecolor": "white",
           "landcolor": "#E5ECF6",
           "showlakes": true,
           "showland": true,
           "subunitcolor": "white"
          },
          "hoverlabel": {
           "align": "left"
          },
          "hovermode": "closest",
          "mapbox": {
           "style": "light"
          },
          "paper_bgcolor": "white",
          "plot_bgcolor": "#E5ECF6",
          "polar": {
           "angularaxis": {
            "gridcolor": "white",
            "linecolor": "white",
            "ticks": ""
           },
           "bgcolor": "#E5ECF6",
           "radialaxis": {
            "gridcolor": "white",
            "linecolor": "white",
            "ticks": ""
           }
          },
          "scene": {
           "xaxis": {
            "backgroundcolor": "#E5ECF6",
            "gridcolor": "white",
            "gridwidth": 2,
            "linecolor": "white",
            "showbackground": true,
            "ticks": "",
            "zerolinecolor": "white"
           },
           "yaxis": {
            "backgroundcolor": "#E5ECF6",
            "gridcolor": "white",
            "gridwidth": 2,
            "linecolor": "white",
            "showbackground": true,
            "ticks": "",
            "zerolinecolor": "white"
           },
           "zaxis": {
            "backgroundcolor": "#E5ECF6",
            "gridcolor": "white",
            "gridwidth": 2,
            "linecolor": "white",
            "showbackground": true,
            "ticks": "",
            "zerolinecolor": "white"
           }
          },
          "shapedefaults": {
           "line": {
            "color": "#2a3f5f"
           }
          },
          "ternary": {
           "aaxis": {
            "gridcolor": "white",
            "linecolor": "white",
            "ticks": ""
           },
           "baxis": {
            "gridcolor": "white",
            "linecolor": "white",
            "ticks": ""
           },
           "bgcolor": "#E5ECF6",
           "caxis": {
            "gridcolor": "white",
            "linecolor": "white",
            "ticks": ""
           }
          },
          "title": {
           "x": 0.05
          },
          "xaxis": {
           "automargin": true,
           "gridcolor": "white",
           "linecolor": "white",
           "ticks": "",
           "title": {
            "standoff": 15
           },
           "zerolinecolor": "white",
           "zerolinewidth": 2
          },
          "yaxis": {
           "automargin": true,
           "gridcolor": "white",
           "linecolor": "white",
           "ticks": "",
           "title": {
            "standoff": 15
           },
           "zerolinecolor": "white",
           "zerolinewidth": 2
          }
         }
        },
        "title": {
         "text": "Haken 1, Trajektorien-Ansatz 3"
        }
       }
      }
     },
     "metadata": {},
     "output_type": "display_data"
    },
    {
     "name": "stdout",
     "output_type": "stream",
     "text": [
      "HTML-Datei '/home/mo/Thesis/Evaluation/Trajektorientests/traj4.html' erfolgreich erstellt!\n"
     ]
    },
    {
     "data": {
      "application/vnd.plotly.v1+json": {
       "config": {
        "plotlyServerURL": "https://plot.ly"
       },
       "data": [
        {
         "color": "rgba(31, 119, 180, 0.8)",
         "name": "P1",
         "opacity": 0.8,
         "type": "mesh3d",
         "x": [
          69.89433796014747,
          73.72881127579105,
          67.58877389168482,
          63.75430057604125
         ],
         "y": [
          -503.79916272907053,
          -499.8747187684896,
          -506.0848873074783,
          -510.00933126805927
         ],
         "z": [
          324.6228087683828,
          330.44479760312623,
          338.6748490998748,
          332.85286026513137
         ]
        },
        {
         "marker": {
          "color": "red",
          "size": 3
         },
         "mode": "markers+text",
         "showlegend": false,
         "text": "",
         "textfont": {
          "size": 12
         },
         "textposition": "top center",
         "type": "scatter3d",
         "x": [
          68.74155592591615
         ],
         "y": [
          -504.9420250182744
         ],
         "z": [
          331.6488289341288
         ]
        },
        {
         "line": {
          "color": "rgba(31, 119, 180, 0.8)",
          "width": 4
         },
         "mode": "lines",
         "showlegend": false,
         "type": "scatter3d",
         "x": [
          69.89433796014747,
          73.72881127579105
         ],
         "y": [
          -503.79916272907053,
          -499.8747187684896
         ],
         "z": [
          324.6228087683828,
          330.44479760312623
         ]
        },
        {
         "line": {
          "color": "rgba(31, 119, 180, 0.8)",
          "width": 4
         },
         "mode": "lines",
         "showlegend": false,
         "type": "scatter3d",
         "x": [
          73.72881127579105,
          67.58877389168482
         ],
         "y": [
          -499.8747187684896,
          -506.0848873074783
         ],
         "z": [
          330.44479760312623,
          338.6748490998748
         ]
        },
        {
         "line": {
          "color": "rgba(31, 119, 180, 0.8)",
          "width": 4
         },
         "mode": "lines",
         "showlegend": false,
         "type": "scatter3d",
         "x": [
          67.58877389168482,
          63.75430057604125
         ],
         "y": [
          -506.0848873074783,
          -510.00933126805927
         ],
         "z": [
          338.6748490998748,
          332.85286026513137
         ]
        },
        {
         "line": {
          "color": "rgba(31, 119, 180, 0.8)",
          "width": 4
         },
         "mode": "lines",
         "showlegend": false,
         "type": "scatter3d",
         "x": [
          63.75430057604125,
          69.89433796014747
         ],
         "y": [
          -510.00933126805927,
          -503.79916272907053
         ],
         "z": [
          332.85286026513137,
          324.6228087683828
         ]
        },
        {
         "color": "rgba(214, 39, 40, 0.8)",
         "name": "P2",
         "opacity": 0.8,
         "type": "mesh3d",
         "x": [
          65.5496108837617,
          69.38408419940528,
          63.24404681529905,
          59.40957349965549
         ],
         "y": [
          -498.2411946058305,
          -494.31675064524956,
          -500.5269191842383,
          -504.45136314481925
         ],
         "z": [
          331.7243305265496,
          337.546319361293,
          345.77637085804156,
          339.95438202329814
         ]
        },
        {
         "marker": {
          "color": "red",
          "size": 3
         },
         "mode": "markers+text",
         "showlegend": false,
         "text": "",
         "textfont": {
          "size": 12
         },
         "textposition": "top center",
         "type": "scatter3d",
         "x": [
          64.39682884953038
         ],
         "y": [
          -499.3840568950344
         ],
         "z": [
          338.75035069229557
         ]
        },
        {
         "line": {
          "color": "rgba(214, 39, 40, 0.8)",
          "width": 4
         },
         "mode": "lines",
         "showlegend": false,
         "type": "scatter3d",
         "x": [
          65.5496108837617,
          69.38408419940528
         ],
         "y": [
          -498.2411946058305,
          -494.31675064524956
         ],
         "z": [
          331.7243305265496,
          337.546319361293
         ]
        },
        {
         "line": {
          "color": "rgba(214, 39, 40, 0.8)",
          "width": 4
         },
         "mode": "lines",
         "showlegend": false,
         "type": "scatter3d",
         "x": [
          69.38408419940528,
          63.24404681529905
         ],
         "y": [
          -494.31675064524956,
          -500.5269191842383
         ],
         "z": [
          337.546319361293,
          345.77637085804156
         ]
        },
        {
         "line": {
          "color": "rgba(214, 39, 40, 0.8)",
          "width": 4
         },
         "mode": "lines",
         "showlegend": false,
         "type": "scatter3d",
         "x": [
          63.24404681529905,
          59.40957349965549
         ],
         "y": [
          -500.5269191842383,
          -504.45136314481925
         ],
         "z": [
          345.77637085804156,
          339.95438202329814
         ]
        },
        {
         "line": {
          "color": "rgba(214, 39, 40, 0.8)",
          "width": 4
         },
         "mode": "lines",
         "showlegend": false,
         "type": "scatter3d",
         "x": [
          59.40957349965549,
          65.5496108837617
         ],
         "y": [
          -504.45136314481925,
          -498.2411946058305
         ],
         "z": [
          339.95438202329814,
          331.7243305265496
         ]
        },
        {
         "color": "rgba(247, 182, 210, 0.8)",
         "name": "P3",
         "opacity": 0.8,
         "type": "mesh3d",
         "x": [
          63.37724734556888,
          67.21172066121245,
          61.071683277106224,
          57.23720996146266
         ],
         "y": [
          -495.4622105442103,
          -491.5377665836293,
          -497.74793512261806,
          -501.672379083199
         ],
         "z": [
          335.2750914056329,
          341.09708024037633,
          349.3271317371249,
          343.50514290238146
         ]
        },
        {
         "marker": {
          "color": "red",
          "size": 3
         },
         "mode": "markers+text",
         "showlegend": false,
         "text": "",
         "textfont": {
          "size": 12
         },
         "textposition": "top center",
         "type": "scatter3d",
         "x": [
          62.22446531133755
         ],
         "y": [
          -496.6050728334142
         ],
         "z": [
          342.3011115713789
         ]
        },
        {
         "line": {
          "color": "rgba(247, 182, 210, 0.8)",
          "width": 4
         },
         "mode": "lines",
         "showlegend": false,
         "type": "scatter3d",
         "x": [
          63.37724734556888,
          67.21172066121245
         ],
         "y": [
          -495.4622105442103,
          -491.5377665836293
         ],
         "z": [
          335.2750914056329,
          341.09708024037633
         ]
        },
        {
         "line": {
          "color": "rgba(247, 182, 210, 0.8)",
          "width": 4
         },
         "mode": "lines",
         "showlegend": false,
         "type": "scatter3d",
         "x": [
          67.21172066121245,
          61.071683277106224
         ],
         "y": [
          -491.5377665836293,
          -497.74793512261806
         ],
         "z": [
          341.09708024037633,
          349.3271317371249
         ]
        },
        {
         "line": {
          "color": "rgba(247, 182, 210, 0.8)",
          "width": 4
         },
         "mode": "lines",
         "showlegend": false,
         "type": "scatter3d",
         "x": [
          61.071683277106224,
          57.23720996146266
         ],
         "y": [
          -497.74793512261806,
          -501.672379083199
         ],
         "z": [
          349.3271317371249,
          343.50514290238146
         ]
        },
        {
         "line": {
          "color": "rgba(247, 182, 210, 0.8)",
          "width": 4
         },
         "mode": "lines",
         "showlegend": false,
         "type": "scatter3d",
         "x": [
          57.23720996146266,
          63.37724734556888
         ],
         "y": [
          -501.672379083199,
          -495.4622105442103
         ],
         "z": [
          343.50514290238146,
          335.2750914056329
         ]
        },
        {
         "line": {
          "color": "black",
          "width": 2
         },
         "mode": "lines",
         "name": "Berechnete Hakenlinie",
         "type": "scatter3d",
         "x": {
          "bdata": "wH38pnUvUUDotdSkZRlQQACkgUe7HE9A",
          "dtype": "f8"
         },
         "y": {
          "bdata": "CljTiBKPf8Cev9cYJTZ/wGXz2WCuCX/A",
          "dtype": "f8"
         },
         "z": {
          "bdata": "gsxymmG6dEAMP7pvASx1QFD4XVrRZHVA",
          "dtype": "f8"
         }
        },
        {
         "mode": "text",
         "showlegend": false,
         "text": [
          "Pre-Position"
         ],
         "textfont": {
          "size": 10
         },
         "textposition": "top center",
         "type": "scatter3d",
         "x": [
          68.74155592591615
         ],
         "y": [
          -504.9420250182744
         ],
         "z": [
          331.6488289341288
         ]
        },
        {
         "mode": "text",
         "showlegend": false,
         "text": [
          "Loslassen"
         ],
         "textfont": {
          "size": 10
         },
         "textposition": "top center",
         "type": "scatter3d",
         "x": [
          62.22446531133755
         ],
         "y": [
          -496.6050728334142
         ],
         "z": [
          342.3011115713789
         ]
        },
        {
         "color": "rgba(0,255,0,0.2)",
         "name": "optimale Trajektorie",
         "opacity": 0.8,
         "type": "mesh3d",
         "x": [
          73.16465385558409,
          76.96728057390457,
          70.74790882498122,
          66.94528210666074
         ],
         "y": [
          -504.2039154533274,
          -500.30855385450377,
          -506.52536275171707,
          -510.4207243505407
         ],
         "z": [
          328.1505419264636,
          334.01281009292654,
          342.1780230224357,
          336.3157548559727
         ]
        },
        {
         "line": {
          "color": "rgba(0,255,0,0.2)",
          "width": 3
         },
         "mode": "lines",
         "showlegend": false,
         "type": "scatter3d",
         "x": [
          73.16465385558409,
          76.96728057390457
         ],
         "y": [
          -504.2039154533274,
          -500.30855385450377
         ],
         "z": [
          328.1505419264636,
          334.01281009292654
         ]
        },
        {
         "line": {
          "color": "rgba(0,255,0,0.2)",
          "width": 3
         },
         "mode": "lines",
         "showlegend": false,
         "type": "scatter3d",
         "x": [
          76.96728057390457,
          70.74790882498122
         ],
         "y": [
          -500.30855385450377,
          -506.52536275171707
         ],
         "z": [
          334.01281009292654,
          342.1780230224357
         ]
        },
        {
         "line": {
          "color": "rgba(0,255,0,0.2)",
          "width": 3
         },
         "mode": "lines",
         "showlegend": false,
         "type": "scatter3d",
         "x": [
          70.74790882498122,
          66.94528210666074
         ],
         "y": [
          -506.52536275171707,
          -510.4207243505407
         ],
         "z": [
          342.1780230224357,
          336.3157548559727
         ]
        },
        {
         "line": {
          "color": "rgba(0,255,0,0.2)",
          "width": 3
         },
         "mode": "lines",
         "showlegend": false,
         "type": "scatter3d",
         "x": [
          66.94528210666074,
          73.16465385558409
         ],
         "y": [
          -510.4207243505407,
          -504.2039154533274
         ],
         "z": [
          336.3157548559727,
          328.1505419264636
         ]
        },
        {
         "marker": {
          "color": "green",
          "size": 4
         },
         "mode": "markers",
         "name": "Mitte P3",
         "showlegend": false,
         "type": "scatter3d",
         "x": [
          71.95628134028266
         ],
         "y": [
          -505.36463910252223
         ],
         "z": [
          335.16428247444964
         ]
        },
        {
         "color": "rgba(0,255,0,0.2)",
         "name": "optimale Trajektorie",
         "opacity": 0.8,
         "type": "mesh3d",
         "x": [
          70.55192798672024,
          74.4578268729207,
          68.33259404109512,
          64.42669515489466
         ],
         "y": [
          -497.94935780314415,
          -493.99668169405334,
          -500.0798867421164,
          -504.0325628512072
         ],
         "z": [
          339.13527099364444,
          344.89029536087355,
          353.22553015655546,
          347.47050578932635
         ]
        },
        {
         "line": {
          "color": "rgba(0,255,0,0.2)",
          "width": 3
         },
         "mode": "lines",
         "showlegend": false,
         "type": "scatter3d",
         "x": [
          70.55192798672024,
          74.4578268729207
         ],
         "y": [
          -497.94935780314415,
          -493.99668169405334
         ],
         "z": [
          339.13527099364444,
          344.89029536087355
         ]
        },
        {
         "line": {
          "color": "rgba(0,255,0,0.2)",
          "width": 3
         },
         "mode": "lines",
         "showlegend": false,
         "type": "scatter3d",
         "x": [
          74.4578268729207,
          68.33259404109512
         ],
         "y": [
          -493.99668169405334,
          -500.0798867421164
         ],
         "z": [
          344.89029536087355,
          353.22553015655546
         ]
        },
        {
         "line": {
          "color": "rgba(0,255,0,0.2)",
          "width": 3
         },
         "mode": "lines",
         "showlegend": false,
         "type": "scatter3d",
         "x": [
          68.33259404109512,
          64.42669515489466
         ],
         "y": [
          -500.0798867421164,
          -504.0325628512072
         ],
         "z": [
          353.22553015655546,
          347.47050578932635
         ]
        },
        {
         "line": {
          "color": "rgba(0,255,0,0.2)",
          "width": 3
         },
         "mode": "lines",
         "showlegend": false,
         "type": "scatter3d",
         "x": [
          64.42669515489466,
          70.55192798672024
         ],
         "y": [
          -504.0325628512072,
          -497.94935780314415
         ],
         "z": [
          347.47050578932635,
          339.13527099364444
         ]
        },
        {
         "marker": {
          "color": "green",
          "size": 4
         },
         "mode": "markers",
         "name": "Mitte P3",
         "showlegend": false,
         "type": "scatter3d",
         "x": [
          69.44226101390768
         ],
         "y": [
          -499.0146222726303
         ],
         "z": [
          346.18040057509995
         ]
        },
        {
         "color": "rgba(0,255,0,0.2)",
         "name": "optimale Trajektorie",
         "opacity": 0.8,
         "type": "mesh3d",
         "x": [
          68.49663086328412,
          72.43359805957903,
          66.36739240410058,
          62.430425207805676
         ],
         "y": [
          -495.76427350028086,
          -491.8033543209922,
          -497.88832744037234,
          -501.849246619661
         ],
         "z": [
          339.6708927511294,
          345.39901709950385,
          353.77602438623,
          348.0479000378555
         ]
        },
        {
         "line": {
          "color": "rgba(0,255,0,0.2)",
          "width": 3
         },
         "mode": "lines",
         "showlegend": false,
         "type": "scatter3d",
         "x": [
          68.49663086328412,
          72.43359805957903
         ],
         "y": [
          -495.76427350028086,
          -491.8033543209922
         ],
         "z": [
          339.6708927511294,
          345.39901709950385
         ]
        },
        {
         "line": {
          "color": "rgba(0,255,0,0.2)",
          "width": 3
         },
         "mode": "lines",
         "showlegend": false,
         "type": "scatter3d",
         "x": [
          72.43359805957903,
          66.36739240410058
         ],
         "y": [
          -491.8033543209922,
          -497.88832744037234
         ],
         "z": [
          345.39901709950385,
          353.77602438623
         ]
        },
        {
         "line": {
          "color": "rgba(0,255,0,0.2)",
          "width": 3
         },
         "mode": "lines",
         "showlegend": false,
         "type": "scatter3d",
         "x": [
          66.36739240410058,
          62.430425207805676
         ],
         "y": [
          -497.88832744037234,
          -501.849246619661
         ],
         "z": [
          353.77602438623,
          348.0479000378555
         ]
        },
        {
         "line": {
          "color": "rgba(0,255,0,0.2)",
          "width": 3
         },
         "mode": "lines",
         "showlegend": false,
         "type": "scatter3d",
         "x": [
          62.430425207805676,
          68.49663086328412
         ],
         "y": [
          -501.849246619661,
          -495.76427350028086
         ],
         "z": [
          348.0479000378555,
          339.6708927511294
         ]
        },
        {
         "marker": {
          "color": "green",
          "size": 4
         },
         "mode": "markers",
         "name": "Mitte P3",
         "showlegend": false,
         "type": "scatter3d",
         "x": [
          67.43201163369235
         ],
         "y": [
          -496.8263004703266
         ],
         "z": [
          346.7234585686797
         ]
        },
        {
         "color": "rgba(0,255,0,0.2)",
         "name": "optimale Trajektorie",
         "opacity": 0.8,
         "type": "mesh3d",
         "x": [
          67.8186744526851,
          71.75120890667846,
          65.66120223856485,
          61.728667784571506
         ],
         "y": [
          -493.57613537690315,
          -489.6241159343607,
          -495.7048070608846,
          -499.65682650342706
         ],
         "z": [
          341.4191178059707,
          347.1564268523723,
          355.5192621494558,
          349.7819531030542
         ]
        },
        {
         "line": {
          "color": "rgba(0,255,0,0.2)",
          "width": 3
         },
         "mode": "lines",
         "showlegend": false,
         "type": "scatter3d",
         "x": [
          67.8186744526851,
          71.75120890667846
         ],
         "y": [
          -493.57613537690315,
          -489.6241159343607
         ],
         "z": [
          341.4191178059707,
          347.1564268523723
         ]
        },
        {
         "line": {
          "color": "rgba(0,255,0,0.2)",
          "width": 3
         },
         "mode": "lines",
         "showlegend": false,
         "type": "scatter3d",
         "x": [
          71.75120890667846,
          65.66120223856485
         ],
         "y": [
          -489.6241159343607,
          -495.7048070608846
         ],
         "z": [
          347.1564268523723,
          355.5192621494558
         ]
        },
        {
         "line": {
          "color": "rgba(0,255,0,0.2)",
          "width": 3
         },
         "mode": "lines",
         "showlegend": false,
         "type": "scatter3d",
         "x": [
          65.66120223856485,
          61.728667784571506
         ],
         "y": [
          -495.7048070608846,
          -499.65682650342706
         ],
         "z": [
          355.5192621494558,
          349.7819531030542
         ]
        },
        {
         "line": {
          "color": "rgba(0,255,0,0.2)",
          "width": 3
         },
         "mode": "lines",
         "showlegend": false,
         "type": "scatter3d",
         "x": [
          61.728667784571506,
          67.8186744526851
         ],
         "y": [
          -499.65682650342706,
          -493.57613537690315
         ],
         "z": [
          349.7819531030542,
          341.4191178059707
         ]
        },
        {
         "marker": {
          "color": "green",
          "size": 4
         },
         "mode": "markers",
         "name": "Mitte P3",
         "showlegend": false,
         "type": "scatter3d",
         "x": [
          66.73993834562498
         ],
         "y": [
          -494.6404712188939
         ],
         "z": [
          348.4691899777132
         ]
        },
        {
         "color": "rgba(0,255,0,0.2)",
         "name": "optimale Trajektorie",
         "opacity": 0.8,
         "type": "mesh3d",
         "x": [
          65.13271172420566,
          69.04157873531966,
          62.91388467460539,
          59.00501766349141
         ],
         "y": [
          -489.8409896939866,
          -485.9045923688432,
          -492.00459377698525,
          -495.94099110212863
         ],
         "z": [
          343.69351379052625,
          349.4576732945675,
          357.77881193774317,
          352.01465243370194
         ]
        },
        {
         "line": {
          "color": "rgba(0,255,0,0.2)",
          "width": 3
         },
         "mode": "lines",
         "showlegend": false,
         "type": "scatter3d",
         "x": [
          65.13271172420566,
          69.04157873531966
         ],
         "y": [
          -489.8409896939866,
          -485.9045923688432
         ],
         "z": [
          343.69351379052625,
          349.4576732945675
         ]
        },
        {
         "line": {
          "color": "rgba(0,255,0,0.2)",
          "width": 3
         },
         "mode": "lines",
         "showlegend": false,
         "type": "scatter3d",
         "x": [
          69.04157873531966,
          62.91388467460539
         ],
         "y": [
          -485.9045923688432,
          -492.00459377698525
         ],
         "z": [
          349.4576732945675,
          357.77881193774317
         ]
        },
        {
         "line": {
          "color": "rgba(0,255,0,0.2)",
          "width": 3
         },
         "mode": "lines",
         "showlegend": false,
         "type": "scatter3d",
         "x": [
          62.91388467460539,
          59.00501766349141
         ],
         "y": [
          -492.00459377698525,
          -495.94099110212863
         ],
         "z": [
          357.77881193774317,
          352.01465243370194
         ]
        },
        {
         "line": {
          "color": "rgba(0,255,0,0.2)",
          "width": 3
         },
         "mode": "lines",
         "showlegend": false,
         "type": "scatter3d",
         "x": [
          59.00501766349141,
          65.13271172420566
         ],
         "y": [
          -495.94099110212863,
          -489.8409896939866
         ],
         "z": [
          352.01465243370194,
          343.69351379052625
         ]
        },
        {
         "marker": {
          "color": "green",
          "size": 4
         },
         "mode": "markers",
         "name": "Mitte P3",
         "showlegend": false,
         "type": "scatter3d",
         "x": [
          64.02329819940553
         ],
         "y": [
          -490.92279173548593
         ],
         "z": [
          350.7361628641347
         ]
        },
        {
         "color": "rgba(0,255,0,0.2)",
         "name": "optimale Trajektorie",
         "opacity": 0.8,
         "type": "mesh3d",
         "x": [
          64.17360527435662,
          66.09264635425508,
          62.861045194151,
          60.94200411425253
         ],
         "y": [
          -489.3165652212355,
          -484.19072463042096,
          -492.32508560323396,
          -497.4509261940485
         ],
         "z": [
          344.1949749676815,
          350.0296163080914,
          358.23869210905656,
          352.40405076864664
         ]
        },
        {
         "line": {
          "color": "rgba(0,255,0,0.2)",
          "width": 3
         },
         "mode": "lines",
         "showlegend": false,
         "type": "scatter3d",
         "x": [
          64.17360527435662,
          66.09264635425508
         ],
         "y": [
          -489.3165652212355,
          -484.19072463042096
         ],
         "z": [
          344.1949749676815,
          350.0296163080914
         ]
        },
        {
         "line": {
          "color": "rgba(0,255,0,0.2)",
          "width": 3
         },
         "mode": "lines",
         "showlegend": false,
         "type": "scatter3d",
         "x": [
          66.09264635425508,
          62.861045194151
         ],
         "y": [
          -484.19072463042096,
          -492.32508560323396
         ],
         "z": [
          350.0296163080914,
          358.23869210905656
         ]
        },
        {
         "line": {
          "color": "rgba(0,255,0,0.2)",
          "width": 3
         },
         "mode": "lines",
         "showlegend": false,
         "type": "scatter3d",
         "x": [
          62.861045194151,
          60.94200411425253
         ],
         "y": [
          -492.32508560323396,
          -497.4509261940485
         ],
         "z": [
          358.23869210905656,
          352.40405076864664
         ]
        },
        {
         "line": {
          "color": "rgba(0,255,0,0.2)",
          "width": 3
         },
         "mode": "lines",
         "showlegend": false,
         "type": "scatter3d",
         "x": [
          60.94200411425253,
          64.17360527435662
         ],
         "y": [
          -497.4509261940485,
          -489.3165652212355
         ],
         "z": [
          352.40405076864664,
          344.1949749676815
         ]
        },
        {
         "marker": {
          "color": "green",
          "size": 4
         },
         "mode": "markers",
         "name": "Mitte P3",
         "showlegend": false,
         "type": "scatter3d",
         "x": [
          63.51732523425381
         ],
         "y": [
          -490.82082541223474
         ],
         "z": [
          351.21683353836903
         ]
        },
        {
         "color": "rgba(0,255,0,0.2)",
         "name": "optimale Trajektorie",
         "opacity": 0.8,
         "type": "mesh3d",
         "x": [
          64.13141372334168,
          64.96139586222588,
          63.54709300883427,
          62.717110869950055
         ],
         "y": [
          -488.5266587476235,
          -483.11407772781416,
          -491.7475854841621,
          -497.1601665039714
         ],
         "z": [
          343.591956174245,
          349.4242024270307,
          357.63774558817425,
          351.80549933538856
         ]
        },
        {
         "line": {
          "color": "rgba(0,255,0,0.2)",
          "width": 3
         },
         "mode": "lines",
         "showlegend": false,
         "type": "scatter3d",
         "x": [
          64.13141372334168,
          64.96139586222588
         ],
         "y": [
          -488.5266587476235,
          -483.11407772781416
         ],
         "z": [
          343.591956174245,
          349.4242024270307
         ]
        },
        {
         "line": {
          "color": "rgba(0,255,0,0.2)",
          "width": 3
         },
         "mode": "lines",
         "showlegend": false,
         "type": "scatter3d",
         "x": [
          64.96139586222588,
          63.54709300883427
         ],
         "y": [
          -483.11407772781416,
          -491.7475854841621
         ],
         "z": [
          349.4242024270307,
          357.63774558817425
         ]
        },
        {
         "line": {
          "color": "rgba(0,255,0,0.2)",
          "width": 3
         },
         "mode": "lines",
         "showlegend": false,
         "type": "scatter3d",
         "x": [
          63.54709300883427,
          62.717110869950055
         ],
         "y": [
          -491.7475854841621,
          -497.1601665039714
         ],
         "z": [
          357.63774558817425,
          351.80549933538856
         ]
        },
        {
         "line": {
          "color": "rgba(0,255,0,0.2)",
          "width": 3
         },
         "mode": "lines",
         "showlegend": false,
         "type": "scatter3d",
         "x": [
          62.717110869950055,
          64.13141372334168
         ],
         "y": [
          -497.1601665039714,
          -488.5266587476235
         ],
         "z": [
          351.80549933538856,
          343.591956174245
         ]
        },
        {
         "marker": {
          "color": "green",
          "size": 4
         },
         "mode": "markers",
         "name": "Mitte P3",
         "showlegend": false,
         "type": "scatter3d",
         "x": [
          63.83925336608798
         ],
         "y": [
          -490.1371221158928
         ],
         "z": [
          350.61485088120963
         ]
        },
        {
         "line": {
          "color": "green",
          "width": 2
         },
         "mode": "lines",
         "name": "Optimale Hakenlinie",
         "type": "scatter3d",
         "x": {
          "bdata": "gJKmtjP9UUDgwSMBTlxRQNCMHxSm21BAAOFcJluvUEAoILu3fQFQQAFCmbY3wk9A8TOAp2zrT0A=",
          "dtype": "f8"
         },
         "y": {
          "bdata": "0MLPj9WVf8DYa5DkOzB/wI6L14Y4DX/A27K/Xj/qfsDmTkTBw65+wGLU0xkirX7AFrX1pjGifsA=",
          "dtype": "f8"
         },
         "z": {
          "bdata": "E/Go5qDydEC+o7br4qJ1QNjHSkmTq3VAOp5ZzYHHdUDQH7ZSx+t1QIm/cSZ483VAZavgbdbpdUA=",
          "dtype": "f8"
         }
        },
        {
         "line": {
          "color": "gray",
          "dash": "dash"
         },
         "mode": "lines",
         "name": "Direkte Gerade Spitze -> Senke",
         "type": "scatter3d",
         "x": [
          64.39589845171315,
          58.30456732407322
         ],
         "y": [
          -499.39171449352693,
          -491.7108893955251
         ],
         "z": [
          338.39348906329826,
          348.4784540276575
         ]
        },
        {
         "marker": {
          "color": "magenta",
          "size": 8
         },
         "mode": "markers",
         "name": "Spitze",
         "type": "scatter3d",
         "x": [
          64.39589845171315
         ],
         "y": [
          -499.39171449352693
         ],
         "z": [
          338.39348906329826
         ]
        },
        {
         "marker": {
          "color": "magenta",
          "size": 8
         },
         "mode": "markers",
         "name": "Senke",
         "type": "scatter3d",
         "x": [
          58.30456732407322
         ],
         "y": [
          -491.7108893955251
         ],
         "z": [
          348.4784540276575
         ]
        },
        {
         "mode": "text",
         "showlegend": false,
         "text": [
          "Spitze"
         ],
         "textfont": {
          "size": 10
         },
         "textposition": "top center",
         "type": "scatter3d",
         "x": [
          64.39589845171315
         ],
         "y": [
          -499.39171449352693
         ],
         "z": [
          338.39348906329826
         ]
        },
        {
         "mode": "text",
         "showlegend": false,
         "text": [
          "Senke"
         ],
         "textfont": {
          "size": 10
         },
         "textposition": "top center",
         "type": "scatter3d",
         "x": [
          58.30456732407322
         ],
         "y": [
          -491.7108893955251
         ],
         "z": [
          348.4784540276575
         ]
        }
       ],
       "layout": {
        "legend": {
         "title": {
          "text": "Legende"
         }
        },
        "scene": {
         "aspectmode": "cube",
         "camera": {
          "eye": {
           "x": -1,
           "y": -1,
           "z": -1.5
          },
          "up": {
           "x": 0,
           "y": -1,
           "z": 0
          }
         },
         "xaxis": {
          "title": {
           "text": "X"
          }
         },
         "yaxis": {
          "title": {
           "text": "Y"
          }
         },
         "zaxis": {
          "title": {
           "text": "Z"
          }
         }
        },
        "template": {
         "data": {
          "bar": [
           {
            "error_x": {
             "color": "#2a3f5f"
            },
            "error_y": {
             "color": "#2a3f5f"
            },
            "marker": {
             "line": {
              "color": "#E5ECF6",
              "width": 0.5
             },
             "pattern": {
              "fillmode": "overlay",
              "size": 10,
              "solidity": 0.2
             }
            },
            "type": "bar"
           }
          ],
          "barpolar": [
           {
            "marker": {
             "line": {
              "color": "#E5ECF6",
              "width": 0.5
             },
             "pattern": {
              "fillmode": "overlay",
              "size": 10,
              "solidity": 0.2
             }
            },
            "type": "barpolar"
           }
          ],
          "carpet": [
           {
            "aaxis": {
             "endlinecolor": "#2a3f5f",
             "gridcolor": "white",
             "linecolor": "white",
             "minorgridcolor": "white",
             "startlinecolor": "#2a3f5f"
            },
            "baxis": {
             "endlinecolor": "#2a3f5f",
             "gridcolor": "white",
             "linecolor": "white",
             "minorgridcolor": "white",
             "startlinecolor": "#2a3f5f"
            },
            "type": "carpet"
           }
          ],
          "choropleth": [
           {
            "colorbar": {
             "outlinewidth": 0,
             "ticks": ""
            },
            "type": "choropleth"
           }
          ],
          "contour": [
           {
            "colorbar": {
             "outlinewidth": 0,
             "ticks": ""
            },
            "colorscale": [
             [
              0,
              "#0d0887"
             ],
             [
              0.1111111111111111,
              "#46039f"
             ],
             [
              0.2222222222222222,
              "#7201a8"
             ],
             [
              0.3333333333333333,
              "#9c179e"
             ],
             [
              0.4444444444444444,
              "#bd3786"
             ],
             [
              0.5555555555555556,
              "#d8576b"
             ],
             [
              0.6666666666666666,
              "#ed7953"
             ],
             [
              0.7777777777777778,
              "#fb9f3a"
             ],
             [
              0.8888888888888888,
              "#fdca26"
             ],
             [
              1,
              "#f0f921"
             ]
            ],
            "type": "contour"
           }
          ],
          "contourcarpet": [
           {
            "colorbar": {
             "outlinewidth": 0,
             "ticks": ""
            },
            "type": "contourcarpet"
           }
          ],
          "heatmap": [
           {
            "colorbar": {
             "outlinewidth": 0,
             "ticks": ""
            },
            "colorscale": [
             [
              0,
              "#0d0887"
             ],
             [
              0.1111111111111111,
              "#46039f"
             ],
             [
              0.2222222222222222,
              "#7201a8"
             ],
             [
              0.3333333333333333,
              "#9c179e"
             ],
             [
              0.4444444444444444,
              "#bd3786"
             ],
             [
              0.5555555555555556,
              "#d8576b"
             ],
             [
              0.6666666666666666,
              "#ed7953"
             ],
             [
              0.7777777777777778,
              "#fb9f3a"
             ],
             [
              0.8888888888888888,
              "#fdca26"
             ],
             [
              1,
              "#f0f921"
             ]
            ],
            "type": "heatmap"
           }
          ],
          "histogram": [
           {
            "marker": {
             "pattern": {
              "fillmode": "overlay",
              "size": 10,
              "solidity": 0.2
             }
            },
            "type": "histogram"
           }
          ],
          "histogram2d": [
           {
            "colorbar": {
             "outlinewidth": 0,
             "ticks": ""
            },
            "colorscale": [
             [
              0,
              "#0d0887"
             ],
             [
              0.1111111111111111,
              "#46039f"
             ],
             [
              0.2222222222222222,
              "#7201a8"
             ],
             [
              0.3333333333333333,
              "#9c179e"
             ],
             [
              0.4444444444444444,
              "#bd3786"
             ],
             [
              0.5555555555555556,
              "#d8576b"
             ],
             [
              0.6666666666666666,
              "#ed7953"
             ],
             [
              0.7777777777777778,
              "#fb9f3a"
             ],
             [
              0.8888888888888888,
              "#fdca26"
             ],
             [
              1,
              "#f0f921"
             ]
            ],
            "type": "histogram2d"
           }
          ],
          "histogram2dcontour": [
           {
            "colorbar": {
             "outlinewidth": 0,
             "ticks": ""
            },
            "colorscale": [
             [
              0,
              "#0d0887"
             ],
             [
              0.1111111111111111,
              "#46039f"
             ],
             [
              0.2222222222222222,
              "#7201a8"
             ],
             [
              0.3333333333333333,
              "#9c179e"
             ],
             [
              0.4444444444444444,
              "#bd3786"
             ],
             [
              0.5555555555555556,
              "#d8576b"
             ],
             [
              0.6666666666666666,
              "#ed7953"
             ],
             [
              0.7777777777777778,
              "#fb9f3a"
             ],
             [
              0.8888888888888888,
              "#fdca26"
             ],
             [
              1,
              "#f0f921"
             ]
            ],
            "type": "histogram2dcontour"
           }
          ],
          "mesh3d": [
           {
            "colorbar": {
             "outlinewidth": 0,
             "ticks": ""
            },
            "type": "mesh3d"
           }
          ],
          "parcoords": [
           {
            "line": {
             "colorbar": {
              "outlinewidth": 0,
              "ticks": ""
             }
            },
            "type": "parcoords"
           }
          ],
          "pie": [
           {
            "automargin": true,
            "type": "pie"
           }
          ],
          "scatter": [
           {
            "fillpattern": {
             "fillmode": "overlay",
             "size": 10,
             "solidity": 0.2
            },
            "type": "scatter"
           }
          ],
          "scatter3d": [
           {
            "line": {
             "colorbar": {
              "outlinewidth": 0,
              "ticks": ""
             }
            },
            "marker": {
             "colorbar": {
              "outlinewidth": 0,
              "ticks": ""
             }
            },
            "type": "scatter3d"
           }
          ],
          "scattercarpet": [
           {
            "marker": {
             "colorbar": {
              "outlinewidth": 0,
              "ticks": ""
             }
            },
            "type": "scattercarpet"
           }
          ],
          "scattergeo": [
           {
            "marker": {
             "colorbar": {
              "outlinewidth": 0,
              "ticks": ""
             }
            },
            "type": "scattergeo"
           }
          ],
          "scattergl": [
           {
            "marker": {
             "colorbar": {
              "outlinewidth": 0,
              "ticks": ""
             }
            },
            "type": "scattergl"
           }
          ],
          "scattermap": [
           {
            "marker": {
             "colorbar": {
              "outlinewidth": 0,
              "ticks": ""
             }
            },
            "type": "scattermap"
           }
          ],
          "scattermapbox": [
           {
            "marker": {
             "colorbar": {
              "outlinewidth": 0,
              "ticks": ""
             }
            },
            "type": "scattermapbox"
           }
          ],
          "scatterpolar": [
           {
            "marker": {
             "colorbar": {
              "outlinewidth": 0,
              "ticks": ""
             }
            },
            "type": "scatterpolar"
           }
          ],
          "scatterpolargl": [
           {
            "marker": {
             "colorbar": {
              "outlinewidth": 0,
              "ticks": ""
             }
            },
            "type": "scatterpolargl"
           }
          ],
          "scatterternary": [
           {
            "marker": {
             "colorbar": {
              "outlinewidth": 0,
              "ticks": ""
             }
            },
            "type": "scatterternary"
           }
          ],
          "surface": [
           {
            "colorbar": {
             "outlinewidth": 0,
             "ticks": ""
            },
            "colorscale": [
             [
              0,
              "#0d0887"
             ],
             [
              0.1111111111111111,
              "#46039f"
             ],
             [
              0.2222222222222222,
              "#7201a8"
             ],
             [
              0.3333333333333333,
              "#9c179e"
             ],
             [
              0.4444444444444444,
              "#bd3786"
             ],
             [
              0.5555555555555556,
              "#d8576b"
             ],
             [
              0.6666666666666666,
              "#ed7953"
             ],
             [
              0.7777777777777778,
              "#fb9f3a"
             ],
             [
              0.8888888888888888,
              "#fdca26"
             ],
             [
              1,
              "#f0f921"
             ]
            ],
            "type": "surface"
           }
          ],
          "table": [
           {
            "cells": {
             "fill": {
              "color": "#EBF0F8"
             },
             "line": {
              "color": "white"
             }
            },
            "header": {
             "fill": {
              "color": "#C8D4E3"
             },
             "line": {
              "color": "white"
             }
            },
            "type": "table"
           }
          ]
         },
         "layout": {
          "annotationdefaults": {
           "arrowcolor": "#2a3f5f",
           "arrowhead": 0,
           "arrowwidth": 1
          },
          "autotypenumbers": "strict",
          "coloraxis": {
           "colorbar": {
            "outlinewidth": 0,
            "ticks": ""
           }
          },
          "colorscale": {
           "diverging": [
            [
             0,
             "#8e0152"
            ],
            [
             0.1,
             "#c51b7d"
            ],
            [
             0.2,
             "#de77ae"
            ],
            [
             0.3,
             "#f1b6da"
            ],
            [
             0.4,
             "#fde0ef"
            ],
            [
             0.5,
             "#f7f7f7"
            ],
            [
             0.6,
             "#e6f5d0"
            ],
            [
             0.7,
             "#b8e186"
            ],
            [
             0.8,
             "#7fbc41"
            ],
            [
             0.9,
             "#4d9221"
            ],
            [
             1,
             "#276419"
            ]
           ],
           "sequential": [
            [
             0,
             "#0d0887"
            ],
            [
             0.1111111111111111,
             "#46039f"
            ],
            [
             0.2222222222222222,
             "#7201a8"
            ],
            [
             0.3333333333333333,
             "#9c179e"
            ],
            [
             0.4444444444444444,
             "#bd3786"
            ],
            [
             0.5555555555555556,
             "#d8576b"
            ],
            [
             0.6666666666666666,
             "#ed7953"
            ],
            [
             0.7777777777777778,
             "#fb9f3a"
            ],
            [
             0.8888888888888888,
             "#fdca26"
            ],
            [
             1,
             "#f0f921"
            ]
           ],
           "sequentialminus": [
            [
             0,
             "#0d0887"
            ],
            [
             0.1111111111111111,
             "#46039f"
            ],
            [
             0.2222222222222222,
             "#7201a8"
            ],
            [
             0.3333333333333333,
             "#9c179e"
            ],
            [
             0.4444444444444444,
             "#bd3786"
            ],
            [
             0.5555555555555556,
             "#d8576b"
            ],
            [
             0.6666666666666666,
             "#ed7953"
            ],
            [
             0.7777777777777778,
             "#fb9f3a"
            ],
            [
             0.8888888888888888,
             "#fdca26"
            ],
            [
             1,
             "#f0f921"
            ]
           ]
          },
          "colorway": [
           "#636efa",
           "#EF553B",
           "#00cc96",
           "#ab63fa",
           "#FFA15A",
           "#19d3f3",
           "#FF6692",
           "#B6E880",
           "#FF97FF",
           "#FECB52"
          ],
          "font": {
           "color": "#2a3f5f"
          },
          "geo": {
           "bgcolor": "white",
           "lakecolor": "white",
           "landcolor": "#E5ECF6",
           "showlakes": true,
           "showland": true,
           "subunitcolor": "white"
          },
          "hoverlabel": {
           "align": "left"
          },
          "hovermode": "closest",
          "mapbox": {
           "style": "light"
          },
          "paper_bgcolor": "white",
          "plot_bgcolor": "#E5ECF6",
          "polar": {
           "angularaxis": {
            "gridcolor": "white",
            "linecolor": "white",
            "ticks": ""
           },
           "bgcolor": "#E5ECF6",
           "radialaxis": {
            "gridcolor": "white",
            "linecolor": "white",
            "ticks": ""
           }
          },
          "scene": {
           "xaxis": {
            "backgroundcolor": "#E5ECF6",
            "gridcolor": "white",
            "gridwidth": 2,
            "linecolor": "white",
            "showbackground": true,
            "ticks": "",
            "zerolinecolor": "white"
           },
           "yaxis": {
            "backgroundcolor": "#E5ECF6",
            "gridcolor": "white",
            "gridwidth": 2,
            "linecolor": "white",
            "showbackground": true,
            "ticks": "",
            "zerolinecolor": "white"
           },
           "zaxis": {
            "backgroundcolor": "#E5ECF6",
            "gridcolor": "white",
            "gridwidth": 2,
            "linecolor": "white",
            "showbackground": true,
            "ticks": "",
            "zerolinecolor": "white"
           }
          },
          "shapedefaults": {
           "line": {
            "color": "#2a3f5f"
           }
          },
          "ternary": {
           "aaxis": {
            "gridcolor": "white",
            "linecolor": "white",
            "ticks": ""
           },
           "baxis": {
            "gridcolor": "white",
            "linecolor": "white",
            "ticks": ""
           },
           "bgcolor": "#E5ECF6",
           "caxis": {
            "gridcolor": "white",
            "linecolor": "white",
            "ticks": ""
           }
          },
          "title": {
           "x": 0.05
          },
          "xaxis": {
           "automargin": true,
           "gridcolor": "white",
           "linecolor": "white",
           "ticks": "",
           "title": {
            "standoff": 15
           },
           "zerolinecolor": "white",
           "zerolinewidth": 2
          },
          "yaxis": {
           "automargin": true,
           "gridcolor": "white",
           "linecolor": "white",
           "ticks": "",
           "title": {
            "standoff": 15
           },
           "zerolinecolor": "white",
           "zerolinewidth": 2
          }
         }
        },
        "title": {
         "text": "Haken 1, Trajektorien-Ansatz 4"
        }
       }
      }
     },
     "metadata": {},
     "output_type": "display_data"
    }
   ],
   "source": [
    "visualize_rectangles_html(\n",
    "    rectangles = rectangles_1,\n",
    "    secondary_rectangles = rectangles_optim,\n",
    "    secondary_legend_title = 'optimale Trajektorie',\n",
    "    connect_points = (trajectory_1[1][0], trajectory_1[-1][0]),\n",
    "    hook_num = hook_num,\n",
    "    trajectory_process = 1,\n",
    "    html_filename = '/home/mo/Thesis/Evaluation/Trajektorientests/traj1.html'\n",
    "    )\n",
    "\n",
    "visualize_rectangles_html(\n",
    "    rectangles = rectangles_2,\n",
    "    secondary_rectangles = rectangles_optim,\n",
    "    secondary_legend_title = 'optimale Trajektorie',\n",
    "    connect_points = (trajectory_1[1][0], trajectory_1[-1][0]),\n",
    "    hook_num = hook_num,\n",
    "    trajectory_process = 2,\n",
    "    html_filename = '/home/mo/Thesis/Evaluation/Trajektorientests/traj2.html'\n",
    "    )\n",
    "\n",
    "visualize_rectangles_html(\n",
    "    rectangles = rectangles_3,\n",
    "    secondary_rectangles = rectangles_optim,\n",
    "    secondary_legend_title = 'optimale Trajektorie',\n",
    "    connect_points = (trajectory_1[1][0], trajectory_1[-1][0]),\n",
    "    hook_num = hook_num,\n",
    "    trajectory_process = 3,\n",
    "    html_filename = '/home/mo/Thesis/Evaluation/Trajektorientests/traj3.html'\n",
    "    )\n",
    "\n",
    "visualize_rectangles_html(\n",
    "    rectangles = rectangles_4,\n",
    "    secondary_rectangles = rectangles_optim,\n",
    "    secondary_legend_title = 'optimale Trajektorie',\n",
    "    connect_points = (trajectory_1[1][0], trajectory_1[-1][0]),\n",
    "    hook_num = hook_num,\n",
    "    trajectory_process = 4,\n",
    "    html_filename = '/home/mo/Thesis/Evaluation/Trajektorientests/traj4.html'\n",
    "    )"
   ]
  }
 ],
 "metadata": {
  "kernelspec": {
   "display_name": "Python 3",
   "language": "python",
   "name": "python3"
  },
  "language_info": {
   "codemirror_mode": {
    "name": "ipython",
    "version": 3
   },
   "file_extension": ".py",
   "mimetype": "text/x-python",
   "name": "python",
   "nbconvert_exporter": "python",
   "pygments_lexer": "ipython3",
   "version": "3.8.10"
  }
 },
 "nbformat": 4,
 "nbformat_minor": 5
}
