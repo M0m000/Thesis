{
 "cells": [
  {
   "cell_type": "code",
   "execution_count": 90,
   "id": "c56fbbd2",
   "metadata": {},
   "outputs": [],
   "source": [
    "import csv\n",
    "import numpy as np\n",
    "from scipy.spatial.transform import Rotation as R\n",
    "import matplotlib.pyplot as plt\n",
    "from mpl_toolkits.mplot3d.art3d import Poly3DCollection\n",
    "import matplotlib.cm as cm"
   ]
  },
  {
   "cell_type": "code",
   "execution_count": 91,
   "id": "ce8ad287",
   "metadata": {},
   "outputs": [],
   "source": [
    "def load_csv_to_trajectory(filepath):\n",
    "    \"\"\"Lädt die CSV und stellt Trajektorie-Liste wieder her\"\"\"\n",
    "    trajectory = []\n",
    "    with open(filepath, mode='r', newline='') as file:\n",
    "        reader = csv.reader(file)\n",
    "        next(reader)  # Überspringe Kopfzeile\n",
    "\n",
    "        for row in reader:\n",
    "            numbers = list(map(float, row))\n",
    "            trans = numbers[:3]\n",
    "            rot = numbers[3:]\n",
    "            trajectory.append((trans, rot))\n",
    "    return trajectory"
   ]
  },
  {
   "cell_type": "code",
   "execution_count": 185,
   "id": "fa040c5d",
   "metadata": {},
   "outputs": [],
   "source": [
    "hook_num = 10"
   ]
  },
  {
   "cell_type": "code",
   "execution_count": 186,
   "id": "6ae1d02a",
   "metadata": {},
   "outputs": [],
   "source": [
    "traj_optim_path = traj_1_path = '/home/mo/Thesis/Evaluation/Trajektorientests/CSV/' + str(hook_num) + '/trajectory_0.csv'\n",
    "traj_1_path = '/home/mo/Thesis/Evaluation/Trajektorientests/CSV/' + str(hook_num) + '/trajectory_1.csv'\n",
    "traj_2_path = '/home/mo/Thesis/Evaluation/Trajektorientests/CSV/' + str(hook_num) + '/trajectory_2.csv'\n",
    "traj_3_path = '/home/mo/Thesis/Evaluation/Trajektorientests/CSV/' + str(hook_num) + '/trajectory_3.csv'\n",
    "traj_4_path = '/home/mo/Thesis/Evaluation/Trajektorientests/CSV/' + str(hook_num) + '/trajectory_4.csv'"
   ]
  },
  {
   "cell_type": "code",
   "execution_count": 187,
   "id": "aad60faa",
   "metadata": {},
   "outputs": [],
   "source": [
    "trajectory_optim = load_csv_to_trajectory(traj_optim_path)\n",
    "trajectory_1 = load_csv_to_trajectory(traj_1_path)\n",
    "trajectory_2 = load_csv_to_trajectory(traj_2_path)\n",
    "trajectory_3 = load_csv_to_trajectory(traj_3_path)\n",
    "trajectory_4 = load_csv_to_trajectory(traj_4_path)"
   ]
  },
  {
   "cell_type": "code",
   "execution_count": 188,
   "id": "edfb46e9",
   "metadata": {},
   "outputs": [],
   "source": [
    "def compute_rectangle_corners(trajectory, width=7, height=12):\n",
    "    \"\"\"\n",
    "    Berechnet die Rechteck-Eckpunkte (4 Stück) für jeden Trajektorienpunkt.\n",
    "\n",
    "    :param trajectory: Liste von ([x, y, z], [roll, pitch, yaw]) Einträgen\n",
    "    :param width: Breite des Rechtecks (in X-Richtung)\n",
    "    :param height: Höhe des Rechtecks (in Y-Richtung)\n",
    "    :return: Liste von Rechtecken, jedes als Liste von 4 Eckpunkten (jeweils [x, y, z])\n",
    "    \"\"\"\n",
    "    rectangles = []\n",
    "\n",
    "    # Rechteck im lokalen TCP-Koordinatensystem (XY-Ebene, Zentrum im Ursprung)\n",
    "    half_w = width / 2\n",
    "    half_h = height / 2\n",
    "    local_corners = np.array([\n",
    "        [-half_w, 0, -half_h],\n",
    "        [ half_w, 0, -half_h],\n",
    "        [ half_w, 0, half_h],\n",
    "        [-half_w, 0, half_h]\n",
    "    ])\n",
    "\n",
    "    for trans, rpy in trajectory:\n",
    "        # RPY in Radiant, falls nicht schon so\n",
    "        rot = R.from_euler('xyz', rpy, degrees=True)\n",
    "        rotated_corners = rot.apply(local_corners)\n",
    "        translated_corners = rotated_corners + np.array(trans)\n",
    "        rectangles.append(translated_corners.tolist())\n",
    "    return rectangles"
   ]
  },
  {
   "cell_type": "code",
   "execution_count": 189,
   "id": "05d04c48",
   "metadata": {},
   "outputs": [],
   "source": [
    "rectangles_optim = compute_rectangle_corners(trajectory_optim)\n",
    "rectangles_1 = compute_rectangle_corners(trajectory_1)\n",
    "rectangles_2 = compute_rectangle_corners(trajectory_2)\n",
    "rectangles_3 = compute_rectangle_corners(trajectory_3)\n",
    "rectangles_4 = compute_rectangle_corners(trajectory_4)"
   ]
  },
  {
   "cell_type": "code",
   "execution_count": 190,
   "id": "f78ad7a3",
   "metadata": {},
   "outputs": [],
   "source": [
    "def visualize_rectangles(rectangles, figsize=(6, 6), connect_points=None, \n",
    "                         secondary_rectangles=None, secondary_legend_title=None,\n",
    "                         hook_num = 0, trajectory_process = 1):\n",
    "    \"\"\"\n",
    "    Visualisiert Rechtecke + Trajektorie im 3D-Raum mit Legende und Bezeichnungen der Trajektorienpunkte.\n",
    "    \n",
    "    Zusätzlich kann ein zweiter Satz Rechtecke (grau & transparent) dargestellt werden – inkl. Mittelpunktslinie.\n",
    "\n",
    "    :param rectangles: Liste von Rechtecken (jeweils 4 Punkte [x, y, z])\n",
    "    :param figsize: Größe der Plotfläche (Breite, Höhe)\n",
    "    :param connect_points: Optionales Tupel mit zwei Punkten [x, y, z], die verbunden werden sollen\n",
    "    :param secondary_rectangles: Optionaler zweiter Satz Rechtecke (werden grau dargestellt)\n",
    "    :param secondary_legend_title: Optionaler Legenden-Eintrag für die grauen Rechtecke\n",
    "    \"\"\"\n",
    "    %matplotlib qt\n",
    "\n",
    "    fig = plt.figure(figsize=figsize)\n",
    "    ax = fig.add_subplot(111, projection='3d')\n",
    "    fig.suptitle(f\"Einfädelung Trajektorie Spitze -> Senke (TCP in WORLD-Frame)\", fontsize=14, y=0.98)\n",
    "\n",
    "    centers = []\n",
    "    cmap = cm.get_cmap('tab20')\n",
    "    legend_handles = []\n",
    "\n",
    "    # Berechnete Trajektorie (farbig)\n",
    "    for i, rect in enumerate(rectangles):\n",
    "        color = cmap(i / len(rectangles))\n",
    "        poly = Poly3DCollection([rect], facecolors=color, alpha=0.2, edgecolors=color)\n",
    "        ax.add_collection3d(poly)\n",
    "\n",
    "        if i == 0:\n",
    "            label = 'Pre-Position'\n",
    "        elif i == 1:\n",
    "            label = 'Spitze'\n",
    "        elif i == len(rectangles) - 1:\n",
    "            label = 'Loslassen'\n",
    "        else:\n",
    "            label = str(i + 1)\n",
    "\n",
    "        legend_handles.append(plt.Line2D([0], [0], marker='o', color='w', label=label,\n",
    "                                         markersize=10, markerfacecolor=color))\n",
    "\n",
    "        center = np.mean(np.array(rect), axis=0)\n",
    "        centers.append(center)\n",
    "        ax.scatter(*center, color='red', s=30)\n",
    "        ax.text(center[0]-5, center[1]-5, center[2], f\"P{i}\", color=color, alpha = 0.8, fontsize=12)\n",
    "\n",
    "    # Linie durch die berechneten Mittelpunkte\n",
    "    centers = np.array(centers)\n",
    "    ax.plot(centers[:, 0], centers[:, 1], centers[:, 2], color='black', linewidth=2)\n",
    "\n",
    "    # Beschriftung Hauptlinie\n",
    "    if len(centers) > 0:\n",
    "        ax.text(*centers[0], 'Pre-Position', color='black', fontsize=10)\n",
    "    if len(centers) > 2:\n",
    "        ax.text(*centers[-1], 'Loslassen', color='black', fontsize=10)\n",
    "\n",
    "    # Optimal-Trajektorie (grün)\n",
    "    if secondary_rectangles is not None:\n",
    "        secondary_centers = []\n",
    "        for rect in secondary_rectangles:\n",
    "            poly = Poly3DCollection([rect], facecolors='green', alpha=0.1, edgecolors='green')\n",
    "            ax.add_collection3d(poly)\n",
    "\n",
    "            center = np.mean(np.array(rect), axis=0)\n",
    "            secondary_centers.append(center)\n",
    "            ax.scatter(*center, color='green', s=20)\n",
    "\n",
    "        # Linie durch grüne Mittelpunkte\n",
    "        secondary_centers = np.array(secondary_centers)\n",
    "        ax.plot(secondary_centers[:, 0], secondary_centers[:, 1], secondary_centers[:, 2],\n",
    "                color='green', linewidth=1, linestyle='-')\n",
    "\n",
    "        # Legendenhandle für Optimal-Trajektorie\n",
    "        if secondary_legend_title:\n",
    "            legend_handles.append(plt.Line2D([0], [0], marker='o', color='w', label=secondary_legend_title,\n",
    "                                             markersize=10, markerfacecolor='green'))\n",
    "\n",
    "    # Einzeichnen von Spitze und Senke inkl. graue Verbindungslinie\n",
    "    if connect_points is not None and len(connect_points) == 2:\n",
    "        p1, p2 = np.array(connect_points[0]), np.array(connect_points[1])\n",
    "        ax.plot([p1[0], p2[0]], [p1[1], p2[1]], [p1[2], p2[2]],\n",
    "                color='gray', linestyle='dashed', linewidth=2)\n",
    "        ax.scatter(*p1, 'o', color='magenta', linewidth=6)\n",
    "        ax.scatter(*p2, 'o', color='magenta', linewidth=6)\n",
    "        ax.text(*p1, 'Spitze', color='magenta', fontsize=12, ha='center')\n",
    "        ax.text(*p2, 'Senke', color='magenta', fontsize=12, ha='center')\n",
    "\n",
    "    # Achseneinstellungen\n",
    "    ax.set_xlabel('X')\n",
    "    ax.set_ylabel('Y')\n",
    "    ax.set_zlabel('Z')\n",
    "    ax.set_title(f\"Haken {hook_num}, Trajektorien-Ansatz {trajectory_process}\", fontsize = 10)\n",
    "\n",
    "    all_points = rectangles + (secondary_rectangles if secondary_rectangles else [])\n",
    "    all_points = np.vstack(all_points)\n",
    "    mid = np.mean(all_points, axis=0)\n",
    "    max_range = np.ptp(all_points, axis=0).max() / 2\n",
    "    for i, axis in enumerate([ax.set_xlim, ax.set_ylim, ax.set_zlim]):\n",
    "        axis(mid[i] - max_range, mid[i] + max_range)\n",
    "\n",
    "    ax.set_box_aspect([1, 1, 1])\n",
    "    ax.legend(handles=legend_handles, title=\"Trajektorien-Punkte\", loc='upper left')\n",
    "    plt.tight_layout(pad=0.5, w_pad=0.5, h_pad=0.5)\n",
    "    plt.show()"
   ]
  },
  {
   "cell_type": "code",
   "execution_count": 42,
   "id": "5a944d76",
   "metadata": {},
   "outputs": [
    {
     "name": "stderr",
     "output_type": "stream",
     "text": [
      "/tmp/ipykernel_5205/3194331675.py:22: MatplotlibDeprecationWarning:\n",
      "\n",
      "The get_cmap function was deprecated in Matplotlib 3.7 and will be removed two minor releases later. Use ``matplotlib.colormaps[name]`` or ``matplotlib.colormaps.get_cmap(obj)`` instead.\n",
      "\n"
     ]
    }
   ],
   "source": [
    "visualize_rectangles(rectangles = rectangles_1,\n",
    "                     secondary_rectangles = rectangles_optim,\n",
    "                     secondary_legend_title = 'optimale Trajektorie',\n",
    "                     connect_points = (trajectory_1[1][0], trajectory_1[-1][0]),\n",
    "                     hook_num = hook_num,\n",
    "                     trajectory_process = 1)\n",
    "\n",
    "visualize_rectangles(rectangles = rectangles_2,\n",
    "                     secondary_rectangles = rectangles_optim,\n",
    "                     secondary_legend_title = 'optimale Trajektorie',\n",
    "                     connect_points = (trajectory_1[1][0], trajectory_1[-1][0]),\n",
    "                     hook_num = hook_num,\n",
    "                     trajectory_process = 2)\n",
    "\n",
    "visualize_rectangles(rectangles = rectangles_3,\n",
    "                     secondary_rectangles = rectangles_optim,\n",
    "                     secondary_legend_title = 'optimale Trajektorie',\n",
    "                     connect_points = (trajectory_1[1][0], trajectory_1[-1][0]),\n",
    "                     hook_num = hook_num,\n",
    "                     trajectory_process = 3)\n",
    "\n",
    "visualize_rectangles(rectangles = rectangles_4,\n",
    "                     secondary_rectangles = rectangles_optim,\n",
    "                     secondary_legend_title = 'optimale Trajektorie',\n",
    "                     connect_points = (trajectory_1[1][0], trajectory_1[-1][0]),\n",
    "                     hook_num = hook_num,\n",
    "                     trajectory_process = 4)"
   ]
  },
  {
   "cell_type": "code",
   "execution_count": 191,
   "id": "f0769d9e",
   "metadata": {},
   "outputs": [],
   "source": [
    "import plotly.graph_objects as go\n",
    "import numpy as np\n",
    "import matplotlib.pyplot as plt\n",
    "import matplotlib.cm as cm"
   ]
  },
  {
   "cell_type": "code",
   "execution_count": 192,
   "id": "0653e612",
   "metadata": {},
   "outputs": [],
   "source": [
    "def visualize_rectangles_html(rectangles, figsize=(16, 9), connect_points=None, \n",
    "                              secondary_rectangles=None, secondary_legend_title=None,\n",
    "                              hook_num=0, trajectory_process=1, html_filename=\"/home/mo/Thesis/Evaluation/Trajektorientests/CSV/plot_interaktiv.html\"):\n",
    "    \"\"\"\n",
    "    Visualisiert Rechtecke und Trajektorien im 3D-Raum als interaktive HTML-Datei.\n",
    "    \n",
    "    :param rectangles: Liste von Rechtecken (jeweils 4 Punkte [x, y, z])\n",
    "    :param figsize: Größe der Plotfläche (Breite, Höhe)\n",
    "    :param connect_points: Optionales Tupel mit zwei Punkten [x, y, z], die verbunden werden sollen\n",
    "    :param secondary_rectangles: Optionaler zweiter Satz Rechtecke (werden grau dargestellt)\n",
    "    :param secondary_legend_title: Optionaler Legenden-Eintrag für die grauen Rechtecke\n",
    "    :param html_filename: Der Name der HTML-Datei, die erstellt wird\n",
    "    \"\"\"\n",
    "    fig = go.Figure()\n",
    "\n",
    "    # Berechnete Trajektorie (farbig)\n",
    "    cmap = plt.cm.get_cmap('tab20')\n",
    "    centers = []\n",
    "\n",
    "    for i, rect in enumerate(rectangles):\n",
    "        # Verwende rgba-String für die Farbe (anstatt des RGBA-Tupels)\n",
    "        color = f\"rgba({int(cmap(i / len(rectangles))[0] * 255)}, \" \\\n",
    "                f\"{int(cmap(i / len(rectangles))[1] * 255)}, \" \\\n",
    "                f\"{int(cmap(i / len(rectangles))[2] * 255)}, 0.8)\"\n",
    "        x, y, z = zip(*rect)\n",
    "        fig.add_trace(go.Mesh3d(x=x, y=y, z=z, color=color, opacity=0.8, \n",
    "                               name=f'P{i+1}'))\n",
    "\n",
    "        center = np.mean(np.array(rect), axis=0)\n",
    "        centers.append(center)\n",
    "        \n",
    "        # Text für \"P0\", \"P1\", etc.\n",
    "        if i == 0:\n",
    "            text_label = ''\n",
    "            # text_label = 'Pre-Position'\n",
    "        elif i == 1:\n",
    "            text_label = ''\n",
    "            # text_label = 'Spitze'\n",
    "        elif i == len(rectangles) - 1:\n",
    "            text_label = ''\n",
    "            # text_label = 'Loslassen'\n",
    "        else:\n",
    "            text_label = f'P{i}'  # Standardtext für den Punkt\n",
    "        \n",
    "        # Füge den Text an den Punkten hinzu (mit entsprechender Position)\n",
    "        fig.add_trace(go.Scatter3d(x=[center[0]], y=[center[1]], z=[center[2]], \n",
    "                                   mode='markers+text', marker=dict(size=3, color='red'),\n",
    "                                   text=text_label, textposition=\"top center\", textfont=dict(size=12), showlegend=False))\n",
    "\n",
    "        # Hinzufügen der Umrandung der Rechtecke mit einer Linie\n",
    "        for j in range(4):\n",
    "            x0, y0, z0 = rect[j]\n",
    "            x1, y1, z1 = rect[(j + 1) % 4]  # Nächster Punkt im Rechteck\n",
    "            fig.add_trace(go.Scatter3d(x=[x0, x1], y=[y0, y1], z=[z0, z1], \n",
    "                                       mode='lines', \n",
    "                                       line=dict(color=color, width=4),  # Keine opacity hier\n",
    "                                       showlegend=False))\n",
    "\n",
    "    # Linie durch die berechneten Mittelpunkte\n",
    "    centers = np.array(centers)\n",
    "    fig.add_trace(go.Scatter3d(x=centers[:, 0], y=centers[:, 1], z=centers[:, 2],\n",
    "                               mode='lines', line=dict(color='black', width=2), name='Berechnete Hakenlinie'))\n",
    "\n",
    "    # Beschriftung der ersten und letzten Punkte\n",
    "    if len(centers) > 0:\n",
    "        fig.add_trace(go.Scatter3d(x=[centers[0, 0]], y=[centers[0, 1]], z=[centers[0, 2]],\n",
    "                                   mode='text', text=['Pre-Position'], textposition=\"top center\", textfont=dict(size=10), showlegend=False))\n",
    "    if len(centers) > 2:\n",
    "        fig.add_trace(go.Scatter3d(x=[centers[-1, 0]], y=[centers[-1, 1]], z=[centers[-1, 2]],\n",
    "                                   mode='text', text=['Loslassen'], textposition=\"top center\", textfont=dict(size=10), showlegend=False))\n",
    "\n",
    "    # Optimal-Trajektorie (grün) – Zweite Rechtecke\n",
    "    if secondary_rectangles:\n",
    "        for rect in secondary_rectangles:\n",
    "            x, y, z = zip(*rect)\n",
    "            fig.add_trace(go.Mesh3d(x=x, y=y, z=z, color='rgba(0,255,0,0.2)', opacity=0.8, \n",
    "                                   name=secondary_legend_title or 'Optimale Trajektorie'))\n",
    "        \n",
    "            # Hinzufügen der Umrandung der Rechtecke mit einer Linie\n",
    "            for j in range(4):\n",
    "                x0, y0, z0 = rect[j]\n",
    "                x1, y1, z1 = rect[(j + 1) % 4]  # Nächster Punkt im Rechteck\n",
    "                fig.add_trace(go.Scatter3d(x=[x0, x1], y=[y0, y1], z=[z0, z1], \n",
    "                                           mode='lines', \n",
    "                                           line=dict(color='rgba(0,255,0,0.2)', width=3),  # Keine opacity hier\n",
    "                                           showlegend=False))\n",
    "            \n",
    "            # Hinzufügen eines roten Punktes in der Mitte des Rechtecks\n",
    "            center = np.mean(np.array(rect), axis=0)\n",
    "            fig.add_trace(go.Scatter3d(x=[center[0]], y=[center[1]], z=[center[2]], \n",
    "                                       mode='markers', marker=dict(size=4, color='green'), \n",
    "                                       name=f'Mitte P{i+1}', showlegend=False))\n",
    "        \n",
    "        # Mittelpunkte der sekundären Rechtecke sammeln\n",
    "        secondary_centers = [np.mean(np.array(rect), axis=0) for rect in secondary_rectangles]\n",
    "        secondary_centers = np.array(secondary_centers)\n",
    "\n",
    "        # Linie durch die Mittelpunkte zeichnen\n",
    "        fig.add_trace(go.Scatter3d(\n",
    "            x=secondary_centers[:, 0], y=secondary_centers[:, 1], z=secondary_centers[:, 2],\n",
    "            mode='lines',\n",
    "            line=dict(color='green', width=2),\n",
    "            name='Optimale Hakenlinie'\n",
    "        ))\n",
    "    \n",
    "    # Einzeichnen von Spitze und Senke inkl. graue Verbindungslinie\n",
    "    if connect_points:\n",
    "        p1, p2 = np.array(connect_points[0]), np.array(connect_points[1])\n",
    "        fig.add_trace(go.Scatter3d(x=[p1[0], p2[0]], y=[p1[1], p2[1]], z=[p1[2], p2[2]], \n",
    "                                   mode='lines', line=dict(color='gray', dash='dash'), name='Direkte Gerade Spitze -> Senke'))\n",
    "        fig.add_trace(go.Scatter3d(x=[p1[0]], y=[p1[1]], z=[p1[2]], mode='markers', \n",
    "                                   marker=dict(size=8, color='magenta'), name='Spitze'))\n",
    "        fig.add_trace(go.Scatter3d(x=[p2[0]], y=[p2[1]], z=[p2[2]], mode='markers', \n",
    "                                   marker=dict(size=8, color='magenta'), name='Senke'))\n",
    "        \n",
    "        # Hinzufügen von Text \"Spitze\" und \"Senke\"\n",
    "        fig.add_trace(go.Scatter3d(x=[p1[0]], y=[p1[1]], z=[p1[2]], mode='text', \n",
    "                                   text=['Spitze'], textposition=\"top center\", textfont=dict(size=10), showlegend=False))\n",
    "        fig.add_trace(go.Scatter3d(x=[p2[0]], y=[p2[1]], z=[p2[2]], mode='text', \n",
    "                                   text=['Senke'], textposition=\"top center\", textfont=dict(size=10), showlegend=False))\n",
    "\n",
    "    # Achsen und Layout\n",
    "    fig.update_layout(scene=dict(\n",
    "                        xaxis_title='X',\n",
    "                        yaxis_title='Y',\n",
    "                        zaxis_title='Z',\n",
    "                        aspectmode='cube'),\n",
    "                      title=f'Haken {hook_num}, Trajektorien-Ansatz {trajectory_process}',\n",
    "                      legend=dict(title=\"Legende\"))\n",
    "    \n",
    "    # HTML exportieren\n",
    "    fig.write_html(html_filename)\n",
    "    print(f\"HTML-Datei '{html_filename}' erfolgreich erstellt!\")\n",
    "    fig.show()"
   ]
  },
  {
   "cell_type": "code",
   "execution_count": 193,
   "id": "2e400931",
   "metadata": {},
   "outputs": [
    {
     "name": "stdout",
     "output_type": "stream",
     "text": [
      "HTML-Datei '/home/mo/Thesis/Evaluation/Trajektorientests/CSV/traj1.html' erfolgreich erstellt!\n"
     ]
    },
    {
     "name": "stderr",
     "output_type": "stream",
     "text": [
      "/tmp/ipykernel_5205/2458576168.py:17: MatplotlibDeprecationWarning:\n",
      "\n",
      "The get_cmap function was deprecated in Matplotlib 3.7 and will be removed two minor releases later. Use ``matplotlib.colormaps[name]`` or ``matplotlib.colormaps.get_cmap(obj)`` instead.\n",
      "\n"
     ]
    },
    {
     "data": {
      "application/vnd.plotly.v1+json": {
       "config": {
        "plotlyServerURL": "https://plot.ly"
       },
       "data": [
        {
         "color": "rgba(31, 119, 180, 0.8)",
         "name": "P1",
         "opacity": 0.8,
         "type": "mesh3d",
         "x": [
          -191.71764203234227,
          -197.72217828381585,
          -196.15977316530882,
          -190.15523691383524
         ],
         "y": [
          937.4081871523277,
          935.110322066078,
          924.5122939936599,
          926.8101590799097
         ],
         "z": [
          740.1365396168491,
          737.3679008809114,
          742.7753671287859,
          745.5440058647235
         ]
        },
        {
         "marker": {
          "color": "red",
          "size": 3
         },
         "mode": "markers+text",
         "showlegend": false,
         "text": "",
         "textfont": {
          "size": 12
         },
         "textposition": "top center",
         "type": "scatter3d",
         "x": [
          -193.93870759882554
         ],
         "y": [
          930.9602405729938
         ],
         "z": [
          741.4559533728175
         ]
        },
        {
         "line": {
          "color": "rgba(31, 119, 180, 0.8)",
          "width": 4
         },
         "mode": "lines",
         "showlegend": false,
         "type": "scatter3d",
         "x": [
          -191.71764203234227,
          -197.72217828381585
         ],
         "y": [
          937.4081871523277,
          935.110322066078
         ],
         "z": [
          740.1365396168491,
          737.3679008809114
         ]
        },
        {
         "line": {
          "color": "rgba(31, 119, 180, 0.8)",
          "width": 4
         },
         "mode": "lines",
         "showlegend": false,
         "type": "scatter3d",
         "x": [
          -197.72217828381585,
          -196.15977316530882
         ],
         "y": [
          935.110322066078,
          924.5122939936599
         ],
         "z": [
          737.3679008809114,
          742.7753671287859
         ]
        },
        {
         "line": {
          "color": "rgba(31, 119, 180, 0.8)",
          "width": 4
         },
         "mode": "lines",
         "showlegend": false,
         "type": "scatter3d",
         "x": [
          -196.15977316530882,
          -190.15523691383524
         ],
         "y": [
          924.5122939936599,
          926.8101590799097
         ],
         "z": [
          742.7753671287859,
          745.5440058647235
         ]
        },
        {
         "line": {
          "color": "rgba(31, 119, 180, 0.8)",
          "width": 4
         },
         "mode": "lines",
         "showlegend": false,
         "type": "scatter3d",
         "x": [
          -190.15523691383524,
          -191.71764203234227
         ],
         "y": [
          926.8101590799097,
          937.4081871523277
         ],
         "z": [
          745.5440058647235,
          740.1365396168491
         ]
        },
        {
         "color": "rgba(174, 199, 232, 0.8)",
         "name": "P2",
         "opacity": 0.8,
         "type": "mesh3d",
         "x": [
          -182.69176740757607,
          -188.97289118209173,
          -187.370103228438,
          -181.08897945392235
         ],
         "y": [
          935.2652449805494,
          933.5236293535347,
          922.2396681426455,
          923.9812837696602
         ],
         "z": [
          736.8520731261441,
          734.2997684544889,
          738.0552032051897,
          740.6075078768449
         ]
        },
        {
         "marker": {
          "color": "red",
          "size": 3
         },
         "mode": "markers+text",
         "showlegend": false,
         "text": "",
         "textfont": {
          "size": 12
         },
         "textposition": "top center",
         "type": "scatter3d",
         "x": [
          -185.03093531800704
         ],
         "y": [
          928.7524565615975
         ],
         "z": [
          737.4536381656669
         ]
        },
        {
         "line": {
          "color": "rgba(174, 199, 232, 0.8)",
          "width": 4
         },
         "mode": "lines",
         "showlegend": false,
         "type": "scatter3d",
         "x": [
          -182.69176740757607,
          -188.97289118209173
         ],
         "y": [
          935.2652449805494,
          933.5236293535347
         ],
         "z": [
          736.8520731261441,
          734.2997684544889
         ]
        },
        {
         "line": {
          "color": "rgba(174, 199, 232, 0.8)",
          "width": 4
         },
         "mode": "lines",
         "showlegend": false,
         "type": "scatter3d",
         "x": [
          -188.97289118209173,
          -187.370103228438
         ],
         "y": [
          933.5236293535347,
          922.2396681426455
         ],
         "z": [
          734.2997684544889,
          738.0552032051897
         ]
        },
        {
         "line": {
          "color": "rgba(174, 199, 232, 0.8)",
          "width": 4
         },
         "mode": "lines",
         "showlegend": false,
         "type": "scatter3d",
         "x": [
          -187.370103228438,
          -181.08897945392235
         ],
         "y": [
          922.2396681426455,
          923.9812837696602
         ],
         "z": [
          738.0552032051897,
          740.6075078768449
         ]
        },
        {
         "line": {
          "color": "rgba(174, 199, 232, 0.8)",
          "width": 4
         },
         "mode": "lines",
         "showlegend": false,
         "type": "scatter3d",
         "x": [
          -181.08897945392235,
          -182.69176740757607
         ],
         "y": [
          923.9812837696602,
          935.2652449805494
         ],
         "z": [
          740.6075078768449,
          736.8520731261441
         ]
        },
        {
         "color": "rgba(255, 187, 120, 0.8)",
         "name": "P3",
         "opacity": 0.8,
         "type": "mesh3d",
         "x": [
          -181.87785853966335,
          -188.05539815663388,
          -186.1448692473237,
          -179.96732963035316
         ],
         "y": [
          935.121605178019,
          933.1135826784636,
          921.9790698647915,
          923.987092364347
         ],
         "z": [
          735.9589449710144,
          733.3501425787204,
          737.3964376357895,
          740.0052400280836
         ]
        },
        {
         "marker": {
          "color": "red",
          "size": 3
         },
         "mode": "markers+text",
         "showlegend": false,
         "text": "P2",
         "textfont": {
          "size": 12
         },
         "textposition": "top center",
         "type": "scatter3d",
         "x": [
          -184.01136389349352
         ],
         "y": [
          928.5503375214053
         ],
         "z": [
          736.6776913034018
         ]
        },
        {
         "line": {
          "color": "rgba(255, 187, 120, 0.8)",
          "width": 4
         },
         "mode": "lines",
         "showlegend": false,
         "type": "scatter3d",
         "x": [
          -181.87785853966335,
          -188.05539815663388
         ],
         "y": [
          935.121605178019,
          933.1135826784636
         ],
         "z": [
          735.9589449710144,
          733.3501425787204
         ]
        },
        {
         "line": {
          "color": "rgba(255, 187, 120, 0.8)",
          "width": 4
         },
         "mode": "lines",
         "showlegend": false,
         "type": "scatter3d",
         "x": [
          -188.05539815663388,
          -186.1448692473237
         ],
         "y": [
          933.1135826784636,
          921.9790698647915
         ],
         "z": [
          733.3501425787204,
          737.3964376357895
         ]
        },
        {
         "line": {
          "color": "rgba(255, 187, 120, 0.8)",
          "width": 4
         },
         "mode": "lines",
         "showlegend": false,
         "type": "scatter3d",
         "x": [
          -186.1448692473237,
          -179.96732963035316
         ],
         "y": [
          921.9790698647915,
          923.987092364347
         ],
         "z": [
          737.3964376357895,
          740.0052400280836
         ]
        },
        {
         "line": {
          "color": "rgba(255, 187, 120, 0.8)",
          "width": 4
         },
         "mode": "lines",
         "showlegend": false,
         "type": "scatter3d",
         "x": [
          -179.96732963035316,
          -181.87785853966335
         ],
         "y": [
          923.987092364347,
          935.121605178019
         ],
         "z": [
          740.0052400280836,
          735.9589449710144
         ]
        },
        {
         "color": "rgba(152, 223, 138, 0.8)",
         "name": "P4",
         "opacity": 0.8,
         "type": "mesh3d",
         "x": [
          -180.91807607574214,
          -186.95870411184904,
          -185.06442351808465,
          -179.02379548197774
         ],
         "y": [
          934.9104361888038,
          932.6419776710919,
          921.8209384675889,
          924.0893969853008
         ],
         "z": [
          734.9199839774927,
          732.2061474159401,
          737.0348958654184,
          739.7487324269711
         ]
        },
        {
         "marker": {
          "color": "red",
          "size": 3
         },
         "mode": "markers+text",
         "showlegend": false,
         "text": "P3",
         "textfont": {
          "size": 12
         },
         "textposition": "top center",
         "type": "scatter3d",
         "x": [
          -182.9912497969134
         ],
         "y": [
          928.3656873281964
         ],
         "z": [
          735.9774399214556
         ]
        },
        {
         "line": {
          "color": "rgba(152, 223, 138, 0.8)",
          "width": 4
         },
         "mode": "lines",
         "showlegend": false,
         "type": "scatter3d",
         "x": [
          -180.91807607574214,
          -186.95870411184904
         ],
         "y": [
          934.9104361888038,
          932.6419776710919
         ],
         "z": [
          734.9199839774927,
          732.2061474159401
         ]
        },
        {
         "line": {
          "color": "rgba(152, 223, 138, 0.8)",
          "width": 4
         },
         "mode": "lines",
         "showlegend": false,
         "type": "scatter3d",
         "x": [
          -186.95870411184904,
          -185.06442351808465
         ],
         "y": [
          932.6419776710919,
          921.8209384675889
         ],
         "z": [
          732.2061474159401,
          737.0348958654184
         ]
        },
        {
         "line": {
          "color": "rgba(152, 223, 138, 0.8)",
          "width": 4
         },
         "mode": "lines",
         "showlegend": false,
         "type": "scatter3d",
         "x": [
          -185.06442351808465,
          -179.02379548197774
         ],
         "y": [
          921.8209384675889,
          924.0893969853008
         ],
         "z": [
          737.0348958654184,
          739.7487324269711
         ]
        },
        {
         "line": {
          "color": "rgba(152, 223, 138, 0.8)",
          "width": 4
         },
         "mode": "lines",
         "showlegend": false,
         "type": "scatter3d",
         "x": [
          -179.02379548197774,
          -180.91807607574214
         ],
         "y": [
          924.0893969853008,
          934.9104361888038
         ],
         "z": [
          739.7487324269711,
          734.9199839774927
         ]
        },
        {
         "color": "rgba(255, 152, 150, 0.8)",
         "name": "P5",
         "opacity": 0.8,
         "type": "mesh3d",
         "x": [
          -180.93479111064252,
          -187.22118654108988,
          -183.00374946355217,
          -176.7173540331048
         ],
         "y": [
          933.3134115882315,
          932.4228967571844,
          923.0247442204338,
          923.9152590514809
         ],
         "z": [
          739.9803923900819,
          737.0328144305131,
          730.8774953166914,
          733.8250732762601
         ]
        },
        {
         "marker": {
          "color": "red",
          "size": 3
         },
         "mode": "markers+text",
         "showlegend": false,
         "text": "P4",
         "textfont": {
          "size": 12
         },
         "textposition": "top center",
         "type": "scatter3d",
         "x": [
          -181.96927028709734
         ],
         "y": [
          928.1690779043327
         ],
         "z": [
          735.4289438533865
         ]
        },
        {
         "line": {
          "color": "rgba(255, 152, 150, 0.8)",
          "width": 4
         },
         "mode": "lines",
         "showlegend": false,
         "type": "scatter3d",
         "x": [
          -180.93479111064252,
          -187.22118654108988
         ],
         "y": [
          933.3134115882315,
          932.4228967571844
         ],
         "z": [
          739.9803923900819,
          737.0328144305131
         ]
        },
        {
         "line": {
          "color": "rgba(255, 152, 150, 0.8)",
          "width": 4
         },
         "mode": "lines",
         "showlegend": false,
         "type": "scatter3d",
         "x": [
          -187.22118654108988,
          -183.00374946355217
         ],
         "y": [
          932.4228967571844,
          923.0247442204338
         ],
         "z": [
          737.0328144305131,
          730.8774953166914
         ]
        },
        {
         "line": {
          "color": "rgba(255, 152, 150, 0.8)",
          "width": 4
         },
         "mode": "lines",
         "showlegend": false,
         "type": "scatter3d",
         "x": [
          -183.00374946355217,
          -176.7173540331048
         ],
         "y": [
          923.0247442204338,
          923.9152590514809
         ],
         "z": [
          730.8774953166914,
          733.8250732762601
         ]
        },
        {
         "line": {
          "color": "rgba(255, 152, 150, 0.8)",
          "width": 4
         },
         "mode": "lines",
         "showlegend": false,
         "type": "scatter3d",
         "x": [
          -176.7173540331048,
          -180.93479111064252
         ],
         "y": [
          923.9152590514809,
          933.3134115882315
         ],
         "z": [
          733.8250732762601,
          739.9803923900819
         ]
        },
        {
         "color": "rgba(197, 176, 213, 0.8)",
         "name": "P6",
         "opacity": 0.8,
         "type": "mesh3d",
         "x": [
          -174.85136897399317,
          -180.78984203504865,
          -186.93574987448747,
          -180.997276813432
         ],
         "y": [
          931.9435759770832,
          933.9372293876983,
          926.0766967695314,
          924.0830433589164
         ],
         "z": [
          733.0382647059328,
          729.9141834359492,
          736.5805050444421,
          739.7045863144257
         ]
        },
        {
         "marker": {
          "color": "red",
          "size": 3
         },
         "mode": "markers+text",
         "showlegend": false,
         "text": "P5",
         "textfont": {
          "size": 12
         },
         "textposition": "top center",
         "type": "scatter3d",
         "x": [
          -180.89355942424032
         ],
         "y": [
          929.0101363733073
         ],
         "z": [
          734.8093848751876
         ]
        },
        {
         "line": {
          "color": "rgba(197, 176, 213, 0.8)",
          "width": 4
         },
         "mode": "lines",
         "showlegend": false,
         "type": "scatter3d",
         "x": [
          -174.85136897399317,
          -180.78984203504865
         ],
         "y": [
          931.9435759770832,
          933.9372293876983
         ],
         "z": [
          733.0382647059328,
          729.9141834359492
         ]
        },
        {
         "line": {
          "color": "rgba(197, 176, 213, 0.8)",
          "width": 4
         },
         "mode": "lines",
         "showlegend": false,
         "type": "scatter3d",
         "x": [
          -180.78984203504865,
          -186.93574987448747
         ],
         "y": [
          933.9372293876983,
          926.0766967695314
         ],
         "z": [
          729.9141834359492,
          736.5805050444421
         ]
        },
        {
         "line": {
          "color": "rgba(197, 176, 213, 0.8)",
          "width": 4
         },
         "mode": "lines",
         "showlegend": false,
         "type": "scatter3d",
         "x": [
          -186.93574987448747,
          -180.997276813432
         ],
         "y": [
          926.0766967695314,
          924.0830433589164
         ],
         "z": [
          736.5805050444421,
          739.7045863144257
         ]
        },
        {
         "line": {
          "color": "rgba(197, 176, 213, 0.8)",
          "width": 4
         },
         "mode": "lines",
         "showlegend": false,
         "type": "scatter3d",
         "x": [
          -180.997276813432,
          -174.85136897399317
         ],
         "y": [
          924.0830433589164,
          931.9435759770832
         ],
         "z": [
          739.7045863144257,
          733.0382647059328
         ]
        },
        {
         "color": "rgba(140, 86, 75, 0.8)",
         "name": "P7",
         "opacity": 0.8,
         "type": "mesh3d",
         "x": [
          -177.82895262295662,
          -183.8342963579506,
          -181.73736153537814,
          -175.73201780038417
         ],
         "y": [
          934.3679332409323,
          932.0010188226909,
          921.2001894610622,
          923.5671038793037
         ],
         "z": [
          733.1374079321864,
          730.4293527700287,
          735.2194414384006,
          737.9274966005584
         ]
        },
        {
         "marker": {
          "color": "red",
          "size": 3
         },
         "mode": "markers+text",
         "showlegend": false,
         "text": "P6",
         "textfont": {
          "size": 12
         },
         "textposition": "top center",
         "type": "scatter3d",
         "x": [
          -179.78315707916738
         ],
         "y": [
          927.7840613509973
         ],
         "z": [
          734.1784246852935
         ]
        },
        {
         "line": {
          "color": "rgba(140, 86, 75, 0.8)",
          "width": 4
         },
         "mode": "lines",
         "showlegend": false,
         "type": "scatter3d",
         "x": [
          -177.82895262295662,
          -183.8342963579506
         ],
         "y": [
          934.3679332409323,
          932.0010188226909
         ],
         "z": [
          733.1374079321864,
          730.4293527700287
         ]
        },
        {
         "line": {
          "color": "rgba(140, 86, 75, 0.8)",
          "width": 4
         },
         "mode": "lines",
         "showlegend": false,
         "type": "scatter3d",
         "x": [
          -183.8342963579506,
          -181.73736153537814
         ],
         "y": [
          932.0010188226909,
          921.2001894610622
         ],
         "z": [
          730.4293527700287,
          735.2194414384006
         ]
        },
        {
         "line": {
          "color": "rgba(140, 86, 75, 0.8)",
          "width": 4
         },
         "mode": "lines",
         "showlegend": false,
         "type": "scatter3d",
         "x": [
          -181.73736153537814,
          -175.73201780038417
         ],
         "y": [
          921.2001894610622,
          923.5671038793037
         ],
         "z": [
          735.2194414384006,
          737.9274966005584
         ]
        },
        {
         "line": {
          "color": "rgba(140, 86, 75, 0.8)",
          "width": 4
         },
         "mode": "lines",
         "showlegend": false,
         "type": "scatter3d",
         "x": [
          -175.73201780038417,
          -177.82895262295662
         ],
         "y": [
          923.5671038793037,
          934.3679332409323
         ],
         "z": [
          737.9274966005584,
          733.1374079321864
         ]
        },
        {
         "color": "rgba(227, 119, 194, 0.8)",
         "name": "P8",
         "opacity": 0.8,
         "type": "mesh3d",
         "x": [
          -177.17379248552328,
          -182.86431964663728,
          -180.35332635639605,
          -174.66279919528205
         ],
         "y": [
          934.1821526022911,
          931.17789404877,
          921.025256137742,
          924.0295146912631
         ],
         "z": [
          732.0664583599993,
          729.3110398487347,
          735.1948189186795,
          737.9502374299441
         ]
        },
        {
         "marker": {
          "color": "red",
          "size": 3
         },
         "mode": "markers+text",
         "showlegend": false,
         "text": "P7",
         "textfont": {
          "size": 12
         },
         "textposition": "top center",
         "type": "scatter3d",
         "x": [
          -178.76355942095967
         ],
         "y": [
          927.6037043700165
         ],
         "z": [
          733.6306386393394
         ]
        },
        {
         "line": {
          "color": "rgba(227, 119, 194, 0.8)",
          "width": 4
         },
         "mode": "lines",
         "showlegend": false,
         "type": "scatter3d",
         "x": [
          -177.17379248552328,
          -182.86431964663728
         ],
         "y": [
          934.1821526022911,
          931.17789404877
         ],
         "z": [
          732.0664583599993,
          729.3110398487347
         ]
        },
        {
         "line": {
          "color": "rgba(227, 119, 194, 0.8)",
          "width": 4
         },
         "mode": "lines",
         "showlegend": false,
         "type": "scatter3d",
         "x": [
          -182.86431964663728,
          -180.35332635639605
         ],
         "y": [
          931.17789404877,
          921.025256137742
         ],
         "z": [
          729.3110398487347,
          735.1948189186795
         ]
        },
        {
         "line": {
          "color": "rgba(227, 119, 194, 0.8)",
          "width": 4
         },
         "mode": "lines",
         "showlegend": false,
         "type": "scatter3d",
         "x": [
          -180.35332635639605,
          -174.66279919528205
         ],
         "y": [
          921.025256137742,
          924.0295146912631
         ],
         "z": [
          735.1948189186795,
          737.9502374299441
         ]
        },
        {
         "line": {
          "color": "rgba(227, 119, 194, 0.8)",
          "width": 4
         },
         "mode": "lines",
         "showlegend": false,
         "type": "scatter3d",
         "x": [
          -174.66279919528205,
          -177.17379248552328
         ],
         "y": [
          924.0295146912631,
          934.1821526022911
         ],
         "z": [
          737.9502374299441,
          732.0664583599993
         ]
        },
        {
         "color": "rgba(127, 127, 127, 0.8)",
         "name": "P9",
         "opacity": 0.8,
         "type": "mesh3d",
         "x": [
          -176.43501062650665,
          -182.66710389658678,
          -178.75435586762154,
          -172.5222625975414
         ],
         "y": [
          931.2393614727329,
          931.4565167049708,
          923.6202555166707,
          923.4031002844328
         ],
         "z": [
          738.9218330801688,
          735.7416039880853,
          727.5389572536118,
          730.7191863456952
         ]
        },
        {
         "marker": {
          "color": "red",
          "size": 3
         },
         "mode": "markers+text",
         "showlegend": false,
         "text": "P8",
         "textfont": {
          "size": 12
         },
         "textposition": "top center",
         "type": "scatter3d",
         "x": [
          -177.5946832470641
         ],
         "y": [
          927.4298084947018
         ],
         "z": [
          733.2303951668903
         ]
        },
        {
         "line": {
          "color": "rgba(127, 127, 127, 0.8)",
          "width": 4
         },
         "mode": "lines",
         "showlegend": false,
         "type": "scatter3d",
         "x": [
          -176.43501062650665,
          -182.66710389658678
         ],
         "y": [
          931.2393614727329,
          931.4565167049708
         ],
         "z": [
          738.9218330801688,
          735.7416039880853
         ]
        },
        {
         "line": {
          "color": "rgba(127, 127, 127, 0.8)",
          "width": 4
         },
         "mode": "lines",
         "showlegend": false,
         "type": "scatter3d",
         "x": [
          -182.66710389658678,
          -178.75435586762154
         ],
         "y": [
          931.4565167049708,
          923.6202555166707
         ],
         "z": [
          735.7416039880853,
          727.5389572536118
         ]
        },
        {
         "line": {
          "color": "rgba(127, 127, 127, 0.8)",
          "width": 4
         },
         "mode": "lines",
         "showlegend": false,
         "type": "scatter3d",
         "x": [
          -178.75435586762154,
          -172.5222625975414
         ],
         "y": [
          923.6202555166707,
          923.4031002844328
         ],
         "z": [
          727.5389572536118,
          730.7191863456952
         ]
        },
        {
         "line": {
          "color": "rgba(127, 127, 127, 0.8)",
          "width": 4
         },
         "mode": "lines",
         "showlegend": false,
         "type": "scatter3d",
         "x": [
          -172.5222625975414,
          -176.43501062650665
         ],
         "y": [
          923.4031002844328,
          931.2393614727329
         ],
         "z": [
          730.7191863456952,
          738.9218330801688
         ]
        },
        {
         "color": "rgba(188, 189, 34, 0.8)",
         "name": "P10",
         "opacity": 0.8,
         "type": "mesh3d",
         "x": [
          -170.468392669641,
          -176.5110874470048,
          -182.22890669701025,
          -176.18621191964644
         ],
         "y": [
          931.0791345356116,
          932.0831401827965,
          925.5062745278382,
          924.5022688806533
         ],
         "z": [
          730.6990856907433,
          727.3111936487737,
          735.5605197534259,
          738.9484117953955
         ]
        },
        {
         "marker": {
          "color": "red",
          "size": 3
         },
         "mode": "markers+text",
         "showlegend": false,
         "text": "P9",
         "textfont": {
          "size": 12
         },
         "textposition": "top center",
         "type": "scatter3d",
         "x": [
          -176.34864968332562
         ],
         "y": [
          928.2927045317249
         ],
         "z": [
          733.1298027220846
         ]
        },
        {
         "line": {
          "color": "rgba(188, 189, 34, 0.8)",
          "width": 4
         },
         "mode": "lines",
         "showlegend": false,
         "type": "scatter3d",
         "x": [
          -170.468392669641,
          -176.5110874470048
         ],
         "y": [
          931.0791345356116,
          932.0831401827965
         ],
         "z": [
          730.6990856907433,
          727.3111936487737
         ]
        },
        {
         "line": {
          "color": "rgba(188, 189, 34, 0.8)",
          "width": 4
         },
         "mode": "lines",
         "showlegend": false,
         "type": "scatter3d",
         "x": [
          -176.5110874470048,
          -182.22890669701025
         ],
         "y": [
          932.0831401827965,
          925.5062745278382
         ],
         "z": [
          727.3111936487737,
          735.5605197534259
         ]
        },
        {
         "line": {
          "color": "rgba(188, 189, 34, 0.8)",
          "width": 4
         },
         "mode": "lines",
         "showlegend": false,
         "type": "scatter3d",
         "x": [
          -182.22890669701025,
          -176.18621191964644
         ],
         "y": [
          925.5062745278382,
          924.5022688806533
         ],
         "z": [
          735.5605197534259,
          738.9484117953955
         ]
        },
        {
         "line": {
          "color": "rgba(188, 189, 34, 0.8)",
          "width": 4
         },
         "mode": "lines",
         "showlegend": false,
         "type": "scatter3d",
         "x": [
          -176.18621191964644,
          -170.468392669641
         ],
         "y": [
          924.5022688806533,
          931.0791345356116
         ],
         "z": [
          738.9484117953955,
          730.6990856907433
         ]
        },
        {
         "color": "rgba(23, 190, 207, 0.8)",
         "name": "P11",
         "opacity": 0.8,
         "type": "mesh3d",
         "x": [
          -178.60210046933076,
          -171.60210046933076,
          -171.60210046933076,
          -178.60210046933076
         ],
         "y": [
          927.0771539053576,
          927.0771539053576,
          927.0771539053576,
          927.0771539053576
         ],
         "z": [
          739.0302873446616,
          739.0302873446616,
          727.0302873446616,
          727.0302873446616
         ]
        },
        {
         "marker": {
          "color": "red",
          "size": 3
         },
         "mode": "markers+text",
         "showlegend": false,
         "text": "",
         "textfont": {
          "size": 12
         },
         "textposition": "top center",
         "type": "scatter3d",
         "x": [
          -175.10210046933076
         ],
         "y": [
          927.0771539053576
         ],
         "z": [
          733.0302873446616
         ]
        },
        {
         "line": {
          "color": "rgba(23, 190, 207, 0.8)",
          "width": 4
         },
         "mode": "lines",
         "showlegend": false,
         "type": "scatter3d",
         "x": [
          -178.60210046933076,
          -171.60210046933076
         ],
         "y": [
          927.0771539053576,
          927.0771539053576
         ],
         "z": [
          739.0302873446616,
          739.0302873446616
         ]
        },
        {
         "line": {
          "color": "rgba(23, 190, 207, 0.8)",
          "width": 4
         },
         "mode": "lines",
         "showlegend": false,
         "type": "scatter3d",
         "x": [
          -171.60210046933076,
          -171.60210046933076
         ],
         "y": [
          927.0771539053576,
          927.0771539053576
         ],
         "z": [
          739.0302873446616,
          727.0302873446616
         ]
        },
        {
         "line": {
          "color": "rgba(23, 190, 207, 0.8)",
          "width": 4
         },
         "mode": "lines",
         "showlegend": false,
         "type": "scatter3d",
         "x": [
          -171.60210046933076,
          -178.60210046933076
         ],
         "y": [
          927.0771539053576,
          927.0771539053576
         ],
         "z": [
          727.0302873446616,
          727.0302873446616
         ]
        },
        {
         "line": {
          "color": "rgba(23, 190, 207, 0.8)",
          "width": 4
         },
         "mode": "lines",
         "showlegend": false,
         "type": "scatter3d",
         "x": [
          -178.60210046933076,
          -178.60210046933076
         ],
         "y": [
          927.0771539053576,
          927.0771539053576
         ],
         "z": [
          727.0302873446616,
          739.0302873446616
         ]
        },
        {
         "line": {
          "color": "black",
          "width": 2
         },
         "mode": "lines",
         "name": "Berechnete Hakenlinie",
         "type": "scatter3d",
         "x": {
          "bdata": "zK6E5Ak+aMA2ZBBs/SBnwB7dzxddAGfAHH1+UbjfZsAqAh9DBL9mwKIE7wmYnGbA9FRvnw95ZsBisioUb1hmwNIzKaUHM2bAnnRhIygLZsDSFTRoRONlwA==",
          "dtype": "f8"
         },
         "y": {
          "bdata": "aAqckq4XjUDGHfIHBQaNQJTBWxdnBI1AUll67ewCjUCuLIRFWgGNQNf+YMIUCI1AuiT1wUX+jEBj7fRi1PyMQEyibz9w+4xAMjl5dVcCjUAo4t0CnviMQA==",
          "dtype": "f8"
         },
         "z": {
          "bdata": "BMbhyqUrh0AO7gsNoQuHQCgHa+lrBYdAp4MFzNH/hkDscB16bvuGQHYGx5559oZAFOHraW3xhkB0XEWMC+2GQJrXa9nX6YZASHIC1gnphkBvlkoHPuiGQA==",
          "dtype": "f8"
         }
        },
        {
         "mode": "text",
         "showlegend": false,
         "text": [
          "Pre-Position"
         ],
         "textfont": {
          "size": 10
         },
         "textposition": "top center",
         "type": "scatter3d",
         "x": [
          -193.93870759882554
         ],
         "y": [
          930.9602405729938
         ],
         "z": [
          741.4559533728175
         ]
        },
        {
         "mode": "text",
         "showlegend": false,
         "text": [
          "Loslassen"
         ],
         "textfont": {
          "size": 10
         },
         "textposition": "top center",
         "type": "scatter3d",
         "x": [
          -175.10210046933076
         ],
         "y": [
          927.0771539053576
         ],
         "z": [
          733.0302873446616
         ]
        },
        {
         "color": "rgba(0,255,0,0.2)",
         "name": "optimale Trajektorie",
         "opacity": 0.8,
         "type": "mesh3d",
         "x": [
          -194.33533256574384,
          -198.38948330583074,
          -198.3933930830193,
          -194.3392423429324
         ],
         "y": [
          923.2559156347077,
          923.0284499770247,
          935.0190225683598,
          935.2464882260427
         ],
         "z": [
          743.6080616436798,
          737.9061215219995,
          737.430565378558,
          743.1325055002383
         ]
        },
        {
         "line": {
          "color": "rgba(0,255,0,0.2)",
          "width": 3
         },
         "mode": "lines",
         "showlegend": false,
         "type": "scatter3d",
         "x": [
          -194.33533256574384,
          -198.38948330583074
         ],
         "y": [
          923.2559156347077,
          923.0284499770247
         ],
         "z": [
          743.6080616436798,
          737.9061215219995
         ]
        },
        {
         "line": {
          "color": "rgba(0,255,0,0.2)",
          "width": 3
         },
         "mode": "lines",
         "showlegend": false,
         "type": "scatter3d",
         "x": [
          -198.38948330583074,
          -198.3933930830193
         ],
         "y": [
          923.0284499770247,
          935.0190225683598
         ],
         "z": [
          737.9061215219995,
          737.430565378558
         ]
        },
        {
         "line": {
          "color": "rgba(0,255,0,0.2)",
          "width": 3
         },
         "mode": "lines",
         "showlegend": false,
         "type": "scatter3d",
         "x": [
          -198.3933930830193,
          -194.3392423429324
         ],
         "y": [
          935.0190225683598,
          935.2464882260427
         ],
         "z": [
          737.430565378558,
          743.1325055002383
         ]
        },
        {
         "line": {
          "color": "rgba(0,255,0,0.2)",
          "width": 3
         },
         "mode": "lines",
         "showlegend": false,
         "type": "scatter3d",
         "x": [
          -194.3392423429324,
          -194.33533256574384
         ],
         "y": [
          935.2464882260427,
          923.2559156347077
         ],
         "z": [
          743.1325055002383,
          743.6080616436798
         ]
        },
        {
         "marker": {
          "color": "green",
          "size": 4
         },
         "mode": "markers",
         "name": "Mitte P11",
         "showlegend": false,
         "type": "scatter3d",
         "x": [
          -196.36436282438157
         ],
         "y": [
          929.1374691015337
         ],
         "z": [
          740.5193135111188
         ]
        },
        {
         "color": "rgba(0,255,0,0.2)",
         "name": "optimale Trajektorie",
         "opacity": 0.8,
         "type": "mesh3d",
         "x": [
          -189.48244022287614,
          -193.52679668311643,
          -193.4618023464852,
          -189.4174458862449
         ],
         "y": [
          924.8910701805298,
          924.6613312219619,
          936.6495120628524,
          936.8792510214204
         ],
         "z": [
          739.0092136924177,
          733.3004133952073,
          732.7719288993987,
          738.4807291966091
         ]
        },
        {
         "line": {
          "color": "rgba(0,255,0,0.2)",
          "width": 3
         },
         "mode": "lines",
         "showlegend": false,
         "type": "scatter3d",
         "x": [
          -189.48244022287614,
          -193.52679668311643
         ],
         "y": [
          924.8910701805298,
          924.6613312219619
         ],
         "z": [
          739.0092136924177,
          733.3004133952073
         ]
        },
        {
         "line": {
          "color": "rgba(0,255,0,0.2)",
          "width": 3
         },
         "mode": "lines",
         "showlegend": false,
         "type": "scatter3d",
         "x": [
          -193.52679668311643,
          -193.4618023464852
         ],
         "y": [
          924.6613312219619,
          936.6495120628524
         ],
         "z": [
          733.3004133952073,
          732.7719288993987
         ]
        },
        {
         "line": {
          "color": "rgba(0,255,0,0.2)",
          "width": 3
         },
         "mode": "lines",
         "showlegend": false,
         "type": "scatter3d",
         "x": [
          -193.4618023464852,
          -189.4174458862449
         ],
         "y": [
          936.6495120628524,
          936.8792510214204
         ],
         "z": [
          732.7719288993987,
          738.4807291966091
         ]
        },
        {
         "line": {
          "color": "rgba(0,255,0,0.2)",
          "width": 3
         },
         "mode": "lines",
         "showlegend": false,
         "type": "scatter3d",
         "x": [
          -189.4174458862449,
          -189.48244022287614
         ],
         "y": [
          936.8792510214204,
          924.8910701805298
         ],
         "z": [
          738.4807291966091,
          739.0092136924177
         ]
        },
        {
         "marker": {
          "color": "green",
          "size": 4
         },
         "mode": "markers",
         "name": "Mitte P11",
         "showlegend": false,
         "type": "scatter3d",
         "x": [
          -191.47212128468067
         ],
         "y": [
          930.7702911216911
         ],
         "z": [
          735.8905712959081
         ]
        },
        {
         "color": "rgba(0,255,0,0.2)",
         "name": "optimale Trajektorie",
         "opacity": 0.8,
         "type": "mesh3d",
         "x": [
          -187.23229477058013,
          -191.27139749914878,
          -191.17102637152212,
          -187.13192364295347
         ],
         "y": [
          925.3611572601404,
          925.1308670374355,
          937.1176427373672,
          937.3479329600722
         ],
         "z": [
          736.7698597057872,
          731.0573632671541,
          730.5031665906349,
          736.2156630292681
         ]
        },
        {
         "line": {
          "color": "rgba(0,255,0,0.2)",
          "width": 3
         },
         "mode": "lines",
         "showlegend": false,
         "type": "scatter3d",
         "x": [
          -187.23229477058013,
          -191.27139749914878
         ],
         "y": [
          925.3611572601404,
          925.1308670374355
         ],
         "z": [
          736.7698597057872,
          731.0573632671541
         ]
        },
        {
         "line": {
          "color": "rgba(0,255,0,0.2)",
          "width": 3
         },
         "mode": "lines",
         "showlegend": false,
         "type": "scatter3d",
         "x": [
          -191.27139749914878,
          -191.17102637152212
         ],
         "y": [
          925.1308670374355,
          937.1176427373672
         ],
         "z": [
          731.0573632671541,
          730.5031665906349
         ]
        },
        {
         "line": {
          "color": "rgba(0,255,0,0.2)",
          "width": 3
         },
         "mode": "lines",
         "showlegend": false,
         "type": "scatter3d",
         "x": [
          -191.17102637152212,
          -187.13192364295347
         ],
         "y": [
          937.1176427373672,
          937.3479329600722
         ],
         "z": [
          730.5031665906349,
          736.2156630292681
         ]
        },
        {
         "line": {
          "color": "rgba(0,255,0,0.2)",
          "width": 3
         },
         "mode": "lines",
         "showlegend": false,
         "type": "scatter3d",
         "x": [
          -187.13192364295347,
          -187.23229477058013
         ],
         "y": [
          937.3479329600722,
          925.3611572601404
         ],
         "z": [
          736.2156630292681,
          736.7698597057872
         ]
        },
        {
         "marker": {
          "color": "green",
          "size": 4
         },
         "mode": "markers",
         "name": "Mitte P11",
         "showlegend": false,
         "type": "scatter3d",
         "x": [
          -189.20166057105112
         ],
         "y": [
          931.2393999987538
         ],
         "z": [
          733.6365131482111
         ]
        },
        {
         "color": "rgba(0,255,0,0.2)",
         "name": "optimale Trajektorie",
         "opacity": 0.8,
         "type": "mesh3d",
         "x": [
          -184.46429485067716,
          -188.48254680587965,
          -188.303179271038,
          -184.28492731583552
         ],
         "y": [
          925.0378208349009,
          924.8391761177108,
          936.8256113112845,
          937.0242560284746
         ],
         "z": [
          735.7574807185171,
          730.0291134554268,
          729.4876352585405,
          735.2160025216308
         ]
        },
        {
         "line": {
          "color": "rgba(0,255,0,0.2)",
          "width": 3
         },
         "mode": "lines",
         "showlegend": false,
         "type": "scatter3d",
         "x": [
          -184.46429485067716,
          -188.48254680587965
         ],
         "y": [
          925.0378208349009,
          924.8391761177108
         ],
         "z": [
          735.7574807185171,
          730.0291134554268
         ]
        },
        {
         "line": {
          "color": "rgba(0,255,0,0.2)",
          "width": 3
         },
         "mode": "lines",
         "showlegend": false,
         "type": "scatter3d",
         "x": [
          -188.48254680587965,
          -188.303179271038
         ],
         "y": [
          924.8391761177108,
          936.8256113112845
         ],
         "z": [
          730.0291134554268,
          729.4876352585405
         ]
        },
        {
         "line": {
          "color": "rgba(0,255,0,0.2)",
          "width": 3
         },
         "mode": "lines",
         "showlegend": false,
         "type": "scatter3d",
         "x": [
          -188.303179271038,
          -184.28492731583552
         ],
         "y": [
          936.8256113112845,
          937.0242560284746
         ],
         "z": [
          729.4876352585405,
          735.2160025216308
         ]
        },
        {
         "line": {
          "color": "rgba(0,255,0,0.2)",
          "width": 3
         },
         "mode": "lines",
         "showlegend": false,
         "type": "scatter3d",
         "x": [
          -184.28492731583552,
          -184.46429485067716
         ],
         "y": [
          937.0242560284746,
          925.0378208349009
         ],
         "z": [
          735.2160025216308,
          735.7574807185171
         ]
        },
        {
         "marker": {
          "color": "green",
          "size": 4
         },
         "mode": "markers",
         "name": "Mitte P11",
         "showlegend": false,
         "type": "scatter3d",
         "x": [
          -186.38373706085756
         ],
         "y": [
          930.9317160730927
         ],
         "z": [
          732.6225579885288
         ]
        },
        {
         "color": "rgba(0,255,0,0.2)",
         "name": "optimale Trajektorie",
         "opacity": 0.8,
         "type": "mesh3d",
         "x": [
          -180.44322180389284,
          -184.46480992403195,
          -184.1155539134704,
          -180.09396579333128
         ],
         "y": [
          923.763402941795,
          923.6264588614059,
          935.6095844176905,
          935.7465284980796
         ],
         "z": [
          734.4938908347802,
          728.7660574476432,
          728.2343412250146,
          733.9621746121517
         ]
        },
        {
         "line": {
          "color": "rgba(0,255,0,0.2)",
          "width": 3
         },
         "mode": "lines",
         "showlegend": false,
         "type": "scatter3d",
         "x": [
          -180.44322180389284,
          -184.46480992403195
         ],
         "y": [
          923.763402941795,
          923.6264588614059
         ],
         "z": [
          734.4938908347802,
          728.7660574476432
         ]
        },
        {
         "line": {
          "color": "rgba(0,255,0,0.2)",
          "width": 3
         },
         "mode": "lines",
         "showlegend": false,
         "type": "scatter3d",
         "x": [
          -184.46480992403195,
          -184.1155539134704
         ],
         "y": [
          923.6264588614059,
          935.6095844176905
         ],
         "z": [
          728.7660574476432,
          728.2343412250146
         ]
        },
        {
         "line": {
          "color": "rgba(0,255,0,0.2)",
          "width": 3
         },
         "mode": "lines",
         "showlegend": false,
         "type": "scatter3d",
         "x": [
          -184.1155539134704,
          -180.09396579333128
         ],
         "y": [
          935.6095844176905,
          935.7465284980796
         ],
         "z": [
          728.2343412250146,
          733.9621746121517
         ]
        },
        {
         "line": {
          "color": "rgba(0,255,0,0.2)",
          "width": 3
         },
         "mode": "lines",
         "showlegend": false,
         "type": "scatter3d",
         "x": [
          -180.09396579333128,
          -180.44322180389284
         ],
         "y": [
          935.7465284980796,
          923.763402941795
         ],
         "z": [
          733.9621746121517,
          734.4938908347802
         ]
        },
        {
         "marker": {
          "color": "green",
          "size": 4
         },
         "mode": "markers",
         "name": "Mitte P11",
         "showlegend": false,
         "type": "scatter3d",
         "x": [
          -182.27938785868162
         ],
         "y": [
          929.6864936797427
         ],
         "z": [
          731.3641160298974
         ]
        },
        {
         "color": "rgba(0,255,0,0.2)",
         "name": "optimale Trajektorie",
         "opacity": 0.8,
         "type": "mesh3d",
         "x": [
          -181.94087041567073,
          -181.0784465832067,
          -180.81056072530347,
          -181.6729845577675
         ],
         "y": [
          923.4540513356783,
          923.2396218517484,
          935.2318949652226,
          935.4463244491525
         ],
         "z": [
          733.6642804949055,
          726.7209207080574,
          726.3838409860667,
          733.3272007729148
         ]
        },
        {
         "line": {
          "color": "rgba(0,255,0,0.2)",
          "width": 3
         },
         "mode": "lines",
         "showlegend": false,
         "type": "scatter3d",
         "x": [
          -181.94087041567073,
          -181.0784465832067
         ],
         "y": [
          923.4540513356783,
          923.2396218517484
         ],
         "z": [
          733.6642804949055,
          726.7209207080574
         ]
        },
        {
         "line": {
          "color": "rgba(0,255,0,0.2)",
          "width": 3
         },
         "mode": "lines",
         "showlegend": false,
         "type": "scatter3d",
         "x": [
          -181.0784465832067,
          -180.81056072530347
         ],
         "y": [
          923.2396218517484,
          935.2318949652226
         ],
         "z": [
          726.7209207080574,
          726.3838409860667
         ]
        },
        {
         "line": {
          "color": "rgba(0,255,0,0.2)",
          "width": 3
         },
         "mode": "lines",
         "showlegend": false,
         "type": "scatter3d",
         "x": [
          -180.81056072530347,
          -181.6729845577675
         ],
         "y": [
          935.2318949652226,
          935.4463244491525
         ],
         "z": [
          726.3838409860667,
          733.3272007729148
         ]
        },
        {
         "line": {
          "color": "rgba(0,255,0,0.2)",
          "width": 3
         },
         "mode": "lines",
         "showlegend": false,
         "type": "scatter3d",
         "x": [
          -181.6729845577675,
          -181.94087041567073
         ],
         "y": [
          935.4463244491525,
          923.4540513356783
         ],
         "z": [
          733.3272007729148,
          733.6642804949055
         ]
        },
        {
         "marker": {
          "color": "green",
          "size": 4
         },
         "mode": "markers",
         "name": "Mitte P11",
         "showlegend": false,
         "type": "scatter3d",
         "x": [
          -181.3757155704871
         ],
         "y": [
          929.3429731504505
         ],
         "z": [
          730.0240607404861
         ]
        },
        {
         "line": {
          "color": "green",
          "width": 2
         },
         "mode": "lines",
         "name": "Optimale Hakenlinie",
         "type": "scatter3d",
         "x": {
          "bdata": "G9M53KiLaMBerhieG+9nwNWx3gB0pmfAr9TxkkdMZ8D8fc6+8MhmwOL6qNwFrGbA",
          "dtype": "f8"
         },
         "y": {
          "bdata": "YnpmiRkJjUCAQGSOKRaNQHvqi0rqGY1AuniOJ3QXjUA/+2XwfQ2NQLoEtWi+Co1A",
          "dtype": "f8"
         },
         "z": {
          "bdata": "ApXXjSckh0B09dfjH/+GQFOYNJQX7YZAwsSu//rkhkDfQqq16dqGQAvswUYx0IZA",
          "dtype": "f8"
         }
        },
        {
         "line": {
          "color": "gray",
          "dash": "dash"
         },
         "mode": "lines",
         "name": "Direkte Gerade Spitze -> Senke",
         "type": "scatter3d",
         "x": [
          -185.03093531800704,
          -175.10210046933076
         ],
         "y": [
          928.7524565615975,
          927.0771539053576
         ],
         "z": [
          737.4536381656669,
          733.0302873446616
         ]
        },
        {
         "marker": {
          "color": "magenta",
          "size": 8
         },
         "mode": "markers",
         "name": "Spitze",
         "type": "scatter3d",
         "x": [
          -185.03093531800704
         ],
         "y": [
          928.7524565615975
         ],
         "z": [
          737.4536381656669
         ]
        },
        {
         "marker": {
          "color": "magenta",
          "size": 8
         },
         "mode": "markers",
         "name": "Senke",
         "type": "scatter3d",
         "x": [
          -175.10210046933076
         ],
         "y": [
          927.0771539053576
         ],
         "z": [
          733.0302873446616
         ]
        },
        {
         "mode": "text",
         "showlegend": false,
         "text": [
          "Spitze"
         ],
         "textfont": {
          "size": 10
         },
         "textposition": "top center",
         "type": "scatter3d",
         "x": [
          -185.03093531800704
         ],
         "y": [
          928.7524565615975
         ],
         "z": [
          737.4536381656669
         ]
        },
        {
         "mode": "text",
         "showlegend": false,
         "text": [
          "Senke"
         ],
         "textfont": {
          "size": 10
         },
         "textposition": "top center",
         "type": "scatter3d",
         "x": [
          -175.10210046933076
         ],
         "y": [
          927.0771539053576
         ],
         "z": [
          733.0302873446616
         ]
        }
       ],
       "layout": {
        "legend": {
         "title": {
          "text": "Legende"
         }
        },
        "scene": {
         "aspectmode": "cube",
         "xaxis": {
          "title": {
           "text": "X"
          }
         },
         "yaxis": {
          "title": {
           "text": "Y"
          }
         },
         "zaxis": {
          "title": {
           "text": "Z"
          }
         }
        },
        "template": {
         "data": {
          "bar": [
           {
            "error_x": {
             "color": "#2a3f5f"
            },
            "error_y": {
             "color": "#2a3f5f"
            },
            "marker": {
             "line": {
              "color": "#E5ECF6",
              "width": 0.5
             },
             "pattern": {
              "fillmode": "overlay",
              "size": 10,
              "solidity": 0.2
             }
            },
            "type": "bar"
           }
          ],
          "barpolar": [
           {
            "marker": {
             "line": {
              "color": "#E5ECF6",
              "width": 0.5
             },
             "pattern": {
              "fillmode": "overlay",
              "size": 10,
              "solidity": 0.2
             }
            },
            "type": "barpolar"
           }
          ],
          "carpet": [
           {
            "aaxis": {
             "endlinecolor": "#2a3f5f",
             "gridcolor": "white",
             "linecolor": "white",
             "minorgridcolor": "white",
             "startlinecolor": "#2a3f5f"
            },
            "baxis": {
             "endlinecolor": "#2a3f5f",
             "gridcolor": "white",
             "linecolor": "white",
             "minorgridcolor": "white",
             "startlinecolor": "#2a3f5f"
            },
            "type": "carpet"
           }
          ],
          "choropleth": [
           {
            "colorbar": {
             "outlinewidth": 0,
             "ticks": ""
            },
            "type": "choropleth"
           }
          ],
          "contour": [
           {
            "colorbar": {
             "outlinewidth": 0,
             "ticks": ""
            },
            "colorscale": [
             [
              0,
              "#0d0887"
             ],
             [
              0.1111111111111111,
              "#46039f"
             ],
             [
              0.2222222222222222,
              "#7201a8"
             ],
             [
              0.3333333333333333,
              "#9c179e"
             ],
             [
              0.4444444444444444,
              "#bd3786"
             ],
             [
              0.5555555555555556,
              "#d8576b"
             ],
             [
              0.6666666666666666,
              "#ed7953"
             ],
             [
              0.7777777777777778,
              "#fb9f3a"
             ],
             [
              0.8888888888888888,
              "#fdca26"
             ],
             [
              1,
              "#f0f921"
             ]
            ],
            "type": "contour"
           }
          ],
          "contourcarpet": [
           {
            "colorbar": {
             "outlinewidth": 0,
             "ticks": ""
            },
            "type": "contourcarpet"
           }
          ],
          "heatmap": [
           {
            "colorbar": {
             "outlinewidth": 0,
             "ticks": ""
            },
            "colorscale": [
             [
              0,
              "#0d0887"
             ],
             [
              0.1111111111111111,
              "#46039f"
             ],
             [
              0.2222222222222222,
              "#7201a8"
             ],
             [
              0.3333333333333333,
              "#9c179e"
             ],
             [
              0.4444444444444444,
              "#bd3786"
             ],
             [
              0.5555555555555556,
              "#d8576b"
             ],
             [
              0.6666666666666666,
              "#ed7953"
             ],
             [
              0.7777777777777778,
              "#fb9f3a"
             ],
             [
              0.8888888888888888,
              "#fdca26"
             ],
             [
              1,
              "#f0f921"
             ]
            ],
            "type": "heatmap"
           }
          ],
          "histogram": [
           {
            "marker": {
             "pattern": {
              "fillmode": "overlay",
              "size": 10,
              "solidity": 0.2
             }
            },
            "type": "histogram"
           }
          ],
          "histogram2d": [
           {
            "colorbar": {
             "outlinewidth": 0,
             "ticks": ""
            },
            "colorscale": [
             [
              0,
              "#0d0887"
             ],
             [
              0.1111111111111111,
              "#46039f"
             ],
             [
              0.2222222222222222,
              "#7201a8"
             ],
             [
              0.3333333333333333,
              "#9c179e"
             ],
             [
              0.4444444444444444,
              "#bd3786"
             ],
             [
              0.5555555555555556,
              "#d8576b"
             ],
             [
              0.6666666666666666,
              "#ed7953"
             ],
             [
              0.7777777777777778,
              "#fb9f3a"
             ],
             [
              0.8888888888888888,
              "#fdca26"
             ],
             [
              1,
              "#f0f921"
             ]
            ],
            "type": "histogram2d"
           }
          ],
          "histogram2dcontour": [
           {
            "colorbar": {
             "outlinewidth": 0,
             "ticks": ""
            },
            "colorscale": [
             [
              0,
              "#0d0887"
             ],
             [
              0.1111111111111111,
              "#46039f"
             ],
             [
              0.2222222222222222,
              "#7201a8"
             ],
             [
              0.3333333333333333,
              "#9c179e"
             ],
             [
              0.4444444444444444,
              "#bd3786"
             ],
             [
              0.5555555555555556,
              "#d8576b"
             ],
             [
              0.6666666666666666,
              "#ed7953"
             ],
             [
              0.7777777777777778,
              "#fb9f3a"
             ],
             [
              0.8888888888888888,
              "#fdca26"
             ],
             [
              1,
              "#f0f921"
             ]
            ],
            "type": "histogram2dcontour"
           }
          ],
          "mesh3d": [
           {
            "colorbar": {
             "outlinewidth": 0,
             "ticks": ""
            },
            "type": "mesh3d"
           }
          ],
          "parcoords": [
           {
            "line": {
             "colorbar": {
              "outlinewidth": 0,
              "ticks": ""
             }
            },
            "type": "parcoords"
           }
          ],
          "pie": [
           {
            "automargin": true,
            "type": "pie"
           }
          ],
          "scatter": [
           {
            "fillpattern": {
             "fillmode": "overlay",
             "size": 10,
             "solidity": 0.2
            },
            "type": "scatter"
           }
          ],
          "scatter3d": [
           {
            "line": {
             "colorbar": {
              "outlinewidth": 0,
              "ticks": ""
             }
            },
            "marker": {
             "colorbar": {
              "outlinewidth": 0,
              "ticks": ""
             }
            },
            "type": "scatter3d"
           }
          ],
          "scattercarpet": [
           {
            "marker": {
             "colorbar": {
              "outlinewidth": 0,
              "ticks": ""
             }
            },
            "type": "scattercarpet"
           }
          ],
          "scattergeo": [
           {
            "marker": {
             "colorbar": {
              "outlinewidth": 0,
              "ticks": ""
             }
            },
            "type": "scattergeo"
           }
          ],
          "scattergl": [
           {
            "marker": {
             "colorbar": {
              "outlinewidth": 0,
              "ticks": ""
             }
            },
            "type": "scattergl"
           }
          ],
          "scattermap": [
           {
            "marker": {
             "colorbar": {
              "outlinewidth": 0,
              "ticks": ""
             }
            },
            "type": "scattermap"
           }
          ],
          "scattermapbox": [
           {
            "marker": {
             "colorbar": {
              "outlinewidth": 0,
              "ticks": ""
             }
            },
            "type": "scattermapbox"
           }
          ],
          "scatterpolar": [
           {
            "marker": {
             "colorbar": {
              "outlinewidth": 0,
              "ticks": ""
             }
            },
            "type": "scatterpolar"
           }
          ],
          "scatterpolargl": [
           {
            "marker": {
             "colorbar": {
              "outlinewidth": 0,
              "ticks": ""
             }
            },
            "type": "scatterpolargl"
           }
          ],
          "scatterternary": [
           {
            "marker": {
             "colorbar": {
              "outlinewidth": 0,
              "ticks": ""
             }
            },
            "type": "scatterternary"
           }
          ],
          "surface": [
           {
            "colorbar": {
             "outlinewidth": 0,
             "ticks": ""
            },
            "colorscale": [
             [
              0,
              "#0d0887"
             ],
             [
              0.1111111111111111,
              "#46039f"
             ],
             [
              0.2222222222222222,
              "#7201a8"
             ],
             [
              0.3333333333333333,
              "#9c179e"
             ],
             [
              0.4444444444444444,
              "#bd3786"
             ],
             [
              0.5555555555555556,
              "#d8576b"
             ],
             [
              0.6666666666666666,
              "#ed7953"
             ],
             [
              0.7777777777777778,
              "#fb9f3a"
             ],
             [
              0.8888888888888888,
              "#fdca26"
             ],
             [
              1,
              "#f0f921"
             ]
            ],
            "type": "surface"
           }
          ],
          "table": [
           {
            "cells": {
             "fill": {
              "color": "#EBF0F8"
             },
             "line": {
              "color": "white"
             }
            },
            "header": {
             "fill": {
              "color": "#C8D4E3"
             },
             "line": {
              "color": "white"
             }
            },
            "type": "table"
           }
          ]
         },
         "layout": {
          "annotationdefaults": {
           "arrowcolor": "#2a3f5f",
           "arrowhead": 0,
           "arrowwidth": 1
          },
          "autotypenumbers": "strict",
          "coloraxis": {
           "colorbar": {
            "outlinewidth": 0,
            "ticks": ""
           }
          },
          "colorscale": {
           "diverging": [
            [
             0,
             "#8e0152"
            ],
            [
             0.1,
             "#c51b7d"
            ],
            [
             0.2,
             "#de77ae"
            ],
            [
             0.3,
             "#f1b6da"
            ],
            [
             0.4,
             "#fde0ef"
            ],
            [
             0.5,
             "#f7f7f7"
            ],
            [
             0.6,
             "#e6f5d0"
            ],
            [
             0.7,
             "#b8e186"
            ],
            [
             0.8,
             "#7fbc41"
            ],
            [
             0.9,
             "#4d9221"
            ],
            [
             1,
             "#276419"
            ]
           ],
           "sequential": [
            [
             0,
             "#0d0887"
            ],
            [
             0.1111111111111111,
             "#46039f"
            ],
            [
             0.2222222222222222,
             "#7201a8"
            ],
            [
             0.3333333333333333,
             "#9c179e"
            ],
            [
             0.4444444444444444,
             "#bd3786"
            ],
            [
             0.5555555555555556,
             "#d8576b"
            ],
            [
             0.6666666666666666,
             "#ed7953"
            ],
            [
             0.7777777777777778,
             "#fb9f3a"
            ],
            [
             0.8888888888888888,
             "#fdca26"
            ],
            [
             1,
             "#f0f921"
            ]
           ],
           "sequentialminus": [
            [
             0,
             "#0d0887"
            ],
            [
             0.1111111111111111,
             "#46039f"
            ],
            [
             0.2222222222222222,
             "#7201a8"
            ],
            [
             0.3333333333333333,
             "#9c179e"
            ],
            [
             0.4444444444444444,
             "#bd3786"
            ],
            [
             0.5555555555555556,
             "#d8576b"
            ],
            [
             0.6666666666666666,
             "#ed7953"
            ],
            [
             0.7777777777777778,
             "#fb9f3a"
            ],
            [
             0.8888888888888888,
             "#fdca26"
            ],
            [
             1,
             "#f0f921"
            ]
           ]
          },
          "colorway": [
           "#636efa",
           "#EF553B",
           "#00cc96",
           "#ab63fa",
           "#FFA15A",
           "#19d3f3",
           "#FF6692",
           "#B6E880",
           "#FF97FF",
           "#FECB52"
          ],
          "font": {
           "color": "#2a3f5f"
          },
          "geo": {
           "bgcolor": "white",
           "lakecolor": "white",
           "landcolor": "#E5ECF6",
           "showlakes": true,
           "showland": true,
           "subunitcolor": "white"
          },
          "hoverlabel": {
           "align": "left"
          },
          "hovermode": "closest",
          "mapbox": {
           "style": "light"
          },
          "paper_bgcolor": "white",
          "plot_bgcolor": "#E5ECF6",
          "polar": {
           "angularaxis": {
            "gridcolor": "white",
            "linecolor": "white",
            "ticks": ""
           },
           "bgcolor": "#E5ECF6",
           "radialaxis": {
            "gridcolor": "white",
            "linecolor": "white",
            "ticks": ""
           }
          },
          "scene": {
           "xaxis": {
            "backgroundcolor": "#E5ECF6",
            "gridcolor": "white",
            "gridwidth": 2,
            "linecolor": "white",
            "showbackground": true,
            "ticks": "",
            "zerolinecolor": "white"
           },
           "yaxis": {
            "backgroundcolor": "#E5ECF6",
            "gridcolor": "white",
            "gridwidth": 2,
            "linecolor": "white",
            "showbackground": true,
            "ticks": "",
            "zerolinecolor": "white"
           },
           "zaxis": {
            "backgroundcolor": "#E5ECF6",
            "gridcolor": "white",
            "gridwidth": 2,
            "linecolor": "white",
            "showbackground": true,
            "ticks": "",
            "zerolinecolor": "white"
           }
          },
          "shapedefaults": {
           "line": {
            "color": "#2a3f5f"
           }
          },
          "ternary": {
           "aaxis": {
            "gridcolor": "white",
            "linecolor": "white",
            "ticks": ""
           },
           "baxis": {
            "gridcolor": "white",
            "linecolor": "white",
            "ticks": ""
           },
           "bgcolor": "#E5ECF6",
           "caxis": {
            "gridcolor": "white",
            "linecolor": "white",
            "ticks": ""
           }
          },
          "title": {
           "x": 0.05
          },
          "xaxis": {
           "automargin": true,
           "gridcolor": "white",
           "linecolor": "white",
           "ticks": "",
           "title": {
            "standoff": 15
           },
           "zerolinecolor": "white",
           "zerolinewidth": 2
          },
          "yaxis": {
           "automargin": true,
           "gridcolor": "white",
           "linecolor": "white",
           "ticks": "",
           "title": {
            "standoff": 15
           },
           "zerolinecolor": "white",
           "zerolinewidth": 2
          }
         }
        },
        "title": {
         "text": "Haken 10, Trajektorien-Ansatz 1"
        }
       }
      }
     },
     "metadata": {},
     "output_type": "display_data"
    },
    {
     "name": "stdout",
     "output_type": "stream",
     "text": [
      "HTML-Datei '/home/mo/Thesis/Evaluation/Trajektorientests/CSV/traj2.html' erfolgreich erstellt!\n"
     ]
    },
    {
     "data": {
      "application/vnd.plotly.v1+json": {
       "config": {
        "plotlyServerURL": "https://plot.ly"
       },
       "data": [
        {
         "color": "rgba(31, 119, 180, 0.8)",
         "name": "P1",
         "opacity": 0.8,
         "type": "mesh3d",
         "x": [
          -191.71764203234227,
          -197.72217828381585,
          -196.15977316530882,
          -190.15523691383524
         ],
         "y": [
          937.4081871523277,
          935.110322066078,
          924.5122939936599,
          926.8101590799097
         ],
         "z": [
          740.1365396168491,
          737.3679008809114,
          742.7753671287859,
          745.5440058647235
         ]
        },
        {
         "marker": {
          "color": "red",
          "size": 3
         },
         "mode": "markers+text",
         "showlegend": false,
         "text": "",
         "textfont": {
          "size": 12
         },
         "textposition": "top center",
         "type": "scatter3d",
         "x": [
          -193.93870759882554
         ],
         "y": [
          930.9602405729938
         ],
         "z": [
          741.4559533728175
         ]
        },
        {
         "line": {
          "color": "rgba(31, 119, 180, 0.8)",
          "width": 4
         },
         "mode": "lines",
         "showlegend": false,
         "type": "scatter3d",
         "x": [
          -191.71764203234227,
          -197.72217828381585
         ],
         "y": [
          937.4081871523277,
          935.110322066078
         ],
         "z": [
          740.1365396168491,
          737.3679008809114
         ]
        },
        {
         "line": {
          "color": "rgba(31, 119, 180, 0.8)",
          "width": 4
         },
         "mode": "lines",
         "showlegend": false,
         "type": "scatter3d",
         "x": [
          -197.72217828381585,
          -196.15977316530882
         ],
         "y": [
          935.110322066078,
          924.5122939936599
         ],
         "z": [
          737.3679008809114,
          742.7753671287859
         ]
        },
        {
         "line": {
          "color": "rgba(31, 119, 180, 0.8)",
          "width": 4
         },
         "mode": "lines",
         "showlegend": false,
         "type": "scatter3d",
         "x": [
          -196.15977316530882,
          -190.15523691383524
         ],
         "y": [
          924.5122939936599,
          926.8101590799097
         ],
         "z": [
          742.7753671287859,
          745.5440058647235
         ]
        },
        {
         "line": {
          "color": "rgba(31, 119, 180, 0.8)",
          "width": 4
         },
         "mode": "lines",
         "showlegend": false,
         "type": "scatter3d",
         "x": [
          -190.15523691383524,
          -191.71764203234227
         ],
         "y": [
          926.8101590799097,
          937.4081871523277
         ],
         "z": [
          745.5440058647235,
          740.1365396168491
         ]
        },
        {
         "color": "rgba(174, 199, 232, 0.8)",
         "name": "P2",
         "opacity": 0.8,
         "type": "mesh3d",
         "x": [
          -182.80986975152376,
          -188.81440600299734,
          -187.25200088449031,
          -181.24746463301673
         ],
         "y": [
          935.2004031409314,
          932.9025380546816,
          922.3045099822635,
          924.6023750685133
         ],
         "z": [
          736.1342244096985,
          733.3655856737608,
          738.7730519216353,
          741.541690657573
         ]
        },
        {
         "marker": {
          "color": "red",
          "size": 3
         },
         "mode": "markers+text",
         "showlegend": false,
         "text": "",
         "textfont": {
          "size": 12
         },
         "textposition": "top center",
         "type": "scatter3d",
         "x": [
          -185.03093531800704
         ],
         "y": [
          928.7524565615975
         ],
         "z": [
          737.4536381656669
         ]
        },
        {
         "line": {
          "color": "rgba(174, 199, 232, 0.8)",
          "width": 4
         },
         "mode": "lines",
         "showlegend": false,
         "type": "scatter3d",
         "x": [
          -182.80986975152376,
          -188.81440600299734
         ],
         "y": [
          935.2004031409314,
          932.9025380546816
         ],
         "z": [
          736.1342244096985,
          733.3655856737608
         ]
        },
        {
         "line": {
          "color": "rgba(174, 199, 232, 0.8)",
          "width": 4
         },
         "mode": "lines",
         "showlegend": false,
         "type": "scatter3d",
         "x": [
          -188.81440600299734,
          -187.25200088449031
         ],
         "y": [
          932.9025380546816,
          922.3045099822635
         ],
         "z": [
          733.3655856737608,
          738.7730519216353
         ]
        },
        {
         "line": {
          "color": "rgba(174, 199, 232, 0.8)",
          "width": 4
         },
         "mode": "lines",
         "showlegend": false,
         "type": "scatter3d",
         "x": [
          -187.25200088449031,
          -181.24746463301673
         ],
         "y": [
          922.3045099822635,
          924.6023750685133
         ],
         "z": [
          738.7730519216353,
          741.541690657573
         ]
        },
        {
         "line": {
          "color": "rgba(174, 199, 232, 0.8)",
          "width": 4
         },
         "mode": "lines",
         "showlegend": false,
         "type": "scatter3d",
         "x": [
          -181.24746463301673,
          -182.80986975152376
         ],
         "y": [
          924.6023750685133,
          935.2004031409314
         ],
         "z": [
          741.541690657573,
          736.1342244096985
         ]
        },
        {
         "color": "rgba(255, 187, 120, 0.8)",
         "name": "P3",
         "opacity": 0.8,
         "type": "mesh3d",
         "x": [
          -181.79029832701025,
          -187.79483457848383,
          -186.2324294599768,
          -180.22789320850322
         ],
         "y": [
          934.9982841007392,
          932.7004190144894,
          922.1023909420713,
          924.4002560283211
         ],
         "z": [
          735.3582775474335,
          732.5896388114959,
          737.9971050593704,
          740.765743795308
         ]
        },
        {
         "marker": {
          "color": "red",
          "size": 3
         },
         "mode": "markers+text",
         "showlegend": false,
         "text": "P2",
         "textfont": {
          "size": 12
         },
         "textposition": "top center",
         "type": "scatter3d",
         "x": [
          -184.01136389349352
         ],
         "y": [
          928.5503375214053
         ],
         "z": [
          736.677691303402
         ]
        },
        {
         "line": {
          "color": "rgba(255, 187, 120, 0.8)",
          "width": 4
         },
         "mode": "lines",
         "showlegend": false,
         "type": "scatter3d",
         "x": [
          -181.79029832701025,
          -187.79483457848383
         ],
         "y": [
          934.9982841007392,
          932.7004190144894
         ],
         "z": [
          735.3582775474335,
          732.5896388114959
         ]
        },
        {
         "line": {
          "color": "rgba(255, 187, 120, 0.8)",
          "width": 4
         },
         "mode": "lines",
         "showlegend": false,
         "type": "scatter3d",
         "x": [
          -187.79483457848383,
          -186.2324294599768
         ],
         "y": [
          932.7004190144894,
          922.1023909420713
         ],
         "z": [
          732.5896388114959,
          737.9971050593704
         ]
        },
        {
         "line": {
          "color": "rgba(255, 187, 120, 0.8)",
          "width": 4
         },
         "mode": "lines",
         "showlegend": false,
         "type": "scatter3d",
         "x": [
          -186.2324294599768,
          -180.22789320850322
         ],
         "y": [
          922.1023909420713,
          924.4002560283211
         ],
         "z": [
          737.9971050593704,
          740.765743795308
         ]
        },
        {
         "line": {
          "color": "rgba(255, 187, 120, 0.8)",
          "width": 4
         },
         "mode": "lines",
         "showlegend": false,
         "type": "scatter3d",
         "x": [
          -180.22789320850322,
          -181.79029832701025
         ],
         "y": [
          924.4002560283211,
          934.9982841007392
         ],
         "z": [
          740.765743795308,
          735.3582775474335
         ]
        },
        {
         "color": "rgba(152, 223, 138, 0.8)",
         "name": "P4",
         "opacity": 0.8,
         "type": "mesh3d",
         "x": [
          -180.77018423043012,
          -186.7747204819037,
          -185.21231536339667,
          -179.2077791119231
         ],
         "y": [
          934.8136339075303,
          932.5157688212805,
          921.9177407488625,
          924.2156058351122
         ],
         "z": [
          734.6580261654872,
          731.8893874295495,
          737.296853677424,
          740.0654924133617
         ]
        },
        {
         "marker": {
          "color": "red",
          "size": 3
         },
         "mode": "markers+text",
         "showlegend": false,
         "text": "P3",
         "textfont": {
          "size": 12
         },
         "textposition": "top center",
         "type": "scatter3d",
         "x": [
          -182.9912497969134
         ],
         "y": [
          928.3656873281964
         ],
         "z": [
          735.9774399214555
         ]
        },
        {
         "line": {
          "color": "rgba(152, 223, 138, 0.8)",
          "width": 4
         },
         "mode": "lines",
         "showlegend": false,
         "type": "scatter3d",
         "x": [
          -180.77018423043012,
          -186.7747204819037
         ],
         "y": [
          934.8136339075303,
          932.5157688212805
         ],
         "z": [
          734.6580261654872,
          731.8893874295495
         ]
        },
        {
         "line": {
          "color": "rgba(152, 223, 138, 0.8)",
          "width": 4
         },
         "mode": "lines",
         "showlegend": false,
         "type": "scatter3d",
         "x": [
          -186.7747204819037,
          -185.21231536339667
         ],
         "y": [
          932.5157688212805,
          921.9177407488625
         ],
         "z": [
          731.8893874295495,
          737.296853677424
         ]
        },
        {
         "line": {
          "color": "rgba(152, 223, 138, 0.8)",
          "width": 4
         },
         "mode": "lines",
         "showlegend": false,
         "type": "scatter3d",
         "x": [
          -185.21231536339667,
          -179.2077791119231
         ],
         "y": [
          921.9177407488625,
          924.2156058351122
         ],
         "z": [
          737.296853677424,
          740.0654924133617
         ]
        },
        {
         "line": {
          "color": "rgba(152, 223, 138, 0.8)",
          "width": 4
         },
         "mode": "lines",
         "showlegend": false,
         "type": "scatter3d",
         "x": [
          -179.2077791119231,
          -180.77018423043012
         ],
         "y": [
          924.2156058351122,
          934.8136339075303
         ],
         "z": [
          740.0654924133617,
          734.6580261654872
         ]
        },
        {
         "color": "rgba(255, 152, 150, 0.8)",
         "name": "P5",
         "opacity": 0.8,
         "type": "mesh3d",
         "x": [
          -179.74820472061407,
          -185.75274097208765,
          -184.19033585358062,
          -178.18579960210704
         ],
         "y": [
          934.6170244836666,
          932.3191593974168,
          921.7211313249987,
          924.0189964112485
         ],
         "z": [
          734.1095300974182,
          731.3408913614805,
          736.748357609355,
          739.5169963452927
         ]
        },
        {
         "marker": {
          "color": "red",
          "size": 3
         },
         "mode": "markers+text",
         "showlegend": false,
         "text": "P4",
         "textfont": {
          "size": 12
         },
         "textposition": "top center",
         "type": "scatter3d",
         "x": [
          -181.96927028709737
         ],
         "y": [
          928.1690779043327
         ],
         "z": [
          735.4289438533866
         ]
        },
        {
         "line": {
          "color": "rgba(255, 152, 150, 0.8)",
          "width": 4
         },
         "mode": "lines",
         "showlegend": false,
         "type": "scatter3d",
         "x": [
          -179.74820472061407,
          -185.75274097208765
         ],
         "y": [
          934.6170244836666,
          932.3191593974168
         ],
         "z": [
          734.1095300974182,
          731.3408913614805
         ]
        },
        {
         "line": {
          "color": "rgba(255, 152, 150, 0.8)",
          "width": 4
         },
         "mode": "lines",
         "showlegend": false,
         "type": "scatter3d",
         "x": [
          -185.75274097208765,
          -184.19033585358062
         ],
         "y": [
          932.3191593974168,
          921.7211313249987
         ],
         "z": [
          731.3408913614805,
          736.748357609355
         ]
        },
        {
         "line": {
          "color": "rgba(255, 152, 150, 0.8)",
          "width": 4
         },
         "mode": "lines",
         "showlegend": false,
         "type": "scatter3d",
         "x": [
          -184.19033585358062,
          -178.18579960210704
         ],
         "y": [
          921.7211313249987,
          924.0189964112485
         ],
         "z": [
          736.748357609355,
          739.5169963452927
         ]
        },
        {
         "line": {
          "color": "rgba(255, 152, 150, 0.8)",
          "width": 4
         },
         "mode": "lines",
         "showlegend": false,
         "type": "scatter3d",
         "x": [
          -178.18579960210704,
          -179.74820472061407
         ],
         "y": [
          924.0189964112485,
          934.6170244836666
         ],
         "z": [
          739.5169963452927,
          734.1095300974182
         ]
        },
        {
         "color": "rgba(197, 176, 213, 0.8)",
         "name": "P6",
         "opacity": 0.8,
         "type": "mesh3d",
         "x": [
          -178.67249385775705,
          -184.67703010923063,
          -183.1146249907236,
          -177.11008873925002
         ],
         "y": [
          935.4580829526412,
          933.1602178663915,
          922.5621897939734,
          924.8600548802232
         ],
         "z": [
          733.489971119219,
          730.7213323832814,
          736.1287986311559,
          738.8974373670935
         ]
        },
        {
         "marker": {
          "color": "red",
          "size": 3
         },
         "mode": "markers+text",
         "showlegend": false,
         "text": "P5",
         "textfont": {
          "size": 12
         },
         "textposition": "top center",
         "type": "scatter3d",
         "x": [
          -180.89355942424035
         ],
         "y": [
          929.0101363733074
         ],
         "z": [
          734.8093848751874
         ]
        },
        {
         "line": {
          "color": "rgba(197, 176, 213, 0.8)",
          "width": 4
         },
         "mode": "lines",
         "showlegend": false,
         "type": "scatter3d",
         "x": [
          -178.67249385775705,
          -184.67703010923063
         ],
         "y": [
          935.4580829526412,
          933.1602178663915
         ],
         "z": [
          733.489971119219,
          730.7213323832814
         ]
        },
        {
         "line": {
          "color": "rgba(197, 176, 213, 0.8)",
          "width": 4
         },
         "mode": "lines",
         "showlegend": false,
         "type": "scatter3d",
         "x": [
          -184.67703010923063,
          -183.1146249907236
         ],
         "y": [
          933.1602178663915,
          922.5621897939734
         ],
         "z": [
          730.7213323832814,
          736.1287986311559
         ]
        },
        {
         "line": {
          "color": "rgba(197, 176, 213, 0.8)",
          "width": 4
         },
         "mode": "lines",
         "showlegend": false,
         "type": "scatter3d",
         "x": [
          -183.1146249907236,
          -177.11008873925002
         ],
         "y": [
          922.5621897939734,
          924.8600548802232
         ],
         "z": [
          736.1287986311559,
          738.8974373670935
         ]
        },
        {
         "line": {
          "color": "rgba(197, 176, 213, 0.8)",
          "width": 4
         },
         "mode": "lines",
         "showlegend": false,
         "type": "scatter3d",
         "x": [
          -177.11008873925002,
          -178.67249385775705
         ],
         "y": [
          924.8600548802232,
          935.4580829526412
         ],
         "z": [
          738.8974373670935,
          733.489971119219
         ]
        },
        {
         "color": "rgba(140, 86, 75, 0.8)",
         "name": "P7",
         "opacity": 0.8,
         "type": "mesh3d",
         "x": [
          -177.5620915126841,
          -183.5666277641577,
          -182.00422264565066,
          -175.99968639417708
         ],
         "y": [
          934.2320079303312,
          931.9341428440814,
          921.3361147716633,
          923.6339798579131
         ],
         "z": [
          732.8590109293251,
          730.0903721933875,
          735.4978384412619,
          738.2664771771996
         ]
        },
        {
         "marker": {
          "color": "red",
          "size": 3
         },
         "mode": "markers+text",
         "showlegend": false,
         "text": "P6",
         "textfont": {
          "size": 12
         },
         "textposition": "top center",
         "type": "scatter3d",
         "x": [
          -179.78315707916738
         ],
         "y": [
          927.7840613509973
         ],
         "z": [
          734.1784246852935
         ]
        },
        {
         "line": {
          "color": "rgba(140, 86, 75, 0.8)",
          "width": 4
         },
         "mode": "lines",
         "showlegend": false,
         "type": "scatter3d",
         "x": [
          -177.5620915126841,
          -183.5666277641577
         ],
         "y": [
          934.2320079303312,
          931.9341428440814
         ],
         "z": [
          732.8590109293251,
          730.0903721933875
         ]
        },
        {
         "line": {
          "color": "rgba(140, 86, 75, 0.8)",
          "width": 4
         },
         "mode": "lines",
         "showlegend": false,
         "type": "scatter3d",
         "x": [
          -183.5666277641577,
          -182.00422264565066
         ],
         "y": [
          931.9341428440814,
          921.3361147716633
         ],
         "z": [
          730.0903721933875,
          735.4978384412619
         ]
        },
        {
         "line": {
          "color": "rgba(140, 86, 75, 0.8)",
          "width": 4
         },
         "mode": "lines",
         "showlegend": false,
         "type": "scatter3d",
         "x": [
          -182.00422264565066,
          -175.99968639417708
         ],
         "y": [
          921.3361147716633,
          923.6339798579131
         ],
         "z": [
          735.4978384412619,
          738.2664771771996
         ]
        },
        {
         "line": {
          "color": "rgba(140, 86, 75, 0.8)",
          "width": 4
         },
         "mode": "lines",
         "showlegend": false,
         "type": "scatter3d",
         "x": [
          -175.99968639417708,
          -177.5620915126841
         ],
         "y": [
          923.6339798579131,
          934.2320079303312
         ],
         "z": [
          738.2664771771996,
          732.8590109293251
         ]
        },
        {
         "color": "rgba(227, 119, 194, 0.8)",
         "name": "P8",
         "opacity": 0.8,
         "type": "mesh3d",
         "x": [
          -176.5424938544764,
          -182.54703010594997,
          -180.98462498744294,
          -174.98008873596936
         ],
         "y": [
          934.0516509493505,
          931.7537858631007,
          921.1557577906826,
          923.4536228769324
         ],
         "z": [
          732.311224883371,
          729.5425861474333,
          734.9500523953078,
          737.7186911312455
         ]
        },
        {
         "marker": {
          "color": "red",
          "size": 3
         },
         "mode": "markers+text",
         "showlegend": false,
         "text": "P7",
         "textfont": {
          "size": 12
         },
         "textposition": "top center",
         "type": "scatter3d",
         "x": [
          -178.7635594209597
         ],
         "y": [
          927.6037043700165
         ],
         "z": [
          733.6306386393394
         ]
        },
        {
         "line": {
          "color": "rgba(227, 119, 194, 0.8)",
          "width": 4
         },
         "mode": "lines",
         "showlegend": false,
         "type": "scatter3d",
         "x": [
          -176.5424938544764,
          -182.54703010594997
         ],
         "y": [
          934.0516509493505,
          931.7537858631007
         ],
         "z": [
          732.311224883371,
          729.5425861474333
         ]
        },
        {
         "line": {
          "color": "rgba(227, 119, 194, 0.8)",
          "width": 4
         },
         "mode": "lines",
         "showlegend": false,
         "type": "scatter3d",
         "x": [
          -182.54703010594997,
          -180.98462498744294
         ],
         "y": [
          931.7537858631007,
          921.1557577906826
         ],
         "z": [
          729.5425861474333,
          734.9500523953078
         ]
        },
        {
         "line": {
          "color": "rgba(227, 119, 194, 0.8)",
          "width": 4
         },
         "mode": "lines",
         "showlegend": false,
         "type": "scatter3d",
         "x": [
          -180.98462498744294,
          -174.98008873596936
         ],
         "y": [
          921.1557577906826,
          923.4536228769324
         ],
         "z": [
          734.9500523953078,
          737.7186911312455
         ]
        },
        {
         "line": {
          "color": "rgba(227, 119, 194, 0.8)",
          "width": 4
         },
         "mode": "lines",
         "showlegend": false,
         "type": "scatter3d",
         "x": [
          -174.98008873596936,
          -176.5424938544764
         ],
         "y": [
          923.4536228769324,
          934.0516509493505
         ],
         "z": [
          737.7186911312455,
          732.311224883371
         ]
        },
        {
         "color": "rgba(127, 127, 127, 0.8)",
         "name": "P9",
         "opacity": 0.8,
         "type": "mesh3d",
         "x": [
          -175.37361768058082,
          -181.3781539320544,
          -179.81574881354737,
          -173.8112125620738
         ],
         "y": [
          933.8777550740357,
          931.5798899877859,
          920.9818619153679,
          923.2797270016176
         ],
         "z": [
          731.9109814109219,
          729.1423426749842,
          734.5498089228587,
          737.3184476587963
         ]
        },
        {
         "marker": {
          "color": "red",
          "size": 3
         },
         "mode": "markers+text",
         "showlegend": false,
         "text": "P8",
         "textfont": {
          "size": 12
         },
         "textposition": "top center",
         "type": "scatter3d",
         "x": [
          -177.59468324706413
         ],
         "y": [
          927.4298084947018
         ],
         "z": [
          733.2303951668903
         ]
        },
        {
         "line": {
          "color": "rgba(127, 127, 127, 0.8)",
          "width": 4
         },
         "mode": "lines",
         "showlegend": false,
         "type": "scatter3d",
         "x": [
          -175.37361768058082,
          -181.3781539320544
         ],
         "y": [
          933.8777550740357,
          931.5798899877859
         ],
         "z": [
          731.9109814109219,
          729.1423426749842
         ]
        },
        {
         "line": {
          "color": "rgba(127, 127, 127, 0.8)",
          "width": 4
         },
         "mode": "lines",
         "showlegend": false,
         "type": "scatter3d",
         "x": [
          -181.3781539320544,
          -179.81574881354737
         ],
         "y": [
          931.5798899877859,
          920.9818619153679
         ],
         "z": [
          729.1423426749842,
          734.5498089228587
         ]
        },
        {
         "line": {
          "color": "rgba(127, 127, 127, 0.8)",
          "width": 4
         },
         "mode": "lines",
         "showlegend": false,
         "type": "scatter3d",
         "x": [
          -179.81574881354737,
          -173.8112125620738
         ],
         "y": [
          920.9818619153679,
          923.2797270016176
         ],
         "z": [
          734.5498089228587,
          737.3184476587963
         ]
        },
        {
         "line": {
          "color": "rgba(127, 127, 127, 0.8)",
          "width": 4
         },
         "mode": "lines",
         "showlegend": false,
         "type": "scatter3d",
         "x": [
          -173.8112125620738,
          -175.37361768058082
         ],
         "y": [
          923.2797270016176,
          933.8777550740357
         ],
         "z": [
          737.3184476587963,
          731.9109814109219
         ]
        },
        {
         "color": "rgba(188, 189, 34, 0.8)",
         "name": "P10",
         "opacity": 0.8,
         "type": "mesh3d",
         "x": [
          -174.12758411684234,
          -180.13212036831592,
          -178.5697152498089,
          -172.5651789983353
         ],
         "y": [
          934.7406511110588,
          932.442786024809,
          921.844757952391,
          924.1426230386407
         ],
         "z": [
          731.8103889661162,
          729.0417502301785,
          734.449216478053,
          737.2178552139907
         ]
        },
        {
         "marker": {
          "color": "red",
          "size": 3
         },
         "mode": "markers+text",
         "showlegend": false,
         "text": "P9",
         "textfont": {
          "size": 12
         },
         "textposition": "top center",
         "type": "scatter3d",
         "x": [
          -176.34864968332562
         ],
         "y": [
          928.2927045317249
         ],
         "z": [
          733.1298027220846
         ]
        },
        {
         "line": {
          "color": "rgba(188, 189, 34, 0.8)",
          "width": 4
         },
         "mode": "lines",
         "showlegend": false,
         "type": "scatter3d",
         "x": [
          -174.12758411684234,
          -180.13212036831592
         ],
         "y": [
          934.7406511110588,
          932.442786024809
         ],
         "z": [
          731.8103889661162,
          729.0417502301785
         ]
        },
        {
         "line": {
          "color": "rgba(188, 189, 34, 0.8)",
          "width": 4
         },
         "mode": "lines",
         "showlegend": false,
         "type": "scatter3d",
         "x": [
          -180.13212036831592,
          -178.5697152498089
         ],
         "y": [
          932.442786024809,
          921.844757952391
         ],
         "z": [
          729.0417502301785,
          734.449216478053
         ]
        },
        {
         "line": {
          "color": "rgba(188, 189, 34, 0.8)",
          "width": 4
         },
         "mode": "lines",
         "showlegend": false,
         "type": "scatter3d",
         "x": [
          -178.5697152498089,
          -172.5651789983353
         ],
         "y": [
          921.844757952391,
          924.1426230386407
         ],
         "z": [
          734.449216478053,
          737.2178552139907
         ]
        },
        {
         "line": {
          "color": "rgba(188, 189, 34, 0.8)",
          "width": 4
         },
         "mode": "lines",
         "showlegend": false,
         "type": "scatter3d",
         "x": [
          -172.5651789983353,
          -174.12758411684234
         ],
         "y": [
          924.1426230386407,
          934.7406511110588
         ],
         "z": [
          737.2178552139907,
          731.8103889661162
         ]
        },
        {
         "color": "rgba(23, 190, 207, 0.8)",
         "name": "P11",
         "opacity": 0.8,
         "type": "mesh3d",
         "x": [
          -172.8810349028475,
          -178.88557115432107,
          -177.32316603581404,
          -171.31862978434046
         ],
         "y": [
          933.5251004846915,
          931.2272353984417,
          920.6292073260237,
          922.9270724122734
         ],
         "z": [
          731.7108735886932,
          728.9422348527555,
          734.34970110063,
          737.1183398365677
         ]
        },
        {
         "marker": {
          "color": "red",
          "size": 3
         },
         "mode": "markers+text",
         "showlegend": false,
         "text": "",
         "textfont": {
          "size": 12
         },
         "textposition": "top center",
         "type": "scatter3d",
         "x": [
          -175.1021004693308
         ],
         "y": [
          927.0771539053576
         ],
         "z": [
          733.0302873446615
         ]
        },
        {
         "line": {
          "color": "rgba(23, 190, 207, 0.8)",
          "width": 4
         },
         "mode": "lines",
         "showlegend": false,
         "type": "scatter3d",
         "x": [
          -172.8810349028475,
          -178.88557115432107
         ],
         "y": [
          933.5251004846915,
          931.2272353984417
         ],
         "z": [
          731.7108735886932,
          728.9422348527555
         ]
        },
        {
         "line": {
          "color": "rgba(23, 190, 207, 0.8)",
          "width": 4
         },
         "mode": "lines",
         "showlegend": false,
         "type": "scatter3d",
         "x": [
          -178.88557115432107,
          -177.32316603581404
         ],
         "y": [
          931.2272353984417,
          920.6292073260237
         ],
         "z": [
          728.9422348527555,
          734.34970110063
         ]
        },
        {
         "line": {
          "color": "rgba(23, 190, 207, 0.8)",
          "width": 4
         },
         "mode": "lines",
         "showlegend": false,
         "type": "scatter3d",
         "x": [
          -177.32316603581404,
          -171.31862978434046
         ],
         "y": [
          920.6292073260237,
          922.9270724122734
         ],
         "z": [
          734.34970110063,
          737.1183398365677
         ]
        },
        {
         "line": {
          "color": "rgba(23, 190, 207, 0.8)",
          "width": 4
         },
         "mode": "lines",
         "showlegend": false,
         "type": "scatter3d",
         "x": [
          -171.31862978434046,
          -172.8810349028475
         ],
         "y": [
          922.9270724122734,
          933.5251004846915
         ],
         "z": [
          737.1183398365677,
          731.7108735886932
         ]
        },
        {
         "line": {
          "color": "black",
          "width": 2
         },
         "mode": "lines",
         "name": "Berechnete Hakenlinie",
         "type": "scatter3d",
         "x": {
          "bdata": "zK6E5Ak+aMA2ZBBs/SBnwB7dzxddAGfAHH1+UbjfZsArAh9DBL9mwKME7wmYnGbA9FRvnw95ZsBjsioUb1hmwNMzKaUHM2bAnnRhIygLZsDTFTRoRONlwA==",
          "dtype": "f8"
         },
         "y": {
          "bdata": "aAqckq4XjUDGHfIHBQaNQJTBWxdnBI1AUll67ewCjUCuLIRFWgGNQNj+YMIUCI1AuiT1wUX+jEBj7fRi1PyMQEyibz9w+4xAMjl5dVcCjUAo4t0CnviMQA==",
          "dtype": "f8"
         },
         "z": {
          "bdata": "BMbhyqUrh0AO7gsNoQuHQCkHa+lrBYdApoMFzNH/hkDtcB16bvuGQHUGx5559oZAFOHraW3xhkB0XEWMC+2GQJrXa9nX6YZASHIC1gnphkBulkoHPuiGQA==",
          "dtype": "f8"
         }
        },
        {
         "mode": "text",
         "showlegend": false,
         "text": [
          "Pre-Position"
         ],
         "textfont": {
          "size": 10
         },
         "textposition": "top center",
         "type": "scatter3d",
         "x": [
          -193.93870759882554
         ],
         "y": [
          930.9602405729938
         ],
         "z": [
          741.4559533728175
         ]
        },
        {
         "mode": "text",
         "showlegend": false,
         "text": [
          "Loslassen"
         ],
         "textfont": {
          "size": 10
         },
         "textposition": "top center",
         "type": "scatter3d",
         "x": [
          -175.1021004693308
         ],
         "y": [
          927.0771539053576
         ],
         "z": [
          733.0302873446615
         ]
        },
        {
         "color": "rgba(0,255,0,0.2)",
         "name": "optimale Trajektorie",
         "opacity": 0.8,
         "type": "mesh3d",
         "x": [
          -194.33533256574384,
          -198.38948330583074,
          -198.3933930830193,
          -194.3392423429324
         ],
         "y": [
          923.2559156347077,
          923.0284499770247,
          935.0190225683598,
          935.2464882260427
         ],
         "z": [
          743.6080616436798,
          737.9061215219995,
          737.430565378558,
          743.1325055002383
         ]
        },
        {
         "line": {
          "color": "rgba(0,255,0,0.2)",
          "width": 3
         },
         "mode": "lines",
         "showlegend": false,
         "type": "scatter3d",
         "x": [
          -194.33533256574384,
          -198.38948330583074
         ],
         "y": [
          923.2559156347077,
          923.0284499770247
         ],
         "z": [
          743.6080616436798,
          737.9061215219995
         ]
        },
        {
         "line": {
          "color": "rgba(0,255,0,0.2)",
          "width": 3
         },
         "mode": "lines",
         "showlegend": false,
         "type": "scatter3d",
         "x": [
          -198.38948330583074,
          -198.3933930830193
         ],
         "y": [
          923.0284499770247,
          935.0190225683598
         ],
         "z": [
          737.9061215219995,
          737.430565378558
         ]
        },
        {
         "line": {
          "color": "rgba(0,255,0,0.2)",
          "width": 3
         },
         "mode": "lines",
         "showlegend": false,
         "type": "scatter3d",
         "x": [
          -198.3933930830193,
          -194.3392423429324
         ],
         "y": [
          935.0190225683598,
          935.2464882260427
         ],
         "z": [
          737.430565378558,
          743.1325055002383
         ]
        },
        {
         "line": {
          "color": "rgba(0,255,0,0.2)",
          "width": 3
         },
         "mode": "lines",
         "showlegend": false,
         "type": "scatter3d",
         "x": [
          -194.3392423429324,
          -194.33533256574384
         ],
         "y": [
          935.2464882260427,
          923.2559156347077
         ],
         "z": [
          743.1325055002383,
          743.6080616436798
         ]
        },
        {
         "marker": {
          "color": "green",
          "size": 4
         },
         "mode": "markers",
         "name": "Mitte P11",
         "showlegend": false,
         "type": "scatter3d",
         "x": [
          -196.36436282438157
         ],
         "y": [
          929.1374691015337
         ],
         "z": [
          740.5193135111188
         ]
        },
        {
         "color": "rgba(0,255,0,0.2)",
         "name": "optimale Trajektorie",
         "opacity": 0.8,
         "type": "mesh3d",
         "x": [
          -189.48244022287614,
          -193.52679668311643,
          -193.4618023464852,
          -189.4174458862449
         ],
         "y": [
          924.8910701805298,
          924.6613312219619,
          936.6495120628524,
          936.8792510214204
         ],
         "z": [
          739.0092136924177,
          733.3004133952073,
          732.7719288993987,
          738.4807291966091
         ]
        },
        {
         "line": {
          "color": "rgba(0,255,0,0.2)",
          "width": 3
         },
         "mode": "lines",
         "showlegend": false,
         "type": "scatter3d",
         "x": [
          -189.48244022287614,
          -193.52679668311643
         ],
         "y": [
          924.8910701805298,
          924.6613312219619
         ],
         "z": [
          739.0092136924177,
          733.3004133952073
         ]
        },
        {
         "line": {
          "color": "rgba(0,255,0,0.2)",
          "width": 3
         },
         "mode": "lines",
         "showlegend": false,
         "type": "scatter3d",
         "x": [
          -193.52679668311643,
          -193.4618023464852
         ],
         "y": [
          924.6613312219619,
          936.6495120628524
         ],
         "z": [
          733.3004133952073,
          732.7719288993987
         ]
        },
        {
         "line": {
          "color": "rgba(0,255,0,0.2)",
          "width": 3
         },
         "mode": "lines",
         "showlegend": false,
         "type": "scatter3d",
         "x": [
          -193.4618023464852,
          -189.4174458862449
         ],
         "y": [
          936.6495120628524,
          936.8792510214204
         ],
         "z": [
          732.7719288993987,
          738.4807291966091
         ]
        },
        {
         "line": {
          "color": "rgba(0,255,0,0.2)",
          "width": 3
         },
         "mode": "lines",
         "showlegend": false,
         "type": "scatter3d",
         "x": [
          -189.4174458862449,
          -189.48244022287614
         ],
         "y": [
          936.8792510214204,
          924.8910701805298
         ],
         "z": [
          738.4807291966091,
          739.0092136924177
         ]
        },
        {
         "marker": {
          "color": "green",
          "size": 4
         },
         "mode": "markers",
         "name": "Mitte P11",
         "showlegend": false,
         "type": "scatter3d",
         "x": [
          -191.47212128468067
         ],
         "y": [
          930.7702911216911
         ],
         "z": [
          735.8905712959081
         ]
        },
        {
         "color": "rgba(0,255,0,0.2)",
         "name": "optimale Trajektorie",
         "opacity": 0.8,
         "type": "mesh3d",
         "x": [
          -187.23229477058013,
          -191.27139749914878,
          -191.17102637152212,
          -187.13192364295347
         ],
         "y": [
          925.3611572601404,
          925.1308670374355,
          937.1176427373672,
          937.3479329600722
         ],
         "z": [
          736.7698597057872,
          731.0573632671541,
          730.5031665906349,
          736.2156630292681
         ]
        },
        {
         "line": {
          "color": "rgba(0,255,0,0.2)",
          "width": 3
         },
         "mode": "lines",
         "showlegend": false,
         "type": "scatter3d",
         "x": [
          -187.23229477058013,
          -191.27139749914878
         ],
         "y": [
          925.3611572601404,
          925.1308670374355
         ],
         "z": [
          736.7698597057872,
          731.0573632671541
         ]
        },
        {
         "line": {
          "color": "rgba(0,255,0,0.2)",
          "width": 3
         },
         "mode": "lines",
         "showlegend": false,
         "type": "scatter3d",
         "x": [
          -191.27139749914878,
          -191.17102637152212
         ],
         "y": [
          925.1308670374355,
          937.1176427373672
         ],
         "z": [
          731.0573632671541,
          730.5031665906349
         ]
        },
        {
         "line": {
          "color": "rgba(0,255,0,0.2)",
          "width": 3
         },
         "mode": "lines",
         "showlegend": false,
         "type": "scatter3d",
         "x": [
          -191.17102637152212,
          -187.13192364295347
         ],
         "y": [
          937.1176427373672,
          937.3479329600722
         ],
         "z": [
          730.5031665906349,
          736.2156630292681
         ]
        },
        {
         "line": {
          "color": "rgba(0,255,0,0.2)",
          "width": 3
         },
         "mode": "lines",
         "showlegend": false,
         "type": "scatter3d",
         "x": [
          -187.13192364295347,
          -187.23229477058013
         ],
         "y": [
          937.3479329600722,
          925.3611572601404
         ],
         "z": [
          736.2156630292681,
          736.7698597057872
         ]
        },
        {
         "marker": {
          "color": "green",
          "size": 4
         },
         "mode": "markers",
         "name": "Mitte P11",
         "showlegend": false,
         "type": "scatter3d",
         "x": [
          -189.20166057105112
         ],
         "y": [
          931.2393999987538
         ],
         "z": [
          733.6365131482111
         ]
        },
        {
         "color": "rgba(0,255,0,0.2)",
         "name": "optimale Trajektorie",
         "opacity": 0.8,
         "type": "mesh3d",
         "x": [
          -184.46429485067716,
          -188.48254680587965,
          -188.303179271038,
          -184.28492731583552
         ],
         "y": [
          925.0378208349009,
          924.8391761177108,
          936.8256113112845,
          937.0242560284746
         ],
         "z": [
          735.7574807185171,
          730.0291134554268,
          729.4876352585405,
          735.2160025216308
         ]
        },
        {
         "line": {
          "color": "rgba(0,255,0,0.2)",
          "width": 3
         },
         "mode": "lines",
         "showlegend": false,
         "type": "scatter3d",
         "x": [
          -184.46429485067716,
          -188.48254680587965
         ],
         "y": [
          925.0378208349009,
          924.8391761177108
         ],
         "z": [
          735.7574807185171,
          730.0291134554268
         ]
        },
        {
         "line": {
          "color": "rgba(0,255,0,0.2)",
          "width": 3
         },
         "mode": "lines",
         "showlegend": false,
         "type": "scatter3d",
         "x": [
          -188.48254680587965,
          -188.303179271038
         ],
         "y": [
          924.8391761177108,
          936.8256113112845
         ],
         "z": [
          730.0291134554268,
          729.4876352585405
         ]
        },
        {
         "line": {
          "color": "rgba(0,255,0,0.2)",
          "width": 3
         },
         "mode": "lines",
         "showlegend": false,
         "type": "scatter3d",
         "x": [
          -188.303179271038,
          -184.28492731583552
         ],
         "y": [
          936.8256113112845,
          937.0242560284746
         ],
         "z": [
          729.4876352585405,
          735.2160025216308
         ]
        },
        {
         "line": {
          "color": "rgba(0,255,0,0.2)",
          "width": 3
         },
         "mode": "lines",
         "showlegend": false,
         "type": "scatter3d",
         "x": [
          -184.28492731583552,
          -184.46429485067716
         ],
         "y": [
          937.0242560284746,
          925.0378208349009
         ],
         "z": [
          735.2160025216308,
          735.7574807185171
         ]
        },
        {
         "marker": {
          "color": "green",
          "size": 4
         },
         "mode": "markers",
         "name": "Mitte P11",
         "showlegend": false,
         "type": "scatter3d",
         "x": [
          -186.38373706085756
         ],
         "y": [
          930.9317160730927
         ],
         "z": [
          732.6225579885288
         ]
        },
        {
         "color": "rgba(0,255,0,0.2)",
         "name": "optimale Trajektorie",
         "opacity": 0.8,
         "type": "mesh3d",
         "x": [
          -180.44322180389284,
          -184.46480992403195,
          -184.1155539134704,
          -180.09396579333128
         ],
         "y": [
          923.763402941795,
          923.6264588614059,
          935.6095844176905,
          935.7465284980796
         ],
         "z": [
          734.4938908347802,
          728.7660574476432,
          728.2343412250146,
          733.9621746121517
         ]
        },
        {
         "line": {
          "color": "rgba(0,255,0,0.2)",
          "width": 3
         },
         "mode": "lines",
         "showlegend": false,
         "type": "scatter3d",
         "x": [
          -180.44322180389284,
          -184.46480992403195
         ],
         "y": [
          923.763402941795,
          923.6264588614059
         ],
         "z": [
          734.4938908347802,
          728.7660574476432
         ]
        },
        {
         "line": {
          "color": "rgba(0,255,0,0.2)",
          "width": 3
         },
         "mode": "lines",
         "showlegend": false,
         "type": "scatter3d",
         "x": [
          -184.46480992403195,
          -184.1155539134704
         ],
         "y": [
          923.6264588614059,
          935.6095844176905
         ],
         "z": [
          728.7660574476432,
          728.2343412250146
         ]
        },
        {
         "line": {
          "color": "rgba(0,255,0,0.2)",
          "width": 3
         },
         "mode": "lines",
         "showlegend": false,
         "type": "scatter3d",
         "x": [
          -184.1155539134704,
          -180.09396579333128
         ],
         "y": [
          935.6095844176905,
          935.7465284980796
         ],
         "z": [
          728.2343412250146,
          733.9621746121517
         ]
        },
        {
         "line": {
          "color": "rgba(0,255,0,0.2)",
          "width": 3
         },
         "mode": "lines",
         "showlegend": false,
         "type": "scatter3d",
         "x": [
          -180.09396579333128,
          -180.44322180389284
         ],
         "y": [
          935.7465284980796,
          923.763402941795
         ],
         "z": [
          733.9621746121517,
          734.4938908347802
         ]
        },
        {
         "marker": {
          "color": "green",
          "size": 4
         },
         "mode": "markers",
         "name": "Mitte P11",
         "showlegend": false,
         "type": "scatter3d",
         "x": [
          -182.27938785868162
         ],
         "y": [
          929.6864936797427
         ],
         "z": [
          731.3641160298974
         ]
        },
        {
         "color": "rgba(0,255,0,0.2)",
         "name": "optimale Trajektorie",
         "opacity": 0.8,
         "type": "mesh3d",
         "x": [
          -181.94087041567073,
          -181.0784465832067,
          -180.81056072530347,
          -181.6729845577675
         ],
         "y": [
          923.4540513356783,
          923.2396218517484,
          935.2318949652226,
          935.4463244491525
         ],
         "z": [
          733.6642804949055,
          726.7209207080574,
          726.3838409860667,
          733.3272007729148
         ]
        },
        {
         "line": {
          "color": "rgba(0,255,0,0.2)",
          "width": 3
         },
         "mode": "lines",
         "showlegend": false,
         "type": "scatter3d",
         "x": [
          -181.94087041567073,
          -181.0784465832067
         ],
         "y": [
          923.4540513356783,
          923.2396218517484
         ],
         "z": [
          733.6642804949055,
          726.7209207080574
         ]
        },
        {
         "line": {
          "color": "rgba(0,255,0,0.2)",
          "width": 3
         },
         "mode": "lines",
         "showlegend": false,
         "type": "scatter3d",
         "x": [
          -181.0784465832067,
          -180.81056072530347
         ],
         "y": [
          923.2396218517484,
          935.2318949652226
         ],
         "z": [
          726.7209207080574,
          726.3838409860667
         ]
        },
        {
         "line": {
          "color": "rgba(0,255,0,0.2)",
          "width": 3
         },
         "mode": "lines",
         "showlegend": false,
         "type": "scatter3d",
         "x": [
          -180.81056072530347,
          -181.6729845577675
         ],
         "y": [
          935.2318949652226,
          935.4463244491525
         ],
         "z": [
          726.3838409860667,
          733.3272007729148
         ]
        },
        {
         "line": {
          "color": "rgba(0,255,0,0.2)",
          "width": 3
         },
         "mode": "lines",
         "showlegend": false,
         "type": "scatter3d",
         "x": [
          -181.6729845577675,
          -181.94087041567073
         ],
         "y": [
          935.4463244491525,
          923.4540513356783
         ],
         "z": [
          733.3272007729148,
          733.6642804949055
         ]
        },
        {
         "marker": {
          "color": "green",
          "size": 4
         },
         "mode": "markers",
         "name": "Mitte P11",
         "showlegend": false,
         "type": "scatter3d",
         "x": [
          -181.3757155704871
         ],
         "y": [
          929.3429731504505
         ],
         "z": [
          730.0240607404861
         ]
        },
        {
         "line": {
          "color": "green",
          "width": 2
         },
         "mode": "lines",
         "name": "Optimale Hakenlinie",
         "type": "scatter3d",
         "x": {
          "bdata": "G9M53KiLaMBerhieG+9nwNWx3gB0pmfAr9TxkkdMZ8D8fc6+8MhmwOL6qNwFrGbA",
          "dtype": "f8"
         },
         "y": {
          "bdata": "YnpmiRkJjUCAQGSOKRaNQHvqi0rqGY1AuniOJ3QXjUA/+2XwfQ2NQLoEtWi+Co1A",
          "dtype": "f8"
         },
         "z": {
          "bdata": "ApXXjSckh0B09dfjH/+GQFOYNJQX7YZAwsSu//rkhkDfQqq16dqGQAvswUYx0IZA",
          "dtype": "f8"
         }
        },
        {
         "line": {
          "color": "gray",
          "dash": "dash"
         },
         "mode": "lines",
         "name": "Direkte Gerade Spitze -> Senke",
         "type": "scatter3d",
         "x": [
          -185.03093531800704,
          -175.10210046933076
         ],
         "y": [
          928.7524565615975,
          927.0771539053576
         ],
         "z": [
          737.4536381656669,
          733.0302873446616
         ]
        },
        {
         "marker": {
          "color": "magenta",
          "size": 8
         },
         "mode": "markers",
         "name": "Spitze",
         "type": "scatter3d",
         "x": [
          -185.03093531800704
         ],
         "y": [
          928.7524565615975
         ],
         "z": [
          737.4536381656669
         ]
        },
        {
         "marker": {
          "color": "magenta",
          "size": 8
         },
         "mode": "markers",
         "name": "Senke",
         "type": "scatter3d",
         "x": [
          -175.10210046933076
         ],
         "y": [
          927.0771539053576
         ],
         "z": [
          733.0302873446616
         ]
        },
        {
         "mode": "text",
         "showlegend": false,
         "text": [
          "Spitze"
         ],
         "textfont": {
          "size": 10
         },
         "textposition": "top center",
         "type": "scatter3d",
         "x": [
          -185.03093531800704
         ],
         "y": [
          928.7524565615975
         ],
         "z": [
          737.4536381656669
         ]
        },
        {
         "mode": "text",
         "showlegend": false,
         "text": [
          "Senke"
         ],
         "textfont": {
          "size": 10
         },
         "textposition": "top center",
         "type": "scatter3d",
         "x": [
          -175.10210046933076
         ],
         "y": [
          927.0771539053576
         ],
         "z": [
          733.0302873446616
         ]
        }
       ],
       "layout": {
        "legend": {
         "title": {
          "text": "Legende"
         }
        },
        "scene": {
         "aspectmode": "cube",
         "xaxis": {
          "title": {
           "text": "X"
          }
         },
         "yaxis": {
          "title": {
           "text": "Y"
          }
         },
         "zaxis": {
          "title": {
           "text": "Z"
          }
         }
        },
        "template": {
         "data": {
          "bar": [
           {
            "error_x": {
             "color": "#2a3f5f"
            },
            "error_y": {
             "color": "#2a3f5f"
            },
            "marker": {
             "line": {
              "color": "#E5ECF6",
              "width": 0.5
             },
             "pattern": {
              "fillmode": "overlay",
              "size": 10,
              "solidity": 0.2
             }
            },
            "type": "bar"
           }
          ],
          "barpolar": [
           {
            "marker": {
             "line": {
              "color": "#E5ECF6",
              "width": 0.5
             },
             "pattern": {
              "fillmode": "overlay",
              "size": 10,
              "solidity": 0.2
             }
            },
            "type": "barpolar"
           }
          ],
          "carpet": [
           {
            "aaxis": {
             "endlinecolor": "#2a3f5f",
             "gridcolor": "white",
             "linecolor": "white",
             "minorgridcolor": "white",
             "startlinecolor": "#2a3f5f"
            },
            "baxis": {
             "endlinecolor": "#2a3f5f",
             "gridcolor": "white",
             "linecolor": "white",
             "minorgridcolor": "white",
             "startlinecolor": "#2a3f5f"
            },
            "type": "carpet"
           }
          ],
          "choropleth": [
           {
            "colorbar": {
             "outlinewidth": 0,
             "ticks": ""
            },
            "type": "choropleth"
           }
          ],
          "contour": [
           {
            "colorbar": {
             "outlinewidth": 0,
             "ticks": ""
            },
            "colorscale": [
             [
              0,
              "#0d0887"
             ],
             [
              0.1111111111111111,
              "#46039f"
             ],
             [
              0.2222222222222222,
              "#7201a8"
             ],
             [
              0.3333333333333333,
              "#9c179e"
             ],
             [
              0.4444444444444444,
              "#bd3786"
             ],
             [
              0.5555555555555556,
              "#d8576b"
             ],
             [
              0.6666666666666666,
              "#ed7953"
             ],
             [
              0.7777777777777778,
              "#fb9f3a"
             ],
             [
              0.8888888888888888,
              "#fdca26"
             ],
             [
              1,
              "#f0f921"
             ]
            ],
            "type": "contour"
           }
          ],
          "contourcarpet": [
           {
            "colorbar": {
             "outlinewidth": 0,
             "ticks": ""
            },
            "type": "contourcarpet"
           }
          ],
          "heatmap": [
           {
            "colorbar": {
             "outlinewidth": 0,
             "ticks": ""
            },
            "colorscale": [
             [
              0,
              "#0d0887"
             ],
             [
              0.1111111111111111,
              "#46039f"
             ],
             [
              0.2222222222222222,
              "#7201a8"
             ],
             [
              0.3333333333333333,
              "#9c179e"
             ],
             [
              0.4444444444444444,
              "#bd3786"
             ],
             [
              0.5555555555555556,
              "#d8576b"
             ],
             [
              0.6666666666666666,
              "#ed7953"
             ],
             [
              0.7777777777777778,
              "#fb9f3a"
             ],
             [
              0.8888888888888888,
              "#fdca26"
             ],
             [
              1,
              "#f0f921"
             ]
            ],
            "type": "heatmap"
           }
          ],
          "histogram": [
           {
            "marker": {
             "pattern": {
              "fillmode": "overlay",
              "size": 10,
              "solidity": 0.2
             }
            },
            "type": "histogram"
           }
          ],
          "histogram2d": [
           {
            "colorbar": {
             "outlinewidth": 0,
             "ticks": ""
            },
            "colorscale": [
             [
              0,
              "#0d0887"
             ],
             [
              0.1111111111111111,
              "#46039f"
             ],
             [
              0.2222222222222222,
              "#7201a8"
             ],
             [
              0.3333333333333333,
              "#9c179e"
             ],
             [
              0.4444444444444444,
              "#bd3786"
             ],
             [
              0.5555555555555556,
              "#d8576b"
             ],
             [
              0.6666666666666666,
              "#ed7953"
             ],
             [
              0.7777777777777778,
              "#fb9f3a"
             ],
             [
              0.8888888888888888,
              "#fdca26"
             ],
             [
              1,
              "#f0f921"
             ]
            ],
            "type": "histogram2d"
           }
          ],
          "histogram2dcontour": [
           {
            "colorbar": {
             "outlinewidth": 0,
             "ticks": ""
            },
            "colorscale": [
             [
              0,
              "#0d0887"
             ],
             [
              0.1111111111111111,
              "#46039f"
             ],
             [
              0.2222222222222222,
              "#7201a8"
             ],
             [
              0.3333333333333333,
              "#9c179e"
             ],
             [
              0.4444444444444444,
              "#bd3786"
             ],
             [
              0.5555555555555556,
              "#d8576b"
             ],
             [
              0.6666666666666666,
              "#ed7953"
             ],
             [
              0.7777777777777778,
              "#fb9f3a"
             ],
             [
              0.8888888888888888,
              "#fdca26"
             ],
             [
              1,
              "#f0f921"
             ]
            ],
            "type": "histogram2dcontour"
           }
          ],
          "mesh3d": [
           {
            "colorbar": {
             "outlinewidth": 0,
             "ticks": ""
            },
            "type": "mesh3d"
           }
          ],
          "parcoords": [
           {
            "line": {
             "colorbar": {
              "outlinewidth": 0,
              "ticks": ""
             }
            },
            "type": "parcoords"
           }
          ],
          "pie": [
           {
            "automargin": true,
            "type": "pie"
           }
          ],
          "scatter": [
           {
            "fillpattern": {
             "fillmode": "overlay",
             "size": 10,
             "solidity": 0.2
            },
            "type": "scatter"
           }
          ],
          "scatter3d": [
           {
            "line": {
             "colorbar": {
              "outlinewidth": 0,
              "ticks": ""
             }
            },
            "marker": {
             "colorbar": {
              "outlinewidth": 0,
              "ticks": ""
             }
            },
            "type": "scatter3d"
           }
          ],
          "scattercarpet": [
           {
            "marker": {
             "colorbar": {
              "outlinewidth": 0,
              "ticks": ""
             }
            },
            "type": "scattercarpet"
           }
          ],
          "scattergeo": [
           {
            "marker": {
             "colorbar": {
              "outlinewidth": 0,
              "ticks": ""
             }
            },
            "type": "scattergeo"
           }
          ],
          "scattergl": [
           {
            "marker": {
             "colorbar": {
              "outlinewidth": 0,
              "ticks": ""
             }
            },
            "type": "scattergl"
           }
          ],
          "scattermap": [
           {
            "marker": {
             "colorbar": {
              "outlinewidth": 0,
              "ticks": ""
             }
            },
            "type": "scattermap"
           }
          ],
          "scattermapbox": [
           {
            "marker": {
             "colorbar": {
              "outlinewidth": 0,
              "ticks": ""
             }
            },
            "type": "scattermapbox"
           }
          ],
          "scatterpolar": [
           {
            "marker": {
             "colorbar": {
              "outlinewidth": 0,
              "ticks": ""
             }
            },
            "type": "scatterpolar"
           }
          ],
          "scatterpolargl": [
           {
            "marker": {
             "colorbar": {
              "outlinewidth": 0,
              "ticks": ""
             }
            },
            "type": "scatterpolargl"
           }
          ],
          "scatterternary": [
           {
            "marker": {
             "colorbar": {
              "outlinewidth": 0,
              "ticks": ""
             }
            },
            "type": "scatterternary"
           }
          ],
          "surface": [
           {
            "colorbar": {
             "outlinewidth": 0,
             "ticks": ""
            },
            "colorscale": [
             [
              0,
              "#0d0887"
             ],
             [
              0.1111111111111111,
              "#46039f"
             ],
             [
              0.2222222222222222,
              "#7201a8"
             ],
             [
              0.3333333333333333,
              "#9c179e"
             ],
             [
              0.4444444444444444,
              "#bd3786"
             ],
             [
              0.5555555555555556,
              "#d8576b"
             ],
             [
              0.6666666666666666,
              "#ed7953"
             ],
             [
              0.7777777777777778,
              "#fb9f3a"
             ],
             [
              0.8888888888888888,
              "#fdca26"
             ],
             [
              1,
              "#f0f921"
             ]
            ],
            "type": "surface"
           }
          ],
          "table": [
           {
            "cells": {
             "fill": {
              "color": "#EBF0F8"
             },
             "line": {
              "color": "white"
             }
            },
            "header": {
             "fill": {
              "color": "#C8D4E3"
             },
             "line": {
              "color": "white"
             }
            },
            "type": "table"
           }
          ]
         },
         "layout": {
          "annotationdefaults": {
           "arrowcolor": "#2a3f5f",
           "arrowhead": 0,
           "arrowwidth": 1
          },
          "autotypenumbers": "strict",
          "coloraxis": {
           "colorbar": {
            "outlinewidth": 0,
            "ticks": ""
           }
          },
          "colorscale": {
           "diverging": [
            [
             0,
             "#8e0152"
            ],
            [
             0.1,
             "#c51b7d"
            ],
            [
             0.2,
             "#de77ae"
            ],
            [
             0.3,
             "#f1b6da"
            ],
            [
             0.4,
             "#fde0ef"
            ],
            [
             0.5,
             "#f7f7f7"
            ],
            [
             0.6,
             "#e6f5d0"
            ],
            [
             0.7,
             "#b8e186"
            ],
            [
             0.8,
             "#7fbc41"
            ],
            [
             0.9,
             "#4d9221"
            ],
            [
             1,
             "#276419"
            ]
           ],
           "sequential": [
            [
             0,
             "#0d0887"
            ],
            [
             0.1111111111111111,
             "#46039f"
            ],
            [
             0.2222222222222222,
             "#7201a8"
            ],
            [
             0.3333333333333333,
             "#9c179e"
            ],
            [
             0.4444444444444444,
             "#bd3786"
            ],
            [
             0.5555555555555556,
             "#d8576b"
            ],
            [
             0.6666666666666666,
             "#ed7953"
            ],
            [
             0.7777777777777778,
             "#fb9f3a"
            ],
            [
             0.8888888888888888,
             "#fdca26"
            ],
            [
             1,
             "#f0f921"
            ]
           ],
           "sequentialminus": [
            [
             0,
             "#0d0887"
            ],
            [
             0.1111111111111111,
             "#46039f"
            ],
            [
             0.2222222222222222,
             "#7201a8"
            ],
            [
             0.3333333333333333,
             "#9c179e"
            ],
            [
             0.4444444444444444,
             "#bd3786"
            ],
            [
             0.5555555555555556,
             "#d8576b"
            ],
            [
             0.6666666666666666,
             "#ed7953"
            ],
            [
             0.7777777777777778,
             "#fb9f3a"
            ],
            [
             0.8888888888888888,
             "#fdca26"
            ],
            [
             1,
             "#f0f921"
            ]
           ]
          },
          "colorway": [
           "#636efa",
           "#EF553B",
           "#00cc96",
           "#ab63fa",
           "#FFA15A",
           "#19d3f3",
           "#FF6692",
           "#B6E880",
           "#FF97FF",
           "#FECB52"
          ],
          "font": {
           "color": "#2a3f5f"
          },
          "geo": {
           "bgcolor": "white",
           "lakecolor": "white",
           "landcolor": "#E5ECF6",
           "showlakes": true,
           "showland": true,
           "subunitcolor": "white"
          },
          "hoverlabel": {
           "align": "left"
          },
          "hovermode": "closest",
          "mapbox": {
           "style": "light"
          },
          "paper_bgcolor": "white",
          "plot_bgcolor": "#E5ECF6",
          "polar": {
           "angularaxis": {
            "gridcolor": "white",
            "linecolor": "white",
            "ticks": ""
           },
           "bgcolor": "#E5ECF6",
           "radialaxis": {
            "gridcolor": "white",
            "linecolor": "white",
            "ticks": ""
           }
          },
          "scene": {
           "xaxis": {
            "backgroundcolor": "#E5ECF6",
            "gridcolor": "white",
            "gridwidth": 2,
            "linecolor": "white",
            "showbackground": true,
            "ticks": "",
            "zerolinecolor": "white"
           },
           "yaxis": {
            "backgroundcolor": "#E5ECF6",
            "gridcolor": "white",
            "gridwidth": 2,
            "linecolor": "white",
            "showbackground": true,
            "ticks": "",
            "zerolinecolor": "white"
           },
           "zaxis": {
            "backgroundcolor": "#E5ECF6",
            "gridcolor": "white",
            "gridwidth": 2,
            "linecolor": "white",
            "showbackground": true,
            "ticks": "",
            "zerolinecolor": "white"
           }
          },
          "shapedefaults": {
           "line": {
            "color": "#2a3f5f"
           }
          },
          "ternary": {
           "aaxis": {
            "gridcolor": "white",
            "linecolor": "white",
            "ticks": ""
           },
           "baxis": {
            "gridcolor": "white",
            "linecolor": "white",
            "ticks": ""
           },
           "bgcolor": "#E5ECF6",
           "caxis": {
            "gridcolor": "white",
            "linecolor": "white",
            "ticks": ""
           }
          },
          "title": {
           "x": 0.05
          },
          "xaxis": {
           "automargin": true,
           "gridcolor": "white",
           "linecolor": "white",
           "ticks": "",
           "title": {
            "standoff": 15
           },
           "zerolinecolor": "white",
           "zerolinewidth": 2
          },
          "yaxis": {
           "automargin": true,
           "gridcolor": "white",
           "linecolor": "white",
           "ticks": "",
           "title": {
            "standoff": 15
           },
           "zerolinecolor": "white",
           "zerolinewidth": 2
          }
         }
        },
        "title": {
         "text": "Haken 10, Trajektorien-Ansatz 2"
        }
       }
      }
     },
     "metadata": {},
     "output_type": "display_data"
    },
    {
     "name": "stdout",
     "output_type": "stream",
     "text": [
      "HTML-Datei '/home/mo/Thesis/Evaluation/Trajektorientests/CSV/traj3.html' erfolgreich erstellt!\n"
     ]
    },
    {
     "data": {
      "application/vnd.plotly.v1+json": {
       "config": {
        "plotlyServerURL": "https://plot.ly"
       },
       "data": [
        {
         "color": "rgba(31, 119, 180, 0.8)",
         "name": "P1",
         "opacity": 0.8,
         "type": "mesh3d",
         "x": [
          -200.33857012279813,
          -199.16123306551538,
          -187.53884507485296,
          -188.7161821321357
         ],
         "y": [
          933.660475962205,
          927.4013912462398,
          928.2600051837826,
          934.5190898997479
         ],
         "z": [
          741.4780557958137,
          738.5732776679837,
          741.4338509498212,
          744.3386290776513
         ]
        },
        {
         "marker": {
          "color": "red",
          "size": 3
         },
         "mode": "markers+text",
         "showlegend": false,
         "text": "",
         "textfont": {
          "size": 12
         },
         "textposition": "top center",
         "type": "scatter3d",
         "x": [
          -193.93870759882554
         ],
         "y": [
          930.9602405729938
         ],
         "z": [
          741.4559533728175
         ]
        },
        {
         "line": {
          "color": "rgba(31, 119, 180, 0.8)",
          "width": 4
         },
         "mode": "lines",
         "showlegend": false,
         "type": "scatter3d",
         "x": [
          -200.33857012279813,
          -199.16123306551538
         ],
         "y": [
          933.660475962205,
          927.4013912462398
         ],
         "z": [
          741.4780557958137,
          738.5732776679837
         ]
        },
        {
         "line": {
          "color": "rgba(31, 119, 180, 0.8)",
          "width": 4
         },
         "mode": "lines",
         "showlegend": false,
         "type": "scatter3d",
         "x": [
          -199.16123306551538,
          -187.53884507485296
         ],
         "y": [
          927.4013912462398,
          928.2600051837826
         ],
         "z": [
          738.5732776679837,
          741.4338509498212
         ]
        },
        {
         "line": {
          "color": "rgba(31, 119, 180, 0.8)",
          "width": 4
         },
         "mode": "lines",
         "showlegend": false,
         "type": "scatter3d",
         "x": [
          -187.53884507485296,
          -188.7161821321357
         ],
         "y": [
          928.2600051837826,
          934.5190898997479
         ],
         "z": [
          741.4338509498212,
          744.3386290776513
         ]
        },
        {
         "line": {
          "color": "rgba(31, 119, 180, 0.8)",
          "width": 4
         },
         "mode": "lines",
         "showlegend": false,
         "type": "scatter3d",
         "x": [
          -188.7161821321357,
          -200.33857012279813
         ],
         "y": [
          934.5190898997479,
          933.660475962205
         ],
         "z": [
          744.3386290776513,
          741.4780557958137
         ]
        },
        {
         "color": "rgba(174, 199, 232, 0.8)",
         "name": "P2",
         "opacity": 0.8,
         "type": "mesh3d",
         "x": [
          -191.43079784197963,
          -190.25346078469687,
          -178.63107279403445,
          -179.8084098513172
         ],
         "y": [
          931.4526919508087,
          925.1936072348434,
          926.0522211723862,
          932.3113058883515
         ],
         "z": [
          737.4757405886631,
          734.5709624608331,
          737.4315357426707,
          740.3363138705007
         ]
        },
        {
         "marker": {
          "color": "red",
          "size": 3
         },
         "mode": "markers+text",
         "showlegend": false,
         "text": "",
         "textfont": {
          "size": 12
         },
         "textposition": "top center",
         "type": "scatter3d",
         "x": [
          -185.03093531800704
         ],
         "y": [
          928.7524565615973
         ],
         "z": [
          737.4536381656669
         ]
        },
        {
         "line": {
          "color": "rgba(174, 199, 232, 0.8)",
          "width": 4
         },
         "mode": "lines",
         "showlegend": false,
         "type": "scatter3d",
         "x": [
          -191.43079784197963,
          -190.25346078469687
         ],
         "y": [
          931.4526919508087,
          925.1936072348434
         ],
         "z": [
          737.4757405886631,
          734.5709624608331
         ]
        },
        {
         "line": {
          "color": "rgba(174, 199, 232, 0.8)",
          "width": 4
         },
         "mode": "lines",
         "showlegend": false,
         "type": "scatter3d",
         "x": [
          -190.25346078469687,
          -178.63107279403445
         ],
         "y": [
          925.1936072348434,
          926.0522211723862
         ],
         "z": [
          734.5709624608331,
          737.4315357426707
         ]
        },
        {
         "line": {
          "color": "rgba(174, 199, 232, 0.8)",
          "width": 4
         },
         "mode": "lines",
         "showlegend": false,
         "type": "scatter3d",
         "x": [
          -178.63107279403445,
          -179.8084098513172
         ],
         "y": [
          926.0522211723862,
          932.3113058883515
         ],
         "z": [
          737.4315357426707,
          740.3363138705007
         ]
        },
        {
         "line": {
          "color": "rgba(174, 199, 232, 0.8)",
          "width": 4
         },
         "mode": "lines",
         "showlegend": false,
         "type": "scatter3d",
         "x": [
          -179.8084098513172,
          -191.43079784197963
         ],
         "y": [
          932.3113058883515,
          931.4526919508087
         ],
         "z": [
          740.3363138705007,
          737.4757405886631
         ]
        },
        {
         "color": "rgba(255, 187, 120, 0.8)",
         "name": "P3",
         "opacity": 0.8,
         "type": "mesh3d",
         "x": [
          -190.4112264174661,
          -189.23388936018335,
          -177.61150136952094,
          -178.7888384268037
         ],
         "y": [
          931.2505729106165,
          924.9914881946512,
          925.850102132194,
          932.1091868481593
         ],
         "z": [
          736.6997937263982,
          733.7950155985682,
          736.6555888804057,
          739.5603670082357
         ]
        },
        {
         "marker": {
          "color": "red",
          "size": 3
         },
         "mode": "markers+text",
         "showlegend": false,
         "text": "P2",
         "textfont": {
          "size": 12
         },
         "textposition": "top center",
         "type": "scatter3d",
         "x": [
          -184.01136389349352
         ],
         "y": [
          928.5503375214053
         ],
         "z": [
          736.6776913034018
         ]
        },
        {
         "line": {
          "color": "rgba(255, 187, 120, 0.8)",
          "width": 4
         },
         "mode": "lines",
         "showlegend": false,
         "type": "scatter3d",
         "x": [
          -190.4112264174661,
          -189.23388936018335
         ],
         "y": [
          931.2505729106165,
          924.9914881946512
         ],
         "z": [
          736.6997937263982,
          733.7950155985682
         ]
        },
        {
         "line": {
          "color": "rgba(255, 187, 120, 0.8)",
          "width": 4
         },
         "mode": "lines",
         "showlegend": false,
         "type": "scatter3d",
         "x": [
          -189.23388936018335,
          -177.61150136952094
         ],
         "y": [
          924.9914881946512,
          925.850102132194
         ],
         "z": [
          733.7950155985682,
          736.6555888804057
         ]
        },
        {
         "line": {
          "color": "rgba(255, 187, 120, 0.8)",
          "width": 4
         },
         "mode": "lines",
         "showlegend": false,
         "type": "scatter3d",
         "x": [
          -177.61150136952094,
          -178.7888384268037
         ],
         "y": [
          925.850102132194,
          932.1091868481593
         ],
         "z": [
          736.6555888804057,
          739.5603670082357
         ]
        },
        {
         "line": {
          "color": "rgba(255, 187, 120, 0.8)",
          "width": 4
         },
         "mode": "lines",
         "showlegend": false,
         "type": "scatter3d",
         "x": [
          -178.7888384268037,
          -190.4112264174661
         ],
         "y": [
          932.1091868481593,
          931.2505729106165
         ],
         "z": [
          739.5603670082357,
          736.6997937263982
         ]
        },
        {
         "color": "rgba(152, 223, 138, 0.8)",
         "name": "P4",
         "opacity": 0.8,
         "type": "mesh3d",
         "x": [
          -189.39111232088598,
          -188.21377526360322,
          -176.5913872729408,
          -177.76872433022356
         ],
         "y": [
          931.0659227174076,
          924.8068380014423,
          925.6654519389851,
          931.9245366549504
         ],
         "z": [
          735.9995423444518,
          733.0947642166218,
          735.9553374984594,
          738.8601156262894
         ]
        },
        {
         "marker": {
          "color": "red",
          "size": 3
         },
         "mode": "markers+text",
         "showlegend": false,
         "text": "P3",
         "textfont": {
          "size": 12
         },
         "textposition": "top center",
         "type": "scatter3d",
         "x": [
          -182.9912497969134
         ],
         "y": [
          928.3656873281964
         ],
         "z": [
          735.9774399214556
         ]
        },
        {
         "line": {
          "color": "rgba(152, 223, 138, 0.8)",
          "width": 4
         },
         "mode": "lines",
         "showlegend": false,
         "type": "scatter3d",
         "x": [
          -189.39111232088598,
          -188.21377526360322
         ],
         "y": [
          931.0659227174076,
          924.8068380014423
         ],
         "z": [
          735.9995423444518,
          733.0947642166218
         ]
        },
        {
         "line": {
          "color": "rgba(152, 223, 138, 0.8)",
          "width": 4
         },
         "mode": "lines",
         "showlegend": false,
         "type": "scatter3d",
         "x": [
          -188.21377526360322,
          -176.5913872729408
         ],
         "y": [
          924.8068380014423,
          925.6654519389851
         ],
         "z": [
          733.0947642166218,
          735.9553374984594
         ]
        },
        {
         "line": {
          "color": "rgba(152, 223, 138, 0.8)",
          "width": 4
         },
         "mode": "lines",
         "showlegend": false,
         "type": "scatter3d",
         "x": [
          -176.5913872729408,
          -177.76872433022356
         ],
         "y": [
          925.6654519389851,
          931.9245366549504
         ],
         "z": [
          735.9553374984594,
          738.8601156262894
         ]
        },
        {
         "line": {
          "color": "rgba(152, 223, 138, 0.8)",
          "width": 4
         },
         "mode": "lines",
         "showlegend": false,
         "type": "scatter3d",
         "x": [
          -177.76872433022356,
          -189.39111232088598
         ],
         "y": [
          931.9245366549504,
          931.0659227174076
         ],
         "z": [
          738.8601156262894,
          735.9995423444518
         ]
        },
        {
         "color": "rgba(255, 152, 150, 0.8)",
         "name": "P5",
         "opacity": 0.8,
         "type": "mesh3d",
         "x": [
          -188.36913281106993,
          -187.19179575378718,
          -175.56940776312476,
          -176.7467448204075
         ],
         "y": [
          930.8693132935439,
          924.6102285775786,
          925.4688425151214,
          931.7279272310867
         ],
         "z": [
          735.4510462763828,
          732.5462681485528,
          735.4068414303904,
          738.3116195582204
         ]
        },
        {
         "marker": {
          "color": "red",
          "size": 3
         },
         "mode": "markers+text",
         "showlegend": false,
         "text": "P4",
         "textfont": {
          "size": 12
         },
         "textposition": "top center",
         "type": "scatter3d",
         "x": [
          -181.96927028709734
         ],
         "y": [
          928.1690779043325
         ],
         "z": [
          735.4289438533867
         ]
        },
        {
         "line": {
          "color": "rgba(255, 152, 150, 0.8)",
          "width": 4
         },
         "mode": "lines",
         "showlegend": false,
         "type": "scatter3d",
         "x": [
          -188.36913281106993,
          -187.19179575378718
         ],
         "y": [
          930.8693132935439,
          924.6102285775786
         ],
         "z": [
          735.4510462763828,
          732.5462681485528
         ]
        },
        {
         "line": {
          "color": "rgba(255, 152, 150, 0.8)",
          "width": 4
         },
         "mode": "lines",
         "showlegend": false,
         "type": "scatter3d",
         "x": [
          -187.19179575378718,
          -175.56940776312476
         ],
         "y": [
          924.6102285775786,
          925.4688425151214
         ],
         "z": [
          732.5462681485528,
          735.4068414303904
         ]
        },
        {
         "line": {
          "color": "rgba(255, 152, 150, 0.8)",
          "width": 4
         },
         "mode": "lines",
         "showlegend": false,
         "type": "scatter3d",
         "x": [
          -175.56940776312476,
          -176.7467448204075
         ],
         "y": [
          925.4688425151214,
          931.7279272310867
         ],
         "z": [
          735.4068414303904,
          738.3116195582204
         ]
        },
        {
         "line": {
          "color": "rgba(255, 152, 150, 0.8)",
          "width": 4
         },
         "mode": "lines",
         "showlegend": false,
         "type": "scatter3d",
         "x": [
          -176.7467448204075,
          -188.36913281106993
         ],
         "y": [
          931.7279272310867,
          930.8693132935439
         ],
         "z": [
          738.3116195582204,
          735.4510462763828
         ]
        },
        {
         "color": "rgba(197, 176, 213, 0.8)",
         "name": "P6",
         "opacity": 0.8,
         "type": "mesh3d",
         "x": [
          -187.2934219482129,
          -186.11608489093015,
          -174.49369690026774,
          -175.6710339575505
         ],
         "y": [
          931.7103717625185,
          925.4512870465533,
          926.3099009840961,
          932.5689857000614
         ],
         "z": [
          734.8314872981837,
          731.9267091703537,
          734.7872824521912,
          737.6920605800212
         ]
        },
        {
         "marker": {
          "color": "red",
          "size": 3
         },
         "mode": "markers+text",
         "showlegend": false,
         "text": "P5",
         "textfont": {
          "size": 12
         },
         "textposition": "top center",
         "type": "scatter3d",
         "x": [
          -180.89355942424032
         ],
         "y": [
          929.0101363733074
         ],
         "z": [
          734.8093848751876
         ]
        },
        {
         "line": {
          "color": "rgba(197, 176, 213, 0.8)",
          "width": 4
         },
         "mode": "lines",
         "showlegend": false,
         "type": "scatter3d",
         "x": [
          -187.2934219482129,
          -186.11608489093015
         ],
         "y": [
          931.7103717625185,
          925.4512870465533
         ],
         "z": [
          734.8314872981837,
          731.9267091703537
         ]
        },
        {
         "line": {
          "color": "rgba(197, 176, 213, 0.8)",
          "width": 4
         },
         "mode": "lines",
         "showlegend": false,
         "type": "scatter3d",
         "x": [
          -186.11608489093015,
          -174.49369690026774
         ],
         "y": [
          925.4512870465533,
          926.3099009840961
         ],
         "z": [
          731.9267091703537,
          734.7872824521912
         ]
        },
        {
         "line": {
          "color": "rgba(197, 176, 213, 0.8)",
          "width": 4
         },
         "mode": "lines",
         "showlegend": false,
         "type": "scatter3d",
         "x": [
          -174.49369690026774,
          -175.6710339575505
         ],
         "y": [
          926.3099009840961,
          932.5689857000614
         ],
         "z": [
          734.7872824521912,
          737.6920605800212
         ]
        },
        {
         "line": {
          "color": "rgba(197, 176, 213, 0.8)",
          "width": 4
         },
         "mode": "lines",
         "showlegend": false,
         "type": "scatter3d",
         "x": [
          -175.6710339575505,
          -187.2934219482129
         ],
         "y": [
          932.5689857000614,
          931.7103717625185
         ],
         "z": [
          737.6920605800212,
          734.8314872981837
         ]
        },
        {
         "color": "rgba(140, 86, 75, 0.8)",
         "name": "P7",
         "opacity": 0.8,
         "type": "mesh3d",
         "x": [
          -186.18301960313997,
          -185.0056825458572,
          -173.3832945551948,
          -174.56063161247755
         ],
         "y": [
          930.4842967402085,
          924.2252120242432,
          925.083825961786,
          931.3429106777513
         ],
         "z": [
          734.2005271082897,
          731.2957489804597,
          734.1563222622973,
          737.0611003901273
         ]
        },
        {
         "marker": {
          "color": "red",
          "size": 3
         },
         "mode": "markers+text",
         "showlegend": false,
         "text": "P6",
         "textfont": {
          "size": 12
         },
         "textposition": "top center",
         "type": "scatter3d",
         "x": [
          -179.78315707916738
         ],
         "y": [
          927.7840613509973
         ],
         "z": [
          734.1784246852935
         ]
        },
        {
         "line": {
          "color": "rgba(140, 86, 75, 0.8)",
          "width": 4
         },
         "mode": "lines",
         "showlegend": false,
         "type": "scatter3d",
         "x": [
          -186.18301960313997,
          -185.0056825458572
         ],
         "y": [
          930.4842967402085,
          924.2252120242432
         ],
         "z": [
          734.2005271082897,
          731.2957489804597
         ]
        },
        {
         "line": {
          "color": "rgba(140, 86, 75, 0.8)",
          "width": 4
         },
         "mode": "lines",
         "showlegend": false,
         "type": "scatter3d",
         "x": [
          -185.0056825458572,
          -173.3832945551948
         ],
         "y": [
          924.2252120242432,
          925.083825961786
         ],
         "z": [
          731.2957489804597,
          734.1563222622973
         ]
        },
        {
         "line": {
          "color": "rgba(140, 86, 75, 0.8)",
          "width": 4
         },
         "mode": "lines",
         "showlegend": false,
         "type": "scatter3d",
         "x": [
          -173.3832945551948,
          -174.56063161247755
         ],
         "y": [
          925.083825961786,
          931.3429106777513
         ],
         "z": [
          734.1563222622973,
          737.0611003901273
         ]
        },
        {
         "line": {
          "color": "rgba(140, 86, 75, 0.8)",
          "width": 4
         },
         "mode": "lines",
         "showlegend": false,
         "type": "scatter3d",
         "x": [
          -174.56063161247755,
          -186.18301960313997
         ],
         "y": [
          931.3429106777513,
          930.4842967402085
         ],
         "z": [
          737.0611003901273,
          734.2005271082897
         ]
        },
        {
         "color": "rgba(227, 119, 194, 0.8)",
         "name": "P8",
         "opacity": 0.8,
         "type": "mesh3d",
         "x": [
          -185.16342194493225,
          -183.9860848876495,
          -172.36369689698708,
          -173.54103395426984
         ],
         "y": [
          930.3039397592278,
          924.0448550432625,
          924.9034689808053,
          931.1625536967706
         ],
         "z": [
          733.6527410623356,
          730.7479629345056,
          733.6085362163432,
          736.5133143441732
         ]
        },
        {
         "marker": {
          "color": "red",
          "size": 3
         },
         "mode": "markers+text",
         "showlegend": false,
         "text": "P7",
         "textfont": {
          "size": 12
         },
         "textposition": "top center",
         "type": "scatter3d",
         "x": [
          -178.76355942095967
         ],
         "y": [
          927.6037043700167
         ],
         "z": [
          733.6306386393394
         ]
        },
        {
         "line": {
          "color": "rgba(227, 119, 194, 0.8)",
          "width": 4
         },
         "mode": "lines",
         "showlegend": false,
         "type": "scatter3d",
         "x": [
          -185.16342194493225,
          -183.9860848876495
         ],
         "y": [
          930.3039397592278,
          924.0448550432625
         ],
         "z": [
          733.6527410623356,
          730.7479629345056
         ]
        },
        {
         "line": {
          "color": "rgba(227, 119, 194, 0.8)",
          "width": 4
         },
         "mode": "lines",
         "showlegend": false,
         "type": "scatter3d",
         "x": [
          -183.9860848876495,
          -172.36369689698708
         ],
         "y": [
          924.0448550432625,
          924.9034689808053
         ],
         "z": [
          730.7479629345056,
          733.6085362163432
         ]
        },
        {
         "line": {
          "color": "rgba(227, 119, 194, 0.8)",
          "width": 4
         },
         "mode": "lines",
         "showlegend": false,
         "type": "scatter3d",
         "x": [
          -172.36369689698708,
          -173.54103395426984
         ],
         "y": [
          924.9034689808053,
          931.1625536967706
         ],
         "z": [
          733.6085362163432,
          736.5133143441732
         ]
        },
        {
         "line": {
          "color": "rgba(227, 119, 194, 0.8)",
          "width": 4
         },
         "mode": "lines",
         "showlegend": false,
         "type": "scatter3d",
         "x": [
          -173.54103395426984,
          -185.16342194493225
         ],
         "y": [
          931.1625536967706,
          930.3039397592278
         ],
         "z": [
          736.5133143441732,
          733.6527410623356
         ]
        },
        {
         "color": "rgba(127, 127, 127, 0.8)",
         "name": "P9",
         "opacity": 0.8,
         "type": "mesh3d",
         "x": [
          -183.99454577103668,
          -182.81720871375393,
          -171.1948207230915,
          -172.37215778037427
         ],
         "y": [
          930.130043883913,
          923.8709591679477,
          924.7295731054905,
          930.9886578214558
         ],
         "z": [
          733.2524975898865,
          730.3477194620565,
          733.208292743894,
          736.1130708717241
         ]
        },
        {
         "marker": {
          "color": "red",
          "size": 3
         },
         "mode": "markers+text",
         "showlegend": false,
         "text": "P8",
         "textfont": {
          "size": 12
         },
         "textposition": "top center",
         "type": "scatter3d",
         "x": [
          -177.5946832470641
         ],
         "y": [
          927.4298084947018
         ],
         "z": [
          733.2303951668903
         ]
        },
        {
         "line": {
          "color": "rgba(127, 127, 127, 0.8)",
          "width": 4
         },
         "mode": "lines",
         "showlegend": false,
         "type": "scatter3d",
         "x": [
          -183.99454577103668,
          -182.81720871375393
         ],
         "y": [
          930.130043883913,
          923.8709591679477
         ],
         "z": [
          733.2524975898865,
          730.3477194620565
         ]
        },
        {
         "line": {
          "color": "rgba(127, 127, 127, 0.8)",
          "width": 4
         },
         "mode": "lines",
         "showlegend": false,
         "type": "scatter3d",
         "x": [
          -182.81720871375393,
          -171.1948207230915
         ],
         "y": [
          923.8709591679477,
          924.7295731054905
         ],
         "z": [
          730.3477194620565,
          733.208292743894
         ]
        },
        {
         "line": {
          "color": "rgba(127, 127, 127, 0.8)",
          "width": 4
         },
         "mode": "lines",
         "showlegend": false,
         "type": "scatter3d",
         "x": [
          -171.1948207230915,
          -172.37215778037427
         ],
         "y": [
          924.7295731054905,
          930.9886578214558
         ],
         "z": [
          733.208292743894,
          736.1130708717241
         ]
        },
        {
         "line": {
          "color": "rgba(127, 127, 127, 0.8)",
          "width": 4
         },
         "mode": "lines",
         "showlegend": false,
         "type": "scatter3d",
         "x": [
          -172.37215778037427,
          -183.99454577103668
         ],
         "y": [
          930.9886578214558,
          930.130043883913
         ],
         "z": [
          736.1130708717241,
          733.2524975898865
         ]
        },
        {
         "color": "rgba(188, 189, 34, 0.8)",
         "name": "P10",
         "opacity": 0.8,
         "type": "mesh3d",
         "x": [
          -182.7485122072982,
          -181.57117515001545,
          -169.94878715935303,
          -171.1261242166358
         ],
         "y": [
          930.9929399209361,
          924.7338552049708,
          925.5924691425137,
          931.851553858479
         ],
         "z": [
          733.1519051450808,
          730.2471270172508,
          733.1077002990884,
          736.0124784269184
         ]
        },
        {
         "marker": {
          "color": "red",
          "size": 3
         },
         "mode": "markers+text",
         "showlegend": false,
         "text": "P9",
         "textfont": {
          "size": 12
         },
         "textposition": "top center",
         "type": "scatter3d",
         "x": [
          -176.34864968332562
         ],
         "y": [
          928.2927045317249
         ],
         "z": [
          733.1298027220846
         ]
        },
        {
         "line": {
          "color": "rgba(188, 189, 34, 0.8)",
          "width": 4
         },
         "mode": "lines",
         "showlegend": false,
         "type": "scatter3d",
         "x": [
          -182.7485122072982,
          -181.57117515001545
         ],
         "y": [
          930.9929399209361,
          924.7338552049708
         ],
         "z": [
          733.1519051450808,
          730.2471270172508
         ]
        },
        {
         "line": {
          "color": "rgba(188, 189, 34, 0.8)",
          "width": 4
         },
         "mode": "lines",
         "showlegend": false,
         "type": "scatter3d",
         "x": [
          -181.57117515001545,
          -169.94878715935303
         ],
         "y": [
          924.7338552049708,
          925.5924691425137
         ],
         "z": [
          730.2471270172508,
          733.1077002990884
         ]
        },
        {
         "line": {
          "color": "rgba(188, 189, 34, 0.8)",
          "width": 4
         },
         "mode": "lines",
         "showlegend": false,
         "type": "scatter3d",
         "x": [
          -169.94878715935303,
          -171.1261242166358
         ],
         "y": [
          925.5924691425137,
          931.851553858479
         ],
         "z": [
          733.1077002990884,
          736.0124784269184
         ]
        },
        {
         "line": {
          "color": "rgba(188, 189, 34, 0.8)",
          "width": 4
         },
         "mode": "lines",
         "showlegend": false,
         "type": "scatter3d",
         "x": [
          -171.1261242166358,
          -182.7485122072982
         ],
         "y": [
          931.851553858479,
          930.9929399209361
         ],
         "z": [
          736.0124784269184,
          733.1519051450808
         ]
        },
        {
         "color": "rgba(23, 190, 207, 0.8)",
         "name": "P11",
         "opacity": 0.8,
         "type": "mesh3d",
         "x": [
          -181.50196299330335,
          -180.3246259360206,
          -168.70223794535818,
          -169.87957500264093
         ],
         "y": [
          929.7773892945688,
          923.5183045786035,
          924.3769185161464,
          930.6360032321116
         ],
         "z": [
          733.0523897676578,
          730.1476116398278,
          733.0081849216654,
          735.9129630494954
         ]
        },
        {
         "marker": {
          "color": "red",
          "size": 3
         },
         "mode": "markers+text",
         "showlegend": false,
         "text": "",
         "textfont": {
          "size": 12
         },
         "textposition": "top center",
         "type": "scatter3d",
         "x": [
          -175.10210046933076
         ],
         "y": [
          927.0771539053576
         ],
         "z": [
          733.0302873446616
         ]
        },
        {
         "line": {
          "color": "rgba(23, 190, 207, 0.8)",
          "width": 4
         },
         "mode": "lines",
         "showlegend": false,
         "type": "scatter3d",
         "x": [
          -181.50196299330335,
          -180.3246259360206
         ],
         "y": [
          929.7773892945688,
          923.5183045786035
         ],
         "z": [
          733.0523897676578,
          730.1476116398278
         ]
        },
        {
         "line": {
          "color": "rgba(23, 190, 207, 0.8)",
          "width": 4
         },
         "mode": "lines",
         "showlegend": false,
         "type": "scatter3d",
         "x": [
          -180.3246259360206,
          -168.70223794535818
         ],
         "y": [
          923.5183045786035,
          924.3769185161464
         ],
         "z": [
          730.1476116398278,
          733.0081849216654
         ]
        },
        {
         "line": {
          "color": "rgba(23, 190, 207, 0.8)",
          "width": 4
         },
         "mode": "lines",
         "showlegend": false,
         "type": "scatter3d",
         "x": [
          -168.70223794535818,
          -169.87957500264093
         ],
         "y": [
          924.3769185161464,
          930.6360032321116
         ],
         "z": [
          733.0081849216654,
          735.9129630494954
         ]
        },
        {
         "line": {
          "color": "rgba(23, 190, 207, 0.8)",
          "width": 4
         },
         "mode": "lines",
         "showlegend": false,
         "type": "scatter3d",
         "x": [
          -169.87957500264093,
          -181.50196299330335
         ],
         "y": [
          930.6360032321116,
          929.7773892945688
         ],
         "z": [
          735.9129630494954,
          733.0523897676578
         ]
        },
        {
         "line": {
          "color": "black",
          "width": 2
         },
         "mode": "lines",
         "name": "Berechnete Hakenlinie",
         "type": "scatter3d",
         "x": {
          "bdata": "zK6E5Ak+aMA2ZBBs/SBnwB7dzxddAGfAHH1+UbjfZsAqAh9DBL9mwKIE7wmYnGbA9FRvnw95ZsBisioUb1hmwNIzKaUHM2bAnnRhIygLZsDSFTRoRONlwA==",
          "dtype": "f8"
         },
         "y": {
          "bdata": "aAqckq4XjUDFHfIHBQaNQJTBWxdnBI1AUll67ewCjUCtLIRFWgGNQNj+YMIUCI1AuiT1wUX+jEBk7fRi1PyMQEyibz9w+4xAMjl5dVcCjUAo4t0CnviMQA==",
          "dtype": "f8"
         },
         "z": {
          "bdata": "BMbhyqUrh0AO7gsNoQuHQCgHa+lrBYdAp4MFzNH/hkDucB16bvuGQHYGx5559oZAFOHraW3xhkB0XEWMC+2GQJrXa9nX6YZASHIC1gnphkBvlkoHPuiGQA==",
          "dtype": "f8"
         }
        },
        {
         "mode": "text",
         "showlegend": false,
         "text": [
          "Pre-Position"
         ],
         "textfont": {
          "size": 10
         },
         "textposition": "top center",
         "type": "scatter3d",
         "x": [
          -193.93870759882554
         ],
         "y": [
          930.9602405729938
         ],
         "z": [
          741.4559533728175
         ]
        },
        {
         "mode": "text",
         "showlegend": false,
         "text": [
          "Loslassen"
         ],
         "textfont": {
          "size": 10
         },
         "textposition": "top center",
         "type": "scatter3d",
         "x": [
          -175.10210046933076
         ],
         "y": [
          927.0771539053576
         ],
         "z": [
          733.0302873446616
         ]
        },
        {
         "color": "rgba(0,255,0,0.2)",
         "name": "optimale Trajektorie",
         "opacity": 0.8,
         "type": "mesh3d",
         "x": [
          -194.33533256574384,
          -198.38948330583074,
          -198.3933930830193,
          -194.3392423429324
         ],
         "y": [
          923.2559156347077,
          923.0284499770247,
          935.0190225683598,
          935.2464882260427
         ],
         "z": [
          743.6080616436798,
          737.9061215219995,
          737.430565378558,
          743.1325055002383
         ]
        },
        {
         "line": {
          "color": "rgba(0,255,0,0.2)",
          "width": 3
         },
         "mode": "lines",
         "showlegend": false,
         "type": "scatter3d",
         "x": [
          -194.33533256574384,
          -198.38948330583074
         ],
         "y": [
          923.2559156347077,
          923.0284499770247
         ],
         "z": [
          743.6080616436798,
          737.9061215219995
         ]
        },
        {
         "line": {
          "color": "rgba(0,255,0,0.2)",
          "width": 3
         },
         "mode": "lines",
         "showlegend": false,
         "type": "scatter3d",
         "x": [
          -198.38948330583074,
          -198.3933930830193
         ],
         "y": [
          923.0284499770247,
          935.0190225683598
         ],
         "z": [
          737.9061215219995,
          737.430565378558
         ]
        },
        {
         "line": {
          "color": "rgba(0,255,0,0.2)",
          "width": 3
         },
         "mode": "lines",
         "showlegend": false,
         "type": "scatter3d",
         "x": [
          -198.3933930830193,
          -194.3392423429324
         ],
         "y": [
          935.0190225683598,
          935.2464882260427
         ],
         "z": [
          737.430565378558,
          743.1325055002383
         ]
        },
        {
         "line": {
          "color": "rgba(0,255,0,0.2)",
          "width": 3
         },
         "mode": "lines",
         "showlegend": false,
         "type": "scatter3d",
         "x": [
          -194.3392423429324,
          -194.33533256574384
         ],
         "y": [
          935.2464882260427,
          923.2559156347077
         ],
         "z": [
          743.1325055002383,
          743.6080616436798
         ]
        },
        {
         "marker": {
          "color": "green",
          "size": 4
         },
         "mode": "markers",
         "name": "Mitte P11",
         "showlegend": false,
         "type": "scatter3d",
         "x": [
          -196.36436282438157
         ],
         "y": [
          929.1374691015337
         ],
         "z": [
          740.5193135111188
         ]
        },
        {
         "color": "rgba(0,255,0,0.2)",
         "name": "optimale Trajektorie",
         "opacity": 0.8,
         "type": "mesh3d",
         "x": [
          -189.48244022287614,
          -193.52679668311643,
          -193.4618023464852,
          -189.4174458862449
         ],
         "y": [
          924.8910701805298,
          924.6613312219619,
          936.6495120628524,
          936.8792510214204
         ],
         "z": [
          739.0092136924177,
          733.3004133952073,
          732.7719288993987,
          738.4807291966091
         ]
        },
        {
         "line": {
          "color": "rgba(0,255,0,0.2)",
          "width": 3
         },
         "mode": "lines",
         "showlegend": false,
         "type": "scatter3d",
         "x": [
          -189.48244022287614,
          -193.52679668311643
         ],
         "y": [
          924.8910701805298,
          924.6613312219619
         ],
         "z": [
          739.0092136924177,
          733.3004133952073
         ]
        },
        {
         "line": {
          "color": "rgba(0,255,0,0.2)",
          "width": 3
         },
         "mode": "lines",
         "showlegend": false,
         "type": "scatter3d",
         "x": [
          -193.52679668311643,
          -193.4618023464852
         ],
         "y": [
          924.6613312219619,
          936.6495120628524
         ],
         "z": [
          733.3004133952073,
          732.7719288993987
         ]
        },
        {
         "line": {
          "color": "rgba(0,255,0,0.2)",
          "width": 3
         },
         "mode": "lines",
         "showlegend": false,
         "type": "scatter3d",
         "x": [
          -193.4618023464852,
          -189.4174458862449
         ],
         "y": [
          936.6495120628524,
          936.8792510214204
         ],
         "z": [
          732.7719288993987,
          738.4807291966091
         ]
        },
        {
         "line": {
          "color": "rgba(0,255,0,0.2)",
          "width": 3
         },
         "mode": "lines",
         "showlegend": false,
         "type": "scatter3d",
         "x": [
          -189.4174458862449,
          -189.48244022287614
         ],
         "y": [
          936.8792510214204,
          924.8910701805298
         ],
         "z": [
          738.4807291966091,
          739.0092136924177
         ]
        },
        {
         "marker": {
          "color": "green",
          "size": 4
         },
         "mode": "markers",
         "name": "Mitte P11",
         "showlegend": false,
         "type": "scatter3d",
         "x": [
          -191.47212128468067
         ],
         "y": [
          930.7702911216911
         ],
         "z": [
          735.8905712959081
         ]
        },
        {
         "color": "rgba(0,255,0,0.2)",
         "name": "optimale Trajektorie",
         "opacity": 0.8,
         "type": "mesh3d",
         "x": [
          -187.23229477058013,
          -191.27139749914878,
          -191.17102637152212,
          -187.13192364295347
         ],
         "y": [
          925.3611572601404,
          925.1308670374355,
          937.1176427373672,
          937.3479329600722
         ],
         "z": [
          736.7698597057872,
          731.0573632671541,
          730.5031665906349,
          736.2156630292681
         ]
        },
        {
         "line": {
          "color": "rgba(0,255,0,0.2)",
          "width": 3
         },
         "mode": "lines",
         "showlegend": false,
         "type": "scatter3d",
         "x": [
          -187.23229477058013,
          -191.27139749914878
         ],
         "y": [
          925.3611572601404,
          925.1308670374355
         ],
         "z": [
          736.7698597057872,
          731.0573632671541
         ]
        },
        {
         "line": {
          "color": "rgba(0,255,0,0.2)",
          "width": 3
         },
         "mode": "lines",
         "showlegend": false,
         "type": "scatter3d",
         "x": [
          -191.27139749914878,
          -191.17102637152212
         ],
         "y": [
          925.1308670374355,
          937.1176427373672
         ],
         "z": [
          731.0573632671541,
          730.5031665906349
         ]
        },
        {
         "line": {
          "color": "rgba(0,255,0,0.2)",
          "width": 3
         },
         "mode": "lines",
         "showlegend": false,
         "type": "scatter3d",
         "x": [
          -191.17102637152212,
          -187.13192364295347
         ],
         "y": [
          937.1176427373672,
          937.3479329600722
         ],
         "z": [
          730.5031665906349,
          736.2156630292681
         ]
        },
        {
         "line": {
          "color": "rgba(0,255,0,0.2)",
          "width": 3
         },
         "mode": "lines",
         "showlegend": false,
         "type": "scatter3d",
         "x": [
          -187.13192364295347,
          -187.23229477058013
         ],
         "y": [
          937.3479329600722,
          925.3611572601404
         ],
         "z": [
          736.2156630292681,
          736.7698597057872
         ]
        },
        {
         "marker": {
          "color": "green",
          "size": 4
         },
         "mode": "markers",
         "name": "Mitte P11",
         "showlegend": false,
         "type": "scatter3d",
         "x": [
          -189.20166057105112
         ],
         "y": [
          931.2393999987538
         ],
         "z": [
          733.6365131482111
         ]
        },
        {
         "color": "rgba(0,255,0,0.2)",
         "name": "optimale Trajektorie",
         "opacity": 0.8,
         "type": "mesh3d",
         "x": [
          -184.46429485067716,
          -188.48254680587965,
          -188.303179271038,
          -184.28492731583552
         ],
         "y": [
          925.0378208349009,
          924.8391761177108,
          936.8256113112845,
          937.0242560284746
         ],
         "z": [
          735.7574807185171,
          730.0291134554268,
          729.4876352585405,
          735.2160025216308
         ]
        },
        {
         "line": {
          "color": "rgba(0,255,0,0.2)",
          "width": 3
         },
         "mode": "lines",
         "showlegend": false,
         "type": "scatter3d",
         "x": [
          -184.46429485067716,
          -188.48254680587965
         ],
         "y": [
          925.0378208349009,
          924.8391761177108
         ],
         "z": [
          735.7574807185171,
          730.0291134554268
         ]
        },
        {
         "line": {
          "color": "rgba(0,255,0,0.2)",
          "width": 3
         },
         "mode": "lines",
         "showlegend": false,
         "type": "scatter3d",
         "x": [
          -188.48254680587965,
          -188.303179271038
         ],
         "y": [
          924.8391761177108,
          936.8256113112845
         ],
         "z": [
          730.0291134554268,
          729.4876352585405
         ]
        },
        {
         "line": {
          "color": "rgba(0,255,0,0.2)",
          "width": 3
         },
         "mode": "lines",
         "showlegend": false,
         "type": "scatter3d",
         "x": [
          -188.303179271038,
          -184.28492731583552
         ],
         "y": [
          936.8256113112845,
          937.0242560284746
         ],
         "z": [
          729.4876352585405,
          735.2160025216308
         ]
        },
        {
         "line": {
          "color": "rgba(0,255,0,0.2)",
          "width": 3
         },
         "mode": "lines",
         "showlegend": false,
         "type": "scatter3d",
         "x": [
          -184.28492731583552,
          -184.46429485067716
         ],
         "y": [
          937.0242560284746,
          925.0378208349009
         ],
         "z": [
          735.2160025216308,
          735.7574807185171
         ]
        },
        {
         "marker": {
          "color": "green",
          "size": 4
         },
         "mode": "markers",
         "name": "Mitte P11",
         "showlegend": false,
         "type": "scatter3d",
         "x": [
          -186.38373706085756
         ],
         "y": [
          930.9317160730927
         ],
         "z": [
          732.6225579885288
         ]
        },
        {
         "color": "rgba(0,255,0,0.2)",
         "name": "optimale Trajektorie",
         "opacity": 0.8,
         "type": "mesh3d",
         "x": [
          -180.44322180389284,
          -184.46480992403195,
          -184.1155539134704,
          -180.09396579333128
         ],
         "y": [
          923.763402941795,
          923.6264588614059,
          935.6095844176905,
          935.7465284980796
         ],
         "z": [
          734.4938908347802,
          728.7660574476432,
          728.2343412250146,
          733.9621746121517
         ]
        },
        {
         "line": {
          "color": "rgba(0,255,0,0.2)",
          "width": 3
         },
         "mode": "lines",
         "showlegend": false,
         "type": "scatter3d",
         "x": [
          -180.44322180389284,
          -184.46480992403195
         ],
         "y": [
          923.763402941795,
          923.6264588614059
         ],
         "z": [
          734.4938908347802,
          728.7660574476432
         ]
        },
        {
         "line": {
          "color": "rgba(0,255,0,0.2)",
          "width": 3
         },
         "mode": "lines",
         "showlegend": false,
         "type": "scatter3d",
         "x": [
          -184.46480992403195,
          -184.1155539134704
         ],
         "y": [
          923.6264588614059,
          935.6095844176905
         ],
         "z": [
          728.7660574476432,
          728.2343412250146
         ]
        },
        {
         "line": {
          "color": "rgba(0,255,0,0.2)",
          "width": 3
         },
         "mode": "lines",
         "showlegend": false,
         "type": "scatter3d",
         "x": [
          -184.1155539134704,
          -180.09396579333128
         ],
         "y": [
          935.6095844176905,
          935.7465284980796
         ],
         "z": [
          728.2343412250146,
          733.9621746121517
         ]
        },
        {
         "line": {
          "color": "rgba(0,255,0,0.2)",
          "width": 3
         },
         "mode": "lines",
         "showlegend": false,
         "type": "scatter3d",
         "x": [
          -180.09396579333128,
          -180.44322180389284
         ],
         "y": [
          935.7465284980796,
          923.763402941795
         ],
         "z": [
          733.9621746121517,
          734.4938908347802
         ]
        },
        {
         "marker": {
          "color": "green",
          "size": 4
         },
         "mode": "markers",
         "name": "Mitte P11",
         "showlegend": false,
         "type": "scatter3d",
         "x": [
          -182.27938785868162
         ],
         "y": [
          929.6864936797427
         ],
         "z": [
          731.3641160298974
         ]
        },
        {
         "color": "rgba(0,255,0,0.2)",
         "name": "optimale Trajektorie",
         "opacity": 0.8,
         "type": "mesh3d",
         "x": [
          -181.94087041567073,
          -181.0784465832067,
          -180.81056072530347,
          -181.6729845577675
         ],
         "y": [
          923.4540513356783,
          923.2396218517484,
          935.2318949652226,
          935.4463244491525
         ],
         "z": [
          733.6642804949055,
          726.7209207080574,
          726.3838409860667,
          733.3272007729148
         ]
        },
        {
         "line": {
          "color": "rgba(0,255,0,0.2)",
          "width": 3
         },
         "mode": "lines",
         "showlegend": false,
         "type": "scatter3d",
         "x": [
          -181.94087041567073,
          -181.0784465832067
         ],
         "y": [
          923.4540513356783,
          923.2396218517484
         ],
         "z": [
          733.6642804949055,
          726.7209207080574
         ]
        },
        {
         "line": {
          "color": "rgba(0,255,0,0.2)",
          "width": 3
         },
         "mode": "lines",
         "showlegend": false,
         "type": "scatter3d",
         "x": [
          -181.0784465832067,
          -180.81056072530347
         ],
         "y": [
          923.2396218517484,
          935.2318949652226
         ],
         "z": [
          726.7209207080574,
          726.3838409860667
         ]
        },
        {
         "line": {
          "color": "rgba(0,255,0,0.2)",
          "width": 3
         },
         "mode": "lines",
         "showlegend": false,
         "type": "scatter3d",
         "x": [
          -180.81056072530347,
          -181.6729845577675
         ],
         "y": [
          935.2318949652226,
          935.4463244491525
         ],
         "z": [
          726.3838409860667,
          733.3272007729148
         ]
        },
        {
         "line": {
          "color": "rgba(0,255,0,0.2)",
          "width": 3
         },
         "mode": "lines",
         "showlegend": false,
         "type": "scatter3d",
         "x": [
          -181.6729845577675,
          -181.94087041567073
         ],
         "y": [
          935.4463244491525,
          923.4540513356783
         ],
         "z": [
          733.3272007729148,
          733.6642804949055
         ]
        },
        {
         "marker": {
          "color": "green",
          "size": 4
         },
         "mode": "markers",
         "name": "Mitte P11",
         "showlegend": false,
         "type": "scatter3d",
         "x": [
          -181.3757155704871
         ],
         "y": [
          929.3429731504505
         ],
         "z": [
          730.0240607404861
         ]
        },
        {
         "line": {
          "color": "green",
          "width": 2
         },
         "mode": "lines",
         "name": "Optimale Hakenlinie",
         "type": "scatter3d",
         "x": {
          "bdata": "G9M53KiLaMBerhieG+9nwNWx3gB0pmfAr9TxkkdMZ8D8fc6+8MhmwOL6qNwFrGbA",
          "dtype": "f8"
         },
         "y": {
          "bdata": "YnpmiRkJjUCAQGSOKRaNQHvqi0rqGY1AuniOJ3QXjUA/+2XwfQ2NQLoEtWi+Co1A",
          "dtype": "f8"
         },
         "z": {
          "bdata": "ApXXjSckh0B09dfjH/+GQFOYNJQX7YZAwsSu//rkhkDfQqq16dqGQAvswUYx0IZA",
          "dtype": "f8"
         }
        },
        {
         "line": {
          "color": "gray",
          "dash": "dash"
         },
         "mode": "lines",
         "name": "Direkte Gerade Spitze -> Senke",
         "type": "scatter3d",
         "x": [
          -185.03093531800704,
          -175.10210046933076
         ],
         "y": [
          928.7524565615975,
          927.0771539053576
         ],
         "z": [
          737.4536381656669,
          733.0302873446616
         ]
        },
        {
         "marker": {
          "color": "magenta",
          "size": 8
         },
         "mode": "markers",
         "name": "Spitze",
         "type": "scatter3d",
         "x": [
          -185.03093531800704
         ],
         "y": [
          928.7524565615975
         ],
         "z": [
          737.4536381656669
         ]
        },
        {
         "marker": {
          "color": "magenta",
          "size": 8
         },
         "mode": "markers",
         "name": "Senke",
         "type": "scatter3d",
         "x": [
          -175.10210046933076
         ],
         "y": [
          927.0771539053576
         ],
         "z": [
          733.0302873446616
         ]
        },
        {
         "mode": "text",
         "showlegend": false,
         "text": [
          "Spitze"
         ],
         "textfont": {
          "size": 10
         },
         "textposition": "top center",
         "type": "scatter3d",
         "x": [
          -185.03093531800704
         ],
         "y": [
          928.7524565615975
         ],
         "z": [
          737.4536381656669
         ]
        },
        {
         "mode": "text",
         "showlegend": false,
         "text": [
          "Senke"
         ],
         "textfont": {
          "size": 10
         },
         "textposition": "top center",
         "type": "scatter3d",
         "x": [
          -175.10210046933076
         ],
         "y": [
          927.0771539053576
         ],
         "z": [
          733.0302873446616
         ]
        }
       ],
       "layout": {
        "legend": {
         "title": {
          "text": "Legende"
         }
        },
        "scene": {
         "aspectmode": "cube",
         "xaxis": {
          "title": {
           "text": "X"
          }
         },
         "yaxis": {
          "title": {
           "text": "Y"
          }
         },
         "zaxis": {
          "title": {
           "text": "Z"
          }
         }
        },
        "template": {
         "data": {
          "bar": [
           {
            "error_x": {
             "color": "#2a3f5f"
            },
            "error_y": {
             "color": "#2a3f5f"
            },
            "marker": {
             "line": {
              "color": "#E5ECF6",
              "width": 0.5
             },
             "pattern": {
              "fillmode": "overlay",
              "size": 10,
              "solidity": 0.2
             }
            },
            "type": "bar"
           }
          ],
          "barpolar": [
           {
            "marker": {
             "line": {
              "color": "#E5ECF6",
              "width": 0.5
             },
             "pattern": {
              "fillmode": "overlay",
              "size": 10,
              "solidity": 0.2
             }
            },
            "type": "barpolar"
           }
          ],
          "carpet": [
           {
            "aaxis": {
             "endlinecolor": "#2a3f5f",
             "gridcolor": "white",
             "linecolor": "white",
             "minorgridcolor": "white",
             "startlinecolor": "#2a3f5f"
            },
            "baxis": {
             "endlinecolor": "#2a3f5f",
             "gridcolor": "white",
             "linecolor": "white",
             "minorgridcolor": "white",
             "startlinecolor": "#2a3f5f"
            },
            "type": "carpet"
           }
          ],
          "choropleth": [
           {
            "colorbar": {
             "outlinewidth": 0,
             "ticks": ""
            },
            "type": "choropleth"
           }
          ],
          "contour": [
           {
            "colorbar": {
             "outlinewidth": 0,
             "ticks": ""
            },
            "colorscale": [
             [
              0,
              "#0d0887"
             ],
             [
              0.1111111111111111,
              "#46039f"
             ],
             [
              0.2222222222222222,
              "#7201a8"
             ],
             [
              0.3333333333333333,
              "#9c179e"
             ],
             [
              0.4444444444444444,
              "#bd3786"
             ],
             [
              0.5555555555555556,
              "#d8576b"
             ],
             [
              0.6666666666666666,
              "#ed7953"
             ],
             [
              0.7777777777777778,
              "#fb9f3a"
             ],
             [
              0.8888888888888888,
              "#fdca26"
             ],
             [
              1,
              "#f0f921"
             ]
            ],
            "type": "contour"
           }
          ],
          "contourcarpet": [
           {
            "colorbar": {
             "outlinewidth": 0,
             "ticks": ""
            },
            "type": "contourcarpet"
           }
          ],
          "heatmap": [
           {
            "colorbar": {
             "outlinewidth": 0,
             "ticks": ""
            },
            "colorscale": [
             [
              0,
              "#0d0887"
             ],
             [
              0.1111111111111111,
              "#46039f"
             ],
             [
              0.2222222222222222,
              "#7201a8"
             ],
             [
              0.3333333333333333,
              "#9c179e"
             ],
             [
              0.4444444444444444,
              "#bd3786"
             ],
             [
              0.5555555555555556,
              "#d8576b"
             ],
             [
              0.6666666666666666,
              "#ed7953"
             ],
             [
              0.7777777777777778,
              "#fb9f3a"
             ],
             [
              0.8888888888888888,
              "#fdca26"
             ],
             [
              1,
              "#f0f921"
             ]
            ],
            "type": "heatmap"
           }
          ],
          "histogram": [
           {
            "marker": {
             "pattern": {
              "fillmode": "overlay",
              "size": 10,
              "solidity": 0.2
             }
            },
            "type": "histogram"
           }
          ],
          "histogram2d": [
           {
            "colorbar": {
             "outlinewidth": 0,
             "ticks": ""
            },
            "colorscale": [
             [
              0,
              "#0d0887"
             ],
             [
              0.1111111111111111,
              "#46039f"
             ],
             [
              0.2222222222222222,
              "#7201a8"
             ],
             [
              0.3333333333333333,
              "#9c179e"
             ],
             [
              0.4444444444444444,
              "#bd3786"
             ],
             [
              0.5555555555555556,
              "#d8576b"
             ],
             [
              0.6666666666666666,
              "#ed7953"
             ],
             [
              0.7777777777777778,
              "#fb9f3a"
             ],
             [
              0.8888888888888888,
              "#fdca26"
             ],
             [
              1,
              "#f0f921"
             ]
            ],
            "type": "histogram2d"
           }
          ],
          "histogram2dcontour": [
           {
            "colorbar": {
             "outlinewidth": 0,
             "ticks": ""
            },
            "colorscale": [
             [
              0,
              "#0d0887"
             ],
             [
              0.1111111111111111,
              "#46039f"
             ],
             [
              0.2222222222222222,
              "#7201a8"
             ],
             [
              0.3333333333333333,
              "#9c179e"
             ],
             [
              0.4444444444444444,
              "#bd3786"
             ],
             [
              0.5555555555555556,
              "#d8576b"
             ],
             [
              0.6666666666666666,
              "#ed7953"
             ],
             [
              0.7777777777777778,
              "#fb9f3a"
             ],
             [
              0.8888888888888888,
              "#fdca26"
             ],
             [
              1,
              "#f0f921"
             ]
            ],
            "type": "histogram2dcontour"
           }
          ],
          "mesh3d": [
           {
            "colorbar": {
             "outlinewidth": 0,
             "ticks": ""
            },
            "type": "mesh3d"
           }
          ],
          "parcoords": [
           {
            "line": {
             "colorbar": {
              "outlinewidth": 0,
              "ticks": ""
             }
            },
            "type": "parcoords"
           }
          ],
          "pie": [
           {
            "automargin": true,
            "type": "pie"
           }
          ],
          "scatter": [
           {
            "fillpattern": {
             "fillmode": "overlay",
             "size": 10,
             "solidity": 0.2
            },
            "type": "scatter"
           }
          ],
          "scatter3d": [
           {
            "line": {
             "colorbar": {
              "outlinewidth": 0,
              "ticks": ""
             }
            },
            "marker": {
             "colorbar": {
              "outlinewidth": 0,
              "ticks": ""
             }
            },
            "type": "scatter3d"
           }
          ],
          "scattercarpet": [
           {
            "marker": {
             "colorbar": {
              "outlinewidth": 0,
              "ticks": ""
             }
            },
            "type": "scattercarpet"
           }
          ],
          "scattergeo": [
           {
            "marker": {
             "colorbar": {
              "outlinewidth": 0,
              "ticks": ""
             }
            },
            "type": "scattergeo"
           }
          ],
          "scattergl": [
           {
            "marker": {
             "colorbar": {
              "outlinewidth": 0,
              "ticks": ""
             }
            },
            "type": "scattergl"
           }
          ],
          "scattermap": [
           {
            "marker": {
             "colorbar": {
              "outlinewidth": 0,
              "ticks": ""
             }
            },
            "type": "scattermap"
           }
          ],
          "scattermapbox": [
           {
            "marker": {
             "colorbar": {
              "outlinewidth": 0,
              "ticks": ""
             }
            },
            "type": "scattermapbox"
           }
          ],
          "scatterpolar": [
           {
            "marker": {
             "colorbar": {
              "outlinewidth": 0,
              "ticks": ""
             }
            },
            "type": "scatterpolar"
           }
          ],
          "scatterpolargl": [
           {
            "marker": {
             "colorbar": {
              "outlinewidth": 0,
              "ticks": ""
             }
            },
            "type": "scatterpolargl"
           }
          ],
          "scatterternary": [
           {
            "marker": {
             "colorbar": {
              "outlinewidth": 0,
              "ticks": ""
             }
            },
            "type": "scatterternary"
           }
          ],
          "surface": [
           {
            "colorbar": {
             "outlinewidth": 0,
             "ticks": ""
            },
            "colorscale": [
             [
              0,
              "#0d0887"
             ],
             [
              0.1111111111111111,
              "#46039f"
             ],
             [
              0.2222222222222222,
              "#7201a8"
             ],
             [
              0.3333333333333333,
              "#9c179e"
             ],
             [
              0.4444444444444444,
              "#bd3786"
             ],
             [
              0.5555555555555556,
              "#d8576b"
             ],
             [
              0.6666666666666666,
              "#ed7953"
             ],
             [
              0.7777777777777778,
              "#fb9f3a"
             ],
             [
              0.8888888888888888,
              "#fdca26"
             ],
             [
              1,
              "#f0f921"
             ]
            ],
            "type": "surface"
           }
          ],
          "table": [
           {
            "cells": {
             "fill": {
              "color": "#EBF0F8"
             },
             "line": {
              "color": "white"
             }
            },
            "header": {
             "fill": {
              "color": "#C8D4E3"
             },
             "line": {
              "color": "white"
             }
            },
            "type": "table"
           }
          ]
         },
         "layout": {
          "annotationdefaults": {
           "arrowcolor": "#2a3f5f",
           "arrowhead": 0,
           "arrowwidth": 1
          },
          "autotypenumbers": "strict",
          "coloraxis": {
           "colorbar": {
            "outlinewidth": 0,
            "ticks": ""
           }
          },
          "colorscale": {
           "diverging": [
            [
             0,
             "#8e0152"
            ],
            [
             0.1,
             "#c51b7d"
            ],
            [
             0.2,
             "#de77ae"
            ],
            [
             0.3,
             "#f1b6da"
            ],
            [
             0.4,
             "#fde0ef"
            ],
            [
             0.5,
             "#f7f7f7"
            ],
            [
             0.6,
             "#e6f5d0"
            ],
            [
             0.7,
             "#b8e186"
            ],
            [
             0.8,
             "#7fbc41"
            ],
            [
             0.9,
             "#4d9221"
            ],
            [
             1,
             "#276419"
            ]
           ],
           "sequential": [
            [
             0,
             "#0d0887"
            ],
            [
             0.1111111111111111,
             "#46039f"
            ],
            [
             0.2222222222222222,
             "#7201a8"
            ],
            [
             0.3333333333333333,
             "#9c179e"
            ],
            [
             0.4444444444444444,
             "#bd3786"
            ],
            [
             0.5555555555555556,
             "#d8576b"
            ],
            [
             0.6666666666666666,
             "#ed7953"
            ],
            [
             0.7777777777777778,
             "#fb9f3a"
            ],
            [
             0.8888888888888888,
             "#fdca26"
            ],
            [
             1,
             "#f0f921"
            ]
           ],
           "sequentialminus": [
            [
             0,
             "#0d0887"
            ],
            [
             0.1111111111111111,
             "#46039f"
            ],
            [
             0.2222222222222222,
             "#7201a8"
            ],
            [
             0.3333333333333333,
             "#9c179e"
            ],
            [
             0.4444444444444444,
             "#bd3786"
            ],
            [
             0.5555555555555556,
             "#d8576b"
            ],
            [
             0.6666666666666666,
             "#ed7953"
            ],
            [
             0.7777777777777778,
             "#fb9f3a"
            ],
            [
             0.8888888888888888,
             "#fdca26"
            ],
            [
             1,
             "#f0f921"
            ]
           ]
          },
          "colorway": [
           "#636efa",
           "#EF553B",
           "#00cc96",
           "#ab63fa",
           "#FFA15A",
           "#19d3f3",
           "#FF6692",
           "#B6E880",
           "#FF97FF",
           "#FECB52"
          ],
          "font": {
           "color": "#2a3f5f"
          },
          "geo": {
           "bgcolor": "white",
           "lakecolor": "white",
           "landcolor": "#E5ECF6",
           "showlakes": true,
           "showland": true,
           "subunitcolor": "white"
          },
          "hoverlabel": {
           "align": "left"
          },
          "hovermode": "closest",
          "mapbox": {
           "style": "light"
          },
          "paper_bgcolor": "white",
          "plot_bgcolor": "#E5ECF6",
          "polar": {
           "angularaxis": {
            "gridcolor": "white",
            "linecolor": "white",
            "ticks": ""
           },
           "bgcolor": "#E5ECF6",
           "radialaxis": {
            "gridcolor": "white",
            "linecolor": "white",
            "ticks": ""
           }
          },
          "scene": {
           "xaxis": {
            "backgroundcolor": "#E5ECF6",
            "gridcolor": "white",
            "gridwidth": 2,
            "linecolor": "white",
            "showbackground": true,
            "ticks": "",
            "zerolinecolor": "white"
           },
           "yaxis": {
            "backgroundcolor": "#E5ECF6",
            "gridcolor": "white",
            "gridwidth": 2,
            "linecolor": "white",
            "showbackground": true,
            "ticks": "",
            "zerolinecolor": "white"
           },
           "zaxis": {
            "backgroundcolor": "#E5ECF6",
            "gridcolor": "white",
            "gridwidth": 2,
            "linecolor": "white",
            "showbackground": true,
            "ticks": "",
            "zerolinecolor": "white"
           }
          },
          "shapedefaults": {
           "line": {
            "color": "#2a3f5f"
           }
          },
          "ternary": {
           "aaxis": {
            "gridcolor": "white",
            "linecolor": "white",
            "ticks": ""
           },
           "baxis": {
            "gridcolor": "white",
            "linecolor": "white",
            "ticks": ""
           },
           "bgcolor": "#E5ECF6",
           "caxis": {
            "gridcolor": "white",
            "linecolor": "white",
            "ticks": ""
           }
          },
          "title": {
           "x": 0.05
          },
          "xaxis": {
           "automargin": true,
           "gridcolor": "white",
           "linecolor": "white",
           "ticks": "",
           "title": {
            "standoff": 15
           },
           "zerolinecolor": "white",
           "zerolinewidth": 2
          },
          "yaxis": {
           "automargin": true,
           "gridcolor": "white",
           "linecolor": "white",
           "ticks": "",
           "title": {
            "standoff": 15
           },
           "zerolinecolor": "white",
           "zerolinewidth": 2
          }
         }
        },
        "title": {
         "text": "Haken 10, Trajektorien-Ansatz 3"
        }
       }
      }
     },
     "metadata": {},
     "output_type": "display_data"
    },
    {
     "name": "stdout",
     "output_type": "stream",
     "text": [
      "HTML-Datei '/home/mo/Thesis/Evaluation/Trajektorientests/CSV/traj4.html' erfolgreich erstellt!\n"
     ]
    },
    {
     "data": {
      "application/vnd.plotly.v1+json": {
       "config": {
        "plotlyServerURL": "https://plot.ly"
       },
       "data": [
        {
         "color": "rgba(31, 119, 180, 0.8)",
         "name": "P1",
         "opacity": 0.8,
         "type": "mesh3d",
         "x": [
          -199.90480398048243,
          -196.46719688282877,
          -187.97261121716866,
          -191.41021831482232
         ],
         "y": [
          928.4398879755583,
          925.0046427311446,
          933.4805931704293,
          936.915838414843
         ],
         "z": [
          743.9666339079275,
          738.9285839326997,
          738.9452728377074,
          743.9833228129353
         ]
        },
        {
         "marker": {
          "color": "red",
          "size": 3
         },
         "mode": "markers+text",
         "showlegend": false,
         "text": "",
         "textfont": {
          "size": 12
         },
         "textposition": "top center",
         "type": "scatter3d",
         "x": [
          -193.93870759882554
         ],
         "y": [
          930.9602405729938
         ],
         "z": [
          741.4559533728175
         ]
        },
        {
         "line": {
          "color": "rgba(31, 119, 180, 0.8)",
          "width": 4
         },
         "mode": "lines",
         "showlegend": false,
         "type": "scatter3d",
         "x": [
          -199.90480398048243,
          -196.46719688282877
         ],
         "y": [
          928.4398879755583,
          925.0046427311446
         ],
         "z": [
          743.9666339079275,
          738.9285839326997
         ]
        },
        {
         "line": {
          "color": "rgba(31, 119, 180, 0.8)",
          "width": 4
         },
         "mode": "lines",
         "showlegend": false,
         "type": "scatter3d",
         "x": [
          -196.46719688282877,
          -187.97261121716866
         ],
         "y": [
          925.0046427311446,
          933.4805931704293
         ],
         "z": [
          738.9285839326997,
          738.9452728377074
         ]
        },
        {
         "line": {
          "color": "rgba(31, 119, 180, 0.8)",
          "width": 4
         },
         "mode": "lines",
         "showlegend": false,
         "type": "scatter3d",
         "x": [
          -187.97261121716866,
          -191.41021831482232
         ],
         "y": [
          933.4805931704293,
          936.915838414843
         ],
         "z": [
          738.9452728377074,
          743.9833228129353
         ]
        },
        {
         "line": {
          "color": "rgba(31, 119, 180, 0.8)",
          "width": 4
         },
         "mode": "lines",
         "showlegend": false,
         "type": "scatter3d",
         "x": [
          -191.41021831482232,
          -199.90480398048243
         ],
         "y": [
          936.915838414843,
          928.4398879755583
         ],
         "z": [
          743.9833228129353,
          743.9666339079275
         ]
        },
        {
         "color": "rgba(214, 39, 40, 0.8)",
         "name": "P2",
         "opacity": 0.8,
         "type": "mesh3d",
         "x": [
          -190.9628110792819,
          -187.52520398162824,
          -179.03061831596813,
          -182.46822541362178
         ],
         "y": [
          926.4682221668259,
          923.0329769224121,
          931.5089273616968,
          934.9441726061106
         ],
         "z": [
          739.9848504520091,
          734.9468004767813,
          734.963489381789,
          740.0015393570169
         ]
        },
        {
         "marker": {
          "color": "red",
          "size": 3
         },
         "mode": "markers+text",
         "showlegend": false,
         "text": "",
         "textfont": {
          "size": 12
         },
         "textposition": "top center",
         "type": "scatter3d",
         "x": [
          -184.996714697625
         ],
         "y": [
          928.9885747642613
         ],
         "z": [
          737.4741699168991
         ]
        },
        {
         "line": {
          "color": "rgba(214, 39, 40, 0.8)",
          "width": 4
         },
         "mode": "lines",
         "showlegend": false,
         "type": "scatter3d",
         "x": [
          -190.9628110792819,
          -187.52520398162824
         ],
         "y": [
          926.4682221668259,
          923.0329769224121
         ],
         "z": [
          739.9848504520091,
          734.9468004767813
         ]
        },
        {
         "line": {
          "color": "rgba(214, 39, 40, 0.8)",
          "width": 4
         },
         "mode": "lines",
         "showlegend": false,
         "type": "scatter3d",
         "x": [
          -187.52520398162824,
          -179.03061831596813
         ],
         "y": [
          923.0329769224121,
          931.5089273616968
         ],
         "z": [
          734.9468004767813,
          734.963489381789
         ]
        },
        {
         "line": {
          "color": "rgba(214, 39, 40, 0.8)",
          "width": 4
         },
         "mode": "lines",
         "showlegend": false,
         "type": "scatter3d",
         "x": [
          -179.03061831596813,
          -182.46822541362178
         ],
         "y": [
          931.5089273616968,
          934.9441726061106
         ],
         "z": [
          734.963489381789,
          740.0015393570169
         ]
        },
        {
         "line": {
          "color": "rgba(214, 39, 40, 0.8)",
          "width": 4
         },
         "mode": "lines",
         "showlegend": false,
         "type": "scatter3d",
         "x": [
          -182.46822541362178,
          -190.9628110792819
         ],
         "y": [
          934.9441726061106,
          926.4682221668259
         ],
         "z": [
          740.0015393570169,
          739.9848504520091
         ]
        },
        {
         "color": "rgba(247, 182, 210, 0.8)",
         "name": "P3",
         "opacity": 0.8,
         "type": "mesh3d",
         "x": [
          -186.49181462868162,
          -183.05420753102794,
          -174.55962186536786,
          -177.99722896302154
         ],
         "y": [
          925.4823892624596,
          922.0471440180459,
          930.5230944573306,
          933.9583397017443
         ],
         "z": [
          737.99395872405,
          732.9559087488221,
          732.9725976538299,
          738.0106476290578
         ]
        },
        {
         "marker": {
          "color": "red",
          "size": 3
         },
         "mode": "markers+text",
         "showlegend": false,
         "text": "",
         "textfont": {
          "size": 12
         },
         "textposition": "top center",
         "type": "scatter3d",
         "x": [
          -180.5257182470247
         ],
         "y": [
          928.002741859895
         ],
         "z": [
          735.48327818894
         ]
        },
        {
         "line": {
          "color": "rgba(247, 182, 210, 0.8)",
          "width": 4
         },
         "mode": "lines",
         "showlegend": false,
         "type": "scatter3d",
         "x": [
          -186.49181462868162,
          -183.05420753102794
         ],
         "y": [
          925.4823892624596,
          922.0471440180459
         ],
         "z": [
          737.99395872405,
          732.9559087488221
         ]
        },
        {
         "line": {
          "color": "rgba(247, 182, 210, 0.8)",
          "width": 4
         },
         "mode": "lines",
         "showlegend": false,
         "type": "scatter3d",
         "x": [
          -183.05420753102794,
          -174.55962186536786
         ],
         "y": [
          922.0471440180459,
          930.5230944573306
         ],
         "z": [
          732.9559087488221,
          732.9725976538299
         ]
        },
        {
         "line": {
          "color": "rgba(247, 182, 210, 0.8)",
          "width": 4
         },
         "mode": "lines",
         "showlegend": false,
         "type": "scatter3d",
         "x": [
          -174.55962186536786,
          -177.99722896302154
         ],
         "y": [
          930.5230944573306,
          933.9583397017443
         ],
         "z": [
          732.9725976538299,
          738.0106476290578
         ]
        },
        {
         "line": {
          "color": "rgba(247, 182, 210, 0.8)",
          "width": 4
         },
         "mode": "lines",
         "showlegend": false,
         "type": "scatter3d",
         "x": [
          -177.99722896302154,
          -186.49181462868162
         ],
         "y": [
          933.9583397017443,
          925.4823892624596
         ],
         "z": [
          738.0106476290578,
          737.99395872405
         ]
        },
        {
         "line": {
          "color": "black",
          "width": 2
         },
         "mode": "lines",
         "name": "Berechnete Hakenlinie",
         "type": "scatter3d",
         "x": {
          "bdata": "zK6E5Ak+aMC+tzgW5R9nwDa8Eq/SkGbA",
          "dtype": "f8"
         },
         "y": {
          "bdata": "aAqckq4XjUA60eKZ6AeNQKI0hp0FAI1A",
          "dtype": "f8"
         },
         "z": {
          "bdata": "BMbhyqUrh0Ch7pgZywuHQPCC9MDd+4ZA",
          "dtype": "f8"
         }
        },
        {
         "mode": "text",
         "showlegend": false,
         "text": [
          "Pre-Position"
         ],
         "textfont": {
          "size": 10
         },
         "textposition": "top center",
         "type": "scatter3d",
         "x": [
          -193.93870759882554
         ],
         "y": [
          930.9602405729938
         ],
         "z": [
          741.4559533728175
         ]
        },
        {
         "mode": "text",
         "showlegend": false,
         "text": [
          "Loslassen"
         ],
         "textfont": {
          "size": 10
         },
         "textposition": "top center",
         "type": "scatter3d",
         "x": [
          -180.5257182470247
         ],
         "y": [
          928.002741859895
         ],
         "z": [
          735.48327818894
         ]
        },
        {
         "color": "rgba(0,255,0,0.2)",
         "name": "optimale Trajektorie",
         "opacity": 0.8,
         "type": "mesh3d",
         "x": [
          -194.33533256574384,
          -198.38948330583074,
          -198.3933930830193,
          -194.3392423429324
         ],
         "y": [
          923.2559156347077,
          923.0284499770247,
          935.0190225683598,
          935.2464882260427
         ],
         "z": [
          743.6080616436798,
          737.9061215219995,
          737.430565378558,
          743.1325055002383
         ]
        },
        {
         "line": {
          "color": "rgba(0,255,0,0.2)",
          "width": 3
         },
         "mode": "lines",
         "showlegend": false,
         "type": "scatter3d",
         "x": [
          -194.33533256574384,
          -198.38948330583074
         ],
         "y": [
          923.2559156347077,
          923.0284499770247
         ],
         "z": [
          743.6080616436798,
          737.9061215219995
         ]
        },
        {
         "line": {
          "color": "rgba(0,255,0,0.2)",
          "width": 3
         },
         "mode": "lines",
         "showlegend": false,
         "type": "scatter3d",
         "x": [
          -198.38948330583074,
          -198.3933930830193
         ],
         "y": [
          923.0284499770247,
          935.0190225683598
         ],
         "z": [
          737.9061215219995,
          737.430565378558
         ]
        },
        {
         "line": {
          "color": "rgba(0,255,0,0.2)",
          "width": 3
         },
         "mode": "lines",
         "showlegend": false,
         "type": "scatter3d",
         "x": [
          -198.3933930830193,
          -194.3392423429324
         ],
         "y": [
          935.0190225683598,
          935.2464882260427
         ],
         "z": [
          737.430565378558,
          743.1325055002383
         ]
        },
        {
         "line": {
          "color": "rgba(0,255,0,0.2)",
          "width": 3
         },
         "mode": "lines",
         "showlegend": false,
         "type": "scatter3d",
         "x": [
          -194.3392423429324,
          -194.33533256574384
         ],
         "y": [
          935.2464882260427,
          923.2559156347077
         ],
         "z": [
          743.1325055002383,
          743.6080616436798
         ]
        },
        {
         "marker": {
          "color": "green",
          "size": 4
         },
         "mode": "markers",
         "name": "Mitte P3",
         "showlegend": false,
         "type": "scatter3d",
         "x": [
          -196.36436282438157
         ],
         "y": [
          929.1374691015337
         ],
         "z": [
          740.5193135111188
         ]
        },
        {
         "color": "rgba(0,255,0,0.2)",
         "name": "optimale Trajektorie",
         "opacity": 0.8,
         "type": "mesh3d",
         "x": [
          -189.48244022287614,
          -193.52679668311643,
          -193.4618023464852,
          -189.4174458862449
         ],
         "y": [
          924.8910701805298,
          924.6613312219619,
          936.6495120628524,
          936.8792510214204
         ],
         "z": [
          739.0092136924177,
          733.3004133952073,
          732.7719288993987,
          738.4807291966091
         ]
        },
        {
         "line": {
          "color": "rgba(0,255,0,0.2)",
          "width": 3
         },
         "mode": "lines",
         "showlegend": false,
         "type": "scatter3d",
         "x": [
          -189.48244022287614,
          -193.52679668311643
         ],
         "y": [
          924.8910701805298,
          924.6613312219619
         ],
         "z": [
          739.0092136924177,
          733.3004133952073
         ]
        },
        {
         "line": {
          "color": "rgba(0,255,0,0.2)",
          "width": 3
         },
         "mode": "lines",
         "showlegend": false,
         "type": "scatter3d",
         "x": [
          -193.52679668311643,
          -193.4618023464852
         ],
         "y": [
          924.6613312219619,
          936.6495120628524
         ],
         "z": [
          733.3004133952073,
          732.7719288993987
         ]
        },
        {
         "line": {
          "color": "rgba(0,255,0,0.2)",
          "width": 3
         },
         "mode": "lines",
         "showlegend": false,
         "type": "scatter3d",
         "x": [
          -193.4618023464852,
          -189.4174458862449
         ],
         "y": [
          936.6495120628524,
          936.8792510214204
         ],
         "z": [
          732.7719288993987,
          738.4807291966091
         ]
        },
        {
         "line": {
          "color": "rgba(0,255,0,0.2)",
          "width": 3
         },
         "mode": "lines",
         "showlegend": false,
         "type": "scatter3d",
         "x": [
          -189.4174458862449,
          -189.48244022287614
         ],
         "y": [
          936.8792510214204,
          924.8910701805298
         ],
         "z": [
          738.4807291966091,
          739.0092136924177
         ]
        },
        {
         "marker": {
          "color": "green",
          "size": 4
         },
         "mode": "markers",
         "name": "Mitte P3",
         "showlegend": false,
         "type": "scatter3d",
         "x": [
          -191.47212128468067
         ],
         "y": [
          930.7702911216911
         ],
         "z": [
          735.8905712959081
         ]
        },
        {
         "color": "rgba(0,255,0,0.2)",
         "name": "optimale Trajektorie",
         "opacity": 0.8,
         "type": "mesh3d",
         "x": [
          -187.23229477058013,
          -191.27139749914878,
          -191.17102637152212,
          -187.13192364295347
         ],
         "y": [
          925.3611572601404,
          925.1308670374355,
          937.1176427373672,
          937.3479329600722
         ],
         "z": [
          736.7698597057872,
          731.0573632671541,
          730.5031665906349,
          736.2156630292681
         ]
        },
        {
         "line": {
          "color": "rgba(0,255,0,0.2)",
          "width": 3
         },
         "mode": "lines",
         "showlegend": false,
         "type": "scatter3d",
         "x": [
          -187.23229477058013,
          -191.27139749914878
         ],
         "y": [
          925.3611572601404,
          925.1308670374355
         ],
         "z": [
          736.7698597057872,
          731.0573632671541
         ]
        },
        {
         "line": {
          "color": "rgba(0,255,0,0.2)",
          "width": 3
         },
         "mode": "lines",
         "showlegend": false,
         "type": "scatter3d",
         "x": [
          -191.27139749914878,
          -191.17102637152212
         ],
         "y": [
          925.1308670374355,
          937.1176427373672
         ],
         "z": [
          731.0573632671541,
          730.5031665906349
         ]
        },
        {
         "line": {
          "color": "rgba(0,255,0,0.2)",
          "width": 3
         },
         "mode": "lines",
         "showlegend": false,
         "type": "scatter3d",
         "x": [
          -191.17102637152212,
          -187.13192364295347
         ],
         "y": [
          937.1176427373672,
          937.3479329600722
         ],
         "z": [
          730.5031665906349,
          736.2156630292681
         ]
        },
        {
         "line": {
          "color": "rgba(0,255,0,0.2)",
          "width": 3
         },
         "mode": "lines",
         "showlegend": false,
         "type": "scatter3d",
         "x": [
          -187.13192364295347,
          -187.23229477058013
         ],
         "y": [
          937.3479329600722,
          925.3611572601404
         ],
         "z": [
          736.2156630292681,
          736.7698597057872
         ]
        },
        {
         "marker": {
          "color": "green",
          "size": 4
         },
         "mode": "markers",
         "name": "Mitte P3",
         "showlegend": false,
         "type": "scatter3d",
         "x": [
          -189.20166057105112
         ],
         "y": [
          931.2393999987538
         ],
         "z": [
          733.6365131482111
         ]
        },
        {
         "color": "rgba(0,255,0,0.2)",
         "name": "optimale Trajektorie",
         "opacity": 0.8,
         "type": "mesh3d",
         "x": [
          -184.46429485067716,
          -188.48254680587965,
          -188.303179271038,
          -184.28492731583552
         ],
         "y": [
          925.0378208349009,
          924.8391761177108,
          936.8256113112845,
          937.0242560284746
         ],
         "z": [
          735.7574807185171,
          730.0291134554268,
          729.4876352585405,
          735.2160025216308
         ]
        },
        {
         "line": {
          "color": "rgba(0,255,0,0.2)",
          "width": 3
         },
         "mode": "lines",
         "showlegend": false,
         "type": "scatter3d",
         "x": [
          -184.46429485067716,
          -188.48254680587965
         ],
         "y": [
          925.0378208349009,
          924.8391761177108
         ],
         "z": [
          735.7574807185171,
          730.0291134554268
         ]
        },
        {
         "line": {
          "color": "rgba(0,255,0,0.2)",
          "width": 3
         },
         "mode": "lines",
         "showlegend": false,
         "type": "scatter3d",
         "x": [
          -188.48254680587965,
          -188.303179271038
         ],
         "y": [
          924.8391761177108,
          936.8256113112845
         ],
         "z": [
          730.0291134554268,
          729.4876352585405
         ]
        },
        {
         "line": {
          "color": "rgba(0,255,0,0.2)",
          "width": 3
         },
         "mode": "lines",
         "showlegend": false,
         "type": "scatter3d",
         "x": [
          -188.303179271038,
          -184.28492731583552
         ],
         "y": [
          936.8256113112845,
          937.0242560284746
         ],
         "z": [
          729.4876352585405,
          735.2160025216308
         ]
        },
        {
         "line": {
          "color": "rgba(0,255,0,0.2)",
          "width": 3
         },
         "mode": "lines",
         "showlegend": false,
         "type": "scatter3d",
         "x": [
          -184.28492731583552,
          -184.46429485067716
         ],
         "y": [
          937.0242560284746,
          925.0378208349009
         ],
         "z": [
          735.2160025216308,
          735.7574807185171
         ]
        },
        {
         "marker": {
          "color": "green",
          "size": 4
         },
         "mode": "markers",
         "name": "Mitte P3",
         "showlegend": false,
         "type": "scatter3d",
         "x": [
          -186.38373706085756
         ],
         "y": [
          930.9317160730927
         ],
         "z": [
          732.6225579885288
         ]
        },
        {
         "color": "rgba(0,255,0,0.2)",
         "name": "optimale Trajektorie",
         "opacity": 0.8,
         "type": "mesh3d",
         "x": [
          -180.44322180389284,
          -184.46480992403195,
          -184.1155539134704,
          -180.09396579333128
         ],
         "y": [
          923.763402941795,
          923.6264588614059,
          935.6095844176905,
          935.7465284980796
         ],
         "z": [
          734.4938908347802,
          728.7660574476432,
          728.2343412250146,
          733.9621746121517
         ]
        },
        {
         "line": {
          "color": "rgba(0,255,0,0.2)",
          "width": 3
         },
         "mode": "lines",
         "showlegend": false,
         "type": "scatter3d",
         "x": [
          -180.44322180389284,
          -184.46480992403195
         ],
         "y": [
          923.763402941795,
          923.6264588614059
         ],
         "z": [
          734.4938908347802,
          728.7660574476432
         ]
        },
        {
         "line": {
          "color": "rgba(0,255,0,0.2)",
          "width": 3
         },
         "mode": "lines",
         "showlegend": false,
         "type": "scatter3d",
         "x": [
          -184.46480992403195,
          -184.1155539134704
         ],
         "y": [
          923.6264588614059,
          935.6095844176905
         ],
         "z": [
          728.7660574476432,
          728.2343412250146
         ]
        },
        {
         "line": {
          "color": "rgba(0,255,0,0.2)",
          "width": 3
         },
         "mode": "lines",
         "showlegend": false,
         "type": "scatter3d",
         "x": [
          -184.1155539134704,
          -180.09396579333128
         ],
         "y": [
          935.6095844176905,
          935.7465284980796
         ],
         "z": [
          728.2343412250146,
          733.9621746121517
         ]
        },
        {
         "line": {
          "color": "rgba(0,255,0,0.2)",
          "width": 3
         },
         "mode": "lines",
         "showlegend": false,
         "type": "scatter3d",
         "x": [
          -180.09396579333128,
          -180.44322180389284
         ],
         "y": [
          935.7465284980796,
          923.763402941795
         ],
         "z": [
          733.9621746121517,
          734.4938908347802
         ]
        },
        {
         "marker": {
          "color": "green",
          "size": 4
         },
         "mode": "markers",
         "name": "Mitte P3",
         "showlegend": false,
         "type": "scatter3d",
         "x": [
          -182.27938785868162
         ],
         "y": [
          929.6864936797427
         ],
         "z": [
          731.3641160298974
         ]
        },
        {
         "color": "rgba(0,255,0,0.2)",
         "name": "optimale Trajektorie",
         "opacity": 0.8,
         "type": "mesh3d",
         "x": [
          -181.94087041567073,
          -181.0784465832067,
          -180.81056072530347,
          -181.6729845577675
         ],
         "y": [
          923.4540513356783,
          923.2396218517484,
          935.2318949652226,
          935.4463244491525
         ],
         "z": [
          733.6642804949055,
          726.7209207080574,
          726.3838409860667,
          733.3272007729148
         ]
        },
        {
         "line": {
          "color": "rgba(0,255,0,0.2)",
          "width": 3
         },
         "mode": "lines",
         "showlegend": false,
         "type": "scatter3d",
         "x": [
          -181.94087041567073,
          -181.0784465832067
         ],
         "y": [
          923.4540513356783,
          923.2396218517484
         ],
         "z": [
          733.6642804949055,
          726.7209207080574
         ]
        },
        {
         "line": {
          "color": "rgba(0,255,0,0.2)",
          "width": 3
         },
         "mode": "lines",
         "showlegend": false,
         "type": "scatter3d",
         "x": [
          -181.0784465832067,
          -180.81056072530347
         ],
         "y": [
          923.2396218517484,
          935.2318949652226
         ],
         "z": [
          726.7209207080574,
          726.3838409860667
         ]
        },
        {
         "line": {
          "color": "rgba(0,255,0,0.2)",
          "width": 3
         },
         "mode": "lines",
         "showlegend": false,
         "type": "scatter3d",
         "x": [
          -180.81056072530347,
          -181.6729845577675
         ],
         "y": [
          935.2318949652226,
          935.4463244491525
         ],
         "z": [
          726.3838409860667,
          733.3272007729148
         ]
        },
        {
         "line": {
          "color": "rgba(0,255,0,0.2)",
          "width": 3
         },
         "mode": "lines",
         "showlegend": false,
         "type": "scatter3d",
         "x": [
          -181.6729845577675,
          -181.94087041567073
         ],
         "y": [
          935.4463244491525,
          923.4540513356783
         ],
         "z": [
          733.3272007729148,
          733.6642804949055
         ]
        },
        {
         "marker": {
          "color": "green",
          "size": 4
         },
         "mode": "markers",
         "name": "Mitte P3",
         "showlegend": false,
         "type": "scatter3d",
         "x": [
          -181.3757155704871
         ],
         "y": [
          929.3429731504505
         ],
         "z": [
          730.0240607404861
         ]
        },
        {
         "line": {
          "color": "green",
          "width": 2
         },
         "mode": "lines",
         "name": "Optimale Hakenlinie",
         "type": "scatter3d",
         "x": {
          "bdata": "G9M53KiLaMBerhieG+9nwNWx3gB0pmfAr9TxkkdMZ8D8fc6+8MhmwOL6qNwFrGbA",
          "dtype": "f8"
         },
         "y": {
          "bdata": "YnpmiRkJjUCAQGSOKRaNQHvqi0rqGY1AuniOJ3QXjUA/+2XwfQ2NQLoEtWi+Co1A",
          "dtype": "f8"
         },
         "z": {
          "bdata": "ApXXjSckh0B09dfjH/+GQFOYNJQX7YZAwsSu//rkhkDfQqq16dqGQAvswUYx0IZA",
          "dtype": "f8"
         }
        },
        {
         "line": {
          "color": "gray",
          "dash": "dash"
         },
         "mode": "lines",
         "name": "Direkte Gerade Spitze -> Senke",
         "type": "scatter3d",
         "x": [
          -185.03093531800704,
          -175.10210046933076
         ],
         "y": [
          928.7524565615975,
          927.0771539053576
         ],
         "z": [
          737.4536381656669,
          733.0302873446616
         ]
        },
        {
         "marker": {
          "color": "magenta",
          "size": 8
         },
         "mode": "markers",
         "name": "Spitze",
         "type": "scatter3d",
         "x": [
          -185.03093531800704
         ],
         "y": [
          928.7524565615975
         ],
         "z": [
          737.4536381656669
         ]
        },
        {
         "marker": {
          "color": "magenta",
          "size": 8
         },
         "mode": "markers",
         "name": "Senke",
         "type": "scatter3d",
         "x": [
          -175.10210046933076
         ],
         "y": [
          927.0771539053576
         ],
         "z": [
          733.0302873446616
         ]
        },
        {
         "mode": "text",
         "showlegend": false,
         "text": [
          "Spitze"
         ],
         "textfont": {
          "size": 10
         },
         "textposition": "top center",
         "type": "scatter3d",
         "x": [
          -185.03093531800704
         ],
         "y": [
          928.7524565615975
         ],
         "z": [
          737.4536381656669
         ]
        },
        {
         "mode": "text",
         "showlegend": false,
         "text": [
          "Senke"
         ],
         "textfont": {
          "size": 10
         },
         "textposition": "top center",
         "type": "scatter3d",
         "x": [
          -175.10210046933076
         ],
         "y": [
          927.0771539053576
         ],
         "z": [
          733.0302873446616
         ]
        }
       ],
       "layout": {
        "legend": {
         "title": {
          "text": "Legende"
         }
        },
        "scene": {
         "aspectmode": "cube",
         "xaxis": {
          "title": {
           "text": "X"
          }
         },
         "yaxis": {
          "title": {
           "text": "Y"
          }
         },
         "zaxis": {
          "title": {
           "text": "Z"
          }
         }
        },
        "template": {
         "data": {
          "bar": [
           {
            "error_x": {
             "color": "#2a3f5f"
            },
            "error_y": {
             "color": "#2a3f5f"
            },
            "marker": {
             "line": {
              "color": "#E5ECF6",
              "width": 0.5
             },
             "pattern": {
              "fillmode": "overlay",
              "size": 10,
              "solidity": 0.2
             }
            },
            "type": "bar"
           }
          ],
          "barpolar": [
           {
            "marker": {
             "line": {
              "color": "#E5ECF6",
              "width": 0.5
             },
             "pattern": {
              "fillmode": "overlay",
              "size": 10,
              "solidity": 0.2
             }
            },
            "type": "barpolar"
           }
          ],
          "carpet": [
           {
            "aaxis": {
             "endlinecolor": "#2a3f5f",
             "gridcolor": "white",
             "linecolor": "white",
             "minorgridcolor": "white",
             "startlinecolor": "#2a3f5f"
            },
            "baxis": {
             "endlinecolor": "#2a3f5f",
             "gridcolor": "white",
             "linecolor": "white",
             "minorgridcolor": "white",
             "startlinecolor": "#2a3f5f"
            },
            "type": "carpet"
           }
          ],
          "choropleth": [
           {
            "colorbar": {
             "outlinewidth": 0,
             "ticks": ""
            },
            "type": "choropleth"
           }
          ],
          "contour": [
           {
            "colorbar": {
             "outlinewidth": 0,
             "ticks": ""
            },
            "colorscale": [
             [
              0,
              "#0d0887"
             ],
             [
              0.1111111111111111,
              "#46039f"
             ],
             [
              0.2222222222222222,
              "#7201a8"
             ],
             [
              0.3333333333333333,
              "#9c179e"
             ],
             [
              0.4444444444444444,
              "#bd3786"
             ],
             [
              0.5555555555555556,
              "#d8576b"
             ],
             [
              0.6666666666666666,
              "#ed7953"
             ],
             [
              0.7777777777777778,
              "#fb9f3a"
             ],
             [
              0.8888888888888888,
              "#fdca26"
             ],
             [
              1,
              "#f0f921"
             ]
            ],
            "type": "contour"
           }
          ],
          "contourcarpet": [
           {
            "colorbar": {
             "outlinewidth": 0,
             "ticks": ""
            },
            "type": "contourcarpet"
           }
          ],
          "heatmap": [
           {
            "colorbar": {
             "outlinewidth": 0,
             "ticks": ""
            },
            "colorscale": [
             [
              0,
              "#0d0887"
             ],
             [
              0.1111111111111111,
              "#46039f"
             ],
             [
              0.2222222222222222,
              "#7201a8"
             ],
             [
              0.3333333333333333,
              "#9c179e"
             ],
             [
              0.4444444444444444,
              "#bd3786"
             ],
             [
              0.5555555555555556,
              "#d8576b"
             ],
             [
              0.6666666666666666,
              "#ed7953"
             ],
             [
              0.7777777777777778,
              "#fb9f3a"
             ],
             [
              0.8888888888888888,
              "#fdca26"
             ],
             [
              1,
              "#f0f921"
             ]
            ],
            "type": "heatmap"
           }
          ],
          "histogram": [
           {
            "marker": {
             "pattern": {
              "fillmode": "overlay",
              "size": 10,
              "solidity": 0.2
             }
            },
            "type": "histogram"
           }
          ],
          "histogram2d": [
           {
            "colorbar": {
             "outlinewidth": 0,
             "ticks": ""
            },
            "colorscale": [
             [
              0,
              "#0d0887"
             ],
             [
              0.1111111111111111,
              "#46039f"
             ],
             [
              0.2222222222222222,
              "#7201a8"
             ],
             [
              0.3333333333333333,
              "#9c179e"
             ],
             [
              0.4444444444444444,
              "#bd3786"
             ],
             [
              0.5555555555555556,
              "#d8576b"
             ],
             [
              0.6666666666666666,
              "#ed7953"
             ],
             [
              0.7777777777777778,
              "#fb9f3a"
             ],
             [
              0.8888888888888888,
              "#fdca26"
             ],
             [
              1,
              "#f0f921"
             ]
            ],
            "type": "histogram2d"
           }
          ],
          "histogram2dcontour": [
           {
            "colorbar": {
             "outlinewidth": 0,
             "ticks": ""
            },
            "colorscale": [
             [
              0,
              "#0d0887"
             ],
             [
              0.1111111111111111,
              "#46039f"
             ],
             [
              0.2222222222222222,
              "#7201a8"
             ],
             [
              0.3333333333333333,
              "#9c179e"
             ],
             [
              0.4444444444444444,
              "#bd3786"
             ],
             [
              0.5555555555555556,
              "#d8576b"
             ],
             [
              0.6666666666666666,
              "#ed7953"
             ],
             [
              0.7777777777777778,
              "#fb9f3a"
             ],
             [
              0.8888888888888888,
              "#fdca26"
             ],
             [
              1,
              "#f0f921"
             ]
            ],
            "type": "histogram2dcontour"
           }
          ],
          "mesh3d": [
           {
            "colorbar": {
             "outlinewidth": 0,
             "ticks": ""
            },
            "type": "mesh3d"
           }
          ],
          "parcoords": [
           {
            "line": {
             "colorbar": {
              "outlinewidth": 0,
              "ticks": ""
             }
            },
            "type": "parcoords"
           }
          ],
          "pie": [
           {
            "automargin": true,
            "type": "pie"
           }
          ],
          "scatter": [
           {
            "fillpattern": {
             "fillmode": "overlay",
             "size": 10,
             "solidity": 0.2
            },
            "type": "scatter"
           }
          ],
          "scatter3d": [
           {
            "line": {
             "colorbar": {
              "outlinewidth": 0,
              "ticks": ""
             }
            },
            "marker": {
             "colorbar": {
              "outlinewidth": 0,
              "ticks": ""
             }
            },
            "type": "scatter3d"
           }
          ],
          "scattercarpet": [
           {
            "marker": {
             "colorbar": {
              "outlinewidth": 0,
              "ticks": ""
             }
            },
            "type": "scattercarpet"
           }
          ],
          "scattergeo": [
           {
            "marker": {
             "colorbar": {
              "outlinewidth": 0,
              "ticks": ""
             }
            },
            "type": "scattergeo"
           }
          ],
          "scattergl": [
           {
            "marker": {
             "colorbar": {
              "outlinewidth": 0,
              "ticks": ""
             }
            },
            "type": "scattergl"
           }
          ],
          "scattermap": [
           {
            "marker": {
             "colorbar": {
              "outlinewidth": 0,
              "ticks": ""
             }
            },
            "type": "scattermap"
           }
          ],
          "scattermapbox": [
           {
            "marker": {
             "colorbar": {
              "outlinewidth": 0,
              "ticks": ""
             }
            },
            "type": "scattermapbox"
           }
          ],
          "scatterpolar": [
           {
            "marker": {
             "colorbar": {
              "outlinewidth": 0,
              "ticks": ""
             }
            },
            "type": "scatterpolar"
           }
          ],
          "scatterpolargl": [
           {
            "marker": {
             "colorbar": {
              "outlinewidth": 0,
              "ticks": ""
             }
            },
            "type": "scatterpolargl"
           }
          ],
          "scatterternary": [
           {
            "marker": {
             "colorbar": {
              "outlinewidth": 0,
              "ticks": ""
             }
            },
            "type": "scatterternary"
           }
          ],
          "surface": [
           {
            "colorbar": {
             "outlinewidth": 0,
             "ticks": ""
            },
            "colorscale": [
             [
              0,
              "#0d0887"
             ],
             [
              0.1111111111111111,
              "#46039f"
             ],
             [
              0.2222222222222222,
              "#7201a8"
             ],
             [
              0.3333333333333333,
              "#9c179e"
             ],
             [
              0.4444444444444444,
              "#bd3786"
             ],
             [
              0.5555555555555556,
              "#d8576b"
             ],
             [
              0.6666666666666666,
              "#ed7953"
             ],
             [
              0.7777777777777778,
              "#fb9f3a"
             ],
             [
              0.8888888888888888,
              "#fdca26"
             ],
             [
              1,
              "#f0f921"
             ]
            ],
            "type": "surface"
           }
          ],
          "table": [
           {
            "cells": {
             "fill": {
              "color": "#EBF0F8"
             },
             "line": {
              "color": "white"
             }
            },
            "header": {
             "fill": {
              "color": "#C8D4E3"
             },
             "line": {
              "color": "white"
             }
            },
            "type": "table"
           }
          ]
         },
         "layout": {
          "annotationdefaults": {
           "arrowcolor": "#2a3f5f",
           "arrowhead": 0,
           "arrowwidth": 1
          },
          "autotypenumbers": "strict",
          "coloraxis": {
           "colorbar": {
            "outlinewidth": 0,
            "ticks": ""
           }
          },
          "colorscale": {
           "diverging": [
            [
             0,
             "#8e0152"
            ],
            [
             0.1,
             "#c51b7d"
            ],
            [
             0.2,
             "#de77ae"
            ],
            [
             0.3,
             "#f1b6da"
            ],
            [
             0.4,
             "#fde0ef"
            ],
            [
             0.5,
             "#f7f7f7"
            ],
            [
             0.6,
             "#e6f5d0"
            ],
            [
             0.7,
             "#b8e186"
            ],
            [
             0.8,
             "#7fbc41"
            ],
            [
             0.9,
             "#4d9221"
            ],
            [
             1,
             "#276419"
            ]
           ],
           "sequential": [
            [
             0,
             "#0d0887"
            ],
            [
             0.1111111111111111,
             "#46039f"
            ],
            [
             0.2222222222222222,
             "#7201a8"
            ],
            [
             0.3333333333333333,
             "#9c179e"
            ],
            [
             0.4444444444444444,
             "#bd3786"
            ],
            [
             0.5555555555555556,
             "#d8576b"
            ],
            [
             0.6666666666666666,
             "#ed7953"
            ],
            [
             0.7777777777777778,
             "#fb9f3a"
            ],
            [
             0.8888888888888888,
             "#fdca26"
            ],
            [
             1,
             "#f0f921"
            ]
           ],
           "sequentialminus": [
            [
             0,
             "#0d0887"
            ],
            [
             0.1111111111111111,
             "#46039f"
            ],
            [
             0.2222222222222222,
             "#7201a8"
            ],
            [
             0.3333333333333333,
             "#9c179e"
            ],
            [
             0.4444444444444444,
             "#bd3786"
            ],
            [
             0.5555555555555556,
             "#d8576b"
            ],
            [
             0.6666666666666666,
             "#ed7953"
            ],
            [
             0.7777777777777778,
             "#fb9f3a"
            ],
            [
             0.8888888888888888,
             "#fdca26"
            ],
            [
             1,
             "#f0f921"
            ]
           ]
          },
          "colorway": [
           "#636efa",
           "#EF553B",
           "#00cc96",
           "#ab63fa",
           "#FFA15A",
           "#19d3f3",
           "#FF6692",
           "#B6E880",
           "#FF97FF",
           "#FECB52"
          ],
          "font": {
           "color": "#2a3f5f"
          },
          "geo": {
           "bgcolor": "white",
           "lakecolor": "white",
           "landcolor": "#E5ECF6",
           "showlakes": true,
           "showland": true,
           "subunitcolor": "white"
          },
          "hoverlabel": {
           "align": "left"
          },
          "hovermode": "closest",
          "mapbox": {
           "style": "light"
          },
          "paper_bgcolor": "white",
          "plot_bgcolor": "#E5ECF6",
          "polar": {
           "angularaxis": {
            "gridcolor": "white",
            "linecolor": "white",
            "ticks": ""
           },
           "bgcolor": "#E5ECF6",
           "radialaxis": {
            "gridcolor": "white",
            "linecolor": "white",
            "ticks": ""
           }
          },
          "scene": {
           "xaxis": {
            "backgroundcolor": "#E5ECF6",
            "gridcolor": "white",
            "gridwidth": 2,
            "linecolor": "white",
            "showbackground": true,
            "ticks": "",
            "zerolinecolor": "white"
           },
           "yaxis": {
            "backgroundcolor": "#E5ECF6",
            "gridcolor": "white",
            "gridwidth": 2,
            "linecolor": "white",
            "showbackground": true,
            "ticks": "",
            "zerolinecolor": "white"
           },
           "zaxis": {
            "backgroundcolor": "#E5ECF6",
            "gridcolor": "white",
            "gridwidth": 2,
            "linecolor": "white",
            "showbackground": true,
            "ticks": "",
            "zerolinecolor": "white"
           }
          },
          "shapedefaults": {
           "line": {
            "color": "#2a3f5f"
           }
          },
          "ternary": {
           "aaxis": {
            "gridcolor": "white",
            "linecolor": "white",
            "ticks": ""
           },
           "baxis": {
            "gridcolor": "white",
            "linecolor": "white",
            "ticks": ""
           },
           "bgcolor": "#E5ECF6",
           "caxis": {
            "gridcolor": "white",
            "linecolor": "white",
            "ticks": ""
           }
          },
          "title": {
           "x": 0.05
          },
          "xaxis": {
           "automargin": true,
           "gridcolor": "white",
           "linecolor": "white",
           "ticks": "",
           "title": {
            "standoff": 15
           },
           "zerolinecolor": "white",
           "zerolinewidth": 2
          },
          "yaxis": {
           "automargin": true,
           "gridcolor": "white",
           "linecolor": "white",
           "ticks": "",
           "title": {
            "standoff": 15
           },
           "zerolinecolor": "white",
           "zerolinewidth": 2
          }
         }
        },
        "title": {
         "text": "Haken 10, Trajektorien-Ansatz 4"
        }
       }
      }
     },
     "metadata": {},
     "output_type": "display_data"
    }
   ],
   "source": [
    "visualize_rectangles_html(\n",
    "    rectangles = rectangles_1,\n",
    "    secondary_rectangles = rectangles_optim,\n",
    "    secondary_legend_title = 'optimale Trajektorie',\n",
    "    connect_points = (trajectory_1[1][0], trajectory_1[-1][0]),\n",
    "    hook_num = hook_num,\n",
    "    trajectory_process = 1,\n",
    "    html_filename = '/home/mo/Thesis/Evaluation/Trajektorientests/CSV/traj1.html'\n",
    "    )\n",
    "\n",
    "visualize_rectangles_html(\n",
    "    rectangles = rectangles_2,\n",
    "    secondary_rectangles = rectangles_optim,\n",
    "    secondary_legend_title = 'optimale Trajektorie',\n",
    "    connect_points = (trajectory_1[1][0], trajectory_1[-1][0]),\n",
    "    hook_num = hook_num,\n",
    "    trajectory_process = 2,\n",
    "    html_filename = '/home/mo/Thesis/Evaluation/Trajektorientests/CSV/traj2.html'\n",
    "    )\n",
    "\n",
    "visualize_rectangles_html(\n",
    "    rectangles = rectangles_3,\n",
    "    secondary_rectangles = rectangles_optim,\n",
    "    secondary_legend_title = 'optimale Trajektorie',\n",
    "    connect_points = (trajectory_1[1][0], trajectory_1[-1][0]),\n",
    "    hook_num = hook_num,\n",
    "    trajectory_process = 3,\n",
    "    html_filename = '/home/mo/Thesis/Evaluation/Trajektorientests/CSV/traj3.html'\n",
    "    )\n",
    "\n",
    "visualize_rectangles_html(\n",
    "    rectangles = rectangles_4,\n",
    "    secondary_rectangles = rectangles_optim,\n",
    "    secondary_legend_title = 'optimale Trajektorie',\n",
    "    connect_points = (trajectory_1[1][0], trajectory_1[-1][0]),\n",
    "    hook_num = hook_num,\n",
    "    trajectory_process = 4,\n",
    "    html_filename = '/home/mo/Thesis/Evaluation/Trajektorientests/CSV/traj4.html'\n",
    "    )"
   ]
  },
  {
   "cell_type": "code",
   "execution_count": null,
   "id": "5bd2d90f",
   "metadata": {},
   "outputs": [],
   "source": []
  }
 ],
 "metadata": {
  "kernelspec": {
   "display_name": "Python 3",
   "language": "python",
   "name": "python3"
  },
  "language_info": {
   "codemirror_mode": {
    "name": "ipython",
    "version": 3
   },
   "file_extension": ".py",
   "mimetype": "text/x-python",
   "name": "python",
   "nbconvert_exporter": "python",
   "pygments_lexer": "ipython3",
   "version": "3.8.10"
  }
 },
 "nbformat": 4,
 "nbformat_minor": 5
}
