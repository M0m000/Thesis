{
 "cells": [
  {
   "cell_type": "code",
   "execution_count": 1088,
   "id": "c56fbbd2",
   "metadata": {},
   "outputs": [],
   "source": [
    "import csv\n",
    "import numpy as np\n",
    "from scipy.spatial.transform import Rotation as R\n",
    "import matplotlib.pyplot as plt\n",
    "from mpl_toolkits.mplot3d.art3d import Poly3DCollection\n",
    "import matplotlib.cm as cm\n",
    "import plotly.graph_objects as go"
   ]
  },
  {
   "cell_type": "markdown",
   "id": "d43cbb9f",
   "metadata": {},
   "source": [
    "### **Trajektorien CSVs laden**"
   ]
  },
  {
   "cell_type": "code",
   "execution_count": 1089,
   "id": "ce8ad287",
   "metadata": {},
   "outputs": [],
   "source": [
    "def load_csv_to_trajectory(filepath):\n",
    "    \"\"\"Lädt die CSV und stellt Trajektorie-Liste wieder her\"\"\"\n",
    "    trajectory = []\n",
    "    with open(filepath, mode='r', newline='') as file:\n",
    "        reader = csv.reader(file)\n",
    "        next(reader)  # Überspringe Kopfzeile\n",
    "\n",
    "        for row in reader:\n",
    "            numbers = list(map(float, row))\n",
    "            trans = numbers[:3]\n",
    "            rot = numbers[3:]\n",
    "            trajectory.append((trans, rot))\n",
    "    return trajectory"
   ]
  },
  {
   "cell_type": "code",
   "execution_count": 1090,
   "id": "fa040c5d",
   "metadata": {},
   "outputs": [],
   "source": [
    "hook_num = 9\n",
    "v = 10\n",
    "hook_model = 'D'\n",
    "frame = '_work'"
   ]
  },
  {
   "cell_type": "code",
   "execution_count": 1091,
   "id": "6ae1d02a",
   "metadata": {},
   "outputs": [],
   "source": [
    "traj_optim_path = '/home/mo/Thesis/Evaluation/Trajektorientests/Modell' + hook_model + '/v_' + str(v) + '/' + str(hook_num) + '/trajectory_0' + str(frame) + '.csv'\n",
    "traj_1_path = '/home/mo/Thesis/Evaluation/Trajektorientests/Modell' + hook_model + '/v_' + str(v) + '/' + str(hook_num) + '/trajectory_1' + str(frame) + '.csv'\n",
    "traj_2_path = '/home/mo/Thesis/Evaluation/Trajektorientests/Modell' + hook_model + '/v_' + str(v) + '/' + str(hook_num) + '/trajectory_2' + str(frame) + '.csv'\n",
    "traj_3_path = '/home/mo/Thesis/Evaluation/Trajektorientests/Modell' + hook_model + '/v_' + str(v) + '/' + str(hook_num) + '/trajectory_3' + str(frame) + '.csv'\n",
    "traj_4_path = '/home/mo/Thesis/Evaluation/Trajektorientests/Modell' + hook_model + '/v_' + str(v) + '/' + str(hook_num) + '/trajectory_4' + str(frame) + '.csv'"
   ]
  },
  {
   "cell_type": "code",
   "execution_count": 1092,
   "id": "aad60faa",
   "metadata": {},
   "outputs": [],
   "source": [
    "trajectory_optim = load_csv_to_trajectory(traj_optim_path)\n",
    "trajectory_1 = load_csv_to_trajectory(traj_1_path)\n",
    "trajectory_2 = load_csv_to_trajectory(traj_2_path)\n",
    "trajectory_3 = load_csv_to_trajectory(traj_3_path)\n",
    "trajectory_4 = load_csv_to_trajectory(traj_4_path)"
   ]
  },
  {
   "cell_type": "markdown",
   "id": "d66a9f4b",
   "metadata": {},
   "source": [
    "### **Euklidsche Distanz**"
   ]
  },
  {
   "cell_type": "code",
   "execution_count": 1093,
   "id": "549aa99e",
   "metadata": {},
   "outputs": [],
   "source": [
    "def interpolate_trajectory(traj, num_points):\n",
    "    \"\"\"\n",
    "    Interpoliert eine Trajektorie auf `num_points` gleichmäßig verteilte Punkte.\n",
    "    Nur die translatorischen Komponenten werden verwendet (3D Punkte).\n",
    "    \"\"\"\n",
    "    positions = np.array([p[0] for p in traj])  # Nur Positionen\n",
    "    rotations = np.array([p[1] for p in traj])  # Nur Rotationen\n",
    "    \n",
    "    # Abstände zwischen aufeinanderfolgenden Punkten\n",
    "    deltas_trans = np.linalg.norm(np.diff(positions, axis=0), axis=1)\n",
    "    deltas_rot = np.linalg.norm(np.diff(rotations, axis=0), axis=1)\n",
    "    cumulative_dist_trans = np.concatenate([[0], np.cumsum(deltas_trans)])\n",
    "    cumulative_dist_rot = np.concatenate([[0], np.cumsum(deltas_rot)])\n",
    "    \n",
    "    # Gleichmäßig verteilte Distanzen entlang der Trajektorie\n",
    "    target_distances_trans = np.linspace(0, cumulative_dist_trans[-1], num_points)\n",
    "    target_distances_rot = np.linspace(0, cumulative_dist_rot[-1], num_points)\n",
    "\n",
    "    # Interpolation\n",
    "    interp_positions = []\n",
    "    interp_rotations = []\n",
    "\n",
    "    for dist in target_distances_trans:\n",
    "        idx = np.searchsorted(cumulative_dist_trans, dist) - 1\n",
    "        idx = np.clip(idx, 0, len(positions) - 2)\n",
    "        # Lokale lineare Interpolation\n",
    "        t = (dist - cumulative_dist_trans[idx]) / (cumulative_dist_trans[idx + 1] - cumulative_dist_trans[idx])\n",
    "        point = (1 - t) * positions[idx] + t * positions[idx + 1]\n",
    "        interp_positions.append(point)\n",
    "    \n",
    "    for rot in target_distances_rot:\n",
    "        idx = np.searchsorted(cumulative_dist_rot, rot) - 1\n",
    "        idx = np.clip(idx, 0, len(rotations) - 2)\n",
    "        # Lokale lineare Interpolation\n",
    "        t = (rot - cumulative_dist_rot[idx]) / (cumulative_dist_rot[idx + 1] - cumulative_dist_rot[idx])\n",
    "        point = (1 - t) * rotations[idx] + t * rotations[idx + 1]\n",
    "        interp_rotations.append(point)\n",
    "    \n",
    "    return np.array(interp_positions), np.array(interp_rotations)\n",
    "\n",
    "\n",
    "def trajectory_distance(traj1, traj2, num_points=10):\n",
    "    \"\"\"\n",
    "    Vergleicht zwei Trajektorien anhand von `num_points` gleichverteilten Punkten.\n",
    "    Gibt die euklidischen Abstände zurück (Liste) und den Mittelwert.\n",
    "    \"\"\"\n",
    "    interp1_trans, interp1_rot = interpolate_trajectory(traj1, num_points)\n",
    "    interp2_trans, interp2_rot = interpolate_trajectory(traj2, num_points)\n",
    "\n",
    "    # Punktweise euklidischer Abstand\n",
    "    distances = np.linalg.norm(interp1_trans - interp2_trans, axis=1)\n",
    "    rotations = np.linalg.norm(interp1_rot - interp2_rot, axis=1)\n",
    "    mean_distance = np.mean(distances)\n",
    "    mean_rotation = np.mean(rotations)\n",
    "    max_distance = np.max(distances)\n",
    "    max_rotation = np.max(rotations)\n",
    "    return distances, mean_distance, max_distance, rotations, mean_rotation, max_rotation"
   ]
  },
  {
   "cell_type": "code",
   "execution_count": 1094,
   "id": "2fc24563",
   "metadata": {},
   "outputs": [],
   "source": [
    "def plot_trajectory_distances(\n",
    "    distances=None, \n",
    "    mean_distance=None, \n",
    "    max_distance=None, \n",
    "    rotations=None, \n",
    "    mean_rotation=None, \n",
    "    max_rotation=None, \n",
    "    hook_num=0, \n",
    "    trajectory_process=4\n",
    "):\n",
    "    \"\"\"\n",
    "    Plottet die euklidischen Distanzen und Rotationen entlang der interpolierten Punkte.\n",
    "    \"\"\"\n",
    "\n",
    "    %matplotlib inline\n",
    "    \n",
    "    fig, (ax1, ax2) = plt.subplots(2, 1, figsize=(10, 8), sharex=True)\n",
    "    fig.suptitle(f\"Vergleich zwischen optimaler und berechneter Trajektorie - Haken {hook_num}, Trajektorie-Ansatz {trajectory_process} – Distanz\", fontsize=14)\n",
    "\n",
    "    # Plot 1: Euklidische Distanzen\n",
    "    ax1.set_title(f\"Euklidsche Distanz translatorisch\")\n",
    "    ax1.plot(range(1, len(distances) + 1), distances, linestyle='-', marker = '.', label='Euklidische Distanz [mm]')\n",
    "\n",
    "    if mean_distance is not None:\n",
    "        ax1.plot(range(1, len(distances) + 1), [mean_distance] * len(distances), linestyle='--', color='red', label='Mittelwert')\n",
    "    \n",
    "    if max_distance is not None:\n",
    "        ax1.plot(range(1, len(distances) + 1), [max_distance] * len(distances), linestyle='--', color='magenta', label=f\"Max-Wert - {max_distance:.3f}mm\")\n",
    "\n",
    "    ax1.set_ylabel(\"Distanz [mm]\")\n",
    "    ax1.grid(True)\n",
    "    ax1.legend()\n",
    "\n",
    "    \n",
    "    # Plot 2: Rotationen\n",
    "    ax2.set_title(\"Euklidsche Distanz rotatorisch\")\n",
    "    if rotations is not None:\n",
    "        ax2.plot(range(1, len(rotations) + 1), rotations, linestyle='-', marker = '.', label='Rotationsabweichung [°]', color='orange')\n",
    "\n",
    "        if mean_rotation is not None:\n",
    "            ax2.plot(range(1, len(rotations) + 1), [mean_rotation] * len(rotations), linestyle='--', color='red', label='Mittelwert')\n",
    "        \n",
    "        if max_rotation is not None:\n",
    "            ax2.plot(range(1, len(rotations) + 1), [max_rotation] * len(rotations), linestyle='--', color='magenta', label=f\"Max-Wert - {max_rotation:.3f}°\")\n",
    "\n",
    "        ax2.set_ylabel(\"Rotation [°]\")\n",
    "        ax2.grid(True)\n",
    "        ax2.legend()\n",
    "    else:\n",
    "        ax2.text(0.5, 0.5, \"Keine Rotationsdaten verfügbar\", ha='center', va='center', transform=ax2.transAxes)\n",
    "        ax2.axis('off')\n",
    "    \n",
    "    ax2.set_xlabel(\"Punktindex (entlang der Trajektorie)\")\n",
    "    plt.tight_layout(rect=[0, 0, 1, 0.95])  # Platz für Suptitle\n",
    "    plt.show()"
   ]
  },
  {
   "cell_type": "code",
   "execution_count": 1095,
   "id": "0f0e378a",
   "metadata": {},
   "outputs": [],
   "source": [
    "distances, mean_distance, max_distance, rotations, mean_rotation, max_rotation = trajectory_distance(trajectory_1, trajectory_optim, 100)\n",
    "# plot_trajectory_distances(distances, mean_distance, max_distance, rotations, mean_rotation, max_rotation, hook_num = hook_num, trajectory_process = 4)"
   ]
  },
  {
   "cell_type": "markdown",
   "id": "efe3dd89",
   "metadata": {},
   "source": [
    "### **Absolute Distanzen**"
   ]
  },
  {
   "cell_type": "code",
   "execution_count": 1096,
   "id": "74d6bbd8",
   "metadata": {},
   "outputs": [],
   "source": [
    "def trajectory_difference(traj1, traj2, num_points=10):\n",
    "    \"\"\"\n",
    "    Vergleicht zwei Trajektorien anhand von `num_points` gleichverteilten Punkten.\n",
    "    Gibt die vorzeichenbehafteten Differenzen für Translation und Rotation zurück.\n",
    "    Rückgabe:\n",
    "        diffs_trans: (num_points, 3) - x, y, z\n",
    "        diffs_rot:   (num_points, 3) - roll, pitch, yaw\n",
    "    \"\"\"\n",
    "    interp1_trans, interp1_rot = interpolate_trajectory(traj1, num_points)\n",
    "    interp2_trans, interp2_rot = interpolate_trajectory(traj2, num_points)\n",
    "\n",
    "    # Vorzeichenbehaftete Differenzen\n",
    "    diffs_trans = interp1_trans - interp2_trans\n",
    "    diffs_rot = interp1_rot - interp2_rot\n",
    "\n",
    "    return diffs_trans, diffs_rot"
   ]
  },
  {
   "cell_type": "code",
   "execution_count": 1097,
   "id": "0dd37334",
   "metadata": {},
   "outputs": [],
   "source": [
    "def plot_signed_trajectory_differences(\n",
    "    diffs_trans, \n",
    "    diffs_rot, \n",
    "    hook_num=0, \n",
    "    trajectory_process=4\n",
    "):\n",
    "    \"\"\"\n",
    "    Plottet die vorzeichenbehafteten Differenzen (x, y, z, roll, pitch, yaw) \n",
    "    entlang der interpolierten Punkte.\n",
    "    \"\"\"\n",
    "\n",
    "    %matplotlib inline\n",
    "    \n",
    "    num_points = diffs_trans.shape[0]\n",
    "    indices = range(1, num_points + 1)\n",
    "\n",
    "    fig, (ax1, ax2) = plt.subplots(2, 1, figsize=(10, 8), sharex=True)\n",
    "    fig.suptitle(f\"Vorzeichenbehaftete Differenzen – Haken {hook_num}, Trajektorie-Ansatz {trajectory_process}\", fontsize=14)\n",
    "\n",
    "    # --- Plot 1: Translation (x, y, z) ---\n",
    "    ax1.set_title(\"Translation: Abweichung in x, y, z [mm]\")\n",
    "    ax1.plot(indices, diffs_trans[:, 0], label=\"x [mm]\", marker='.', linestyle='-', color='blue')\n",
    "    ax1.plot(indices, diffs_trans[:, 1], label=\"y [mm]\", marker='.',linestyle='-', color='green')\n",
    "    ax1.plot(indices, diffs_trans[:, 2], label=\"z [mm]\", marker='.',linestyle='-', color='purple')\n",
    "    ax1.axhline(0, color='gray', linestyle='--', linewidth=0.8)\n",
    "\n",
    "    ax1.set_ylabel(\"Abweichung [mm]\")\n",
    "    ax1.grid(True)\n",
    "    ax1.legend()\n",
    "\n",
    "    # --- Plot 2: Rotation (roll, pitch, yaw) ---\n",
    "    ax2.set_title(\"Rotation: Abweichung in Roll, Pitch, Yaw [°]\")\n",
    "    ax2.plot(indices, diffs_rot[:, 0], label=\"roll [°]\", marker='.',linestyle='-', color='orange')\n",
    "    ax2.plot(indices, diffs_rot[:, 1], label=\"pitch [°]\", marker='.',linestyle='-', color='red')\n",
    "    ax2.plot(indices, diffs_rot[:, 2], label=\"yaw [°]\", marker='.',linestyle='-', color='brown')\n",
    "    ax2.axhline(0, color='gray', linestyle='--', linewidth=0.8)\n",
    "\n",
    "    ax2.set_xlabel(\"Punktindex (entlang der Trajektorie)\")\n",
    "    ax2.set_ylabel(\"Abweichung [°]\")\n",
    "    ax2.grid(True)\n",
    "    ax2.legend()\n",
    "\n",
    "    plt.tight_layout(rect=[0, 0, 1, 0.95])\n",
    "    plt.show()"
   ]
  },
  {
   "cell_type": "code",
   "execution_count": 1098,
   "id": "0fccff97",
   "metadata": {},
   "outputs": [],
   "source": [
    "diffs_trans, diffs_rot = trajectory_difference(trajectory_1, trajectory_optim, 100)\n",
    "# plot_signed_trajectory_differences(diffs_trans, diffs_rot, hook_num=2, trajectory_process=1)"
   ]
  },
  {
   "cell_type": "markdown",
   "id": "170527fd",
   "metadata": {},
   "source": [
    "### **3D-Darstellung**"
   ]
  },
  {
   "cell_type": "code",
   "execution_count": 1099,
   "id": "edfb46e9",
   "metadata": {},
   "outputs": [],
   "source": [
    "def fix_rpy(rpy):\n",
    "    roll, pitch, yaw = rpy\n",
    "    return [roll, -pitch, yaw]  # oder vielleicht yaw auch invertieren – je nach System\n",
    "\n",
    "\n",
    "def compute_rectangle_corners(trajectory, frame='', width=8, height=12):\n",
    "    \"\"\"\n",
    "    Berechnet die Rechteck-Eckpunkte (4 Stück) für jeden Trajektorienpunkt.\n",
    "\n",
    "    :param trajectory: Liste von ([x, y, z], [roll, pitch, yaw]) Einträgen\n",
    "    :param width: Breite des Rechtecks (in X-Richtung)\n",
    "    :param height: Höhe des Rechtecks (in Y-Richtung)\n",
    "    :return: Liste von Rechtecken, jedes als Liste von 4 Eckpunkten (jeweils [x, y, z])\n",
    "    \"\"\"\n",
    "    rectangles = []\n",
    "\n",
    "    # Rechteck im lokalen TCP-Koordinatensystem (XY-Ebene, Zentrum im Ursprung)\n",
    "    half_w = width / 2\n",
    "    half_h = height / 2\n",
    "\n",
    "    if frame == '_work':\n",
    "        local_corners = np.array([\n",
    "            [-half_w, half_h, 0],\n",
    "            [ half_w, half_h, 0],\n",
    "            [ half_w, -half_h, 0],\n",
    "            [-half_w, -half_h, 0]\n",
    "        ])\n",
    "    else:\n",
    "        local_corners = np.array([\n",
    "        [-half_w, 0, -half_h],\n",
    "        [ half_w, 0, -half_h],\n",
    "        [ half_w, 0, half_h],\n",
    "        [-half_w, 0, half_h]\n",
    "        ])\n",
    "\n",
    "    for trans, rpy in trajectory:\n",
    "        # RPY in Radiant, falls nicht schon so\n",
    "        if frame == '_work':\n",
    "            rot = R.from_euler('xyz', fix_rpy(rpy), degrees=True)\n",
    "        else:\n",
    "            rot = R.from_euler('xyz', rpy, degrees=True)\n",
    "        rotated_corners = rot.apply(local_corners)\n",
    "        translated_corners = rotated_corners + np.array(trans)\n",
    "        rectangles.append(translated_corners.tolist())\n",
    "    return rectangles"
   ]
  },
  {
   "cell_type": "code",
   "execution_count": 1100,
   "id": "05d04c48",
   "metadata": {},
   "outputs": [],
   "source": [
    "rectangles_optim = compute_rectangle_corners(trajectory_optim, frame = frame)\n",
    "rectangles_1 = compute_rectangle_corners(trajectory_1, frame = frame)\n",
    "rectangles_2 = compute_rectangle_corners(trajectory_2, frame = frame)\n",
    "rectangles_3 = compute_rectangle_corners(trajectory_3, frame = frame)\n",
    "rectangles_4 = compute_rectangle_corners(trajectory_4, frame = frame)"
   ]
  },
  {
   "cell_type": "code",
   "execution_count": 1101,
   "id": "f78ad7a3",
   "metadata": {},
   "outputs": [],
   "source": [
    "def visualize_rectangles(rectangles, figsize=(8, 8), connect_points=None, \n",
    "                         secondary_rectangles=None, secondary_legend_title=None,\n",
    "                         hook_num = 0, trajectory_process = 1):\n",
    "    \"\"\"\n",
    "    Visualisiert Rechtecke + Trajektorie im 3D-Raum mit Legende und Bezeichnungen der Trajektorienpunkte.\n",
    "    \n",
    "    Zusätzlich kann ein zweiter Satz Rechtecke (grau & transparent) dargestellt werden – inkl. Mittelpunktslinie.\n",
    "\n",
    "    :param rectangles: Liste von Rechtecken (jeweils 4 Punkte [x, y, z])\n",
    "    :param figsize: Größe der Plotfläche (Breite, Höhe)\n",
    "    :param connect_points: Optionales Tupel mit zwei Punkten [x, y, z], die verbunden werden sollen\n",
    "    :param secondary_rectangles: Optionaler zweiter Satz Rechtecke (werden grau dargestellt)\n",
    "    :param secondary_legend_title: Optionaler Legenden-Eintrag für die grauen Rechtecke\n",
    "    \"\"\"\n",
    "    %matplotlib qt\n",
    "\n",
    "    fig = plt.figure(figsize=figsize)\n",
    "    ax = fig.add_subplot(111, projection='3d')\n",
    "    fig.suptitle(f\"Einfädelung Trajektorie Spitze -> Senke (TCP in WORLD-Frame)\", fontsize=14, y=0.98)\n",
    "\n",
    "    centers = []\n",
    "    cmap = cm.get_cmap('tab20')\n",
    "    legend_handles = []\n",
    "\n",
    "    # Berechnete Trajektorie (farbig)\n",
    "    for i, rect in enumerate(rectangles):\n",
    "        color = cmap(i / len(rectangles))\n",
    "        poly = Poly3DCollection([rect], facecolors=color, alpha=0.2, edgecolors=color)\n",
    "        ax.add_collection3d(poly)\n",
    "\n",
    "        if i == 0:\n",
    "            label = 'Pre-Position'\n",
    "        elif i == 1:\n",
    "            label = 'Spitze'\n",
    "        elif i == len(rectangles) - 1:\n",
    "            label = 'Loslassen'\n",
    "        else:\n",
    "            label = str(i + 1)\n",
    "\n",
    "        legend_handles.append(plt.Line2D([0], [0], marker='o', color='w', label=label,\n",
    "                                         markersize=10, markerfacecolor=color))\n",
    "\n",
    "        center = np.mean(np.array(rect), axis=0)\n",
    "        centers.append(center)\n",
    "        ax.scatter(*center, color='red', s=30)\n",
    "        ax.text(center[0]-5, center[1]-5, center[2], f\"P{i}\", color=color, alpha = 0.8, fontsize=12)\n",
    "\n",
    "    # Linie durch die berechneten Mittelpunkte\n",
    "    centers = np.array(centers)\n",
    "    ax.plot(centers[:, 0], centers[:, 1], centers[:, 2], color='black', linewidth=2)\n",
    "\n",
    "    # Beschriftung Hauptlinie\n",
    "    if len(centers) > 0:\n",
    "        ax.text(*centers[0], 'Pre-Position', color='black', fontsize=10)\n",
    "    if len(centers) > 2:\n",
    "        ax.text(*centers[-1], 'Loslassen', color='black', fontsize=10)\n",
    "\n",
    "    # Optimal-Trajektorie (grün)\n",
    "    if secondary_rectangles is not None:\n",
    "        secondary_centers = []\n",
    "        for rect in secondary_rectangles:\n",
    "            poly = Poly3DCollection([rect], facecolors='green', alpha=0.1, edgecolors='green')\n",
    "            ax.add_collection3d(poly)\n",
    "\n",
    "            center = np.mean(np.array(rect), axis=0)\n",
    "            secondary_centers.append(center)\n",
    "            ax.scatter(*center, color='green', s=20)\n",
    "\n",
    "        # Linie durch grüne Mittelpunkte\n",
    "        secondary_centers = np.array(secondary_centers)\n",
    "        ax.plot(secondary_centers[:, 0], secondary_centers[:, 1], secondary_centers[:, 2],\n",
    "                color='green', linewidth=1, linestyle='-')\n",
    "\n",
    "        # Legendenhandle für Optimal-Trajektorie\n",
    "        if secondary_legend_title:\n",
    "            legend_handles.append(plt.Line2D([0], [0], marker='o', color='w', label=secondary_legend_title,\n",
    "                                             markersize=10, markerfacecolor='green'))\n",
    "\n",
    "    # Einzeichnen von Spitze und Senke inkl. graue Verbindungslinie\n",
    "    if connect_points is not None and len(connect_points) == 2:\n",
    "        p1, p2 = np.array(connect_points[0]), np.array(connect_points[1])\n",
    "        ax.plot([p1[0], p2[0]], [p1[1], p2[1]], [p1[2], p2[2]],\n",
    "                color='gray', linestyle='dashed', linewidth=2)\n",
    "        ax.scatter(*p1, 'o', color='magenta', linewidth=6)\n",
    "        ax.scatter(*p2, 'o', color='magenta', linewidth=6)\n",
    "        ax.text(*p1, 'Spitze', color='magenta', fontsize=12, ha='center')\n",
    "        ax.text(*p2, 'Senke', color='magenta', fontsize=12, ha='center')\n",
    "\n",
    "    # Achseneinstellungen\n",
    "    ax.set_xlabel('X')\n",
    "    ax.set_ylabel('Y')\n",
    "    ax.set_zlabel('Z')\n",
    "    ax.set_title(f\"Haken {hook_num}, Trajektorien-Ansatz {trajectory_process}\", fontsize = 10)\n",
    "\n",
    "    all_points = rectangles + (secondary_rectangles if secondary_rectangles else [])\n",
    "    all_points = np.vstack(all_points)\n",
    "    mid = np.mean(all_points, axis=0)\n",
    "    max_range = np.ptp(all_points, axis=0).max() / 2\n",
    "    for i, axis in enumerate([ax.set_xlim, ax.set_ylim, ax.set_zlim]):\n",
    "        axis(mid[i] - max_range, mid[i] + max_range)\n",
    "\n",
    "    ax.set_box_aspect([1, 1, 1])\n",
    "    ax.legend(handles=legend_handles, title=\"Trajektorien-Punkte\", loc='upper left')\n",
    "    plt.tight_layout(pad=0.5, w_pad=0.5, h_pad=0.5)\n",
    "    plt.show()"
   ]
  },
  {
   "cell_type": "code",
   "execution_count": 1102,
   "id": "5a944d76",
   "metadata": {},
   "outputs": [
    {
     "data": {
      "text/plain": [
       "\"\\nvisualize_rectangles(rectangles = rectangles_1,\\n                     secondary_rectangles = rectangles_optim,\\n                     secondary_legend_title = 'optimale Trajektorie',\\n                     connect_points = (trajectory_1[1][0], trajectory_1[-1][0]),\\n                     hook_num = hook_num,\\n                     trajectory_process = 1)\\n\\nvisualize_rectangles(rectangles = rectangles_2,\\n                     secondary_rectangles = rectangles_optim,\\n                     secondary_legend_title = 'optimale Trajektorie',\\n                     connect_points = (trajectory_1[1][0], trajectory_1[-1][0]),\\n                     hook_num = hook_num,\\n                     trajectory_process = 2)\\n\\nvisualize_rectangles(rectangles = rectangles_3,\\n                     secondary_rectangles = rectangles_optim,\\n                     secondary_legend_title = 'optimale Trajektorie',\\n                     connect_points = (trajectory_1[1][0], trajectory_1[-1][0]),\\n                     hook_num = hook_num,\\n                     trajectory_process = 3)\\n\\nvisualize_rectangles(rectangles = rectangles_4,\\n                     secondary_rectangles = rectangles_optim,\\n                     secondary_legend_title = 'optimale Trajektorie',\\n                     connect_points = (trajectory_1[1][0], trajectory_1[-1][0]),\\n                     hook_num = hook_num,\\n                     trajectory_process = 4)\\n\""
      ]
     },
     "execution_count": 1102,
     "metadata": {},
     "output_type": "execute_result"
    }
   ],
   "source": [
    "'''\n",
    "visualize_rectangles(rectangles = rectangles_1,\n",
    "                     secondary_rectangles = rectangles_optim,\n",
    "                     secondary_legend_title = 'optimale Trajektorie',\n",
    "                     connect_points = (trajectory_1[1][0], trajectory_1[-1][0]),\n",
    "                     hook_num = hook_num,\n",
    "                     trajectory_process = 1)\n",
    "\n",
    "visualize_rectangles(rectangles = rectangles_2,\n",
    "                     secondary_rectangles = rectangles_optim,\n",
    "                     secondary_legend_title = 'optimale Trajektorie',\n",
    "                     connect_points = (trajectory_1[1][0], trajectory_1[-1][0]),\n",
    "                     hook_num = hook_num,\n",
    "                     trajectory_process = 2)\n",
    "\n",
    "visualize_rectangles(rectangles = rectangles_3,\n",
    "                     secondary_rectangles = rectangles_optim,\n",
    "                     secondary_legend_title = 'optimale Trajektorie',\n",
    "                     connect_points = (trajectory_1[1][0], trajectory_1[-1][0]),\n",
    "                     hook_num = hook_num,\n",
    "                     trajectory_process = 3)\n",
    "\n",
    "visualize_rectangles(rectangles = rectangles_4,\n",
    "                     secondary_rectangles = rectangles_optim,\n",
    "                     secondary_legend_title = 'optimale Trajektorie',\n",
    "                     connect_points = (trajectory_1[1][0], trajectory_1[-1][0]),\n",
    "                     hook_num = hook_num,\n",
    "                     trajectory_process = 4)\n",
    "'''"
   ]
  },
  {
   "cell_type": "code",
   "execution_count": 1103,
   "id": "0653e612",
   "metadata": {},
   "outputs": [],
   "source": [
    "def visualize_rectangles_html(rectangles, connect_points=None, \n",
    "                              secondary_rectangles=None, secondary_legend_title=None,\n",
    "                              hook_num=0, trajectory_process=1, html_filename=\"/home/mo/Thesis/Evaluation/Trajektorientests/CSV/plot_interaktiv.html\"):\n",
    "    \"\"\"\n",
    "    Visualisiert Rechtecke und Trajektorien im 3D-Raum als interaktive HTML-Datei.\n",
    "    \n",
    "    :param rectangles: Liste von Rechtecken (jeweils 4 Punkte [x, y, z])\n",
    "    :param figsize: Größe der Plotfläche (Breite, Höhe)\n",
    "    :param connect_points: Optionales Tupel mit zwei Punkten [x, y, z], die verbunden werden sollen\n",
    "    :param secondary_rectangles: Optionaler zweiter Satz Rechtecke (werden grau dargestellt)\n",
    "    :param secondary_legend_title: Optionaler Legenden-Eintrag für die grauen Rechtecke\n",
    "    :param html_filename: Der Name der HTML-Datei, die erstellt wird\n",
    "    \"\"\"\n",
    "    fig = go.Figure()\n",
    "\n",
    "    # Berechnete Trajektorie (farbig)\n",
    "    cmap = plt.cm.get_cmap('tab20')\n",
    "    centers = []\n",
    "\n",
    "    for i, rect in enumerate(rectangles):\n",
    "        # Verwende rgba-String für die Farbe (anstatt des RGBA-Tupels)\n",
    "        color = f\"rgba({int(cmap(i / len(rectangles))[0] * 255)}, \" \\\n",
    "                f\"{int(cmap(i / len(rectangles))[1] * 255)}, \" \\\n",
    "                f\"{int(cmap(i / len(rectangles))[2] * 255)}, 0.8)\"\n",
    "        x, y, z = zip(*rect)\n",
    "        fig.add_trace(go.Mesh3d(x=x, y=y, z=z, color=color, opacity=0.8, \n",
    "                               name=f'P{i+1}'))\n",
    "\n",
    "        center = np.mean(np.array(rect), axis=0)\n",
    "        centers.append(center)\n",
    "        \n",
    "        # Text für \"P0\", \"P1\", etc.\n",
    "        if i == 0:\n",
    "            text_label = ''\n",
    "            # text_label = 'Pre-Position'\n",
    "        elif i == 1:\n",
    "            text_label = ''\n",
    "            # text_label = 'Spitze'\n",
    "        elif i == len(rectangles) - 1:\n",
    "            text_label = ''\n",
    "            # text_label = 'Loslassen'\n",
    "        else:\n",
    "            text_label = f'P{i}'  # Standardtext für den Punkt\n",
    "        \n",
    "        # Füge den Text an den Punkten hinzu (mit entsprechender Position)\n",
    "        fig.add_trace(go.Scatter3d(x=[center[0]], y=[center[1]], z=[center[2]], \n",
    "                                   mode='markers+text', marker=dict(size=3, color='red'),\n",
    "                                   text=text_label, textposition=\"top center\", textfont=dict(size=12), showlegend=False))\n",
    "\n",
    "        # Hinzufügen der Umrandung der Rechtecke mit einer Linie\n",
    "        for j in range(4):\n",
    "            x0, y0, z0 = rect[j]\n",
    "            x1, y1, z1 = rect[(j + 1) % 4]  # Nächster Punkt im Rechteck\n",
    "            fig.add_trace(go.Scatter3d(x=[x0, x1], y=[y0, y1], z=[z0, z1], \n",
    "                                       mode='lines', \n",
    "                                       line=dict(color=color, width=4),  # Keine opacity hier\n",
    "                                       showlegend=False))\n",
    "\n",
    "    # Linie durch die berechneten Mittelpunkte\n",
    "    centers = np.array(centers)\n",
    "    fig.add_trace(go.Scatter3d(x=centers[:, 0], y=centers[:, 1], z=centers[:, 2],\n",
    "                               mode='lines', line=dict(color='black', width=2), name='Berechnete Hakenlinie'))\n",
    "\n",
    "    # Beschriftung der ersten und letzten Punkte\n",
    "    if len(centers) > 0:\n",
    "        fig.add_trace(go.Scatter3d(x=[centers[0, 0]], y=[centers[0, 1]], z=[centers[0, 2]],\n",
    "                                   mode='text', text=['Pre-Position'], textposition=\"top center\", textfont=dict(size=10), showlegend=False))\n",
    "    if len(centers) > 2:\n",
    "        fig.add_trace(go.Scatter3d(x=[centers[-1, 0]], y=[centers[-1, 1]], z=[centers[-1, 2]],\n",
    "                                   mode='text', text=['Loslassen'], textposition=\"top center\", textfont=dict(size=10), showlegend=False))\n",
    "\n",
    "    # Optimal-Trajektorie (grün) – Zweite Rechtecke\n",
    "    if secondary_rectangles:\n",
    "        for rect in secondary_rectangles:\n",
    "            x, y, z = zip(*rect)\n",
    "            fig.add_trace(go.Mesh3d(x=x, y=y, z=z, color='rgba(0,255,0,0.2)', opacity=0.8, \n",
    "                                   name=secondary_legend_title or 'Optimale Trajektorie'))\n",
    "        \n",
    "            # Hinzufügen der Umrandung der Rechtecke mit einer Linie\n",
    "            for j in range(4):\n",
    "                x0, y0, z0 = rect[j]\n",
    "                x1, y1, z1 = rect[(j + 1) % 4]  # Nächster Punkt im Rechteck\n",
    "                fig.add_trace(go.Scatter3d(x=[x0, x1], y=[y0, y1], z=[z0, z1], \n",
    "                                           mode='lines', \n",
    "                                           line=dict(color='rgba(0,255,0,0.2)', width=3),  # Keine opacity hier\n",
    "                                           showlegend=False))\n",
    "            \n",
    "            # Hinzufügen eines roten Punktes in der Mitte des Rechtecks\n",
    "            center = np.mean(np.array(rect), axis=0)\n",
    "            fig.add_trace(go.Scatter3d(x=[center[0]], y=[center[1]], z=[center[2]], \n",
    "                                       mode='markers', marker=dict(size=4, color='green'), \n",
    "                                       name=f'Mitte P{i+1}', showlegend=False))\n",
    "        \n",
    "        # Mittelpunkte der sekundären Rechtecke sammeln\n",
    "        secondary_centers = [np.mean(np.array(rect), axis=0) for rect in secondary_rectangles]\n",
    "        secondary_centers = np.array(secondary_centers)\n",
    "\n",
    "        # Linie durch die Mittelpunkte zeichnen\n",
    "        fig.add_trace(go.Scatter3d(\n",
    "            x=secondary_centers[:, 0], y=secondary_centers[:, 1], z=secondary_centers[:, 2],\n",
    "            mode='lines',\n",
    "            line=dict(color='green', width=2),\n",
    "            name='Optimale Hakenlinie'\n",
    "        ))\n",
    "    \n",
    "    # Einzeichnen von Spitze und Senke inkl. graue Verbindungslinie\n",
    "    if connect_points:\n",
    "        p1, p2 = np.array(connect_points[0]), np.array(connect_points[1])\n",
    "        fig.add_trace(go.Scatter3d(x=[p1[0], p2[0]], y=[p1[1], p2[1]], z=[p1[2], p2[2]], \n",
    "                                   mode='lines', line=dict(color='gray', dash='dash'), name='Direkte Gerade Spitze -> Senke'))\n",
    "        fig.add_trace(go.Scatter3d(x=[p1[0]], y=[p1[1]], z=[p1[2]], mode='markers', \n",
    "                                   marker=dict(size=8, color='magenta'), name='Spitze'))\n",
    "        fig.add_trace(go.Scatter3d(x=[p2[0]], y=[p2[1]], z=[p2[2]], mode='markers', \n",
    "                                   marker=dict(size=8, color='magenta'), name='Senke'))\n",
    "        \n",
    "        # Hinzufügen von Text \"Spitze\" und \"Senke\"\n",
    "        fig.add_trace(go.Scatter3d(x=[p1[0]], y=[p1[1]], z=[p1[2]], mode='text', \n",
    "                                   text=['Spitze'], textposition=\"top center\", textfont=dict(size=10), showlegend=False))\n",
    "        fig.add_trace(go.Scatter3d(x=[p2[0]], y=[p2[1]], z=[p2[2]], mode='text', \n",
    "                                   text=['Senke'], textposition=\"top center\", textfont=dict(size=10), showlegend=False))\n",
    "\n",
    "    # Achsen und Layout\n",
    "    fig.update_layout(\n",
    "        scene=dict(\n",
    "            xaxis_title='X',\n",
    "            yaxis_title='Y',\n",
    "            zaxis_title='Z',\n",
    "            aspectmode='cube',\n",
    "            camera=dict(\n",
    "                up=dict(x=0, y=-1., z=0),\n",
    "                eye=dict(x=-1, y=-1, z=-1.5)\n",
    "            )\n",
    "        ),\n",
    "        title=f'Haken {hook_num}, Trajektorien-Ansatz {trajectory_process}',\n",
    "        legend=dict(title=\"Legende\")\n",
    "    )\n",
    "    \n",
    "    # HTML exportieren\n",
    "    fig.write_html(html_filename)\n",
    "    print(f\"HTML-Datei '{html_filename}' erfolgreich erstellt!\")\n",
    "    fig.show()"
   ]
  },
  {
   "cell_type": "code",
   "execution_count": 1104,
   "id": "2e400931",
   "metadata": {},
   "outputs": [
    {
     "name": "stdout",
     "output_type": "stream",
     "text": [
      "HTML-Datei '/home/mo/Thesis/Evaluation/Trajektorientests/traj1.html' erfolgreich erstellt!\n"
     ]
    },
    {
     "name": "stderr",
     "output_type": "stream",
     "text": [
      "/tmp/ipykernel_366278/974647754.py:17: MatplotlibDeprecationWarning:\n",
      "\n",
      "The get_cmap function was deprecated in Matplotlib 3.7 and will be removed two minor releases later. Use ``matplotlib.colormaps[name]`` or ``matplotlib.colormaps.get_cmap(obj)`` instead.\n",
      "\n"
     ]
    },
    {
     "data": {
      "application/vnd.plotly.v1+json": {
       "config": {
        "plotlyServerURL": "https://plot.ly"
       },
       "data": [
        {
         "color": "rgba(31, 119, 180, 0.8)",
         "name": "P1",
         "opacity": 0.8,
         "type": "mesh3d",
         "x": [
          457.6504192390646,
          465.646667442372,
          465.78466772372667,
          457.78841952041927
         ],
         "y": [
          -486.47856606601493,
          -486.5705191551074,
          -474.5713126962958,
          -474.4793596072034
         ],
         "z": [
          359.52831599070515,
          359.3012492593037,
          359.3017795055957,
          359.52884623699714
         ]
        },
        {
         "marker": {
          "color": "red",
          "size": 3
         },
         "mode": "markers+text",
         "showlegend": false,
         "text": "",
         "textfont": {
          "size": 12
         },
         "textposition": "top center",
         "type": "scatter3d",
         "x": [
          461.71754348139564
         ],
         "y": [
          -480.5249393811554
         ],
         "z": [
          359.4150477481504
         ]
        },
        {
         "line": {
          "color": "rgba(31, 119, 180, 0.8)",
          "width": 4
         },
         "mode": "lines",
         "showlegend": false,
         "type": "scatter3d",
         "x": [
          457.6504192390646,
          465.646667442372
         ],
         "y": [
          -486.47856606601493,
          -486.5705191551074
         ],
         "z": [
          359.52831599070515,
          359.3012492593037
         ]
        },
        {
         "line": {
          "color": "rgba(31, 119, 180, 0.8)",
          "width": 4
         },
         "mode": "lines",
         "showlegend": false,
         "type": "scatter3d",
         "x": [
          465.646667442372,
          465.78466772372667
         ],
         "y": [
          -486.5705191551074,
          -474.5713126962958
         ],
         "z": [
          359.3012492593037,
          359.3017795055957
         ]
        },
        {
         "line": {
          "color": "rgba(31, 119, 180, 0.8)",
          "width": 4
         },
         "mode": "lines",
         "showlegend": false,
         "type": "scatter3d",
         "x": [
          465.78466772372667,
          457.78841952041927
         ],
         "y": [
          -474.5713126962958,
          -474.4793596072034
         ],
         "z": [
          359.3017795055957,
          359.52884623699714
         ]
        },
        {
         "line": {
          "color": "rgba(31, 119, 180, 0.8)",
          "width": 4
         },
         "mode": "lines",
         "showlegend": false,
         "type": "scatter3d",
         "x": [
          457.78841952041927,
          457.6504192390646
         ],
         "y": [
          -474.4793596072034,
          -486.47856606601493
         ],
         "z": [
          359.52884623699714,
          359.52831599070515
         ]
        },
        {
         "color": "rgba(174, 199, 232, 0.8)",
         "name": "P2",
         "opacity": 0.8,
         "type": "mesh3d",
         "x": [
          455.84672120331356,
          461.6436169556136,
          467.45934195910263,
          461.6624462068026
         ],
         "y": [
          -484.4810888410266,
          -482.55971969515997,
          -476.6941999126726,
          -478.6155690585392
         ],
         "z": [
          357.28756121705135,
          352.1199369812658,
          360.82470695898735,
          365.9923311947729
         ]
        },
        {
         "marker": {
          "color": "red",
          "size": 3
         },
         "mode": "markers+text",
         "showlegend": false,
         "text": "",
         "textfont": {
          "size": 12
         },
         "textposition": "top center",
         "type": "scatter3d",
         "x": [
          461.6530315812081
         ],
         "y": [
          -480.5876443768496
         ],
         "z": [
          359.05613408801935
         ]
        },
        {
         "line": {
          "color": "rgba(174, 199, 232, 0.8)",
          "width": 4
         },
         "mode": "lines",
         "showlegend": false,
         "type": "scatter3d",
         "x": [
          455.84672120331356,
          461.6436169556136
         ],
         "y": [
          -484.4810888410266,
          -482.55971969515997
         ],
         "z": [
          357.28756121705135,
          352.1199369812658
         ]
        },
        {
         "line": {
          "color": "rgba(174, 199, 232, 0.8)",
          "width": 4
         },
         "mode": "lines",
         "showlegend": false,
         "type": "scatter3d",
         "x": [
          461.6436169556136,
          467.45934195910263
         ],
         "y": [
          -482.55971969515997,
          -476.6941999126726
         ],
         "z": [
          352.1199369812658,
          360.82470695898735
         ]
        },
        {
         "line": {
          "color": "rgba(174, 199, 232, 0.8)",
          "width": 4
         },
         "mode": "lines",
         "showlegend": false,
         "type": "scatter3d",
         "x": [
          467.45934195910263,
          461.6624462068026
         ],
         "y": [
          -476.6941999126726,
          -478.6155690585392
         ],
         "z": [
          360.82470695898735,
          365.9923311947729
         ]
        },
        {
         "line": {
          "color": "rgba(174, 199, 232, 0.8)",
          "width": 4
         },
         "mode": "lines",
         "showlegend": false,
         "type": "scatter3d",
         "x": [
          461.6624462068026,
          455.84672120331356
         ],
         "y": [
          -478.6155690585392,
          -484.4810888410266
         ],
         "z": [
          365.9923311947729,
          357.28756121705135
         ]
        },
        {
         "color": "rgba(255, 187, 120, 0.8)",
         "name": "P3",
         "opacity": 0.8,
         "type": "mesh3d",
         "x": [
          456.0656919840571,
          463.73917471079045,
          465.8590566269523,
          458.1855739002189
         ],
         "y": [
          -479.503068633438,
          -477.6379673730396,
          -478.26346993867907,
          -480.12857119907744
         ],
         "z": [
          352.67547365175216,
          351.3952158140552,
          363.1899115372143,
          364.4701693749113
         ]
        },
        {
         "marker": {
          "color": "red",
          "size": 3
         },
         "mode": "markers+text",
         "showlegend": false,
         "text": "P2",
         "textfont": {
          "size": 12
         },
         "textposition": "top center",
         "type": "scatter3d",
         "x": [
          460.9623743055047
         ],
         "y": [
          -478.8832692860585
         ],
         "z": [
          357.9326925944832
         ]
        },
        {
         "line": {
          "color": "rgba(255, 187, 120, 0.8)",
          "width": 4
         },
         "mode": "lines",
         "showlegend": false,
         "type": "scatter3d",
         "x": [
          456.0656919840571,
          463.73917471079045
         ],
         "y": [
          -479.503068633438,
          -477.6379673730396
         ],
         "z": [
          352.67547365175216,
          351.3952158140552
         ]
        },
        {
         "line": {
          "color": "rgba(255, 187, 120, 0.8)",
          "width": 4
         },
         "mode": "lines",
         "showlegend": false,
         "type": "scatter3d",
         "x": [
          463.73917471079045,
          465.8590566269523
         ],
         "y": [
          -477.6379673730396,
          -478.26346993867907
         ],
         "z": [
          351.3952158140552,
          363.1899115372143
         ]
        },
        {
         "line": {
          "color": "rgba(255, 187, 120, 0.8)",
          "width": 4
         },
         "mode": "lines",
         "showlegend": false,
         "type": "scatter3d",
         "x": [
          465.8590566269523,
          458.1855739002189
         ],
         "y": [
          -478.26346993867907,
          -480.12857119907744
         ],
         "z": [
          363.1899115372143,
          364.4701693749113
         ]
        },
        {
         "line": {
          "color": "rgba(255, 187, 120, 0.8)",
          "width": 4
         },
         "mode": "lines",
         "showlegend": false,
         "type": "scatter3d",
         "x": [
          458.1855739002189,
          456.0656919840571
         ],
         "y": [
          -480.12857119907744,
          -479.503068633438
         ],
         "z": [
          364.4701693749113,
          352.67547365175216
         ]
        },
        {
         "color": "rgba(152, 223, 138, 0.8)",
         "name": "P4",
         "opacity": 0.8,
         "type": "mesh3d",
         "x": [
          455.21809891907225,
          462.8449679927173,
          465.0648582358785,
          457.43798916223346
         ],
         "y": [
          -477.8030368629965,
          -475.7648046272159,
          -476.59873690198043,
          -478.63696913776107
         ],
         "z": [
          352.7394798649802,
          351.4446912774101,
          363.20805152308066,
          364.50284011065077
         ]
        },
        {
         "marker": {
          "color": "red",
          "size": 3
         },
         "mode": "markers+text",
         "showlegend": false,
         "text": "P3",
         "textfont": {
          "size": 12
         },
         "textposition": "top center",
         "type": "scatter3d",
         "x": [
          460.14147857747537
         ],
         "y": [
          -477.2008868824885
         ],
         "z": [
          357.9737656940304
         ]
        },
        {
         "line": {
          "color": "rgba(152, 223, 138, 0.8)",
          "width": 4
         },
         "mode": "lines",
         "showlegend": false,
         "type": "scatter3d",
         "x": [
          455.21809891907225,
          462.8449679927173
         ],
         "y": [
          -477.8030368629965,
          -475.7648046272159
         ],
         "z": [
          352.7394798649802,
          351.4446912774101
         ]
        },
        {
         "line": {
          "color": "rgba(152, 223, 138, 0.8)",
          "width": 4
         },
         "mode": "lines",
         "showlegend": false,
         "type": "scatter3d",
         "x": [
          462.8449679927173,
          465.0648582358785
         ],
         "y": [
          -475.7648046272159,
          -476.59873690198043
         ],
         "z": [
          351.4446912774101,
          363.20805152308066
         ]
        },
        {
         "line": {
          "color": "rgba(152, 223, 138, 0.8)",
          "width": 4
         },
         "mode": "lines",
         "showlegend": false,
         "type": "scatter3d",
         "x": [
          465.0648582358785,
          457.43798916223346
         ],
         "y": [
          -476.59873690198043,
          -478.63696913776107
         ],
         "z": [
          363.20805152308066,
          364.50284011065077
         ]
        },
        {
         "line": {
          "color": "rgba(152, 223, 138, 0.8)",
          "width": 4
         },
         "mode": "lines",
         "showlegend": false,
         "type": "scatter3d",
         "x": [
          457.43798916223346,
          455.21809891907225
         ],
         "y": [
          -478.63696913776107,
          -477.8030368629965
         ],
         "z": [
          364.50284011065077,
          352.7394798649802
         ]
        },
        {
         "color": "rgba(255, 152, 150, 0.8)",
         "name": "P5",
         "opacity": 0.8,
         "type": "mesh3d",
         "x": [
          454.1404642355935,
          461.7273180233798,
          464.17406966993326,
          456.587215882147
         ],
         "y": [
          -476.0573226692473,
          -473.96302658256525,
          -474.8090159865007,
          -476.90331207318275
         ],
         "z": [
          352.90675608713104,
          351.4737266024165,
          363.1911370803556,
          364.62416656507014
         ]
        },
        {
         "marker": {
          "color": "red",
          "size": 3
         },
         "mode": "markers+text",
         "showlegend": false,
         "text": "P4",
         "textfont": {
          "size": 12
         },
         "textposition": "top center",
         "type": "scatter3d",
         "x": [
          459.1572669527634
         ],
         "y": [
          -475.433169327874
         ],
         "z": [
          358.04894658374326
         ]
        },
        {
         "line": {
          "color": "rgba(255, 152, 150, 0.8)",
          "width": 4
         },
         "mode": "lines",
         "showlegend": false,
         "type": "scatter3d",
         "x": [
          454.1404642355935,
          461.7273180233798
         ],
         "y": [
          -476.0573226692473,
          -473.96302658256525
         ],
         "z": [
          352.90675608713104,
          351.4737266024165
         ]
        },
        {
         "line": {
          "color": "rgba(255, 152, 150, 0.8)",
          "width": 4
         },
         "mode": "lines",
         "showlegend": false,
         "type": "scatter3d",
         "x": [
          461.7273180233798,
          464.17406966993326
         ],
         "y": [
          -473.96302658256525,
          -474.8090159865007
         ],
         "z": [
          351.4737266024165,
          363.1911370803556
         ]
        },
        {
         "line": {
          "color": "rgba(255, 152, 150, 0.8)",
          "width": 4
         },
         "mode": "lines",
         "showlegend": false,
         "type": "scatter3d",
         "x": [
          464.17406966993326,
          456.587215882147
         ],
         "y": [
          -474.8090159865007,
          -476.90331207318275
         ],
         "z": [
          363.1911370803556,
          364.62416656507014
         ]
        },
        {
         "line": {
          "color": "rgba(255, 152, 150, 0.8)",
          "width": 4
         },
         "mode": "lines",
         "showlegend": false,
         "type": "scatter3d",
         "x": [
          456.587215882147,
          454.1404642355935
         ],
         "y": [
          -476.90331207318275,
          -476.0573226692473
         ],
         "z": [
          364.62416656507014,
          352.90675608713104
         ]
        },
        {
         "color": "rgba(197, 176, 213, 0.8)",
         "name": "P6",
         "opacity": 0.8,
         "type": "mesh3d",
         "x": [
          456.5903520150091,
          463.1316320365641,
          459.7558439667298,
          453.2145639451748
         ],
         "y": [
          -472.0025772175716,
          -469.44633542223994,
          -475.4942975115708,
          -478.05053930690246
         ],
         "z": [
          351.30259713512777,
          355.1336914387706,
          364.9329878152244,
          361.1018935115816
         ]
        },
        {
         "marker": {
          "color": "red",
          "size": 3
         },
         "mode": "markers+text",
         "showlegend": false,
         "text": "P5",
         "textfont": {
          "size": 12
         },
         "textposition": "top center",
         "type": "scatter3d",
         "x": [
          458.17309799086945
         ],
         "y": [
          -473.7484373645712
         ],
         "z": [
          358.1177924751761
         ]
        },
        {
         "line": {
          "color": "rgba(197, 176, 213, 0.8)",
          "width": 4
         },
         "mode": "lines",
         "showlegend": false,
         "type": "scatter3d",
         "x": [
          456.5903520150091,
          463.1316320365641
         ],
         "y": [
          -472.0025772175716,
          -469.44633542223994
         ],
         "z": [
          351.30259713512777,
          355.1336914387706
         ]
        },
        {
         "line": {
          "color": "rgba(197, 176, 213, 0.8)",
          "width": 4
         },
         "mode": "lines",
         "showlegend": false,
         "type": "scatter3d",
         "x": [
          463.1316320365641,
          459.7558439667298
         ],
         "y": [
          -469.44633542223994,
          -475.4942975115708
         ],
         "z": [
          355.1336914387706,
          364.9329878152244
         ]
        },
        {
         "line": {
          "color": "rgba(197, 176, 213, 0.8)",
          "width": 4
         },
         "mode": "lines",
         "showlegend": false,
         "type": "scatter3d",
         "x": [
          459.7558439667298,
          453.2145639451748
         ],
         "y": [
          -475.4942975115708,
          -478.05053930690246
         ],
         "z": [
          364.9329878152244,
          361.1018935115816
         ]
        },
        {
         "line": {
          "color": "rgba(197, 176, 213, 0.8)",
          "width": 4
         },
         "mode": "lines",
         "showlegend": false,
         "type": "scatter3d",
         "x": [
          453.2145639451748,
          456.5903520150091
         ],
         "y": [
          -478.05053930690246,
          -472.0025772175716
         ],
         "z": [
          361.1018935115816,
          351.30259713512777
         ]
        },
        {
         "color": "rgba(140, 86, 75, 0.8)",
         "name": "P7",
         "opacity": 0.8,
         "type": "mesh3d",
         "x": [
          454.3954651519477,
          461.7628247404848,
          459.6872791956667,
          452.3199196071296
         ],
         "y": [
          -476.0240654874437,
          -472.90689253623214,
          -468.2538274437093,
          -471.3710003949209
         ],
         "z": [
          353.89344309878885,
          353.96586882228917,
          364.8305407426065,
          364.7581150191062
         ]
        },
        {
         "marker": {
          "color": "red",
          "size": 3
         },
         "mode": "markers+text",
         "showlegend": false,
         "text": "P6",
         "textfont": {
          "size": 12
         },
         "textposition": "top center",
         "type": "scatter3d",
         "x": [
          457.0413721738072
         ],
         "y": [
          -472.1389464655765
         ],
         "z": [
          359.3619919206976
         ]
        },
        {
         "line": {
          "color": "rgba(140, 86, 75, 0.8)",
          "width": 4
         },
         "mode": "lines",
         "showlegend": false,
         "type": "scatter3d",
         "x": [
          454.3954651519477,
          461.7628247404848
         ],
         "y": [
          -476.0240654874437,
          -472.90689253623214
         ],
         "z": [
          353.89344309878885,
          353.96586882228917
         ]
        },
        {
         "line": {
          "color": "rgba(140, 86, 75, 0.8)",
          "width": 4
         },
         "mode": "lines",
         "showlegend": false,
         "type": "scatter3d",
         "x": [
          461.7628247404848,
          459.6872791956667
         ],
         "y": [
          -472.90689253623214,
          -468.2538274437093
         ],
         "z": [
          353.96586882228917,
          364.8305407426065
         ]
        },
        {
         "line": {
          "color": "rgba(140, 86, 75, 0.8)",
          "width": 4
         },
         "mode": "lines",
         "showlegend": false,
         "type": "scatter3d",
         "x": [
          459.6872791956667,
          452.3199196071296
         ],
         "y": [
          -468.2538274437093,
          -471.3710003949209
         ],
         "z": [
          364.8305407426065,
          364.7581150191062
         ]
        },
        {
         "line": {
          "color": "rgba(140, 86, 75, 0.8)",
          "width": 4
         },
         "mode": "lines",
         "showlegend": false,
         "type": "scatter3d",
         "x": [
          452.3199196071296,
          454.3954651519477
         ],
         "y": [
          -471.3710003949209,
          -476.0240654874437
         ],
         "z": [
          364.7581150191062,
          353.89344309878885
         ]
        },
        {
         "color": "rgba(227, 119, 194, 0.8)",
         "name": "P8",
         "opacity": 0.8,
         "type": "mesh3d",
         "x": [
          449.33227259707775,
          456.2739345867115,
          461.44175781893654,
          454.5000958293028
         ],
         "y": [
          -471.0052320220776,
          -468.04793977291683,
          -470.7502712293432,
          -473.70756347850397
         ],
         "z": [
          354.56906574690225,
          351.91054146175327,
          362.3982012455222,
          365.0567255306712
         ]
        },
        {
         "marker": {
          "color": "red",
          "size": 3
         },
         "mode": "markers+text",
         "showlegend": false,
         "text": "P7",
         "textfont": {
          "size": 12
         },
         "textposition": "top center",
         "type": "scatter3d",
         "x": [
          455.38701520800714
         ],
         "y": [
          -470.8777516257104
         ],
         "z": [
          358.48363349621224
         ]
        },
        {
         "line": {
          "color": "rgba(227, 119, 194, 0.8)",
          "width": 4
         },
         "mode": "lines",
         "showlegend": false,
         "type": "scatter3d",
         "x": [
          449.33227259707775,
          456.2739345867115
         ],
         "y": [
          -471.0052320220776,
          -468.04793977291683
         ],
         "z": [
          354.56906574690225,
          351.91054146175327
         ]
        },
        {
         "line": {
          "color": "rgba(227, 119, 194, 0.8)",
          "width": 4
         },
         "mode": "lines",
         "showlegend": false,
         "type": "scatter3d",
         "x": [
          456.2739345867115,
          461.44175781893654
         ],
         "y": [
          -468.04793977291683,
          -470.7502712293432
         ],
         "z": [
          351.91054146175327,
          362.3982012455222
         ]
        },
        {
         "line": {
          "color": "rgba(227, 119, 194, 0.8)",
          "width": 4
         },
         "mode": "lines",
         "showlegend": false,
         "type": "scatter3d",
         "x": [
          461.44175781893654,
          454.5000958293028
         ],
         "y": [
          -470.7502712293432,
          -473.70756347850397
         ],
         "z": [
          362.3982012455222,
          365.0567255306712
         ]
        },
        {
         "line": {
          "color": "rgba(227, 119, 194, 0.8)",
          "width": 4
         },
         "mode": "lines",
         "showlegend": false,
         "type": "scatter3d",
         "x": [
          454.5000958293028,
          449.33227259707775
         ],
         "y": [
          -473.70756347850397,
          -471.0052320220776
         ],
         "z": [
          365.0567255306712,
          354.56906574690225
         ]
        },
        {
         "color": "rgba(127, 127, 127, 0.8)",
         "name": "P9",
         "opacity": 0.8,
         "type": "mesh3d",
         "x": [
          453.134224431828,
          460.0688092168049,
          454.35948206688306,
          447.42489728190617
         ],
         "y": [
          -474.2629560241029,
          -471.0729027712946,
          -465.29067899502604,
          -468.48073224783434
         ],
         "z": [
          353.1199766364285,
          355.5147822870428,
          364.3448146593685,
          361.9500090087542
         ]
        },
        {
         "marker": {
          "color": "red",
          "size": 3
         },
         "mode": "markers+text",
         "showlegend": false,
         "text": "P8",
         "textfont": {
          "size": 12
         },
         "textposition": "top center",
         "type": "scatter3d",
         "x": [
          453.7468532493555
         ],
         "y": [
          -469.77681750956447
         ],
         "z": [
          358.7323956478985
         ]
        },
        {
         "line": {
          "color": "rgba(127, 127, 127, 0.8)",
          "width": 4
         },
         "mode": "lines",
         "showlegend": false,
         "type": "scatter3d",
         "x": [
          453.134224431828,
          460.0688092168049
         ],
         "y": [
          -474.2629560241029,
          -471.0729027712946
         ],
         "z": [
          353.1199766364285,
          355.5147822870428
         ]
        },
        {
         "line": {
          "color": "rgba(127, 127, 127, 0.8)",
          "width": 4
         },
         "mode": "lines",
         "showlegend": false,
         "type": "scatter3d",
         "x": [
          460.0688092168049,
          454.35948206688306
         ],
         "y": [
          -471.0729027712946,
          -465.29067899502604
         ],
         "z": [
          355.5147822870428,
          364.3448146593685
         ]
        },
        {
         "line": {
          "color": "rgba(127, 127, 127, 0.8)",
          "width": 4
         },
         "mode": "lines",
         "showlegend": false,
         "type": "scatter3d",
         "x": [
          454.35948206688306,
          447.42489728190617
         ],
         "y": [
          -465.29067899502604,
          -468.48073224783434
         ],
         "z": [
          364.3448146593685,
          361.9500090087542
         ]
        },
        {
         "line": {
          "color": "rgba(127, 127, 127, 0.8)",
          "width": 4
         },
         "mode": "lines",
         "showlegend": false,
         "type": "scatter3d",
         "x": [
          447.42489728190617,
          453.134224431828
         ],
         "y": [
          -468.48073224783434,
          -474.2629560241029
         ],
         "z": [
          361.9500090087542,
          353.1199766364285
         ]
        },
        {
         "color": "rgba(188, 189, 34, 0.8)",
         "name": "P10",
         "opacity": 0.8,
         "type": "mesh3d",
         "x": [
          451.46687447659616,
          458.29851963602147,
          452.0929317107545,
          445.2612865513292
         ],
         "y": [
          -474.2256400018251,
          -471.1012545997429,
          -464.3373812962865,
          -467.4617666983687
         ],
         "z": [
          352.7451461643162,
          355.4959351920238,
          363.2251457879754,
          360.4743567602678
         ]
        },
        {
         "marker": {
          "color": "red",
          "size": 3
         },
         "mode": "markers+text",
         "showlegend": false,
         "text": "P9",
         "textfont": {
          "size": 12
         },
         "textposition": "top center",
         "type": "scatter3d",
         "x": [
          451.77990309367533
         ],
         "y": [
          -469.2815106490558
         ],
         "z": [
          357.98514597614576
         ]
        },
        {
         "line": {
          "color": "rgba(188, 189, 34, 0.8)",
          "width": 4
         },
         "mode": "lines",
         "showlegend": false,
         "type": "scatter3d",
         "x": [
          451.46687447659616,
          458.29851963602147
         ],
         "y": [
          -474.2256400018251,
          -471.1012545997429
         ],
         "z": [
          352.7451461643162,
          355.4959351920238
         ]
        },
        {
         "line": {
          "color": "rgba(188, 189, 34, 0.8)",
          "width": 4
         },
         "mode": "lines",
         "showlegend": false,
         "type": "scatter3d",
         "x": [
          458.29851963602147,
          452.0929317107545
         ],
         "y": [
          -471.1012545997429,
          -464.3373812962865
         ],
         "z": [
          355.4959351920238,
          363.2251457879754
         ]
        },
        {
         "line": {
          "color": "rgba(188, 189, 34, 0.8)",
          "width": 4
         },
         "mode": "lines",
         "showlegend": false,
         "type": "scatter3d",
         "x": [
          452.0929317107545,
          445.2612865513292
         ],
         "y": [
          -464.3373812962865,
          -467.4617666983687
         ],
         "z": [
          363.2251457879754,
          360.4743567602678
         ]
        },
        {
         "line": {
          "color": "rgba(188, 189, 34, 0.8)",
          "width": 4
         },
         "mode": "lines",
         "showlegend": false,
         "type": "scatter3d",
         "x": [
          445.2612865513292,
          451.46687447659616
         ],
         "y": [
          -467.4617666983687,
          -474.2256400018251
         ],
         "z": [
          360.4743567602678,
          352.7451461643162
         ]
        },
        {
         "color": "rgba(23, 190, 207, 0.8)",
         "name": "P11",
         "opacity": 0.8,
         "type": "mesh3d",
         "x": [
          445.757125865033,
          453.7533740683404,
          453.89137434969507,
          445.89512614638767
         ],
         "y": [
          -475.07911322911485,
          -475.1710663182073,
          -463.17185985939574,
          -463.0799067703033
         ],
         "z": [
          357.35138613056057,
          357.1243193991591,
          357.1248496454511,
          357.35191637685256
         ]
        },
        {
         "marker": {
          "color": "red",
          "size": 3
         },
         "mode": "markers+text",
         "showlegend": false,
         "text": "",
         "textfont": {
          "size": 12
         },
         "textposition": "top center",
         "type": "scatter3d",
         "x": [
          449.82425010736404
         ],
         "y": [
          -469.1254865442553
         ],
         "z": [
          357.23811788800583
         ]
        },
        {
         "line": {
          "color": "rgba(23, 190, 207, 0.8)",
          "width": 4
         },
         "mode": "lines",
         "showlegend": false,
         "type": "scatter3d",
         "x": [
          445.757125865033,
          453.7533740683404
         ],
         "y": [
          -475.07911322911485,
          -475.1710663182073
         ],
         "z": [
          357.35138613056057,
          357.1243193991591
         ]
        },
        {
         "line": {
          "color": "rgba(23, 190, 207, 0.8)",
          "width": 4
         },
         "mode": "lines",
         "showlegend": false,
         "type": "scatter3d",
         "x": [
          453.7533740683404,
          453.89137434969507
         ],
         "y": [
          -475.1710663182073,
          -463.17185985939574
         ],
         "z": [
          357.1243193991591,
          357.1248496454511
         ]
        },
        {
         "line": {
          "color": "rgba(23, 190, 207, 0.8)",
          "width": 4
         },
         "mode": "lines",
         "showlegend": false,
         "type": "scatter3d",
         "x": [
          453.89137434969507,
          445.89512614638767
         ],
         "y": [
          -463.17185985939574,
          -463.0799067703033
         ],
         "z": [
          357.1248496454511,
          357.35191637685256
         ]
        },
        {
         "line": {
          "color": "rgba(23, 190, 207, 0.8)",
          "width": 4
         },
         "mode": "lines",
         "showlegend": false,
         "type": "scatter3d",
         "x": [
          445.89512614638767,
          445.757125865033
         ],
         "y": [
          -463.0799067703033,
          -475.07911322911485
         ],
         "z": [
          357.35191637685256,
          357.35138613056057
         ]
        },
        {
         "line": {
          "color": "black",
          "width": 2
         },
         "mode": "lines",
         "name": "Berechnete Hakenlinie",
         "type": "scatter3d",
         "x": {
          "bdata": "1qDfDnvbfEC0SD7Rctp8QHSKmeJlz3xAdnUKf0PCfEDELVoqhLJ8QJocZgLFonxAdlfedamQfEAg19s2MXZ8QEuOZBzzW3xAKJaqe3o8fECmbeEgMB18QA==",
          "dtype": "f8"
         },
         "y": {
          "bdata": "HifWJmYIfsD1Q8r9Zgl+wOyS+d4h7n3AvOcp1TbTfcCWDfZC7rZ9wAE/dZn5m33AvNjtHzmCfcD+5klFC259wKJoMthtXH3AunJPEYFUfcCiui3+AVJ9wA==",
          "dtype": "f8"
         },
         "z": {
          "bdata": "WokbCaR2dkC+g9vs5XB2QG7oEU/sXnZAPR1Wi5RfdkDahjZ8yGB2QIrJXHriYXZAAE0KuMp1dkC1F3r2vGd2QE+3f+S3a3ZAUFVtKMNfdkA+2bNUz1N2QA==",
          "dtype": "f8"
         }
        },
        {
         "mode": "text",
         "showlegend": false,
         "text": [
          "Pre-Position"
         ],
         "textfont": {
          "size": 10
         },
         "textposition": "top center",
         "type": "scatter3d",
         "x": [
          461.71754348139564
         ],
         "y": [
          -480.5249393811554
         ],
         "z": [
          359.4150477481504
         ]
        },
        {
         "mode": "text",
         "showlegend": false,
         "text": [
          "Loslassen"
         ],
         "textfont": {
          "size": 10
         },
         "textposition": "top center",
         "type": "scatter3d",
         "x": [
          449.82425010736404
         ],
         "y": [
          -469.1254865442553
         ],
         "z": [
          357.23811788800583
         ]
        },
        {
         "color": "rgba(0,255,0,0.2)",
         "name": "optimale Trajektorie",
         "opacity": 0.8,
         "type": "mesh3d",
         "x": [
          457.9728647764701,
          465.64917837496046,
          465.46222221419424,
          457.7859086157039
         ],
         "y": [
          -481.5626078337671,
          -479.31513246011025,
          -479.48727086712455,
          -481.7347462407814
         ],
         "z": [
          353.3404601752966,
          353.49232848152855,
          365.4896371698462,
          365.33776886361426
         ]
        },
        {
         "line": {
          "color": "rgba(0,255,0,0.2)",
          "width": 3
         },
         "mode": "lines",
         "showlegend": false,
         "type": "scatter3d",
         "x": [
          457.9728647764701,
          465.64917837496046
         ],
         "y": [
          -481.5626078337671,
          -479.31513246011025
         ],
         "z": [
          353.3404601752966,
          353.49232848152855
         ]
        },
        {
         "line": {
          "color": "rgba(0,255,0,0.2)",
          "width": 3
         },
         "mode": "lines",
         "showlegend": false,
         "type": "scatter3d",
         "x": [
          465.64917837496046,
          465.46222221419424
         ],
         "y": [
          -479.31513246011025,
          -479.48727086712455
         ],
         "z": [
          353.49232848152855,
          365.4896371698462
         ]
        },
        {
         "line": {
          "color": "rgba(0,255,0,0.2)",
          "width": 3
         },
         "mode": "lines",
         "showlegend": false,
         "type": "scatter3d",
         "x": [
          465.46222221419424,
          457.7859086157039
         ],
         "y": [
          -479.48727086712455,
          -481.7347462407814
         ],
         "z": [
          365.4896371698462,
          365.33776886361426
         ]
        },
        {
         "line": {
          "color": "rgba(0,255,0,0.2)",
          "width": 3
         },
         "mode": "lines",
         "showlegend": false,
         "type": "scatter3d",
         "x": [
          457.7859086157039,
          457.9728647764701
         ],
         "y": [
          -481.7347462407814,
          -481.5626078337671
         ],
         "z": [
          365.33776886361426,
          353.3404601752966
         ]
        },
        {
         "marker": {
          "color": "green",
          "size": 4
         },
         "mode": "markers",
         "name": "Mitte P11",
         "showlegend": false,
         "type": "scatter3d",
         "x": [
          461.71754349533217
         ],
         "y": [
          -480.52493935044583
         ],
         "z": [
          359.4150486725714
         ]
        },
        {
         "color": "rgba(0,255,0,0.2)",
         "name": "optimale Trajektorie",
         "opacity": 0.8,
         "type": "mesh3d",
         "x": [
          458.11453956029294,
          465.4127135219074,
          464.3018539993714,
          457.00368003775696
         ],
         "y": [
          -479.04316042627704,
          -475.88979061961993,
          -476.6853703165506,
          -479.8387401232077
         ],
         "z": [
          353.1194192150149,
          354.009877349054,
          365.9318337349423,
          365.04137560090317
         ]
        },
        {
         "line": {
          "color": "rgba(0,255,0,0.2)",
          "width": 3
         },
         "mode": "lines",
         "showlegend": false,
         "type": "scatter3d",
         "x": [
          458.11453956029294,
          465.4127135219074
         ],
         "y": [
          -479.04316042627704,
          -475.88979061961993
         ],
         "z": [
          353.1194192150149,
          354.009877349054
         ]
        },
        {
         "line": {
          "color": "rgba(0,255,0,0.2)",
          "width": 3
         },
         "mode": "lines",
         "showlegend": false,
         "type": "scatter3d",
         "x": [
          465.4127135219074,
          464.3018539993714
         ],
         "y": [
          -475.88979061961993,
          -476.6853703165506
         ],
         "z": [
          354.009877349054,
          365.9318337349423
         ]
        },
        {
         "line": {
          "color": "rgba(0,255,0,0.2)",
          "width": 3
         },
         "mode": "lines",
         "showlegend": false,
         "type": "scatter3d",
         "x": [
          464.3018539993714,
          457.00368003775696
         ],
         "y": [
          -476.6853703165506,
          -479.8387401232077
         ],
         "z": [
          365.9318337349423,
          365.04137560090317
         ]
        },
        {
         "line": {
          "color": "rgba(0,255,0,0.2)",
          "width": 3
         },
         "mode": "lines",
         "showlegend": false,
         "type": "scatter3d",
         "x": [
          457.00368003775696,
          458.11453956029294
         ],
         "y": [
          -479.8387401232077,
          -479.04316042627704
         ],
         "z": [
          365.04137560090317,
          353.1194192150149
         ]
        },
        {
         "marker": {
          "color": "green",
          "size": 4
         },
         "mode": "markers",
         "name": "Mitte P11",
         "showlegend": false,
         "type": "scatter3d",
         "x": [
          461.2081967798322
         ],
         "y": [
          -477.8642653714138
         ],
         "z": [
          359.5256264749786
         ]
        },
        {
         "color": "rgba(0,255,0,0.2)",
         "name": "optimale Trajektorie",
         "opacity": 0.8,
         "type": "mesh3d",
         "x": [
          455.76403845186644,
          462.6464074337826,
          461.4547772323044,
          454.57240825038826
         ],
         "y": [
          -472.84438133485787,
          -468.88200167015475,
          -469.7152326647216,
          -473.67761232942473
         ],
         "z": [
          353.1955241205882,
          354.16120760367426,
          366.07278783354377,
          365.1071043504577
         ]
        },
        {
         "line": {
          "color": "rgba(0,255,0,0.2)",
          "width": 3
         },
         "mode": "lines",
         "showlegend": false,
         "type": "scatter3d",
         "x": [
          455.76403845186644,
          462.6464074337826
         ],
         "y": [
          -472.84438133485787,
          -468.88200167015475
         ],
         "z": [
          353.1955241205882,
          354.16120760367426
         ]
        },
        {
         "line": {
          "color": "rgba(0,255,0,0.2)",
          "width": 3
         },
         "mode": "lines",
         "showlegend": false,
         "type": "scatter3d",
         "x": [
          462.6464074337826,
          461.4547772323044
         ],
         "y": [
          -468.88200167015475,
          -469.7152326647216
         ],
         "z": [
          354.16120760367426,
          366.07278783354377
         ]
        },
        {
         "line": {
          "color": "rgba(0,255,0,0.2)",
          "width": 3
         },
         "mode": "lines",
         "showlegend": false,
         "type": "scatter3d",
         "x": [
          461.4547772323044,
          454.57240825038826
         ],
         "y": [
          -469.7152326647216,
          -473.67761232942473
         ],
         "z": [
          366.07278783354377,
          365.1071043504577
         ]
        },
        {
         "line": {
          "color": "rgba(0,255,0,0.2)",
          "width": 3
         },
         "mode": "lines",
         "showlegend": false,
         "type": "scatter3d",
         "x": [
          454.57240825038826,
          455.76403845186644
         ],
         "y": [
          -473.67761232942473,
          -472.84438133485787
         ],
         "z": [
          365.1071043504577,
          353.1955241205882
         ]
        },
        {
         "marker": {
          "color": "green",
          "size": 4
         },
         "mode": "markers",
         "name": "Mitte P11",
         "showlegend": false,
         "type": "scatter3d",
         "x": [
          458.60940784208543
         ],
         "y": [
          -471.2798069997898
         ],
         "z": [
          359.6341559770659
         ]
        },
        {
         "color": "rgba(0,255,0,0.2)",
         "name": "optimale Trajektorie",
         "opacity": 0.8,
         "type": "mesh3d",
         "x": [
          452.1742861490474,
          457.11534483095204,
          455.8096257511067,
          450.8685670692021
         ],
         "y": [
          -469.779821443829,
          -463.6005682503875,
          -464.8306978143133,
          -471.0099510077548
         ],
         "z": [
          352.5171802743569,
          353.70156579998513,
          365.5667197787788,
          364.3823342531506
         ]
        },
        {
         "line": {
          "color": "rgba(0,255,0,0.2)",
          "width": 3
         },
         "mode": "lines",
         "showlegend": false,
         "type": "scatter3d",
         "x": [
          452.1742861490474,
          457.11534483095204
         ],
         "y": [
          -469.779821443829,
          -463.6005682503875
         ],
         "z": [
          352.5171802743569,
          353.70156579998513
         ]
        },
        {
         "line": {
          "color": "rgba(0,255,0,0.2)",
          "width": 3
         },
         "mode": "lines",
         "showlegend": false,
         "type": "scatter3d",
         "x": [
          457.11534483095204,
          455.8096257511067
         ],
         "y": [
          -463.6005682503875,
          -464.8306978143133
         ],
         "z": [
          353.70156579998513,
          365.5667197787788
         ]
        },
        {
         "line": {
          "color": "rgba(0,255,0,0.2)",
          "width": 3
         },
         "mode": "lines",
         "showlegend": false,
         "type": "scatter3d",
         "x": [
          455.8096257511067,
          450.8685670692021
         ],
         "y": [
          -464.8306978143133,
          -471.0099510077548
         ],
         "z": [
          365.5667197787788,
          364.3823342531506
         ]
        },
        {
         "line": {
          "color": "rgba(0,255,0,0.2)",
          "width": 3
         },
         "mode": "lines",
         "showlegend": false,
         "type": "scatter3d",
         "x": [
          450.8685670692021,
          452.1742861490474
         ],
         "y": [
          -471.0099510077548,
          -469.779821443829
         ],
         "z": [
          364.3823342531506,
          352.5171802743569
         ]
        },
        {
         "marker": {
          "color": "green",
          "size": 4
         },
         "mode": "markers",
         "name": "Mitte P11",
         "showlegend": false,
         "type": "scatter3d",
         "x": [
          453.99195595007706
         ],
         "y": [
          -467.30525962907114
         ],
         "z": [
          359.04195002656786
         ]
        },
        {
         "color": "rgba(0,255,0,0.2)",
         "name": "optimale Trajektorie",
         "opacity": 0.8,
         "type": "mesh3d",
         "x": [
          449.69759242352484,
          451.2017300236709,
          447.74560100101235,
          446.2414634008663
         ],
         "y": [
          -468.0681933297913,
          -460.723410358206,
          -464.1806268335184,
          -471.52540980510366
         ],
         "z": [
          354.28893876274583,
          357.080306380982,
          368.03944988864566,
          365.2480822704095
         ]
        },
        {
         "line": {
          "color": "rgba(0,255,0,0.2)",
          "width": 3
         },
         "mode": "lines",
         "showlegend": false,
         "type": "scatter3d",
         "x": [
          449.69759242352484,
          451.2017300236709
         ],
         "y": [
          -468.0681933297913,
          -460.723410358206
         ],
         "z": [
          354.28893876274583,
          357.080306380982
         ]
        },
        {
         "line": {
          "color": "rgba(0,255,0,0.2)",
          "width": 3
         },
         "mode": "lines",
         "showlegend": false,
         "type": "scatter3d",
         "x": [
          451.2017300236709,
          447.74560100101235
         ],
         "y": [
          -460.723410358206,
          -464.1806268335184
         ],
         "z": [
          357.080306380982,
          368.03944988864566
         ]
        },
        {
         "line": {
          "color": "rgba(0,255,0,0.2)",
          "width": 3
         },
         "mode": "lines",
         "showlegend": false,
         "type": "scatter3d",
         "x": [
          447.74560100101235,
          446.2414634008663
         ],
         "y": [
          -464.1806268335184,
          -471.52540980510366
         ],
         "z": [
          368.03944988864566,
          365.2480822704095
         ]
        },
        {
         "line": {
          "color": "rgba(0,255,0,0.2)",
          "width": 3
         },
         "mode": "lines",
         "showlegend": false,
         "type": "scatter3d",
         "x": [
          446.2414634008663,
          449.69759242352484
         ],
         "y": [
          -471.52540980510366,
          -468.0681933297913
         ],
         "z": [
          365.2480822704095,
          354.28893876274583
         ]
        },
        {
         "marker": {
          "color": "green",
          "size": 4
         },
         "mode": "markers",
         "name": "Mitte P11",
         "showlegend": false,
         "type": "scatter3d",
         "x": [
          448.7215967122686
         ],
         "y": [
          -466.12441008165484
         ],
         "z": [
          361.16419432569575
         ]
        },
        {
         "line": {
          "color": "green",
          "width": 2
         },
         "mode": "lines",
         "name": "Optimale Hakenlinie",
         "type": "scatter3d",
         "x": {
          "bdata": "jF7jDnvbfEAwiCXGVNN8QO36byLAqXxAdcozDd9ffECEgf6oiwt8QA==",
          "dtype": "f8"
         },
         "y": {
          "bdata": "xujNJmYIfsCaFO0H1N19wKCU5xZ6dH3AZbrrV+I0fcABAG2V/SF9wA==",
          "dtype": "f8"
         },
         "z": {
          "bdata": "FK8TCqR2dkAef073aHh2QPrgvIAlenZAzoLK06twdkDVsDqKoJJ2QA==",
          "dtype": "f8"
         }
        },
        {
         "line": {
          "color": "gray",
          "dash": "dash"
         },
         "mode": "lines",
         "name": "Direkte Gerade Spitze -> Senke",
         "type": "scatter3d",
         "x": [
          461.6530315812081,
          449.82425010736404
         ],
         "y": [
          -480.5876443768496,
          -469.1254865442553
         ],
         "z": [
          359.05613408801935,
          357.23811788800583
         ]
        },
        {
         "marker": {
          "color": "magenta",
          "size": 8
         },
         "mode": "markers",
         "name": "Spitze",
         "type": "scatter3d",
         "x": [
          461.6530315812081
         ],
         "y": [
          -480.5876443768496
         ],
         "z": [
          359.05613408801935
         ]
        },
        {
         "marker": {
          "color": "magenta",
          "size": 8
         },
         "mode": "markers",
         "name": "Senke",
         "type": "scatter3d",
         "x": [
          449.82425010736404
         ],
         "y": [
          -469.1254865442553
         ],
         "z": [
          357.23811788800583
         ]
        },
        {
         "mode": "text",
         "showlegend": false,
         "text": [
          "Spitze"
         ],
         "textfont": {
          "size": 10
         },
         "textposition": "top center",
         "type": "scatter3d",
         "x": [
          461.6530315812081
         ],
         "y": [
          -480.5876443768496
         ],
         "z": [
          359.05613408801935
         ]
        },
        {
         "mode": "text",
         "showlegend": false,
         "text": [
          "Senke"
         ],
         "textfont": {
          "size": 10
         },
         "textposition": "top center",
         "type": "scatter3d",
         "x": [
          449.82425010736404
         ],
         "y": [
          -469.1254865442553
         ],
         "z": [
          357.23811788800583
         ]
        }
       ],
       "layout": {
        "legend": {
         "title": {
          "text": "Legende"
         }
        },
        "scene": {
         "aspectmode": "cube",
         "camera": {
          "eye": {
           "x": -1,
           "y": -1,
           "z": -1.5
          },
          "up": {
           "x": 0,
           "y": -1,
           "z": 0
          }
         },
         "xaxis": {
          "title": {
           "text": "X"
          }
         },
         "yaxis": {
          "title": {
           "text": "Y"
          }
         },
         "zaxis": {
          "title": {
           "text": "Z"
          }
         }
        },
        "template": {
         "data": {
          "bar": [
           {
            "error_x": {
             "color": "#2a3f5f"
            },
            "error_y": {
             "color": "#2a3f5f"
            },
            "marker": {
             "line": {
              "color": "#E5ECF6",
              "width": 0.5
             },
             "pattern": {
              "fillmode": "overlay",
              "size": 10,
              "solidity": 0.2
             }
            },
            "type": "bar"
           }
          ],
          "barpolar": [
           {
            "marker": {
             "line": {
              "color": "#E5ECF6",
              "width": 0.5
             },
             "pattern": {
              "fillmode": "overlay",
              "size": 10,
              "solidity": 0.2
             }
            },
            "type": "barpolar"
           }
          ],
          "carpet": [
           {
            "aaxis": {
             "endlinecolor": "#2a3f5f",
             "gridcolor": "white",
             "linecolor": "white",
             "minorgridcolor": "white",
             "startlinecolor": "#2a3f5f"
            },
            "baxis": {
             "endlinecolor": "#2a3f5f",
             "gridcolor": "white",
             "linecolor": "white",
             "minorgridcolor": "white",
             "startlinecolor": "#2a3f5f"
            },
            "type": "carpet"
           }
          ],
          "choropleth": [
           {
            "colorbar": {
             "outlinewidth": 0,
             "ticks": ""
            },
            "type": "choropleth"
           }
          ],
          "contour": [
           {
            "colorbar": {
             "outlinewidth": 0,
             "ticks": ""
            },
            "colorscale": [
             [
              0,
              "#0d0887"
             ],
             [
              0.1111111111111111,
              "#46039f"
             ],
             [
              0.2222222222222222,
              "#7201a8"
             ],
             [
              0.3333333333333333,
              "#9c179e"
             ],
             [
              0.4444444444444444,
              "#bd3786"
             ],
             [
              0.5555555555555556,
              "#d8576b"
             ],
             [
              0.6666666666666666,
              "#ed7953"
             ],
             [
              0.7777777777777778,
              "#fb9f3a"
             ],
             [
              0.8888888888888888,
              "#fdca26"
             ],
             [
              1,
              "#f0f921"
             ]
            ],
            "type": "contour"
           }
          ],
          "contourcarpet": [
           {
            "colorbar": {
             "outlinewidth": 0,
             "ticks": ""
            },
            "type": "contourcarpet"
           }
          ],
          "heatmap": [
           {
            "colorbar": {
             "outlinewidth": 0,
             "ticks": ""
            },
            "colorscale": [
             [
              0,
              "#0d0887"
             ],
             [
              0.1111111111111111,
              "#46039f"
             ],
             [
              0.2222222222222222,
              "#7201a8"
             ],
             [
              0.3333333333333333,
              "#9c179e"
             ],
             [
              0.4444444444444444,
              "#bd3786"
             ],
             [
              0.5555555555555556,
              "#d8576b"
             ],
             [
              0.6666666666666666,
              "#ed7953"
             ],
             [
              0.7777777777777778,
              "#fb9f3a"
             ],
             [
              0.8888888888888888,
              "#fdca26"
             ],
             [
              1,
              "#f0f921"
             ]
            ],
            "type": "heatmap"
           }
          ],
          "histogram": [
           {
            "marker": {
             "pattern": {
              "fillmode": "overlay",
              "size": 10,
              "solidity": 0.2
             }
            },
            "type": "histogram"
           }
          ],
          "histogram2d": [
           {
            "colorbar": {
             "outlinewidth": 0,
             "ticks": ""
            },
            "colorscale": [
             [
              0,
              "#0d0887"
             ],
             [
              0.1111111111111111,
              "#46039f"
             ],
             [
              0.2222222222222222,
              "#7201a8"
             ],
             [
              0.3333333333333333,
              "#9c179e"
             ],
             [
              0.4444444444444444,
              "#bd3786"
             ],
             [
              0.5555555555555556,
              "#d8576b"
             ],
             [
              0.6666666666666666,
              "#ed7953"
             ],
             [
              0.7777777777777778,
              "#fb9f3a"
             ],
             [
              0.8888888888888888,
              "#fdca26"
             ],
             [
              1,
              "#f0f921"
             ]
            ],
            "type": "histogram2d"
           }
          ],
          "histogram2dcontour": [
           {
            "colorbar": {
             "outlinewidth": 0,
             "ticks": ""
            },
            "colorscale": [
             [
              0,
              "#0d0887"
             ],
             [
              0.1111111111111111,
              "#46039f"
             ],
             [
              0.2222222222222222,
              "#7201a8"
             ],
             [
              0.3333333333333333,
              "#9c179e"
             ],
             [
              0.4444444444444444,
              "#bd3786"
             ],
             [
              0.5555555555555556,
              "#d8576b"
             ],
             [
              0.6666666666666666,
              "#ed7953"
             ],
             [
              0.7777777777777778,
              "#fb9f3a"
             ],
             [
              0.8888888888888888,
              "#fdca26"
             ],
             [
              1,
              "#f0f921"
             ]
            ],
            "type": "histogram2dcontour"
           }
          ],
          "mesh3d": [
           {
            "colorbar": {
             "outlinewidth": 0,
             "ticks": ""
            },
            "type": "mesh3d"
           }
          ],
          "parcoords": [
           {
            "line": {
             "colorbar": {
              "outlinewidth": 0,
              "ticks": ""
             }
            },
            "type": "parcoords"
           }
          ],
          "pie": [
           {
            "automargin": true,
            "type": "pie"
           }
          ],
          "scatter": [
           {
            "fillpattern": {
             "fillmode": "overlay",
             "size": 10,
             "solidity": 0.2
            },
            "type": "scatter"
           }
          ],
          "scatter3d": [
           {
            "line": {
             "colorbar": {
              "outlinewidth": 0,
              "ticks": ""
             }
            },
            "marker": {
             "colorbar": {
              "outlinewidth": 0,
              "ticks": ""
             }
            },
            "type": "scatter3d"
           }
          ],
          "scattercarpet": [
           {
            "marker": {
             "colorbar": {
              "outlinewidth": 0,
              "ticks": ""
             }
            },
            "type": "scattercarpet"
           }
          ],
          "scattergeo": [
           {
            "marker": {
             "colorbar": {
              "outlinewidth": 0,
              "ticks": ""
             }
            },
            "type": "scattergeo"
           }
          ],
          "scattergl": [
           {
            "marker": {
             "colorbar": {
              "outlinewidth": 0,
              "ticks": ""
             }
            },
            "type": "scattergl"
           }
          ],
          "scattermap": [
           {
            "marker": {
             "colorbar": {
              "outlinewidth": 0,
              "ticks": ""
             }
            },
            "type": "scattermap"
           }
          ],
          "scattermapbox": [
           {
            "marker": {
             "colorbar": {
              "outlinewidth": 0,
              "ticks": ""
             }
            },
            "type": "scattermapbox"
           }
          ],
          "scatterpolar": [
           {
            "marker": {
             "colorbar": {
              "outlinewidth": 0,
              "ticks": ""
             }
            },
            "type": "scatterpolar"
           }
          ],
          "scatterpolargl": [
           {
            "marker": {
             "colorbar": {
              "outlinewidth": 0,
              "ticks": ""
             }
            },
            "type": "scatterpolargl"
           }
          ],
          "scatterternary": [
           {
            "marker": {
             "colorbar": {
              "outlinewidth": 0,
              "ticks": ""
             }
            },
            "type": "scatterternary"
           }
          ],
          "surface": [
           {
            "colorbar": {
             "outlinewidth": 0,
             "ticks": ""
            },
            "colorscale": [
             [
              0,
              "#0d0887"
             ],
             [
              0.1111111111111111,
              "#46039f"
             ],
             [
              0.2222222222222222,
              "#7201a8"
             ],
             [
              0.3333333333333333,
              "#9c179e"
             ],
             [
              0.4444444444444444,
              "#bd3786"
             ],
             [
              0.5555555555555556,
              "#d8576b"
             ],
             [
              0.6666666666666666,
              "#ed7953"
             ],
             [
              0.7777777777777778,
              "#fb9f3a"
             ],
             [
              0.8888888888888888,
              "#fdca26"
             ],
             [
              1,
              "#f0f921"
             ]
            ],
            "type": "surface"
           }
          ],
          "table": [
           {
            "cells": {
             "fill": {
              "color": "#EBF0F8"
             },
             "line": {
              "color": "white"
             }
            },
            "header": {
             "fill": {
              "color": "#C8D4E3"
             },
             "line": {
              "color": "white"
             }
            },
            "type": "table"
           }
          ]
         },
         "layout": {
          "annotationdefaults": {
           "arrowcolor": "#2a3f5f",
           "arrowhead": 0,
           "arrowwidth": 1
          },
          "autotypenumbers": "strict",
          "coloraxis": {
           "colorbar": {
            "outlinewidth": 0,
            "ticks": ""
           }
          },
          "colorscale": {
           "diverging": [
            [
             0,
             "#8e0152"
            ],
            [
             0.1,
             "#c51b7d"
            ],
            [
             0.2,
             "#de77ae"
            ],
            [
             0.3,
             "#f1b6da"
            ],
            [
             0.4,
             "#fde0ef"
            ],
            [
             0.5,
             "#f7f7f7"
            ],
            [
             0.6,
             "#e6f5d0"
            ],
            [
             0.7,
             "#b8e186"
            ],
            [
             0.8,
             "#7fbc41"
            ],
            [
             0.9,
             "#4d9221"
            ],
            [
             1,
             "#276419"
            ]
           ],
           "sequential": [
            [
             0,
             "#0d0887"
            ],
            [
             0.1111111111111111,
             "#46039f"
            ],
            [
             0.2222222222222222,
             "#7201a8"
            ],
            [
             0.3333333333333333,
             "#9c179e"
            ],
            [
             0.4444444444444444,
             "#bd3786"
            ],
            [
             0.5555555555555556,
             "#d8576b"
            ],
            [
             0.6666666666666666,
             "#ed7953"
            ],
            [
             0.7777777777777778,
             "#fb9f3a"
            ],
            [
             0.8888888888888888,
             "#fdca26"
            ],
            [
             1,
             "#f0f921"
            ]
           ],
           "sequentialminus": [
            [
             0,
             "#0d0887"
            ],
            [
             0.1111111111111111,
             "#46039f"
            ],
            [
             0.2222222222222222,
             "#7201a8"
            ],
            [
             0.3333333333333333,
             "#9c179e"
            ],
            [
             0.4444444444444444,
             "#bd3786"
            ],
            [
             0.5555555555555556,
             "#d8576b"
            ],
            [
             0.6666666666666666,
             "#ed7953"
            ],
            [
             0.7777777777777778,
             "#fb9f3a"
            ],
            [
             0.8888888888888888,
             "#fdca26"
            ],
            [
             1,
             "#f0f921"
            ]
           ]
          },
          "colorway": [
           "#636efa",
           "#EF553B",
           "#00cc96",
           "#ab63fa",
           "#FFA15A",
           "#19d3f3",
           "#FF6692",
           "#B6E880",
           "#FF97FF",
           "#FECB52"
          ],
          "font": {
           "color": "#2a3f5f"
          },
          "geo": {
           "bgcolor": "white",
           "lakecolor": "white",
           "landcolor": "#E5ECF6",
           "showlakes": true,
           "showland": true,
           "subunitcolor": "white"
          },
          "hoverlabel": {
           "align": "left"
          },
          "hovermode": "closest",
          "mapbox": {
           "style": "light"
          },
          "paper_bgcolor": "white",
          "plot_bgcolor": "#E5ECF6",
          "polar": {
           "angularaxis": {
            "gridcolor": "white",
            "linecolor": "white",
            "ticks": ""
           },
           "bgcolor": "#E5ECF6",
           "radialaxis": {
            "gridcolor": "white",
            "linecolor": "white",
            "ticks": ""
           }
          },
          "scene": {
           "xaxis": {
            "backgroundcolor": "#E5ECF6",
            "gridcolor": "white",
            "gridwidth": 2,
            "linecolor": "white",
            "showbackground": true,
            "ticks": "",
            "zerolinecolor": "white"
           },
           "yaxis": {
            "backgroundcolor": "#E5ECF6",
            "gridcolor": "white",
            "gridwidth": 2,
            "linecolor": "white",
            "showbackground": true,
            "ticks": "",
            "zerolinecolor": "white"
           },
           "zaxis": {
            "backgroundcolor": "#E5ECF6",
            "gridcolor": "white",
            "gridwidth": 2,
            "linecolor": "white",
            "showbackground": true,
            "ticks": "",
            "zerolinecolor": "white"
           }
          },
          "shapedefaults": {
           "line": {
            "color": "#2a3f5f"
           }
          },
          "ternary": {
           "aaxis": {
            "gridcolor": "white",
            "linecolor": "white",
            "ticks": ""
           },
           "baxis": {
            "gridcolor": "white",
            "linecolor": "white",
            "ticks": ""
           },
           "bgcolor": "#E5ECF6",
           "caxis": {
            "gridcolor": "white",
            "linecolor": "white",
            "ticks": ""
           }
          },
          "title": {
           "x": 0.05
          },
          "xaxis": {
           "automargin": true,
           "gridcolor": "white",
           "linecolor": "white",
           "ticks": "",
           "title": {
            "standoff": 15
           },
           "zerolinecolor": "white",
           "zerolinewidth": 2
          },
          "yaxis": {
           "automargin": true,
           "gridcolor": "white",
           "linecolor": "white",
           "ticks": "",
           "title": {
            "standoff": 15
           },
           "zerolinecolor": "white",
           "zerolinewidth": 2
          }
         }
        },
        "title": {
         "text": "Haken 9, Trajektorien-Ansatz 1"
        }
       }
      }
     },
     "metadata": {},
     "output_type": "display_data"
    },
    {
     "name": "stdout",
     "output_type": "stream",
     "text": [
      "HTML-Datei '/home/mo/Thesis/Evaluation/Trajektorientests/traj2.html' erfolgreich erstellt!\n"
     ]
    },
    {
     "data": {
      "application/vnd.plotly.v1+json": {
       "config": {
        "plotlyServerURL": "https://plot.ly"
       },
       "data": [
        {
         "color": "rgba(31, 119, 180, 0.8)",
         "name": "P1",
         "opacity": 0.8,
         "type": "mesh3d",
         "x": [
          460.41843357909323,
          467.5521839970809,
          463.01665338369804,
          455.8829029657104
         ],
         "y": [
          -482.6029071150918,
          -480.0531710780832,
          -478.44697164721896,
          -480.99670768422754
         ],
         "z": [
          352.63313330173787,
          355.2038240873909,
          366.19696219456296,
          363.62627140890993
         ]
        },
        {
         "marker": {
          "color": "red",
          "size": 3
         },
         "mode": "markers+text",
         "showlegend": false,
         "text": "",
         "textfont": {
          "size": 12
         },
         "textposition": "top center",
         "type": "scatter3d",
         "x": [
          461.71754348139564
         ],
         "y": [
          -480.5249393811554
         ],
         "z": [
          359.4150477481504
         ]
        },
        {
         "line": {
          "color": "rgba(31, 119, 180, 0.8)",
          "width": 4
         },
         "mode": "lines",
         "showlegend": false,
         "type": "scatter3d",
         "x": [
          460.41843357909323,
          467.5521839970809
         ],
         "y": [
          -482.6029071150918,
          -480.0531710780832
         ],
         "z": [
          352.63313330173787,
          355.2038240873909
         ]
        },
        {
         "line": {
          "color": "rgba(31, 119, 180, 0.8)",
          "width": 4
         },
         "mode": "lines",
         "showlegend": false,
         "type": "scatter3d",
         "x": [
          467.5521839970809,
          463.01665338369804
         ],
         "y": [
          -480.0531710780832,
          -478.44697164721896
         ],
         "z": [
          355.2038240873909,
          366.19696219456296
         ]
        },
        {
         "line": {
          "color": "rgba(31, 119, 180, 0.8)",
          "width": 4
         },
         "mode": "lines",
         "showlegend": false,
         "type": "scatter3d",
         "x": [
          463.01665338369804,
          455.8829029657104
         ],
         "y": [
          -478.44697164721896,
          -480.99670768422754
         ],
         "z": [
          366.19696219456296,
          363.62627140890993
         ]
        },
        {
         "line": {
          "color": "rgba(31, 119, 180, 0.8)",
          "width": 4
         },
         "mode": "lines",
         "showlegend": false,
         "type": "scatter3d",
         "x": [
          455.8829029657104,
          460.41843357909323
         ],
         "y": [
          -480.99670768422754,
          -482.6029071150918
         ],
         "z": [
          363.62627140890993,
          352.63313330173787
         ]
        },
        {
         "color": "rgba(174, 199, 232, 0.8)",
         "name": "P2",
         "opacity": 0.8,
         "type": "mesh3d",
         "x": [
          460.3539216789057,
          467.48767209689333,
          462.9521414835105,
          455.81839106552286
         ],
         "y": [
          -482.665612110786,
          -480.11587607377743,
          -478.5096766429132,
          -481.05941267992176
         ],
         "z": [
          352.2742196416068,
          354.84491042725983,
          365.8380485344319,
          363.26735774877886
         ]
        },
        {
         "marker": {
          "color": "red",
          "size": 3
         },
         "mode": "markers+text",
         "showlegend": false,
         "text": "",
         "textfont": {
          "size": 12
         },
         "textposition": "top center",
         "type": "scatter3d",
         "x": [
          461.6530315812081
         ],
         "y": [
          -480.5876443768496
         ],
         "z": [
          359.05613408801935
         ]
        },
        {
         "line": {
          "color": "rgba(174, 199, 232, 0.8)",
          "width": 4
         },
         "mode": "lines",
         "showlegend": false,
         "type": "scatter3d",
         "x": [
          460.3539216789057,
          467.48767209689333
         ],
         "y": [
          -482.665612110786,
          -480.11587607377743
         ],
         "z": [
          352.2742196416068,
          354.84491042725983
         ]
        },
        {
         "line": {
          "color": "rgba(174, 199, 232, 0.8)",
          "width": 4
         },
         "mode": "lines",
         "showlegend": false,
         "type": "scatter3d",
         "x": [
          467.48767209689333,
          462.9521414835105
         ],
         "y": [
          -480.11587607377743,
          -478.5096766429132
         ],
         "z": [
          354.84491042725983,
          365.8380485344319
         ]
        },
        {
         "line": {
          "color": "rgba(174, 199, 232, 0.8)",
          "width": 4
         },
         "mode": "lines",
         "showlegend": false,
         "type": "scatter3d",
         "x": [
          462.9521414835105,
          455.81839106552286
         ],
         "y": [
          -478.5096766429132,
          -481.05941267992176
         ],
         "z": [
          365.8380485344319,
          363.26735774877886
         ]
        },
        {
         "line": {
          "color": "rgba(174, 199, 232, 0.8)",
          "width": 4
         },
         "mode": "lines",
         "showlegend": false,
         "type": "scatter3d",
         "x": [
          455.81839106552286,
          460.3539216789057
         ],
         "y": [
          -481.05941267992176,
          -482.665612110786
         ],
         "z": [
          363.26735774877886,
          352.2742196416068
         ]
        },
        {
         "color": "rgba(255, 187, 120, 0.8)",
         "name": "P3",
         "opacity": 0.8,
         "type": "mesh3d",
         "x": [
          459.6632644032023,
          466.7970148211899,
          462.2614842078071,
          455.12773378981944
         ],
         "y": [
          -480.96123701999494,
          -478.41150098298635,
          -476.8053015521221,
          -479.3550375891307
         ],
         "z": [
          351.1507781480707,
          353.7214689337237,
          364.71460704089577,
          362.14391625524274
         ]
        },
        {
         "marker": {
          "color": "red",
          "size": 3
         },
         "mode": "markers+text",
         "showlegend": false,
         "text": "P2",
         "textfont": {
          "size": 12
         },
         "textposition": "top center",
         "type": "scatter3d",
         "x": [
          460.9623743055047
         ],
         "y": [
          -478.8832692860585
         ],
         "z": [
          357.9326925944832
         ]
        },
        {
         "line": {
          "color": "rgba(255, 187, 120, 0.8)",
          "width": 4
         },
         "mode": "lines",
         "showlegend": false,
         "type": "scatter3d",
         "x": [
          459.6632644032023,
          466.7970148211899
         ],
         "y": [
          -480.96123701999494,
          -478.41150098298635
         ],
         "z": [
          351.1507781480707,
          353.7214689337237
         ]
        },
        {
         "line": {
          "color": "rgba(255, 187, 120, 0.8)",
          "width": 4
         },
         "mode": "lines",
         "showlegend": false,
         "type": "scatter3d",
         "x": [
          466.7970148211899,
          462.2614842078071
         ],
         "y": [
          -478.41150098298635,
          -476.8053015521221
         ],
         "z": [
          353.7214689337237,
          364.71460704089577
         ]
        },
        {
         "line": {
          "color": "rgba(255, 187, 120, 0.8)",
          "width": 4
         },
         "mode": "lines",
         "showlegend": false,
         "type": "scatter3d",
         "x": [
          462.2614842078071,
          455.12773378981944
         ],
         "y": [
          -476.8053015521221,
          -479.3550375891307
         ],
         "z": [
          364.71460704089577,
          362.14391625524274
         ]
        },
        {
         "line": {
          "color": "rgba(255, 187, 120, 0.8)",
          "width": 4
         },
         "mode": "lines",
         "showlegend": false,
         "type": "scatter3d",
         "x": [
          455.12773378981944,
          459.6632644032023
         ],
         "y": [
          -479.3550375891307,
          -480.96123701999494
         ],
         "z": [
          362.14391625524274,
          351.1507781480707
         ]
        },
        {
         "color": "rgba(152, 223, 138, 0.8)",
         "name": "P4",
         "opacity": 0.8,
         "type": "mesh3d",
         "x": [
          458.84236867517296,
          465.9761190931606,
          461.4405884797778,
          454.30683806179013
         ],
         "y": [
          -479.2788546164249,
          -476.7291185794163,
          -475.12291914855206,
          -477.67265518556064
         ],
         "z": [
          351.1918512476179,
          353.7625420332709,
          364.75568014044296,
          362.18498935478993
         ]
        },
        {
         "marker": {
          "color": "red",
          "size": 3
         },
         "mode": "markers+text",
         "showlegend": false,
         "text": "P3",
         "textfont": {
          "size": 12
         },
         "textposition": "top center",
         "type": "scatter3d",
         "x": [
          460.14147857747537
         ],
         "y": [
          -477.2008868824885
         ],
         "z": [
          357.9737656940304
         ]
        },
        {
         "line": {
          "color": "rgba(152, 223, 138, 0.8)",
          "width": 4
         },
         "mode": "lines",
         "showlegend": false,
         "type": "scatter3d",
         "x": [
          458.84236867517296,
          465.9761190931606
         ],
         "y": [
          -479.2788546164249,
          -476.7291185794163
         ],
         "z": [
          351.1918512476179,
          353.7625420332709
         ]
        },
        {
         "line": {
          "color": "rgba(152, 223, 138, 0.8)",
          "width": 4
         },
         "mode": "lines",
         "showlegend": false,
         "type": "scatter3d",
         "x": [
          465.9761190931606,
          461.4405884797778
         ],
         "y": [
          -476.7291185794163,
          -475.12291914855206
         ],
         "z": [
          353.7625420332709,
          364.75568014044296
         ]
        },
        {
         "line": {
          "color": "rgba(152, 223, 138, 0.8)",
          "width": 4
         },
         "mode": "lines",
         "showlegend": false,
         "type": "scatter3d",
         "x": [
          461.4405884797778,
          454.30683806179013
         ],
         "y": [
          -475.12291914855206,
          -477.67265518556064
         ],
         "z": [
          364.75568014044296,
          362.18498935478993
         ]
        },
        {
         "line": {
          "color": "rgba(152, 223, 138, 0.8)",
          "width": 4
         },
         "mode": "lines",
         "showlegend": false,
         "type": "scatter3d",
         "x": [
          454.30683806179013,
          458.84236867517296
         ],
         "y": [
          -477.67265518556064,
          -479.2788546164249
         ],
         "z": [
          362.18498935478993,
          351.1918512476179
         ]
        },
        {
         "color": "rgba(255, 152, 150, 0.8)",
         "name": "P5",
         "opacity": 0.8,
         "type": "mesh3d",
         "x": [
          457.858157050461,
          464.99190746844863,
          460.4563768550658,
          453.32262643707816
         ],
         "y": [
          -477.5111370618104,
          -474.96140102480183,
          -473.3552015939376,
          -475.90493763094616
         ],
         "z": [
          351.2670321373308,
          353.8377229229838,
          364.83086103015586,
          362.26017024450283
         ]
        },
        {
         "marker": {
          "color": "red",
          "size": 3
         },
         "mode": "markers+text",
         "showlegend": false,
         "text": "P4",
         "textfont": {
          "size": 12
         },
         "textposition": "top center",
         "type": "scatter3d",
         "x": [
          459.1572669527634
         ],
         "y": [
          -475.433169327874
         ],
         "z": [
          358.0489465837433
         ]
        },
        {
         "line": {
          "color": "rgba(255, 152, 150, 0.8)",
          "width": 4
         },
         "mode": "lines",
         "showlegend": false,
         "type": "scatter3d",
         "x": [
          457.858157050461,
          464.99190746844863
         ],
         "y": [
          -477.5111370618104,
          -474.96140102480183
         ],
         "z": [
          351.2670321373308,
          353.8377229229838
         ]
        },
        {
         "line": {
          "color": "rgba(255, 152, 150, 0.8)",
          "width": 4
         },
         "mode": "lines",
         "showlegend": false,
         "type": "scatter3d",
         "x": [
          464.99190746844863,
          460.4563768550658
         ],
         "y": [
          -474.96140102480183,
          -473.3552015939376
         ],
         "z": [
          353.8377229229838,
          364.83086103015586
         ]
        },
        {
         "line": {
          "color": "rgba(255, 152, 150, 0.8)",
          "width": 4
         },
         "mode": "lines",
         "showlegend": false,
         "type": "scatter3d",
         "x": [
          460.4563768550658,
          453.32262643707816
         ],
         "y": [
          -473.3552015939376,
          -475.90493763094616
         ],
         "z": [
          364.83086103015586,
          362.26017024450283
         ]
        },
        {
         "line": {
          "color": "rgba(255, 152, 150, 0.8)",
          "width": 4
         },
         "mode": "lines",
         "showlegend": false,
         "type": "scatter3d",
         "x": [
          453.32262643707816,
          457.858157050461
         ],
         "y": [
          -475.90493763094616,
          -477.5111370618104
         ],
         "z": [
          362.26017024450283,
          351.2670321373308
         ]
        },
        {
         "color": "rgba(197, 176, 213, 0.8)",
         "name": "P6",
         "opacity": 0.8,
         "type": "mesh3d",
         "x": [
          456.87398808856705,
          464.0077385065547,
          459.47220789317186,
          452.3384574751842
         ],
         "y": [
          -475.8264050985076,
          -473.27666906149904,
          -471.6704696306348,
          -474.22020566764337
         ],
         "z": [
          351.33587802876355,
          353.9065688144166,
          364.89970692158863,
          362.3290161359356
         ]
        },
        {
         "marker": {
          "color": "red",
          "size": 3
         },
         "mode": "markers+text",
         "showlegend": false,
         "text": "P5",
         "textfont": {
          "size": 12
         },
         "textposition": "top center",
         "type": "scatter3d",
         "x": [
          458.17309799086945
         ],
         "y": [
          -473.74843736457115
         ],
         "z": [
          358.1177924751761
         ]
        },
        {
         "line": {
          "color": "rgba(197, 176, 213, 0.8)",
          "width": 4
         },
         "mode": "lines",
         "showlegend": false,
         "type": "scatter3d",
         "x": [
          456.87398808856705,
          464.0077385065547
         ],
         "y": [
          -475.8264050985076,
          -473.27666906149904
         ],
         "z": [
          351.33587802876355,
          353.9065688144166
         ]
        },
        {
         "line": {
          "color": "rgba(197, 176, 213, 0.8)",
          "width": 4
         },
         "mode": "lines",
         "showlegend": false,
         "type": "scatter3d",
         "x": [
          464.0077385065547,
          459.47220789317186
         ],
         "y": [
          -473.27666906149904,
          -471.6704696306348
         ],
         "z": [
          353.9065688144166,
          364.89970692158863
         ]
        },
        {
         "line": {
          "color": "rgba(197, 176, 213, 0.8)",
          "width": 4
         },
         "mode": "lines",
         "showlegend": false,
         "type": "scatter3d",
         "x": [
          459.47220789317186,
          452.3384574751842
         ],
         "y": [
          -471.6704696306348,
          -474.22020566764337
         ],
         "z": [
          364.89970692158863,
          362.3290161359356
         ]
        },
        {
         "line": {
          "color": "rgba(197, 176, 213, 0.8)",
          "width": 4
         },
         "mode": "lines",
         "showlegend": false,
         "type": "scatter3d",
         "x": [
          452.3384574751842,
          456.87398808856705
         ],
         "y": [
          -474.22020566764337,
          -475.8264050985076
         ],
         "z": [
          362.3290161359356,
          351.33587802876355
         ]
        },
        {
         "color": "rgba(140, 86, 75, 0.8)",
         "name": "P7",
         "opacity": 0.8,
         "type": "mesh3d",
         "x": [
          455.7422622715048,
          462.8760126894924,
          458.3404820761096,
          451.20673165812195
         ],
         "y": [
          -474.2169141995129,
          -471.66717816250434,
          -470.0609787316401,
          -472.6107147686487
         ],
         "z": [
          352.58007747428513,
          355.15076825993816,
          366.1439063671102,
          363.5732155814572
         ]
        },
        {
         "marker": {
          "color": "red",
          "size": 3
         },
         "mode": "markers+text",
         "showlegend": false,
         "text": "P6",
         "textfont": {
          "size": 12
         },
         "textposition": "top center",
         "type": "scatter3d",
         "x": [
          457.0413721738072
         ],
         "y": [
          -472.1389464655765
         ],
         "z": [
          359.3619919206977
         ]
        },
        {
         "line": {
          "color": "rgba(140, 86, 75, 0.8)",
          "width": 4
         },
         "mode": "lines",
         "showlegend": false,
         "type": "scatter3d",
         "x": [
          455.7422622715048,
          462.8760126894924
         ],
         "y": [
          -474.2169141995129,
          -471.66717816250434
         ],
         "z": [
          352.58007747428513,
          355.15076825993816
         ]
        },
        {
         "line": {
          "color": "rgba(140, 86, 75, 0.8)",
          "width": 4
         },
         "mode": "lines",
         "showlegend": false,
         "type": "scatter3d",
         "x": [
          462.8760126894924,
          458.3404820761096
         ],
         "y": [
          -471.66717816250434,
          -470.0609787316401
         ],
         "z": [
          355.15076825993816,
          366.1439063671102
         ]
        },
        {
         "line": {
          "color": "rgba(140, 86, 75, 0.8)",
          "width": 4
         },
         "mode": "lines",
         "showlegend": false,
         "type": "scatter3d",
         "x": [
          458.3404820761096,
          451.20673165812195
         ],
         "y": [
          -470.0609787316401,
          -472.6107147686487
         ],
         "z": [
          366.1439063671102,
          363.5732155814572
         ]
        },
        {
         "line": {
          "color": "rgba(140, 86, 75, 0.8)",
          "width": 4
         },
         "mode": "lines",
         "showlegend": false,
         "type": "scatter3d",
         "x": [
          451.20673165812195,
          455.7422622715048
         ],
         "y": [
          -472.6107147686487,
          -474.2169141995129
         ],
         "z": [
          363.5732155814572,
          352.58007747428513
         ]
        },
        {
         "color": "rgba(227, 119, 194, 0.8)",
         "name": "P8",
         "opacity": 0.8,
         "type": "mesh3d",
         "x": [
          454.08790530570474,
          461.2216557236924,
          456.68612511030955,
          449.5523746923219
         ],
         "y": [
          -472.9557193596468,
          -470.40598332263824,
          -468.799783891774,
          -471.34951992878257
         ],
         "z": [
          351.7017190497997,
          354.2724098354527,
          365.2655479426248,
          362.69485715697175
         ]
        },
        {
         "marker": {
          "color": "red",
          "size": 3
         },
         "mode": "markers+text",
         "showlegend": false,
         "text": "P7",
         "textfont": {
          "size": 12
         },
         "textposition": "top center",
         "type": "scatter3d",
         "x": [
          455.38701520800714
         ],
         "y": [
          -470.8777516257104
         ],
         "z": [
          358.48363349621224
         ]
        },
        {
         "line": {
          "color": "rgba(227, 119, 194, 0.8)",
          "width": 4
         },
         "mode": "lines",
         "showlegend": false,
         "type": "scatter3d",
         "x": [
          454.08790530570474,
          461.2216557236924
         ],
         "y": [
          -472.9557193596468,
          -470.40598332263824
         ],
         "z": [
          351.7017190497997,
          354.2724098354527
         ]
        },
        {
         "line": {
          "color": "rgba(227, 119, 194, 0.8)",
          "width": 4
         },
         "mode": "lines",
         "showlegend": false,
         "type": "scatter3d",
         "x": [
          461.2216557236924,
          456.68612511030955
         ],
         "y": [
          -470.40598332263824,
          -468.799783891774
         ],
         "z": [
          354.2724098354527,
          365.2655479426248
         ]
        },
        {
         "line": {
          "color": "rgba(227, 119, 194, 0.8)",
          "width": 4
         },
         "mode": "lines",
         "showlegend": false,
         "type": "scatter3d",
         "x": [
          456.68612511030955,
          449.5523746923219
         ],
         "y": [
          -468.799783891774,
          -471.34951992878257
         ],
         "z": [
          365.2655479426248,
          362.69485715697175
         ]
        },
        {
         "line": {
          "color": "rgba(227, 119, 194, 0.8)",
          "width": 4
         },
         "mode": "lines",
         "showlegend": false,
         "type": "scatter3d",
         "x": [
          449.5523746923219,
          454.08790530570474
         ],
         "y": [
          -471.34951992878257,
          -472.9557193596468
         ],
         "z": [
          362.69485715697175,
          351.7017190497997
         ]
        },
        {
         "color": "rgba(127, 127, 127, 0.8)",
         "name": "P9",
         "opacity": 0.8,
         "type": "mesh3d",
         "x": [
          452.4477433470531,
          459.58149376504076,
          455.04596315165793,
          447.9122127336703
         ],
         "y": [
          -471.8547852435009,
          -469.3050492064923,
          -467.69884977562805,
          -470.24858581263663
         ],
         "z": [
          351.95048120148596,
          354.521171987139,
          365.51431009431104,
          362.943619308658
         ]
        },
        {
         "marker": {
          "color": "red",
          "size": 3
         },
         "mode": "markers+text",
         "showlegend": false,
         "text": "P8",
         "textfont": {
          "size": 12
         },
         "textposition": "top center",
         "type": "scatter3d",
         "x": [
          453.7468532493555
         ],
         "y": [
          -469.77681750956447
         ],
         "z": [
          358.7323956478985
         ]
        },
        {
         "line": {
          "color": "rgba(127, 127, 127, 0.8)",
          "width": 4
         },
         "mode": "lines",
         "showlegend": false,
         "type": "scatter3d",
         "x": [
          452.4477433470531,
          459.58149376504076
         ],
         "y": [
          -471.8547852435009,
          -469.3050492064923
         ],
         "z": [
          351.95048120148596,
          354.521171987139
         ]
        },
        {
         "line": {
          "color": "rgba(127, 127, 127, 0.8)",
          "width": 4
         },
         "mode": "lines",
         "showlegend": false,
         "type": "scatter3d",
         "x": [
          459.58149376504076,
          455.04596315165793
         ],
         "y": [
          -469.3050492064923,
          -467.69884977562805
         ],
         "z": [
          354.521171987139,
          365.51431009431104
         ]
        },
        {
         "line": {
          "color": "rgba(127, 127, 127, 0.8)",
          "width": 4
         },
         "mode": "lines",
         "showlegend": false,
         "type": "scatter3d",
         "x": [
          455.04596315165793,
          447.9122127336703
         ],
         "y": [
          -467.69884977562805,
          -470.24858581263663
         ],
         "z": [
          365.51431009431104,
          362.943619308658
         ]
        },
        {
         "line": {
          "color": "rgba(127, 127, 127, 0.8)",
          "width": 4
         },
         "mode": "lines",
         "showlegend": false,
         "type": "scatter3d",
         "x": [
          447.9122127336703,
          452.4477433470531
         ],
         "y": [
          -470.24858581263663,
          -471.8547852435009
         ],
         "z": [
          362.943619308658,
          351.95048120148596
         ]
        },
        {
         "color": "rgba(188, 189, 34, 0.8)",
         "name": "P10",
         "opacity": 0.8,
         "type": "mesh3d",
         "x": [
          450.4807931913729,
          457.61454360936057,
          453.07901299597773,
          445.9452625779901
         ],
         "y": [
          -471.3594783829922,
          -468.80974234598364,
          -467.2035429151194,
          -469.75327895212797
         ],
         "z": [
          351.2032315297333,
          353.7739223153863,
          364.76706042255836,
          362.19636963690533
         ]
        },
        {
         "marker": {
          "color": "red",
          "size": 3
         },
         "mode": "markers+text",
         "showlegend": false,
         "text": "P9",
         "textfont": {
          "size": 12
         },
         "textposition": "top center",
         "type": "scatter3d",
         "x": [
          451.77990309367533
         ],
         "y": [
          -469.2815106490558
         ],
         "z": [
          357.9851459761458
         ]
        },
        {
         "line": {
          "color": "rgba(188, 189, 34, 0.8)",
          "width": 4
         },
         "mode": "lines",
         "showlegend": false,
         "type": "scatter3d",
         "x": [
          450.4807931913729,
          457.61454360936057
         ],
         "y": [
          -471.3594783829922,
          -468.80974234598364
         ],
         "z": [
          351.2032315297333,
          353.7739223153863
         ]
        },
        {
         "line": {
          "color": "rgba(188, 189, 34, 0.8)",
          "width": 4
         },
         "mode": "lines",
         "showlegend": false,
         "type": "scatter3d",
         "x": [
          457.61454360936057,
          453.07901299597773
         ],
         "y": [
          -468.80974234598364,
          -467.2035429151194
         ],
         "z": [
          353.7739223153863,
          364.76706042255836
         ]
        },
        {
         "line": {
          "color": "rgba(188, 189, 34, 0.8)",
          "width": 4
         },
         "mode": "lines",
         "showlegend": false,
         "type": "scatter3d",
         "x": [
          453.07901299597773,
          445.9452625779901
         ],
         "y": [
          -467.2035429151194,
          -469.75327895212797
         ],
         "z": [
          364.76706042255836,
          362.19636963690533
         ]
        },
        {
         "line": {
          "color": "rgba(188, 189, 34, 0.8)",
          "width": 4
         },
         "mode": "lines",
         "showlegend": false,
         "type": "scatter3d",
         "x": [
          445.9452625779901,
          450.4807931913729
         ],
         "y": [
          -469.75327895212797,
          -471.3594783829922
         ],
         "z": [
          362.19636963690533,
          351.2032315297333
         ]
        },
        {
         "color": "rgba(23, 190, 207, 0.8)",
         "name": "P11",
         "opacity": 0.8,
         "type": "mesh3d",
         "x": [
          448.52514020506163,
          455.6588906230493,
          451.12336000966644,
          443.9896095916788
         ],
         "y": [
          -471.2034542781917,
          -468.6537182411831,
          -467.0475188103189,
          -469.59725484732746
         ],
         "z": [
          350.4562034415933,
          353.0268942272463,
          364.0200323344184,
          361.44934154876535
         ]
        },
        {
         "marker": {
          "color": "red",
          "size": 3
         },
         "mode": "markers+text",
         "showlegend": false,
         "text": "",
         "textfont": {
          "size": 12
         },
         "textposition": "top center",
         "type": "scatter3d",
         "x": [
          449.82425010736404
         ],
         "y": [
          -469.1254865442553
         ],
         "z": [
          357.23811788800583
         ]
        },
        {
         "line": {
          "color": "rgba(23, 190, 207, 0.8)",
          "width": 4
         },
         "mode": "lines",
         "showlegend": false,
         "type": "scatter3d",
         "x": [
          448.52514020506163,
          455.6588906230493
         ],
         "y": [
          -471.2034542781917,
          -468.6537182411831
         ],
         "z": [
          350.4562034415933,
          353.0268942272463
         ]
        },
        {
         "line": {
          "color": "rgba(23, 190, 207, 0.8)",
          "width": 4
         },
         "mode": "lines",
         "showlegend": false,
         "type": "scatter3d",
         "x": [
          455.6588906230493,
          451.12336000966644
         ],
         "y": [
          -468.6537182411831,
          -467.0475188103189
         ],
         "z": [
          353.0268942272463,
          364.0200323344184
         ]
        },
        {
         "line": {
          "color": "rgba(23, 190, 207, 0.8)",
          "width": 4
         },
         "mode": "lines",
         "showlegend": false,
         "type": "scatter3d",
         "x": [
          451.12336000966644,
          443.9896095916788
         ],
         "y": [
          -467.0475188103189,
          -469.59725484732746
         ],
         "z": [
          364.0200323344184,
          361.44934154876535
         ]
        },
        {
         "line": {
          "color": "rgba(23, 190, 207, 0.8)",
          "width": 4
         },
         "mode": "lines",
         "showlegend": false,
         "type": "scatter3d",
         "x": [
          443.9896095916788,
          448.52514020506163
         ],
         "y": [
          -469.59725484732746,
          -471.2034542781917
         ],
         "z": [
          361.44934154876535,
          350.4562034415933
         ]
        },
        {
         "line": {
          "color": "black",
          "width": 2
         },
         "mode": "lines",
         "name": "Berechnete Hakenlinie",
         "type": "scatter3d",
         "x": {
          "bdata": "1qDfDnvbfEC0SD7Rctp8QHSKmeJlz3xAdnUKf0PCfEDELVoqhLJ8QJocZgLFonxAdlfedamQfEAg19s2MXZ8QEuOZBzzW3xAKJaqe3o8fECmbeEgMB18QA==",
          "dtype": "f8"
         },
         "y": {
          "bdata": "HifWJmYIfsD1Q8r9Zgl+wOyS+d4h7n3AvOcp1TbTfcCWDfZC7rZ9wAA/dZn5m33AvNjtHzmCfcD+5klFC259wKJoMthtXH3AunJPEYFUfcCiui3+AVJ9wA==",
          "dtype": "f8"
         },
         "z": {
          "bdata": "WokbCaR2dkC+g9vs5XB2QG7oEU/sXnZAPR1Wi5RfdkDbhjZ8yGB2QIrJXHriYXZAAU0KuMp1dkC1F3r2vGd2QE+3f+S3a3ZAUVVtKMNfdkA+2bNUz1N2QA==",
          "dtype": "f8"
         }
        },
        {
         "mode": "text",
         "showlegend": false,
         "text": [
          "Pre-Position"
         ],
         "textfont": {
          "size": 10
         },
         "textposition": "top center",
         "type": "scatter3d",
         "x": [
          461.71754348139564
         ],
         "y": [
          -480.5249393811554
         ],
         "z": [
          359.4150477481504
         ]
        },
        {
         "mode": "text",
         "showlegend": false,
         "text": [
          "Loslassen"
         ],
         "textfont": {
          "size": 10
         },
         "textposition": "top center",
         "type": "scatter3d",
         "x": [
          449.82425010736404
         ],
         "y": [
          -469.1254865442553
         ],
         "z": [
          357.23811788800583
         ]
        },
        {
         "color": "rgba(0,255,0,0.2)",
         "name": "optimale Trajektorie",
         "opacity": 0.8,
         "type": "mesh3d",
         "x": [
          457.9728647764701,
          465.64917837496046,
          465.46222221419424,
          457.7859086157039
         ],
         "y": [
          -481.5626078337671,
          -479.31513246011025,
          -479.48727086712455,
          -481.7347462407814
         ],
         "z": [
          353.3404601752966,
          353.49232848152855,
          365.4896371698462,
          365.33776886361426
         ]
        },
        {
         "line": {
          "color": "rgba(0,255,0,0.2)",
          "width": 3
         },
         "mode": "lines",
         "showlegend": false,
         "type": "scatter3d",
         "x": [
          457.9728647764701,
          465.64917837496046
         ],
         "y": [
          -481.5626078337671,
          -479.31513246011025
         ],
         "z": [
          353.3404601752966,
          353.49232848152855
         ]
        },
        {
         "line": {
          "color": "rgba(0,255,0,0.2)",
          "width": 3
         },
         "mode": "lines",
         "showlegend": false,
         "type": "scatter3d",
         "x": [
          465.64917837496046,
          465.46222221419424
         ],
         "y": [
          -479.31513246011025,
          -479.48727086712455
         ],
         "z": [
          353.49232848152855,
          365.4896371698462
         ]
        },
        {
         "line": {
          "color": "rgba(0,255,0,0.2)",
          "width": 3
         },
         "mode": "lines",
         "showlegend": false,
         "type": "scatter3d",
         "x": [
          465.46222221419424,
          457.7859086157039
         ],
         "y": [
          -479.48727086712455,
          -481.7347462407814
         ],
         "z": [
          365.4896371698462,
          365.33776886361426
         ]
        },
        {
         "line": {
          "color": "rgba(0,255,0,0.2)",
          "width": 3
         },
         "mode": "lines",
         "showlegend": false,
         "type": "scatter3d",
         "x": [
          457.7859086157039,
          457.9728647764701
         ],
         "y": [
          -481.7347462407814,
          -481.5626078337671
         ],
         "z": [
          365.33776886361426,
          353.3404601752966
         ]
        },
        {
         "marker": {
          "color": "green",
          "size": 4
         },
         "mode": "markers",
         "name": "Mitte P11",
         "showlegend": false,
         "type": "scatter3d",
         "x": [
          461.71754349533217
         ],
         "y": [
          -480.52493935044583
         ],
         "z": [
          359.4150486725714
         ]
        },
        {
         "color": "rgba(0,255,0,0.2)",
         "name": "optimale Trajektorie",
         "opacity": 0.8,
         "type": "mesh3d",
         "x": [
          458.11453956029294,
          465.4127135219074,
          464.3018539993714,
          457.00368003775696
         ],
         "y": [
          -479.04316042627704,
          -475.88979061961993,
          -476.6853703165506,
          -479.8387401232077
         ],
         "z": [
          353.1194192150149,
          354.009877349054,
          365.9318337349423,
          365.04137560090317
         ]
        },
        {
         "line": {
          "color": "rgba(0,255,0,0.2)",
          "width": 3
         },
         "mode": "lines",
         "showlegend": false,
         "type": "scatter3d",
         "x": [
          458.11453956029294,
          465.4127135219074
         ],
         "y": [
          -479.04316042627704,
          -475.88979061961993
         ],
         "z": [
          353.1194192150149,
          354.009877349054
         ]
        },
        {
         "line": {
          "color": "rgba(0,255,0,0.2)",
          "width": 3
         },
         "mode": "lines",
         "showlegend": false,
         "type": "scatter3d",
         "x": [
          465.4127135219074,
          464.3018539993714
         ],
         "y": [
          -475.88979061961993,
          -476.6853703165506
         ],
         "z": [
          354.009877349054,
          365.9318337349423
         ]
        },
        {
         "line": {
          "color": "rgba(0,255,0,0.2)",
          "width": 3
         },
         "mode": "lines",
         "showlegend": false,
         "type": "scatter3d",
         "x": [
          464.3018539993714,
          457.00368003775696
         ],
         "y": [
          -476.6853703165506,
          -479.8387401232077
         ],
         "z": [
          365.9318337349423,
          365.04137560090317
         ]
        },
        {
         "line": {
          "color": "rgba(0,255,0,0.2)",
          "width": 3
         },
         "mode": "lines",
         "showlegend": false,
         "type": "scatter3d",
         "x": [
          457.00368003775696,
          458.11453956029294
         ],
         "y": [
          -479.8387401232077,
          -479.04316042627704
         ],
         "z": [
          365.04137560090317,
          353.1194192150149
         ]
        },
        {
         "marker": {
          "color": "green",
          "size": 4
         },
         "mode": "markers",
         "name": "Mitte P11",
         "showlegend": false,
         "type": "scatter3d",
         "x": [
          461.2081967798322
         ],
         "y": [
          -477.8642653714138
         ],
         "z": [
          359.5256264749786
         ]
        },
        {
         "color": "rgba(0,255,0,0.2)",
         "name": "optimale Trajektorie",
         "opacity": 0.8,
         "type": "mesh3d",
         "x": [
          455.76403845186644,
          462.6464074337826,
          461.4547772323044,
          454.57240825038826
         ],
         "y": [
          -472.84438133485787,
          -468.88200167015475,
          -469.7152326647216,
          -473.67761232942473
         ],
         "z": [
          353.1955241205882,
          354.16120760367426,
          366.07278783354377,
          365.1071043504577
         ]
        },
        {
         "line": {
          "color": "rgba(0,255,0,0.2)",
          "width": 3
         },
         "mode": "lines",
         "showlegend": false,
         "type": "scatter3d",
         "x": [
          455.76403845186644,
          462.6464074337826
         ],
         "y": [
          -472.84438133485787,
          -468.88200167015475
         ],
         "z": [
          353.1955241205882,
          354.16120760367426
         ]
        },
        {
         "line": {
          "color": "rgba(0,255,0,0.2)",
          "width": 3
         },
         "mode": "lines",
         "showlegend": false,
         "type": "scatter3d",
         "x": [
          462.6464074337826,
          461.4547772323044
         ],
         "y": [
          -468.88200167015475,
          -469.7152326647216
         ],
         "z": [
          354.16120760367426,
          366.07278783354377
         ]
        },
        {
         "line": {
          "color": "rgba(0,255,0,0.2)",
          "width": 3
         },
         "mode": "lines",
         "showlegend": false,
         "type": "scatter3d",
         "x": [
          461.4547772323044,
          454.57240825038826
         ],
         "y": [
          -469.7152326647216,
          -473.67761232942473
         ],
         "z": [
          366.07278783354377,
          365.1071043504577
         ]
        },
        {
         "line": {
          "color": "rgba(0,255,0,0.2)",
          "width": 3
         },
         "mode": "lines",
         "showlegend": false,
         "type": "scatter3d",
         "x": [
          454.57240825038826,
          455.76403845186644
         ],
         "y": [
          -473.67761232942473,
          -472.84438133485787
         ],
         "z": [
          365.1071043504577,
          353.1955241205882
         ]
        },
        {
         "marker": {
          "color": "green",
          "size": 4
         },
         "mode": "markers",
         "name": "Mitte P11",
         "showlegend": false,
         "type": "scatter3d",
         "x": [
          458.60940784208543
         ],
         "y": [
          -471.2798069997898
         ],
         "z": [
          359.6341559770659
         ]
        },
        {
         "color": "rgba(0,255,0,0.2)",
         "name": "optimale Trajektorie",
         "opacity": 0.8,
         "type": "mesh3d",
         "x": [
          452.1742861490474,
          457.11534483095204,
          455.8096257511067,
          450.8685670692021
         ],
         "y": [
          -469.779821443829,
          -463.6005682503875,
          -464.8306978143133,
          -471.0099510077548
         ],
         "z": [
          352.5171802743569,
          353.70156579998513,
          365.5667197787788,
          364.3823342531506
         ]
        },
        {
         "line": {
          "color": "rgba(0,255,0,0.2)",
          "width": 3
         },
         "mode": "lines",
         "showlegend": false,
         "type": "scatter3d",
         "x": [
          452.1742861490474,
          457.11534483095204
         ],
         "y": [
          -469.779821443829,
          -463.6005682503875
         ],
         "z": [
          352.5171802743569,
          353.70156579998513
         ]
        },
        {
         "line": {
          "color": "rgba(0,255,0,0.2)",
          "width": 3
         },
         "mode": "lines",
         "showlegend": false,
         "type": "scatter3d",
         "x": [
          457.11534483095204,
          455.8096257511067
         ],
         "y": [
          -463.6005682503875,
          -464.8306978143133
         ],
         "z": [
          353.70156579998513,
          365.5667197787788
         ]
        },
        {
         "line": {
          "color": "rgba(0,255,0,0.2)",
          "width": 3
         },
         "mode": "lines",
         "showlegend": false,
         "type": "scatter3d",
         "x": [
          455.8096257511067,
          450.8685670692021
         ],
         "y": [
          -464.8306978143133,
          -471.0099510077548
         ],
         "z": [
          365.5667197787788,
          364.3823342531506
         ]
        },
        {
         "line": {
          "color": "rgba(0,255,0,0.2)",
          "width": 3
         },
         "mode": "lines",
         "showlegend": false,
         "type": "scatter3d",
         "x": [
          450.8685670692021,
          452.1742861490474
         ],
         "y": [
          -471.0099510077548,
          -469.779821443829
         ],
         "z": [
          364.3823342531506,
          352.5171802743569
         ]
        },
        {
         "marker": {
          "color": "green",
          "size": 4
         },
         "mode": "markers",
         "name": "Mitte P11",
         "showlegend": false,
         "type": "scatter3d",
         "x": [
          453.99195595007706
         ],
         "y": [
          -467.30525962907114
         ],
         "z": [
          359.04195002656786
         ]
        },
        {
         "color": "rgba(0,255,0,0.2)",
         "name": "optimale Trajektorie",
         "opacity": 0.8,
         "type": "mesh3d",
         "x": [
          449.69759242352484,
          451.2017300236709,
          447.74560100101235,
          446.2414634008663
         ],
         "y": [
          -468.0681933297913,
          -460.723410358206,
          -464.1806268335184,
          -471.52540980510366
         ],
         "z": [
          354.28893876274583,
          357.080306380982,
          368.03944988864566,
          365.2480822704095
         ]
        },
        {
         "line": {
          "color": "rgba(0,255,0,0.2)",
          "width": 3
         },
         "mode": "lines",
         "showlegend": false,
         "type": "scatter3d",
         "x": [
          449.69759242352484,
          451.2017300236709
         ],
         "y": [
          -468.0681933297913,
          -460.723410358206
         ],
         "z": [
          354.28893876274583,
          357.080306380982
         ]
        },
        {
         "line": {
          "color": "rgba(0,255,0,0.2)",
          "width": 3
         },
         "mode": "lines",
         "showlegend": false,
         "type": "scatter3d",
         "x": [
          451.2017300236709,
          447.74560100101235
         ],
         "y": [
          -460.723410358206,
          -464.1806268335184
         ],
         "z": [
          357.080306380982,
          368.03944988864566
         ]
        },
        {
         "line": {
          "color": "rgba(0,255,0,0.2)",
          "width": 3
         },
         "mode": "lines",
         "showlegend": false,
         "type": "scatter3d",
         "x": [
          447.74560100101235,
          446.2414634008663
         ],
         "y": [
          -464.1806268335184,
          -471.52540980510366
         ],
         "z": [
          368.03944988864566,
          365.2480822704095
         ]
        },
        {
         "line": {
          "color": "rgba(0,255,0,0.2)",
          "width": 3
         },
         "mode": "lines",
         "showlegend": false,
         "type": "scatter3d",
         "x": [
          446.2414634008663,
          449.69759242352484
         ],
         "y": [
          -471.52540980510366,
          -468.0681933297913
         ],
         "z": [
          365.2480822704095,
          354.28893876274583
         ]
        },
        {
         "marker": {
          "color": "green",
          "size": 4
         },
         "mode": "markers",
         "name": "Mitte P11",
         "showlegend": false,
         "type": "scatter3d",
         "x": [
          448.7215967122686
         ],
         "y": [
          -466.12441008165484
         ],
         "z": [
          361.16419432569575
         ]
        },
        {
         "line": {
          "color": "green",
          "width": 2
         },
         "mode": "lines",
         "name": "Optimale Hakenlinie",
         "type": "scatter3d",
         "x": {
          "bdata": "jF7jDnvbfEAwiCXGVNN8QO36byLAqXxAdcozDd9ffECEgf6oiwt8QA==",
          "dtype": "f8"
         },
         "y": {
          "bdata": "xujNJmYIfsCaFO0H1N19wKCU5xZ6dH3AZbrrV+I0fcABAG2V/SF9wA==",
          "dtype": "f8"
         },
         "z": {
          "bdata": "FK8TCqR2dkAef073aHh2QPrgvIAlenZAzoLK06twdkDVsDqKoJJ2QA==",
          "dtype": "f8"
         }
        },
        {
         "line": {
          "color": "gray",
          "dash": "dash"
         },
         "mode": "lines",
         "name": "Direkte Gerade Spitze -> Senke",
         "type": "scatter3d",
         "x": [
          461.6530315812081,
          449.82425010736404
         ],
         "y": [
          -480.5876443768496,
          -469.1254865442553
         ],
         "z": [
          359.05613408801935,
          357.23811788800583
         ]
        },
        {
         "marker": {
          "color": "magenta",
          "size": 8
         },
         "mode": "markers",
         "name": "Spitze",
         "type": "scatter3d",
         "x": [
          461.6530315812081
         ],
         "y": [
          -480.5876443768496
         ],
         "z": [
          359.05613408801935
         ]
        },
        {
         "marker": {
          "color": "magenta",
          "size": 8
         },
         "mode": "markers",
         "name": "Senke",
         "type": "scatter3d",
         "x": [
          449.82425010736404
         ],
         "y": [
          -469.1254865442553
         ],
         "z": [
          357.23811788800583
         ]
        },
        {
         "mode": "text",
         "showlegend": false,
         "text": [
          "Spitze"
         ],
         "textfont": {
          "size": 10
         },
         "textposition": "top center",
         "type": "scatter3d",
         "x": [
          461.6530315812081
         ],
         "y": [
          -480.5876443768496
         ],
         "z": [
          359.05613408801935
         ]
        },
        {
         "mode": "text",
         "showlegend": false,
         "text": [
          "Senke"
         ],
         "textfont": {
          "size": 10
         },
         "textposition": "top center",
         "type": "scatter3d",
         "x": [
          449.82425010736404
         ],
         "y": [
          -469.1254865442553
         ],
         "z": [
          357.23811788800583
         ]
        }
       ],
       "layout": {
        "legend": {
         "title": {
          "text": "Legende"
         }
        },
        "scene": {
         "aspectmode": "cube",
         "camera": {
          "eye": {
           "x": -1,
           "y": -1,
           "z": -1.5
          },
          "up": {
           "x": 0,
           "y": -1,
           "z": 0
          }
         },
         "xaxis": {
          "title": {
           "text": "X"
          }
         },
         "yaxis": {
          "title": {
           "text": "Y"
          }
         },
         "zaxis": {
          "title": {
           "text": "Z"
          }
         }
        },
        "template": {
         "data": {
          "bar": [
           {
            "error_x": {
             "color": "#2a3f5f"
            },
            "error_y": {
             "color": "#2a3f5f"
            },
            "marker": {
             "line": {
              "color": "#E5ECF6",
              "width": 0.5
             },
             "pattern": {
              "fillmode": "overlay",
              "size": 10,
              "solidity": 0.2
             }
            },
            "type": "bar"
           }
          ],
          "barpolar": [
           {
            "marker": {
             "line": {
              "color": "#E5ECF6",
              "width": 0.5
             },
             "pattern": {
              "fillmode": "overlay",
              "size": 10,
              "solidity": 0.2
             }
            },
            "type": "barpolar"
           }
          ],
          "carpet": [
           {
            "aaxis": {
             "endlinecolor": "#2a3f5f",
             "gridcolor": "white",
             "linecolor": "white",
             "minorgridcolor": "white",
             "startlinecolor": "#2a3f5f"
            },
            "baxis": {
             "endlinecolor": "#2a3f5f",
             "gridcolor": "white",
             "linecolor": "white",
             "minorgridcolor": "white",
             "startlinecolor": "#2a3f5f"
            },
            "type": "carpet"
           }
          ],
          "choropleth": [
           {
            "colorbar": {
             "outlinewidth": 0,
             "ticks": ""
            },
            "type": "choropleth"
           }
          ],
          "contour": [
           {
            "colorbar": {
             "outlinewidth": 0,
             "ticks": ""
            },
            "colorscale": [
             [
              0,
              "#0d0887"
             ],
             [
              0.1111111111111111,
              "#46039f"
             ],
             [
              0.2222222222222222,
              "#7201a8"
             ],
             [
              0.3333333333333333,
              "#9c179e"
             ],
             [
              0.4444444444444444,
              "#bd3786"
             ],
             [
              0.5555555555555556,
              "#d8576b"
             ],
             [
              0.6666666666666666,
              "#ed7953"
             ],
             [
              0.7777777777777778,
              "#fb9f3a"
             ],
             [
              0.8888888888888888,
              "#fdca26"
             ],
             [
              1,
              "#f0f921"
             ]
            ],
            "type": "contour"
           }
          ],
          "contourcarpet": [
           {
            "colorbar": {
             "outlinewidth": 0,
             "ticks": ""
            },
            "type": "contourcarpet"
           }
          ],
          "heatmap": [
           {
            "colorbar": {
             "outlinewidth": 0,
             "ticks": ""
            },
            "colorscale": [
             [
              0,
              "#0d0887"
             ],
             [
              0.1111111111111111,
              "#46039f"
             ],
             [
              0.2222222222222222,
              "#7201a8"
             ],
             [
              0.3333333333333333,
              "#9c179e"
             ],
             [
              0.4444444444444444,
              "#bd3786"
             ],
             [
              0.5555555555555556,
              "#d8576b"
             ],
             [
              0.6666666666666666,
              "#ed7953"
             ],
             [
              0.7777777777777778,
              "#fb9f3a"
             ],
             [
              0.8888888888888888,
              "#fdca26"
             ],
             [
              1,
              "#f0f921"
             ]
            ],
            "type": "heatmap"
           }
          ],
          "histogram": [
           {
            "marker": {
             "pattern": {
              "fillmode": "overlay",
              "size": 10,
              "solidity": 0.2
             }
            },
            "type": "histogram"
           }
          ],
          "histogram2d": [
           {
            "colorbar": {
             "outlinewidth": 0,
             "ticks": ""
            },
            "colorscale": [
             [
              0,
              "#0d0887"
             ],
             [
              0.1111111111111111,
              "#46039f"
             ],
             [
              0.2222222222222222,
              "#7201a8"
             ],
             [
              0.3333333333333333,
              "#9c179e"
             ],
             [
              0.4444444444444444,
              "#bd3786"
             ],
             [
              0.5555555555555556,
              "#d8576b"
             ],
             [
              0.6666666666666666,
              "#ed7953"
             ],
             [
              0.7777777777777778,
              "#fb9f3a"
             ],
             [
              0.8888888888888888,
              "#fdca26"
             ],
             [
              1,
              "#f0f921"
             ]
            ],
            "type": "histogram2d"
           }
          ],
          "histogram2dcontour": [
           {
            "colorbar": {
             "outlinewidth": 0,
             "ticks": ""
            },
            "colorscale": [
             [
              0,
              "#0d0887"
             ],
             [
              0.1111111111111111,
              "#46039f"
             ],
             [
              0.2222222222222222,
              "#7201a8"
             ],
             [
              0.3333333333333333,
              "#9c179e"
             ],
             [
              0.4444444444444444,
              "#bd3786"
             ],
             [
              0.5555555555555556,
              "#d8576b"
             ],
             [
              0.6666666666666666,
              "#ed7953"
             ],
             [
              0.7777777777777778,
              "#fb9f3a"
             ],
             [
              0.8888888888888888,
              "#fdca26"
             ],
             [
              1,
              "#f0f921"
             ]
            ],
            "type": "histogram2dcontour"
           }
          ],
          "mesh3d": [
           {
            "colorbar": {
             "outlinewidth": 0,
             "ticks": ""
            },
            "type": "mesh3d"
           }
          ],
          "parcoords": [
           {
            "line": {
             "colorbar": {
              "outlinewidth": 0,
              "ticks": ""
             }
            },
            "type": "parcoords"
           }
          ],
          "pie": [
           {
            "automargin": true,
            "type": "pie"
           }
          ],
          "scatter": [
           {
            "fillpattern": {
             "fillmode": "overlay",
             "size": 10,
             "solidity": 0.2
            },
            "type": "scatter"
           }
          ],
          "scatter3d": [
           {
            "line": {
             "colorbar": {
              "outlinewidth": 0,
              "ticks": ""
             }
            },
            "marker": {
             "colorbar": {
              "outlinewidth": 0,
              "ticks": ""
             }
            },
            "type": "scatter3d"
           }
          ],
          "scattercarpet": [
           {
            "marker": {
             "colorbar": {
              "outlinewidth": 0,
              "ticks": ""
             }
            },
            "type": "scattercarpet"
           }
          ],
          "scattergeo": [
           {
            "marker": {
             "colorbar": {
              "outlinewidth": 0,
              "ticks": ""
             }
            },
            "type": "scattergeo"
           }
          ],
          "scattergl": [
           {
            "marker": {
             "colorbar": {
              "outlinewidth": 0,
              "ticks": ""
             }
            },
            "type": "scattergl"
           }
          ],
          "scattermap": [
           {
            "marker": {
             "colorbar": {
              "outlinewidth": 0,
              "ticks": ""
             }
            },
            "type": "scattermap"
           }
          ],
          "scattermapbox": [
           {
            "marker": {
             "colorbar": {
              "outlinewidth": 0,
              "ticks": ""
             }
            },
            "type": "scattermapbox"
           }
          ],
          "scatterpolar": [
           {
            "marker": {
             "colorbar": {
              "outlinewidth": 0,
              "ticks": ""
             }
            },
            "type": "scatterpolar"
           }
          ],
          "scatterpolargl": [
           {
            "marker": {
             "colorbar": {
              "outlinewidth": 0,
              "ticks": ""
             }
            },
            "type": "scatterpolargl"
           }
          ],
          "scatterternary": [
           {
            "marker": {
             "colorbar": {
              "outlinewidth": 0,
              "ticks": ""
             }
            },
            "type": "scatterternary"
           }
          ],
          "surface": [
           {
            "colorbar": {
             "outlinewidth": 0,
             "ticks": ""
            },
            "colorscale": [
             [
              0,
              "#0d0887"
             ],
             [
              0.1111111111111111,
              "#46039f"
             ],
             [
              0.2222222222222222,
              "#7201a8"
             ],
             [
              0.3333333333333333,
              "#9c179e"
             ],
             [
              0.4444444444444444,
              "#bd3786"
             ],
             [
              0.5555555555555556,
              "#d8576b"
             ],
             [
              0.6666666666666666,
              "#ed7953"
             ],
             [
              0.7777777777777778,
              "#fb9f3a"
             ],
             [
              0.8888888888888888,
              "#fdca26"
             ],
             [
              1,
              "#f0f921"
             ]
            ],
            "type": "surface"
           }
          ],
          "table": [
           {
            "cells": {
             "fill": {
              "color": "#EBF0F8"
             },
             "line": {
              "color": "white"
             }
            },
            "header": {
             "fill": {
              "color": "#C8D4E3"
             },
             "line": {
              "color": "white"
             }
            },
            "type": "table"
           }
          ]
         },
         "layout": {
          "annotationdefaults": {
           "arrowcolor": "#2a3f5f",
           "arrowhead": 0,
           "arrowwidth": 1
          },
          "autotypenumbers": "strict",
          "coloraxis": {
           "colorbar": {
            "outlinewidth": 0,
            "ticks": ""
           }
          },
          "colorscale": {
           "diverging": [
            [
             0,
             "#8e0152"
            ],
            [
             0.1,
             "#c51b7d"
            ],
            [
             0.2,
             "#de77ae"
            ],
            [
             0.3,
             "#f1b6da"
            ],
            [
             0.4,
             "#fde0ef"
            ],
            [
             0.5,
             "#f7f7f7"
            ],
            [
             0.6,
             "#e6f5d0"
            ],
            [
             0.7,
             "#b8e186"
            ],
            [
             0.8,
             "#7fbc41"
            ],
            [
             0.9,
             "#4d9221"
            ],
            [
             1,
             "#276419"
            ]
           ],
           "sequential": [
            [
             0,
             "#0d0887"
            ],
            [
             0.1111111111111111,
             "#46039f"
            ],
            [
             0.2222222222222222,
             "#7201a8"
            ],
            [
             0.3333333333333333,
             "#9c179e"
            ],
            [
             0.4444444444444444,
             "#bd3786"
            ],
            [
             0.5555555555555556,
             "#d8576b"
            ],
            [
             0.6666666666666666,
             "#ed7953"
            ],
            [
             0.7777777777777778,
             "#fb9f3a"
            ],
            [
             0.8888888888888888,
             "#fdca26"
            ],
            [
             1,
             "#f0f921"
            ]
           ],
           "sequentialminus": [
            [
             0,
             "#0d0887"
            ],
            [
             0.1111111111111111,
             "#46039f"
            ],
            [
             0.2222222222222222,
             "#7201a8"
            ],
            [
             0.3333333333333333,
             "#9c179e"
            ],
            [
             0.4444444444444444,
             "#bd3786"
            ],
            [
             0.5555555555555556,
             "#d8576b"
            ],
            [
             0.6666666666666666,
             "#ed7953"
            ],
            [
             0.7777777777777778,
             "#fb9f3a"
            ],
            [
             0.8888888888888888,
             "#fdca26"
            ],
            [
             1,
             "#f0f921"
            ]
           ]
          },
          "colorway": [
           "#636efa",
           "#EF553B",
           "#00cc96",
           "#ab63fa",
           "#FFA15A",
           "#19d3f3",
           "#FF6692",
           "#B6E880",
           "#FF97FF",
           "#FECB52"
          ],
          "font": {
           "color": "#2a3f5f"
          },
          "geo": {
           "bgcolor": "white",
           "lakecolor": "white",
           "landcolor": "#E5ECF6",
           "showlakes": true,
           "showland": true,
           "subunitcolor": "white"
          },
          "hoverlabel": {
           "align": "left"
          },
          "hovermode": "closest",
          "mapbox": {
           "style": "light"
          },
          "paper_bgcolor": "white",
          "plot_bgcolor": "#E5ECF6",
          "polar": {
           "angularaxis": {
            "gridcolor": "white",
            "linecolor": "white",
            "ticks": ""
           },
           "bgcolor": "#E5ECF6",
           "radialaxis": {
            "gridcolor": "white",
            "linecolor": "white",
            "ticks": ""
           }
          },
          "scene": {
           "xaxis": {
            "backgroundcolor": "#E5ECF6",
            "gridcolor": "white",
            "gridwidth": 2,
            "linecolor": "white",
            "showbackground": true,
            "ticks": "",
            "zerolinecolor": "white"
           },
           "yaxis": {
            "backgroundcolor": "#E5ECF6",
            "gridcolor": "white",
            "gridwidth": 2,
            "linecolor": "white",
            "showbackground": true,
            "ticks": "",
            "zerolinecolor": "white"
           },
           "zaxis": {
            "backgroundcolor": "#E5ECF6",
            "gridcolor": "white",
            "gridwidth": 2,
            "linecolor": "white",
            "showbackground": true,
            "ticks": "",
            "zerolinecolor": "white"
           }
          },
          "shapedefaults": {
           "line": {
            "color": "#2a3f5f"
           }
          },
          "ternary": {
           "aaxis": {
            "gridcolor": "white",
            "linecolor": "white",
            "ticks": ""
           },
           "baxis": {
            "gridcolor": "white",
            "linecolor": "white",
            "ticks": ""
           },
           "bgcolor": "#E5ECF6",
           "caxis": {
            "gridcolor": "white",
            "linecolor": "white",
            "ticks": ""
           }
          },
          "title": {
           "x": 0.05
          },
          "xaxis": {
           "automargin": true,
           "gridcolor": "white",
           "linecolor": "white",
           "ticks": "",
           "title": {
            "standoff": 15
           },
           "zerolinecolor": "white",
           "zerolinewidth": 2
          },
          "yaxis": {
           "automargin": true,
           "gridcolor": "white",
           "linecolor": "white",
           "ticks": "",
           "title": {
            "standoff": 15
           },
           "zerolinecolor": "white",
           "zerolinewidth": 2
          }
         }
        },
        "title": {
         "text": "Haken 9, Trajektorien-Ansatz 2"
        }
       }
      }
     },
     "metadata": {},
     "output_type": "display_data"
    },
    {
     "name": "stdout",
     "output_type": "stream",
     "text": [
      "HTML-Datei '/home/mo/Thesis/Evaluation/Trajektorientests/traj3.html' erfolgreich erstellt!\n"
     ]
    },
    {
     "data": {
      "application/vnd.plotly.v1+json": {
       "config": {
        "plotlyServerURL": "https://plot.ly"
       },
       "data": [
        {
         "color": "rgba(31, 119, 180, 0.8)",
         "name": "P1",
         "opacity": 0.8,
         "type": "mesh3d",
         "x": [
          459.17320616681315,
          466.66828290895467,
          464.26188079597813,
          456.7668040538366
         ],
         "y": [
          -482.12734869273845,
          -479.6930018088079,
          -478.9225300695723,
          -481.3568769535029
         ],
         "z": [
          352.8607642611646,
          354.23836357813104,
          365.9693312351362,
          364.5917319181698
         ]
        },
        {
         "marker": {
          "color": "red",
          "size": 3
         },
         "mode": "markers+text",
         "showlegend": false,
         "text": "",
         "textfont": {
          "size": 12
         },
         "textposition": "top center",
         "type": "scatter3d",
         "x": [
          461.71754348139564
         ],
         "y": [
          -480.5249393811554
         ],
         "z": [
          359.4150477481504
         ]
        },
        {
         "line": {
          "color": "rgba(31, 119, 180, 0.8)",
          "width": 4
         },
         "mode": "lines",
         "showlegend": false,
         "type": "scatter3d",
         "x": [
          459.17320616681315,
          466.66828290895467
         ],
         "y": [
          -482.12734869273845,
          -479.6930018088079
         ],
         "z": [
          352.8607642611646,
          354.23836357813104
         ]
        },
        {
         "line": {
          "color": "rgba(31, 119, 180, 0.8)",
          "width": 4
         },
         "mode": "lines",
         "showlegend": false,
         "type": "scatter3d",
         "x": [
          466.66828290895467,
          464.26188079597813
         ],
         "y": [
          -479.6930018088079,
          -478.9225300695723
         ],
         "z": [
          354.23836357813104,
          365.9693312351362
         ]
        },
        {
         "line": {
          "color": "rgba(31, 119, 180, 0.8)",
          "width": 4
         },
         "mode": "lines",
         "showlegend": false,
         "type": "scatter3d",
         "x": [
          464.26188079597813,
          456.7668040538366
         ],
         "y": [
          -478.9225300695723,
          -481.3568769535029
         ],
         "z": [
          365.9693312351362,
          364.5917319181698
         ]
        },
        {
         "line": {
          "color": "rgba(31, 119, 180, 0.8)",
          "width": 4
         },
         "mode": "lines",
         "showlegend": false,
         "type": "scatter3d",
         "x": [
          456.7668040538366,
          459.17320616681315
         ],
         "y": [
          -481.3568769535029,
          -482.12734869273845
         ],
         "z": [
          364.5917319181698,
          352.8607642611646
         ]
        },
        {
         "color": "rgba(174, 199, 232, 0.8)",
         "name": "P2",
         "opacity": 0.8,
         "type": "mesh3d",
         "x": [
          459.1086942666256,
          466.6037710087671,
          464.1973688957906,
          456.70229215364907
         ],
         "y": [
          -482.19005368843267,
          -479.7557068045021,
          -478.9852350652665,
          -481.4195819491971
         ],
         "z": [
          352.50185060103354,
          353.879449918,
          365.61041757500516,
          364.2328182580387
         ]
        },
        {
         "marker": {
          "color": "red",
          "size": 3
         },
         "mode": "markers+text",
         "showlegend": false,
         "text": "",
         "textfont": {
          "size": 12
         },
         "textposition": "top center",
         "type": "scatter3d",
         "x": [
          461.6530315812081
         ],
         "y": [
          -480.58764437684965
         ],
         "z": [
          359.05613408801935
         ]
        },
        {
         "line": {
          "color": "rgba(174, 199, 232, 0.8)",
          "width": 4
         },
         "mode": "lines",
         "showlegend": false,
         "type": "scatter3d",
         "x": [
          459.1086942666256,
          466.6037710087671
         ],
         "y": [
          -482.19005368843267,
          -479.7557068045021
         ],
         "z": [
          352.50185060103354,
          353.879449918
         ]
        },
        {
         "line": {
          "color": "rgba(174, 199, 232, 0.8)",
          "width": 4
         },
         "mode": "lines",
         "showlegend": false,
         "type": "scatter3d",
         "x": [
          466.6037710087671,
          464.1973688957906
         ],
         "y": [
          -479.7557068045021,
          -478.9852350652665
         ],
         "z": [
          353.879449918,
          365.61041757500516
         ]
        },
        {
         "line": {
          "color": "rgba(174, 199, 232, 0.8)",
          "width": 4
         },
         "mode": "lines",
         "showlegend": false,
         "type": "scatter3d",
         "x": [
          464.1973688957906,
          456.70229215364907
         ],
         "y": [
          -478.9852350652665,
          -481.4195819491971
         ],
         "z": [
          365.61041757500516,
          364.2328182580387
         ]
        },
        {
         "line": {
          "color": "rgba(174, 199, 232, 0.8)",
          "width": 4
         },
         "mode": "lines",
         "showlegend": false,
         "type": "scatter3d",
         "x": [
          456.70229215364907,
          459.1086942666256
         ],
         "y": [
          -481.4195819491971,
          -482.19005368843267
         ],
         "z": [
          364.2328182580387,
          352.50185060103354
         ]
        },
        {
         "color": "rgba(255, 187, 120, 0.8)",
         "name": "P3",
         "opacity": 0.8,
         "type": "mesh3d",
         "x": [
          458.4180369909222,
          465.9131137330637,
          463.5067116200872,
          456.01163487794565
         ],
         "y": [
          -480.4856785976416,
          -478.051331713711,
          -477.28085997447545,
          -479.715206858406
         ],
         "z": [
          351.3784091074974,
          352.75600842446386,
          364.48697608146904,
          363.1093767645026
         ]
        },
        {
         "marker": {
          "color": "red",
          "size": 3
         },
         "mode": "markers+text",
         "showlegend": false,
         "text": "P2",
         "textfont": {
          "size": 12
         },
         "textposition": "top center",
         "type": "scatter3d",
         "x": [
          460.9623743055047
         ],
         "y": [
          -478.8832692860585
         ],
         "z": [
          357.9326925944832
         ]
        },
        {
         "line": {
          "color": "rgba(255, 187, 120, 0.8)",
          "width": 4
         },
         "mode": "lines",
         "showlegend": false,
         "type": "scatter3d",
         "x": [
          458.4180369909222,
          465.9131137330637
         ],
         "y": [
          -480.4856785976416,
          -478.051331713711
         ],
         "z": [
          351.3784091074974,
          352.75600842446386
         ]
        },
        {
         "line": {
          "color": "rgba(255, 187, 120, 0.8)",
          "width": 4
         },
         "mode": "lines",
         "showlegend": false,
         "type": "scatter3d",
         "x": [
          465.9131137330637,
          463.5067116200872
         ],
         "y": [
          -478.051331713711,
          -477.28085997447545
         ],
         "z": [
          352.75600842446386,
          364.48697608146904
         ]
        },
        {
         "line": {
          "color": "rgba(255, 187, 120, 0.8)",
          "width": 4
         },
         "mode": "lines",
         "showlegend": false,
         "type": "scatter3d",
         "x": [
          463.5067116200872,
          456.01163487794565
         ],
         "y": [
          -477.28085997447545,
          -479.715206858406
         ],
         "z": [
          364.48697608146904,
          363.1093767645026
         ]
        },
        {
         "line": {
          "color": "rgba(255, 187, 120, 0.8)",
          "width": 4
         },
         "mode": "lines",
         "showlegend": false,
         "type": "scatter3d",
         "x": [
          456.01163487794565,
          458.4180369909222
         ],
         "y": [
          -479.715206858406,
          -480.4856785976416
         ],
         "z": [
          363.1093767645026,
          351.3784091074974
         ]
        },
        {
         "color": "rgba(152, 223, 138, 0.8)",
         "name": "P4",
         "opacity": 0.8,
         "type": "mesh3d",
         "x": [
          457.5971412628929,
          465.0922180050344,
          462.68581589205786,
          455.19073914991634
         ],
         "y": [
          -478.80329619407155,
          -476.368949310141,
          -475.5984775709054,
          -478.032824454836
         ],
         "z": [
          351.4194822070446,
          352.79708152401105,
          364.52804918101623,
          363.1504498640498
         ]
        },
        {
         "marker": {
          "color": "red",
          "size": 3
         },
         "mode": "markers+text",
         "showlegend": false,
         "text": "P3",
         "textfont": {
          "size": 12
         },
         "textposition": "top center",
         "type": "scatter3d",
         "x": [
          460.14147857747537
         ],
         "y": [
          -477.2008868824885
         ],
         "z": [
          357.9737656940304
         ]
        },
        {
         "line": {
          "color": "rgba(152, 223, 138, 0.8)",
          "width": 4
         },
         "mode": "lines",
         "showlegend": false,
         "type": "scatter3d",
         "x": [
          457.5971412628929,
          465.0922180050344
         ],
         "y": [
          -478.80329619407155,
          -476.368949310141
         ],
         "z": [
          351.4194822070446,
          352.79708152401105
         ]
        },
        {
         "line": {
          "color": "rgba(152, 223, 138, 0.8)",
          "width": 4
         },
         "mode": "lines",
         "showlegend": false,
         "type": "scatter3d",
         "x": [
          465.0922180050344,
          462.68581589205786
         ],
         "y": [
          -476.368949310141,
          -475.5984775709054
         ],
         "z": [
          352.79708152401105,
          364.52804918101623
         ]
        },
        {
         "line": {
          "color": "rgba(152, 223, 138, 0.8)",
          "width": 4
         },
         "mode": "lines",
         "showlegend": false,
         "type": "scatter3d",
         "x": [
          462.68581589205786,
          455.19073914991634
         ],
         "y": [
          -475.5984775709054,
          -478.032824454836
         ],
         "z": [
          364.52804918101623,
          363.1504498640498
         ]
        },
        {
         "line": {
          "color": "rgba(152, 223, 138, 0.8)",
          "width": 4
         },
         "mode": "lines",
         "showlegend": false,
         "type": "scatter3d",
         "x": [
          455.19073914991634,
          457.5971412628929
         ],
         "y": [
          -478.032824454836,
          -478.80329619407155
         ],
         "z": [
          363.1504498640498,
          351.4194822070446
         ]
        },
        {
         "color": "rgba(255, 152, 150, 0.8)",
         "name": "P5",
         "opacity": 0.8,
         "type": "mesh3d",
         "x": [
          456.6129296381809,
          464.1080063803224,
          461.7016042673459,
          454.20652752520436
         ],
         "y": [
          -477.03557863945707,
          -474.6012317555265,
          -473.8307600162909,
          -476.2651069002215
         ],
         "z": [
          351.4946630967575,
          352.87226241372394,
          364.6032300707291,
          363.2256307537627
         ]
        },
        {
         "marker": {
          "color": "red",
          "size": 3
         },
         "mode": "markers+text",
         "showlegend": false,
         "text": "P4",
         "textfont": {
          "size": 12
         },
         "textposition": "top center",
         "type": "scatter3d",
         "x": [
          459.1572669527634
         ],
         "y": [
          -475.433169327874
         ],
         "z": [
          358.0489465837433
         ]
        },
        {
         "line": {
          "color": "rgba(255, 152, 150, 0.8)",
          "width": 4
         },
         "mode": "lines",
         "showlegend": false,
         "type": "scatter3d",
         "x": [
          456.6129296381809,
          464.1080063803224
         ],
         "y": [
          -477.03557863945707,
          -474.6012317555265
         ],
         "z": [
          351.4946630967575,
          352.87226241372394
         ]
        },
        {
         "line": {
          "color": "rgba(255, 152, 150, 0.8)",
          "width": 4
         },
         "mode": "lines",
         "showlegend": false,
         "type": "scatter3d",
         "x": [
          464.1080063803224,
          461.7016042673459
         ],
         "y": [
          -474.6012317555265,
          -473.8307600162909
         ],
         "z": [
          352.87226241372394,
          364.6032300707291
         ]
        },
        {
         "line": {
          "color": "rgba(255, 152, 150, 0.8)",
          "width": 4
         },
         "mode": "lines",
         "showlegend": false,
         "type": "scatter3d",
         "x": [
          461.7016042673459,
          454.20652752520436
         ],
         "y": [
          -473.8307600162909,
          -476.2651069002215
         ],
         "z": [
          364.6032300707291,
          363.2256307537627
         ]
        },
        {
         "line": {
          "color": "rgba(255, 152, 150, 0.8)",
          "width": 4
         },
         "mode": "lines",
         "showlegend": false,
         "type": "scatter3d",
         "x": [
          454.20652752520436,
          456.6129296381809
         ],
         "y": [
          -476.2651069002215,
          -477.03557863945707
         ],
         "z": [
          363.2256307537627,
          351.4946630967575
         ]
        },
        {
         "color": "rgba(197, 176, 213, 0.8)",
         "name": "P6",
         "opacity": 0.8,
         "type": "mesh3d",
         "x": [
          455.62876067628696,
          463.1238374184285,
          460.71743530545194,
          453.2223585633104
         ],
         "y": [
          -475.3508466761543,
          -472.9164997922237,
          -472.14602805298813,
          -474.5803749369187
         ],
         "z": [
          351.5635089881903,
          352.9411083051567,
          364.6720759621619,
          363.29447664519546
         ]
        },
        {
         "marker": {
          "color": "red",
          "size": 3
         },
         "mode": "markers+text",
         "showlegend": false,
         "text": "P5",
         "textfont": {
          "size": 12
         },
         "textposition": "top center",
         "type": "scatter3d",
         "x": [
          458.17309799086945
         ],
         "y": [
          -473.74843736457126
         ],
         "z": [
          358.1177924751761
         ]
        },
        {
         "line": {
          "color": "rgba(197, 176, 213, 0.8)",
          "width": 4
         },
         "mode": "lines",
         "showlegend": false,
         "type": "scatter3d",
         "x": [
          455.62876067628696,
          463.1238374184285
         ],
         "y": [
          -475.3508466761543,
          -472.9164997922237
         ],
         "z": [
          351.5635089881903,
          352.9411083051567
         ]
        },
        {
         "line": {
          "color": "rgba(197, 176, 213, 0.8)",
          "width": 4
         },
         "mode": "lines",
         "showlegend": false,
         "type": "scatter3d",
         "x": [
          463.1238374184285,
          460.71743530545194
         ],
         "y": [
          -472.9164997922237,
          -472.14602805298813
         ],
         "z": [
          352.9411083051567,
          364.6720759621619
         ]
        },
        {
         "line": {
          "color": "rgba(197, 176, 213, 0.8)",
          "width": 4
         },
         "mode": "lines",
         "showlegend": false,
         "type": "scatter3d",
         "x": [
          460.71743530545194,
          453.2223585633104
         ],
         "y": [
          -472.14602805298813,
          -474.5803749369187
         ],
         "z": [
          364.6720759621619,
          363.29447664519546
         ]
        },
        {
         "line": {
          "color": "rgba(197, 176, 213, 0.8)",
          "width": 4
         },
         "mode": "lines",
         "showlegend": false,
         "type": "scatter3d",
         "x": [
          453.2223585633104,
          455.62876067628696
         ],
         "y": [
          -474.5803749369187,
          -475.3508466761543
         ],
         "z": [
          363.29447664519546,
          351.5635089881903
         ]
        },
        {
         "color": "rgba(140, 86, 75, 0.8)",
         "name": "P7",
         "opacity": 0.8,
         "type": "mesh3d",
         "x": [
          454.4970348592247,
          461.9921116013662,
          459.5857094883897,
          452.09063274624816
         ],
         "y": [
          -473.7413557771596,
          -471.307008893229,
          -470.53653715399344,
          -472.970884037924
         ],
         "z": [
          352.80770843371187,
          354.1853077506783,
          365.9162754076835,
          364.53867609071705
         ]
        },
        {
         "marker": {
          "color": "red",
          "size": 3
         },
         "mode": "markers+text",
         "showlegend": false,
         "text": "P6",
         "textfont": {
          "size": 12
         },
         "textposition": "top center",
         "type": "scatter3d",
         "x": [
          457.0413721738072
         ],
         "y": [
          -472.1389464655765
         ],
         "z": [
          359.3619919206977
         ]
        },
        {
         "line": {
          "color": "rgba(140, 86, 75, 0.8)",
          "width": 4
         },
         "mode": "lines",
         "showlegend": false,
         "type": "scatter3d",
         "x": [
          454.4970348592247,
          461.9921116013662
         ],
         "y": [
          -473.7413557771596,
          -471.307008893229
         ],
         "z": [
          352.80770843371187,
          354.1853077506783
         ]
        },
        {
         "line": {
          "color": "rgba(140, 86, 75, 0.8)",
          "width": 4
         },
         "mode": "lines",
         "showlegend": false,
         "type": "scatter3d",
         "x": [
          461.9921116013662,
          459.5857094883897
         ],
         "y": [
          -471.307008893229,
          -470.53653715399344
         ],
         "z": [
          354.1853077506783,
          365.9162754076835
         ]
        },
        {
         "line": {
          "color": "rgba(140, 86, 75, 0.8)",
          "width": 4
         },
         "mode": "lines",
         "showlegend": false,
         "type": "scatter3d",
         "x": [
          459.5857094883897,
          452.09063274624816
         ],
         "y": [
          -470.53653715399344,
          -472.970884037924
         ],
         "z": [
          365.9162754076835,
          364.53867609071705
         ]
        },
        {
         "line": {
          "color": "rgba(140, 86, 75, 0.8)",
          "width": 4
         },
         "mode": "lines",
         "showlegend": false,
         "type": "scatter3d",
         "x": [
          452.09063274624816,
          454.4970348592247
         ],
         "y": [
          -472.970884037924,
          -473.7413557771596
         ],
         "z": [
          364.53867609071705,
          352.80770843371187
         ]
        },
        {
         "color": "rgba(227, 119, 194, 0.8)",
         "name": "P8",
         "opacity": 0.8,
         "type": "mesh3d",
         "x": [
          452.84267789342465,
          460.33775463556617,
          457.93135252258963,
          450.4362757804481
         ],
         "y": [
          -472.4801609372935,
          -470.0458140533629,
          -469.27534231412733,
          -471.7096891980579
         ],
         "z": [
          351.9293500092264,
          353.30694932619286,
          365.03791698319804,
          363.6603176662316
         ]
        },
        {
         "marker": {
          "color": "red",
          "size": 3
         },
         "mode": "markers+text",
         "showlegend": false,
         "text": "P7",
         "textfont": {
          "size": 12
         },
         "textposition": "top center",
         "type": "scatter3d",
         "x": [
          455.38701520800714
         ],
         "y": [
          -470.8777516257104
         ],
         "z": [
          358.48363349621224
         ]
        },
        {
         "line": {
          "color": "rgba(227, 119, 194, 0.8)",
          "width": 4
         },
         "mode": "lines",
         "showlegend": false,
         "type": "scatter3d",
         "x": [
          452.84267789342465,
          460.33775463556617
         ],
         "y": [
          -472.4801609372935,
          -470.0458140533629
         ],
         "z": [
          351.9293500092264,
          353.30694932619286
         ]
        },
        {
         "line": {
          "color": "rgba(227, 119, 194, 0.8)",
          "width": 4
         },
         "mode": "lines",
         "showlegend": false,
         "type": "scatter3d",
         "x": [
          460.33775463556617,
          457.93135252258963
         ],
         "y": [
          -470.0458140533629,
          -469.27534231412733
         ],
         "z": [
          353.30694932619286,
          365.03791698319804
         ]
        },
        {
         "line": {
          "color": "rgba(227, 119, 194, 0.8)",
          "width": 4
         },
         "mode": "lines",
         "showlegend": false,
         "type": "scatter3d",
         "x": [
          457.93135252258963,
          450.4362757804481
         ],
         "y": [
          -469.27534231412733,
          -471.7096891980579
         ],
         "z": [
          365.03791698319804,
          363.6603176662316
         ]
        },
        {
         "line": {
          "color": "rgba(227, 119, 194, 0.8)",
          "width": 4
         },
         "mode": "lines",
         "showlegend": false,
         "type": "scatter3d",
         "x": [
          450.4362757804481,
          452.84267789342465
         ],
         "y": [
          -471.7096891980579,
          -472.4801609372935
         ],
         "z": [
          363.6603176662316,
          351.9293500092264
         ]
        },
        {
         "color": "rgba(127, 127, 127, 0.8)",
         "name": "P9",
         "opacity": 0.8,
         "type": "mesh3d",
         "x": [
          451.20251593477303,
          458.69759267691455,
          456.291190563938,
          448.7961138217965
         ],
         "y": [
          -471.37922682114754,
          -468.94487993721697,
          -468.1744081979814,
          -470.60875508191197
         ],
         "z": [
          352.1781121609127,
          353.55571147787913,
          365.2866791348843,
          363.90907981791787
         ]
        },
        {
         "marker": {
          "color": "red",
          "size": 3
         },
         "mode": "markers+text",
         "showlegend": false,
         "text": "P8",
         "textfont": {
          "size": 12
         },
         "textposition": "top center",
         "type": "scatter3d",
         "x": [
          453.7468532493555
         ],
         "y": [
          -469.77681750956447
         ],
         "z": [
          358.7323956478985
         ]
        },
        {
         "line": {
          "color": "rgba(127, 127, 127, 0.8)",
          "width": 4
         },
         "mode": "lines",
         "showlegend": false,
         "type": "scatter3d",
         "x": [
          451.20251593477303,
          458.69759267691455
         ],
         "y": [
          -471.37922682114754,
          -468.94487993721697
         ],
         "z": [
          352.1781121609127,
          353.55571147787913
         ]
        },
        {
         "line": {
          "color": "rgba(127, 127, 127, 0.8)",
          "width": 4
         },
         "mode": "lines",
         "showlegend": false,
         "type": "scatter3d",
         "x": [
          458.69759267691455,
          456.291190563938
         ],
         "y": [
          -468.94487993721697,
          -468.1744081979814
         ],
         "z": [
          353.55571147787913,
          365.2866791348843
         ]
        },
        {
         "line": {
          "color": "rgba(127, 127, 127, 0.8)",
          "width": 4
         },
         "mode": "lines",
         "showlegend": false,
         "type": "scatter3d",
         "x": [
          456.291190563938,
          448.7961138217965
         ],
         "y": [
          -468.1744081979814,
          -470.60875508191197
         ],
         "z": [
          365.2866791348843,
          363.90907981791787
         ]
        },
        {
         "line": {
          "color": "rgba(127, 127, 127, 0.8)",
          "width": 4
         },
         "mode": "lines",
         "showlegend": false,
         "type": "scatter3d",
         "x": [
          448.7961138217965,
          451.20251593477303
         ],
         "y": [
          -470.60875508191197,
          -471.37922682114754
         ],
         "z": [
          363.90907981791787,
          352.1781121609127
         ]
        },
        {
         "color": "rgba(188, 189, 34, 0.8)",
         "name": "P10",
         "opacity": 0.8,
         "type": "mesh3d",
         "x": [
          449.23556577909284,
          456.73064252123436,
          454.3242404082578,
          446.8291636661163
         ],
         "y": [
          -470.8839199606389,
          -468.4495730767083,
          -467.67910133747273,
          -470.1134482214033
         ],
         "z": [
          351.43086248916,
          352.80846180612645,
          364.5394294631316,
          363.1618301461652
         ]
        },
        {
         "marker": {
          "color": "red",
          "size": 3
         },
         "mode": "markers+text",
         "showlegend": false,
         "text": "P9",
         "textfont": {
          "size": 12
         },
         "textposition": "top center",
         "type": "scatter3d",
         "x": [
          451.77990309367533
         ],
         "y": [
          -469.2815106490558
         ],
         "z": [
          357.9851459761458
         ]
        },
        {
         "line": {
          "color": "rgba(188, 189, 34, 0.8)",
          "width": 4
         },
         "mode": "lines",
         "showlegend": false,
         "type": "scatter3d",
         "x": [
          449.23556577909284,
          456.73064252123436
         ],
         "y": [
          -470.8839199606389,
          -468.4495730767083
         ],
         "z": [
          351.43086248916,
          352.80846180612645
         ]
        },
        {
         "line": {
          "color": "rgba(188, 189, 34, 0.8)",
          "width": 4
         },
         "mode": "lines",
         "showlegend": false,
         "type": "scatter3d",
         "x": [
          456.73064252123436,
          454.3242404082578
         ],
         "y": [
          -468.4495730767083,
          -467.67910133747273
         ],
         "z": [
          352.80846180612645,
          364.5394294631316
         ]
        },
        {
         "line": {
          "color": "rgba(188, 189, 34, 0.8)",
          "width": 4
         },
         "mode": "lines",
         "showlegend": false,
         "type": "scatter3d",
         "x": [
          454.3242404082578,
          446.8291636661163
         ],
         "y": [
          -467.67910133747273,
          -470.1134482214033
         ],
         "z": [
          364.5394294631316,
          363.1618301461652
         ]
        },
        {
         "line": {
          "color": "rgba(188, 189, 34, 0.8)",
          "width": 4
         },
         "mode": "lines",
         "showlegend": false,
         "type": "scatter3d",
         "x": [
          446.8291636661163,
          449.23556577909284
         ],
         "y": [
          -470.1134482214033,
          -470.8839199606389
         ],
         "z": [
          363.1618301461652,
          351.43086248916
         ]
        },
        {
         "color": "rgba(23, 190, 207, 0.8)",
         "name": "P11",
         "opacity": 0.8,
         "type": "mesh3d",
         "x": [
          447.27991279278154,
          454.77498953492307,
          452.36858742194653,
          444.873510679805
         ],
         "y": [
          -470.72789585583837,
          -468.2935489719078,
          -467.5230772326722,
          -469.9574241166028
         ],
         "z": [
          350.68383440102,
          352.06143371798646,
          363.79240137499164,
          362.4148020580252
         ]
        },
        {
         "marker": {
          "color": "red",
          "size": 3
         },
         "mode": "markers+text",
         "showlegend": false,
         "text": "",
         "textfont": {
          "size": 12
         },
         "textposition": "top center",
         "type": "scatter3d",
         "x": [
          449.82425010736404
         ],
         "y": [
          -469.1254865442553
         ],
         "z": [
          357.23811788800583
         ]
        },
        {
         "line": {
          "color": "rgba(23, 190, 207, 0.8)",
          "width": 4
         },
         "mode": "lines",
         "showlegend": false,
         "type": "scatter3d",
         "x": [
          447.27991279278154,
          454.77498953492307
         ],
         "y": [
          -470.72789585583837,
          -468.2935489719078
         ],
         "z": [
          350.68383440102,
          352.06143371798646
         ]
        },
        {
         "line": {
          "color": "rgba(23, 190, 207, 0.8)",
          "width": 4
         },
         "mode": "lines",
         "showlegend": false,
         "type": "scatter3d",
         "x": [
          454.77498953492307,
          452.36858742194653
         ],
         "y": [
          -468.2935489719078,
          -467.5230772326722
         ],
         "z": [
          352.06143371798646,
          363.79240137499164
         ]
        },
        {
         "line": {
          "color": "rgba(23, 190, 207, 0.8)",
          "width": 4
         },
         "mode": "lines",
         "showlegend": false,
         "type": "scatter3d",
         "x": [
          452.36858742194653,
          444.873510679805
         ],
         "y": [
          -467.5230772326722,
          -469.9574241166028
         ],
         "z": [
          363.79240137499164,
          362.4148020580252
         ]
        },
        {
         "line": {
          "color": "rgba(23, 190, 207, 0.8)",
          "width": 4
         },
         "mode": "lines",
         "showlegend": false,
         "type": "scatter3d",
         "x": [
          444.873510679805,
          447.27991279278154
         ],
         "y": [
          -469.9574241166028,
          -470.72789585583837
         ],
         "z": [
          362.4148020580252,
          350.68383440102
         ]
        },
        {
         "line": {
          "color": "black",
          "width": 2
         },
         "mode": "lines",
         "name": "Berechnete Hakenlinie",
         "type": "scatter3d",
         "x": {
          "bdata": "1qDfDnvbfEC0SD7Rctp8QHSKmeJlz3xAdnUKf0PCfEDELVoqhLJ8QJocZgLFonxAdlfedamQfEAg19s2MXZ8QEuOZBzzW3xAKJaqe3o8fECmbeEgMB18QA==",
          "dtype": "f8"
         },
         "y": {
          "bdata": "HifWJmYIfsD2Q8r9Zgl+wOyS+d4h7n3AvOcp1TbTfcCWDfZC7rZ9wAI/dZn5m33AvNjtHzmCfcD+5klFC259wKJoMthtXH3AunJPEYFUfcCiui3+AVJ9wA==",
          "dtype": "f8"
         },
         "z": {
          "bdata": "WokbCaR2dkC+g9vs5XB2QG7oEU/sXnZAPR1Wi5RfdkDbhjZ8yGB2QIrJXHriYXZAAU0KuMp1dkC1F3r2vGd2QE+3f+S3a3ZAUVVtKMNfdkA+2bNUz1N2QA==",
          "dtype": "f8"
         }
        },
        {
         "mode": "text",
         "showlegend": false,
         "text": [
          "Pre-Position"
         ],
         "textfont": {
          "size": 10
         },
         "textposition": "top center",
         "type": "scatter3d",
         "x": [
          461.71754348139564
         ],
         "y": [
          -480.5249393811554
         ],
         "z": [
          359.4150477481504
         ]
        },
        {
         "mode": "text",
         "showlegend": false,
         "text": [
          "Loslassen"
         ],
         "textfont": {
          "size": 10
         },
         "textposition": "top center",
         "type": "scatter3d",
         "x": [
          449.82425010736404
         ],
         "y": [
          -469.1254865442553
         ],
         "z": [
          357.23811788800583
         ]
        },
        {
         "color": "rgba(0,255,0,0.2)",
         "name": "optimale Trajektorie",
         "opacity": 0.8,
         "type": "mesh3d",
         "x": [
          457.9728647764701,
          465.64917837496046,
          465.46222221419424,
          457.7859086157039
         ],
         "y": [
          -481.5626078337671,
          -479.31513246011025,
          -479.48727086712455,
          -481.7347462407814
         ],
         "z": [
          353.3404601752966,
          353.49232848152855,
          365.4896371698462,
          365.33776886361426
         ]
        },
        {
         "line": {
          "color": "rgba(0,255,0,0.2)",
          "width": 3
         },
         "mode": "lines",
         "showlegend": false,
         "type": "scatter3d",
         "x": [
          457.9728647764701,
          465.64917837496046
         ],
         "y": [
          -481.5626078337671,
          -479.31513246011025
         ],
         "z": [
          353.3404601752966,
          353.49232848152855
         ]
        },
        {
         "line": {
          "color": "rgba(0,255,0,0.2)",
          "width": 3
         },
         "mode": "lines",
         "showlegend": false,
         "type": "scatter3d",
         "x": [
          465.64917837496046,
          465.46222221419424
         ],
         "y": [
          -479.31513246011025,
          -479.48727086712455
         ],
         "z": [
          353.49232848152855,
          365.4896371698462
         ]
        },
        {
         "line": {
          "color": "rgba(0,255,0,0.2)",
          "width": 3
         },
         "mode": "lines",
         "showlegend": false,
         "type": "scatter3d",
         "x": [
          465.46222221419424,
          457.7859086157039
         ],
         "y": [
          -479.48727086712455,
          -481.7347462407814
         ],
         "z": [
          365.4896371698462,
          365.33776886361426
         ]
        },
        {
         "line": {
          "color": "rgba(0,255,0,0.2)",
          "width": 3
         },
         "mode": "lines",
         "showlegend": false,
         "type": "scatter3d",
         "x": [
          457.7859086157039,
          457.9728647764701
         ],
         "y": [
          -481.7347462407814,
          -481.5626078337671
         ],
         "z": [
          365.33776886361426,
          353.3404601752966
         ]
        },
        {
         "marker": {
          "color": "green",
          "size": 4
         },
         "mode": "markers",
         "name": "Mitte P11",
         "showlegend": false,
         "type": "scatter3d",
         "x": [
          461.71754349533217
         ],
         "y": [
          -480.52493935044583
         ],
         "z": [
          359.4150486725714
         ]
        },
        {
         "color": "rgba(0,255,0,0.2)",
         "name": "optimale Trajektorie",
         "opacity": 0.8,
         "type": "mesh3d",
         "x": [
          458.11453956029294,
          465.4127135219074,
          464.3018539993714,
          457.00368003775696
         ],
         "y": [
          -479.04316042627704,
          -475.88979061961993,
          -476.6853703165506,
          -479.8387401232077
         ],
         "z": [
          353.1194192150149,
          354.009877349054,
          365.9318337349423,
          365.04137560090317
         ]
        },
        {
         "line": {
          "color": "rgba(0,255,0,0.2)",
          "width": 3
         },
         "mode": "lines",
         "showlegend": false,
         "type": "scatter3d",
         "x": [
          458.11453956029294,
          465.4127135219074
         ],
         "y": [
          -479.04316042627704,
          -475.88979061961993
         ],
         "z": [
          353.1194192150149,
          354.009877349054
         ]
        },
        {
         "line": {
          "color": "rgba(0,255,0,0.2)",
          "width": 3
         },
         "mode": "lines",
         "showlegend": false,
         "type": "scatter3d",
         "x": [
          465.4127135219074,
          464.3018539993714
         ],
         "y": [
          -475.88979061961993,
          -476.6853703165506
         ],
         "z": [
          354.009877349054,
          365.9318337349423
         ]
        },
        {
         "line": {
          "color": "rgba(0,255,0,0.2)",
          "width": 3
         },
         "mode": "lines",
         "showlegend": false,
         "type": "scatter3d",
         "x": [
          464.3018539993714,
          457.00368003775696
         ],
         "y": [
          -476.6853703165506,
          -479.8387401232077
         ],
         "z": [
          365.9318337349423,
          365.04137560090317
         ]
        },
        {
         "line": {
          "color": "rgba(0,255,0,0.2)",
          "width": 3
         },
         "mode": "lines",
         "showlegend": false,
         "type": "scatter3d",
         "x": [
          457.00368003775696,
          458.11453956029294
         ],
         "y": [
          -479.8387401232077,
          -479.04316042627704
         ],
         "z": [
          365.04137560090317,
          353.1194192150149
         ]
        },
        {
         "marker": {
          "color": "green",
          "size": 4
         },
         "mode": "markers",
         "name": "Mitte P11",
         "showlegend": false,
         "type": "scatter3d",
         "x": [
          461.2081967798322
         ],
         "y": [
          -477.8642653714138
         ],
         "z": [
          359.5256264749786
         ]
        },
        {
         "color": "rgba(0,255,0,0.2)",
         "name": "optimale Trajektorie",
         "opacity": 0.8,
         "type": "mesh3d",
         "x": [
          455.76403845186644,
          462.6464074337826,
          461.4547772323044,
          454.57240825038826
         ],
         "y": [
          -472.84438133485787,
          -468.88200167015475,
          -469.7152326647216,
          -473.67761232942473
         ],
         "z": [
          353.1955241205882,
          354.16120760367426,
          366.07278783354377,
          365.1071043504577
         ]
        },
        {
         "line": {
          "color": "rgba(0,255,0,0.2)",
          "width": 3
         },
         "mode": "lines",
         "showlegend": false,
         "type": "scatter3d",
         "x": [
          455.76403845186644,
          462.6464074337826
         ],
         "y": [
          -472.84438133485787,
          -468.88200167015475
         ],
         "z": [
          353.1955241205882,
          354.16120760367426
         ]
        },
        {
         "line": {
          "color": "rgba(0,255,0,0.2)",
          "width": 3
         },
         "mode": "lines",
         "showlegend": false,
         "type": "scatter3d",
         "x": [
          462.6464074337826,
          461.4547772323044
         ],
         "y": [
          -468.88200167015475,
          -469.7152326647216
         ],
         "z": [
          354.16120760367426,
          366.07278783354377
         ]
        },
        {
         "line": {
          "color": "rgba(0,255,0,0.2)",
          "width": 3
         },
         "mode": "lines",
         "showlegend": false,
         "type": "scatter3d",
         "x": [
          461.4547772323044,
          454.57240825038826
         ],
         "y": [
          -469.7152326647216,
          -473.67761232942473
         ],
         "z": [
          366.07278783354377,
          365.1071043504577
         ]
        },
        {
         "line": {
          "color": "rgba(0,255,0,0.2)",
          "width": 3
         },
         "mode": "lines",
         "showlegend": false,
         "type": "scatter3d",
         "x": [
          454.57240825038826,
          455.76403845186644
         ],
         "y": [
          -473.67761232942473,
          -472.84438133485787
         ],
         "z": [
          365.1071043504577,
          353.1955241205882
         ]
        },
        {
         "marker": {
          "color": "green",
          "size": 4
         },
         "mode": "markers",
         "name": "Mitte P11",
         "showlegend": false,
         "type": "scatter3d",
         "x": [
          458.60940784208543
         ],
         "y": [
          -471.2798069997898
         ],
         "z": [
          359.6341559770659
         ]
        },
        {
         "color": "rgba(0,255,0,0.2)",
         "name": "optimale Trajektorie",
         "opacity": 0.8,
         "type": "mesh3d",
         "x": [
          452.1742861490474,
          457.11534483095204,
          455.8096257511067,
          450.8685670692021
         ],
         "y": [
          -469.779821443829,
          -463.6005682503875,
          -464.8306978143133,
          -471.0099510077548
         ],
         "z": [
          352.5171802743569,
          353.70156579998513,
          365.5667197787788,
          364.3823342531506
         ]
        },
        {
         "line": {
          "color": "rgba(0,255,0,0.2)",
          "width": 3
         },
         "mode": "lines",
         "showlegend": false,
         "type": "scatter3d",
         "x": [
          452.1742861490474,
          457.11534483095204
         ],
         "y": [
          -469.779821443829,
          -463.6005682503875
         ],
         "z": [
          352.5171802743569,
          353.70156579998513
         ]
        },
        {
         "line": {
          "color": "rgba(0,255,0,0.2)",
          "width": 3
         },
         "mode": "lines",
         "showlegend": false,
         "type": "scatter3d",
         "x": [
          457.11534483095204,
          455.8096257511067
         ],
         "y": [
          -463.6005682503875,
          -464.8306978143133
         ],
         "z": [
          353.70156579998513,
          365.5667197787788
         ]
        },
        {
         "line": {
          "color": "rgba(0,255,0,0.2)",
          "width": 3
         },
         "mode": "lines",
         "showlegend": false,
         "type": "scatter3d",
         "x": [
          455.8096257511067,
          450.8685670692021
         ],
         "y": [
          -464.8306978143133,
          -471.0099510077548
         ],
         "z": [
          365.5667197787788,
          364.3823342531506
         ]
        },
        {
         "line": {
          "color": "rgba(0,255,0,0.2)",
          "width": 3
         },
         "mode": "lines",
         "showlegend": false,
         "type": "scatter3d",
         "x": [
          450.8685670692021,
          452.1742861490474
         ],
         "y": [
          -471.0099510077548,
          -469.779821443829
         ],
         "z": [
          364.3823342531506,
          352.5171802743569
         ]
        },
        {
         "marker": {
          "color": "green",
          "size": 4
         },
         "mode": "markers",
         "name": "Mitte P11",
         "showlegend": false,
         "type": "scatter3d",
         "x": [
          453.99195595007706
         ],
         "y": [
          -467.30525962907114
         ],
         "z": [
          359.04195002656786
         ]
        },
        {
         "color": "rgba(0,255,0,0.2)",
         "name": "optimale Trajektorie",
         "opacity": 0.8,
         "type": "mesh3d",
         "x": [
          449.69759242352484,
          451.2017300236709,
          447.74560100101235,
          446.2414634008663
         ],
         "y": [
          -468.0681933297913,
          -460.723410358206,
          -464.1806268335184,
          -471.52540980510366
         ],
         "z": [
          354.28893876274583,
          357.080306380982,
          368.03944988864566,
          365.2480822704095
         ]
        },
        {
         "line": {
          "color": "rgba(0,255,0,0.2)",
          "width": 3
         },
         "mode": "lines",
         "showlegend": false,
         "type": "scatter3d",
         "x": [
          449.69759242352484,
          451.2017300236709
         ],
         "y": [
          -468.0681933297913,
          -460.723410358206
         ],
         "z": [
          354.28893876274583,
          357.080306380982
         ]
        },
        {
         "line": {
          "color": "rgba(0,255,0,0.2)",
          "width": 3
         },
         "mode": "lines",
         "showlegend": false,
         "type": "scatter3d",
         "x": [
          451.2017300236709,
          447.74560100101235
         ],
         "y": [
          -460.723410358206,
          -464.1806268335184
         ],
         "z": [
          357.080306380982,
          368.03944988864566
         ]
        },
        {
         "line": {
          "color": "rgba(0,255,0,0.2)",
          "width": 3
         },
         "mode": "lines",
         "showlegend": false,
         "type": "scatter3d",
         "x": [
          447.74560100101235,
          446.2414634008663
         ],
         "y": [
          -464.1806268335184,
          -471.52540980510366
         ],
         "z": [
          368.03944988864566,
          365.2480822704095
         ]
        },
        {
         "line": {
          "color": "rgba(0,255,0,0.2)",
          "width": 3
         },
         "mode": "lines",
         "showlegend": false,
         "type": "scatter3d",
         "x": [
          446.2414634008663,
          449.69759242352484
         ],
         "y": [
          -471.52540980510366,
          -468.0681933297913
         ],
         "z": [
          365.2480822704095,
          354.28893876274583
         ]
        },
        {
         "marker": {
          "color": "green",
          "size": 4
         },
         "mode": "markers",
         "name": "Mitte P11",
         "showlegend": false,
         "type": "scatter3d",
         "x": [
          448.7215967122686
         ],
         "y": [
          -466.12441008165484
         ],
         "z": [
          361.16419432569575
         ]
        },
        {
         "line": {
          "color": "green",
          "width": 2
         },
         "mode": "lines",
         "name": "Optimale Hakenlinie",
         "type": "scatter3d",
         "x": {
          "bdata": "jF7jDnvbfEAwiCXGVNN8QO36byLAqXxAdcozDd9ffECEgf6oiwt8QA==",
          "dtype": "f8"
         },
         "y": {
          "bdata": "xujNJmYIfsCaFO0H1N19wKCU5xZ6dH3AZbrrV+I0fcABAG2V/SF9wA==",
          "dtype": "f8"
         },
         "z": {
          "bdata": "FK8TCqR2dkAef073aHh2QPrgvIAlenZAzoLK06twdkDVsDqKoJJ2QA==",
          "dtype": "f8"
         }
        },
        {
         "line": {
          "color": "gray",
          "dash": "dash"
         },
         "mode": "lines",
         "name": "Direkte Gerade Spitze -> Senke",
         "type": "scatter3d",
         "x": [
          461.6530315812081,
          449.82425010736404
         ],
         "y": [
          -480.5876443768496,
          -469.1254865442553
         ],
         "z": [
          359.05613408801935,
          357.23811788800583
         ]
        },
        {
         "marker": {
          "color": "magenta",
          "size": 8
         },
         "mode": "markers",
         "name": "Spitze",
         "type": "scatter3d",
         "x": [
          461.6530315812081
         ],
         "y": [
          -480.5876443768496
         ],
         "z": [
          359.05613408801935
         ]
        },
        {
         "marker": {
          "color": "magenta",
          "size": 8
         },
         "mode": "markers",
         "name": "Senke",
         "type": "scatter3d",
         "x": [
          449.82425010736404
         ],
         "y": [
          -469.1254865442553
         ],
         "z": [
          357.23811788800583
         ]
        },
        {
         "mode": "text",
         "showlegend": false,
         "text": [
          "Spitze"
         ],
         "textfont": {
          "size": 10
         },
         "textposition": "top center",
         "type": "scatter3d",
         "x": [
          461.6530315812081
         ],
         "y": [
          -480.5876443768496
         ],
         "z": [
          359.05613408801935
         ]
        },
        {
         "mode": "text",
         "showlegend": false,
         "text": [
          "Senke"
         ],
         "textfont": {
          "size": 10
         },
         "textposition": "top center",
         "type": "scatter3d",
         "x": [
          449.82425010736404
         ],
         "y": [
          -469.1254865442553
         ],
         "z": [
          357.23811788800583
         ]
        }
       ],
       "layout": {
        "legend": {
         "title": {
          "text": "Legende"
         }
        },
        "scene": {
         "aspectmode": "cube",
         "camera": {
          "eye": {
           "x": -1,
           "y": -1,
           "z": -1.5
          },
          "up": {
           "x": 0,
           "y": -1,
           "z": 0
          }
         },
         "xaxis": {
          "title": {
           "text": "X"
          }
         },
         "yaxis": {
          "title": {
           "text": "Y"
          }
         },
         "zaxis": {
          "title": {
           "text": "Z"
          }
         }
        },
        "template": {
         "data": {
          "bar": [
           {
            "error_x": {
             "color": "#2a3f5f"
            },
            "error_y": {
             "color": "#2a3f5f"
            },
            "marker": {
             "line": {
              "color": "#E5ECF6",
              "width": 0.5
             },
             "pattern": {
              "fillmode": "overlay",
              "size": 10,
              "solidity": 0.2
             }
            },
            "type": "bar"
           }
          ],
          "barpolar": [
           {
            "marker": {
             "line": {
              "color": "#E5ECF6",
              "width": 0.5
             },
             "pattern": {
              "fillmode": "overlay",
              "size": 10,
              "solidity": 0.2
             }
            },
            "type": "barpolar"
           }
          ],
          "carpet": [
           {
            "aaxis": {
             "endlinecolor": "#2a3f5f",
             "gridcolor": "white",
             "linecolor": "white",
             "minorgridcolor": "white",
             "startlinecolor": "#2a3f5f"
            },
            "baxis": {
             "endlinecolor": "#2a3f5f",
             "gridcolor": "white",
             "linecolor": "white",
             "minorgridcolor": "white",
             "startlinecolor": "#2a3f5f"
            },
            "type": "carpet"
           }
          ],
          "choropleth": [
           {
            "colorbar": {
             "outlinewidth": 0,
             "ticks": ""
            },
            "type": "choropleth"
           }
          ],
          "contour": [
           {
            "colorbar": {
             "outlinewidth": 0,
             "ticks": ""
            },
            "colorscale": [
             [
              0,
              "#0d0887"
             ],
             [
              0.1111111111111111,
              "#46039f"
             ],
             [
              0.2222222222222222,
              "#7201a8"
             ],
             [
              0.3333333333333333,
              "#9c179e"
             ],
             [
              0.4444444444444444,
              "#bd3786"
             ],
             [
              0.5555555555555556,
              "#d8576b"
             ],
             [
              0.6666666666666666,
              "#ed7953"
             ],
             [
              0.7777777777777778,
              "#fb9f3a"
             ],
             [
              0.8888888888888888,
              "#fdca26"
             ],
             [
              1,
              "#f0f921"
             ]
            ],
            "type": "contour"
           }
          ],
          "contourcarpet": [
           {
            "colorbar": {
             "outlinewidth": 0,
             "ticks": ""
            },
            "type": "contourcarpet"
           }
          ],
          "heatmap": [
           {
            "colorbar": {
             "outlinewidth": 0,
             "ticks": ""
            },
            "colorscale": [
             [
              0,
              "#0d0887"
             ],
             [
              0.1111111111111111,
              "#46039f"
             ],
             [
              0.2222222222222222,
              "#7201a8"
             ],
             [
              0.3333333333333333,
              "#9c179e"
             ],
             [
              0.4444444444444444,
              "#bd3786"
             ],
             [
              0.5555555555555556,
              "#d8576b"
             ],
             [
              0.6666666666666666,
              "#ed7953"
             ],
             [
              0.7777777777777778,
              "#fb9f3a"
             ],
             [
              0.8888888888888888,
              "#fdca26"
             ],
             [
              1,
              "#f0f921"
             ]
            ],
            "type": "heatmap"
           }
          ],
          "histogram": [
           {
            "marker": {
             "pattern": {
              "fillmode": "overlay",
              "size": 10,
              "solidity": 0.2
             }
            },
            "type": "histogram"
           }
          ],
          "histogram2d": [
           {
            "colorbar": {
             "outlinewidth": 0,
             "ticks": ""
            },
            "colorscale": [
             [
              0,
              "#0d0887"
             ],
             [
              0.1111111111111111,
              "#46039f"
             ],
             [
              0.2222222222222222,
              "#7201a8"
             ],
             [
              0.3333333333333333,
              "#9c179e"
             ],
             [
              0.4444444444444444,
              "#bd3786"
             ],
             [
              0.5555555555555556,
              "#d8576b"
             ],
             [
              0.6666666666666666,
              "#ed7953"
             ],
             [
              0.7777777777777778,
              "#fb9f3a"
             ],
             [
              0.8888888888888888,
              "#fdca26"
             ],
             [
              1,
              "#f0f921"
             ]
            ],
            "type": "histogram2d"
           }
          ],
          "histogram2dcontour": [
           {
            "colorbar": {
             "outlinewidth": 0,
             "ticks": ""
            },
            "colorscale": [
             [
              0,
              "#0d0887"
             ],
             [
              0.1111111111111111,
              "#46039f"
             ],
             [
              0.2222222222222222,
              "#7201a8"
             ],
             [
              0.3333333333333333,
              "#9c179e"
             ],
             [
              0.4444444444444444,
              "#bd3786"
             ],
             [
              0.5555555555555556,
              "#d8576b"
             ],
             [
              0.6666666666666666,
              "#ed7953"
             ],
             [
              0.7777777777777778,
              "#fb9f3a"
             ],
             [
              0.8888888888888888,
              "#fdca26"
             ],
             [
              1,
              "#f0f921"
             ]
            ],
            "type": "histogram2dcontour"
           }
          ],
          "mesh3d": [
           {
            "colorbar": {
             "outlinewidth": 0,
             "ticks": ""
            },
            "type": "mesh3d"
           }
          ],
          "parcoords": [
           {
            "line": {
             "colorbar": {
              "outlinewidth": 0,
              "ticks": ""
             }
            },
            "type": "parcoords"
           }
          ],
          "pie": [
           {
            "automargin": true,
            "type": "pie"
           }
          ],
          "scatter": [
           {
            "fillpattern": {
             "fillmode": "overlay",
             "size": 10,
             "solidity": 0.2
            },
            "type": "scatter"
           }
          ],
          "scatter3d": [
           {
            "line": {
             "colorbar": {
              "outlinewidth": 0,
              "ticks": ""
             }
            },
            "marker": {
             "colorbar": {
              "outlinewidth": 0,
              "ticks": ""
             }
            },
            "type": "scatter3d"
           }
          ],
          "scattercarpet": [
           {
            "marker": {
             "colorbar": {
              "outlinewidth": 0,
              "ticks": ""
             }
            },
            "type": "scattercarpet"
           }
          ],
          "scattergeo": [
           {
            "marker": {
             "colorbar": {
              "outlinewidth": 0,
              "ticks": ""
             }
            },
            "type": "scattergeo"
           }
          ],
          "scattergl": [
           {
            "marker": {
             "colorbar": {
              "outlinewidth": 0,
              "ticks": ""
             }
            },
            "type": "scattergl"
           }
          ],
          "scattermap": [
           {
            "marker": {
             "colorbar": {
              "outlinewidth": 0,
              "ticks": ""
             }
            },
            "type": "scattermap"
           }
          ],
          "scattermapbox": [
           {
            "marker": {
             "colorbar": {
              "outlinewidth": 0,
              "ticks": ""
             }
            },
            "type": "scattermapbox"
           }
          ],
          "scatterpolar": [
           {
            "marker": {
             "colorbar": {
              "outlinewidth": 0,
              "ticks": ""
             }
            },
            "type": "scatterpolar"
           }
          ],
          "scatterpolargl": [
           {
            "marker": {
             "colorbar": {
              "outlinewidth": 0,
              "ticks": ""
             }
            },
            "type": "scatterpolargl"
           }
          ],
          "scatterternary": [
           {
            "marker": {
             "colorbar": {
              "outlinewidth": 0,
              "ticks": ""
             }
            },
            "type": "scatterternary"
           }
          ],
          "surface": [
           {
            "colorbar": {
             "outlinewidth": 0,
             "ticks": ""
            },
            "colorscale": [
             [
              0,
              "#0d0887"
             ],
             [
              0.1111111111111111,
              "#46039f"
             ],
             [
              0.2222222222222222,
              "#7201a8"
             ],
             [
              0.3333333333333333,
              "#9c179e"
             ],
             [
              0.4444444444444444,
              "#bd3786"
             ],
             [
              0.5555555555555556,
              "#d8576b"
             ],
             [
              0.6666666666666666,
              "#ed7953"
             ],
             [
              0.7777777777777778,
              "#fb9f3a"
             ],
             [
              0.8888888888888888,
              "#fdca26"
             ],
             [
              1,
              "#f0f921"
             ]
            ],
            "type": "surface"
           }
          ],
          "table": [
           {
            "cells": {
             "fill": {
              "color": "#EBF0F8"
             },
             "line": {
              "color": "white"
             }
            },
            "header": {
             "fill": {
              "color": "#C8D4E3"
             },
             "line": {
              "color": "white"
             }
            },
            "type": "table"
           }
          ]
         },
         "layout": {
          "annotationdefaults": {
           "arrowcolor": "#2a3f5f",
           "arrowhead": 0,
           "arrowwidth": 1
          },
          "autotypenumbers": "strict",
          "coloraxis": {
           "colorbar": {
            "outlinewidth": 0,
            "ticks": ""
           }
          },
          "colorscale": {
           "diverging": [
            [
             0,
             "#8e0152"
            ],
            [
             0.1,
             "#c51b7d"
            ],
            [
             0.2,
             "#de77ae"
            ],
            [
             0.3,
             "#f1b6da"
            ],
            [
             0.4,
             "#fde0ef"
            ],
            [
             0.5,
             "#f7f7f7"
            ],
            [
             0.6,
             "#e6f5d0"
            ],
            [
             0.7,
             "#b8e186"
            ],
            [
             0.8,
             "#7fbc41"
            ],
            [
             0.9,
             "#4d9221"
            ],
            [
             1,
             "#276419"
            ]
           ],
           "sequential": [
            [
             0,
             "#0d0887"
            ],
            [
             0.1111111111111111,
             "#46039f"
            ],
            [
             0.2222222222222222,
             "#7201a8"
            ],
            [
             0.3333333333333333,
             "#9c179e"
            ],
            [
             0.4444444444444444,
             "#bd3786"
            ],
            [
             0.5555555555555556,
             "#d8576b"
            ],
            [
             0.6666666666666666,
             "#ed7953"
            ],
            [
             0.7777777777777778,
             "#fb9f3a"
            ],
            [
             0.8888888888888888,
             "#fdca26"
            ],
            [
             1,
             "#f0f921"
            ]
           ],
           "sequentialminus": [
            [
             0,
             "#0d0887"
            ],
            [
             0.1111111111111111,
             "#46039f"
            ],
            [
             0.2222222222222222,
             "#7201a8"
            ],
            [
             0.3333333333333333,
             "#9c179e"
            ],
            [
             0.4444444444444444,
             "#bd3786"
            ],
            [
             0.5555555555555556,
             "#d8576b"
            ],
            [
             0.6666666666666666,
             "#ed7953"
            ],
            [
             0.7777777777777778,
             "#fb9f3a"
            ],
            [
             0.8888888888888888,
             "#fdca26"
            ],
            [
             1,
             "#f0f921"
            ]
           ]
          },
          "colorway": [
           "#636efa",
           "#EF553B",
           "#00cc96",
           "#ab63fa",
           "#FFA15A",
           "#19d3f3",
           "#FF6692",
           "#B6E880",
           "#FF97FF",
           "#FECB52"
          ],
          "font": {
           "color": "#2a3f5f"
          },
          "geo": {
           "bgcolor": "white",
           "lakecolor": "white",
           "landcolor": "#E5ECF6",
           "showlakes": true,
           "showland": true,
           "subunitcolor": "white"
          },
          "hoverlabel": {
           "align": "left"
          },
          "hovermode": "closest",
          "mapbox": {
           "style": "light"
          },
          "paper_bgcolor": "white",
          "plot_bgcolor": "#E5ECF6",
          "polar": {
           "angularaxis": {
            "gridcolor": "white",
            "linecolor": "white",
            "ticks": ""
           },
           "bgcolor": "#E5ECF6",
           "radialaxis": {
            "gridcolor": "white",
            "linecolor": "white",
            "ticks": ""
           }
          },
          "scene": {
           "xaxis": {
            "backgroundcolor": "#E5ECF6",
            "gridcolor": "white",
            "gridwidth": 2,
            "linecolor": "white",
            "showbackground": true,
            "ticks": "",
            "zerolinecolor": "white"
           },
           "yaxis": {
            "backgroundcolor": "#E5ECF6",
            "gridcolor": "white",
            "gridwidth": 2,
            "linecolor": "white",
            "showbackground": true,
            "ticks": "",
            "zerolinecolor": "white"
           },
           "zaxis": {
            "backgroundcolor": "#E5ECF6",
            "gridcolor": "white",
            "gridwidth": 2,
            "linecolor": "white",
            "showbackground": true,
            "ticks": "",
            "zerolinecolor": "white"
           }
          },
          "shapedefaults": {
           "line": {
            "color": "#2a3f5f"
           }
          },
          "ternary": {
           "aaxis": {
            "gridcolor": "white",
            "linecolor": "white",
            "ticks": ""
           },
           "baxis": {
            "gridcolor": "white",
            "linecolor": "white",
            "ticks": ""
           },
           "bgcolor": "#E5ECF6",
           "caxis": {
            "gridcolor": "white",
            "linecolor": "white",
            "ticks": ""
           }
          },
          "title": {
           "x": 0.05
          },
          "xaxis": {
           "automargin": true,
           "gridcolor": "white",
           "linecolor": "white",
           "ticks": "",
           "title": {
            "standoff": 15
           },
           "zerolinecolor": "white",
           "zerolinewidth": 2
          },
          "yaxis": {
           "automargin": true,
           "gridcolor": "white",
           "linecolor": "white",
           "ticks": "",
           "title": {
            "standoff": 15
           },
           "zerolinecolor": "white",
           "zerolinewidth": 2
          }
         }
        },
        "title": {
         "text": "Haken 9, Trajektorien-Ansatz 3"
        }
       }
      }
     },
     "metadata": {},
     "output_type": "display_data"
    },
    {
     "name": "stdout",
     "output_type": "stream",
     "text": [
      "HTML-Datei '/home/mo/Thesis/Evaluation/Trajektorientests/traj4.html' erfolgreich erstellt!\n"
     ]
    },
    {
     "data": {
      "application/vnd.plotly.v1+json": {
       "config": {
        "plotlyServerURL": "https://plot.ly"
       },
       "data": [
        {
         "color": "rgba(31, 119, 180, 0.8)",
         "name": "P1",
         "opacity": 0.8,
         "type": "mesh3d",
         "x": [
          457.9728647693214,
          465.649178377738,
          465.46222219346987,
          457.7859085850533
         ],
         "y": [
          -481.56260785034806,
          -479.3151325115045,
          -479.4872709119627,
          -481.73474625080627
         ],
         "z": [
          353.3404592442778,
          353.49232756397754,
          365.48963625202305,
          365.3377679323233
         ]
        },
        {
         "marker": {
          "color": "red",
          "size": 3
         },
         "mode": "markers+text",
         "showlegend": false,
         "text": "",
         "textfont": {
          "size": 12
         },
         "textposition": "top center",
         "type": "scatter3d",
         "x": [
          461.71754348139564
         ],
         "y": [
          -480.5249393811554
         ],
         "z": [
          359.4150477481504
         ]
        },
        {
         "line": {
          "color": "rgba(31, 119, 180, 0.8)",
          "width": 4
         },
         "mode": "lines",
         "showlegend": false,
         "type": "scatter3d",
         "x": [
          457.9728647693214,
          465.649178377738
         ],
         "y": [
          -481.56260785034806,
          -479.3151325115045
         ],
         "z": [
          353.3404592442778,
          353.49232756397754
         ]
        },
        {
         "line": {
          "color": "rgba(31, 119, 180, 0.8)",
          "width": 4
         },
         "mode": "lines",
         "showlegend": false,
         "type": "scatter3d",
         "x": [
          465.649178377738,
          465.46222219346987
         ],
         "y": [
          -479.3151325115045,
          -479.4872709119627
         ],
         "z": [
          353.49232756397754,
          365.48963625202305
         ]
        },
        {
         "line": {
          "color": "rgba(31, 119, 180, 0.8)",
          "width": 4
         },
         "mode": "lines",
         "showlegend": false,
         "type": "scatter3d",
         "x": [
          465.46222219346987,
          457.7859085850533
         ],
         "y": [
          -479.4872709119627,
          -481.73474625080627
         ],
         "z": [
          365.48963625202305,
          365.3377679323233
         ]
        },
        {
         "line": {
          "color": "rgba(31, 119, 180, 0.8)",
          "width": 4
         },
         "mode": "lines",
         "showlegend": false,
         "type": "scatter3d",
         "x": [
          457.7859085850533,
          457.9728647693214
         ],
         "y": [
          -481.73474625080627,
          -481.56260785034806
         ],
         "z": [
          365.3377679323233,
          353.3404592442778
         ]
        },
        {
         "color": "rgba(214, 39, 40, 0.8)",
         "name": "P2",
         "opacity": 0.8,
         "type": "mesh3d",
         "x": [
          457.9728647693214,
          465.649178377738,
          465.46222219346987,
          457.7859085850533
         ],
         "y": [
          -481.56260785034806,
          -479.3151325115045,
          -479.4872709119627,
          -481.73474625080627
         ],
         "z": [
          353.3404592442778,
          353.49232756397754,
          365.48963625202305,
          365.3377679323233
         ]
        },
        {
         "marker": {
          "color": "red",
          "size": 3
         },
         "mode": "markers+text",
         "showlegend": false,
         "text": "",
         "textfont": {
          "size": 12
         },
         "textposition": "top center",
         "type": "scatter3d",
         "x": [
          461.71754348139564
         ],
         "y": [
          -480.5249393811554
         ],
         "z": [
          359.4150477481504
         ]
        },
        {
         "line": {
          "color": "rgba(214, 39, 40, 0.8)",
          "width": 4
         },
         "mode": "lines",
         "showlegend": false,
         "type": "scatter3d",
         "x": [
          457.9728647693214,
          465.649178377738
         ],
         "y": [
          -481.56260785034806,
          -479.3151325115045
         ],
         "z": [
          353.3404592442778,
          353.49232756397754
         ]
        },
        {
         "line": {
          "color": "rgba(214, 39, 40, 0.8)",
          "width": 4
         },
         "mode": "lines",
         "showlegend": false,
         "type": "scatter3d",
         "x": [
          465.649178377738,
          465.46222219346987
         ],
         "y": [
          -479.3151325115045,
          -479.4872709119627
         ],
         "z": [
          353.49232756397754,
          365.48963625202305
         ]
        },
        {
         "line": {
          "color": "rgba(214, 39, 40, 0.8)",
          "width": 4
         },
         "mode": "lines",
         "showlegend": false,
         "type": "scatter3d",
         "x": [
          465.46222219346987,
          457.7859085850533
         ],
         "y": [
          -479.4872709119627,
          -481.73474625080627
         ],
         "z": [
          365.48963625202305,
          365.3377679323233
         ]
        },
        {
         "line": {
          "color": "rgba(214, 39, 40, 0.8)",
          "width": 4
         },
         "mode": "lines",
         "showlegend": false,
         "type": "scatter3d",
         "x": [
          457.7859085850533,
          457.9728647693214
         ],
         "y": [
          -481.73474625080627,
          -481.56260785034806
         ],
         "z": [
          365.3377679323233,
          353.3404592442778
         ]
        },
        {
         "color": "rgba(247, 182, 210, 0.8)",
         "name": "P3",
         "opacity": 0.8,
         "type": "mesh3d",
         "x": [
          454.39121662571563,
          462.0675302341322,
          461.8805740498641,
          454.2042604414475
         ],
         "y": [
          -478.0991997305262,
          -475.85172439168264,
          -476.02386279214085,
          -478.2713381309844
         ],
         "z": [
          352.9202202992045,
          353.0720886189043,
          365.0693973069498,
          364.91752898725
         ]
        },
        {
         "marker": {
          "color": "red",
          "size": 3
         },
         "mode": "markers+text",
         "showlegend": false,
         "text": "",
         "textfont": {
          "size": 12
         },
         "textposition": "top center",
         "type": "scatter3d",
         "x": [
          458.1358953377899
         ],
         "y": [
          -477.06153126133347
         ],
         "z": [
          358.99480880307715
         ]
        },
        {
         "line": {
          "color": "rgba(247, 182, 210, 0.8)",
          "width": 4
         },
         "mode": "lines",
         "showlegend": false,
         "type": "scatter3d",
         "x": [
          454.39121662571563,
          462.0675302341322
         ],
         "y": [
          -478.0991997305262,
          -475.85172439168264
         ],
         "z": [
          352.9202202992045,
          353.0720886189043
         ]
        },
        {
         "line": {
          "color": "rgba(247, 182, 210, 0.8)",
          "width": 4
         },
         "mode": "lines",
         "showlegend": false,
         "type": "scatter3d",
         "x": [
          462.0675302341322,
          461.8805740498641
         ],
         "y": [
          -475.85172439168264,
          -476.02386279214085
         ],
         "z": [
          353.0720886189043,
          365.0693973069498
         ]
        },
        {
         "line": {
          "color": "rgba(247, 182, 210, 0.8)",
          "width": 4
         },
         "mode": "lines",
         "showlegend": false,
         "type": "scatter3d",
         "x": [
          461.8805740498641,
          454.2042604414475
         ],
         "y": [
          -476.02386279214085,
          -478.2713381309844
         ],
         "z": [
          365.0693973069498,
          364.91752898725
         ]
        },
        {
         "line": {
          "color": "rgba(247, 182, 210, 0.8)",
          "width": 4
         },
         "mode": "lines",
         "showlegend": false,
         "type": "scatter3d",
         "x": [
          454.2042604414475,
          454.39121662571563
         ],
         "y": [
          -478.2713381309844,
          -478.0991997305262
         ],
         "z": [
          364.91752898725,
          352.9202202992045
         ]
        },
        {
         "line": {
          "color": "black",
          "width": 2
         },
         "mode": "lines",
         "name": "Berechnete Hakenlinie",
         "type": "scatter3d",
         "x": {
          "bdata": "1qDfDnvbfEDWoN8Oe9t8QMn3lqAsonxA",
          "dtype": "f8"
         },
         "y": {
          "bdata": "HifWJmYIfsAeJ9YmZgh+wL4xNAj80H3A",
          "dtype": "f8"
         },
         "z": {
          "bdata": "WokbCaR2dkBaiRsJpHZ2QNSvorzqb3ZA",
          "dtype": "f8"
         }
        },
        {
         "mode": "text",
         "showlegend": false,
         "text": [
          "Pre-Position"
         ],
         "textfont": {
          "size": 10
         },
         "textposition": "top center",
         "type": "scatter3d",
         "x": [
          461.71754348139564
         ],
         "y": [
          -480.5249393811554
         ],
         "z": [
          359.4150477481504
         ]
        },
        {
         "mode": "text",
         "showlegend": false,
         "text": [
          "Loslassen"
         ],
         "textfont": {
          "size": 10
         },
         "textposition": "top center",
         "type": "scatter3d",
         "x": [
          458.1358953377899
         ],
         "y": [
          -477.06153126133347
         ],
         "z": [
          358.99480880307715
         ]
        },
        {
         "color": "rgba(0,255,0,0.2)",
         "name": "optimale Trajektorie",
         "opacity": 0.8,
         "type": "mesh3d",
         "x": [
          457.9728647764701,
          465.64917837496046,
          465.46222221419424,
          457.7859086157039
         ],
         "y": [
          -481.5626078337671,
          -479.31513246011025,
          -479.48727086712455,
          -481.7347462407814
         ],
         "z": [
          353.3404601752966,
          353.49232848152855,
          365.4896371698462,
          365.33776886361426
         ]
        },
        {
         "line": {
          "color": "rgba(0,255,0,0.2)",
          "width": 3
         },
         "mode": "lines",
         "showlegend": false,
         "type": "scatter3d",
         "x": [
          457.9728647764701,
          465.64917837496046
         ],
         "y": [
          -481.5626078337671,
          -479.31513246011025
         ],
         "z": [
          353.3404601752966,
          353.49232848152855
         ]
        },
        {
         "line": {
          "color": "rgba(0,255,0,0.2)",
          "width": 3
         },
         "mode": "lines",
         "showlegend": false,
         "type": "scatter3d",
         "x": [
          465.64917837496046,
          465.46222221419424
         ],
         "y": [
          -479.31513246011025,
          -479.48727086712455
         ],
         "z": [
          353.49232848152855,
          365.4896371698462
         ]
        },
        {
         "line": {
          "color": "rgba(0,255,0,0.2)",
          "width": 3
         },
         "mode": "lines",
         "showlegend": false,
         "type": "scatter3d",
         "x": [
          465.46222221419424,
          457.7859086157039
         ],
         "y": [
          -479.48727086712455,
          -481.7347462407814
         ],
         "z": [
          365.4896371698462,
          365.33776886361426
         ]
        },
        {
         "line": {
          "color": "rgba(0,255,0,0.2)",
          "width": 3
         },
         "mode": "lines",
         "showlegend": false,
         "type": "scatter3d",
         "x": [
          457.7859086157039,
          457.9728647764701
         ],
         "y": [
          -481.7347462407814,
          -481.5626078337671
         ],
         "z": [
          365.33776886361426,
          353.3404601752966
         ]
        },
        {
         "marker": {
          "color": "green",
          "size": 4
         },
         "mode": "markers",
         "name": "Mitte P3",
         "showlegend": false,
         "type": "scatter3d",
         "x": [
          461.71754349533217
         ],
         "y": [
          -480.52493935044583
         ],
         "z": [
          359.4150486725714
         ]
        },
        {
         "color": "rgba(0,255,0,0.2)",
         "name": "optimale Trajektorie",
         "opacity": 0.8,
         "type": "mesh3d",
         "x": [
          458.11453956029294,
          465.4127135219074,
          464.3018539993714,
          457.00368003775696
         ],
         "y": [
          -479.04316042627704,
          -475.88979061961993,
          -476.6853703165506,
          -479.8387401232077
         ],
         "z": [
          353.1194192150149,
          354.009877349054,
          365.9318337349423,
          365.04137560090317
         ]
        },
        {
         "line": {
          "color": "rgba(0,255,0,0.2)",
          "width": 3
         },
         "mode": "lines",
         "showlegend": false,
         "type": "scatter3d",
         "x": [
          458.11453956029294,
          465.4127135219074
         ],
         "y": [
          -479.04316042627704,
          -475.88979061961993
         ],
         "z": [
          353.1194192150149,
          354.009877349054
         ]
        },
        {
         "line": {
          "color": "rgba(0,255,0,0.2)",
          "width": 3
         },
         "mode": "lines",
         "showlegend": false,
         "type": "scatter3d",
         "x": [
          465.4127135219074,
          464.3018539993714
         ],
         "y": [
          -475.88979061961993,
          -476.6853703165506
         ],
         "z": [
          354.009877349054,
          365.9318337349423
         ]
        },
        {
         "line": {
          "color": "rgba(0,255,0,0.2)",
          "width": 3
         },
         "mode": "lines",
         "showlegend": false,
         "type": "scatter3d",
         "x": [
          464.3018539993714,
          457.00368003775696
         ],
         "y": [
          -476.6853703165506,
          -479.8387401232077
         ],
         "z": [
          365.9318337349423,
          365.04137560090317
         ]
        },
        {
         "line": {
          "color": "rgba(0,255,0,0.2)",
          "width": 3
         },
         "mode": "lines",
         "showlegend": false,
         "type": "scatter3d",
         "x": [
          457.00368003775696,
          458.11453956029294
         ],
         "y": [
          -479.8387401232077,
          -479.04316042627704
         ],
         "z": [
          365.04137560090317,
          353.1194192150149
         ]
        },
        {
         "marker": {
          "color": "green",
          "size": 4
         },
         "mode": "markers",
         "name": "Mitte P3",
         "showlegend": false,
         "type": "scatter3d",
         "x": [
          461.2081967798322
         ],
         "y": [
          -477.8642653714138
         ],
         "z": [
          359.5256264749786
         ]
        },
        {
         "color": "rgba(0,255,0,0.2)",
         "name": "optimale Trajektorie",
         "opacity": 0.8,
         "type": "mesh3d",
         "x": [
          455.76403845186644,
          462.6464074337826,
          461.4547772323044,
          454.57240825038826
         ],
         "y": [
          -472.84438133485787,
          -468.88200167015475,
          -469.7152326647216,
          -473.67761232942473
         ],
         "z": [
          353.1955241205882,
          354.16120760367426,
          366.07278783354377,
          365.1071043504577
         ]
        },
        {
         "line": {
          "color": "rgba(0,255,0,0.2)",
          "width": 3
         },
         "mode": "lines",
         "showlegend": false,
         "type": "scatter3d",
         "x": [
          455.76403845186644,
          462.6464074337826
         ],
         "y": [
          -472.84438133485787,
          -468.88200167015475
         ],
         "z": [
          353.1955241205882,
          354.16120760367426
         ]
        },
        {
         "line": {
          "color": "rgba(0,255,0,0.2)",
          "width": 3
         },
         "mode": "lines",
         "showlegend": false,
         "type": "scatter3d",
         "x": [
          462.6464074337826,
          461.4547772323044
         ],
         "y": [
          -468.88200167015475,
          -469.7152326647216
         ],
         "z": [
          354.16120760367426,
          366.07278783354377
         ]
        },
        {
         "line": {
          "color": "rgba(0,255,0,0.2)",
          "width": 3
         },
         "mode": "lines",
         "showlegend": false,
         "type": "scatter3d",
         "x": [
          461.4547772323044,
          454.57240825038826
         ],
         "y": [
          -469.7152326647216,
          -473.67761232942473
         ],
         "z": [
          366.07278783354377,
          365.1071043504577
         ]
        },
        {
         "line": {
          "color": "rgba(0,255,0,0.2)",
          "width": 3
         },
         "mode": "lines",
         "showlegend": false,
         "type": "scatter3d",
         "x": [
          454.57240825038826,
          455.76403845186644
         ],
         "y": [
          -473.67761232942473,
          -472.84438133485787
         ],
         "z": [
          365.1071043504577,
          353.1955241205882
         ]
        },
        {
         "marker": {
          "color": "green",
          "size": 4
         },
         "mode": "markers",
         "name": "Mitte P3",
         "showlegend": false,
         "type": "scatter3d",
         "x": [
          458.60940784208543
         ],
         "y": [
          -471.2798069997898
         ],
         "z": [
          359.6341559770659
         ]
        },
        {
         "color": "rgba(0,255,0,0.2)",
         "name": "optimale Trajektorie",
         "opacity": 0.8,
         "type": "mesh3d",
         "x": [
          452.1742861490474,
          457.11534483095204,
          455.8096257511067,
          450.8685670692021
         ],
         "y": [
          -469.779821443829,
          -463.6005682503875,
          -464.8306978143133,
          -471.0099510077548
         ],
         "z": [
          352.5171802743569,
          353.70156579998513,
          365.5667197787788,
          364.3823342531506
         ]
        },
        {
         "line": {
          "color": "rgba(0,255,0,0.2)",
          "width": 3
         },
         "mode": "lines",
         "showlegend": false,
         "type": "scatter3d",
         "x": [
          452.1742861490474,
          457.11534483095204
         ],
         "y": [
          -469.779821443829,
          -463.6005682503875
         ],
         "z": [
          352.5171802743569,
          353.70156579998513
         ]
        },
        {
         "line": {
          "color": "rgba(0,255,0,0.2)",
          "width": 3
         },
         "mode": "lines",
         "showlegend": false,
         "type": "scatter3d",
         "x": [
          457.11534483095204,
          455.8096257511067
         ],
         "y": [
          -463.6005682503875,
          -464.8306978143133
         ],
         "z": [
          353.70156579998513,
          365.5667197787788
         ]
        },
        {
         "line": {
          "color": "rgba(0,255,0,0.2)",
          "width": 3
         },
         "mode": "lines",
         "showlegend": false,
         "type": "scatter3d",
         "x": [
          455.8096257511067,
          450.8685670692021
         ],
         "y": [
          -464.8306978143133,
          -471.0099510077548
         ],
         "z": [
          365.5667197787788,
          364.3823342531506
         ]
        },
        {
         "line": {
          "color": "rgba(0,255,0,0.2)",
          "width": 3
         },
         "mode": "lines",
         "showlegend": false,
         "type": "scatter3d",
         "x": [
          450.8685670692021,
          452.1742861490474
         ],
         "y": [
          -471.0099510077548,
          -469.779821443829
         ],
         "z": [
          364.3823342531506,
          352.5171802743569
         ]
        },
        {
         "marker": {
          "color": "green",
          "size": 4
         },
         "mode": "markers",
         "name": "Mitte P3",
         "showlegend": false,
         "type": "scatter3d",
         "x": [
          453.99195595007706
         ],
         "y": [
          -467.30525962907114
         ],
         "z": [
          359.04195002656786
         ]
        },
        {
         "color": "rgba(0,255,0,0.2)",
         "name": "optimale Trajektorie",
         "opacity": 0.8,
         "type": "mesh3d",
         "x": [
          449.69759242352484,
          451.2017300236709,
          447.74560100101235,
          446.2414634008663
         ],
         "y": [
          -468.0681933297913,
          -460.723410358206,
          -464.1806268335184,
          -471.52540980510366
         ],
         "z": [
          354.28893876274583,
          357.080306380982,
          368.03944988864566,
          365.2480822704095
         ]
        },
        {
         "line": {
          "color": "rgba(0,255,0,0.2)",
          "width": 3
         },
         "mode": "lines",
         "showlegend": false,
         "type": "scatter3d",
         "x": [
          449.69759242352484,
          451.2017300236709
         ],
         "y": [
          -468.0681933297913,
          -460.723410358206
         ],
         "z": [
          354.28893876274583,
          357.080306380982
         ]
        },
        {
         "line": {
          "color": "rgba(0,255,0,0.2)",
          "width": 3
         },
         "mode": "lines",
         "showlegend": false,
         "type": "scatter3d",
         "x": [
          451.2017300236709,
          447.74560100101235
         ],
         "y": [
          -460.723410358206,
          -464.1806268335184
         ],
         "z": [
          357.080306380982,
          368.03944988864566
         ]
        },
        {
         "line": {
          "color": "rgba(0,255,0,0.2)",
          "width": 3
         },
         "mode": "lines",
         "showlegend": false,
         "type": "scatter3d",
         "x": [
          447.74560100101235,
          446.2414634008663
         ],
         "y": [
          -464.1806268335184,
          -471.52540980510366
         ],
         "z": [
          368.03944988864566,
          365.2480822704095
         ]
        },
        {
         "line": {
          "color": "rgba(0,255,0,0.2)",
          "width": 3
         },
         "mode": "lines",
         "showlegend": false,
         "type": "scatter3d",
         "x": [
          446.2414634008663,
          449.69759242352484
         ],
         "y": [
          -471.52540980510366,
          -468.0681933297913
         ],
         "z": [
          365.2480822704095,
          354.28893876274583
         ]
        },
        {
         "marker": {
          "color": "green",
          "size": 4
         },
         "mode": "markers",
         "name": "Mitte P3",
         "showlegend": false,
         "type": "scatter3d",
         "x": [
          448.7215967122686
         ],
         "y": [
          -466.12441008165484
         ],
         "z": [
          361.16419432569575
         ]
        },
        {
         "line": {
          "color": "green",
          "width": 2
         },
         "mode": "lines",
         "name": "Optimale Hakenlinie",
         "type": "scatter3d",
         "x": {
          "bdata": "jF7jDnvbfEAwiCXGVNN8QO36byLAqXxAdcozDd9ffECEgf6oiwt8QA==",
          "dtype": "f8"
         },
         "y": {
          "bdata": "xujNJmYIfsCaFO0H1N19wKCU5xZ6dH3AZbrrV+I0fcABAG2V/SF9wA==",
          "dtype": "f8"
         },
         "z": {
          "bdata": "FK8TCqR2dkAef073aHh2QPrgvIAlenZAzoLK06twdkDVsDqKoJJ2QA==",
          "dtype": "f8"
         }
        },
        {
         "line": {
          "color": "gray",
          "dash": "dash"
         },
         "mode": "lines",
         "name": "Direkte Gerade Spitze -> Senke",
         "type": "scatter3d",
         "x": [
          461.6530315812081,
          449.82425010736404
         ],
         "y": [
          -480.5876443768496,
          -469.1254865442553
         ],
         "z": [
          359.05613408801935,
          357.23811788800583
         ]
        },
        {
         "marker": {
          "color": "magenta",
          "size": 8
         },
         "mode": "markers",
         "name": "Spitze",
         "type": "scatter3d",
         "x": [
          461.6530315812081
         ],
         "y": [
          -480.5876443768496
         ],
         "z": [
          359.05613408801935
         ]
        },
        {
         "marker": {
          "color": "magenta",
          "size": 8
         },
         "mode": "markers",
         "name": "Senke",
         "type": "scatter3d",
         "x": [
          449.82425010736404
         ],
         "y": [
          -469.1254865442553
         ],
         "z": [
          357.23811788800583
         ]
        },
        {
         "mode": "text",
         "showlegend": false,
         "text": [
          "Spitze"
         ],
         "textfont": {
          "size": 10
         },
         "textposition": "top center",
         "type": "scatter3d",
         "x": [
          461.6530315812081
         ],
         "y": [
          -480.5876443768496
         ],
         "z": [
          359.05613408801935
         ]
        },
        {
         "mode": "text",
         "showlegend": false,
         "text": [
          "Senke"
         ],
         "textfont": {
          "size": 10
         },
         "textposition": "top center",
         "type": "scatter3d",
         "x": [
          449.82425010736404
         ],
         "y": [
          -469.1254865442553
         ],
         "z": [
          357.23811788800583
         ]
        }
       ],
       "layout": {
        "legend": {
         "title": {
          "text": "Legende"
         }
        },
        "scene": {
         "aspectmode": "cube",
         "camera": {
          "eye": {
           "x": -1,
           "y": -1,
           "z": -1.5
          },
          "up": {
           "x": 0,
           "y": -1,
           "z": 0
          }
         },
         "xaxis": {
          "title": {
           "text": "X"
          }
         },
         "yaxis": {
          "title": {
           "text": "Y"
          }
         },
         "zaxis": {
          "title": {
           "text": "Z"
          }
         }
        },
        "template": {
         "data": {
          "bar": [
           {
            "error_x": {
             "color": "#2a3f5f"
            },
            "error_y": {
             "color": "#2a3f5f"
            },
            "marker": {
             "line": {
              "color": "#E5ECF6",
              "width": 0.5
             },
             "pattern": {
              "fillmode": "overlay",
              "size": 10,
              "solidity": 0.2
             }
            },
            "type": "bar"
           }
          ],
          "barpolar": [
           {
            "marker": {
             "line": {
              "color": "#E5ECF6",
              "width": 0.5
             },
             "pattern": {
              "fillmode": "overlay",
              "size": 10,
              "solidity": 0.2
             }
            },
            "type": "barpolar"
           }
          ],
          "carpet": [
           {
            "aaxis": {
             "endlinecolor": "#2a3f5f",
             "gridcolor": "white",
             "linecolor": "white",
             "minorgridcolor": "white",
             "startlinecolor": "#2a3f5f"
            },
            "baxis": {
             "endlinecolor": "#2a3f5f",
             "gridcolor": "white",
             "linecolor": "white",
             "minorgridcolor": "white",
             "startlinecolor": "#2a3f5f"
            },
            "type": "carpet"
           }
          ],
          "choropleth": [
           {
            "colorbar": {
             "outlinewidth": 0,
             "ticks": ""
            },
            "type": "choropleth"
           }
          ],
          "contour": [
           {
            "colorbar": {
             "outlinewidth": 0,
             "ticks": ""
            },
            "colorscale": [
             [
              0,
              "#0d0887"
             ],
             [
              0.1111111111111111,
              "#46039f"
             ],
             [
              0.2222222222222222,
              "#7201a8"
             ],
             [
              0.3333333333333333,
              "#9c179e"
             ],
             [
              0.4444444444444444,
              "#bd3786"
             ],
             [
              0.5555555555555556,
              "#d8576b"
             ],
             [
              0.6666666666666666,
              "#ed7953"
             ],
             [
              0.7777777777777778,
              "#fb9f3a"
             ],
             [
              0.8888888888888888,
              "#fdca26"
             ],
             [
              1,
              "#f0f921"
             ]
            ],
            "type": "contour"
           }
          ],
          "contourcarpet": [
           {
            "colorbar": {
             "outlinewidth": 0,
             "ticks": ""
            },
            "type": "contourcarpet"
           }
          ],
          "heatmap": [
           {
            "colorbar": {
             "outlinewidth": 0,
             "ticks": ""
            },
            "colorscale": [
             [
              0,
              "#0d0887"
             ],
             [
              0.1111111111111111,
              "#46039f"
             ],
             [
              0.2222222222222222,
              "#7201a8"
             ],
             [
              0.3333333333333333,
              "#9c179e"
             ],
             [
              0.4444444444444444,
              "#bd3786"
             ],
             [
              0.5555555555555556,
              "#d8576b"
             ],
             [
              0.6666666666666666,
              "#ed7953"
             ],
             [
              0.7777777777777778,
              "#fb9f3a"
             ],
             [
              0.8888888888888888,
              "#fdca26"
             ],
             [
              1,
              "#f0f921"
             ]
            ],
            "type": "heatmap"
           }
          ],
          "histogram": [
           {
            "marker": {
             "pattern": {
              "fillmode": "overlay",
              "size": 10,
              "solidity": 0.2
             }
            },
            "type": "histogram"
           }
          ],
          "histogram2d": [
           {
            "colorbar": {
             "outlinewidth": 0,
             "ticks": ""
            },
            "colorscale": [
             [
              0,
              "#0d0887"
             ],
             [
              0.1111111111111111,
              "#46039f"
             ],
             [
              0.2222222222222222,
              "#7201a8"
             ],
             [
              0.3333333333333333,
              "#9c179e"
             ],
             [
              0.4444444444444444,
              "#bd3786"
             ],
             [
              0.5555555555555556,
              "#d8576b"
             ],
             [
              0.6666666666666666,
              "#ed7953"
             ],
             [
              0.7777777777777778,
              "#fb9f3a"
             ],
             [
              0.8888888888888888,
              "#fdca26"
             ],
             [
              1,
              "#f0f921"
             ]
            ],
            "type": "histogram2d"
           }
          ],
          "histogram2dcontour": [
           {
            "colorbar": {
             "outlinewidth": 0,
             "ticks": ""
            },
            "colorscale": [
             [
              0,
              "#0d0887"
             ],
             [
              0.1111111111111111,
              "#46039f"
             ],
             [
              0.2222222222222222,
              "#7201a8"
             ],
             [
              0.3333333333333333,
              "#9c179e"
             ],
             [
              0.4444444444444444,
              "#bd3786"
             ],
             [
              0.5555555555555556,
              "#d8576b"
             ],
             [
              0.6666666666666666,
              "#ed7953"
             ],
             [
              0.7777777777777778,
              "#fb9f3a"
             ],
             [
              0.8888888888888888,
              "#fdca26"
             ],
             [
              1,
              "#f0f921"
             ]
            ],
            "type": "histogram2dcontour"
           }
          ],
          "mesh3d": [
           {
            "colorbar": {
             "outlinewidth": 0,
             "ticks": ""
            },
            "type": "mesh3d"
           }
          ],
          "parcoords": [
           {
            "line": {
             "colorbar": {
              "outlinewidth": 0,
              "ticks": ""
             }
            },
            "type": "parcoords"
           }
          ],
          "pie": [
           {
            "automargin": true,
            "type": "pie"
           }
          ],
          "scatter": [
           {
            "fillpattern": {
             "fillmode": "overlay",
             "size": 10,
             "solidity": 0.2
            },
            "type": "scatter"
           }
          ],
          "scatter3d": [
           {
            "line": {
             "colorbar": {
              "outlinewidth": 0,
              "ticks": ""
             }
            },
            "marker": {
             "colorbar": {
              "outlinewidth": 0,
              "ticks": ""
             }
            },
            "type": "scatter3d"
           }
          ],
          "scattercarpet": [
           {
            "marker": {
             "colorbar": {
              "outlinewidth": 0,
              "ticks": ""
             }
            },
            "type": "scattercarpet"
           }
          ],
          "scattergeo": [
           {
            "marker": {
             "colorbar": {
              "outlinewidth": 0,
              "ticks": ""
             }
            },
            "type": "scattergeo"
           }
          ],
          "scattergl": [
           {
            "marker": {
             "colorbar": {
              "outlinewidth": 0,
              "ticks": ""
             }
            },
            "type": "scattergl"
           }
          ],
          "scattermap": [
           {
            "marker": {
             "colorbar": {
              "outlinewidth": 0,
              "ticks": ""
             }
            },
            "type": "scattermap"
           }
          ],
          "scattermapbox": [
           {
            "marker": {
             "colorbar": {
              "outlinewidth": 0,
              "ticks": ""
             }
            },
            "type": "scattermapbox"
           }
          ],
          "scatterpolar": [
           {
            "marker": {
             "colorbar": {
              "outlinewidth": 0,
              "ticks": ""
             }
            },
            "type": "scatterpolar"
           }
          ],
          "scatterpolargl": [
           {
            "marker": {
             "colorbar": {
              "outlinewidth": 0,
              "ticks": ""
             }
            },
            "type": "scatterpolargl"
           }
          ],
          "scatterternary": [
           {
            "marker": {
             "colorbar": {
              "outlinewidth": 0,
              "ticks": ""
             }
            },
            "type": "scatterternary"
           }
          ],
          "surface": [
           {
            "colorbar": {
             "outlinewidth": 0,
             "ticks": ""
            },
            "colorscale": [
             [
              0,
              "#0d0887"
             ],
             [
              0.1111111111111111,
              "#46039f"
             ],
             [
              0.2222222222222222,
              "#7201a8"
             ],
             [
              0.3333333333333333,
              "#9c179e"
             ],
             [
              0.4444444444444444,
              "#bd3786"
             ],
             [
              0.5555555555555556,
              "#d8576b"
             ],
             [
              0.6666666666666666,
              "#ed7953"
             ],
             [
              0.7777777777777778,
              "#fb9f3a"
             ],
             [
              0.8888888888888888,
              "#fdca26"
             ],
             [
              1,
              "#f0f921"
             ]
            ],
            "type": "surface"
           }
          ],
          "table": [
           {
            "cells": {
             "fill": {
              "color": "#EBF0F8"
             },
             "line": {
              "color": "white"
             }
            },
            "header": {
             "fill": {
              "color": "#C8D4E3"
             },
             "line": {
              "color": "white"
             }
            },
            "type": "table"
           }
          ]
         },
         "layout": {
          "annotationdefaults": {
           "arrowcolor": "#2a3f5f",
           "arrowhead": 0,
           "arrowwidth": 1
          },
          "autotypenumbers": "strict",
          "coloraxis": {
           "colorbar": {
            "outlinewidth": 0,
            "ticks": ""
           }
          },
          "colorscale": {
           "diverging": [
            [
             0,
             "#8e0152"
            ],
            [
             0.1,
             "#c51b7d"
            ],
            [
             0.2,
             "#de77ae"
            ],
            [
             0.3,
             "#f1b6da"
            ],
            [
             0.4,
             "#fde0ef"
            ],
            [
             0.5,
             "#f7f7f7"
            ],
            [
             0.6,
             "#e6f5d0"
            ],
            [
             0.7,
             "#b8e186"
            ],
            [
             0.8,
             "#7fbc41"
            ],
            [
             0.9,
             "#4d9221"
            ],
            [
             1,
             "#276419"
            ]
           ],
           "sequential": [
            [
             0,
             "#0d0887"
            ],
            [
             0.1111111111111111,
             "#46039f"
            ],
            [
             0.2222222222222222,
             "#7201a8"
            ],
            [
             0.3333333333333333,
             "#9c179e"
            ],
            [
             0.4444444444444444,
             "#bd3786"
            ],
            [
             0.5555555555555556,
             "#d8576b"
            ],
            [
             0.6666666666666666,
             "#ed7953"
            ],
            [
             0.7777777777777778,
             "#fb9f3a"
            ],
            [
             0.8888888888888888,
             "#fdca26"
            ],
            [
             1,
             "#f0f921"
            ]
           ],
           "sequentialminus": [
            [
             0,
             "#0d0887"
            ],
            [
             0.1111111111111111,
             "#46039f"
            ],
            [
             0.2222222222222222,
             "#7201a8"
            ],
            [
             0.3333333333333333,
             "#9c179e"
            ],
            [
             0.4444444444444444,
             "#bd3786"
            ],
            [
             0.5555555555555556,
             "#d8576b"
            ],
            [
             0.6666666666666666,
             "#ed7953"
            ],
            [
             0.7777777777777778,
             "#fb9f3a"
            ],
            [
             0.8888888888888888,
             "#fdca26"
            ],
            [
             1,
             "#f0f921"
            ]
           ]
          },
          "colorway": [
           "#636efa",
           "#EF553B",
           "#00cc96",
           "#ab63fa",
           "#FFA15A",
           "#19d3f3",
           "#FF6692",
           "#B6E880",
           "#FF97FF",
           "#FECB52"
          ],
          "font": {
           "color": "#2a3f5f"
          },
          "geo": {
           "bgcolor": "white",
           "lakecolor": "white",
           "landcolor": "#E5ECF6",
           "showlakes": true,
           "showland": true,
           "subunitcolor": "white"
          },
          "hoverlabel": {
           "align": "left"
          },
          "hovermode": "closest",
          "mapbox": {
           "style": "light"
          },
          "paper_bgcolor": "white",
          "plot_bgcolor": "#E5ECF6",
          "polar": {
           "angularaxis": {
            "gridcolor": "white",
            "linecolor": "white",
            "ticks": ""
           },
           "bgcolor": "#E5ECF6",
           "radialaxis": {
            "gridcolor": "white",
            "linecolor": "white",
            "ticks": ""
           }
          },
          "scene": {
           "xaxis": {
            "backgroundcolor": "#E5ECF6",
            "gridcolor": "white",
            "gridwidth": 2,
            "linecolor": "white",
            "showbackground": true,
            "ticks": "",
            "zerolinecolor": "white"
           },
           "yaxis": {
            "backgroundcolor": "#E5ECF6",
            "gridcolor": "white",
            "gridwidth": 2,
            "linecolor": "white",
            "showbackground": true,
            "ticks": "",
            "zerolinecolor": "white"
           },
           "zaxis": {
            "backgroundcolor": "#E5ECF6",
            "gridcolor": "white",
            "gridwidth": 2,
            "linecolor": "white",
            "showbackground": true,
            "ticks": "",
            "zerolinecolor": "white"
           }
          },
          "shapedefaults": {
           "line": {
            "color": "#2a3f5f"
           }
          },
          "ternary": {
           "aaxis": {
            "gridcolor": "white",
            "linecolor": "white",
            "ticks": ""
           },
           "baxis": {
            "gridcolor": "white",
            "linecolor": "white",
            "ticks": ""
           },
           "bgcolor": "#E5ECF6",
           "caxis": {
            "gridcolor": "white",
            "linecolor": "white",
            "ticks": ""
           }
          },
          "title": {
           "x": 0.05
          },
          "xaxis": {
           "automargin": true,
           "gridcolor": "white",
           "linecolor": "white",
           "ticks": "",
           "title": {
            "standoff": 15
           },
           "zerolinecolor": "white",
           "zerolinewidth": 2
          },
          "yaxis": {
           "automargin": true,
           "gridcolor": "white",
           "linecolor": "white",
           "ticks": "",
           "title": {
            "standoff": 15
           },
           "zerolinecolor": "white",
           "zerolinewidth": 2
          }
         }
        },
        "title": {
         "text": "Haken 9, Trajektorien-Ansatz 4"
        }
       }
      }
     },
     "metadata": {},
     "output_type": "display_data"
    }
   ],
   "source": [
    "visualize_rectangles_html(\n",
    "    rectangles = rectangles_1,\n",
    "    secondary_rectangles = rectangles_optim,\n",
    "    secondary_legend_title = 'optimale Trajektorie',\n",
    "    connect_points = (trajectory_1[1][0], trajectory_1[-1][0]),\n",
    "    hook_num = hook_num,\n",
    "    trajectory_process = 1,\n",
    "    html_filename = '/home/mo/Thesis/Evaluation/Trajektorientests/traj1.html'\n",
    "    )\n",
    "\n",
    "visualize_rectangles_html(\n",
    "    rectangles = rectangles_2,\n",
    "    secondary_rectangles = rectangles_optim,\n",
    "    secondary_legend_title = 'optimale Trajektorie',\n",
    "    connect_points = (trajectory_1[1][0], trajectory_1[-1][0]),\n",
    "    hook_num = hook_num,\n",
    "    trajectory_process = 2,\n",
    "    html_filename = '/home/mo/Thesis/Evaluation/Trajektorientests/traj2.html'\n",
    "    )\n",
    "\n",
    "visualize_rectangles_html(\n",
    "    rectangles = rectangles_3,\n",
    "    secondary_rectangles = rectangles_optim,\n",
    "    secondary_legend_title = 'optimale Trajektorie',\n",
    "    connect_points = (trajectory_1[1][0], trajectory_1[-1][0]),\n",
    "    hook_num = hook_num,\n",
    "    trajectory_process = 3,\n",
    "    html_filename = '/home/mo/Thesis/Evaluation/Trajektorientests/traj3.html'\n",
    "    )\n",
    "\n",
    "visualize_rectangles_html(\n",
    "    rectangles = rectangles_4,\n",
    "    secondary_rectangles = rectangles_optim,\n",
    "    secondary_legend_title = 'optimale Trajektorie',\n",
    "    connect_points = (trajectory_1[1][0], trajectory_1[-1][0]),\n",
    "    hook_num = hook_num,\n",
    "    trajectory_process = 4,\n",
    "    html_filename = '/home/mo/Thesis/Evaluation/Trajektorientests/traj4.html'\n",
    "    )"
   ]
  }
 ],
 "metadata": {
  "kernelspec": {
   "display_name": "Python 3",
   "language": "python",
   "name": "python3"
  },
  "language_info": {
   "codemirror_mode": {
    "name": "ipython",
    "version": 3
   },
   "file_extension": ".py",
   "mimetype": "text/x-python",
   "name": "python",
   "nbconvert_exporter": "python",
   "pygments_lexer": "ipython3",
   "version": "3.8.10"
  }
 },
 "nbformat": 4,
 "nbformat_minor": 5
}
