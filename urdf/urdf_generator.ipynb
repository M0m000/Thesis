{
 "cells": [
  {
   "cell_type": "code",
   "execution_count": 1,
   "metadata": {},
   "outputs": [],
   "source": [
    "import numpy as np"
   ]
  },
  {
   "cell_type": "code",
   "execution_count": 2,
   "metadata": {},
   "outputs": [],
   "source": [
    "def dh_to_urdf(dh_params, robot_name=\"robot\"):\n",
    "    urdf = f'<?xml version=\"1.0\"?>\\n<robot name=\"{robot_name}\">\\n'\n",
    "    urdf += '  <link name=\"base_link\"/>\\n'\n",
    "    \n",
    "    for i, (theta, d, a, alpha) in enumerate(dh_params):\n",
    "        joint_name = f\"joint{i+1}\"\n",
    "        link_name = f\"link{i+1}\"\n",
    "        \n",
    "        # Berechne die rpy-Werte aus alpha\n",
    "        rpy = [alpha, 0, 0]\n",
    "        \n",
    "        # Berechne die XYZ-Position aus d und a\n",
    "        xyz = [a, 0, d]\n",
    "        \n",
    "        urdf += f'  <link name=\"{link_name}\"/>\\n'\n",
    "        urdf += f'  <joint name=\"{joint_name}\" type=\"revolute\">\\n'\n",
    "        urdf += f'    <parent link=\"{\"base_link\" if i == 0 else f\"link{i}\"}\"/>\\n'\n",
    "        urdf += f'    <child link=\"{link_name}\"/>\\n'\n",
    "        urdf += f'    <origin xyz=\"{xyz[0]} {xyz[1]} {xyz[2]}\" rpy=\"{rpy[0]} {rpy[1]} {rpy[2]}\"/>\\n'\n",
    "        urdf += f'    <axis xyz=\"0 0 1\"/>\\n'  # Standard-Rotationsachse (z)\n",
    "        urdf += f'    <limit lower=\"-3.14\" upper=\"3.14\" effort=\"100\" velocity=\"1.0\"/>\\n'\n",
    "        urdf += '  </joint>\\n'\n",
    "    \n",
    "    urdf += '</robot>'\n",
    "    return urdf"
   ]
  },
  {
   "cell_type": "code",
   "execution_count": 3,
   "metadata": {},
   "outputs": [],
   "source": [
    "dh_params = [\n",
    "    (0, 0.400, 0, np.pi/2),   # Achse 1\n",
    "    (0, 0, 0.025, np.pi/2),   # Achse 2\n",
    "    (0, 0, 0.455, 0),         # Achse 3\n",
    "    (0, 0, 0.035, np.pi/2),   # Achse 4\n",
    "    (0, 0.420, 0, -np.pi/2),  # Achse 5\n",
    "    (0, 0, 0, np.pi/2),       # Achse 6\n",
    "    (0, 0.080, 0, 0)          # Achse 7\n",
    "]"
   ]
  },
  {
   "cell_type": "code",
   "execution_count": 4,
   "metadata": {},
   "outputs": [],
   "source": [
    "urdf_content = dh_to_urdf(dh_params, \"seven_axis_robot\")"
   ]
  },
  {
   "cell_type": "code",
   "execution_count": 5,
   "metadata": {},
   "outputs": [
    {
     "name": "stdout",
     "output_type": "stream",
     "text": [
      "URDF-Datei wurde erstellt.\n"
     ]
    }
   ],
   "source": [
    "with open(\"kr810.urdf\", \"w\") as f:\n",
    "    f.write(urdf_content)\n",
    "\n",
    "print(\"URDF-Datei wurde erstellt.\")"
   ]
  },
  {
   "cell_type": "code",
   "execution_count": null,
   "metadata": {},
   "outputs": [],
   "source": []
  }
 ],
 "metadata": {
  "kernelspec": {
   "display_name": "Python 3",
   "language": "python",
   "name": "python3"
  },
  "language_info": {
   "codemirror_mode": {
    "name": "ipython",
    "version": 3
   },
   "file_extension": ".py",
   "mimetype": "text/x-python",
   "name": "python",
   "nbconvert_exporter": "python",
   "pygments_lexer": "ipython3",
   "version": "3.8.10"
  }
 },
 "nbformat": 4,
 "nbformat_minor": 2
}
