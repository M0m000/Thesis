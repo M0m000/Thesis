{
 "cells": [
  {
   "cell_type": "code",
   "execution_count": 1,
   "metadata": {},
   "outputs": [],
   "source": [
    "import cv2\n",
    "import numpy as np"
   ]
  },
  {
   "cell_type": "markdown",
   "metadata": {},
   "source": [
    "***\n",
    "**Intrinsik**"
   ]
  },
  {
   "cell_type": "code",
   "execution_count": 8,
   "metadata": {},
   "outputs": [],
   "source": [
    "f_x = 0.008/3.45e-6\n",
    "f_y = 0.008/3.45e-6\n",
    "c_x = 0\n",
    "c_y = 0\n",
    "\n",
    "intrinsics = [[f_x, 0, c_x], \n",
    "              [0, f_y, c_y], \n",
    "              [0, 0, 1]]"
   ]
  },
  {
   "cell_type": "markdown",
   "metadata": {},
   "source": [
    "***\n",
    "**Projektionsmatrix (Intrinsik, Extrinsik)**"
   ]
  },
  {
   "cell_type": "code",
   "execution_count": 37,
   "metadata": {},
   "outputs": [],
   "source": [
    "def calc_extrinsics(angle_x = 0, angle_y = 0, angle_z = 0, t_x = 0, t_y = 0, t_z = 0):\n",
    "    t = np.array([[t_x, t_y, t_z]])\n",
    "\n",
    "    R_x = np.array([[1, 0, 0],\n",
    "           [0, np.cos(angle_x), -np.sin(angle_x)],\n",
    "           [0, np.sin(angle_x), np.cos(angle_x)]])\n",
    "\n",
    "    R_y = np.array([[np.cos(angle_y), 0, np.sin(angle_y)],\n",
    "           [0, 1, 0],\n",
    "           [-np.sin(angle_y), 0, np.cos(angle_y)]])\n",
    "\n",
    "    R_z = np.array([[np.cos(angle_z), -np.sin(angle_z), 0],\n",
    "           [np.sin(angle_z), np.cos(angle_z), 0],\n",
    "           [0, 0, 1]])\n",
    "\n",
    "    R = R_x @ (R_y @ R_z)\n",
    "    return np.hstack((R, t.T))"
   ]
  },
  {
   "cell_type": "code",
   "execution_count": 38,
   "metadata": {},
   "outputs": [],
   "source": [
    "def calc_projection_matrix(intrinsics, extrinsics):\n",
    "    return intrinsics @ extrinsics"
   ]
  },
  {
   "cell_type": "code",
   "execution_count": 46,
   "metadata": {},
   "outputs": [],
   "source": [
    "proj1 = calc_projection_matrix(intrinsics, calc_extrinsics(0, 0, 0, 10, 0, 0))\n",
    "proj2 = calc_projection_matrix(intrinsics, calc_extrinsics(0, 0, 0, 0, 0, 0))"
   ]
  },
  {
   "cell_type": "markdown",
   "metadata": {},
   "source": [
    "***\n",
    "**Triangulation**"
   ]
  },
  {
   "cell_type": "code",
   "execution_count": 48,
   "metadata": {},
   "outputs": [],
   "source": [
    "points1 = np.array([[0.5, 0.5],\n",
    "                    [0.2, 0.3]], dtype=np.float64).T\n",
    "\n",
    "points2 = np.array([[0.6, 0.5],\n",
    "                    [0.25, 0.35]], dtype=np.float64).T"
   ]
  },
  {
   "cell_type": "code",
   "execution_count": 49,
   "metadata": {},
   "outputs": [],
   "source": [
    "points4D_hom = cv2.triangulatePoints(proj1, proj2, points1, points2)\n",
    "points3D = points4D_hom[:3] / points4D_hom[3]"
   ]
  },
  {
   "cell_type": "code",
   "execution_count": 50,
   "metadata": {},
   "outputs": [
    {
     "name": "stdout",
     "output_type": "stream",
     "text": [
      "3D Point 1: [-6.00000000e+01 -5.00000000e+01 -2.31884058e+05]\n",
      "3D Point 2: [-5.00000000e+01 -6.49999999e+01 -4.63768115e+05]\n"
     ]
    }
   ],
   "source": [
    "for i in range(points3D.shape[1]):\n",
    "    point = points3D[:, i]\n",
    "    print(f\"3D Point {i + 1}: {point}\")"
   ]
  }
 ],
 "metadata": {
  "kernelspec": {
   "display_name": "Python 3",
   "language": "python",
   "name": "python3"
  },
  "language_info": {
   "codemirror_mode": {
    "name": "ipython",
    "version": 3
   },
   "file_extension": ".py",
   "mimetype": "text/x-python",
   "name": "python",
   "nbconvert_exporter": "python",
   "pygments_lexer": "ipython3",
   "version": "3.10.11"
  }
 },
 "nbformat": 4,
 "nbformat_minor": 2
}
