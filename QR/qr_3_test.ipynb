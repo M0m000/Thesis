{
 "cells": [
  {
   "cell_type": "code",
   "execution_count": 1,
   "metadata": {},
   "outputs": [],
   "source": [
    "import cv2\n",
    "import numpy as np\n",
    "import matplotlib.pyplot as plt"
   ]
  },
  {
   "cell_type": "code",
   "execution_count": 2,
   "metadata": {},
   "outputs": [],
   "source": [
    "class QRCode:\n",
    "    def __init__(self, corners, center, width):\n",
    "        self.corners = corners  # Ecken des QR-Codes (4 Punkte)\n",
    "        self.center = center    # Mittelpunkt des QR-Codes (Mittelpunkt der 4 Ecken)\n",
    "        self.width = width\n",
    "\n",
    "    def get_corners(self):\n",
    "        \"\"\"Gibt die Ecken des QR-Codes zurück\"\"\"\n",
    "        return self.corners\n",
    "\n",
    "    def get_center(self):\n",
    "        \"\"\"Gibt den Mittelpunkt des QR-Codes zurück\"\"\"\n",
    "        return self.center"
   ]
  },
  {
   "cell_type": "code",
   "execution_count": 3,
   "metadata": {},
   "outputs": [],
   "source": [
    "class QRCodeDetector:\n",
    "    def __init__(self):\n",
    "        self.qr_codes = []\n",
    "        self.sorted_qr_codes = []\n",
    "\n",
    "    def detect_qr_codes(self, img):\n",
    "        qr_code_detector = cv2.QRCodeDetector()\n",
    "        retval, decoded_info, corners, straight_qrcode = qr_code_detector.detectAndDecodeMulti(img)\n",
    "        \n",
    "        self.qr_codes = []\n",
    "        if corners is not None:\n",
    "            for qr_corners in corners:\n",
    "                center = np.mean(qr_corners, axis=0)\n",
    "                width = self.calc_width_of_qr(qr_corners)\n",
    "                qr_code = QRCode(qr_corners, center, width)\n",
    "                self.qr_codes.append(qr_code)\n",
    "        self._sort_qr_codes()\n",
    "        return self.sorted_qr_codes\n",
    "    \n",
    "    def calc_width_of_qr(self, corners):\n",
    "        top_left, top_right, bottom_right, bottom_left = corners\n",
    "        w_1 = np.linalg.norm((top_right - top_left))\n",
    "        w_2 = np.linalg.norm((bottom_right - bottom_left))\n",
    "        return (w_1 + w_2) / 2\n",
    "\n",
    "    def _sort_qr_codes(self):\n",
    "        if len(self.qr_codes) != 3:\n",
    "            print(\"Es sollten genau 3 QR-Codes im Bild sein!\")\n",
    "            return []\n",
    "\n",
    "        # Sortiere die QR-Codes anhand ihrer Position:\n",
    "        # - Code 1: geringste x, größte y (links unten)\n",
    "        # - Code 2: größte x, größte y (rechts unten)\n",
    "        # - Code 3: geringste x, geringste y (links oben)\n",
    "        \n",
    "        sorted_codes_by_y = sorted(self.qr_codes, key=lambda qr: qr.get_center()[1], reverse=True)\n",
    "        sorted_codes_by_xy = sorted(sorted_codes_by_y, key=lambda qr: qr.get_center()[0])\n",
    "\n",
    "        code1 = sorted_codes_by_xy[0]  # kleinster x, größte y\n",
    "        code2 = sorted_codes_by_xy[1]  # größte x, größte y\n",
    "        code3 = sorted_codes_by_xy[2]  # kleinster x, kleinste y\n",
    "        self.sorted_qr_codes = [code1, code2, code3]"
   ]
  },
  {
   "cell_type": "code",
   "execution_count": 10,
   "metadata": {},
   "outputs": [
    {
     "name": "stdout",
     "output_type": "stream",
     "text": [
      "[453.96362 179.29515]\n",
      "[642.8284 566.0796]\n",
      "[841.17773 182.12189]\n"
     ]
    },
    {
     "name": "stderr",
     "output_type": "stream",
     "text": [
      "[ WARN:2@32.410] global qrcode.cpp:2902 decodingProcess QR: ECI is not supported properly\n",
      "[ WARN:1@32.411] global qrcode.cpp:2902 decodingProcess QR: ECI is not supported properly\n",
      "[ WARN:0@32.413] global qrcode.cpp:2902 decodingProcess QR: ECI is not supported properly\n"
     ]
    }
   ],
   "source": [
    "img = cv2.imread('/home/mo/Thesis/qr_test.png')\n",
    "\n",
    "detector = QRCodeDetector()\n",
    "\n",
    "qrs = detector.detect_qr_codes(img=img)\n",
    "\n",
    "for qr in qrs:\n",
    "    print(qr.get_center())"
   ]
  },
  {
   "cell_type": "code",
   "execution_count": 5,
   "metadata": {},
   "outputs": [],
   "source": [
    "target_pos_in_px = [400.0, 650.0]\n",
    "target_width_in_px = 500.0"
   ]
  },
  {
   "cell_type": "code",
   "execution_count": 6,
   "metadata": {},
   "outputs": [],
   "source": [
    "def calc_width_between_qrs(c_ref, c_ru):\n",
    "    return np.linalg.norm((c_ru - c_ref))\n",
    "\n",
    "def calc_z_angle_of_qr(c_ref, c_ru):\n",
    "    return np.arctan()"
   ]
  },
  {
   "cell_type": "code",
   "execution_count": 7,
   "metadata": {},
   "outputs": [],
   "source": [
    "def calc_angle_of_qr(c_ref, c_ru):\n",
    "    if self.qr != []:\n",
    "        corners = self.qr[0]\n",
    "        top_left = corners[0]\n",
    "        top_right = corners[1]\n",
    "        bottom_right = corners[2]\n",
    "        bottom_left = corners[3]\n",
    "\n",
    "        vector = np.array([top_right[0] - top_left[0], top_right[1] - top_left[1]])\n",
    "        x_axis = np.array([1, 0])\n",
    "\n",
    "        dot_product = np.dot(vector, x_axis)\n",
    "        norm_vector = np.linalg.norm(vector)\n",
    "        norm_x_axis = np.linalg.norm(x_axis)\n",
    "\n",
    "        cos_angle = dot_product / (norm_vector * norm_x_axis)\n",
    "        angle_rad = np.arccos(np.clip(cos_angle, -1.0, 1.0))\n",
    "        angle_deg = np.degrees(angle_rad)\n",
    "        return angle_deg\n",
    "\n",
    "    \n",
    "def normalize_angle(self, angle):\n",
    "    while angle > 180:\n",
    "        angle -= 360\n",
    "    while angle < -180:\n",
    "        angle += 360\n",
    "    return angle"
   ]
  },
  {
   "cell_type": "code",
   "execution_count": 8,
   "metadata": {},
   "outputs": [],
   "source": [
    "def process(qrs):\n",
    "    if len(qrs) == 3:\n",
    "        qr_ref = qrs[0]\n",
    "        qr_lo = qrs[1]\n",
    "        qr_ru = qrs[2]\n",
    "\n",
    "        e_trans_x = target_pos_in_px[0] - qr_ref.get_center()[0]\n",
    "        e_trans_y = target_pos_in_px[1] - qr_ref.get_center()[1]\n",
    "        w_ref_ru = calc_width_between_qrs(qr_ref.get_center(), qr_ru.get_center())\n",
    "        e_trans_z = target_width_in_px - w_ref_ru\n",
    "\n",
    "        e_rot_z = 0.0 - calc_z_angle_of_qr(qr_ref.get_center(), qr_ru.get_center())\n"
   ]
  },
  {
   "cell_type": "code",
   "execution_count": null,
   "metadata": {},
   "outputs": [],
   "source": []
  }
 ],
 "metadata": {
  "kernelspec": {
   "display_name": "Python 3",
   "language": "python",
   "name": "python3"
  },
  "language_info": {
   "codemirror_mode": {
    "name": "ipython",
    "version": 3
   },
   "file_extension": ".py",
   "mimetype": "text/x-python",
   "name": "python",
   "nbconvert_exporter": "python",
   "pygments_lexer": "ipython3",
   "version": "3.8.10"
  }
 },
 "nbformat": 4,
 "nbformat_minor": 2
}
